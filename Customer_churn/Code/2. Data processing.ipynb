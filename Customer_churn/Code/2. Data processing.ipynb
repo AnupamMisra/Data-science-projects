{
 "cells": [
  {
   "cell_type": "markdown",
   "metadata": {},
   "source": [
    "# Initialisation"
   ]
  },
  {
   "cell_type": "code",
   "execution_count": 2,
   "metadata": {},
   "outputs": [],
   "source": [
    "###############################################################################\r\n",
    "#\r\n",
    "#Importing libraries\r\n",
    "#\r\n",
    "import pandas as pd\r\n",
    "import numpy as np\r\n",
    "from imblearn.under_sampling import RandomUnderSampler\r\n",
    "from numpy import random\r\n",
    "from sklearn.compose import ColumnTransformer as CT\r\n",
    "from sklearn.preprocessing import OneHotEncoder, MinMaxScaler\r\n",
    "import warnings\r\n",
    "import pickle\r\n",
    "###############################################################################\r\n",
    "#\r\n",
    "#Notebook options\r\n",
    "#\r\n",
    "pd.options.display.max_columns =100\r\n",
    "warnings.filterwarnings('ignore')\r\n",
    "###############################################################################\r\n",
    "#\r\n",
    "#Reading the data\r\n",
    "#\r\n",
    "df = pd.read_csv(r\"../Data/Telco-Customer-Churn.csv\")\r\n",
    "df.drop([\"customerID\"], axis=1, inplace=True)\r\n",
    "###############################################################################"
   ]
  },
  {
   "cell_type": "markdown",
   "metadata": {},
   "source": [
    "# Pipelining"
   ]
  },
  {
   "cell_type": "code",
   "execution_count": 4,
   "metadata": {},
   "outputs": [],
   "source": [
    "df.SeniorCitizen=df.SeniorCitizen.apply(lambda x: str(x))\r\n",
    "binary_feat = df.nunique()[df.nunique() == 2].keys().tolist()\r\n",
    "numeric_feat = [col for col in df.select_dtypes([np.float64,np.int64]).columns.tolist() if col not in binary_feat]\r\n",
    "categorical_feat = [ col for col in df.select_dtypes('object').columns.to_list() if col not in binary_feat + numeric_feat ]\r\n",
    "binary_feat.remove('Churn')\r\n",
    "target=df.Churn"
   ]
  },
  {
   "cell_type": "code",
   "execution_count": 17,
   "metadata": {},
   "outputs": [],
   "source": [
    "nos=[\"No phone service\", \"No\"]\r\n",
    "nos.extend( [\"No internet service\"]*6)\r\n",
    "nos.extend(['Two year','Mailed check'])"
   ]
  },
  {
   "cell_type": "code",
   "execution_count": 6,
   "metadata": {},
   "outputs": [],
   "source": [
    "preprocessing = CT(\r\n",
    "                    transformers=[\r\n",
    "                        ('numeric_scaling', MinMaxScaler(), numeric_feat),\r\n",
    "                        ('categorical_dummies', OneHotEncoder(drop=nos), categorical_feat),\r\n",
    "                        ('binary_binarizing', OneHotEncoder(drop='if_binary'), binary_feat)\r\n",
    "                    ],\r\n",
    "                    remainder='drop',\r\n",
    "                    n_jobs=-1\r\n",
    "                    )"
   ]
  },
  {
   "cell_type": "markdown",
   "metadata": {},
   "source": []
  },
  {
   "cell_type": "code",
   "execution_count": 21,
   "metadata": {},
   "outputs": [],
   "source": [
    "with open(r'../binaries/preprocessing','wb') as r:\r\n",
    "    pickle.dump(preprocessing,r) "
   ]
  },
  {
   "cell_type": "markdown",
   "metadata": {},
   "source": [
    "# Data splitting"
   ]
  },
  {
   "cell_type": "code",
   "execution_count": 22,
   "metadata": {},
   "outputs": [],
   "source": [
    "from sklearn.model_selection import train_test_split \r\n",
    "\r\n",
    "X_train, X_test, y_train, y_test = train_test_split(df,target, test_size=0.2, random_state=123456)\r\n",
    "\r\n",
    "train = pd.concat([X_train, y_train], axis=1)\r\n",
    "test = pd.concat([X_test, y_test], axis=1)\r\n",
    "\r\n",
    "train.to_csv(r'..\\Data\\train.csv')\r\n",
    "test.to_csv(r'..\\Data\\test.csv')"
   ]
  },
  {
   "cell_type": "code",
   "execution_count": null,
   "metadata": {},
   "outputs": [],
   "source": []
  }
 ],
 "metadata": {
  "interpreter": {
   "hash": "62a490a61034db1e8b6e05e6e999b5629625384177f9d8186b44b788547d5428"
  },
  "kernelspec": {
   "display_name": "Python 3.9.5 64-bit ('machine_L': venv)",
   "name": "python3"
  },
  "language_info": {
   "codemirror_mode": {
    "name": "ipython",
    "version": 3
   },
   "file_extension": ".py",
   "mimetype": "text/x-python",
   "name": "python",
   "nbconvert_exporter": "python",
   "pygments_lexer": "ipython3",
   "version": "3.9.5"
  },
  "metadata": {
   "interpreter": {
    "hash": "25e55770fcf34c599020a25d496c9f3b95f72a4b8e22976c31f9a97ef8dc14b4"
   }
  },
  "orig_nbformat": 2
 },
 "nbformat": 4,
 "nbformat_minor": 2
}