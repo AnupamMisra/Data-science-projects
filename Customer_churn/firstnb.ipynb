{
 "metadata": {
  "language_info": {
   "codemirror_mode": {
    "name": "ipython",
    "version": 3
   },
   "file_extension": ".py",
   "mimetype": "text/x-python",
   "name": "python",
   "nbconvert_exporter": "python",
   "pygments_lexer": "ipython3",
   "version": "3.7.9-final"
  },
  "orig_nbformat": 2,
  "kernelspec": {
   "name": "python379jvsc74a57bd0e97c287c42fc132257d90817e70d575c21da4b0dc09cc4a58070612fae18e2e2",
   "display_name": "Python 3.7.9 64-bit ('myenv': conda)"
  }
 },
 "nbformat": 4,
 "nbformat_minor": 2,
 "cells": [
  {
   "source": [
    "# Business problem:\n",
    "\n",
    "Companies usually have a greater focus on customer acquisition and keep retention as a secondary priority. However, it can cost five times more to attract a new customer than it does to retain an existing one. Increasing customer retention rates by 5% can increase profits by 25% to 95%, according to research done by Bain & Company.\n",
    "\n",
    "Churn is a metric that shows customers who stop doing business with a company or a particular service, also known as customer attrition. By following this metric, what most businesses could do was try to understand the reason behind churn numbers and tackle those factors, with reactive action plans.\n",
    "\n",
    "But what if you could know in advance that a specific customer is likely to leave your business, and have a chance to take proper actions in time to prevent it from happening?\n",
    "The reasons that lead customers to the cancellation decision can be numerous, coming from poor service quality, delay on customer support, prices, new competitors entering the market, and so on. Usually, there is no single reason, but a combination of events that somehow culminated in customer displeasure.\n",
    "\n",
    "If your company were not capable to identify these signals and take actions prior to the cancel button click, there is no turning back, your customer is already gone. But you still have something valuable: the data. Your customer left very good clues about where you left to be desired. It can be a valuable source for meaningful insights and to train customer churn models. Learn from the past, and have strategic information at hand to improve future experiences, it’s all about machine learning.\n",
    "\n",
    "Our goal in this project is to identify high value customers and understand behaviour of the customers who churn, so that we understand those signals from a customer beforehand and take the necessary steps to prevent his/her churn."
   ],
   "cell_type": "markdown",
   "metadata": {}
  },
  {
   "source": [
    "# Initialisation"
   ],
   "cell_type": "markdown",
   "metadata": {}
  },
  {
   "cell_type": "code",
   "execution_count": 1,
   "metadata": {},
   "outputs": [],
   "source": [
    "import pandas as pd\n",
    "import matplotlib.pyplot as plt\n",
    "import seaborn as sns \n",
    "df = pd.read_csv(r\"Telco-Customer-Churn.csv\")"
   ]
  },
  {
   "cell_type": "code",
   "execution_count": 2,
   "metadata": {},
   "outputs": [],
   "source": [
    "df.drop([\"customerID\"], axis=1, inplace=True)"
   ]
  },
  {
   "source": [
    "# Data description"
   ],
   "cell_type": "markdown",
   "metadata": {}
  },
  {
   "cell_type": "code",
   "execution_count": 13,
   "metadata": {},
   "outputs": [
    {
     "output_type": "stream",
     "name": "stdout",
     "text": [
      "Are there any missing columns \n 0    False\ndtype: bool\n"
     ]
    }
   ],
   "source": [
    "print(\"Are there any missing columns \\n\", ((pd.DataFrame(df.isnull().sum()).sum())>0))"
   ]
  },
  {
   "cell_type": "code",
   "execution_count": 16,
   "metadata": {},
   "outputs": [
    {
     "output_type": "execute_result",
     "data": {
      "text/plain": [
       "       gender  SeniorCitizen Partner Dependents       tenure PhoneService  \\\n",
       "count    7043    7043.000000    7043       7043  7043.000000         7043   \n",
       "unique      2            NaN       2          2          NaN            2   \n",
       "top      Male            NaN      No         No          NaN          Yes   \n",
       "freq     3555            NaN    3641       4933          NaN         6361   \n",
       "mean      NaN       0.162147     NaN        NaN    32.371149          NaN   \n",
       "std       NaN       0.368612     NaN        NaN    24.559481          NaN   \n",
       "min       NaN       0.000000     NaN        NaN     0.000000          NaN   \n",
       "25%       NaN       0.000000     NaN        NaN     9.000000          NaN   \n",
       "50%       NaN       0.000000     NaN        NaN    29.000000          NaN   \n",
       "75%       NaN       0.000000     NaN        NaN    55.000000          NaN   \n",
       "max       NaN       1.000000     NaN        NaN    72.000000          NaN   \n",
       "\n",
       "       MultipleLines InternetService OnlineSecurity OnlineBackup  \\\n",
       "count           7043            7043           7043         7043   \n",
       "unique             3               3              3            3   \n",
       "top               No     Fiber optic             No           No   \n",
       "freq            3390            3096           3498         3088   \n",
       "mean             NaN             NaN            NaN          NaN   \n",
       "std              NaN             NaN            NaN          NaN   \n",
       "min              NaN             NaN            NaN          NaN   \n",
       "25%              NaN             NaN            NaN          NaN   \n",
       "50%              NaN             NaN            NaN          NaN   \n",
       "75%              NaN             NaN            NaN          NaN   \n",
       "max              NaN             NaN            NaN          NaN   \n",
       "\n",
       "       DeviceProtection TechSupport StreamingTV StreamingMovies  \\\n",
       "count              7043        7043        7043            7043   \n",
       "unique                3           3           3               3   \n",
       "top                  No          No          No              No   \n",
       "freq               3095        3473        2810            2785   \n",
       "mean                NaN         NaN         NaN             NaN   \n",
       "std                 NaN         NaN         NaN             NaN   \n",
       "min                 NaN         NaN         NaN             NaN   \n",
       "25%                 NaN         NaN         NaN             NaN   \n",
       "50%                 NaN         NaN         NaN             NaN   \n",
       "75%                 NaN         NaN         NaN             NaN   \n",
       "max                 NaN         NaN         NaN             NaN   \n",
       "\n",
       "              Contract PaperlessBilling     PaymentMethod  MonthlyCharges  \\\n",
       "count             7043             7043              7043     7043.000000   \n",
       "unique               3                2                 4             NaN   \n",
       "top     Month-to-month              Yes  Electronic check             NaN   \n",
       "freq              3875             4171              2365             NaN   \n",
       "mean               NaN              NaN               NaN       64.761692   \n",
       "std                NaN              NaN               NaN       30.090047   \n",
       "min                NaN              NaN               NaN       18.250000   \n",
       "25%                NaN              NaN               NaN       35.500000   \n",
       "50%                NaN              NaN               NaN       70.350000   \n",
       "75%                NaN              NaN               NaN       89.850000   \n",
       "max                NaN              NaN               NaN      118.750000   \n",
       "\n",
       "       TotalCharges Churn  \n",
       "count          7043  7043  \n",
       "unique         6531     2  \n",
       "top            20.2    No  \n",
       "freq             11  5174  \n",
       "mean            NaN   NaN  \n",
       "std             NaN   NaN  \n",
       "min             NaN   NaN  \n",
       "25%             NaN   NaN  \n",
       "50%             NaN   NaN  \n",
       "75%             NaN   NaN  \n",
       "max             NaN   NaN  "
      ],
      "text/html": "<div>\n<style scoped>\n    .dataframe tbody tr th:only-of-type {\n        vertical-align: middle;\n    }\n\n    .dataframe tbody tr th {\n        vertical-align: top;\n    }\n\n    .dataframe thead th {\n        text-align: right;\n    }\n</style>\n<table border=\"1\" class=\"dataframe\">\n  <thead>\n    <tr style=\"text-align: right;\">\n      <th></th>\n      <th>gender</th>\n      <th>SeniorCitizen</th>\n      <th>Partner</th>\n      <th>Dependents</th>\n      <th>tenure</th>\n      <th>PhoneService</th>\n      <th>MultipleLines</th>\n      <th>InternetService</th>\n      <th>OnlineSecurity</th>\n      <th>OnlineBackup</th>\n      <th>DeviceProtection</th>\n      <th>TechSupport</th>\n      <th>StreamingTV</th>\n      <th>StreamingMovies</th>\n      <th>Contract</th>\n      <th>PaperlessBilling</th>\n      <th>PaymentMethod</th>\n      <th>MonthlyCharges</th>\n      <th>TotalCharges</th>\n      <th>Churn</th>\n    </tr>\n  </thead>\n  <tbody>\n    <tr>\n      <th>count</th>\n      <td>7043</td>\n      <td>7043.000000</td>\n      <td>7043</td>\n      <td>7043</td>\n      <td>7043.000000</td>\n      <td>7043</td>\n      <td>7043</td>\n      <td>7043</td>\n      <td>7043</td>\n      <td>7043</td>\n      <td>7043</td>\n      <td>7043</td>\n      <td>7043</td>\n      <td>7043</td>\n      <td>7043</td>\n      <td>7043</td>\n      <td>7043</td>\n      <td>7043.000000</td>\n      <td>7043</td>\n      <td>7043</td>\n    </tr>\n    <tr>\n      <th>unique</th>\n      <td>2</td>\n      <td>NaN</td>\n      <td>2</td>\n      <td>2</td>\n      <td>NaN</td>\n      <td>2</td>\n      <td>3</td>\n      <td>3</td>\n      <td>3</td>\n      <td>3</td>\n      <td>3</td>\n      <td>3</td>\n      <td>3</td>\n      <td>3</td>\n      <td>3</td>\n      <td>2</td>\n      <td>4</td>\n      <td>NaN</td>\n      <td>6531</td>\n      <td>2</td>\n    </tr>\n    <tr>\n      <th>top</th>\n      <td>Male</td>\n      <td>NaN</td>\n      <td>No</td>\n      <td>No</td>\n      <td>NaN</td>\n      <td>Yes</td>\n      <td>No</td>\n      <td>Fiber optic</td>\n      <td>No</td>\n      <td>No</td>\n      <td>No</td>\n      <td>No</td>\n      <td>No</td>\n      <td>No</td>\n      <td>Month-to-month</td>\n      <td>Yes</td>\n      <td>Electronic check</td>\n      <td>NaN</td>\n      <td>20.2</td>\n      <td>No</td>\n    </tr>\n    <tr>\n      <th>freq</th>\n      <td>3555</td>\n      <td>NaN</td>\n      <td>3641</td>\n      <td>4933</td>\n      <td>NaN</td>\n      <td>6361</td>\n      <td>3390</td>\n      <td>3096</td>\n      <td>3498</td>\n      <td>3088</td>\n      <td>3095</td>\n      <td>3473</td>\n      <td>2810</td>\n      <td>2785</td>\n      <td>3875</td>\n      <td>4171</td>\n      <td>2365</td>\n      <td>NaN</td>\n      <td>11</td>\n      <td>5174</td>\n    </tr>\n    <tr>\n      <th>mean</th>\n      <td>NaN</td>\n      <td>0.162147</td>\n      <td>NaN</td>\n      <td>NaN</td>\n      <td>32.371149</td>\n      <td>NaN</td>\n      <td>NaN</td>\n      <td>NaN</td>\n      <td>NaN</td>\n      <td>NaN</td>\n      <td>NaN</td>\n      <td>NaN</td>\n      <td>NaN</td>\n      <td>NaN</td>\n      <td>NaN</td>\n      <td>NaN</td>\n      <td>NaN</td>\n      <td>64.761692</td>\n      <td>NaN</td>\n      <td>NaN</td>\n    </tr>\n    <tr>\n      <th>std</th>\n      <td>NaN</td>\n      <td>0.368612</td>\n      <td>NaN</td>\n      <td>NaN</td>\n      <td>24.559481</td>\n      <td>NaN</td>\n      <td>NaN</td>\n      <td>NaN</td>\n      <td>NaN</td>\n      <td>NaN</td>\n      <td>NaN</td>\n      <td>NaN</td>\n      <td>NaN</td>\n      <td>NaN</td>\n      <td>NaN</td>\n      <td>NaN</td>\n      <td>NaN</td>\n      <td>30.090047</td>\n      <td>NaN</td>\n      <td>NaN</td>\n    </tr>\n    <tr>\n      <th>min</th>\n      <td>NaN</td>\n      <td>0.000000</td>\n      <td>NaN</td>\n      <td>NaN</td>\n      <td>0.000000</td>\n      <td>NaN</td>\n      <td>NaN</td>\n      <td>NaN</td>\n      <td>NaN</td>\n      <td>NaN</td>\n      <td>NaN</td>\n      <td>NaN</td>\n      <td>NaN</td>\n      <td>NaN</td>\n      <td>NaN</td>\n      <td>NaN</td>\n      <td>NaN</td>\n      <td>18.250000</td>\n      <td>NaN</td>\n      <td>NaN</td>\n    </tr>\n    <tr>\n      <th>25%</th>\n      <td>NaN</td>\n      <td>0.000000</td>\n      <td>NaN</td>\n      <td>NaN</td>\n      <td>9.000000</td>\n      <td>NaN</td>\n      <td>NaN</td>\n      <td>NaN</td>\n      <td>NaN</td>\n      <td>NaN</td>\n      <td>NaN</td>\n      <td>NaN</td>\n      <td>NaN</td>\n      <td>NaN</td>\n      <td>NaN</td>\n      <td>NaN</td>\n      <td>NaN</td>\n      <td>35.500000</td>\n      <td>NaN</td>\n      <td>NaN</td>\n    </tr>\n    <tr>\n      <th>50%</th>\n      <td>NaN</td>\n      <td>0.000000</td>\n      <td>NaN</td>\n      <td>NaN</td>\n      <td>29.000000</td>\n      <td>NaN</td>\n      <td>NaN</td>\n      <td>NaN</td>\n      <td>NaN</td>\n      <td>NaN</td>\n      <td>NaN</td>\n      <td>NaN</td>\n      <td>NaN</td>\n      <td>NaN</td>\n      <td>NaN</td>\n      <td>NaN</td>\n      <td>NaN</td>\n      <td>70.350000</td>\n      <td>NaN</td>\n      <td>NaN</td>\n    </tr>\n    <tr>\n      <th>75%</th>\n      <td>NaN</td>\n      <td>0.000000</td>\n      <td>NaN</td>\n      <td>NaN</td>\n      <td>55.000000</td>\n      <td>NaN</td>\n      <td>NaN</td>\n      <td>NaN</td>\n      <td>NaN</td>\n      <td>NaN</td>\n      <td>NaN</td>\n      <td>NaN</td>\n      <td>NaN</td>\n      <td>NaN</td>\n      <td>NaN</td>\n      <td>NaN</td>\n      <td>NaN</td>\n      <td>89.850000</td>\n      <td>NaN</td>\n      <td>NaN</td>\n    </tr>\n    <tr>\n      <th>max</th>\n      <td>NaN</td>\n      <td>1.000000</td>\n      <td>NaN</td>\n      <td>NaN</td>\n      <td>72.000000</td>\n      <td>NaN</td>\n      <td>NaN</td>\n      <td>NaN</td>\n      <td>NaN</td>\n      <td>NaN</td>\n      <td>NaN</td>\n      <td>NaN</td>\n      <td>NaN</td>\n      <td>NaN</td>\n      <td>NaN</td>\n      <td>NaN</td>\n      <td>NaN</td>\n      <td>118.750000</td>\n      <td>NaN</td>\n      <td>NaN</td>\n    </tr>\n  </tbody>\n</table>\n</div>"
     },
     "metadata": {},
     "execution_count": 16
    }
   ],
   "source": [
    "df.describe(include=\"all\")"
   ]
  },
  {
   "source": [
    "# Data exploration"
   ],
   "cell_type": "markdown",
   "metadata": {}
  },
  {
   "source": [
    "## Personal features"
   ],
   "cell_type": "markdown",
   "metadata": {}
  },
  {
   "cell_type": "code",
   "execution_count": null,
   "metadata": {},
   "outputs": [],
   "source": []
  }
 ]
}