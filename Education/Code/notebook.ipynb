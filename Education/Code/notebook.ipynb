{
 "metadata": {
  "language_info": {
   "codemirror_mode": {
    "name": "ipython",
    "version": 3
   },
   "file_extension": ".py",
   "mimetype": "text/x-python",
   "name": "python",
   "nbconvert_exporter": "python",
   "pygments_lexer": "ipython3",
   "version": "3.9.5"
  },
  "orig_nbformat": 2,
  "kernelspec": {
   "name": "python3",
   "display_name": "Python 3.9.5 64-bit ('machine_L': venv)"
  },
  "interpreter": {
   "hash": "62a490a61034db1e8b6e05e6e999b5629625384177f9d8186b44b788547d5428"
  }
 },
 "nbformat": 4,
 "nbformat_minor": 2,
 "cells": [
  {
   "source": [
    "# Initialization\n"
   ],
   "cell_type": "markdown",
   "metadata": {}
  },
  {
   "source": [
    "## Importing the libraries"
   ],
   "cell_type": "markdown",
   "metadata": {}
  },
  {
   "cell_type": "code",
   "execution_count": 525,
   "metadata": {},
   "outputs": [],
   "source": [
    "###############################################################################\n",
    "#\n",
    "#Importing libraries\n",
    "#\n",
    "import numpy as np \n",
    "import scipy.stats\n",
    "import pandas as pd \n",
    "from sklearn.metrics import silhouette_samples,silhouette_score\n",
    "import matplotlib.pyplot as plt \n",
    "from mpl_toolkits import mplot3d\n",
    "import seaborn as sns\n",
    "import datapane as dp\n",
    "import plotly.express as px\n",
    "from sklearn.preprocessing import MinMaxScaler\n",
    "from sklearn.cluster import AffinityPropagation\n",
    "###############################################################################\n",
    "#\n",
    "#Notebook options\n",
    "#\n",
    "%matplotlib inline\n",
    "plt.style.use('fivethirtyeight')\n",
    "pd.set_option('display.max_columns', 500)\n",
    "###############################################################################"
   ]
  },
  {
   "source": [
    "## Loading the data"
   ],
   "cell_type": "markdown",
   "metadata": {}
  },
  {
   "cell_type": "code",
   "execution_count": 527,
   "metadata": {},
   "outputs": [],
   "source": [
    "###############################################################################\n",
    "#\n",
    "# Reading all the data\n",
    "#\n",
    "dropout = pd.read_excel(r\"../Data/dropout.xls\")\n",
    "enrollments = pd.read_excel(r\"../Data/enrollment.xls\")\n",
    "drinks = pd.read_excel(r\"../Data/drinking_water.xls\")\n",
    "computers = pd.read_excel(r\"../Data/computers.xls\")\n",
    "electricity = pd.read_excel(r\"../Data/electricity.xls\")\n",
    "boys_toilet = pd.read_excel(r\"../Data/boys_toilet.xls\")\n",
    "girls_toilet = pd.read_excel(r\"../Data/girls_toilet.xls\")\n",
    "ptr= pd.read_excel(r\"../Data/pupil_teacher.xls\")\n",
    "###############################################################################"
   ]
  },
  {
   "source": [
    "# Data preparation"
   ],
   "cell_type": "markdown",
   "metadata": {}
  },
  {
   "cell_type": "code",
   "execution_count": 528,
   "metadata": {},
   "outputs": [],
   "source": [
    "###############################################################################\n",
    "#\n",
    "# def returner(xx)\n",
    "# Input: \n",
    "# xx= input dataframe of different factors\n",
    "# \n",
    "# 1. Calculate the aggregate score for that factor for a particular state over three years\n",
    "# 2. Returns the data as a dataframe with the state as the index\n",
    "#\n",
    "###############################################################################\n",
    "\n",
    "def returner(xx):\n",
    "    x=[]\n",
    "    for i in range(36):\n",
    "        x.append([xx['State'].iloc[3*i],xx[['State','All Schools']].iloc[3*i:i*3+3].mean()[0]])  \n",
    "    x=pd.DataFrame(x)\n",
    "    x.set_index(0, inplace=True)\n",
    "    x.index.name='State'\n",
    "    return x"
   ]
  },
  {
   "cell_type": "code",
   "execution_count": 529,
   "metadata": {},
   "outputs": [],
   "source": [
    "enrollments['Higher_Secondary_Boys']=enrollments['Higher_Secondary_Boys'].astype('float')\n",
    "enrollments['Higher_Secondary_Girls']=enrollments['Higher_Secondary_Girls'].astype('float')\n",
    "enrollments['Higher_Secondary_Total']=enrollments['Higher_Secondary_Total'].astype('float')   \n",
    "\n",
    "drinks=returner(drinks)\n",
    "drinks.columns=['Drinking water']\n",
    "electricity=returner(electricity)\n",
    "electricity.columns=['Electricity']\n",
    "computers=returner(computers)\n",
    "computers.columns=[\"Computer\"]\n",
    "boys_t=returner(boys_toilet)\n",
    "boys_t.columns=['Boys toilet']\n",
    "girls_t=returner(girls_toilet)\n",
    "girls_t.columns=['Girls toilet']\n",
    "\n",
    "factors=pd.concat([drinks,electricity,computers,boys_t,girls_t],axis=1)\n",
    "factors.reset_index(inplace=True)"
   ]
  },
  {
   "cell_type": "code",
   "execution_count": 530,
   "metadata": {},
   "outputs": [],
   "source": [
    "# Extracting the names of the states\n",
    "\n",
    "states=[]\n",
    "for i in range(36):\n",
    "    states.append(dropout.State.iloc[3*i])\n",
    "states=pd.DataFrame(states, columns=['State'])"
   ]
  },
  {
   "cell_type": "code",
   "execution_count": 531,
   "metadata": {},
   "outputs": [],
   "source": [
    "###############################################################################\n",
    "#\n",
    "# def create_aggregate(inp)\n",
    "# \n",
    "# Input: input data of enrollments and dropouts\n",
    "#\n",
    "# 1. Drop the state and year columns\n",
    "# 2. Aggregate the data over 3 years and return it \n",
    "#\n",
    "################################################################################\n",
    "\n",
    "def create_aggregate(inp):\n",
    "    inp.drop(['State','Year'],axis=1,inplace=True)\n",
    "\n",
    "    x=pd.DataFrame()\n",
    "    for i in range(36):\n",
    "        x[i]=inp.iloc[3*i+0:i*3+3,:].mean()\n",
    "    x=x.transpose() \n",
    "    return x"
   ]
  },
  {
   "cell_type": "code",
   "execution_count": 532,
   "metadata": {},
   "outputs": [],
   "source": [
    "dropouts_x = create_aggregate(dropout)\n",
    "enrollments_x=create_aggregate(enrollments)"
   ]
  },
  {
   "source": [
    "# Data exploration"
   ],
   "cell_type": "markdown",
   "metadata": {}
  },
  {
   "cell_type": "code",
   "execution_count": 533,
   "metadata": {},
   "outputs": [
    {
     "output_type": "stream",
     "name": "stdout",
     "text": [
      "\n Correlation between enrollment rates at different stages of schooling\n\n"
     ]
    },
    {
     "output_type": "execute_result",
     "data": {
      "text/plain": [
       "<pandas.io.formats.style.Styler at 0x2b49cfed640>"
      ],
      "text/html": "<style  type=\"text/css\" >\n#T_adc13_row0_col0,#T_adc13_row1_col1,#T_adc13_row2_col2,#T_adc13_row3_col3{\n            background-color:  #b40426;\n            color:  #f1f1f1;\n        }#T_adc13_row0_col1{\n            background-color:  #f7b89c;\n            color:  #000000;\n        }#T_adc13_row0_col2,#T_adc13_row0_col3,#T_adc13_row3_col0,#T_adc13_row3_col1{\n            background-color:  #3b4cc0;\n            color:  #f1f1f1;\n        }#T_adc13_row1_col0{\n            background-color:  #f59c7d;\n            color:  #000000;\n        }#T_adc13_row1_col2{\n            background-color:  #cdd9ec;\n            color:  #000000;\n        }#T_adc13_row1_col3{\n            background-color:  #89acfd;\n            color:  #000000;\n        }#T_adc13_row2_col0{\n            background-color:  #97b8ff;\n            color:  #000000;\n        }#T_adc13_row2_col1{\n            background-color:  #d5dbe5;\n            color:  #000000;\n        }#T_adc13_row2_col3{\n            background-color:  #f6a586;\n            color:  #000000;\n        }#T_adc13_row3_col2{\n            background-color:  #f3c8b2;\n            color:  #000000;\n        }</style><table id=\"T_adc13_\" ><thead>    <tr>        <th class=\"blank level0\" ></th>        <th class=\"col_heading level0 col0\" >Primary_Total</th>        <th class=\"col_heading level0 col1\" >Upper_Primary_Total</th>        <th class=\"col_heading level0 col2\" >Secondary_Total</th>        <th class=\"col_heading level0 col3\" >Higher_Secondary_Total</th>    </tr></thead><tbody>\n                <tr>\n                        <th id=\"T_adc13_level0_row0\" class=\"row_heading level0 row0\" >Primary_Total</th>\n                        <td id=\"T_adc13_row0_col0\" class=\"data row0 col0\" >1.000000</td>\n                        <td id=\"T_adc13_row0_col1\" class=\"data row0 col1\" >0.691324</td>\n                        <td id=\"T_adc13_row0_col2\" class=\"data row0 col2\" >0.122769</td>\n                        <td id=\"T_adc13_row0_col3\" class=\"data row0 col3\" >-0.214995</td>\n            </tr>\n            <tr>\n                        <th id=\"T_adc13_level0_row1\" class=\"row_heading level0 row1\" >Upper_Primary_Total</th>\n                        <td id=\"T_adc13_row1_col0\" class=\"data row1 col0\" >0.691324</td>\n                        <td id=\"T_adc13_row1_col1\" class=\"data row1 col1\" >1.000000</td>\n                        <td id=\"T_adc13_row1_col2\" class=\"data row1 col2\" >0.513059</td>\n                        <td id=\"T_adc13_row1_col3\" class=\"data row1 col3\" >0.076736</td>\n            </tr>\n            <tr>\n                        <th id=\"T_adc13_level0_row2\" class=\"row_heading level0 row2\" >Secondary_Total</th>\n                        <td id=\"T_adc13_row2_col0\" class=\"data row2 col0\" >0.122769</td>\n                        <td id=\"T_adc13_row2_col1\" class=\"data row2 col1\" >0.513059</td>\n                        <td id=\"T_adc13_row2_col2\" class=\"data row2 col2\" >1.000000</td>\n                        <td id=\"T_adc13_row2_col3\" class=\"data row2 col3\" >0.660590</td>\n            </tr>\n            <tr>\n                        <th id=\"T_adc13_level0_row3\" class=\"row_heading level0 row3\" >Higher_Secondary_Total</th>\n                        <td id=\"T_adc13_row3_col0\" class=\"data row3 col0\" >-0.214995</td>\n                        <td id=\"T_adc13_row3_col1\" class=\"data row3 col1\" >0.076736</td>\n                        <td id=\"T_adc13_row3_col2\" class=\"data row3 col2\" >0.660590</td>\n                        <td id=\"T_adc13_row3_col3\" class=\"data row3 col3\" >1.000000</td>\n            </tr>\n    </tbody></table>"
     },
     "metadata": {},
     "execution_count": 533
    }
   ],
   "source": [
    "print(\"\\n Correlation between enrollment rates at different stages of schooling\\n\")\n",
    "enrollments[['Primary_Total', 'Upper_Primary_Total', 'Secondary_Total','Higher_Secondary_Total']].corr(method='spearman').style.background_gradient(cmap='coolwarm')"
   ]
  },
  {
   "source": [
    "### Observations\n",
    "* There is moderate positive correlation between `primary` and `upper primary` dropouts\n",
    "* There is moderate positive correlation between `secondary` and `higher secondary` dropouts\n",
    "\n",
    "Probably in similar states students dropout during the lower classes, and in other similar states the dropout rate is higher in the upper classes."
   ],
   "cell_type": "markdown",
   "metadata": {}
  },
  {
   "cell_type": "code",
   "execution_count": 534,
   "metadata": {},
   "outputs": [
    {
     "output_type": "stream",
     "name": "stdout",
     "text": [
      "\n Correlation between dropout rates at different stages of schooling\n\n"
     ]
    },
    {
     "output_type": "execute_result",
     "data": {
      "text/plain": [
       "<pandas.io.formats.style.Styler at 0x2b49cec0b80>"
      ],
      "text/html": "<style  type=\"text/css\" >\n#T_c9ef8_row0_col0,#T_c9ef8_row1_col1,#T_c9ef8_row2_col2,#T_c9ef8_row3_col3{\n            background-color:  #b40426;\n            color:  #f1f1f1;\n        }#T_c9ef8_row0_col1{\n            background-color:  #f18d6f;\n            color:  #000000;\n        }#T_c9ef8_row0_col2{\n            background-color:  #d7dce3;\n            color:  #000000;\n        }#T_c9ef8_row0_col3,#T_c9ef8_row3_col0,#T_c9ef8_row3_col1,#T_c9ef8_row3_col2{\n            background-color:  #3b4cc0;\n            color:  #f1f1f1;\n        }#T_c9ef8_row1_col0{\n            background-color:  #ee8468;\n            color:  #000000;\n        }#T_c9ef8_row1_col2{\n            background-color:  #f7b89c;\n            color:  #000000;\n        }#T_c9ef8_row1_col3{\n            background-color:  #5572df;\n            color:  #000000;\n        }#T_c9ef8_row2_col0{\n            background-color:  #dfdbd9;\n            color:  #000000;\n        }#T_c9ef8_row2_col1{\n            background-color:  #f7bca1;\n            color:  #000000;\n        }#T_c9ef8_row2_col3{\n            background-color:  #4b64d5;\n            color:  #f1f1f1;\n        }</style><table id=\"T_c9ef8_\" ><thead>    <tr>        <th class=\"blank level0\" ></th>        <th class=\"col_heading level0 col0\" >PRIMARY_TOTAL</th>        <th class=\"col_heading level0 col1\" >UPPER_PRIMARY_TOTAL</th>        <th class=\"col_heading level0 col2\" >SECONDARY_TOTAL</th>        <th class=\"col_heading level0 col3\" >HRSECONDARY_TOTAL</th>    </tr></thead><tbody>\n                <tr>\n                        <th id=\"T_c9ef8_level0_row0\" class=\"row_heading level0 row0\" >PRIMARY_TOTAL</th>\n                        <td id=\"T_c9ef8_row0_col0\" class=\"data row0 col0\" >1.000000</td>\n                        <td id=\"T_c9ef8_row0_col1\" class=\"data row0 col1\" >0.748033</td>\n                        <td id=\"T_c9ef8_row0_col2\" class=\"data row0 col2\" >0.384132</td>\n                        <td id=\"T_c9ef8_row0_col3\" class=\"data row0 col3\" >-0.255152</td>\n            </tr>\n            <tr>\n                        <th id=\"T_c9ef8_level0_row1\" class=\"row_heading level0 row1\" >UPPER_PRIMARY_TOTAL</th>\n                        <td id=\"T_c9ef8_row1_col0\" class=\"data row1 col0\" >0.748033</td>\n                        <td id=\"T_c9ef8_row1_col1\" class=\"data row1 col1\" >1.000000</td>\n                        <td id=\"T_c9ef8_row1_col2\" class=\"data row1 col2\" >0.605983</td>\n                        <td id=\"T_c9ef8_row1_col3\" class=\"data row1 col3\" >-0.144547</td>\n            </tr>\n            <tr>\n                        <th id=\"T_c9ef8_level0_row2\" class=\"row_heading level0 row2\" >SECONDARY_TOTAL</th>\n                        <td id=\"T_c9ef8_row2_col0\" class=\"data row2 col0\" >0.384132</td>\n                        <td id=\"T_c9ef8_row2_col1\" class=\"data row2 col1\" >0.605983</td>\n                        <td id=\"T_c9ef8_row2_col2\" class=\"data row2 col2\" >1.000000</td>\n                        <td id=\"T_c9ef8_row2_col3\" class=\"data row2 col3\" >-0.183079</td>\n            </tr>\n            <tr>\n                        <th id=\"T_c9ef8_level0_row3\" class=\"row_heading level0 row3\" >HRSECONDARY_TOTAL</th>\n                        <td id=\"T_c9ef8_row3_col0\" class=\"data row3 col0\" >-0.255152</td>\n                        <td id=\"T_c9ef8_row3_col1\" class=\"data row3 col1\" >-0.144547</td>\n                        <td id=\"T_c9ef8_row3_col2\" class=\"data row3 col2\" >-0.183079</td>\n                        <td id=\"T_c9ef8_row3_col3\" class=\"data row3 col3\" >1.000000</td>\n            </tr>\n    </tbody></table>"
     },
     "metadata": {},
     "execution_count": 534
    }
   ],
   "source": [
    "print(\"\\n Correlation between dropout rates at different stages of schooling\\n\")\n",
    "dropout[['PRIMARY_TOTAL', 'UPPER_PRIMARY_TOTAL', 'SECONDARY_TOTAL','HRSECONDARY_TOTAL']].corr(method='spearman').style.background_gradient(cmap='coolwarm')"
   ]
  },
  {
   "source": [
    "### Observations\n",
    "\n",
    "* Dropouts in `primary` and `upper primary` are positively correlated. We need to do further analysis."
   ],
   "cell_type": "markdown",
   "metadata": {}
  },
  {
   "cell_type": "code",
   "execution_count": 535,
   "metadata": {},
   "outputs": [
    {
     "output_type": "execute_result",
     "data": {
      "text/plain": [
       "Text(0.5, 0.98, 'Analysis on dropout and enrollment rates')"
      ]
     },
     "metadata": {},
     "execution_count": 535
    },
    {
     "output_type": "display_data",
     "data": {
      "text/plain": "<Figure size 1584x720 with 4 Axes>",
      "image/svg+xml": "<?xml version=\"1.0\" encoding=\"utf-8\" standalone=\"no\"?>\r\n<!DOCTYPE svg PUBLIC \"-//W3C//DTD SVG 1.1//EN\"\r\n  \"http://www.w3.org/Graphics/SVG/1.1/DTD/svg11.dtd\">\r\n<svg height=\"706.908625pt\" version=\"1.1\" viewBox=\"0 0 1541.383938 706.908625\" width=\"1541.383938pt\" xmlns=\"http://www.w3.org/2000/svg\" xmlns:xlink=\"http://www.w3.org/1999/xlink\">\r\n <metadata>\r\n  <rdf:RDF xmlns:cc=\"http://creativecommons.org/ns#\" xmlns:dc=\"http://purl.org/dc/elements/1.1/\" xmlns:rdf=\"http://www.w3.org/1999/02/22-rdf-syntax-ns#\">\r\n   <cc:Work>\r\n    <dc:type rdf:resource=\"http://purl.org/dc/dcmitype/StillImage\"/>\r\n    <dc:date>2021-06-13T16:21:30.422028</dc:date>\r\n    <dc:format>image/svg+xml</dc:format>\r\n    <dc:creator>\r\n     <cc:Agent>\r\n      <dc:title>Matplotlib v3.4.2, https://matplotlib.org/</dc:title>\r\n     </cc:Agent>\r\n    </dc:creator>\r\n   </cc:Work>\r\n  </rdf:RDF>\r\n </metadata>\r\n <defs>\r\n  <style type=\"text/css\">*{stroke-linecap:butt;stroke-linejoin:round;}</style>\r\n </defs>\r\n <g id=\"figure_1\">\r\n  <g id=\"patch_1\">\r\n   <path d=\"M -0 706.908625 \r\nL 1541.383938 706.908625 \r\nL 1541.383938 0 \r\nL -0 0 \r\nz\r\n\" style=\"fill:#f0f0f0;\"/>\r\n  </g>\r\n  <g id=\"axes_1\">\r\n   <g id=\"patch_2\">\r\n    <path d=\"M 156.103938 344.290909 \r\nL 782.503938 344.290909 \r\nL 782.503938 79.2 \r\nL 156.103938 79.2 \r\nz\r\n\" style=\"fill:#f0f0f0;\"/>\r\n   </g>\r\n   <g id=\"matplotlib.axis_1\">\r\n    <g id=\"xtick_1\">\r\n     <g id=\"line2d_1\">\r\n      <path clip-path=\"url(#pa7f431ce15)\" d=\"M 233.106287 344.290909 \r\nL 233.106287 79.2 \r\n\" style=\"fill:none;stroke:#cbcbcb;\"/>\r\n     </g>\r\n     <g id=\"line2d_2\"/>\r\n     <g id=\"text_1\">\r\n      <!-- 40 -->\r\n      <g transform=\"translate(224.198787 358.428722)scale(0.14 -0.14)\">\r\n       <defs>\r\n        <path d=\"M 2419 4116 \r\nL 825 1625 \r\nL 2419 1625 \r\nL 2419 4116 \r\nz\r\nM 2253 4666 \r\nL 3047 4666 \r\nL 3047 1625 \r\nL 3713 1625 \r\nL 3713 1100 \r\nL 3047 1100 \r\nL 3047 0 \r\nL 2419 0 \r\nL 2419 1100 \r\nL 313 1100 \r\nL 313 1709 \r\nL 2253 4666 \r\nz\r\n\" id=\"DejaVuSans-34\" transform=\"scale(0.015625)\"/>\r\n        <path d=\"M 2034 4250 \r\nQ 1547 4250 1301 3770 \r\nQ 1056 3291 1056 2328 \r\nQ 1056 1369 1301 889 \r\nQ 1547 409 2034 409 \r\nQ 2525 409 2770 889 \r\nQ 3016 1369 3016 2328 \r\nQ 3016 3291 2770 3770 \r\nQ 2525 4250 2034 4250 \r\nz\r\nM 2034 4750 \r\nQ 2819 4750 3233 4129 \r\nQ 3647 3509 3647 2328 \r\nQ 3647 1150 3233 529 \r\nQ 2819 -91 2034 -91 \r\nQ 1250 -91 836 529 \r\nQ 422 1150 422 2328 \r\nQ 422 3509 836 4129 \r\nQ 1250 4750 2034 4750 \r\nz\r\n\" id=\"DejaVuSans-30\" transform=\"scale(0.015625)\"/>\r\n       </defs>\r\n       <use xlink:href=\"#DejaVuSans-34\"/>\r\n       <use x=\"63.623047\" xlink:href=\"#DejaVuSans-30\"/>\r\n      </g>\r\n     </g>\r\n    </g>\r\n    <g id=\"xtick_2\">\r\n     <g id=\"line2d_3\">\r\n      <path clip-path=\"url(#pa7f431ce15)\" d=\"M 333.894702 344.290909 \r\nL 333.894702 79.2 \r\n\" style=\"fill:none;stroke:#cbcbcb;\"/>\r\n     </g>\r\n     <g id=\"line2d_4\"/>\r\n     <g id=\"text_2\">\r\n      <!-- 60 -->\r\n      <g transform=\"translate(324.987202 358.428722)scale(0.14 -0.14)\">\r\n       <defs>\r\n        <path d=\"M 2113 2584 \r\nQ 1688 2584 1439 2293 \r\nQ 1191 2003 1191 1497 \r\nQ 1191 994 1439 701 \r\nQ 1688 409 2113 409 \r\nQ 2538 409 2786 701 \r\nQ 3034 994 3034 1497 \r\nQ 3034 2003 2786 2293 \r\nQ 2538 2584 2113 2584 \r\nz\r\nM 3366 4563 \r\nL 3366 3988 \r\nQ 3128 4100 2886 4159 \r\nQ 2644 4219 2406 4219 \r\nQ 1781 4219 1451 3797 \r\nQ 1122 3375 1075 2522 \r\nQ 1259 2794 1537 2939 \r\nQ 1816 3084 2150 3084 \r\nQ 2853 3084 3261 2657 \r\nQ 3669 2231 3669 1497 \r\nQ 3669 778 3244 343 \r\nQ 2819 -91 2113 -91 \r\nQ 1303 -91 875 529 \r\nQ 447 1150 447 2328 \r\nQ 447 3434 972 4092 \r\nQ 1497 4750 2381 4750 \r\nQ 2619 4750 2861 4703 \r\nQ 3103 4656 3366 4563 \r\nz\r\n\" id=\"DejaVuSans-36\" transform=\"scale(0.015625)\"/>\r\n       </defs>\r\n       <use xlink:href=\"#DejaVuSans-36\"/>\r\n       <use x=\"63.623047\" xlink:href=\"#DejaVuSans-30\"/>\r\n      </g>\r\n     </g>\r\n    </g>\r\n    <g id=\"xtick_3\">\r\n     <g id=\"line2d_5\">\r\n      <path clip-path=\"url(#pa7f431ce15)\" d=\"M 434.683117 344.290909 \r\nL 434.683117 79.2 \r\n\" style=\"fill:none;stroke:#cbcbcb;\"/>\r\n     </g>\r\n     <g id=\"line2d_6\"/>\r\n     <g id=\"text_3\">\r\n      <!-- 80 -->\r\n      <g transform=\"translate(425.775617 358.428722)scale(0.14 -0.14)\">\r\n       <defs>\r\n        <path d=\"M 2034 2216 \r\nQ 1584 2216 1326 1975 \r\nQ 1069 1734 1069 1313 \r\nQ 1069 891 1326 650 \r\nQ 1584 409 2034 409 \r\nQ 2484 409 2743 651 \r\nQ 3003 894 3003 1313 \r\nQ 3003 1734 2745 1975 \r\nQ 2488 2216 2034 2216 \r\nz\r\nM 1403 2484 \r\nQ 997 2584 770 2862 \r\nQ 544 3141 544 3541 \r\nQ 544 4100 942 4425 \r\nQ 1341 4750 2034 4750 \r\nQ 2731 4750 3128 4425 \r\nQ 3525 4100 3525 3541 \r\nQ 3525 3141 3298 2862 \r\nQ 3072 2584 2669 2484 \r\nQ 3125 2378 3379 2068 \r\nQ 3634 1759 3634 1313 \r\nQ 3634 634 3220 271 \r\nQ 2806 -91 2034 -91 \r\nQ 1263 -91 848 271 \r\nQ 434 634 434 1313 \r\nQ 434 1759 690 2068 \r\nQ 947 2378 1403 2484 \r\nz\r\nM 1172 3481 \r\nQ 1172 3119 1398 2916 \r\nQ 1625 2713 2034 2713 \r\nQ 2441 2713 2670 2916 \r\nQ 2900 3119 2900 3481 \r\nQ 2900 3844 2670 4047 \r\nQ 2441 4250 2034 4250 \r\nQ 1625 4250 1398 4047 \r\nQ 1172 3844 1172 3481 \r\nz\r\n\" id=\"DejaVuSans-38\" transform=\"scale(0.015625)\"/>\r\n       </defs>\r\n       <use xlink:href=\"#DejaVuSans-38\"/>\r\n       <use x=\"63.623047\" xlink:href=\"#DejaVuSans-30\"/>\r\n      </g>\r\n     </g>\r\n    </g>\r\n    <g id=\"xtick_4\">\r\n     <g id=\"line2d_7\">\r\n      <path clip-path=\"url(#pa7f431ce15)\" d=\"M 535.471532 344.290909 \r\nL 535.471532 79.2 \r\n\" style=\"fill:none;stroke:#cbcbcb;\"/>\r\n     </g>\r\n     <g id=\"line2d_8\"/>\r\n     <g id=\"text_4\">\r\n      <!-- 100 -->\r\n      <g transform=\"translate(522.110282 358.428722)scale(0.14 -0.14)\">\r\n       <defs>\r\n        <path d=\"M 794 531 \r\nL 1825 531 \r\nL 1825 4091 \r\nL 703 3866 \r\nL 703 4441 \r\nL 1819 4666 \r\nL 2450 4666 \r\nL 2450 531 \r\nL 3481 531 \r\nL 3481 0 \r\nL 794 0 \r\nL 794 531 \r\nz\r\n\" id=\"DejaVuSans-31\" transform=\"scale(0.015625)\"/>\r\n       </defs>\r\n       <use xlink:href=\"#DejaVuSans-31\"/>\r\n       <use x=\"63.623047\" xlink:href=\"#DejaVuSans-30\"/>\r\n       <use x=\"127.246094\" xlink:href=\"#DejaVuSans-30\"/>\r\n      </g>\r\n     </g>\r\n    </g>\r\n    <g id=\"xtick_5\">\r\n     <g id=\"line2d_9\">\r\n      <path clip-path=\"url(#pa7f431ce15)\" d=\"M 636.259947 344.290909 \r\nL 636.259947 79.2 \r\n\" style=\"fill:none;stroke:#cbcbcb;\"/>\r\n     </g>\r\n     <g id=\"line2d_10\"/>\r\n     <g id=\"text_5\">\r\n      <!-- 120 -->\r\n      <g transform=\"translate(622.898697 358.428722)scale(0.14 -0.14)\">\r\n       <defs>\r\n        <path d=\"M 1228 531 \r\nL 3431 531 \r\nL 3431 0 \r\nL 469 0 \r\nL 469 531 \r\nQ 828 903 1448 1529 \r\nQ 2069 2156 2228 2338 \r\nQ 2531 2678 2651 2914 \r\nQ 2772 3150 2772 3378 \r\nQ 2772 3750 2511 3984 \r\nQ 2250 4219 1831 4219 \r\nQ 1534 4219 1204 4116 \r\nQ 875 4013 500 3803 \r\nL 500 4441 \r\nQ 881 4594 1212 4672 \r\nQ 1544 4750 1819 4750 \r\nQ 2544 4750 2975 4387 \r\nQ 3406 4025 3406 3419 \r\nQ 3406 3131 3298 2873 \r\nQ 3191 2616 2906 2266 \r\nQ 2828 2175 2409 1742 \r\nQ 1991 1309 1228 531 \r\nz\r\n\" id=\"DejaVuSans-32\" transform=\"scale(0.015625)\"/>\r\n       </defs>\r\n       <use xlink:href=\"#DejaVuSans-31\"/>\r\n       <use x=\"63.623047\" xlink:href=\"#DejaVuSans-32\"/>\r\n       <use x=\"127.246094\" xlink:href=\"#DejaVuSans-30\"/>\r\n      </g>\r\n     </g>\r\n    </g>\r\n    <g id=\"xtick_6\">\r\n     <g id=\"line2d_11\">\r\n      <path clip-path=\"url(#pa7f431ce15)\" d=\"M 737.048362 344.290909 \r\nL 737.048362 79.2 \r\n\" style=\"fill:none;stroke:#cbcbcb;\"/>\r\n     </g>\r\n     <g id=\"line2d_12\"/>\r\n     <g id=\"text_6\">\r\n      <!-- 140 -->\r\n      <g transform=\"translate(723.687112 358.428722)scale(0.14 -0.14)\">\r\n       <use xlink:href=\"#DejaVuSans-31\"/>\r\n       <use x=\"63.623047\" xlink:href=\"#DejaVuSans-34\"/>\r\n       <use x=\"127.246094\" xlink:href=\"#DejaVuSans-30\"/>\r\n      </g>\r\n     </g>\r\n    </g>\r\n    <g id=\"text_7\">\r\n     <!-- Average enrollment rates(%) -->\r\n     <g transform=\"translate(347.964625 378.105659)scale(0.168 -0.168)\">\r\n      <defs>\r\n       <path d=\"M 2188 4044 \r\nL 1331 1722 \r\nL 3047 1722 \r\nL 2188 4044 \r\nz\r\nM 1831 4666 \r\nL 2547 4666 \r\nL 4325 0 \r\nL 3669 0 \r\nL 3244 1197 \r\nL 1141 1197 \r\nL 716 0 \r\nL 50 0 \r\nL 1831 4666 \r\nz\r\n\" id=\"DejaVuSans-41\" transform=\"scale(0.015625)\"/>\r\n       <path d=\"M 191 3500 \r\nL 800 3500 \r\nL 1894 563 \r\nL 2988 3500 \r\nL 3597 3500 \r\nL 2284 0 \r\nL 1503 0 \r\nL 191 3500 \r\nz\r\n\" id=\"DejaVuSans-76\" transform=\"scale(0.015625)\"/>\r\n       <path d=\"M 3597 1894 \r\nL 3597 1613 \r\nL 953 1613 \r\nQ 991 1019 1311 708 \r\nQ 1631 397 2203 397 \r\nQ 2534 397 2845 478 \r\nQ 3156 559 3463 722 \r\nL 3463 178 \r\nQ 3153 47 2828 -22 \r\nQ 2503 -91 2169 -91 \r\nQ 1331 -91 842 396 \r\nQ 353 884 353 1716 \r\nQ 353 2575 817 3079 \r\nQ 1281 3584 2069 3584 \r\nQ 2775 3584 3186 3129 \r\nQ 3597 2675 3597 1894 \r\nz\r\nM 3022 2063 \r\nQ 3016 2534 2758 2815 \r\nQ 2500 3097 2075 3097 \r\nQ 1594 3097 1305 2825 \r\nQ 1016 2553 972 2059 \r\nL 3022 2063 \r\nz\r\n\" id=\"DejaVuSans-65\" transform=\"scale(0.015625)\"/>\r\n       <path d=\"M 2631 2963 \r\nQ 2534 3019 2420 3045 \r\nQ 2306 3072 2169 3072 \r\nQ 1681 3072 1420 2755 \r\nQ 1159 2438 1159 1844 \r\nL 1159 0 \r\nL 581 0 \r\nL 581 3500 \r\nL 1159 3500 \r\nL 1159 2956 \r\nQ 1341 3275 1631 3429 \r\nQ 1922 3584 2338 3584 \r\nQ 2397 3584 2469 3576 \r\nQ 2541 3569 2628 3553 \r\nL 2631 2963 \r\nz\r\n\" id=\"DejaVuSans-72\" transform=\"scale(0.015625)\"/>\r\n       <path d=\"M 2194 1759 \r\nQ 1497 1759 1228 1600 \r\nQ 959 1441 959 1056 \r\nQ 959 750 1161 570 \r\nQ 1363 391 1709 391 \r\nQ 2188 391 2477 730 \r\nQ 2766 1069 2766 1631 \r\nL 2766 1759 \r\nL 2194 1759 \r\nz\r\nM 3341 1997 \r\nL 3341 0 \r\nL 2766 0 \r\nL 2766 531 \r\nQ 2569 213 2275 61 \r\nQ 1981 -91 1556 -91 \r\nQ 1019 -91 701 211 \r\nQ 384 513 384 1019 \r\nQ 384 1609 779 1909 \r\nQ 1175 2209 1959 2209 \r\nL 2766 2209 \r\nL 2766 2266 \r\nQ 2766 2663 2505 2880 \r\nQ 2244 3097 1772 3097 \r\nQ 1472 3097 1187 3025 \r\nQ 903 2953 641 2809 \r\nL 641 3341 \r\nQ 956 3463 1253 3523 \r\nQ 1550 3584 1831 3584 \r\nQ 2591 3584 2966 3190 \r\nQ 3341 2797 3341 1997 \r\nz\r\n\" id=\"DejaVuSans-61\" transform=\"scale(0.015625)\"/>\r\n       <path d=\"M 2906 1791 \r\nQ 2906 2416 2648 2759 \r\nQ 2391 3103 1925 3103 \r\nQ 1463 3103 1205 2759 \r\nQ 947 2416 947 1791 \r\nQ 947 1169 1205 825 \r\nQ 1463 481 1925 481 \r\nQ 2391 481 2648 825 \r\nQ 2906 1169 2906 1791 \r\nz\r\nM 3481 434 \r\nQ 3481 -459 3084 -895 \r\nQ 2688 -1331 1869 -1331 \r\nQ 1566 -1331 1297 -1286 \r\nQ 1028 -1241 775 -1147 \r\nL 775 -588 \r\nQ 1028 -725 1275 -790 \r\nQ 1522 -856 1778 -856 \r\nQ 2344 -856 2625 -561 \r\nQ 2906 -266 2906 331 \r\nL 2906 616 \r\nQ 2728 306 2450 153 \r\nQ 2172 0 1784 0 \r\nQ 1141 0 747 490 \r\nQ 353 981 353 1791 \r\nQ 353 2603 747 3093 \r\nQ 1141 3584 1784 3584 \r\nQ 2172 3584 2450 3431 \r\nQ 2728 3278 2906 2969 \r\nL 2906 3500 \r\nL 3481 3500 \r\nL 3481 434 \r\nz\r\n\" id=\"DejaVuSans-67\" transform=\"scale(0.015625)\"/>\r\n       <path id=\"DejaVuSans-20\" transform=\"scale(0.015625)\"/>\r\n       <path d=\"M 3513 2113 \r\nL 3513 0 \r\nL 2938 0 \r\nL 2938 2094 \r\nQ 2938 2591 2744 2837 \r\nQ 2550 3084 2163 3084 \r\nQ 1697 3084 1428 2787 \r\nQ 1159 2491 1159 1978 \r\nL 1159 0 \r\nL 581 0 \r\nL 581 3500 \r\nL 1159 3500 \r\nL 1159 2956 \r\nQ 1366 3272 1645 3428 \r\nQ 1925 3584 2291 3584 \r\nQ 2894 3584 3203 3211 \r\nQ 3513 2838 3513 2113 \r\nz\r\n\" id=\"DejaVuSans-6e\" transform=\"scale(0.015625)\"/>\r\n       <path d=\"M 1959 3097 \r\nQ 1497 3097 1228 2736 \r\nQ 959 2375 959 1747 \r\nQ 959 1119 1226 758 \r\nQ 1494 397 1959 397 \r\nQ 2419 397 2687 759 \r\nQ 2956 1122 2956 1747 \r\nQ 2956 2369 2687 2733 \r\nQ 2419 3097 1959 3097 \r\nz\r\nM 1959 3584 \r\nQ 2709 3584 3137 3096 \r\nQ 3566 2609 3566 1747 \r\nQ 3566 888 3137 398 \r\nQ 2709 -91 1959 -91 \r\nQ 1206 -91 779 398 \r\nQ 353 888 353 1747 \r\nQ 353 2609 779 3096 \r\nQ 1206 3584 1959 3584 \r\nz\r\n\" id=\"DejaVuSans-6f\" transform=\"scale(0.015625)\"/>\r\n       <path d=\"M 603 4863 \r\nL 1178 4863 \r\nL 1178 0 \r\nL 603 0 \r\nL 603 4863 \r\nz\r\n\" id=\"DejaVuSans-6c\" transform=\"scale(0.015625)\"/>\r\n       <path d=\"M 3328 2828 \r\nQ 3544 3216 3844 3400 \r\nQ 4144 3584 4550 3584 \r\nQ 5097 3584 5394 3201 \r\nQ 5691 2819 5691 2113 \r\nL 5691 0 \r\nL 5113 0 \r\nL 5113 2094 \r\nQ 5113 2597 4934 2840 \r\nQ 4756 3084 4391 3084 \r\nQ 3944 3084 3684 2787 \r\nQ 3425 2491 3425 1978 \r\nL 3425 0 \r\nL 2847 0 \r\nL 2847 2094 \r\nQ 2847 2600 2669 2842 \r\nQ 2491 3084 2119 3084 \r\nQ 1678 3084 1418 2786 \r\nQ 1159 2488 1159 1978 \r\nL 1159 0 \r\nL 581 0 \r\nL 581 3500 \r\nL 1159 3500 \r\nL 1159 2956 \r\nQ 1356 3278 1631 3431 \r\nQ 1906 3584 2284 3584 \r\nQ 2666 3584 2933 3390 \r\nQ 3200 3197 3328 2828 \r\nz\r\n\" id=\"DejaVuSans-6d\" transform=\"scale(0.015625)\"/>\r\n       <path d=\"M 1172 4494 \r\nL 1172 3500 \r\nL 2356 3500 \r\nL 2356 3053 \r\nL 1172 3053 \r\nL 1172 1153 \r\nQ 1172 725 1289 603 \r\nQ 1406 481 1766 481 \r\nL 2356 481 \r\nL 2356 0 \r\nL 1766 0 \r\nQ 1100 0 847 248 \r\nQ 594 497 594 1153 \r\nL 594 3053 \r\nL 172 3053 \r\nL 172 3500 \r\nL 594 3500 \r\nL 594 4494 \r\nL 1172 4494 \r\nz\r\n\" id=\"DejaVuSans-74\" transform=\"scale(0.015625)\"/>\r\n       <path d=\"M 2834 3397 \r\nL 2834 2853 \r\nQ 2591 2978 2328 3040 \r\nQ 2066 3103 1784 3103 \r\nQ 1356 3103 1142 2972 \r\nQ 928 2841 928 2578 \r\nQ 928 2378 1081 2264 \r\nQ 1234 2150 1697 2047 \r\nL 1894 2003 \r\nQ 2506 1872 2764 1633 \r\nQ 3022 1394 3022 966 \r\nQ 3022 478 2636 193 \r\nQ 2250 -91 1575 -91 \r\nQ 1294 -91 989 -36 \r\nQ 684 19 347 128 \r\nL 347 722 \r\nQ 666 556 975 473 \r\nQ 1284 391 1588 391 \r\nQ 1994 391 2212 530 \r\nQ 2431 669 2431 922 \r\nQ 2431 1156 2273 1281 \r\nQ 2116 1406 1581 1522 \r\nL 1381 1569 \r\nQ 847 1681 609 1914 \r\nQ 372 2147 372 2553 \r\nQ 372 3047 722 3315 \r\nQ 1072 3584 1716 3584 \r\nQ 2034 3584 2315 3537 \r\nQ 2597 3491 2834 3397 \r\nz\r\n\" id=\"DejaVuSans-73\" transform=\"scale(0.015625)\"/>\r\n       <path d=\"M 1984 4856 \r\nQ 1566 4138 1362 3434 \r\nQ 1159 2731 1159 2009 \r\nQ 1159 1288 1364 580 \r\nQ 1569 -128 1984 -844 \r\nL 1484 -844 \r\nQ 1016 -109 783 600 \r\nQ 550 1309 550 2009 \r\nQ 550 2706 781 3412 \r\nQ 1013 4119 1484 4856 \r\nL 1984 4856 \r\nz\r\n\" id=\"DejaVuSans-28\" transform=\"scale(0.015625)\"/>\r\n       <path d=\"M 4653 2053 \r\nQ 4381 2053 4226 1822 \r\nQ 4072 1591 4072 1178 \r\nQ 4072 772 4226 539 \r\nQ 4381 306 4653 306 \r\nQ 4919 306 5073 539 \r\nQ 5228 772 5228 1178 \r\nQ 5228 1588 5073 1820 \r\nQ 4919 2053 4653 2053 \r\nz\r\nM 4653 2450 \r\nQ 5147 2450 5437 2106 \r\nQ 5728 1763 5728 1178 \r\nQ 5728 594 5436 251 \r\nQ 5144 -91 4653 -91 \r\nQ 4153 -91 3862 251 \r\nQ 3572 594 3572 1178 \r\nQ 3572 1766 3864 2108 \r\nQ 4156 2450 4653 2450 \r\nz\r\nM 1428 4353 \r\nQ 1159 4353 1004 4120 \r\nQ 850 3888 850 3481 \r\nQ 850 3069 1003 2837 \r\nQ 1156 2606 1428 2606 \r\nQ 1700 2606 1854 2837 \r\nQ 2009 3069 2009 3481 \r\nQ 2009 3884 1853 4118 \r\nQ 1697 4353 1428 4353 \r\nz\r\nM 4250 4750 \r\nL 4750 4750 \r\nL 1831 -91 \r\nL 1331 -91 \r\nL 4250 4750 \r\nz\r\nM 1428 4750 \r\nQ 1922 4750 2215 4408 \r\nQ 2509 4066 2509 3481 \r\nQ 2509 2891 2217 2550 \r\nQ 1925 2209 1428 2209 \r\nQ 931 2209 642 2551 \r\nQ 353 2894 353 3481 \r\nQ 353 4063 643 4406 \r\nQ 934 4750 1428 4750 \r\nz\r\n\" id=\"DejaVuSans-25\" transform=\"scale(0.015625)\"/>\r\n       <path d=\"M 513 4856 \r\nL 1013 4856 \r\nQ 1481 4119 1714 3412 \r\nQ 1947 2706 1947 2009 \r\nQ 1947 1309 1714 600 \r\nQ 1481 -109 1013 -844 \r\nL 513 -844 \r\nQ 928 -128 1133 580 \r\nQ 1338 1288 1338 2009 \r\nQ 1338 2731 1133 3434 \r\nQ 928 4138 513 4856 \r\nz\r\n\" id=\"DejaVuSans-29\" transform=\"scale(0.015625)\"/>\r\n      </defs>\r\n      <use xlink:href=\"#DejaVuSans-41\"/>\r\n      <use x=\"62.533203\" xlink:href=\"#DejaVuSans-76\"/>\r\n      <use x=\"121.712891\" xlink:href=\"#DejaVuSans-65\"/>\r\n      <use x=\"183.236328\" xlink:href=\"#DejaVuSans-72\"/>\r\n      <use x=\"224.349609\" xlink:href=\"#DejaVuSans-61\"/>\r\n      <use x=\"285.628906\" xlink:href=\"#DejaVuSans-67\"/>\r\n      <use x=\"349.105469\" xlink:href=\"#DejaVuSans-65\"/>\r\n      <use x=\"410.628906\" xlink:href=\"#DejaVuSans-20\"/>\r\n      <use x=\"442.416016\" xlink:href=\"#DejaVuSans-65\"/>\r\n      <use x=\"503.939453\" xlink:href=\"#DejaVuSans-6e\"/>\r\n      <use x=\"567.318359\" xlink:href=\"#DejaVuSans-72\"/>\r\n      <use x=\"606.181641\" xlink:href=\"#DejaVuSans-6f\"/>\r\n      <use x=\"667.363281\" xlink:href=\"#DejaVuSans-6c\"/>\r\n      <use x=\"695.146484\" xlink:href=\"#DejaVuSans-6c\"/>\r\n      <use x=\"722.929688\" xlink:href=\"#DejaVuSans-6d\"/>\r\n      <use x=\"820.341797\" xlink:href=\"#DejaVuSans-65\"/>\r\n      <use x=\"881.865234\" xlink:href=\"#DejaVuSans-6e\"/>\r\n      <use x=\"945.244141\" xlink:href=\"#DejaVuSans-74\"/>\r\n      <use x=\"984.453125\" xlink:href=\"#DejaVuSans-20\"/>\r\n      <use x=\"1016.240234\" xlink:href=\"#DejaVuSans-72\"/>\r\n      <use x=\"1057.353516\" xlink:href=\"#DejaVuSans-61\"/>\r\n      <use x=\"1118.632812\" xlink:href=\"#DejaVuSans-74\"/>\r\n      <use x=\"1157.841797\" xlink:href=\"#DejaVuSans-65\"/>\r\n      <use x=\"1219.365234\" xlink:href=\"#DejaVuSans-73\"/>\r\n      <use x=\"1271.464844\" xlink:href=\"#DejaVuSans-28\"/>\r\n      <use x=\"1310.478516\" xlink:href=\"#DejaVuSans-25\"/>\r\n      <use x=\"1405.498047\" xlink:href=\"#DejaVuSans-29\"/>\r\n     </g>\r\n    </g>\r\n   </g>\r\n   <g id=\"matplotlib.axis_2\">\r\n    <g id=\"ytick_1\">\r\n     <g id=\"line2d_13\"/>\r\n     <g id=\"text_8\">\r\n      <!-- Primary -->\r\n      <g transform=\"translate(98.504875 117.65527)scale(0.14 -0.14)\">\r\n       <defs>\r\n        <path d=\"M 1259 4147 \r\nL 1259 2394 \r\nL 2053 2394 \r\nQ 2494 2394 2734 2622 \r\nQ 2975 2850 2975 3272 \r\nQ 2975 3691 2734 3919 \r\nQ 2494 4147 2053 4147 \r\nL 1259 4147 \r\nz\r\nM 628 4666 \r\nL 2053 4666 \r\nQ 2838 4666 3239 4311 \r\nQ 3641 3956 3641 3272 \r\nQ 3641 2581 3239 2228 \r\nQ 2838 1875 2053 1875 \r\nL 1259 1875 \r\nL 1259 0 \r\nL 628 0 \r\nL 628 4666 \r\nz\r\n\" id=\"DejaVuSans-50\" transform=\"scale(0.015625)\"/>\r\n        <path d=\"M 603 3500 \r\nL 1178 3500 \r\nL 1178 0 \r\nL 603 0 \r\nL 603 3500 \r\nz\r\nM 603 4863 \r\nL 1178 4863 \r\nL 1178 4134 \r\nL 603 4134 \r\nL 603 4863 \r\nz\r\n\" id=\"DejaVuSans-69\" transform=\"scale(0.015625)\"/>\r\n        <path d=\"M 2059 -325 \r\nQ 1816 -950 1584 -1140 \r\nQ 1353 -1331 966 -1331 \r\nL 506 -1331 \r\nL 506 -850 \r\nL 844 -850 \r\nQ 1081 -850 1212 -737 \r\nQ 1344 -625 1503 -206 \r\nL 1606 56 \r\nL 191 3500 \r\nL 800 3500 \r\nL 1894 763 \r\nL 2988 3500 \r\nL 3597 3500 \r\nL 2059 -325 \r\nz\r\n\" id=\"DejaVuSans-79\" transform=\"scale(0.015625)\"/>\r\n       </defs>\r\n       <use xlink:href=\"#DejaVuSans-50\"/>\r\n       <use x=\"58.552734\" xlink:href=\"#DejaVuSans-72\"/>\r\n       <use x=\"99.666016\" xlink:href=\"#DejaVuSans-69\"/>\r\n       <use x=\"127.449219\" xlink:href=\"#DejaVuSans-6d\"/>\r\n       <use x=\"224.861328\" xlink:href=\"#DejaVuSans-61\"/>\r\n       <use x=\"286.140625\" xlink:href=\"#DejaVuSans-72\"/>\r\n       <use x=\"327.253906\" xlink:href=\"#DejaVuSans-79\"/>\r\n      </g>\r\n     </g>\r\n    </g>\r\n    <g id=\"ytick_2\">\r\n     <g id=\"line2d_14\"/>\r\n     <g id=\"text_9\">\r\n      <!-- Upper Primary -->\r\n      <g transform=\"translate(51.663938 183.927997)scale(0.14 -0.14)\">\r\n       <defs>\r\n        <path d=\"M 556 4666 \r\nL 1191 4666 \r\nL 1191 1831 \r\nQ 1191 1081 1462 751 \r\nQ 1734 422 2344 422 \r\nQ 2950 422 3222 751 \r\nQ 3494 1081 3494 1831 \r\nL 3494 4666 \r\nL 4128 4666 \r\nL 4128 1753 \r\nQ 4128 841 3676 375 \r\nQ 3225 -91 2344 -91 \r\nQ 1459 -91 1007 375 \r\nQ 556 841 556 1753 \r\nL 556 4666 \r\nz\r\n\" id=\"DejaVuSans-55\" transform=\"scale(0.015625)\"/>\r\n        <path d=\"M 1159 525 \r\nL 1159 -1331 \r\nL 581 -1331 \r\nL 581 3500 \r\nL 1159 3500 \r\nL 1159 2969 \r\nQ 1341 3281 1617 3432 \r\nQ 1894 3584 2278 3584 \r\nQ 2916 3584 3314 3078 \r\nQ 3713 2572 3713 1747 \r\nQ 3713 922 3314 415 \r\nQ 2916 -91 2278 -91 \r\nQ 1894 -91 1617 61 \r\nQ 1341 213 1159 525 \r\nz\r\nM 3116 1747 \r\nQ 3116 2381 2855 2742 \r\nQ 2594 3103 2138 3103 \r\nQ 1681 3103 1420 2742 \r\nQ 1159 2381 1159 1747 \r\nQ 1159 1113 1420 752 \r\nQ 1681 391 2138 391 \r\nQ 2594 391 2855 752 \r\nQ 3116 1113 3116 1747 \r\nz\r\n\" id=\"DejaVuSans-70\" transform=\"scale(0.015625)\"/>\r\n       </defs>\r\n       <use xlink:href=\"#DejaVuSans-55\"/>\r\n       <use x=\"73.193359\" xlink:href=\"#DejaVuSans-70\"/>\r\n       <use x=\"136.669922\" xlink:href=\"#DejaVuSans-70\"/>\r\n       <use x=\"200.146484\" xlink:href=\"#DejaVuSans-65\"/>\r\n       <use x=\"261.669922\" xlink:href=\"#DejaVuSans-72\"/>\r\n       <use x=\"302.783203\" xlink:href=\"#DejaVuSans-20\"/>\r\n       <use x=\"334.570312\" xlink:href=\"#DejaVuSans-50\"/>\r\n       <use x=\"393.123047\" xlink:href=\"#DejaVuSans-72\"/>\r\n       <use x=\"434.236328\" xlink:href=\"#DejaVuSans-69\"/>\r\n       <use x=\"462.019531\" xlink:href=\"#DejaVuSans-6d\"/>\r\n       <use x=\"559.431641\" xlink:href=\"#DejaVuSans-61\"/>\r\n       <use x=\"620.710938\" xlink:href=\"#DejaVuSans-72\"/>\r\n       <use x=\"661.824219\" xlink:href=\"#DejaVuSans-79\"/>\r\n      </g>\r\n     </g>\r\n    </g>\r\n    <g id=\"ytick_3\">\r\n     <g id=\"line2d_15\"/>\r\n     <g id=\"text_10\">\r\n      <!-- Secondary -->\r\n      <g transform=\"translate(78.456438 250.200724)scale(0.14 -0.14)\">\r\n       <defs>\r\n        <path d=\"M 3425 4513 \r\nL 3425 3897 \r\nQ 3066 4069 2747 4153 \r\nQ 2428 4238 2131 4238 \r\nQ 1616 4238 1336 4038 \r\nQ 1056 3838 1056 3469 \r\nQ 1056 3159 1242 3001 \r\nQ 1428 2844 1947 2747 \r\nL 2328 2669 \r\nQ 3034 2534 3370 2195 \r\nQ 3706 1856 3706 1288 \r\nQ 3706 609 3251 259 \r\nQ 2797 -91 1919 -91 \r\nQ 1588 -91 1214 -16 \r\nQ 841 59 441 206 \r\nL 441 856 \r\nQ 825 641 1194 531 \r\nQ 1563 422 1919 422 \r\nQ 2459 422 2753 634 \r\nQ 3047 847 3047 1241 \r\nQ 3047 1584 2836 1778 \r\nQ 2625 1972 2144 2069 \r\nL 1759 2144 \r\nQ 1053 2284 737 2584 \r\nQ 422 2884 422 3419 \r\nQ 422 4038 858 4394 \r\nQ 1294 4750 2059 4750 \r\nQ 2388 4750 2728 4690 \r\nQ 3069 4631 3425 4513 \r\nz\r\n\" id=\"DejaVuSans-53\" transform=\"scale(0.015625)\"/>\r\n        <path d=\"M 3122 3366 \r\nL 3122 2828 \r\nQ 2878 2963 2633 3030 \r\nQ 2388 3097 2138 3097 \r\nQ 1578 3097 1268 2742 \r\nQ 959 2388 959 1747 \r\nQ 959 1106 1268 751 \r\nQ 1578 397 2138 397 \r\nQ 2388 397 2633 464 \r\nQ 2878 531 3122 666 \r\nL 3122 134 \r\nQ 2881 22 2623 -34 \r\nQ 2366 -91 2075 -91 \r\nQ 1284 -91 818 406 \r\nQ 353 903 353 1747 \r\nQ 353 2603 823 3093 \r\nQ 1294 3584 2113 3584 \r\nQ 2378 3584 2631 3529 \r\nQ 2884 3475 3122 3366 \r\nz\r\n\" id=\"DejaVuSans-63\" transform=\"scale(0.015625)\"/>\r\n        <path d=\"M 2906 2969 \r\nL 2906 4863 \r\nL 3481 4863 \r\nL 3481 0 \r\nL 2906 0 \r\nL 2906 525 \r\nQ 2725 213 2448 61 \r\nQ 2172 -91 1784 -91 \r\nQ 1150 -91 751 415 \r\nQ 353 922 353 1747 \r\nQ 353 2572 751 3078 \r\nQ 1150 3584 1784 3584 \r\nQ 2172 3584 2448 3432 \r\nQ 2725 3281 2906 2969 \r\nz\r\nM 947 1747 \r\nQ 947 1113 1208 752 \r\nQ 1469 391 1925 391 \r\nQ 2381 391 2643 752 \r\nQ 2906 1113 2906 1747 \r\nQ 2906 2381 2643 2742 \r\nQ 2381 3103 1925 3103 \r\nQ 1469 3103 1208 2742 \r\nQ 947 2381 947 1747 \r\nz\r\n\" id=\"DejaVuSans-64\" transform=\"scale(0.015625)\"/>\r\n       </defs>\r\n       <use xlink:href=\"#DejaVuSans-53\"/>\r\n       <use x=\"63.476562\" xlink:href=\"#DejaVuSans-65\"/>\r\n       <use x=\"125\" xlink:href=\"#DejaVuSans-63\"/>\r\n       <use x=\"179.980469\" xlink:href=\"#DejaVuSans-6f\"/>\r\n       <use x=\"241.162109\" xlink:href=\"#DejaVuSans-6e\"/>\r\n       <use x=\"304.541016\" xlink:href=\"#DejaVuSans-64\"/>\r\n       <use x=\"368.017578\" xlink:href=\"#DejaVuSans-61\"/>\r\n       <use x=\"429.296875\" xlink:href=\"#DejaVuSans-72\"/>\r\n       <use x=\"470.410156\" xlink:href=\"#DejaVuSans-79\"/>\r\n      </g>\r\n     </g>\r\n    </g>\r\n    <g id=\"ytick_4\">\r\n     <g id=\"line2d_16\"/>\r\n     <g id=\"text_11\">\r\n      <!-- Higher Secondary -->\r\n      <g transform=\"translate(27.45925 316.473452)scale(0.14 -0.14)\">\r\n       <defs>\r\n        <path d=\"M 628 4666 \r\nL 1259 4666 \r\nL 1259 2753 \r\nL 3553 2753 \r\nL 3553 4666 \r\nL 4184 4666 \r\nL 4184 0 \r\nL 3553 0 \r\nL 3553 2222 \r\nL 1259 2222 \r\nL 1259 0 \r\nL 628 0 \r\nL 628 4666 \r\nz\r\n\" id=\"DejaVuSans-48\" transform=\"scale(0.015625)\"/>\r\n        <path d=\"M 3513 2113 \r\nL 3513 0 \r\nL 2938 0 \r\nL 2938 2094 \r\nQ 2938 2591 2744 2837 \r\nQ 2550 3084 2163 3084 \r\nQ 1697 3084 1428 2787 \r\nQ 1159 2491 1159 1978 \r\nL 1159 0 \r\nL 581 0 \r\nL 581 4863 \r\nL 1159 4863 \r\nL 1159 2956 \r\nQ 1366 3272 1645 3428 \r\nQ 1925 3584 2291 3584 \r\nQ 2894 3584 3203 3211 \r\nQ 3513 2838 3513 2113 \r\nz\r\n\" id=\"DejaVuSans-68\" transform=\"scale(0.015625)\"/>\r\n       </defs>\r\n       <use xlink:href=\"#DejaVuSans-48\"/>\r\n       <use x=\"75.195312\" xlink:href=\"#DejaVuSans-69\"/>\r\n       <use x=\"102.978516\" xlink:href=\"#DejaVuSans-67\"/>\r\n       <use x=\"166.455078\" xlink:href=\"#DejaVuSans-68\"/>\r\n       <use x=\"229.833984\" xlink:href=\"#DejaVuSans-65\"/>\r\n       <use x=\"291.357422\" xlink:href=\"#DejaVuSans-72\"/>\r\n       <use x=\"332.470703\" xlink:href=\"#DejaVuSans-20\"/>\r\n       <use x=\"364.257812\" xlink:href=\"#DejaVuSans-53\"/>\r\n       <use x=\"427.734375\" xlink:href=\"#DejaVuSans-65\"/>\r\n       <use x=\"489.257812\" xlink:href=\"#DejaVuSans-63\"/>\r\n       <use x=\"544.238281\" xlink:href=\"#DejaVuSans-6f\"/>\r\n       <use x=\"605.419922\" xlink:href=\"#DejaVuSans-6e\"/>\r\n       <use x=\"668.798828\" xlink:href=\"#DejaVuSans-64\"/>\r\n       <use x=\"732.275391\" xlink:href=\"#DejaVuSans-61\"/>\r\n       <use x=\"793.554688\" xlink:href=\"#DejaVuSans-72\"/>\r\n       <use x=\"834.667969\" xlink:href=\"#DejaVuSans-79\"/>\r\n      </g>\r\n     </g>\r\n    </g>\r\n    <g id=\"text_12\">\r\n     <!-- Section of school -->\r\n     <g transform=\"translate(19.965375 283.322642)rotate(-90)scale(0.168 -0.168)\">\r\n      <defs>\r\n       <path d=\"M 2375 4863 \r\nL 2375 4384 \r\nL 1825 4384 \r\nQ 1516 4384 1395 4259 \r\nQ 1275 4134 1275 3809 \r\nL 1275 3500 \r\nL 2222 3500 \r\nL 2222 3053 \r\nL 1275 3053 \r\nL 1275 0 \r\nL 697 0 \r\nL 697 3053 \r\nL 147 3053 \r\nL 147 3500 \r\nL 697 3500 \r\nL 697 3744 \r\nQ 697 4328 969 4595 \r\nQ 1241 4863 1831 4863 \r\nL 2375 4863 \r\nz\r\n\" id=\"DejaVuSans-66\" transform=\"scale(0.015625)\"/>\r\n      </defs>\r\n      <use xlink:href=\"#DejaVuSans-53\"/>\r\n      <use x=\"63.476562\" xlink:href=\"#DejaVuSans-65\"/>\r\n      <use x=\"125\" xlink:href=\"#DejaVuSans-63\"/>\r\n      <use x=\"179.980469\" xlink:href=\"#DejaVuSans-74\"/>\r\n      <use x=\"219.189453\" xlink:href=\"#DejaVuSans-69\"/>\r\n      <use x=\"246.972656\" xlink:href=\"#DejaVuSans-6f\"/>\r\n      <use x=\"308.154297\" xlink:href=\"#DejaVuSans-6e\"/>\r\n      <use x=\"371.533203\" xlink:href=\"#DejaVuSans-20\"/>\r\n      <use x=\"403.320312\" xlink:href=\"#DejaVuSans-6f\"/>\r\n      <use x=\"464.501953\" xlink:href=\"#DejaVuSans-66\"/>\r\n      <use x=\"499.707031\" xlink:href=\"#DejaVuSans-20\"/>\r\n      <use x=\"531.494141\" xlink:href=\"#DejaVuSans-73\"/>\r\n      <use x=\"583.59375\" xlink:href=\"#DejaVuSans-63\"/>\r\n      <use x=\"638.574219\" xlink:href=\"#DejaVuSans-68\"/>\r\n      <use x=\"701.953125\" xlink:href=\"#DejaVuSans-6f\"/>\r\n      <use x=\"763.134766\" xlink:href=\"#DejaVuSans-6f\"/>\r\n      <use x=\"824.316406\" xlink:href=\"#DejaVuSans-6c\"/>\r\n     </g>\r\n    </g>\r\n   </g>\r\n   <g id=\"patch_3\">\r\n    <path clip-path=\"url(#pa7f431ce15)\" d=\"M 512.495973 85.827273 \r\nL 512.495973 138.845455 \r\nL 567.576842 138.845455 \r\nL 567.576842 85.827273 \r\nL 512.495973 85.827273 \r\nz\r\n\" style=\"fill:#1b86ba;stroke:#404040;stroke-linejoin:miter;stroke-width:4;\"/>\r\n   </g>\r\n   <g id=\"patch_4\">\r\n    <path clip-path=\"url(#pa7f431ce15)\" d=\"M 488.68471 152.1 \r\nL 488.68471 205.118182 \r\nL 545.260607 205.118182 \r\nL 545.260607 152.1 \r\nL 488.68471 152.1 \r\nz\r\n\" style=\"fill:#e36149;stroke:#404040;stroke-linejoin:miter;stroke-width:4;\"/>\r\n   </g>\r\n   <g id=\"patch_5\">\r\n    <path clip-path=\"url(#pa7f431ce15)\" d=\"M 416.322827 218.372727 \r\nL 416.322827 271.390909 \r\nL 513.886013 271.390909 \r\nL 513.886013 218.372727 \r\nL 416.322827 218.372727 \r\nz\r\n\" style=\"fill:#cfa64e;stroke:#404040;stroke-linejoin:miter;stroke-width:4;\"/>\r\n   </g>\r\n   <g id=\"patch_6\">\r\n    <path clip-path=\"url(#pa7f431ce15)\" d=\"M 260.865096 284.645455 \r\nL 260.865096 337.663636 \r\nL 389.865868 337.663636 \r\nL 389.865868 284.645455 \r\nL 260.865096 284.645455 \r\nz\r\n\" style=\"fill:#6e8857;stroke:#404040;stroke-linejoin:miter;stroke-width:4;\"/>\r\n   </g>\r\n   <g id=\"line2d_17\">\r\n    <path clip-path=\"url(#pa7f431ce15)\" d=\"M 512.495973 112.336364 \r\nL 452.304291 112.336364 \r\n\" style=\"fill:none;stroke:#404040;stroke-width:4;\"/>\r\n   </g>\r\n   <g id=\"line2d_18\">\r\n    <path clip-path=\"url(#pa7f431ce15)\" d=\"M 567.576842 112.336364 \r\nL 602.428636 112.336364 \r\n\" style=\"fill:none;stroke:#404040;stroke-width:4;\"/>\r\n   </g>\r\n   <g id=\"line2d_19\">\r\n    <path clip-path=\"url(#pa7f431ce15)\" d=\"M 452.304291 99.081818 \r\nL 452.304291 125.590909 \r\n\" style=\"fill:none;stroke:#404040;stroke-width:4;\"/>\r\n   </g>\r\n   <g id=\"line2d_20\">\r\n    <path clip-path=\"url(#pa7f431ce15)\" d=\"M 602.428636 99.081818 \r\nL 602.428636 125.590909 \r\n\" style=\"fill:none;stroke:#404040;stroke-width:4;\"/>\r\n   </g>\r\n   <g id=\"line2d_21\">\r\n    <defs>\r\n     <path d=\"M 0 3.535534 \r\nL 2.12132 0 \r\nL 0 -3.535534 \r\nL -2.12132 0 \r\nz\r\n\" id=\"madfae1f08e\" style=\"stroke:#404040;stroke-linejoin:miter;\"/>\r\n    </defs>\r\n    <g clip-path=\"url(#pa7f431ce15)\">\r\n     <use style=\"fill:#404040;stroke:#404040;stroke-linejoin:miter;\" x=\"419.296086\" xlink:href=\"#madfae1f08e\" y=\"112.336364\"/>\r\n     <use style=\"fill:#404040;stroke:#404040;stroke-linejoin:miter;\" x=\"675.483439\" xlink:href=\"#madfae1f08e\" y=\"112.336364\"/>\r\n     <use style=\"fill:#404040;stroke:#404040;stroke-linejoin:miter;\" x=\"727.591049\" xlink:href=\"#madfae1f08e\" y=\"112.336364\"/>\r\n     <use style=\"fill:#404040;stroke:#404040;stroke-linejoin:miter;\" x=\"728.061395\" xlink:href=\"#madfae1f08e\" y=\"112.336364\"/>\r\n     <use style=\"fill:#404040;stroke:#404040;stroke-linejoin:miter;\" x=\"655.762505\" xlink:href=\"#madfae1f08e\" y=\"112.336364\"/>\r\n    </g>\r\n   </g>\r\n   <g id=\"line2d_22\">\r\n    <path clip-path=\"url(#pa7f431ce15)\" d=\"M 488.68471 178.609091 \r\nL 428.820591 178.609091 \r\n\" style=\"fill:none;stroke:#404040;stroke-width:4;\"/>\r\n   </g>\r\n   <g id=\"line2d_23\">\r\n    <path clip-path=\"url(#pa7f431ce15)\" d=\"M 545.260607 178.609091 \r\nL 571.889746 178.609091 \r\n\" style=\"fill:none;stroke:#404040;stroke-width:4;\"/>\r\n   </g>\r\n   <g id=\"line2d_24\">\r\n    <path clip-path=\"url(#pa7f431ce15)\" d=\"M 428.820591 165.354545 \r\nL 428.820591 191.863636 \r\n\" style=\"fill:none;stroke:#404040;stroke-width:4;\"/>\r\n   </g>\r\n   <g id=\"line2d_25\">\r\n    <path clip-path=\"url(#pa7f431ce15)\" d=\"M 571.889746 165.354545 \r\nL 571.889746 191.863636 \r\n\" style=\"fill:none;stroke:#404040;stroke-width:4;\"/>\r\n   </g>\r\n   <g id=\"line2d_26\">\r\n    <g clip-path=\"url(#pa7f431ce15)\">\r\n     <use style=\"fill:#404040;stroke:#404040;stroke-linejoin:miter;\" x=\"390.20183\" xlink:href=\"#madfae1f08e\" y=\"178.609091\"/>\r\n     <use style=\"fill:#404040;stroke:#404040;stroke-linejoin:miter;\" x=\"647.346673\" xlink:href=\"#madfae1f08e\" y=\"178.609091\"/>\r\n     <use style=\"fill:#404040;stroke:#404040;stroke-linejoin:miter;\" x=\"663.590406\" xlink:href=\"#madfae1f08e\" y=\"178.609091\"/>\r\n     <use style=\"fill:#404040;stroke:#404040;stroke-linejoin:miter;\" x=\"639.569167\" xlink:href=\"#madfae1f08e\" y=\"178.609091\"/>\r\n     <use style=\"fill:#404040;stroke:#404040;stroke-linejoin:miter;\" x=\"651.193431\" xlink:href=\"#madfae1f08e\" y=\"178.609091\"/>\r\n     <use style=\"fill:#404040;stroke:#404040;stroke-linejoin:miter;\" x=\"670.410422\" xlink:href=\"#madfae1f08e\" y=\"178.609091\"/>\r\n     <use style=\"fill:#404040;stroke:#404040;stroke-linejoin:miter;\" x=\"754.03121\" xlink:href=\"#madfae1f08e\" y=\"178.609091\"/>\r\n    </g>\r\n   </g>\r\n   <g id=\"line2d_27\">\r\n    <path clip-path=\"url(#pa7f431ce15)\" d=\"M 416.322827 244.881818 \r\nL 365.92862 244.881818 \r\n\" style=\"fill:none;stroke:#404040;stroke-width:4;\"/>\r\n   </g>\r\n   <g id=\"line2d_28\">\r\n    <path clip-path=\"url(#pa7f431ce15)\" d=\"M 513.886013 244.881818 \r\nL 626.651452 244.881818 \r\n\" style=\"fill:none;stroke:#404040;stroke-width:4;\"/>\r\n   </g>\r\n   <g id=\"line2d_29\">\r\n    <path clip-path=\"url(#pa7f431ce15)\" d=\"M 365.92862 231.627273 \r\nL 365.92862 258.136364 \r\n\" style=\"fill:none;stroke:#404040;stroke-width:4;\"/>\r\n   </g>\r\n   <g id=\"line2d_30\">\r\n    <path clip-path=\"url(#pa7f431ce15)\" d=\"M 626.651452 231.627273 \r\nL 626.651452 258.136364 \r\n\" style=\"fill:none;stroke:#404040;stroke-width:4;\"/>\r\n   </g>\r\n   <g id=\"line2d_31\"/>\r\n   <g id=\"line2d_32\">\r\n    <path clip-path=\"url(#pa7f431ce15)\" d=\"M 260.865096 311.154545 \r\nL 184.576665 311.154545 \r\n\" style=\"fill:none;stroke:#404040;stroke-width:4;\"/>\r\n   </g>\r\n   <g id=\"line2d_33\">\r\n    <path clip-path=\"url(#pa7f431ce15)\" d=\"M 389.865868 311.154545 \r\nL 522.43623 311.154545 \r\n\" style=\"fill:none;stroke:#404040;stroke-width:4;\"/>\r\n   </g>\r\n   <g id=\"line2d_34\">\r\n    <path clip-path=\"url(#pa7f431ce15)\" d=\"M 184.576665 297.9 \r\nL 184.576665 324.409091 \r\n\" style=\"fill:none;stroke:#404040;stroke-width:4;\"/>\r\n   </g>\r\n   <g id=\"line2d_35\">\r\n    <path clip-path=\"url(#pa7f431ce15)\" d=\"M 522.43623 297.9 \r\nL 522.43623 324.409091 \r\n\" style=\"fill:none;stroke:#404040;stroke-width:4;\"/>\r\n   </g>\r\n   <g id=\"line2d_36\"/>\r\n   <g id=\"line2d_37\">\r\n    <path clip-path=\"url(#pa7f431ce15)\" d=\"M 547.053801 85.827273 \r\nL 547.053801 138.845455 \r\n\" style=\"fill:none;stroke:#404040;stroke-width:4;\"/>\r\n   </g>\r\n   <g id=\"line2d_38\">\r\n    <path clip-path=\"url(#pa7f431ce15)\" d=\"M 520.302876 152.1 \r\nL 520.302876 205.118182 \r\n\" style=\"fill:none;stroke:#404040;stroke-width:4;\"/>\r\n   </g>\r\n   <g id=\"line2d_39\">\r\n    <path clip-path=\"url(#pa7f431ce15)\" d=\"M 467.724919 218.372727 \r\nL 467.724919 271.390909 \r\n\" style=\"fill:none;stroke:#404040;stroke-width:4;\"/>\r\n   </g>\r\n   <g id=\"line2d_40\">\r\n    <path clip-path=\"url(#pa7f431ce15)\" d=\"M 327.377051 284.645455 \r\nL 327.377051 337.663636 \r\n\" style=\"fill:none;stroke:#404040;stroke-width:4;\"/>\r\n   </g>\r\n   <g id=\"patch_7\">\r\n    <path d=\"M 156.103938 344.290909 \r\nL 156.103938 79.2 \r\n\" style=\"fill:none;stroke:#f0f0f0;stroke-linecap:square;stroke-linejoin:miter;stroke-width:3;\"/>\r\n   </g>\r\n   <g id=\"patch_8\">\r\n    <path d=\"M 782.503938 344.290909 \r\nL 782.503938 79.2 \r\n\" style=\"fill:none;stroke:#f0f0f0;stroke-linecap:square;stroke-linejoin:miter;stroke-width:3;\"/>\r\n   </g>\r\n   <g id=\"patch_9\">\r\n    <path d=\"M 156.103938 344.290909 \r\nL 782.503938 344.290909 \r\n\" style=\"fill:none;stroke:#f0f0f0;stroke-linecap:square;stroke-linejoin:miter;stroke-width:3;\"/>\r\n   </g>\r\n   <g id=\"patch_10\">\r\n    <path d=\"M 156.103938 79.2 \r\nL 782.503938 79.2 \r\n\" style=\"fill:none;stroke:#f0f0f0;stroke-linecap:square;stroke-linejoin:miter;stroke-width:3;\"/>\r\n   </g>\r\n   <g id=\"text_13\">\r\n    <!-- Lakshadweep -->\r\n    <g transform=\"translate(308.697598 118.963636)scale(0.14 -0.14)\">\r\n     <defs>\r\n      <path d=\"M 628 4666 \r\nL 1259 4666 \r\nL 1259 531 \r\nL 3531 531 \r\nL 3531 0 \r\nL 628 0 \r\nL 628 4666 \r\nz\r\n\" id=\"DejaVuSans-4c\" transform=\"scale(0.015625)\"/>\r\n      <path d=\"M 581 4863 \r\nL 1159 4863 \r\nL 1159 1991 \r\nL 2875 3500 \r\nL 3609 3500 \r\nL 1753 1863 \r\nL 3688 0 \r\nL 2938 0 \r\nL 1159 1709 \r\nL 1159 0 \r\nL 581 0 \r\nL 581 4863 \r\nz\r\n\" id=\"DejaVuSans-6b\" transform=\"scale(0.015625)\"/>\r\n      <path d=\"M 269 3500 \r\nL 844 3500 \r\nL 1563 769 \r\nL 2278 3500 \r\nL 2956 3500 \r\nL 3675 769 \r\nL 4391 3500 \r\nL 4966 3500 \r\nL 4050 0 \r\nL 3372 0 \r\nL 2619 2869 \r\nL 1863 0 \r\nL 1184 0 \r\nL 269 3500 \r\nz\r\n\" id=\"DejaVuSans-77\" transform=\"scale(0.015625)\"/>\r\n     </defs>\r\n     <use xlink:href=\"#DejaVuSans-4c\"/>\r\n     <use x=\"55.712891\" xlink:href=\"#DejaVuSans-61\"/>\r\n     <use x=\"116.992188\" xlink:href=\"#DejaVuSans-6b\"/>\r\n     <use x=\"174.902344\" xlink:href=\"#DejaVuSans-73\"/>\r\n     <use x=\"227.001953\" xlink:href=\"#DejaVuSans-68\"/>\r\n     <use x=\"290.380859\" xlink:href=\"#DejaVuSans-61\"/>\r\n     <use x=\"351.660156\" xlink:href=\"#DejaVuSans-64\"/>\r\n     <use x=\"415.136719\" xlink:href=\"#DejaVuSans-77\"/>\r\n     <use x=\"496.923828\" xlink:href=\"#DejaVuSans-65\"/>\r\n     <use x=\"558.447266\" xlink:href=\"#DejaVuSans-65\"/>\r\n     <use x=\"619.970703\" xlink:href=\"#DejaVuSans-70\"/>\r\n    </g>\r\n   </g>\r\n   <g id=\"text_14\">\r\n    <!-- Jammu And Kashmir -->\r\n    <g transform=\"translate(233.106287 178.609091)scale(0.14 -0.14)\">\r\n     <defs>\r\n      <path d=\"M 628 4666 \r\nL 1259 4666 \r\nL 1259 325 \r\nQ 1259 -519 939 -900 \r\nQ 619 -1281 -91 -1281 \r\nL -331 -1281 \r\nL -331 -750 \r\nL -134 -750 \r\nQ 284 -750 456 -515 \r\nQ 628 -281 628 325 \r\nL 628 4666 \r\nz\r\n\" id=\"DejaVuSans-4a\" transform=\"scale(0.015625)\"/>\r\n      <path d=\"M 544 1381 \r\nL 544 3500 \r\nL 1119 3500 \r\nL 1119 1403 \r\nQ 1119 906 1312 657 \r\nQ 1506 409 1894 409 \r\nQ 2359 409 2629 706 \r\nQ 2900 1003 2900 1516 \r\nL 2900 3500 \r\nL 3475 3500 \r\nL 3475 0 \r\nL 2900 0 \r\nL 2900 538 \r\nQ 2691 219 2414 64 \r\nQ 2138 -91 1772 -91 \r\nQ 1169 -91 856 284 \r\nQ 544 659 544 1381 \r\nz\r\nM 1991 3584 \r\nL 1991 3584 \r\nz\r\n\" id=\"DejaVuSans-75\" transform=\"scale(0.015625)\"/>\r\n      <path d=\"M 628 4666 \r\nL 1259 4666 \r\nL 1259 2694 \r\nL 3353 4666 \r\nL 4166 4666 \r\nL 1850 2491 \r\nL 4331 0 \r\nL 3500 0 \r\nL 1259 2247 \r\nL 1259 0 \r\nL 628 0 \r\nL 628 4666 \r\nz\r\n\" id=\"DejaVuSans-4b\" transform=\"scale(0.015625)\"/>\r\n     </defs>\r\n     <use xlink:href=\"#DejaVuSans-4a\"/>\r\n     <use x=\"29.492188\" xlink:href=\"#DejaVuSans-61\"/>\r\n     <use x=\"90.771484\" xlink:href=\"#DejaVuSans-6d\"/>\r\n     <use x=\"188.183594\" xlink:href=\"#DejaVuSans-6d\"/>\r\n     <use x=\"285.595703\" xlink:href=\"#DejaVuSans-75\"/>\r\n     <use x=\"348.974609\" xlink:href=\"#DejaVuSans-20\"/>\r\n     <use x=\"380.761719\" xlink:href=\"#DejaVuSans-41\"/>\r\n     <use x=\"449.169922\" xlink:href=\"#DejaVuSans-6e\"/>\r\n     <use x=\"512.548828\" xlink:href=\"#DejaVuSans-64\"/>\r\n     <use x=\"576.025391\" xlink:href=\"#DejaVuSans-20\"/>\r\n     <use x=\"607.8125\" xlink:href=\"#DejaVuSans-4b\"/>\r\n     <use x=\"671.638672\" xlink:href=\"#DejaVuSans-61\"/>\r\n     <use x=\"732.917969\" xlink:href=\"#DejaVuSans-73\"/>\r\n     <use x=\"785.017578\" xlink:href=\"#DejaVuSans-68\"/>\r\n     <use x=\"848.396484\" xlink:href=\"#DejaVuSans-6d\"/>\r\n     <use x=\"945.808594\" xlink:href=\"#DejaVuSans-69\"/>\r\n     <use x=\"973.591797\" xlink:href=\"#DejaVuSans-72\"/>\r\n    </g>\r\n   </g>\r\n  </g>\r\n  <g id=\"axes_2\">\r\n   <g id=\"patch_11\">\r\n    <path d=\"M 907.783937 344.290909 \r\nL 1534.183937 344.290909 \r\nL 1534.183937 79.2 \r\nL 907.783937 79.2 \r\nz\r\n\" style=\"fill:#f0f0f0;\"/>\r\n   </g>\r\n   <g id=\"matplotlib.axis_3\">\r\n    <g id=\"xtick_7\">\r\n     <g id=\"line2d_41\">\r\n      <path clip-path=\"url(#p2a87e98a28)\" d=\"M 1002.412452 344.290909 \r\nL 1002.412452 79.2 \r\n\" style=\"fill:none;stroke:#cbcbcb;\"/>\r\n     </g>\r\n     <g id=\"line2d_42\"/>\r\n     <g id=\"text_15\">\r\n      <!-- 70 -->\r\n      <g transform=\"translate(993.504952 358.428722)scale(0.14 -0.14)\">\r\n       <defs>\r\n        <path d=\"M 525 4666 \r\nL 3525 4666 \r\nL 3525 4397 \r\nL 1831 0 \r\nL 1172 0 \r\nL 2766 4134 \r\nL 525 4134 \r\nL 525 4666 \r\nz\r\n\" id=\"DejaVuSans-37\" transform=\"scale(0.015625)\"/>\r\n       </defs>\r\n       <use xlink:href=\"#DejaVuSans-37\"/>\r\n       <use x=\"63.623047\" xlink:href=\"#DejaVuSans-30\"/>\r\n      </g>\r\n     </g>\r\n    </g>\r\n    <g id=\"xtick_8\">\r\n     <g id=\"line2d_43\">\r\n      <path clip-path=\"url(#p2a87e98a28)\" d=\"M 1121.665786 344.290909 \r\nL 1121.665786 79.2 \r\n\" style=\"fill:none;stroke:#cbcbcb;\"/>\r\n     </g>\r\n     <g id=\"line2d_44\"/>\r\n     <g id=\"text_16\">\r\n      <!-- 80 -->\r\n      <g transform=\"translate(1112.758286 358.428722)scale(0.14 -0.14)\">\r\n       <use xlink:href=\"#DejaVuSans-38\"/>\r\n       <use x=\"63.623047\" xlink:href=\"#DejaVuSans-30\"/>\r\n      </g>\r\n     </g>\r\n    </g>\r\n    <g id=\"xtick_9\">\r\n     <g id=\"line2d_45\">\r\n      <path clip-path=\"url(#p2a87e98a28)\" d=\"M 1240.91912 344.290909 \r\nL 1240.91912 79.2 \r\n\" style=\"fill:none;stroke:#cbcbcb;\"/>\r\n     </g>\r\n     <g id=\"line2d_46\"/>\r\n     <g id=\"text_17\">\r\n      <!-- 90 -->\r\n      <g transform=\"translate(1232.01162 358.428722)scale(0.14 -0.14)\">\r\n       <defs>\r\n        <path d=\"M 703 97 \r\nL 703 672 \r\nQ 941 559 1184 500 \r\nQ 1428 441 1663 441 \r\nQ 2288 441 2617 861 \r\nQ 2947 1281 2994 2138 \r\nQ 2813 1869 2534 1725 \r\nQ 2256 1581 1919 1581 \r\nQ 1219 1581 811 2004 \r\nQ 403 2428 403 3163 \r\nQ 403 3881 828 4315 \r\nQ 1253 4750 1959 4750 \r\nQ 2769 4750 3195 4129 \r\nQ 3622 3509 3622 2328 \r\nQ 3622 1225 3098 567 \r\nQ 2575 -91 1691 -91 \r\nQ 1453 -91 1209 -44 \r\nQ 966 3 703 97 \r\nz\r\nM 1959 2075 \r\nQ 2384 2075 2632 2365 \r\nQ 2881 2656 2881 3163 \r\nQ 2881 3666 2632 3958 \r\nQ 2384 4250 1959 4250 \r\nQ 1534 4250 1286 3958 \r\nQ 1038 3666 1038 3163 \r\nQ 1038 2656 1286 2365 \r\nQ 1534 2075 1959 2075 \r\nz\r\n\" id=\"DejaVuSans-39\" transform=\"scale(0.015625)\"/>\r\n       </defs>\r\n       <use xlink:href=\"#DejaVuSans-39\"/>\r\n       <use x=\"63.623047\" xlink:href=\"#DejaVuSans-30\"/>\r\n      </g>\r\n     </g>\r\n    </g>\r\n    <g id=\"xtick_10\">\r\n     <g id=\"line2d_47\">\r\n      <path clip-path=\"url(#p2a87e98a28)\" d=\"M 1360.172454 344.290909 \r\nL 1360.172454 79.2 \r\n\" style=\"fill:none;stroke:#cbcbcb;\"/>\r\n     </g>\r\n     <g id=\"line2d_48\"/>\r\n     <g id=\"text_18\">\r\n      <!-- 100 -->\r\n      <g transform=\"translate(1346.811204 358.428722)scale(0.14 -0.14)\">\r\n       <use xlink:href=\"#DejaVuSans-31\"/>\r\n       <use x=\"63.623047\" xlink:href=\"#DejaVuSans-30\"/>\r\n       <use x=\"127.246094\" xlink:href=\"#DejaVuSans-30\"/>\r\n      </g>\r\n     </g>\r\n    </g>\r\n    <g id=\"xtick_11\">\r\n     <g id=\"line2d_49\">\r\n      <path clip-path=\"url(#p2a87e98a28)\" d=\"M 1479.425788 344.290909 \r\nL 1479.425788 79.2 \r\n\" style=\"fill:none;stroke:#cbcbcb;\"/>\r\n     </g>\r\n     <g id=\"line2d_50\"/>\r\n     <g id=\"text_19\">\r\n      <!-- 110 -->\r\n      <g transform=\"translate(1466.064538 358.428722)scale(0.14 -0.14)\">\r\n       <use xlink:href=\"#DejaVuSans-31\"/>\r\n       <use x=\"63.623047\" xlink:href=\"#DejaVuSans-31\"/>\r\n       <use x=\"127.246094\" xlink:href=\"#DejaVuSans-30\"/>\r\n      </g>\r\n     </g>\r\n    </g>\r\n    <g id=\"text_20\">\r\n     <!-- Average enrollment rates(%) -->\r\n     <g transform=\"translate(1099.644625 378.105659)scale(0.168 -0.168)\">\r\n      <use xlink:href=\"#DejaVuSans-41\"/>\r\n      <use x=\"62.533203\" xlink:href=\"#DejaVuSans-76\"/>\r\n      <use x=\"121.712891\" xlink:href=\"#DejaVuSans-65\"/>\r\n      <use x=\"183.236328\" xlink:href=\"#DejaVuSans-72\"/>\r\n      <use x=\"224.349609\" xlink:href=\"#DejaVuSans-61\"/>\r\n      <use x=\"285.628906\" xlink:href=\"#DejaVuSans-67\"/>\r\n      <use x=\"349.105469\" xlink:href=\"#DejaVuSans-65\"/>\r\n      <use x=\"410.628906\" xlink:href=\"#DejaVuSans-20\"/>\r\n      <use x=\"442.416016\" xlink:href=\"#DejaVuSans-65\"/>\r\n      <use x=\"503.939453\" xlink:href=\"#DejaVuSans-6e\"/>\r\n      <use x=\"567.318359\" xlink:href=\"#DejaVuSans-72\"/>\r\n      <use x=\"606.181641\" xlink:href=\"#DejaVuSans-6f\"/>\r\n      <use x=\"667.363281\" xlink:href=\"#DejaVuSans-6c\"/>\r\n      <use x=\"695.146484\" xlink:href=\"#DejaVuSans-6c\"/>\r\n      <use x=\"722.929688\" xlink:href=\"#DejaVuSans-6d\"/>\r\n      <use x=\"820.341797\" xlink:href=\"#DejaVuSans-65\"/>\r\n      <use x=\"881.865234\" xlink:href=\"#DejaVuSans-6e\"/>\r\n      <use x=\"945.244141\" xlink:href=\"#DejaVuSans-74\"/>\r\n      <use x=\"984.453125\" xlink:href=\"#DejaVuSans-20\"/>\r\n      <use x=\"1016.240234\" xlink:href=\"#DejaVuSans-72\"/>\r\n      <use x=\"1057.353516\" xlink:href=\"#DejaVuSans-61\"/>\r\n      <use x=\"1118.632812\" xlink:href=\"#DejaVuSans-74\"/>\r\n      <use x=\"1157.841797\" xlink:href=\"#DejaVuSans-65\"/>\r\n      <use x=\"1219.365234\" xlink:href=\"#DejaVuSans-73\"/>\r\n      <use x=\"1271.464844\" xlink:href=\"#DejaVuSans-28\"/>\r\n      <use x=\"1310.478516\" xlink:href=\"#DejaVuSans-25\"/>\r\n      <use x=\"1405.498047\" xlink:href=\"#DejaVuSans-29\"/>\r\n     </g>\r\n    </g>\r\n   </g>\r\n   <g id=\"matplotlib.axis_4\">\r\n    <g id=\"ytick_5\">\r\n     <g id=\"line2d_51\"/>\r\n     <g id=\"text_21\">\r\n      <!-- Boys -->\r\n      <g transform=\"translate(870.533 150.791634)scale(0.14 -0.14)\">\r\n       <defs>\r\n        <path d=\"M 1259 2228 \r\nL 1259 519 \r\nL 2272 519 \r\nQ 2781 519 3026 730 \r\nQ 3272 941 3272 1375 \r\nQ 3272 1813 3026 2020 \r\nQ 2781 2228 2272 2228 \r\nL 1259 2228 \r\nz\r\nM 1259 4147 \r\nL 1259 2741 \r\nL 2194 2741 \r\nQ 2656 2741 2882 2914 \r\nQ 3109 3088 3109 3444 \r\nQ 3109 3797 2882 3972 \r\nQ 2656 4147 2194 4147 \r\nL 1259 4147 \r\nz\r\nM 628 4666 \r\nL 2241 4666 \r\nQ 2963 4666 3353 4366 \r\nQ 3744 4066 3744 3513 \r\nQ 3744 3084 3544 2831 \r\nQ 3344 2578 2956 2516 \r\nQ 3422 2416 3680 2098 \r\nQ 3938 1781 3938 1306 \r\nQ 3938 681 3513 340 \r\nQ 3088 0 2303 0 \r\nL 628 0 \r\nL 628 4666 \r\nz\r\n\" id=\"DejaVuSans-42\" transform=\"scale(0.015625)\"/>\r\n       </defs>\r\n       <use xlink:href=\"#DejaVuSans-42\"/>\r\n       <use x=\"68.603516\" xlink:href=\"#DejaVuSans-6f\"/>\r\n       <use x=\"129.785156\" xlink:href=\"#DejaVuSans-79\"/>\r\n       <use x=\"188.964844\" xlink:href=\"#DejaVuSans-73\"/>\r\n      </g>\r\n     </g>\r\n    </g>\r\n    <g id=\"ytick_6\">\r\n     <g id=\"line2d_52\"/>\r\n     <g id=\"text_22\">\r\n      <!-- Girls -->\r\n      <g transform=\"translate(872.608938 283.337088)scale(0.14 -0.14)\">\r\n       <defs>\r\n        <path d=\"M 3809 666 \r\nL 3809 1919 \r\nL 2778 1919 \r\nL 2778 2438 \r\nL 4434 2438 \r\nL 4434 434 \r\nQ 4069 175 3628 42 \r\nQ 3188 -91 2688 -91 \r\nQ 1594 -91 976 548 \r\nQ 359 1188 359 2328 \r\nQ 359 3472 976 4111 \r\nQ 1594 4750 2688 4750 \r\nQ 3144 4750 3555 4637 \r\nQ 3966 4525 4313 4306 \r\nL 4313 3634 \r\nQ 3963 3931 3569 4081 \r\nQ 3175 4231 2741 4231 \r\nQ 1884 4231 1454 3753 \r\nQ 1025 3275 1025 2328 \r\nQ 1025 1384 1454 906 \r\nQ 1884 428 2741 428 \r\nQ 3075 428 3337 486 \r\nQ 3600 544 3809 666 \r\nz\r\n\" id=\"DejaVuSans-47\" transform=\"scale(0.015625)\"/>\r\n       </defs>\r\n       <use xlink:href=\"#DejaVuSans-47\"/>\r\n       <use x=\"77.490234\" xlink:href=\"#DejaVuSans-69\"/>\r\n       <use x=\"105.273438\" xlink:href=\"#DejaVuSans-72\"/>\r\n       <use x=\"146.386719\" xlink:href=\"#DejaVuSans-6c\"/>\r\n       <use x=\"174.169922\" xlink:href=\"#DejaVuSans-73\"/>\r\n      </g>\r\n     </g>\r\n    </g>\r\n    <g id=\"text_23\">\r\n     <!-- Sex -->\r\n     <g transform=\"translate(863.039125 227.071517)rotate(-90)scale(0.168 -0.168)\">\r\n      <defs>\r\n       <path d=\"M 3513 3500 \r\nL 2247 1797 \r\nL 3578 0 \r\nL 2900 0 \r\nL 1881 1375 \r\nL 863 0 \r\nL 184 0 \r\nL 1544 1831 \r\nL 300 3500 \r\nL 978 3500 \r\nL 1906 2253 \r\nL 2834 3500 \r\nL 3513 3500 \r\nz\r\n\" id=\"DejaVuSans-78\" transform=\"scale(0.015625)\"/>\r\n      </defs>\r\n      <use xlink:href=\"#DejaVuSans-53\"/>\r\n      <use x=\"63.476562\" xlink:href=\"#DejaVuSans-65\"/>\r\n      <use x=\"123.25\" xlink:href=\"#DejaVuSans-78\"/>\r\n     </g>\r\n    </g>\r\n   </g>\r\n   <g id=\"patch_12\">\r\n    <path clip-path=\"url(#p2a87e98a28)\" d=\"M 1100.423786 92.454545 \r\nL 1100.423786 198.490909 \r\nL 1277.25412 198.490909 \r\nL 1277.25412 92.454545 \r\nL 1100.423786 92.454545 \r\nz\r\n\" style=\"fill:#1b86ba;stroke:#404040;stroke-linejoin:miter;stroke-width:4;\"/>\r\n   </g>\r\n   <g id=\"patch_13\">\r\n    <path clip-path=\"url(#p2a87e98a28)\" d=\"M 1114.845986 225 \r\nL 1114.845986 331.036364 \r\nL 1298.861333 331.036364 \r\nL 1298.861333 225 \r\nL 1114.845986 225 \r\nz\r\n\" style=\"fill:#e36149;stroke:#404040;stroke-linejoin:miter;stroke-width:4;\"/>\r\n   </g>\r\n   <g id=\"line2d_53\">\r\n    <path clip-path=\"url(#p2a87e98a28)\" d=\"M 1100.423786 145.472727 \r\nL 936.256665 145.472727 \r\n\" style=\"fill:none;stroke:#404040;stroke-width:4;\"/>\r\n   </g>\r\n   <g id=\"line2d_54\">\r\n    <path clip-path=\"url(#p2a87e98a28)\" d=\"M 1277.25412 145.472727 \r\nL 1414.21409 145.472727 \r\n\" style=\"fill:none;stroke:#404040;stroke-width:4;\"/>\r\n   </g>\r\n   <g id=\"line2d_55\">\r\n    <path clip-path=\"url(#p2a87e98a28)\" d=\"M 936.256665 118.963636 \r\nL 936.256665 171.981818 \r\n\" style=\"fill:none;stroke:#404040;stroke-width:4;\"/>\r\n   </g>\r\n   <g id=\"line2d_56\">\r\n    <path clip-path=\"url(#p2a87e98a28)\" d=\"M 1414.21409 118.963636 \r\nL 1414.21409 171.981818 \r\n\" style=\"fill:none;stroke:#404040;stroke-width:4;\"/>\r\n   </g>\r\n   <g id=\"line2d_57\"/>\r\n   <g id=\"line2d_58\">\r\n    <path clip-path=\"url(#p2a87e98a28)\" d=\"M 1114.845986 278.018182 \r\nL 994.432416 278.018182 \r\n\" style=\"fill:none;stroke:#404040;stroke-width:4;\"/>\r\n   </g>\r\n   <g id=\"line2d_59\">\r\n    <path clip-path=\"url(#p2a87e98a28)\" d=\"M 1298.861333 278.018182 \r\nL 1505.71121 278.018182 \r\n\" style=\"fill:none;stroke:#404040;stroke-width:4;\"/>\r\n   </g>\r\n   <g id=\"line2d_60\">\r\n    <path clip-path=\"url(#p2a87e98a28)\" d=\"M 994.432416 251.509091 \r\nL 994.432416 304.527273 \r\n\" style=\"fill:none;stroke:#404040;stroke-width:4;\"/>\r\n   </g>\r\n   <g id=\"line2d_61\">\r\n    <path clip-path=\"url(#p2a87e98a28)\" d=\"M 1505.71121 251.509091 \r\nL 1505.71121 304.527273 \r\n\" style=\"fill:none;stroke:#404040;stroke-width:4;\"/>\r\n   </g>\r\n   <g id=\"line2d_62\"/>\r\n   <g id=\"line2d_63\">\r\n    <path clip-path=\"url(#p2a87e98a28)\" d=\"M 1193.699768 92.454545 \r\nL 1193.699768 198.490909 \r\n\" style=\"fill:none;stroke:#404040;stroke-width:4;\"/>\r\n   </g>\r\n   <g id=\"line2d_64\">\r\n    <path clip-path=\"url(#p2a87e98a28)\" d=\"M 1224.7752 225 \r\nL 1224.7752 331.036364 \r\n\" style=\"fill:none;stroke:#404040;stroke-width:4;\"/>\r\n   </g>\r\n   <g id=\"patch_14\">\r\n    <path d=\"M 907.783937 344.290909 \r\nL 907.783937 79.2 \r\n\" style=\"fill:none;stroke:#f0f0f0;stroke-linecap:square;stroke-linejoin:miter;stroke-width:3;\"/>\r\n   </g>\r\n   <g id=\"patch_15\">\r\n    <path d=\"M 1534.183937 344.290909 \r\nL 1534.183937 79.2 \r\n\" style=\"fill:none;stroke:#f0f0f0;stroke-linecap:square;stroke-linejoin:miter;stroke-width:3;\"/>\r\n   </g>\r\n   <g id=\"patch_16\">\r\n    <path d=\"M 907.783937 344.290909 \r\nL 1534.183937 344.290909 \r\n\" style=\"fill:none;stroke:#f0f0f0;stroke-linecap:square;stroke-linejoin:miter;stroke-width:3;\"/>\r\n   </g>\r\n   <g id=\"patch_17\">\r\n    <path d=\"M 907.783937 79.2 \r\nL 1534.183937 79.2 \r\n\" style=\"fill:none;stroke:#f0f0f0;stroke-linecap:square;stroke-linejoin:miter;stroke-width:3;\"/>\r\n   </g>\r\n  </g>\r\n  <g id=\"axes_3\">\r\n   <g id=\"patch_18\">\r\n    <path d=\"M 156.103938 662.4 \r\nL 782.503938 662.4 \r\nL 782.503938 397.309091 \r\nL 156.103938 397.309091 \r\nz\r\n\" style=\"fill:#f0f0f0;\"/>\r\n   </g>\r\n   <g id=\"matplotlib.axis_5\">\r\n    <g id=\"xtick_12\">\r\n     <g id=\"line2d_65\">\r\n      <path clip-path=\"url(#pe78dc60d0e)\" d=\"M 184.576665 662.4 \r\nL 184.576665 397.309091 \r\n\" style=\"fill:none;stroke:#cbcbcb;\"/>\r\n     </g>\r\n     <g id=\"line2d_66\"/>\r\n     <g id=\"text_24\">\r\n      <!-- 0 -->\r\n      <g transform=\"translate(180.122915 676.537812)scale(0.14 -0.14)\">\r\n       <use xlink:href=\"#DejaVuSans-30\"/>\r\n      </g>\r\n     </g>\r\n    </g>\r\n    <g id=\"xtick_13\">\r\n     <g id=\"line2d_67\">\r\n      <path clip-path=\"url(#pe78dc60d0e)\" d=\"M 317.110694 662.4 \r\nL 317.110694 397.309091 \r\n\" style=\"fill:none;stroke:#cbcbcb;\"/>\r\n     </g>\r\n     <g id=\"line2d_68\"/>\r\n     <g id=\"text_25\">\r\n      <!-- 10 -->\r\n      <g transform=\"translate(308.203194 676.537812)scale(0.14 -0.14)\">\r\n       <use xlink:href=\"#DejaVuSans-31\"/>\r\n       <use x=\"63.623047\" xlink:href=\"#DejaVuSans-30\"/>\r\n      </g>\r\n     </g>\r\n    </g>\r\n    <g id=\"xtick_14\">\r\n     <g id=\"line2d_69\">\r\n      <path clip-path=\"url(#pe78dc60d0e)\" d=\"M 449.644723 662.4 \r\nL 449.644723 397.309091 \r\n\" style=\"fill:none;stroke:#cbcbcb;\"/>\r\n     </g>\r\n     <g id=\"line2d_70\"/>\r\n     <g id=\"text_26\">\r\n      <!-- 20 -->\r\n      <g transform=\"translate(440.737223 676.537812)scale(0.14 -0.14)\">\r\n       <use xlink:href=\"#DejaVuSans-32\"/>\r\n       <use x=\"63.623047\" xlink:href=\"#DejaVuSans-30\"/>\r\n      </g>\r\n     </g>\r\n    </g>\r\n    <g id=\"xtick_15\">\r\n     <g id=\"line2d_71\">\r\n      <path clip-path=\"url(#pe78dc60d0e)\" d=\"M 582.178752 662.4 \r\nL 582.178752 397.309091 \r\n\" style=\"fill:none;stroke:#cbcbcb;\"/>\r\n     </g>\r\n     <g id=\"line2d_72\"/>\r\n     <g id=\"text_27\">\r\n      <!-- 30 -->\r\n      <g transform=\"translate(573.271252 676.537812)scale(0.14 -0.14)\">\r\n       <defs>\r\n        <path d=\"M 2597 2516 \r\nQ 3050 2419 3304 2112 \r\nQ 3559 1806 3559 1356 \r\nQ 3559 666 3084 287 \r\nQ 2609 -91 1734 -91 \r\nQ 1441 -91 1130 -33 \r\nQ 819 25 488 141 \r\nL 488 750 \r\nQ 750 597 1062 519 \r\nQ 1375 441 1716 441 \r\nQ 2309 441 2620 675 \r\nQ 2931 909 2931 1356 \r\nQ 2931 1769 2642 2001 \r\nQ 2353 2234 1838 2234 \r\nL 1294 2234 \r\nL 1294 2753 \r\nL 1863 2753 \r\nQ 2328 2753 2575 2939 \r\nQ 2822 3125 2822 3475 \r\nQ 2822 3834 2567 4026 \r\nQ 2313 4219 1838 4219 \r\nQ 1578 4219 1281 4162 \r\nQ 984 4106 628 3988 \r\nL 628 4550 \r\nQ 988 4650 1302 4700 \r\nQ 1616 4750 1894 4750 \r\nQ 2613 4750 3031 4423 \r\nQ 3450 4097 3450 3541 \r\nQ 3450 3153 3228 2886 \r\nQ 3006 2619 2597 2516 \r\nz\r\n\" id=\"DejaVuSans-33\" transform=\"scale(0.015625)\"/>\r\n       </defs>\r\n       <use xlink:href=\"#DejaVuSans-33\"/>\r\n       <use x=\"63.623047\" xlink:href=\"#DejaVuSans-30\"/>\r\n      </g>\r\n     </g>\r\n    </g>\r\n    <g id=\"xtick_16\">\r\n     <g id=\"line2d_73\">\r\n      <path clip-path=\"url(#pe78dc60d0e)\" d=\"M 714.712782 662.4 \r\nL 714.712782 397.309091 \r\n\" style=\"fill:none;stroke:#cbcbcb;\"/>\r\n     </g>\r\n     <g id=\"line2d_74\"/>\r\n     <g id=\"text_28\">\r\n      <!-- 40 -->\r\n      <g transform=\"translate(705.805282 676.537812)scale(0.14 -0.14)\">\r\n       <use xlink:href=\"#DejaVuSans-34\"/>\r\n       <use x=\"63.623047\" xlink:href=\"#DejaVuSans-30\"/>\r\n      </g>\r\n     </g>\r\n    </g>\r\n    <g id=\"text_29\">\r\n     <!-- Average dropout rates(%) -->\r\n     <g transform=\"translate(360.669625 696.21475)scale(0.168 -0.168)\">\r\n      <use xlink:href=\"#DejaVuSans-41\"/>\r\n      <use x=\"62.533203\" xlink:href=\"#DejaVuSans-76\"/>\r\n      <use x=\"121.712891\" xlink:href=\"#DejaVuSans-65\"/>\r\n      <use x=\"183.236328\" xlink:href=\"#DejaVuSans-72\"/>\r\n      <use x=\"224.349609\" xlink:href=\"#DejaVuSans-61\"/>\r\n      <use x=\"285.628906\" xlink:href=\"#DejaVuSans-67\"/>\r\n      <use x=\"349.105469\" xlink:href=\"#DejaVuSans-65\"/>\r\n      <use x=\"410.628906\" xlink:href=\"#DejaVuSans-20\"/>\r\n      <use x=\"442.416016\" xlink:href=\"#DejaVuSans-64\"/>\r\n      <use x=\"505.892578\" xlink:href=\"#DejaVuSans-72\"/>\r\n      <use x=\"544.755859\" xlink:href=\"#DejaVuSans-6f\"/>\r\n      <use x=\"605.9375\" xlink:href=\"#DejaVuSans-70\"/>\r\n      <use x=\"669.414062\" xlink:href=\"#DejaVuSans-6f\"/>\r\n      <use x=\"730.595703\" xlink:href=\"#DejaVuSans-75\"/>\r\n      <use x=\"793.974609\" xlink:href=\"#DejaVuSans-74\"/>\r\n      <use x=\"833.183594\" xlink:href=\"#DejaVuSans-20\"/>\r\n      <use x=\"864.970703\" xlink:href=\"#DejaVuSans-72\"/>\r\n      <use x=\"906.083984\" xlink:href=\"#DejaVuSans-61\"/>\r\n      <use x=\"967.363281\" xlink:href=\"#DejaVuSans-74\"/>\r\n      <use x=\"1006.572266\" xlink:href=\"#DejaVuSans-65\"/>\r\n      <use x=\"1068.095703\" xlink:href=\"#DejaVuSans-73\"/>\r\n      <use x=\"1120.195312\" xlink:href=\"#DejaVuSans-28\"/>\r\n      <use x=\"1159.208984\" xlink:href=\"#DejaVuSans-25\"/>\r\n      <use x=\"1254.228516\" xlink:href=\"#DejaVuSans-29\"/>\r\n     </g>\r\n    </g>\r\n   </g>\r\n   <g id=\"matplotlib.axis_6\">\r\n    <g id=\"ytick_7\">\r\n     <g id=\"line2d_75\"/>\r\n     <g id=\"text_30\">\r\n      <!-- Primary -->\r\n      <g transform=\"translate(98.504875 435.764361)scale(0.14 -0.14)\">\r\n       <use xlink:href=\"#DejaVuSans-50\"/>\r\n       <use x=\"58.552734\" xlink:href=\"#DejaVuSans-72\"/>\r\n       <use x=\"99.666016\" xlink:href=\"#DejaVuSans-69\"/>\r\n       <use x=\"127.449219\" xlink:href=\"#DejaVuSans-6d\"/>\r\n       <use x=\"224.861328\" xlink:href=\"#DejaVuSans-61\"/>\r\n       <use x=\"286.140625\" xlink:href=\"#DejaVuSans-72\"/>\r\n       <use x=\"327.253906\" xlink:href=\"#DejaVuSans-79\"/>\r\n      </g>\r\n     </g>\r\n    </g>\r\n    <g id=\"ytick_8\">\r\n     <g id=\"line2d_76\"/>\r\n     <g id=\"text_31\">\r\n      <!-- Upper Primary -->\r\n      <g transform=\"translate(51.663938 502.037088)scale(0.14 -0.14)\">\r\n       <use xlink:href=\"#DejaVuSans-55\"/>\r\n       <use x=\"73.193359\" xlink:href=\"#DejaVuSans-70\"/>\r\n       <use x=\"136.669922\" xlink:href=\"#DejaVuSans-70\"/>\r\n       <use x=\"200.146484\" xlink:href=\"#DejaVuSans-65\"/>\r\n       <use x=\"261.669922\" xlink:href=\"#DejaVuSans-72\"/>\r\n       <use x=\"302.783203\" xlink:href=\"#DejaVuSans-20\"/>\r\n       <use x=\"334.570312\" xlink:href=\"#DejaVuSans-50\"/>\r\n       <use x=\"393.123047\" xlink:href=\"#DejaVuSans-72\"/>\r\n       <use x=\"434.236328\" xlink:href=\"#DejaVuSans-69\"/>\r\n       <use x=\"462.019531\" xlink:href=\"#DejaVuSans-6d\"/>\r\n       <use x=\"559.431641\" xlink:href=\"#DejaVuSans-61\"/>\r\n       <use x=\"620.710938\" xlink:href=\"#DejaVuSans-72\"/>\r\n       <use x=\"661.824219\" xlink:href=\"#DejaVuSans-79\"/>\r\n      </g>\r\n     </g>\r\n    </g>\r\n    <g id=\"ytick_9\">\r\n     <g id=\"line2d_77\"/>\r\n     <g id=\"text_32\">\r\n      <!-- Secondary -->\r\n      <g transform=\"translate(78.456438 568.309815)scale(0.14 -0.14)\">\r\n       <use xlink:href=\"#DejaVuSans-53\"/>\r\n       <use x=\"63.476562\" xlink:href=\"#DejaVuSans-65\"/>\r\n       <use x=\"125\" xlink:href=\"#DejaVuSans-63\"/>\r\n       <use x=\"179.980469\" xlink:href=\"#DejaVuSans-6f\"/>\r\n       <use x=\"241.162109\" xlink:href=\"#DejaVuSans-6e\"/>\r\n       <use x=\"304.541016\" xlink:href=\"#DejaVuSans-64\"/>\r\n       <use x=\"368.017578\" xlink:href=\"#DejaVuSans-61\"/>\r\n       <use x=\"429.296875\" xlink:href=\"#DejaVuSans-72\"/>\r\n       <use x=\"470.410156\" xlink:href=\"#DejaVuSans-79\"/>\r\n      </g>\r\n     </g>\r\n    </g>\r\n    <g id=\"ytick_10\">\r\n     <g id=\"line2d_78\"/>\r\n     <g id=\"text_33\">\r\n      <!-- Higher Secondary -->\r\n      <g transform=\"translate(27.45925 634.582543)scale(0.14 -0.14)\">\r\n       <use xlink:href=\"#DejaVuSans-48\"/>\r\n       <use x=\"75.195312\" xlink:href=\"#DejaVuSans-69\"/>\r\n       <use x=\"102.978516\" xlink:href=\"#DejaVuSans-67\"/>\r\n       <use x=\"166.455078\" xlink:href=\"#DejaVuSans-68\"/>\r\n       <use x=\"229.833984\" xlink:href=\"#DejaVuSans-65\"/>\r\n       <use x=\"291.357422\" xlink:href=\"#DejaVuSans-72\"/>\r\n       <use x=\"332.470703\" xlink:href=\"#DejaVuSans-20\"/>\r\n       <use x=\"364.257812\" xlink:href=\"#DejaVuSans-53\"/>\r\n       <use x=\"427.734375\" xlink:href=\"#DejaVuSans-65\"/>\r\n       <use x=\"489.257812\" xlink:href=\"#DejaVuSans-63\"/>\r\n       <use x=\"544.238281\" xlink:href=\"#DejaVuSans-6f\"/>\r\n       <use x=\"605.419922\" xlink:href=\"#DejaVuSans-6e\"/>\r\n       <use x=\"668.798828\" xlink:href=\"#DejaVuSans-64\"/>\r\n       <use x=\"732.275391\" xlink:href=\"#DejaVuSans-61\"/>\r\n       <use x=\"793.554688\" xlink:href=\"#DejaVuSans-72\"/>\r\n       <use x=\"834.667969\" xlink:href=\"#DejaVuSans-79\"/>\r\n      </g>\r\n     </g>\r\n    </g>\r\n    <g id=\"text_34\">\r\n     <!-- Section of school -->\r\n     <g transform=\"translate(19.965375 601.431733)rotate(-90)scale(0.168 -0.168)\">\r\n      <use xlink:href=\"#DejaVuSans-53\"/>\r\n      <use x=\"63.476562\" xlink:href=\"#DejaVuSans-65\"/>\r\n      <use x=\"125\" xlink:href=\"#DejaVuSans-63\"/>\r\n      <use x=\"179.980469\" xlink:href=\"#DejaVuSans-74\"/>\r\n      <use x=\"219.189453\" xlink:href=\"#DejaVuSans-69\"/>\r\n      <use x=\"246.972656\" xlink:href=\"#DejaVuSans-6f\"/>\r\n      <use x=\"308.154297\" xlink:href=\"#DejaVuSans-6e\"/>\r\n      <use x=\"371.533203\" xlink:href=\"#DejaVuSans-20\"/>\r\n      <use x=\"403.320312\" xlink:href=\"#DejaVuSans-6f\"/>\r\n      <use x=\"464.501953\" xlink:href=\"#DejaVuSans-66\"/>\r\n      <use x=\"499.707031\" xlink:href=\"#DejaVuSans-20\"/>\r\n      <use x=\"531.494141\" xlink:href=\"#DejaVuSans-73\"/>\r\n      <use x=\"583.59375\" xlink:href=\"#DejaVuSans-63\"/>\r\n      <use x=\"638.574219\" xlink:href=\"#DejaVuSans-68\"/>\r\n      <use x=\"701.953125\" xlink:href=\"#DejaVuSans-6f\"/>\r\n      <use x=\"763.134766\" xlink:href=\"#DejaVuSans-6f\"/>\r\n      <use x=\"824.316406\" xlink:href=\"#DejaVuSans-6c\"/>\r\n     </g>\r\n    </g>\r\n   </g>\r\n   <g id=\"patch_19\">\r\n    <path clip-path=\"url(#pe78dc60d0e)\" d=\"M 195.168343 403.936364 \r\nL 195.168343 456.954545 \r\nL 267.13432 456.954545 \r\nL 267.13432 403.936364 \r\nL 195.168343 403.936364 \r\nz\r\n\" style=\"fill:#1b86ba;stroke:#404040;stroke-linejoin:miter;stroke-width:4;\"/>\r\n   </g>\r\n   <g id=\"patch_20\">\r\n    <path clip-path=\"url(#pe78dc60d0e)\" d=\"M 205.483908 470.209091 \r\nL 205.483908 523.227273 \r\nL 254.090763 523.227273 \r\nL 254.090763 470.209091 \r\nL 205.483908 470.209091 \r\nz\r\n\" style=\"fill:#e36149;stroke:#404040;stroke-linejoin:miter;stroke-width:4;\"/>\r\n   </g>\r\n   <g id=\"patch_21\">\r\n    <path clip-path=\"url(#pe78dc60d0e)\" d=\"M 338.305094 536.481818 \r\nL 338.305094 589.5 \r\nL 467.117126 589.5 \r\nL 467.117126 536.481818 \r\nL 338.305094 536.481818 \r\nz\r\n\" style=\"fill:#cfa64e;stroke:#404040;stroke-linejoin:miter;stroke-width:4;\"/>\r\n   </g>\r\n   <g id=\"patch_22\">\r\n    <path clip-path=\"url(#pe78dc60d0e)\" d=\"M 215.059491 602.754545 \r\nL 215.059491 655.772727 \r\nL 302.785974 655.772727 \r\nL 302.785974 602.754545 \r\nL 215.059491 602.754545 \r\nz\r\n\" style=\"fill:#6e8857;stroke:#404040;stroke-linejoin:miter;stroke-width:4;\"/>\r\n   </g>\r\n   <g id=\"line2d_79\">\r\n    <path clip-path=\"url(#pe78dc60d0e)\" d=\"M 195.168343 430.445455 \r\nL 184.576665 430.445455 \r\n\" style=\"fill:none;stroke:#404040;stroke-width:4;\"/>\r\n   </g>\r\n   <g id=\"line2d_80\">\r\n    <path clip-path=\"url(#pe78dc60d0e)\" d=\"M 267.13432 430.445455 \r\nL 350.332557 430.445455 \r\n\" style=\"fill:none;stroke:#404040;stroke-width:4;\"/>\r\n   </g>\r\n   <g id=\"line2d_81\">\r\n    <path clip-path=\"url(#pe78dc60d0e)\" d=\"M 184.576665 417.190909 \r\nL 184.576665 443.7 \r\n\" style=\"fill:none;stroke:#404040;stroke-width:4;\"/>\r\n   </g>\r\n   <g id=\"line2d_82\">\r\n    <path clip-path=\"url(#pe78dc60d0e)\" d=\"M 350.332557 417.190909 \r\nL 350.332557 443.7 \r\n\" style=\"fill:none;stroke:#404040;stroke-width:4;\"/>\r\n   </g>\r\n   <g id=\"line2d_83\">\r\n    <g clip-path=\"url(#pe78dc60d0e)\">\r\n     <use style=\"fill:#404040;stroke:#404040;stroke-linejoin:miter;\" x=\"392.964337\" xlink:href=\"#madfae1f08e\" y=\"430.445455\"/>\r\n    </g>\r\n   </g>\r\n   <g id=\"line2d_84\">\r\n    <path clip-path=\"url(#pe78dc60d0e)\" d=\"M 205.483908 496.718182 \r\nL 184.576665 496.718182 \r\n\" style=\"fill:none;stroke:#404040;stroke-width:4;\"/>\r\n   </g>\r\n   <g id=\"line2d_85\">\r\n    <path clip-path=\"url(#pe78dc60d0e)\" d=\"M 254.090763 496.718182 \r\nL 317.464118 496.718182 \r\n\" style=\"fill:none;stroke:#404040;stroke-width:4;\"/>\r\n   </g>\r\n   <g id=\"line2d_86\">\r\n    <path clip-path=\"url(#pe78dc60d0e)\" d=\"M 184.576665 483.463636 \r\nL 184.576665 509.972727 \r\n\" style=\"fill:none;stroke:#404040;stroke-width:4;\"/>\r\n   </g>\r\n   <g id=\"line2d_87\">\r\n    <path clip-path=\"url(#pe78dc60d0e)\" d=\"M 317.464118 483.463636 \r\nL 317.464118 509.972727 \r\n\" style=\"fill:none;stroke:#404040;stroke-width:4;\"/>\r\n   </g>\r\n   <g id=\"line2d_88\">\r\n    <g clip-path=\"url(#pe78dc60d0e)\">\r\n     <use style=\"fill:#404040;stroke:#404040;stroke-linejoin:miter;\" x=\"341.894557\" xlink:href=\"#madfae1f08e\" y=\"496.718182\"/>\r\n    </g>\r\n   </g>\r\n   <g id=\"line2d_89\">\r\n    <path clip-path=\"url(#pe78dc60d0e)\" d=\"M 338.305094 562.990909 \r\nL 184.576665 562.990909 \r\n\" style=\"fill:none;stroke:#404040;stroke-width:4;\"/>\r\n   </g>\r\n   <g id=\"line2d_90\">\r\n    <path clip-path=\"url(#pe78dc60d0e)\" d=\"M 467.117126 562.990909 \r\nL 598.392082 562.990909 \r\n\" style=\"fill:none;stroke:#404040;stroke-width:4;\"/>\r\n   </g>\r\n   <g id=\"line2d_91\">\r\n    <path clip-path=\"url(#pe78dc60d0e)\" d=\"M 184.576665 549.736364 \r\nL 184.576665 576.245455 \r\n\" style=\"fill:none;stroke:#404040;stroke-width:4;\"/>\r\n   </g>\r\n   <g id=\"line2d_92\">\r\n    <path clip-path=\"url(#pe78dc60d0e)\" d=\"M 598.392082 549.736364 \r\nL 598.392082 576.245455 \r\n\" style=\"fill:none;stroke:#404040;stroke-width:4;\"/>\r\n   </g>\r\n   <g id=\"line2d_93\">\r\n    <g clip-path=\"url(#pe78dc60d0e)\">\r\n     <use style=\"fill:#404040;stroke:#404040;stroke-linejoin:miter;\" x=\"754.03121\" xlink:href=\"#madfae1f08e\" y=\"562.990909\"/>\r\n    </g>\r\n   </g>\r\n   <g id=\"line2d_94\">\r\n    <path clip-path=\"url(#pe78dc60d0e)\" d=\"M 215.059491 629.263636 \r\nL 184.576665 629.263636 \r\n\" style=\"fill:none;stroke:#404040;stroke-width:4;\"/>\r\n   </g>\r\n   <g id=\"line2d_95\">\r\n    <path clip-path=\"url(#pe78dc60d0e)\" d=\"M 302.785974 629.263636 \r\nL 412.535195 629.263636 \r\n\" style=\"fill:none;stroke:#404040;stroke-width:4;\"/>\r\n   </g>\r\n   <g id=\"line2d_96\">\r\n    <path clip-path=\"url(#pe78dc60d0e)\" d=\"M 184.576665 616.009091 \r\nL 184.576665 642.518182 \r\n\" style=\"fill:none;stroke:#404040;stroke-width:4;\"/>\r\n   </g>\r\n   <g id=\"line2d_97\">\r\n    <path clip-path=\"url(#pe78dc60d0e)\" d=\"M 412.535195 616.009091 \r\nL 412.535195 642.518182 \r\n\" style=\"fill:none;stroke:#404040;stroke-width:4;\"/>\r\n   </g>\r\n   <g id=\"line2d_98\"/>\r\n   <g id=\"line2d_99\">\r\n    <path clip-path=\"url(#pe78dc60d0e)\" d=\"M 219.433114 403.936364 \r\nL 219.433114 456.954545 \r\n\" style=\"fill:none;stroke:#404040;stroke-width:4;\"/>\r\n   </g>\r\n   <g id=\"line2d_100\">\r\n    <path clip-path=\"url(#pe78dc60d0e)\" d=\"M 228.644229 470.209091 \r\nL 228.644229 523.227273 \r\n\" style=\"fill:none;stroke:#404040;stroke-width:4;\"/>\r\n   </g>\r\n   <g id=\"line2d_101\">\r\n    <path clip-path=\"url(#pe78dc60d0e)\" d=\"M 384.327536 536.481818 \r\nL 384.327536 589.5 \r\n\" style=\"fill:none;stroke:#404040;stroke-width:4;\"/>\r\n   </g>\r\n   <g id=\"line2d_102\">\r\n    <path clip-path=\"url(#pe78dc60d0e)\" d=\"M 246.116632 602.754545 \r\nL 246.116632 655.772727 \r\n\" style=\"fill:none;stroke:#404040;stroke-width:4;\"/>\r\n   </g>\r\n   <g id=\"patch_23\">\r\n    <path d=\"M 156.103938 662.4 \r\nL 156.103938 397.309091 \r\n\" style=\"fill:none;stroke:#f0f0f0;stroke-linecap:square;stroke-linejoin:miter;stroke-width:3;\"/>\r\n   </g>\r\n   <g id=\"patch_24\">\r\n    <path d=\"M 782.503938 662.4 \r\nL 782.503938 397.309091 \r\n\" style=\"fill:none;stroke:#f0f0f0;stroke-linecap:square;stroke-linejoin:miter;stroke-width:3;\"/>\r\n   </g>\r\n   <g id=\"patch_25\">\r\n    <path d=\"M 156.103938 662.4 \r\nL 782.503938 662.4 \r\n\" style=\"fill:none;stroke:#f0f0f0;stroke-linecap:square;stroke-linejoin:miter;stroke-width:3;\"/>\r\n   </g>\r\n   <g id=\"patch_26\">\r\n    <path d=\"M 156.103938 397.309091 \r\nL 782.503938 397.309091 \r\n\" style=\"fill:none;stroke:#f0f0f0;stroke-linecap:square;stroke-linejoin:miter;stroke-width:3;\"/>\r\n   </g>\r\n   <g id=\"text_35\">\r\n    <!-- Mizoram -->\r\n    <g transform=\"translate(409.884514 437.072727)scale(0.14 -0.14)\">\r\n     <defs>\r\n      <path d=\"M 628 4666 \r\nL 1569 4666 \r\nL 2759 1491 \r\nL 3956 4666 \r\nL 4897 4666 \r\nL 4897 0 \r\nL 4281 0 \r\nL 4281 4097 \r\nL 3078 897 \r\nL 2444 897 \r\nL 1241 4097 \r\nL 1241 0 \r\nL 628 0 \r\nL 628 4666 \r\nz\r\n\" id=\"DejaVuSans-4d\" transform=\"scale(0.015625)\"/>\r\n      <path d=\"M 353 3500 \r\nL 3084 3500 \r\nL 3084 2975 \r\nL 922 459 \r\nL 3084 459 \r\nL 3084 0 \r\nL 275 0 \r\nL 275 525 \r\nL 2438 3041 \r\nL 353 3041 \r\nL 353 3500 \r\nz\r\n\" id=\"DejaVuSans-7a\" transform=\"scale(0.015625)\"/>\r\n     </defs>\r\n     <use xlink:href=\"#DejaVuSans-4d\"/>\r\n     <use x=\"86.279297\" xlink:href=\"#DejaVuSans-69\"/>\r\n     <use x=\"114.0625\" xlink:href=\"#DejaVuSans-7a\"/>\r\n     <use x=\"166.552734\" xlink:href=\"#DejaVuSans-6f\"/>\r\n     <use x=\"227.734375\" xlink:href=\"#DejaVuSans-72\"/>\r\n     <use x=\"268.847656\" xlink:href=\"#DejaVuSans-61\"/>\r\n     <use x=\"330.126953\" xlink:href=\"#DejaVuSans-6d\"/>\r\n    </g>\r\n   </g>\r\n   <g id=\"text_36\">\r\n    <!-- Nagaland -->\r\n    <g transform=\"translate(356.870903 496.718182)scale(0.14 -0.14)\">\r\n     <defs>\r\n      <path d=\"M 628 4666 \r\nL 1478 4666 \r\nL 3547 763 \r\nL 3547 4666 \r\nL 4159 4666 \r\nL 4159 0 \r\nL 3309 0 \r\nL 1241 3903 \r\nL 1241 0 \r\nL 628 0 \r\nL 628 4666 \r\nz\r\n\" id=\"DejaVuSans-4e\" transform=\"scale(0.015625)\"/>\r\n     </defs>\r\n     <use xlink:href=\"#DejaVuSans-4e\"/>\r\n     <use x=\"74.804688\" xlink:href=\"#DejaVuSans-61\"/>\r\n     <use x=\"136.083984\" xlink:href=\"#DejaVuSans-67\"/>\r\n     <use x=\"199.560547\" xlink:href=\"#DejaVuSans-61\"/>\r\n     <use x=\"260.839844\" xlink:href=\"#DejaVuSans-6c\"/>\r\n     <use x=\"288.623047\" xlink:href=\"#DejaVuSans-61\"/>\r\n     <use x=\"349.902344\" xlink:href=\"#DejaVuSans-6e\"/>\r\n     <use x=\"413.28125\" xlink:href=\"#DejaVuSans-64\"/>\r\n    </g>\r\n   </g>\r\n   <g id=\"text_37\">\r\n    <!-- Mizoram -->\r\n    <g transform=\"translate(674.952573 562.990909)scale(0.14 -0.14)\">\r\n     <use xlink:href=\"#DejaVuSans-4d\"/>\r\n     <use x=\"86.279297\" xlink:href=\"#DejaVuSans-69\"/>\r\n     <use x=\"114.0625\" xlink:href=\"#DejaVuSans-7a\"/>\r\n     <use x=\"166.552734\" xlink:href=\"#DejaVuSans-6f\"/>\r\n     <use x=\"227.734375\" xlink:href=\"#DejaVuSans-72\"/>\r\n     <use x=\"268.847656\" xlink:href=\"#DejaVuSans-61\"/>\r\n     <use x=\"330.126953\" xlink:href=\"#DejaVuSans-6d\"/>\r\n    </g>\r\n   </g>\r\n  </g>\r\n  <g id=\"axes_4\">\r\n   <g id=\"patch_27\">\r\n    <path d=\"M 907.783937 662.4 \r\nL 1534.183937 662.4 \r\nL 1534.183937 397.309091 \r\nL 907.783937 397.309091 \r\nz\r\n\" style=\"fill:#f0f0f0;\"/>\r\n   </g>\r\n   <g id=\"matplotlib.axis_7\">\r\n    <g id=\"xtick_17\">\r\n     <g id=\"line2d_103\">\r\n      <path clip-path=\"url(#p64d4165b4c)\" d=\"M 913.734069 662.4 \r\nL 913.734069 397.309091 \r\n\" style=\"fill:none;stroke:#cbcbcb;\"/>\r\n     </g>\r\n     <g id=\"line2d_104\"/>\r\n     <g id=\"text_38\">\r\n      <!-- 2 -->\r\n      <g transform=\"translate(909.280319 676.537812)scale(0.14 -0.14)\">\r\n       <use xlink:href=\"#DejaVuSans-32\"/>\r\n      </g>\r\n     </g>\r\n    </g>\r\n    <g id=\"xtick_18\">\r\n     <g id=\"line2d_105\">\r\n      <path clip-path=\"url(#p64d4165b4c)\" d=\"M 998.458569 662.4 \r\nL 998.458569 397.309091 \r\n\" style=\"fill:none;stroke:#cbcbcb;\"/>\r\n     </g>\r\n     <g id=\"line2d_106\"/>\r\n     <g id=\"text_39\">\r\n      <!-- 4 -->\r\n      <g transform=\"translate(994.004819 676.537812)scale(0.14 -0.14)\">\r\n       <use xlink:href=\"#DejaVuSans-34\"/>\r\n      </g>\r\n     </g>\r\n    </g>\r\n    <g id=\"xtick_19\">\r\n     <g id=\"line2d_107\">\r\n      <path clip-path=\"url(#p64d4165b4c)\" d=\"M 1083.183068 662.4 \r\nL 1083.183068 397.309091 \r\n\" style=\"fill:none;stroke:#cbcbcb;\"/>\r\n     </g>\r\n     <g id=\"line2d_108\"/>\r\n     <g id=\"text_40\">\r\n      <!-- 6 -->\r\n      <g transform=\"translate(1078.729318 676.537812)scale(0.14 -0.14)\">\r\n       <use xlink:href=\"#DejaVuSans-36\"/>\r\n      </g>\r\n     </g>\r\n    </g>\r\n    <g id=\"xtick_20\">\r\n     <g id=\"line2d_109\">\r\n      <path clip-path=\"url(#p64d4165b4c)\" d=\"M 1167.907568 662.4 \r\nL 1167.907568 397.309091 \r\n\" style=\"fill:none;stroke:#cbcbcb;\"/>\r\n     </g>\r\n     <g id=\"line2d_110\"/>\r\n     <g id=\"text_41\">\r\n      <!-- 8 -->\r\n      <g transform=\"translate(1163.453818 676.537812)scale(0.14 -0.14)\">\r\n       <use xlink:href=\"#DejaVuSans-38\"/>\r\n      </g>\r\n     </g>\r\n    </g>\r\n    <g id=\"xtick_21\">\r\n     <g id=\"line2d_111\">\r\n      <path clip-path=\"url(#p64d4165b4c)\" d=\"M 1252.632068 662.4 \r\nL 1252.632068 397.309091 \r\n\" style=\"fill:none;stroke:#cbcbcb;\"/>\r\n     </g>\r\n     <g id=\"line2d_112\"/>\r\n     <g id=\"text_42\">\r\n      <!-- 10 -->\r\n      <g transform=\"translate(1243.724568 676.537812)scale(0.14 -0.14)\">\r\n       <use xlink:href=\"#DejaVuSans-31\"/>\r\n       <use x=\"63.623047\" xlink:href=\"#DejaVuSans-30\"/>\r\n      </g>\r\n     </g>\r\n    </g>\r\n    <g id=\"xtick_22\">\r\n     <g id=\"line2d_113\">\r\n      <path clip-path=\"url(#p64d4165b4c)\" d=\"M 1337.356568 662.4 \r\nL 1337.356568 397.309091 \r\n\" style=\"fill:none;stroke:#cbcbcb;\"/>\r\n     </g>\r\n     <g id=\"line2d_114\"/>\r\n     <g id=\"text_43\">\r\n      <!-- 12 -->\r\n      <g transform=\"translate(1328.449068 676.537812)scale(0.14 -0.14)\">\r\n       <use xlink:href=\"#DejaVuSans-31\"/>\r\n       <use x=\"63.623047\" xlink:href=\"#DejaVuSans-32\"/>\r\n      </g>\r\n     </g>\r\n    </g>\r\n    <g id=\"xtick_23\">\r\n     <g id=\"line2d_115\">\r\n      <path clip-path=\"url(#p64d4165b4c)\" d=\"M 1422.081068 662.4 \r\nL 1422.081068 397.309091 \r\n\" style=\"fill:none;stroke:#cbcbcb;\"/>\r\n     </g>\r\n     <g id=\"line2d_116\"/>\r\n     <g id=\"text_44\">\r\n      <!-- 14 -->\r\n      <g transform=\"translate(1413.173568 676.537812)scale(0.14 -0.14)\">\r\n       <use xlink:href=\"#DejaVuSans-31\"/>\r\n       <use x=\"63.623047\" xlink:href=\"#DejaVuSans-34\"/>\r\n      </g>\r\n     </g>\r\n    </g>\r\n    <g id=\"xtick_24\">\r\n     <g id=\"line2d_117\">\r\n      <path clip-path=\"url(#p64d4165b4c)\" d=\"M 1506.805568 662.4 \r\nL 1506.805568 397.309091 \r\n\" style=\"fill:none;stroke:#cbcbcb;\"/>\r\n     </g>\r\n     <g id=\"line2d_118\"/>\r\n     <g id=\"text_45\">\r\n      <!-- 16 -->\r\n      <g transform=\"translate(1497.898068 676.537812)scale(0.14 -0.14)\">\r\n       <use xlink:href=\"#DejaVuSans-31\"/>\r\n       <use x=\"63.623047\" xlink:href=\"#DejaVuSans-36\"/>\r\n      </g>\r\n     </g>\r\n    </g>\r\n    <g id=\"text_46\">\r\n     <!-- Average dropout rates(%) -->\r\n     <g transform=\"translate(1112.349625 696.21475)scale(0.168 -0.168)\">\r\n      <use xlink:href=\"#DejaVuSans-41\"/>\r\n      <use x=\"62.533203\" xlink:href=\"#DejaVuSans-76\"/>\r\n      <use x=\"121.712891\" xlink:href=\"#DejaVuSans-65\"/>\r\n      <use x=\"183.236328\" xlink:href=\"#DejaVuSans-72\"/>\r\n      <use x=\"224.349609\" xlink:href=\"#DejaVuSans-61\"/>\r\n      <use x=\"285.628906\" xlink:href=\"#DejaVuSans-67\"/>\r\n      <use x=\"349.105469\" xlink:href=\"#DejaVuSans-65\"/>\r\n      <use x=\"410.628906\" xlink:href=\"#DejaVuSans-20\"/>\r\n      <use x=\"442.416016\" xlink:href=\"#DejaVuSans-64\"/>\r\n      <use x=\"505.892578\" xlink:href=\"#DejaVuSans-72\"/>\r\n      <use x=\"544.755859\" xlink:href=\"#DejaVuSans-6f\"/>\r\n      <use x=\"605.9375\" xlink:href=\"#DejaVuSans-70\"/>\r\n      <use x=\"669.414062\" xlink:href=\"#DejaVuSans-6f\"/>\r\n      <use x=\"730.595703\" xlink:href=\"#DejaVuSans-75\"/>\r\n      <use x=\"793.974609\" xlink:href=\"#DejaVuSans-74\"/>\r\n      <use x=\"833.183594\" xlink:href=\"#DejaVuSans-20\"/>\r\n      <use x=\"864.970703\" xlink:href=\"#DejaVuSans-72\"/>\r\n      <use x=\"906.083984\" xlink:href=\"#DejaVuSans-61\"/>\r\n      <use x=\"967.363281\" xlink:href=\"#DejaVuSans-74\"/>\r\n      <use x=\"1006.572266\" xlink:href=\"#DejaVuSans-65\"/>\r\n      <use x=\"1068.095703\" xlink:href=\"#DejaVuSans-73\"/>\r\n      <use x=\"1120.195312\" xlink:href=\"#DejaVuSans-28\"/>\r\n      <use x=\"1159.208984\" xlink:href=\"#DejaVuSans-25\"/>\r\n      <use x=\"1254.228516\" xlink:href=\"#DejaVuSans-29\"/>\r\n     </g>\r\n    </g>\r\n   </g>\r\n   <g id=\"matplotlib.axis_8\">\r\n    <g id=\"ytick_11\">\r\n     <g id=\"line2d_119\"/>\r\n     <g id=\"text_47\">\r\n      <!-- Boys -->\r\n      <g transform=\"translate(870.533 468.900724)scale(0.14 -0.14)\">\r\n       <use xlink:href=\"#DejaVuSans-42\"/>\r\n       <use x=\"68.603516\" xlink:href=\"#DejaVuSans-6f\"/>\r\n       <use x=\"129.785156\" xlink:href=\"#DejaVuSans-79\"/>\r\n       <use x=\"188.964844\" xlink:href=\"#DejaVuSans-73\"/>\r\n      </g>\r\n     </g>\r\n    </g>\r\n    <g id=\"ytick_12\">\r\n     <g id=\"line2d_120\"/>\r\n     <g id=\"text_48\">\r\n      <!-- Girls -->\r\n      <g transform=\"translate(872.608938 601.446179)scale(0.14 -0.14)\">\r\n       <use xlink:href=\"#DejaVuSans-47\"/>\r\n       <use x=\"77.490234\" xlink:href=\"#DejaVuSans-69\"/>\r\n       <use x=\"105.273438\" xlink:href=\"#DejaVuSans-72\"/>\r\n       <use x=\"146.386719\" xlink:href=\"#DejaVuSans-6c\"/>\r\n       <use x=\"174.169922\" xlink:href=\"#DejaVuSans-73\"/>\r\n      </g>\r\n     </g>\r\n    </g>\r\n    <g id=\"text_49\">\r\n     <!-- Sex -->\r\n     <g transform=\"translate(863.039125 545.180608)rotate(-90)scale(0.168 -0.168)\">\r\n      <use xlink:href=\"#DejaVuSans-53\"/>\r\n      <use x=\"63.476562\" xlink:href=\"#DejaVuSans-65\"/>\r\n      <use x=\"123.25\" xlink:href=\"#DejaVuSans-78\"/>\r\n     </g>\r\n    </g>\r\n   </g>\r\n   <g id=\"patch_28\">\r\n    <path clip-path=\"url(#p64d4165b4c)\" d=\"M 1075.752024 410.563636 \r\nL 1075.752024 516.6 \r\nL 1243.841902 516.6 \r\nL 1243.841902 410.563636 \r\nL 1075.752024 410.563636 \r\nz\r\n\" style=\"fill:#1b86ba;stroke:#404040;stroke-linejoin:miter;stroke-width:4;\"/>\r\n   </g>\r\n   <g id=\"patch_29\">\r\n    <path clip-path=\"url(#p64d4165b4c)\" d=\"M 1033.177963 543.109091 \r\nL 1033.177963 649.145455 \r\nL 1224.293488 649.145455 \r\nL 1224.293488 543.109091 \r\nL 1033.177963 543.109091 \r\nz\r\n\" style=\"fill:#e36149;stroke:#404040;stroke-linejoin:miter;stroke-width:4;\"/>\r\n   </g>\r\n   <g id=\"line2d_121\">\r\n    <path clip-path=\"url(#p64d4165b4c)\" d=\"M 1075.752024 463.581818 \r\nL 967.60473 463.581818 \r\n\" style=\"fill:none;stroke:#404040;stroke-width:4;\"/>\r\n   </g>\r\n   <g id=\"line2d_122\">\r\n    <path clip-path=\"url(#p64d4165b4c)\" d=\"M 1243.841902 463.581818 \r\nL 1378.094932 463.581818 \r\n\" style=\"fill:none;stroke:#404040;stroke-width:4;\"/>\r\n   </g>\r\n   <g id=\"line2d_123\">\r\n    <path clip-path=\"url(#p64d4165b4c)\" d=\"M 967.60473 437.072727 \r\nL 967.60473 490.090909 \r\n\" style=\"fill:none;stroke:#404040;stroke-width:4;\"/>\r\n   </g>\r\n   <g id=\"line2d_124\">\r\n    <path clip-path=\"url(#p64d4165b4c)\" d=\"M 1378.094932 437.072727 \r\nL 1378.094932 490.090909 \r\n\" style=\"fill:none;stroke:#404040;stroke-width:4;\"/>\r\n   </g>\r\n   <g id=\"line2d_125\">\r\n    <g clip-path=\"url(#p64d4165b4c)\">\r\n     <use style=\"fill:#404040;stroke:#404040;stroke-linejoin:miter;\" x=\"1505.71121\" xlink:href=\"#madfae1f08e\" y=\"463.581818\"/>\r\n    </g>\r\n   </g>\r\n   <g id=\"line2d_126\">\r\n    <path clip-path=\"url(#p64d4165b4c)\" d=\"M 1033.177963 596.127273 \r\nL 936.256665 596.127273 \r\n\" style=\"fill:none;stroke:#404040;stroke-width:4;\"/>\r\n   </g>\r\n   <g id=\"line2d_127\">\r\n    <path clip-path=\"url(#p64d4165b4c)\" d=\"M 1224.293488 596.127273 \r\nL 1470.797656 596.127273 \r\n\" style=\"fill:none;stroke:#404040;stroke-width:4;\"/>\r\n   </g>\r\n   <g id=\"line2d_128\">\r\n    <path clip-path=\"url(#p64d4165b4c)\" d=\"M 936.256665 569.618182 \r\nL 936.256665 622.636364 \r\n\" style=\"fill:none;stroke:#404040;stroke-width:4;\"/>\r\n   </g>\r\n   <g id=\"line2d_129\">\r\n    <path clip-path=\"url(#p64d4165b4c)\" d=\"M 1470.797656 569.618182 \r\nL 1470.797656 622.636364 \r\n\" style=\"fill:none;stroke:#404040;stroke-width:4;\"/>\r\n   </g>\r\n   <g id=\"line2d_130\"/>\r\n   <g id=\"line2d_131\">\r\n    <path clip-path=\"url(#p64d4165b4c)\" d=\"M 1157.564119 410.563636 \r\nL 1157.564119 516.6 \r\n\" style=\"fill:none;stroke:#404040;stroke-width:4;\"/>\r\n   </g>\r\n   <g id=\"line2d_132\">\r\n    <path clip-path=\"url(#p64d4165b4c)\" d=\"M 1150.080122 543.109091 \r\nL 1150.080122 649.145455 \r\n\" style=\"fill:none;stroke:#404040;stroke-width:4;\"/>\r\n   </g>\r\n   <g id=\"patch_30\">\r\n    <path d=\"M 907.783937 662.4 \r\nL 907.783937 397.309091 \r\n\" style=\"fill:none;stroke:#f0f0f0;stroke-linecap:square;stroke-linejoin:miter;stroke-width:3;\"/>\r\n   </g>\r\n   <g id=\"patch_31\">\r\n    <path d=\"M 1534.183937 662.4 \r\nL 1534.183937 397.309091 \r\n\" style=\"fill:none;stroke:#f0f0f0;stroke-linecap:square;stroke-linejoin:miter;stroke-width:3;\"/>\r\n   </g>\r\n   <g id=\"patch_32\">\r\n    <path d=\"M 907.783937 662.4 \r\nL 1534.183937 662.4 \r\n\" style=\"fill:none;stroke:#f0f0f0;stroke-linecap:square;stroke-linejoin:miter;stroke-width:3;\"/>\r\n   </g>\r\n   <g id=\"patch_33\">\r\n    <path d=\"M 907.783937 397.309091 \r\nL 1534.183937 397.309091 \r\n\" style=\"fill:none;stroke:#f0f0f0;stroke-linecap:square;stroke-linejoin:miter;stroke-width:3;\"/>\r\n   </g>\r\n   <g id=\"text_50\">\r\n    <!-- Nagaland -->\r\n    <g transform=\"translate(1422.081068 476.836364)scale(0.14 -0.14)\">\r\n     <use xlink:href=\"#DejaVuSans-4e\"/>\r\n     <use x=\"74.804688\" xlink:href=\"#DejaVuSans-61\"/>\r\n     <use x=\"136.083984\" xlink:href=\"#DejaVuSans-67\"/>\r\n     <use x=\"199.560547\" xlink:href=\"#DejaVuSans-61\"/>\r\n     <use x=\"260.839844\" xlink:href=\"#DejaVuSans-6c\"/>\r\n     <use x=\"288.623047\" xlink:href=\"#DejaVuSans-61\"/>\r\n     <use x=\"349.902344\" xlink:href=\"#DejaVuSans-6e\"/>\r\n     <use x=\"413.28125\" xlink:href=\"#DejaVuSans-64\"/>\r\n    </g>\r\n   </g>\r\n  </g>\r\n  <g id=\"text_51\">\r\n   <!-- Analysis on dropout and enrollment rates -->\r\n   <g transform=\"translate(647.366125 19.965375)scale(0.168 -0.168)\">\r\n    <use xlink:href=\"#DejaVuSans-41\"/>\r\n    <use x=\"68.408203\" xlink:href=\"#DejaVuSans-6e\"/>\r\n    <use x=\"131.787109\" xlink:href=\"#DejaVuSans-61\"/>\r\n    <use x=\"193.066406\" xlink:href=\"#DejaVuSans-6c\"/>\r\n    <use x=\"220.849609\" xlink:href=\"#DejaVuSans-79\"/>\r\n    <use x=\"280.029297\" xlink:href=\"#DejaVuSans-73\"/>\r\n    <use x=\"332.128906\" xlink:href=\"#DejaVuSans-69\"/>\r\n    <use x=\"359.912109\" xlink:href=\"#DejaVuSans-73\"/>\r\n    <use x=\"412.011719\" xlink:href=\"#DejaVuSans-20\"/>\r\n    <use x=\"443.798828\" xlink:href=\"#DejaVuSans-6f\"/>\r\n    <use x=\"504.980469\" xlink:href=\"#DejaVuSans-6e\"/>\r\n    <use x=\"568.359375\" xlink:href=\"#DejaVuSans-20\"/>\r\n    <use x=\"600.146484\" xlink:href=\"#DejaVuSans-64\"/>\r\n    <use x=\"663.623047\" xlink:href=\"#DejaVuSans-72\"/>\r\n    <use x=\"702.486328\" xlink:href=\"#DejaVuSans-6f\"/>\r\n    <use x=\"763.667969\" xlink:href=\"#DejaVuSans-70\"/>\r\n    <use x=\"827.144531\" xlink:href=\"#DejaVuSans-6f\"/>\r\n    <use x=\"888.326172\" xlink:href=\"#DejaVuSans-75\"/>\r\n    <use x=\"951.705078\" xlink:href=\"#DejaVuSans-74\"/>\r\n    <use x=\"990.914062\" xlink:href=\"#DejaVuSans-20\"/>\r\n    <use x=\"1022.701172\" xlink:href=\"#DejaVuSans-61\"/>\r\n    <use x=\"1083.980469\" xlink:href=\"#DejaVuSans-6e\"/>\r\n    <use x=\"1147.359375\" xlink:href=\"#DejaVuSans-64\"/>\r\n    <use x=\"1210.835938\" xlink:href=\"#DejaVuSans-20\"/>\r\n    <use x=\"1242.623047\" xlink:href=\"#DejaVuSans-65\"/>\r\n    <use x=\"1304.146484\" xlink:href=\"#DejaVuSans-6e\"/>\r\n    <use x=\"1367.525391\" xlink:href=\"#DejaVuSans-72\"/>\r\n    <use x=\"1406.388672\" xlink:href=\"#DejaVuSans-6f\"/>\r\n    <use x=\"1467.570312\" xlink:href=\"#DejaVuSans-6c\"/>\r\n    <use x=\"1495.353516\" xlink:href=\"#DejaVuSans-6c\"/>\r\n    <use x=\"1523.136719\" xlink:href=\"#DejaVuSans-6d\"/>\r\n    <use x=\"1620.548828\" xlink:href=\"#DejaVuSans-65\"/>\r\n    <use x=\"1682.072266\" xlink:href=\"#DejaVuSans-6e\"/>\r\n    <use x=\"1745.451172\" xlink:href=\"#DejaVuSans-74\"/>\r\n    <use x=\"1784.660156\" xlink:href=\"#DejaVuSans-20\"/>\r\n    <use x=\"1816.447266\" xlink:href=\"#DejaVuSans-72\"/>\r\n    <use x=\"1857.560547\" xlink:href=\"#DejaVuSans-61\"/>\r\n    <use x=\"1918.839844\" xlink:href=\"#DejaVuSans-74\"/>\r\n    <use x=\"1958.048828\" xlink:href=\"#DejaVuSans-65\"/>\r\n    <use x=\"2019.572266\" xlink:href=\"#DejaVuSans-73\"/>\r\n   </g>\r\n  </g>\r\n </g>\r\n <defs>\r\n  <clipPath id=\"pa7f431ce15\">\r\n   <rect height=\"265.090909\" width=\"626.4\" x=\"156.103938\" y=\"79.2\"/>\r\n  </clipPath>\r\n  <clipPath id=\"p2a87e98a28\">\r\n   <rect height=\"265.090909\" width=\"626.4\" x=\"907.783937\" y=\"79.2\"/>\r\n  </clipPath>\r\n  <clipPath id=\"pe78dc60d0e\">\r\n   <rect height=\"265.090909\" width=\"626.4\" x=\"156.103938\" y=\"397.309091\"/>\r\n  </clipPath>\r\n  <clipPath id=\"p64d4165b4c\">\r\n   <rect height=\"265.090909\" width=\"626.4\" x=\"907.783937\" y=\"397.309091\"/>\r\n  </clipPath>\r\n </defs>\r\n</svg>\r\n",
      "image/png": "[encoded data removed]"
     },
     "metadata": {}
    }
   ],
   "source": [
    "prim=['Primary']*36\n",
    "uprim=['Upper Primary']*36\n",
    "sec=['Secondary']*36\n",
    "usec=['Higher Secondary']*36\n",
    "lis=prim+uprim+sec+usec\n",
    "lis\n",
    "datas=pd.DataFrame({'values':pd.concat([enrollments_x['Primary_Total'],enrollments_x['Upper_Primary_Total'],enrollments_x['Secondary_Total'],enrollments_x['Higher_Secondary_Total']],axis=0), 'ID':lis, 'State':list(states['State'])*4})\n",
    "\n",
    "enrollments_boys=(enrollments_x['Primary_Boys']+enrollments_x['Upper_Primary_Boys']+enrollments_x['Secondary_Boys']+enrollments_x['Higher_Secondary_Boys'])/4\n",
    "enrollments_girls=(enrollments_x['Primary_Girls']+enrollments_x['Upper_Primary_Girls']+enrollments_x['Secondary_Girls']+enrollments_x['Higher_Secondary_Girls'])/4\n",
    "boys=['Boys']*36\n",
    "girls=['Girls']*36\n",
    "sex=boys+girls\n",
    "enrolls=pd.concat([enrollments_boys,enrollments_girls],axis=0)\n",
    "datassex1=pd.DataFrame({'Enrollments':enrolls,'Sex':sex,'State':list(states['State'])*2})\n",
    "\n",
    "\n",
    "datass=pd.DataFrame({'values':pd.concat([dropouts_x['PRIMARY_TOTAL'],dropouts_x['UPPER_PRIMARY_TOTAL'],dropouts_x['SECONDARY_TOTAL'],dropouts_x['HRSECONDARY_TOTAL']],axis=0), 'ID':lis,'State':list(states['State'])*4})\n",
    "\n",
    "dropouts_boys=(dropouts_x['PRIMARY_BOYS']+dropouts_x['UPPER_PRIMARY_BOYS']+dropouts_x['SECONDARY_BOYS']+dropouts_x['HRSECONDARY_BOYS'])/4\n",
    "dropouts_girls=(dropouts_x['PRIMARY_GIRLS']+dropouts_x['UPPER_PRIMARY_GIRLS']+dropouts_x['SECONDARY_GIRLS']+dropouts_x['HRSECONDARY_GIRLS'])/4\n",
    "\n",
    "drops=pd.concat([dropouts_boys,dropouts_girls],axis=0)\n",
    "datassex2=pd.DataFrame({'Dropouts':drops,'Sex':sex,'State':list(states['State'])*2})\n",
    "\n",
    "fig,ax=plt.subplots(2,2,figsize=(22,10))\n",
    "\n",
    "sns.boxplot(x='values',y='ID',data=datas,ax=ax[0,0])\n",
    "ax[0,0].set_xlabel('Average enrollment rates(%)')\n",
    "ax[0,0].set_ylabel('Section of school')\n",
    "#ax[0].suptitle('Comparison of enrollment rates across different sections of the school')\n",
    "\n",
    "sns.boxplot(x='Enrollments',y='Sex',data=datassex1,ax=ax[0,1])\n",
    "ax[0,1].set_xlabel('Average enrollment rates(%)')\n",
    "ax[0,1].set_ylabel('Sex')\n",
    "#ax[1].suptitle('Comparison of enrollment rates across sex')\n",
    "\n",
    "sns.boxplot(x='values',y='ID',data=datass,ax=ax[1,0])\n",
    "ax[1,0].set_xlabel('Average dropout rates(%)')\n",
    "ax[1,0].set_ylabel('Section of school')\n",
    "#plt.title('Comparison of dropout rates across different sections of the school')\n",
    "\n",
    "\n",
    "sns.boxplot(x='Dropouts',y='Sex',data=datassex2,ax=ax[1,1])\n",
    "ax[1,1].set_xlabel('Average dropout rates(%)')\n",
    "ax[1,1].set_ylabel('Sex')\n",
    "\n",
    "low_prim=datas.State.iloc[datas['values'][datas['ID']=='Primary'].idxmin()]\n",
    "up_prim=datas.State.iloc[datas['values'][datas['ID']=='Upper Primary'].idxmin()]\n",
    "\n",
    "\n",
    "p_out=datass.State.iloc[datass['values'][datass['ID']=='Primary'].idxmax()]\n",
    "up_out= datass.State.iloc[datass['values'][datass['ID']=='Upper Primary'].idxmax()]\n",
    "sec_out=datassex2.State.iloc[datass['values'][datass['ID']=='Primary'].idxmax()]\n",
    "boys_out=datassex2.State.iloc[datassex2['Dropouts'][datassex2['Sex']=='Boys'].idxmax()]\n",
    "\n",
    "\n",
    "ax[0,0].text(55,0.1,s=low_prim)\n",
    "ax[0,0].text(40,1,s=up_prim)\n",
    "ax[1,0].text(17,0.1,s=p_out)\n",
    "ax[1,0].text(13,1,s=up_out)\n",
    "ax[1,0].text(37,2,s=sec_out)\n",
    "ax[1,1].text(14,0.1,s=boys_out)\n",
    "\n",
    "plt.suptitle(\"Analysis on dropout and enrollment rates\")"
   ]
  },
  {
   "source": [
    "`Observation:`\n",
    "* Lakshwadeep and J&K have exceptionally low enrollment rates\n",
    "* Mizoram has exceptionally high dropout rates in secondary school\n",
    "* Nagaland has exceptionally high dropout rates of boys"
   ],
   "cell_type": "markdown",
   "metadata": {}
  },
  {
   "source": [
    "## Student to teacher ratio"
   ],
   "cell_type": "markdown",
   "metadata": {}
  },
  {
   "cell_type": "code",
   "execution_count": 536,
   "metadata": {},
   "outputs": [
    {
     "output_type": "stream",
     "name": "stderr",
     "text": [
      "c:\\Users\\ADMIN\\Documents\\Codebase\\envs\\machine_L\\lib\\site-packages\\datapane\\client\\api\\__init__.py:83: UserWarning:\n\nDeprecated, to be removed in next release, use dp.Text instead.\n\n"
     ]
    },
    {
     "output_type": "display_data",
     "data": {
      "text/plain": "<IPython.core.display.Markdown object>",
      "text/markdown": "Publishing document and associated data - *please wait...*"
     },
     "metadata": {}
    },
    {
     "output_type": "display_data",
     "data": {
      "text/plain": "<IPython.core.display.Markdown object>",
      "text/markdown": "Report successfully published at https://datapane.com/u/anupammisra/reports/str/ - you can edit and add additional text online"
     },
     "metadata": {}
    }
   ],
   "source": [
    "prim=['Primary']*36\n",
    "uprim=['Upper Primary']*36\n",
    "sec=['Secondary']*36\n",
    "usec=['Higher Secondary']*36\n",
    "lis=prim+uprim+sec+usec\n",
    "lis\n",
    "datas=pd.DataFrame({'Mean percentage(%)':pd.concat([ptr['Primary'],ptr['Upper Primary'],ptr['Secondary'],ptr['Higher Secondary']],axis=0), 'Section of school':lis, 'State':list(states['State'])*4})\n",
    "\n",
    "fig=px.box(data_frame=datas,x='Mean percentage(%)', y='Section of school',hover_name='State',color='Section of school', title=\"Student to teacher ratio\")\n",
    "fig.update_layout(showlegend=False)\n",
    "\n",
    "r = dp.Report(\n",
    "  dp.Markdown('Student to teacher ratio'), #add description to the report\n",
    "  dp.Plot(fig) #create a chart\n",
    ").publish(name='STR', visibility=dp.Visibility.PUBLIC,open=True) #Publish the report"
   ]
  },
  {
   "source": [
    "`Observations:`\n",
    "\n",
    "* Most states lack teachers in the higher secondary school. Certain states are doing very poorly namely UP, Bihar, Jharkhand and WB"
   ],
   "cell_type": "markdown",
   "metadata": {}
  },
  {
   "cell_type": "code",
   "execution_count": 537,
   "metadata": {},
   "outputs": [
    {
     "output_type": "display_data",
     "data": {
      "text/plain": "<IPython.core.display.Markdown object>",
      "text/markdown": "Publishing document and associated data - *please wait...*"
     },
     "metadata": {}
    },
    {
     "output_type": "display_data",
     "data": {
      "text/plain": "<IPython.core.display.Markdown object>",
      "text/markdown": "Report successfully published at https://datapane.com/u/anupammisra/reports/overall/ - you can edit and add additional text online"
     },
     "metadata": {}
    }
   ],
   "source": [
    "dropss=dropouts_x.iloc[:,[2,5,8,11]].mean(axis=1)\n",
    "enrolls=enrollments_x.iloc[:,[2,5,8,11]].mean(axis=1)\n",
    "ptrs=ptr.iloc[:,[1,4]].mean(axis=1)\n",
    "comb=pd.DataFrame({'Enrollments(%)':enrolls,'Dropouts(%)':dropss,'student_teacher_ratio':ptrs})\n",
    "figz = px.scatter(data_frame=comb, x=\"Enrollments(%)\", y=\"Dropouts(%)\", size=\"student_teacher_ratio\", color=states.State, log_x=True, size_max=20, width=1000, height=500, title='Dropouts vs enrollments')\n",
    "figz.update_layout(showlegend=False)\n",
    "r = dp.Report(\n",
    "  dp.Markdown('Overall picture of dropout, enrollment and student:teacher ratio among states'), #add description to the report\n",
    "  dp.Plot(figz) #create a chart\n",
    ").publish(name='Overall', visibility=dp.Visibility.PUBLIC,open=True) #Publish the report"
   ]
  },
  {
   "source": [
    "`Observations:`\n",
    "\n",
    "* UP has the highest student to teacher ratio. It also has low enrollment rate\n",
    "* Bihar has low enrollment and high dropout rate. They also have a high student to teacher ratio."
   ],
   "cell_type": "markdown",
   "metadata": {}
  },
  {
   "cell_type": "code",
   "execution_count": 538,
   "metadata": {},
   "outputs": [],
   "source": [
    "retention_in_secondary = enrollments_x.Secondary_Total * (100-dropouts_x.SECONDARY_TOTAL)/100"
   ]
  },
  {
   "cell_type": "code",
   "execution_count": 539,
   "metadata": {},
   "outputs": [],
   "source": [
    "col = lambda x : 1 if x<=60 else (2 if x <=80 else (3 if x<=90 else 4))"
   ]
  },
  {
   "cell_type": "code",
   "execution_count": 540,
   "metadata": {},
   "outputs": [
    {
     "output_type": "stream",
     "name": "stderr",
     "text": [
      "<ipython-input-540-9481177ef9aa>:4: SettingWithCopyWarning:\n\n\nA value is trying to be set on a copy of a slice from a DataFrame\n\nSee the caveats in the documentation: https://pandas.pydata.org/pandas-docs/stable/user_guide/indexing.html#returning-a-view-versus-a-copy\n\n"
     ]
    }
   ],
   "source": [
    "retention_in_secondary = pd.DataFrame(retention_in_secondary)\n",
    "retention_in_secondary = pd.concat([states,retention_in_secondary],axis=1)\n",
    "retention_in_secondary.columns=['State','Retention(%)']\n",
    "retention_in_secondary['Retention(%)'][retention_in_secondary.State=='Chandigarh']=enrollments_x.Secondary_Total[5]\n",
    "retention_in_secondary['color'] = retention_in_secondary['Retention(%)'].apply(col)"
   ]
  },
  {
   "cell_type": "code",
   "execution_count": 541,
   "metadata": {},
   "outputs": [
    {
     "output_type": "display_data",
     "data": {
      "text/plain": "<IPython.core.display.Markdown object>",
      "text/markdown": "Publishing document and associated data - *please wait...*"
     },
     "metadata": {}
    },
    {
     "output_type": "display_data",
     "data": {
      "text/plain": "<IPython.core.display.Markdown object>",
      "text/markdown": "Your report doesn't contain any text - did you know you can add text to your report from your browser once published?"
     },
     "metadata": {}
    },
    {
     "output_type": "display_data",
     "data": {
      "text/plain": "<IPython.core.display.Markdown object>",
      "text/markdown": "Your report only contains a single element - did you know you can add multiple plots and tables to a report, add text to it and export directly to Medium once published?"
     },
     "metadata": {}
    },
    {
     "output_type": "display_data",
     "data": {
      "text/plain": "<IPython.core.display.Markdown object>",
      "text/markdown": "Report successfully published at https://datapane.com/u/anupammisra/reports/retention/ - you can edit and add additional text online"
     },
     "metadata": {}
    }
   ],
   "source": [
    "figx=px.scatter(data_frame= retention_in_secondary, x = 'Retention(%)', hover_name ='State' , color='color', color_continuous_scale='turbo',title=\"Retention rates in secondary school\")\n",
    "figx.update_layout(showlegend=False)\n",
    "\n",
    "r2 = dp.Report(\n",
    "  dp.Plot(figx) #create a chart\n",
    ").publish(name='Retention', visibility=dp.Visibility.PUBLIC,open=True) #Publish the report"
   ]
  },
  {
   "cell_type": "code",
   "execution_count": null,
   "metadata": {},
   "outputs": [],
   "source": []
  },
  {
   "source": [
    "## Other factors in schooling"
   ],
   "cell_type": "markdown",
   "metadata": {}
  },
  {
   "cell_type": "code",
   "execution_count": 542,
   "metadata": {},
   "outputs": [
    {
     "output_type": "execute_result",
     "data": {
      "text/plain": [
       "<pandas.io.formats.style.Styler at 0x2b49c72abb0>"
      ],
      "text/html": "<style  type=\"text/css\" >\n#T_3296c_row0_col0,#T_3296c_row1_col1,#T_3296c_row2_col2,#T_3296c_row3_col3,#T_3296c_row4_col4{\n            background-color:  #b40426;\n            color:  #f1f1f1;\n        }#T_3296c_row0_col1{\n            background-color:  #e5d8d1;\n            color:  #000000;\n        }#T_3296c_row0_col2,#T_3296c_row0_col4,#T_3296c_row1_col3,#T_3296c_row3_col1,#T_3296c_row4_col0{\n            background-color:  #3b4cc0;\n            color:  #f1f1f1;\n        }#T_3296c_row0_col3{\n            background-color:  #5d7ce6;\n            color:  #000000;\n        }#T_3296c_row1_col0{\n            background-color:  #ead4c8;\n            color:  #000000;\n        }#T_3296c_row1_col2{\n            background-color:  #e8d6cc;\n            color:  #000000;\n        }#T_3296c_row1_col4{\n            background-color:  #b3cdfb;\n            color:  #000000;\n        }#T_3296c_row2_col0{\n            background-color:  #6384eb;\n            color:  #000000;\n        }#T_3296c_row2_col1{\n            background-color:  #efcfbf;\n            color:  #000000;\n        }#T_3296c_row2_col3{\n            background-color:  #6788ee;\n            color:  #000000;\n        }#T_3296c_row2_col4,#T_3296c_row4_col1{\n            background-color:  #a7c5fe;\n            color:  #000000;\n        }#T_3296c_row3_col0{\n            background-color:  #6e90f2;\n            color:  #000000;\n        }#T_3296c_row3_col2{\n            background-color:  #4f69d9;\n            color:  #000000;\n        }#T_3296c_row3_col4{\n            background-color:  #f3c8b2;\n            color:  #000000;\n        }#T_3296c_row4_col2{\n            background-color:  #84a7fc;\n            color:  #000000;\n        }#T_3296c_row4_col3{\n            background-color:  #f0cdbb;\n            color:  #000000;\n        }</style><table id=\"T_3296c_\" ><thead>    <tr>        <th class=\"blank level0\" ></th>        <th class=\"col_heading level0 col0\" >Drinking water</th>        <th class=\"col_heading level0 col1\" >Electricity</th>        <th class=\"col_heading level0 col2\" >Computer</th>        <th class=\"col_heading level0 col3\" >Boys toilet</th>        <th class=\"col_heading level0 col4\" >Girls toilet</th>    </tr></thead><tbody>\n                <tr>\n                        <th id=\"T_3296c_level0_row0\" class=\"row_heading level0 row0\" >Drinking water</th>\n                        <td id=\"T_3296c_row0_col0\" class=\"data row0 col0\" >1.000000</td>\n                        <td id=\"T_3296c_row0_col1\" class=\"data row0 col1\" >0.866581</td>\n                        <td id=\"T_3296c_row0_col2\" class=\"data row0 col2\" >0.737629</td>\n                        <td id=\"T_3296c_row0_col3\" class=\"data row0 col3\" >0.746873</td>\n                        <td id=\"T_3296c_row0_col4\" class=\"data row0 col4\" >0.698581</td>\n            </tr>\n            <tr>\n                        <th id=\"T_3296c_level0_row1\" class=\"row_heading level0 row1\" >Electricity</th>\n                        <td id=\"T_3296c_row1_col0\" class=\"data row1 col0\" >0.866581</td>\n                        <td id=\"T_3296c_row1_col1\" class=\"data row1 col1\" >1.000000</td>\n                        <td id=\"T_3296c_row1_col2\" class=\"data row1 col2\" >0.880671</td>\n                        <td id=\"T_3296c_row1_col3\" class=\"data row1 col3\" >0.714636</td>\n                        <td id=\"T_3296c_row1_col4\" class=\"data row1 col4\" >0.807742</td>\n            </tr>\n            <tr>\n                        <th id=\"T_3296c_level0_row2\" class=\"row_heading level0 row2\" >Computer</th>\n                        <td id=\"T_3296c_row2_col0\" class=\"data row2 col0\" >0.737629</td>\n                        <td id=\"T_3296c_row2_col1\" class=\"data row2 col1\" >0.880671</td>\n                        <td id=\"T_3296c_row2_col2\" class=\"data row2 col2\" >1.000000</td>\n                        <td id=\"T_3296c_row2_col3\" class=\"data row2 col3\" >0.755184</td>\n                        <td id=\"T_3296c_row2_col4\" class=\"data row2 col4\" >0.796650</td>\n            </tr>\n            <tr>\n                        <th id=\"T_3296c_level0_row3\" class=\"row_heading level0 row3\" >Boys toilet</th>\n                        <td id=\"T_3296c_row3_col0\" class=\"data row3 col0\" >0.746873</td>\n                        <td id=\"T_3296c_row3_col1\" class=\"data row3 col1\" >0.714636</td>\n                        <td id=\"T_3296c_row3_col2\" class=\"data row3 col2\" >0.755184</td>\n                        <td id=\"T_3296c_row3_col3\" class=\"data row3 col3\" >1.000000</td>\n                        <td id=\"T_3296c_row3_col4\" class=\"data row3 col4\" >0.882785</td>\n            </tr>\n            <tr>\n                        <th id=\"T_3296c_level0_row4\" class=\"row_heading level0 row4\" >Girls toilet</th>\n                        <td id=\"T_3296c_row4_col0\" class=\"data row4 col0\" >0.698581</td>\n                        <td id=\"T_3296c_row4_col1\" class=\"data row4 col1\" >0.807742</td>\n                        <td id=\"T_3296c_row4_col2\" class=\"data row4 col2\" >0.796650</td>\n                        <td id=\"T_3296c_row4_col3\" class=\"data row4 col3\" >0.882785</td>\n                        <td id=\"T_3296c_row4_col4\" class=\"data row4 col4\" >1.000000</td>\n            </tr>\n    </tbody></table>"
     },
     "metadata": {},
     "execution_count": 542
    }
   ],
   "source": [
    "factors.corr(method='spearman').style.background_gradient(cmap=\"coolwarm\")"
   ]
  },
  {
   "cell_type": "code",
   "execution_count": 543,
   "metadata": {},
   "outputs": [
    {
     "output_type": "display_data",
     "data": {
      "text/plain": "<IPython.core.display.Markdown object>",
      "text/markdown": "Publishing document and associated data - *please wait...*"
     },
     "metadata": {}
    },
    {
     "output_type": "display_data",
     "data": {
      "text/plain": "<IPython.core.display.Markdown object>",
      "text/markdown": "Report successfully published at https://datapane.com/u/anupammisra/reports/factors/ - you can edit and add additional text online"
     },
     "metadata": {}
    }
   ],
   "source": [
    "prim=['Drinking water']*36\n",
    "uprim=['Electricity']*36\n",
    "uuprim=['Computer']*36\n",
    "sec=['Boys toilet']*36\n",
    "usec=['Girls toilet']*36\n",
    "lis=prim+uprim+uuprim+sec+usec\n",
    "\n",
    "datas_facts=pd.DataFrame({'Mean percentage(%)':pd.concat([factors['Drinking water'],factors['Electricity'],factors['Computer'],factors['Boys toilet'], factors['Girls toilet']],axis=0), 'Factor':lis,'State':list(states['State'])*5})\n",
    "\n",
    "figy=px.box(data_frame=datas_facts,x='Mean percentage(%)', y='Factor',hover_name='State',color='Factor', title=\"Presence of factors in school\")\n",
    "figy.update_layout(showlegend=False)\n",
    "\n",
    "r = dp.Report(\n",
    "  dp.Markdown('Presence of factors in school'), #add description to the report\n",
    "  dp.Plot(figy) #create a chart\n",
    ").publish(name='Factors', visibility=dp.Visibility.PUBLIC,open=True) #Publish the report"
   ]
  },
  {
   "cell_type": "code",
   "execution_count": 544,
   "metadata": {},
   "outputs": [],
   "source": [
    "stages= ['Primary','Upper_primary','Secondary','Higher_secondary']\n",
    "\n",
    "b_t = [90.48205607,\t82.0528972,\t47.04252336, 57.7953271]\n",
    "g_t = [93.83728972,\t87.60654206, 48.00429907, 56.09971963]\n",
    "e=[62.60271028,\t71.00336449, 53.25831776, 74.1571028]\n",
    "c=[21.07261682,\t47.78841121, 33.04831776, 44.17813084]\n",
    "dw=[93.69271028, 88.96682243, 65.32897196, 78.47168224]\n",
    "boys_t = pd.DataFrame(b_t, index=stages, columns=[\"Boys toilet\"])\n",
    "girls_t = pd.DataFrame(g_t, index=stages, columns=[\"Girls toilet\"])\n",
    "elecs = pd.DataFrame(e, index=stages, columns=[\"Electricity\"])\n",
    "dww = pd.DataFrame(dw, index=stages, columns=[\"Drinking water\"])\n",
    "comps = pd.DataFrame(c, index=stages, columns=[\"Computers\"])\n",
    "composite=pd.concat([boys_t, girls_t,dww,elecs,comps], axis=1)"
   ]
  },
  {
   "cell_type": "code",
   "execution_count": 545,
   "metadata": {},
   "outputs": [
    {
     "output_type": "execute_result",
     "data": {
      "text/plain": [
       "<pandas.io.formats.style.Styler at 0x2b49cd45250>"
      ],
      "text/html": "<style  type=\"text/css\" >\n#T_d7041_row0_col0{\n            background-color:  #c43032;\n            color:  #f1f1f1;\n        }#T_d7041_row0_col1{\n            background-color:  #e7745b;\n            color:  #000000;\n        }#T_d7041_row0_col2{\n            background-color:  #cad8ef;\n            color:  #000000;\n        }#T_d7041_row0_col3{\n            background-color:  #bfd3f6;\n            color:  #000000;\n        }#T_d7041_row1_col0,#T_d7041_row2_col0,#T_d7041_row2_col1,#T_d7041_row2_col2,#T_d7041_row2_col3{\n            background-color:  #b40426;\n            color:  #f1f1f1;\n        }#T_d7041_row1_col1{\n            background-color:  #c0282f;\n            color:  #f1f1f1;\n        }#T_d7041_row1_col2{\n            background-color:  #d3dbe7;\n            color:  #000000;\n        }#T_d7041_row1_col3{\n            background-color:  #aec9fc;\n            color:  #000000;\n        }#T_d7041_row3_col0{\n            background-color:  #edd1c2;\n            color:  #000000;\n        }#T_d7041_row3_col1{\n            background-color:  #ecd3c5;\n            color:  #000000;\n        }#T_d7041_row3_col2{\n            background-color:  #f5c4ac;\n            color:  #000000;\n        }#T_d7041_row3_col3{\n            background-color:  #de614d;\n            color:  #000000;\n        }#T_d7041_row4_col0,#T_d7041_row4_col1,#T_d7041_row4_col2,#T_d7041_row4_col3{\n            background-color:  #3b4cc0;\n            color:  #f1f1f1;\n        }</style><table id=\"T_d7041_\" ><thead>    <tr>        <th class=\"blank level0\" ></th>        <th class=\"col_heading level0 col0\" >Primary</th>        <th class=\"col_heading level0 col1\" >Upper_primary</th>        <th class=\"col_heading level0 col2\" >Secondary</th>        <th class=\"col_heading level0 col3\" >Higher_secondary</th>    </tr></thead><tbody>\n                <tr>\n                        <th id=\"T_d7041_level0_row0\" class=\"row_heading level0 row0\" >Boys toilet</th>\n                        <td id=\"T_d7041_row0_col0\" class=\"data row0 col0\" >90.482056</td>\n                        <td id=\"T_d7041_row0_col1\" class=\"data row0 col1\" >82.052897</td>\n                        <td id=\"T_d7041_row0_col2\" class=\"data row0 col2\" >47.042523</td>\n                        <td id=\"T_d7041_row0_col3\" class=\"data row0 col3\" >57.795327</td>\n            </tr>\n            <tr>\n                        <th id=\"T_d7041_level0_row1\" class=\"row_heading level0 row1\" >Girls toilet</th>\n                        <td id=\"T_d7041_row1_col0\" class=\"data row1 col0\" >93.837290</td>\n                        <td id=\"T_d7041_row1_col1\" class=\"data row1 col1\" >87.606542</td>\n                        <td id=\"T_d7041_row1_col2\" class=\"data row1 col2\" >48.004299</td>\n                        <td id=\"T_d7041_row1_col3\" class=\"data row1 col3\" >56.099720</td>\n            </tr>\n            <tr>\n                        <th id=\"T_d7041_level0_row2\" class=\"row_heading level0 row2\" >Drinking water</th>\n                        <td id=\"T_d7041_row2_col0\" class=\"data row2 col0\" >93.692710</td>\n                        <td id=\"T_d7041_row2_col1\" class=\"data row2 col1\" >88.966822</td>\n                        <td id=\"T_d7041_row2_col2\" class=\"data row2 col2\" >65.328972</td>\n                        <td id=\"T_d7041_row2_col3\" class=\"data row2 col3\" >78.471682</td>\n            </tr>\n            <tr>\n                        <th id=\"T_d7041_level0_row3\" class=\"row_heading level0 row3\" >Electricity</th>\n                        <td id=\"T_d7041_row3_col0\" class=\"data row3 col0\" >62.602710</td>\n                        <td id=\"T_d7041_row3_col1\" class=\"data row3 col1\" >71.003364</td>\n                        <td id=\"T_d7041_row3_col2\" class=\"data row3 col2\" >53.258318</td>\n                        <td id=\"T_d7041_row3_col3\" class=\"data row3 col3\" >74.157103</td>\n            </tr>\n            <tr>\n                        <th id=\"T_d7041_level0_row4\" class=\"row_heading level0 row4\" >Computers</th>\n                        <td id=\"T_d7041_row4_col0\" class=\"data row4 col0\" >21.072617</td>\n                        <td id=\"T_d7041_row4_col1\" class=\"data row4 col1\" >47.788411</td>\n                        <td id=\"T_d7041_row4_col2\" class=\"data row4 col2\" >33.048318</td>\n                        <td id=\"T_d7041_row4_col3\" class=\"data row4 col3\" >44.178131</td>\n            </tr>\n    </tbody></table>"
     },
     "metadata": {},
     "execution_count": 545
    }
   ],
   "source": [
    "composite.transpose().style.background_gradient(cmap='coolwarm')"
   ]
  },
  {
   "source": [
    "`Observations:`\n",
    "\n",
    "* More than 50% states have atleast 92% schools with drinking water\n",
    "* Much more schools have drinking water as compared to electricity\n",
    "* Even lower percentage of schools have computer facility\n",
    "* Higher percentage of schools have girls toilets as compared to boys toilets"
   ],
   "cell_type": "markdown",
   "metadata": {}
  },
  {
   "source": [
    "# Hypothesis testing"
   ],
   "cell_type": "markdown",
   "metadata": {}
  },
  {
   "source": [
    "## Dropouts"
   ],
   "cell_type": "markdown",
   "metadata": {}
  },
  {
   "source": [
    "$$H_0 = Dropout\\ rates\\ of\\ girls\\ =\\ dropout\\ rates\\ of\\ boys$$\n",
    "$$H_A = Dropout\\ rates\\ of\\ girls\\ \\neq\\ dropout\\ rates\\ of\\ boys$$"
   ],
   "cell_type": "markdown",
   "metadata": {}
  },
  {
   "source": [
    "$$ t = \\frac{\\bar X_1 - \\bar X_2}{\\sqrt{\\frac{s_1^2}{n_1}+\\frac{s_2^2}{n_2}}} $$"
   ],
   "cell_type": "markdown",
   "metadata": {}
  },
  {
   "cell_type": "code",
   "execution_count": 546,
   "metadata": {},
   "outputs": [
    {
     "output_type": "execute_result",
     "data": {
      "text/plain": [
       "(-0.9810354738258853, 0.3299538292807268)"
      ]
     },
     "metadata": {},
     "execution_count": 546
    }
   ],
   "source": [
    "g_m,g_sd=dropouts_girls.mean(), dropouts_girls.std()\n",
    "b_m,b_sd=dropouts_boys.mean(), dropouts_boys.std()\n",
    "\n",
    "Z = (g_m-b_m)/(g_sd**2/36+b_sd**2/36)\n",
    "\n",
    "#find p-value for two-tailed test\n",
    "s,p=scipy.stats.ttest_ind(dropouts_girls,dropouts_boys,alternative='two-sided')\n",
    "s,p"
   ]
  },
  {
   "source": [
    "$$There\\ is\\ a\\ 17\\%\\ chance\\ of\\ boys'\\ and\\ girls'\\ dropout\\ rates\\ being\\ same. $$"
   ],
   "cell_type": "markdown",
   "metadata": {}
  },
  {
   "cell_type": "code",
   "execution_count": 547,
   "metadata": {},
   "outputs": [
    {
     "output_type": "stream",
     "name": "stdout",
     "text": [
      "F-Statistic=45.282, p=0.000\n"
     ]
    }
   ],
   "source": [
    "F, p = scipy.stats.f_oneway(dropouts_x['PRIMARY_TOTAL'],dropouts_x['UPPER_PRIMARY_TOTAL'],dropouts_x['SECONDARY_TOTAL'],dropouts_x['HRSECONDARY_TOTAL'])\n",
    "# Seeing if the overall model is significant\n",
    "print('F-Statistic=%.3f, p=%.3f' % (F, p))"
   ]
  },
  {
   "source": [
    "## Enrollments"
   ],
   "cell_type": "markdown",
   "metadata": {}
  },
  {
   "source": [
    "$$H_0 = Enrollment\\ rates\\ of\\ girls\\ =\\ enrollment\\ rates\\ of\\ boys$$\n",
    "$$H_A = Enrollment\\ rates\\ of\\ girls\\ \\neq\\ enrollment\\ rates\\ of\\ boys$$"
   ],
   "cell_type": "markdown",
   "metadata": {}
  },
  {
   "cell_type": "code",
   "execution_count": 548,
   "metadata": {},
   "outputs": [
    {
     "output_type": "execute_result",
     "data": {
      "text/plain": [
       "(0.9242406257489818, 0.35853619885206833)"
      ]
     },
     "metadata": {},
     "execution_count": 548
    }
   ],
   "source": [
    "g_m,g_sd=enrollments_girls.mean(), enrollments_girls.std()\n",
    "b_m,b_sd=enrollments_boys.mean(), enrollments_boys.std()\n",
    "\n",
    "Z = (g_m-b_m)/(g_sd**2/36+b_sd**2/36)\n",
    "\n",
    "#find p-value for two-tailed test\n",
    "s,p=scipy.stats.ttest_ind(enrollments_girls,enrollments_boys,alternative='two-sided')\n",
    "s,p"
   ]
  },
  {
   "source": [
    "$$There\\ is\\ a\\ 72\\%\\ chance\\ of\\ boys'\\ and\\ girls'\\ enrollment\\ rates\\ being\\ same.$$"
   ],
   "cell_type": "markdown",
   "metadata": {}
  },
  {
   "source": [
    "$$ANOVA\\\\ H_0\\ =\\ Enrollment\\ rates\\ are\\ the\\ same\\ in\\ primary,\\ upper\\ primary,\\ secondary\\ and\\ higher\\ secondary \\\\ H_A\\ =\\ Enrollment\\ rates\\ are\\ different\\ in\\ primary,\\ upper\\ primary,\\ secondary\\ and\\ higher\\ secondary$$"
   ],
   "cell_type": "markdown",
   "metadata": {}
  },
  {
   "cell_type": "code",
   "execution_count": 549,
   "metadata": {},
   "outputs": [
    {
     "output_type": "stream",
     "name": "stdout",
     "text": [
      "F-Statistic=56.868, p=0.000\n"
     ]
    }
   ],
   "source": [
    "F, p = scipy.stats.f_oneway(enrollments_x['Primary_Total'],enrollments_x['Upper_Primary_Total'],enrollments_x['Secondary_Total'],enrollments_x['Higher_Secondary_Total'])\n",
    "# Seeing if the overall model is significant\n",
    "print('F-Statistic=%.3f, p=%.3f' % (F, p))"
   ]
  },
  {
   "source": [
    "$$The\\ enrollment\\ rates\\ are\\ different\\ in\\ primary,\\ upper\\ primary,\\ secondary\\ and\\ higher\\ secondary\\$$"
   ],
   "cell_type": "markdown",
   "metadata": {}
  },
  {
   "source": [
    "## Student to teacher ratio"
   ],
   "cell_type": "markdown",
   "metadata": {}
  },
  {
   "source": [
    "$$ANOVA\\\\ H_0\\ =\\ Student\\ to\\ teacher\\ ratio\\ is\\ the\\ same\\ in\\ primary,\\ upper\\ primary,\\ secondary\\ and\\ higher\\ secondary \\\\ H_A\\ =\\ Student\\ to\\ teacher\\ ratio\\ is\\ different\\ in\\ primary,\\ upper\\ primary,\\ secondary\\ and\\ higher\\ secondary$$"
   ],
   "cell_type": "markdown",
   "metadata": {}
  },
  {
   "cell_type": "code",
   "execution_count": 550,
   "metadata": {},
   "outputs": [
    {
     "output_type": "stream",
     "name": "stdout",
     "text": [
      "F-Statistic=12.850, p=0.000\n"
     ]
    }
   ],
   "source": [
    "F, p = scipy.stats.f_oneway(ptr['Primary'],ptr['Upper Primary'],ptr['Secondary'],ptr['Higher Secondary'])\n",
    "# Seeing if the overall model is significant\n",
    "print('F-Statistic=%.3f, p=%.3f' % (F, p))"
   ]
  },
  {
   "source": [
    "$$The\\ student\\ to\\ teacher\\ ratio\\ is\\ different\\ in\\ primary,\\ upper\\ primary,\\ secondary\\ and\\ higher\\ secondary\\$$"
   ],
   "cell_type": "markdown",
   "metadata": {}
  },
  {
   "source": [
    "## Other factors"
   ],
   "cell_type": "markdown",
   "metadata": {}
  },
  {
   "source": [
    "$$ANOVA\\\\ H_0\\ =\\ Presence\\ of\\ different\\ factors\\ is\\ the\\ same\\ in\\ primary,\\ upper\\ primary,\\ secondary\\ and\\ higher\\ secondary \\\\ H_A\\ =\\ Presence\\ of\\ different\\ factors\\ is\\ different\\ in\\ primary,\\ upper\\ primary,\\ secondary\\ and\\ higher\\ secondary$$"
   ],
   "cell_type": "markdown",
   "metadata": {}
  },
  {
   "cell_type": "code",
   "execution_count": 551,
   "metadata": {},
   "outputs": [
    {
     "output_type": "stream",
     "name": "stdout",
     "text": [
      "F-Statistic=53.836, p=0.000\n"
     ]
    }
   ],
   "source": [
    "F, p = scipy.stats.f_oneway(factors['Drinking water'],factors['Electricity'],factors['Computer'],factors['Boys toilet'],factors['Girls toilet'])\n",
    "# Seeing if the overall model is significant\n",
    "print('F-Statistic=%.3f, p=%.3f' % (F, p))"
   ]
  },
  {
   "source": [
    "$$The\\ presence\\ of\\ different\\ factors\\ is\\ different\\ in\\ schools$$"
   ],
   "cell_type": "markdown",
   "metadata": {}
  },
  {
   "cell_type": "code",
   "execution_count": 552,
   "metadata": {},
   "outputs": [
    {
     "output_type": "execute_result",
     "data": {
      "text/plain": [
       "                  Primary  Upper_primary  Secondary  Higher_secondary\n",
       "Boys toilet     90.482056      82.052897  47.042523         57.795327\n",
       "Girls toilet    93.837290      87.606542  48.004299         56.099720\n",
       "Drinking water  93.692710      88.966822  65.328972         78.471682\n",
       "Electricity     62.602710      71.003364  53.258318         74.157103\n",
       "Computers       21.072617      47.788411  33.048318         44.178131"
      ],
      "text/html": "<div>\n<style scoped>\n    .dataframe tbody tr th:only-of-type {\n        vertical-align: middle;\n    }\n\n    .dataframe tbody tr th {\n        vertical-align: top;\n    }\n\n    .dataframe thead th {\n        text-align: right;\n    }\n</style>\n<table border=\"1\" class=\"dataframe\">\n  <thead>\n    <tr style=\"text-align: right;\">\n      <th></th>\n      <th>Primary</th>\n      <th>Upper_primary</th>\n      <th>Secondary</th>\n      <th>Higher_secondary</th>\n    </tr>\n  </thead>\n  <tbody>\n    <tr>\n      <th>Boys toilet</th>\n      <td>90.482056</td>\n      <td>82.052897</td>\n      <td>47.042523</td>\n      <td>57.795327</td>\n    </tr>\n    <tr>\n      <th>Girls toilet</th>\n      <td>93.837290</td>\n      <td>87.606542</td>\n      <td>48.004299</td>\n      <td>56.099720</td>\n    </tr>\n    <tr>\n      <th>Drinking water</th>\n      <td>93.692710</td>\n      <td>88.966822</td>\n      <td>65.328972</td>\n      <td>78.471682</td>\n    </tr>\n    <tr>\n      <th>Electricity</th>\n      <td>62.602710</td>\n      <td>71.003364</td>\n      <td>53.258318</td>\n      <td>74.157103</td>\n    </tr>\n    <tr>\n      <th>Computers</th>\n      <td>21.072617</td>\n      <td>47.788411</td>\n      <td>33.048318</td>\n      <td>44.178131</td>\n    </tr>\n  </tbody>\n</table>\n</div>"
     },
     "metadata": {},
     "execution_count": 552
    }
   ],
   "source": [
    "composite=composite.swapaxes(\"index\",\"columns\")\n",
    "composite"
   ]
  },
  {
   "cell_type": "code",
   "execution_count": 553,
   "metadata": {},
   "outputs": [
    {
     "output_type": "execute_result",
     "data": {
      "text/plain": [
       "['Primary', 'Upper_primary', 'Secondary', 'Higher_secondary']"
      ]
     },
     "metadata": {},
     "execution_count": 553
    }
   ],
   "source": [
    "list(composite.columns)"
   ]
  },
  {
   "cell_type": "code",
   "execution_count": 554,
   "metadata": {},
   "outputs": [
    {
     "output_type": "stream",
     "name": "stdout",
     "text": [
      "F-Statistic=1.721, p=0.203\n"
     ]
    }
   ],
   "source": [
    "F, p = scipy.stats.f_oneway(composite['Primary'],composite['Upper_primary'],composite['Secondary'],composite['Higher_secondary'])\n",
    "# Seeing if the overall model is significant\n",
    "print('F-Statistic=%.3f, p=%.3f' % (F, p))"
   ]
  },
  {
   "cell_type": "code",
   "execution_count": null,
   "metadata": {},
   "outputs": [],
   "source": []
  },
  {
   "source": [
    "# Analysis"
   ],
   "cell_type": "markdown",
   "metadata": {}
  },
  {
   "cell_type": "code",
   "execution_count": 555,
   "metadata": {},
   "outputs": [],
   "source": [
    "#ptr['average ptr']=(ptr['Primary']+ptr['Upper Primary']+ptr['Secondary']+ptr['Higher Secondary'])/4\n",
    "ptr.drop(['State'],axis=1,inplace=True)"
   ]
  },
  {
   "cell_type": "code",
   "execution_count": 556,
   "metadata": {},
   "outputs": [],
   "source": [
    "#Only keeping totals for overall analysis\n",
    "\n",
    "dropouts_x=dropouts_x[['PRIMARY_TOTAL', 'UPPER_PRIMARY_TOTAL', 'SECONDARY_TOTAL','HRSECONDARY_TOTAL']]\n",
    "enrollments_x=enrollments_x[['Primary_Total', 'Upper_Primary_Total', 'Secondary_Total','Higher_Secondary_Total']]\n",
    "factors.drop(['State'],axis=1,inplace=True)"
   ]
  },
  {
   "cell_type": "code",
   "execution_count": 557,
   "metadata": {},
   "outputs": [],
   "source": [
    "#Creating dataset for overall analysis\n",
    "dataset=pd.concat([dropouts_x,enrollments_x,factors,ptr],axis=1)\n",
    "cols=[]\n",
    "for col in dataset.columns[:4]:\n",
    "    cols.append(\"Dropout-\"+col[:-6])\n",
    "for col in dataset.columns[4:8]:\n",
    "    cols.append(\"Enrollments-\"+col[:-6])\n",
    "for col in dataset.columns[8:13]:\n",
    "    cols.append(col)  \n",
    "for col in dataset.columns[13:17]:\n",
    "    cols.append(\"PTR-\"+col)   \n",
    "dataset.columns=cols\n"
   ]
  },
  {
   "cell_type": "code",
   "execution_count": 558,
   "metadata": {},
   "outputs": [
    {
     "output_type": "execute_result",
     "data": {
      "text/plain": [
       "<pandas.io.formats.style.Styler at 0x2b49c3e3490>"
      ],
      "text/html": "<style  type=\"text/css\" >\n#T_f25b0_row0_col0,#T_f25b0_row1_col1,#T_f25b0_row2_col2,#T_f25b0_row3_col3,#T_f25b0_row4_col4,#T_f25b0_row5_col5,#T_f25b0_row6_col6,#T_f25b0_row7_col7,#T_f25b0_row8_col8,#T_f25b0_row9_col9,#T_f25b0_row10_col10,#T_f25b0_row11_col11,#T_f25b0_row12_col12,#T_f25b0_row13_col13,#T_f25b0_row14_col14,#T_f25b0_row15_col15,#T_f25b0_row16_col16{\n            background-color:  #b40426;\n            color:  #f1f1f1;\n        }#T_f25b0_row0_col1{\n            background-color:  #da5a49;\n            color:  #000000;\n        }#T_f25b0_row0_col2,#T_f25b0_row7_col10{\n            background-color:  #f7a98b;\n            color:  #000000;\n        }#T_f25b0_row0_col3,#T_f25b0_row2_col10,#T_f25b0_row6_col15{\n            background-color:  #445acc;\n            color:  #f1f1f1;\n        }#T_f25b0_row0_col4{\n            background-color:  #f7a688;\n            color:  #000000;\n        }#T_f25b0_row0_col5,#T_f25b0_row3_col2{\n            background-color:  #a7c5fe;\n            color:  #000000;\n        }#T_f25b0_row0_col6,#T_f25b0_row1_col14,#T_f25b0_row13_col10,#T_f25b0_row14_col12{\n            background-color:  #7597f6;\n            color:  #000000;\n        }#T_f25b0_row0_col7,#T_f25b0_row3_col0,#T_f25b0_row15_col9{\n            background-color:  #93b5fe;\n            color:  #000000;\n        }#T_f25b0_row0_col8,#T_f25b0_row0_col9,#T_f25b0_row0_col10,#T_f25b0_row0_col12,#T_f25b0_row1_col11,#T_f25b0_row2_col7,#T_f25b0_row3_col14,#T_f25b0_row6_col13,#T_f25b0_row6_col16,#T_f25b0_row7_col1,#T_f25b0_row7_col2,#T_f25b0_row8_col0,#T_f25b0_row8_col4,#T_f25b0_row8_col5,#T_f25b0_row10_col15,#T_f25b0_row14_col3,#T_f25b0_row16_col5,#T_f25b0_row16_col6{\n            background-color:  #3b4cc0;\n            color:  #f1f1f1;\n        }#T_f25b0_row0_col11,#T_f25b0_row13_col3{\n            background-color:  #3d50c3;\n            color:  #f1f1f1;\n        }#T_f25b0_row0_col13,#T_f25b0_row5_col13,#T_f25b0_row6_col0,#T_f25b0_row12_col5,#T_f25b0_row13_col11,#T_f25b0_row16_col9{\n            background-color:  #8db0fe;\n            color:  #000000;\n        }#T_f25b0_row0_col14,#T_f25b0_row9_col5,#T_f25b0_row10_col4,#T_f25b0_row15_col3{\n            background-color:  #5a78e4;\n            color:  #000000;\n        }#T_f25b0_row0_col15,#T_f25b0_row9_col13{\n            background-color:  #8fb1fe;\n            color:  #000000;\n        }#T_f25b0_row0_col16,#T_f25b0_row7_col3{\n            background-color:  #d7dce3;\n            color:  #000000;\n        }#T_f25b0_row1_col0{\n            background-color:  #d85646;\n            color:  #000000;\n        }#T_f25b0_row1_col2,#T_f25b0_row8_col11{\n            background-color:  #e67259;\n            color:  #000000;\n        }#T_f25b0_row1_col3{\n            background-color:  #5673e0;\n            color:  #000000;\n        }#T_f25b0_row1_col4{\n            background-color:  #f7b396;\n            color:  #000000;\n        }#T_f25b0_row1_col5,#T_f25b0_row1_col13{\n            background-color:  #afcafc;\n            color:  #000000;\n        }#T_f25b0_row1_col6,#T_f25b0_row2_col9,#T_f25b0_row4_col11,#T_f25b0_row10_col13,#T_f25b0_row12_col1,#T_f25b0_row12_col15{\n            background-color:  #5d7ce6;\n            color:  #000000;\n        }#T_f25b0_row1_col7,#T_f25b0_row11_col5{\n            background-color:  #6a8bef;\n            color:  #000000;\n        }#T_f25b0_row1_col8,#T_f25b0_row3_col15,#T_f25b0_row4_col10,#T_f25b0_row7_col15,#T_f25b0_row12_col14{\n            background-color:  #5977e3;\n            color:  #000000;\n        }#T_f25b0_row1_col9,#T_f25b0_row10_col1,#T_f25b0_row16_col12{\n            background-color:  #506bda;\n            color:  #000000;\n        }#T_f25b0_row1_col10,#T_f25b0_row2_col3,#T_f25b0_row9_col0{\n            background-color:  #465ecf;\n            color:  #f1f1f1;\n        }#T_f25b0_row1_col12,#T_f25b0_row9_col1{\n            background-color:  #4257c9;\n            color:  #f1f1f1;\n        }#T_f25b0_row1_col15{\n            background-color:  #abc8fd;\n            color:  #000000;\n        }#T_f25b0_row1_col16,#T_f25b0_row3_col6,#T_f25b0_row14_col8,#T_f25b0_row16_col1{\n            background-color:  #e6d7cf;\n            color:  #000000;\n        }#T_f25b0_row2_col0{\n            background-color:  #f7b194;\n            color:  #000000;\n        }#T_f25b0_row2_col1,#T_f25b0_row7_col6{\n            background-color:  #ec7f63;\n            color:  #000000;\n        }#T_f25b0_row2_col4,#T_f25b0_row12_col3{\n            background-color:  #ecd3c5;\n            color:  #000000;\n        }#T_f25b0_row2_col5{\n            background-color:  #86a9fc;\n            color:  #000000;\n        }#T_f25b0_row2_col6,#T_f25b0_row2_col11,#T_f25b0_row9_col4,#T_f25b0_row16_col3{\n            background-color:  #4c66d6;\n            color:  #000000;\n        }#T_f25b0_row2_col8{\n            background-color:  #7da0f9;\n            color:  #000000;\n        }#T_f25b0_row2_col12,#T_f25b0_row7_col13{\n            background-color:  #516ddb;\n            color:  #000000;\n        }#T_f25b0_row2_col13{\n            background-color:  #dfdbd9;\n            color:  #000000;\n        }#T_f25b0_row2_col14,#T_f25b0_row13_col4,#T_f25b0_row13_col9,#T_f25b0_row15_col7{\n            background-color:  #b6cefa;\n            color:  #000000;\n        }#T_f25b0_row2_col15{\n            background-color:  #c1d4f4;\n            color:  #000000;\n        }#T_f25b0_row2_col16{\n            background-color:  #e8d6cc;\n            color:  #000000;\n        }#T_f25b0_row3_col1,#T_f25b0_row11_col2{\n            background-color:  #8badfd;\n            color:  #000000;\n        }#T_f25b0_row3_col4,#T_f25b0_row5_col10{\n            background-color:  #9abbff;\n            color:  #000000;\n        }#T_f25b0_row3_col5,#T_f25b0_row5_col15{\n            background-color:  #9bbcff;\n            color:  #000000;\n        }#T_f25b0_row3_col7,#T_f25b0_row6_col12{\n            background-color:  #f5c2aa;\n            color:  #000000;\n        }#T_f25b0_row3_col8,#T_f25b0_row3_col11{\n            background-color:  #f1cdba;\n            color:  #000000;\n        }#T_f25b0_row3_col9,#T_f25b0_row4_col1,#T_f25b0_row11_col7{\n            background-color:  #f7af91;\n            color:  #000000;\n        }#T_f25b0_row3_col10,#T_f25b0_row12_col6{\n            background-color:  #f7b99e;\n            color:  #000000;\n        }#T_f25b0_row3_col12,#T_f25b0_row10_col3,#T_f25b0_row11_col6{\n            background-color:  #f2cab5;\n            color:  #000000;\n        }#T_f25b0_row3_col13{\n            background-color:  #536edd;\n            color:  #000000;\n        }#T_f25b0_row3_col16,#T_f25b0_row11_col15{\n            background-color:  #82a6fb;\n            color:  #000000;\n        }#T_f25b0_row4_col0,#T_f25b0_row14_col16{\n            background-color:  #f49a7b;\n            color:  #000000;\n        }#T_f25b0_row4_col2{\n            background-color:  #f6bfa6;\n            color:  #000000;\n        }#T_f25b0_row4_col3,#T_f25b0_row12_col13{\n            background-color:  #7093f3;\n            color:  #000000;\n        }#T_f25b0_row4_col5,#T_f25b0_row15_col16{\n            background-color:  #f08b6e;\n            color:  #000000;\n        }#T_f25b0_row4_col6{\n            background-color:  #cedaeb;\n            color:  #000000;\n        }#T_f25b0_row4_col7,#T_f25b0_row8_col13{\n            background-color:  #b9d0f9;\n            color:  #000000;\n        }#T_f25b0_row4_col8{\n            background-color:  #5e7de7;\n            color:  #000000;\n        }#T_f25b0_row4_col9,#T_f25b0_row13_col5{\n            background-color:  #6485ec;\n            color:  #000000;\n        }#T_f25b0_row4_col12{\n            background-color:  #688aef;\n            color:  #000000;\n        }#T_f25b0_row4_col13,#T_f25b0_row14_col4,#T_f25b0_row16_col4,#T_f25b0_row16_col7{\n            background-color:  #a5c3fe;\n            color:  #000000;\n        }#T_f25b0_row4_col14,#T_f25b0_row7_col0,#T_f25b0_row9_col2,#T_f25b0_row10_col2{\n            background-color:  #7ea1fa;\n            color:  #000000;\n        }#T_f25b0_row4_col15{\n            background-color:  #97b8ff;\n            color:  #000000;\n        }#T_f25b0_row4_col16,#T_f25b0_row5_col3,#T_f25b0_row5_col9{\n            background-color:  #adc9fd;\n            color:  #000000;\n        }#T_f25b0_row5_col0,#T_f25b0_row16_col0{\n            background-color:  #e3d9d3;\n            color:  #000000;\n        }#T_f25b0_row5_col1,#T_f25b0_row5_col2{\n            background-color:  #dcdddd;\n            color:  #000000;\n        }#T_f25b0_row5_col4{\n            background-color:  #e9785d;\n            color:  #000000;\n        }#T_f25b0_row5_col6,#T_f25b0_row9_col6{\n            background-color:  #f7b599;\n            color:  #000000;\n        }#T_f25b0_row5_col7{\n            background-color:  #e1dad6;\n            color:  #000000;\n        }#T_f25b0_row5_col8{\n            background-color:  #9dbdff;\n            color:  #000000;\n        }#T_f25b0_row5_col11,#T_f25b0_row8_col16{\n            background-color:  #a2c1ff;\n            color:  #000000;\n        }#T_f25b0_row5_col12{\n            background-color:  #b5cdfa;\n            color:  #000000;\n        }#T_f25b0_row5_col14,#T_f25b0_row14_col10{\n            background-color:  #779af7;\n            color:  #000000;\n        }#T_f25b0_row5_col16{\n            background-color:  #84a7fc;\n            color:  #000000;\n        }#T_f25b0_row6_col1,#T_f25b0_row10_col5,#T_f25b0_row13_col6{\n            background-color:  #5b7ae5;\n            color:  #000000;\n        }#T_f25b0_row6_col2,#T_f25b0_row11_col13,#T_f25b0_row15_col6{\n            background-color:  #7b9ff9;\n            color:  #000000;\n        }#T_f25b0_row6_col3{\n            background-color:  #cdd9ec;\n            color:  #000000;\n        }#T_f25b0_row6_col4{\n            background-color:  #cad8ef;\n            color:  #000000;\n        }#T_f25b0_row6_col5,#T_f25b0_row8_col6{\n            background-color:  #efcfbf;\n            color:  #000000;\n        }#T_f25b0_row6_col7{\n            background-color:  #e57058;\n            color:  #000000;\n        }#T_f25b0_row6_col8,#T_f25b0_row16_col2{\n            background-color:  #f3c7b1;\n            color:  #000000;\n        }#T_f25b0_row6_col9{\n            background-color:  #f7b093;\n            color:  #000000;\n        }#T_f25b0_row6_col10{\n            background-color:  #f6bea4;\n            color:  #000000;\n        }#T_f25b0_row6_col11,#T_f25b0_row7_col12,#T_f25b0_row15_col2{\n            background-color:  #efcebd;\n            color:  #000000;\n        }#T_f25b0_row6_col14{\n            background-color:  #4a63d3;\n            color:  #f1f1f1;\n        }#T_f25b0_row7_col4,#T_f25b0_row15_col5{\n            background-color:  #89acfd;\n            color:  #000000;\n        }#T_f25b0_row7_col5{\n            background-color:  #92b4fe;\n            color:  #000000;\n        }#T_f25b0_row7_col8,#T_f25b0_row12_col7{\n            background-color:  #f7b497;\n            color:  #000000;\n        }#T_f25b0_row7_col9,#T_f25b0_row14_col15,#T_f25b0_row15_col14{\n            background-color:  #f6a283;\n            color:  #000000;\n        }#T_f25b0_row7_col11{\n            background-color:  #f4c6af;\n            color:  #000000;\n        }#T_f25b0_row7_col14,#T_f25b0_row14_col5{\n            background-color:  #6384eb;\n            color:  #000000;\n        }#T_f25b0_row7_col16,#T_f25b0_row16_col11{\n            background-color:  #7a9df8;\n            color:  #000000;\n        }#T_f25b0_row8_col1{\n            background-color:  #3e51c5;\n            color:  #f1f1f1;\n        }#T_f25b0_row8_col2{\n            background-color:  #90b2fe;\n            color:  #000000;\n        }#T_f25b0_row8_col3{\n            background-color:  #d2dbe8;\n            color:  #000000;\n        }#T_f25b0_row8_col7{\n            background-color:  #f7ac8e;\n            color:  #000000;\n        }#T_f25b0_row8_col9,#T_f25b0_row9_col10,#T_f25b0_row11_col12,#T_f25b0_row12_col11,#T_f25b0_row13_col14{\n            background-color:  #cf453c;\n            color:  #f1f1f1;\n        }#T_f25b0_row8_col10,#T_f25b0_row11_col9,#T_f25b0_row12_col8{\n            background-color:  #e7745b;\n            color:  #000000;\n        }#T_f25b0_row8_col12{\n            background-color:  #ee8468;\n            color:  #000000;\n        }#T_f25b0_row8_col14,#T_f25b0_row13_col0,#T_f25b0_row14_col7{\n            background-color:  #bcd2f7;\n            color:  #000000;\n        }#T_f25b0_row8_col15{\n            background-color:  #96b7ff;\n            color:  #000000;\n        }#T_f25b0_row9_col3{\n            background-color:  #f3c8b2;\n            color:  #000000;\n        }#T_f25b0_row9_col7{\n            background-color:  #f39778;\n            color:  #000000;\n        }#T_f25b0_row9_col8,#T_f25b0_row14_col13{\n            background-color:  #cd423b;\n            color:  #f1f1f1;\n        }#T_f25b0_row9_col11{\n            background-color:  #ea7b60;\n            color:  #000000;\n        }#T_f25b0_row9_col12,#T_f25b0_row12_col10{\n            background-color:  #de614d;\n            color:  #000000;\n        }#T_f25b0_row9_col14{\n            background-color:  #81a4fb;\n            color:  #000000;\n        }#T_f25b0_row9_col15{\n            background-color:  #4f69d9;\n            color:  #000000;\n        }#T_f25b0_row9_col16,#T_f25b0_row14_col6{\n            background-color:  #80a3fa;\n            color:  #000000;\n        }#T_f25b0_row10_col0{\n            background-color:  #5f7fe8;\n            color:  #000000;\n        }#T_f25b0_row10_col6{\n            background-color:  #f7ba9f;\n            color:  #000000;\n        }#T_f25b0_row10_col7{\n            background-color:  #f39475;\n            color:  #000000;\n        }#T_f25b0_row10_col8{\n            background-color:  #e36b54;\n            color:  #000000;\n        }#T_f25b0_row10_col9{\n            background-color:  #cc403a;\n            color:  #f1f1f1;\n        }#T_f25b0_row10_col11,#T_f25b0_row11_col10{\n            background-color:  #e46e56;\n            color:  #000000;\n        }#T_f25b0_row10_col12{\n            background-color:  #e0654f;\n            color:  #000000;\n        }#T_f25b0_row10_col14{\n            background-color:  #4b64d5;\n            color:  #f1f1f1;\n        }#T_f25b0_row10_col16,#T_f25b0_row12_col4,#T_f25b0_row15_col12{\n            background-color:  #799cf8;\n            color:  #000000;\n        }#T_f25b0_row11_col0{\n            background-color:  #6687ed;\n            color:  #000000;\n        }#T_f25b0_row11_col1{\n            background-color:  #4961d2;\n            color:  #f1f1f1;\n        }#T_f25b0_row11_col3{\n            background-color:  #e5d8d1;\n            color:  #000000;\n        }#T_f25b0_row11_col4{\n            background-color:  #6282ea;\n            color:  #000000;\n        }#T_f25b0_row11_col8{\n            background-color:  #e16751;\n            color:  #000000;\n        }#T_f25b0_row11_col14,#T_f25b0_row12_col0,#T_f25b0_row16_col10{\n            background-color:  #6f92f3;\n            color:  #000000;\n        }#T_f25b0_row11_col16{\n            background-color:  #88abfd;\n            color:  #000000;\n        }#T_f25b0_row12_col2{\n            background-color:  #98b9ff;\n            color:  #000000;\n        }#T_f25b0_row12_col9{\n            background-color:  #d95847;\n            color:  #000000;\n        }#T_f25b0_row12_col16{\n            background-color:  #6b8df0;\n            color:  #000000;\n        }#T_f25b0_row13_col1{\n            background-color:  #c6d6f1;\n            color:  #000000;\n        }#T_f25b0_row13_col2{\n            background-color:  #f5c4ac;\n            color:  #000000;\n        }#T_f25b0_row13_col7{\n            background-color:  #9fbfff;\n            color:  #000000;\n        }#T_f25b0_row13_col8{\n            background-color:  #dadce0;\n            color:  #000000;\n        }#T_f25b0_row13_col12{\n            background-color:  #7699f6;\n            color:  #000000;\n        }#T_f25b0_row13_col15{\n            background-color:  #f4c5ad;\n            color:  #000000;\n        }#T_f25b0_row13_col16,#T_f25b0_row16_col15{\n            background-color:  #f59f80;\n            color:  #000000;\n        }#T_f25b0_row14_col0,#T_f25b0_row14_col1,#T_f25b0_row15_col11{\n            background-color:  #a6c4fe;\n            color:  #000000;\n        }#T_f25b0_row14_col2{\n            background-color:  #ead4c8;\n            color:  #000000;\n        }#T_f25b0_row14_col9,#T_f25b0_row15_col4{\n            background-color:  #bad0f8;\n            color:  #000000;\n        }#T_f25b0_row14_col11{\n            background-color:  #94b6ff;\n            color:  #000000;\n        }#T_f25b0_row15_col0{\n            background-color:  #ccd9ed;\n            color:  #000000;\n        }#T_f25b0_row15_col1,#T_f25b0_row15_col8{\n            background-color:  #cfdaea;\n            color:  #000000;\n        }#T_f25b0_row15_col10{\n            background-color:  #6788ee;\n            color:  #000000;\n        }#T_f25b0_row15_col13{\n            background-color:  #f6bda2;\n            color:  #000000;\n        }#T_f25b0_row16_col8{\n            background-color:  #b7cff9;\n            color:  #000000;\n        }#T_f25b0_row16_col13{\n            background-color:  #f7aa8c;\n            color:  #000000;\n        }#T_f25b0_row16_col14{\n            background-color:  #f7ad90;\n            color:  #000000;\n        }</style><table id=\"T_f25b0_\" ><thead>    <tr>        <th class=\"blank level0\" ></th>        <th class=\"col_heading level0 col0\" >Dropout-PRIMARY</th>        <th class=\"col_heading level0 col1\" >Dropout-UPPER_PRIMARY</th>        <th class=\"col_heading level0 col2\" >Dropout-SECONDARY</th>        <th class=\"col_heading level0 col3\" >Dropout-HRSECONDARY</th>        <th class=\"col_heading level0 col4\" >Enrollments-Primary</th>        <th class=\"col_heading level0 col5\" >Enrollments-Upper_Primary</th>        <th class=\"col_heading level0 col6\" >Enrollments-Secondary</th>        <th class=\"col_heading level0 col7\" >Enrollments-Higher_Secondary</th>        <th class=\"col_heading level0 col8\" >Drinking water</th>        <th class=\"col_heading level0 col9\" >Electricity</th>        <th class=\"col_heading level0 col10\" >Computer</th>        <th class=\"col_heading level0 col11\" >Boys toilet</th>        <th class=\"col_heading level0 col12\" >Girls toilet</th>        <th class=\"col_heading level0 col13\" >PTR-Primary</th>        <th class=\"col_heading level0 col14\" >PTR-Upper Primary</th>        <th class=\"col_heading level0 col15\" >PTR-Secondary</th>        <th class=\"col_heading level0 col16\" >PTR-Higher Secondary</th>    </tr></thead><tbody>\n                <tr>\n                        <th id=\"T_f25b0_level0_row0\" class=\"row_heading level0 row0\" >Dropout-PRIMARY</th>\n                        <td id=\"T_f25b0_row0_col0\" class=\"data row0 col0\" >1.000000</td>\n                        <td id=\"T_f25b0_row0_col1\" class=\"data row0 col1\" >0.808626</td>\n                        <td id=\"T_f25b0_row0_col2\" class=\"data row0 col2\" >0.433988</td>\n                        <td id=\"T_f25b0_row0_col3\" class=\"data row0 col3\" >-0.326441</td>\n                        <td id=\"T_f25b0_row0_col4\" class=\"data row0 col4\" >0.546122</td>\n                        <td id=\"T_f25b0_row0_col5\" class=\"data row0 col5\" >0.140328</td>\n                        <td id=\"T_f25b0_row0_col6\" class=\"data row0 col6\" >-0.348632</td>\n                        <td id=\"T_f25b0_row0_col7\" class=\"data row0 col7\" >-0.428581</td>\n                        <td id=\"T_f25b0_row0_col8\" class=\"data row0 col8\" >-0.807090</td>\n                        <td id=\"T_f25b0_row0_col9\" class=\"data row0 col9\" >-0.735675</td>\n                        <td id=\"T_f25b0_row0_col10\" class=\"data row0 col10\" >-0.594915</td>\n                        <td id=\"T_f25b0_row0_col11\" class=\"data row0 col11\" >-0.553430</td>\n                        <td id=\"T_f25b0_row0_col12\" class=\"data row0 col12\" >-0.504931</td>\n                        <td id=\"T_f25b0_row0_col13\" class=\"data row0 col13\" >-0.103060</td>\n                        <td id=\"T_f25b0_row0_col14\" class=\"data row0 col14\" >-0.227747</td>\n                        <td id=\"T_f25b0_row0_col15\" class=\"data row0 col15\" >-0.015009</td>\n                        <td id=\"T_f25b0_row0_col16\" class=\"data row0 col16\" >0.140097</td>\n            </tr>\n            <tr>\n                        <th id=\"T_f25b0_level0_row1\" class=\"row_heading level0 row1\" >Dropout-UPPER_PRIMARY</th>\n                        <td id=\"T_f25b0_row1_col0\" class=\"data row1 col0\" >0.808626</td>\n                        <td id=\"T_f25b0_row1_col1\" class=\"data row1 col1\" >1.000000</td>\n                        <td id=\"T_f25b0_row1_col2\" class=\"data row1 col2\" >0.684685</td>\n                        <td id=\"T_f25b0_row1_col3\" class=\"data row1 col3\" >-0.245976</td>\n                        <td id=\"T_f25b0_row1_col4\" class=\"data row1 col4\" >0.491634</td>\n                        <td id=\"T_f25b0_row1_col5\" class=\"data row1 col5\" >0.171943</td>\n                        <td id=\"T_f25b0_row1_col6\" class=\"data row1 col6\" >-0.469755</td>\n                        <td id=\"T_f25b0_row1_col7\" class=\"data row1 col7\" >-0.649678</td>\n                        <td id=\"T_f25b0_row1_col8\" class=\"data row1 col8\" >-0.627836</td>\n                        <td id=\"T_f25b0_row1_col9\" class=\"data row1 col9\" >-0.607732</td>\n                        <td id=\"T_f25b0_row1_col10\" class=\"data row1 col10\" >-0.532561</td>\n                        <td id=\"T_f25b0_row1_col11\" class=\"data row1 col11\" >-0.571282</td>\n                        <td id=\"T_f25b0_row1_col12\" class=\"data row1 col12\" >-0.464949</td>\n                        <td id=\"T_f25b0_row1_col13\" class=\"data row1 col13\" >0.043657</td>\n                        <td id=\"T_f25b0_row1_col14\" class=\"data row1 col14\" >-0.120018</td>\n                        <td id=\"T_f25b0_row1_col15\" class=\"data row1 col15\" >0.097753</td>\n                        <td id=\"T_f25b0_row1_col16\" class=\"data row1 col16\" >0.234128</td>\n            </tr>\n            <tr>\n                        <th id=\"T_f25b0_level0_row2\" class=\"row_heading level0 row2\" >Dropout-SECONDARY</th>\n                        <td id=\"T_f25b0_row2_col0\" class=\"data row2 col0\" >0.433988</td>\n                        <td id=\"T_f25b0_row2_col1\" class=\"data row2 col1\" >0.684685</td>\n                        <td id=\"T_f25b0_row2_col2\" class=\"data row2 col2\" >1.000000</td>\n                        <td id=\"T_f25b0_row2_col3\" class=\"data row2 col3\" >-0.314359</td>\n                        <td id=\"T_f25b0_row2_col4\" class=\"data row2 col4\" >0.302703</td>\n                        <td id=\"T_f25b0_row2_col5\" class=\"data row2 col5\" >0.020849</td>\n                        <td id=\"T_f25b0_row2_col6\" class=\"data row2 col6\" >-0.551866</td>\n                        <td id=\"T_f25b0_row2_col7\" class=\"data row2 col7\" >-0.945431</td>\n                        <td id=\"T_f25b0_row2_col8\" class=\"data row2 col8\" >-0.437114</td>\n                        <td id=\"T_f25b0_row2_col9\" class=\"data row2 col9\" >-0.541753</td>\n                        <td id=\"T_f25b0_row2_col10\" class=\"data row2 col10\" >-0.540026</td>\n                        <td id=\"T_f25b0_row2_col11\" class=\"data row2 col11\" >-0.473535</td>\n                        <td id=\"T_f25b0_row2_col12\" class=\"data row2 col12\" >-0.391753</td>\n                        <td id=\"T_f25b0_row2_col13\" class=\"data row2 col13\" >0.275853</td>\n                        <td id=\"T_f25b0_row2_col14\" class=\"data row2 col14\" >0.134956</td>\n                        <td id=\"T_f25b0_row2_col15\" class=\"data row2 col15\" >0.188422</td>\n                        <td id=\"T_f25b0_row2_col16\" class=\"data row2 col16\" >0.249324</td>\n            </tr>\n            <tr>\n                        <th id=\"T_f25b0_level0_row3\" class=\"row_heading level0 row3\" >Dropout-HRSECONDARY</th>\n                        <td id=\"T_f25b0_row3_col0\" class=\"data row3 col0\" >-0.326441</td>\n                        <td id=\"T_f25b0_row3_col1\" class=\"data row3 col1\" >-0.245976</td>\n                        <td id=\"T_f25b0_row3_col2\" class=\"data row3 col2\" >-0.314359</td>\n                        <td id=\"T_f25b0_row3_col3\" class=\"data row3 col3\" >1.000000</td>\n                        <td id=\"T_f25b0_row3_col4\" class=\"data row3 col4\" >-0.139472</td>\n                        <td id=\"T_f25b0_row3_col5\" class=\"data row3 col5\" >0.096330</td>\n                        <td id=\"T_f25b0_row3_col6\" class=\"data row3 col6\" >0.235673</td>\n                        <td id=\"T_f25b0_row3_col7\" class=\"data row3 col7\" >0.285383</td>\n                        <td id=\"T_f25b0_row3_col8\" class=\"data row3 col8\" >0.260864</td>\n                        <td id=\"T_f25b0_row3_col9\" class=\"data row3 col9\" >0.469375</td>\n                        <td id=\"T_f25b0_row3_col10\" class=\"data row3 col10\" >0.459240</td>\n                        <td id=\"T_f25b0_row3_col11\" class=\"data row3 col11\" >0.358763</td>\n                        <td id=\"T_f25b0_row3_col12\" class=\"data row3 col12\" >0.403611</td>\n                        <td id=\"T_f25b0_row3_col13\" class=\"data row3 col13\" >-0.355863</td>\n                        <td id=\"T_f25b0_row3_col14\" class=\"data row3 col14\" >-0.370273</td>\n                        <td id=\"T_f25b0_row3_col15\" class=\"data row3 col15\" >-0.227721</td>\n                        <td id=\"T_f25b0_row3_col16\" class=\"data row3 col16\" >-0.288338</td>\n            </tr>\n            <tr>\n                        <th id=\"T_f25b0_level0_row4\" class=\"row_heading level0 row4\" >Enrollments-Primary</th>\n                        <td id=\"T_f25b0_row4_col0\" class=\"data row4 col0\" >0.546122</td>\n                        <td id=\"T_f25b0_row4_col1\" class=\"data row4 col1\" >0.491634</td>\n                        <td id=\"T_f25b0_row4_col2\" class=\"data row4 col2\" >0.302703</td>\n                        <td id=\"T_f25b0_row4_col3\" class=\"data row4 col3\" >-0.139472</td>\n                        <td id=\"T_f25b0_row4_col4\" class=\"data row4 col4\" >1.000000</td>\n                        <td id=\"T_f25b0_row4_col5\" class=\"data row4 col5\" >0.725354</td>\n                        <td id=\"T_f25b0_row4_col6\" class=\"data row4 col6\" >0.090862</td>\n                        <td id=\"T_f25b0_row4_col7\" class=\"data row4 col7\" >-0.214672</td>\n                        <td id=\"T_f25b0_row4_col8\" class=\"data row4 col8\" >-0.596135</td>\n                        <td id=\"T_f25b0_row4_col9\" class=\"data row4 col9\" >-0.498712</td>\n                        <td id=\"T_f25b0_row4_col10\" class=\"data row4 col10\" >-0.433719</td>\n                        <td id=\"T_f25b0_row4_col11\" class=\"data row4 col11\" >-0.393690</td>\n                        <td id=\"T_f25b0_row4_col12\" class=\"data row4 col12\" >-0.286598</td>\n                        <td id=\"T_f25b0_row4_col13\" class=\"data row4 col13\" >-0.004121</td>\n                        <td id=\"T_f25b0_row4_col14\" class=\"data row4 col14\" >-0.086150</td>\n                        <td id=\"T_f25b0_row4_col15\" class=\"data row4 col15\" >0.014167</td>\n                        <td id=\"T_f25b0_row4_col16\" class=\"data row4 col16\" >-0.087959</td>\n            </tr>\n            <tr>\n                        <th id=\"T_f25b0_level0_row5\" class=\"row_heading level0 row5\" >Enrollments-Upper_Primary</th>\n                        <td id=\"T_f25b0_row5_col0\" class=\"data row5 col0\" >0.140328</td>\n                        <td id=\"T_f25b0_row5_col1\" class=\"data row5 col1\" >0.171943</td>\n                        <td id=\"T_f25b0_row5_col2\" class=\"data row5 col2\" >0.020849</td>\n                        <td id=\"T_f25b0_row5_col3\" class=\"data row5 col3\" >0.096330</td>\n                        <td id=\"T_f25b0_row5_col4\" class=\"data row5 col4\" >0.725354</td>\n                        <td id=\"T_f25b0_row5_col5\" class=\"data row5 col5\" >1.000000</td>\n                        <td id=\"T_f25b0_row5_col6\" class=\"data row5 col6\" >0.461776</td>\n                        <td id=\"T_f25b0_row5_col7\" class=\"data row5 col7\" >0.062548</td>\n                        <td id=\"T_f25b0_row5_col8\" class=\"data row5 col8\" >-0.272681</td>\n                        <td id=\"T_f25b0_row5_col9\" class=\"data row5 col9\" >-0.144330</td>\n                        <td id=\"T_f25b0_row5_col10\" class=\"data row5 col10\" >-0.138739</td>\n                        <td id=\"T_f25b0_row5_col11\" class=\"data row5 col11\" >-0.082936</td>\n                        <td id=\"T_f25b0_row5_col12\" class=\"data row5 col12\" >0.047423</td>\n                        <td id=\"T_f25b0_row5_col13\" class=\"data row5 col13\" >-0.103155</td>\n                        <td id=\"T_f25b0_row5_col14\" class=\"data row5 col14\" >-0.108686</td>\n                        <td id=\"T_f25b0_row5_col15\" class=\"data row5 col15\" >0.032069</td>\n                        <td id=\"T_f25b0_row5_col16\" class=\"data row5 col16\" >-0.276497</td>\n            </tr>\n            <tr>\n                        <th id=\"T_f25b0_level0_row6\" class=\"row_heading level0 row6\" >Enrollments-Secondary</th>\n                        <td id=\"T_f25b0_row6_col0\" class=\"data row6 col0\" >-0.348632</td>\n                        <td id=\"T_f25b0_row6_col1\" class=\"data row6 col1\" >-0.469755</td>\n                        <td id=\"T_f25b0_row6_col2\" class=\"data row6 col2\" >-0.551866</td>\n                        <td id=\"T_f25b0_row6_col3\" class=\"data row6 col3\" >0.235673</td>\n                        <td id=\"T_f25b0_row6_col4\" class=\"data row6 col4\" >0.090862</td>\n                        <td id=\"T_f25b0_row6_col5\" class=\"data row6 col5\" >0.461776</td>\n                        <td id=\"T_f25b0_row6_col6\" class=\"data row6 col6\" >1.000000</td>\n                        <td id=\"T_f25b0_row6_col7\" class=\"data row6 col7\" >0.690090</td>\n                        <td id=\"T_f25b0_row6_col8\" class=\"data row6 col8\" >0.307990</td>\n                        <td id=\"T_f25b0_row6_col9\" class=\"data row6 col9\" >0.459279</td>\n                        <td id=\"T_f25b0_row6_col10\" class=\"data row6 col10\" >0.435779</td>\n                        <td id=\"T_f25b0_row6_col11\" class=\"data row6 col11\" >0.344108</td>\n                        <td id=\"T_f25b0_row6_col12\" class=\"data row6 col12\" >0.442526</td>\n                        <td id=\"T_f25b0_row6_col13\" class=\"data row6 col13\" >-0.473149</td>\n                        <td id=\"T_f25b0_row6_col14\" class=\"data row6 col14\" >-0.297341</td>\n                        <td id=\"T_f25b0_row6_col15\" class=\"data row6 col15\" >-0.319789</td>\n                        <td id=\"T_f25b0_row6_col16\" class=\"data row6 col16\" >-0.650354</td>\n            </tr>\n            <tr>\n                        <th id=\"T_f25b0_level0_row7\" class=\"row_heading level0 row7\" >Enrollments-Higher_Secondary</th>\n                        <td id=\"T_f25b0_row7_col0\" class=\"data row7 col0\" >-0.428581</td>\n                        <td id=\"T_f25b0_row7_col1\" class=\"data row7 col1\" >-0.649678</td>\n                        <td id=\"T_f25b0_row7_col2\" class=\"data row7 col2\" >-0.945431</td>\n                        <td id=\"T_f25b0_row7_col3\" class=\"data row7 col3\" >0.285383</td>\n                        <td id=\"T_f25b0_row7_col4\" class=\"data row7 col4\" >-0.214672</td>\n                        <td id=\"T_f25b0_row7_col5\" class=\"data row7 col5\" >0.062548</td>\n                        <td id=\"T_f25b0_row7_col6\" class=\"data row7 col6\" >0.690090</td>\n                        <td id=\"T_f25b0_row7_col7\" class=\"data row7 col7\" >1.000000</td>\n                        <td id=\"T_f25b0_row7_col8\" class=\"data row7 col8\" >0.417526</td>\n                        <td id=\"T_f25b0_row7_col9\" class=\"data row7 col9\" >0.525774</td>\n                        <td id=\"T_f25b0_row7_col10\" class=\"data row7 col10\" >0.538481</td>\n                        <td id=\"T_f25b0_row7_col11\" class=\"data row7 col11\" >0.404507</td>\n                        <td id=\"T_f25b0_row7_col12\" class=\"data row7 col12\" >0.371134</td>\n                        <td id=\"T_f25b0_row7_col13\" class=\"data row7 col13\" >-0.359562</td>\n                        <td id=\"T_f25b0_row7_col14\" class=\"data row7 col14\" >-0.188397</td>\n                        <td id=\"T_f25b0_row7_col15\" class=\"data row7 col15\" >-0.230279</td>\n                        <td id=\"T_f25b0_row7_col16\" class=\"data row7 col16\" >-0.327495</td>\n            </tr>\n            <tr>\n                        <th id=\"T_f25b0_level0_row8\" class=\"row_heading level0 row8\" >Drinking water</th>\n                        <td id=\"T_f25b0_row8_col0\" class=\"data row8 col0\" >-0.807090</td>\n                        <td id=\"T_f25b0_row8_col1\" class=\"data row8 col1\" >-0.627836</td>\n                        <td id=\"T_f25b0_row8_col2\" class=\"data row8 col2\" >-0.437114</td>\n                        <td id=\"T_f25b0_row8_col3\" class=\"data row8 col3\" >0.260864</td>\n                        <td id=\"T_f25b0_row8_col4\" class=\"data row8 col4\" >-0.596135</td>\n                        <td id=\"T_f25b0_row8_col5\" class=\"data row8 col5\" >-0.272681</td>\n                        <td id=\"T_f25b0_row8_col6\" class=\"data row8 col6\" >0.307990</td>\n                        <td id=\"T_f25b0_row8_col7\" class=\"data row8 col7\" >0.417526</td>\n                        <td id=\"T_f25b0_row8_col8\" class=\"data row8 col8\" >1.000000</td>\n                        <td id=\"T_f25b0_row8_col9\" class=\"data row8 col9\" >0.866581</td>\n                        <td id=\"T_f25b0_row8_col10\" class=\"data row8 col10\" >0.737629</td>\n                        <td id=\"T_f25b0_row8_col11\" class=\"data row8 col11\" >0.746873</td>\n                        <td id=\"T_f25b0_row8_col12\" class=\"data row8 col12\" >0.698581</td>\n                        <td id=\"T_f25b0_row8_col13\" class=\"data row8 col13\" >0.081238</td>\n                        <td id=\"T_f25b0_row8_col14\" class=\"data row8 col14\" >0.163368</td>\n                        <td id=\"T_f25b0_row8_col15\" class=\"data row8 col15\" >0.009285</td>\n                        <td id=\"T_f25b0_row8_col16\" class=\"data row8 col16\" >-0.135139</td>\n            </tr>\n            <tr>\n                        <th id=\"T_f25b0_level0_row9\" class=\"row_heading level0 row9\" >Electricity</th>\n                        <td id=\"T_f25b0_row9_col0\" class=\"data row9 col0\" >-0.735675</td>\n                        <td id=\"T_f25b0_row9_col1\" class=\"data row9 col1\" >-0.607732</td>\n                        <td id=\"T_f25b0_row9_col2\" class=\"data row9 col2\" >-0.541753</td>\n                        <td id=\"T_f25b0_row9_col3\" class=\"data row9 col3\" >0.469375</td>\n                        <td id=\"T_f25b0_row9_col4\" class=\"data row9 col4\" >-0.498712</td>\n                        <td id=\"T_f25b0_row9_col5\" class=\"data row9 col5\" >-0.144330</td>\n                        <td id=\"T_f25b0_row9_col6\" class=\"data row9 col6\" >0.459279</td>\n                        <td id=\"T_f25b0_row9_col7\" class=\"data row9 col7\" >0.525774</td>\n                        <td id=\"T_f25b0_row9_col8\" class=\"data row9 col8\" >0.866581</td>\n                        <td id=\"T_f25b0_row9_col9\" class=\"data row9 col9\" >1.000000</td>\n                        <td id=\"T_f25b0_row9_col10\" class=\"data row9 col10\" >0.880671</td>\n                        <td id=\"T_f25b0_row9_col11\" class=\"data row9 col11\" >0.714636</td>\n                        <td id=\"T_f25b0_row9_col12\" class=\"data row9 col12\" >0.807742</td>\n                        <td id=\"T_f25b0_row9_col13\" class=\"data row9 col13\" >-0.098259</td>\n                        <td id=\"T_f25b0_row9_col14\" class=\"data row9 col14\" >-0.072207</td>\n                        <td id=\"T_f25b0_row9_col15\" class=\"data row9 col15\" >-0.270940</td>\n                        <td id=\"T_f25b0_row9_col16\" class=\"data row9 col16\" >-0.298388</td>\n            </tr>\n            <tr>\n                        <th id=\"T_f25b0_level0_row10\" class=\"row_heading level0 row10\" >Computer</th>\n                        <td id=\"T_f25b0_row10_col0\" class=\"data row10 col0\" >-0.594915</td>\n                        <td id=\"T_f25b0_row10_col1\" class=\"data row10 col1\" >-0.532561</td>\n                        <td id=\"T_f25b0_row10_col2\" class=\"data row10 col2\" >-0.540026</td>\n                        <td id=\"T_f25b0_row10_col3\" class=\"data row10 col3\" >0.459240</td>\n                        <td id=\"T_f25b0_row10_col4\" class=\"data row10 col4\" >-0.433719</td>\n                        <td id=\"T_f25b0_row10_col5\" class=\"data row10 col5\" >-0.138739</td>\n                        <td id=\"T_f25b0_row10_col6\" class=\"data row10 col6\" >0.435779</td>\n                        <td id=\"T_f25b0_row10_col7\" class=\"data row10 col7\" >0.538481</td>\n                        <td id=\"T_f25b0_row10_col8\" class=\"data row10 col8\" >0.737629</td>\n                        <td id=\"T_f25b0_row10_col9\" class=\"data row10 col9\" >0.880671</td>\n                        <td id=\"T_f25b0_row10_col10\" class=\"data row10 col10\" >1.000000</td>\n                        <td id=\"T_f25b0_row10_col11\" class=\"data row10 col11\" >0.755184</td>\n                        <td id=\"T_f25b0_row10_col12\" class=\"data row10 col12\" >0.796650</td>\n                        <td id=\"T_f25b0_row10_col13\" class=\"data row10 col13\" >-0.307148</td>\n                        <td id=\"T_f25b0_row10_col14\" class=\"data row10 col14\" >-0.293993</td>\n                        <td id=\"T_f25b0_row10_col15\" class=\"data row10 col15\" >-0.365767</td>\n                        <td id=\"T_f25b0_row10_col16\" class=\"data row10 col16\" >-0.332647</td>\n            </tr>\n            <tr>\n                        <th id=\"T_f25b0_level0_row11\" class=\"row_heading level0 row11\" >Boys toilet</th>\n                        <td id=\"T_f25b0_row11_col0\" class=\"data row11 col0\" >-0.553430</td>\n                        <td id=\"T_f25b0_row11_col1\" class=\"data row11 col1\" >-0.571282</td>\n                        <td id=\"T_f25b0_row11_col2\" class=\"data row11 col2\" >-0.473535</td>\n                        <td id=\"T_f25b0_row11_col3\" class=\"data row11 col3\" >0.358763</td>\n                        <td id=\"T_f25b0_row11_col4\" class=\"data row11 col4\" >-0.393690</td>\n                        <td id=\"T_f25b0_row11_col5\" class=\"data row11 col5\" >-0.082936</td>\n                        <td id=\"T_f25b0_row11_col6\" class=\"data row11 col6\" >0.344108</td>\n                        <td id=\"T_f25b0_row11_col7\" class=\"data row11 col7\" >0.404507</td>\n                        <td id=\"T_f25b0_row11_col8\" class=\"data row11 col8\" >0.746873</td>\n                        <td id=\"T_f25b0_row11_col9\" class=\"data row11 col9\" >0.714636</td>\n                        <td id=\"T_f25b0_row11_col10\" class=\"data row11 col10\" >0.755184</td>\n                        <td id=\"T_f25b0_row11_col11\" class=\"data row11 col11\" >1.000000</td>\n                        <td id=\"T_f25b0_row11_col12\" class=\"data row11 col12\" >0.882785</td>\n                        <td id=\"T_f25b0_row11_col13\" class=\"data row11 col13\" >-0.175644</td>\n                        <td id=\"T_f25b0_row11_col14\" class=\"data row11 col14\" >-0.145223</td>\n                        <td id=\"T_f25b0_row11_col15\" class=\"data row11 col15\" >-0.061860</td>\n                        <td id=\"T_f25b0_row11_col16\" class=\"data row11 col16\" >-0.263209</td>\n            </tr>\n            <tr>\n                        <th id=\"T_f25b0_level0_row12\" class=\"row_heading level0 row12\" >Girls toilet</th>\n                        <td id=\"T_f25b0_row12_col0\" class=\"data row12 col0\" >-0.504931</td>\n                        <td id=\"T_f25b0_row12_col1\" class=\"data row12 col1\" >-0.464949</td>\n                        <td id=\"T_f25b0_row12_col2\" class=\"data row12 col2\" >-0.391753</td>\n                        <td id=\"T_f25b0_row12_col3\" class=\"data row12 col3\" >0.403611</td>\n                        <td id=\"T_f25b0_row12_col4\" class=\"data row12 col4\" >-0.286598</td>\n                        <td id=\"T_f25b0_row12_col5\" class=\"data row12 col5\" >0.047423</td>\n                        <td id=\"T_f25b0_row12_col6\" class=\"data row12 col6\" >0.442526</td>\n                        <td id=\"T_f25b0_row12_col7\" class=\"data row12 col7\" >0.371134</td>\n                        <td id=\"T_f25b0_row12_col8\" class=\"data row12 col8\" >0.698581</td>\n                        <td id=\"T_f25b0_row12_col9\" class=\"data row12 col9\" >0.807742</td>\n                        <td id=\"T_f25b0_row12_col10\" class=\"data row12 col10\" >0.796650</td>\n                        <td id=\"T_f25b0_row12_col11\" class=\"data row12 col11\" >0.882785</td>\n                        <td id=\"T_f25b0_row12_col12\" class=\"data row12 col12\" >1.000000</td>\n                        <td id=\"T_f25b0_row12_col13\" class=\"data row12 col13\" >-0.223469</td>\n                        <td id=\"T_f25b0_row12_col14\" class=\"data row12 col14\" >-0.232996</td>\n                        <td id=\"T_f25b0_row12_col15\" class=\"data row12 col15\" >-0.214456</td>\n                        <td id=\"T_f25b0_row12_col16\" class=\"data row12 col16\" >-0.397937</td>\n            </tr>\n            <tr>\n                        <th id=\"T_f25b0_level0_row13\" class=\"row_heading level0 row13\" >PTR-Primary</th>\n                        <td id=\"T_f25b0_row13_col0\" class=\"data row13 col0\" >-0.103060</td>\n                        <td id=\"T_f25b0_row13_col1\" class=\"data row13 col1\" >0.043657</td>\n                        <td id=\"T_f25b0_row13_col2\" class=\"data row13 col2\" >0.275853</td>\n                        <td id=\"T_f25b0_row13_col3\" class=\"data row13 col3\" >-0.355863</td>\n                        <td id=\"T_f25b0_row13_col4\" class=\"data row13 col4\" >-0.004121</td>\n                        <td id=\"T_f25b0_row13_col5\" class=\"data row13 col5\" >-0.103155</td>\n                        <td id=\"T_f25b0_row13_col6\" class=\"data row13 col6\" >-0.473149</td>\n                        <td id=\"T_f25b0_row13_col7\" class=\"data row13 col7\" >-0.359562</td>\n                        <td id=\"T_f25b0_row13_col8\" class=\"data row13 col8\" >0.081238</td>\n                        <td id=\"T_f25b0_row13_col9\" class=\"data row13 col9\" >-0.098259</td>\n                        <td id=\"T_f25b0_row13_col10\" class=\"data row13 col10\" >-0.307148</td>\n                        <td id=\"T_f25b0_row13_col11\" class=\"data row13 col11\" >-0.175644</td>\n                        <td id=\"T_f25b0_row13_col12\" class=\"data row13 col12\" >-0.223469</td>\n                        <td id=\"T_f25b0_row13_col13\" class=\"data row13 col13\" >1.000000</td>\n                        <td id=\"T_f25b0_row13_col14\" class=\"data row13 col14\" >0.895303</td>\n                        <td id=\"T_f25b0_row13_col15\" class=\"data row13 col15\" >0.486951</td>\n                        <td id=\"T_f25b0_row13_col16\" class=\"data row13 col16\" >0.566817</td>\n            </tr>\n            <tr>\n                        <th id=\"T_f25b0_level0_row14\" class=\"row_heading level0 row14\" >PTR-Upper Primary</th>\n                        <td id=\"T_f25b0_row14_col0\" class=\"data row14 col0\" >-0.227747</td>\n                        <td id=\"T_f25b0_row14_col1\" class=\"data row14 col1\" >-0.120018</td>\n                        <td id=\"T_f25b0_row14_col2\" class=\"data row14 col2\" >0.134956</td>\n                        <td id=\"T_f25b0_row14_col3\" class=\"data row14 col3\" >-0.370273</td>\n                        <td id=\"T_f25b0_row14_col4\" class=\"data row14 col4\" >-0.086150</td>\n                        <td id=\"T_f25b0_row14_col5\" class=\"data row14 col5\" >-0.108686</td>\n                        <td id=\"T_f25b0_row14_col6\" class=\"data row14 col6\" >-0.297341</td>\n                        <td id=\"T_f25b0_row14_col7\" class=\"data row14 col7\" >-0.188397</td>\n                        <td id=\"T_f25b0_row14_col8\" class=\"data row14 col8\" >0.163368</td>\n                        <td id=\"T_f25b0_row14_col9\" class=\"data row14 col9\" >-0.072207</td>\n                        <td id=\"T_f25b0_row14_col10\" class=\"data row14 col10\" >-0.293993</td>\n                        <td id=\"T_f25b0_row14_col11\" class=\"data row14 col11\" >-0.145223</td>\n                        <td id=\"T_f25b0_row14_col12\" class=\"data row14 col12\" >-0.232996</td>\n                        <td id=\"T_f25b0_row14_col13\" class=\"data row14 col13\" >0.895303</td>\n                        <td id=\"T_f25b0_row14_col14\" class=\"data row14 col14\" >1.000000</td>\n                        <td id=\"T_f25b0_row14_col15\" class=\"data row14 col15\" >0.629253</td>\n                        <td id=\"T_f25b0_row14_col16\" class=\"data row14 col16\" >0.584047</td>\n            </tr>\n            <tr>\n                        <th id=\"T_f25b0_level0_row15\" class=\"row_heading level0 row15\" >PTR-Secondary</th>\n                        <td id=\"T_f25b0_row15_col0\" class=\"data row15 col0\" >-0.015009</td>\n                        <td id=\"T_f25b0_row15_col1\" class=\"data row15 col1\" >0.097753</td>\n                        <td id=\"T_f25b0_row15_col2\" class=\"data row15 col2\" >0.188422</td>\n                        <td id=\"T_f25b0_row15_col3\" class=\"data row15 col3\" >-0.227721</td>\n                        <td id=\"T_f25b0_row15_col4\" class=\"data row15 col4\" >0.014167</td>\n                        <td id=\"T_f25b0_row15_col5\" class=\"data row15 col5\" >0.032069</td>\n                        <td id=\"T_f25b0_row15_col6\" class=\"data row15 col6\" >-0.319789</td>\n                        <td id=\"T_f25b0_row15_col7\" class=\"data row15 col7\" >-0.230279</td>\n                        <td id=\"T_f25b0_row15_col8\" class=\"data row15 col8\" >0.009285</td>\n                        <td id=\"T_f25b0_row15_col9\" class=\"data row15 col9\" >-0.270940</td>\n                        <td id=\"T_f25b0_row15_col10\" class=\"data row15 col10\" >-0.365767</td>\n                        <td id=\"T_f25b0_row15_col11\" class=\"data row15 col11\" >-0.061860</td>\n                        <td id=\"T_f25b0_row15_col12\" class=\"data row15 col12\" >-0.214456</td>\n                        <td id=\"T_f25b0_row15_col13\" class=\"data row15 col13\" >0.486951</td>\n                        <td id=\"T_f25b0_row15_col14\" class=\"data row15 col14\" >0.629253</td>\n                        <td id=\"T_f25b0_row15_col15\" class=\"data row15 col15\" >1.000000</td>\n                        <td id=\"T_f25b0_row15_col16\" class=\"data row15 col16\" >0.642309</td>\n            </tr>\n            <tr>\n                        <th id=\"T_f25b0_level0_row16\" class=\"row_heading level0 row16\" >PTR-Higher Secondary</th>\n                        <td id=\"T_f25b0_row16_col0\" class=\"data row16 col0\" >0.140097</td>\n                        <td id=\"T_f25b0_row16_col1\" class=\"data row16 col1\" >0.234128</td>\n                        <td id=\"T_f25b0_row16_col2\" class=\"data row16 col2\" >0.249324</td>\n                        <td id=\"T_f25b0_row16_col3\" class=\"data row16 col3\" >-0.288338</td>\n                        <td id=\"T_f25b0_row16_col4\" class=\"data row16 col4\" >-0.087959</td>\n                        <td id=\"T_f25b0_row16_col5\" class=\"data row16 col5\" >-0.276497</td>\n                        <td id=\"T_f25b0_row16_col6\" class=\"data row16 col6\" >-0.650354</td>\n                        <td id=\"T_f25b0_row16_col7\" class=\"data row16 col7\" >-0.327495</td>\n                        <td id=\"T_f25b0_row16_col8\" class=\"data row16 col8\" >-0.135139</td>\n                        <td id=\"T_f25b0_row16_col9\" class=\"data row16 col9\" >-0.298388</td>\n                        <td id=\"T_f25b0_row16_col10\" class=\"data row16 col10\" >-0.332647</td>\n                        <td id=\"T_f25b0_row16_col11\" class=\"data row16 col11\" >-0.263209</td>\n                        <td id=\"T_f25b0_row16_col12\" class=\"data row16 col12\" >-0.397937</td>\n                        <td id=\"T_f25b0_row16_col13\" class=\"data row16 col13\" >0.566817</td>\n                        <td id=\"T_f25b0_row16_col14\" class=\"data row16 col14\" >0.584047</td>\n                        <td id=\"T_f25b0_row16_col15\" class=\"data row16 col15\" >0.642309</td>\n                        <td id=\"T_f25b0_row16_col16\" class=\"data row16 col16\" >1.000000</td>\n            </tr>\n    </tbody></table>"
     },
     "metadata": {},
     "execution_count": 558
    }
   ],
   "source": [
    "dataset.corr(method='spearman').style.background_gradient(cmap='coolwarm')"
   ]
  },
  {
   "source": [
    "### Observations\n",
    "\n",
    "* Dropouts are negatively correlated with factors. Children need more care. They need drinking water because they play a lot. If there isn't electricity, India primarily being a tropical country,discourage them to come to schools. WRITE BETTER AND FOR THE OTHER POINTS\n",
    "* Correlation with dropouts reduces with increasing age of students\n",
    "* Same thing observed in enrollments"
   ],
   "cell_type": "markdown",
   "metadata": {}
  },
  {
   "cell_type": "code",
   "execution_count": 559,
   "metadata": {},
   "outputs": [
    {
     "output_type": "execute_result",
     "data": {
      "text/plain": [
       "                           Drinking water\n",
       "State                                    \n",
       "Andaman & Nicobar Islands       99.403333\n",
       "Andhra Pradesh                  93.153333\n",
       "Arunachal Pradesh               80.633333\n",
       "Assam                           83.290000\n",
       "Bihar                           93.233333"
      ],
      "text/html": "<div>\n<style scoped>\n    .dataframe tbody tr th:only-of-type {\n        vertical-align: middle;\n    }\n\n    .dataframe tbody tr th {\n        vertical-align: top;\n    }\n\n    .dataframe thead th {\n        text-align: right;\n    }\n</style>\n<table border=\"1\" class=\"dataframe\">\n  <thead>\n    <tr style=\"text-align: right;\">\n      <th></th>\n      <th>Drinking water</th>\n    </tr>\n    <tr>\n      <th>State</th>\n      <th></th>\n    </tr>\n  </thead>\n  <tbody>\n    <tr>\n      <th>Andaman &amp; Nicobar Islands</th>\n      <td>99.403333</td>\n    </tr>\n    <tr>\n      <th>Andhra Pradesh</th>\n      <td>93.153333</td>\n    </tr>\n    <tr>\n      <th>Arunachal Pradesh</th>\n      <td>80.633333</td>\n    </tr>\n    <tr>\n      <th>Assam</th>\n      <td>83.290000</td>\n    </tr>\n    <tr>\n      <th>Bihar</th>\n      <td>93.233333</td>\n    </tr>\n  </tbody>\n</table>\n</div>"
     },
     "metadata": {},
     "execution_count": 559
    }
   ],
   "source": [
    "drinks.head()"
   ]
  },
  {
   "source": [
    "## Checking feature importance"
   ],
   "cell_type": "markdown",
   "metadata": {}
  },
  {
   "cell_type": "code",
   "execution_count": 560,
   "metadata": {},
   "outputs": [
    {
     "output_type": "execute_result",
     "data": {
      "text/plain": [
       "                              Explained variance  \\\n",
       "Feature                                            \n",
       "Dropout-PRIMARY                        63.915774   \n",
       "Dropout-UPPER_PRIMARY                   9.863972   \n",
       "Dropout-SECONDARY                       5.872573   \n",
       "Dropout-HRSECONDARY                     3.918029   \n",
       "Enrollments-Primary                     3.517997   \n",
       "Enrollments-Upper_Primary               2.809554   \n",
       "Enrollments-Secondary                   2.136175   \n",
       "Enrollments-Higher_Secondary            1.597391   \n",
       "Drinking water                          1.328203   \n",
       "Electricity                             1.071597   \n",
       "Computer                                0.940158   \n",
       "Boys toilet                             0.819912   \n",
       "Girls toilet                            0.690469   \n",
       "PTR-Primary                             0.580061   \n",
       "PTR-Upper Primary                       0.383900   \n",
       "PTR-Secondary                           0.357311   \n",
       "PTR-Higher Secondary                    0.196924   \n",
       "\n",
       "                              Cumulative explained variance  \n",
       "Feature                                                      \n",
       "Dropout-PRIMARY                                   63.915774  \n",
       "Dropout-UPPER_PRIMARY                             73.779746  \n",
       "Dropout-SECONDARY                                 79.652319  \n",
       "Dropout-HRSECONDARY                               83.570348  \n",
       "Enrollments-Primary                               87.088345  \n",
       "Enrollments-Upper_Primary                         89.897899  \n",
       "Enrollments-Secondary                             92.034074  \n",
       "Enrollments-Higher_Secondary                      93.631465  \n",
       "Drinking water                                    94.959668  \n",
       "Electricity                                       96.031265  \n",
       "Computer                                          96.971423  \n",
       "Boys toilet                                       97.791335  \n",
       "Girls toilet                                      98.481804  \n",
       "PTR-Primary                                       99.061865  \n",
       "PTR-Upper Primary                                 99.445765  \n",
       "PTR-Secondary                                     99.803076  \n",
       "PTR-Higher Secondary                             100.000000  "
      ],
      "text/html": "<div>\n<style scoped>\n    .dataframe tbody tr th:only-of-type {\n        vertical-align: middle;\n    }\n\n    .dataframe tbody tr th {\n        vertical-align: top;\n    }\n\n    .dataframe thead th {\n        text-align: right;\n    }\n</style>\n<table border=\"1\" class=\"dataframe\">\n  <thead>\n    <tr style=\"text-align: right;\">\n      <th></th>\n      <th>Explained variance</th>\n      <th>Cumulative explained variance</th>\n    </tr>\n    <tr>\n      <th>Feature</th>\n      <th></th>\n      <th></th>\n    </tr>\n  </thead>\n  <tbody>\n    <tr>\n      <th>Dropout-PRIMARY</th>\n      <td>63.915774</td>\n      <td>63.915774</td>\n    </tr>\n    <tr>\n      <th>Dropout-UPPER_PRIMARY</th>\n      <td>9.863972</td>\n      <td>73.779746</td>\n    </tr>\n    <tr>\n      <th>Dropout-SECONDARY</th>\n      <td>5.872573</td>\n      <td>79.652319</td>\n    </tr>\n    <tr>\n      <th>Dropout-HRSECONDARY</th>\n      <td>3.918029</td>\n      <td>83.570348</td>\n    </tr>\n    <tr>\n      <th>Enrollments-Primary</th>\n      <td>3.517997</td>\n      <td>87.088345</td>\n    </tr>\n    <tr>\n      <th>Enrollments-Upper_Primary</th>\n      <td>2.809554</td>\n      <td>89.897899</td>\n    </tr>\n    <tr>\n      <th>Enrollments-Secondary</th>\n      <td>2.136175</td>\n      <td>92.034074</td>\n    </tr>\n    <tr>\n      <th>Enrollments-Higher_Secondary</th>\n      <td>1.597391</td>\n      <td>93.631465</td>\n    </tr>\n    <tr>\n      <th>Drinking water</th>\n      <td>1.328203</td>\n      <td>94.959668</td>\n    </tr>\n    <tr>\n      <th>Electricity</th>\n      <td>1.071597</td>\n      <td>96.031265</td>\n    </tr>\n    <tr>\n      <th>Computer</th>\n      <td>0.940158</td>\n      <td>96.971423</td>\n    </tr>\n    <tr>\n      <th>Boys toilet</th>\n      <td>0.819912</td>\n      <td>97.791335</td>\n    </tr>\n    <tr>\n      <th>Girls toilet</th>\n      <td>0.690469</td>\n      <td>98.481804</td>\n    </tr>\n    <tr>\n      <th>PTR-Primary</th>\n      <td>0.580061</td>\n      <td>99.061865</td>\n    </tr>\n    <tr>\n      <th>PTR-Upper Primary</th>\n      <td>0.383900</td>\n      <td>99.445765</td>\n    </tr>\n    <tr>\n      <th>PTR-Secondary</th>\n      <td>0.357311</td>\n      <td>99.803076</td>\n    </tr>\n    <tr>\n      <th>PTR-Higher Secondary</th>\n      <td>0.196924</td>\n      <td>100.000000</td>\n    </tr>\n  </tbody>\n</table>\n</div>"
     },
     "metadata": {},
     "execution_count": 560
    }
   ],
   "source": [
    "#Using SVD to find feature importance\n",
    "\n",
    "vals=np.array(dataset)\n",
    "u,sig,v_t=np.linalg.svd(vals)\n",
    "feature_imp=pd.Series(sig,index=list(dataset.columns))\n",
    "feature_imp.index.name=\"Feature\"\n",
    "feature_imp.name=\"Explained variance\"\n",
    "var_exp=pd.DataFrame(feature_imp)\n",
    "tot=var_exp['Explained variance'].sum()\n",
    "var_exp['Explained variance'] = var_exp['Explained variance']/tot*100\n",
    "var_exp.sort_values(['Explained variance'],ascending=False,inplace=True)\n",
    "\n",
    "exp_var=[]\n",
    "for i in range(1,var_exp.shape[0]+1):\n",
    "    exp_var.append(var_exp['Explained variance'].iloc[0:i].sum())\n",
    "pd.concat([var_exp,pd.DataFrame(exp_var,index=var_exp.index, columns=['Cumulative explained variance'])],axis=1)"
   ]
  },
  {
   "source": [
    "`Observations`:\n",
    "\n",
    "* All the dropout and enrollment features explain enough variance according to the Kaizen criteria\n",
    "* Among the different factors, \"Drinking water\" and \"Electricity\" explain enough variance according to the Kaizen criteria"
   ],
   "cell_type": "markdown",
   "metadata": {}
  },
  {
   "source": [
    "Dropout rates in `primary` school define the maximum difference in education between the states"
   ],
   "cell_type": "markdown",
   "metadata": {}
  },
  {
   "cell_type": "code",
   "execution_count": 561,
   "metadata": {},
   "outputs": [
    {
     "output_type": "stream",
     "name": "stderr",
     "text": [
      "c:\\Users\\ADMIN\\Documents\\Codebase\\envs\\machine_L\\lib\\site-packages\\pandas\\core\\frame.py:4524: SettingWithCopyWarning:\n\n\nA value is trying to be set on a copy of a slice from a DataFrame\n\nSee the caveats in the documentation: https://pandas.pydata.org/pandas-docs/stable/user_guide/indexing.html#returning-a-view-versus-a-copy\n\n"
     ]
    }
   ],
   "source": [
    "mm=MinMaxScaler()\n",
    "#Lower the better. So we are subtracting the dropout rates from 100% to get the retention rate\n",
    "#We are diving the PTR by 1 as lower is better\n",
    "datasets=dataset.copy()\n",
    "datasets['Dropout-PRIMARY']=100-datasets['Dropout-PRIMARY']\n",
    "datasets['Dropout-UPPER_PRIMARY']=100-datasets['Dropout-UPPER_PRIMARY']\n",
    "datasets['Dropout-SECONDARY']=100-datasets['Dropout-SECONDARY']\n",
    "datasets['Dropout-HRSECONDARY']=100-datasets['Dropout-HRSECONDARY']\n",
    "datasets['PTR-Primary']=1/datasets['PTR-Primary']\n",
    "datasets['PTR-Upper Primary']=1/datasets['PTR-Upper Primary']\n",
    "datasets['PTR-Secondary'] =1/datasets['PTR-Secondary']\n",
    "datasets['PTR-Higher Secondary'] =1/datasets['PTR-Higher Secondary']\n",
    "\n",
    "datasets[['Dropout-PRIMARY','Dropout-UPPER_PRIMARY','Dropout-SECONDARY','Dropout-HRSECONDARY']].replace({np.inf:0},inplace=True)\n",
    "#Because dividing by 0 makes them 0"
   ]
  },
  {
   "source": [
    "# Overall ranking of states"
   ],
   "cell_type": "markdown",
   "metadata": {}
  },
  {
   "cell_type": "code",
   "execution_count": 562,
   "metadata": {},
   "outputs": [
    {
     "output_type": "stream",
     "name": "stdout",
     "text": [
      "\n Overall rank of states based on dropout rates, enrollment rates, student:teacher ratio and other factors \n\n"
     ]
    },
    {
     "output_type": "execute_result",
     "data": {
      "text/plain": [
       "                           Overall score\n",
       "State                                   \n",
       "Delhi                          75.715240\n",
       "Lakshadweep                    74.375553\n",
       "Kerala                         73.349588\n",
       "Chandigarh                     73.321496\n",
       "Sikkim                         72.376044\n",
       "Puducherry                     71.983355\n",
       "Himachal Pradesh               71.253593\n",
       "Tamil Nadu                     70.800147\n",
       "Goa                            70.517515\n",
       "Punjab                         69.780648\n",
       "Andaman & Nicobar Islands      69.328665\n",
       "Maharashtra                    69.199601\n",
       "Haryana                        68.225080\n",
       "Mizoram                        68.082295\n",
       "Gujarat                        67.845604\n",
       "Manipur                        66.166228\n",
       "Daman & Diu                    64.692744\n",
       "Dadra & Nagar Haveli           64.671446\n",
       "Karnataka                      64.538772\n",
       "Uttarakhand                    64.354646\n",
       "Telangana                      64.038517\n",
       "Chhattisgarh                   63.878395\n",
       "Tripura                        63.179730\n",
       "West Bengal                    63.053892\n",
       "Uttar Pradesh                  63.026678\n",
       "Arunachal Pradesh              63.002390\n",
       "Rajasthan                      62.863038\n",
       "Andhra Pradesh                 62.255497\n",
       "Madhya Pradesh                 59.495972\n",
       "Nagaland                       58.734874\n",
       "Jharkhand                      58.281952\n",
       "Odisha                         57.395507\n",
       "Meghalaya                      57.048438\n",
       "Bihar                          56.123755\n",
       "Jammu And Kashmir              55.186625\n",
       "Assam                          54.413032"
      ],
      "text/html": "<div>\n<style scoped>\n    .dataframe tbody tr th:only-of-type {\n        vertical-align: middle;\n    }\n\n    .dataframe tbody tr th {\n        vertical-align: top;\n    }\n\n    .dataframe thead th {\n        text-align: right;\n    }\n</style>\n<table border=\"1\" class=\"dataframe\">\n  <thead>\n    <tr style=\"text-align: right;\">\n      <th></th>\n      <th>Overall score</th>\n    </tr>\n    <tr>\n      <th>State</th>\n      <th></th>\n    </tr>\n  </thead>\n  <tbody>\n    <tr>\n      <th>Delhi</th>\n      <td>75.715240</td>\n    </tr>\n    <tr>\n      <th>Lakshadweep</th>\n      <td>74.375553</td>\n    </tr>\n    <tr>\n      <th>Kerala</th>\n      <td>73.349588</td>\n    </tr>\n    <tr>\n      <th>Chandigarh</th>\n      <td>73.321496</td>\n    </tr>\n    <tr>\n      <th>Sikkim</th>\n      <td>72.376044</td>\n    </tr>\n    <tr>\n      <th>Puducherry</th>\n      <td>71.983355</td>\n    </tr>\n    <tr>\n      <th>Himachal Pradesh</th>\n      <td>71.253593</td>\n    </tr>\n    <tr>\n      <th>Tamil Nadu</th>\n      <td>70.800147</td>\n    </tr>\n    <tr>\n      <th>Goa</th>\n      <td>70.517515</td>\n    </tr>\n    <tr>\n      <th>Punjab</th>\n      <td>69.780648</td>\n    </tr>\n    <tr>\n      <th>Andaman &amp; Nicobar Islands</th>\n      <td>69.328665</td>\n    </tr>\n    <tr>\n      <th>Maharashtra</th>\n      <td>69.199601</td>\n    </tr>\n    <tr>\n      <th>Haryana</th>\n      <td>68.225080</td>\n    </tr>\n    <tr>\n      <th>Mizoram</th>\n      <td>68.082295</td>\n    </tr>\n    <tr>\n      <th>Gujarat</th>\n      <td>67.845604</td>\n    </tr>\n    <tr>\n      <th>Manipur</th>\n      <td>66.166228</td>\n    </tr>\n    <tr>\n      <th>Daman &amp; Diu</th>\n      <td>64.692744</td>\n    </tr>\n    <tr>\n      <th>Dadra &amp; Nagar Haveli</th>\n      <td>64.671446</td>\n    </tr>\n    <tr>\n      <th>Karnataka</th>\n      <td>64.538772</td>\n    </tr>\n    <tr>\n      <th>Uttarakhand</th>\n      <td>64.354646</td>\n    </tr>\n    <tr>\n      <th>Telangana</th>\n      <td>64.038517</td>\n    </tr>\n    <tr>\n      <th>Chhattisgarh</th>\n      <td>63.878395</td>\n    </tr>\n    <tr>\n      <th>Tripura</th>\n      <td>63.179730</td>\n    </tr>\n    <tr>\n      <th>West Bengal</th>\n      <td>63.053892</td>\n    </tr>\n    <tr>\n      <th>Uttar Pradesh</th>\n      <td>63.026678</td>\n    </tr>\n    <tr>\n      <th>Arunachal Pradesh</th>\n      <td>63.002390</td>\n    </tr>\n    <tr>\n      <th>Rajasthan</th>\n      <td>62.863038</td>\n    </tr>\n    <tr>\n      <th>Andhra Pradesh</th>\n      <td>62.255497</td>\n    </tr>\n    <tr>\n      <th>Madhya Pradesh</th>\n      <td>59.495972</td>\n    </tr>\n    <tr>\n      <th>Nagaland</th>\n      <td>58.734874</td>\n    </tr>\n    <tr>\n      <th>Jharkhand</th>\n      <td>58.281952</td>\n    </tr>\n    <tr>\n      <th>Odisha</th>\n      <td>57.395507</td>\n    </tr>\n    <tr>\n      <th>Meghalaya</th>\n      <td>57.048438</td>\n    </tr>\n    <tr>\n      <th>Bihar</th>\n      <td>56.123755</td>\n    </tr>\n    <tr>\n      <th>Jammu And Kashmir</th>\n      <td>55.186625</td>\n    </tr>\n    <tr>\n      <th>Assam</th>\n      <td>54.413032</td>\n    </tr>\n  </tbody>\n</table>\n</div>"
     },
     "metadata": {},
     "execution_count": 562
    }
   ],
   "source": [
    "#Aggregating the scores from all the features\n",
    "states['Overall score']=datasets.mean(axis=1)\n",
    "print('\\n Overall rank of states based on dropout rates, enrollment rates, student:teacher ratio and other factors \\n')\n",
    "states.set_index('State').sort_values(['Overall score'],ascending=False) "
   ]
  },
  {
   "source": [
    "# Finding out if there are any outliers"
   ],
   "cell_type": "markdown",
   "metadata": {}
  },
  {
   "cell_type": "code",
   "execution_count": 563,
   "metadata": {},
   "outputs": [
    {
     "output_type": "display_data",
     "data": {
      "application/vnd.plotly.v1+json": {
       "config": {
        "plotlyServerURL": "https://plot.ly"
       },
       "data": [
        {
         "alignmentgroup": "True",
         "hovertemplate": "<b>%{hovertext}</b><br><br>Overall score=%{x}<extra></extra>",
         "hovertext": [
          "Andaman & Nicobar Islands",
          "Andhra Pradesh",
          "Arunachal Pradesh",
          "Assam",
          "Bihar",
          "Chandigarh",
          "Chhattisgarh",
          "Dadra & Nagar Haveli",
          "Daman & Diu",
          "Delhi",
          "Goa",
          "Gujarat",
          "Haryana",
          "Himachal Pradesh",
          "Jammu And Kashmir",
          "Jharkhand",
          "Karnataka",
          "Kerala",
          "Lakshadweep",
          "Madhya Pradesh",
          "Maharashtra",
          "Manipur",
          "Meghalaya",
          "Mizoram",
          "Nagaland",
          "Odisha",
          "Puducherry",
          "Punjab",
          "Rajasthan",
          "Sikkim",
          "Tamil Nadu",
          "Telangana",
          "Tripura",
          "Uttar Pradesh",
          "Uttarakhand",
          "West Bengal"
         ],
         "legendgroup": "",
         "marker": {
          "color": "#636efa"
         },
         "name": "",
         "notched": false,
         "offsetgroup": "",
         "orientation": "h",
         "showlegend": false,
         "type": "box",
         "x": [
          69.32866523058765,
          62.25549697327462,
          63.002390481745714,
          54.41303177378774,
          56.12375454609447,
          73.32149612167512,
          63.87839454241732,
          64.67144585855141,
          64.69274445442511,
          75.71523974637594,
          70.51751451674737,
          67.84560350428305,
          68.22507978409813,
          71.25359300476946,
          55.18662522757151,
          58.28195176637595,
          64.53877161658795,
          73.34958812776314,
          74.37555347891666,
          59.49597231780958,
          69.19960148863261,
          66.16622799453702,
          57.04843773035531,
          68.0822947218103,
          58.73487424916489,
          57.3955074971165,
          71.98335540276719,
          69.78064837699785,
          62.863037556223766,
          72.37604354004186,
          70.80014728067513,
          64.03851741271727,
          63.179729877322266,
          63.026677611798426,
          64.35464588026207,
          63.05389226690266
         ],
         "x0": " ",
         "xaxis": "x",
         "y0": " ",
         "yaxis": "y"
        }
       ],
       "layout": {
        "boxmode": "group",
        "legend": {
         "tracegroupgap": 0
        },
        "template": {
         "data": {
          "bar": [
           {
            "error_x": {
             "color": "#2a3f5f"
            },
            "error_y": {
             "color": "#2a3f5f"
            },
            "marker": {
             "line": {
              "color": "#E5ECF6",
              "width": 0.5
             }
            },
            "type": "bar"
           }
          ],
          "barpolar": [
           {
            "marker": {
             "line": {
              "color": "#E5ECF6",
              "width": 0.5
             }
            },
            "type": "barpolar"
           }
          ],
          "carpet": [
           {
            "aaxis": {
             "endlinecolor": "#2a3f5f",
             "gridcolor": "white",
             "linecolor": "white",
             "minorgridcolor": "white",
             "startlinecolor": "#2a3f5f"
            },
            "baxis": {
             "endlinecolor": "#2a3f5f",
             "gridcolor": "white",
             "linecolor": "white",
             "minorgridcolor": "white",
             "startlinecolor": "#2a3f5f"
            },
            "type": "carpet"
           }
          ],
          "choropleth": [
           {
            "colorbar": {
             "outlinewidth": 0,
             "ticks": ""
            },
            "type": "choropleth"
           }
          ],
          "contour": [
           {
            "colorbar": {
             "outlinewidth": 0,
             "ticks": ""
            },
            "colorscale": [
             [
              0,
              "#0d0887"
             ],
             [
              0.1111111111111111,
              "#46039f"
             ],
             [
              0.2222222222222222,
              "#7201a8"
             ],
             [
              0.3333333333333333,
              "#9c179e"
             ],
             [
              0.4444444444444444,
              "#bd3786"
             ],
             [
              0.5555555555555556,
              "#d8576b"
             ],
             [
              0.6666666666666666,
              "#ed7953"
             ],
             [
              0.7777777777777778,
              "#fb9f3a"
             ],
             [
              0.8888888888888888,
              "#fdca26"
             ],
             [
              1,
              "#f0f921"
             ]
            ],
            "type": "contour"
           }
          ],
          "contourcarpet": [
           {
            "colorbar": {
             "outlinewidth": 0,
             "ticks": ""
            },
            "type": "contourcarpet"
           }
          ],
          "heatmap": [
           {
            "colorbar": {
             "outlinewidth": 0,
             "ticks": ""
            },
            "colorscale": [
             [
              0,
              "#0d0887"
             ],
             [
              0.1111111111111111,
              "#46039f"
             ],
             [
              0.2222222222222222,
              "#7201a8"
             ],
             [
              0.3333333333333333,
              "#9c179e"
             ],
             [
              0.4444444444444444,
              "#bd3786"
             ],
             [
              0.5555555555555556,
              "#d8576b"
             ],
             [
              0.6666666666666666,
              "#ed7953"
             ],
             [
              0.7777777777777778,
              "#fb9f3a"
             ],
             [
              0.8888888888888888,
              "#fdca26"
             ],
             [
              1,
              "#f0f921"
             ]
            ],
            "type": "heatmap"
           }
          ],
          "heatmapgl": [
           {
            "colorbar": {
             "outlinewidth": 0,
             "ticks": ""
            },
            "colorscale": [
             [
              0,
              "#0d0887"
             ],
             [
              0.1111111111111111,
              "#46039f"
             ],
             [
              0.2222222222222222,
              "#7201a8"
             ],
             [
              0.3333333333333333,
              "#9c179e"
             ],
             [
              0.4444444444444444,
              "#bd3786"
             ],
             [
              0.5555555555555556,
              "#d8576b"
             ],
             [
              0.6666666666666666,
              "#ed7953"
             ],
             [
              0.7777777777777778,
              "#fb9f3a"
             ],
             [
              0.8888888888888888,
              "#fdca26"
             ],
             [
              1,
              "#f0f921"
             ]
            ],
            "type": "heatmapgl"
           }
          ],
          "histogram": [
           {
            "marker": {
             "colorbar": {
              "outlinewidth": 0,
              "ticks": ""
             }
            },
            "type": "histogram"
           }
          ],
          "histogram2d": [
           {
            "colorbar": {
             "outlinewidth": 0,
             "ticks": ""
            },
            "colorscale": [
             [
              0,
              "#0d0887"
             ],
             [
              0.1111111111111111,
              "#46039f"
             ],
             [
              0.2222222222222222,
              "#7201a8"
             ],
             [
              0.3333333333333333,
              "#9c179e"
             ],
             [
              0.4444444444444444,
              "#bd3786"
             ],
             [
              0.5555555555555556,
              "#d8576b"
             ],
             [
              0.6666666666666666,
              "#ed7953"
             ],
             [
              0.7777777777777778,
              "#fb9f3a"
             ],
             [
              0.8888888888888888,
              "#fdca26"
             ],
             [
              1,
              "#f0f921"
             ]
            ],
            "type": "histogram2d"
           }
          ],
          "histogram2dcontour": [
           {
            "colorbar": {
             "outlinewidth": 0,
             "ticks": ""
            },
            "colorscale": [
             [
              0,
              "#0d0887"
             ],
             [
              0.1111111111111111,
              "#46039f"
             ],
             [
              0.2222222222222222,
              "#7201a8"
             ],
             [
              0.3333333333333333,
              "#9c179e"
             ],
             [
              0.4444444444444444,
              "#bd3786"
             ],
             [
              0.5555555555555556,
              "#d8576b"
             ],
             [
              0.6666666666666666,
              "#ed7953"
             ],
             [
              0.7777777777777778,
              "#fb9f3a"
             ],
             [
              0.8888888888888888,
              "#fdca26"
             ],
             [
              1,
              "#f0f921"
             ]
            ],
            "type": "histogram2dcontour"
           }
          ],
          "mesh3d": [
           {
            "colorbar": {
             "outlinewidth": 0,
             "ticks": ""
            },
            "type": "mesh3d"
           }
          ],
          "parcoords": [
           {
            "line": {
             "colorbar": {
              "outlinewidth": 0,
              "ticks": ""
             }
            },
            "type": "parcoords"
           }
          ],
          "pie": [
           {
            "automargin": true,
            "type": "pie"
           }
          ],
          "scatter": [
           {
            "marker": {
             "colorbar": {
              "outlinewidth": 0,
              "ticks": ""
             }
            },
            "type": "scatter"
           }
          ],
          "scatter3d": [
           {
            "line": {
             "colorbar": {
              "outlinewidth": 0,
              "ticks": ""
             }
            },
            "marker": {
             "colorbar": {
              "outlinewidth": 0,
              "ticks": ""
             }
            },
            "type": "scatter3d"
           }
          ],
          "scattercarpet": [
           {
            "marker": {
             "colorbar": {
              "outlinewidth": 0,
              "ticks": ""
             }
            },
            "type": "scattercarpet"
           }
          ],
          "scattergeo": [
           {
            "marker": {
             "colorbar": {
              "outlinewidth": 0,
              "ticks": ""
             }
            },
            "type": "scattergeo"
           }
          ],
          "scattergl": [
           {
            "marker": {
             "colorbar": {
              "outlinewidth": 0,
              "ticks": ""
             }
            },
            "type": "scattergl"
           }
          ],
          "scattermapbox": [
           {
            "marker": {
             "colorbar": {
              "outlinewidth": 0,
              "ticks": ""
             }
            },
            "type": "scattermapbox"
           }
          ],
          "scatterpolar": [
           {
            "marker": {
             "colorbar": {
              "outlinewidth": 0,
              "ticks": ""
             }
            },
            "type": "scatterpolar"
           }
          ],
          "scatterpolargl": [
           {
            "marker": {
             "colorbar": {
              "outlinewidth": 0,
              "ticks": ""
             }
            },
            "type": "scatterpolargl"
           }
          ],
          "scatterternary": [
           {
            "marker": {
             "colorbar": {
              "outlinewidth": 0,
              "ticks": ""
             }
            },
            "type": "scatterternary"
           }
          ],
          "surface": [
           {
            "colorbar": {
             "outlinewidth": 0,
             "ticks": ""
            },
            "colorscale": [
             [
              0,
              "#0d0887"
             ],
             [
              0.1111111111111111,
              "#46039f"
             ],
             [
              0.2222222222222222,
              "#7201a8"
             ],
             [
              0.3333333333333333,
              "#9c179e"
             ],
             [
              0.4444444444444444,
              "#bd3786"
             ],
             [
              0.5555555555555556,
              "#d8576b"
             ],
             [
              0.6666666666666666,
              "#ed7953"
             ],
             [
              0.7777777777777778,
              "#fb9f3a"
             ],
             [
              0.8888888888888888,
              "#fdca26"
             ],
             [
              1,
              "#f0f921"
             ]
            ],
            "type": "surface"
           }
          ],
          "table": [
           {
            "cells": {
             "fill": {
              "color": "#EBF0F8"
             },
             "line": {
              "color": "white"
             }
            },
            "header": {
             "fill": {
              "color": "#C8D4E3"
             },
             "line": {
              "color": "white"
             }
            },
            "type": "table"
           }
          ]
         },
         "layout": {
          "annotationdefaults": {
           "arrowcolor": "#2a3f5f",
           "arrowhead": 0,
           "arrowwidth": 1
          },
          "autotypenumbers": "strict",
          "coloraxis": {
           "colorbar": {
            "outlinewidth": 0,
            "ticks": ""
           }
          },
          "colorscale": {
           "diverging": [
            [
             0,
             "#8e0152"
            ],
            [
             0.1,
             "#c51b7d"
            ],
            [
             0.2,
             "#de77ae"
            ],
            [
             0.3,
             "#f1b6da"
            ],
            [
             0.4,
             "#fde0ef"
            ],
            [
             0.5,
             "#f7f7f7"
            ],
            [
             0.6,
             "#e6f5d0"
            ],
            [
             0.7,
             "#b8e186"
            ],
            [
             0.8,
             "#7fbc41"
            ],
            [
             0.9,
             "#4d9221"
            ],
            [
             1,
             "#276419"
            ]
           ],
           "sequential": [
            [
             0,
             "#0d0887"
            ],
            [
             0.1111111111111111,
             "#46039f"
            ],
            [
             0.2222222222222222,
             "#7201a8"
            ],
            [
             0.3333333333333333,
             "#9c179e"
            ],
            [
             0.4444444444444444,
             "#bd3786"
            ],
            [
             0.5555555555555556,
             "#d8576b"
            ],
            [
             0.6666666666666666,
             "#ed7953"
            ],
            [
             0.7777777777777778,
             "#fb9f3a"
            ],
            [
             0.8888888888888888,
             "#fdca26"
            ],
            [
             1,
             "#f0f921"
            ]
           ],
           "sequentialminus": [
            [
             0,
             "#0d0887"
            ],
            [
             0.1111111111111111,
             "#46039f"
            ],
            [
             0.2222222222222222,
             "#7201a8"
            ],
            [
             0.3333333333333333,
             "#9c179e"
            ],
            [
             0.4444444444444444,
             "#bd3786"
            ],
            [
             0.5555555555555556,
             "#d8576b"
            ],
            [
             0.6666666666666666,
             "#ed7953"
            ],
            [
             0.7777777777777778,
             "#fb9f3a"
            ],
            [
             0.8888888888888888,
             "#fdca26"
            ],
            [
             1,
             "#f0f921"
            ]
           ]
          },
          "colorway": [
           "#636efa",
           "#EF553B",
           "#00cc96",
           "#ab63fa",
           "#FFA15A",
           "#19d3f3",
           "#FF6692",
           "#B6E880",
           "#FF97FF",
           "#FECB52"
          ],
          "font": {
           "color": "#2a3f5f"
          },
          "geo": {
           "bgcolor": "white",
           "lakecolor": "white",
           "landcolor": "#E5ECF6",
           "showlakes": true,
           "showland": true,
           "subunitcolor": "white"
          },
          "hoverlabel": {
           "align": "left"
          },
          "hovermode": "closest",
          "mapbox": {
           "style": "light"
          },
          "paper_bgcolor": "white",
          "plot_bgcolor": "#E5ECF6",
          "polar": {
           "angularaxis": {
            "gridcolor": "white",
            "linecolor": "white",
            "ticks": ""
           },
           "bgcolor": "#E5ECF6",
           "radialaxis": {
            "gridcolor": "white",
            "linecolor": "white",
            "ticks": ""
           }
          },
          "scene": {
           "xaxis": {
            "backgroundcolor": "#E5ECF6",
            "gridcolor": "white",
            "gridwidth": 2,
            "linecolor": "white",
            "showbackground": true,
            "ticks": "",
            "zerolinecolor": "white"
           },
           "yaxis": {
            "backgroundcolor": "#E5ECF6",
            "gridcolor": "white",
            "gridwidth": 2,
            "linecolor": "white",
            "showbackground": true,
            "ticks": "",
            "zerolinecolor": "white"
           },
           "zaxis": {
            "backgroundcolor": "#E5ECF6",
            "gridcolor": "white",
            "gridwidth": 2,
            "linecolor": "white",
            "showbackground": true,
            "ticks": "",
            "zerolinecolor": "white"
           }
          },
          "shapedefaults": {
           "line": {
            "color": "#2a3f5f"
           }
          },
          "ternary": {
           "aaxis": {
            "gridcolor": "white",
            "linecolor": "white",
            "ticks": ""
           },
           "baxis": {
            "gridcolor": "white",
            "linecolor": "white",
            "ticks": ""
           },
           "bgcolor": "#E5ECF6",
           "caxis": {
            "gridcolor": "white",
            "linecolor": "white",
            "ticks": ""
           }
          },
          "title": {
           "x": 0.05
          },
          "xaxis": {
           "automargin": true,
           "gridcolor": "white",
           "linecolor": "white",
           "ticks": "",
           "title": {
            "standoff": 15
           },
           "zerolinecolor": "white",
           "zerolinewidth": 2
          },
          "yaxis": {
           "automargin": true,
           "gridcolor": "white",
           "linecolor": "white",
           "ticks": "",
           "title": {
            "standoff": 15
           },
           "zerolinecolor": "white",
           "zerolinewidth": 2
          }
         }
        },
        "title": {
         "text": "Overall scoring of states"
        },
        "xaxis": {
         "anchor": "y",
         "domain": [
          0,
          1
         ],
         "title": {
          "text": "Overall score"
         }
        },
        "yaxis": {
         "anchor": "x",
         "domain": [
          0,
          1
         ]
        }
       }
      }
     },
     "metadata": {}
    }
   ],
   "source": [
    "px.box(data_frame=states, x='Overall score', hover_name='State',title='Overall scoring of states')"
   ]
  },
  {
   "source": [
    "## Clustering and visualizing the data on the basis of top three features"
   ],
   "cell_type": "markdown",
   "metadata": {}
  },
  {
   "cell_type": "code",
   "execution_count": 564,
   "metadata": {},
   "outputs": [
    {
     "output_type": "stream",
     "name": "stderr",
     "text": [
      "c:\\Users\\ADMIN\\Documents\\Codebase\\envs\\machine_L\\lib\\site-packages\\sklearn\\cluster\\_affinity_propagation.py:148: FutureWarning:\n\n'random_state' has been introduced in 0.23. It will be set to None starting from 1.0 (renaming of 0.25) which means that results will differ at every function call. Set 'random_state' to None to silence this warning, or to 0 to keep the behavior of versions <0.23.\n\n"
     ]
    }
   ],
   "source": [
    "db=AffinityPropagation()\n",
    "db.fit(datasets.iloc[:,:-14])\n",
    "labels=list(db.labels_)"
   ]
  },
  {
   "cell_type": "code",
   "execution_count": 568,
   "metadata": {},
   "outputs": [
    {
     "output_type": "display_data",
     "data": {
      "text/plain": "<IPython.core.display.Markdown object>",
      "text/markdown": "Publishing document and associated data - *please wait...*"
     },
     "metadata": {}
    },
    {
     "output_type": "display_data",
     "data": {
      "text/plain": "<IPython.core.display.Markdown object>",
      "text/markdown": "Your report doesn't contain any text - did you know you can add text to your report from your browser once published?"
     },
     "metadata": {}
    },
    {
     "output_type": "display_data",
     "data": {
      "text/plain": "<IPython.core.display.Markdown object>",
      "text/markdown": "Your report only contains a single element - did you know you can add multiple plots and tables to a report, add text to it and export directly to Medium once published?"
     },
     "metadata": {}
    },
    {
     "output_type": "display_data",
     "data": {
      "text/plain": "<IPython.core.display.Markdown object>",
      "text/markdown": "Report successfully published at https://datapane.com/u/anupammisra/reports/str/ - you can edit and add additional text online"
     },
     "metadata": {}
    }
   ],
   "source": [
    "figtot = px.scatter_3d(dataset, y='Dropout-PRIMARY', z='Dropout-UPPER_PRIMARY', x='Dropout-SECONDARY',color=labels,  color_continuous_scale='turbo',opacity=0.7,text=states['State'], title='Visualizing performance of states in the education sector')\n",
    "figtot.update_layout(width=1200, height=520)\n",
    "\n",
    "r = dp.Report(\n",
    "  dp.Plot(figtot) #create a chart\n",
    ").publish(name='STR', visibility=dp.Visibility.PUBLIC,open=True) #Publish the report\n"
   ]
  },
  {
   "source": [
    "https://towardsdatascience.com/unsupervised-machine-learning-affinity-propagation-algorithm-explained-d1fef85f22c8"
   ],
   "cell_type": "markdown",
   "metadata": {}
  },
  {
   "cell_type": "code",
   "execution_count": 566,
   "metadata": {},
   "outputs": [
    {
     "output_type": "display_data",
     "data": {
      "application/vnd.plotly.v1+json": {
       "config": {
        "plotlyServerURL": "https://plot.ly"
       },
       "data": [
        {
         "hovertemplate": "Dropout-SECONDARY=%{x}<br>Dropout-PRIMARY=%{y}<br>Dropout-UPPER_PRIMARY=%{z}<br>text=%{text}<br>color=%{marker.color}<extra></extra>",
         "legendgroup": "",
         "marker": {
          "color": [
           4,
           3,
           3,
           1,
           0,
           4,
           5,
           0,
           5,
           4,
           4,
           5,
           4,
           4,
           3,
           1,
           0,
           4,
           4,
           1,
           4,
           3,
           1,
           1,
           1,
           2,
           4,
           4,
           3,
           4,
           4,
           5,
           5,
           4,
           4,
           5
          ],
          "coloraxis": "coloraxis",
          "opacity": 0.7,
          "symbol": "circle"
         },
         "mode": "markers+text",
         "name": "",
         "scene": "scene",
         "showlegend": false,
         "text": [
          "Andaman & Nicobar Islands",
          "Andhra Pradesh",
          "Arunachal Pradesh",
          "Assam",
          "Bihar",
          "Chandigarh",
          "Chhattisgarh",
          "Dadra & Nagar Haveli",
          "Daman & Diu",
          "Delhi",
          "Goa",
          "Gujarat",
          "Haryana",
          "Himachal Pradesh",
          "Jammu And Kashmir",
          "Jharkhand",
          "Karnataka",
          "Kerala",
          "Lakshadweep",
          "Madhya Pradesh",
          "Maharashtra",
          "Manipur",
          "Meghalaya",
          "Mizoram",
          "Nagaland",
          "Odisha",
          "Puducherry",
          "Punjab",
          "Rajasthan",
          "Sikkim",
          "Tamil Nadu",
          "Telangana",
          "Tripura",
          "Uttar Pradesh",
          "Uttarakhand",
          "West Bengal"
         ],
         "type": "scatter3d",
         "x": [
          7.543333333333333,
          13.693333333333333,
          14.843333333333334,
          28.08666666666667,
          27.123333333333335,
          0,
          19.843333333333334,
          23.256666666666664,
          21.21666666666667,
          8.676666666666668,
          9.563333333333333,
          20.066666666666666,
          12.46,
          7.843333333333334,
          16.656666666666666,
          21.883333333333336,
          31.22333333333334,
          12.076666666666668,
          7.489999999999999,
          21.623333333333335,
          14.513333333333334,
          12.646666666666668,
          23.766666666666666,
          20.666666666666668,
          26.61666666666667,
          42.96666666666667,
          13.88,
          9.163333333333334,
          15.300000000000002,
          12.670000000000002,
          10.166666666666666,
          19.486666666666668,
          17.83666666666667,
          9.066666666666666,
          12.133333333333335,
          18.07
         ],
         "y": [
          0.8000000000000002,
          4.75,
          12.290000000000001,
          9.68,
          0.6966666666666667,
          0,
          2.823333333333333,
          1.0133333333333334,
          0.6533333333333333,
          0,
          0.31,
          0.7966666666666667,
          2.436666666666667,
          0.5166666666666667,
          6.183333333333334,
          6.366666666666667,
          2.436666666666667,
          0,
          0.8333333333333334,
          7.613333333333333,
          0.9266666666666667,
          12.506666666666666,
          9.98,
          15.723333333333334,
          10.696666666666667,
          3.1199999999999997,
          0.4566666666666667,
          2.11,
          7.126666666666666,
          3.48,
          1.5066666666666666,
          3.3699999999999997,
          5.046666666666667,
          5.6066666666666665,
          4.47,
          2.19
         ],
         "z": [
          1.1433333333333333,
          4.113333333333333,
          6.59,
          8.253333333333332,
          2.3533333333333335,
          0.54,
          5.0233333333333325,
          3.8433333333333333,
          2.223333333333333,
          1.18,
          0.023333333333333334,
          5.72,
          2.94,
          0.7200000000000001,
          5.086666666666667,
          7.293333333333334,
          3.8033333333333332,
          0,
          1.6433333333333333,
          9.809999999999999,
          1.3800000000000001,
          5.759999999999999,
          7.07,
          10.026666666666667,
          11.87,
          3.473333333333333,
          0.6133333333333334,
          2.9499999999999997,
          4.506666666666667,
          3.2866666666666666,
          1.92,
          3.3633333333333333,
          1.9233333333333331,
          1.12,
          2.6833333333333336,
          4.305
         ]
        }
       ],
       "layout": {
        "coloraxis": {
         "colorbar": {
          "title": {
           "text": "color"
          }
         },
         "colorscale": [
          [
           0,
           "#30123b"
          ],
          [
           0.07142857142857142,
           "#4145ab"
          ],
          [
           0.14285714285714285,
           "#4675ed"
          ],
          [
           0.21428571428571427,
           "#39a2fc"
          ],
          [
           0.2857142857142857,
           "#1bcfd4"
          ],
          [
           0.35714285714285715,
           "#24eca6"
          ],
          [
           0.42857142857142855,
           "#61fc6c"
          ],
          [
           0.5,
           "#a4fc3b"
          ],
          [
           0.5714285714285714,
           "#d1e834"
          ],
          [
           0.6428571428571429,
           "#f3c63a"
          ],
          [
           0.7142857142857143,
           "#fe9b2d"
          ],
          [
           0.7857142857142857,
           "#f36315"
          ],
          [
           0.8571428571428571,
           "#d93806"
          ],
          [
           0.9285714285714286,
           "#b11901"
          ],
          [
           1,
           "#7a0402"
          ]
         ]
        },
        "height": 520,
        "legend": {
         "tracegroupgap": 0
        },
        "scene": {
         "domain": {
          "x": [
           0,
           1
          ],
          "y": [
           0,
           1
          ]
         },
         "xaxis": {
          "title": {
           "text": "Dropout-SECONDARY"
          }
         },
         "yaxis": {
          "title": {
           "text": "Dropout-PRIMARY"
          }
         },
         "zaxis": {
          "title": {
           "text": "Dropout-UPPER_PRIMARY"
          }
         }
        },
        "template": {
         "data": {
          "bar": [
           {
            "error_x": {
             "color": "#2a3f5f"
            },
            "error_y": {
             "color": "#2a3f5f"
            },
            "marker": {
             "line": {
              "color": "#E5ECF6",
              "width": 0.5
             }
            },
            "type": "bar"
           }
          ],
          "barpolar": [
           {
            "marker": {
             "line": {
              "color": "#E5ECF6",
              "width": 0.5
             }
            },
            "type": "barpolar"
           }
          ],
          "carpet": [
           {
            "aaxis": {
             "endlinecolor": "#2a3f5f",
             "gridcolor": "white",
             "linecolor": "white",
             "minorgridcolor": "white",
             "startlinecolor": "#2a3f5f"
            },
            "baxis": {
             "endlinecolor": "#2a3f5f",
             "gridcolor": "white",
             "linecolor": "white",
             "minorgridcolor": "white",
             "startlinecolor": "#2a3f5f"
            },
            "type": "carpet"
           }
          ],
          "choropleth": [
           {
            "colorbar": {
             "outlinewidth": 0,
             "ticks": ""
            },
            "type": "choropleth"
           }
          ],
          "contour": [
           {
            "colorbar": {
             "outlinewidth": 0,
             "ticks": ""
            },
            "colorscale": [
             [
              0,
              "#0d0887"
             ],
             [
              0.1111111111111111,
              "#46039f"
             ],
             [
              0.2222222222222222,
              "#7201a8"
             ],
             [
              0.3333333333333333,
              "#9c179e"
             ],
             [
              0.4444444444444444,
              "#bd3786"
             ],
             [
              0.5555555555555556,
              "#d8576b"
             ],
             [
              0.6666666666666666,
              "#ed7953"
             ],
             [
              0.7777777777777778,
              "#fb9f3a"
             ],
             [
              0.8888888888888888,
              "#fdca26"
             ],
             [
              1,
              "#f0f921"
             ]
            ],
            "type": "contour"
           }
          ],
          "contourcarpet": [
           {
            "colorbar": {
             "outlinewidth": 0,
             "ticks": ""
            },
            "type": "contourcarpet"
           }
          ],
          "heatmap": [
           {
            "colorbar": {
             "outlinewidth": 0,
             "ticks": ""
            },
            "colorscale": [
             [
              0,
              "#0d0887"
             ],
             [
              0.1111111111111111,
              "#46039f"
             ],
             [
              0.2222222222222222,
              "#7201a8"
             ],
             [
              0.3333333333333333,
              "#9c179e"
             ],
             [
              0.4444444444444444,
              "#bd3786"
             ],
             [
              0.5555555555555556,
              "#d8576b"
             ],
             [
              0.6666666666666666,
              "#ed7953"
             ],
             [
              0.7777777777777778,
              "#fb9f3a"
             ],
             [
              0.8888888888888888,
              "#fdca26"
             ],
             [
              1,
              "#f0f921"
             ]
            ],
            "type": "heatmap"
           }
          ],
          "heatmapgl": [
           {
            "colorbar": {
             "outlinewidth": 0,
             "ticks": ""
            },
            "colorscale": [
             [
              0,
              "#0d0887"
             ],
             [
              0.1111111111111111,
              "#46039f"
             ],
             [
              0.2222222222222222,
              "#7201a8"
             ],
             [
              0.3333333333333333,
              "#9c179e"
             ],
             [
              0.4444444444444444,
              "#bd3786"
             ],
             [
              0.5555555555555556,
              "#d8576b"
             ],
             [
              0.6666666666666666,
              "#ed7953"
             ],
             [
              0.7777777777777778,
              "#fb9f3a"
             ],
             [
              0.8888888888888888,
              "#fdca26"
             ],
             [
              1,
              "#f0f921"
             ]
            ],
            "type": "heatmapgl"
           }
          ],
          "histogram": [
           {
            "marker": {
             "colorbar": {
              "outlinewidth": 0,
              "ticks": ""
             }
            },
            "type": "histogram"
           }
          ],
          "histogram2d": [
           {
            "colorbar": {
             "outlinewidth": 0,
             "ticks": ""
            },
            "colorscale": [
             [
              0,
              "#0d0887"
             ],
             [
              0.1111111111111111,
              "#46039f"
             ],
             [
              0.2222222222222222,
              "#7201a8"
             ],
             [
              0.3333333333333333,
              "#9c179e"
             ],
             [
              0.4444444444444444,
              "#bd3786"
             ],
             [
              0.5555555555555556,
              "#d8576b"
             ],
             [
              0.6666666666666666,
              "#ed7953"
             ],
             [
              0.7777777777777778,
              "#fb9f3a"
             ],
             [
              0.8888888888888888,
              "#fdca26"
             ],
             [
              1,
              "#f0f921"
             ]
            ],
            "type": "histogram2d"
           }
          ],
          "histogram2dcontour": [
           {
            "colorbar": {
             "outlinewidth": 0,
             "ticks": ""
            },
            "colorscale": [
             [
              0,
              "#0d0887"
             ],
             [
              0.1111111111111111,
              "#46039f"
             ],
             [
              0.2222222222222222,
              "#7201a8"
             ],
             [
              0.3333333333333333,
              "#9c179e"
             ],
             [
              0.4444444444444444,
              "#bd3786"
             ],
             [
              0.5555555555555556,
              "#d8576b"
             ],
             [
              0.6666666666666666,
              "#ed7953"
             ],
             [
              0.7777777777777778,
              "#fb9f3a"
             ],
             [
              0.8888888888888888,
              "#fdca26"
             ],
             [
              1,
              "#f0f921"
             ]
            ],
            "type": "histogram2dcontour"
           }
          ],
          "mesh3d": [
           {
            "colorbar": {
             "outlinewidth": 0,
             "ticks": ""
            },
            "type": "mesh3d"
           }
          ],
          "parcoords": [
           {
            "line": {
             "colorbar": {
              "outlinewidth": 0,
              "ticks": ""
             }
            },
            "type": "parcoords"
           }
          ],
          "pie": [
           {
            "automargin": true,
            "type": "pie"
           }
          ],
          "scatter": [
           {
            "marker": {
             "colorbar": {
              "outlinewidth": 0,
              "ticks": ""
             }
            },
            "type": "scatter"
           }
          ],
          "scatter3d": [
           {
            "line": {
             "colorbar": {
              "outlinewidth": 0,
              "ticks": ""
             }
            },
            "marker": {
             "colorbar": {
              "outlinewidth": 0,
              "ticks": ""
             }
            },
            "type": "scatter3d"
           }
          ],
          "scattercarpet": [
           {
            "marker": {
             "colorbar": {
              "outlinewidth": 0,
              "ticks": ""
             }
            },
            "type": "scattercarpet"
           }
          ],
          "scattergeo": [
           {
            "marker": {
             "colorbar": {
              "outlinewidth": 0,
              "ticks": ""
             }
            },
            "type": "scattergeo"
           }
          ],
          "scattergl": [
           {
            "marker": {
             "colorbar": {
              "outlinewidth": 0,
              "ticks": ""
             }
            },
            "type": "scattergl"
           }
          ],
          "scattermapbox": [
           {
            "marker": {
             "colorbar": {
              "outlinewidth": 0,
              "ticks": ""
             }
            },
            "type": "scattermapbox"
           }
          ],
          "scatterpolar": [
           {
            "marker": {
             "colorbar": {
              "outlinewidth": 0,
              "ticks": ""
             }
            },
            "type": "scatterpolar"
           }
          ],
          "scatterpolargl": [
           {
            "marker": {
             "colorbar": {
              "outlinewidth": 0,
              "ticks": ""
             }
            },
            "type": "scatterpolargl"
           }
          ],
          "scatterternary": [
           {
            "marker": {
             "colorbar": {
              "outlinewidth": 0,
              "ticks": ""
             }
            },
            "type": "scatterternary"
           }
          ],
          "surface": [
           {
            "colorbar": {
             "outlinewidth": 0,
             "ticks": ""
            },
            "colorscale": [
             [
              0,
              "#0d0887"
             ],
             [
              0.1111111111111111,
              "#46039f"
             ],
             [
              0.2222222222222222,
              "#7201a8"
             ],
             [
              0.3333333333333333,
              "#9c179e"
             ],
             [
              0.4444444444444444,
              "#bd3786"
             ],
             [
              0.5555555555555556,
              "#d8576b"
             ],
             [
              0.6666666666666666,
              "#ed7953"
             ],
             [
              0.7777777777777778,
              "#fb9f3a"
             ],
             [
              0.8888888888888888,
              "#fdca26"
             ],
             [
              1,
              "#f0f921"
             ]
            ],
            "type": "surface"
           }
          ],
          "table": [
           {
            "cells": {
             "fill": {
              "color": "#EBF0F8"
             },
             "line": {
              "color": "white"
             }
            },
            "header": {
             "fill": {
              "color": "#C8D4E3"
             },
             "line": {
              "color": "white"
             }
            },
            "type": "table"
           }
          ]
         },
         "layout": {
          "annotationdefaults": {
           "arrowcolor": "#2a3f5f",
           "arrowhead": 0,
           "arrowwidth": 1
          },
          "autotypenumbers": "strict",
          "coloraxis": {
           "colorbar": {
            "outlinewidth": 0,
            "ticks": ""
           }
          },
          "colorscale": {
           "diverging": [
            [
             0,
             "#8e0152"
            ],
            [
             0.1,
             "#c51b7d"
            ],
            [
             0.2,
             "#de77ae"
            ],
            [
             0.3,
             "#f1b6da"
            ],
            [
             0.4,
             "#fde0ef"
            ],
            [
             0.5,
             "#f7f7f7"
            ],
            [
             0.6,
             "#e6f5d0"
            ],
            [
             0.7,
             "#b8e186"
            ],
            [
             0.8,
             "#7fbc41"
            ],
            [
             0.9,
             "#4d9221"
            ],
            [
             1,
             "#276419"
            ]
           ],
           "sequential": [
            [
             0,
             "#0d0887"
            ],
            [
             0.1111111111111111,
             "#46039f"
            ],
            [
             0.2222222222222222,
             "#7201a8"
            ],
            [
             0.3333333333333333,
             "#9c179e"
            ],
            [
             0.4444444444444444,
             "#bd3786"
            ],
            [
             0.5555555555555556,
             "#d8576b"
            ],
            [
             0.6666666666666666,
             "#ed7953"
            ],
            [
             0.7777777777777778,
             "#fb9f3a"
            ],
            [
             0.8888888888888888,
             "#fdca26"
            ],
            [
             1,
             "#f0f921"
            ]
           ],
           "sequentialminus": [
            [
             0,
             "#0d0887"
            ],
            [
             0.1111111111111111,
             "#46039f"
            ],
            [
             0.2222222222222222,
             "#7201a8"
            ],
            [
             0.3333333333333333,
             "#9c179e"
            ],
            [
             0.4444444444444444,
             "#bd3786"
            ],
            [
             0.5555555555555556,
             "#d8576b"
            ],
            [
             0.6666666666666666,
             "#ed7953"
            ],
            [
             0.7777777777777778,
             "#fb9f3a"
            ],
            [
             0.8888888888888888,
             "#fdca26"
            ],
            [
             1,
             "#f0f921"
            ]
           ]
          },
          "colorway": [
           "#636efa",
           "#EF553B",
           "#00cc96",
           "#ab63fa",
           "#FFA15A",
           "#19d3f3",
           "#FF6692",
           "#B6E880",
           "#FF97FF",
           "#FECB52"
          ],
          "font": {
           "color": "#2a3f5f"
          },
          "geo": {
           "bgcolor": "white",
           "lakecolor": "white",
           "landcolor": "#E5ECF6",
           "showlakes": true,
           "showland": true,
           "subunitcolor": "white"
          },
          "hoverlabel": {
           "align": "left"
          },
          "hovermode": "closest",
          "mapbox": {
           "style": "light"
          },
          "paper_bgcolor": "white",
          "plot_bgcolor": "#E5ECF6",
          "polar": {
           "angularaxis": {
            "gridcolor": "white",
            "linecolor": "white",
            "ticks": ""
           },
           "bgcolor": "#E5ECF6",
           "radialaxis": {
            "gridcolor": "white",
            "linecolor": "white",
            "ticks": ""
           }
          },
          "scene": {
           "xaxis": {
            "backgroundcolor": "#E5ECF6",
            "gridcolor": "white",
            "gridwidth": 2,
            "linecolor": "white",
            "showbackground": true,
            "ticks": "",
            "zerolinecolor": "white"
           },
           "yaxis": {
            "backgroundcolor": "#E5ECF6",
            "gridcolor": "white",
            "gridwidth": 2,
            "linecolor": "white",
            "showbackground": true,
            "ticks": "",
            "zerolinecolor": "white"
           },
           "zaxis": {
            "backgroundcolor": "#E5ECF6",
            "gridcolor": "white",
            "gridwidth": 2,
            "linecolor": "white",
            "showbackground": true,
            "ticks": "",
            "zerolinecolor": "white"
           }
          },
          "shapedefaults": {
           "line": {
            "color": "#2a3f5f"
           }
          },
          "ternary": {
           "aaxis": {
            "gridcolor": "white",
            "linecolor": "white",
            "ticks": ""
           },
           "baxis": {
            "gridcolor": "white",
            "linecolor": "white",
            "ticks": ""
           },
           "bgcolor": "#E5ECF6",
           "caxis": {
            "gridcolor": "white",
            "linecolor": "white",
            "ticks": ""
           }
          },
          "title": {
           "x": 0.05
          },
          "xaxis": {
           "automargin": true,
           "gridcolor": "white",
           "linecolor": "white",
           "ticks": "",
           "title": {
            "standoff": 15
           },
           "zerolinecolor": "white",
           "zerolinewidth": 2
          },
          "yaxis": {
           "automargin": true,
           "gridcolor": "white",
           "linecolor": "white",
           "ticks": "",
           "title": {
            "standoff": 15
           },
           "zerolinecolor": "white",
           "zerolinewidth": 2
          }
         }
        },
        "title": {
         "text": "Visualizing performance of states in the education sector"
        },
        "width": 1200
       }
      }
     },
     "metadata": {}
    }
   ],
   "source": [
    "figtot.show()"
   ]
  },
  {
   "cell_type": "code",
   "execution_count": null,
   "metadata": {},
   "outputs": [],
   "source": []
  }
 ]
}