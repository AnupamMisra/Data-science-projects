{
 "metadata": {
  "language_info": {
   "codemirror_mode": {
    "name": "ipython",
    "version": 3
   },
   "file_extension": ".py",
   "mimetype": "text/x-python",
   "name": "python",
   "nbconvert_exporter": "python",
   "pygments_lexer": "ipython3",
   "version": "3.9.5"
  },
  "orig_nbformat": 2,
  "kernelspec": {
   "name": "python395jvsc74a57bd062a490a61034db1e8b6e05e6e999b5629625384177f9d8186b44b788547d5428",
   "display_name": "Python 3.9.5 64-bit ('machine_L': venv)"
  },
  "metadata": {
   "interpreter": {
    "hash": "cf6663ca35ebd57d6121109460e534e72c1e1f8ff142ad985cdcb4b7e585eb79"
   }
  }
 },
 "nbformat": 4,
 "nbformat_minor": 2,
 "cells": [
  {
   "cell_type": "code",
   "execution_count": 212,
   "metadata": {},
   "outputs": [],
   "source": [
    "import numpy as np \n",
    "import pandas as pd \n",
    "from sklearn.cluster import KMeans\n",
    "from sklearn.metrics import silhouette_samples,silhouette_score\n",
    "import matplotlib.pyplot as plt \n",
    "%matplotlib inline"
   ]
  },
  {
   "cell_type": "code",
   "execution_count": 213,
   "metadata": {},
   "outputs": [
    {
     "output_type": "execute_result",
     "data": {
      "text/plain": [
       "           STATE_UT     YEAR  PRIMARY_BOYS  PRIMARY_GIRLS  PRIMARY_TOTAL  \\\n",
       "0     A & N Islands  2012-13          0.83           0.51           0.68   \n",
       "1     A & N Islands  2013-14          1.35           1.06           1.21   \n",
       "2     A & N Islands  2014-15          0.47           0.55           0.51   \n",
       "3    Andhra Pradesh  2012-13          3.30           3.05           3.18   \n",
       "4    Andhra Pradesh  2013-14          4.31           4.39           4.35   \n",
       "..              ...      ...           ...            ...            ...   \n",
       "105     West Bengal  2013-14          3.44           2.37           2.91   \n",
       "106     West Bengal  2014-15          2.13           0.79           1.47   \n",
       "107       All India  2012-13          4.68           4.66           4.67   \n",
       "108       All India  2013-14          4.53           4.14           4.34   \n",
       "109       All India  2014-15          4.36           3.88           4.13   \n",
       "\n",
       "     UPPER_PRIMARY_BOYS  UPPER_PRIMARY_GIRLS  UPPER_PRIMARY_TOTAL  \\\n",
       "0                  1.44                 1.09                 1.23   \n",
       "1                  1.44                 1.54                 0.51   \n",
       "2                  1.44                 1.95                 1.69   \n",
       "3                  3.21                 3.51                 3.36   \n",
       "4                  3.46                 4.12                 3.78   \n",
       "..                  ...                  ...                  ...   \n",
       "105                5.63                 3.10                 4.31   \n",
       "106                5.84                 2.88                 4.30   \n",
       "107                2.30                 4.01                 3.13   \n",
       "108                3.09                 4.49                 3.77   \n",
       "109                3.49                 4.60                 4.03   \n",
       "\n",
       "     SECONDARY_BOYS  SECONDARY_GIRLS  SECONDARY_TOTAL  HRSECONDARY_BOYS  \\\n",
       "0              5.57             5.55             5.56             17.66   \n",
       "1              8.36             5.98             7.20             18.94   \n",
       "2             11.47             8.16             9.87             21.05   \n",
       "3             12.21            13.25            12.72              2.66   \n",
       "4             11.95            13.37            12.65             12.65   \n",
       "..              ...              ...              ...               ...   \n",
       "105           16.73            19.77            18.34              8.03   \n",
       "106           16.33            19.06            17.80              8.18   \n",
       "107           14.54            14.54            14.54              0.00   \n",
       "108           17.93            17.79            17.86              1.48   \n",
       "109           17.21            16.88            17.06              0.25   \n",
       "\n",
       "     HRSECONDARY_GIRLS  HRSECONDARY_TOTAL  \n",
       "0                10.15              14.14  \n",
       "1                12.20              15.87  \n",
       "2                12.21              16.93  \n",
       "3                 0.00               0.35  \n",
       "4                10.85              11.79  \n",
       "..                 ...                ...  \n",
       "105               7.76               7.90  \n",
       "106               8.04               8.11  \n",
       "107               0.00               0.00  \n",
       "108               1.61               1.54  \n",
       "109               0.00               0.00  \n",
       "\n",
       "[110 rows x 14 columns]"
      ],
      "text/html": "<div>\n<style scoped>\n    .dataframe tbody tr th:only-of-type {\n        vertical-align: middle;\n    }\n\n    .dataframe tbody tr th {\n        vertical-align: top;\n    }\n\n    .dataframe thead th {\n        text-align: right;\n    }\n</style>\n<table border=\"1\" class=\"dataframe\">\n  <thead>\n    <tr style=\"text-align: right;\">\n      <th></th>\n      <th>STATE_UT</th>\n      <th>YEAR</th>\n      <th>PRIMARY_BOYS</th>\n      <th>PRIMARY_GIRLS</th>\n      <th>PRIMARY_TOTAL</th>\n      <th>UPPER_PRIMARY_BOYS</th>\n      <th>UPPER_PRIMARY_GIRLS</th>\n      <th>UPPER_PRIMARY_TOTAL</th>\n      <th>SECONDARY_BOYS</th>\n      <th>SECONDARY_GIRLS</th>\n      <th>SECONDARY_TOTAL</th>\n      <th>HRSECONDARY_BOYS</th>\n      <th>HRSECONDARY_GIRLS</th>\n      <th>HRSECONDARY_TOTAL</th>\n    </tr>\n  </thead>\n  <tbody>\n    <tr>\n      <th>0</th>\n      <td>A &amp; N Islands</td>\n      <td>2012-13</td>\n      <td>0.83</td>\n      <td>0.51</td>\n      <td>0.68</td>\n      <td>1.44</td>\n      <td>1.09</td>\n      <td>1.23</td>\n      <td>5.57</td>\n      <td>5.55</td>\n      <td>5.56</td>\n      <td>17.66</td>\n      <td>10.15</td>\n      <td>14.14</td>\n    </tr>\n    <tr>\n      <th>1</th>\n      <td>A &amp; N Islands</td>\n      <td>2013-14</td>\n      <td>1.35</td>\n      <td>1.06</td>\n      <td>1.21</td>\n      <td>1.44</td>\n      <td>1.54</td>\n      <td>0.51</td>\n      <td>8.36</td>\n      <td>5.98</td>\n      <td>7.20</td>\n      <td>18.94</td>\n      <td>12.20</td>\n      <td>15.87</td>\n    </tr>\n    <tr>\n      <th>2</th>\n      <td>A &amp; N Islands</td>\n      <td>2014-15</td>\n      <td>0.47</td>\n      <td>0.55</td>\n      <td>0.51</td>\n      <td>1.44</td>\n      <td>1.95</td>\n      <td>1.69</td>\n      <td>11.47</td>\n      <td>8.16</td>\n      <td>9.87</td>\n      <td>21.05</td>\n      <td>12.21</td>\n      <td>16.93</td>\n    </tr>\n    <tr>\n      <th>3</th>\n      <td>Andhra Pradesh</td>\n      <td>2012-13</td>\n      <td>3.30</td>\n      <td>3.05</td>\n      <td>3.18</td>\n      <td>3.21</td>\n      <td>3.51</td>\n      <td>3.36</td>\n      <td>12.21</td>\n      <td>13.25</td>\n      <td>12.72</td>\n      <td>2.66</td>\n      <td>0.00</td>\n      <td>0.35</td>\n    </tr>\n    <tr>\n      <th>4</th>\n      <td>Andhra Pradesh</td>\n      <td>2013-14</td>\n      <td>4.31</td>\n      <td>4.39</td>\n      <td>4.35</td>\n      <td>3.46</td>\n      <td>4.12</td>\n      <td>3.78</td>\n      <td>11.95</td>\n      <td>13.37</td>\n      <td>12.65</td>\n      <td>12.65</td>\n      <td>10.85</td>\n      <td>11.79</td>\n    </tr>\n    <tr>\n      <th>...</th>\n      <td>...</td>\n      <td>...</td>\n      <td>...</td>\n      <td>...</td>\n      <td>...</td>\n      <td>...</td>\n      <td>...</td>\n      <td>...</td>\n      <td>...</td>\n      <td>...</td>\n      <td>...</td>\n      <td>...</td>\n      <td>...</td>\n      <td>...</td>\n    </tr>\n    <tr>\n      <th>105</th>\n      <td>West Bengal</td>\n      <td>2013-14</td>\n      <td>3.44</td>\n      <td>2.37</td>\n      <td>2.91</td>\n      <td>5.63</td>\n      <td>3.10</td>\n      <td>4.31</td>\n      <td>16.73</td>\n      <td>19.77</td>\n      <td>18.34</td>\n      <td>8.03</td>\n      <td>7.76</td>\n      <td>7.90</td>\n    </tr>\n    <tr>\n      <th>106</th>\n      <td>West Bengal</td>\n      <td>2014-15</td>\n      <td>2.13</td>\n      <td>0.79</td>\n      <td>1.47</td>\n      <td>5.84</td>\n      <td>2.88</td>\n      <td>4.30</td>\n      <td>16.33</td>\n      <td>19.06</td>\n      <td>17.80</td>\n      <td>8.18</td>\n      <td>8.04</td>\n      <td>8.11</td>\n    </tr>\n    <tr>\n      <th>107</th>\n      <td>All India</td>\n      <td>2012-13</td>\n      <td>4.68</td>\n      <td>4.66</td>\n      <td>4.67</td>\n      <td>2.30</td>\n      <td>4.01</td>\n      <td>3.13</td>\n      <td>14.54</td>\n      <td>14.54</td>\n      <td>14.54</td>\n      <td>0.00</td>\n      <td>0.00</td>\n      <td>0.00</td>\n    </tr>\n    <tr>\n      <th>108</th>\n      <td>All India</td>\n      <td>2013-14</td>\n      <td>4.53</td>\n      <td>4.14</td>\n      <td>4.34</td>\n      <td>3.09</td>\n      <td>4.49</td>\n      <td>3.77</td>\n      <td>17.93</td>\n      <td>17.79</td>\n      <td>17.86</td>\n      <td>1.48</td>\n      <td>1.61</td>\n      <td>1.54</td>\n    </tr>\n    <tr>\n      <th>109</th>\n      <td>All India</td>\n      <td>2014-15</td>\n      <td>4.36</td>\n      <td>3.88</td>\n      <td>4.13</td>\n      <td>3.49</td>\n      <td>4.60</td>\n      <td>4.03</td>\n      <td>17.21</td>\n      <td>16.88</td>\n      <td>17.06</td>\n      <td>0.25</td>\n      <td>0.00</td>\n      <td>0.00</td>\n    </tr>\n  </tbody>\n</table>\n<p>110 rows × 14 columns</p>\n</div>"
     },
     "metadata": {},
     "execution_count": 213
    }
   ],
   "source": [
    "dropout = pd.read_excel(r\"C:/Users/ADMIN/Documents/Codebase/Data-science-projects/Education/dropout.xls\")\n",
    "dropout"
   ]
  },
  {
   "cell_type": "code",
   "execution_count": 214,
   "metadata": {},
   "outputs": [],
   "source": [
    "states=[]\n",
    "for i in range(36):\n",
    "    states.append(dropout.STATE_UT.iloc[3*i])\n",
    "states=pd.DataFrame(states, columns=['State'])"
   ]
  },
  {
   "cell_type": "code",
   "execution_count": 215,
   "metadata": {},
   "outputs": [],
   "source": [
    "dropout.drop(['STATE_UT','YEAR'],axis=1,inplace=True)"
   ]
  },
  {
   "cell_type": "code",
   "execution_count": 216,
   "metadata": {},
   "outputs": [
    {
     "output_type": "execute_result",
     "data": {
      "text/plain": [
       "       PRIMARY_BOYS  PRIMARY_GIRLS  PRIMARY_TOTAL  UPPER_PRIMARY_BOYS  \\\n",
       "count    110.000000     110.000000     110.000000          110.000000   \n",
       "mean       4.293455       4.010818       4.150000            3.784091   \n",
       "std        4.674719       4.553512       4.601164            3.243136   \n",
       "min        0.000000       0.000000       0.000000            0.000000   \n",
       "25%        0.540000       0.590000       0.665000            1.440000   \n",
       "50%        2.900000       2.440000       2.885000            3.175000   \n",
       "75%        6.742500       5.870000       6.300000            5.422500   \n",
       "max       24.270000      23.930000      24.110000           19.350000   \n",
       "\n",
       "       UPPER_PRIMARY_GIRLS  UPPER_PRIMARY_TOTAL  SECONDARY_BOYS  \\\n",
       "count           110.000000           110.000000      110.000000   \n",
       "mean              4.169455             3.839000       17.162273   \n",
       "std               3.444964             3.351027        8.931009   \n",
       "min               0.000000             0.000000        0.000000   \n",
       "25%               1.580000             1.200000       11.312500   \n",
       "50%               3.535000             3.370000       16.105000   \n",
       "75%               5.835000             5.462500       23.012500   \n",
       "max              19.210000            19.280000       50.090000   \n",
       "\n",
       "       SECONDARY_GIRLS  SECONDARY_TOTAL  HRSECONDARY_BOYS  HRSECONDARY_GIRLS  \\\n",
       "count       110.000000       110.000000         110.00000         110.000000   \n",
       "mean         16.311455        16.761364           6.96800           4.979364   \n",
       "std           9.403942         9.060955           7.40457           5.468031   \n",
       "min           0.000000         0.000000           0.00000           0.000000   \n",
       "25%           9.385000         9.952500           0.05750           0.000000   \n",
       "50%          14.985000        15.035000           5.68000           3.880000   \n",
       "75%          21.682500        22.832500          11.76500           8.470000   \n",
       "max          49.620000        49.860000          44.38000          36.050000   \n",
       "\n",
       "       HRSECONDARY_TOTAL  \n",
       "count         110.000000  \n",
       "mean            5.958273  \n",
       "std             6.403142  \n",
       "min             0.000000  \n",
       "25%             0.000000  \n",
       "50%             4.595000  \n",
       "75%             9.380000  \n",
       "max            40.480000  "
      ],
      "text/html": "<div>\n<style scoped>\n    .dataframe tbody tr th:only-of-type {\n        vertical-align: middle;\n    }\n\n    .dataframe tbody tr th {\n        vertical-align: top;\n    }\n\n    .dataframe thead th {\n        text-align: right;\n    }\n</style>\n<table border=\"1\" class=\"dataframe\">\n  <thead>\n    <tr style=\"text-align: right;\">\n      <th></th>\n      <th>PRIMARY_BOYS</th>\n      <th>PRIMARY_GIRLS</th>\n      <th>PRIMARY_TOTAL</th>\n      <th>UPPER_PRIMARY_BOYS</th>\n      <th>UPPER_PRIMARY_GIRLS</th>\n      <th>UPPER_PRIMARY_TOTAL</th>\n      <th>SECONDARY_BOYS</th>\n      <th>SECONDARY_GIRLS</th>\n      <th>SECONDARY_TOTAL</th>\n      <th>HRSECONDARY_BOYS</th>\n      <th>HRSECONDARY_GIRLS</th>\n      <th>HRSECONDARY_TOTAL</th>\n    </tr>\n  </thead>\n  <tbody>\n    <tr>\n      <th>count</th>\n      <td>110.000000</td>\n      <td>110.000000</td>\n      <td>110.000000</td>\n      <td>110.000000</td>\n      <td>110.000000</td>\n      <td>110.000000</td>\n      <td>110.000000</td>\n      <td>110.000000</td>\n      <td>110.000000</td>\n      <td>110.00000</td>\n      <td>110.000000</td>\n      <td>110.000000</td>\n    </tr>\n    <tr>\n      <th>mean</th>\n      <td>4.293455</td>\n      <td>4.010818</td>\n      <td>4.150000</td>\n      <td>3.784091</td>\n      <td>4.169455</td>\n      <td>3.839000</td>\n      <td>17.162273</td>\n      <td>16.311455</td>\n      <td>16.761364</td>\n      <td>6.96800</td>\n      <td>4.979364</td>\n      <td>5.958273</td>\n    </tr>\n    <tr>\n      <th>std</th>\n      <td>4.674719</td>\n      <td>4.553512</td>\n      <td>4.601164</td>\n      <td>3.243136</td>\n      <td>3.444964</td>\n      <td>3.351027</td>\n      <td>8.931009</td>\n      <td>9.403942</td>\n      <td>9.060955</td>\n      <td>7.40457</td>\n      <td>5.468031</td>\n      <td>6.403142</td>\n    </tr>\n    <tr>\n      <th>min</th>\n      <td>0.000000</td>\n      <td>0.000000</td>\n      <td>0.000000</td>\n      <td>0.000000</td>\n      <td>0.000000</td>\n      <td>0.000000</td>\n      <td>0.000000</td>\n      <td>0.000000</td>\n      <td>0.000000</td>\n      <td>0.00000</td>\n      <td>0.000000</td>\n      <td>0.000000</td>\n    </tr>\n    <tr>\n      <th>25%</th>\n      <td>0.540000</td>\n      <td>0.590000</td>\n      <td>0.665000</td>\n      <td>1.440000</td>\n      <td>1.580000</td>\n      <td>1.200000</td>\n      <td>11.312500</td>\n      <td>9.385000</td>\n      <td>9.952500</td>\n      <td>0.05750</td>\n      <td>0.000000</td>\n      <td>0.000000</td>\n    </tr>\n    <tr>\n      <th>50%</th>\n      <td>2.900000</td>\n      <td>2.440000</td>\n      <td>2.885000</td>\n      <td>3.175000</td>\n      <td>3.535000</td>\n      <td>3.370000</td>\n      <td>16.105000</td>\n      <td>14.985000</td>\n      <td>15.035000</td>\n      <td>5.68000</td>\n      <td>3.880000</td>\n      <td>4.595000</td>\n    </tr>\n    <tr>\n      <th>75%</th>\n      <td>6.742500</td>\n      <td>5.870000</td>\n      <td>6.300000</td>\n      <td>5.422500</td>\n      <td>5.835000</td>\n      <td>5.462500</td>\n      <td>23.012500</td>\n      <td>21.682500</td>\n      <td>22.832500</td>\n      <td>11.76500</td>\n      <td>8.470000</td>\n      <td>9.380000</td>\n    </tr>\n    <tr>\n      <th>max</th>\n      <td>24.270000</td>\n      <td>23.930000</td>\n      <td>24.110000</td>\n      <td>19.350000</td>\n      <td>19.210000</td>\n      <td>19.280000</td>\n      <td>50.090000</td>\n      <td>49.620000</td>\n      <td>49.860000</td>\n      <td>44.38000</td>\n      <td>36.050000</td>\n      <td>40.480000</td>\n    </tr>\n  </tbody>\n</table>\n</div>"
     },
     "metadata": {},
     "execution_count": 216
    }
   ],
   "source": [
    "dropout.describe()"
   ]
  },
  {
   "cell_type": "code",
   "execution_count": 217,
   "metadata": {},
   "outputs": [
    {
     "output_type": "execute_result",
     "data": {
      "text/plain": [
       "   PRIMARY_BOYS  PRIMARY_GIRLS  PRIMARY_TOTAL  UPPER_PRIMARY_BOYS  \\\n",
       "0      0.883333       0.706667       0.800000            1.440000   \n",
       "1      4.726667       4.776667       4.750000            3.920000   \n",
       "2     12.963333      11.583333      12.290000            5.203333   \n",
       "3     10.426667       8.930000       9.680000            8.646667   \n",
       "4      0.910000       0.596667       0.696667            3.226667   \n",
       "\n",
       "   UPPER_PRIMARY_GIRLS  UPPER_PRIMARY_TOTAL  SECONDARY_BOYS  SECONDARY_GIRLS  \\\n",
       "0             1.526667             1.143333        8.466667         6.563333   \n",
       "1             4.316667             4.113333       13.323333        14.073333   \n",
       "2             7.960000             6.590000       16.133333        13.443333   \n",
       "3             7.883333             8.253333       26.293333        29.723333   \n",
       "4             2.400000             2.353333       26.330000        27.983333   \n",
       "\n",
       "   SECONDARY_TOTAL  HRSECONDARY_BOYS  HRSECONDARY_GIRLS  HRSECONDARY_TOTAL  \n",
       "0         7.543333         19.216667          11.520000          15.646667  \n",
       "1        13.693333          5.103333           3.616667           4.046667  \n",
       "2        14.843333         15.263333          11.690000          13.533333  \n",
       "3        28.086667          4.163333           3.776667           3.976667  \n",
       "4        27.123333          0.000000           0.000000           0.000000  "
      ],
      "text/html": "<div>\n<style scoped>\n    .dataframe tbody tr th:only-of-type {\n        vertical-align: middle;\n    }\n\n    .dataframe tbody tr th {\n        vertical-align: top;\n    }\n\n    .dataframe thead th {\n        text-align: right;\n    }\n</style>\n<table border=\"1\" class=\"dataframe\">\n  <thead>\n    <tr style=\"text-align: right;\">\n      <th></th>\n      <th>PRIMARY_BOYS</th>\n      <th>PRIMARY_GIRLS</th>\n      <th>PRIMARY_TOTAL</th>\n      <th>UPPER_PRIMARY_BOYS</th>\n      <th>UPPER_PRIMARY_GIRLS</th>\n      <th>UPPER_PRIMARY_TOTAL</th>\n      <th>SECONDARY_BOYS</th>\n      <th>SECONDARY_GIRLS</th>\n      <th>SECONDARY_TOTAL</th>\n      <th>HRSECONDARY_BOYS</th>\n      <th>HRSECONDARY_GIRLS</th>\n      <th>HRSECONDARY_TOTAL</th>\n    </tr>\n  </thead>\n  <tbody>\n    <tr>\n      <th>0</th>\n      <td>0.883333</td>\n      <td>0.706667</td>\n      <td>0.800000</td>\n      <td>1.440000</td>\n      <td>1.526667</td>\n      <td>1.143333</td>\n      <td>8.466667</td>\n      <td>6.563333</td>\n      <td>7.543333</td>\n      <td>19.216667</td>\n      <td>11.520000</td>\n      <td>15.646667</td>\n    </tr>\n    <tr>\n      <th>1</th>\n      <td>4.726667</td>\n      <td>4.776667</td>\n      <td>4.750000</td>\n      <td>3.920000</td>\n      <td>4.316667</td>\n      <td>4.113333</td>\n      <td>13.323333</td>\n      <td>14.073333</td>\n      <td>13.693333</td>\n      <td>5.103333</td>\n      <td>3.616667</td>\n      <td>4.046667</td>\n    </tr>\n    <tr>\n      <th>2</th>\n      <td>12.963333</td>\n      <td>11.583333</td>\n      <td>12.290000</td>\n      <td>5.203333</td>\n      <td>7.960000</td>\n      <td>6.590000</td>\n      <td>16.133333</td>\n      <td>13.443333</td>\n      <td>14.843333</td>\n      <td>15.263333</td>\n      <td>11.690000</td>\n      <td>13.533333</td>\n    </tr>\n    <tr>\n      <th>3</th>\n      <td>10.426667</td>\n      <td>8.930000</td>\n      <td>9.680000</td>\n      <td>8.646667</td>\n      <td>7.883333</td>\n      <td>8.253333</td>\n      <td>26.293333</td>\n      <td>29.723333</td>\n      <td>28.086667</td>\n      <td>4.163333</td>\n      <td>3.776667</td>\n      <td>3.976667</td>\n    </tr>\n    <tr>\n      <th>4</th>\n      <td>0.910000</td>\n      <td>0.596667</td>\n      <td>0.696667</td>\n      <td>3.226667</td>\n      <td>2.400000</td>\n      <td>2.353333</td>\n      <td>26.330000</td>\n      <td>27.983333</td>\n      <td>27.123333</td>\n      <td>0.000000</td>\n      <td>0.000000</td>\n      <td>0.000000</td>\n    </tr>\n  </tbody>\n</table>\n</div>"
     },
     "metadata": {},
     "execution_count": 217
    }
   ],
   "source": [
    "x=pd.DataFrame()\n",
    "for i in range(36):\n",
    "    x[i]=dropout.iloc[3*i+0:i*3+3,:].mean()\n",
    "x=x.transpose()    \n",
    "x.head(5)"
   ]
  },
  {
   "cell_type": "code",
   "execution_count": 224,
   "metadata": {},
   "outputs": [],
   "source": [
    "scores=[]\n",
    "for i in range(2,36):\n",
    "    k=KMeans(n_clusters=i,n_init=50)\n",
    "    k.fit(x)\n",
    "    label=KMeans.predict(k,x)\n",
    "    scores.append(silhouette_score(x, label))\n",
    "pd.DataFrame(scores).plot()\n",
    "plt.axvline(3)\n",
    "plt.text(3,0.34,s=\"Max silhoutte score at n=3\")"
   ]
  },
  {
   "cell_type": "code",
   "execution_count": 239,
   "metadata": {},
   "outputs": [],
   "source": [
    "best_cluster_no=np.argmax(scores[2:36])+2\n",
    "k=KMeans(n_clusters=best_cluster_no)\n",
    "k.fit(x)\n",
    "lab = pd.DataFrame(k.labels_,columns=['Labels'])"
   ]
  },
  {
   "cell_type": "code",
   "execution_count": 247,
   "metadata": {},
   "outputs": [
    {
     "output_type": "stream",
     "name": "stderr",
     "text": [
      "<ipython-input-247-2d413833ed51>:2: FutureWarning: Indexing with multiple keys (implicitly converted to a tuple of keys) will be deprecated, use a list instead.\n  result.groupby('Labels')['PRIMARY_BOYS', 'PRIMARY_GIRLS', 'PRIMARY_TOTAL',\n"
     ]
    },
    {
     "output_type": "execute_result",
     "data": {
      "text/plain": [
       "        PRIMARY_BOYS  PRIMARY_GIRLS  PRIMARY_TOTAL  UPPER_PRIMARY_BOYS  \\\n",
       "Labels                                                                   \n",
       "0           6.951333       6.541667       6.732667            6.732333   \n",
       "1           4.087895       3.938772       4.013509            3.006842   \n",
       "2           1.040000       0.590952       0.822857            1.729048   \n",
       "\n",
       "        UPPER_PRIMARY_GIRLS  UPPER_PRIMARY_TOTAL  SECONDARY_BOYS  \\\n",
       "Labels                                                             \n",
       "0                  6.935333             6.779667       26.685333   \n",
       "1                  3.716667             3.223684       14.576140   \n",
       "2                  1.411429             1.302381       10.538571   \n",
       "\n",
       "        SECONDARY_GIRLS  SECONDARY_TOTAL  HRSECONDARY_BOYS  HRSECONDARY_GIRLS  \\\n",
       "Labels                                                                          \n",
       "0             26.733667        26.721333          4.377667           2.803667   \n",
       "1             13.607018        14.116667          5.100175           4.473509   \n",
       "2              8.665714         9.644762         16.319524           9.858095   \n",
       "\n",
       "        HRSECONDARY_TOTAL  \n",
       "Labels                     \n",
       "0                3.530000  \n",
       "1                4.756316  \n",
       "2               13.183810  "
      ],
      "text/html": "<div>\n<style scoped>\n    .dataframe tbody tr th:only-of-type {\n        vertical-align: middle;\n    }\n\n    .dataframe tbody tr th {\n        vertical-align: top;\n    }\n\n    .dataframe thead th {\n        text-align: right;\n    }\n</style>\n<table border=\"1\" class=\"dataframe\">\n  <thead>\n    <tr style=\"text-align: right;\">\n      <th></th>\n      <th>PRIMARY_BOYS</th>\n      <th>PRIMARY_GIRLS</th>\n      <th>PRIMARY_TOTAL</th>\n      <th>UPPER_PRIMARY_BOYS</th>\n      <th>UPPER_PRIMARY_GIRLS</th>\n      <th>UPPER_PRIMARY_TOTAL</th>\n      <th>SECONDARY_BOYS</th>\n      <th>SECONDARY_GIRLS</th>\n      <th>SECONDARY_TOTAL</th>\n      <th>HRSECONDARY_BOYS</th>\n      <th>HRSECONDARY_GIRLS</th>\n      <th>HRSECONDARY_TOTAL</th>\n    </tr>\n    <tr>\n      <th>Labels</th>\n      <th></th>\n      <th></th>\n      <th></th>\n      <th></th>\n      <th></th>\n      <th></th>\n      <th></th>\n      <th></th>\n      <th></th>\n      <th></th>\n      <th></th>\n      <th></th>\n    </tr>\n  </thead>\n  <tbody>\n    <tr>\n      <th>0</th>\n      <td>6.951333</td>\n      <td>6.541667</td>\n      <td>6.732667</td>\n      <td>6.732333</td>\n      <td>6.935333</td>\n      <td>6.779667</td>\n      <td>26.685333</td>\n      <td>26.733667</td>\n      <td>26.721333</td>\n      <td>4.377667</td>\n      <td>2.803667</td>\n      <td>3.530000</td>\n    </tr>\n    <tr>\n      <th>1</th>\n      <td>4.087895</td>\n      <td>3.938772</td>\n      <td>4.013509</td>\n      <td>3.006842</td>\n      <td>3.716667</td>\n      <td>3.223684</td>\n      <td>14.576140</td>\n      <td>13.607018</td>\n      <td>14.116667</td>\n      <td>5.100175</td>\n      <td>4.473509</td>\n      <td>4.756316</td>\n    </tr>\n    <tr>\n      <th>2</th>\n      <td>1.040000</td>\n      <td>0.590952</td>\n      <td>0.822857</td>\n      <td>1.729048</td>\n      <td>1.411429</td>\n      <td>1.302381</td>\n      <td>10.538571</td>\n      <td>8.665714</td>\n      <td>9.644762</td>\n      <td>16.319524</td>\n      <td>9.858095</td>\n      <td>13.183810</td>\n    </tr>\n  </tbody>\n</table>\n</div>"
     },
     "metadata": {},
     "execution_count": 247
    }
   ],
   "source": [
    "result=pd.concat([states['State'],x,lab['Labels']],axis=1)\n",
    "result.groupby('Labels')['PRIMARY_BOYS', 'PRIMARY_GIRLS', 'PRIMARY_TOTAL',\n",
    "       'UPPER_PRIMARY_BOYS', 'UPPER_PRIMARY_GIRLS', 'UPPER_PRIMARY_TOTAL',\n",
    "       'SECONDARY_BOYS', 'SECONDARY_GIRLS', 'SECONDARY_TOTAL',\n",
    "       'HRSECONDARY_BOYS', 'HRSECONDARY_GIRLS', 'HRSECONDARY_TOTAL'].agg('mean')"
   ]
  },
  {
   "cell_type": "code",
   "execution_count": 326,
   "metadata": {},
   "outputs": [
    {
     "output_type": "execute_result",
     "data": {
      "text/plain": [
       "               Cluster 0           Cluster 1         Cluster 2\n",
       "0                  Assam      Andhra Pradesh     A & N Islands\n",
       "1                  Bihar  Arunachal  Pradesh        Chandigarh\n",
       "2   Dadra & Nagar Haveli        Chhattisgarh       Daman & Diu\n",
       "3              Jharkhand             Gujarat             Delhi\n",
       "4              Karnataka             Haryana               Goa\n",
       "5        Madhya  Pradesh     Jammu & Kashmir  Himachal Pradesh\n",
       "6              Meghalaya              Kerala            Sikkim\n",
       "7                Mizoram         Lakshadweep               NaN\n",
       "8               Nagaland         Maharashtra               NaN\n",
       "9                 Odisha             Manipur               NaN\n",
       "10                   NaN          Puducherry               NaN\n",
       "11                   NaN              Punjab               NaN\n",
       "12                   NaN           Rajasthan               NaN\n",
       "13                   NaN         Tamil  Nadu               NaN\n",
       "14                   NaN           Telangana               NaN\n",
       "15                   NaN             Tripura               NaN\n",
       "16                   NaN       Uttar Pradesh               NaN\n",
       "17                   NaN         Uttarakhand               NaN\n",
       "18                   NaN         West Bengal               NaN"
      ],
      "text/html": "<div>\n<style scoped>\n    .dataframe tbody tr th:only-of-type {\n        vertical-align: middle;\n    }\n\n    .dataframe tbody tr th {\n        vertical-align: top;\n    }\n\n    .dataframe thead th {\n        text-align: right;\n    }\n</style>\n<table border=\"1\" class=\"dataframe\">\n  <thead>\n    <tr style=\"text-align: right;\">\n      <th></th>\n      <th>Cluster 0</th>\n      <th>Cluster 1</th>\n      <th>Cluster 2</th>\n    </tr>\n  </thead>\n  <tbody>\n    <tr>\n      <th>0</th>\n      <td>Assam</td>\n      <td>Andhra Pradesh</td>\n      <td>A &amp; N Islands</td>\n    </tr>\n    <tr>\n      <th>1</th>\n      <td>Bihar</td>\n      <td>Arunachal  Pradesh</td>\n      <td>Chandigarh</td>\n    </tr>\n    <tr>\n      <th>2</th>\n      <td>Dadra &amp; Nagar Haveli</td>\n      <td>Chhattisgarh</td>\n      <td>Daman &amp; Diu</td>\n    </tr>\n    <tr>\n      <th>3</th>\n      <td>Jharkhand</td>\n      <td>Gujarat</td>\n      <td>Delhi</td>\n    </tr>\n    <tr>\n      <th>4</th>\n      <td>Karnataka</td>\n      <td>Haryana</td>\n      <td>Goa</td>\n    </tr>\n    <tr>\n      <th>5</th>\n      <td>Madhya  Pradesh</td>\n      <td>Jammu &amp; Kashmir</td>\n      <td>Himachal Pradesh</td>\n    </tr>\n    <tr>\n      <th>6</th>\n      <td>Meghalaya</td>\n      <td>Kerala</td>\n      <td>Sikkim</td>\n    </tr>\n    <tr>\n      <th>7</th>\n      <td>Mizoram</td>\n      <td>Lakshadweep</td>\n      <td>NaN</td>\n    </tr>\n    <tr>\n      <th>8</th>\n      <td>Nagaland</td>\n      <td>Maharashtra</td>\n      <td>NaN</td>\n    </tr>\n    <tr>\n      <th>9</th>\n      <td>Odisha</td>\n      <td>Manipur</td>\n      <td>NaN</td>\n    </tr>\n    <tr>\n      <th>10</th>\n      <td>NaN</td>\n      <td>Puducherry</td>\n      <td>NaN</td>\n    </tr>\n    <tr>\n      <th>11</th>\n      <td>NaN</td>\n      <td>Punjab</td>\n      <td>NaN</td>\n    </tr>\n    <tr>\n      <th>12</th>\n      <td>NaN</td>\n      <td>Rajasthan</td>\n      <td>NaN</td>\n    </tr>\n    <tr>\n      <th>13</th>\n      <td>NaN</td>\n      <td>Tamil  Nadu</td>\n      <td>NaN</td>\n    </tr>\n    <tr>\n      <th>14</th>\n      <td>NaN</td>\n      <td>Telangana</td>\n      <td>NaN</td>\n    </tr>\n    <tr>\n      <th>15</th>\n      <td>NaN</td>\n      <td>Tripura</td>\n      <td>NaN</td>\n    </tr>\n    <tr>\n      <th>16</th>\n      <td>NaN</td>\n      <td>Uttar Pradesh</td>\n      <td>NaN</td>\n    </tr>\n    <tr>\n      <th>17</th>\n      <td>NaN</td>\n      <td>Uttarakhand</td>\n      <td>NaN</td>\n    </tr>\n    <tr>\n      <th>18</th>\n      <td>NaN</td>\n      <td>West Bengal</td>\n      <td>NaN</td>\n    </tr>\n  </tbody>\n</table>\n</div>"
     },
     "metadata": {},
     "execution_count": 326
    }
   ],
   "source": [
    "grouping=result[['State','Labels']]\n",
    "zer=pd.Series(np.array(grouping.State[grouping.Labels==0]), name=\"Cluster 0\").to_frame()\n",
    "one=pd.Series(np.array(grouping.State[grouping.Labels==1]), name=\"Cluster 1\").to_frame()\n",
    "two=pd.Series(np.array(grouping.State[grouping.Labels==2]), name=\"Cluster 2\").to_frame()\n",
    "pd.concat([zer,one,two],axis=1)"
   ]
  },
  {
   "cell_type": "code",
   "execution_count": 292,
   "metadata": {},
   "outputs": [
    {
     "output_type": "execute_result",
     "data": {
      "text/plain": [
       "<pandas.io.formats.style.Styler at 0x1edced8e490>"
      ],
      "text/html": "<style  type=\"text/css\" >\n#T_3269b_row0_col0,#T_3269b_row1_col1,#T_3269b_row2_col2,#T_3269b_row3_col3{\n            background-color:  #053061;\n            color:  #f1f1f1;\n        }#T_3269b_row0_col1{\n            background-color:  #3681ba;\n            color:  #000000;\n        }#T_3269b_row0_col2{\n            background-color:  #faeae1;\n            color:  #000000;\n        }#T_3269b_row0_col3{\n            background-color:  #a51429;\n            color:  #f1f1f1;\n        }#T_3269b_row1_col0{\n            background-color:  #3480b9;\n            color:  #000000;\n        }#T_3269b_row1_col2{\n            background-color:  #bbdaea;\n            color:  #000000;\n        }#T_3269b_row1_col3{\n            background-color:  #ae172a;\n            color:  #f1f1f1;\n        }#T_3269b_row2_col0{\n            background-color:  #fddcc9;\n            color:  #000000;\n        }#T_3269b_row2_col1{\n            background-color:  #d1e5f0;\n            color:  #000000;\n        }#T_3269b_row2_col3,#T_3269b_row3_col0,#T_3269b_row3_col1,#T_3269b_row3_col2{\n            background-color:  #67001f;\n            color:  #f1f1f1;\n        }</style><table id=\"T_3269b_\" ><thead>    <tr>        <th class=\"blank level0\" ></th>        <th class=\"col_heading level0 col0\" >PRIMARY_TOTAL</th>        <th class=\"col_heading level0 col1\" >UPPER_PRIMARY_TOTAL</th>        <th class=\"col_heading level0 col2\" >SECONDARY_TOTAL</th>        <th class=\"col_heading level0 col3\" >HRSECONDARY_TOTAL</th>    </tr></thead><tbody>\n                <tr>\n                        <th id=\"T_3269b_level0_row0\" class=\"row_heading level0 row0\" >PRIMARY_TOTAL</th>\n                        <td id=\"T_3269b_row0_col0\" class=\"data row0 col0\" >1.000000</td>\n                        <td id=\"T_3269b_row0_col1\" class=\"data row0 col1\" >0.807927</td>\n                        <td id=\"T_3269b_row0_col2\" class=\"data row0 col2\" >0.282216</td>\n                        <td id=\"T_3269b_row0_col3\" class=\"data row0 col3\" >-0.207872</td>\n            </tr>\n            <tr>\n                        <th id=\"T_3269b_level0_row1\" class=\"row_heading level0 row1\" >UPPER_PRIMARY_TOTAL</th>\n                        <td id=\"T_3269b_row1_col0\" class=\"data row1 col0\" >0.807927</td>\n                        <td id=\"T_3269b_row1_col1\" class=\"data row1 col1\" >1.000000</td>\n                        <td id=\"T_3269b_row1_col2\" class=\"data row1 col2\" >0.519793</td>\n                        <td id=\"T_3269b_row1_col3\" class=\"data row1 col3\" >-0.194535</td>\n            </tr>\n            <tr>\n                        <th id=\"T_3269b_level0_row2\" class=\"row_heading level0 row2\" >SECONDARY_TOTAL</th>\n                        <td id=\"T_3269b_row2_col0\" class=\"data row2 col0\" >0.282216</td>\n                        <td id=\"T_3269b_row2_col1\" class=\"data row2 col1\" >0.519793</td>\n                        <td id=\"T_3269b_row2_col2\" class=\"data row2 col2\" >1.000000</td>\n                        <td id=\"T_3269b_row2_col3\" class=\"data row2 col3\" >-0.318201</td>\n            </tr>\n            <tr>\n                        <th id=\"T_3269b_level0_row3\" class=\"row_heading level0 row3\" >HRSECONDARY_TOTAL</th>\n                        <td id=\"T_3269b_row3_col0\" class=\"data row3 col0\" >-0.207872</td>\n                        <td id=\"T_3269b_row3_col1\" class=\"data row3 col1\" >-0.194535</td>\n                        <td id=\"T_3269b_row3_col2\" class=\"data row3 col2\" >-0.318201</td>\n                        <td id=\"T_3269b_row3_col3\" class=\"data row3 col3\" >1.000000</td>\n            </tr>\n    </tbody></table>"
     },
     "metadata": {},
     "execution_count": 292
    }
   ],
   "source": [
    "result[['PRIMARY_TOTAL', 'UPPER_PRIMARY_TOTAL', 'SECONDARY_TOTAL','HRSECONDARY_TOTAL']].corr().style.background_gradient(cmap='RdBu')"
   ]
  },
  {
   "cell_type": "code",
   "execution_count": null,
   "metadata": {},
   "outputs": [],
   "source": []
  }
 ]
}