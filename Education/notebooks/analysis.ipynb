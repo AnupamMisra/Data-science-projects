{
 "metadata": {
  "language_info": {
   "codemirror_mode": {
    "name": "ipython",
    "version": 3
   },
   "file_extension": ".py",
   "mimetype": "text/x-python",
   "name": "python",
   "nbconvert_exporter": "python",
   "pygments_lexer": "ipython3",
   "version": "3.9.5"
  },
  "orig_nbformat": 2,
  "kernelspec": {
   "name": "python395jvsc74a57bd062a490a61034db1e8b6e05e6e999b5629625384177f9d8186b44b788547d5428",
   "display_name": "Python 3.9.5 64-bit ('machine_L': venv)"
  }
 },
 "nbformat": 4,
 "nbformat_minor": 2,
 "cells": [
  {
   "source": [
    "# Initialization\n"
   ],
   "cell_type": "markdown",
   "metadata": {}
  },
  {
   "source": [
    "## Importing the libraries"
   ],
   "cell_type": "markdown",
   "metadata": {}
  },
  {
   "cell_type": "code",
   "execution_count": 338,
   "metadata": {},
   "outputs": [],
   "source": [
    "import numpy as np \n",
    "import pandas as pd \n",
    "from sklearn.cluster import KMeans\n",
    "from sklearn.metrics import silhouette_samples,silhouette_score\n",
    "import matplotlib.pyplot as plt \n",
    "from mpl_toolkits import mplot3d\n",
    "import seaborn as sns\n",
    "%matplotlib inline\n",
    "plt.style.use('fivethirtyeight')\n",
    "pd.set_option('display.max_columns', 500)"
   ]
  },
  {
   "source": [
    "## Loading the data"
   ],
   "cell_type": "markdown",
   "metadata": {}
  },
  {
   "cell_type": "code",
   "execution_count": 339,
   "metadata": {},
   "outputs": [],
   "source": [
    "dropout = pd.read_excel(r\"C:/Users/ADMIN/Documents/Codebase/Data-science-projects/Education/data/dropout.xls\")\n",
    "enrollments = pd.read_excel(r\"C:/Users/ADMIN/Documents/Codebase/Data-science-projects/Education/data/enrollment.xls\")\n",
    "drinks = pd.read_excel(r\"C:/Users/ADMIN/Documents/Codebase/Data-science-projects/Education/data/drinking_water.xls\")\n",
    "computers = pd.read_excel(r\"C:/Users/ADMIN/Documents/Codebase/Data-science-projects/Education/data/computers.xls\")\n",
    "electricity = pd.read_excel(r\"C:/Users/ADMIN/Documents/Codebase/Data-science-projects/Education/data/electricity.xls\")\n",
    "boys_toilet = pd.read_excel(r\"C:/Users/ADMIN/Documents/Codebase/Data-science-projects/Education/data/boys_toilet.xls\")\n",
    "girls_toilet = pd.read_excel(r\"C:/Users/ADMIN/Documents/Codebase/Data-science-projects/Education/data/girls_toilet.xls\")"
   ]
  },
  {
   "source": [
    "# Data preparation"
   ],
   "cell_type": "markdown",
   "metadata": {}
  },
  {
   "cell_type": "code",
   "execution_count": 340,
   "metadata": {},
   "outputs": [],
   "source": [
    "def returner(xx):\n",
    "    x=[]\n",
    "    for i in range(36):\n",
    "        x.append(xx[['State','All Schools']].loc[3*i])  \n",
    "    x=pd.DataFrame(x)\n",
    "    x.set_index('State', inplace=True)\n",
    "    return x"
   ]
  },
  {
   "cell_type": "code",
   "execution_count": 341,
   "metadata": {},
   "outputs": [],
   "source": [
    "enrollments['Higher_Secondary_Boys']=enrollments['Higher_Secondary_Boys'].astype('float')\n",
    "enrollments['Higher_Secondary_Girls']=enrollments['Higher_Secondary_Girls'].astype('int')\n",
    "enrollments['Higher_Secondary_Total']=enrollments['Higher_Secondary_Total'].astype('int')   \n",
    "drinks=returner(drinks)\n",
    "drinks.columns=['Drinking water']\n",
    "electricity=returner(electricity)\n",
    "electricity.columns=['Electricity']\n",
    "computers=returner(computers)\n",
    "computers.columns=[\"Computer\"]\n",
    "boys_t=returner(boys_toilet)\n",
    "boys_t.columns=['Boys toilet']\n",
    "girls_t=returner(girls_toilet)\n",
    "girls_t.columns=['Girls toilet']\n",
    "factors=pd.concat([drinks,electricity,computers,boys_t,girls_t],axis=1)\n",
    "factors.reset_index(inplace=True)"
   ]
  },
  {
   "cell_type": "code",
   "execution_count": 342,
   "metadata": {},
   "outputs": [],
   "source": [
    "states=[]\n",
    "for i in range(36):\n",
    "    states.append(dropout.State.iloc[3*i])\n",
    "states=pd.DataFrame(states, columns=['State'])\n",
    "\n",
    "def create_aggregate(inp):\n",
    "    inp.drop(['State','Year'],axis=1,inplace=True)\n",
    "\n",
    "    x=pd.DataFrame()\n",
    "    for i in range(36):\n",
    "        x[i]=inp.iloc[3*i+0:i*3+3,:].mean()\n",
    "    x=x.transpose() \n",
    "    return x"
   ]
  },
  {
   "cell_type": "code",
   "execution_count": 343,
   "metadata": {},
   "outputs": [],
   "source": [
    "dropouts_x = create_aggregate(dropout)\n",
    "enrollments_x=create_aggregate(enrollments)"
   ]
  },
  {
   "source": [
    "# Data exploration"
   ],
   "cell_type": "markdown",
   "metadata": {}
  },
  {
   "cell_type": "code",
   "execution_count": 344,
   "metadata": {},
   "outputs": [
    {
     "output_type": "stream",
     "name": "stdout",
     "text": [
      "\n Correlation between enrollment rates at different stages of schooling\n\n"
     ]
    },
    {
     "output_type": "execute_result",
     "data": {
      "text/plain": [
       "<pandas.io.formats.style.Styler at 0x27cb9fe2070>"
      ],
      "text/html": "<style  type=\"text/css\" >\n#T_3a076_row0_col0,#T_3a076_row1_col1,#T_3a076_row2_col2,#T_3a076_row3_col3{\n            background-color:  #b40426;\n            color:  #f1f1f1;\n        }#T_3a076_row0_col1{\n            background-color:  #f7b89c;\n            color:  #000000;\n        }#T_3a076_row0_col2,#T_3a076_row0_col3,#T_3a076_row3_col0,#T_3a076_row3_col1{\n            background-color:  #3b4cc0;\n            color:  #f1f1f1;\n        }#T_3a076_row1_col0{\n            background-color:  #f49a7b;\n            color:  #000000;\n        }#T_3a076_row1_col2{\n            background-color:  #cdd9ec;\n            color:  #000000;\n        }#T_3a076_row1_col3{\n            background-color:  #89acfd;\n            color:  #000000;\n        }#T_3a076_row2_col0{\n            background-color:  #97b8ff;\n            color:  #000000;\n        }#T_3a076_row2_col1{\n            background-color:  #d5dbe5;\n            color:  #000000;\n        }#T_3a076_row2_col3{\n            background-color:  #f6a586;\n            color:  #000000;\n        }#T_3a076_row3_col2{\n            background-color:  #f3c8b2;\n            color:  #000000;\n        }</style><table id=\"T_3a076_\" ><thead>    <tr>        <th class=\"blank level0\" ></th>        <th class=\"col_heading level0 col0\" >Primary_Total</th>        <th class=\"col_heading level0 col1\" >Upper_Primary_Total</th>        <th class=\"col_heading level0 col2\" >Secondary_Total</th>        <th class=\"col_heading level0 col3\" >Higher_Secondary_Total</th>    </tr></thead><tbody>\n                <tr>\n                        <th id=\"T_3a076_level0_row0\" class=\"row_heading level0 row0\" >Primary_Total</th>\n                        <td id=\"T_3a076_row0_col0\" class=\"data row0 col0\" >1.000000</td>\n                        <td id=\"T_3a076_row0_col1\" class=\"data row0 col1\" >0.691324</td>\n                        <td id=\"T_3a076_row0_col2\" class=\"data row0 col2\" >0.122769</td>\n                        <td id=\"T_3a076_row0_col3\" class=\"data row0 col3\" >-0.216003</td>\n            </tr>\n            <tr>\n                        <th id=\"T_3a076_level0_row1\" class=\"row_heading level0 row1\" >Upper_Primary_Total</th>\n                        <td id=\"T_3a076_row1_col0\" class=\"data row1 col0\" >0.691324</td>\n                        <td id=\"T_3a076_row1_col1\" class=\"data row1 col1\" >1.000000</td>\n                        <td id=\"T_3a076_row1_col2\" class=\"data row1 col2\" >0.513059</td>\n                        <td id=\"T_3a076_row1_col3\" class=\"data row1 col3\" >0.076870</td>\n            </tr>\n            <tr>\n                        <th id=\"T_3a076_level0_row2\" class=\"row_heading level0 row2\" >Secondary_Total</th>\n                        <td id=\"T_3a076_row2_col0\" class=\"data row2 col0\" >0.122769</td>\n                        <td id=\"T_3a076_row2_col1\" class=\"data row2 col1\" >0.513059</td>\n                        <td id=\"T_3a076_row2_col2\" class=\"data row2 col2\" >1.000000</td>\n                        <td id=\"T_3a076_row2_col3\" class=\"data row2 col3\" >0.659823</td>\n            </tr>\n            <tr>\n                        <th id=\"T_3a076_level0_row3\" class=\"row_heading level0 row3\" >Higher_Secondary_Total</th>\n                        <td id=\"T_3a076_row3_col0\" class=\"data row3 col0\" >-0.216003</td>\n                        <td id=\"T_3a076_row3_col1\" class=\"data row3 col1\" >0.076870</td>\n                        <td id=\"T_3a076_row3_col2\" class=\"data row3 col2\" >0.659823</td>\n                        <td id=\"T_3a076_row3_col3\" class=\"data row3 col3\" >1.000000</td>\n            </tr>\n    </tbody></table>"
     },
     "metadata": {},
     "execution_count": 344
    }
   ],
   "source": [
    "print(\"\\n Correlation between enrollment rates at different stages of schooling\\n\")\n",
    "enrollments[['Primary_Total', 'Upper_Primary_Total', 'Secondary_Total','Higher_Secondary_Total']].corr(method='spearman').style.background_gradient(cmap='coolwarm')"
   ]
  },
  {
   "source": [
    "### Observations\n",
    "* There is moderate positive correlation between `primary` and `upper primary` dropouts\n",
    "* There is moderate positive correlation between `secondary` and `higher secondary` dropouts\n",
    "\n",
    "Probably in similar states students dropout during the lower classes, and in other similar states the dropout rate is higher in the upper classes."
   ],
   "cell_type": "markdown",
   "metadata": {}
  },
  {
   "cell_type": "code",
   "execution_count": 345,
   "metadata": {},
   "outputs": [
    {
     "output_type": "stream",
     "name": "stdout",
     "text": [
      "\n Correlation between dropout rates at different stages of schooling\n\n"
     ]
    },
    {
     "output_type": "execute_result",
     "data": {
      "text/plain": [
       "<pandas.io.formats.style.Styler at 0x27cb9f0b070>"
      ],
      "text/html": "<style  type=\"text/css\" >\n#T_3d2ff_row0_col0,#T_3d2ff_row1_col1,#T_3d2ff_row2_col2,#T_3d2ff_row3_col3{\n            background-color:  #b40426;\n            color:  #f1f1f1;\n        }#T_3d2ff_row0_col1{\n            background-color:  #f18d6f;\n            color:  #000000;\n        }#T_3d2ff_row0_col2{\n            background-color:  #d7dce3;\n            color:  #000000;\n        }#T_3d2ff_row0_col3,#T_3d2ff_row3_col0,#T_3d2ff_row3_col1,#T_3d2ff_row3_col2{\n            background-color:  #3b4cc0;\n            color:  #f1f1f1;\n        }#T_3d2ff_row1_col0{\n            background-color:  #ee8468;\n            color:  #000000;\n        }#T_3d2ff_row1_col2{\n            background-color:  #f7b89c;\n            color:  #000000;\n        }#T_3d2ff_row1_col3{\n            background-color:  #5572df;\n            color:  #000000;\n        }#T_3d2ff_row2_col0{\n            background-color:  #dfdbd9;\n            color:  #000000;\n        }#T_3d2ff_row2_col1{\n            background-color:  #f7bca1;\n            color:  #000000;\n        }#T_3d2ff_row2_col3{\n            background-color:  #4b64d5;\n            color:  #f1f1f1;\n        }</style><table id=\"T_3d2ff_\" ><thead>    <tr>        <th class=\"blank level0\" ></th>        <th class=\"col_heading level0 col0\" >PRIMARY_TOTAL</th>        <th class=\"col_heading level0 col1\" >UPPER_PRIMARY_TOTAL</th>        <th class=\"col_heading level0 col2\" >SECONDARY_TOTAL</th>        <th class=\"col_heading level0 col3\" >HRSECONDARY_TOTAL</th>    </tr></thead><tbody>\n                <tr>\n                        <th id=\"T_3d2ff_level0_row0\" class=\"row_heading level0 row0\" >PRIMARY_TOTAL</th>\n                        <td id=\"T_3d2ff_row0_col0\" class=\"data row0 col0\" >1.000000</td>\n                        <td id=\"T_3d2ff_row0_col1\" class=\"data row0 col1\" >0.748033</td>\n                        <td id=\"T_3d2ff_row0_col2\" class=\"data row0 col2\" >0.384132</td>\n                        <td id=\"T_3d2ff_row0_col3\" class=\"data row0 col3\" >-0.255152</td>\n            </tr>\n            <tr>\n                        <th id=\"T_3d2ff_level0_row1\" class=\"row_heading level0 row1\" >UPPER_PRIMARY_TOTAL</th>\n                        <td id=\"T_3d2ff_row1_col0\" class=\"data row1 col0\" >0.748033</td>\n                        <td id=\"T_3d2ff_row1_col1\" class=\"data row1 col1\" >1.000000</td>\n                        <td id=\"T_3d2ff_row1_col2\" class=\"data row1 col2\" >0.605983</td>\n                        <td id=\"T_3d2ff_row1_col3\" class=\"data row1 col3\" >-0.144547</td>\n            </tr>\n            <tr>\n                        <th id=\"T_3d2ff_level0_row2\" class=\"row_heading level0 row2\" >SECONDARY_TOTAL</th>\n                        <td id=\"T_3d2ff_row2_col0\" class=\"data row2 col0\" >0.384132</td>\n                        <td id=\"T_3d2ff_row2_col1\" class=\"data row2 col1\" >0.605983</td>\n                        <td id=\"T_3d2ff_row2_col2\" class=\"data row2 col2\" >1.000000</td>\n                        <td id=\"T_3d2ff_row2_col3\" class=\"data row2 col3\" >-0.183079</td>\n            </tr>\n            <tr>\n                        <th id=\"T_3d2ff_level0_row3\" class=\"row_heading level0 row3\" >HRSECONDARY_TOTAL</th>\n                        <td id=\"T_3d2ff_row3_col0\" class=\"data row3 col0\" >-0.255152</td>\n                        <td id=\"T_3d2ff_row3_col1\" class=\"data row3 col1\" >-0.144547</td>\n                        <td id=\"T_3d2ff_row3_col2\" class=\"data row3 col2\" >-0.183079</td>\n                        <td id=\"T_3d2ff_row3_col3\" class=\"data row3 col3\" >1.000000</td>\n            </tr>\n    </tbody></table>"
     },
     "metadata": {},
     "execution_count": 345
    }
   ],
   "source": [
    "print(\"\\n Correlation between dropout rates at different stages of schooling\\n\")\n",
    "dropout[['PRIMARY_TOTAL', 'UPPER_PRIMARY_TOTAL', 'SECONDARY_TOTAL','HRSECONDARY_TOTAL']].corr(method='spearman').style.background_gradient(cmap='coolwarm')"
   ]
  },
  {
   "source": [
    "### Observations\n",
    "\n",
    "* Dropouts in `primary` and `upper primary` are positively correlated. We need to do further analysis."
   ],
   "cell_type": "markdown",
   "metadata": {}
  },
  {
   "cell_type": "code",
   "execution_count": 346,
   "metadata": {},
   "outputs": [
    {
     "output_type": "execute_result",
     "data": {
      "text/plain": [
       "Text(0.5, 0.98, 'Analysis on dropout and enrollment rates')"
      ]
     },
     "metadata": {},
     "execution_count": 346
    },
    {
     "output_type": "display_data",
     "data": {
      "text/plain": "<Figure size 1584x720 with 4 Axes>",
      "image/svg+xml": "<?xml version=\"1.0\" encoding=\"utf-8\" standalone=\"no\"?>\r\n<!DOCTYPE svg PUBLIC \"-//W3C//DTD SVG 1.1//EN\"\r\n  \"http://www.w3.org/Graphics/SVG/1.1/DTD/svg11.dtd\">\r\n<svg height=\"706.908625pt\" version=\"1.1\" viewBox=\"0 0 1541.383938 706.908625\" width=\"1541.383938pt\" xmlns=\"http://www.w3.org/2000/svg\" xmlns:xlink=\"http://www.w3.org/1999/xlink\">\r\n <metadata>\r\n  <rdf:RDF xmlns:cc=\"http://creativecommons.org/ns#\" xmlns:dc=\"http://purl.org/dc/elements/1.1/\" xmlns:rdf=\"http://www.w3.org/1999/02/22-rdf-syntax-ns#\">\r\n   <cc:Work>\r\n    <dc:type rdf:resource=\"http://purl.org/dc/dcmitype/StillImage\"/>\r\n    <dc:date>2021-05-28T11:12:41.838810</dc:date>\r\n    <dc:format>image/svg+xml</dc:format>\r\n    <dc:creator>\r\n     <cc:Agent>\r\n      <dc:title>Matplotlib v3.4.2, https://matplotlib.org/</dc:title>\r\n     </cc:Agent>\r\n    </dc:creator>\r\n   </cc:Work>\r\n  </rdf:RDF>\r\n </metadata>\r\n <defs>\r\n  <style type=\"text/css\">*{stroke-linecap:butt;stroke-linejoin:round;}</style>\r\n </defs>\r\n <g id=\"figure_1\">\r\n  <g id=\"patch_1\">\r\n   <path d=\"M -0 706.908625 \r\nL 1541.383938 706.908625 \r\nL 1541.383938 0 \r\nL -0 0 \r\nz\r\n\" style=\"fill:#f0f0f0;\"/>\r\n  </g>\r\n  <g id=\"axes_1\">\r\n   <g id=\"patch_2\">\r\n    <path d=\"M 156.103938 344.290909 \r\nL 782.503938 344.290909 \r\nL 782.503938 79.2 \r\nL 156.103938 79.2 \r\nz\r\n\" style=\"fill:#f0f0f0;\"/>\r\n   </g>\r\n   <g id=\"matplotlib.axis_1\">\r\n    <g id=\"xtick_1\">\r\n     <g id=\"line2d_1\">\r\n      <path clip-path=\"url(#p64a0f08b7c)\" d=\"M 236.328566 344.290909 \r\nL 236.328566 79.2 \r\n\" style=\"fill:none;stroke:#cbcbcb;\"/>\r\n     </g>\r\n     <g id=\"line2d_2\"/>\r\n     <g id=\"text_1\">\r\n      <!-- 40 -->\r\n      <g transform=\"translate(227.421066 358.428722)scale(0.14 -0.14)\">\r\n       <defs>\r\n        <path d=\"M 2419 4116 \r\nL 825 1625 \r\nL 2419 1625 \r\nL 2419 4116 \r\nz\r\nM 2253 4666 \r\nL 3047 4666 \r\nL 3047 1625 \r\nL 3713 1625 \r\nL 3713 1100 \r\nL 3047 1100 \r\nL 3047 0 \r\nL 2419 0 \r\nL 2419 1100 \r\nL 313 1100 \r\nL 313 1709 \r\nL 2253 4666 \r\nz\r\n\" id=\"DejaVuSans-34\" transform=\"scale(0.015625)\"/>\r\n        <path d=\"M 2034 4250 \r\nQ 1547 4250 1301 3770 \r\nQ 1056 3291 1056 2328 \r\nQ 1056 1369 1301 889 \r\nQ 1547 409 2034 409 \r\nQ 2525 409 2770 889 \r\nQ 3016 1369 3016 2328 \r\nQ 3016 3291 2770 3770 \r\nQ 2525 4250 2034 4250 \r\nz\r\nM 2034 4750 \r\nQ 2819 4750 3233 4129 \r\nQ 3647 3509 3647 2328 \r\nQ 3647 1150 3233 529 \r\nQ 2819 -91 2034 -91 \r\nQ 1250 -91 836 529 \r\nQ 422 1150 422 2328 \r\nQ 422 3509 836 4129 \r\nQ 1250 4750 2034 4750 \r\nz\r\n\" id=\"DejaVuSans-30\" transform=\"scale(0.015625)\"/>\r\n       </defs>\r\n       <use xlink:href=\"#DejaVuSans-34\"/>\r\n       <use x=\"63.623047\" xlink:href=\"#DejaVuSans-30\"/>\r\n      </g>\r\n     </g>\r\n    </g>\r\n    <g id=\"xtick_2\">\r\n     <g id=\"line2d_3\">\r\n      <path clip-path=\"url(#p64a0f08b7c)\" d=\"M 336.493535 344.290909 \r\nL 336.493535 79.2 \r\n\" style=\"fill:none;stroke:#cbcbcb;\"/>\r\n     </g>\r\n     <g id=\"line2d_4\"/>\r\n     <g id=\"text_2\">\r\n      <!-- 60 -->\r\n      <g transform=\"translate(327.586035 358.428722)scale(0.14 -0.14)\">\r\n       <defs>\r\n        <path d=\"M 2113 2584 \r\nQ 1688 2584 1439 2293 \r\nQ 1191 2003 1191 1497 \r\nQ 1191 994 1439 701 \r\nQ 1688 409 2113 409 \r\nQ 2538 409 2786 701 \r\nQ 3034 994 3034 1497 \r\nQ 3034 2003 2786 2293 \r\nQ 2538 2584 2113 2584 \r\nz\r\nM 3366 4563 \r\nL 3366 3988 \r\nQ 3128 4100 2886 4159 \r\nQ 2644 4219 2406 4219 \r\nQ 1781 4219 1451 3797 \r\nQ 1122 3375 1075 2522 \r\nQ 1259 2794 1537 2939 \r\nQ 1816 3084 2150 3084 \r\nQ 2853 3084 3261 2657 \r\nQ 3669 2231 3669 1497 \r\nQ 3669 778 3244 343 \r\nQ 2819 -91 2113 -91 \r\nQ 1303 -91 875 529 \r\nQ 447 1150 447 2328 \r\nQ 447 3434 972 4092 \r\nQ 1497 4750 2381 4750 \r\nQ 2619 4750 2861 4703 \r\nQ 3103 4656 3366 4563 \r\nz\r\n\" id=\"DejaVuSans-36\" transform=\"scale(0.015625)\"/>\r\n       </defs>\r\n       <use xlink:href=\"#DejaVuSans-36\"/>\r\n       <use x=\"63.623047\" xlink:href=\"#DejaVuSans-30\"/>\r\n      </g>\r\n     </g>\r\n    </g>\r\n    <g id=\"xtick_3\">\r\n     <g id=\"line2d_5\">\r\n      <path clip-path=\"url(#p64a0f08b7c)\" d=\"M 436.658505 344.290909 \r\nL 436.658505 79.2 \r\n\" style=\"fill:none;stroke:#cbcbcb;\"/>\r\n     </g>\r\n     <g id=\"line2d_6\"/>\r\n     <g id=\"text_3\">\r\n      <!-- 80 -->\r\n      <g transform=\"translate(427.751005 358.428722)scale(0.14 -0.14)\">\r\n       <defs>\r\n        <path d=\"M 2034 2216 \r\nQ 1584 2216 1326 1975 \r\nQ 1069 1734 1069 1313 \r\nQ 1069 891 1326 650 \r\nQ 1584 409 2034 409 \r\nQ 2484 409 2743 651 \r\nQ 3003 894 3003 1313 \r\nQ 3003 1734 2745 1975 \r\nQ 2488 2216 2034 2216 \r\nz\r\nM 1403 2484 \r\nQ 997 2584 770 2862 \r\nQ 544 3141 544 3541 \r\nQ 544 4100 942 4425 \r\nQ 1341 4750 2034 4750 \r\nQ 2731 4750 3128 4425 \r\nQ 3525 4100 3525 3541 \r\nQ 3525 3141 3298 2862 \r\nQ 3072 2584 2669 2484 \r\nQ 3125 2378 3379 2068 \r\nQ 3634 1759 3634 1313 \r\nQ 3634 634 3220 271 \r\nQ 2806 -91 2034 -91 \r\nQ 1263 -91 848 271 \r\nQ 434 634 434 1313 \r\nQ 434 1759 690 2068 \r\nQ 947 2378 1403 2484 \r\nz\r\nM 1172 3481 \r\nQ 1172 3119 1398 2916 \r\nQ 1625 2713 2034 2713 \r\nQ 2441 2713 2670 2916 \r\nQ 2900 3119 2900 3481 \r\nQ 2900 3844 2670 4047 \r\nQ 2441 4250 2034 4250 \r\nQ 1625 4250 1398 4047 \r\nQ 1172 3844 1172 3481 \r\nz\r\n\" id=\"DejaVuSans-38\" transform=\"scale(0.015625)\"/>\r\n       </defs>\r\n       <use xlink:href=\"#DejaVuSans-38\"/>\r\n       <use x=\"63.623047\" xlink:href=\"#DejaVuSans-30\"/>\r\n      </g>\r\n     </g>\r\n    </g>\r\n    <g id=\"xtick_4\">\r\n     <g id=\"line2d_7\">\r\n      <path clip-path=\"url(#p64a0f08b7c)\" d=\"M 536.823474 344.290909 \r\nL 536.823474 79.2 \r\n\" style=\"fill:none;stroke:#cbcbcb;\"/>\r\n     </g>\r\n     <g id=\"line2d_8\"/>\r\n     <g id=\"text_4\">\r\n      <!-- 100 -->\r\n      <g transform=\"translate(523.462224 358.428722)scale(0.14 -0.14)\">\r\n       <defs>\r\n        <path d=\"M 794 531 \r\nL 1825 531 \r\nL 1825 4091 \r\nL 703 3866 \r\nL 703 4441 \r\nL 1819 4666 \r\nL 2450 4666 \r\nL 2450 531 \r\nL 3481 531 \r\nL 3481 0 \r\nL 794 0 \r\nL 794 531 \r\nz\r\n\" id=\"DejaVuSans-31\" transform=\"scale(0.015625)\"/>\r\n       </defs>\r\n       <use xlink:href=\"#DejaVuSans-31\"/>\r\n       <use x=\"63.623047\" xlink:href=\"#DejaVuSans-30\"/>\r\n       <use x=\"127.246094\" xlink:href=\"#DejaVuSans-30\"/>\r\n      </g>\r\n     </g>\r\n    </g>\r\n    <g id=\"xtick_5\">\r\n     <g id=\"line2d_9\">\r\n      <path clip-path=\"url(#p64a0f08b7c)\" d=\"M 636.988443 344.290909 \r\nL 636.988443 79.2 \r\n\" style=\"fill:none;stroke:#cbcbcb;\"/>\r\n     </g>\r\n     <g id=\"line2d_10\"/>\r\n     <g id=\"text_5\">\r\n      <!-- 120 -->\r\n      <g transform=\"translate(623.627193 358.428722)scale(0.14 -0.14)\">\r\n       <defs>\r\n        <path d=\"M 1228 531 \r\nL 3431 531 \r\nL 3431 0 \r\nL 469 0 \r\nL 469 531 \r\nQ 828 903 1448 1529 \r\nQ 2069 2156 2228 2338 \r\nQ 2531 2678 2651 2914 \r\nQ 2772 3150 2772 3378 \r\nQ 2772 3750 2511 3984 \r\nQ 2250 4219 1831 4219 \r\nQ 1534 4219 1204 4116 \r\nQ 875 4013 500 3803 \r\nL 500 4441 \r\nQ 881 4594 1212 4672 \r\nQ 1544 4750 1819 4750 \r\nQ 2544 4750 2975 4387 \r\nQ 3406 4025 3406 3419 \r\nQ 3406 3131 3298 2873 \r\nQ 3191 2616 2906 2266 \r\nQ 2828 2175 2409 1742 \r\nQ 1991 1309 1228 531 \r\nz\r\n\" id=\"DejaVuSans-32\" transform=\"scale(0.015625)\"/>\r\n       </defs>\r\n       <use xlink:href=\"#DejaVuSans-31\"/>\r\n       <use x=\"63.623047\" xlink:href=\"#DejaVuSans-32\"/>\r\n       <use x=\"127.246094\" xlink:href=\"#DejaVuSans-30\"/>\r\n      </g>\r\n     </g>\r\n    </g>\r\n    <g id=\"xtick_6\">\r\n     <g id=\"line2d_11\">\r\n      <path clip-path=\"url(#p64a0f08b7c)\" d=\"M 737.153413 344.290909 \r\nL 737.153413 79.2 \r\n\" style=\"fill:none;stroke:#cbcbcb;\"/>\r\n     </g>\r\n     <g id=\"line2d_12\"/>\r\n     <g id=\"text_6\">\r\n      <!-- 140 -->\r\n      <g transform=\"translate(723.792163 358.428722)scale(0.14 -0.14)\">\r\n       <use xlink:href=\"#DejaVuSans-31\"/>\r\n       <use x=\"63.623047\" xlink:href=\"#DejaVuSans-34\"/>\r\n       <use x=\"127.246094\" xlink:href=\"#DejaVuSans-30\"/>\r\n      </g>\r\n     </g>\r\n    </g>\r\n    <g id=\"text_7\">\r\n     <!-- Average enrollment rates -->\r\n     <g transform=\"translate(362.500563 378.105659)scale(0.168 -0.168)\">\r\n      <defs>\r\n       <path d=\"M 2188 4044 \r\nL 1331 1722 \r\nL 3047 1722 \r\nL 2188 4044 \r\nz\r\nM 1831 4666 \r\nL 2547 4666 \r\nL 4325 0 \r\nL 3669 0 \r\nL 3244 1197 \r\nL 1141 1197 \r\nL 716 0 \r\nL 50 0 \r\nL 1831 4666 \r\nz\r\n\" id=\"DejaVuSans-41\" transform=\"scale(0.015625)\"/>\r\n       <path d=\"M 191 3500 \r\nL 800 3500 \r\nL 1894 563 \r\nL 2988 3500 \r\nL 3597 3500 \r\nL 2284 0 \r\nL 1503 0 \r\nL 191 3500 \r\nz\r\n\" id=\"DejaVuSans-76\" transform=\"scale(0.015625)\"/>\r\n       <path d=\"M 3597 1894 \r\nL 3597 1613 \r\nL 953 1613 \r\nQ 991 1019 1311 708 \r\nQ 1631 397 2203 397 \r\nQ 2534 397 2845 478 \r\nQ 3156 559 3463 722 \r\nL 3463 178 \r\nQ 3153 47 2828 -22 \r\nQ 2503 -91 2169 -91 \r\nQ 1331 -91 842 396 \r\nQ 353 884 353 1716 \r\nQ 353 2575 817 3079 \r\nQ 1281 3584 2069 3584 \r\nQ 2775 3584 3186 3129 \r\nQ 3597 2675 3597 1894 \r\nz\r\nM 3022 2063 \r\nQ 3016 2534 2758 2815 \r\nQ 2500 3097 2075 3097 \r\nQ 1594 3097 1305 2825 \r\nQ 1016 2553 972 2059 \r\nL 3022 2063 \r\nz\r\n\" id=\"DejaVuSans-65\" transform=\"scale(0.015625)\"/>\r\n       <path d=\"M 2631 2963 \r\nQ 2534 3019 2420 3045 \r\nQ 2306 3072 2169 3072 \r\nQ 1681 3072 1420 2755 \r\nQ 1159 2438 1159 1844 \r\nL 1159 0 \r\nL 581 0 \r\nL 581 3500 \r\nL 1159 3500 \r\nL 1159 2956 \r\nQ 1341 3275 1631 3429 \r\nQ 1922 3584 2338 3584 \r\nQ 2397 3584 2469 3576 \r\nQ 2541 3569 2628 3553 \r\nL 2631 2963 \r\nz\r\n\" id=\"DejaVuSans-72\" transform=\"scale(0.015625)\"/>\r\n       <path d=\"M 2194 1759 \r\nQ 1497 1759 1228 1600 \r\nQ 959 1441 959 1056 \r\nQ 959 750 1161 570 \r\nQ 1363 391 1709 391 \r\nQ 2188 391 2477 730 \r\nQ 2766 1069 2766 1631 \r\nL 2766 1759 \r\nL 2194 1759 \r\nz\r\nM 3341 1997 \r\nL 3341 0 \r\nL 2766 0 \r\nL 2766 531 \r\nQ 2569 213 2275 61 \r\nQ 1981 -91 1556 -91 \r\nQ 1019 -91 701 211 \r\nQ 384 513 384 1019 \r\nQ 384 1609 779 1909 \r\nQ 1175 2209 1959 2209 \r\nL 2766 2209 \r\nL 2766 2266 \r\nQ 2766 2663 2505 2880 \r\nQ 2244 3097 1772 3097 \r\nQ 1472 3097 1187 3025 \r\nQ 903 2953 641 2809 \r\nL 641 3341 \r\nQ 956 3463 1253 3523 \r\nQ 1550 3584 1831 3584 \r\nQ 2591 3584 2966 3190 \r\nQ 3341 2797 3341 1997 \r\nz\r\n\" id=\"DejaVuSans-61\" transform=\"scale(0.015625)\"/>\r\n       <path d=\"M 2906 1791 \r\nQ 2906 2416 2648 2759 \r\nQ 2391 3103 1925 3103 \r\nQ 1463 3103 1205 2759 \r\nQ 947 2416 947 1791 \r\nQ 947 1169 1205 825 \r\nQ 1463 481 1925 481 \r\nQ 2391 481 2648 825 \r\nQ 2906 1169 2906 1791 \r\nz\r\nM 3481 434 \r\nQ 3481 -459 3084 -895 \r\nQ 2688 -1331 1869 -1331 \r\nQ 1566 -1331 1297 -1286 \r\nQ 1028 -1241 775 -1147 \r\nL 775 -588 \r\nQ 1028 -725 1275 -790 \r\nQ 1522 -856 1778 -856 \r\nQ 2344 -856 2625 -561 \r\nQ 2906 -266 2906 331 \r\nL 2906 616 \r\nQ 2728 306 2450 153 \r\nQ 2172 0 1784 0 \r\nQ 1141 0 747 490 \r\nQ 353 981 353 1791 \r\nQ 353 2603 747 3093 \r\nQ 1141 3584 1784 3584 \r\nQ 2172 3584 2450 3431 \r\nQ 2728 3278 2906 2969 \r\nL 2906 3500 \r\nL 3481 3500 \r\nL 3481 434 \r\nz\r\n\" id=\"DejaVuSans-67\" transform=\"scale(0.015625)\"/>\r\n       <path id=\"DejaVuSans-20\" transform=\"scale(0.015625)\"/>\r\n       <path d=\"M 3513 2113 \r\nL 3513 0 \r\nL 2938 0 \r\nL 2938 2094 \r\nQ 2938 2591 2744 2837 \r\nQ 2550 3084 2163 3084 \r\nQ 1697 3084 1428 2787 \r\nQ 1159 2491 1159 1978 \r\nL 1159 0 \r\nL 581 0 \r\nL 581 3500 \r\nL 1159 3500 \r\nL 1159 2956 \r\nQ 1366 3272 1645 3428 \r\nQ 1925 3584 2291 3584 \r\nQ 2894 3584 3203 3211 \r\nQ 3513 2838 3513 2113 \r\nz\r\n\" id=\"DejaVuSans-6e\" transform=\"scale(0.015625)\"/>\r\n       <path d=\"M 1959 3097 \r\nQ 1497 3097 1228 2736 \r\nQ 959 2375 959 1747 \r\nQ 959 1119 1226 758 \r\nQ 1494 397 1959 397 \r\nQ 2419 397 2687 759 \r\nQ 2956 1122 2956 1747 \r\nQ 2956 2369 2687 2733 \r\nQ 2419 3097 1959 3097 \r\nz\r\nM 1959 3584 \r\nQ 2709 3584 3137 3096 \r\nQ 3566 2609 3566 1747 \r\nQ 3566 888 3137 398 \r\nQ 2709 -91 1959 -91 \r\nQ 1206 -91 779 398 \r\nQ 353 888 353 1747 \r\nQ 353 2609 779 3096 \r\nQ 1206 3584 1959 3584 \r\nz\r\n\" id=\"DejaVuSans-6f\" transform=\"scale(0.015625)\"/>\r\n       <path d=\"M 603 4863 \r\nL 1178 4863 \r\nL 1178 0 \r\nL 603 0 \r\nL 603 4863 \r\nz\r\n\" id=\"DejaVuSans-6c\" transform=\"scale(0.015625)\"/>\r\n       <path d=\"M 3328 2828 \r\nQ 3544 3216 3844 3400 \r\nQ 4144 3584 4550 3584 \r\nQ 5097 3584 5394 3201 \r\nQ 5691 2819 5691 2113 \r\nL 5691 0 \r\nL 5113 0 \r\nL 5113 2094 \r\nQ 5113 2597 4934 2840 \r\nQ 4756 3084 4391 3084 \r\nQ 3944 3084 3684 2787 \r\nQ 3425 2491 3425 1978 \r\nL 3425 0 \r\nL 2847 0 \r\nL 2847 2094 \r\nQ 2847 2600 2669 2842 \r\nQ 2491 3084 2119 3084 \r\nQ 1678 3084 1418 2786 \r\nQ 1159 2488 1159 1978 \r\nL 1159 0 \r\nL 581 0 \r\nL 581 3500 \r\nL 1159 3500 \r\nL 1159 2956 \r\nQ 1356 3278 1631 3431 \r\nQ 1906 3584 2284 3584 \r\nQ 2666 3584 2933 3390 \r\nQ 3200 3197 3328 2828 \r\nz\r\n\" id=\"DejaVuSans-6d\" transform=\"scale(0.015625)\"/>\r\n       <path d=\"M 1172 4494 \r\nL 1172 3500 \r\nL 2356 3500 \r\nL 2356 3053 \r\nL 1172 3053 \r\nL 1172 1153 \r\nQ 1172 725 1289 603 \r\nQ 1406 481 1766 481 \r\nL 2356 481 \r\nL 2356 0 \r\nL 1766 0 \r\nQ 1100 0 847 248 \r\nQ 594 497 594 1153 \r\nL 594 3053 \r\nL 172 3053 \r\nL 172 3500 \r\nL 594 3500 \r\nL 594 4494 \r\nL 1172 4494 \r\nz\r\n\" id=\"DejaVuSans-74\" transform=\"scale(0.015625)\"/>\r\n       <path d=\"M 2834 3397 \r\nL 2834 2853 \r\nQ 2591 2978 2328 3040 \r\nQ 2066 3103 1784 3103 \r\nQ 1356 3103 1142 2972 \r\nQ 928 2841 928 2578 \r\nQ 928 2378 1081 2264 \r\nQ 1234 2150 1697 2047 \r\nL 1894 2003 \r\nQ 2506 1872 2764 1633 \r\nQ 3022 1394 3022 966 \r\nQ 3022 478 2636 193 \r\nQ 2250 -91 1575 -91 \r\nQ 1294 -91 989 -36 \r\nQ 684 19 347 128 \r\nL 347 722 \r\nQ 666 556 975 473 \r\nQ 1284 391 1588 391 \r\nQ 1994 391 2212 530 \r\nQ 2431 669 2431 922 \r\nQ 2431 1156 2273 1281 \r\nQ 2116 1406 1581 1522 \r\nL 1381 1569 \r\nQ 847 1681 609 1914 \r\nQ 372 2147 372 2553 \r\nQ 372 3047 722 3315 \r\nQ 1072 3584 1716 3584 \r\nQ 2034 3584 2315 3537 \r\nQ 2597 3491 2834 3397 \r\nz\r\n\" id=\"DejaVuSans-73\" transform=\"scale(0.015625)\"/>\r\n      </defs>\r\n      <use xlink:href=\"#DejaVuSans-41\"/>\r\n      <use x=\"62.533203\" xlink:href=\"#DejaVuSans-76\"/>\r\n      <use x=\"121.712891\" xlink:href=\"#DejaVuSans-65\"/>\r\n      <use x=\"183.236328\" xlink:href=\"#DejaVuSans-72\"/>\r\n      <use x=\"224.349609\" xlink:href=\"#DejaVuSans-61\"/>\r\n      <use x=\"285.628906\" xlink:href=\"#DejaVuSans-67\"/>\r\n      <use x=\"349.105469\" xlink:href=\"#DejaVuSans-65\"/>\r\n      <use x=\"410.628906\" xlink:href=\"#DejaVuSans-20\"/>\r\n      <use x=\"442.416016\" xlink:href=\"#DejaVuSans-65\"/>\r\n      <use x=\"503.939453\" xlink:href=\"#DejaVuSans-6e\"/>\r\n      <use x=\"567.318359\" xlink:href=\"#DejaVuSans-72\"/>\r\n      <use x=\"606.181641\" xlink:href=\"#DejaVuSans-6f\"/>\r\n      <use x=\"667.363281\" xlink:href=\"#DejaVuSans-6c\"/>\r\n      <use x=\"695.146484\" xlink:href=\"#DejaVuSans-6c\"/>\r\n      <use x=\"722.929688\" xlink:href=\"#DejaVuSans-6d\"/>\r\n      <use x=\"820.341797\" xlink:href=\"#DejaVuSans-65\"/>\r\n      <use x=\"881.865234\" xlink:href=\"#DejaVuSans-6e\"/>\r\n      <use x=\"945.244141\" xlink:href=\"#DejaVuSans-74\"/>\r\n      <use x=\"984.453125\" xlink:href=\"#DejaVuSans-20\"/>\r\n      <use x=\"1016.240234\" xlink:href=\"#DejaVuSans-72\"/>\r\n      <use x=\"1057.353516\" xlink:href=\"#DejaVuSans-61\"/>\r\n      <use x=\"1118.632812\" xlink:href=\"#DejaVuSans-74\"/>\r\n      <use x=\"1157.841797\" xlink:href=\"#DejaVuSans-65\"/>\r\n      <use x=\"1219.365234\" xlink:href=\"#DejaVuSans-73\"/>\r\n     </g>\r\n    </g>\r\n   </g>\r\n   <g id=\"matplotlib.axis_2\">\r\n    <g id=\"ytick_1\">\r\n     <g id=\"line2d_13\"/>\r\n     <g id=\"text_8\">\r\n      <!-- Primary -->\r\n      <g transform=\"translate(98.504875 117.65527)scale(0.14 -0.14)\">\r\n       <defs>\r\n        <path d=\"M 1259 4147 \r\nL 1259 2394 \r\nL 2053 2394 \r\nQ 2494 2394 2734 2622 \r\nQ 2975 2850 2975 3272 \r\nQ 2975 3691 2734 3919 \r\nQ 2494 4147 2053 4147 \r\nL 1259 4147 \r\nz\r\nM 628 4666 \r\nL 2053 4666 \r\nQ 2838 4666 3239 4311 \r\nQ 3641 3956 3641 3272 \r\nQ 3641 2581 3239 2228 \r\nQ 2838 1875 2053 1875 \r\nL 1259 1875 \r\nL 1259 0 \r\nL 628 0 \r\nL 628 4666 \r\nz\r\n\" id=\"DejaVuSans-50\" transform=\"scale(0.015625)\"/>\r\n        <path d=\"M 603 3500 \r\nL 1178 3500 \r\nL 1178 0 \r\nL 603 0 \r\nL 603 3500 \r\nz\r\nM 603 4863 \r\nL 1178 4863 \r\nL 1178 4134 \r\nL 603 4134 \r\nL 603 4863 \r\nz\r\n\" id=\"DejaVuSans-69\" transform=\"scale(0.015625)\"/>\r\n        <path d=\"M 2059 -325 \r\nQ 1816 -950 1584 -1140 \r\nQ 1353 -1331 966 -1331 \r\nL 506 -1331 \r\nL 506 -850 \r\nL 844 -850 \r\nQ 1081 -850 1212 -737 \r\nQ 1344 -625 1503 -206 \r\nL 1606 56 \r\nL 191 3500 \r\nL 800 3500 \r\nL 1894 763 \r\nL 2988 3500 \r\nL 3597 3500 \r\nL 2059 -325 \r\nz\r\n\" id=\"DejaVuSans-79\" transform=\"scale(0.015625)\"/>\r\n       </defs>\r\n       <use xlink:href=\"#DejaVuSans-50\"/>\r\n       <use x=\"58.552734\" xlink:href=\"#DejaVuSans-72\"/>\r\n       <use x=\"99.666016\" xlink:href=\"#DejaVuSans-69\"/>\r\n       <use x=\"127.449219\" xlink:href=\"#DejaVuSans-6d\"/>\r\n       <use x=\"224.861328\" xlink:href=\"#DejaVuSans-61\"/>\r\n       <use x=\"286.140625\" xlink:href=\"#DejaVuSans-72\"/>\r\n       <use x=\"327.253906\" xlink:href=\"#DejaVuSans-79\"/>\r\n      </g>\r\n     </g>\r\n    </g>\r\n    <g id=\"ytick_2\">\r\n     <g id=\"line2d_14\"/>\r\n     <g id=\"text_9\">\r\n      <!-- Upper Primary -->\r\n      <g transform=\"translate(51.663938 183.927997)scale(0.14 -0.14)\">\r\n       <defs>\r\n        <path d=\"M 556 4666 \r\nL 1191 4666 \r\nL 1191 1831 \r\nQ 1191 1081 1462 751 \r\nQ 1734 422 2344 422 \r\nQ 2950 422 3222 751 \r\nQ 3494 1081 3494 1831 \r\nL 3494 4666 \r\nL 4128 4666 \r\nL 4128 1753 \r\nQ 4128 841 3676 375 \r\nQ 3225 -91 2344 -91 \r\nQ 1459 -91 1007 375 \r\nQ 556 841 556 1753 \r\nL 556 4666 \r\nz\r\n\" id=\"DejaVuSans-55\" transform=\"scale(0.015625)\"/>\r\n        <path d=\"M 1159 525 \r\nL 1159 -1331 \r\nL 581 -1331 \r\nL 581 3500 \r\nL 1159 3500 \r\nL 1159 2969 \r\nQ 1341 3281 1617 3432 \r\nQ 1894 3584 2278 3584 \r\nQ 2916 3584 3314 3078 \r\nQ 3713 2572 3713 1747 \r\nQ 3713 922 3314 415 \r\nQ 2916 -91 2278 -91 \r\nQ 1894 -91 1617 61 \r\nQ 1341 213 1159 525 \r\nz\r\nM 3116 1747 \r\nQ 3116 2381 2855 2742 \r\nQ 2594 3103 2138 3103 \r\nQ 1681 3103 1420 2742 \r\nQ 1159 2381 1159 1747 \r\nQ 1159 1113 1420 752 \r\nQ 1681 391 2138 391 \r\nQ 2594 391 2855 752 \r\nQ 3116 1113 3116 1747 \r\nz\r\n\" id=\"DejaVuSans-70\" transform=\"scale(0.015625)\"/>\r\n       </defs>\r\n       <use xlink:href=\"#DejaVuSans-55\"/>\r\n       <use x=\"73.193359\" xlink:href=\"#DejaVuSans-70\"/>\r\n       <use x=\"136.669922\" xlink:href=\"#DejaVuSans-70\"/>\r\n       <use x=\"200.146484\" xlink:href=\"#DejaVuSans-65\"/>\r\n       <use x=\"261.669922\" xlink:href=\"#DejaVuSans-72\"/>\r\n       <use x=\"302.783203\" xlink:href=\"#DejaVuSans-20\"/>\r\n       <use x=\"334.570312\" xlink:href=\"#DejaVuSans-50\"/>\r\n       <use x=\"393.123047\" xlink:href=\"#DejaVuSans-72\"/>\r\n       <use x=\"434.236328\" xlink:href=\"#DejaVuSans-69\"/>\r\n       <use x=\"462.019531\" xlink:href=\"#DejaVuSans-6d\"/>\r\n       <use x=\"559.431641\" xlink:href=\"#DejaVuSans-61\"/>\r\n       <use x=\"620.710938\" xlink:href=\"#DejaVuSans-72\"/>\r\n       <use x=\"661.824219\" xlink:href=\"#DejaVuSans-79\"/>\r\n      </g>\r\n     </g>\r\n    </g>\r\n    <g id=\"ytick_3\">\r\n     <g id=\"line2d_15\"/>\r\n     <g id=\"text_10\">\r\n      <!-- Secondary -->\r\n      <g transform=\"translate(78.456438 250.200724)scale(0.14 -0.14)\">\r\n       <defs>\r\n        <path d=\"M 3425 4513 \r\nL 3425 3897 \r\nQ 3066 4069 2747 4153 \r\nQ 2428 4238 2131 4238 \r\nQ 1616 4238 1336 4038 \r\nQ 1056 3838 1056 3469 \r\nQ 1056 3159 1242 3001 \r\nQ 1428 2844 1947 2747 \r\nL 2328 2669 \r\nQ 3034 2534 3370 2195 \r\nQ 3706 1856 3706 1288 \r\nQ 3706 609 3251 259 \r\nQ 2797 -91 1919 -91 \r\nQ 1588 -91 1214 -16 \r\nQ 841 59 441 206 \r\nL 441 856 \r\nQ 825 641 1194 531 \r\nQ 1563 422 1919 422 \r\nQ 2459 422 2753 634 \r\nQ 3047 847 3047 1241 \r\nQ 3047 1584 2836 1778 \r\nQ 2625 1972 2144 2069 \r\nL 1759 2144 \r\nQ 1053 2284 737 2584 \r\nQ 422 2884 422 3419 \r\nQ 422 4038 858 4394 \r\nQ 1294 4750 2059 4750 \r\nQ 2388 4750 2728 4690 \r\nQ 3069 4631 3425 4513 \r\nz\r\n\" id=\"DejaVuSans-53\" transform=\"scale(0.015625)\"/>\r\n        <path d=\"M 3122 3366 \r\nL 3122 2828 \r\nQ 2878 2963 2633 3030 \r\nQ 2388 3097 2138 3097 \r\nQ 1578 3097 1268 2742 \r\nQ 959 2388 959 1747 \r\nQ 959 1106 1268 751 \r\nQ 1578 397 2138 397 \r\nQ 2388 397 2633 464 \r\nQ 2878 531 3122 666 \r\nL 3122 134 \r\nQ 2881 22 2623 -34 \r\nQ 2366 -91 2075 -91 \r\nQ 1284 -91 818 406 \r\nQ 353 903 353 1747 \r\nQ 353 2603 823 3093 \r\nQ 1294 3584 2113 3584 \r\nQ 2378 3584 2631 3529 \r\nQ 2884 3475 3122 3366 \r\nz\r\n\" id=\"DejaVuSans-63\" transform=\"scale(0.015625)\"/>\r\n        <path d=\"M 2906 2969 \r\nL 2906 4863 \r\nL 3481 4863 \r\nL 3481 0 \r\nL 2906 0 \r\nL 2906 525 \r\nQ 2725 213 2448 61 \r\nQ 2172 -91 1784 -91 \r\nQ 1150 -91 751 415 \r\nQ 353 922 353 1747 \r\nQ 353 2572 751 3078 \r\nQ 1150 3584 1784 3584 \r\nQ 2172 3584 2448 3432 \r\nQ 2725 3281 2906 2969 \r\nz\r\nM 947 1747 \r\nQ 947 1113 1208 752 \r\nQ 1469 391 1925 391 \r\nQ 2381 391 2643 752 \r\nQ 2906 1113 2906 1747 \r\nQ 2906 2381 2643 2742 \r\nQ 2381 3103 1925 3103 \r\nQ 1469 3103 1208 2742 \r\nQ 947 2381 947 1747 \r\nz\r\n\" id=\"DejaVuSans-64\" transform=\"scale(0.015625)\"/>\r\n       </defs>\r\n       <use xlink:href=\"#DejaVuSans-53\"/>\r\n       <use x=\"63.476562\" xlink:href=\"#DejaVuSans-65\"/>\r\n       <use x=\"125\" xlink:href=\"#DejaVuSans-63\"/>\r\n       <use x=\"179.980469\" xlink:href=\"#DejaVuSans-6f\"/>\r\n       <use x=\"241.162109\" xlink:href=\"#DejaVuSans-6e\"/>\r\n       <use x=\"304.541016\" xlink:href=\"#DejaVuSans-64\"/>\r\n       <use x=\"368.017578\" xlink:href=\"#DejaVuSans-61\"/>\r\n       <use x=\"429.296875\" xlink:href=\"#DejaVuSans-72\"/>\r\n       <use x=\"470.410156\" xlink:href=\"#DejaVuSans-79\"/>\r\n      </g>\r\n     </g>\r\n    </g>\r\n    <g id=\"ytick_4\">\r\n     <g id=\"line2d_16\"/>\r\n     <g id=\"text_11\">\r\n      <!-- Higher Secondary -->\r\n      <g transform=\"translate(27.45925 316.473452)scale(0.14 -0.14)\">\r\n       <defs>\r\n        <path d=\"M 628 4666 \r\nL 1259 4666 \r\nL 1259 2753 \r\nL 3553 2753 \r\nL 3553 4666 \r\nL 4184 4666 \r\nL 4184 0 \r\nL 3553 0 \r\nL 3553 2222 \r\nL 1259 2222 \r\nL 1259 0 \r\nL 628 0 \r\nL 628 4666 \r\nz\r\n\" id=\"DejaVuSans-48\" transform=\"scale(0.015625)\"/>\r\n        <path d=\"M 3513 2113 \r\nL 3513 0 \r\nL 2938 0 \r\nL 2938 2094 \r\nQ 2938 2591 2744 2837 \r\nQ 2550 3084 2163 3084 \r\nQ 1697 3084 1428 2787 \r\nQ 1159 2491 1159 1978 \r\nL 1159 0 \r\nL 581 0 \r\nL 581 4863 \r\nL 1159 4863 \r\nL 1159 2956 \r\nQ 1366 3272 1645 3428 \r\nQ 1925 3584 2291 3584 \r\nQ 2894 3584 3203 3211 \r\nQ 3513 2838 3513 2113 \r\nz\r\n\" id=\"DejaVuSans-68\" transform=\"scale(0.015625)\"/>\r\n       </defs>\r\n       <use xlink:href=\"#DejaVuSans-48\"/>\r\n       <use x=\"75.195312\" xlink:href=\"#DejaVuSans-69\"/>\r\n       <use x=\"102.978516\" xlink:href=\"#DejaVuSans-67\"/>\r\n       <use x=\"166.455078\" xlink:href=\"#DejaVuSans-68\"/>\r\n       <use x=\"229.833984\" xlink:href=\"#DejaVuSans-65\"/>\r\n       <use x=\"291.357422\" xlink:href=\"#DejaVuSans-72\"/>\r\n       <use x=\"332.470703\" xlink:href=\"#DejaVuSans-20\"/>\r\n       <use x=\"364.257812\" xlink:href=\"#DejaVuSans-53\"/>\r\n       <use x=\"427.734375\" xlink:href=\"#DejaVuSans-65\"/>\r\n       <use x=\"489.257812\" xlink:href=\"#DejaVuSans-63\"/>\r\n       <use x=\"544.238281\" xlink:href=\"#DejaVuSans-6f\"/>\r\n       <use x=\"605.419922\" xlink:href=\"#DejaVuSans-6e\"/>\r\n       <use x=\"668.798828\" xlink:href=\"#DejaVuSans-64\"/>\r\n       <use x=\"732.275391\" xlink:href=\"#DejaVuSans-61\"/>\r\n       <use x=\"793.554688\" xlink:href=\"#DejaVuSans-72\"/>\r\n       <use x=\"834.667969\" xlink:href=\"#DejaVuSans-79\"/>\r\n      </g>\r\n     </g>\r\n    </g>\r\n    <g id=\"text_12\">\r\n     <!-- School section -->\r\n     <g transform=\"translate(19.965375 272.556205)rotate(-90)scale(0.168 -0.168)\">\r\n      <use xlink:href=\"#DejaVuSans-53\"/>\r\n      <use x=\"63.476562\" xlink:href=\"#DejaVuSans-63\"/>\r\n      <use x=\"118.457031\" xlink:href=\"#DejaVuSans-68\"/>\r\n      <use x=\"181.835938\" xlink:href=\"#DejaVuSans-6f\"/>\r\n      <use x=\"243.017578\" xlink:href=\"#DejaVuSans-6f\"/>\r\n      <use x=\"304.199219\" xlink:href=\"#DejaVuSans-6c\"/>\r\n      <use x=\"331.982422\" xlink:href=\"#DejaVuSans-20\"/>\r\n      <use x=\"363.769531\" xlink:href=\"#DejaVuSans-73\"/>\r\n      <use x=\"415.869141\" xlink:href=\"#DejaVuSans-65\"/>\r\n      <use x=\"477.392578\" xlink:href=\"#DejaVuSans-63\"/>\r\n      <use x=\"532.373047\" xlink:href=\"#DejaVuSans-74\"/>\r\n      <use x=\"571.582031\" xlink:href=\"#DejaVuSans-69\"/>\r\n      <use x=\"599.365234\" xlink:href=\"#DejaVuSans-6f\"/>\r\n      <use x=\"660.546875\" xlink:href=\"#DejaVuSans-6e\"/>\r\n     </g>\r\n    </g>\r\n   </g>\r\n   <g id=\"patch_3\">\r\n    <path clip-path=\"url(#p64a0f08b7c)\" d=\"M 513.990034 85.827273 \r\nL 513.990034 138.845455 \r\nL 568.73019 138.845455 \r\nL 568.73019 85.827273 \r\nL 513.990034 85.827273 \r\nz\r\n\" style=\"fill:#1b86ba;stroke:#404040;stroke-linejoin:miter;stroke-width:4;\"/>\r\n   </g>\r\n   <g id=\"patch_4\">\r\n    <path clip-path=\"url(#p64a0f08b7c)\" d=\"M 490.32606 152.1 \r\nL 490.32606 205.118182 \r\nL 546.551997 205.118182 \r\nL 546.551997 152.1 \r\nL 490.32606 152.1 \r\nz\r\n\" style=\"fill:#e36149;stroke:#404040;stroke-linejoin:miter;stroke-width:4;\"/>\r\n   </g>\r\n   <g id=\"patch_5\">\r\n    <path clip-path=\"url(#p64a0f08b7c)\" d=\"M 418.411786 218.372727 \r\nL 418.411786 271.390909 \r\nL 515.371476 271.390909 \r\nL 515.371476 218.372727 \r\nL 418.411786 218.372727 \r\nz\r\n\" style=\"fill:#cfa64e;stroke:#404040;stroke-linejoin:miter;stroke-width:4;\"/>\r\n   </g>\r\n   <g id=\"patch_6\">\r\n    <path clip-path=\"url(#p64a0f08b7c)\" d=\"M 260.952454 284.645455 \r\nL 260.952454 337.663636 \r\nL 389.497498 337.663636 \r\nL 389.497498 284.645455 \r\nL 260.952454 284.645455 \r\nz\r\n\" style=\"fill:#6e8857;stroke:#404040;stroke-linejoin:miter;stroke-width:4;\"/>\r\n   </g>\r\n   <g id=\"line2d_17\">\r\n    <path clip-path=\"url(#p64a0f08b7c)\" d=\"M 513.990034 112.336364 \r\nL 454.17068 112.336364 \r\n\" style=\"fill:none;stroke:#404040;stroke-width:4;\"/>\r\n   </g>\r\n   <g id=\"line2d_18\">\r\n    <path clip-path=\"url(#p64a0f08b7c)\" d=\"M 568.73019 112.336364 \r\nL 603.366402 112.336364 \r\n\" style=\"fill:none;stroke:#404040;stroke-width:4;\"/>\r\n   </g>\r\n   <g id=\"line2d_19\">\r\n    <path clip-path=\"url(#p64a0f08b7c)\" d=\"M 454.17068 99.081818 \r\nL 454.17068 125.590909 \r\n\" style=\"fill:none;stroke:#404040;stroke-width:4;\"/>\r\n   </g>\r\n   <g id=\"line2d_20\">\r\n    <path clip-path=\"url(#p64a0f08b7c)\" d=\"M 603.366402 99.081818 \r\nL 603.366402 125.590909 \r\n\" style=\"fill:none;stroke:#404040;stroke-width:4;\"/>\r\n   </g>\r\n   <g id=\"line2d_21\">\r\n    <defs>\r\n     <path d=\"M 0 3.535534 \r\nL 2.12132 0 \r\nL 0 -3.535534 \r\nL -2.12132 0 \r\nz\r\n\" id=\"m2979564e4a\" style=\"stroke:#404040;stroke-linejoin:miter;\"/>\r\n    </defs>\r\n    <g clip-path=\"url(#p64a0f08b7c)\">\r\n     <use style=\"fill:#404040;stroke:#404040;stroke-linejoin:miter;\" x=\"421.366653\" xlink:href=\"#m2979564e4a\" y=\"112.336364\"/>\r\n     <use style=\"fill:#404040;stroke:#404040;stroke-linejoin:miter;\" x=\"675.969311\" xlink:href=\"#m2979564e4a\" y=\"112.336364\"/>\r\n     <use style=\"fill:#404040;stroke:#404040;stroke-linejoin:miter;\" x=\"727.7546\" xlink:href=\"#m2979564e4a\" y=\"112.336364\"/>\r\n     <use style=\"fill:#404040;stroke:#404040;stroke-linejoin:miter;\" x=\"728.222036\" xlink:href=\"#m2979564e4a\" y=\"112.336364\"/>\r\n     <use style=\"fill:#404040;stroke:#404040;stroke-linejoin:miter;\" x=\"656.370365\" xlink:href=\"#m2979564e4a\" y=\"112.336364\"/>\r\n    </g>\r\n   </g>\r\n   <g id=\"line2d_22\">\r\n    <path clip-path=\"url(#p64a0f08b7c)\" d=\"M 490.32606 178.609091 \r\nL 430.832242 178.609091 \r\n\" style=\"fill:none;stroke:#404040;stroke-width:4;\"/>\r\n   </g>\r\n   <g id=\"line2d_23\">\r\n    <path clip-path=\"url(#p64a0f08b7c)\" d=\"M 546.551997 178.609091 \r\nL 573.016416 178.609091 \r\n\" style=\"fill:none;stroke:#404040;stroke-width:4;\"/>\r\n   </g>\r\n   <g id=\"line2d_24\">\r\n    <path clip-path=\"url(#p64a0f08b7c)\" d=\"M 430.832242 165.354545 \r\nL 430.832242 191.863636 \r\n\" style=\"fill:none;stroke:#404040;stroke-width:4;\"/>\r\n   </g>\r\n   <g id=\"line2d_25\">\r\n    <path clip-path=\"url(#p64a0f08b7c)\" d=\"M 573.016416 165.354545 \r\nL 573.016416 191.863636 \r\n\" style=\"fill:none;stroke:#404040;stroke-width:4;\"/>\r\n   </g>\r\n   <g id=\"line2d_26\">\r\n    <g clip-path=\"url(#p64a0f08b7c)\">\r\n     <use style=\"fill:#404040;stroke:#404040;stroke-linejoin:miter;\" x=\"392.452365\" xlink:href=\"#m2979564e4a\" y=\"178.609091\"/>\r\n     <use style=\"fill:#404040;stroke:#404040;stroke-linejoin:miter;\" x=\"648.00659\" xlink:href=\"#m2979564e4a\" y=\"178.609091\"/>\r\n     <use style=\"fill:#404040;stroke:#404040;stroke-linejoin:miter;\" x=\"664.149844\" xlink:href=\"#m2979564e4a\" y=\"178.609091\"/>\r\n     <use style=\"fill:#404040;stroke:#404040;stroke-linejoin:miter;\" x=\"640.277193\" xlink:href=\"#m2979564e4a\" y=\"178.609091\"/>\r\n     <use style=\"fill:#404040;stroke:#404040;stroke-linejoin:miter;\" x=\"651.829553\" xlink:href=\"#m2979564e4a\" y=\"178.609091\"/>\r\n     <use style=\"fill:#404040;stroke:#404040;stroke-linejoin:miter;\" x=\"670.927674\" xlink:href=\"#m2979564e4a\" y=\"178.609091\"/>\r\n     <use style=\"fill:#404040;stroke:#404040;stroke-linejoin:miter;\" x=\"754.03121\" xlink:href=\"#m2979564e4a\" y=\"178.609091\"/>\r\n    </g>\r\n   </g>\r\n   <g id=\"line2d_27\">\r\n    <path clip-path=\"url(#p64a0f08b7c)\" d=\"M 418.411786 244.881818 \r\nL 368.329301 244.881818 \r\n\" style=\"fill:none;stroke:#404040;stroke-width:4;\"/>\r\n   </g>\r\n   <g id=\"line2d_28\">\r\n    <path clip-path=\"url(#p64a0f08b7c)\" d=\"M 515.371476 244.881818 \r\nL 627.439383 244.881818 \r\n\" style=\"fill:none;stroke:#404040;stroke-width:4;\"/>\r\n   </g>\r\n   <g id=\"line2d_29\">\r\n    <path clip-path=\"url(#p64a0f08b7c)\" d=\"M 368.329301 231.627273 \r\nL 368.329301 258.136364 \r\n\" style=\"fill:none;stroke:#404040;stroke-width:4;\"/>\r\n   </g>\r\n   <g id=\"line2d_30\">\r\n    <path clip-path=\"url(#p64a0f08b7c)\" d=\"M 627.439383 231.627273 \r\nL 627.439383 258.136364 \r\n\" style=\"fill:none;stroke:#404040;stroke-width:4;\"/>\r\n   </g>\r\n   <g id=\"line2d_31\"/>\r\n   <g id=\"line2d_32\">\r\n    <path clip-path=\"url(#p64a0f08b7c)\" d=\"M 260.952454 311.154545 \r\nL 184.576665 311.154545 \r\n\" style=\"fill:none;stroke:#404040;stroke-width:4;\"/>\r\n   </g>\r\n   <g id=\"line2d_33\">\r\n    <path clip-path=\"url(#p64a0f08b7c)\" d=\"M 389.497498 311.154545 \r\nL 521.798729 311.154545 \r\n\" style=\"fill:none;stroke:#404040;stroke-width:4;\"/>\r\n   </g>\r\n   <g id=\"line2d_34\">\r\n    <path clip-path=\"url(#p64a0f08b7c)\" d=\"M 184.576665 297.9 \r\nL 184.576665 324.409091 \r\n\" style=\"fill:none;stroke:#404040;stroke-width:4;\"/>\r\n   </g>\r\n   <g id=\"line2d_35\">\r\n    <path clip-path=\"url(#p64a0f08b7c)\" d=\"M 521.798729 297.9 \r\nL 521.798729 324.409091 \r\n\" style=\"fill:none;stroke:#404040;stroke-width:4;\"/>\r\n   </g>\r\n   <g id=\"line2d_36\"/>\r\n   <g id=\"line2d_37\">\r\n    <path clip-path=\"url(#p64a0f08b7c)\" d=\"M 548.334098 85.827273 \r\nL 548.334098 138.845455 \r\n\" style=\"fill:none;stroke:#404040;stroke-width:4;\"/>\r\n   </g>\r\n   <g id=\"line2d_38\">\r\n    <path clip-path=\"url(#p64a0f08b7c)\" d=\"M 521.748646 152.1 \r\nL 521.748646 205.118182 \r\n\" style=\"fill:none;stroke:#404040;stroke-width:4;\"/>\r\n   </g>\r\n   <g id=\"line2d_39\">\r\n    <path clip-path=\"url(#p64a0f08b7c)\" d=\"M 469.49592 218.372727 \r\nL 469.49592 271.390909 \r\n\" style=\"fill:none;stroke:#404040;stroke-width:4;\"/>\r\n   </g>\r\n   <g id=\"line2d_40\">\r\n    <path clip-path=\"url(#p64a0f08b7c)\" d=\"M 328.146454 284.645455 \r\nL 328.146454 337.663636 \r\n\" style=\"fill:none;stroke:#404040;stroke-width:4;\"/>\r\n   </g>\r\n   <g id=\"patch_7\">\r\n    <path d=\"M 156.103938 344.290909 \r\nL 156.103938 79.2 \r\n\" style=\"fill:none;stroke:#f0f0f0;stroke-linecap:square;stroke-linejoin:miter;stroke-width:3;\"/>\r\n   </g>\r\n   <g id=\"patch_8\">\r\n    <path d=\"M 782.503938 344.290909 \r\nL 782.503938 79.2 \r\n\" style=\"fill:none;stroke:#f0f0f0;stroke-linecap:square;stroke-linejoin:miter;stroke-width:3;\"/>\r\n   </g>\r\n   <g id=\"patch_9\">\r\n    <path d=\"M 156.103938 344.290909 \r\nL 782.503937 344.290909 \r\n\" style=\"fill:none;stroke:#f0f0f0;stroke-linecap:square;stroke-linejoin:miter;stroke-width:3;\"/>\r\n   </g>\r\n   <g id=\"patch_10\">\r\n    <path d=\"M 156.103938 79.2 \r\nL 782.503937 79.2 \r\n\" style=\"fill:none;stroke:#f0f0f0;stroke-linecap:square;stroke-linejoin:miter;stroke-width:3;\"/>\r\n   </g>\r\n  </g>\r\n  <g id=\"axes_2\">\r\n   <g id=\"patch_11\">\r\n    <path d=\"M 907.783937 344.290909 \r\nL 1534.183937 344.290909 \r\nL 1534.183937 79.2 \r\nL 907.783937 79.2 \r\nz\r\n\" style=\"fill:#f0f0f0;\"/>\r\n   </g>\r\n   <g id=\"matplotlib.axis_3\">\r\n    <g id=\"xtick_7\">\r\n     <g id=\"line2d_41\">\r\n      <path clip-path=\"url(#p8515a732e5)\" d=\"M 1002.543169 344.290909 \r\nL 1002.543169 79.2 \r\n\" style=\"fill:none;stroke:#cbcbcb;\"/>\r\n     </g>\r\n     <g id=\"line2d_42\"/>\r\n     <g id=\"text_13\">\r\n      <!-- 70 -->\r\n      <g transform=\"translate(993.635669 358.428722)scale(0.14 -0.14)\">\r\n       <defs>\r\n        <path d=\"M 525 4666 \r\nL 3525 4666 \r\nL 3525 4397 \r\nL 1831 0 \r\nL 1172 0 \r\nL 2766 4134 \r\nL 525 4134 \r\nL 525 4666 \r\nz\r\n\" id=\"DejaVuSans-37\" transform=\"scale(0.015625)\"/>\r\n       </defs>\r\n       <use xlink:href=\"#DejaVuSans-37\"/>\r\n       <use x=\"63.623047\" xlink:href=\"#DejaVuSans-30\"/>\r\n      </g>\r\n     </g>\r\n    </g>\r\n    <g id=\"xtick_8\">\r\n     <g id=\"line2d_43\">\r\n      <path clip-path=\"url(#p8515a732e5)\" d=\"M 1122.032137 344.290909 \r\nL 1122.032137 79.2 \r\n\" style=\"fill:none;stroke:#cbcbcb;\"/>\r\n     </g>\r\n     <g id=\"line2d_44\"/>\r\n     <g id=\"text_14\">\r\n      <!-- 80 -->\r\n      <g transform=\"translate(1113.124637 358.428722)scale(0.14 -0.14)\">\r\n       <use xlink:href=\"#DejaVuSans-38\"/>\r\n       <use x=\"63.623047\" xlink:href=\"#DejaVuSans-30\"/>\r\n      </g>\r\n     </g>\r\n    </g>\r\n    <g id=\"xtick_9\">\r\n     <g id=\"line2d_45\">\r\n      <path clip-path=\"url(#p8515a732e5)\" d=\"M 1241.521104 344.290909 \r\nL 1241.521104 79.2 \r\n\" style=\"fill:none;stroke:#cbcbcb;\"/>\r\n     </g>\r\n     <g id=\"line2d_46\"/>\r\n     <g id=\"text_15\">\r\n      <!-- 90 -->\r\n      <g transform=\"translate(1232.613604 358.428722)scale(0.14 -0.14)\">\r\n       <defs>\r\n        <path d=\"M 703 97 \r\nL 703 672 \r\nQ 941 559 1184 500 \r\nQ 1428 441 1663 441 \r\nQ 2288 441 2617 861 \r\nQ 2947 1281 2994 2138 \r\nQ 2813 1869 2534 1725 \r\nQ 2256 1581 1919 1581 \r\nQ 1219 1581 811 2004 \r\nQ 403 2428 403 3163 \r\nQ 403 3881 828 4315 \r\nQ 1253 4750 1959 4750 \r\nQ 2769 4750 3195 4129 \r\nQ 3622 3509 3622 2328 \r\nQ 3622 1225 3098 567 \r\nQ 2575 -91 1691 -91 \r\nQ 1453 -91 1209 -44 \r\nQ 966 3 703 97 \r\nz\r\nM 1959 2075 \r\nQ 2384 2075 2632 2365 \r\nQ 2881 2656 2881 3163 \r\nQ 2881 3666 2632 3958 \r\nQ 2384 4250 1959 4250 \r\nQ 1534 4250 1286 3958 \r\nQ 1038 3666 1038 3163 \r\nQ 1038 2656 1286 2365 \r\nQ 1534 2075 1959 2075 \r\nz\r\n\" id=\"DejaVuSans-39\" transform=\"scale(0.015625)\"/>\r\n       </defs>\r\n       <use xlink:href=\"#DejaVuSans-39\"/>\r\n       <use x=\"63.623047\" xlink:href=\"#DejaVuSans-30\"/>\r\n      </g>\r\n     </g>\r\n    </g>\r\n    <g id=\"xtick_10\">\r\n     <g id=\"line2d_47\">\r\n      <path clip-path=\"url(#p8515a732e5)\" d=\"M 1361.010071 344.290909 \r\nL 1361.010071 79.2 \r\n\" style=\"fill:none;stroke:#cbcbcb;\"/>\r\n     </g>\r\n     <g id=\"line2d_48\"/>\r\n     <g id=\"text_16\">\r\n      <!-- 100 -->\r\n      <g transform=\"translate(1347.648821 358.428722)scale(0.14 -0.14)\">\r\n       <use xlink:href=\"#DejaVuSans-31\"/>\r\n       <use x=\"63.623047\" xlink:href=\"#DejaVuSans-30\"/>\r\n       <use x=\"127.246094\" xlink:href=\"#DejaVuSans-30\"/>\r\n      </g>\r\n     </g>\r\n    </g>\r\n    <g id=\"xtick_11\">\r\n     <g id=\"line2d_49\">\r\n      <path clip-path=\"url(#p8515a732e5)\" d=\"M 1480.499038 344.290909 \r\nL 1480.499038 79.2 \r\n\" style=\"fill:none;stroke:#cbcbcb;\"/>\r\n     </g>\r\n     <g id=\"line2d_50\"/>\r\n     <g id=\"text_17\">\r\n      <!-- 110 -->\r\n      <g transform=\"translate(1467.137788 358.428722)scale(0.14 -0.14)\">\r\n       <use xlink:href=\"#DejaVuSans-31\"/>\r\n       <use x=\"63.623047\" xlink:href=\"#DejaVuSans-31\"/>\r\n       <use x=\"127.246094\" xlink:href=\"#DejaVuSans-30\"/>\r\n      </g>\r\n     </g>\r\n    </g>\r\n    <g id=\"text_18\">\r\n     <!-- Average enrollment rates -->\r\n     <g transform=\"translate(1114.180562 378.105659)scale(0.168 -0.168)\">\r\n      <use xlink:href=\"#DejaVuSans-41\"/>\r\n      <use x=\"62.533203\" xlink:href=\"#DejaVuSans-76\"/>\r\n      <use x=\"121.712891\" xlink:href=\"#DejaVuSans-65\"/>\r\n      <use x=\"183.236328\" xlink:href=\"#DejaVuSans-72\"/>\r\n      <use x=\"224.349609\" xlink:href=\"#DejaVuSans-61\"/>\r\n      <use x=\"285.628906\" xlink:href=\"#DejaVuSans-67\"/>\r\n      <use x=\"349.105469\" xlink:href=\"#DejaVuSans-65\"/>\r\n      <use x=\"410.628906\" xlink:href=\"#DejaVuSans-20\"/>\r\n      <use x=\"442.416016\" xlink:href=\"#DejaVuSans-65\"/>\r\n      <use x=\"503.939453\" xlink:href=\"#DejaVuSans-6e\"/>\r\n      <use x=\"567.318359\" xlink:href=\"#DejaVuSans-72\"/>\r\n      <use x=\"606.181641\" xlink:href=\"#DejaVuSans-6f\"/>\r\n      <use x=\"667.363281\" xlink:href=\"#DejaVuSans-6c\"/>\r\n      <use x=\"695.146484\" xlink:href=\"#DejaVuSans-6c\"/>\r\n      <use x=\"722.929688\" xlink:href=\"#DejaVuSans-6d\"/>\r\n      <use x=\"820.341797\" xlink:href=\"#DejaVuSans-65\"/>\r\n      <use x=\"881.865234\" xlink:href=\"#DejaVuSans-6e\"/>\r\n      <use x=\"945.244141\" xlink:href=\"#DejaVuSans-74\"/>\r\n      <use x=\"984.453125\" xlink:href=\"#DejaVuSans-20\"/>\r\n      <use x=\"1016.240234\" xlink:href=\"#DejaVuSans-72\"/>\r\n      <use x=\"1057.353516\" xlink:href=\"#DejaVuSans-61\"/>\r\n      <use x=\"1118.632812\" xlink:href=\"#DejaVuSans-74\"/>\r\n      <use x=\"1157.841797\" xlink:href=\"#DejaVuSans-65\"/>\r\n      <use x=\"1219.365234\" xlink:href=\"#DejaVuSans-73\"/>\r\n     </g>\r\n    </g>\r\n   </g>\r\n   <g id=\"matplotlib.axis_4\">\r\n    <g id=\"ytick_5\">\r\n     <g id=\"line2d_51\"/>\r\n     <g id=\"text_19\">\r\n      <!-- Boys -->\r\n      <g transform=\"translate(870.533 150.791634)scale(0.14 -0.14)\">\r\n       <defs>\r\n        <path d=\"M 1259 2228 \r\nL 1259 519 \r\nL 2272 519 \r\nQ 2781 519 3026 730 \r\nQ 3272 941 3272 1375 \r\nQ 3272 1813 3026 2020 \r\nQ 2781 2228 2272 2228 \r\nL 1259 2228 \r\nz\r\nM 1259 4147 \r\nL 1259 2741 \r\nL 2194 2741 \r\nQ 2656 2741 2882 2914 \r\nQ 3109 3088 3109 3444 \r\nQ 3109 3797 2882 3972 \r\nQ 2656 4147 2194 4147 \r\nL 1259 4147 \r\nz\r\nM 628 4666 \r\nL 2241 4666 \r\nQ 2963 4666 3353 4366 \r\nQ 3744 4066 3744 3513 \r\nQ 3744 3084 3544 2831 \r\nQ 3344 2578 2956 2516 \r\nQ 3422 2416 3680 2098 \r\nQ 3938 1781 3938 1306 \r\nQ 3938 681 3513 340 \r\nQ 3088 0 2303 0 \r\nL 628 0 \r\nL 628 4666 \r\nz\r\n\" id=\"DejaVuSans-42\" transform=\"scale(0.015625)\"/>\r\n       </defs>\r\n       <use xlink:href=\"#DejaVuSans-42\"/>\r\n       <use x=\"68.603516\" xlink:href=\"#DejaVuSans-6f\"/>\r\n       <use x=\"129.785156\" xlink:href=\"#DejaVuSans-79\"/>\r\n       <use x=\"188.964844\" xlink:href=\"#DejaVuSans-73\"/>\r\n      </g>\r\n     </g>\r\n    </g>\r\n    <g id=\"ytick_6\">\r\n     <g id=\"line2d_52\"/>\r\n     <g id=\"text_20\">\r\n      <!-- Girls -->\r\n      <g transform=\"translate(872.608938 283.337088)scale(0.14 -0.14)\">\r\n       <defs>\r\n        <path d=\"M 3809 666 \r\nL 3809 1919 \r\nL 2778 1919 \r\nL 2778 2438 \r\nL 4434 2438 \r\nL 4434 434 \r\nQ 4069 175 3628 42 \r\nQ 3188 -91 2688 -91 \r\nQ 1594 -91 976 548 \r\nQ 359 1188 359 2328 \r\nQ 359 3472 976 4111 \r\nQ 1594 4750 2688 4750 \r\nQ 3144 4750 3555 4637 \r\nQ 3966 4525 4313 4306 \r\nL 4313 3634 \r\nQ 3963 3931 3569 4081 \r\nQ 3175 4231 2741 4231 \r\nQ 1884 4231 1454 3753 \r\nQ 1025 3275 1025 2328 \r\nQ 1025 1384 1454 906 \r\nQ 1884 428 2741 428 \r\nQ 3075 428 3337 486 \r\nQ 3600 544 3809 666 \r\nz\r\n\" id=\"DejaVuSans-47\" transform=\"scale(0.015625)\"/>\r\n       </defs>\r\n       <use xlink:href=\"#DejaVuSans-47\"/>\r\n       <use x=\"77.490234\" xlink:href=\"#DejaVuSans-69\"/>\r\n       <use x=\"105.273438\" xlink:href=\"#DejaVuSans-72\"/>\r\n       <use x=\"146.386719\" xlink:href=\"#DejaVuSans-6c\"/>\r\n       <use x=\"174.169922\" xlink:href=\"#DejaVuSans-73\"/>\r\n      </g>\r\n     </g>\r\n    </g>\r\n    <g id=\"text_21\">\r\n     <!-- Sex -->\r\n     <g transform=\"translate(863.039125 227.071517)rotate(-90)scale(0.168 -0.168)\">\r\n      <defs>\r\n       <path d=\"M 3513 3500 \r\nL 2247 1797 \r\nL 3578 0 \r\nL 2900 0 \r\nL 1881 1375 \r\nL 863 0 \r\nL 184 0 \r\nL 1544 1831 \r\nL 300 3500 \r\nL 978 3500 \r\nL 1906 2253 \r\nL 2834 3500 \r\nL 3513 3500 \r\nz\r\n\" id=\"DejaVuSans-78\" transform=\"scale(0.015625)\"/>\r\n      </defs>\r\n      <use xlink:href=\"#DejaVuSans-53\"/>\r\n      <use x=\"63.476562\" xlink:href=\"#DejaVuSans-65\"/>\r\n      <use x=\"123.25\" xlink:href=\"#DejaVuSans-78\"/>\r\n     </g>\r\n    </g>\r\n   </g>\r\n   <g id=\"patch_12\">\r\n    <path clip-path=\"url(#p8515a732e5)\" d=\"M 1100.748164 92.454545 \r\nL 1100.748164 198.490909 \r\nL 1277.927898 198.490909 \r\nL 1277.927898 92.454545 \r\nL 1100.748164 92.454545 \r\nz\r\n\" style=\"fill:#1b86ba;stroke:#404040;stroke-linejoin:miter;stroke-width:4;\"/>\r\n   </g>\r\n   <g id=\"patch_13\">\r\n    <path clip-path=\"url(#p8515a732e5)\" d=\"M 1113.886972 225 \r\nL 1113.886972 331.036364 \r\nL 1298.504894 331.036364 \r\nL 1298.504894 225 \r\nL 1113.886972 225 \r\nz\r\n\" style=\"fill:#e36149;stroke:#404040;stroke-linejoin:miter;stroke-width:4;\"/>\r\n   </g>\r\n   <g id=\"line2d_53\">\r\n    <path clip-path=\"url(#p8515a732e5)\" d=\"M 1100.748164 145.472727 \r\nL 936.256665 145.472727 \r\n\" style=\"fill:none;stroke:#404040;stroke-width:4;\"/>\r\n   </g>\r\n   <g id=\"line2d_54\">\r\n    <path clip-path=\"url(#p8515a732e5)\" d=\"M 1277.927898 145.472727 \r\nL 1415.158488 145.472727 \r\n\" style=\"fill:none;stroke:#404040;stroke-width:4;\"/>\r\n   </g>\r\n   <g id=\"line2d_55\">\r\n    <path clip-path=\"url(#p8515a732e5)\" d=\"M 936.256665 118.963636 \r\nL 936.256665 171.981818 \r\n\" style=\"fill:none;stroke:#404040;stroke-width:4;\"/>\r\n   </g>\r\n   <g id=\"line2d_56\">\r\n    <path clip-path=\"url(#p8515a732e5)\" d=\"M 1415.158488 118.963636 \r\nL 1415.158488 171.981818 \r\n\" style=\"fill:none;stroke:#404040;stroke-width:4;\"/>\r\n   </g>\r\n   <g id=\"line2d_57\"/>\r\n   <g id=\"line2d_58\">\r\n    <path clip-path=\"url(#p8515a732e5)\" d=\"M 1113.886972 278.018182 \r\nL 992.575798 278.018182 \r\n\" style=\"fill:none;stroke:#404040;stroke-width:4;\"/>\r\n   </g>\r\n   <g id=\"line2d_59\">\r\n    <path clip-path=\"url(#p8515a732e5)\" d=\"M 1298.504894 278.018182 \r\nL 1505.71121 278.018182 \r\n\" style=\"fill:none;stroke:#404040;stroke-width:4;\"/>\r\n   </g>\r\n   <g id=\"line2d_60\">\r\n    <path clip-path=\"url(#p8515a732e5)\" d=\"M 992.575798 251.509091 \r\nL 992.575798 304.527273 \r\n\" style=\"fill:none;stroke:#404040;stroke-width:4;\"/>\r\n   </g>\r\n   <g id=\"line2d_61\">\r\n    <path clip-path=\"url(#p8515a732e5)\" d=\"M 1505.71121 251.509091 \r\nL 1505.71121 304.527273 \r\n\" style=\"fill:none;stroke:#404040;stroke-width:4;\"/>\r\n   </g>\r\n   <g id=\"line2d_62\"/>\r\n   <g id=\"line2d_63\">\r\n    <path clip-path=\"url(#p8515a732e5)\" d=\"M 1194.208451 92.454545 \r\nL 1194.208451 198.490909 \r\n\" style=\"fill:none;stroke:#404040;stroke-width:4;\"/>\r\n   </g>\r\n   <g id=\"line2d_64\">\r\n    <path clip-path=\"url(#p8515a732e5)\" d=\"M 1223.572865 225 \r\nL 1223.572865 331.036364 \r\n\" style=\"fill:none;stroke:#404040;stroke-width:4;\"/>\r\n   </g>\r\n   <g id=\"patch_14\">\r\n    <path d=\"M 907.783937 344.290909 \r\nL 907.783937 79.2 \r\n\" style=\"fill:none;stroke:#f0f0f0;stroke-linecap:square;stroke-linejoin:miter;stroke-width:3;\"/>\r\n   </g>\r\n   <g id=\"patch_15\">\r\n    <path d=\"M 1534.183937 344.290909 \r\nL 1534.183937 79.2 \r\n\" style=\"fill:none;stroke:#f0f0f0;stroke-linecap:square;stroke-linejoin:miter;stroke-width:3;\"/>\r\n   </g>\r\n   <g id=\"patch_16\">\r\n    <path d=\"M 907.783937 344.290909 \r\nL 1534.183937 344.290909 \r\n\" style=\"fill:none;stroke:#f0f0f0;stroke-linecap:square;stroke-linejoin:miter;stroke-width:3;\"/>\r\n   </g>\r\n   <g id=\"patch_17\">\r\n    <path d=\"M 907.783937 79.2 \r\nL 1534.183937 79.2 \r\n\" style=\"fill:none;stroke:#f0f0f0;stroke-linecap:square;stroke-linejoin:miter;stroke-width:3;\"/>\r\n   </g>\r\n  </g>\r\n  <g id=\"axes_3\">\r\n   <g id=\"patch_18\">\r\n    <path d=\"M 156.103938 662.4 \r\nL 782.503938 662.4 \r\nL 782.503938 397.309091 \r\nL 156.103938 397.309091 \r\nz\r\n\" style=\"fill:#f0f0f0;\"/>\r\n   </g>\r\n   <g id=\"matplotlib.axis_5\">\r\n    <g id=\"xtick_12\">\r\n     <g id=\"line2d_65\">\r\n      <path clip-path=\"url(#p158653ff6e)\" d=\"M 184.576665 662.4 \r\nL 184.576665 397.309091 \r\n\" style=\"fill:none;stroke:#cbcbcb;\"/>\r\n     </g>\r\n     <g id=\"line2d_66\"/>\r\n     <g id=\"text_22\">\r\n      <!-- 0 -->\r\n      <g transform=\"translate(180.122915 676.537812)scale(0.14 -0.14)\">\r\n       <use xlink:href=\"#DejaVuSans-30\"/>\r\n      </g>\r\n     </g>\r\n    </g>\r\n    <g id=\"xtick_13\">\r\n     <g id=\"line2d_67\">\r\n      <path clip-path=\"url(#p158653ff6e)\" d=\"M 317.110694 662.4 \r\nL 317.110694 397.309091 \r\n\" style=\"fill:none;stroke:#cbcbcb;\"/>\r\n     </g>\r\n     <g id=\"line2d_68\"/>\r\n     <g id=\"text_23\">\r\n      <!-- 10 -->\r\n      <g transform=\"translate(308.203194 676.537812)scale(0.14 -0.14)\">\r\n       <use xlink:href=\"#DejaVuSans-31\"/>\r\n       <use x=\"63.623047\" xlink:href=\"#DejaVuSans-30\"/>\r\n      </g>\r\n     </g>\r\n    </g>\r\n    <g id=\"xtick_14\">\r\n     <g id=\"line2d_69\">\r\n      <path clip-path=\"url(#p158653ff6e)\" d=\"M 449.644723 662.4 \r\nL 449.644723 397.309091 \r\n\" style=\"fill:none;stroke:#cbcbcb;\"/>\r\n     </g>\r\n     <g id=\"line2d_70\"/>\r\n     <g id=\"text_24\">\r\n      <!-- 20 -->\r\n      <g transform=\"translate(440.737223 676.537812)scale(0.14 -0.14)\">\r\n       <use xlink:href=\"#DejaVuSans-32\"/>\r\n       <use x=\"63.623047\" xlink:href=\"#DejaVuSans-30\"/>\r\n      </g>\r\n     </g>\r\n    </g>\r\n    <g id=\"xtick_15\">\r\n     <g id=\"line2d_71\">\r\n      <path clip-path=\"url(#p158653ff6e)\" d=\"M 582.178752 662.4 \r\nL 582.178752 397.309091 \r\n\" style=\"fill:none;stroke:#cbcbcb;\"/>\r\n     </g>\r\n     <g id=\"line2d_72\"/>\r\n     <g id=\"text_25\">\r\n      <!-- 30 -->\r\n      <g transform=\"translate(573.271252 676.537812)scale(0.14 -0.14)\">\r\n       <defs>\r\n        <path d=\"M 2597 2516 \r\nQ 3050 2419 3304 2112 \r\nQ 3559 1806 3559 1356 \r\nQ 3559 666 3084 287 \r\nQ 2609 -91 1734 -91 \r\nQ 1441 -91 1130 -33 \r\nQ 819 25 488 141 \r\nL 488 750 \r\nQ 750 597 1062 519 \r\nQ 1375 441 1716 441 \r\nQ 2309 441 2620 675 \r\nQ 2931 909 2931 1356 \r\nQ 2931 1769 2642 2001 \r\nQ 2353 2234 1838 2234 \r\nL 1294 2234 \r\nL 1294 2753 \r\nL 1863 2753 \r\nQ 2328 2753 2575 2939 \r\nQ 2822 3125 2822 3475 \r\nQ 2822 3834 2567 4026 \r\nQ 2313 4219 1838 4219 \r\nQ 1578 4219 1281 4162 \r\nQ 984 4106 628 3988 \r\nL 628 4550 \r\nQ 988 4650 1302 4700 \r\nQ 1616 4750 1894 4750 \r\nQ 2613 4750 3031 4423 \r\nQ 3450 4097 3450 3541 \r\nQ 3450 3153 3228 2886 \r\nQ 3006 2619 2597 2516 \r\nz\r\n\" id=\"DejaVuSans-33\" transform=\"scale(0.015625)\"/>\r\n       </defs>\r\n       <use xlink:href=\"#DejaVuSans-33\"/>\r\n       <use x=\"63.623047\" xlink:href=\"#DejaVuSans-30\"/>\r\n      </g>\r\n     </g>\r\n    </g>\r\n    <g id=\"xtick_16\">\r\n     <g id=\"line2d_73\">\r\n      <path clip-path=\"url(#p158653ff6e)\" d=\"M 714.712782 662.4 \r\nL 714.712782 397.309091 \r\n\" style=\"fill:none;stroke:#cbcbcb;\"/>\r\n     </g>\r\n     <g id=\"line2d_74\"/>\r\n     <g id=\"text_26\">\r\n      <!-- 40 -->\r\n      <g transform=\"translate(705.805282 676.537812)scale(0.14 -0.14)\">\r\n       <use xlink:href=\"#DejaVuSans-34\"/>\r\n       <use x=\"63.623047\" xlink:href=\"#DejaVuSans-30\"/>\r\n      </g>\r\n     </g>\r\n    </g>\r\n    <g id=\"text_27\">\r\n     <!-- Average dropout rates -->\r\n     <g transform=\"translate(375.205563 696.21475)scale(0.168 -0.168)\">\r\n      <defs>\r\n       <path d=\"M 544 1381 \r\nL 544 3500 \r\nL 1119 3500 \r\nL 1119 1403 \r\nQ 1119 906 1312 657 \r\nQ 1506 409 1894 409 \r\nQ 2359 409 2629 706 \r\nQ 2900 1003 2900 1516 \r\nL 2900 3500 \r\nL 3475 3500 \r\nL 3475 0 \r\nL 2900 0 \r\nL 2900 538 \r\nQ 2691 219 2414 64 \r\nQ 2138 -91 1772 -91 \r\nQ 1169 -91 856 284 \r\nQ 544 659 544 1381 \r\nz\r\nM 1991 3584 \r\nL 1991 3584 \r\nz\r\n\" id=\"DejaVuSans-75\" transform=\"scale(0.015625)\"/>\r\n      </defs>\r\n      <use xlink:href=\"#DejaVuSans-41\"/>\r\n      <use x=\"62.533203\" xlink:href=\"#DejaVuSans-76\"/>\r\n      <use x=\"121.712891\" xlink:href=\"#DejaVuSans-65\"/>\r\n      <use x=\"183.236328\" xlink:href=\"#DejaVuSans-72\"/>\r\n      <use x=\"224.349609\" xlink:href=\"#DejaVuSans-61\"/>\r\n      <use x=\"285.628906\" xlink:href=\"#DejaVuSans-67\"/>\r\n      <use x=\"349.105469\" xlink:href=\"#DejaVuSans-65\"/>\r\n      <use x=\"410.628906\" xlink:href=\"#DejaVuSans-20\"/>\r\n      <use x=\"442.416016\" xlink:href=\"#DejaVuSans-64\"/>\r\n      <use x=\"505.892578\" xlink:href=\"#DejaVuSans-72\"/>\r\n      <use x=\"544.755859\" xlink:href=\"#DejaVuSans-6f\"/>\r\n      <use x=\"605.9375\" xlink:href=\"#DejaVuSans-70\"/>\r\n      <use x=\"669.414062\" xlink:href=\"#DejaVuSans-6f\"/>\r\n      <use x=\"730.595703\" xlink:href=\"#DejaVuSans-75\"/>\r\n      <use x=\"793.974609\" xlink:href=\"#DejaVuSans-74\"/>\r\n      <use x=\"833.183594\" xlink:href=\"#DejaVuSans-20\"/>\r\n      <use x=\"864.970703\" xlink:href=\"#DejaVuSans-72\"/>\r\n      <use x=\"906.083984\" xlink:href=\"#DejaVuSans-61\"/>\r\n      <use x=\"967.363281\" xlink:href=\"#DejaVuSans-74\"/>\r\n      <use x=\"1006.572266\" xlink:href=\"#DejaVuSans-65\"/>\r\n      <use x=\"1068.095703\" xlink:href=\"#DejaVuSans-73\"/>\r\n     </g>\r\n    </g>\r\n   </g>\r\n   <g id=\"matplotlib.axis_6\">\r\n    <g id=\"ytick_7\">\r\n     <g id=\"line2d_75\"/>\r\n     <g id=\"text_28\">\r\n      <!-- Primary -->\r\n      <g transform=\"translate(98.504875 435.764361)scale(0.14 -0.14)\">\r\n       <use xlink:href=\"#DejaVuSans-50\"/>\r\n       <use x=\"58.552734\" xlink:href=\"#DejaVuSans-72\"/>\r\n       <use x=\"99.666016\" xlink:href=\"#DejaVuSans-69\"/>\r\n       <use x=\"127.449219\" xlink:href=\"#DejaVuSans-6d\"/>\r\n       <use x=\"224.861328\" xlink:href=\"#DejaVuSans-61\"/>\r\n       <use x=\"286.140625\" xlink:href=\"#DejaVuSans-72\"/>\r\n       <use x=\"327.253906\" xlink:href=\"#DejaVuSans-79\"/>\r\n      </g>\r\n     </g>\r\n    </g>\r\n    <g id=\"ytick_8\">\r\n     <g id=\"line2d_76\"/>\r\n     <g id=\"text_29\">\r\n      <!-- Upper Primary -->\r\n      <g transform=\"translate(51.663938 502.037088)scale(0.14 -0.14)\">\r\n       <use xlink:href=\"#DejaVuSans-55\"/>\r\n       <use x=\"73.193359\" xlink:href=\"#DejaVuSans-70\"/>\r\n       <use x=\"136.669922\" xlink:href=\"#DejaVuSans-70\"/>\r\n       <use x=\"200.146484\" xlink:href=\"#DejaVuSans-65\"/>\r\n       <use x=\"261.669922\" xlink:href=\"#DejaVuSans-72\"/>\r\n       <use x=\"302.783203\" xlink:href=\"#DejaVuSans-20\"/>\r\n       <use x=\"334.570312\" xlink:href=\"#DejaVuSans-50\"/>\r\n       <use x=\"393.123047\" xlink:href=\"#DejaVuSans-72\"/>\r\n       <use x=\"434.236328\" xlink:href=\"#DejaVuSans-69\"/>\r\n       <use x=\"462.019531\" xlink:href=\"#DejaVuSans-6d\"/>\r\n       <use x=\"559.431641\" xlink:href=\"#DejaVuSans-61\"/>\r\n       <use x=\"620.710938\" xlink:href=\"#DejaVuSans-72\"/>\r\n       <use x=\"661.824219\" xlink:href=\"#DejaVuSans-79\"/>\r\n      </g>\r\n     </g>\r\n    </g>\r\n    <g id=\"ytick_9\">\r\n     <g id=\"line2d_77\"/>\r\n     <g id=\"text_30\">\r\n      <!-- Secondary -->\r\n      <g transform=\"translate(78.456438 568.309815)scale(0.14 -0.14)\">\r\n       <use xlink:href=\"#DejaVuSans-53\"/>\r\n       <use x=\"63.476562\" xlink:href=\"#DejaVuSans-65\"/>\r\n       <use x=\"125\" xlink:href=\"#DejaVuSans-63\"/>\r\n       <use x=\"179.980469\" xlink:href=\"#DejaVuSans-6f\"/>\r\n       <use x=\"241.162109\" xlink:href=\"#DejaVuSans-6e\"/>\r\n       <use x=\"304.541016\" xlink:href=\"#DejaVuSans-64\"/>\r\n       <use x=\"368.017578\" xlink:href=\"#DejaVuSans-61\"/>\r\n       <use x=\"429.296875\" xlink:href=\"#DejaVuSans-72\"/>\r\n       <use x=\"470.410156\" xlink:href=\"#DejaVuSans-79\"/>\r\n      </g>\r\n     </g>\r\n    </g>\r\n    <g id=\"ytick_10\">\r\n     <g id=\"line2d_78\"/>\r\n     <g id=\"text_31\">\r\n      <!-- Higher Secondary -->\r\n      <g transform=\"translate(27.45925 634.582543)scale(0.14 -0.14)\">\r\n       <use xlink:href=\"#DejaVuSans-48\"/>\r\n       <use x=\"75.195312\" xlink:href=\"#DejaVuSans-69\"/>\r\n       <use x=\"102.978516\" xlink:href=\"#DejaVuSans-67\"/>\r\n       <use x=\"166.455078\" xlink:href=\"#DejaVuSans-68\"/>\r\n       <use x=\"229.833984\" xlink:href=\"#DejaVuSans-65\"/>\r\n       <use x=\"291.357422\" xlink:href=\"#DejaVuSans-72\"/>\r\n       <use x=\"332.470703\" xlink:href=\"#DejaVuSans-20\"/>\r\n       <use x=\"364.257812\" xlink:href=\"#DejaVuSans-53\"/>\r\n       <use x=\"427.734375\" xlink:href=\"#DejaVuSans-65\"/>\r\n       <use x=\"489.257812\" xlink:href=\"#DejaVuSans-63\"/>\r\n       <use x=\"544.238281\" xlink:href=\"#DejaVuSans-6f\"/>\r\n       <use x=\"605.419922\" xlink:href=\"#DejaVuSans-6e\"/>\r\n       <use x=\"668.798828\" xlink:href=\"#DejaVuSans-64\"/>\r\n       <use x=\"732.275391\" xlink:href=\"#DejaVuSans-61\"/>\r\n       <use x=\"793.554688\" xlink:href=\"#DejaVuSans-72\"/>\r\n       <use x=\"834.667969\" xlink:href=\"#DejaVuSans-79\"/>\r\n      </g>\r\n     </g>\r\n    </g>\r\n    <g id=\"text_32\">\r\n     <!-- School section -->\r\n     <g transform=\"translate(19.965375 590.665295)rotate(-90)scale(0.168 -0.168)\">\r\n      <use xlink:href=\"#DejaVuSans-53\"/>\r\n      <use x=\"63.476562\" xlink:href=\"#DejaVuSans-63\"/>\r\n      <use x=\"118.457031\" xlink:href=\"#DejaVuSans-68\"/>\r\n      <use x=\"181.835938\" xlink:href=\"#DejaVuSans-6f\"/>\r\n      <use x=\"243.017578\" xlink:href=\"#DejaVuSans-6f\"/>\r\n      <use x=\"304.199219\" xlink:href=\"#DejaVuSans-6c\"/>\r\n      <use x=\"331.982422\" xlink:href=\"#DejaVuSans-20\"/>\r\n      <use x=\"363.769531\" xlink:href=\"#DejaVuSans-73\"/>\r\n      <use x=\"415.869141\" xlink:href=\"#DejaVuSans-65\"/>\r\n      <use x=\"477.392578\" xlink:href=\"#DejaVuSans-63\"/>\r\n      <use x=\"532.373047\" xlink:href=\"#DejaVuSans-74\"/>\r\n      <use x=\"571.582031\" xlink:href=\"#DejaVuSans-69\"/>\r\n      <use x=\"599.365234\" xlink:href=\"#DejaVuSans-6f\"/>\r\n      <use x=\"660.546875\" xlink:href=\"#DejaVuSans-6e\"/>\r\n     </g>\r\n    </g>\r\n   </g>\r\n   <g id=\"patch_19\">\r\n    <path clip-path=\"url(#p158653ff6e)\" d=\"M 195.168343 403.936364 \r\nL 195.168343 456.954545 \r\nL 267.13432 456.954545 \r\nL 267.13432 403.936364 \r\nL 195.168343 403.936364 \r\nz\r\n\" style=\"fill:#1b86ba;stroke:#404040;stroke-linejoin:miter;stroke-width:4;\"/>\r\n   </g>\r\n   <g id=\"patch_20\">\r\n    <path clip-path=\"url(#p158653ff6e)\" d=\"M 205.483908 470.209091 \r\nL 205.483908 523.227273 \r\nL 254.090763 523.227273 \r\nL 254.090763 470.209091 \r\nL 205.483908 470.209091 \r\nz\r\n\" style=\"fill:#e36149;stroke:#404040;stroke-linejoin:miter;stroke-width:4;\"/>\r\n   </g>\r\n   <g id=\"patch_21\">\r\n    <path clip-path=\"url(#p158653ff6e)\" d=\"M 338.305094 536.481818 \r\nL 338.305094 589.5 \r\nL 467.117126 589.5 \r\nL 467.117126 536.481818 \r\nL 338.305094 536.481818 \r\nz\r\n\" style=\"fill:#cfa64e;stroke:#404040;stroke-linejoin:miter;stroke-width:4;\"/>\r\n   </g>\r\n   <g id=\"patch_22\">\r\n    <path clip-path=\"url(#p158653ff6e)\" d=\"M 215.059491 602.754545 \r\nL 215.059491 655.772727 \r\nL 302.785974 655.772727 \r\nL 302.785974 602.754545 \r\nL 215.059491 602.754545 \r\nz\r\n\" style=\"fill:#6e8857;stroke:#404040;stroke-linejoin:miter;stroke-width:4;\"/>\r\n   </g>\r\n   <g id=\"line2d_79\">\r\n    <path clip-path=\"url(#p158653ff6e)\" d=\"M 195.168343 430.445455 \r\nL 184.576665 430.445455 \r\n\" style=\"fill:none;stroke:#404040;stroke-width:4;\"/>\r\n   </g>\r\n   <g id=\"line2d_80\">\r\n    <path clip-path=\"url(#p158653ff6e)\" d=\"M 267.13432 430.445455 \r\nL 350.332557 430.445455 \r\n\" style=\"fill:none;stroke:#404040;stroke-width:4;\"/>\r\n   </g>\r\n   <g id=\"line2d_81\">\r\n    <path clip-path=\"url(#p158653ff6e)\" d=\"M 184.576665 417.190909 \r\nL 184.576665 443.7 \r\n\" style=\"fill:none;stroke:#404040;stroke-width:4;\"/>\r\n   </g>\r\n   <g id=\"line2d_82\">\r\n    <path clip-path=\"url(#p158653ff6e)\" d=\"M 350.332557 417.190909 \r\nL 350.332557 443.7 \r\n\" style=\"fill:none;stroke:#404040;stroke-width:4;\"/>\r\n   </g>\r\n   <g id=\"line2d_83\">\r\n    <g clip-path=\"url(#p158653ff6e)\">\r\n     <use style=\"fill:#404040;stroke:#404040;stroke-linejoin:miter;\" x=\"392.964337\" xlink:href=\"#m2979564e4a\" y=\"430.445455\"/>\r\n    </g>\r\n   </g>\r\n   <g id=\"line2d_84\">\r\n    <path clip-path=\"url(#p158653ff6e)\" d=\"M 205.483908 496.718182 \r\nL 184.576665 496.718182 \r\n\" style=\"fill:none;stroke:#404040;stroke-width:4;\"/>\r\n   </g>\r\n   <g id=\"line2d_85\">\r\n    <path clip-path=\"url(#p158653ff6e)\" d=\"M 254.090763 496.718182 \r\nL 317.464118 496.718182 \r\n\" style=\"fill:none;stroke:#404040;stroke-width:4;\"/>\r\n   </g>\r\n   <g id=\"line2d_86\">\r\n    <path clip-path=\"url(#p158653ff6e)\" d=\"M 184.576665 483.463636 \r\nL 184.576665 509.972727 \r\n\" style=\"fill:none;stroke:#404040;stroke-width:4;\"/>\r\n   </g>\r\n   <g id=\"line2d_87\">\r\n    <path clip-path=\"url(#p158653ff6e)\" d=\"M 317.464118 483.463636 \r\nL 317.464118 509.972727 \r\n\" style=\"fill:none;stroke:#404040;stroke-width:4;\"/>\r\n   </g>\r\n   <g id=\"line2d_88\">\r\n    <g clip-path=\"url(#p158653ff6e)\">\r\n     <use style=\"fill:#404040;stroke:#404040;stroke-linejoin:miter;\" x=\"341.894557\" xlink:href=\"#m2979564e4a\" y=\"496.718182\"/>\r\n    </g>\r\n   </g>\r\n   <g id=\"line2d_89\">\r\n    <path clip-path=\"url(#p158653ff6e)\" d=\"M 338.305094 562.990909 \r\nL 184.576665 562.990909 \r\n\" style=\"fill:none;stroke:#404040;stroke-width:4;\"/>\r\n   </g>\r\n   <g id=\"line2d_90\">\r\n    <path clip-path=\"url(#p158653ff6e)\" d=\"M 467.117126 562.990909 \r\nL 598.392082 562.990909 \r\n\" style=\"fill:none;stroke:#404040;stroke-width:4;\"/>\r\n   </g>\r\n   <g id=\"line2d_91\">\r\n    <path clip-path=\"url(#p158653ff6e)\" d=\"M 184.576665 549.736364 \r\nL 184.576665 576.245455 \r\n\" style=\"fill:none;stroke:#404040;stroke-width:4;\"/>\r\n   </g>\r\n   <g id=\"line2d_92\">\r\n    <path clip-path=\"url(#p158653ff6e)\" d=\"M 598.392082 549.736364 \r\nL 598.392082 576.245455 \r\n\" style=\"fill:none;stroke:#404040;stroke-width:4;\"/>\r\n   </g>\r\n   <g id=\"line2d_93\">\r\n    <g clip-path=\"url(#p158653ff6e)\">\r\n     <use style=\"fill:#404040;stroke:#404040;stroke-linejoin:miter;\" x=\"754.03121\" xlink:href=\"#m2979564e4a\" y=\"562.990909\"/>\r\n    </g>\r\n   </g>\r\n   <g id=\"line2d_94\">\r\n    <path clip-path=\"url(#p158653ff6e)\" d=\"M 215.059491 629.263636 \r\nL 184.576665 629.263636 \r\n\" style=\"fill:none;stroke:#404040;stroke-width:4;\"/>\r\n   </g>\r\n   <g id=\"line2d_95\">\r\n    <path clip-path=\"url(#p158653ff6e)\" d=\"M 302.785974 629.263636 \r\nL 412.535195 629.263636 \r\n\" style=\"fill:none;stroke:#404040;stroke-width:4;\"/>\r\n   </g>\r\n   <g id=\"line2d_96\">\r\n    <path clip-path=\"url(#p158653ff6e)\" d=\"M 184.576665 616.009091 \r\nL 184.576665 642.518182 \r\n\" style=\"fill:none;stroke:#404040;stroke-width:4;\"/>\r\n   </g>\r\n   <g id=\"line2d_97\">\r\n    <path clip-path=\"url(#p158653ff6e)\" d=\"M 412.535195 616.009091 \r\nL 412.535195 642.518182 \r\n\" style=\"fill:none;stroke:#404040;stroke-width:4;\"/>\r\n   </g>\r\n   <g id=\"line2d_98\"/>\r\n   <g id=\"line2d_99\">\r\n    <path clip-path=\"url(#p158653ff6e)\" d=\"M 219.433114 403.936364 \r\nL 219.433114 456.954545 \r\n\" style=\"fill:none;stroke:#404040;stroke-width:4;\"/>\r\n   </g>\r\n   <g id=\"line2d_100\">\r\n    <path clip-path=\"url(#p158653ff6e)\" d=\"M 228.644229 470.209091 \r\nL 228.644229 523.227273 \r\n\" style=\"fill:none;stroke:#404040;stroke-width:4;\"/>\r\n   </g>\r\n   <g id=\"line2d_101\">\r\n    <path clip-path=\"url(#p158653ff6e)\" d=\"M 384.327536 536.481818 \r\nL 384.327536 589.5 \r\n\" style=\"fill:none;stroke:#404040;stroke-width:4;\"/>\r\n   </g>\r\n   <g id=\"line2d_102\">\r\n    <path clip-path=\"url(#p158653ff6e)\" d=\"M 246.116632 602.754545 \r\nL 246.116632 655.772727 \r\n\" style=\"fill:none;stroke:#404040;stroke-width:4;\"/>\r\n   </g>\r\n   <g id=\"patch_23\">\r\n    <path d=\"M 156.103938 662.4 \r\nL 156.103938 397.309091 \r\n\" style=\"fill:none;stroke:#f0f0f0;stroke-linecap:square;stroke-linejoin:miter;stroke-width:3;\"/>\r\n   </g>\r\n   <g id=\"patch_24\">\r\n    <path d=\"M 782.503938 662.4 \r\nL 782.503938 397.309091 \r\n\" style=\"fill:none;stroke:#f0f0f0;stroke-linecap:square;stroke-linejoin:miter;stroke-width:3;\"/>\r\n   </g>\r\n   <g id=\"patch_25\">\r\n    <path d=\"M 156.103938 662.4 \r\nL 782.503938 662.4 \r\n\" style=\"fill:none;stroke:#f0f0f0;stroke-linecap:square;stroke-linejoin:miter;stroke-width:3;\"/>\r\n   </g>\r\n   <g id=\"patch_26\">\r\n    <path d=\"M 156.103938 397.309091 \r\nL 782.503938 397.309091 \r\n\" style=\"fill:none;stroke:#f0f0f0;stroke-linecap:square;stroke-linejoin:miter;stroke-width:3;\"/>\r\n   </g>\r\n  </g>\r\n  <g id=\"axes_4\">\r\n   <g id=\"patch_27\">\r\n    <path d=\"M 907.783937 662.4 \r\nL 1534.183937 662.4 \r\nL 1534.183937 397.309091 \r\nL 907.783937 397.309091 \r\nz\r\n\" style=\"fill:#f0f0f0;\"/>\r\n   </g>\r\n   <g id=\"matplotlib.axis_7\">\r\n    <g id=\"xtick_17\">\r\n     <g id=\"line2d_103\">\r\n      <path clip-path=\"url(#pfb1f853aa1)\" d=\"M 913.734069 662.4 \r\nL 913.734069 397.309091 \r\n\" style=\"fill:none;stroke:#cbcbcb;\"/>\r\n     </g>\r\n     <g id=\"line2d_104\"/>\r\n     <g id=\"text_33\">\r\n      <!-- 2 -->\r\n      <g transform=\"translate(909.280319 676.537812)scale(0.14 -0.14)\">\r\n       <use xlink:href=\"#DejaVuSans-32\"/>\r\n      </g>\r\n     </g>\r\n    </g>\r\n    <g id=\"xtick_18\">\r\n     <g id=\"line2d_105\">\r\n      <path clip-path=\"url(#pfb1f853aa1)\" d=\"M 998.458569 662.4 \r\nL 998.458569 397.309091 \r\n\" style=\"fill:none;stroke:#cbcbcb;\"/>\r\n     </g>\r\n     <g id=\"line2d_106\"/>\r\n     <g id=\"text_34\">\r\n      <!-- 4 -->\r\n      <g transform=\"translate(994.004819 676.537812)scale(0.14 -0.14)\">\r\n       <use xlink:href=\"#DejaVuSans-34\"/>\r\n      </g>\r\n     </g>\r\n    </g>\r\n    <g id=\"xtick_19\">\r\n     <g id=\"line2d_107\">\r\n      <path clip-path=\"url(#pfb1f853aa1)\" d=\"M 1083.183068 662.4 \r\nL 1083.183068 397.309091 \r\n\" style=\"fill:none;stroke:#cbcbcb;\"/>\r\n     </g>\r\n     <g id=\"line2d_108\"/>\r\n     <g id=\"text_35\">\r\n      <!-- 6 -->\r\n      <g transform=\"translate(1078.729318 676.537812)scale(0.14 -0.14)\">\r\n       <use xlink:href=\"#DejaVuSans-36\"/>\r\n      </g>\r\n     </g>\r\n    </g>\r\n    <g id=\"xtick_20\">\r\n     <g id=\"line2d_109\">\r\n      <path clip-path=\"url(#pfb1f853aa1)\" d=\"M 1167.907568 662.4 \r\nL 1167.907568 397.309091 \r\n\" style=\"fill:none;stroke:#cbcbcb;\"/>\r\n     </g>\r\n     <g id=\"line2d_110\"/>\r\n     <g id=\"text_36\">\r\n      <!-- 8 -->\r\n      <g transform=\"translate(1163.453818 676.537812)scale(0.14 -0.14)\">\r\n       <use xlink:href=\"#DejaVuSans-38\"/>\r\n      </g>\r\n     </g>\r\n    </g>\r\n    <g id=\"xtick_21\">\r\n     <g id=\"line2d_111\">\r\n      <path clip-path=\"url(#pfb1f853aa1)\" d=\"M 1252.632068 662.4 \r\nL 1252.632068 397.309091 \r\n\" style=\"fill:none;stroke:#cbcbcb;\"/>\r\n     </g>\r\n     <g id=\"line2d_112\"/>\r\n     <g id=\"text_37\">\r\n      <!-- 10 -->\r\n      <g transform=\"translate(1243.724568 676.537812)scale(0.14 -0.14)\">\r\n       <use xlink:href=\"#DejaVuSans-31\"/>\r\n       <use x=\"63.623047\" xlink:href=\"#DejaVuSans-30\"/>\r\n      </g>\r\n     </g>\r\n    </g>\r\n    <g id=\"xtick_22\">\r\n     <g id=\"line2d_113\">\r\n      <path clip-path=\"url(#pfb1f853aa1)\" d=\"M 1337.356568 662.4 \r\nL 1337.356568 397.309091 \r\n\" style=\"fill:none;stroke:#cbcbcb;\"/>\r\n     </g>\r\n     <g id=\"line2d_114\"/>\r\n     <g id=\"text_38\">\r\n      <!-- 12 -->\r\n      <g transform=\"translate(1328.449068 676.537812)scale(0.14 -0.14)\">\r\n       <use xlink:href=\"#DejaVuSans-31\"/>\r\n       <use x=\"63.623047\" xlink:href=\"#DejaVuSans-32\"/>\r\n      </g>\r\n     </g>\r\n    </g>\r\n    <g id=\"xtick_23\">\r\n     <g id=\"line2d_115\">\r\n      <path clip-path=\"url(#pfb1f853aa1)\" d=\"M 1422.081068 662.4 \r\nL 1422.081068 397.309091 \r\n\" style=\"fill:none;stroke:#cbcbcb;\"/>\r\n     </g>\r\n     <g id=\"line2d_116\"/>\r\n     <g id=\"text_39\">\r\n      <!-- 14 -->\r\n      <g transform=\"translate(1413.173568 676.537812)scale(0.14 -0.14)\">\r\n       <use xlink:href=\"#DejaVuSans-31\"/>\r\n       <use x=\"63.623047\" xlink:href=\"#DejaVuSans-34\"/>\r\n      </g>\r\n     </g>\r\n    </g>\r\n    <g id=\"xtick_24\">\r\n     <g id=\"line2d_117\">\r\n      <path clip-path=\"url(#pfb1f853aa1)\" d=\"M 1506.805568 662.4 \r\nL 1506.805568 397.309091 \r\n\" style=\"fill:none;stroke:#cbcbcb;\"/>\r\n     </g>\r\n     <g id=\"line2d_118\"/>\r\n     <g id=\"text_40\">\r\n      <!-- 16 -->\r\n      <g transform=\"translate(1497.898068 676.537812)scale(0.14 -0.14)\">\r\n       <use xlink:href=\"#DejaVuSans-31\"/>\r\n       <use x=\"63.623047\" xlink:href=\"#DejaVuSans-36\"/>\r\n      </g>\r\n     </g>\r\n    </g>\r\n    <g id=\"text_41\">\r\n     <!-- Average dropout rates -->\r\n     <g transform=\"translate(1126.885562 696.21475)scale(0.168 -0.168)\">\r\n      <use xlink:href=\"#DejaVuSans-41\"/>\r\n      <use x=\"62.533203\" xlink:href=\"#DejaVuSans-76\"/>\r\n      <use x=\"121.712891\" xlink:href=\"#DejaVuSans-65\"/>\r\n      <use x=\"183.236328\" xlink:href=\"#DejaVuSans-72\"/>\r\n      <use x=\"224.349609\" xlink:href=\"#DejaVuSans-61\"/>\r\n      <use x=\"285.628906\" xlink:href=\"#DejaVuSans-67\"/>\r\n      <use x=\"349.105469\" xlink:href=\"#DejaVuSans-65\"/>\r\n      <use x=\"410.628906\" xlink:href=\"#DejaVuSans-20\"/>\r\n      <use x=\"442.416016\" xlink:href=\"#DejaVuSans-64\"/>\r\n      <use x=\"505.892578\" xlink:href=\"#DejaVuSans-72\"/>\r\n      <use x=\"544.755859\" xlink:href=\"#DejaVuSans-6f\"/>\r\n      <use x=\"605.9375\" xlink:href=\"#DejaVuSans-70\"/>\r\n      <use x=\"669.414062\" xlink:href=\"#DejaVuSans-6f\"/>\r\n      <use x=\"730.595703\" xlink:href=\"#DejaVuSans-75\"/>\r\n      <use x=\"793.974609\" xlink:href=\"#DejaVuSans-74\"/>\r\n      <use x=\"833.183594\" xlink:href=\"#DejaVuSans-20\"/>\r\n      <use x=\"864.970703\" xlink:href=\"#DejaVuSans-72\"/>\r\n      <use x=\"906.083984\" xlink:href=\"#DejaVuSans-61\"/>\r\n      <use x=\"967.363281\" xlink:href=\"#DejaVuSans-74\"/>\r\n      <use x=\"1006.572266\" xlink:href=\"#DejaVuSans-65\"/>\r\n      <use x=\"1068.095703\" xlink:href=\"#DejaVuSans-73\"/>\r\n     </g>\r\n    </g>\r\n   </g>\r\n   <g id=\"matplotlib.axis_8\">\r\n    <g id=\"ytick_11\">\r\n     <g id=\"line2d_119\"/>\r\n     <g id=\"text_42\">\r\n      <!-- Boys -->\r\n      <g transform=\"translate(870.533 468.900724)scale(0.14 -0.14)\">\r\n       <use xlink:href=\"#DejaVuSans-42\"/>\r\n       <use x=\"68.603516\" xlink:href=\"#DejaVuSans-6f\"/>\r\n       <use x=\"129.785156\" xlink:href=\"#DejaVuSans-79\"/>\r\n       <use x=\"188.964844\" xlink:href=\"#DejaVuSans-73\"/>\r\n      </g>\r\n     </g>\r\n    </g>\r\n    <g id=\"ytick_12\">\r\n     <g id=\"line2d_120\"/>\r\n     <g id=\"text_43\">\r\n      <!-- Girls -->\r\n      <g transform=\"translate(872.608938 601.446179)scale(0.14 -0.14)\">\r\n       <use xlink:href=\"#DejaVuSans-47\"/>\r\n       <use x=\"77.490234\" xlink:href=\"#DejaVuSans-69\"/>\r\n       <use x=\"105.273438\" xlink:href=\"#DejaVuSans-72\"/>\r\n       <use x=\"146.386719\" xlink:href=\"#DejaVuSans-6c\"/>\r\n       <use x=\"174.169922\" xlink:href=\"#DejaVuSans-73\"/>\r\n      </g>\r\n     </g>\r\n    </g>\r\n    <g id=\"text_44\">\r\n     <!-- Sex -->\r\n     <g transform=\"translate(863.039125 545.180608)rotate(-90)scale(0.168 -0.168)\">\r\n      <use xlink:href=\"#DejaVuSans-53\"/>\r\n      <use x=\"63.476562\" xlink:href=\"#DejaVuSans-65\"/>\r\n      <use x=\"123.25\" xlink:href=\"#DejaVuSans-78\"/>\r\n     </g>\r\n    </g>\r\n   </g>\r\n   <g id=\"patch_28\">\r\n    <path clip-path=\"url(#pfb1f853aa1)\" d=\"M 1075.752024 410.563636 \r\nL 1075.752024 516.6 \r\nL 1243.841902 516.6 \r\nL 1243.841902 410.563636 \r\nL 1075.752024 410.563636 \r\nz\r\n\" style=\"fill:#1b86ba;stroke:#404040;stroke-linejoin:miter;stroke-width:4;\"/>\r\n   </g>\r\n   <g id=\"patch_29\">\r\n    <path clip-path=\"url(#pfb1f853aa1)\" d=\"M 1033.177963 543.109091 \r\nL 1033.177963 649.145455 \r\nL 1224.293488 649.145455 \r\nL 1224.293488 543.109091 \r\nL 1033.177963 543.109091 \r\nz\r\n\" style=\"fill:#e36149;stroke:#404040;stroke-linejoin:miter;stroke-width:4;\"/>\r\n   </g>\r\n   <g id=\"line2d_121\">\r\n    <path clip-path=\"url(#pfb1f853aa1)\" d=\"M 1075.752024 463.581818 \r\nL 967.60473 463.581818 \r\n\" style=\"fill:none;stroke:#404040;stroke-width:4;\"/>\r\n   </g>\r\n   <g id=\"line2d_122\">\r\n    <path clip-path=\"url(#pfb1f853aa1)\" d=\"M 1243.841902 463.581818 \r\nL 1378.094932 463.581818 \r\n\" style=\"fill:none;stroke:#404040;stroke-width:4;\"/>\r\n   </g>\r\n   <g id=\"line2d_123\">\r\n    <path clip-path=\"url(#pfb1f853aa1)\" d=\"M 967.60473 437.072727 \r\nL 967.60473 490.090909 \r\n\" style=\"fill:none;stroke:#404040;stroke-width:4;\"/>\r\n   </g>\r\n   <g id=\"line2d_124\">\r\n    <path clip-path=\"url(#pfb1f853aa1)\" d=\"M 1378.094932 437.072727 \r\nL 1378.094932 490.090909 \r\n\" style=\"fill:none;stroke:#404040;stroke-width:4;\"/>\r\n   </g>\r\n   <g id=\"line2d_125\">\r\n    <g clip-path=\"url(#pfb1f853aa1)\">\r\n     <use style=\"fill:#404040;stroke:#404040;stroke-linejoin:miter;\" x=\"1505.71121\" xlink:href=\"#m2979564e4a\" y=\"463.581818\"/>\r\n    </g>\r\n   </g>\r\n   <g id=\"line2d_126\">\r\n    <path clip-path=\"url(#pfb1f853aa1)\" d=\"M 1033.177963 596.127273 \r\nL 936.256665 596.127273 \r\n\" style=\"fill:none;stroke:#404040;stroke-width:4;\"/>\r\n   </g>\r\n   <g id=\"line2d_127\">\r\n    <path clip-path=\"url(#pfb1f853aa1)\" d=\"M 1224.293488 596.127273 \r\nL 1470.797656 596.127273 \r\n\" style=\"fill:none;stroke:#404040;stroke-width:4;\"/>\r\n   </g>\r\n   <g id=\"line2d_128\">\r\n    <path clip-path=\"url(#pfb1f853aa1)\" d=\"M 936.256665 569.618182 \r\nL 936.256665 622.636364 \r\n\" style=\"fill:none;stroke:#404040;stroke-width:4;\"/>\r\n   </g>\r\n   <g id=\"line2d_129\">\r\n    <path clip-path=\"url(#pfb1f853aa1)\" d=\"M 1470.797656 569.618182 \r\nL 1470.797656 622.636364 \r\n\" style=\"fill:none;stroke:#404040;stroke-width:4;\"/>\r\n   </g>\r\n   <g id=\"line2d_130\"/>\r\n   <g id=\"line2d_131\">\r\n    <path clip-path=\"url(#pfb1f853aa1)\" d=\"M 1157.564119 410.563636 \r\nL 1157.564119 516.6 \r\n\" style=\"fill:none;stroke:#404040;stroke-width:4;\"/>\r\n   </g>\r\n   <g id=\"line2d_132\">\r\n    <path clip-path=\"url(#pfb1f853aa1)\" d=\"M 1150.080122 543.109091 \r\nL 1150.080122 649.145455 \r\n\" style=\"fill:none;stroke:#404040;stroke-width:4;\"/>\r\n   </g>\r\n   <g id=\"patch_30\">\r\n    <path d=\"M 907.783937 662.4 \r\nL 907.783937 397.309091 \r\n\" style=\"fill:none;stroke:#f0f0f0;stroke-linecap:square;stroke-linejoin:miter;stroke-width:3;\"/>\r\n   </g>\r\n   <g id=\"patch_31\">\r\n    <path d=\"M 1534.183937 662.4 \r\nL 1534.183937 397.309091 \r\n\" style=\"fill:none;stroke:#f0f0f0;stroke-linecap:square;stroke-linejoin:miter;stroke-width:3;\"/>\r\n   </g>\r\n   <g id=\"patch_32\">\r\n    <path d=\"M 907.783937 662.4 \r\nL 1534.183937 662.4 \r\n\" style=\"fill:none;stroke:#f0f0f0;stroke-linecap:square;stroke-linejoin:miter;stroke-width:3;\"/>\r\n   </g>\r\n   <g id=\"patch_33\">\r\n    <path d=\"M 907.783937 397.309091 \r\nL 1534.183937 397.309091 \r\n\" style=\"fill:none;stroke:#f0f0f0;stroke-linecap:square;stroke-linejoin:miter;stroke-width:3;\"/>\r\n   </g>\r\n  </g>\r\n  <g id=\"text_45\">\r\n   <!-- Analysis on dropout and enrollment rates -->\r\n   <g transform=\"translate(647.366125 19.965375)scale(0.168 -0.168)\">\r\n    <use xlink:href=\"#DejaVuSans-41\"/>\r\n    <use x=\"68.408203\" xlink:href=\"#DejaVuSans-6e\"/>\r\n    <use x=\"131.787109\" xlink:href=\"#DejaVuSans-61\"/>\r\n    <use x=\"193.066406\" xlink:href=\"#DejaVuSans-6c\"/>\r\n    <use x=\"220.849609\" xlink:href=\"#DejaVuSans-79\"/>\r\n    <use x=\"280.029297\" xlink:href=\"#DejaVuSans-73\"/>\r\n    <use x=\"332.128906\" xlink:href=\"#DejaVuSans-69\"/>\r\n    <use x=\"359.912109\" xlink:href=\"#DejaVuSans-73\"/>\r\n    <use x=\"412.011719\" xlink:href=\"#DejaVuSans-20\"/>\r\n    <use x=\"443.798828\" xlink:href=\"#DejaVuSans-6f\"/>\r\n    <use x=\"504.980469\" xlink:href=\"#DejaVuSans-6e\"/>\r\n    <use x=\"568.359375\" xlink:href=\"#DejaVuSans-20\"/>\r\n    <use x=\"600.146484\" xlink:href=\"#DejaVuSans-64\"/>\r\n    <use x=\"663.623047\" xlink:href=\"#DejaVuSans-72\"/>\r\n    <use x=\"702.486328\" xlink:href=\"#DejaVuSans-6f\"/>\r\n    <use x=\"763.667969\" xlink:href=\"#DejaVuSans-70\"/>\r\n    <use x=\"827.144531\" xlink:href=\"#DejaVuSans-6f\"/>\r\n    <use x=\"888.326172\" xlink:href=\"#DejaVuSans-75\"/>\r\n    <use x=\"951.705078\" xlink:href=\"#DejaVuSans-74\"/>\r\n    <use x=\"990.914062\" xlink:href=\"#DejaVuSans-20\"/>\r\n    <use x=\"1022.701172\" xlink:href=\"#DejaVuSans-61\"/>\r\n    <use x=\"1083.980469\" xlink:href=\"#DejaVuSans-6e\"/>\r\n    <use x=\"1147.359375\" xlink:href=\"#DejaVuSans-64\"/>\r\n    <use x=\"1210.835938\" xlink:href=\"#DejaVuSans-20\"/>\r\n    <use x=\"1242.623047\" xlink:href=\"#DejaVuSans-65\"/>\r\n    <use x=\"1304.146484\" xlink:href=\"#DejaVuSans-6e\"/>\r\n    <use x=\"1367.525391\" xlink:href=\"#DejaVuSans-72\"/>\r\n    <use x=\"1406.388672\" xlink:href=\"#DejaVuSans-6f\"/>\r\n    <use x=\"1467.570312\" xlink:href=\"#DejaVuSans-6c\"/>\r\n    <use x=\"1495.353516\" xlink:href=\"#DejaVuSans-6c\"/>\r\n    <use x=\"1523.136719\" xlink:href=\"#DejaVuSans-6d\"/>\r\n    <use x=\"1620.548828\" xlink:href=\"#DejaVuSans-65\"/>\r\n    <use x=\"1682.072266\" xlink:href=\"#DejaVuSans-6e\"/>\r\n    <use x=\"1745.451172\" xlink:href=\"#DejaVuSans-74\"/>\r\n    <use x=\"1784.660156\" xlink:href=\"#DejaVuSans-20\"/>\r\n    <use x=\"1816.447266\" xlink:href=\"#DejaVuSans-72\"/>\r\n    <use x=\"1857.560547\" xlink:href=\"#DejaVuSans-61\"/>\r\n    <use x=\"1918.839844\" xlink:href=\"#DejaVuSans-74\"/>\r\n    <use x=\"1958.048828\" xlink:href=\"#DejaVuSans-65\"/>\r\n    <use x=\"2019.572266\" xlink:href=\"#DejaVuSans-73\"/>\r\n   </g>\r\n  </g>\r\n </g>\r\n <defs>\r\n  <clipPath id=\"p64a0f08b7c\">\r\n   <rect height=\"265.090909\" width=\"626.4\" x=\"156.103938\" y=\"79.2\"/>\r\n  </clipPath>\r\n  <clipPath id=\"p8515a732e5\">\r\n   <rect height=\"265.090909\" width=\"626.4\" x=\"907.783937\" y=\"79.2\"/>\r\n  </clipPath>\r\n  <clipPath id=\"p158653ff6e\">\r\n   <rect height=\"265.090909\" width=\"626.4\" x=\"156.103938\" y=\"397.309091\"/>\r\n  </clipPath>\r\n  <clipPath id=\"pfb1f853aa1\">\r\n   <rect height=\"265.090909\" width=\"626.4\" x=\"907.783937\" y=\"397.309091\"/>\r\n  </clipPath>\r\n </defs>\r\n</svg>\r\n",
      "image/png": "[encoded data removed]"
     },
     "metadata": {}
    }
   ],
   "source": [
    "prim=['Primary']*36\n",
    "uprim=['Upper Primary']*36\n",
    "sec=['Secondary']*36\n",
    "usec=['Higher Secondary']*36\n",
    "lis=prim+uprim+sec+usec\n",
    "lis\n",
    "datas=pd.DataFrame({'values':pd.concat([enrollments_x['Primary_Total'],enrollments_x['Upper_Primary_Total'],enrollments_x['Secondary_Total'],enrollments_x['Higher_Secondary_Total']],axis=0), 'ID':lis})\n",
    "\n",
    "enrollments_boys=(enrollments_x['Primary_Boys']+enrollments_x['Upper_Primary_Boys']+enrollments_x['Secondary_Boys']+enrollments_x['Higher_Secondary_Boys'])/4\n",
    "enrollments_girls=(enrollments_x['Primary_Girls']+enrollments_x['Upper_Primary_Girls']+enrollments_x['Secondary_Girls']+enrollments_x['Higher_Secondary_Girls'])/4\n",
    "boys=['Boys']*36\n",
    "girls=['Girls']*36\n",
    "sex=boys+girls\n",
    "enrolls=pd.concat([enrollments_boys,enrollments_girls],axis=0)\n",
    "datassex1=pd.DataFrame({'Enrollments':enrolls,'Sex':sex})\n",
    "\n",
    "\n",
    "datass=pd.DataFrame({'values':pd.concat([dropouts_x['PRIMARY_TOTAL'],dropouts_x['UPPER_PRIMARY_TOTAL'],dropouts_x['SECONDARY_TOTAL'],dropouts_x['HRSECONDARY_TOTAL']],axis=0), 'ID':lis})\n",
    "\n",
    "dropouts_boys=(dropouts_x['PRIMARY_BOYS']+dropouts_x['UPPER_PRIMARY_BOYS']+dropouts_x['SECONDARY_BOYS']+dropouts_x['HRSECONDARY_BOYS'])/4\n",
    "dropouts_girls=(dropouts_x['PRIMARY_GIRLS']+dropouts_x['UPPER_PRIMARY_GIRLS']+dropouts_x['SECONDARY_GIRLS']+dropouts_x['HRSECONDARY_GIRLS'])/4\n",
    "\n",
    "drops=pd.concat([dropouts_boys,dropouts_girls],axis=0)\n",
    "datassex2=pd.DataFrame({'Dropouts':drops,'Sex':sex})\n",
    "\n",
    "fig,ax=plt.subplots(2,2,figsize=(22,10))\n",
    "\n",
    "sns.boxplot(x='values',y='ID',data=datas,ax=ax[0,0])\n",
    "ax[0,0].set_xlabel('Average enrollment rates')\n",
    "ax[0,0].set_ylabel('School section')\n",
    "#ax[0].suptitle('Comparison of enrollment rates across different sections of the school')\n",
    "\n",
    "sns.boxplot(x='Enrollments',y='Sex',data=datassex1,ax=ax[0,1])\n",
    "ax[0,1].set_xlabel('Average enrollment rates')\n",
    "ax[0,1].set_ylabel('Sex')\n",
    "#ax[1].suptitle('Comparison of enrollment rates across sex')\n",
    "\n",
    "sns.boxplot(x='values',y='ID',data=datass,ax=ax[1,0])\n",
    "ax[1,0].set_xlabel('Average dropout rates')\n",
    "ax[1,0].set_ylabel('School section')\n",
    "#plt.title('Comparison of dropout rates across different sections of the school')\n",
    "\n",
    "\n",
    "sns.boxplot(x='Dropouts',y='Sex',data=datassex2,ax=ax[1,1])\n",
    "ax[1,1].set_xlabel('Average dropout rates')\n",
    "ax[1,1].set_ylabel('Sex')\n",
    "\n",
    "plt.suptitle(\"Analysis on dropout and enrollment rates\")"
   ]
  },
  {
   "source": [
    "# Do these box plots using plotly so that the outliers can be understood by clicking on them"
   ],
   "cell_type": "markdown",
   "metadata": {}
  },
  {
   "cell_type": "code",
   "execution_count": 347,
   "metadata": {},
   "outputs": [
    {
     "output_type": "execute_result",
     "data": {
      "text/plain": [
       "<pandas.io.formats.style.Styler at 0x27cba00a970>"
      ],
      "text/html": "<style  type=\"text/css\" >\n#T_8fd65_row0_col0,#T_8fd65_row1_col1,#T_8fd65_row2_col2,#T_8fd65_row3_col3,#T_8fd65_row4_col4{\n            background-color:  #b40426;\n            color:  #f1f1f1;\n        }#T_8fd65_row0_col1{\n            background-color:  #f4c5ad;\n            color:  #000000;\n        }#T_8fd65_row0_col2{\n            background-color:  #98b9ff;\n            color:  #000000;\n        }#T_8fd65_row0_col3{\n            background-color:  #6a8bef;\n            color:  #000000;\n        }#T_8fd65_row0_col4,#T_8fd65_row1_col3,#T_8fd65_row3_col1,#T_8fd65_row3_col2,#T_8fd65_row4_col0{\n            background-color:  #3b4cc0;\n            color:  #f1f1f1;\n        }#T_8fd65_row1_col0{\n            background-color:  #f5c2aa;\n            color:  #000000;\n        }#T_8fd65_row1_col2,#T_8fd65_row3_col4{\n            background-color:  #f7bca1;\n            color:  #000000;\n        }#T_8fd65_row1_col4{\n            background-color:  #7699f6;\n            color:  #000000;\n        }#T_8fd65_row2_col0{\n            background-color:  #a1c0ff;\n            color:  #000000;\n        }#T_8fd65_row2_col1{\n            background-color:  #f7ba9f;\n            color:  #000000;\n        }#T_8fd65_row2_col3{\n            background-color:  #3f53c6;\n            color:  #f1f1f1;\n        }#T_8fd65_row2_col4{\n            background-color:  #688aef;\n            color:  #000000;\n        }#T_8fd65_row3_col0{\n            background-color:  #6e90f2;\n            color:  #000000;\n        }#T_8fd65_row4_col1{\n            background-color:  #7295f4;\n            color:  #000000;\n        }#T_8fd65_row4_col2{\n            background-color:  #5f7fe8;\n            color:  #000000;\n        }#T_8fd65_row4_col3{\n            background-color:  #f6bda2;\n            color:  #000000;\n        }</style><table id=\"T_8fd65_\" ><thead>    <tr>        <th class=\"blank level0\" ></th>        <th class=\"col_heading level0 col0\" >Drinking water</th>        <th class=\"col_heading level0 col1\" >Electricity</th>        <th class=\"col_heading level0 col2\" >Computer</th>        <th class=\"col_heading level0 col3\" >Boys toilet</th>        <th class=\"col_heading level0 col4\" >Girls toilet</th>    </tr></thead><tbody>\n                <tr>\n                        <th id=\"T_8fd65_level0_row0\" class=\"row_heading level0 row0\" >Drinking water</th>\n                        <td id=\"T_8fd65_row0_col0\" class=\"data row0 col0\" >1.000000</td>\n                        <td id=\"T_8fd65_row0_col1\" class=\"data row0 col1\" >0.865238</td>\n                        <td id=\"T_8fd65_row0_col2\" class=\"data row0 col2\" >0.748390</td>\n                        <td id=\"T_8fd65_row0_col3\" class=\"data row0 col3\" >0.696139</td>\n                        <td id=\"T_8fd65_row0_col4\" class=\"data row0 col4\" >0.636747</td>\n            </tr>\n            <tr>\n                        <th id=\"T_8fd65_level0_row1\" class=\"row_heading level0 row1\" >Electricity</th>\n                        <td id=\"T_8fd65_row1_col0\" class=\"data row1 col0\" >0.865238</td>\n                        <td id=\"T_8fd65_row1_col1\" class=\"data row1 col1\" >1.000000</td>\n                        <td id=\"T_8fd65_row1_col2\" class=\"data row1 col2\" >0.878351</td>\n                        <td id=\"T_8fd65_row1_col3\" class=\"data row1 col3\" >0.642424</td>\n                        <td id=\"T_8fd65_row1_col4\" class=\"data row1 col4\" >0.704691</td>\n            </tr>\n            <tr>\n                        <th id=\"T_8fd65_level0_row2\" class=\"row_heading level0 row2\" >Computer</th>\n                        <td id=\"T_8fd65_row2_col0\" class=\"data row2 col0\" >0.748390</td>\n                        <td id=\"T_8fd65_row2_col1\" class=\"data row2 col1\" >0.878351</td>\n                        <td id=\"T_8fd65_row2_col2\" class=\"data row2 col2\" >1.000000</td>\n                        <td id=\"T_8fd65_row2_col3\" class=\"data row2 col3\" >0.648551</td>\n                        <td id=\"T_8fd65_row2_col4\" class=\"data row2 col4\" >0.690509</td>\n            </tr>\n            <tr>\n                        <th id=\"T_8fd65_level0_row3\" class=\"row_heading level0 row3\" >Boys toilet</th>\n                        <td id=\"T_8fd65_row3_col0\" class=\"data row3 col0\" >0.696139</td>\n                        <td id=\"T_8fd65_row3_col1\" class=\"data row3 col1\" >0.642424</td>\n                        <td id=\"T_8fd65_row3_col2\" class=\"data row3 col2\" >0.648551</td>\n                        <td id=\"T_8fd65_row3_col3\" class=\"data row3 col3\" >1.000000</td>\n                        <td id=\"T_8fd65_row3_col4\" class=\"data row3 col4\" >0.874460</td>\n            </tr>\n            <tr>\n                        <th id=\"T_8fd65_level0_row4\" class=\"row_heading level0 row4\" >Girls toilet</th>\n                        <td id=\"T_8fd65_row4_col0\" class=\"data row4 col0\" >0.636747</td>\n                        <td id=\"T_8fd65_row4_col1\" class=\"data row4 col1\" >0.704691</td>\n                        <td id=\"T_8fd65_row4_col2\" class=\"data row4 col2\" >0.690509</td>\n                        <td id=\"T_8fd65_row4_col3\" class=\"data row4 col3\" >0.874460</td>\n                        <td id=\"T_8fd65_row4_col4\" class=\"data row4 col4\" >1.000000</td>\n            </tr>\n    </tbody></table>"
     },
     "metadata": {},
     "execution_count": 347
    }
   ],
   "source": [
    "factors.corr(method='spearman').style.background_gradient(cmap=\"coolwarm\")"
   ]
  },
  {
   "source": [
    "### Observations\n",
    "\n",
    "* `Boys toilet` and `girls toilet` are correlated. We need to test whether the percentage of boys toilets in schools and percentage of girls toilets in schools is significantly different. Let us design the hypothesis."
   ],
   "cell_type": "markdown",
   "metadata": {}
  },
  {
   "cell_type": "code",
   "execution_count": 348,
   "metadata": {},
   "outputs": [
    {
     "output_type": "execute_result",
     "data": {
      "text/plain": [
       "Text(0.5, 1.0, 'Comparison of prescence of different factors in the school')"
      ]
     },
     "metadata": {},
     "execution_count": 348
    },
    {
     "output_type": "display_data",
     "data": {
      "text/plain": "<Figure size 432x288 with 1 Axes>",
      "image/svg+xml": "<?xml version=\"1.0\" encoding=\"utf-8\" standalone=\"no\"?>\r\n<!DOCTYPE svg PUBLIC \"-//W3C//DTD SVG 1.1//EN\"\r\n  \"http://www.w3.org/Graphics/SVG/1.1/DTD/svg11.dtd\">\r\n<svg height=\"306.307075pt\" version=\"1.1\" viewBox=\"0 0 622.31845 306.307075\" width=\"622.31845pt\" xmlns=\"http://www.w3.org/2000/svg\" xmlns:xlink=\"http://www.w3.org/1999/xlink\">\r\n <metadata>\r\n  <rdf:RDF xmlns:cc=\"http://creativecommons.org/ns#\" xmlns:dc=\"http://purl.org/dc/elements/1.1/\" xmlns:rdf=\"http://www.w3.org/1999/02/22-rdf-syntax-ns#\">\r\n   <cc:Work>\r\n    <dc:type rdf:resource=\"http://purl.org/dc/dcmitype/StillImage\"/>\r\n    <dc:date>2021-05-28T11:12:42.665591</dc:date>\r\n    <dc:format>image/svg+xml</dc:format>\r\n    <dc:creator>\r\n     <cc:Agent>\r\n      <dc:title>Matplotlib v3.4.2, https://matplotlib.org/</dc:title>\r\n     </cc:Agent>\r\n    </dc:creator>\r\n   </cc:Work>\r\n  </rdf:RDF>\r\n </metadata>\r\n <defs>\r\n  <style type=\"text/css\">*{stroke-linecap:butt;stroke-linejoin:round;}</style>\r\n </defs>\r\n <g id=\"figure_1\">\r\n  <g id=\"patch_1\">\r\n   <path d=\"M 0 306.307075 \r\nL 622.31845 306.307075 \r\nL 622.31845 0 \r\nL 0 0 \r\nz\r\n\" style=\"fill:#f0f0f0;\"/>\r\n  </g>\r\n  <g id=\"axes_1\">\r\n   <g id=\"patch_2\">\r\n    <path d=\"M 134.34925 261.79845 \r\nL 510.18925 261.79845 \r\nL 510.18925 28.51845 \r\nL 134.34925 28.51845 \r\nz\r\n\" style=\"fill:#f0f0f0;\"/>\r\n   </g>\r\n   <g id=\"matplotlib.axis_1\">\r\n    <g id=\"xtick_1\">\r\n     <g id=\"line2d_1\">\r\n      <path clip-path=\"url(#pe57676d97d)\" d=\"M 203.950656 261.79845 \r\nL 203.950656 28.51845 \r\n\" style=\"fill:none;stroke:#cbcbcb;\"/>\r\n     </g>\r\n     <g id=\"line2d_2\"/>\r\n     <g id=\"text_1\">\r\n      <!-- 20 -->\r\n      <g transform=\"translate(195.043156 275.936262)scale(0.14 -0.14)\">\r\n       <defs>\r\n        <path d=\"M 1228 531 \r\nL 3431 531 \r\nL 3431 0 \r\nL 469 0 \r\nL 469 531 \r\nQ 828 903 1448 1529 \r\nQ 2069 2156 2228 2338 \r\nQ 2531 2678 2651 2914 \r\nQ 2772 3150 2772 3378 \r\nQ 2772 3750 2511 3984 \r\nQ 2250 4219 1831 4219 \r\nQ 1534 4219 1204 4116 \r\nQ 875 4013 500 3803 \r\nL 500 4441 \r\nQ 881 4594 1212 4672 \r\nQ 1544 4750 1819 4750 \r\nQ 2544 4750 2975 4387 \r\nQ 3406 4025 3406 3419 \r\nQ 3406 3131 3298 2873 \r\nQ 3191 2616 2906 2266 \r\nQ 2828 2175 2409 1742 \r\nQ 1991 1309 1228 531 \r\nz\r\n\" id=\"DejaVuSans-32\" transform=\"scale(0.015625)\"/>\r\n        <path d=\"M 2034 4250 \r\nQ 1547 4250 1301 3770 \r\nQ 1056 3291 1056 2328 \r\nQ 1056 1369 1301 889 \r\nQ 1547 409 2034 409 \r\nQ 2525 409 2770 889 \r\nQ 3016 1369 3016 2328 \r\nQ 3016 3291 2770 3770 \r\nQ 2525 4250 2034 4250 \r\nz\r\nM 2034 4750 \r\nQ 2819 4750 3233 4129 \r\nQ 3647 3509 3647 2328 \r\nQ 3647 1150 3233 529 \r\nQ 2819 -91 2034 -91 \r\nQ 1250 -91 836 529 \r\nQ 422 1150 422 2328 \r\nQ 422 3509 836 4129 \r\nQ 1250 4750 2034 4750 \r\nz\r\n\" id=\"DejaVuSans-30\" transform=\"scale(0.015625)\"/>\r\n       </defs>\r\n       <use xlink:href=\"#DejaVuSans-32\"/>\r\n       <use x=\"63.623047\" xlink:href=\"#DejaVuSans-30\"/>\r\n      </g>\r\n     </g>\r\n    </g>\r\n    <g id=\"xtick_2\">\r\n     <g id=\"line2d_3\">\r\n      <path clip-path=\"url(#pe57676d97d)\" d=\"M 276.239395 261.79845 \r\nL 276.239395 28.51845 \r\n\" style=\"fill:none;stroke:#cbcbcb;\"/>\r\n     </g>\r\n     <g id=\"line2d_4\"/>\r\n     <g id=\"text_2\">\r\n      <!-- 40 -->\r\n      <g transform=\"translate(267.331895 275.936262)scale(0.14 -0.14)\">\r\n       <defs>\r\n        <path d=\"M 2419 4116 \r\nL 825 1625 \r\nL 2419 1625 \r\nL 2419 4116 \r\nz\r\nM 2253 4666 \r\nL 3047 4666 \r\nL 3047 1625 \r\nL 3713 1625 \r\nL 3713 1100 \r\nL 3047 1100 \r\nL 3047 0 \r\nL 2419 0 \r\nL 2419 1100 \r\nL 313 1100 \r\nL 313 1709 \r\nL 2253 4666 \r\nz\r\n\" id=\"DejaVuSans-34\" transform=\"scale(0.015625)\"/>\r\n       </defs>\r\n       <use xlink:href=\"#DejaVuSans-34\"/>\r\n       <use x=\"63.623047\" xlink:href=\"#DejaVuSans-30\"/>\r\n      </g>\r\n     </g>\r\n    </g>\r\n    <g id=\"xtick_3\">\r\n     <g id=\"line2d_5\">\r\n      <path clip-path=\"url(#pe57676d97d)\" d=\"M 348.528135 261.79845 \r\nL 348.528135 28.51845 \r\n\" style=\"fill:none;stroke:#cbcbcb;\"/>\r\n     </g>\r\n     <g id=\"line2d_6\"/>\r\n     <g id=\"text_3\">\r\n      <!-- 60 -->\r\n      <g transform=\"translate(339.620635 275.936262)scale(0.14 -0.14)\">\r\n       <defs>\r\n        <path d=\"M 2113 2584 \r\nQ 1688 2584 1439 2293 \r\nQ 1191 2003 1191 1497 \r\nQ 1191 994 1439 701 \r\nQ 1688 409 2113 409 \r\nQ 2538 409 2786 701 \r\nQ 3034 994 3034 1497 \r\nQ 3034 2003 2786 2293 \r\nQ 2538 2584 2113 2584 \r\nz\r\nM 3366 4563 \r\nL 3366 3988 \r\nQ 3128 4100 2886 4159 \r\nQ 2644 4219 2406 4219 \r\nQ 1781 4219 1451 3797 \r\nQ 1122 3375 1075 2522 \r\nQ 1259 2794 1537 2939 \r\nQ 1816 3084 2150 3084 \r\nQ 2853 3084 3261 2657 \r\nQ 3669 2231 3669 1497 \r\nQ 3669 778 3244 343 \r\nQ 2819 -91 2113 -91 \r\nQ 1303 -91 875 529 \r\nQ 447 1150 447 2328 \r\nQ 447 3434 972 4092 \r\nQ 1497 4750 2381 4750 \r\nQ 2619 4750 2861 4703 \r\nQ 3103 4656 3366 4563 \r\nz\r\n\" id=\"DejaVuSans-36\" transform=\"scale(0.015625)\"/>\r\n       </defs>\r\n       <use xlink:href=\"#DejaVuSans-36\"/>\r\n       <use x=\"63.623047\" xlink:href=\"#DejaVuSans-30\"/>\r\n      </g>\r\n     </g>\r\n    </g>\r\n    <g id=\"xtick_4\">\r\n     <g id=\"line2d_7\">\r\n      <path clip-path=\"url(#pe57676d97d)\" d=\"M 420.816874 261.79845 \r\nL 420.816874 28.51845 \r\n\" style=\"fill:none;stroke:#cbcbcb;\"/>\r\n     </g>\r\n     <g id=\"line2d_8\"/>\r\n     <g id=\"text_4\">\r\n      <!-- 80 -->\r\n      <g transform=\"translate(411.909374 275.936262)scale(0.14 -0.14)\">\r\n       <defs>\r\n        <path d=\"M 2034 2216 \r\nQ 1584 2216 1326 1975 \r\nQ 1069 1734 1069 1313 \r\nQ 1069 891 1326 650 \r\nQ 1584 409 2034 409 \r\nQ 2484 409 2743 651 \r\nQ 3003 894 3003 1313 \r\nQ 3003 1734 2745 1975 \r\nQ 2488 2216 2034 2216 \r\nz\r\nM 1403 2484 \r\nQ 997 2584 770 2862 \r\nQ 544 3141 544 3541 \r\nQ 544 4100 942 4425 \r\nQ 1341 4750 2034 4750 \r\nQ 2731 4750 3128 4425 \r\nQ 3525 4100 3525 3541 \r\nQ 3525 3141 3298 2862 \r\nQ 3072 2584 2669 2484 \r\nQ 3125 2378 3379 2068 \r\nQ 3634 1759 3634 1313 \r\nQ 3634 634 3220 271 \r\nQ 2806 -91 2034 -91 \r\nQ 1263 -91 848 271 \r\nQ 434 634 434 1313 \r\nQ 434 1759 690 2068 \r\nQ 947 2378 1403 2484 \r\nz\r\nM 1172 3481 \r\nQ 1172 3119 1398 2916 \r\nQ 1625 2713 2034 2713 \r\nQ 2441 2713 2670 2916 \r\nQ 2900 3119 2900 3481 \r\nQ 2900 3844 2670 4047 \r\nQ 2441 4250 2034 4250 \r\nQ 1625 4250 1398 4047 \r\nQ 1172 3844 1172 3481 \r\nz\r\n\" id=\"DejaVuSans-38\" transform=\"scale(0.015625)\"/>\r\n       </defs>\r\n       <use xlink:href=\"#DejaVuSans-38\"/>\r\n       <use x=\"63.623047\" xlink:href=\"#DejaVuSans-30\"/>\r\n      </g>\r\n     </g>\r\n    </g>\r\n    <g id=\"xtick_5\">\r\n     <g id=\"line2d_9\">\r\n      <path clip-path=\"url(#pe57676d97d)\" d=\"M 493.105614 261.79845 \r\nL 493.105614 28.51845 \r\n\" style=\"fill:none;stroke:#cbcbcb;\"/>\r\n     </g>\r\n     <g id=\"line2d_10\"/>\r\n     <g id=\"text_5\">\r\n      <!-- 100 -->\r\n      <g transform=\"translate(479.744364 275.936262)scale(0.14 -0.14)\">\r\n       <defs>\r\n        <path d=\"M 794 531 \r\nL 1825 531 \r\nL 1825 4091 \r\nL 703 3866 \r\nL 703 4441 \r\nL 1819 4666 \r\nL 2450 4666 \r\nL 2450 531 \r\nL 3481 531 \r\nL 3481 0 \r\nL 794 0 \r\nL 794 531 \r\nz\r\n\" id=\"DejaVuSans-31\" transform=\"scale(0.015625)\"/>\r\n       </defs>\r\n       <use xlink:href=\"#DejaVuSans-31\"/>\r\n       <use x=\"63.623047\" xlink:href=\"#DejaVuSans-30\"/>\r\n       <use x=\"127.246094\" xlink:href=\"#DejaVuSans-30\"/>\r\n      </g>\r\n     </g>\r\n    </g>\r\n    <g id=\"text_6\">\r\n     <!-- Prescence of these factors -->\r\n     <g transform=\"translate(211.223875 295.6132)scale(0.168 -0.168)\">\r\n      <defs>\r\n       <path d=\"M 1259 4147 \r\nL 1259 2394 \r\nL 2053 2394 \r\nQ 2494 2394 2734 2622 \r\nQ 2975 2850 2975 3272 \r\nQ 2975 3691 2734 3919 \r\nQ 2494 4147 2053 4147 \r\nL 1259 4147 \r\nz\r\nM 628 4666 \r\nL 2053 4666 \r\nQ 2838 4666 3239 4311 \r\nQ 3641 3956 3641 3272 \r\nQ 3641 2581 3239 2228 \r\nQ 2838 1875 2053 1875 \r\nL 1259 1875 \r\nL 1259 0 \r\nL 628 0 \r\nL 628 4666 \r\nz\r\n\" id=\"DejaVuSans-50\" transform=\"scale(0.015625)\"/>\r\n       <path d=\"M 2631 2963 \r\nQ 2534 3019 2420 3045 \r\nQ 2306 3072 2169 3072 \r\nQ 1681 3072 1420 2755 \r\nQ 1159 2438 1159 1844 \r\nL 1159 0 \r\nL 581 0 \r\nL 581 3500 \r\nL 1159 3500 \r\nL 1159 2956 \r\nQ 1341 3275 1631 3429 \r\nQ 1922 3584 2338 3584 \r\nQ 2397 3584 2469 3576 \r\nQ 2541 3569 2628 3553 \r\nL 2631 2963 \r\nz\r\n\" id=\"DejaVuSans-72\" transform=\"scale(0.015625)\"/>\r\n       <path d=\"M 3597 1894 \r\nL 3597 1613 \r\nL 953 1613 \r\nQ 991 1019 1311 708 \r\nQ 1631 397 2203 397 \r\nQ 2534 397 2845 478 \r\nQ 3156 559 3463 722 \r\nL 3463 178 \r\nQ 3153 47 2828 -22 \r\nQ 2503 -91 2169 -91 \r\nQ 1331 -91 842 396 \r\nQ 353 884 353 1716 \r\nQ 353 2575 817 3079 \r\nQ 1281 3584 2069 3584 \r\nQ 2775 3584 3186 3129 \r\nQ 3597 2675 3597 1894 \r\nz\r\nM 3022 2063 \r\nQ 3016 2534 2758 2815 \r\nQ 2500 3097 2075 3097 \r\nQ 1594 3097 1305 2825 \r\nQ 1016 2553 972 2059 \r\nL 3022 2063 \r\nz\r\n\" id=\"DejaVuSans-65\" transform=\"scale(0.015625)\"/>\r\n       <path d=\"M 2834 3397 \r\nL 2834 2853 \r\nQ 2591 2978 2328 3040 \r\nQ 2066 3103 1784 3103 \r\nQ 1356 3103 1142 2972 \r\nQ 928 2841 928 2578 \r\nQ 928 2378 1081 2264 \r\nQ 1234 2150 1697 2047 \r\nL 1894 2003 \r\nQ 2506 1872 2764 1633 \r\nQ 3022 1394 3022 966 \r\nQ 3022 478 2636 193 \r\nQ 2250 -91 1575 -91 \r\nQ 1294 -91 989 -36 \r\nQ 684 19 347 128 \r\nL 347 722 \r\nQ 666 556 975 473 \r\nQ 1284 391 1588 391 \r\nQ 1994 391 2212 530 \r\nQ 2431 669 2431 922 \r\nQ 2431 1156 2273 1281 \r\nQ 2116 1406 1581 1522 \r\nL 1381 1569 \r\nQ 847 1681 609 1914 \r\nQ 372 2147 372 2553 \r\nQ 372 3047 722 3315 \r\nQ 1072 3584 1716 3584 \r\nQ 2034 3584 2315 3537 \r\nQ 2597 3491 2834 3397 \r\nz\r\n\" id=\"DejaVuSans-73\" transform=\"scale(0.015625)\"/>\r\n       <path d=\"M 3122 3366 \r\nL 3122 2828 \r\nQ 2878 2963 2633 3030 \r\nQ 2388 3097 2138 3097 \r\nQ 1578 3097 1268 2742 \r\nQ 959 2388 959 1747 \r\nQ 959 1106 1268 751 \r\nQ 1578 397 2138 397 \r\nQ 2388 397 2633 464 \r\nQ 2878 531 3122 666 \r\nL 3122 134 \r\nQ 2881 22 2623 -34 \r\nQ 2366 -91 2075 -91 \r\nQ 1284 -91 818 406 \r\nQ 353 903 353 1747 \r\nQ 353 2603 823 3093 \r\nQ 1294 3584 2113 3584 \r\nQ 2378 3584 2631 3529 \r\nQ 2884 3475 3122 3366 \r\nz\r\n\" id=\"DejaVuSans-63\" transform=\"scale(0.015625)\"/>\r\n       <path d=\"M 3513 2113 \r\nL 3513 0 \r\nL 2938 0 \r\nL 2938 2094 \r\nQ 2938 2591 2744 2837 \r\nQ 2550 3084 2163 3084 \r\nQ 1697 3084 1428 2787 \r\nQ 1159 2491 1159 1978 \r\nL 1159 0 \r\nL 581 0 \r\nL 581 3500 \r\nL 1159 3500 \r\nL 1159 2956 \r\nQ 1366 3272 1645 3428 \r\nQ 1925 3584 2291 3584 \r\nQ 2894 3584 3203 3211 \r\nQ 3513 2838 3513 2113 \r\nz\r\n\" id=\"DejaVuSans-6e\" transform=\"scale(0.015625)\"/>\r\n       <path id=\"DejaVuSans-20\" transform=\"scale(0.015625)\"/>\r\n       <path d=\"M 1959 3097 \r\nQ 1497 3097 1228 2736 \r\nQ 959 2375 959 1747 \r\nQ 959 1119 1226 758 \r\nQ 1494 397 1959 397 \r\nQ 2419 397 2687 759 \r\nQ 2956 1122 2956 1747 \r\nQ 2956 2369 2687 2733 \r\nQ 2419 3097 1959 3097 \r\nz\r\nM 1959 3584 \r\nQ 2709 3584 3137 3096 \r\nQ 3566 2609 3566 1747 \r\nQ 3566 888 3137 398 \r\nQ 2709 -91 1959 -91 \r\nQ 1206 -91 779 398 \r\nQ 353 888 353 1747 \r\nQ 353 2609 779 3096 \r\nQ 1206 3584 1959 3584 \r\nz\r\n\" id=\"DejaVuSans-6f\" transform=\"scale(0.015625)\"/>\r\n       <path d=\"M 2375 4863 \r\nL 2375 4384 \r\nL 1825 4384 \r\nQ 1516 4384 1395 4259 \r\nQ 1275 4134 1275 3809 \r\nL 1275 3500 \r\nL 2222 3500 \r\nL 2222 3053 \r\nL 1275 3053 \r\nL 1275 0 \r\nL 697 0 \r\nL 697 3053 \r\nL 147 3053 \r\nL 147 3500 \r\nL 697 3500 \r\nL 697 3744 \r\nQ 697 4328 969 4595 \r\nQ 1241 4863 1831 4863 \r\nL 2375 4863 \r\nz\r\n\" id=\"DejaVuSans-66\" transform=\"scale(0.015625)\"/>\r\n       <path d=\"M 1172 4494 \r\nL 1172 3500 \r\nL 2356 3500 \r\nL 2356 3053 \r\nL 1172 3053 \r\nL 1172 1153 \r\nQ 1172 725 1289 603 \r\nQ 1406 481 1766 481 \r\nL 2356 481 \r\nL 2356 0 \r\nL 1766 0 \r\nQ 1100 0 847 248 \r\nQ 594 497 594 1153 \r\nL 594 3053 \r\nL 172 3053 \r\nL 172 3500 \r\nL 594 3500 \r\nL 594 4494 \r\nL 1172 4494 \r\nz\r\n\" id=\"DejaVuSans-74\" transform=\"scale(0.015625)\"/>\r\n       <path d=\"M 3513 2113 \r\nL 3513 0 \r\nL 2938 0 \r\nL 2938 2094 \r\nQ 2938 2591 2744 2837 \r\nQ 2550 3084 2163 3084 \r\nQ 1697 3084 1428 2787 \r\nQ 1159 2491 1159 1978 \r\nL 1159 0 \r\nL 581 0 \r\nL 581 4863 \r\nL 1159 4863 \r\nL 1159 2956 \r\nQ 1366 3272 1645 3428 \r\nQ 1925 3584 2291 3584 \r\nQ 2894 3584 3203 3211 \r\nQ 3513 2838 3513 2113 \r\nz\r\n\" id=\"DejaVuSans-68\" transform=\"scale(0.015625)\"/>\r\n       <path d=\"M 2194 1759 \r\nQ 1497 1759 1228 1600 \r\nQ 959 1441 959 1056 \r\nQ 959 750 1161 570 \r\nQ 1363 391 1709 391 \r\nQ 2188 391 2477 730 \r\nQ 2766 1069 2766 1631 \r\nL 2766 1759 \r\nL 2194 1759 \r\nz\r\nM 3341 1997 \r\nL 3341 0 \r\nL 2766 0 \r\nL 2766 531 \r\nQ 2569 213 2275 61 \r\nQ 1981 -91 1556 -91 \r\nQ 1019 -91 701 211 \r\nQ 384 513 384 1019 \r\nQ 384 1609 779 1909 \r\nQ 1175 2209 1959 2209 \r\nL 2766 2209 \r\nL 2766 2266 \r\nQ 2766 2663 2505 2880 \r\nQ 2244 3097 1772 3097 \r\nQ 1472 3097 1187 3025 \r\nQ 903 2953 641 2809 \r\nL 641 3341 \r\nQ 956 3463 1253 3523 \r\nQ 1550 3584 1831 3584 \r\nQ 2591 3584 2966 3190 \r\nQ 3341 2797 3341 1997 \r\nz\r\n\" id=\"DejaVuSans-61\" transform=\"scale(0.015625)\"/>\r\n      </defs>\r\n      <use xlink:href=\"#DejaVuSans-50\"/>\r\n      <use x=\"58.552734\" xlink:href=\"#DejaVuSans-72\"/>\r\n      <use x=\"97.416016\" xlink:href=\"#DejaVuSans-65\"/>\r\n      <use x=\"158.939453\" xlink:href=\"#DejaVuSans-73\"/>\r\n      <use x=\"211.039062\" xlink:href=\"#DejaVuSans-63\"/>\r\n      <use x=\"266.019531\" xlink:href=\"#DejaVuSans-65\"/>\r\n      <use x=\"327.542969\" xlink:href=\"#DejaVuSans-6e\"/>\r\n      <use x=\"390.921875\" xlink:href=\"#DejaVuSans-63\"/>\r\n      <use x=\"445.902344\" xlink:href=\"#DejaVuSans-65\"/>\r\n      <use x=\"507.425781\" xlink:href=\"#DejaVuSans-20\"/>\r\n      <use x=\"539.212891\" xlink:href=\"#DejaVuSans-6f\"/>\r\n      <use x=\"600.394531\" xlink:href=\"#DejaVuSans-66\"/>\r\n      <use x=\"635.599609\" xlink:href=\"#DejaVuSans-20\"/>\r\n      <use x=\"667.386719\" xlink:href=\"#DejaVuSans-74\"/>\r\n      <use x=\"706.595703\" xlink:href=\"#DejaVuSans-68\"/>\r\n      <use x=\"769.974609\" xlink:href=\"#DejaVuSans-65\"/>\r\n      <use x=\"831.498047\" xlink:href=\"#DejaVuSans-73\"/>\r\n      <use x=\"883.597656\" xlink:href=\"#DejaVuSans-65\"/>\r\n      <use x=\"945.121094\" xlink:href=\"#DejaVuSans-20\"/>\r\n      <use x=\"976.908203\" xlink:href=\"#DejaVuSans-66\"/>\r\n      <use x=\"1012.113281\" xlink:href=\"#DejaVuSans-61\"/>\r\n      <use x=\"1073.392578\" xlink:href=\"#DejaVuSans-63\"/>\r\n      <use x=\"1128.373047\" xlink:href=\"#DejaVuSans-74\"/>\r\n      <use x=\"1167.582031\" xlink:href=\"#DejaVuSans-6f\"/>\r\n      <use x=\"1228.763672\" xlink:href=\"#DejaVuSans-72\"/>\r\n      <use x=\"1269.876953\" xlink:href=\"#DejaVuSans-73\"/>\r\n     </g>\r\n    </g>\r\n   </g>\r\n   <g id=\"matplotlib.axis_2\">\r\n    <g id=\"ytick_1\">\r\n     <g id=\"line2d_11\"/>\r\n     <g id=\"text_7\">\r\n      <!-- Drinking water -->\r\n      <g transform=\"translate(27.45925 57.165356)scale(0.14 -0.14)\">\r\n       <defs>\r\n        <path d=\"M 1259 4147 \r\nL 1259 519 \r\nL 2022 519 \r\nQ 2988 519 3436 956 \r\nQ 3884 1394 3884 2338 \r\nQ 3884 3275 3436 3711 \r\nQ 2988 4147 2022 4147 \r\nL 1259 4147 \r\nz\r\nM 628 4666 \r\nL 1925 4666 \r\nQ 3281 4666 3915 4102 \r\nQ 4550 3538 4550 2338 \r\nQ 4550 1131 3912 565 \r\nQ 3275 0 1925 0 \r\nL 628 0 \r\nL 628 4666 \r\nz\r\n\" id=\"DejaVuSans-44\" transform=\"scale(0.015625)\"/>\r\n        <path d=\"M 603 3500 \r\nL 1178 3500 \r\nL 1178 0 \r\nL 603 0 \r\nL 603 3500 \r\nz\r\nM 603 4863 \r\nL 1178 4863 \r\nL 1178 4134 \r\nL 603 4134 \r\nL 603 4863 \r\nz\r\n\" id=\"DejaVuSans-69\" transform=\"scale(0.015625)\"/>\r\n        <path d=\"M 581 4863 \r\nL 1159 4863 \r\nL 1159 1991 \r\nL 2875 3500 \r\nL 3609 3500 \r\nL 1753 1863 \r\nL 3688 0 \r\nL 2938 0 \r\nL 1159 1709 \r\nL 1159 0 \r\nL 581 0 \r\nL 581 4863 \r\nz\r\n\" id=\"DejaVuSans-6b\" transform=\"scale(0.015625)\"/>\r\n        <path d=\"M 2906 1791 \r\nQ 2906 2416 2648 2759 \r\nQ 2391 3103 1925 3103 \r\nQ 1463 3103 1205 2759 \r\nQ 947 2416 947 1791 \r\nQ 947 1169 1205 825 \r\nQ 1463 481 1925 481 \r\nQ 2391 481 2648 825 \r\nQ 2906 1169 2906 1791 \r\nz\r\nM 3481 434 \r\nQ 3481 -459 3084 -895 \r\nQ 2688 -1331 1869 -1331 \r\nQ 1566 -1331 1297 -1286 \r\nQ 1028 -1241 775 -1147 \r\nL 775 -588 \r\nQ 1028 -725 1275 -790 \r\nQ 1522 -856 1778 -856 \r\nQ 2344 -856 2625 -561 \r\nQ 2906 -266 2906 331 \r\nL 2906 616 \r\nQ 2728 306 2450 153 \r\nQ 2172 0 1784 0 \r\nQ 1141 0 747 490 \r\nQ 353 981 353 1791 \r\nQ 353 2603 747 3093 \r\nQ 1141 3584 1784 3584 \r\nQ 2172 3584 2450 3431 \r\nQ 2728 3278 2906 2969 \r\nL 2906 3500 \r\nL 3481 3500 \r\nL 3481 434 \r\nz\r\n\" id=\"DejaVuSans-67\" transform=\"scale(0.015625)\"/>\r\n        <path d=\"M 269 3500 \r\nL 844 3500 \r\nL 1563 769 \r\nL 2278 3500 \r\nL 2956 3500 \r\nL 3675 769 \r\nL 4391 3500 \r\nL 4966 3500 \r\nL 4050 0 \r\nL 3372 0 \r\nL 2619 2869 \r\nL 1863 0 \r\nL 1184 0 \r\nL 269 3500 \r\nz\r\n\" id=\"DejaVuSans-77\" transform=\"scale(0.015625)\"/>\r\n       </defs>\r\n       <use xlink:href=\"#DejaVuSans-44\"/>\r\n       <use x=\"77.001953\" xlink:href=\"#DejaVuSans-72\"/>\r\n       <use x=\"118.115234\" xlink:href=\"#DejaVuSans-69\"/>\r\n       <use x=\"145.898438\" xlink:href=\"#DejaVuSans-6e\"/>\r\n       <use x=\"209.277344\" xlink:href=\"#DejaVuSans-6b\"/>\r\n       <use x=\"267.1875\" xlink:href=\"#DejaVuSans-69\"/>\r\n       <use x=\"294.970703\" xlink:href=\"#DejaVuSans-6e\"/>\r\n       <use x=\"358.349609\" xlink:href=\"#DejaVuSans-67\"/>\r\n       <use x=\"421.826172\" xlink:href=\"#DejaVuSans-20\"/>\r\n       <use x=\"453.613281\" xlink:href=\"#DejaVuSans-77\"/>\r\n       <use x=\"535.400391\" xlink:href=\"#DejaVuSans-61\"/>\r\n       <use x=\"596.679688\" xlink:href=\"#DejaVuSans-74\"/>\r\n       <use x=\"635.888672\" xlink:href=\"#DejaVuSans-65\"/>\r\n       <use x=\"697.412109\" xlink:href=\"#DejaVuSans-72\"/>\r\n      </g>\r\n     </g>\r\n    </g>\r\n    <g id=\"ytick_2\">\r\n     <g id=\"line2d_12\"/>\r\n     <g id=\"text_8\">\r\n      <!-- Electricity -->\r\n      <g transform=\"translate(61.306438 103.821356)scale(0.14 -0.14)\">\r\n       <defs>\r\n        <path d=\"M 628 4666 \r\nL 3578 4666 \r\nL 3578 4134 \r\nL 1259 4134 \r\nL 1259 2753 \r\nL 3481 2753 \r\nL 3481 2222 \r\nL 1259 2222 \r\nL 1259 531 \r\nL 3634 531 \r\nL 3634 0 \r\nL 628 0 \r\nL 628 4666 \r\nz\r\n\" id=\"DejaVuSans-45\" transform=\"scale(0.015625)\"/>\r\n        <path d=\"M 603 4863 \r\nL 1178 4863 \r\nL 1178 0 \r\nL 603 0 \r\nL 603 4863 \r\nz\r\n\" id=\"DejaVuSans-6c\" transform=\"scale(0.015625)\"/>\r\n        <path d=\"M 2059 -325 \r\nQ 1816 -950 1584 -1140 \r\nQ 1353 -1331 966 -1331 \r\nL 506 -1331 \r\nL 506 -850 \r\nL 844 -850 \r\nQ 1081 -850 1212 -737 \r\nQ 1344 -625 1503 -206 \r\nL 1606 56 \r\nL 191 3500 \r\nL 800 3500 \r\nL 1894 763 \r\nL 2988 3500 \r\nL 3597 3500 \r\nL 2059 -325 \r\nz\r\n\" id=\"DejaVuSans-79\" transform=\"scale(0.015625)\"/>\r\n       </defs>\r\n       <use xlink:href=\"#DejaVuSans-45\"/>\r\n       <use x=\"63.183594\" xlink:href=\"#DejaVuSans-6c\"/>\r\n       <use x=\"90.966797\" xlink:href=\"#DejaVuSans-65\"/>\r\n       <use x=\"152.490234\" xlink:href=\"#DejaVuSans-63\"/>\r\n       <use x=\"207.470703\" xlink:href=\"#DejaVuSans-74\"/>\r\n       <use x=\"246.679688\" xlink:href=\"#DejaVuSans-72\"/>\r\n       <use x=\"287.792969\" xlink:href=\"#DejaVuSans-69\"/>\r\n       <use x=\"315.576172\" xlink:href=\"#DejaVuSans-63\"/>\r\n       <use x=\"370.556641\" xlink:href=\"#DejaVuSans-69\"/>\r\n       <use x=\"398.339844\" xlink:href=\"#DejaVuSans-74\"/>\r\n       <use x=\"437.548828\" xlink:href=\"#DejaVuSans-79\"/>\r\n      </g>\r\n     </g>\r\n    </g>\r\n    <g id=\"ytick_3\">\r\n     <g id=\"line2d_13\"/>\r\n     <g id=\"text_9\">\r\n      <!-- Computer -->\r\n      <g transform=\"translate(61.25175 150.477356)scale(0.14 -0.14)\">\r\n       <defs>\r\n        <path d=\"M 4122 4306 \r\nL 4122 3641 \r\nQ 3803 3938 3442 4084 \r\nQ 3081 4231 2675 4231 \r\nQ 1875 4231 1450 3742 \r\nQ 1025 3253 1025 2328 \r\nQ 1025 1406 1450 917 \r\nQ 1875 428 2675 428 \r\nQ 3081 428 3442 575 \r\nQ 3803 722 4122 1019 \r\nL 4122 359 \r\nQ 3791 134 3420 21 \r\nQ 3050 -91 2638 -91 \r\nQ 1578 -91 968 557 \r\nQ 359 1206 359 2328 \r\nQ 359 3453 968 4101 \r\nQ 1578 4750 2638 4750 \r\nQ 3056 4750 3426 4639 \r\nQ 3797 4528 4122 4306 \r\nz\r\n\" id=\"DejaVuSans-43\" transform=\"scale(0.015625)\"/>\r\n        <path d=\"M 3328 2828 \r\nQ 3544 3216 3844 3400 \r\nQ 4144 3584 4550 3584 \r\nQ 5097 3584 5394 3201 \r\nQ 5691 2819 5691 2113 \r\nL 5691 0 \r\nL 5113 0 \r\nL 5113 2094 \r\nQ 5113 2597 4934 2840 \r\nQ 4756 3084 4391 3084 \r\nQ 3944 3084 3684 2787 \r\nQ 3425 2491 3425 1978 \r\nL 3425 0 \r\nL 2847 0 \r\nL 2847 2094 \r\nQ 2847 2600 2669 2842 \r\nQ 2491 3084 2119 3084 \r\nQ 1678 3084 1418 2786 \r\nQ 1159 2488 1159 1978 \r\nL 1159 0 \r\nL 581 0 \r\nL 581 3500 \r\nL 1159 3500 \r\nL 1159 2956 \r\nQ 1356 3278 1631 3431 \r\nQ 1906 3584 2284 3584 \r\nQ 2666 3584 2933 3390 \r\nQ 3200 3197 3328 2828 \r\nz\r\n\" id=\"DejaVuSans-6d\" transform=\"scale(0.015625)\"/>\r\n        <path d=\"M 1159 525 \r\nL 1159 -1331 \r\nL 581 -1331 \r\nL 581 3500 \r\nL 1159 3500 \r\nL 1159 2969 \r\nQ 1341 3281 1617 3432 \r\nQ 1894 3584 2278 3584 \r\nQ 2916 3584 3314 3078 \r\nQ 3713 2572 3713 1747 \r\nQ 3713 922 3314 415 \r\nQ 2916 -91 2278 -91 \r\nQ 1894 -91 1617 61 \r\nQ 1341 213 1159 525 \r\nz\r\nM 3116 1747 \r\nQ 3116 2381 2855 2742 \r\nQ 2594 3103 2138 3103 \r\nQ 1681 3103 1420 2742 \r\nQ 1159 2381 1159 1747 \r\nQ 1159 1113 1420 752 \r\nQ 1681 391 2138 391 \r\nQ 2594 391 2855 752 \r\nQ 3116 1113 3116 1747 \r\nz\r\n\" id=\"DejaVuSans-70\" transform=\"scale(0.015625)\"/>\r\n        <path d=\"M 544 1381 \r\nL 544 3500 \r\nL 1119 3500 \r\nL 1119 1403 \r\nQ 1119 906 1312 657 \r\nQ 1506 409 1894 409 \r\nQ 2359 409 2629 706 \r\nQ 2900 1003 2900 1516 \r\nL 2900 3500 \r\nL 3475 3500 \r\nL 3475 0 \r\nL 2900 0 \r\nL 2900 538 \r\nQ 2691 219 2414 64 \r\nQ 2138 -91 1772 -91 \r\nQ 1169 -91 856 284 \r\nQ 544 659 544 1381 \r\nz\r\nM 1991 3584 \r\nL 1991 3584 \r\nz\r\n\" id=\"DejaVuSans-75\" transform=\"scale(0.015625)\"/>\r\n       </defs>\r\n       <use xlink:href=\"#DejaVuSans-43\"/>\r\n       <use x=\"69.824219\" xlink:href=\"#DejaVuSans-6f\"/>\r\n       <use x=\"131.005859\" xlink:href=\"#DejaVuSans-6d\"/>\r\n       <use x=\"228.417969\" xlink:href=\"#DejaVuSans-70\"/>\r\n       <use x=\"291.894531\" xlink:href=\"#DejaVuSans-75\"/>\r\n       <use x=\"355.273438\" xlink:href=\"#DejaVuSans-74\"/>\r\n       <use x=\"394.482422\" xlink:href=\"#DejaVuSans-65\"/>\r\n       <use x=\"456.005859\" xlink:href=\"#DejaVuSans-72\"/>\r\n      </g>\r\n     </g>\r\n    </g>\r\n    <g id=\"ytick_4\">\r\n     <g id=\"line2d_14\"/>\r\n     <g id=\"text_10\">\r\n      <!-- Boys toilet -->\r\n      <g transform=\"translate(56.712688 197.133356)scale(0.14 -0.14)\">\r\n       <defs>\r\n        <path d=\"M 1259 2228 \r\nL 1259 519 \r\nL 2272 519 \r\nQ 2781 519 3026 730 \r\nQ 3272 941 3272 1375 \r\nQ 3272 1813 3026 2020 \r\nQ 2781 2228 2272 2228 \r\nL 1259 2228 \r\nz\r\nM 1259 4147 \r\nL 1259 2741 \r\nL 2194 2741 \r\nQ 2656 2741 2882 2914 \r\nQ 3109 3088 3109 3444 \r\nQ 3109 3797 2882 3972 \r\nQ 2656 4147 2194 4147 \r\nL 1259 4147 \r\nz\r\nM 628 4666 \r\nL 2241 4666 \r\nQ 2963 4666 3353 4366 \r\nQ 3744 4066 3744 3513 \r\nQ 3744 3084 3544 2831 \r\nQ 3344 2578 2956 2516 \r\nQ 3422 2416 3680 2098 \r\nQ 3938 1781 3938 1306 \r\nQ 3938 681 3513 340 \r\nQ 3088 0 2303 0 \r\nL 628 0 \r\nL 628 4666 \r\nz\r\n\" id=\"DejaVuSans-42\" transform=\"scale(0.015625)\"/>\r\n       </defs>\r\n       <use xlink:href=\"#DejaVuSans-42\"/>\r\n       <use x=\"68.603516\" xlink:href=\"#DejaVuSans-6f\"/>\r\n       <use x=\"129.785156\" xlink:href=\"#DejaVuSans-79\"/>\r\n       <use x=\"188.964844\" xlink:href=\"#DejaVuSans-73\"/>\r\n       <use x=\"241.064453\" xlink:href=\"#DejaVuSans-20\"/>\r\n       <use x=\"272.851562\" xlink:href=\"#DejaVuSans-74\"/>\r\n       <use x=\"312.060547\" xlink:href=\"#DejaVuSans-6f\"/>\r\n       <use x=\"373.242188\" xlink:href=\"#DejaVuSans-69\"/>\r\n       <use x=\"401.025391\" xlink:href=\"#DejaVuSans-6c\"/>\r\n       <use x=\"428.808594\" xlink:href=\"#DejaVuSans-65\"/>\r\n       <use x=\"490.332031\" xlink:href=\"#DejaVuSans-74\"/>\r\n      </g>\r\n     </g>\r\n    </g>\r\n    <g id=\"ytick_5\">\r\n     <g id=\"line2d_15\"/>\r\n     <g id=\"text_11\">\r\n      <!-- Girls toilet -->\r\n      <g transform=\"translate(58.788625 243.789356)scale(0.14 -0.14)\">\r\n       <defs>\r\n        <path d=\"M 3809 666 \r\nL 3809 1919 \r\nL 2778 1919 \r\nL 2778 2438 \r\nL 4434 2438 \r\nL 4434 434 \r\nQ 4069 175 3628 42 \r\nQ 3188 -91 2688 -91 \r\nQ 1594 -91 976 548 \r\nQ 359 1188 359 2328 \r\nQ 359 3472 976 4111 \r\nQ 1594 4750 2688 4750 \r\nQ 3144 4750 3555 4637 \r\nQ 3966 4525 4313 4306 \r\nL 4313 3634 \r\nQ 3963 3931 3569 4081 \r\nQ 3175 4231 2741 4231 \r\nQ 1884 4231 1454 3753 \r\nQ 1025 3275 1025 2328 \r\nQ 1025 1384 1454 906 \r\nQ 1884 428 2741 428 \r\nQ 3075 428 3337 486 \r\nQ 3600 544 3809 666 \r\nz\r\n\" id=\"DejaVuSans-47\" transform=\"scale(0.015625)\"/>\r\n       </defs>\r\n       <use xlink:href=\"#DejaVuSans-47\"/>\r\n       <use x=\"77.490234\" xlink:href=\"#DejaVuSans-69\"/>\r\n       <use x=\"105.273438\" xlink:href=\"#DejaVuSans-72\"/>\r\n       <use x=\"146.386719\" xlink:href=\"#DejaVuSans-6c\"/>\r\n       <use x=\"174.169922\" xlink:href=\"#DejaVuSans-73\"/>\r\n       <use x=\"226.269531\" xlink:href=\"#DejaVuSans-20\"/>\r\n       <use x=\"258.056641\" xlink:href=\"#DejaVuSans-74\"/>\r\n       <use x=\"297.265625\" xlink:href=\"#DejaVuSans-6f\"/>\r\n       <use x=\"358.447266\" xlink:href=\"#DejaVuSans-69\"/>\r\n       <use x=\"386.230469\" xlink:href=\"#DejaVuSans-6c\"/>\r\n       <use x=\"414.013672\" xlink:href=\"#DejaVuSans-65\"/>\r\n       <use x=\"475.537109\" xlink:href=\"#DejaVuSans-74\"/>\r\n      </g>\r\n     </g>\r\n    </g>\r\n    <g id=\"text_12\">\r\n     <!-- Different factors -->\r\n     <g transform=\"translate(19.965375 213.747075)rotate(-90)scale(0.168 -0.168)\">\r\n      <use xlink:href=\"#DejaVuSans-44\"/>\r\n      <use x=\"77.001953\" xlink:href=\"#DejaVuSans-69\"/>\r\n      <use x=\"104.785156\" xlink:href=\"#DejaVuSans-66\"/>\r\n      <use x=\"139.990234\" xlink:href=\"#DejaVuSans-66\"/>\r\n      <use x=\"175.195312\" xlink:href=\"#DejaVuSans-65\"/>\r\n      <use x=\"236.71875\" xlink:href=\"#DejaVuSans-72\"/>\r\n      <use x=\"275.582031\" xlink:href=\"#DejaVuSans-65\"/>\r\n      <use x=\"337.105469\" xlink:href=\"#DejaVuSans-6e\"/>\r\n      <use x=\"400.484375\" xlink:href=\"#DejaVuSans-74\"/>\r\n      <use x=\"439.693359\" xlink:href=\"#DejaVuSans-20\"/>\r\n      <use x=\"471.480469\" xlink:href=\"#DejaVuSans-66\"/>\r\n      <use x=\"506.685547\" xlink:href=\"#DejaVuSans-61\"/>\r\n      <use x=\"567.964844\" xlink:href=\"#DejaVuSans-63\"/>\r\n      <use x=\"622.945312\" xlink:href=\"#DejaVuSans-74\"/>\r\n      <use x=\"662.154297\" xlink:href=\"#DejaVuSans-6f\"/>\r\n      <use x=\"723.335938\" xlink:href=\"#DejaVuSans-72\"/>\r\n      <use x=\"764.449219\" xlink:href=\"#DejaVuSans-73\"/>\r\n     </g>\r\n    </g>\r\n   </g>\r\n   <g id=\"patch_3\">\r\n    <path clip-path=\"url(#pe57676d97d)\" d=\"M 465.039511 33.18405 \r\nL 465.039511 70.50885 \r\nL 492.364654 70.50885 \r\nL 492.364654 33.18405 \r\nL 465.039511 33.18405 \r\nz\r\n\" style=\"fill:#1b86ba;stroke:#404040;stroke-linejoin:miter;stroke-width:4;\"/>\r\n   </g>\r\n   <g id=\"patch_4\">\r\n    <path clip-path=\"url(#pe57676d97d)\" d=\"M 258.185282 79.84005 \r\nL 258.185282 117.16485 \r\nL 485.189997 117.16485 \r\nL 485.189997 79.84005 \r\nL 258.185282 79.84005 \r\nz\r\n\" style=\"fill:#e36149;stroke:#404040;stroke-linejoin:miter;stroke-width:4;\"/>\r\n   </g>\r\n   <g id=\"patch_5\">\r\n    <path clip-path=\"url(#pe57676d97d)\" d=\"M 184.396552 126.49605 \r\nL 184.396552 163.82085 \r\nL 323.687917 163.82085 \r\nL 323.687917 126.49605 \r\nL 184.396552 126.49605 \r\nz\r\n\" style=\"fill:#cfa64e;stroke:#404040;stroke-linejoin:miter;stroke-width:4;\"/>\r\n   </g>\r\n   <g id=\"patch_6\">\r\n    <path clip-path=\"url(#pe57676d97d)\" d=\"M 425.479498 173.15205 \r\nL 425.479498 210.47685 \r\nL 485.524332 210.47685 \r\nL 485.524332 173.15205 \r\nL 425.479498 173.15205 \r\nz\r\n\" style=\"fill:#6e8857;stroke:#404040;stroke-linejoin:miter;stroke-width:4;\"/>\r\n   </g>\r\n   <g id=\"patch_7\">\r\n    <path clip-path=\"url(#pe57676d97d)\" d=\"M 465.419026 219.80805 \r\nL 465.419026 257.13285 \r\nL 490.729121 257.13285 \r\nL 490.729121 219.80805 \r\nL 465.419026 219.80805 \r\nz\r\n\" style=\"fill:#8b8b8b;stroke:#404040;stroke-linejoin:miter;stroke-width:4;\"/>\r\n   </g>\r\n   <g id=\"line2d_16\">\r\n    <path clip-path=\"url(#pe57676d97d)\" d=\"M 465.039511 51.84645 \r\nL 453.274518 51.84645 \r\n\" style=\"fill:none;stroke:#404040;stroke-width:4;\"/>\r\n   </g>\r\n   <g id=\"line2d_17\">\r\n    <path clip-path=\"url(#pe57676d97d)\" d=\"M 492.364654 51.84645 \r\nL 493.105614 51.84645 \r\n\" style=\"fill:none;stroke:#404040;stroke-width:4;\"/>\r\n   </g>\r\n   <g id=\"line2d_18\">\r\n    <path clip-path=\"url(#pe57676d97d)\" d=\"M 453.274518 42.51525 \r\nL 453.274518 61.17765 \r\n\" style=\"fill:none;stroke:#404040;stroke-width:4;\"/>\r\n   </g>\r\n   <g id=\"line2d_19\">\r\n    <path clip-path=\"url(#pe57676d97d)\" d=\"M 493.105614 42.51525 \r\nL 493.105614 61.17765 \r\n\" style=\"fill:none;stroke:#404040;stroke-width:4;\"/>\r\n   </g>\r\n   <g id=\"line2d_20\">\r\n    <defs>\r\n     <path d=\"M 0 3.535534 \r\nL 2.12132 0 \r\nL 0 -3.535534 \r\nL -2.12132 0 \r\nz\r\n\" id=\"me34aa61fea\" style=\"stroke:#404040;stroke-linejoin:miter;\"/>\r\n    </defs>\r\n    <g clip-path=\"url(#pe57676d97d)\">\r\n     <use style=\"fill:#404040;stroke:#404040;stroke-linejoin:miter;\" x=\"420.057842\" xlink:href=\"#me34aa61fea\" y=\"51.84645\"/>\r\n     <use style=\"fill:#404040;stroke:#404040;stroke-linejoin:miter;\" x=\"421.901205\" xlink:href=\"#me34aa61fea\" y=\"51.84645\"/>\r\n     <use style=\"fill:#404040;stroke:#404040;stroke-linejoin:miter;\" x=\"354.889544\" xlink:href=\"#me34aa61fea\" y=\"51.84645\"/>\r\n     <use style=\"fill:#404040;stroke:#404040;stroke-linejoin:miter;\" x=\"393.094143\" xlink:href=\"#me34aa61fea\" y=\"51.84645\"/>\r\n    </g>\r\n   </g>\r\n   <g id=\"line2d_21\">\r\n    <path clip-path=\"url(#pe57676d97d)\" d=\"M 258.185282 98.50245 \r\nL 167.661708 98.50245 \r\n\" style=\"fill:none;stroke:#404040;stroke-width:4;\"/>\r\n   </g>\r\n   <g id=\"line2d_22\">\r\n    <path clip-path=\"url(#pe57676d97d)\" d=\"M 485.189997 98.50245 \r\nL 493.105614 98.50245 \r\n\" style=\"fill:none;stroke:#404040;stroke-width:4;\"/>\r\n   </g>\r\n   <g id=\"line2d_23\">\r\n    <path clip-path=\"url(#pe57676d97d)\" d=\"M 167.661708 89.17125 \r\nL 167.661708 107.83365 \r\n\" style=\"fill:none;stroke:#404040;stroke-width:4;\"/>\r\n   </g>\r\n   <g id=\"line2d_24\">\r\n    <path clip-path=\"url(#pe57676d97d)\" d=\"M 493.105614 89.17125 \r\nL 493.105614 107.83365 \r\n\" style=\"fill:none;stroke:#404040;stroke-width:4;\"/>\r\n   </g>\r\n   <g id=\"line2d_25\"/>\r\n   <g id=\"line2d_26\">\r\n    <path clip-path=\"url(#pe57676d97d)\" d=\"M 184.396552 145.15845 \r\nL 151.432886 145.15845 \r\n\" style=\"fill:none;stroke:#404040;stroke-width:4;\"/>\r\n   </g>\r\n   <g id=\"line2d_27\">\r\n    <path clip-path=\"url(#pe57676d97d)\" d=\"M 323.687917 145.15845 \r\nL 493.105614 145.15845 \r\n\" style=\"fill:none;stroke:#404040;stroke-width:4;\"/>\r\n   </g>\r\n   <g id=\"line2d_28\">\r\n    <path clip-path=\"url(#pe57676d97d)\" d=\"M 151.432886 135.82725 \r\nL 151.432886 154.48965 \r\n\" style=\"fill:none;stroke:#404040;stroke-width:4;\"/>\r\n   </g>\r\n   <g id=\"line2d_29\">\r\n    <path clip-path=\"url(#pe57676d97d)\" d=\"M 493.105614 135.82725 \r\nL 493.105614 154.48965 \r\n\" style=\"fill:none;stroke:#404040;stroke-width:4;\"/>\r\n   </g>\r\n   <g id=\"line2d_30\"/>\r\n   <g id=\"line2d_31\">\r\n    <path clip-path=\"url(#pe57676d97d)\" d=\"M 425.479498 191.81445 \r\nL 337.251091 191.81445 \r\n\" style=\"fill:none;stroke:#404040;stroke-width:4;\"/>\r\n   </g>\r\n   <g id=\"line2d_32\">\r\n    <path clip-path=\"url(#pe57676d97d)\" d=\"M 485.524332 191.81445 \r\nL 493.105614 191.81445 \r\n\" style=\"fill:none;stroke:#404040;stroke-width:4;\"/>\r\n   </g>\r\n   <g id=\"line2d_33\">\r\n    <path clip-path=\"url(#pe57676d97d)\" d=\"M 337.251091 182.48325 \r\nL 337.251091 201.14565 \r\n\" style=\"fill:none;stroke:#404040;stroke-width:4;\"/>\r\n   </g>\r\n   <g id=\"line2d_34\">\r\n    <path clip-path=\"url(#pe57676d97d)\" d=\"M 493.105614 182.48325 \r\nL 493.105614 201.14565 \r\n\" style=\"fill:none;stroke:#404040;stroke-width:4;\"/>\r\n   </g>\r\n   <g id=\"line2d_35\">\r\n    <g clip-path=\"url(#pe57676d97d)\">\r\n     <use style=\"fill:#404040;stroke:#404040;stroke-linejoin:miter;\" x=\"307.79343\" xlink:href=\"#me34aa61fea\" y=\"191.81445\"/>\r\n     <use style=\"fill:#404040;stroke:#404040;stroke-linejoin:miter;\" x=\"325.793326\" xlink:href=\"#me34aa61fea\" y=\"191.81445\"/>\r\n    </g>\r\n   </g>\r\n   <g id=\"line2d_36\">\r\n    <path clip-path=\"url(#pe57676d97d)\" d=\"M 465.419026 238.47045 \r\nL 442.503496 238.47045 \r\n\" style=\"fill:none;stroke:#404040;stroke-width:4;\"/>\r\n   </g>\r\n   <g id=\"line2d_37\">\r\n    <path clip-path=\"url(#pe57676d97d)\" d=\"M 490.729121 238.47045 \r\nL 493.105614 238.47045 \r\n\" style=\"fill:none;stroke:#404040;stroke-width:4;\"/>\r\n   </g>\r\n   <g id=\"line2d_38\">\r\n    <path clip-path=\"url(#pe57676d97d)\" d=\"M 442.503496 229.13925 \r\nL 442.503496 247.80165 \r\n\" style=\"fill:none;stroke:#404040;stroke-width:4;\"/>\r\n   </g>\r\n   <g id=\"line2d_39\">\r\n    <path clip-path=\"url(#pe57676d97d)\" d=\"M 493.105614 229.13925 \r\nL 493.105614 247.80165 \r\n\" style=\"fill:none;stroke:#404040;stroke-width:4;\"/>\r\n   </g>\r\n   <g id=\"line2d_40\">\r\n    <g clip-path=\"url(#pe57676d97d)\">\r\n     <use style=\"fill:#404040;stroke:#404040;stroke-linejoin:miter;\" x=\"425.551787\" xlink:href=\"#me34aa61fea\" y=\"238.47045\"/>\r\n     <use style=\"fill:#404040;stroke:#404040;stroke-linejoin:miter;\" x=\"409.61212\" xlink:href=\"#me34aa61fea\" y=\"238.47045\"/>\r\n     <use style=\"fill:#404040;stroke:#404040;stroke-linejoin:miter;\" x=\"403.756732\" xlink:href=\"#me34aa61fea\" y=\"238.47045\"/>\r\n     <use style=\"fill:#404040;stroke:#404040;stroke-linejoin:miter;\" x=\"404.226608\" xlink:href=\"#me34aa61fea\" y=\"238.47045\"/>\r\n     <use style=\"fill:#404040;stroke:#404040;stroke-linejoin:miter;\" x=\"408.853088\" xlink:href=\"#me34aa61fea\" y=\"238.47045\"/>\r\n     <use style=\"fill:#404040;stroke:#404040;stroke-linejoin:miter;\" x=\"315.81748\" xlink:href=\"#me34aa61fea\" y=\"238.47045\"/>\r\n    </g>\r\n   </g>\r\n   <g id=\"line2d_41\">\r\n    <path clip-path=\"url(#pe57676d97d)\" d=\"M 484.268315 33.18405 \r\nL 484.268315 70.50885 \r\n\" style=\"fill:none;stroke:#404040;stroke-width:4;\"/>\r\n   </g>\r\n   <g id=\"line2d_42\">\r\n    <path clip-path=\"url(#pe57676d97d)\" d=\"M 431.316814 79.84005 \r\nL 431.316814 117.16485 \r\n\" style=\"fill:none;stroke:#404040;stroke-width:4;\"/>\r\n   </g>\r\n   <g id=\"line2d_43\">\r\n    <path clip-path=\"url(#pe57676d97d)\" d=\"M 254.426268 126.49605 \r\nL 254.426268 163.82085 \r\n\" style=\"fill:none;stroke:#404040;stroke-width:4;\"/>\r\n   </g>\r\n   <g id=\"line2d_44\">\r\n    <path clip-path=\"url(#pe57676d97d)\" d=\"M 473.22621 173.15205 \r\nL 473.22621 210.47685 \r\n\" style=\"fill:none;stroke:#404040;stroke-width:4;\"/>\r\n   </g>\r\n   <g id=\"line2d_45\">\r\n    <path clip-path=\"url(#pe57676d97d)\" d=\"M 483.545428 219.80805 \r\nL 483.545428 257.13285 \r\n\" style=\"fill:none;stroke:#404040;stroke-width:4;\"/>\r\n   </g>\r\n   <g id=\"patch_8\">\r\n    <path d=\"M 134.34925 261.79845 \r\nL 134.34925 28.51845 \r\n\" style=\"fill:none;stroke:#f0f0f0;stroke-linecap:square;stroke-linejoin:miter;stroke-width:3;\"/>\r\n   </g>\r\n   <g id=\"patch_9\">\r\n    <path d=\"M 510.18925 261.79845 \r\nL 510.18925 28.51845 \r\n\" style=\"fill:none;stroke:#f0f0f0;stroke-linecap:square;stroke-linejoin:miter;stroke-width:3;\"/>\r\n   </g>\r\n   <g id=\"patch_10\">\r\n    <path d=\"M 134.34925 261.79845 \r\nL 510.18925 261.79845 \r\n\" style=\"fill:none;stroke:#f0f0f0;stroke-linecap:square;stroke-linejoin:miter;stroke-width:3;\"/>\r\n   </g>\r\n   <g id=\"patch_11\">\r\n    <path d=\"M 134.34925 28.51845 \r\nL 510.18925 28.51845 \r\n\" style=\"fill:none;stroke:#f0f0f0;stroke-linecap:square;stroke-linejoin:miter;stroke-width:3;\"/>\r\n   </g>\r\n   <g id=\"text_13\">\r\n    <!-- Comparison of prescence of different factors in the school -->\r\n    <g transform=\"translate(29.42005 22.51845)scale(0.2016 -0.2016)\">\r\n     <defs>\r\n      <path d=\"M 2906 2969 \r\nL 2906 4863 \r\nL 3481 4863 \r\nL 3481 0 \r\nL 2906 0 \r\nL 2906 525 \r\nQ 2725 213 2448 61 \r\nQ 2172 -91 1784 -91 \r\nQ 1150 -91 751 415 \r\nQ 353 922 353 1747 \r\nQ 353 2572 751 3078 \r\nQ 1150 3584 1784 3584 \r\nQ 2172 3584 2448 3432 \r\nQ 2725 3281 2906 2969 \r\nz\r\nM 947 1747 \r\nQ 947 1113 1208 752 \r\nQ 1469 391 1925 391 \r\nQ 2381 391 2643 752 \r\nQ 2906 1113 2906 1747 \r\nQ 2906 2381 2643 2742 \r\nQ 2381 3103 1925 3103 \r\nQ 1469 3103 1208 2742 \r\nQ 947 2381 947 1747 \r\nz\r\n\" id=\"DejaVuSans-64\" transform=\"scale(0.015625)\"/>\r\n     </defs>\r\n     <use xlink:href=\"#DejaVuSans-43\"/>\r\n     <use x=\"69.824219\" xlink:href=\"#DejaVuSans-6f\"/>\r\n     <use x=\"131.005859\" xlink:href=\"#DejaVuSans-6d\"/>\r\n     <use x=\"228.417969\" xlink:href=\"#DejaVuSans-70\"/>\r\n     <use x=\"291.894531\" xlink:href=\"#DejaVuSans-61\"/>\r\n     <use x=\"353.173828\" xlink:href=\"#DejaVuSans-72\"/>\r\n     <use x=\"394.287109\" xlink:href=\"#DejaVuSans-69\"/>\r\n     <use x=\"422.070312\" xlink:href=\"#DejaVuSans-73\"/>\r\n     <use x=\"474.169922\" xlink:href=\"#DejaVuSans-6f\"/>\r\n     <use x=\"535.351562\" xlink:href=\"#DejaVuSans-6e\"/>\r\n     <use x=\"598.730469\" xlink:href=\"#DejaVuSans-20\"/>\r\n     <use x=\"630.517578\" xlink:href=\"#DejaVuSans-6f\"/>\r\n     <use x=\"691.699219\" xlink:href=\"#DejaVuSans-66\"/>\r\n     <use x=\"726.904297\" xlink:href=\"#DejaVuSans-20\"/>\r\n     <use x=\"758.691406\" xlink:href=\"#DejaVuSans-70\"/>\r\n     <use x=\"822.167969\" xlink:href=\"#DejaVuSans-72\"/>\r\n     <use x=\"861.03125\" xlink:href=\"#DejaVuSans-65\"/>\r\n     <use x=\"922.554688\" xlink:href=\"#DejaVuSans-73\"/>\r\n     <use x=\"974.654297\" xlink:href=\"#DejaVuSans-63\"/>\r\n     <use x=\"1029.634766\" xlink:href=\"#DejaVuSans-65\"/>\r\n     <use x=\"1091.158203\" xlink:href=\"#DejaVuSans-6e\"/>\r\n     <use x=\"1154.537109\" xlink:href=\"#DejaVuSans-63\"/>\r\n     <use x=\"1209.517578\" xlink:href=\"#DejaVuSans-65\"/>\r\n     <use x=\"1271.041016\" xlink:href=\"#DejaVuSans-20\"/>\r\n     <use x=\"1302.828125\" xlink:href=\"#DejaVuSans-6f\"/>\r\n     <use x=\"1364.009766\" xlink:href=\"#DejaVuSans-66\"/>\r\n     <use x=\"1399.214844\" xlink:href=\"#DejaVuSans-20\"/>\r\n     <use x=\"1431.001953\" xlink:href=\"#DejaVuSans-64\"/>\r\n     <use x=\"1494.478516\" xlink:href=\"#DejaVuSans-69\"/>\r\n     <use x=\"1522.261719\" xlink:href=\"#DejaVuSans-66\"/>\r\n     <use x=\"1557.466797\" xlink:href=\"#DejaVuSans-66\"/>\r\n     <use x=\"1592.671875\" xlink:href=\"#DejaVuSans-65\"/>\r\n     <use x=\"1654.195312\" xlink:href=\"#DejaVuSans-72\"/>\r\n     <use x=\"1693.058594\" xlink:href=\"#DejaVuSans-65\"/>\r\n     <use x=\"1754.582031\" xlink:href=\"#DejaVuSans-6e\"/>\r\n     <use x=\"1817.960938\" xlink:href=\"#DejaVuSans-74\"/>\r\n     <use x=\"1857.169922\" xlink:href=\"#DejaVuSans-20\"/>\r\n     <use x=\"1888.957031\" xlink:href=\"#DejaVuSans-66\"/>\r\n     <use x=\"1924.162109\" xlink:href=\"#DejaVuSans-61\"/>\r\n     <use x=\"1985.441406\" xlink:href=\"#DejaVuSans-63\"/>\r\n     <use x=\"2040.421875\" xlink:href=\"#DejaVuSans-74\"/>\r\n     <use x=\"2079.630859\" xlink:href=\"#DejaVuSans-6f\"/>\r\n     <use x=\"2140.8125\" xlink:href=\"#DejaVuSans-72\"/>\r\n     <use x=\"2181.925781\" xlink:href=\"#DejaVuSans-73\"/>\r\n     <use x=\"2234.025391\" xlink:href=\"#DejaVuSans-20\"/>\r\n     <use x=\"2265.8125\" xlink:href=\"#DejaVuSans-69\"/>\r\n     <use x=\"2293.595703\" xlink:href=\"#DejaVuSans-6e\"/>\r\n     <use x=\"2356.974609\" xlink:href=\"#DejaVuSans-20\"/>\r\n     <use x=\"2388.761719\" xlink:href=\"#DejaVuSans-74\"/>\r\n     <use x=\"2427.970703\" xlink:href=\"#DejaVuSans-68\"/>\r\n     <use x=\"2491.349609\" xlink:href=\"#DejaVuSans-65\"/>\r\n     <use x=\"2552.873047\" xlink:href=\"#DejaVuSans-20\"/>\r\n     <use x=\"2584.660156\" xlink:href=\"#DejaVuSans-73\"/>\r\n     <use x=\"2636.759766\" xlink:href=\"#DejaVuSans-63\"/>\r\n     <use x=\"2691.740234\" xlink:href=\"#DejaVuSans-68\"/>\r\n     <use x=\"2755.119141\" xlink:href=\"#DejaVuSans-6f\"/>\r\n     <use x=\"2816.300781\" xlink:href=\"#DejaVuSans-6f\"/>\r\n     <use x=\"2877.482422\" xlink:href=\"#DejaVuSans-6c\"/>\r\n    </g>\r\n   </g>\r\n  </g>\r\n </g>\r\n <defs>\r\n  <clipPath id=\"pe57676d97d\">\r\n   <rect height=\"233.28\" width=\"375.84\" x=\"134.34925\" y=\"28.51845\"/>\r\n  </clipPath>\r\n </defs>\r\n</svg>\r\n",
      "image/png": "[encoded data removed]"
     },
     "metadata": {}
    }
   ],
   "source": [
    "prim=['Drinking water']*36\n",
    "uprim=['Electricity']*36\n",
    "uuprim=['Computer']*36\n",
    "sec=['Boys toilet']*36\n",
    "usec=['Girls toilet']*36\n",
    "lis=prim+uprim+uuprim+sec+usec\n",
    "lis\n",
    "datas=pd.DataFrame({'values':pd.concat([factors['Drinking water'],factors['Electricity'],factors['Computer'],factors['Boys toilet'], factors['Girls toilet']],axis=0), 'ID':lis})\n",
    "sns.boxplot(x='values',y='ID',data=datas)\n",
    "plt.xlabel('Prescence of these factors')\n",
    "plt.ylabel('Different factors')\n",
    "plt.title('Comparison of prescence of different factors in the school')"
   ]
  },
  {
   "source": [
    "## Clustering"
   ],
   "cell_type": "markdown",
   "metadata": {}
  },
  {
   "cell_type": "code",
   "execution_count": 349,
   "metadata": {},
   "outputs": [],
   "source": [
    "def create_clusters(inx):\n",
    "\n",
    "    scores=[]\n",
    "    for i in range(2,36):\n",
    "        k=KMeans(n_clusters=i,n_init=500, max_iter=500)\n",
    "        k.fit(inx)\n",
    "        label=KMeans.predict(k,inx)\n",
    "        scores.append(silhouette_score(inx, label))\n",
    "\n",
    "    pd.DataFrame(scores).plot()\n",
    "    best_cluster_no=np.argmax(scores)+2\n",
    "\n",
    "    plt.axvline(best_cluster_no)\n",
    "    plt.text(best_cluster_no, 0.34,s=f\"Max silhoutte score at n={best_cluster_no}\")\n",
    "    plt.xlabel(\"No. of clusters\")\n",
    "    plt.ylabel(\"Silhoutte score\")\n",
    "    kk=KMeans(n_clusters=best_cluster_no)\n",
    "\n",
    "    kk.fit(inx)\n",
    "    lab = pd.DataFrame(kk.labels_,columns=['Labels'])\n",
    "    result=pd.concat([states['State'],inx,lab['Labels']],axis=1)\n",
    "    return result"
   ]
  },
  {
   "cell_type": "code",
   "execution_count": 350,
   "metadata": {},
   "outputs": [],
   "source": [
    "def return_clusters(result):\n",
    "    grouping=result[['State','Labels']]\n",
    "    clusters=pd.DataFrame()\n",
    "    for l in grouping.Labels.unique():\n",
    "        clusters=pd.concat([clusters,pd.Series(np.array(grouping.State[grouping.Labels==l]), name=f\"Cluster {l}\").to_frame()],axis=1)\n",
    "    clusters.replace({np.nan:'-'},inplace=True)\n",
    "    clusters.sort_index(axis=1, inplace=True)    \n",
    "    return clusters"
   ]
  },
  {
   "source": [
    "# Hypothesis testing"
   ],
   "cell_type": "markdown",
   "metadata": {}
  },
  {
   "source": [
    "## Dropouts"
   ],
   "cell_type": "markdown",
   "metadata": {}
  },
  {
   "source": [
    "## Enrollments"
   ],
   "cell_type": "markdown",
   "metadata": {}
  },
  {
   "source": [
    "## Other factors"
   ],
   "cell_type": "markdown",
   "metadata": {}
  },
  {
   "source": [
    "# Analysis"
   ],
   "cell_type": "markdown",
   "metadata": {}
  },
  {
   "cell_type": "code",
   "execution_count": 351,
   "metadata": {},
   "outputs": [],
   "source": [
    "dropouts_x=dropouts_x[['PRIMARY_TOTAL', 'UPPER_PRIMARY_TOTAL', 'SECONDARY_TOTAL','HRSECONDARY_TOTAL']]"
   ]
  },
  {
   "cell_type": "code",
   "execution_count": 352,
   "metadata": {},
   "outputs": [],
   "source": [
    "enrollments_x=enrollments_x[['Primary_Total', 'Upper_Primary_Total', 'Secondary_Total','Higher_Secondary_Total']]"
   ]
  },
  {
   "cell_type": "code",
   "execution_count": 353,
   "metadata": {},
   "outputs": [],
   "source": [
    "factors.drop(['State'],axis=1,inplace=True)"
   ]
  },
  {
   "cell_type": "code",
   "execution_count": 354,
   "metadata": {},
   "outputs": [],
   "source": [
    "dataset=pd.concat([dropouts_x,enrollments_x,factors],axis=1)\n",
    "cols=[]\n",
    "for col in dataset.columns[:4]:\n",
    "    cols.append(\"Dropout-\"+col[:-6])\n",
    "for col in dataset.columns[4:8]:\n",
    "    cols.append(\"Enrollments-\"+col[:-6])\n",
    "for col in dataset.columns[8:]:\n",
    "    cols.append(col)  \n",
    "dataset.columns=cols"
   ]
  },
  {
   "cell_type": "code",
   "execution_count": 355,
   "metadata": {},
   "outputs": [
    {
     "output_type": "execute_result",
     "data": {
      "text/plain": [
       "   Dropout-PRIMARY  Dropout-UPPER_PRIMARY  Dropout-SECONDARY  \\\n",
       "0         0.800000               1.143333           7.543333   \n",
       "1         4.750000               4.113333          13.693333   \n",
       "2        12.290000               6.590000          14.843333   \n",
       "3         9.680000               8.253333          28.086667   \n",
       "4         0.696667               2.353333          27.123333   \n",
       "\n",
       "   Dropout-HRSECONDARY  Enrollments-Primary  Enrollments-Upper_Primary  \\\n",
       "0            15.646667            91.260000                  87.863333   \n",
       "1             4.046667            89.810000                  81.456667   \n",
       "2            13.533333           127.783333                 122.200000   \n",
       "3             3.976667           111.500000                  94.013333   \n",
       "4             0.000000           102.240000                  97.733333   \n",
       "\n",
       "   Enrollments-Secondary  Enrollments-Higher_Secondary  Drinking water  \\\n",
       "0              93.243333                     90.000000           98.69   \n",
       "1              74.370000                     57.000000           90.35   \n",
       "2              89.300000                     64.666667           79.79   \n",
       "3              74.526667                     34.333333           80.30   \n",
       "4              69.180000                     29.666667           92.53   \n",
       "\n",
       "   Electricity  Computer  Boys toilet  Girls toilet  \n",
       "0        88.86     53.06        94.52         93.44  \n",
       "1        90.34     29.57        56.88         81.31  \n",
       "2        36.35     24.28        48.73         76.90  \n",
       "3        19.39      8.85        60.17         75.28  \n",
       "4         9.96      5.47        73.42         75.41  "
      ],
      "text/html": "<div>\n<style scoped>\n    .dataframe tbody tr th:only-of-type {\n        vertical-align: middle;\n    }\n\n    .dataframe tbody tr th {\n        vertical-align: top;\n    }\n\n    .dataframe thead th {\n        text-align: right;\n    }\n</style>\n<table border=\"1\" class=\"dataframe\">\n  <thead>\n    <tr style=\"text-align: right;\">\n      <th></th>\n      <th>Dropout-PRIMARY</th>\n      <th>Dropout-UPPER_PRIMARY</th>\n      <th>Dropout-SECONDARY</th>\n      <th>Dropout-HRSECONDARY</th>\n      <th>Enrollments-Primary</th>\n      <th>Enrollments-Upper_Primary</th>\n      <th>Enrollments-Secondary</th>\n      <th>Enrollments-Higher_Secondary</th>\n      <th>Drinking water</th>\n      <th>Electricity</th>\n      <th>Computer</th>\n      <th>Boys toilet</th>\n      <th>Girls toilet</th>\n    </tr>\n  </thead>\n  <tbody>\n    <tr>\n      <th>0</th>\n      <td>0.800000</td>\n      <td>1.143333</td>\n      <td>7.543333</td>\n      <td>15.646667</td>\n      <td>91.260000</td>\n      <td>87.863333</td>\n      <td>93.243333</td>\n      <td>90.000000</td>\n      <td>98.69</td>\n      <td>88.86</td>\n      <td>53.06</td>\n      <td>94.52</td>\n      <td>93.44</td>\n    </tr>\n    <tr>\n      <th>1</th>\n      <td>4.750000</td>\n      <td>4.113333</td>\n      <td>13.693333</td>\n      <td>4.046667</td>\n      <td>89.810000</td>\n      <td>81.456667</td>\n      <td>74.370000</td>\n      <td>57.000000</td>\n      <td>90.35</td>\n      <td>90.34</td>\n      <td>29.57</td>\n      <td>56.88</td>\n      <td>81.31</td>\n    </tr>\n    <tr>\n      <th>2</th>\n      <td>12.290000</td>\n      <td>6.590000</td>\n      <td>14.843333</td>\n      <td>13.533333</td>\n      <td>127.783333</td>\n      <td>122.200000</td>\n      <td>89.300000</td>\n      <td>64.666667</td>\n      <td>79.79</td>\n      <td>36.35</td>\n      <td>24.28</td>\n      <td>48.73</td>\n      <td>76.90</td>\n    </tr>\n    <tr>\n      <th>3</th>\n      <td>9.680000</td>\n      <td>8.253333</td>\n      <td>28.086667</td>\n      <td>3.976667</td>\n      <td>111.500000</td>\n      <td>94.013333</td>\n      <td>74.526667</td>\n      <td>34.333333</td>\n      <td>80.30</td>\n      <td>19.39</td>\n      <td>8.85</td>\n      <td>60.17</td>\n      <td>75.28</td>\n    </tr>\n    <tr>\n      <th>4</th>\n      <td>0.696667</td>\n      <td>2.353333</td>\n      <td>27.123333</td>\n      <td>0.000000</td>\n      <td>102.240000</td>\n      <td>97.733333</td>\n      <td>69.180000</td>\n      <td>29.666667</td>\n      <td>92.53</td>\n      <td>9.96</td>\n      <td>5.47</td>\n      <td>73.42</td>\n      <td>75.41</td>\n    </tr>\n  </tbody>\n</table>\n</div>"
     },
     "metadata": {},
     "execution_count": 355
    }
   ],
   "source": [
    "dataset.head(5)"
   ]
  },
  {
   "cell_type": "code",
   "execution_count": 356,
   "metadata": {},
   "outputs": [
    {
     "output_type": "execute_result",
     "data": {
      "text/plain": [
       "<pandas.io.formats.style.Styler at 0x27cba00a7f0>"
      ],
      "text/html": "<style  type=\"text/css\" >\n#T_08f18_row0_col0,#T_08f18_row1_col1,#T_08f18_row2_col2,#T_08f18_row3_col3,#T_08f18_row4_col4,#T_08f18_row5_col5,#T_08f18_row6_col6,#T_08f18_row7_col7,#T_08f18_row8_col8,#T_08f18_row9_col9,#T_08f18_row10_col10,#T_08f18_row11_col11,#T_08f18_row12_col12{\n            background-color:  #b40426;\n            color:  #f1f1f1;\n        }#T_08f18_row0_col1{\n            background-color:  #da5a49;\n            color:  #000000;\n        }#T_08f18_row0_col2{\n            background-color:  #f7a98b;\n            color:  #000000;\n        }#T_08f18_row0_col3,#T_08f18_row0_col8,#T_08f18_row0_col9,#T_08f18_row0_col10,#T_08f18_row1_col11,#T_08f18_row1_col12,#T_08f18_row2_col6,#T_08f18_row2_col7,#T_08f18_row7_col1,#T_08f18_row7_col2,#T_08f18_row8_col0,#T_08f18_row8_col4,#T_08f18_row8_col5{\n            background-color:  #3b4cc0;\n            color:  #f1f1f1;\n        }#T_08f18_row0_col4,#T_08f18_row8_col7{\n            background-color:  #f7a889;\n            color:  #000000;\n        }#T_08f18_row0_col5,#T_08f18_row5_col9{\n            background-color:  #a9c6fd;\n            color:  #000000;\n        }#T_08f18_row0_col6{\n            background-color:  #6384eb;\n            color:  #000000;\n        }#T_08f18_row0_col7,#T_08f18_row3_col0{\n            background-color:  #92b4fe;\n            color:  #000000;\n        }#T_08f18_row0_col11,#T_08f18_row0_col12,#T_08f18_row9_col1{\n            background-color:  #445acc;\n            color:  #f1f1f1;\n        }#T_08f18_row1_col0{\n            background-color:  #d85646;\n            color:  #000000;\n        }#T_08f18_row1_col2{\n            background-color:  #e67259;\n            color:  #000000;\n        }#T_08f18_row1_col3,#T_08f18_row10_col1{\n            background-color:  #4c66d6;\n            color:  #000000;\n        }#T_08f18_row1_col4,#T_08f18_row11_col7{\n            background-color:  #f7b497;\n            color:  #000000;\n        }#T_08f18_row1_col5{\n            background-color:  #b1cbfc;\n            color:  #000000;\n        }#T_08f18_row1_col6{\n            background-color:  #4a63d3;\n            color:  #f1f1f1;\n        }#T_08f18_row1_col7{\n            background-color:  #6a8bef;\n            color:  #000000;\n        }#T_08f18_row1_col8{\n            background-color:  #5572df;\n            color:  #000000;\n        }#T_08f18_row1_col9{\n            background-color:  #506bda;\n            color:  #000000;\n        }#T_08f18_row1_col10{\n            background-color:  #465ecf;\n            color:  #f1f1f1;\n        }#T_08f18_row2_col0,#T_08f18_row6_col9{\n            background-color:  #f7b194;\n            color:  #000000;\n        }#T_08f18_row2_col1,#T_08f18_row8_col11{\n            background-color:  #ec7f63;\n            color:  #000000;\n        }#T_08f18_row2_col3{\n            background-color:  #3d50c3;\n            color:  #f1f1f1;\n        }#T_08f18_row2_col4{\n            background-color:  #ebd3c6;\n            color:  #000000;\n        }#T_08f18_row2_col5,#T_08f18_row7_col4{\n            background-color:  #88abfd;\n            color:  #000000;\n        }#T_08f18_row2_col8,#T_08f18_row12_col4{\n            background-color:  #7a9df8;\n            color:  #000000;\n        }#T_08f18_row2_col9,#T_08f18_row9_col5,#T_08f18_row10_col0,#T_08f18_row11_col5,#T_08f18_row12_col1{\n            background-color:  #5a78e4;\n            color:  #000000;\n        }#T_08f18_row2_col10,#T_08f18_row11_col1{\n            background-color:  #455cce;\n            color:  #f1f1f1;\n        }#T_08f18_row2_col11{\n            background-color:  #536edd;\n            color:  #000000;\n        }#T_08f18_row2_col12,#T_08f18_row9_col0{\n            background-color:  #485fd1;\n            color:  #f1f1f1;\n        }#T_08f18_row3_col1,#T_08f18_row12_col5{\n            background-color:  #8badfd;\n            color:  #000000;\n        }#T_08f18_row3_col2{\n            background-color:  #a7c5fe;\n            color:  #000000;\n        }#T_08f18_row3_col4{\n            background-color:  #98b9ff;\n            color:  #000000;\n        }#T_08f18_row3_col5{\n            background-color:  #9dbdff;\n            color:  #000000;\n        }#T_08f18_row3_col6{\n            background-color:  #dedcdb;\n            color:  #000000;\n        }#T_08f18_row3_col7,#T_08f18_row6_col8{\n            background-color:  #f5c4ac;\n            color:  #000000;\n        }#T_08f18_row3_col8,#T_08f18_row9_col3{\n            background-color:  #f0cdbb;\n            color:  #000000;\n        }#T_08f18_row3_col9,#T_08f18_row12_col7{\n            background-color:  #f7b396;\n            color:  #000000;\n        }#T_08f18_row3_col10,#T_08f18_row7_col8{\n            background-color:  #f7b093;\n            color:  #000000;\n        }#T_08f18_row3_col11{\n            background-color:  #e1dad6;\n            color:  #000000;\n        }#T_08f18_row3_col12{\n            background-color:  #e4d9d2;\n            color:  #000000;\n        }#T_08f18_row4_col0{\n            background-color:  #f49a7b;\n            color:  #000000;\n        }#T_08f18_row4_col1{\n            background-color:  #f7af91;\n            color:  #000000;\n        }#T_08f18_row4_col2{\n            background-color:  #f6bfa6;\n            color:  #000000;\n        }#T_08f18_row4_col3{\n            background-color:  #6788ee;\n            color:  #000000;\n        }#T_08f18_row4_col5{\n            background-color:  #f08a6c;\n            color:  #000000;\n        }#T_08f18_row4_col6{\n            background-color:  #c5d6f2;\n            color:  #000000;\n        }#T_08f18_row4_col7{\n            background-color:  #b9d0f9;\n            color:  #000000;\n        }#T_08f18_row4_col8,#T_08f18_row10_col5{\n            background-color:  #5f7fe8;\n            color:  #000000;\n        }#T_08f18_row4_col9,#T_08f18_row4_col12{\n            background-color:  #6687ed;\n            color:  #000000;\n        }#T_08f18_row4_col10,#T_08f18_row4_col11{\n            background-color:  #5e7de7;\n            color:  #000000;\n        }#T_08f18_row5_col0,#T_08f18_row5_col7,#T_08f18_row11_col6{\n            background-color:  #e2dad5;\n            color:  #000000;\n        }#T_08f18_row5_col1,#T_08f18_row5_col2{\n            background-color:  #dcdddd;\n            color:  #000000;\n        }#T_08f18_row5_col3{\n            background-color:  #a5c3fe;\n            color:  #000000;\n        }#T_08f18_row5_col4{\n            background-color:  #e9785d;\n            color:  #000000;\n        }#T_08f18_row5_col6{\n            background-color:  #f7bca1;\n            color:  #000000;\n        }#T_08f18_row5_col8{\n            background-color:  #9abbff;\n            color:  #000000;\n        }#T_08f18_row5_col10{\n            background-color:  #9ebeff;\n            color:  #000000;\n        }#T_08f18_row5_col11{\n            background-color:  #97b8ff;\n            color:  #000000;\n        }#T_08f18_row5_col12{\n            background-color:  #aec9fc;\n            color:  #000000;\n        }#T_08f18_row6_col0{\n            background-color:  #8db0fe;\n            color:  #000000;\n        }#T_08f18_row6_col1,#T_08f18_row11_col4{\n            background-color:  #5d7ce6;\n            color:  #000000;\n        }#T_08f18_row6_col2,#T_08f18_row10_col2{\n            background-color:  #7b9ff9;\n            color:  #000000;\n        }#T_08f18_row6_col3,#T_08f18_row11_col3{\n            background-color:  #c7d7f0;\n            color:  #000000;\n        }#T_08f18_row6_col4{\n            background-color:  #c9d7f0;\n            color:  #000000;\n        }#T_08f18_row6_col5{\n            background-color:  #efcfbf;\n            color:  #000000;\n        }#T_08f18_row6_col7{\n            background-color:  #e57058;\n            color:  #000000;\n        }#T_08f18_row6_col10{\n            background-color:  #f7b99e;\n            color:  #000000;\n        }#T_08f18_row6_col11{\n            background-color:  #e5d8d1;\n            color:  #000000;\n        }#T_08f18_row6_col12{\n            background-color:  #f3c7b1;\n            color:  #000000;\n        }#T_08f18_row7_col0,#T_08f18_row9_col2,#T_08f18_row12_col0{\n            background-color:  #7da0f9;\n            color:  #000000;\n        }#T_08f18_row7_col3{\n            background-color:  #d1dae9;\n            color:  #000000;\n        }#T_08f18_row7_col5,#T_08f18_row12_col2{\n            background-color:  #94b6ff;\n            color:  #000000;\n        }#T_08f18_row7_col6{\n            background-color:  #ed8366;\n            color:  #000000;\n        }#T_08f18_row7_col9,#T_08f18_row7_col10{\n            background-color:  #f6a385;\n            color:  #000000;\n        }#T_08f18_row7_col11{\n            background-color:  #f2c9b4;\n            color:  #000000;\n        }#T_08f18_row7_col12{\n            background-color:  #efcebd;\n            color:  #000000;\n        }#T_08f18_row8_col1{\n            background-color:  #3c4ec2;\n            color:  #f1f1f1;\n        }#T_08f18_row8_col2{\n            background-color:  #8fb1fe;\n            color:  #000000;\n        }#T_08f18_row8_col3{\n            background-color:  #ccd9ed;\n            color:  #000000;\n        }#T_08f18_row8_col6{\n            background-color:  #edd2c3;\n            color:  #000000;\n        }#T_08f18_row8_col9,#T_08f18_row12_col11{\n            background-color:  #d0473d;\n            color:  #f1f1f1;\n        }#T_08f18_row8_col10{\n            background-color:  #e46e56;\n            color:  #000000;\n        }#T_08f18_row8_col12,#T_08f18_row9_col7{\n            background-color:  #f39778;\n            color:  #000000;\n        }#T_08f18_row9_col4{\n            background-color:  #4e68d8;\n            color:  #000000;\n        }#T_08f18_row9_col6,#T_08f18_row10_col6{\n            background-color:  #f6bda2;\n            color:  #000000;\n        }#T_08f18_row9_col8,#T_08f18_row9_col10{\n            background-color:  #cf453c;\n            color:  #f1f1f1;\n        }#T_08f18_row9_col11{\n            background-color:  #f18f71;\n            color:  #000000;\n        }#T_08f18_row9_col12,#T_08f18_row12_col8{\n            background-color:  #ee8468;\n            color:  #000000;\n        }#T_08f18_row10_col3{\n            background-color:  #f4c5ad;\n            color:  #000000;\n        }#T_08f18_row10_col4{\n            background-color:  #5977e3;\n            color:  #000000;\n        }#T_08f18_row10_col7{\n            background-color:  #f29072;\n            color:  #000000;\n        }#T_08f18_row10_col8{\n            background-color:  #e16751;\n            color:  #000000;\n        }#T_08f18_row10_col9{\n            background-color:  #cd423b;\n            color:  #f1f1f1;\n        }#T_08f18_row10_col11{\n            background-color:  #f18d6f;\n            color:  #000000;\n        }#T_08f18_row10_col12,#T_08f18_row11_col9{\n            background-color:  #ef886b;\n            color:  #000000;\n        }#T_08f18_row11_col0{\n            background-color:  #688aef;\n            color:  #000000;\n        }#T_08f18_row11_col2{\n            background-color:  #8caffe;\n            color:  #000000;\n        }#T_08f18_row11_col8,#T_08f18_row12_col9{\n            background-color:  #e8765c;\n            color:  #000000;\n        }#T_08f18_row11_col10{\n            background-color:  #f08b6e;\n            color:  #000000;\n        }#T_08f18_row11_col12{\n            background-color:  #d1493f;\n            color:  #f1f1f1;\n        }#T_08f18_row12_col3{\n            background-color:  #d6dce4;\n            color:  #000000;\n        }#T_08f18_row12_col6{\n            background-color:  #f5c2aa;\n            color:  #000000;\n        }#T_08f18_row12_col10{\n            background-color:  #ec8165;\n            color:  #000000;\n        }</style><table id=\"T_08f18_\" ><thead>    <tr>        <th class=\"blank level0\" ></th>        <th class=\"col_heading level0 col0\" >Dropout-PRIMARY</th>        <th class=\"col_heading level0 col1\" >Dropout-UPPER_PRIMARY</th>        <th class=\"col_heading level0 col2\" >Dropout-SECONDARY</th>        <th class=\"col_heading level0 col3\" >Dropout-HRSECONDARY</th>        <th class=\"col_heading level0 col4\" >Enrollments-Primary</th>        <th class=\"col_heading level0 col5\" >Enrollments-Upper_Primary</th>        <th class=\"col_heading level0 col6\" >Enrollments-Secondary</th>        <th class=\"col_heading level0 col7\" >Enrollments-Higher_Secondary</th>        <th class=\"col_heading level0 col8\" >Drinking water</th>        <th class=\"col_heading level0 col9\" >Electricity</th>        <th class=\"col_heading level0 col10\" >Computer</th>        <th class=\"col_heading level0 col11\" >Boys toilet</th>        <th class=\"col_heading level0 col12\" >Girls toilet</th>    </tr></thead><tbody>\n                <tr>\n                        <th id=\"T_08f18_level0_row0\" class=\"row_heading level0 row0\" >Dropout-PRIMARY</th>\n                        <td id=\"T_08f18_row0_col0\" class=\"data row0 col0\" >1.000000</td>\n                        <td id=\"T_08f18_row0_col1\" class=\"data row0 col1\" >0.808626</td>\n                        <td id=\"T_08f18_row0_col2\" class=\"data row0 col2\" >0.433988</td>\n                        <td id=\"T_08f18_row0_col3\" class=\"data row0 col3\" >-0.326441</td>\n                        <td id=\"T_08f18_row0_col4\" class=\"data row0 col4\" >0.546122</td>\n                        <td id=\"T_08f18_row0_col5\" class=\"data row0 col5\" >0.140328</td>\n                        <td id=\"T_08f18_row0_col6\" class=\"data row0 col6\" >-0.348632</td>\n                        <td id=\"T_08f18_row0_col7\" class=\"data row0 col7\" >-0.430200</td>\n                        <td id=\"T_08f18_row0_col8\" class=\"data row0 col8\" >-0.798247</td>\n                        <td id=\"T_08f18_row0_col9\" class=\"data row0 col9\" >-0.718789</td>\n                        <td id=\"T_08f18_row0_col10\" class=\"data row0 col10\" >-0.614355</td>\n                        <td id=\"T_08f18_row0_col11\" class=\"data row0 col11\" >-0.535910</td>\n                        <td id=\"T_08f18_row0_col12\" class=\"data row0 col12\" >-0.429225</td>\n            </tr>\n            <tr>\n                        <th id=\"T_08f18_level0_row1\" class=\"row_heading level0 row1\" >Dropout-UPPER_PRIMARY</th>\n                        <td id=\"T_08f18_row1_col0\" class=\"data row1 col0\" >0.808626</td>\n                        <td id=\"T_08f18_row1_col1\" class=\"data row1 col1\" >1.000000</td>\n                        <td id=\"T_08f18_row1_col2\" class=\"data row1 col2\" >0.684685</td>\n                        <td id=\"T_08f18_row1_col3\" class=\"data row1 col3\" >-0.245976</td>\n                        <td id=\"T_08f18_row1_col4\" class=\"data row1 col4\" >0.491634</td>\n                        <td id=\"T_08f18_row1_col5\" class=\"data row1 col5\" >0.171943</td>\n                        <td id=\"T_08f18_row1_col6\" class=\"data row1 col6\" >-0.469755</td>\n                        <td id=\"T_08f18_row1_col7\" class=\"data row1 col7\" >-0.650274</td>\n                        <td id=\"T_08f18_row1_col8\" class=\"data row1 col8\" >-0.640407</td>\n                        <td id=\"T_08f18_row1_col9\" class=\"data row1 col9\" >-0.595619</td>\n                        <td id=\"T_08f18_row1_col10\" class=\"data row1 col10\" >-0.549292</td>\n                        <td id=\"T_08f18_row1_col11\" class=\"data row1 col11\" >-0.590341</td>\n                        <td id=\"T_08f18_row1_col12\" class=\"data row1 col12\" >-0.480315</td>\n            </tr>\n            <tr>\n                        <th id=\"T_08f18_level0_row2\" class=\"row_heading level0 row2\" >Dropout-SECONDARY</th>\n                        <td id=\"T_08f18_row2_col0\" class=\"data row2 col0\" >0.433988</td>\n                        <td id=\"T_08f18_row2_col1\" class=\"data row2 col1\" >0.684685</td>\n                        <td id=\"T_08f18_row2_col2\" class=\"data row2 col2\" >1.000000</td>\n                        <td id=\"T_08f18_row2_col3\" class=\"data row2 col3\" >-0.314359</td>\n                        <td id=\"T_08f18_row2_col4\" class=\"data row2 col4\" >0.302703</td>\n                        <td id=\"T_08f18_row2_col5\" class=\"data row2 col5\" >0.020849</td>\n                        <td id=\"T_08f18_row2_col6\" class=\"data row2 col6\" >-0.551866</td>\n                        <td id=\"T_08f18_row2_col7\" class=\"data row2 col7\" >-0.945864</td>\n                        <td id=\"T_08f18_row2_col8\" class=\"data row2 col8\" >-0.444591</td>\n                        <td id=\"T_08f18_row2_col9\" class=\"data row2 col9\" >-0.543557</td>\n                        <td id=\"T_08f18_row2_col10\" class=\"data row2 col10\" >-0.556757</td>\n                        <td id=\"T_08f18_row2_col11\" class=\"data row2 col11\" >-0.462975</td>\n                        <td id=\"T_08f18_row2_col12\" class=\"data row2 col12\" >-0.415749</td>\n            </tr>\n            <tr>\n                        <th id=\"T_08f18_level0_row3\" class=\"row_heading level0 row3\" >Dropout-HRSECONDARY</th>\n                        <td id=\"T_08f18_row3_col0\" class=\"data row3 col0\" >-0.326441</td>\n                        <td id=\"T_08f18_row3_col1\" class=\"data row3 col1\" >-0.245976</td>\n                        <td id=\"T_08f18_row3_col2\" class=\"data row3 col2\" >-0.314359</td>\n                        <td id=\"T_08f18_row3_col3\" class=\"data row3 col3\" >1.000000</td>\n                        <td id=\"T_08f18_row3_col4\" class=\"data row3 col4\" >-0.139472</td>\n                        <td id=\"T_08f18_row3_col5\" class=\"data row3 col5\" >0.096330</td>\n                        <td id=\"T_08f18_row3_col6\" class=\"data row3 col6\" >0.235673</td>\n                        <td id=\"T_08f18_row3_col7\" class=\"data row3 col7\" >0.276393</td>\n                        <td id=\"T_08f18_row3_col8\" class=\"data row3 col8\" >0.256948</td>\n                        <td id=\"T_08f18_row3_col9\" class=\"data row3 col9\" >0.451580</td>\n                        <td id=\"T_08f18_row3_col10\" class=\"data row3 col10\" >0.497875</td>\n                        <td id=\"T_08f18_row3_col11\" class=\"data row3 col11\" >0.235696</td>\n                        <td id=\"T_08f18_row3_col12\" class=\"data row3 col12\" >0.301116</td>\n            </tr>\n            <tr>\n                        <th id=\"T_08f18_level0_row4\" class=\"row_heading level0 row4\" >Enrollments-Primary</th>\n                        <td id=\"T_08f18_row4_col0\" class=\"data row4 col0\" >0.546122</td>\n                        <td id=\"T_08f18_row4_col1\" class=\"data row4 col1\" >0.491634</td>\n                        <td id=\"T_08f18_row4_col2\" class=\"data row4 col2\" >0.302703</td>\n                        <td id=\"T_08f18_row4_col3\" class=\"data row4 col3\" >-0.139472</td>\n                        <td id=\"T_08f18_row4_col4\" class=\"data row4 col4\" >1.000000</td>\n                        <td id=\"T_08f18_row4_col5\" class=\"data row4 col5\" >0.725354</td>\n                        <td id=\"T_08f18_row4_col6\" class=\"data row4 col6\" >0.090862</td>\n                        <td id=\"T_08f18_row4_col7\" class=\"data row4 col7\" >-0.209076</td>\n                        <td id=\"T_08f18_row4_col8\" class=\"data row4 col8\" >-0.586416</td>\n                        <td id=\"T_08f18_row4_col9\" class=\"data row4 col9\" >-0.481959</td>\n                        <td id=\"T_08f18_row4_col10\" class=\"data row4 col10\" >-0.426512</td>\n                        <td id=\"T_08f18_row4_col11\" class=\"data row4 col11\" >-0.408371</td>\n                        <td id=\"T_08f18_row4_col12\" class=\"data row4 col12\" >-0.275276</td>\n            </tr>\n            <tr>\n                        <th id=\"T_08f18_level0_row5\" class=\"row_heading level0 row5\" >Enrollments-Upper_Primary</th>\n                        <td id=\"T_08f18_row5_col0\" class=\"data row5 col0\" >0.140328</td>\n                        <td id=\"T_08f18_row5_col1\" class=\"data row5 col1\" >0.171943</td>\n                        <td id=\"T_08f18_row5_col2\" class=\"data row5 col2\" >0.020849</td>\n                        <td id=\"T_08f18_row5_col3\" class=\"data row5 col3\" >0.096330</td>\n                        <td id=\"T_08f18_row5_col4\" class=\"data row5 col4\" >0.725354</td>\n                        <td id=\"T_08f18_row5_col5\" class=\"data row5 col5\" >1.000000</td>\n                        <td id=\"T_08f18_row5_col6\" class=\"data row5 col6\" >0.461776</td>\n                        <td id=\"T_08f18_row5_col7\" class=\"data row5 col7\" >0.069520</td>\n                        <td id=\"T_08f18_row5_col8\" class=\"data row5 col8\" >-0.280033</td>\n                        <td id=\"T_08f18_row5_col9\" class=\"data row5 col9\" >-0.148969</td>\n                        <td id=\"T_08f18_row5_col10\" class=\"data row5 col10\" >-0.129215</td>\n                        <td id=\"T_08f18_row5_col11\" class=\"data row5 col11\" >-0.148616</td>\n                        <td id=\"T_08f18_row5_col12\" class=\"data row5 col12\" >0.032863</td>\n            </tr>\n            <tr>\n                        <th id=\"T_08f18_level0_row6\" class=\"row_heading level0 row6\" >Enrollments-Secondary</th>\n                        <td id=\"T_08f18_row6_col0\" class=\"data row6 col0\" >-0.348632</td>\n                        <td id=\"T_08f18_row6_col1\" class=\"data row6 col1\" >-0.469755</td>\n                        <td id=\"T_08f18_row6_col2\" class=\"data row6 col2\" >-0.551866</td>\n                        <td id=\"T_08f18_row6_col3\" class=\"data row6 col3\" >0.235673</td>\n                        <td id=\"T_08f18_row6_col4\" class=\"data row6 col4\" >0.090862</td>\n                        <td id=\"T_08f18_row6_col5\" class=\"data row6 col5\" >0.461776</td>\n                        <td id=\"T_08f18_row6_col6\" class=\"data row6 col6\" >1.000000</td>\n                        <td id=\"T_08f18_row6_col7\" class=\"data row6 col7\" >0.695333</td>\n                        <td id=\"T_08f18_row6_col8\" class=\"data row6 col8\" >0.330924</td>\n                        <td id=\"T_08f18_row6_col9\" class=\"data row6 col9\" >0.456444</td>\n                        <td id=\"T_08f18_row6_col10\" class=\"data row6 col10\" >0.456628</td>\n                        <td id=\"T_08f18_row6_col11\" class=\"data row6 col11\" >0.259627</td>\n                        <td id=\"T_08f18_row6_col12\" class=\"data row6 col12\" >0.428636</td>\n            </tr>\n            <tr>\n                        <th id=\"T_08f18_level0_row7\" class=\"row_heading level0 row7\" >Enrollments-Higher_Secondary</th>\n                        <td id=\"T_08f18_row7_col0\" class=\"data row7 col0\" >-0.430200</td>\n                        <td id=\"T_08f18_row7_col1\" class=\"data row7 col1\" >-0.650274</td>\n                        <td id=\"T_08f18_row7_col2\" class=\"data row7 col2\" >-0.945864</td>\n                        <td id=\"T_08f18_row7_col3\" class=\"data row7 col3\" >0.276393</td>\n                        <td id=\"T_08f18_row7_col4\" class=\"data row7 col4\" >-0.209076</td>\n                        <td id=\"T_08f18_row7_col5\" class=\"data row7 col5\" >0.069520</td>\n                        <td id=\"T_08f18_row7_col6\" class=\"data row7 col6\" >0.695333</td>\n                        <td id=\"T_08f18_row7_col7\" class=\"data row7 col7\" >1.000000</td>\n                        <td id=\"T_08f18_row7_col8\" class=\"data row7 col8\" >0.442021</td>\n                        <td id=\"T_08f18_row7_col9\" class=\"data row7 col9\" >0.524396</td>\n                        <td id=\"T_08f18_row7_col10\" class=\"data row7 col10\" >0.553717</td>\n                        <td id=\"T_08f18_row7_col11\" class=\"data row7 col11\" >0.373720</td>\n                        <td id=\"T_08f18_row7_col12\" class=\"data row7 col12\" >0.382429</td>\n            </tr>\n            <tr>\n                        <th id=\"T_08f18_level0_row8\" class=\"row_heading level0 row8\" >Drinking water</th>\n                        <td id=\"T_08f18_row8_col0\" class=\"data row8 col0\" >-0.798247</td>\n                        <td id=\"T_08f18_row8_col1\" class=\"data row8 col1\" >-0.640407</td>\n                        <td id=\"T_08f18_row8_col2\" class=\"data row8 col2\" >-0.444591</td>\n                        <td id=\"T_08f18_row8_col3\" class=\"data row8 col3\" >0.256948</td>\n                        <td id=\"T_08f18_row8_col4\" class=\"data row8 col4\" >-0.586416</td>\n                        <td id=\"T_08f18_row8_col5\" class=\"data row8 col5\" >-0.280033</td>\n                        <td id=\"T_08f18_row8_col6\" class=\"data row8 col6\" >0.330924</td>\n                        <td id=\"T_08f18_row8_col7\" class=\"data row8 col7\" >0.442021</td>\n                        <td id=\"T_08f18_row8_col8\" class=\"data row8 col8\" >1.000000</td>\n                        <td id=\"T_08f18_row8_col9\" class=\"data row8 col9\" >0.865238</td>\n                        <td id=\"T_08f18_row8_col10\" class=\"data row8 col10\" >0.748390</td>\n                        <td id=\"T_08f18_row8_col11\" class=\"data row8 col11\" >0.696139</td>\n                        <td id=\"T_08f18_row8_col12\" class=\"data row8 col12\" >0.636747</td>\n            </tr>\n            <tr>\n                        <th id=\"T_08f18_level0_row9\" class=\"row_heading level0 row9\" >Electricity</th>\n                        <td id=\"T_08f18_row9_col0\" class=\"data row9 col0\" >-0.718789</td>\n                        <td id=\"T_08f18_row9_col1\" class=\"data row9 col1\" >-0.595619</td>\n                        <td id=\"T_08f18_row9_col2\" class=\"data row9 col2\" >-0.543557</td>\n                        <td id=\"T_08f18_row9_col3\" class=\"data row9 col3\" >0.451580</td>\n                        <td id=\"T_08f18_row9_col4\" class=\"data row9 col4\" >-0.481959</td>\n                        <td id=\"T_08f18_row9_col5\" class=\"data row9 col5\" >-0.148969</td>\n                        <td id=\"T_08f18_row9_col6\" class=\"data row9 col6\" >0.456444</td>\n                        <td id=\"T_08f18_row9_col7\" class=\"data row9 col7\" >0.524396</td>\n                        <td id=\"T_08f18_row9_col8\" class=\"data row9 col8\" >0.865238</td>\n                        <td id=\"T_08f18_row9_col9\" class=\"data row9 col9\" >1.000000</td>\n                        <td id=\"T_08f18_row9_col10\" class=\"data row9 col10\" >0.878351</td>\n                        <td id=\"T_08f18_row9_col11\" class=\"data row9 col11\" >0.642424</td>\n                        <td id=\"T_08f18_row9_col12\" class=\"data row9 col12\" >0.704691</td>\n            </tr>\n            <tr>\n                        <th id=\"T_08f18_level0_row10\" class=\"row_heading level0 row10\" >Computer</th>\n                        <td id=\"T_08f18_row10_col0\" class=\"data row10 col0\" >-0.614355</td>\n                        <td id=\"T_08f18_row10_col1\" class=\"data row10 col1\" >-0.549292</td>\n                        <td id=\"T_08f18_row10_col2\" class=\"data row10 col2\" >-0.556757</td>\n                        <td id=\"T_08f18_row10_col3\" class=\"data row10 col3\" >0.497875</td>\n                        <td id=\"T_08f18_row10_col4\" class=\"data row10 col4\" >-0.426512</td>\n                        <td id=\"T_08f18_row10_col5\" class=\"data row10 col5\" >-0.129215</td>\n                        <td id=\"T_08f18_row10_col6\" class=\"data row10 col6\" >0.456628</td>\n                        <td id=\"T_08f18_row10_col7\" class=\"data row10 col7\" >0.553717</td>\n                        <td id=\"T_08f18_row10_col8\" class=\"data row10 col8\" >0.748390</td>\n                        <td id=\"T_08f18_row10_col9\" class=\"data row10 col9\" >0.878351</td>\n                        <td id=\"T_08f18_row10_col10\" class=\"data row10 col10\" >1.000000</td>\n                        <td id=\"T_08f18_row10_col11\" class=\"data row10 col11\" >0.648551</td>\n                        <td id=\"T_08f18_row10_col12\" class=\"data row10 col12\" >0.690509</td>\n            </tr>\n            <tr>\n                        <th id=\"T_08f18_level0_row11\" class=\"row_heading level0 row11\" >Boys toilet</th>\n                        <td id=\"T_08f18_row11_col0\" class=\"data row11 col0\" >-0.535910</td>\n                        <td id=\"T_08f18_row11_col1\" class=\"data row11 col1\" >-0.590341</td>\n                        <td id=\"T_08f18_row11_col2\" class=\"data row11 col2\" >-0.462975</td>\n                        <td id=\"T_08f18_row11_col3\" class=\"data row11 col3\" >0.235696</td>\n                        <td id=\"T_08f18_row11_col4\" class=\"data row11 col4\" >-0.408371</td>\n                        <td id=\"T_08f18_row11_col5\" class=\"data row11 col5\" >-0.148616</td>\n                        <td id=\"T_08f18_row11_col6\" class=\"data row11 col6\" >0.259627</td>\n                        <td id=\"T_08f18_row11_col7\" class=\"data row11 col7\" >0.373720</td>\n                        <td id=\"T_08f18_row11_col8\" class=\"data row11 col8\" >0.696139</td>\n                        <td id=\"T_08f18_row11_col9\" class=\"data row11 col9\" >0.642424</td>\n                        <td id=\"T_08f18_row11_col10\" class=\"data row11 col10\" >0.648551</td>\n                        <td id=\"T_08f18_row11_col11\" class=\"data row11 col11\" >1.000000</td>\n                        <td id=\"T_08f18_row11_col12\" class=\"data row11 col12\" >0.874460</td>\n            </tr>\n            <tr>\n                        <th id=\"T_08f18_level0_row12\" class=\"row_heading level0 row12\" >Girls toilet</th>\n                        <td id=\"T_08f18_row12_col0\" class=\"data row12 col0\" >-0.429225</td>\n                        <td id=\"T_08f18_row12_col1\" class=\"data row12 col1\" >-0.480315</td>\n                        <td id=\"T_08f18_row12_col2\" class=\"data row12 col2\" >-0.415749</td>\n                        <td id=\"T_08f18_row12_col3\" class=\"data row12 col3\" >0.301116</td>\n                        <td id=\"T_08f18_row12_col4\" class=\"data row12 col4\" >-0.275276</td>\n                        <td id=\"T_08f18_row12_col5\" class=\"data row12 col5\" >0.032863</td>\n                        <td id=\"T_08f18_row12_col6\" class=\"data row12 col6\" >0.428636</td>\n                        <td id=\"T_08f18_row12_col7\" class=\"data row12 col7\" >0.382429</td>\n                        <td id=\"T_08f18_row12_col8\" class=\"data row12 col8\" >0.636747</td>\n                        <td id=\"T_08f18_row12_col9\" class=\"data row12 col9\" >0.704691</td>\n                        <td id=\"T_08f18_row12_col10\" class=\"data row12 col10\" >0.690509</td>\n                        <td id=\"T_08f18_row12_col11\" class=\"data row12 col11\" >0.874460</td>\n                        <td id=\"T_08f18_row12_col12\" class=\"data row12 col12\" >1.000000</td>\n            </tr>\n    </tbody></table>"
     },
     "metadata": {},
     "execution_count": 356
    }
   ],
   "source": [
    "dataset.corr(method='spearman').style.background_gradient(cmap='coolwarm')"
   ]
  },
  {
   "source": [
    "### Observations\n",
    "\n",
    "* Dropouts are negatively correlated with factors. Children need more care. They need drinking water because they play a lot. If there isn't electricity, India primarily being a tropical country,discourage them to come to schools. WRITE BETTER AND FOR THE OTHER POINTS\n",
    "* Correlation with dropouts reduces with increasing age of students\n",
    "* Same thing observed in enrollments"
   ],
   "cell_type": "markdown",
   "metadata": {}
  },
  {
   "source": [
    "# Test hypothesis by testing with two samples from upper and lower samples"
   ],
   "cell_type": "markdown",
   "metadata": {}
  },
  {
   "source": [
    "## Checking feature importance"
   ],
   "cell_type": "markdown",
   "metadata": {}
  },
  {
   "cell_type": "code",
   "execution_count": 357,
   "metadata": {},
   "outputs": [
    {
     "output_type": "execute_result",
     "data": {
      "text/plain": [
       "                              Explained variance  \\\n",
       "Feature                                            \n",
       "Dropout-PRIMARY                        67.467485   \n",
       "Dropout-UPPER_PRIMARY                  10.564140   \n",
       "Dropout-SECONDARY                       4.784083   \n",
       "Dropout-HRSECONDARY                     4.027713   \n",
       "Enrollments-Primary                     3.904819   \n",
       "Enrollments-Upper_Primary               2.150093   \n",
       "Enrollments-Secondary                   1.967697   \n",
       "Enrollments-Higher_Secondary            1.378449   \n",
       "Drinking water                          1.288027   \n",
       "Electricity                             1.009495   \n",
       "Computer                                0.702714   \n",
       "Boys toilet                             0.485171   \n",
       "Girls toilet                            0.270112   \n",
       "\n",
       "                              Cumulative explained variance  \n",
       "Feature                                                      \n",
       "Dropout-PRIMARY                                   67.467485  \n",
       "Dropout-UPPER_PRIMARY                             78.031625  \n",
       "Dropout-SECONDARY                                 82.815709  \n",
       "Dropout-HRSECONDARY                               86.843422  \n",
       "Enrollments-Primary                               90.748241  \n",
       "Enrollments-Upper_Primary                         92.898334  \n",
       "Enrollments-Secondary                             94.866031  \n",
       "Enrollments-Higher_Secondary                      96.244480  \n",
       "Drinking water                                    97.532508  \n",
       "Electricity                                       98.542002  \n",
       "Computer                                          99.244717  \n",
       "Boys toilet                                       99.729888  \n",
       "Girls toilet                                     100.000000  "
      ],
      "text/html": "<div>\n<style scoped>\n    .dataframe tbody tr th:only-of-type {\n        vertical-align: middle;\n    }\n\n    .dataframe tbody tr th {\n        vertical-align: top;\n    }\n\n    .dataframe thead th {\n        text-align: right;\n    }\n</style>\n<table border=\"1\" class=\"dataframe\">\n  <thead>\n    <tr style=\"text-align: right;\">\n      <th></th>\n      <th>Explained variance</th>\n      <th>Cumulative explained variance</th>\n    </tr>\n    <tr>\n      <th>Feature</th>\n      <th></th>\n      <th></th>\n    </tr>\n  </thead>\n  <tbody>\n    <tr>\n      <th>Dropout-PRIMARY</th>\n      <td>67.467485</td>\n      <td>67.467485</td>\n    </tr>\n    <tr>\n      <th>Dropout-UPPER_PRIMARY</th>\n      <td>10.564140</td>\n      <td>78.031625</td>\n    </tr>\n    <tr>\n      <th>Dropout-SECONDARY</th>\n      <td>4.784083</td>\n      <td>82.815709</td>\n    </tr>\n    <tr>\n      <th>Dropout-HRSECONDARY</th>\n      <td>4.027713</td>\n      <td>86.843422</td>\n    </tr>\n    <tr>\n      <th>Enrollments-Primary</th>\n      <td>3.904819</td>\n      <td>90.748241</td>\n    </tr>\n    <tr>\n      <th>Enrollments-Upper_Primary</th>\n      <td>2.150093</td>\n      <td>92.898334</td>\n    </tr>\n    <tr>\n      <th>Enrollments-Secondary</th>\n      <td>1.967697</td>\n      <td>94.866031</td>\n    </tr>\n    <tr>\n      <th>Enrollments-Higher_Secondary</th>\n      <td>1.378449</td>\n      <td>96.244480</td>\n    </tr>\n    <tr>\n      <th>Drinking water</th>\n      <td>1.288027</td>\n      <td>97.532508</td>\n    </tr>\n    <tr>\n      <th>Electricity</th>\n      <td>1.009495</td>\n      <td>98.542002</td>\n    </tr>\n    <tr>\n      <th>Computer</th>\n      <td>0.702714</td>\n      <td>99.244717</td>\n    </tr>\n    <tr>\n      <th>Boys toilet</th>\n      <td>0.485171</td>\n      <td>99.729888</td>\n    </tr>\n    <tr>\n      <th>Girls toilet</th>\n      <td>0.270112</td>\n      <td>100.000000</td>\n    </tr>\n  </tbody>\n</table>\n</div>"
     },
     "metadata": {},
     "execution_count": 357
    }
   ],
   "source": [
    "#Using SVD\n",
    "\n",
    "vals=np.array(dataset)\n",
    "u,sig,v_t=np.linalg.svd(vals)\n",
    "feature_imp=pd.Series(sig,index=list(dataset.columns))\n",
    "feature_imp.index.name=\"Feature\"\n",
    "feature_imp.name=\"Explained variance\"\n",
    "var_exp=pd.DataFrame(feature_imp)\n",
    "tot=var_exp['Explained variance'].sum()\n",
    "var_exp['Explained variance'] = var_exp['Explained variance']/tot*100\n",
    "var_exp.sort_values(['Explained variance'],ascending=False,inplace=True)\n",
    "\n",
    "exp_var=[]\n",
    "for i in range(1,var_exp.shape[0]+1):\n",
    "    exp_var.append(var_exp['Explained variance'].iloc[0:i].sum())\n",
    "pd.concat([var_exp,pd.DataFrame(exp_var,index=var_exp.index, columns=['Cumulative explained variance'])],axis=1)"
   ]
  },
  {
   "cell_type": "code",
   "execution_count": 358,
   "metadata": {},
   "outputs": [],
   "source": [
    "from sklearn.preprocessing import MinMaxScaler\n",
    "mm=MinMaxScaler()\n",
    "dataset=pd.DataFrame(mm.fit_transform(dataset),columns=list(dataset.columns))"
   ]
  },
  {
   "source": [
    "# Overall ranking of states"
   ],
   "cell_type": "markdown",
   "metadata": {}
  },
  {
   "cell_type": "code",
   "execution_count": 362,
   "metadata": {},
   "outputs": [
    {
     "output_type": "execute_result",
     "data": {
      "text/plain": [
       "                           Overall score\n",
       "State                                   \n",
       "Delhi                           0.689531\n",
       "Mizoram                         0.651740\n",
       "Sikkim                          0.647587\n",
       "Lakshadweep                     0.600114\n",
       "Chandigarh                      0.580263\n",
       "Manipur                         0.574625\n",
       "Puducherry                      0.571594\n",
       "Himachal Pradesh                0.569865\n",
       "Goa                             0.565119\n",
       "Kerala                          0.559142\n",
       "Andaman & Nicobar Islands       0.555215\n",
       "Punjab                          0.549891\n",
       "Gujarat                         0.538401\n",
       "Tamil Nadu                      0.532861\n",
       "Daman & Diu                     0.525155\n",
       "Karnataka                       0.521511\n",
       "Nagaland                        0.512605\n",
       "Maharashtra                     0.511831\n",
       "Haryana                         0.510203\n",
       "Telangana                       0.502434\n",
       "Arunachal Pradesh               0.497037\n",
       "Uttarakhand                     0.489005\n",
       "Dadra & Nagar Haveli            0.485867\n",
       "Tripura                         0.475372\n",
       "West Bengal                     0.464528\n",
       "Madhya Pradesh                  0.463579\n",
       "Chhattisgarh                    0.459069\n",
       "Rajasthan                       0.448294\n",
       "Uttar Pradesh                   0.407168\n",
       "Jharkhand                       0.401345\n",
       "Odisha                          0.380366\n",
       "Andhra Pradesh                  0.368387\n",
       "Assam                           0.357527\n",
       "Jammu And Kashmir               0.329173\n",
       "Meghalaya                       0.317446\n",
       "Bihar                           0.268769"
      ],
      "text/html": "<div>\n<style scoped>\n    .dataframe tbody tr th:only-of-type {\n        vertical-align: middle;\n    }\n\n    .dataframe tbody tr th {\n        vertical-align: top;\n    }\n\n    .dataframe thead th {\n        text-align: right;\n    }\n</style>\n<table border=\"1\" class=\"dataframe\">\n  <thead>\n    <tr style=\"text-align: right;\">\n      <th></th>\n      <th>Overall score</th>\n    </tr>\n    <tr>\n      <th>State</th>\n      <th></th>\n    </tr>\n  </thead>\n  <tbody>\n    <tr>\n      <th>Delhi</th>\n      <td>0.689531</td>\n    </tr>\n    <tr>\n      <th>Mizoram</th>\n      <td>0.651740</td>\n    </tr>\n    <tr>\n      <th>Sikkim</th>\n      <td>0.647587</td>\n    </tr>\n    <tr>\n      <th>Lakshadweep</th>\n      <td>0.600114</td>\n    </tr>\n    <tr>\n      <th>Chandigarh</th>\n      <td>0.580263</td>\n    </tr>\n    <tr>\n      <th>Manipur</th>\n      <td>0.574625</td>\n    </tr>\n    <tr>\n      <th>Puducherry</th>\n      <td>0.571594</td>\n    </tr>\n    <tr>\n      <th>Himachal Pradesh</th>\n      <td>0.569865</td>\n    </tr>\n    <tr>\n      <th>Goa</th>\n      <td>0.565119</td>\n    </tr>\n    <tr>\n      <th>Kerala</th>\n      <td>0.559142</td>\n    </tr>\n    <tr>\n      <th>Andaman &amp; Nicobar Islands</th>\n      <td>0.555215</td>\n    </tr>\n    <tr>\n      <th>Punjab</th>\n      <td>0.549891</td>\n    </tr>\n    <tr>\n      <th>Gujarat</th>\n      <td>0.538401</td>\n    </tr>\n    <tr>\n      <th>Tamil Nadu</th>\n      <td>0.532861</td>\n    </tr>\n    <tr>\n      <th>Daman &amp; Diu</th>\n      <td>0.525155</td>\n    </tr>\n    <tr>\n      <th>Karnataka</th>\n      <td>0.521511</td>\n    </tr>\n    <tr>\n      <th>Nagaland</th>\n      <td>0.512605</td>\n    </tr>\n    <tr>\n      <th>Maharashtra</th>\n      <td>0.511831</td>\n    </tr>\n    <tr>\n      <th>Haryana</th>\n      <td>0.510203</td>\n    </tr>\n    <tr>\n      <th>Telangana</th>\n      <td>0.502434</td>\n    </tr>\n    <tr>\n      <th>Arunachal Pradesh</th>\n      <td>0.497037</td>\n    </tr>\n    <tr>\n      <th>Uttarakhand</th>\n      <td>0.489005</td>\n    </tr>\n    <tr>\n      <th>Dadra &amp; Nagar Haveli</th>\n      <td>0.485867</td>\n    </tr>\n    <tr>\n      <th>Tripura</th>\n      <td>0.475372</td>\n    </tr>\n    <tr>\n      <th>West Bengal</th>\n      <td>0.464528</td>\n    </tr>\n    <tr>\n      <th>Madhya Pradesh</th>\n      <td>0.463579</td>\n    </tr>\n    <tr>\n      <th>Chhattisgarh</th>\n      <td>0.459069</td>\n    </tr>\n    <tr>\n      <th>Rajasthan</th>\n      <td>0.448294</td>\n    </tr>\n    <tr>\n      <th>Uttar Pradesh</th>\n      <td>0.407168</td>\n    </tr>\n    <tr>\n      <th>Jharkhand</th>\n      <td>0.401345</td>\n    </tr>\n    <tr>\n      <th>Odisha</th>\n      <td>0.380366</td>\n    </tr>\n    <tr>\n      <th>Andhra Pradesh</th>\n      <td>0.368387</td>\n    </tr>\n    <tr>\n      <th>Assam</th>\n      <td>0.357527</td>\n    </tr>\n    <tr>\n      <th>Jammu And Kashmir</th>\n      <td>0.329173</td>\n    </tr>\n    <tr>\n      <th>Meghalaya</th>\n      <td>0.317446</td>\n    </tr>\n    <tr>\n      <th>Bihar</th>\n      <td>0.268769</td>\n    </tr>\n  </tbody>\n</table>\n</div>"
     },
     "metadata": {},
     "execution_count": 362
    }
   ],
   "source": [
    "states['Overall score']=dataset.mean(axis=1)\n",
    "\n",
    "states.set_index('State').sort_values(['Overall score'],ascending=False) "
   ]
  },
  {
   "source": [
    "# Finding out outliers"
   ],
   "cell_type": "markdown",
   "metadata": {}
  },
  {
   "cell_type": "code",
   "execution_count": 363,
   "metadata": {},
   "outputs": [
    {
     "output_type": "stream",
     "name": "stderr",
     "text": [
      "c:\\Users\\ADMIN\\Documents\\Codebase\\envs\\machine_L\\lib\\site-packages\\seaborn\\_decorators.py:36: FutureWarning:\n\nPass the following variable as a keyword arg: x. From version 0.12, the only valid positional argument will be `data`, and passing other arguments without an explicit keyword will result in an error or misinterpretation.\n\n"
     ]
    },
    {
     "output_type": "execute_result",
     "data": {
      "text/plain": [
       "Text(0.25, 0.2, 'Bihar')"
      ]
     },
     "metadata": {},
     "execution_count": 363
    },
    {
     "output_type": "display_data",
     "data": {
      "text/plain": "<Figure size 432x288 with 1 Axes>",
      "image/svg+xml": "<?xml version=\"1.0\" encoding=\"utf-8\" standalone=\"no\"?>\r\n<!DOCTYPE svg PUBLIC \"-//W3C//DTD SVG 1.1//EN\"\r\n  \"http://www.w3.org/Graphics/SVG/1.1/DTD/svg11.dtd\">\r\n<svg height=\"284.988625pt\" version=\"1.1\" viewBox=\"0 0 392.789929 284.988625\" width=\"392.789929pt\" xmlns=\"http://www.w3.org/2000/svg\" xmlns:xlink=\"http://www.w3.org/1999/xlink\">\r\n <metadata>\r\n  <rdf:RDF xmlns:cc=\"http://creativecommons.org/ns#\" xmlns:dc=\"http://purl.org/dc/elements/1.1/\" xmlns:rdf=\"http://www.w3.org/1999/02/22-rdf-syntax-ns#\">\r\n   <cc:Work>\r\n    <dc:type rdf:resource=\"http://purl.org/dc/dcmitype/StillImage\"/>\r\n    <dc:date>2021-05-28T11:13:40.892635</dc:date>\r\n    <dc:format>image/svg+xml</dc:format>\r\n    <dc:creator>\r\n     <cc:Agent>\r\n      <dc:title>Matplotlib v3.4.2, https://matplotlib.org/</dc:title>\r\n     </cc:Agent>\r\n    </dc:creator>\r\n   </cc:Work>\r\n  </rdf:RDF>\r\n </metadata>\r\n <defs>\r\n  <style type=\"text/css\">*{stroke-linecap:butt;stroke-linejoin:round;}</style>\r\n </defs>\r\n <g id=\"figure_1\">\r\n  <g id=\"patch_1\">\r\n   <path d=\"M 0 284.988625 \r\nL 392.789929 284.988625 \r\nL 392.789929 0 \r\nL 0 0 \r\nz\r\n\" style=\"fill:#f0f0f0;\"/>\r\n  </g>\r\n  <g id=\"axes_1\">\r\n   <g id=\"patch_2\">\r\n    <path d=\"M 7.2 240.48 \r\nL 383.04 240.48 \r\nL 383.04 7.2 \r\nL 7.2 7.2 \r\nz\r\n\" style=\"fill:#f0f0f0;\"/>\r\n   </g>\r\n   <g id=\"matplotlib.axis_1\">\r\n    <g id=\"xtick_1\">\r\n     <g id=\"line2d_1\">\r\n      <path clip-path=\"url(#pde0f6bb02d)\" d=\"M 49.643976 240.48 \r\nL 49.643976 7.2 \r\n\" style=\"fill:none;stroke:#cbcbcb;\"/>\r\n     </g>\r\n     <g id=\"line2d_2\"/>\r\n     <g id=\"text_1\">\r\n      <!-- 0.3 -->\r\n      <g transform=\"translate(38.511789 254.617813)scale(0.14 -0.14)\">\r\n       <defs>\r\n        <path d=\"M 2034 4250 \r\nQ 1547 4250 1301 3770 \r\nQ 1056 3291 1056 2328 \r\nQ 1056 1369 1301 889 \r\nQ 1547 409 2034 409 \r\nQ 2525 409 2770 889 \r\nQ 3016 1369 3016 2328 \r\nQ 3016 3291 2770 3770 \r\nQ 2525 4250 2034 4250 \r\nz\r\nM 2034 4750 \r\nQ 2819 4750 3233 4129 \r\nQ 3647 3509 3647 2328 \r\nQ 3647 1150 3233 529 \r\nQ 2819 -91 2034 -91 \r\nQ 1250 -91 836 529 \r\nQ 422 1150 422 2328 \r\nQ 422 3509 836 4129 \r\nQ 1250 4750 2034 4750 \r\nz\r\n\" id=\"DejaVuSans-30\" transform=\"scale(0.015625)\"/>\r\n        <path d=\"M 684 794 \r\nL 1344 794 \r\nL 1344 0 \r\nL 684 0 \r\nL 684 794 \r\nz\r\n\" id=\"DejaVuSans-2e\" transform=\"scale(0.015625)\"/>\r\n        <path d=\"M 2597 2516 \r\nQ 3050 2419 3304 2112 \r\nQ 3559 1806 3559 1356 \r\nQ 3559 666 3084 287 \r\nQ 2609 -91 1734 -91 \r\nQ 1441 -91 1130 -33 \r\nQ 819 25 488 141 \r\nL 488 750 \r\nQ 750 597 1062 519 \r\nQ 1375 441 1716 441 \r\nQ 2309 441 2620 675 \r\nQ 2931 909 2931 1356 \r\nQ 2931 1769 2642 2001 \r\nQ 2353 2234 1838 2234 \r\nL 1294 2234 \r\nL 1294 2753 \r\nL 1863 2753 \r\nQ 2328 2753 2575 2939 \r\nQ 2822 3125 2822 3475 \r\nQ 2822 3834 2567 4026 \r\nQ 2313 4219 1838 4219 \r\nQ 1578 4219 1281 4162 \r\nQ 984 4106 628 3988 \r\nL 628 4550 \r\nQ 988 4650 1302 4700 \r\nQ 1616 4750 1894 4750 \r\nQ 2613 4750 3031 4423 \r\nQ 3450 4097 3450 3541 \r\nQ 3450 3153 3228 2886 \r\nQ 3006 2619 2597 2516 \r\nz\r\n\" id=\"DejaVuSans-33\" transform=\"scale(0.015625)\"/>\r\n       </defs>\r\n       <use xlink:href=\"#DejaVuSans-30\"/>\r\n       <use x=\"63.623047\" xlink:href=\"#DejaVuSans-2e\"/>\r\n       <use x=\"95.410156\" xlink:href=\"#DejaVuSans-33\"/>\r\n      </g>\r\n     </g>\r\n    </g>\r\n    <g id=\"xtick_2\">\r\n     <g id=\"line2d_3\">\r\n      <path clip-path=\"url(#pde0f6bb02d)\" d=\"M 130.847417 240.48 \r\nL 130.847417 7.2 \r\n\" style=\"fill:none;stroke:#cbcbcb;\"/>\r\n     </g>\r\n     <g id=\"line2d_4\"/>\r\n     <g id=\"text_2\">\r\n      <!-- 0.4 -->\r\n      <g transform=\"translate(119.71523 254.617813)scale(0.14 -0.14)\">\r\n       <defs>\r\n        <path d=\"M 2419 4116 \r\nL 825 1625 \r\nL 2419 1625 \r\nL 2419 4116 \r\nz\r\nM 2253 4666 \r\nL 3047 4666 \r\nL 3047 1625 \r\nL 3713 1625 \r\nL 3713 1100 \r\nL 3047 1100 \r\nL 3047 0 \r\nL 2419 0 \r\nL 2419 1100 \r\nL 313 1100 \r\nL 313 1709 \r\nL 2253 4666 \r\nz\r\n\" id=\"DejaVuSans-34\" transform=\"scale(0.015625)\"/>\r\n       </defs>\r\n       <use xlink:href=\"#DejaVuSans-30\"/>\r\n       <use x=\"63.623047\" xlink:href=\"#DejaVuSans-2e\"/>\r\n       <use x=\"95.410156\" xlink:href=\"#DejaVuSans-34\"/>\r\n      </g>\r\n     </g>\r\n    </g>\r\n    <g id=\"xtick_3\">\r\n     <g id=\"line2d_5\">\r\n      <path clip-path=\"url(#pde0f6bb02d)\" d=\"M 212.050859 240.48 \r\nL 212.050859 7.2 \r\n\" style=\"fill:none;stroke:#cbcbcb;\"/>\r\n     </g>\r\n     <g id=\"line2d_6\"/>\r\n     <g id=\"text_3\">\r\n      <!-- 0.5 -->\r\n      <g transform=\"translate(200.918671 254.617813)scale(0.14 -0.14)\">\r\n       <defs>\r\n        <path d=\"M 691 4666 \r\nL 3169 4666 \r\nL 3169 4134 \r\nL 1269 4134 \r\nL 1269 2991 \r\nQ 1406 3038 1543 3061 \r\nQ 1681 3084 1819 3084 \r\nQ 2600 3084 3056 2656 \r\nQ 3513 2228 3513 1497 \r\nQ 3513 744 3044 326 \r\nQ 2575 -91 1722 -91 \r\nQ 1428 -91 1123 -41 \r\nQ 819 9 494 109 \r\nL 494 744 \r\nQ 775 591 1075 516 \r\nQ 1375 441 1709 441 \r\nQ 2250 441 2565 725 \r\nQ 2881 1009 2881 1497 \r\nQ 2881 1984 2565 2268 \r\nQ 2250 2553 1709 2553 \r\nQ 1456 2553 1204 2497 \r\nQ 953 2441 691 2322 \r\nL 691 4666 \r\nz\r\n\" id=\"DejaVuSans-35\" transform=\"scale(0.015625)\"/>\r\n       </defs>\r\n       <use xlink:href=\"#DejaVuSans-30\"/>\r\n       <use x=\"63.623047\" xlink:href=\"#DejaVuSans-2e\"/>\r\n       <use x=\"95.410156\" xlink:href=\"#DejaVuSans-35\"/>\r\n      </g>\r\n     </g>\r\n    </g>\r\n    <g id=\"xtick_4\">\r\n     <g id=\"line2d_7\">\r\n      <path clip-path=\"url(#pde0f6bb02d)\" d=\"M 293.2543 240.48 \r\nL 293.2543 7.2 \r\n\" style=\"fill:none;stroke:#cbcbcb;\"/>\r\n     </g>\r\n     <g id=\"line2d_8\"/>\r\n     <g id=\"text_4\">\r\n      <!-- 0.6 -->\r\n      <g transform=\"translate(282.122113 254.617813)scale(0.14 -0.14)\">\r\n       <defs>\r\n        <path d=\"M 2113 2584 \r\nQ 1688 2584 1439 2293 \r\nQ 1191 2003 1191 1497 \r\nQ 1191 994 1439 701 \r\nQ 1688 409 2113 409 \r\nQ 2538 409 2786 701 \r\nQ 3034 994 3034 1497 \r\nQ 3034 2003 2786 2293 \r\nQ 2538 2584 2113 2584 \r\nz\r\nM 3366 4563 \r\nL 3366 3988 \r\nQ 3128 4100 2886 4159 \r\nQ 2644 4219 2406 4219 \r\nQ 1781 4219 1451 3797 \r\nQ 1122 3375 1075 2522 \r\nQ 1259 2794 1537 2939 \r\nQ 1816 3084 2150 3084 \r\nQ 2853 3084 3261 2657 \r\nQ 3669 2231 3669 1497 \r\nQ 3669 778 3244 343 \r\nQ 2819 -91 2113 -91 \r\nQ 1303 -91 875 529 \r\nQ 447 1150 447 2328 \r\nQ 447 3434 972 4092 \r\nQ 1497 4750 2381 4750 \r\nQ 2619 4750 2861 4703 \r\nQ 3103 4656 3366 4563 \r\nz\r\n\" id=\"DejaVuSans-36\" transform=\"scale(0.015625)\"/>\r\n       </defs>\r\n       <use xlink:href=\"#DejaVuSans-30\"/>\r\n       <use x=\"63.623047\" xlink:href=\"#DejaVuSans-2e\"/>\r\n       <use x=\"95.410156\" xlink:href=\"#DejaVuSans-36\"/>\r\n      </g>\r\n     </g>\r\n    </g>\r\n    <g id=\"xtick_5\">\r\n     <g id=\"line2d_9\">\r\n      <path clip-path=\"url(#pde0f6bb02d)\" d=\"M 374.457741 240.48 \r\nL 374.457741 7.2 \r\n\" style=\"fill:none;stroke:#cbcbcb;\"/>\r\n     </g>\r\n     <g id=\"line2d_10\"/>\r\n     <g id=\"text_5\">\r\n      <!-- 0.7 -->\r\n      <g transform=\"translate(363.325554 254.617813)scale(0.14 -0.14)\">\r\n       <defs>\r\n        <path d=\"M 525 4666 \r\nL 3525 4666 \r\nL 3525 4397 \r\nL 1831 0 \r\nL 1172 0 \r\nL 2766 4134 \r\nL 525 4134 \r\nL 525 4666 \r\nz\r\n\" id=\"DejaVuSans-37\" transform=\"scale(0.015625)\"/>\r\n       </defs>\r\n       <use xlink:href=\"#DejaVuSans-30\"/>\r\n       <use x=\"63.623047\" xlink:href=\"#DejaVuSans-2e\"/>\r\n       <use x=\"95.410156\" xlink:href=\"#DejaVuSans-37\"/>\r\n      </g>\r\n     </g>\r\n    </g>\r\n    <g id=\"text_6\">\r\n     <!-- Overall score -->\r\n     <g transform=\"translate(139.862437 274.29475)scale(0.168 -0.168)\">\r\n      <defs>\r\n       <path d=\"M 2522 4238 \r\nQ 1834 4238 1429 3725 \r\nQ 1025 3213 1025 2328 \r\nQ 1025 1447 1429 934 \r\nQ 1834 422 2522 422 \r\nQ 3209 422 3611 934 \r\nQ 4013 1447 4013 2328 \r\nQ 4013 3213 3611 3725 \r\nQ 3209 4238 2522 4238 \r\nz\r\nM 2522 4750 \r\nQ 3503 4750 4090 4092 \r\nQ 4678 3434 4678 2328 \r\nQ 4678 1225 4090 567 \r\nQ 3503 -91 2522 -91 \r\nQ 1538 -91 948 565 \r\nQ 359 1222 359 2328 \r\nQ 359 3434 948 4092 \r\nQ 1538 4750 2522 4750 \r\nz\r\n\" id=\"DejaVuSans-4f\" transform=\"scale(0.015625)\"/>\r\n       <path d=\"M 191 3500 \r\nL 800 3500 \r\nL 1894 563 \r\nL 2988 3500 \r\nL 3597 3500 \r\nL 2284 0 \r\nL 1503 0 \r\nL 191 3500 \r\nz\r\n\" id=\"DejaVuSans-76\" transform=\"scale(0.015625)\"/>\r\n       <path d=\"M 3597 1894 \r\nL 3597 1613 \r\nL 953 1613 \r\nQ 991 1019 1311 708 \r\nQ 1631 397 2203 397 \r\nQ 2534 397 2845 478 \r\nQ 3156 559 3463 722 \r\nL 3463 178 \r\nQ 3153 47 2828 -22 \r\nQ 2503 -91 2169 -91 \r\nQ 1331 -91 842 396 \r\nQ 353 884 353 1716 \r\nQ 353 2575 817 3079 \r\nQ 1281 3584 2069 3584 \r\nQ 2775 3584 3186 3129 \r\nQ 3597 2675 3597 1894 \r\nz\r\nM 3022 2063 \r\nQ 3016 2534 2758 2815 \r\nQ 2500 3097 2075 3097 \r\nQ 1594 3097 1305 2825 \r\nQ 1016 2553 972 2059 \r\nL 3022 2063 \r\nz\r\n\" id=\"DejaVuSans-65\" transform=\"scale(0.015625)\"/>\r\n       <path d=\"M 2631 2963 \r\nQ 2534 3019 2420 3045 \r\nQ 2306 3072 2169 3072 \r\nQ 1681 3072 1420 2755 \r\nQ 1159 2438 1159 1844 \r\nL 1159 0 \r\nL 581 0 \r\nL 581 3500 \r\nL 1159 3500 \r\nL 1159 2956 \r\nQ 1341 3275 1631 3429 \r\nQ 1922 3584 2338 3584 \r\nQ 2397 3584 2469 3576 \r\nQ 2541 3569 2628 3553 \r\nL 2631 2963 \r\nz\r\n\" id=\"DejaVuSans-72\" transform=\"scale(0.015625)\"/>\r\n       <path d=\"M 2194 1759 \r\nQ 1497 1759 1228 1600 \r\nQ 959 1441 959 1056 \r\nQ 959 750 1161 570 \r\nQ 1363 391 1709 391 \r\nQ 2188 391 2477 730 \r\nQ 2766 1069 2766 1631 \r\nL 2766 1759 \r\nL 2194 1759 \r\nz\r\nM 3341 1997 \r\nL 3341 0 \r\nL 2766 0 \r\nL 2766 531 \r\nQ 2569 213 2275 61 \r\nQ 1981 -91 1556 -91 \r\nQ 1019 -91 701 211 \r\nQ 384 513 384 1019 \r\nQ 384 1609 779 1909 \r\nQ 1175 2209 1959 2209 \r\nL 2766 2209 \r\nL 2766 2266 \r\nQ 2766 2663 2505 2880 \r\nQ 2244 3097 1772 3097 \r\nQ 1472 3097 1187 3025 \r\nQ 903 2953 641 2809 \r\nL 641 3341 \r\nQ 956 3463 1253 3523 \r\nQ 1550 3584 1831 3584 \r\nQ 2591 3584 2966 3190 \r\nQ 3341 2797 3341 1997 \r\nz\r\n\" id=\"DejaVuSans-61\" transform=\"scale(0.015625)\"/>\r\n       <path d=\"M 603 4863 \r\nL 1178 4863 \r\nL 1178 0 \r\nL 603 0 \r\nL 603 4863 \r\nz\r\n\" id=\"DejaVuSans-6c\" transform=\"scale(0.015625)\"/>\r\n       <path id=\"DejaVuSans-20\" transform=\"scale(0.015625)\"/>\r\n       <path d=\"M 2834 3397 \r\nL 2834 2853 \r\nQ 2591 2978 2328 3040 \r\nQ 2066 3103 1784 3103 \r\nQ 1356 3103 1142 2972 \r\nQ 928 2841 928 2578 \r\nQ 928 2378 1081 2264 \r\nQ 1234 2150 1697 2047 \r\nL 1894 2003 \r\nQ 2506 1872 2764 1633 \r\nQ 3022 1394 3022 966 \r\nQ 3022 478 2636 193 \r\nQ 2250 -91 1575 -91 \r\nQ 1294 -91 989 -36 \r\nQ 684 19 347 128 \r\nL 347 722 \r\nQ 666 556 975 473 \r\nQ 1284 391 1588 391 \r\nQ 1994 391 2212 530 \r\nQ 2431 669 2431 922 \r\nQ 2431 1156 2273 1281 \r\nQ 2116 1406 1581 1522 \r\nL 1381 1569 \r\nQ 847 1681 609 1914 \r\nQ 372 2147 372 2553 \r\nQ 372 3047 722 3315 \r\nQ 1072 3584 1716 3584 \r\nQ 2034 3584 2315 3537 \r\nQ 2597 3491 2834 3397 \r\nz\r\n\" id=\"DejaVuSans-73\" transform=\"scale(0.015625)\"/>\r\n       <path d=\"M 3122 3366 \r\nL 3122 2828 \r\nQ 2878 2963 2633 3030 \r\nQ 2388 3097 2138 3097 \r\nQ 1578 3097 1268 2742 \r\nQ 959 2388 959 1747 \r\nQ 959 1106 1268 751 \r\nQ 1578 397 2138 397 \r\nQ 2388 397 2633 464 \r\nQ 2878 531 3122 666 \r\nL 3122 134 \r\nQ 2881 22 2623 -34 \r\nQ 2366 -91 2075 -91 \r\nQ 1284 -91 818 406 \r\nQ 353 903 353 1747 \r\nQ 353 2603 823 3093 \r\nQ 1294 3584 2113 3584 \r\nQ 2378 3584 2631 3529 \r\nQ 2884 3475 3122 3366 \r\nz\r\n\" id=\"DejaVuSans-63\" transform=\"scale(0.015625)\"/>\r\n       <path d=\"M 1959 3097 \r\nQ 1497 3097 1228 2736 \r\nQ 959 2375 959 1747 \r\nQ 959 1119 1226 758 \r\nQ 1494 397 1959 397 \r\nQ 2419 397 2687 759 \r\nQ 2956 1122 2956 1747 \r\nQ 2956 2369 2687 2733 \r\nQ 2419 3097 1959 3097 \r\nz\r\nM 1959 3584 \r\nQ 2709 3584 3137 3096 \r\nQ 3566 2609 3566 1747 \r\nQ 3566 888 3137 398 \r\nQ 2709 -91 1959 -91 \r\nQ 1206 -91 779 398 \r\nQ 353 888 353 1747 \r\nQ 353 2609 779 3096 \r\nQ 1206 3584 1959 3584 \r\nz\r\n\" id=\"DejaVuSans-6f\" transform=\"scale(0.015625)\"/>\r\n      </defs>\r\n      <use xlink:href=\"#DejaVuSans-4f\"/>\r\n      <use x=\"78.710938\" xlink:href=\"#DejaVuSans-76\"/>\r\n      <use x=\"137.890625\" xlink:href=\"#DejaVuSans-65\"/>\r\n      <use x=\"199.414062\" xlink:href=\"#DejaVuSans-72\"/>\r\n      <use x=\"240.527344\" xlink:href=\"#DejaVuSans-61\"/>\r\n      <use x=\"301.806641\" xlink:href=\"#DejaVuSans-6c\"/>\r\n      <use x=\"329.589844\" xlink:href=\"#DejaVuSans-6c\"/>\r\n      <use x=\"357.373047\" xlink:href=\"#DejaVuSans-20\"/>\r\n      <use x=\"389.160156\" xlink:href=\"#DejaVuSans-73\"/>\r\n      <use x=\"441.259766\" xlink:href=\"#DejaVuSans-63\"/>\r\n      <use x=\"496.240234\" xlink:href=\"#DejaVuSans-6f\"/>\r\n      <use x=\"557.421875\" xlink:href=\"#DejaVuSans-72\"/>\r\n      <use x=\"596.285156\" xlink:href=\"#DejaVuSans-65\"/>\r\n     </g>\r\n    </g>\r\n   </g>\r\n   <g id=\"matplotlib.axis_2\">\r\n    <g id=\"ytick_1\">\r\n     <g id=\"line2d_11\"/>\r\n    </g>\r\n   </g>\r\n   <g id=\"patch_3\">\r\n    <path clip-path=\"url(#pde0f6bb02d)\" d=\"M 176.626367 30.528 \r\nL 176.626367 217.152 \r\nL 261.289376 217.152 \r\nL 261.289376 30.528 \r\nL 176.626367 30.528 \r\nz\r\n\" style=\"fill:#1b86ba;stroke:#404040;stroke-linejoin:miter;stroke-width:4;\"/>\r\n   </g>\r\n   <g id=\"line2d_12\">\r\n    <path clip-path=\"url(#pde0f6bb02d)\" d=\"M 176.626367 123.84 \r\nL 63.810766 123.84 \r\n\" style=\"fill:none;stroke:#404040;stroke-width:4;\"/>\r\n   </g>\r\n   <g id=\"line2d_13\">\r\n    <path clip-path=\"url(#pde0f6bb02d)\" d=\"M 261.289376 123.84 \r\nL 365.956364 123.84 \r\n\" style=\"fill:none;stroke:#404040;stroke-width:4;\"/>\r\n   </g>\r\n   <g id=\"line2d_14\">\r\n    <path clip-path=\"url(#pde0f6bb02d)\" d=\"M 63.810766 77.184 \r\nL 63.810766 170.496 \r\n\" style=\"fill:none;stroke:#404040;stroke-width:4;\"/>\r\n   </g>\r\n   <g id=\"line2d_15\">\r\n    <path clip-path=\"url(#pde0f6bb02d)\" d=\"M 365.956364 77.184 \r\nL 365.956364 170.496 \r\n\" style=\"fill:none;stroke:#404040;stroke-width:4;\"/>\r\n   </g>\r\n   <g id=\"line2d_16\">\r\n    <defs>\r\n     <path d=\"M 0 3.535534 \r\nL 2.12132 0 \r\nL 0 -3.535534 \r\nL -2.12132 0 \r\nz\r\n\" id=\"mdfa90961e7\" style=\"stroke:#404040;stroke-linejoin:miter;\"/>\r\n    </defs>\r\n    <g clip-path=\"url(#pde0f6bb02d)\">\r\n     <use style=\"fill:#404040;stroke:#404040;stroke-linejoin:miter;\" x=\"24.283636\" xlink:href=\"#mdfa90961e7\" y=\"123.84\"/>\r\n    </g>\r\n   </g>\r\n   <g id=\"line2d_17\">\r\n    <path clip-path=\"url(#pde0f6bb02d)\" d=\"M 220.996879 30.528 \r\nL 220.996879 217.152 \r\n\" style=\"fill:none;stroke:#404040;stroke-width:4;\"/>\r\n   </g>\r\n   <g id=\"patch_4\">\r\n    <path d=\"M 7.2 240.48 \r\nL 7.2 7.2 \r\n\" style=\"fill:none;stroke:#f0f0f0;stroke-linecap:square;stroke-linejoin:miter;stroke-width:3;\"/>\r\n   </g>\r\n   <g id=\"patch_5\">\r\n    <path d=\"M 383.04 240.48 \r\nL 383.04 7.2 \r\n\" style=\"fill:none;stroke:#f0f0f0;stroke-linecap:square;stroke-linejoin:miter;stroke-width:3;\"/>\r\n   </g>\r\n   <g id=\"patch_6\">\r\n    <path d=\"M 7.2 240.48 \r\nL 383.04 240.48 \r\n\" style=\"fill:none;stroke:#f0f0f0;stroke-linecap:square;stroke-linejoin:miter;stroke-width:3;\"/>\r\n   </g>\r\n   <g id=\"patch_7\">\r\n    <path d=\"M 7.2 7.2 \r\nL 383.04 7.2 \r\n\" style=\"fill:none;stroke:#f0f0f0;stroke-linecap:square;stroke-linejoin:miter;stroke-width:3;\"/>\r\n   </g>\r\n   <g id=\"text_7\">\r\n    <!-- Bihar -->\r\n    <g transform=\"translate(9.042255 170.496)scale(0.14 -0.14)\">\r\n     <defs>\r\n      <path d=\"M 1259 2228 \r\nL 1259 519 \r\nL 2272 519 \r\nQ 2781 519 3026 730 \r\nQ 3272 941 3272 1375 \r\nQ 3272 1813 3026 2020 \r\nQ 2781 2228 2272 2228 \r\nL 1259 2228 \r\nz\r\nM 1259 4147 \r\nL 1259 2741 \r\nL 2194 2741 \r\nQ 2656 2741 2882 2914 \r\nQ 3109 3088 3109 3444 \r\nQ 3109 3797 2882 3972 \r\nQ 2656 4147 2194 4147 \r\nL 1259 4147 \r\nz\r\nM 628 4666 \r\nL 2241 4666 \r\nQ 2963 4666 3353 4366 \r\nQ 3744 4066 3744 3513 \r\nQ 3744 3084 3544 2831 \r\nQ 3344 2578 2956 2516 \r\nQ 3422 2416 3680 2098 \r\nQ 3938 1781 3938 1306 \r\nQ 3938 681 3513 340 \r\nQ 3088 0 2303 0 \r\nL 628 0 \r\nL 628 4666 \r\nz\r\n\" id=\"DejaVuSans-42\" transform=\"scale(0.015625)\"/>\r\n      <path d=\"M 603 3500 \r\nL 1178 3500 \r\nL 1178 0 \r\nL 603 0 \r\nL 603 3500 \r\nz\r\nM 603 4863 \r\nL 1178 4863 \r\nL 1178 4134 \r\nL 603 4134 \r\nL 603 4863 \r\nz\r\n\" id=\"DejaVuSans-69\" transform=\"scale(0.015625)\"/>\r\n      <path d=\"M 3513 2113 \r\nL 3513 0 \r\nL 2938 0 \r\nL 2938 2094 \r\nQ 2938 2591 2744 2837 \r\nQ 2550 3084 2163 3084 \r\nQ 1697 3084 1428 2787 \r\nQ 1159 2491 1159 1978 \r\nL 1159 0 \r\nL 581 0 \r\nL 581 4863 \r\nL 1159 4863 \r\nL 1159 2956 \r\nQ 1366 3272 1645 3428 \r\nQ 1925 3584 2291 3584 \r\nQ 2894 3584 3203 3211 \r\nQ 3513 2838 3513 2113 \r\nz\r\n\" id=\"DejaVuSans-68\" transform=\"scale(0.015625)\"/>\r\n     </defs>\r\n     <use xlink:href=\"#DejaVuSans-42\"/>\r\n     <use x=\"68.603516\" xlink:href=\"#DejaVuSans-69\"/>\r\n     <use x=\"96.386719\" xlink:href=\"#DejaVuSans-68\"/>\r\n     <use x=\"159.765625\" xlink:href=\"#DejaVuSans-61\"/>\r\n     <use x=\"221.044922\" xlink:href=\"#DejaVuSans-72\"/>\r\n    </g>\r\n   </g>\r\n  </g>\r\n </g>\r\n <defs>\r\n  <clipPath id=\"pde0f6bb02d\">\r\n   <rect height=\"233.28\" width=\"375.84\" x=\"7.2\" y=\"7.2\"/>\r\n  </clipPath>\r\n </defs>\r\n</svg>\r\n",
      "image/png": "[encoded data removed]"
     },
     "metadata": {}
    }
   ],
   "source": [
    "sns.boxplot(states['Overall score'])\n",
    "plt.text(0.25,0.2,s=states.iloc[states['Overall score'].argmin()][0])"
   ]
  },
  {
   "source": [
    "## Visualizing the data on the basis of top three features"
   ],
   "cell_type": "markdown",
   "metadata": {}
  },
  {
   "cell_type": "code",
   "execution_count": 361,
   "metadata": {},
   "outputs": [
    {
     "output_type": "display_data",
     "data": {
      "application/vnd.plotly.v1+json": {
       "config": {
        "plotlyServerURL": "https://plot.ly"
       },
       "data": [
        {
         "hovertemplate": "Dropout-SECONDARY=%{x}<br>Dropout-PRIMARY=%{y}<br>Dropout-UPPER_PRIMARY=%{z}<br>State=%{text}<extra></extra>",
         "legendgroup": "",
         "marker": {
          "color": "#636efa",
          "opacity": 0.7,
          "symbol": "circle"
         },
         "mode": "markers+text",
         "name": "",
         "scene": "scene",
         "showlegend": false,
         "text": [
          "Andaman & Nicobar Islands",
          "Andhra Pradesh",
          "Arunachal Pradesh",
          "Assam",
          "Bihar",
          "Chandigarh",
          "Chhattisgarh",
          "Dadra & Nagar Haveli",
          "Daman & Diu",
          "Delhi",
          "Goa",
          "Gujarat",
          "Haryana",
          "Himachal Pradesh",
          "Jammu And Kashmir",
          "Jharkhand",
          "Karnataka",
          "Kerala",
          "Lakshadweep",
          "Madhya Pradesh",
          "Maharashtra",
          "Manipur",
          "Meghalaya",
          "Mizoram",
          "Nagaland",
          "Odisha",
          "Puducherry",
          "Punjab",
          "Rajasthan",
          "Sikkim",
          "Tamil Nadu",
          "Telangana",
          "Tripura",
          "Uttar Pradesh",
          "Uttarakhand",
          "West Bengal"
         ],
         "type": "scatter3d",
         "x": [
          0.17556245151280062,
          0.3186966640806827,
          0.3454615981380915,
          0.6536850271528317,
          0.6312645461598139,
          0,
          0.46183087664856476,
          0.5412723041117145,
          0.49379363847944147,
          0.20193948797517455,
          0.22257564003103178,
          0.46702870442203254,
          0.2899922420480993,
          0.18254460822342902,
          0.3876648564778898,
          0.5093095422808379,
          0.7266873545384019,
          0.2810705973622964,
          0.1743211792086889,
          0.5032583397982933,
          0.3377812257564003,
          0.29433669511249033,
          0.5531419705197828,
          0.48099301784328935,
          0.6194724592707526,
          1,
          0.3230411171450737,
          0.21326609775019395,
          0.3560899922420481,
          0.2948797517455392,
          0.23661753297129556,
          0.4535298681148177,
          0.4151280062063616,
          0.21101629169899144,
          0.2823894491854151,
          0.42055857253685025
         ],
         "y": [
          0.05087979648081409,
          0.3020987916048336,
          0.7816408734365063,
          0.6156455374178503,
          0.04430782276870893,
          0,
          0.17956328174687297,
          0.06444774220903117,
          0.041551833792664826,
          0,
          0.019715921136315456,
          0.05066779732881069,
          0.15497138011447956,
          0.03285986856052576,
          0.39325842696629215,
          0.4049183803264787,
          0.15497138011447956,
          0,
          0.052999788000848,
          0.48420606317574727,
          0.058935764256942975,
          0.7954208183167267,
          0.6347254610981556,
          1,
          0.6803052787788849,
          0.19843120627517488,
          0.029043883824464704,
          0.13419546321814713,
          0.45325418698325204,
          0.22132711469154123,
          0.09582361670553317,
          0.21433114267542927,
          0.3209667161331355,
          0.3565825736697053,
          0.28429086283654864,
          0.13928344286622854
         ],
         "z": [
          0.09632125807357486,
          0.3465318730693626,
          0.5551811288963775,
          0.6953103060937939,
          0.19825891603482174,
          0.045492839090143226,
          0.4231957315360854,
          0.323785453524291,
          0.1873069362538613,
          0.09941027801179446,
          0.0019657399606852013,
          0.4818871103622579,
          0.24768323504633535,
          0.060657118786857644,
          0.4285313114293739,
          0.6144341477113172,
          0.3204156135916878,
          0,
          0.1384442572311149,
          0.8264532434709353,
          0.11625947767481049,
          0.485256950294861,
          0.5956192080876159,
          0.8447065431058695,
          1,
          0.2926144341477114,
          0.05167087896658244,
          0.24852569502948613,
          0.37966863240662746,
          0.2768885144622298,
          0.1617523167649537,
          0.28334737433305257,
          0.16203313675933728,
          0.09435551811288967,
          0.22606009547879816,
          0.36267902274641955
         ]
        }
       ],
       "layout": {
        "height": 720,
        "legend": {
         "tracegroupgap": 0
        },
        "margin": {
         "t": 60
        },
        "scene": {
         "domain": {
          "x": [
           0,
           1
          ],
          "y": [
           0,
           1
          ]
         },
         "xaxis": {
          "title": {
           "text": "Dropout-SECONDARY"
          }
         },
         "yaxis": {
          "title": {
           "text": "Dropout-PRIMARY"
          }
         },
         "zaxis": {
          "title": {
           "text": "Dropout-UPPER_PRIMARY"
          }
         }
        },
        "template": {
         "data": {
          "bar": [
           {
            "error_x": {
             "color": "#2a3f5f"
            },
            "error_y": {
             "color": "#2a3f5f"
            },
            "marker": {
             "line": {
              "color": "#E5ECF6",
              "width": 0.5
             }
            },
            "type": "bar"
           }
          ],
          "barpolar": [
           {
            "marker": {
             "line": {
              "color": "#E5ECF6",
              "width": 0.5
             }
            },
            "type": "barpolar"
           }
          ],
          "carpet": [
           {
            "aaxis": {
             "endlinecolor": "#2a3f5f",
             "gridcolor": "white",
             "linecolor": "white",
             "minorgridcolor": "white",
             "startlinecolor": "#2a3f5f"
            },
            "baxis": {
             "endlinecolor": "#2a3f5f",
             "gridcolor": "white",
             "linecolor": "white",
             "minorgridcolor": "white",
             "startlinecolor": "#2a3f5f"
            },
            "type": "carpet"
           }
          ],
          "choropleth": [
           {
            "colorbar": {
             "outlinewidth": 0,
             "ticks": ""
            },
            "type": "choropleth"
           }
          ],
          "contour": [
           {
            "colorbar": {
             "outlinewidth": 0,
             "ticks": ""
            },
            "colorscale": [
             [
              0,
              "#0d0887"
             ],
             [
              0.1111111111111111,
              "#46039f"
             ],
             [
              0.2222222222222222,
              "#7201a8"
             ],
             [
              0.3333333333333333,
              "#9c179e"
             ],
             [
              0.4444444444444444,
              "#bd3786"
             ],
             [
              0.5555555555555556,
              "#d8576b"
             ],
             [
              0.6666666666666666,
              "#ed7953"
             ],
             [
              0.7777777777777778,
              "#fb9f3a"
             ],
             [
              0.8888888888888888,
              "#fdca26"
             ],
             [
              1,
              "#f0f921"
             ]
            ],
            "type": "contour"
           }
          ],
          "contourcarpet": [
           {
            "colorbar": {
             "outlinewidth": 0,
             "ticks": ""
            },
            "type": "contourcarpet"
           }
          ],
          "heatmap": [
           {
            "colorbar": {
             "outlinewidth": 0,
             "ticks": ""
            },
            "colorscale": [
             [
              0,
              "#0d0887"
             ],
             [
              0.1111111111111111,
              "#46039f"
             ],
             [
              0.2222222222222222,
              "#7201a8"
             ],
             [
              0.3333333333333333,
              "#9c179e"
             ],
             [
              0.4444444444444444,
              "#bd3786"
             ],
             [
              0.5555555555555556,
              "#d8576b"
             ],
             [
              0.6666666666666666,
              "#ed7953"
             ],
             [
              0.7777777777777778,
              "#fb9f3a"
             ],
             [
              0.8888888888888888,
              "#fdca26"
             ],
             [
              1,
              "#f0f921"
             ]
            ],
            "type": "heatmap"
           }
          ],
          "heatmapgl": [
           {
            "colorbar": {
             "outlinewidth": 0,
             "ticks": ""
            },
            "colorscale": [
             [
              0,
              "#0d0887"
             ],
             [
              0.1111111111111111,
              "#46039f"
             ],
             [
              0.2222222222222222,
              "#7201a8"
             ],
             [
              0.3333333333333333,
              "#9c179e"
             ],
             [
              0.4444444444444444,
              "#bd3786"
             ],
             [
              0.5555555555555556,
              "#d8576b"
             ],
             [
              0.6666666666666666,
              "#ed7953"
             ],
             [
              0.7777777777777778,
              "#fb9f3a"
             ],
             [
              0.8888888888888888,
              "#fdca26"
             ],
             [
              1,
              "#f0f921"
             ]
            ],
            "type": "heatmapgl"
           }
          ],
          "histogram": [
           {
            "marker": {
             "colorbar": {
              "outlinewidth": 0,
              "ticks": ""
             }
            },
            "type": "histogram"
           }
          ],
          "histogram2d": [
           {
            "colorbar": {
             "outlinewidth": 0,
             "ticks": ""
            },
            "colorscale": [
             [
              0,
              "#0d0887"
             ],
             [
              0.1111111111111111,
              "#46039f"
             ],
             [
              0.2222222222222222,
              "#7201a8"
             ],
             [
              0.3333333333333333,
              "#9c179e"
             ],
             [
              0.4444444444444444,
              "#bd3786"
             ],
             [
              0.5555555555555556,
              "#d8576b"
             ],
             [
              0.6666666666666666,
              "#ed7953"
             ],
             [
              0.7777777777777778,
              "#fb9f3a"
             ],
             [
              0.8888888888888888,
              "#fdca26"
             ],
             [
              1,
              "#f0f921"
             ]
            ],
            "type": "histogram2d"
           }
          ],
          "histogram2dcontour": [
           {
            "colorbar": {
             "outlinewidth": 0,
             "ticks": ""
            },
            "colorscale": [
             [
              0,
              "#0d0887"
             ],
             [
              0.1111111111111111,
              "#46039f"
             ],
             [
              0.2222222222222222,
              "#7201a8"
             ],
             [
              0.3333333333333333,
              "#9c179e"
             ],
             [
              0.4444444444444444,
              "#bd3786"
             ],
             [
              0.5555555555555556,
              "#d8576b"
             ],
             [
              0.6666666666666666,
              "#ed7953"
             ],
             [
              0.7777777777777778,
              "#fb9f3a"
             ],
             [
              0.8888888888888888,
              "#fdca26"
             ],
             [
              1,
              "#f0f921"
             ]
            ],
            "type": "histogram2dcontour"
           }
          ],
          "mesh3d": [
           {
            "colorbar": {
             "outlinewidth": 0,
             "ticks": ""
            },
            "type": "mesh3d"
           }
          ],
          "parcoords": [
           {
            "line": {
             "colorbar": {
              "outlinewidth": 0,
              "ticks": ""
             }
            },
            "type": "parcoords"
           }
          ],
          "pie": [
           {
            "automargin": true,
            "type": "pie"
           }
          ],
          "scatter": [
           {
            "marker": {
             "colorbar": {
              "outlinewidth": 0,
              "ticks": ""
             }
            },
            "type": "scatter"
           }
          ],
          "scatter3d": [
           {
            "line": {
             "colorbar": {
              "outlinewidth": 0,
              "ticks": ""
             }
            },
            "marker": {
             "colorbar": {
              "outlinewidth": 0,
              "ticks": ""
             }
            },
            "type": "scatter3d"
           }
          ],
          "scattercarpet": [
           {
            "marker": {
             "colorbar": {
              "outlinewidth": 0,
              "ticks": ""
             }
            },
            "type": "scattercarpet"
           }
          ],
          "scattergeo": [
           {
            "marker": {
             "colorbar": {
              "outlinewidth": 0,
              "ticks": ""
             }
            },
            "type": "scattergeo"
           }
          ],
          "scattergl": [
           {
            "marker": {
             "colorbar": {
              "outlinewidth": 0,
              "ticks": ""
             }
            },
            "type": "scattergl"
           }
          ],
          "scattermapbox": [
           {
            "marker": {
             "colorbar": {
              "outlinewidth": 0,
              "ticks": ""
             }
            },
            "type": "scattermapbox"
           }
          ],
          "scatterpolar": [
           {
            "marker": {
             "colorbar": {
              "outlinewidth": 0,
              "ticks": ""
             }
            },
            "type": "scatterpolar"
           }
          ],
          "scatterpolargl": [
           {
            "marker": {
             "colorbar": {
              "outlinewidth": 0,
              "ticks": ""
             }
            },
            "type": "scatterpolargl"
           }
          ],
          "scatterternary": [
           {
            "marker": {
             "colorbar": {
              "outlinewidth": 0,
              "ticks": ""
             }
            },
            "type": "scatterternary"
           }
          ],
          "surface": [
           {
            "colorbar": {
             "outlinewidth": 0,
             "ticks": ""
            },
            "colorscale": [
             [
              0,
              "#0d0887"
             ],
             [
              0.1111111111111111,
              "#46039f"
             ],
             [
              0.2222222222222222,
              "#7201a8"
             ],
             [
              0.3333333333333333,
              "#9c179e"
             ],
             [
              0.4444444444444444,
              "#bd3786"
             ],
             [
              0.5555555555555556,
              "#d8576b"
             ],
             [
              0.6666666666666666,
              "#ed7953"
             ],
             [
              0.7777777777777778,
              "#fb9f3a"
             ],
             [
              0.8888888888888888,
              "#fdca26"
             ],
             [
              1,
              "#f0f921"
             ]
            ],
            "type": "surface"
           }
          ],
          "table": [
           {
            "cells": {
             "fill": {
              "color": "#EBF0F8"
             },
             "line": {
              "color": "white"
             }
            },
            "header": {
             "fill": {
              "color": "#C8D4E3"
             },
             "line": {
              "color": "white"
             }
            },
            "type": "table"
           }
          ]
         },
         "layout": {
          "annotationdefaults": {
           "arrowcolor": "#2a3f5f",
           "arrowhead": 0,
           "arrowwidth": 1
          },
          "autotypenumbers": "strict",
          "coloraxis": {
           "colorbar": {
            "outlinewidth": 0,
            "ticks": ""
           }
          },
          "colorscale": {
           "diverging": [
            [
             0,
             "#8e0152"
            ],
            [
             0.1,
             "#c51b7d"
            ],
            [
             0.2,
             "#de77ae"
            ],
            [
             0.3,
             "#f1b6da"
            ],
            [
             0.4,
             "#fde0ef"
            ],
            [
             0.5,
             "#f7f7f7"
            ],
            [
             0.6,
             "#e6f5d0"
            ],
            [
             0.7,
             "#b8e186"
            ],
            [
             0.8,
             "#7fbc41"
            ],
            [
             0.9,
             "#4d9221"
            ],
            [
             1,
             "#276419"
            ]
           ],
           "sequential": [
            [
             0,
             "#0d0887"
            ],
            [
             0.1111111111111111,
             "#46039f"
            ],
            [
             0.2222222222222222,
             "#7201a8"
            ],
            [
             0.3333333333333333,
             "#9c179e"
            ],
            [
             0.4444444444444444,
             "#bd3786"
            ],
            [
             0.5555555555555556,
             "#d8576b"
            ],
            [
             0.6666666666666666,
             "#ed7953"
            ],
            [
             0.7777777777777778,
             "#fb9f3a"
            ],
            [
             0.8888888888888888,
             "#fdca26"
            ],
            [
             1,
             "#f0f921"
            ]
           ],
           "sequentialminus": [
            [
             0,
             "#0d0887"
            ],
            [
             0.1111111111111111,
             "#46039f"
            ],
            [
             0.2222222222222222,
             "#7201a8"
            ],
            [
             0.3333333333333333,
             "#9c179e"
            ],
            [
             0.4444444444444444,
             "#bd3786"
            ],
            [
             0.5555555555555556,
             "#d8576b"
            ],
            [
             0.6666666666666666,
             "#ed7953"
            ],
            [
             0.7777777777777778,
             "#fb9f3a"
            ],
            [
             0.8888888888888888,
             "#fdca26"
            ],
            [
             1,
             "#f0f921"
            ]
           ]
          },
          "colorway": [
           "#636efa",
           "#EF553B",
           "#00cc96",
           "#ab63fa",
           "#FFA15A",
           "#19d3f3",
           "#FF6692",
           "#B6E880",
           "#FF97FF",
           "#FECB52"
          ],
          "font": {
           "color": "#2a3f5f"
          },
          "geo": {
           "bgcolor": "white",
           "lakecolor": "white",
           "landcolor": "#E5ECF6",
           "showlakes": true,
           "showland": true,
           "subunitcolor": "white"
          },
          "hoverlabel": {
           "align": "left"
          },
          "hovermode": "closest",
          "mapbox": {
           "style": "light"
          },
          "paper_bgcolor": "white",
          "plot_bgcolor": "#E5ECF6",
          "polar": {
           "angularaxis": {
            "gridcolor": "white",
            "linecolor": "white",
            "ticks": ""
           },
           "bgcolor": "#E5ECF6",
           "radialaxis": {
            "gridcolor": "white",
            "linecolor": "white",
            "ticks": ""
           }
          },
          "scene": {
           "xaxis": {
            "backgroundcolor": "#E5ECF6",
            "gridcolor": "white",
            "gridwidth": 2,
            "linecolor": "white",
            "showbackground": true,
            "ticks": "",
            "zerolinecolor": "white"
           },
           "yaxis": {
            "backgroundcolor": "#E5ECF6",
            "gridcolor": "white",
            "gridwidth": 2,
            "linecolor": "white",
            "showbackground": true,
            "ticks": "",
            "zerolinecolor": "white"
           },
           "zaxis": {
            "backgroundcolor": "#E5ECF6",
            "gridcolor": "white",
            "gridwidth": 2,
            "linecolor": "white",
            "showbackground": true,
            "ticks": "",
            "zerolinecolor": "white"
           }
          },
          "shapedefaults": {
           "line": {
            "color": "#2a3f5f"
           }
          },
          "ternary": {
           "aaxis": {
            "gridcolor": "white",
            "linecolor": "white",
            "ticks": ""
           },
           "baxis": {
            "gridcolor": "white",
            "linecolor": "white",
            "ticks": ""
           },
           "bgcolor": "#E5ECF6",
           "caxis": {
            "gridcolor": "white",
            "linecolor": "white",
            "ticks": ""
           }
          },
          "title": {
           "x": 0.05
          },
          "xaxis": {
           "automargin": true,
           "gridcolor": "white",
           "linecolor": "white",
           "ticks": "",
           "title": {
            "standoff": 15
           },
           "zerolinecolor": "white",
           "zerolinewidth": 2
          },
          "yaxis": {
           "automargin": true,
           "gridcolor": "white",
           "linecolor": "white",
           "ticks": "",
           "title": {
            "standoff": 15
           },
           "zerolinecolor": "white",
           "zerolinewidth": 2
          }
         }
        },
        "width": 1200
       }
      }
     },
     "metadata": {}
    }
   ],
   "source": [
    "import plotly.express as px\n",
    "fig = px.scatter_3d(clusters, y='Dropout-PRIMARY', z='Dropout-UPPER_PRIMARY', x='Dropout-SECONDARY', opacity=0.7,text='State')\n",
    "fig.update_layout(width=1200, height=720)"
   ]
  },
  {
   "cell_type": "code",
   "execution_count": null,
   "metadata": {},
   "outputs": [],
   "source": []
  }
 ]
}