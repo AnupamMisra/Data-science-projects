{
 "metadata": {
  "language_info": {
   "codemirror_mode": {
    "name": "ipython",
    "version": 3
   },
   "file_extension": ".py",
   "mimetype": "text/x-python",
   "name": "python",
   "nbconvert_exporter": "python",
   "pygments_lexer": "ipython3",
   "version": "3.9.5"
  },
  "orig_nbformat": 2,
  "kernelspec": {
   "name": "python395jvsc74a57bd062a490a61034db1e8b6e05e6e999b5629625384177f9d8186b44b788547d5428",
   "display_name": "Python 3.9.5 64-bit ('machine_L': venv)"
  }
 },
 "nbformat": 4,
 "nbformat_minor": 2,
 "cells": [
  {
   "source": [
    "# Initialization\n"
   ],
   "cell_type": "markdown",
   "metadata": {}
  },
  {
   "source": [
    "## Importing the libraries"
   ],
   "cell_type": "markdown",
   "metadata": {}
  },
  {
   "cell_type": "code",
   "execution_count": 149,
   "metadata": {},
   "outputs": [],
   "source": [
    "import numpy as np \n",
    "import pandas as pd \n",
    "from sklearn.cluster import KMeans\n",
    "from sklearn.metrics import silhouette_samples,silhouette_score\n",
    "import matplotlib.pyplot as plt \n",
    "from mpl_toolkits import mplot3d\n",
    "import seaborn as sns\n",
    "import plotly.express as px\n",
    "%matplotlib inline\n",
    "import scipy.stats\n",
    "plt.style.use('fivethirtyeight')\n",
    "pd.set_option('display.max_columns', 500)"
   ]
  },
  {
   "source": [
    "## Loading the data"
   ],
   "cell_type": "markdown",
   "metadata": {}
  },
  {
   "cell_type": "code",
   "execution_count": 187,
   "metadata": {},
   "outputs": [],
   "source": [
    "dropout = pd.read_excel(r\"C:/Users/ADMIN/Documents/Codebase/Data-science-projects/Education/data/dropout.xls\")\n",
    "enrollments = pd.read_excel(r\"C:/Users/ADMIN/Documents/Codebase/Data-science-projects/Education/data/enrollment.xls\")\n",
    "drinks = pd.read_excel(r\"C:/Users/ADMIN/Documents/Codebase/Data-science-projects/Education/data/drinking_water.xls\")\n",
    "computers = pd.read_excel(r\"C:/Users/ADMIN/Documents/Codebase/Data-science-projects/Education/data/computers.xls\")\n",
    "electricity = pd.read_excel(r\"C:/Users/ADMIN/Documents/Codebase/Data-science-projects/Education/data/electricity.xls\")\n",
    "boys_toilet = pd.read_excel(r\"C:/Users/ADMIN/Documents/Codebase/Data-science-projects/Education/data/boys_toilet.xls\")\n",
    "girls_toilet = pd.read_excel(r\"C:/Users/ADMIN/Documents/Codebase/Data-science-projects/Education/data/girls_toilet.xls\")\n",
    "ptr= pd.read_excel(r\"C:/Users/ADMIN/Documents/Codebase/Data-science-projects/Education/data/pupil_teacher.xls\")"
   ]
  },
  {
   "source": [
    "# Data preparation"
   ],
   "cell_type": "markdown",
   "metadata": {}
  },
  {
   "cell_type": "code",
   "execution_count": 151,
   "metadata": {},
   "outputs": [],
   "source": [
    "def returner(xx):\n",
    "    x=[]\n",
    "    for i in range(36):\n",
    "        x.append(xx[['State','All Schools']].loc[3*i])  \n",
    "    x=pd.DataFrame(x)\n",
    "    x.set_index('State', inplace=True)\n",
    "    return x"
   ]
  },
  {
   "cell_type": "code",
   "execution_count": 152,
   "metadata": {},
   "outputs": [],
   "source": [
    "enrollments['Higher_Secondary_Boys']=enrollments['Higher_Secondary_Boys'].astype('float')\n",
    "enrollments['Higher_Secondary_Girls']=enrollments['Higher_Secondary_Girls'].astype('int')\n",
    "enrollments['Higher_Secondary_Total']=enrollments['Higher_Secondary_Total'].astype('int')   \n",
    "drinks=returner(drinks)\n",
    "drinks.columns=['Drinking water']\n",
    "electricity=returner(electricity)\n",
    "electricity.columns=['Electricity']\n",
    "computers=returner(computers)\n",
    "computers.columns=[\"Computer\"]\n",
    "boys_t=returner(boys_toilet)\n",
    "boys_t.columns=['Boys toilet']\n",
    "girls_t=returner(girls_toilet)\n",
    "girls_t.columns=['Girls toilet']\n",
    "factors=pd.concat([drinks,electricity,computers,boys_t,girls_t],axis=1)\n",
    "factors.reset_index(inplace=True)"
   ]
  },
  {
   "cell_type": "code",
   "execution_count": 153,
   "metadata": {},
   "outputs": [],
   "source": [
    "states=[]\n",
    "for i in range(36):\n",
    "    states.append(dropout.State.iloc[3*i])\n",
    "states=pd.DataFrame(states, columns=['State'])\n",
    "\n",
    "def create_aggregate(inp):\n",
    "    inp.drop(['State','Year'],axis=1,inplace=True)\n",
    "\n",
    "    x=pd.DataFrame()\n",
    "    for i in range(36):\n",
    "        x[i]=inp.iloc[3*i+0:i*3+3,:].mean()\n",
    "    x=x.transpose() \n",
    "    return x"
   ]
  },
  {
   "cell_type": "code",
   "execution_count": 154,
   "metadata": {},
   "outputs": [],
   "source": [
    "dropouts_x = create_aggregate(dropout)\n",
    "enrollments_x=create_aggregate(enrollments)"
   ]
  },
  {
   "source": [
    "# Data exploration"
   ],
   "cell_type": "markdown",
   "metadata": {}
  },
  {
   "cell_type": "code",
   "execution_count": 155,
   "metadata": {},
   "outputs": [
    {
     "output_type": "stream",
     "name": "stdout",
     "text": [
      "\n Correlation between enrollment rates at different stages of schooling\n\n"
     ]
    },
    {
     "output_type": "execute_result",
     "data": {
      "text/plain": [
       "<pandas.io.formats.style.Styler at 0x289ff00b340>"
      ],
      "text/html": "<style  type=\"text/css\" >\n#T_bc019_row0_col0,#T_bc019_row1_col1,#T_bc019_row2_col2,#T_bc019_row3_col3{\n            background-color:  #b40426;\n            color:  #f1f1f1;\n        }#T_bc019_row0_col1{\n            background-color:  #f7b89c;\n            color:  #000000;\n        }#T_bc019_row0_col2,#T_bc019_row0_col3,#T_bc019_row3_col0,#T_bc019_row3_col1{\n            background-color:  #3b4cc0;\n            color:  #f1f1f1;\n        }#T_bc019_row1_col0{\n            background-color:  #f49a7b;\n            color:  #000000;\n        }#T_bc019_row1_col2{\n            background-color:  #cdd9ec;\n            color:  #000000;\n        }#T_bc019_row1_col3{\n            background-color:  #89acfd;\n            color:  #000000;\n        }#T_bc019_row2_col0{\n            background-color:  #97b8ff;\n            color:  #000000;\n        }#T_bc019_row2_col1{\n            background-color:  #d5dbe5;\n            color:  #000000;\n        }#T_bc019_row2_col3{\n            background-color:  #f6a586;\n            color:  #000000;\n        }#T_bc019_row3_col2{\n            background-color:  #f3c8b2;\n            color:  #000000;\n        }</style><table id=\"T_bc019_\" ><thead>    <tr>        <th class=\"blank level0\" ></th>        <th class=\"col_heading level0 col0\" >Primary_Total</th>        <th class=\"col_heading level0 col1\" >Upper_Primary_Total</th>        <th class=\"col_heading level0 col2\" >Secondary_Total</th>        <th class=\"col_heading level0 col3\" >Higher_Secondary_Total</th>    </tr></thead><tbody>\n                <tr>\n                        <th id=\"T_bc019_level0_row0\" class=\"row_heading level0 row0\" >Primary_Total</th>\n                        <td id=\"T_bc019_row0_col0\" class=\"data row0 col0\" >1.000000</td>\n                        <td id=\"T_bc019_row0_col1\" class=\"data row0 col1\" >0.691324</td>\n                        <td id=\"T_bc019_row0_col2\" class=\"data row0 col2\" >0.122769</td>\n                        <td id=\"T_bc019_row0_col3\" class=\"data row0 col3\" >-0.216003</td>\n            </tr>\n            <tr>\n                        <th id=\"T_bc019_level0_row1\" class=\"row_heading level0 row1\" >Upper_Primary_Total</th>\n                        <td id=\"T_bc019_row1_col0\" class=\"data row1 col0\" >0.691324</td>\n                        <td id=\"T_bc019_row1_col1\" class=\"data row1 col1\" >1.000000</td>\n                        <td id=\"T_bc019_row1_col2\" class=\"data row1 col2\" >0.513059</td>\n                        <td id=\"T_bc019_row1_col3\" class=\"data row1 col3\" >0.076870</td>\n            </tr>\n            <tr>\n                        <th id=\"T_bc019_level0_row2\" class=\"row_heading level0 row2\" >Secondary_Total</th>\n                        <td id=\"T_bc019_row2_col0\" class=\"data row2 col0\" >0.122769</td>\n                        <td id=\"T_bc019_row2_col1\" class=\"data row2 col1\" >0.513059</td>\n                        <td id=\"T_bc019_row2_col2\" class=\"data row2 col2\" >1.000000</td>\n                        <td id=\"T_bc019_row2_col3\" class=\"data row2 col3\" >0.659823</td>\n            </tr>\n            <tr>\n                        <th id=\"T_bc019_level0_row3\" class=\"row_heading level0 row3\" >Higher_Secondary_Total</th>\n                        <td id=\"T_bc019_row3_col0\" class=\"data row3 col0\" >-0.216003</td>\n                        <td id=\"T_bc019_row3_col1\" class=\"data row3 col1\" >0.076870</td>\n                        <td id=\"T_bc019_row3_col2\" class=\"data row3 col2\" >0.659823</td>\n                        <td id=\"T_bc019_row3_col3\" class=\"data row3 col3\" >1.000000</td>\n            </tr>\n    </tbody></table>"
     },
     "metadata": {},
     "execution_count": 155
    }
   ],
   "source": [
    "print(\"\\n Correlation between enrollment rates at different stages of schooling\\n\")\n",
    "enrollments[['Primary_Total', 'Upper_Primary_Total', 'Secondary_Total','Higher_Secondary_Total']].corr(method='spearman').style.background_gradient(cmap='coolwarm')"
   ]
  },
  {
   "source": [
    "### Observations\n",
    "* There is moderate positive correlation between `primary` and `upper primary` dropouts\n",
    "* There is moderate positive correlation between `secondary` and `higher secondary` dropouts\n",
    "\n",
    "Probably in similar states students dropout during the lower classes, and in other similar states the dropout rate is higher in the upper classes."
   ],
   "cell_type": "markdown",
   "metadata": {}
  },
  {
   "cell_type": "code",
   "execution_count": 156,
   "metadata": {},
   "outputs": [
    {
     "output_type": "stream",
     "name": "stdout",
     "text": [
      "\n Correlation between dropout rates at different stages of schooling\n\n"
     ]
    },
    {
     "output_type": "execute_result",
     "data": {
      "text/plain": [
       "<pandas.io.formats.style.Styler at 0x289ff00b400>"
      ],
      "text/html": "<style  type=\"text/css\" >\n#T_c14fc_row0_col0,#T_c14fc_row1_col1,#T_c14fc_row2_col2,#T_c14fc_row3_col3{\n            background-color:  #b40426;\n            color:  #f1f1f1;\n        }#T_c14fc_row0_col1{\n            background-color:  #f18d6f;\n            color:  #000000;\n        }#T_c14fc_row0_col2{\n            background-color:  #d7dce3;\n            color:  #000000;\n        }#T_c14fc_row0_col3,#T_c14fc_row3_col0,#T_c14fc_row3_col1,#T_c14fc_row3_col2{\n            background-color:  #3b4cc0;\n            color:  #f1f1f1;\n        }#T_c14fc_row1_col0{\n            background-color:  #ee8468;\n            color:  #000000;\n        }#T_c14fc_row1_col2{\n            background-color:  #f7b89c;\n            color:  #000000;\n        }#T_c14fc_row1_col3{\n            background-color:  #5572df;\n            color:  #000000;\n        }#T_c14fc_row2_col0{\n            background-color:  #dfdbd9;\n            color:  #000000;\n        }#T_c14fc_row2_col1{\n            background-color:  #f7bca1;\n            color:  #000000;\n        }#T_c14fc_row2_col3{\n            background-color:  #4b64d5;\n            color:  #f1f1f1;\n        }</style><table id=\"T_c14fc_\" ><thead>    <tr>        <th class=\"blank level0\" ></th>        <th class=\"col_heading level0 col0\" >PRIMARY_TOTAL</th>        <th class=\"col_heading level0 col1\" >UPPER_PRIMARY_TOTAL</th>        <th class=\"col_heading level0 col2\" >SECONDARY_TOTAL</th>        <th class=\"col_heading level0 col3\" >HRSECONDARY_TOTAL</th>    </tr></thead><tbody>\n                <tr>\n                        <th id=\"T_c14fc_level0_row0\" class=\"row_heading level0 row0\" >PRIMARY_TOTAL</th>\n                        <td id=\"T_c14fc_row0_col0\" class=\"data row0 col0\" >1.000000</td>\n                        <td id=\"T_c14fc_row0_col1\" class=\"data row0 col1\" >0.748033</td>\n                        <td id=\"T_c14fc_row0_col2\" class=\"data row0 col2\" >0.384132</td>\n                        <td id=\"T_c14fc_row0_col3\" class=\"data row0 col3\" >-0.255152</td>\n            </tr>\n            <tr>\n                        <th id=\"T_c14fc_level0_row1\" class=\"row_heading level0 row1\" >UPPER_PRIMARY_TOTAL</th>\n                        <td id=\"T_c14fc_row1_col0\" class=\"data row1 col0\" >0.748033</td>\n                        <td id=\"T_c14fc_row1_col1\" class=\"data row1 col1\" >1.000000</td>\n                        <td id=\"T_c14fc_row1_col2\" class=\"data row1 col2\" >0.605983</td>\n                        <td id=\"T_c14fc_row1_col3\" class=\"data row1 col3\" >-0.144547</td>\n            </tr>\n            <tr>\n                        <th id=\"T_c14fc_level0_row2\" class=\"row_heading level0 row2\" >SECONDARY_TOTAL</th>\n                        <td id=\"T_c14fc_row2_col0\" class=\"data row2 col0\" >0.384132</td>\n                        <td id=\"T_c14fc_row2_col1\" class=\"data row2 col1\" >0.605983</td>\n                        <td id=\"T_c14fc_row2_col2\" class=\"data row2 col2\" >1.000000</td>\n                        <td id=\"T_c14fc_row2_col3\" class=\"data row2 col3\" >-0.183079</td>\n            </tr>\n            <tr>\n                        <th id=\"T_c14fc_level0_row3\" class=\"row_heading level0 row3\" >HRSECONDARY_TOTAL</th>\n                        <td id=\"T_c14fc_row3_col0\" class=\"data row3 col0\" >-0.255152</td>\n                        <td id=\"T_c14fc_row3_col1\" class=\"data row3 col1\" >-0.144547</td>\n                        <td id=\"T_c14fc_row3_col2\" class=\"data row3 col2\" >-0.183079</td>\n                        <td id=\"T_c14fc_row3_col3\" class=\"data row3 col3\" >1.000000</td>\n            </tr>\n    </tbody></table>"
     },
     "metadata": {},
     "execution_count": 156
    }
   ],
   "source": [
    "print(\"\\n Correlation between dropout rates at different stages of schooling\\n\")\n",
    "dropout[['PRIMARY_TOTAL', 'UPPER_PRIMARY_TOTAL', 'SECONDARY_TOTAL','HRSECONDARY_TOTAL']].corr(method='spearman').style.background_gradient(cmap='coolwarm')"
   ]
  },
  {
   "source": [
    "### Observations\n",
    "\n",
    "* Dropouts in `primary` and `upper primary` are positively correlated. We need to do further analysis."
   ],
   "cell_type": "markdown",
   "metadata": {}
  },
  {
   "cell_type": "code",
   "execution_count": 157,
   "metadata": {},
   "outputs": [
    {
     "output_type": "execute_result",
     "data": {
      "text/plain": [
       "Text(0.5, 0.98, 'Analysis on dropout and enrollment rates')"
      ]
     },
     "metadata": {},
     "execution_count": 157
    },
    {
     "output_type": "display_data",
     "data": {
      "text/plain": "<Figure size 1584x720 with 4 Axes>",
      "image/svg+xml": "<?xml version=\"1.0\" encoding=\"utf-8\" standalone=\"no\"?>\r\n<!DOCTYPE svg PUBLIC \"-//W3C//DTD SVG 1.1//EN\"\r\n  \"http://www.w3.org/Graphics/SVG/1.1/DTD/svg11.dtd\">\r\n<svg height=\"706.908625pt\" version=\"1.1\" viewBox=\"0 0 1541.383938 706.908625\" width=\"1541.383938pt\" xmlns=\"http://www.w3.org/2000/svg\" xmlns:xlink=\"http://www.w3.org/1999/xlink\">\r\n <metadata>\r\n  <rdf:RDF xmlns:cc=\"http://creativecommons.org/ns#\" xmlns:dc=\"http://purl.org/dc/elements/1.1/\" xmlns:rdf=\"http://www.w3.org/1999/02/22-rdf-syntax-ns#\">\r\n   <cc:Work>\r\n    <dc:type rdf:resource=\"http://purl.org/dc/dcmitype/StillImage\"/>\r\n    <dc:date>2021-05-28T19:36:01.781528</dc:date>\r\n    <dc:format>image/svg+xml</dc:format>\r\n    <dc:creator>\r\n     <cc:Agent>\r\n      <dc:title>Matplotlib v3.4.2, https://matplotlib.org/</dc:title>\r\n     </cc:Agent>\r\n    </dc:creator>\r\n   </cc:Work>\r\n  </rdf:RDF>\r\n </metadata>\r\n <defs>\r\n  <style type=\"text/css\">*{stroke-linecap:butt;stroke-linejoin:round;}</style>\r\n </defs>\r\n <g id=\"figure_1\">\r\n  <g id=\"patch_1\">\r\n   <path d=\"M -0 706.908625 \r\nL 1541.383938 706.908625 \r\nL 1541.383938 0 \r\nL -0 0 \r\nz\r\n\" style=\"fill:#f0f0f0;\"/>\r\n  </g>\r\n  <g id=\"axes_1\">\r\n   <g id=\"patch_2\">\r\n    <path d=\"M 156.103938 344.290909 \r\nL 782.503938 344.290909 \r\nL 782.503938 79.2 \r\nL 156.103938 79.2 \r\nz\r\n\" style=\"fill:#f0f0f0;\"/>\r\n   </g>\r\n   <g id=\"matplotlib.axis_1\">\r\n    <g id=\"xtick_1\">\r\n     <g id=\"line2d_1\">\r\n      <path clip-path=\"url(#p01e10f81a5)\" d=\"M 236.328566 344.290909 \r\nL 236.328566 79.2 \r\n\" style=\"fill:none;stroke:#cbcbcb;\"/>\r\n     </g>\r\n     <g id=\"line2d_2\"/>\r\n     <g id=\"text_1\">\r\n      <!-- 40 -->\r\n      <g transform=\"translate(227.421066 358.428722)scale(0.14 -0.14)\">\r\n       <defs>\r\n        <path d=\"M 2419 4116 \r\nL 825 1625 \r\nL 2419 1625 \r\nL 2419 4116 \r\nz\r\nM 2253 4666 \r\nL 3047 4666 \r\nL 3047 1625 \r\nL 3713 1625 \r\nL 3713 1100 \r\nL 3047 1100 \r\nL 3047 0 \r\nL 2419 0 \r\nL 2419 1100 \r\nL 313 1100 \r\nL 313 1709 \r\nL 2253 4666 \r\nz\r\n\" id=\"DejaVuSans-34\" transform=\"scale(0.015625)\"/>\r\n        <path d=\"M 2034 4250 \r\nQ 1547 4250 1301 3770 \r\nQ 1056 3291 1056 2328 \r\nQ 1056 1369 1301 889 \r\nQ 1547 409 2034 409 \r\nQ 2525 409 2770 889 \r\nQ 3016 1369 3016 2328 \r\nQ 3016 3291 2770 3770 \r\nQ 2525 4250 2034 4250 \r\nz\r\nM 2034 4750 \r\nQ 2819 4750 3233 4129 \r\nQ 3647 3509 3647 2328 \r\nQ 3647 1150 3233 529 \r\nQ 2819 -91 2034 -91 \r\nQ 1250 -91 836 529 \r\nQ 422 1150 422 2328 \r\nQ 422 3509 836 4129 \r\nQ 1250 4750 2034 4750 \r\nz\r\n\" id=\"DejaVuSans-30\" transform=\"scale(0.015625)\"/>\r\n       </defs>\r\n       <use xlink:href=\"#DejaVuSans-34\"/>\r\n       <use x=\"63.623047\" xlink:href=\"#DejaVuSans-30\"/>\r\n      </g>\r\n     </g>\r\n    </g>\r\n    <g id=\"xtick_2\">\r\n     <g id=\"line2d_3\">\r\n      <path clip-path=\"url(#p01e10f81a5)\" d=\"M 336.493535 344.290909 \r\nL 336.493535 79.2 \r\n\" style=\"fill:none;stroke:#cbcbcb;\"/>\r\n     </g>\r\n     <g id=\"line2d_4\"/>\r\n     <g id=\"text_2\">\r\n      <!-- 60 -->\r\n      <g transform=\"translate(327.586035 358.428722)scale(0.14 -0.14)\">\r\n       <defs>\r\n        <path d=\"M 2113 2584 \r\nQ 1688 2584 1439 2293 \r\nQ 1191 2003 1191 1497 \r\nQ 1191 994 1439 701 \r\nQ 1688 409 2113 409 \r\nQ 2538 409 2786 701 \r\nQ 3034 994 3034 1497 \r\nQ 3034 2003 2786 2293 \r\nQ 2538 2584 2113 2584 \r\nz\r\nM 3366 4563 \r\nL 3366 3988 \r\nQ 3128 4100 2886 4159 \r\nQ 2644 4219 2406 4219 \r\nQ 1781 4219 1451 3797 \r\nQ 1122 3375 1075 2522 \r\nQ 1259 2794 1537 2939 \r\nQ 1816 3084 2150 3084 \r\nQ 2853 3084 3261 2657 \r\nQ 3669 2231 3669 1497 \r\nQ 3669 778 3244 343 \r\nQ 2819 -91 2113 -91 \r\nQ 1303 -91 875 529 \r\nQ 447 1150 447 2328 \r\nQ 447 3434 972 4092 \r\nQ 1497 4750 2381 4750 \r\nQ 2619 4750 2861 4703 \r\nQ 3103 4656 3366 4563 \r\nz\r\n\" id=\"DejaVuSans-36\" transform=\"scale(0.015625)\"/>\r\n       </defs>\r\n       <use xlink:href=\"#DejaVuSans-36\"/>\r\n       <use x=\"63.623047\" xlink:href=\"#DejaVuSans-30\"/>\r\n      </g>\r\n     </g>\r\n    </g>\r\n    <g id=\"xtick_3\">\r\n     <g id=\"line2d_5\">\r\n      <path clip-path=\"url(#p01e10f81a5)\" d=\"M 436.658505 344.290909 \r\nL 436.658505 79.2 \r\n\" style=\"fill:none;stroke:#cbcbcb;\"/>\r\n     </g>\r\n     <g id=\"line2d_6\"/>\r\n     <g id=\"text_3\">\r\n      <!-- 80 -->\r\n      <g transform=\"translate(427.751005 358.428722)scale(0.14 -0.14)\">\r\n       <defs>\r\n        <path d=\"M 2034 2216 \r\nQ 1584 2216 1326 1975 \r\nQ 1069 1734 1069 1313 \r\nQ 1069 891 1326 650 \r\nQ 1584 409 2034 409 \r\nQ 2484 409 2743 651 \r\nQ 3003 894 3003 1313 \r\nQ 3003 1734 2745 1975 \r\nQ 2488 2216 2034 2216 \r\nz\r\nM 1403 2484 \r\nQ 997 2584 770 2862 \r\nQ 544 3141 544 3541 \r\nQ 544 4100 942 4425 \r\nQ 1341 4750 2034 4750 \r\nQ 2731 4750 3128 4425 \r\nQ 3525 4100 3525 3541 \r\nQ 3525 3141 3298 2862 \r\nQ 3072 2584 2669 2484 \r\nQ 3125 2378 3379 2068 \r\nQ 3634 1759 3634 1313 \r\nQ 3634 634 3220 271 \r\nQ 2806 -91 2034 -91 \r\nQ 1263 -91 848 271 \r\nQ 434 634 434 1313 \r\nQ 434 1759 690 2068 \r\nQ 947 2378 1403 2484 \r\nz\r\nM 1172 3481 \r\nQ 1172 3119 1398 2916 \r\nQ 1625 2713 2034 2713 \r\nQ 2441 2713 2670 2916 \r\nQ 2900 3119 2900 3481 \r\nQ 2900 3844 2670 4047 \r\nQ 2441 4250 2034 4250 \r\nQ 1625 4250 1398 4047 \r\nQ 1172 3844 1172 3481 \r\nz\r\n\" id=\"DejaVuSans-38\" transform=\"scale(0.015625)\"/>\r\n       </defs>\r\n       <use xlink:href=\"#DejaVuSans-38\"/>\r\n       <use x=\"63.623047\" xlink:href=\"#DejaVuSans-30\"/>\r\n      </g>\r\n     </g>\r\n    </g>\r\n    <g id=\"xtick_4\">\r\n     <g id=\"line2d_7\">\r\n      <path clip-path=\"url(#p01e10f81a5)\" d=\"M 536.823474 344.290909 \r\nL 536.823474 79.2 \r\n\" style=\"fill:none;stroke:#cbcbcb;\"/>\r\n     </g>\r\n     <g id=\"line2d_8\"/>\r\n     <g id=\"text_4\">\r\n      <!-- 100 -->\r\n      <g transform=\"translate(523.462224 358.428722)scale(0.14 -0.14)\">\r\n       <defs>\r\n        <path d=\"M 794 531 \r\nL 1825 531 \r\nL 1825 4091 \r\nL 703 3866 \r\nL 703 4441 \r\nL 1819 4666 \r\nL 2450 4666 \r\nL 2450 531 \r\nL 3481 531 \r\nL 3481 0 \r\nL 794 0 \r\nL 794 531 \r\nz\r\n\" id=\"DejaVuSans-31\" transform=\"scale(0.015625)\"/>\r\n       </defs>\r\n       <use xlink:href=\"#DejaVuSans-31\"/>\r\n       <use x=\"63.623047\" xlink:href=\"#DejaVuSans-30\"/>\r\n       <use x=\"127.246094\" xlink:href=\"#DejaVuSans-30\"/>\r\n      </g>\r\n     </g>\r\n    </g>\r\n    <g id=\"xtick_5\">\r\n     <g id=\"line2d_9\">\r\n      <path clip-path=\"url(#p01e10f81a5)\" d=\"M 636.988443 344.290909 \r\nL 636.988443 79.2 \r\n\" style=\"fill:none;stroke:#cbcbcb;\"/>\r\n     </g>\r\n     <g id=\"line2d_10\"/>\r\n     <g id=\"text_5\">\r\n      <!-- 120 -->\r\n      <g transform=\"translate(623.627193 358.428722)scale(0.14 -0.14)\">\r\n       <defs>\r\n        <path d=\"M 1228 531 \r\nL 3431 531 \r\nL 3431 0 \r\nL 469 0 \r\nL 469 531 \r\nQ 828 903 1448 1529 \r\nQ 2069 2156 2228 2338 \r\nQ 2531 2678 2651 2914 \r\nQ 2772 3150 2772 3378 \r\nQ 2772 3750 2511 3984 \r\nQ 2250 4219 1831 4219 \r\nQ 1534 4219 1204 4116 \r\nQ 875 4013 500 3803 \r\nL 500 4441 \r\nQ 881 4594 1212 4672 \r\nQ 1544 4750 1819 4750 \r\nQ 2544 4750 2975 4387 \r\nQ 3406 4025 3406 3419 \r\nQ 3406 3131 3298 2873 \r\nQ 3191 2616 2906 2266 \r\nQ 2828 2175 2409 1742 \r\nQ 1991 1309 1228 531 \r\nz\r\n\" id=\"DejaVuSans-32\" transform=\"scale(0.015625)\"/>\r\n       </defs>\r\n       <use xlink:href=\"#DejaVuSans-31\"/>\r\n       <use x=\"63.623047\" xlink:href=\"#DejaVuSans-32\"/>\r\n       <use x=\"127.246094\" xlink:href=\"#DejaVuSans-30\"/>\r\n      </g>\r\n     </g>\r\n    </g>\r\n    <g id=\"xtick_6\">\r\n     <g id=\"line2d_11\">\r\n      <path clip-path=\"url(#p01e10f81a5)\" d=\"M 737.153413 344.290909 \r\nL 737.153413 79.2 \r\n\" style=\"fill:none;stroke:#cbcbcb;\"/>\r\n     </g>\r\n     <g id=\"line2d_12\"/>\r\n     <g id=\"text_6\">\r\n      <!-- 140 -->\r\n      <g transform=\"translate(723.792163 358.428722)scale(0.14 -0.14)\">\r\n       <use xlink:href=\"#DejaVuSans-31\"/>\r\n       <use x=\"63.623047\" xlink:href=\"#DejaVuSans-34\"/>\r\n       <use x=\"127.246094\" xlink:href=\"#DejaVuSans-30\"/>\r\n      </g>\r\n     </g>\r\n    </g>\r\n    <g id=\"text_7\">\r\n     <!-- Average enrollment rates -->\r\n     <g transform=\"translate(362.500563 378.105659)scale(0.168 -0.168)\">\r\n      <defs>\r\n       <path d=\"M 2188 4044 \r\nL 1331 1722 \r\nL 3047 1722 \r\nL 2188 4044 \r\nz\r\nM 1831 4666 \r\nL 2547 4666 \r\nL 4325 0 \r\nL 3669 0 \r\nL 3244 1197 \r\nL 1141 1197 \r\nL 716 0 \r\nL 50 0 \r\nL 1831 4666 \r\nz\r\n\" id=\"DejaVuSans-41\" transform=\"scale(0.015625)\"/>\r\n       <path d=\"M 191 3500 \r\nL 800 3500 \r\nL 1894 563 \r\nL 2988 3500 \r\nL 3597 3500 \r\nL 2284 0 \r\nL 1503 0 \r\nL 191 3500 \r\nz\r\n\" id=\"DejaVuSans-76\" transform=\"scale(0.015625)\"/>\r\n       <path d=\"M 3597 1894 \r\nL 3597 1613 \r\nL 953 1613 \r\nQ 991 1019 1311 708 \r\nQ 1631 397 2203 397 \r\nQ 2534 397 2845 478 \r\nQ 3156 559 3463 722 \r\nL 3463 178 \r\nQ 3153 47 2828 -22 \r\nQ 2503 -91 2169 -91 \r\nQ 1331 -91 842 396 \r\nQ 353 884 353 1716 \r\nQ 353 2575 817 3079 \r\nQ 1281 3584 2069 3584 \r\nQ 2775 3584 3186 3129 \r\nQ 3597 2675 3597 1894 \r\nz\r\nM 3022 2063 \r\nQ 3016 2534 2758 2815 \r\nQ 2500 3097 2075 3097 \r\nQ 1594 3097 1305 2825 \r\nQ 1016 2553 972 2059 \r\nL 3022 2063 \r\nz\r\n\" id=\"DejaVuSans-65\" transform=\"scale(0.015625)\"/>\r\n       <path d=\"M 2631 2963 \r\nQ 2534 3019 2420 3045 \r\nQ 2306 3072 2169 3072 \r\nQ 1681 3072 1420 2755 \r\nQ 1159 2438 1159 1844 \r\nL 1159 0 \r\nL 581 0 \r\nL 581 3500 \r\nL 1159 3500 \r\nL 1159 2956 \r\nQ 1341 3275 1631 3429 \r\nQ 1922 3584 2338 3584 \r\nQ 2397 3584 2469 3576 \r\nQ 2541 3569 2628 3553 \r\nL 2631 2963 \r\nz\r\n\" id=\"DejaVuSans-72\" transform=\"scale(0.015625)\"/>\r\n       <path d=\"M 2194 1759 \r\nQ 1497 1759 1228 1600 \r\nQ 959 1441 959 1056 \r\nQ 959 750 1161 570 \r\nQ 1363 391 1709 391 \r\nQ 2188 391 2477 730 \r\nQ 2766 1069 2766 1631 \r\nL 2766 1759 \r\nL 2194 1759 \r\nz\r\nM 3341 1997 \r\nL 3341 0 \r\nL 2766 0 \r\nL 2766 531 \r\nQ 2569 213 2275 61 \r\nQ 1981 -91 1556 -91 \r\nQ 1019 -91 701 211 \r\nQ 384 513 384 1019 \r\nQ 384 1609 779 1909 \r\nQ 1175 2209 1959 2209 \r\nL 2766 2209 \r\nL 2766 2266 \r\nQ 2766 2663 2505 2880 \r\nQ 2244 3097 1772 3097 \r\nQ 1472 3097 1187 3025 \r\nQ 903 2953 641 2809 \r\nL 641 3341 \r\nQ 956 3463 1253 3523 \r\nQ 1550 3584 1831 3584 \r\nQ 2591 3584 2966 3190 \r\nQ 3341 2797 3341 1997 \r\nz\r\n\" id=\"DejaVuSans-61\" transform=\"scale(0.015625)\"/>\r\n       <path d=\"M 2906 1791 \r\nQ 2906 2416 2648 2759 \r\nQ 2391 3103 1925 3103 \r\nQ 1463 3103 1205 2759 \r\nQ 947 2416 947 1791 \r\nQ 947 1169 1205 825 \r\nQ 1463 481 1925 481 \r\nQ 2391 481 2648 825 \r\nQ 2906 1169 2906 1791 \r\nz\r\nM 3481 434 \r\nQ 3481 -459 3084 -895 \r\nQ 2688 -1331 1869 -1331 \r\nQ 1566 -1331 1297 -1286 \r\nQ 1028 -1241 775 -1147 \r\nL 775 -588 \r\nQ 1028 -725 1275 -790 \r\nQ 1522 -856 1778 -856 \r\nQ 2344 -856 2625 -561 \r\nQ 2906 -266 2906 331 \r\nL 2906 616 \r\nQ 2728 306 2450 153 \r\nQ 2172 0 1784 0 \r\nQ 1141 0 747 490 \r\nQ 353 981 353 1791 \r\nQ 353 2603 747 3093 \r\nQ 1141 3584 1784 3584 \r\nQ 2172 3584 2450 3431 \r\nQ 2728 3278 2906 2969 \r\nL 2906 3500 \r\nL 3481 3500 \r\nL 3481 434 \r\nz\r\n\" id=\"DejaVuSans-67\" transform=\"scale(0.015625)\"/>\r\n       <path id=\"DejaVuSans-20\" transform=\"scale(0.015625)\"/>\r\n       <path d=\"M 3513 2113 \r\nL 3513 0 \r\nL 2938 0 \r\nL 2938 2094 \r\nQ 2938 2591 2744 2837 \r\nQ 2550 3084 2163 3084 \r\nQ 1697 3084 1428 2787 \r\nQ 1159 2491 1159 1978 \r\nL 1159 0 \r\nL 581 0 \r\nL 581 3500 \r\nL 1159 3500 \r\nL 1159 2956 \r\nQ 1366 3272 1645 3428 \r\nQ 1925 3584 2291 3584 \r\nQ 2894 3584 3203 3211 \r\nQ 3513 2838 3513 2113 \r\nz\r\n\" id=\"DejaVuSans-6e\" transform=\"scale(0.015625)\"/>\r\n       <path d=\"M 1959 3097 \r\nQ 1497 3097 1228 2736 \r\nQ 959 2375 959 1747 \r\nQ 959 1119 1226 758 \r\nQ 1494 397 1959 397 \r\nQ 2419 397 2687 759 \r\nQ 2956 1122 2956 1747 \r\nQ 2956 2369 2687 2733 \r\nQ 2419 3097 1959 3097 \r\nz\r\nM 1959 3584 \r\nQ 2709 3584 3137 3096 \r\nQ 3566 2609 3566 1747 \r\nQ 3566 888 3137 398 \r\nQ 2709 -91 1959 -91 \r\nQ 1206 -91 779 398 \r\nQ 353 888 353 1747 \r\nQ 353 2609 779 3096 \r\nQ 1206 3584 1959 3584 \r\nz\r\n\" id=\"DejaVuSans-6f\" transform=\"scale(0.015625)\"/>\r\n       <path d=\"M 603 4863 \r\nL 1178 4863 \r\nL 1178 0 \r\nL 603 0 \r\nL 603 4863 \r\nz\r\n\" id=\"DejaVuSans-6c\" transform=\"scale(0.015625)\"/>\r\n       <path d=\"M 3328 2828 \r\nQ 3544 3216 3844 3400 \r\nQ 4144 3584 4550 3584 \r\nQ 5097 3584 5394 3201 \r\nQ 5691 2819 5691 2113 \r\nL 5691 0 \r\nL 5113 0 \r\nL 5113 2094 \r\nQ 5113 2597 4934 2840 \r\nQ 4756 3084 4391 3084 \r\nQ 3944 3084 3684 2787 \r\nQ 3425 2491 3425 1978 \r\nL 3425 0 \r\nL 2847 0 \r\nL 2847 2094 \r\nQ 2847 2600 2669 2842 \r\nQ 2491 3084 2119 3084 \r\nQ 1678 3084 1418 2786 \r\nQ 1159 2488 1159 1978 \r\nL 1159 0 \r\nL 581 0 \r\nL 581 3500 \r\nL 1159 3500 \r\nL 1159 2956 \r\nQ 1356 3278 1631 3431 \r\nQ 1906 3584 2284 3584 \r\nQ 2666 3584 2933 3390 \r\nQ 3200 3197 3328 2828 \r\nz\r\n\" id=\"DejaVuSans-6d\" transform=\"scale(0.015625)\"/>\r\n       <path d=\"M 1172 4494 \r\nL 1172 3500 \r\nL 2356 3500 \r\nL 2356 3053 \r\nL 1172 3053 \r\nL 1172 1153 \r\nQ 1172 725 1289 603 \r\nQ 1406 481 1766 481 \r\nL 2356 481 \r\nL 2356 0 \r\nL 1766 0 \r\nQ 1100 0 847 248 \r\nQ 594 497 594 1153 \r\nL 594 3053 \r\nL 172 3053 \r\nL 172 3500 \r\nL 594 3500 \r\nL 594 4494 \r\nL 1172 4494 \r\nz\r\n\" id=\"DejaVuSans-74\" transform=\"scale(0.015625)\"/>\r\n       <path d=\"M 2834 3397 \r\nL 2834 2853 \r\nQ 2591 2978 2328 3040 \r\nQ 2066 3103 1784 3103 \r\nQ 1356 3103 1142 2972 \r\nQ 928 2841 928 2578 \r\nQ 928 2378 1081 2264 \r\nQ 1234 2150 1697 2047 \r\nL 1894 2003 \r\nQ 2506 1872 2764 1633 \r\nQ 3022 1394 3022 966 \r\nQ 3022 478 2636 193 \r\nQ 2250 -91 1575 -91 \r\nQ 1294 -91 989 -36 \r\nQ 684 19 347 128 \r\nL 347 722 \r\nQ 666 556 975 473 \r\nQ 1284 391 1588 391 \r\nQ 1994 391 2212 530 \r\nQ 2431 669 2431 922 \r\nQ 2431 1156 2273 1281 \r\nQ 2116 1406 1581 1522 \r\nL 1381 1569 \r\nQ 847 1681 609 1914 \r\nQ 372 2147 372 2553 \r\nQ 372 3047 722 3315 \r\nQ 1072 3584 1716 3584 \r\nQ 2034 3584 2315 3537 \r\nQ 2597 3491 2834 3397 \r\nz\r\n\" id=\"DejaVuSans-73\" transform=\"scale(0.015625)\"/>\r\n      </defs>\r\n      <use xlink:href=\"#DejaVuSans-41\"/>\r\n      <use x=\"62.533203\" xlink:href=\"#DejaVuSans-76\"/>\r\n      <use x=\"121.712891\" xlink:href=\"#DejaVuSans-65\"/>\r\n      <use x=\"183.236328\" xlink:href=\"#DejaVuSans-72\"/>\r\n      <use x=\"224.349609\" xlink:href=\"#DejaVuSans-61\"/>\r\n      <use x=\"285.628906\" xlink:href=\"#DejaVuSans-67\"/>\r\n      <use x=\"349.105469\" xlink:href=\"#DejaVuSans-65\"/>\r\n      <use x=\"410.628906\" xlink:href=\"#DejaVuSans-20\"/>\r\n      <use x=\"442.416016\" xlink:href=\"#DejaVuSans-65\"/>\r\n      <use x=\"503.939453\" xlink:href=\"#DejaVuSans-6e\"/>\r\n      <use x=\"567.318359\" xlink:href=\"#DejaVuSans-72\"/>\r\n      <use x=\"606.181641\" xlink:href=\"#DejaVuSans-6f\"/>\r\n      <use x=\"667.363281\" xlink:href=\"#DejaVuSans-6c\"/>\r\n      <use x=\"695.146484\" xlink:href=\"#DejaVuSans-6c\"/>\r\n      <use x=\"722.929688\" xlink:href=\"#DejaVuSans-6d\"/>\r\n      <use x=\"820.341797\" xlink:href=\"#DejaVuSans-65\"/>\r\n      <use x=\"881.865234\" xlink:href=\"#DejaVuSans-6e\"/>\r\n      <use x=\"945.244141\" xlink:href=\"#DejaVuSans-74\"/>\r\n      <use x=\"984.453125\" xlink:href=\"#DejaVuSans-20\"/>\r\n      <use x=\"1016.240234\" xlink:href=\"#DejaVuSans-72\"/>\r\n      <use x=\"1057.353516\" xlink:href=\"#DejaVuSans-61\"/>\r\n      <use x=\"1118.632812\" xlink:href=\"#DejaVuSans-74\"/>\r\n      <use x=\"1157.841797\" xlink:href=\"#DejaVuSans-65\"/>\r\n      <use x=\"1219.365234\" xlink:href=\"#DejaVuSans-73\"/>\r\n     </g>\r\n    </g>\r\n   </g>\r\n   <g id=\"matplotlib.axis_2\">\r\n    <g id=\"ytick_1\">\r\n     <g id=\"line2d_13\"/>\r\n     <g id=\"text_8\">\r\n      <!-- Primary -->\r\n      <g transform=\"translate(98.504875 117.65527)scale(0.14 -0.14)\">\r\n       <defs>\r\n        <path d=\"M 1259 4147 \r\nL 1259 2394 \r\nL 2053 2394 \r\nQ 2494 2394 2734 2622 \r\nQ 2975 2850 2975 3272 \r\nQ 2975 3691 2734 3919 \r\nQ 2494 4147 2053 4147 \r\nL 1259 4147 \r\nz\r\nM 628 4666 \r\nL 2053 4666 \r\nQ 2838 4666 3239 4311 \r\nQ 3641 3956 3641 3272 \r\nQ 3641 2581 3239 2228 \r\nQ 2838 1875 2053 1875 \r\nL 1259 1875 \r\nL 1259 0 \r\nL 628 0 \r\nL 628 4666 \r\nz\r\n\" id=\"DejaVuSans-50\" transform=\"scale(0.015625)\"/>\r\n        <path d=\"M 603 3500 \r\nL 1178 3500 \r\nL 1178 0 \r\nL 603 0 \r\nL 603 3500 \r\nz\r\nM 603 4863 \r\nL 1178 4863 \r\nL 1178 4134 \r\nL 603 4134 \r\nL 603 4863 \r\nz\r\n\" id=\"DejaVuSans-69\" transform=\"scale(0.015625)\"/>\r\n        <path d=\"M 2059 -325 \r\nQ 1816 -950 1584 -1140 \r\nQ 1353 -1331 966 -1331 \r\nL 506 -1331 \r\nL 506 -850 \r\nL 844 -850 \r\nQ 1081 -850 1212 -737 \r\nQ 1344 -625 1503 -206 \r\nL 1606 56 \r\nL 191 3500 \r\nL 800 3500 \r\nL 1894 763 \r\nL 2988 3500 \r\nL 3597 3500 \r\nL 2059 -325 \r\nz\r\n\" id=\"DejaVuSans-79\" transform=\"scale(0.015625)\"/>\r\n       </defs>\r\n       <use xlink:href=\"#DejaVuSans-50\"/>\r\n       <use x=\"58.552734\" xlink:href=\"#DejaVuSans-72\"/>\r\n       <use x=\"99.666016\" xlink:href=\"#DejaVuSans-69\"/>\r\n       <use x=\"127.449219\" xlink:href=\"#DejaVuSans-6d\"/>\r\n       <use x=\"224.861328\" xlink:href=\"#DejaVuSans-61\"/>\r\n       <use x=\"286.140625\" xlink:href=\"#DejaVuSans-72\"/>\r\n       <use x=\"327.253906\" xlink:href=\"#DejaVuSans-79\"/>\r\n      </g>\r\n     </g>\r\n    </g>\r\n    <g id=\"ytick_2\">\r\n     <g id=\"line2d_14\"/>\r\n     <g id=\"text_9\">\r\n      <!-- Upper Primary -->\r\n      <g transform=\"translate(51.663938 183.927997)scale(0.14 -0.14)\">\r\n       <defs>\r\n        <path d=\"M 556 4666 \r\nL 1191 4666 \r\nL 1191 1831 \r\nQ 1191 1081 1462 751 \r\nQ 1734 422 2344 422 \r\nQ 2950 422 3222 751 \r\nQ 3494 1081 3494 1831 \r\nL 3494 4666 \r\nL 4128 4666 \r\nL 4128 1753 \r\nQ 4128 841 3676 375 \r\nQ 3225 -91 2344 -91 \r\nQ 1459 -91 1007 375 \r\nQ 556 841 556 1753 \r\nL 556 4666 \r\nz\r\n\" id=\"DejaVuSans-55\" transform=\"scale(0.015625)\"/>\r\n        <path d=\"M 1159 525 \r\nL 1159 -1331 \r\nL 581 -1331 \r\nL 581 3500 \r\nL 1159 3500 \r\nL 1159 2969 \r\nQ 1341 3281 1617 3432 \r\nQ 1894 3584 2278 3584 \r\nQ 2916 3584 3314 3078 \r\nQ 3713 2572 3713 1747 \r\nQ 3713 922 3314 415 \r\nQ 2916 -91 2278 -91 \r\nQ 1894 -91 1617 61 \r\nQ 1341 213 1159 525 \r\nz\r\nM 3116 1747 \r\nQ 3116 2381 2855 2742 \r\nQ 2594 3103 2138 3103 \r\nQ 1681 3103 1420 2742 \r\nQ 1159 2381 1159 1747 \r\nQ 1159 1113 1420 752 \r\nQ 1681 391 2138 391 \r\nQ 2594 391 2855 752 \r\nQ 3116 1113 3116 1747 \r\nz\r\n\" id=\"DejaVuSans-70\" transform=\"scale(0.015625)\"/>\r\n       </defs>\r\n       <use xlink:href=\"#DejaVuSans-55\"/>\r\n       <use x=\"73.193359\" xlink:href=\"#DejaVuSans-70\"/>\r\n       <use x=\"136.669922\" xlink:href=\"#DejaVuSans-70\"/>\r\n       <use x=\"200.146484\" xlink:href=\"#DejaVuSans-65\"/>\r\n       <use x=\"261.669922\" xlink:href=\"#DejaVuSans-72\"/>\r\n       <use x=\"302.783203\" xlink:href=\"#DejaVuSans-20\"/>\r\n       <use x=\"334.570312\" xlink:href=\"#DejaVuSans-50\"/>\r\n       <use x=\"393.123047\" xlink:href=\"#DejaVuSans-72\"/>\r\n       <use x=\"434.236328\" xlink:href=\"#DejaVuSans-69\"/>\r\n       <use x=\"462.019531\" xlink:href=\"#DejaVuSans-6d\"/>\r\n       <use x=\"559.431641\" xlink:href=\"#DejaVuSans-61\"/>\r\n       <use x=\"620.710938\" xlink:href=\"#DejaVuSans-72\"/>\r\n       <use x=\"661.824219\" xlink:href=\"#DejaVuSans-79\"/>\r\n      </g>\r\n     </g>\r\n    </g>\r\n    <g id=\"ytick_3\">\r\n     <g id=\"line2d_15\"/>\r\n     <g id=\"text_10\">\r\n      <!-- Secondary -->\r\n      <g transform=\"translate(78.456438 250.200724)scale(0.14 -0.14)\">\r\n       <defs>\r\n        <path d=\"M 3425 4513 \r\nL 3425 3897 \r\nQ 3066 4069 2747 4153 \r\nQ 2428 4238 2131 4238 \r\nQ 1616 4238 1336 4038 \r\nQ 1056 3838 1056 3469 \r\nQ 1056 3159 1242 3001 \r\nQ 1428 2844 1947 2747 \r\nL 2328 2669 \r\nQ 3034 2534 3370 2195 \r\nQ 3706 1856 3706 1288 \r\nQ 3706 609 3251 259 \r\nQ 2797 -91 1919 -91 \r\nQ 1588 -91 1214 -16 \r\nQ 841 59 441 206 \r\nL 441 856 \r\nQ 825 641 1194 531 \r\nQ 1563 422 1919 422 \r\nQ 2459 422 2753 634 \r\nQ 3047 847 3047 1241 \r\nQ 3047 1584 2836 1778 \r\nQ 2625 1972 2144 2069 \r\nL 1759 2144 \r\nQ 1053 2284 737 2584 \r\nQ 422 2884 422 3419 \r\nQ 422 4038 858 4394 \r\nQ 1294 4750 2059 4750 \r\nQ 2388 4750 2728 4690 \r\nQ 3069 4631 3425 4513 \r\nz\r\n\" id=\"DejaVuSans-53\" transform=\"scale(0.015625)\"/>\r\n        <path d=\"M 3122 3366 \r\nL 3122 2828 \r\nQ 2878 2963 2633 3030 \r\nQ 2388 3097 2138 3097 \r\nQ 1578 3097 1268 2742 \r\nQ 959 2388 959 1747 \r\nQ 959 1106 1268 751 \r\nQ 1578 397 2138 397 \r\nQ 2388 397 2633 464 \r\nQ 2878 531 3122 666 \r\nL 3122 134 \r\nQ 2881 22 2623 -34 \r\nQ 2366 -91 2075 -91 \r\nQ 1284 -91 818 406 \r\nQ 353 903 353 1747 \r\nQ 353 2603 823 3093 \r\nQ 1294 3584 2113 3584 \r\nQ 2378 3584 2631 3529 \r\nQ 2884 3475 3122 3366 \r\nz\r\n\" id=\"DejaVuSans-63\" transform=\"scale(0.015625)\"/>\r\n        <path d=\"M 2906 2969 \r\nL 2906 4863 \r\nL 3481 4863 \r\nL 3481 0 \r\nL 2906 0 \r\nL 2906 525 \r\nQ 2725 213 2448 61 \r\nQ 2172 -91 1784 -91 \r\nQ 1150 -91 751 415 \r\nQ 353 922 353 1747 \r\nQ 353 2572 751 3078 \r\nQ 1150 3584 1784 3584 \r\nQ 2172 3584 2448 3432 \r\nQ 2725 3281 2906 2969 \r\nz\r\nM 947 1747 \r\nQ 947 1113 1208 752 \r\nQ 1469 391 1925 391 \r\nQ 2381 391 2643 752 \r\nQ 2906 1113 2906 1747 \r\nQ 2906 2381 2643 2742 \r\nQ 2381 3103 1925 3103 \r\nQ 1469 3103 1208 2742 \r\nQ 947 2381 947 1747 \r\nz\r\n\" id=\"DejaVuSans-64\" transform=\"scale(0.015625)\"/>\r\n       </defs>\r\n       <use xlink:href=\"#DejaVuSans-53\"/>\r\n       <use x=\"63.476562\" xlink:href=\"#DejaVuSans-65\"/>\r\n       <use x=\"125\" xlink:href=\"#DejaVuSans-63\"/>\r\n       <use x=\"179.980469\" xlink:href=\"#DejaVuSans-6f\"/>\r\n       <use x=\"241.162109\" xlink:href=\"#DejaVuSans-6e\"/>\r\n       <use x=\"304.541016\" xlink:href=\"#DejaVuSans-64\"/>\r\n       <use x=\"368.017578\" xlink:href=\"#DejaVuSans-61\"/>\r\n       <use x=\"429.296875\" xlink:href=\"#DejaVuSans-72\"/>\r\n       <use x=\"470.410156\" xlink:href=\"#DejaVuSans-79\"/>\r\n      </g>\r\n     </g>\r\n    </g>\r\n    <g id=\"ytick_4\">\r\n     <g id=\"line2d_16\"/>\r\n     <g id=\"text_11\">\r\n      <!-- Higher Secondary -->\r\n      <g transform=\"translate(27.45925 316.473452)scale(0.14 -0.14)\">\r\n       <defs>\r\n        <path d=\"M 628 4666 \r\nL 1259 4666 \r\nL 1259 2753 \r\nL 3553 2753 \r\nL 3553 4666 \r\nL 4184 4666 \r\nL 4184 0 \r\nL 3553 0 \r\nL 3553 2222 \r\nL 1259 2222 \r\nL 1259 0 \r\nL 628 0 \r\nL 628 4666 \r\nz\r\n\" id=\"DejaVuSans-48\" transform=\"scale(0.015625)\"/>\r\n        <path d=\"M 3513 2113 \r\nL 3513 0 \r\nL 2938 0 \r\nL 2938 2094 \r\nQ 2938 2591 2744 2837 \r\nQ 2550 3084 2163 3084 \r\nQ 1697 3084 1428 2787 \r\nQ 1159 2491 1159 1978 \r\nL 1159 0 \r\nL 581 0 \r\nL 581 4863 \r\nL 1159 4863 \r\nL 1159 2956 \r\nQ 1366 3272 1645 3428 \r\nQ 1925 3584 2291 3584 \r\nQ 2894 3584 3203 3211 \r\nQ 3513 2838 3513 2113 \r\nz\r\n\" id=\"DejaVuSans-68\" transform=\"scale(0.015625)\"/>\r\n       </defs>\r\n       <use xlink:href=\"#DejaVuSans-48\"/>\r\n       <use x=\"75.195312\" xlink:href=\"#DejaVuSans-69\"/>\r\n       <use x=\"102.978516\" xlink:href=\"#DejaVuSans-67\"/>\r\n       <use x=\"166.455078\" xlink:href=\"#DejaVuSans-68\"/>\r\n       <use x=\"229.833984\" xlink:href=\"#DejaVuSans-65\"/>\r\n       <use x=\"291.357422\" xlink:href=\"#DejaVuSans-72\"/>\r\n       <use x=\"332.470703\" xlink:href=\"#DejaVuSans-20\"/>\r\n       <use x=\"364.257812\" xlink:href=\"#DejaVuSans-53\"/>\r\n       <use x=\"427.734375\" xlink:href=\"#DejaVuSans-65\"/>\r\n       <use x=\"489.257812\" xlink:href=\"#DejaVuSans-63\"/>\r\n       <use x=\"544.238281\" xlink:href=\"#DejaVuSans-6f\"/>\r\n       <use x=\"605.419922\" xlink:href=\"#DejaVuSans-6e\"/>\r\n       <use x=\"668.798828\" xlink:href=\"#DejaVuSans-64\"/>\r\n       <use x=\"732.275391\" xlink:href=\"#DejaVuSans-61\"/>\r\n       <use x=\"793.554688\" xlink:href=\"#DejaVuSans-72\"/>\r\n       <use x=\"834.667969\" xlink:href=\"#DejaVuSans-79\"/>\r\n      </g>\r\n     </g>\r\n    </g>\r\n    <g id=\"text_12\">\r\n     <!-- School section -->\r\n     <g transform=\"translate(19.965375 272.556205)rotate(-90)scale(0.168 -0.168)\">\r\n      <use xlink:href=\"#DejaVuSans-53\"/>\r\n      <use x=\"63.476562\" xlink:href=\"#DejaVuSans-63\"/>\r\n      <use x=\"118.457031\" xlink:href=\"#DejaVuSans-68\"/>\r\n      <use x=\"181.835938\" xlink:href=\"#DejaVuSans-6f\"/>\r\n      <use x=\"243.017578\" xlink:href=\"#DejaVuSans-6f\"/>\r\n      <use x=\"304.199219\" xlink:href=\"#DejaVuSans-6c\"/>\r\n      <use x=\"331.982422\" xlink:href=\"#DejaVuSans-20\"/>\r\n      <use x=\"363.769531\" xlink:href=\"#DejaVuSans-73\"/>\r\n      <use x=\"415.869141\" xlink:href=\"#DejaVuSans-65\"/>\r\n      <use x=\"477.392578\" xlink:href=\"#DejaVuSans-63\"/>\r\n      <use x=\"532.373047\" xlink:href=\"#DejaVuSans-74\"/>\r\n      <use x=\"571.582031\" xlink:href=\"#DejaVuSans-69\"/>\r\n      <use x=\"599.365234\" xlink:href=\"#DejaVuSans-6f\"/>\r\n      <use x=\"660.546875\" xlink:href=\"#DejaVuSans-6e\"/>\r\n     </g>\r\n    </g>\r\n   </g>\r\n   <g id=\"patch_3\">\r\n    <path clip-path=\"url(#p01e10f81a5)\" d=\"M 513.990034 85.827273 \r\nL 513.990034 138.845455 \r\nL 568.73019 138.845455 \r\nL 568.73019 85.827273 \r\nL 513.990034 85.827273 \r\nz\r\n\" style=\"fill:#1b86ba;stroke:#404040;stroke-linejoin:miter;stroke-width:4;\"/>\r\n   </g>\r\n   <g id=\"patch_4\">\r\n    <path clip-path=\"url(#p01e10f81a5)\" d=\"M 490.32606 152.1 \r\nL 490.32606 205.118182 \r\nL 546.551997 205.118182 \r\nL 546.551997 152.1 \r\nL 490.32606 152.1 \r\nz\r\n\" style=\"fill:#e36149;stroke:#404040;stroke-linejoin:miter;stroke-width:4;\"/>\r\n   </g>\r\n   <g id=\"patch_5\">\r\n    <path clip-path=\"url(#p01e10f81a5)\" d=\"M 418.411786 218.372727 \r\nL 418.411786 271.390909 \r\nL 515.371476 271.390909 \r\nL 515.371476 218.372727 \r\nL 418.411786 218.372727 \r\nz\r\n\" style=\"fill:#cfa64e;stroke:#404040;stroke-linejoin:miter;stroke-width:4;\"/>\r\n   </g>\r\n   <g id=\"patch_6\">\r\n    <path clip-path=\"url(#p01e10f81a5)\" d=\"M 260.952454 284.645455 \r\nL 260.952454 337.663636 \r\nL 389.497498 337.663636 \r\nL 389.497498 284.645455 \r\nL 260.952454 284.645455 \r\nz\r\n\" style=\"fill:#6e8857;stroke:#404040;stroke-linejoin:miter;stroke-width:4;\"/>\r\n   </g>\r\n   <g id=\"line2d_17\">\r\n    <path clip-path=\"url(#p01e10f81a5)\" d=\"M 513.990034 112.336364 \r\nL 454.17068 112.336364 \r\n\" style=\"fill:none;stroke:#404040;stroke-width:4;\"/>\r\n   </g>\r\n   <g id=\"line2d_18\">\r\n    <path clip-path=\"url(#p01e10f81a5)\" d=\"M 568.73019 112.336364 \r\nL 603.366402 112.336364 \r\n\" style=\"fill:none;stroke:#404040;stroke-width:4;\"/>\r\n   </g>\r\n   <g id=\"line2d_19\">\r\n    <path clip-path=\"url(#p01e10f81a5)\" d=\"M 454.17068 99.081818 \r\nL 454.17068 125.590909 \r\n\" style=\"fill:none;stroke:#404040;stroke-width:4;\"/>\r\n   </g>\r\n   <g id=\"line2d_20\">\r\n    <path clip-path=\"url(#p01e10f81a5)\" d=\"M 603.366402 99.081818 \r\nL 603.366402 125.590909 \r\n\" style=\"fill:none;stroke:#404040;stroke-width:4;\"/>\r\n   </g>\r\n   <g id=\"line2d_21\">\r\n    <defs>\r\n     <path d=\"M 0 3.535534 \r\nL 2.12132 0 \r\nL 0 -3.535534 \r\nL -2.12132 0 \r\nz\r\n\" id=\"m3bb112cf49\" style=\"stroke:#404040;stroke-linejoin:miter;\"/>\r\n    </defs>\r\n    <g clip-path=\"url(#p01e10f81a5)\">\r\n     <use style=\"fill:#404040;stroke:#404040;stroke-linejoin:miter;\" x=\"421.366653\" xlink:href=\"#m3bb112cf49\" y=\"112.336364\"/>\r\n     <use style=\"fill:#404040;stroke:#404040;stroke-linejoin:miter;\" x=\"675.969311\" xlink:href=\"#m3bb112cf49\" y=\"112.336364\"/>\r\n     <use style=\"fill:#404040;stroke:#404040;stroke-linejoin:miter;\" x=\"727.7546\" xlink:href=\"#m3bb112cf49\" y=\"112.336364\"/>\r\n     <use style=\"fill:#404040;stroke:#404040;stroke-linejoin:miter;\" x=\"728.222036\" xlink:href=\"#m3bb112cf49\" y=\"112.336364\"/>\r\n     <use style=\"fill:#404040;stroke:#404040;stroke-linejoin:miter;\" x=\"656.370365\" xlink:href=\"#m3bb112cf49\" y=\"112.336364\"/>\r\n    </g>\r\n   </g>\r\n   <g id=\"line2d_22\">\r\n    <path clip-path=\"url(#p01e10f81a5)\" d=\"M 490.32606 178.609091 \r\nL 430.832242 178.609091 \r\n\" style=\"fill:none;stroke:#404040;stroke-width:4;\"/>\r\n   </g>\r\n   <g id=\"line2d_23\">\r\n    <path clip-path=\"url(#p01e10f81a5)\" d=\"M 546.551997 178.609091 \r\nL 573.016416 178.609091 \r\n\" style=\"fill:none;stroke:#404040;stroke-width:4;\"/>\r\n   </g>\r\n   <g id=\"line2d_24\">\r\n    <path clip-path=\"url(#p01e10f81a5)\" d=\"M 430.832242 165.354545 \r\nL 430.832242 191.863636 \r\n\" style=\"fill:none;stroke:#404040;stroke-width:4;\"/>\r\n   </g>\r\n   <g id=\"line2d_25\">\r\n    <path clip-path=\"url(#p01e10f81a5)\" d=\"M 573.016416 165.354545 \r\nL 573.016416 191.863636 \r\n\" style=\"fill:none;stroke:#404040;stroke-width:4;\"/>\r\n   </g>\r\n   <g id=\"line2d_26\">\r\n    <g clip-path=\"url(#p01e10f81a5)\">\r\n     <use style=\"fill:#404040;stroke:#404040;stroke-linejoin:miter;\" x=\"392.452365\" xlink:href=\"#m3bb112cf49\" y=\"178.609091\"/>\r\n     <use style=\"fill:#404040;stroke:#404040;stroke-linejoin:miter;\" x=\"648.00659\" xlink:href=\"#m3bb112cf49\" y=\"178.609091\"/>\r\n     <use style=\"fill:#404040;stroke:#404040;stroke-linejoin:miter;\" x=\"664.149844\" xlink:href=\"#m3bb112cf49\" y=\"178.609091\"/>\r\n     <use style=\"fill:#404040;stroke:#404040;stroke-linejoin:miter;\" x=\"640.277193\" xlink:href=\"#m3bb112cf49\" y=\"178.609091\"/>\r\n     <use style=\"fill:#404040;stroke:#404040;stroke-linejoin:miter;\" x=\"651.829553\" xlink:href=\"#m3bb112cf49\" y=\"178.609091\"/>\r\n     <use style=\"fill:#404040;stroke:#404040;stroke-linejoin:miter;\" x=\"670.927674\" xlink:href=\"#m3bb112cf49\" y=\"178.609091\"/>\r\n     <use style=\"fill:#404040;stroke:#404040;stroke-linejoin:miter;\" x=\"754.03121\" xlink:href=\"#m3bb112cf49\" y=\"178.609091\"/>\r\n    </g>\r\n   </g>\r\n   <g id=\"line2d_27\">\r\n    <path clip-path=\"url(#p01e10f81a5)\" d=\"M 418.411786 244.881818 \r\nL 368.329301 244.881818 \r\n\" style=\"fill:none;stroke:#404040;stroke-width:4;\"/>\r\n   </g>\r\n   <g id=\"line2d_28\">\r\n    <path clip-path=\"url(#p01e10f81a5)\" d=\"M 515.371476 244.881818 \r\nL 627.439383 244.881818 \r\n\" style=\"fill:none;stroke:#404040;stroke-width:4;\"/>\r\n   </g>\r\n   <g id=\"line2d_29\">\r\n    <path clip-path=\"url(#p01e10f81a5)\" d=\"M 368.329301 231.627273 \r\nL 368.329301 258.136364 \r\n\" style=\"fill:none;stroke:#404040;stroke-width:4;\"/>\r\n   </g>\r\n   <g id=\"line2d_30\">\r\n    <path clip-path=\"url(#p01e10f81a5)\" d=\"M 627.439383 231.627273 \r\nL 627.439383 258.136364 \r\n\" style=\"fill:none;stroke:#404040;stroke-width:4;\"/>\r\n   </g>\r\n   <g id=\"line2d_31\"/>\r\n   <g id=\"line2d_32\">\r\n    <path clip-path=\"url(#p01e10f81a5)\" d=\"M 260.952454 311.154545 \r\nL 184.576665 311.154545 \r\n\" style=\"fill:none;stroke:#404040;stroke-width:4;\"/>\r\n   </g>\r\n   <g id=\"line2d_33\">\r\n    <path clip-path=\"url(#p01e10f81a5)\" d=\"M 389.497498 311.154545 \r\nL 521.798729 311.154545 \r\n\" style=\"fill:none;stroke:#404040;stroke-width:4;\"/>\r\n   </g>\r\n   <g id=\"line2d_34\">\r\n    <path clip-path=\"url(#p01e10f81a5)\" d=\"M 184.576665 297.9 \r\nL 184.576665 324.409091 \r\n\" style=\"fill:none;stroke:#404040;stroke-width:4;\"/>\r\n   </g>\r\n   <g id=\"line2d_35\">\r\n    <path clip-path=\"url(#p01e10f81a5)\" d=\"M 521.798729 297.9 \r\nL 521.798729 324.409091 \r\n\" style=\"fill:none;stroke:#404040;stroke-width:4;\"/>\r\n   </g>\r\n   <g id=\"line2d_36\"/>\r\n   <g id=\"line2d_37\">\r\n    <path clip-path=\"url(#p01e10f81a5)\" d=\"M 548.334098 85.827273 \r\nL 548.334098 138.845455 \r\n\" style=\"fill:none;stroke:#404040;stroke-width:4;\"/>\r\n   </g>\r\n   <g id=\"line2d_38\">\r\n    <path clip-path=\"url(#p01e10f81a5)\" d=\"M 521.748646 152.1 \r\nL 521.748646 205.118182 \r\n\" style=\"fill:none;stroke:#404040;stroke-width:4;\"/>\r\n   </g>\r\n   <g id=\"line2d_39\">\r\n    <path clip-path=\"url(#p01e10f81a5)\" d=\"M 469.49592 218.372727 \r\nL 469.49592 271.390909 \r\n\" style=\"fill:none;stroke:#404040;stroke-width:4;\"/>\r\n   </g>\r\n   <g id=\"line2d_40\">\r\n    <path clip-path=\"url(#p01e10f81a5)\" d=\"M 328.146454 284.645455 \r\nL 328.146454 337.663636 \r\n\" style=\"fill:none;stroke:#404040;stroke-width:4;\"/>\r\n   </g>\r\n   <g id=\"patch_7\">\r\n    <path d=\"M 156.103938 344.290909 \r\nL 156.103938 79.2 \r\n\" style=\"fill:none;stroke:#f0f0f0;stroke-linecap:square;stroke-linejoin:miter;stroke-width:3;\"/>\r\n   </g>\r\n   <g id=\"patch_8\">\r\n    <path d=\"M 782.503938 344.290909 \r\nL 782.503938 79.2 \r\n\" style=\"fill:none;stroke:#f0f0f0;stroke-linecap:square;stroke-linejoin:miter;stroke-width:3;\"/>\r\n   </g>\r\n   <g id=\"patch_9\">\r\n    <path d=\"M 156.103938 344.290909 \r\nL 782.503937 344.290909 \r\n\" style=\"fill:none;stroke:#f0f0f0;stroke-linecap:square;stroke-linejoin:miter;stroke-width:3;\"/>\r\n   </g>\r\n   <g id=\"patch_10\">\r\n    <path d=\"M 156.103938 79.2 \r\nL 782.503937 79.2 \r\n\" style=\"fill:none;stroke:#f0f0f0;stroke-linecap:square;stroke-linejoin:miter;stroke-width:3;\"/>\r\n   </g>\r\n   <g id=\"text_13\">\r\n    <!-- Lakshadweep -->\r\n    <g transform=\"translate(311.452293 118.963636)scale(0.14 -0.14)\">\r\n     <defs>\r\n      <path d=\"M 628 4666 \r\nL 1259 4666 \r\nL 1259 531 \r\nL 3531 531 \r\nL 3531 0 \r\nL 628 0 \r\nL 628 4666 \r\nz\r\n\" id=\"DejaVuSans-4c\" transform=\"scale(0.015625)\"/>\r\n      <path d=\"M 581 4863 \r\nL 1159 4863 \r\nL 1159 1991 \r\nL 2875 3500 \r\nL 3609 3500 \r\nL 1753 1863 \r\nL 3688 0 \r\nL 2938 0 \r\nL 1159 1709 \r\nL 1159 0 \r\nL 581 0 \r\nL 581 4863 \r\nz\r\n\" id=\"DejaVuSans-6b\" transform=\"scale(0.015625)\"/>\r\n      <path d=\"M 269 3500 \r\nL 844 3500 \r\nL 1563 769 \r\nL 2278 3500 \r\nL 2956 3500 \r\nL 3675 769 \r\nL 4391 3500 \r\nL 4966 3500 \r\nL 4050 0 \r\nL 3372 0 \r\nL 2619 2869 \r\nL 1863 0 \r\nL 1184 0 \r\nL 269 3500 \r\nz\r\n\" id=\"DejaVuSans-77\" transform=\"scale(0.015625)\"/>\r\n     </defs>\r\n     <use xlink:href=\"#DejaVuSans-4c\"/>\r\n     <use x=\"55.712891\" xlink:href=\"#DejaVuSans-61\"/>\r\n     <use x=\"116.992188\" xlink:href=\"#DejaVuSans-6b\"/>\r\n     <use x=\"174.902344\" xlink:href=\"#DejaVuSans-73\"/>\r\n     <use x=\"227.001953\" xlink:href=\"#DejaVuSans-68\"/>\r\n     <use x=\"290.380859\" xlink:href=\"#DejaVuSans-61\"/>\r\n     <use x=\"351.660156\" xlink:href=\"#DejaVuSans-64\"/>\r\n     <use x=\"415.136719\" xlink:href=\"#DejaVuSans-77\"/>\r\n     <use x=\"496.923828\" xlink:href=\"#DejaVuSans-65\"/>\r\n     <use x=\"558.447266\" xlink:href=\"#DejaVuSans-65\"/>\r\n     <use x=\"619.970703\" xlink:href=\"#DejaVuSans-70\"/>\r\n    </g>\r\n   </g>\r\n   <g id=\"text_14\">\r\n    <!-- Jammu And Kashmir -->\r\n    <g transform=\"translate(236.328566 178.609091)scale(0.14 -0.14)\">\r\n     <defs>\r\n      <path d=\"M 628 4666 \r\nL 1259 4666 \r\nL 1259 325 \r\nQ 1259 -519 939 -900 \r\nQ 619 -1281 -91 -1281 \r\nL -331 -1281 \r\nL -331 -750 \r\nL -134 -750 \r\nQ 284 -750 456 -515 \r\nQ 628 -281 628 325 \r\nL 628 4666 \r\nz\r\n\" id=\"DejaVuSans-4a\" transform=\"scale(0.015625)\"/>\r\n      <path d=\"M 544 1381 \r\nL 544 3500 \r\nL 1119 3500 \r\nL 1119 1403 \r\nQ 1119 906 1312 657 \r\nQ 1506 409 1894 409 \r\nQ 2359 409 2629 706 \r\nQ 2900 1003 2900 1516 \r\nL 2900 3500 \r\nL 3475 3500 \r\nL 3475 0 \r\nL 2900 0 \r\nL 2900 538 \r\nQ 2691 219 2414 64 \r\nQ 2138 -91 1772 -91 \r\nQ 1169 -91 856 284 \r\nQ 544 659 544 1381 \r\nz\r\nM 1991 3584 \r\nL 1991 3584 \r\nz\r\n\" id=\"DejaVuSans-75\" transform=\"scale(0.015625)\"/>\r\n      <path d=\"M 628 4666 \r\nL 1259 4666 \r\nL 1259 2694 \r\nL 3353 4666 \r\nL 4166 4666 \r\nL 1850 2491 \r\nL 4331 0 \r\nL 3500 0 \r\nL 1259 2247 \r\nL 1259 0 \r\nL 628 0 \r\nL 628 4666 \r\nz\r\n\" id=\"DejaVuSans-4b\" transform=\"scale(0.015625)\"/>\r\n     </defs>\r\n     <use xlink:href=\"#DejaVuSans-4a\"/>\r\n     <use x=\"29.492188\" xlink:href=\"#DejaVuSans-61\"/>\r\n     <use x=\"90.771484\" xlink:href=\"#DejaVuSans-6d\"/>\r\n     <use x=\"188.183594\" xlink:href=\"#DejaVuSans-6d\"/>\r\n     <use x=\"285.595703\" xlink:href=\"#DejaVuSans-75\"/>\r\n     <use x=\"348.974609\" xlink:href=\"#DejaVuSans-20\"/>\r\n     <use x=\"380.761719\" xlink:href=\"#DejaVuSans-41\"/>\r\n     <use x=\"449.169922\" xlink:href=\"#DejaVuSans-6e\"/>\r\n     <use x=\"512.548828\" xlink:href=\"#DejaVuSans-64\"/>\r\n     <use x=\"576.025391\" xlink:href=\"#DejaVuSans-20\"/>\r\n     <use x=\"607.8125\" xlink:href=\"#DejaVuSans-4b\"/>\r\n     <use x=\"671.638672\" xlink:href=\"#DejaVuSans-61\"/>\r\n     <use x=\"732.917969\" xlink:href=\"#DejaVuSans-73\"/>\r\n     <use x=\"785.017578\" xlink:href=\"#DejaVuSans-68\"/>\r\n     <use x=\"848.396484\" xlink:href=\"#DejaVuSans-6d\"/>\r\n     <use x=\"945.808594\" xlink:href=\"#DejaVuSans-69\"/>\r\n     <use x=\"973.591797\" xlink:href=\"#DejaVuSans-72\"/>\r\n    </g>\r\n   </g>\r\n  </g>\r\n  <g id=\"axes_2\">\r\n   <g id=\"patch_11\">\r\n    <path d=\"M 907.783937 344.290909 \r\nL 1534.183937 344.290909 \r\nL 1534.183937 79.2 \r\nL 907.783937 79.2 \r\nz\r\n\" style=\"fill:#f0f0f0;\"/>\r\n   </g>\r\n   <g id=\"matplotlib.axis_3\">\r\n    <g id=\"xtick_7\">\r\n     <g id=\"line2d_41\">\r\n      <path clip-path=\"url(#p2b237070a7)\" d=\"M 1002.543169 344.290909 \r\nL 1002.543169 79.2 \r\n\" style=\"fill:none;stroke:#cbcbcb;\"/>\r\n     </g>\r\n     <g id=\"line2d_42\"/>\r\n     <g id=\"text_15\">\r\n      <!-- 70 -->\r\n      <g transform=\"translate(993.635669 358.428722)scale(0.14 -0.14)\">\r\n       <defs>\r\n        <path d=\"M 525 4666 \r\nL 3525 4666 \r\nL 3525 4397 \r\nL 1831 0 \r\nL 1172 0 \r\nL 2766 4134 \r\nL 525 4134 \r\nL 525 4666 \r\nz\r\n\" id=\"DejaVuSans-37\" transform=\"scale(0.015625)\"/>\r\n       </defs>\r\n       <use xlink:href=\"#DejaVuSans-37\"/>\r\n       <use x=\"63.623047\" xlink:href=\"#DejaVuSans-30\"/>\r\n      </g>\r\n     </g>\r\n    </g>\r\n    <g id=\"xtick_8\">\r\n     <g id=\"line2d_43\">\r\n      <path clip-path=\"url(#p2b237070a7)\" d=\"M 1122.032137 344.290909 \r\nL 1122.032137 79.2 \r\n\" style=\"fill:none;stroke:#cbcbcb;\"/>\r\n     </g>\r\n     <g id=\"line2d_44\"/>\r\n     <g id=\"text_16\">\r\n      <!-- 80 -->\r\n      <g transform=\"translate(1113.124637 358.428722)scale(0.14 -0.14)\">\r\n       <use xlink:href=\"#DejaVuSans-38\"/>\r\n       <use x=\"63.623047\" xlink:href=\"#DejaVuSans-30\"/>\r\n      </g>\r\n     </g>\r\n    </g>\r\n    <g id=\"xtick_9\">\r\n     <g id=\"line2d_45\">\r\n      <path clip-path=\"url(#p2b237070a7)\" d=\"M 1241.521104 344.290909 \r\nL 1241.521104 79.2 \r\n\" style=\"fill:none;stroke:#cbcbcb;\"/>\r\n     </g>\r\n     <g id=\"line2d_46\"/>\r\n     <g id=\"text_17\">\r\n      <!-- 90 -->\r\n      <g transform=\"translate(1232.613604 358.428722)scale(0.14 -0.14)\">\r\n       <defs>\r\n        <path d=\"M 703 97 \r\nL 703 672 \r\nQ 941 559 1184 500 \r\nQ 1428 441 1663 441 \r\nQ 2288 441 2617 861 \r\nQ 2947 1281 2994 2138 \r\nQ 2813 1869 2534 1725 \r\nQ 2256 1581 1919 1581 \r\nQ 1219 1581 811 2004 \r\nQ 403 2428 403 3163 \r\nQ 403 3881 828 4315 \r\nQ 1253 4750 1959 4750 \r\nQ 2769 4750 3195 4129 \r\nQ 3622 3509 3622 2328 \r\nQ 3622 1225 3098 567 \r\nQ 2575 -91 1691 -91 \r\nQ 1453 -91 1209 -44 \r\nQ 966 3 703 97 \r\nz\r\nM 1959 2075 \r\nQ 2384 2075 2632 2365 \r\nQ 2881 2656 2881 3163 \r\nQ 2881 3666 2632 3958 \r\nQ 2384 4250 1959 4250 \r\nQ 1534 4250 1286 3958 \r\nQ 1038 3666 1038 3163 \r\nQ 1038 2656 1286 2365 \r\nQ 1534 2075 1959 2075 \r\nz\r\n\" id=\"DejaVuSans-39\" transform=\"scale(0.015625)\"/>\r\n       </defs>\r\n       <use xlink:href=\"#DejaVuSans-39\"/>\r\n       <use x=\"63.623047\" xlink:href=\"#DejaVuSans-30\"/>\r\n      </g>\r\n     </g>\r\n    </g>\r\n    <g id=\"xtick_10\">\r\n     <g id=\"line2d_47\">\r\n      <path clip-path=\"url(#p2b237070a7)\" d=\"M 1361.010071 344.290909 \r\nL 1361.010071 79.2 \r\n\" style=\"fill:none;stroke:#cbcbcb;\"/>\r\n     </g>\r\n     <g id=\"line2d_48\"/>\r\n     <g id=\"text_18\">\r\n      <!-- 100 -->\r\n      <g transform=\"translate(1347.648821 358.428722)scale(0.14 -0.14)\">\r\n       <use xlink:href=\"#DejaVuSans-31\"/>\r\n       <use x=\"63.623047\" xlink:href=\"#DejaVuSans-30\"/>\r\n       <use x=\"127.246094\" xlink:href=\"#DejaVuSans-30\"/>\r\n      </g>\r\n     </g>\r\n    </g>\r\n    <g id=\"xtick_11\">\r\n     <g id=\"line2d_49\">\r\n      <path clip-path=\"url(#p2b237070a7)\" d=\"M 1480.499038 344.290909 \r\nL 1480.499038 79.2 \r\n\" style=\"fill:none;stroke:#cbcbcb;\"/>\r\n     </g>\r\n     <g id=\"line2d_50\"/>\r\n     <g id=\"text_19\">\r\n      <!-- 110 -->\r\n      <g transform=\"translate(1467.137788 358.428722)scale(0.14 -0.14)\">\r\n       <use xlink:href=\"#DejaVuSans-31\"/>\r\n       <use x=\"63.623047\" xlink:href=\"#DejaVuSans-31\"/>\r\n       <use x=\"127.246094\" xlink:href=\"#DejaVuSans-30\"/>\r\n      </g>\r\n     </g>\r\n    </g>\r\n    <g id=\"text_20\">\r\n     <!-- Average enrollment rates -->\r\n     <g transform=\"translate(1114.180562 378.105659)scale(0.168 -0.168)\">\r\n      <use xlink:href=\"#DejaVuSans-41\"/>\r\n      <use x=\"62.533203\" xlink:href=\"#DejaVuSans-76\"/>\r\n      <use x=\"121.712891\" xlink:href=\"#DejaVuSans-65\"/>\r\n      <use x=\"183.236328\" xlink:href=\"#DejaVuSans-72\"/>\r\n      <use x=\"224.349609\" xlink:href=\"#DejaVuSans-61\"/>\r\n      <use x=\"285.628906\" xlink:href=\"#DejaVuSans-67\"/>\r\n      <use x=\"349.105469\" xlink:href=\"#DejaVuSans-65\"/>\r\n      <use x=\"410.628906\" xlink:href=\"#DejaVuSans-20\"/>\r\n      <use x=\"442.416016\" xlink:href=\"#DejaVuSans-65\"/>\r\n      <use x=\"503.939453\" xlink:href=\"#DejaVuSans-6e\"/>\r\n      <use x=\"567.318359\" xlink:href=\"#DejaVuSans-72\"/>\r\n      <use x=\"606.181641\" xlink:href=\"#DejaVuSans-6f\"/>\r\n      <use x=\"667.363281\" xlink:href=\"#DejaVuSans-6c\"/>\r\n      <use x=\"695.146484\" xlink:href=\"#DejaVuSans-6c\"/>\r\n      <use x=\"722.929688\" xlink:href=\"#DejaVuSans-6d\"/>\r\n      <use x=\"820.341797\" xlink:href=\"#DejaVuSans-65\"/>\r\n      <use x=\"881.865234\" xlink:href=\"#DejaVuSans-6e\"/>\r\n      <use x=\"945.244141\" xlink:href=\"#DejaVuSans-74\"/>\r\n      <use x=\"984.453125\" xlink:href=\"#DejaVuSans-20\"/>\r\n      <use x=\"1016.240234\" xlink:href=\"#DejaVuSans-72\"/>\r\n      <use x=\"1057.353516\" xlink:href=\"#DejaVuSans-61\"/>\r\n      <use x=\"1118.632812\" xlink:href=\"#DejaVuSans-74\"/>\r\n      <use x=\"1157.841797\" xlink:href=\"#DejaVuSans-65\"/>\r\n      <use x=\"1219.365234\" xlink:href=\"#DejaVuSans-73\"/>\r\n     </g>\r\n    </g>\r\n   </g>\r\n   <g id=\"matplotlib.axis_4\">\r\n    <g id=\"ytick_5\">\r\n     <g id=\"line2d_51\"/>\r\n     <g id=\"text_21\">\r\n      <!-- Boys -->\r\n      <g transform=\"translate(870.533 150.791634)scale(0.14 -0.14)\">\r\n       <defs>\r\n        <path d=\"M 1259 2228 \r\nL 1259 519 \r\nL 2272 519 \r\nQ 2781 519 3026 730 \r\nQ 3272 941 3272 1375 \r\nQ 3272 1813 3026 2020 \r\nQ 2781 2228 2272 2228 \r\nL 1259 2228 \r\nz\r\nM 1259 4147 \r\nL 1259 2741 \r\nL 2194 2741 \r\nQ 2656 2741 2882 2914 \r\nQ 3109 3088 3109 3444 \r\nQ 3109 3797 2882 3972 \r\nQ 2656 4147 2194 4147 \r\nL 1259 4147 \r\nz\r\nM 628 4666 \r\nL 2241 4666 \r\nQ 2963 4666 3353 4366 \r\nQ 3744 4066 3744 3513 \r\nQ 3744 3084 3544 2831 \r\nQ 3344 2578 2956 2516 \r\nQ 3422 2416 3680 2098 \r\nQ 3938 1781 3938 1306 \r\nQ 3938 681 3513 340 \r\nQ 3088 0 2303 0 \r\nL 628 0 \r\nL 628 4666 \r\nz\r\n\" id=\"DejaVuSans-42\" transform=\"scale(0.015625)\"/>\r\n       </defs>\r\n       <use xlink:href=\"#DejaVuSans-42\"/>\r\n       <use x=\"68.603516\" xlink:href=\"#DejaVuSans-6f\"/>\r\n       <use x=\"129.785156\" xlink:href=\"#DejaVuSans-79\"/>\r\n       <use x=\"188.964844\" xlink:href=\"#DejaVuSans-73\"/>\r\n      </g>\r\n     </g>\r\n    </g>\r\n    <g id=\"ytick_6\">\r\n     <g id=\"line2d_52\"/>\r\n     <g id=\"text_22\">\r\n      <!-- Girls -->\r\n      <g transform=\"translate(872.608938 283.337088)scale(0.14 -0.14)\">\r\n       <defs>\r\n        <path d=\"M 3809 666 \r\nL 3809 1919 \r\nL 2778 1919 \r\nL 2778 2438 \r\nL 4434 2438 \r\nL 4434 434 \r\nQ 4069 175 3628 42 \r\nQ 3188 -91 2688 -91 \r\nQ 1594 -91 976 548 \r\nQ 359 1188 359 2328 \r\nQ 359 3472 976 4111 \r\nQ 1594 4750 2688 4750 \r\nQ 3144 4750 3555 4637 \r\nQ 3966 4525 4313 4306 \r\nL 4313 3634 \r\nQ 3963 3931 3569 4081 \r\nQ 3175 4231 2741 4231 \r\nQ 1884 4231 1454 3753 \r\nQ 1025 3275 1025 2328 \r\nQ 1025 1384 1454 906 \r\nQ 1884 428 2741 428 \r\nQ 3075 428 3337 486 \r\nQ 3600 544 3809 666 \r\nz\r\n\" id=\"DejaVuSans-47\" transform=\"scale(0.015625)\"/>\r\n       </defs>\r\n       <use xlink:href=\"#DejaVuSans-47\"/>\r\n       <use x=\"77.490234\" xlink:href=\"#DejaVuSans-69\"/>\r\n       <use x=\"105.273438\" xlink:href=\"#DejaVuSans-72\"/>\r\n       <use x=\"146.386719\" xlink:href=\"#DejaVuSans-6c\"/>\r\n       <use x=\"174.169922\" xlink:href=\"#DejaVuSans-73\"/>\r\n      </g>\r\n     </g>\r\n    </g>\r\n    <g id=\"text_23\">\r\n     <!-- Sex -->\r\n     <g transform=\"translate(863.039125 227.071517)rotate(-90)scale(0.168 -0.168)\">\r\n      <defs>\r\n       <path d=\"M 3513 3500 \r\nL 2247 1797 \r\nL 3578 0 \r\nL 2900 0 \r\nL 1881 1375 \r\nL 863 0 \r\nL 184 0 \r\nL 1544 1831 \r\nL 300 3500 \r\nL 978 3500 \r\nL 1906 2253 \r\nL 2834 3500 \r\nL 3513 3500 \r\nz\r\n\" id=\"DejaVuSans-78\" transform=\"scale(0.015625)\"/>\r\n      </defs>\r\n      <use xlink:href=\"#DejaVuSans-53\"/>\r\n      <use x=\"63.476562\" xlink:href=\"#DejaVuSans-65\"/>\r\n      <use x=\"123.25\" xlink:href=\"#DejaVuSans-78\"/>\r\n     </g>\r\n    </g>\r\n   </g>\r\n   <g id=\"patch_12\">\r\n    <path clip-path=\"url(#p2b237070a7)\" d=\"M 1100.748164 92.454545 \r\nL 1100.748164 198.490909 \r\nL 1277.927898 198.490909 \r\nL 1277.927898 92.454545 \r\nL 1100.748164 92.454545 \r\nz\r\n\" style=\"fill:#1b86ba;stroke:#404040;stroke-linejoin:miter;stroke-width:4;\"/>\r\n   </g>\r\n   <g id=\"patch_13\">\r\n    <path clip-path=\"url(#p2b237070a7)\" d=\"M 1113.886972 225 \r\nL 1113.886972 331.036364 \r\nL 1298.504894 331.036364 \r\nL 1298.504894 225 \r\nL 1113.886972 225 \r\nz\r\n\" style=\"fill:#e36149;stroke:#404040;stroke-linejoin:miter;stroke-width:4;\"/>\r\n   </g>\r\n   <g id=\"line2d_53\">\r\n    <path clip-path=\"url(#p2b237070a7)\" d=\"M 1100.748164 145.472727 \r\nL 936.256665 145.472727 \r\n\" style=\"fill:none;stroke:#404040;stroke-width:4;\"/>\r\n   </g>\r\n   <g id=\"line2d_54\">\r\n    <path clip-path=\"url(#p2b237070a7)\" d=\"M 1277.927898 145.472727 \r\nL 1415.158488 145.472727 \r\n\" style=\"fill:none;stroke:#404040;stroke-width:4;\"/>\r\n   </g>\r\n   <g id=\"line2d_55\">\r\n    <path clip-path=\"url(#p2b237070a7)\" d=\"M 936.256665 118.963636 \r\nL 936.256665 171.981818 \r\n\" style=\"fill:none;stroke:#404040;stroke-width:4;\"/>\r\n   </g>\r\n   <g id=\"line2d_56\">\r\n    <path clip-path=\"url(#p2b237070a7)\" d=\"M 1415.158488 118.963636 \r\nL 1415.158488 171.981818 \r\n\" style=\"fill:none;stroke:#404040;stroke-width:4;\"/>\r\n   </g>\r\n   <g id=\"line2d_57\"/>\r\n   <g id=\"line2d_58\">\r\n    <path clip-path=\"url(#p2b237070a7)\" d=\"M 1113.886972 278.018182 \r\nL 992.575798 278.018182 \r\n\" style=\"fill:none;stroke:#404040;stroke-width:4;\"/>\r\n   </g>\r\n   <g id=\"line2d_59\">\r\n    <path clip-path=\"url(#p2b237070a7)\" d=\"M 1298.504894 278.018182 \r\nL 1505.71121 278.018182 \r\n\" style=\"fill:none;stroke:#404040;stroke-width:4;\"/>\r\n   </g>\r\n   <g id=\"line2d_60\">\r\n    <path clip-path=\"url(#p2b237070a7)\" d=\"M 992.575798 251.509091 \r\nL 992.575798 304.527273 \r\n\" style=\"fill:none;stroke:#404040;stroke-width:4;\"/>\r\n   </g>\r\n   <g id=\"line2d_61\">\r\n    <path clip-path=\"url(#p2b237070a7)\" d=\"M 1505.71121 251.509091 \r\nL 1505.71121 304.527273 \r\n\" style=\"fill:none;stroke:#404040;stroke-width:4;\"/>\r\n   </g>\r\n   <g id=\"line2d_62\"/>\r\n   <g id=\"line2d_63\">\r\n    <path clip-path=\"url(#p2b237070a7)\" d=\"M 1194.208451 92.454545 \r\nL 1194.208451 198.490909 \r\n\" style=\"fill:none;stroke:#404040;stroke-width:4;\"/>\r\n   </g>\r\n   <g id=\"line2d_64\">\r\n    <path clip-path=\"url(#p2b237070a7)\" d=\"M 1223.572865 225 \r\nL 1223.572865 331.036364 \r\n\" style=\"fill:none;stroke:#404040;stroke-width:4;\"/>\r\n   </g>\r\n   <g id=\"patch_14\">\r\n    <path d=\"M 907.783937 344.290909 \r\nL 907.783937 79.2 \r\n\" style=\"fill:none;stroke:#f0f0f0;stroke-linecap:square;stroke-linejoin:miter;stroke-width:3;\"/>\r\n   </g>\r\n   <g id=\"patch_15\">\r\n    <path d=\"M 1534.183937 344.290909 \r\nL 1534.183937 79.2 \r\n\" style=\"fill:none;stroke:#f0f0f0;stroke-linecap:square;stroke-linejoin:miter;stroke-width:3;\"/>\r\n   </g>\r\n   <g id=\"patch_16\">\r\n    <path d=\"M 907.783937 344.290909 \r\nL 1534.183937 344.290909 \r\n\" style=\"fill:none;stroke:#f0f0f0;stroke-linecap:square;stroke-linejoin:miter;stroke-width:3;\"/>\r\n   </g>\r\n   <g id=\"patch_17\">\r\n    <path d=\"M 907.783937 79.2 \r\nL 1534.183937 79.2 \r\n\" style=\"fill:none;stroke:#f0f0f0;stroke-linecap:square;stroke-linejoin:miter;stroke-width:3;\"/>\r\n   </g>\r\n  </g>\r\n  <g id=\"axes_3\">\r\n   <g id=\"patch_18\">\r\n    <path d=\"M 156.103938 662.4 \r\nL 782.503938 662.4 \r\nL 782.503938 397.309091 \r\nL 156.103938 397.309091 \r\nz\r\n\" style=\"fill:#f0f0f0;\"/>\r\n   </g>\r\n   <g id=\"matplotlib.axis_5\">\r\n    <g id=\"xtick_12\">\r\n     <g id=\"line2d_65\">\r\n      <path clip-path=\"url(#p4b4eadbb9f)\" d=\"M 184.576665 662.4 \r\nL 184.576665 397.309091 \r\n\" style=\"fill:none;stroke:#cbcbcb;\"/>\r\n     </g>\r\n     <g id=\"line2d_66\"/>\r\n     <g id=\"text_24\">\r\n      <!-- 0 -->\r\n      <g transform=\"translate(180.122915 676.537812)scale(0.14 -0.14)\">\r\n       <use xlink:href=\"#DejaVuSans-30\"/>\r\n      </g>\r\n     </g>\r\n    </g>\r\n    <g id=\"xtick_13\">\r\n     <g id=\"line2d_67\">\r\n      <path clip-path=\"url(#p4b4eadbb9f)\" d=\"M 317.110694 662.4 \r\nL 317.110694 397.309091 \r\n\" style=\"fill:none;stroke:#cbcbcb;\"/>\r\n     </g>\r\n     <g id=\"line2d_68\"/>\r\n     <g id=\"text_25\">\r\n      <!-- 10 -->\r\n      <g transform=\"translate(308.203194 676.537812)scale(0.14 -0.14)\">\r\n       <use xlink:href=\"#DejaVuSans-31\"/>\r\n       <use x=\"63.623047\" xlink:href=\"#DejaVuSans-30\"/>\r\n      </g>\r\n     </g>\r\n    </g>\r\n    <g id=\"xtick_14\">\r\n     <g id=\"line2d_69\">\r\n      <path clip-path=\"url(#p4b4eadbb9f)\" d=\"M 449.644723 662.4 \r\nL 449.644723 397.309091 \r\n\" style=\"fill:none;stroke:#cbcbcb;\"/>\r\n     </g>\r\n     <g id=\"line2d_70\"/>\r\n     <g id=\"text_26\">\r\n      <!-- 20 -->\r\n      <g transform=\"translate(440.737223 676.537812)scale(0.14 -0.14)\">\r\n       <use xlink:href=\"#DejaVuSans-32\"/>\r\n       <use x=\"63.623047\" xlink:href=\"#DejaVuSans-30\"/>\r\n      </g>\r\n     </g>\r\n    </g>\r\n    <g id=\"xtick_15\">\r\n     <g id=\"line2d_71\">\r\n      <path clip-path=\"url(#p4b4eadbb9f)\" d=\"M 582.178752 662.4 \r\nL 582.178752 397.309091 \r\n\" style=\"fill:none;stroke:#cbcbcb;\"/>\r\n     </g>\r\n     <g id=\"line2d_72\"/>\r\n     <g id=\"text_27\">\r\n      <!-- 30 -->\r\n      <g transform=\"translate(573.271252 676.537812)scale(0.14 -0.14)\">\r\n       <defs>\r\n        <path d=\"M 2597 2516 \r\nQ 3050 2419 3304 2112 \r\nQ 3559 1806 3559 1356 \r\nQ 3559 666 3084 287 \r\nQ 2609 -91 1734 -91 \r\nQ 1441 -91 1130 -33 \r\nQ 819 25 488 141 \r\nL 488 750 \r\nQ 750 597 1062 519 \r\nQ 1375 441 1716 441 \r\nQ 2309 441 2620 675 \r\nQ 2931 909 2931 1356 \r\nQ 2931 1769 2642 2001 \r\nQ 2353 2234 1838 2234 \r\nL 1294 2234 \r\nL 1294 2753 \r\nL 1863 2753 \r\nQ 2328 2753 2575 2939 \r\nQ 2822 3125 2822 3475 \r\nQ 2822 3834 2567 4026 \r\nQ 2313 4219 1838 4219 \r\nQ 1578 4219 1281 4162 \r\nQ 984 4106 628 3988 \r\nL 628 4550 \r\nQ 988 4650 1302 4700 \r\nQ 1616 4750 1894 4750 \r\nQ 2613 4750 3031 4423 \r\nQ 3450 4097 3450 3541 \r\nQ 3450 3153 3228 2886 \r\nQ 3006 2619 2597 2516 \r\nz\r\n\" id=\"DejaVuSans-33\" transform=\"scale(0.015625)\"/>\r\n       </defs>\r\n       <use xlink:href=\"#DejaVuSans-33\"/>\r\n       <use x=\"63.623047\" xlink:href=\"#DejaVuSans-30\"/>\r\n      </g>\r\n     </g>\r\n    </g>\r\n    <g id=\"xtick_16\">\r\n     <g id=\"line2d_73\">\r\n      <path clip-path=\"url(#p4b4eadbb9f)\" d=\"M 714.712782 662.4 \r\nL 714.712782 397.309091 \r\n\" style=\"fill:none;stroke:#cbcbcb;\"/>\r\n     </g>\r\n     <g id=\"line2d_74\"/>\r\n     <g id=\"text_28\">\r\n      <!-- 40 -->\r\n      <g transform=\"translate(705.805282 676.537812)scale(0.14 -0.14)\">\r\n       <use xlink:href=\"#DejaVuSans-34\"/>\r\n       <use x=\"63.623047\" xlink:href=\"#DejaVuSans-30\"/>\r\n      </g>\r\n     </g>\r\n    </g>\r\n    <g id=\"text_29\">\r\n     <!-- Average dropout rates -->\r\n     <g transform=\"translate(375.205563 696.21475)scale(0.168 -0.168)\">\r\n      <use xlink:href=\"#DejaVuSans-41\"/>\r\n      <use x=\"62.533203\" xlink:href=\"#DejaVuSans-76\"/>\r\n      <use x=\"121.712891\" xlink:href=\"#DejaVuSans-65\"/>\r\n      <use x=\"183.236328\" xlink:href=\"#DejaVuSans-72\"/>\r\n      <use x=\"224.349609\" xlink:href=\"#DejaVuSans-61\"/>\r\n      <use x=\"285.628906\" xlink:href=\"#DejaVuSans-67\"/>\r\n      <use x=\"349.105469\" xlink:href=\"#DejaVuSans-65\"/>\r\n      <use x=\"410.628906\" xlink:href=\"#DejaVuSans-20\"/>\r\n      <use x=\"442.416016\" xlink:href=\"#DejaVuSans-64\"/>\r\n      <use x=\"505.892578\" xlink:href=\"#DejaVuSans-72\"/>\r\n      <use x=\"544.755859\" xlink:href=\"#DejaVuSans-6f\"/>\r\n      <use x=\"605.9375\" xlink:href=\"#DejaVuSans-70\"/>\r\n      <use x=\"669.414062\" xlink:href=\"#DejaVuSans-6f\"/>\r\n      <use x=\"730.595703\" xlink:href=\"#DejaVuSans-75\"/>\r\n      <use x=\"793.974609\" xlink:href=\"#DejaVuSans-74\"/>\r\n      <use x=\"833.183594\" xlink:href=\"#DejaVuSans-20\"/>\r\n      <use x=\"864.970703\" xlink:href=\"#DejaVuSans-72\"/>\r\n      <use x=\"906.083984\" xlink:href=\"#DejaVuSans-61\"/>\r\n      <use x=\"967.363281\" xlink:href=\"#DejaVuSans-74\"/>\r\n      <use x=\"1006.572266\" xlink:href=\"#DejaVuSans-65\"/>\r\n      <use x=\"1068.095703\" xlink:href=\"#DejaVuSans-73\"/>\r\n     </g>\r\n    </g>\r\n   </g>\r\n   <g id=\"matplotlib.axis_6\">\r\n    <g id=\"ytick_7\">\r\n     <g id=\"line2d_75\"/>\r\n     <g id=\"text_30\">\r\n      <!-- Primary -->\r\n      <g transform=\"translate(98.504875 435.764361)scale(0.14 -0.14)\">\r\n       <use xlink:href=\"#DejaVuSans-50\"/>\r\n       <use x=\"58.552734\" xlink:href=\"#DejaVuSans-72\"/>\r\n       <use x=\"99.666016\" xlink:href=\"#DejaVuSans-69\"/>\r\n       <use x=\"127.449219\" xlink:href=\"#DejaVuSans-6d\"/>\r\n       <use x=\"224.861328\" xlink:href=\"#DejaVuSans-61\"/>\r\n       <use x=\"286.140625\" xlink:href=\"#DejaVuSans-72\"/>\r\n       <use x=\"327.253906\" xlink:href=\"#DejaVuSans-79\"/>\r\n      </g>\r\n     </g>\r\n    </g>\r\n    <g id=\"ytick_8\">\r\n     <g id=\"line2d_76\"/>\r\n     <g id=\"text_31\">\r\n      <!-- Upper Primary -->\r\n      <g transform=\"translate(51.663938 502.037088)scale(0.14 -0.14)\">\r\n       <use xlink:href=\"#DejaVuSans-55\"/>\r\n       <use x=\"73.193359\" xlink:href=\"#DejaVuSans-70\"/>\r\n       <use x=\"136.669922\" xlink:href=\"#DejaVuSans-70\"/>\r\n       <use x=\"200.146484\" xlink:href=\"#DejaVuSans-65\"/>\r\n       <use x=\"261.669922\" xlink:href=\"#DejaVuSans-72\"/>\r\n       <use x=\"302.783203\" xlink:href=\"#DejaVuSans-20\"/>\r\n       <use x=\"334.570312\" xlink:href=\"#DejaVuSans-50\"/>\r\n       <use x=\"393.123047\" xlink:href=\"#DejaVuSans-72\"/>\r\n       <use x=\"434.236328\" xlink:href=\"#DejaVuSans-69\"/>\r\n       <use x=\"462.019531\" xlink:href=\"#DejaVuSans-6d\"/>\r\n       <use x=\"559.431641\" xlink:href=\"#DejaVuSans-61\"/>\r\n       <use x=\"620.710938\" xlink:href=\"#DejaVuSans-72\"/>\r\n       <use x=\"661.824219\" xlink:href=\"#DejaVuSans-79\"/>\r\n      </g>\r\n     </g>\r\n    </g>\r\n    <g id=\"ytick_9\">\r\n     <g id=\"line2d_77\"/>\r\n     <g id=\"text_32\">\r\n      <!-- Secondary -->\r\n      <g transform=\"translate(78.456438 568.309815)scale(0.14 -0.14)\">\r\n       <use xlink:href=\"#DejaVuSans-53\"/>\r\n       <use x=\"63.476562\" xlink:href=\"#DejaVuSans-65\"/>\r\n       <use x=\"125\" xlink:href=\"#DejaVuSans-63\"/>\r\n       <use x=\"179.980469\" xlink:href=\"#DejaVuSans-6f\"/>\r\n       <use x=\"241.162109\" xlink:href=\"#DejaVuSans-6e\"/>\r\n       <use x=\"304.541016\" xlink:href=\"#DejaVuSans-64\"/>\r\n       <use x=\"368.017578\" xlink:href=\"#DejaVuSans-61\"/>\r\n       <use x=\"429.296875\" xlink:href=\"#DejaVuSans-72\"/>\r\n       <use x=\"470.410156\" xlink:href=\"#DejaVuSans-79\"/>\r\n      </g>\r\n     </g>\r\n    </g>\r\n    <g id=\"ytick_10\">\r\n     <g id=\"line2d_78\"/>\r\n     <g id=\"text_33\">\r\n      <!-- Higher Secondary -->\r\n      <g transform=\"translate(27.45925 634.582543)scale(0.14 -0.14)\">\r\n       <use xlink:href=\"#DejaVuSans-48\"/>\r\n       <use x=\"75.195312\" xlink:href=\"#DejaVuSans-69\"/>\r\n       <use x=\"102.978516\" xlink:href=\"#DejaVuSans-67\"/>\r\n       <use x=\"166.455078\" xlink:href=\"#DejaVuSans-68\"/>\r\n       <use x=\"229.833984\" xlink:href=\"#DejaVuSans-65\"/>\r\n       <use x=\"291.357422\" xlink:href=\"#DejaVuSans-72\"/>\r\n       <use x=\"332.470703\" xlink:href=\"#DejaVuSans-20\"/>\r\n       <use x=\"364.257812\" xlink:href=\"#DejaVuSans-53\"/>\r\n       <use x=\"427.734375\" xlink:href=\"#DejaVuSans-65\"/>\r\n       <use x=\"489.257812\" xlink:href=\"#DejaVuSans-63\"/>\r\n       <use x=\"544.238281\" xlink:href=\"#DejaVuSans-6f\"/>\r\n       <use x=\"605.419922\" xlink:href=\"#DejaVuSans-6e\"/>\r\n       <use x=\"668.798828\" xlink:href=\"#DejaVuSans-64\"/>\r\n       <use x=\"732.275391\" xlink:href=\"#DejaVuSans-61\"/>\r\n       <use x=\"793.554688\" xlink:href=\"#DejaVuSans-72\"/>\r\n       <use x=\"834.667969\" xlink:href=\"#DejaVuSans-79\"/>\r\n      </g>\r\n     </g>\r\n    </g>\r\n    <g id=\"text_34\">\r\n     <!-- School section -->\r\n     <g transform=\"translate(19.965375 590.665295)rotate(-90)scale(0.168 -0.168)\">\r\n      <use xlink:href=\"#DejaVuSans-53\"/>\r\n      <use x=\"63.476562\" xlink:href=\"#DejaVuSans-63\"/>\r\n      <use x=\"118.457031\" xlink:href=\"#DejaVuSans-68\"/>\r\n      <use x=\"181.835938\" xlink:href=\"#DejaVuSans-6f\"/>\r\n      <use x=\"243.017578\" xlink:href=\"#DejaVuSans-6f\"/>\r\n      <use x=\"304.199219\" xlink:href=\"#DejaVuSans-6c\"/>\r\n      <use x=\"331.982422\" xlink:href=\"#DejaVuSans-20\"/>\r\n      <use x=\"363.769531\" xlink:href=\"#DejaVuSans-73\"/>\r\n      <use x=\"415.869141\" xlink:href=\"#DejaVuSans-65\"/>\r\n      <use x=\"477.392578\" xlink:href=\"#DejaVuSans-63\"/>\r\n      <use x=\"532.373047\" xlink:href=\"#DejaVuSans-74\"/>\r\n      <use x=\"571.582031\" xlink:href=\"#DejaVuSans-69\"/>\r\n      <use x=\"599.365234\" xlink:href=\"#DejaVuSans-6f\"/>\r\n      <use x=\"660.546875\" xlink:href=\"#DejaVuSans-6e\"/>\r\n     </g>\r\n    </g>\r\n   </g>\r\n   <g id=\"patch_19\">\r\n    <path clip-path=\"url(#p4b4eadbb9f)\" d=\"M 195.168343 403.936364 \r\nL 195.168343 456.954545 \r\nL 267.13432 456.954545 \r\nL 267.13432 403.936364 \r\nL 195.168343 403.936364 \r\nz\r\n\" style=\"fill:#1b86ba;stroke:#404040;stroke-linejoin:miter;stroke-width:4;\"/>\r\n   </g>\r\n   <g id=\"patch_20\">\r\n    <path clip-path=\"url(#p4b4eadbb9f)\" d=\"M 205.483908 470.209091 \r\nL 205.483908 523.227273 \r\nL 254.090763 523.227273 \r\nL 254.090763 470.209091 \r\nL 205.483908 470.209091 \r\nz\r\n\" style=\"fill:#e36149;stroke:#404040;stroke-linejoin:miter;stroke-width:4;\"/>\r\n   </g>\r\n   <g id=\"patch_21\">\r\n    <path clip-path=\"url(#p4b4eadbb9f)\" d=\"M 338.305094 536.481818 \r\nL 338.305094 589.5 \r\nL 467.117126 589.5 \r\nL 467.117126 536.481818 \r\nL 338.305094 536.481818 \r\nz\r\n\" style=\"fill:#cfa64e;stroke:#404040;stroke-linejoin:miter;stroke-width:4;\"/>\r\n   </g>\r\n   <g id=\"patch_22\">\r\n    <path clip-path=\"url(#p4b4eadbb9f)\" d=\"M 215.059491 602.754545 \r\nL 215.059491 655.772727 \r\nL 302.785974 655.772727 \r\nL 302.785974 602.754545 \r\nL 215.059491 602.754545 \r\nz\r\n\" style=\"fill:#6e8857;stroke:#404040;stroke-linejoin:miter;stroke-width:4;\"/>\r\n   </g>\r\n   <g id=\"line2d_79\">\r\n    <path clip-path=\"url(#p4b4eadbb9f)\" d=\"M 195.168343 430.445455 \r\nL 184.576665 430.445455 \r\n\" style=\"fill:none;stroke:#404040;stroke-width:4;\"/>\r\n   </g>\r\n   <g id=\"line2d_80\">\r\n    <path clip-path=\"url(#p4b4eadbb9f)\" d=\"M 267.13432 430.445455 \r\nL 350.332557 430.445455 \r\n\" style=\"fill:none;stroke:#404040;stroke-width:4;\"/>\r\n   </g>\r\n   <g id=\"line2d_81\">\r\n    <path clip-path=\"url(#p4b4eadbb9f)\" d=\"M 184.576665 417.190909 \r\nL 184.576665 443.7 \r\n\" style=\"fill:none;stroke:#404040;stroke-width:4;\"/>\r\n   </g>\r\n   <g id=\"line2d_82\">\r\n    <path clip-path=\"url(#p4b4eadbb9f)\" d=\"M 350.332557 417.190909 \r\nL 350.332557 443.7 \r\n\" style=\"fill:none;stroke:#404040;stroke-width:4;\"/>\r\n   </g>\r\n   <g id=\"line2d_83\">\r\n    <g clip-path=\"url(#p4b4eadbb9f)\">\r\n     <use style=\"fill:#404040;stroke:#404040;stroke-linejoin:miter;\" x=\"392.964337\" xlink:href=\"#m3bb112cf49\" y=\"430.445455\"/>\r\n    </g>\r\n   </g>\r\n   <g id=\"line2d_84\">\r\n    <path clip-path=\"url(#p4b4eadbb9f)\" d=\"M 205.483908 496.718182 \r\nL 184.576665 496.718182 \r\n\" style=\"fill:none;stroke:#404040;stroke-width:4;\"/>\r\n   </g>\r\n   <g id=\"line2d_85\">\r\n    <path clip-path=\"url(#p4b4eadbb9f)\" d=\"M 254.090763 496.718182 \r\nL 317.464118 496.718182 \r\n\" style=\"fill:none;stroke:#404040;stroke-width:4;\"/>\r\n   </g>\r\n   <g id=\"line2d_86\">\r\n    <path clip-path=\"url(#p4b4eadbb9f)\" d=\"M 184.576665 483.463636 \r\nL 184.576665 509.972727 \r\n\" style=\"fill:none;stroke:#404040;stroke-width:4;\"/>\r\n   </g>\r\n   <g id=\"line2d_87\">\r\n    <path clip-path=\"url(#p4b4eadbb9f)\" d=\"M 317.464118 483.463636 \r\nL 317.464118 509.972727 \r\n\" style=\"fill:none;stroke:#404040;stroke-width:4;\"/>\r\n   </g>\r\n   <g id=\"line2d_88\">\r\n    <g clip-path=\"url(#p4b4eadbb9f)\">\r\n     <use style=\"fill:#404040;stroke:#404040;stroke-linejoin:miter;\" x=\"341.894557\" xlink:href=\"#m3bb112cf49\" y=\"496.718182\"/>\r\n    </g>\r\n   </g>\r\n   <g id=\"line2d_89\">\r\n    <path clip-path=\"url(#p4b4eadbb9f)\" d=\"M 338.305094 562.990909 \r\nL 184.576665 562.990909 \r\n\" style=\"fill:none;stroke:#404040;stroke-width:4;\"/>\r\n   </g>\r\n   <g id=\"line2d_90\">\r\n    <path clip-path=\"url(#p4b4eadbb9f)\" d=\"M 467.117126 562.990909 \r\nL 598.392082 562.990909 \r\n\" style=\"fill:none;stroke:#404040;stroke-width:4;\"/>\r\n   </g>\r\n   <g id=\"line2d_91\">\r\n    <path clip-path=\"url(#p4b4eadbb9f)\" d=\"M 184.576665 549.736364 \r\nL 184.576665 576.245455 \r\n\" style=\"fill:none;stroke:#404040;stroke-width:4;\"/>\r\n   </g>\r\n   <g id=\"line2d_92\">\r\n    <path clip-path=\"url(#p4b4eadbb9f)\" d=\"M 598.392082 549.736364 \r\nL 598.392082 576.245455 \r\n\" style=\"fill:none;stroke:#404040;stroke-width:4;\"/>\r\n   </g>\r\n   <g id=\"line2d_93\">\r\n    <g clip-path=\"url(#p4b4eadbb9f)\">\r\n     <use style=\"fill:#404040;stroke:#404040;stroke-linejoin:miter;\" x=\"754.03121\" xlink:href=\"#m3bb112cf49\" y=\"562.990909\"/>\r\n    </g>\r\n   </g>\r\n   <g id=\"line2d_94\">\r\n    <path clip-path=\"url(#p4b4eadbb9f)\" d=\"M 215.059491 629.263636 \r\nL 184.576665 629.263636 \r\n\" style=\"fill:none;stroke:#404040;stroke-width:4;\"/>\r\n   </g>\r\n   <g id=\"line2d_95\">\r\n    <path clip-path=\"url(#p4b4eadbb9f)\" d=\"M 302.785974 629.263636 \r\nL 412.535195 629.263636 \r\n\" style=\"fill:none;stroke:#404040;stroke-width:4;\"/>\r\n   </g>\r\n   <g id=\"line2d_96\">\r\n    <path clip-path=\"url(#p4b4eadbb9f)\" d=\"M 184.576665 616.009091 \r\nL 184.576665 642.518182 \r\n\" style=\"fill:none;stroke:#404040;stroke-width:4;\"/>\r\n   </g>\r\n   <g id=\"line2d_97\">\r\n    <path clip-path=\"url(#p4b4eadbb9f)\" d=\"M 412.535195 616.009091 \r\nL 412.535195 642.518182 \r\n\" style=\"fill:none;stroke:#404040;stroke-width:4;\"/>\r\n   </g>\r\n   <g id=\"line2d_98\"/>\r\n   <g id=\"line2d_99\">\r\n    <path clip-path=\"url(#p4b4eadbb9f)\" d=\"M 219.433114 403.936364 \r\nL 219.433114 456.954545 \r\n\" style=\"fill:none;stroke:#404040;stroke-width:4;\"/>\r\n   </g>\r\n   <g id=\"line2d_100\">\r\n    <path clip-path=\"url(#p4b4eadbb9f)\" d=\"M 228.644229 470.209091 \r\nL 228.644229 523.227273 \r\n\" style=\"fill:none;stroke:#404040;stroke-width:4;\"/>\r\n   </g>\r\n   <g id=\"line2d_101\">\r\n    <path clip-path=\"url(#p4b4eadbb9f)\" d=\"M 384.327536 536.481818 \r\nL 384.327536 589.5 \r\n\" style=\"fill:none;stroke:#404040;stroke-width:4;\"/>\r\n   </g>\r\n   <g id=\"line2d_102\">\r\n    <path clip-path=\"url(#p4b4eadbb9f)\" d=\"M 246.116632 602.754545 \r\nL 246.116632 655.772727 \r\n\" style=\"fill:none;stroke:#404040;stroke-width:4;\"/>\r\n   </g>\r\n   <g id=\"patch_23\">\r\n    <path d=\"M 156.103938 662.4 \r\nL 156.103938 397.309091 \r\n\" style=\"fill:none;stroke:#f0f0f0;stroke-linecap:square;stroke-linejoin:miter;stroke-width:3;\"/>\r\n   </g>\r\n   <g id=\"patch_24\">\r\n    <path d=\"M 782.503938 662.4 \r\nL 782.503938 397.309091 \r\n\" style=\"fill:none;stroke:#f0f0f0;stroke-linecap:square;stroke-linejoin:miter;stroke-width:3;\"/>\r\n   </g>\r\n   <g id=\"patch_25\">\r\n    <path d=\"M 156.103938 662.4 \r\nL 782.503938 662.4 \r\n\" style=\"fill:none;stroke:#f0f0f0;stroke-linecap:square;stroke-linejoin:miter;stroke-width:3;\"/>\r\n   </g>\r\n   <g id=\"patch_26\">\r\n    <path d=\"M 156.103938 397.309091 \r\nL 782.503938 397.309091 \r\n\" style=\"fill:none;stroke:#f0f0f0;stroke-linecap:square;stroke-linejoin:miter;stroke-width:3;\"/>\r\n   </g>\r\n   <g id=\"text_35\">\r\n    <!-- Mizoram -->\r\n    <g transform=\"translate(409.884514 437.072727)scale(0.14 -0.14)\">\r\n     <defs>\r\n      <path d=\"M 628 4666 \r\nL 1569 4666 \r\nL 2759 1491 \r\nL 3956 4666 \r\nL 4897 4666 \r\nL 4897 0 \r\nL 4281 0 \r\nL 4281 4097 \r\nL 3078 897 \r\nL 2444 897 \r\nL 1241 4097 \r\nL 1241 0 \r\nL 628 0 \r\nL 628 4666 \r\nz\r\n\" id=\"DejaVuSans-4d\" transform=\"scale(0.015625)\"/>\r\n      <path d=\"M 353 3500 \r\nL 3084 3500 \r\nL 3084 2975 \r\nL 922 459 \r\nL 3084 459 \r\nL 3084 0 \r\nL 275 0 \r\nL 275 525 \r\nL 2438 3041 \r\nL 353 3041 \r\nL 353 3500 \r\nz\r\n\" id=\"DejaVuSans-7a\" transform=\"scale(0.015625)\"/>\r\n     </defs>\r\n     <use xlink:href=\"#DejaVuSans-4d\"/>\r\n     <use x=\"86.279297\" xlink:href=\"#DejaVuSans-69\"/>\r\n     <use x=\"114.0625\" xlink:href=\"#DejaVuSans-7a\"/>\r\n     <use x=\"166.552734\" xlink:href=\"#DejaVuSans-6f\"/>\r\n     <use x=\"227.734375\" xlink:href=\"#DejaVuSans-72\"/>\r\n     <use x=\"268.847656\" xlink:href=\"#DejaVuSans-61\"/>\r\n     <use x=\"330.126953\" xlink:href=\"#DejaVuSans-6d\"/>\r\n    </g>\r\n   </g>\r\n   <g id=\"text_36\">\r\n    <!-- Nagaland -->\r\n    <g transform=\"translate(356.870903 496.718182)scale(0.14 -0.14)\">\r\n     <defs>\r\n      <path d=\"M 628 4666 \r\nL 1478 4666 \r\nL 3547 763 \r\nL 3547 4666 \r\nL 4159 4666 \r\nL 4159 0 \r\nL 3309 0 \r\nL 1241 3903 \r\nL 1241 0 \r\nL 628 0 \r\nL 628 4666 \r\nz\r\n\" id=\"DejaVuSans-4e\" transform=\"scale(0.015625)\"/>\r\n     </defs>\r\n     <use xlink:href=\"#DejaVuSans-4e\"/>\r\n     <use x=\"74.804688\" xlink:href=\"#DejaVuSans-61\"/>\r\n     <use x=\"136.083984\" xlink:href=\"#DejaVuSans-67\"/>\r\n     <use x=\"199.560547\" xlink:href=\"#DejaVuSans-61\"/>\r\n     <use x=\"260.839844\" xlink:href=\"#DejaVuSans-6c\"/>\r\n     <use x=\"288.623047\" xlink:href=\"#DejaVuSans-61\"/>\r\n     <use x=\"349.902344\" xlink:href=\"#DejaVuSans-6e\"/>\r\n     <use x=\"413.28125\" xlink:href=\"#DejaVuSans-64\"/>\r\n    </g>\r\n   </g>\r\n   <g id=\"text_37\">\r\n    <!-- Mizoram -->\r\n    <g transform=\"translate(674.952573 562.990909)scale(0.14 -0.14)\">\r\n     <use xlink:href=\"#DejaVuSans-4d\"/>\r\n     <use x=\"86.279297\" xlink:href=\"#DejaVuSans-69\"/>\r\n     <use x=\"114.0625\" xlink:href=\"#DejaVuSans-7a\"/>\r\n     <use x=\"166.552734\" xlink:href=\"#DejaVuSans-6f\"/>\r\n     <use x=\"227.734375\" xlink:href=\"#DejaVuSans-72\"/>\r\n     <use x=\"268.847656\" xlink:href=\"#DejaVuSans-61\"/>\r\n     <use x=\"330.126953\" xlink:href=\"#DejaVuSans-6d\"/>\r\n    </g>\r\n   </g>\r\n  </g>\r\n  <g id=\"axes_4\">\r\n   <g id=\"patch_27\">\r\n    <path d=\"M 907.783937 662.4 \r\nL 1534.183937 662.4 \r\nL 1534.183937 397.309091 \r\nL 907.783937 397.309091 \r\nz\r\n\" style=\"fill:#f0f0f0;\"/>\r\n   </g>\r\n   <g id=\"matplotlib.axis_7\">\r\n    <g id=\"xtick_17\">\r\n     <g id=\"line2d_103\">\r\n      <path clip-path=\"url(#pac3fa796a6)\" d=\"M 913.734069 662.4 \r\nL 913.734069 397.309091 \r\n\" style=\"fill:none;stroke:#cbcbcb;\"/>\r\n     </g>\r\n     <g id=\"line2d_104\"/>\r\n     <g id=\"text_38\">\r\n      <!-- 2 -->\r\n      <g transform=\"translate(909.280319 676.537812)scale(0.14 -0.14)\">\r\n       <use xlink:href=\"#DejaVuSans-32\"/>\r\n      </g>\r\n     </g>\r\n    </g>\r\n    <g id=\"xtick_18\">\r\n     <g id=\"line2d_105\">\r\n      <path clip-path=\"url(#pac3fa796a6)\" d=\"M 998.458569 662.4 \r\nL 998.458569 397.309091 \r\n\" style=\"fill:none;stroke:#cbcbcb;\"/>\r\n     </g>\r\n     <g id=\"line2d_106\"/>\r\n     <g id=\"text_39\">\r\n      <!-- 4 -->\r\n      <g transform=\"translate(994.004819 676.537812)scale(0.14 -0.14)\">\r\n       <use xlink:href=\"#DejaVuSans-34\"/>\r\n      </g>\r\n     </g>\r\n    </g>\r\n    <g id=\"xtick_19\">\r\n     <g id=\"line2d_107\">\r\n      <path clip-path=\"url(#pac3fa796a6)\" d=\"M 1083.183068 662.4 \r\nL 1083.183068 397.309091 \r\n\" style=\"fill:none;stroke:#cbcbcb;\"/>\r\n     </g>\r\n     <g id=\"line2d_108\"/>\r\n     <g id=\"text_40\">\r\n      <!-- 6 -->\r\n      <g transform=\"translate(1078.729318 676.537812)scale(0.14 -0.14)\">\r\n       <use xlink:href=\"#DejaVuSans-36\"/>\r\n      </g>\r\n     </g>\r\n    </g>\r\n    <g id=\"xtick_20\">\r\n     <g id=\"line2d_109\">\r\n      <path clip-path=\"url(#pac3fa796a6)\" d=\"M 1167.907568 662.4 \r\nL 1167.907568 397.309091 \r\n\" style=\"fill:none;stroke:#cbcbcb;\"/>\r\n     </g>\r\n     <g id=\"line2d_110\"/>\r\n     <g id=\"text_41\">\r\n      <!-- 8 -->\r\n      <g transform=\"translate(1163.453818 676.537812)scale(0.14 -0.14)\">\r\n       <use xlink:href=\"#DejaVuSans-38\"/>\r\n      </g>\r\n     </g>\r\n    </g>\r\n    <g id=\"xtick_21\">\r\n     <g id=\"line2d_111\">\r\n      <path clip-path=\"url(#pac3fa796a6)\" d=\"M 1252.632068 662.4 \r\nL 1252.632068 397.309091 \r\n\" style=\"fill:none;stroke:#cbcbcb;\"/>\r\n     </g>\r\n     <g id=\"line2d_112\"/>\r\n     <g id=\"text_42\">\r\n      <!-- 10 -->\r\n      <g transform=\"translate(1243.724568 676.537812)scale(0.14 -0.14)\">\r\n       <use xlink:href=\"#DejaVuSans-31\"/>\r\n       <use x=\"63.623047\" xlink:href=\"#DejaVuSans-30\"/>\r\n      </g>\r\n     </g>\r\n    </g>\r\n    <g id=\"xtick_22\">\r\n     <g id=\"line2d_113\">\r\n      <path clip-path=\"url(#pac3fa796a6)\" d=\"M 1337.356568 662.4 \r\nL 1337.356568 397.309091 \r\n\" style=\"fill:none;stroke:#cbcbcb;\"/>\r\n     </g>\r\n     <g id=\"line2d_114\"/>\r\n     <g id=\"text_43\">\r\n      <!-- 12 -->\r\n      <g transform=\"translate(1328.449068 676.537812)scale(0.14 -0.14)\">\r\n       <use xlink:href=\"#DejaVuSans-31\"/>\r\n       <use x=\"63.623047\" xlink:href=\"#DejaVuSans-32\"/>\r\n      </g>\r\n     </g>\r\n    </g>\r\n    <g id=\"xtick_23\">\r\n     <g id=\"line2d_115\">\r\n      <path clip-path=\"url(#pac3fa796a6)\" d=\"M 1422.081068 662.4 \r\nL 1422.081068 397.309091 \r\n\" style=\"fill:none;stroke:#cbcbcb;\"/>\r\n     </g>\r\n     <g id=\"line2d_116\"/>\r\n     <g id=\"text_44\">\r\n      <!-- 14 -->\r\n      <g transform=\"translate(1413.173568 676.537812)scale(0.14 -0.14)\">\r\n       <use xlink:href=\"#DejaVuSans-31\"/>\r\n       <use x=\"63.623047\" xlink:href=\"#DejaVuSans-34\"/>\r\n      </g>\r\n     </g>\r\n    </g>\r\n    <g id=\"xtick_24\">\r\n     <g id=\"line2d_117\">\r\n      <path clip-path=\"url(#pac3fa796a6)\" d=\"M 1506.805568 662.4 \r\nL 1506.805568 397.309091 \r\n\" style=\"fill:none;stroke:#cbcbcb;\"/>\r\n     </g>\r\n     <g id=\"line2d_118\"/>\r\n     <g id=\"text_45\">\r\n      <!-- 16 -->\r\n      <g transform=\"translate(1497.898068 676.537812)scale(0.14 -0.14)\">\r\n       <use xlink:href=\"#DejaVuSans-31\"/>\r\n       <use x=\"63.623047\" xlink:href=\"#DejaVuSans-36\"/>\r\n      </g>\r\n     </g>\r\n    </g>\r\n    <g id=\"text_46\">\r\n     <!-- Average dropout rates -->\r\n     <g transform=\"translate(1126.885562 696.21475)scale(0.168 -0.168)\">\r\n      <use xlink:href=\"#DejaVuSans-41\"/>\r\n      <use x=\"62.533203\" xlink:href=\"#DejaVuSans-76\"/>\r\n      <use x=\"121.712891\" xlink:href=\"#DejaVuSans-65\"/>\r\n      <use x=\"183.236328\" xlink:href=\"#DejaVuSans-72\"/>\r\n      <use x=\"224.349609\" xlink:href=\"#DejaVuSans-61\"/>\r\n      <use x=\"285.628906\" xlink:href=\"#DejaVuSans-67\"/>\r\n      <use x=\"349.105469\" xlink:href=\"#DejaVuSans-65\"/>\r\n      <use x=\"410.628906\" xlink:href=\"#DejaVuSans-20\"/>\r\n      <use x=\"442.416016\" xlink:href=\"#DejaVuSans-64\"/>\r\n      <use x=\"505.892578\" xlink:href=\"#DejaVuSans-72\"/>\r\n      <use x=\"544.755859\" xlink:href=\"#DejaVuSans-6f\"/>\r\n      <use x=\"605.9375\" xlink:href=\"#DejaVuSans-70\"/>\r\n      <use x=\"669.414062\" xlink:href=\"#DejaVuSans-6f\"/>\r\n      <use x=\"730.595703\" xlink:href=\"#DejaVuSans-75\"/>\r\n      <use x=\"793.974609\" xlink:href=\"#DejaVuSans-74\"/>\r\n      <use x=\"833.183594\" xlink:href=\"#DejaVuSans-20\"/>\r\n      <use x=\"864.970703\" xlink:href=\"#DejaVuSans-72\"/>\r\n      <use x=\"906.083984\" xlink:href=\"#DejaVuSans-61\"/>\r\n      <use x=\"967.363281\" xlink:href=\"#DejaVuSans-74\"/>\r\n      <use x=\"1006.572266\" xlink:href=\"#DejaVuSans-65\"/>\r\n      <use x=\"1068.095703\" xlink:href=\"#DejaVuSans-73\"/>\r\n     </g>\r\n    </g>\r\n   </g>\r\n   <g id=\"matplotlib.axis_8\">\r\n    <g id=\"ytick_11\">\r\n     <g id=\"line2d_119\"/>\r\n     <g id=\"text_47\">\r\n      <!-- Boys -->\r\n      <g transform=\"translate(870.533 468.900724)scale(0.14 -0.14)\">\r\n       <use xlink:href=\"#DejaVuSans-42\"/>\r\n       <use x=\"68.603516\" xlink:href=\"#DejaVuSans-6f\"/>\r\n       <use x=\"129.785156\" xlink:href=\"#DejaVuSans-79\"/>\r\n       <use x=\"188.964844\" xlink:href=\"#DejaVuSans-73\"/>\r\n      </g>\r\n     </g>\r\n    </g>\r\n    <g id=\"ytick_12\">\r\n     <g id=\"line2d_120\"/>\r\n     <g id=\"text_48\">\r\n      <!-- Girls -->\r\n      <g transform=\"translate(872.608938 601.446179)scale(0.14 -0.14)\">\r\n       <use xlink:href=\"#DejaVuSans-47\"/>\r\n       <use x=\"77.490234\" xlink:href=\"#DejaVuSans-69\"/>\r\n       <use x=\"105.273438\" xlink:href=\"#DejaVuSans-72\"/>\r\n       <use x=\"146.386719\" xlink:href=\"#DejaVuSans-6c\"/>\r\n       <use x=\"174.169922\" xlink:href=\"#DejaVuSans-73\"/>\r\n      </g>\r\n     </g>\r\n    </g>\r\n    <g id=\"text_49\">\r\n     <!-- Sex -->\r\n     <g transform=\"translate(863.039125 545.180608)rotate(-90)scale(0.168 -0.168)\">\r\n      <use xlink:href=\"#DejaVuSans-53\"/>\r\n      <use x=\"63.476562\" xlink:href=\"#DejaVuSans-65\"/>\r\n      <use x=\"123.25\" xlink:href=\"#DejaVuSans-78\"/>\r\n     </g>\r\n    </g>\r\n   </g>\r\n   <g id=\"patch_28\">\r\n    <path clip-path=\"url(#pac3fa796a6)\" d=\"M 1075.752024 410.563636 \r\nL 1075.752024 516.6 \r\nL 1243.841902 516.6 \r\nL 1243.841902 410.563636 \r\nL 1075.752024 410.563636 \r\nz\r\n\" style=\"fill:#1b86ba;stroke:#404040;stroke-linejoin:miter;stroke-width:4;\"/>\r\n   </g>\r\n   <g id=\"patch_29\">\r\n    <path clip-path=\"url(#pac3fa796a6)\" d=\"M 1033.177963 543.109091 \r\nL 1033.177963 649.145455 \r\nL 1224.293488 649.145455 \r\nL 1224.293488 543.109091 \r\nL 1033.177963 543.109091 \r\nz\r\n\" style=\"fill:#e36149;stroke:#404040;stroke-linejoin:miter;stroke-width:4;\"/>\r\n   </g>\r\n   <g id=\"line2d_121\">\r\n    <path clip-path=\"url(#pac3fa796a6)\" d=\"M 1075.752024 463.581818 \r\nL 967.60473 463.581818 \r\n\" style=\"fill:none;stroke:#404040;stroke-width:4;\"/>\r\n   </g>\r\n   <g id=\"line2d_122\">\r\n    <path clip-path=\"url(#pac3fa796a6)\" d=\"M 1243.841902 463.581818 \r\nL 1378.094932 463.581818 \r\n\" style=\"fill:none;stroke:#404040;stroke-width:4;\"/>\r\n   </g>\r\n   <g id=\"line2d_123\">\r\n    <path clip-path=\"url(#pac3fa796a6)\" d=\"M 967.60473 437.072727 \r\nL 967.60473 490.090909 \r\n\" style=\"fill:none;stroke:#404040;stroke-width:4;\"/>\r\n   </g>\r\n   <g id=\"line2d_124\">\r\n    <path clip-path=\"url(#pac3fa796a6)\" d=\"M 1378.094932 437.072727 \r\nL 1378.094932 490.090909 \r\n\" style=\"fill:none;stroke:#404040;stroke-width:4;\"/>\r\n   </g>\r\n   <g id=\"line2d_125\">\r\n    <g clip-path=\"url(#pac3fa796a6)\">\r\n     <use style=\"fill:#404040;stroke:#404040;stroke-linejoin:miter;\" x=\"1505.71121\" xlink:href=\"#m3bb112cf49\" y=\"463.581818\"/>\r\n    </g>\r\n   </g>\r\n   <g id=\"line2d_126\">\r\n    <path clip-path=\"url(#pac3fa796a6)\" d=\"M 1033.177963 596.127273 \r\nL 936.256665 596.127273 \r\n\" style=\"fill:none;stroke:#404040;stroke-width:4;\"/>\r\n   </g>\r\n   <g id=\"line2d_127\">\r\n    <path clip-path=\"url(#pac3fa796a6)\" d=\"M 1224.293488 596.127273 \r\nL 1470.797656 596.127273 \r\n\" style=\"fill:none;stroke:#404040;stroke-width:4;\"/>\r\n   </g>\r\n   <g id=\"line2d_128\">\r\n    <path clip-path=\"url(#pac3fa796a6)\" d=\"M 936.256665 569.618182 \r\nL 936.256665 622.636364 \r\n\" style=\"fill:none;stroke:#404040;stroke-width:4;\"/>\r\n   </g>\r\n   <g id=\"line2d_129\">\r\n    <path clip-path=\"url(#pac3fa796a6)\" d=\"M 1470.797656 569.618182 \r\nL 1470.797656 622.636364 \r\n\" style=\"fill:none;stroke:#404040;stroke-width:4;\"/>\r\n   </g>\r\n   <g id=\"line2d_130\"/>\r\n   <g id=\"line2d_131\">\r\n    <path clip-path=\"url(#pac3fa796a6)\" d=\"M 1157.564119 410.563636 \r\nL 1157.564119 516.6 \r\n\" style=\"fill:none;stroke:#404040;stroke-width:4;\"/>\r\n   </g>\r\n   <g id=\"line2d_132\">\r\n    <path clip-path=\"url(#pac3fa796a6)\" d=\"M 1150.080122 543.109091 \r\nL 1150.080122 649.145455 \r\n\" style=\"fill:none;stroke:#404040;stroke-width:4;\"/>\r\n   </g>\r\n   <g id=\"patch_30\">\r\n    <path d=\"M 907.783937 662.4 \r\nL 907.783937 397.309091 \r\n\" style=\"fill:none;stroke:#f0f0f0;stroke-linecap:square;stroke-linejoin:miter;stroke-width:3;\"/>\r\n   </g>\r\n   <g id=\"patch_31\">\r\n    <path d=\"M 1534.183937 662.4 \r\nL 1534.183937 397.309091 \r\n\" style=\"fill:none;stroke:#f0f0f0;stroke-linecap:square;stroke-linejoin:miter;stroke-width:3;\"/>\r\n   </g>\r\n   <g id=\"patch_32\">\r\n    <path d=\"M 907.783937 662.4 \r\nL 1534.183937 662.4 \r\n\" style=\"fill:none;stroke:#f0f0f0;stroke-linecap:square;stroke-linejoin:miter;stroke-width:3;\"/>\r\n   </g>\r\n   <g id=\"patch_33\">\r\n    <path d=\"M 907.783937 397.309091 \r\nL 1534.183937 397.309091 \r\n\" style=\"fill:none;stroke:#f0f0f0;stroke-linecap:square;stroke-linejoin:miter;stroke-width:3;\"/>\r\n   </g>\r\n   <g id=\"text_50\">\r\n    <!-- Nagaland -->\r\n    <g transform=\"translate(1422.081068 476.836364)scale(0.14 -0.14)\">\r\n     <use xlink:href=\"#DejaVuSans-4e\"/>\r\n     <use x=\"74.804688\" xlink:href=\"#DejaVuSans-61\"/>\r\n     <use x=\"136.083984\" xlink:href=\"#DejaVuSans-67\"/>\r\n     <use x=\"199.560547\" xlink:href=\"#DejaVuSans-61\"/>\r\n     <use x=\"260.839844\" xlink:href=\"#DejaVuSans-6c\"/>\r\n     <use x=\"288.623047\" xlink:href=\"#DejaVuSans-61\"/>\r\n     <use x=\"349.902344\" xlink:href=\"#DejaVuSans-6e\"/>\r\n     <use x=\"413.28125\" xlink:href=\"#DejaVuSans-64\"/>\r\n    </g>\r\n   </g>\r\n  </g>\r\n  <g id=\"text_51\">\r\n   <!-- Analysis on dropout and enrollment rates -->\r\n   <g transform=\"translate(647.366125 19.965375)scale(0.168 -0.168)\">\r\n    <use xlink:href=\"#DejaVuSans-41\"/>\r\n    <use x=\"68.408203\" xlink:href=\"#DejaVuSans-6e\"/>\r\n    <use x=\"131.787109\" xlink:href=\"#DejaVuSans-61\"/>\r\n    <use x=\"193.066406\" xlink:href=\"#DejaVuSans-6c\"/>\r\n    <use x=\"220.849609\" xlink:href=\"#DejaVuSans-79\"/>\r\n    <use x=\"280.029297\" xlink:href=\"#DejaVuSans-73\"/>\r\n    <use x=\"332.128906\" xlink:href=\"#DejaVuSans-69\"/>\r\n    <use x=\"359.912109\" xlink:href=\"#DejaVuSans-73\"/>\r\n    <use x=\"412.011719\" xlink:href=\"#DejaVuSans-20\"/>\r\n    <use x=\"443.798828\" xlink:href=\"#DejaVuSans-6f\"/>\r\n    <use x=\"504.980469\" xlink:href=\"#DejaVuSans-6e\"/>\r\n    <use x=\"568.359375\" xlink:href=\"#DejaVuSans-20\"/>\r\n    <use x=\"600.146484\" xlink:href=\"#DejaVuSans-64\"/>\r\n    <use x=\"663.623047\" xlink:href=\"#DejaVuSans-72\"/>\r\n    <use x=\"702.486328\" xlink:href=\"#DejaVuSans-6f\"/>\r\n    <use x=\"763.667969\" xlink:href=\"#DejaVuSans-70\"/>\r\n    <use x=\"827.144531\" xlink:href=\"#DejaVuSans-6f\"/>\r\n    <use x=\"888.326172\" xlink:href=\"#DejaVuSans-75\"/>\r\n    <use x=\"951.705078\" xlink:href=\"#DejaVuSans-74\"/>\r\n    <use x=\"990.914062\" xlink:href=\"#DejaVuSans-20\"/>\r\n    <use x=\"1022.701172\" xlink:href=\"#DejaVuSans-61\"/>\r\n    <use x=\"1083.980469\" xlink:href=\"#DejaVuSans-6e\"/>\r\n    <use x=\"1147.359375\" xlink:href=\"#DejaVuSans-64\"/>\r\n    <use x=\"1210.835938\" xlink:href=\"#DejaVuSans-20\"/>\r\n    <use x=\"1242.623047\" xlink:href=\"#DejaVuSans-65\"/>\r\n    <use x=\"1304.146484\" xlink:href=\"#DejaVuSans-6e\"/>\r\n    <use x=\"1367.525391\" xlink:href=\"#DejaVuSans-72\"/>\r\n    <use x=\"1406.388672\" xlink:href=\"#DejaVuSans-6f\"/>\r\n    <use x=\"1467.570312\" xlink:href=\"#DejaVuSans-6c\"/>\r\n    <use x=\"1495.353516\" xlink:href=\"#DejaVuSans-6c\"/>\r\n    <use x=\"1523.136719\" xlink:href=\"#DejaVuSans-6d\"/>\r\n    <use x=\"1620.548828\" xlink:href=\"#DejaVuSans-65\"/>\r\n    <use x=\"1682.072266\" xlink:href=\"#DejaVuSans-6e\"/>\r\n    <use x=\"1745.451172\" xlink:href=\"#DejaVuSans-74\"/>\r\n    <use x=\"1784.660156\" xlink:href=\"#DejaVuSans-20\"/>\r\n    <use x=\"1816.447266\" xlink:href=\"#DejaVuSans-72\"/>\r\n    <use x=\"1857.560547\" xlink:href=\"#DejaVuSans-61\"/>\r\n    <use x=\"1918.839844\" xlink:href=\"#DejaVuSans-74\"/>\r\n    <use x=\"1958.048828\" xlink:href=\"#DejaVuSans-65\"/>\r\n    <use x=\"2019.572266\" xlink:href=\"#DejaVuSans-73\"/>\r\n   </g>\r\n  </g>\r\n </g>\r\n <defs>\r\n  <clipPath id=\"p01e10f81a5\">\r\n   <rect height=\"265.090909\" width=\"626.4\" x=\"156.103938\" y=\"79.2\"/>\r\n  </clipPath>\r\n  <clipPath id=\"p2b237070a7\">\r\n   <rect height=\"265.090909\" width=\"626.4\" x=\"907.783937\" y=\"79.2\"/>\r\n  </clipPath>\r\n  <clipPath id=\"p4b4eadbb9f\">\r\n   <rect height=\"265.090909\" width=\"626.4\" x=\"156.103938\" y=\"397.309091\"/>\r\n  </clipPath>\r\n  <clipPath id=\"pac3fa796a6\">\r\n   <rect height=\"265.090909\" width=\"626.4\" x=\"907.783937\" y=\"397.309091\"/>\r\n  </clipPath>\r\n </defs>\r\n</svg>\r\n",
      "image/png": "[encoded data removed]"
     },
     "metadata": {}
    }
   ],
   "source": [
    "prim=['Primary']*36\n",
    "uprim=['Upper Primary']*36\n",
    "sec=['Secondary']*36\n",
    "usec=['Higher Secondary']*36\n",
    "lis=prim+uprim+sec+usec\n",
    "lis\n",
    "datas=pd.DataFrame({'values':pd.concat([enrollments_x['Primary_Total'],enrollments_x['Upper_Primary_Total'],enrollments_x['Secondary_Total'],enrollments_x['Higher_Secondary_Total']],axis=0), 'ID':lis, 'State':list(states['State'])*4})\n",
    "\n",
    "enrollments_boys=(enrollments_x['Primary_Boys']+enrollments_x['Upper_Primary_Boys']+enrollments_x['Secondary_Boys']+enrollments_x['Higher_Secondary_Boys'])/4\n",
    "enrollments_girls=(enrollments_x['Primary_Girls']+enrollments_x['Upper_Primary_Girls']+enrollments_x['Secondary_Girls']+enrollments_x['Higher_Secondary_Girls'])/4\n",
    "boys=['Boys']*36\n",
    "girls=['Girls']*36\n",
    "sex=boys+girls\n",
    "enrolls=pd.concat([enrollments_boys,enrollments_girls],axis=0)\n",
    "datassex1=pd.DataFrame({'Enrollments':enrolls,'Sex':sex,'State':list(states['State'])*2})\n",
    "\n",
    "\n",
    "datass=pd.DataFrame({'values':pd.concat([dropouts_x['PRIMARY_TOTAL'],dropouts_x['UPPER_PRIMARY_TOTAL'],dropouts_x['SECONDARY_TOTAL'],dropouts_x['HRSECONDARY_TOTAL']],axis=0), 'ID':lis,'State':list(states['State'])*4})\n",
    "\n",
    "dropouts_boys=(dropouts_x['PRIMARY_BOYS']+dropouts_x['UPPER_PRIMARY_BOYS']+dropouts_x['SECONDARY_BOYS']+dropouts_x['HRSECONDARY_BOYS'])/4\n",
    "dropouts_girls=(dropouts_x['PRIMARY_GIRLS']+dropouts_x['UPPER_PRIMARY_GIRLS']+dropouts_x['SECONDARY_GIRLS']+dropouts_x['HRSECONDARY_GIRLS'])/4\n",
    "\n",
    "drops=pd.concat([dropouts_boys,dropouts_girls],axis=0)\n",
    "datassex2=pd.DataFrame({'Dropouts':drops,'Sex':sex,'State':list(states['State'])*2})\n",
    "\n",
    "fig,ax=plt.subplots(2,2,figsize=(22,10))\n",
    "\n",
    "sns.boxplot(x='values',y='ID',data=datas,ax=ax[0,0])\n",
    "ax[0,0].set_xlabel('Average enrollment rates')\n",
    "ax[0,0].set_ylabel('School section')\n",
    "#ax[0].suptitle('Comparison of enrollment rates across different sections of the school')\n",
    "\n",
    "sns.boxplot(x='Enrollments',y='Sex',data=datassex1,ax=ax[0,1])\n",
    "ax[0,1].set_xlabel('Average enrollment rates')\n",
    "ax[0,1].set_ylabel('Sex')\n",
    "#ax[1].suptitle('Comparison of enrollment rates across sex')\n",
    "\n",
    "sns.boxplot(x='values',y='ID',data=datass,ax=ax[1,0])\n",
    "ax[1,0].set_xlabel('Average dropout rates')\n",
    "ax[1,0].set_ylabel('School section')\n",
    "#plt.title('Comparison of dropout rates across different sections of the school')\n",
    "\n",
    "\n",
    "sns.boxplot(x='Dropouts',y='Sex',data=datassex2,ax=ax[1,1])\n",
    "ax[1,1].set_xlabel('Average dropout rates')\n",
    "ax[1,1].set_ylabel('Sex')\n",
    "\n",
    "low_prim=datas.State.iloc[datas['values'][datas['ID']=='Primary'].idxmin()]\n",
    "up_prim=datas.State.iloc[datas['values'][datas['ID']=='Upper Primary'].idxmin()]\n",
    "\n",
    "\n",
    "p_out=datass.State.iloc[datass['values'][datass['ID']=='Primary'].idxmax()]\n",
    "up_out= datass.State.iloc[datass['values'][datass['ID']=='Upper Primary'].idxmax()]\n",
    "sec_out=datassex2.State.iloc[datass['values'][datass['ID']=='Primary'].idxmax()]\n",
    "boys_out=datassex2.State.iloc[datassex2['Dropouts'][datassex2['Sex']=='Boys'].idxmax()]\n",
    "\n",
    "\n",
    "ax[0,0].text(55,0.1,s=low_prim)\n",
    "ax[0,0].text(40,1,s=up_prim)\n",
    "ax[1,0].text(17,0.1,s=p_out)\n",
    "ax[1,0].text(13,1,s=up_out)\n",
    "ax[1,0].text(37,2,s=sec_out)\n",
    "ax[1,1].text(14,0.1,s=boys_out)\n",
    "\n",
    "plt.suptitle(\"Analysis on dropout and enrollment rates\")"
   ]
  },
  {
   "source": [
    "## Student to teacher ratio"
   ],
   "cell_type": "markdown",
   "metadata": {}
  },
  {
   "cell_type": "code",
   "execution_count": 199,
   "metadata": {},
   "outputs": [
    {
     "output_type": "execute_result",
     "data": {
      "text/plain": [
       "Text(0.5, 1.0, 'Student to teacher ration in different sections of the school')"
      ]
     },
     "metadata": {},
     "execution_count": 199
    },
    {
     "output_type": "display_data",
     "data": {
      "text/plain": "<Figure size 720x360 with 1 Axes>",
      "image/svg+xml": "<?xml version=\"1.0\" encoding=\"utf-8\" standalone=\"no\"?>\r\n<!DOCTYPE svg PUBLIC \"-//W3C//DTD SVG 1.1//EN\"\r\n  \"http://www.w3.org/Graphics/SVG/1.1/DTD/svg11.dtd\">\r\n<svg height=\"364.627075pt\" version=\"1.1\" viewBox=\"0 0 789.703937 364.627075\" width=\"789.703937pt\" xmlns=\"http://www.w3.org/2000/svg\" xmlns:xlink=\"http://www.w3.org/1999/xlink\">\r\n <metadata>\r\n  <rdf:RDF xmlns:cc=\"http://creativecommons.org/ns#\" xmlns:dc=\"http://purl.org/dc/elements/1.1/\" xmlns:rdf=\"http://www.w3.org/1999/02/22-rdf-syntax-ns#\">\r\n   <cc:Work>\r\n    <dc:type rdf:resource=\"http://purl.org/dc/dcmitype/StillImage\"/>\r\n    <dc:date>2021-05-28T19:51:38.622561</dc:date>\r\n    <dc:format>image/svg+xml</dc:format>\r\n    <dc:creator>\r\n     <cc:Agent>\r\n      <dc:title>Matplotlib v3.4.2, https://matplotlib.org/</dc:title>\r\n     </cc:Agent>\r\n    </dc:creator>\r\n   </cc:Work>\r\n  </rdf:RDF>\r\n </metadata>\r\n <defs>\r\n  <style type=\"text/css\">*{stroke-linecap:butt;stroke-linejoin:round;}</style>\r\n </defs>\r\n <g id=\"figure_1\">\r\n  <g id=\"patch_1\">\r\n   <path d=\"M 0 364.627075 \r\nL 789.703937 364.627075 \r\nL 789.703937 0 \r\nL 0 0 \r\nz\r\n\" style=\"fill:#f0f0f0;\"/>\r\n  </g>\r\n  <g id=\"axes_1\">\r\n   <g id=\"patch_2\">\r\n    <path d=\"M 156.103938 320.11845 \r\nL 782.503938 320.11845 \r\nL 782.503938 28.51845 \r\nL 156.103938 28.51845 \r\nz\r\n\" style=\"fill:#f0f0f0;\"/>\r\n   </g>\r\n   <g id=\"matplotlib.axis_1\">\r\n    <g id=\"xtick_1\">\r\n     <g id=\"line2d_1\">\r\n      <path clip-path=\"url(#pdbbac2a5f2)\" d=\"M 265.657941 320.11845 \r\nL 265.657941 28.51845 \r\n\" style=\"fill:none;stroke:#cbcbcb;\"/>\r\n     </g>\r\n     <g id=\"line2d_2\"/>\r\n     <g id=\"text_1\">\r\n      <!-- 20 -->\r\n      <g transform=\"translate(256.750441 334.256262)scale(0.14 -0.14)\">\r\n       <defs>\r\n        <path d=\"M 1228 531 \r\nL 3431 531 \r\nL 3431 0 \r\nL 469 0 \r\nL 469 531 \r\nQ 828 903 1448 1529 \r\nQ 2069 2156 2228 2338 \r\nQ 2531 2678 2651 2914 \r\nQ 2772 3150 2772 3378 \r\nQ 2772 3750 2511 3984 \r\nQ 2250 4219 1831 4219 \r\nQ 1534 4219 1204 4116 \r\nQ 875 4013 500 3803 \r\nL 500 4441 \r\nQ 881 4594 1212 4672 \r\nQ 1544 4750 1819 4750 \r\nQ 2544 4750 2975 4387 \r\nQ 3406 4025 3406 3419 \r\nQ 3406 3131 3298 2873 \r\nQ 3191 2616 2906 2266 \r\nQ 2828 2175 2409 1742 \r\nQ 1991 1309 1228 531 \r\nz\r\n\" id=\"DejaVuSans-32\" transform=\"scale(0.015625)\"/>\r\n        <path d=\"M 2034 4250 \r\nQ 1547 4250 1301 3770 \r\nQ 1056 3291 1056 2328 \r\nQ 1056 1369 1301 889 \r\nQ 1547 409 2034 409 \r\nQ 2525 409 2770 889 \r\nQ 3016 1369 3016 2328 \r\nQ 3016 3291 2770 3770 \r\nQ 2525 4250 2034 4250 \r\nz\r\nM 2034 4750 \r\nQ 2819 4750 3233 4129 \r\nQ 3647 3509 3647 2328 \r\nQ 3647 1150 3233 529 \r\nQ 2819 -91 2034 -91 \r\nQ 1250 -91 836 529 \r\nQ 422 1150 422 2328 \r\nQ 422 3509 836 4129 \r\nQ 1250 4750 2034 4750 \r\nz\r\n\" id=\"DejaVuSans-30\" transform=\"scale(0.015625)\"/>\r\n       </defs>\r\n       <use xlink:href=\"#DejaVuSans-32\"/>\r\n       <use x=\"63.623047\" xlink:href=\"#DejaVuSans-30\"/>\r\n      </g>\r\n     </g>\r\n    </g>\r\n    <g id=\"xtick_2\">\r\n     <g id=\"line2d_3\">\r\n      <path clip-path=\"url(#pdbbac2a5f2)\" d=\"M 378.794606 320.11845 \r\nL 378.794606 28.51845 \r\n\" style=\"fill:none;stroke:#cbcbcb;\"/>\r\n     </g>\r\n     <g id=\"line2d_4\"/>\r\n     <g id=\"text_2\">\r\n      <!-- 40 -->\r\n      <g transform=\"translate(369.887106 334.256262)scale(0.14 -0.14)\">\r\n       <defs>\r\n        <path d=\"M 2419 4116 \r\nL 825 1625 \r\nL 2419 1625 \r\nL 2419 4116 \r\nz\r\nM 2253 4666 \r\nL 3047 4666 \r\nL 3047 1625 \r\nL 3713 1625 \r\nL 3713 1100 \r\nL 3047 1100 \r\nL 3047 0 \r\nL 2419 0 \r\nL 2419 1100 \r\nL 313 1100 \r\nL 313 1709 \r\nL 2253 4666 \r\nz\r\n\" id=\"DejaVuSans-34\" transform=\"scale(0.015625)\"/>\r\n       </defs>\r\n       <use xlink:href=\"#DejaVuSans-34\"/>\r\n       <use x=\"63.623047\" xlink:href=\"#DejaVuSans-30\"/>\r\n      </g>\r\n     </g>\r\n    </g>\r\n    <g id=\"xtick_3\">\r\n     <g id=\"line2d_5\">\r\n      <path clip-path=\"url(#pdbbac2a5f2)\" d=\"M 491.93127 320.11845 \r\nL 491.93127 28.51845 \r\n\" style=\"fill:none;stroke:#cbcbcb;\"/>\r\n     </g>\r\n     <g id=\"line2d_6\"/>\r\n     <g id=\"text_3\">\r\n      <!-- 60 -->\r\n      <g transform=\"translate(483.02377 334.256262)scale(0.14 -0.14)\">\r\n       <defs>\r\n        <path d=\"M 2113 2584 \r\nQ 1688 2584 1439 2293 \r\nQ 1191 2003 1191 1497 \r\nQ 1191 994 1439 701 \r\nQ 1688 409 2113 409 \r\nQ 2538 409 2786 701 \r\nQ 3034 994 3034 1497 \r\nQ 3034 2003 2786 2293 \r\nQ 2538 2584 2113 2584 \r\nz\r\nM 3366 4563 \r\nL 3366 3988 \r\nQ 3128 4100 2886 4159 \r\nQ 2644 4219 2406 4219 \r\nQ 1781 4219 1451 3797 \r\nQ 1122 3375 1075 2522 \r\nQ 1259 2794 1537 2939 \r\nQ 1816 3084 2150 3084 \r\nQ 2853 3084 3261 2657 \r\nQ 3669 2231 3669 1497 \r\nQ 3669 778 3244 343 \r\nQ 2819 -91 2113 -91 \r\nQ 1303 -91 875 529 \r\nQ 447 1150 447 2328 \r\nQ 447 3434 972 4092 \r\nQ 1497 4750 2381 4750 \r\nQ 2619 4750 2861 4703 \r\nQ 3103 4656 3366 4563 \r\nz\r\n\" id=\"DejaVuSans-36\" transform=\"scale(0.015625)\"/>\r\n       </defs>\r\n       <use xlink:href=\"#DejaVuSans-36\"/>\r\n       <use x=\"63.623047\" xlink:href=\"#DejaVuSans-30\"/>\r\n      </g>\r\n     </g>\r\n    </g>\r\n    <g id=\"xtick_4\">\r\n     <g id=\"line2d_7\">\r\n      <path clip-path=\"url(#pdbbac2a5f2)\" d=\"M 605.067935 320.11845 \r\nL 605.067935 28.51845 \r\n\" style=\"fill:none;stroke:#cbcbcb;\"/>\r\n     </g>\r\n     <g id=\"line2d_8\"/>\r\n     <g id=\"text_4\">\r\n      <!-- 80 -->\r\n      <g transform=\"translate(596.160435 334.256262)scale(0.14 -0.14)\">\r\n       <defs>\r\n        <path d=\"M 2034 2216 \r\nQ 1584 2216 1326 1975 \r\nQ 1069 1734 1069 1313 \r\nQ 1069 891 1326 650 \r\nQ 1584 409 2034 409 \r\nQ 2484 409 2743 651 \r\nQ 3003 894 3003 1313 \r\nQ 3003 1734 2745 1975 \r\nQ 2488 2216 2034 2216 \r\nz\r\nM 1403 2484 \r\nQ 997 2584 770 2862 \r\nQ 544 3141 544 3541 \r\nQ 544 4100 942 4425 \r\nQ 1341 4750 2034 4750 \r\nQ 2731 4750 3128 4425 \r\nQ 3525 4100 3525 3541 \r\nQ 3525 3141 3298 2862 \r\nQ 3072 2584 2669 2484 \r\nQ 3125 2378 3379 2068 \r\nQ 3634 1759 3634 1313 \r\nQ 3634 634 3220 271 \r\nQ 2806 -91 2034 -91 \r\nQ 1263 -91 848 271 \r\nQ 434 634 434 1313 \r\nQ 434 1759 690 2068 \r\nQ 947 2378 1403 2484 \r\nz\r\nM 1172 3481 \r\nQ 1172 3119 1398 2916 \r\nQ 1625 2713 2034 2713 \r\nQ 2441 2713 2670 2916 \r\nQ 2900 3119 2900 3481 \r\nQ 2900 3844 2670 4047 \r\nQ 2441 4250 2034 4250 \r\nQ 1625 4250 1398 4047 \r\nQ 1172 3844 1172 3481 \r\nz\r\n\" id=\"DejaVuSans-38\" transform=\"scale(0.015625)\"/>\r\n       </defs>\r\n       <use xlink:href=\"#DejaVuSans-38\"/>\r\n       <use x=\"63.623047\" xlink:href=\"#DejaVuSans-30\"/>\r\n      </g>\r\n     </g>\r\n    </g>\r\n    <g id=\"xtick_5\">\r\n     <g id=\"line2d_9\">\r\n      <path clip-path=\"url(#pdbbac2a5f2)\" d=\"M 718.2046 320.11845 \r\nL 718.2046 28.51845 \r\n\" style=\"fill:none;stroke:#cbcbcb;\"/>\r\n     </g>\r\n     <g id=\"line2d_10\"/>\r\n     <g id=\"text_5\">\r\n      <!-- 100 -->\r\n      <g transform=\"translate(704.84335 334.256262)scale(0.14 -0.14)\">\r\n       <defs>\r\n        <path d=\"M 794 531 \r\nL 1825 531 \r\nL 1825 4091 \r\nL 703 3866 \r\nL 703 4441 \r\nL 1819 4666 \r\nL 2450 4666 \r\nL 2450 531 \r\nL 3481 531 \r\nL 3481 0 \r\nL 794 0 \r\nL 794 531 \r\nz\r\n\" id=\"DejaVuSans-31\" transform=\"scale(0.015625)\"/>\r\n       </defs>\r\n       <use xlink:href=\"#DejaVuSans-31\"/>\r\n       <use x=\"63.623047\" xlink:href=\"#DejaVuSans-30\"/>\r\n       <use x=\"127.246094\" xlink:href=\"#DejaVuSans-30\"/>\r\n      </g>\r\n     </g>\r\n    </g>\r\n    <g id=\"text_6\">\r\n     <!-- Student to teacher ratio -->\r\n     <g transform=\"translate(368.254563 353.9332)scale(0.168 -0.168)\">\r\n      <defs>\r\n       <path d=\"M 3425 4513 \r\nL 3425 3897 \r\nQ 3066 4069 2747 4153 \r\nQ 2428 4238 2131 4238 \r\nQ 1616 4238 1336 4038 \r\nQ 1056 3838 1056 3469 \r\nQ 1056 3159 1242 3001 \r\nQ 1428 2844 1947 2747 \r\nL 2328 2669 \r\nQ 3034 2534 3370 2195 \r\nQ 3706 1856 3706 1288 \r\nQ 3706 609 3251 259 \r\nQ 2797 -91 1919 -91 \r\nQ 1588 -91 1214 -16 \r\nQ 841 59 441 206 \r\nL 441 856 \r\nQ 825 641 1194 531 \r\nQ 1563 422 1919 422 \r\nQ 2459 422 2753 634 \r\nQ 3047 847 3047 1241 \r\nQ 3047 1584 2836 1778 \r\nQ 2625 1972 2144 2069 \r\nL 1759 2144 \r\nQ 1053 2284 737 2584 \r\nQ 422 2884 422 3419 \r\nQ 422 4038 858 4394 \r\nQ 1294 4750 2059 4750 \r\nQ 2388 4750 2728 4690 \r\nQ 3069 4631 3425 4513 \r\nz\r\n\" id=\"DejaVuSans-53\" transform=\"scale(0.015625)\"/>\r\n       <path d=\"M 1172 4494 \r\nL 1172 3500 \r\nL 2356 3500 \r\nL 2356 3053 \r\nL 1172 3053 \r\nL 1172 1153 \r\nQ 1172 725 1289 603 \r\nQ 1406 481 1766 481 \r\nL 2356 481 \r\nL 2356 0 \r\nL 1766 0 \r\nQ 1100 0 847 248 \r\nQ 594 497 594 1153 \r\nL 594 3053 \r\nL 172 3053 \r\nL 172 3500 \r\nL 594 3500 \r\nL 594 4494 \r\nL 1172 4494 \r\nz\r\n\" id=\"DejaVuSans-74\" transform=\"scale(0.015625)\"/>\r\n       <path d=\"M 544 1381 \r\nL 544 3500 \r\nL 1119 3500 \r\nL 1119 1403 \r\nQ 1119 906 1312 657 \r\nQ 1506 409 1894 409 \r\nQ 2359 409 2629 706 \r\nQ 2900 1003 2900 1516 \r\nL 2900 3500 \r\nL 3475 3500 \r\nL 3475 0 \r\nL 2900 0 \r\nL 2900 538 \r\nQ 2691 219 2414 64 \r\nQ 2138 -91 1772 -91 \r\nQ 1169 -91 856 284 \r\nQ 544 659 544 1381 \r\nz\r\nM 1991 3584 \r\nL 1991 3584 \r\nz\r\n\" id=\"DejaVuSans-75\" transform=\"scale(0.015625)\"/>\r\n       <path d=\"M 2906 2969 \r\nL 2906 4863 \r\nL 3481 4863 \r\nL 3481 0 \r\nL 2906 0 \r\nL 2906 525 \r\nQ 2725 213 2448 61 \r\nQ 2172 -91 1784 -91 \r\nQ 1150 -91 751 415 \r\nQ 353 922 353 1747 \r\nQ 353 2572 751 3078 \r\nQ 1150 3584 1784 3584 \r\nQ 2172 3584 2448 3432 \r\nQ 2725 3281 2906 2969 \r\nz\r\nM 947 1747 \r\nQ 947 1113 1208 752 \r\nQ 1469 391 1925 391 \r\nQ 2381 391 2643 752 \r\nQ 2906 1113 2906 1747 \r\nQ 2906 2381 2643 2742 \r\nQ 2381 3103 1925 3103 \r\nQ 1469 3103 1208 2742 \r\nQ 947 2381 947 1747 \r\nz\r\n\" id=\"DejaVuSans-64\" transform=\"scale(0.015625)\"/>\r\n       <path d=\"M 3597 1894 \r\nL 3597 1613 \r\nL 953 1613 \r\nQ 991 1019 1311 708 \r\nQ 1631 397 2203 397 \r\nQ 2534 397 2845 478 \r\nQ 3156 559 3463 722 \r\nL 3463 178 \r\nQ 3153 47 2828 -22 \r\nQ 2503 -91 2169 -91 \r\nQ 1331 -91 842 396 \r\nQ 353 884 353 1716 \r\nQ 353 2575 817 3079 \r\nQ 1281 3584 2069 3584 \r\nQ 2775 3584 3186 3129 \r\nQ 3597 2675 3597 1894 \r\nz\r\nM 3022 2063 \r\nQ 3016 2534 2758 2815 \r\nQ 2500 3097 2075 3097 \r\nQ 1594 3097 1305 2825 \r\nQ 1016 2553 972 2059 \r\nL 3022 2063 \r\nz\r\n\" id=\"DejaVuSans-65\" transform=\"scale(0.015625)\"/>\r\n       <path d=\"M 3513 2113 \r\nL 3513 0 \r\nL 2938 0 \r\nL 2938 2094 \r\nQ 2938 2591 2744 2837 \r\nQ 2550 3084 2163 3084 \r\nQ 1697 3084 1428 2787 \r\nQ 1159 2491 1159 1978 \r\nL 1159 0 \r\nL 581 0 \r\nL 581 3500 \r\nL 1159 3500 \r\nL 1159 2956 \r\nQ 1366 3272 1645 3428 \r\nQ 1925 3584 2291 3584 \r\nQ 2894 3584 3203 3211 \r\nQ 3513 2838 3513 2113 \r\nz\r\n\" id=\"DejaVuSans-6e\" transform=\"scale(0.015625)\"/>\r\n       <path id=\"DejaVuSans-20\" transform=\"scale(0.015625)\"/>\r\n       <path d=\"M 1959 3097 \r\nQ 1497 3097 1228 2736 \r\nQ 959 2375 959 1747 \r\nQ 959 1119 1226 758 \r\nQ 1494 397 1959 397 \r\nQ 2419 397 2687 759 \r\nQ 2956 1122 2956 1747 \r\nQ 2956 2369 2687 2733 \r\nQ 2419 3097 1959 3097 \r\nz\r\nM 1959 3584 \r\nQ 2709 3584 3137 3096 \r\nQ 3566 2609 3566 1747 \r\nQ 3566 888 3137 398 \r\nQ 2709 -91 1959 -91 \r\nQ 1206 -91 779 398 \r\nQ 353 888 353 1747 \r\nQ 353 2609 779 3096 \r\nQ 1206 3584 1959 3584 \r\nz\r\n\" id=\"DejaVuSans-6f\" transform=\"scale(0.015625)\"/>\r\n       <path d=\"M 2194 1759 \r\nQ 1497 1759 1228 1600 \r\nQ 959 1441 959 1056 \r\nQ 959 750 1161 570 \r\nQ 1363 391 1709 391 \r\nQ 2188 391 2477 730 \r\nQ 2766 1069 2766 1631 \r\nL 2766 1759 \r\nL 2194 1759 \r\nz\r\nM 3341 1997 \r\nL 3341 0 \r\nL 2766 0 \r\nL 2766 531 \r\nQ 2569 213 2275 61 \r\nQ 1981 -91 1556 -91 \r\nQ 1019 -91 701 211 \r\nQ 384 513 384 1019 \r\nQ 384 1609 779 1909 \r\nQ 1175 2209 1959 2209 \r\nL 2766 2209 \r\nL 2766 2266 \r\nQ 2766 2663 2505 2880 \r\nQ 2244 3097 1772 3097 \r\nQ 1472 3097 1187 3025 \r\nQ 903 2953 641 2809 \r\nL 641 3341 \r\nQ 956 3463 1253 3523 \r\nQ 1550 3584 1831 3584 \r\nQ 2591 3584 2966 3190 \r\nQ 3341 2797 3341 1997 \r\nz\r\n\" id=\"DejaVuSans-61\" transform=\"scale(0.015625)\"/>\r\n       <path d=\"M 3122 3366 \r\nL 3122 2828 \r\nQ 2878 2963 2633 3030 \r\nQ 2388 3097 2138 3097 \r\nQ 1578 3097 1268 2742 \r\nQ 959 2388 959 1747 \r\nQ 959 1106 1268 751 \r\nQ 1578 397 2138 397 \r\nQ 2388 397 2633 464 \r\nQ 2878 531 3122 666 \r\nL 3122 134 \r\nQ 2881 22 2623 -34 \r\nQ 2366 -91 2075 -91 \r\nQ 1284 -91 818 406 \r\nQ 353 903 353 1747 \r\nQ 353 2603 823 3093 \r\nQ 1294 3584 2113 3584 \r\nQ 2378 3584 2631 3529 \r\nQ 2884 3475 3122 3366 \r\nz\r\n\" id=\"DejaVuSans-63\" transform=\"scale(0.015625)\"/>\r\n       <path d=\"M 3513 2113 \r\nL 3513 0 \r\nL 2938 0 \r\nL 2938 2094 \r\nQ 2938 2591 2744 2837 \r\nQ 2550 3084 2163 3084 \r\nQ 1697 3084 1428 2787 \r\nQ 1159 2491 1159 1978 \r\nL 1159 0 \r\nL 581 0 \r\nL 581 4863 \r\nL 1159 4863 \r\nL 1159 2956 \r\nQ 1366 3272 1645 3428 \r\nQ 1925 3584 2291 3584 \r\nQ 2894 3584 3203 3211 \r\nQ 3513 2838 3513 2113 \r\nz\r\n\" id=\"DejaVuSans-68\" transform=\"scale(0.015625)\"/>\r\n       <path d=\"M 2631 2963 \r\nQ 2534 3019 2420 3045 \r\nQ 2306 3072 2169 3072 \r\nQ 1681 3072 1420 2755 \r\nQ 1159 2438 1159 1844 \r\nL 1159 0 \r\nL 581 0 \r\nL 581 3500 \r\nL 1159 3500 \r\nL 1159 2956 \r\nQ 1341 3275 1631 3429 \r\nQ 1922 3584 2338 3584 \r\nQ 2397 3584 2469 3576 \r\nQ 2541 3569 2628 3553 \r\nL 2631 2963 \r\nz\r\n\" id=\"DejaVuSans-72\" transform=\"scale(0.015625)\"/>\r\n       <path d=\"M 603 3500 \r\nL 1178 3500 \r\nL 1178 0 \r\nL 603 0 \r\nL 603 3500 \r\nz\r\nM 603 4863 \r\nL 1178 4863 \r\nL 1178 4134 \r\nL 603 4134 \r\nL 603 4863 \r\nz\r\n\" id=\"DejaVuSans-69\" transform=\"scale(0.015625)\"/>\r\n      </defs>\r\n      <use xlink:href=\"#DejaVuSans-53\"/>\r\n      <use x=\"63.476562\" xlink:href=\"#DejaVuSans-74\"/>\r\n      <use x=\"102.685547\" xlink:href=\"#DejaVuSans-75\"/>\r\n      <use x=\"166.064453\" xlink:href=\"#DejaVuSans-64\"/>\r\n      <use x=\"229.541016\" xlink:href=\"#DejaVuSans-65\"/>\r\n      <use x=\"291.064453\" xlink:href=\"#DejaVuSans-6e\"/>\r\n      <use x=\"354.443359\" xlink:href=\"#DejaVuSans-74\"/>\r\n      <use x=\"393.652344\" xlink:href=\"#DejaVuSans-20\"/>\r\n      <use x=\"425.439453\" xlink:href=\"#DejaVuSans-74\"/>\r\n      <use x=\"464.648438\" xlink:href=\"#DejaVuSans-6f\"/>\r\n      <use x=\"525.830078\" xlink:href=\"#DejaVuSans-20\"/>\r\n      <use x=\"557.617188\" xlink:href=\"#DejaVuSans-74\"/>\r\n      <use x=\"596.826172\" xlink:href=\"#DejaVuSans-65\"/>\r\n      <use x=\"658.349609\" xlink:href=\"#DejaVuSans-61\"/>\r\n      <use x=\"719.628906\" xlink:href=\"#DejaVuSans-63\"/>\r\n      <use x=\"774.609375\" xlink:href=\"#DejaVuSans-68\"/>\r\n      <use x=\"837.988281\" xlink:href=\"#DejaVuSans-65\"/>\r\n      <use x=\"899.511719\" xlink:href=\"#DejaVuSans-72\"/>\r\n      <use x=\"940.625\" xlink:href=\"#DejaVuSans-20\"/>\r\n      <use x=\"972.412109\" xlink:href=\"#DejaVuSans-72\"/>\r\n      <use x=\"1013.525391\" xlink:href=\"#DejaVuSans-61\"/>\r\n      <use x=\"1074.804688\" xlink:href=\"#DejaVuSans-74\"/>\r\n      <use x=\"1114.013672\" xlink:href=\"#DejaVuSans-69\"/>\r\n      <use x=\"1141.796875\" xlink:href=\"#DejaVuSans-6f\"/>\r\n     </g>\r\n    </g>\r\n   </g>\r\n   <g id=\"matplotlib.axis_2\">\r\n    <g id=\"ytick_1\">\r\n     <g id=\"line2d_11\"/>\r\n     <g id=\"text_7\">\r\n      <!-- Primary -->\r\n      <g transform=\"translate(98.504875 70.287356)scale(0.14 -0.14)\">\r\n       <defs>\r\n        <path d=\"M 1259 4147 \r\nL 1259 2394 \r\nL 2053 2394 \r\nQ 2494 2394 2734 2622 \r\nQ 2975 2850 2975 3272 \r\nQ 2975 3691 2734 3919 \r\nQ 2494 4147 2053 4147 \r\nL 1259 4147 \r\nz\r\nM 628 4666 \r\nL 2053 4666 \r\nQ 2838 4666 3239 4311 \r\nQ 3641 3956 3641 3272 \r\nQ 3641 2581 3239 2228 \r\nQ 2838 1875 2053 1875 \r\nL 1259 1875 \r\nL 1259 0 \r\nL 628 0 \r\nL 628 4666 \r\nz\r\n\" id=\"DejaVuSans-50\" transform=\"scale(0.015625)\"/>\r\n        <path d=\"M 3328 2828 \r\nQ 3544 3216 3844 3400 \r\nQ 4144 3584 4550 3584 \r\nQ 5097 3584 5394 3201 \r\nQ 5691 2819 5691 2113 \r\nL 5691 0 \r\nL 5113 0 \r\nL 5113 2094 \r\nQ 5113 2597 4934 2840 \r\nQ 4756 3084 4391 3084 \r\nQ 3944 3084 3684 2787 \r\nQ 3425 2491 3425 1978 \r\nL 3425 0 \r\nL 2847 0 \r\nL 2847 2094 \r\nQ 2847 2600 2669 2842 \r\nQ 2491 3084 2119 3084 \r\nQ 1678 3084 1418 2786 \r\nQ 1159 2488 1159 1978 \r\nL 1159 0 \r\nL 581 0 \r\nL 581 3500 \r\nL 1159 3500 \r\nL 1159 2956 \r\nQ 1356 3278 1631 3431 \r\nQ 1906 3584 2284 3584 \r\nQ 2666 3584 2933 3390 \r\nQ 3200 3197 3328 2828 \r\nz\r\n\" id=\"DejaVuSans-6d\" transform=\"scale(0.015625)\"/>\r\n        <path d=\"M 2059 -325 \r\nQ 1816 -950 1584 -1140 \r\nQ 1353 -1331 966 -1331 \r\nL 506 -1331 \r\nL 506 -850 \r\nL 844 -850 \r\nQ 1081 -850 1212 -737 \r\nQ 1344 -625 1503 -206 \r\nL 1606 56 \r\nL 191 3500 \r\nL 800 3500 \r\nL 1894 763 \r\nL 2988 3500 \r\nL 3597 3500 \r\nL 2059 -325 \r\nz\r\n\" id=\"DejaVuSans-79\" transform=\"scale(0.015625)\"/>\r\n       </defs>\r\n       <use xlink:href=\"#DejaVuSans-50\"/>\r\n       <use x=\"58.552734\" xlink:href=\"#DejaVuSans-72\"/>\r\n       <use x=\"99.666016\" xlink:href=\"#DejaVuSans-69\"/>\r\n       <use x=\"127.449219\" xlink:href=\"#DejaVuSans-6d\"/>\r\n       <use x=\"224.861328\" xlink:href=\"#DejaVuSans-61\"/>\r\n       <use x=\"286.140625\" xlink:href=\"#DejaVuSans-72\"/>\r\n       <use x=\"327.253906\" xlink:href=\"#DejaVuSans-79\"/>\r\n      </g>\r\n     </g>\r\n    </g>\r\n    <g id=\"ytick_2\">\r\n     <g id=\"line2d_12\"/>\r\n     <g id=\"text_8\">\r\n      <!-- Upper Primary -->\r\n      <g transform=\"translate(51.663938 143.187356)scale(0.14 -0.14)\">\r\n       <defs>\r\n        <path d=\"M 556 4666 \r\nL 1191 4666 \r\nL 1191 1831 \r\nQ 1191 1081 1462 751 \r\nQ 1734 422 2344 422 \r\nQ 2950 422 3222 751 \r\nQ 3494 1081 3494 1831 \r\nL 3494 4666 \r\nL 4128 4666 \r\nL 4128 1753 \r\nQ 4128 841 3676 375 \r\nQ 3225 -91 2344 -91 \r\nQ 1459 -91 1007 375 \r\nQ 556 841 556 1753 \r\nL 556 4666 \r\nz\r\n\" id=\"DejaVuSans-55\" transform=\"scale(0.015625)\"/>\r\n        <path d=\"M 1159 525 \r\nL 1159 -1331 \r\nL 581 -1331 \r\nL 581 3500 \r\nL 1159 3500 \r\nL 1159 2969 \r\nQ 1341 3281 1617 3432 \r\nQ 1894 3584 2278 3584 \r\nQ 2916 3584 3314 3078 \r\nQ 3713 2572 3713 1747 \r\nQ 3713 922 3314 415 \r\nQ 2916 -91 2278 -91 \r\nQ 1894 -91 1617 61 \r\nQ 1341 213 1159 525 \r\nz\r\nM 3116 1747 \r\nQ 3116 2381 2855 2742 \r\nQ 2594 3103 2138 3103 \r\nQ 1681 3103 1420 2742 \r\nQ 1159 2381 1159 1747 \r\nQ 1159 1113 1420 752 \r\nQ 1681 391 2138 391 \r\nQ 2594 391 2855 752 \r\nQ 3116 1113 3116 1747 \r\nz\r\n\" id=\"DejaVuSans-70\" transform=\"scale(0.015625)\"/>\r\n       </defs>\r\n       <use xlink:href=\"#DejaVuSans-55\"/>\r\n       <use x=\"73.193359\" xlink:href=\"#DejaVuSans-70\"/>\r\n       <use x=\"136.669922\" xlink:href=\"#DejaVuSans-70\"/>\r\n       <use x=\"200.146484\" xlink:href=\"#DejaVuSans-65\"/>\r\n       <use x=\"261.669922\" xlink:href=\"#DejaVuSans-72\"/>\r\n       <use x=\"302.783203\" xlink:href=\"#DejaVuSans-20\"/>\r\n       <use x=\"334.570312\" xlink:href=\"#DejaVuSans-50\"/>\r\n       <use x=\"393.123047\" xlink:href=\"#DejaVuSans-72\"/>\r\n       <use x=\"434.236328\" xlink:href=\"#DejaVuSans-69\"/>\r\n       <use x=\"462.019531\" xlink:href=\"#DejaVuSans-6d\"/>\r\n       <use x=\"559.431641\" xlink:href=\"#DejaVuSans-61\"/>\r\n       <use x=\"620.710938\" xlink:href=\"#DejaVuSans-72\"/>\r\n       <use x=\"661.824219\" xlink:href=\"#DejaVuSans-79\"/>\r\n      </g>\r\n     </g>\r\n    </g>\r\n    <g id=\"ytick_3\">\r\n     <g id=\"line2d_13\"/>\r\n     <g id=\"text_9\">\r\n      <!-- Secondary -->\r\n      <g transform=\"translate(78.456438 216.087356)scale(0.14 -0.14)\">\r\n       <use xlink:href=\"#DejaVuSans-53\"/>\r\n       <use x=\"63.476562\" xlink:href=\"#DejaVuSans-65\"/>\r\n       <use x=\"125\" xlink:href=\"#DejaVuSans-63\"/>\r\n       <use x=\"179.980469\" xlink:href=\"#DejaVuSans-6f\"/>\r\n       <use x=\"241.162109\" xlink:href=\"#DejaVuSans-6e\"/>\r\n       <use x=\"304.541016\" xlink:href=\"#DejaVuSans-64\"/>\r\n       <use x=\"368.017578\" xlink:href=\"#DejaVuSans-61\"/>\r\n       <use x=\"429.296875\" xlink:href=\"#DejaVuSans-72\"/>\r\n       <use x=\"470.410156\" xlink:href=\"#DejaVuSans-79\"/>\r\n      </g>\r\n     </g>\r\n    </g>\r\n    <g id=\"ytick_4\">\r\n     <g id=\"line2d_14\"/>\r\n     <g id=\"text_10\">\r\n      <!-- Higher Secondary -->\r\n      <g transform=\"translate(27.45925 288.987356)scale(0.14 -0.14)\">\r\n       <defs>\r\n        <path d=\"M 628 4666 \r\nL 1259 4666 \r\nL 1259 2753 \r\nL 3553 2753 \r\nL 3553 4666 \r\nL 4184 4666 \r\nL 4184 0 \r\nL 3553 0 \r\nL 3553 2222 \r\nL 1259 2222 \r\nL 1259 0 \r\nL 628 0 \r\nL 628 4666 \r\nz\r\n\" id=\"DejaVuSans-48\" transform=\"scale(0.015625)\"/>\r\n        <path d=\"M 2906 1791 \r\nQ 2906 2416 2648 2759 \r\nQ 2391 3103 1925 3103 \r\nQ 1463 3103 1205 2759 \r\nQ 947 2416 947 1791 \r\nQ 947 1169 1205 825 \r\nQ 1463 481 1925 481 \r\nQ 2391 481 2648 825 \r\nQ 2906 1169 2906 1791 \r\nz\r\nM 3481 434 \r\nQ 3481 -459 3084 -895 \r\nQ 2688 -1331 1869 -1331 \r\nQ 1566 -1331 1297 -1286 \r\nQ 1028 -1241 775 -1147 \r\nL 775 -588 \r\nQ 1028 -725 1275 -790 \r\nQ 1522 -856 1778 -856 \r\nQ 2344 -856 2625 -561 \r\nQ 2906 -266 2906 331 \r\nL 2906 616 \r\nQ 2728 306 2450 153 \r\nQ 2172 0 1784 0 \r\nQ 1141 0 747 490 \r\nQ 353 981 353 1791 \r\nQ 353 2603 747 3093 \r\nQ 1141 3584 1784 3584 \r\nQ 2172 3584 2450 3431 \r\nQ 2728 3278 2906 2969 \r\nL 2906 3500 \r\nL 3481 3500 \r\nL 3481 434 \r\nz\r\n\" id=\"DejaVuSans-67\" transform=\"scale(0.015625)\"/>\r\n       </defs>\r\n       <use xlink:href=\"#DejaVuSans-48\"/>\r\n       <use x=\"75.195312\" xlink:href=\"#DejaVuSans-69\"/>\r\n       <use x=\"102.978516\" xlink:href=\"#DejaVuSans-67\"/>\r\n       <use x=\"166.455078\" xlink:href=\"#DejaVuSans-68\"/>\r\n       <use x=\"229.833984\" xlink:href=\"#DejaVuSans-65\"/>\r\n       <use x=\"291.357422\" xlink:href=\"#DejaVuSans-72\"/>\r\n       <use x=\"332.470703\" xlink:href=\"#DejaVuSans-20\"/>\r\n       <use x=\"364.257812\" xlink:href=\"#DejaVuSans-53\"/>\r\n       <use x=\"427.734375\" xlink:href=\"#DejaVuSans-65\"/>\r\n       <use x=\"489.257812\" xlink:href=\"#DejaVuSans-63\"/>\r\n       <use x=\"544.238281\" xlink:href=\"#DejaVuSans-6f\"/>\r\n       <use x=\"605.419922\" xlink:href=\"#DejaVuSans-6e\"/>\r\n       <use x=\"668.798828\" xlink:href=\"#DejaVuSans-64\"/>\r\n       <use x=\"732.275391\" xlink:href=\"#DejaVuSans-61\"/>\r\n       <use x=\"793.554688\" xlink:href=\"#DejaVuSans-72\"/>\r\n       <use x=\"834.667969\" xlink:href=\"#DejaVuSans-79\"/>\r\n      </g>\r\n     </g>\r\n    </g>\r\n    <g id=\"text_11\">\r\n     <!-- School section -->\r\n     <g transform=\"translate(19.965375 235.1292)rotate(-90)scale(0.168 -0.168)\">\r\n      <defs>\r\n       <path d=\"M 603 4863 \r\nL 1178 4863 \r\nL 1178 0 \r\nL 603 0 \r\nL 603 4863 \r\nz\r\n\" id=\"DejaVuSans-6c\" transform=\"scale(0.015625)\"/>\r\n       <path d=\"M 2834 3397 \r\nL 2834 2853 \r\nQ 2591 2978 2328 3040 \r\nQ 2066 3103 1784 3103 \r\nQ 1356 3103 1142 2972 \r\nQ 928 2841 928 2578 \r\nQ 928 2378 1081 2264 \r\nQ 1234 2150 1697 2047 \r\nL 1894 2003 \r\nQ 2506 1872 2764 1633 \r\nQ 3022 1394 3022 966 \r\nQ 3022 478 2636 193 \r\nQ 2250 -91 1575 -91 \r\nQ 1294 -91 989 -36 \r\nQ 684 19 347 128 \r\nL 347 722 \r\nQ 666 556 975 473 \r\nQ 1284 391 1588 391 \r\nQ 1994 391 2212 530 \r\nQ 2431 669 2431 922 \r\nQ 2431 1156 2273 1281 \r\nQ 2116 1406 1581 1522 \r\nL 1381 1569 \r\nQ 847 1681 609 1914 \r\nQ 372 2147 372 2553 \r\nQ 372 3047 722 3315 \r\nQ 1072 3584 1716 3584 \r\nQ 2034 3584 2315 3537 \r\nQ 2597 3491 2834 3397 \r\nz\r\n\" id=\"DejaVuSans-73\" transform=\"scale(0.015625)\"/>\r\n      </defs>\r\n      <use xlink:href=\"#DejaVuSans-53\"/>\r\n      <use x=\"63.476562\" xlink:href=\"#DejaVuSans-63\"/>\r\n      <use x=\"118.457031\" xlink:href=\"#DejaVuSans-68\"/>\r\n      <use x=\"181.835938\" xlink:href=\"#DejaVuSans-6f\"/>\r\n      <use x=\"243.017578\" xlink:href=\"#DejaVuSans-6f\"/>\r\n      <use x=\"304.199219\" xlink:href=\"#DejaVuSans-6c\"/>\r\n      <use x=\"331.982422\" xlink:href=\"#DejaVuSans-20\"/>\r\n      <use x=\"363.769531\" xlink:href=\"#DejaVuSans-73\"/>\r\n      <use x=\"415.869141\" xlink:href=\"#DejaVuSans-65\"/>\r\n      <use x=\"477.392578\" xlink:href=\"#DejaVuSans-63\"/>\r\n      <use x=\"532.373047\" xlink:href=\"#DejaVuSans-74\"/>\r\n      <use x=\"571.582031\" xlink:href=\"#DejaVuSans-69\"/>\r\n      <use x=\"599.365234\" xlink:href=\"#DejaVuSans-6f\"/>\r\n      <use x=\"660.546875\" xlink:href=\"#DejaVuSans-6e\"/>\r\n     </g>\r\n    </g>\r\n   </g>\r\n   <g id=\"patch_3\">\r\n    <path clip-path=\"url(#pdbbac2a5f2)\" d=\"M 229.831331 35.80845 \r\nL 229.831331 94.12845 \r\nL 276.971608 94.12845 \r\nL 276.971608 35.80845 \r\nL 229.831331 35.80845 \r\nz\r\n\" style=\"fill:#1b86ba;stroke:#404040;stroke-linejoin:miter;stroke-width:4;\"/>\r\n   </g>\r\n   <g id=\"patch_4\">\r\n    <path clip-path=\"url(#pdbbac2a5f2)\" d=\"M 202.48997 108.70845 \r\nL 202.48997 167.02845 \r\nL 244.916219 167.02845 \r\nL 244.916219 108.70845 \r\nL 202.48997 108.70845 \r\nz\r\n\" style=\"fill:#e36149;stroke:#404040;stroke-linejoin:miter;stroke-width:4;\"/>\r\n   </g>\r\n   <g id=\"patch_5\">\r\n    <path clip-path=\"url(#pdbbac2a5f2)\" d=\"M 232.659747 181.60845 \r\nL 232.659747 239.92845 \r\nL 315.155232 239.92845 \r\nL 315.155232 181.60845 \r\nL 232.659747 181.60845 \r\nz\r\n\" style=\"fill:#cfa64e;stroke:#404040;stroke-linejoin:miter;stroke-width:4;\"/>\r\n   </g>\r\n   <g id=\"patch_6\">\r\n    <path clip-path=\"url(#pdbbac2a5f2)\" d=\"M 268.95776 254.50845 \r\nL 268.95776 312.82845 \r\nL 334.954148 312.82845 \r\nL 334.954148 254.50845 \r\nL 268.95776 254.50845 \r\nz\r\n\" style=\"fill:#6e8857;stroke:#404040;stroke-linejoin:miter;stroke-width:4;\"/>\r\n   </g>\r\n   <g id=\"line2d_15\">\r\n    <path clip-path=\"url(#pdbbac2a5f2)\" d=\"M 229.831331 64.96845 \r\nL 186.462276 64.96845 \r\n\" style=\"fill:none;stroke:#404040;stroke-width:4;\"/>\r\n   </g>\r\n   <g id=\"line2d_16\">\r\n    <path clip-path=\"url(#pdbbac2a5f2)\" d=\"M 276.971608 64.96845 \r\nL 314.683829 64.96845 \r\n\" style=\"fill:none;stroke:#404040;stroke-width:4;\"/>\r\n   </g>\r\n   <g id=\"line2d_17\">\r\n    <path clip-path=\"url(#pdbbac2a5f2)\" d=\"M 186.462276 50.38845 \r\nL 186.462276 79.54845 \r\n\" style=\"fill:none;stroke:#404040;stroke-width:4;\"/>\r\n   </g>\r\n   <g id=\"line2d_18\">\r\n    <path clip-path=\"url(#pdbbac2a5f2)\" d=\"M 314.683829 50.38845 \r\nL 314.683829 79.54845 \r\n\" style=\"fill:none;stroke:#404040;stroke-width:4;\"/>\r\n   </g>\r\n   <g id=\"line2d_19\">\r\n    <defs>\r\n     <path d=\"M 0 3.535534 \r\nL 2.12132 0 \r\nL 0 -3.535534 \r\nL -2.12132 0 \r\nz\r\n\" id=\"m7902a3090f\" style=\"stroke:#404040;stroke-linejoin:miter;\"/>\r\n    </defs>\r\n    <g clip-path=\"url(#pdbbac2a5f2)\">\r\n     <use style=\"fill:#404040;stroke:#404040;stroke-linejoin:miter;\" x=\"358.052884\" xlink:href=\"#m7902a3090f\" y=\"64.96845\"/>\r\n     <use style=\"fill:#404040;stroke:#404040;stroke-linejoin:miter;\" x=\"376.908995\" xlink:href=\"#m7902a3090f\" y=\"64.96845\"/>\r\n    </g>\r\n   </g>\r\n   <g id=\"line2d_20\">\r\n    <path clip-path=\"url(#pdbbac2a5f2)\" d=\"M 202.48997 137.86845 \r\nL 184.576665 137.86845 \r\n\" style=\"fill:none;stroke:#404040;stroke-width:4;\"/>\r\n   </g>\r\n   <g id=\"line2d_21\">\r\n    <path clip-path=\"url(#pdbbac2a5f2)\" d=\"M 244.916219 137.86845 \r\nL 284.514052 137.86845 \r\n\" style=\"fill:none;stroke:#404040;stroke-width:4;\"/>\r\n   </g>\r\n   <g id=\"line2d_22\">\r\n    <path clip-path=\"url(#pdbbac2a5f2)\" d=\"M 184.576665 123.28845 \r\nL 184.576665 152.44845 \r\n\" style=\"fill:none;stroke:#404040;stroke-width:4;\"/>\r\n   </g>\r\n   <g id=\"line2d_23\">\r\n    <path clip-path=\"url(#pdbbac2a5f2)\" d=\"M 284.514052 123.28845 \r\nL 284.514052 152.44845 \r\n\" style=\"fill:none;stroke:#404040;stroke-width:4;\"/>\r\n   </g>\r\n   <g id=\"line2d_24\">\r\n    <g clip-path=\"url(#pdbbac2a5f2)\">\r\n     <use style=\"fill:#404040;stroke:#404040;stroke-linejoin:miter;\" x=\"337.311162\" xlink:href=\"#m7902a3090f\" y=\"137.86845\"/>\r\n     <use style=\"fill:#404040;stroke:#404040;stroke-linejoin:miter;\" x=\"310.912607\" xlink:href=\"#m7902a3090f\" y=\"137.86845\"/>\r\n    </g>\r\n   </g>\r\n   <g id=\"line2d_25\">\r\n    <path clip-path=\"url(#pdbbac2a5f2)\" d=\"M 232.659747 210.76845 \r\nL 201.547164 210.76845 \r\n\" style=\"fill:none;stroke:#404040;stroke-width:4;\"/>\r\n   </g>\r\n   <g id=\"line2d_26\">\r\n    <path clip-path=\"url(#pdbbac2a5f2)\" d=\"M 315.155232 210.76845 \r\nL 369.36655 210.76845 \r\n\" style=\"fill:none;stroke:#404040;stroke-width:4;\"/>\r\n   </g>\r\n   <g id=\"line2d_27\">\r\n    <path clip-path=\"url(#pdbbac2a5f2)\" d=\"M 201.547164 196.18845 \r\nL 201.547164 225.34845 \r\n\" style=\"fill:none;stroke:#404040;stroke-width:4;\"/>\r\n   </g>\r\n   <g id=\"line2d_28\">\r\n    <path clip-path=\"url(#pdbbac2a5f2)\" d=\"M 369.36655 196.18845 \r\nL 369.36655 225.34845 \r\n\" style=\"fill:none;stroke:#404040;stroke-width:4;\"/>\r\n   </g>\r\n   <g id=\"line2d_29\">\r\n    <g clip-path=\"url(#pdbbac2a5f2)\">\r\n     <use style=\"fill:#404040;stroke:#404040;stroke-linejoin:miter;\" x=\"482.503215\" xlink:href=\"#m7902a3090f\" y=\"210.76845\"/>\r\n     <use style=\"fill:#404040;stroke:#404040;stroke-linejoin:miter;\" x=\"512.672992\" xlink:href=\"#m7902a3090f\" y=\"210.76845\"/>\r\n     <use style=\"fill:#404040;stroke:#404040;stroke-linejoin:miter;\" x=\"461.761493\" xlink:href=\"#m7902a3090f\" y=\"210.76845\"/>\r\n    </g>\r\n   </g>\r\n   <g id=\"line2d_30\">\r\n    <path clip-path=\"url(#pdbbac2a5f2)\" d=\"M 268.95776 283.66845 \r\nL 210.97522 283.66845 \r\n\" style=\"fill:none;stroke:#404040;stroke-width:4;\"/>\r\n   </g>\r\n   <g id=\"line2d_31\">\r\n    <path clip-path=\"url(#pdbbac2a5f2)\" d=\"M 334.954148 283.66845 \r\nL 425.934883 283.66845 \r\n\" style=\"fill:none;stroke:#404040;stroke-width:4;\"/>\r\n   </g>\r\n   <g id=\"line2d_32\">\r\n    <path clip-path=\"url(#pdbbac2a5f2)\" d=\"M 210.97522 269.08845 \r\nL 210.97522 298.24845 \r\n\" style=\"fill:none;stroke:#404040;stroke-width:4;\"/>\r\n   </g>\r\n   <g id=\"line2d_33\">\r\n    <path clip-path=\"url(#pdbbac2a5f2)\" d=\"M 425.934883 269.08845 \r\nL 425.934883 298.24845 \r\n\" style=\"fill:none;stroke:#404040;stroke-width:4;\"/>\r\n   </g>\r\n   <g id=\"line2d_34\">\r\n    <g clip-path=\"url(#pdbbac2a5f2)\">\r\n     <use style=\"fill:#404040;stroke:#404040;stroke-linejoin:miter;\" x=\"499.473715\" xlink:href=\"#m7902a3090f\" y=\"283.66845\"/>\r\n     <use style=\"fill:#404040;stroke:#404040;stroke-linejoin:miter;\" x=\"527.757881\" xlink:href=\"#m7902a3090f\" y=\"283.66845\"/>\r\n     <use style=\"fill:#404040;stroke:#404040;stroke-linejoin:miter;\" x=\"754.03121\" xlink:href=\"#m7902a3090f\" y=\"283.66845\"/>\r\n     <use style=\"fill:#404040;stroke:#404040;stroke-linejoin:miter;\" x=\"473.07516\" xlink:href=\"#m7902a3090f\" y=\"283.66845\"/>\r\n    </g>\r\n   </g>\r\n   <g id=\"line2d_35\">\r\n    <path clip-path=\"url(#pdbbac2a5f2)\" d=\"M 258.115497 35.80845 \r\nL 258.115497 94.12845 \r\n\" style=\"fill:none;stroke:#404040;stroke-width:4;\"/>\r\n   </g>\r\n   <g id=\"line2d_36\">\r\n    <path clip-path=\"url(#pdbbac2a5f2)\" d=\"M 227.94572 108.70845 \r\nL 227.94572 167.02845 \r\n\" style=\"fill:none;stroke:#404040;stroke-width:4;\"/>\r\n   </g>\r\n   <g id=\"line2d_37\">\r\n    <path clip-path=\"url(#pdbbac2a5f2)\" d=\"M 252.458664 181.60845 \r\nL 252.458664 239.92845 \r\n\" style=\"fill:none;stroke:#404040;stroke-width:4;\"/>\r\n   </g>\r\n   <g id=\"line2d_38\">\r\n    <path clip-path=\"url(#pdbbac2a5f2)\" d=\"M 300.541746 254.50845 \r\nL 300.541746 312.82845 \r\n\" style=\"fill:none;stroke:#404040;stroke-width:4;\"/>\r\n   </g>\r\n   <g id=\"patch_7\">\r\n    <path d=\"M 156.103938 320.11845 \r\nL 156.103938 28.51845 \r\n\" style=\"fill:none;stroke:#f0f0f0;stroke-linecap:square;stroke-linejoin:miter;stroke-width:3;\"/>\r\n   </g>\r\n   <g id=\"patch_8\">\r\n    <path d=\"M 782.503938 320.11845 \r\nL 782.503938 28.51845 \r\n\" style=\"fill:none;stroke:#f0f0f0;stroke-linecap:square;stroke-linejoin:miter;stroke-width:3;\"/>\r\n   </g>\r\n   <g id=\"patch_9\">\r\n    <path d=\"M 156.103938 320.11845 \r\nL 782.503938 320.11845 \r\n\" style=\"fill:none;stroke:#f0f0f0;stroke-linecap:square;stroke-linejoin:miter;stroke-width:3;\"/>\r\n   </g>\r\n   <g id=\"patch_10\">\r\n    <path d=\"M 156.103938 28.51845 \r\nL 782.503938 28.51845 \r\n\" style=\"fill:none;stroke:#f0f0f0;stroke-linecap:square;stroke-linejoin:miter;stroke-width:3;\"/>\r\n   </g>\r\n   <g id=\"text_12\">\r\n    <!-- Student to teacher ration in different sections of the school -->\r\n    <g transform=\"translate(170.157888 22.51845)scale(0.2016 -0.2016)\">\r\n     <defs>\r\n      <path d=\"M 2375 4863 \r\nL 2375 4384 \r\nL 1825 4384 \r\nQ 1516 4384 1395 4259 \r\nQ 1275 4134 1275 3809 \r\nL 1275 3500 \r\nL 2222 3500 \r\nL 2222 3053 \r\nL 1275 3053 \r\nL 1275 0 \r\nL 697 0 \r\nL 697 3053 \r\nL 147 3053 \r\nL 147 3500 \r\nL 697 3500 \r\nL 697 3744 \r\nQ 697 4328 969 4595 \r\nQ 1241 4863 1831 4863 \r\nL 2375 4863 \r\nz\r\n\" id=\"DejaVuSans-66\" transform=\"scale(0.015625)\"/>\r\n     </defs>\r\n     <use xlink:href=\"#DejaVuSans-53\"/>\r\n     <use x=\"63.476562\" xlink:href=\"#DejaVuSans-74\"/>\r\n     <use x=\"102.685547\" xlink:href=\"#DejaVuSans-75\"/>\r\n     <use x=\"166.064453\" xlink:href=\"#DejaVuSans-64\"/>\r\n     <use x=\"229.541016\" xlink:href=\"#DejaVuSans-65\"/>\r\n     <use x=\"291.064453\" xlink:href=\"#DejaVuSans-6e\"/>\r\n     <use x=\"354.443359\" xlink:href=\"#DejaVuSans-74\"/>\r\n     <use x=\"393.652344\" xlink:href=\"#DejaVuSans-20\"/>\r\n     <use x=\"425.439453\" xlink:href=\"#DejaVuSans-74\"/>\r\n     <use x=\"464.648438\" xlink:href=\"#DejaVuSans-6f\"/>\r\n     <use x=\"525.830078\" xlink:href=\"#DejaVuSans-20\"/>\r\n     <use x=\"557.617188\" xlink:href=\"#DejaVuSans-74\"/>\r\n     <use x=\"596.826172\" xlink:href=\"#DejaVuSans-65\"/>\r\n     <use x=\"658.349609\" xlink:href=\"#DejaVuSans-61\"/>\r\n     <use x=\"719.628906\" xlink:href=\"#DejaVuSans-63\"/>\r\n     <use x=\"774.609375\" xlink:href=\"#DejaVuSans-68\"/>\r\n     <use x=\"837.988281\" xlink:href=\"#DejaVuSans-65\"/>\r\n     <use x=\"899.511719\" xlink:href=\"#DejaVuSans-72\"/>\r\n     <use x=\"940.625\" xlink:href=\"#DejaVuSans-20\"/>\r\n     <use x=\"972.412109\" xlink:href=\"#DejaVuSans-72\"/>\r\n     <use x=\"1013.525391\" xlink:href=\"#DejaVuSans-61\"/>\r\n     <use x=\"1074.804688\" xlink:href=\"#DejaVuSans-74\"/>\r\n     <use x=\"1114.013672\" xlink:href=\"#DejaVuSans-69\"/>\r\n     <use x=\"1141.796875\" xlink:href=\"#DejaVuSans-6f\"/>\r\n     <use x=\"1202.978516\" xlink:href=\"#DejaVuSans-6e\"/>\r\n     <use x=\"1266.357422\" xlink:href=\"#DejaVuSans-20\"/>\r\n     <use x=\"1298.144531\" xlink:href=\"#DejaVuSans-69\"/>\r\n     <use x=\"1325.927734\" xlink:href=\"#DejaVuSans-6e\"/>\r\n     <use x=\"1389.306641\" xlink:href=\"#DejaVuSans-20\"/>\r\n     <use x=\"1421.09375\" xlink:href=\"#DejaVuSans-64\"/>\r\n     <use x=\"1484.570312\" xlink:href=\"#DejaVuSans-69\"/>\r\n     <use x=\"1512.353516\" xlink:href=\"#DejaVuSans-66\"/>\r\n     <use x=\"1547.558594\" xlink:href=\"#DejaVuSans-66\"/>\r\n     <use x=\"1582.763672\" xlink:href=\"#DejaVuSans-65\"/>\r\n     <use x=\"1644.287109\" xlink:href=\"#DejaVuSans-72\"/>\r\n     <use x=\"1683.150391\" xlink:href=\"#DejaVuSans-65\"/>\r\n     <use x=\"1744.673828\" xlink:href=\"#DejaVuSans-6e\"/>\r\n     <use x=\"1808.052734\" xlink:href=\"#DejaVuSans-74\"/>\r\n     <use x=\"1847.261719\" xlink:href=\"#DejaVuSans-20\"/>\r\n     <use x=\"1879.048828\" xlink:href=\"#DejaVuSans-73\"/>\r\n     <use x=\"1931.148438\" xlink:href=\"#DejaVuSans-65\"/>\r\n     <use x=\"1992.671875\" xlink:href=\"#DejaVuSans-63\"/>\r\n     <use x=\"2047.652344\" xlink:href=\"#DejaVuSans-74\"/>\r\n     <use x=\"2086.861328\" xlink:href=\"#DejaVuSans-69\"/>\r\n     <use x=\"2114.644531\" xlink:href=\"#DejaVuSans-6f\"/>\r\n     <use x=\"2175.826172\" xlink:href=\"#DejaVuSans-6e\"/>\r\n     <use x=\"2239.205078\" xlink:href=\"#DejaVuSans-73\"/>\r\n     <use x=\"2291.304688\" xlink:href=\"#DejaVuSans-20\"/>\r\n     <use x=\"2323.091797\" xlink:href=\"#DejaVuSans-6f\"/>\r\n     <use x=\"2384.273438\" xlink:href=\"#DejaVuSans-66\"/>\r\n     <use x=\"2419.478516\" xlink:href=\"#DejaVuSans-20\"/>\r\n     <use x=\"2451.265625\" xlink:href=\"#DejaVuSans-74\"/>\r\n     <use x=\"2490.474609\" xlink:href=\"#DejaVuSans-68\"/>\r\n     <use x=\"2553.853516\" xlink:href=\"#DejaVuSans-65\"/>\r\n     <use x=\"2615.376953\" xlink:href=\"#DejaVuSans-20\"/>\r\n     <use x=\"2647.164062\" xlink:href=\"#DejaVuSans-73\"/>\r\n     <use x=\"2699.263672\" xlink:href=\"#DejaVuSans-63\"/>\r\n     <use x=\"2754.244141\" xlink:href=\"#DejaVuSans-68\"/>\r\n     <use x=\"2817.623047\" xlink:href=\"#DejaVuSans-6f\"/>\r\n     <use x=\"2878.804688\" xlink:href=\"#DejaVuSans-6f\"/>\r\n     <use x=\"2939.986328\" xlink:href=\"#DejaVuSans-6c\"/>\r\n    </g>\r\n   </g>\r\n  </g>\r\n </g>\r\n <defs>\r\n  <clipPath id=\"pdbbac2a5f2\">\r\n   <rect height=\"291.6\" width=\"626.4\" x=\"156.103938\" y=\"28.51845\"/>\r\n  </clipPath>\r\n </defs>\r\n</svg>\r\n",
      "image/png": "[encoded data removed]"
     },
     "metadata": {}
    }
   ],
   "source": [
    "prim=['Primary']*36\n",
    "uprim=['Upper Primary']*36\n",
    "sec=['Secondary']*36\n",
    "usec=['Higher Secondary']*36\n",
    "lis=prim+uprim+sec+usec\n",
    "lis\n",
    "datas=pd.DataFrame({'values':pd.concat([ptr['Primary'],ptr['Upper Primary'],ptr['Secondary'],ptr['Higher Secondary']],axis=0), 'ID':lis, 'State':list(states['State'])*4})\n",
    "plt.figure(figsize=(10,5))\n",
    "sns.boxplot(data=datas, x='values', y='ID')\n",
    "plt.xlabel('Student to teacher ratio')\n",
    "plt.ylabel('School section')\n",
    "plt.title('Student to teacher ration in different sections of the school')"
   ]
  },
  {
   "source": [
    "## Other factors in schooling"
   ],
   "cell_type": "markdown",
   "metadata": {}
  },
  {
   "cell_type": "code",
   "execution_count": 158,
   "metadata": {},
   "outputs": [
    {
     "output_type": "execute_result",
     "data": {
      "text/plain": [
       "<pandas.io.formats.style.Styler at 0x289ff00beb0>"
      ],
      "text/html": "<style  type=\"text/css\" >\n#T_59e15_row0_col0,#T_59e15_row1_col1,#T_59e15_row2_col2,#T_59e15_row3_col3,#T_59e15_row4_col4{\n            background-color:  #b40426;\n            color:  #f1f1f1;\n        }#T_59e15_row0_col1{\n            background-color:  #f4c5ad;\n            color:  #000000;\n        }#T_59e15_row0_col2{\n            background-color:  #98b9ff;\n            color:  #000000;\n        }#T_59e15_row0_col3{\n            background-color:  #6a8bef;\n            color:  #000000;\n        }#T_59e15_row0_col4,#T_59e15_row1_col3,#T_59e15_row3_col1,#T_59e15_row3_col2,#T_59e15_row4_col0{\n            background-color:  #3b4cc0;\n            color:  #f1f1f1;\n        }#T_59e15_row1_col0{\n            background-color:  #f5c2aa;\n            color:  #000000;\n        }#T_59e15_row1_col2,#T_59e15_row3_col4{\n            background-color:  #f7bca1;\n            color:  #000000;\n        }#T_59e15_row1_col4{\n            background-color:  #7699f6;\n            color:  #000000;\n        }#T_59e15_row2_col0{\n            background-color:  #a1c0ff;\n            color:  #000000;\n        }#T_59e15_row2_col1{\n            background-color:  #f7ba9f;\n            color:  #000000;\n        }#T_59e15_row2_col3{\n            background-color:  #3f53c6;\n            color:  #f1f1f1;\n        }#T_59e15_row2_col4{\n            background-color:  #688aef;\n            color:  #000000;\n        }#T_59e15_row3_col0{\n            background-color:  #6e90f2;\n            color:  #000000;\n        }#T_59e15_row4_col1{\n            background-color:  #7295f4;\n            color:  #000000;\n        }#T_59e15_row4_col2{\n            background-color:  #5f7fe8;\n            color:  #000000;\n        }#T_59e15_row4_col3{\n            background-color:  #f6bda2;\n            color:  #000000;\n        }</style><table id=\"T_59e15_\" ><thead>    <tr>        <th class=\"blank level0\" ></th>        <th class=\"col_heading level0 col0\" >Drinking water</th>        <th class=\"col_heading level0 col1\" >Electricity</th>        <th class=\"col_heading level0 col2\" >Computer</th>        <th class=\"col_heading level0 col3\" >Boys toilet</th>        <th class=\"col_heading level0 col4\" >Girls toilet</th>    </tr></thead><tbody>\n                <tr>\n                        <th id=\"T_59e15_level0_row0\" class=\"row_heading level0 row0\" >Drinking water</th>\n                        <td id=\"T_59e15_row0_col0\" class=\"data row0 col0\" >1.000000</td>\n                        <td id=\"T_59e15_row0_col1\" class=\"data row0 col1\" >0.865238</td>\n                        <td id=\"T_59e15_row0_col2\" class=\"data row0 col2\" >0.748390</td>\n                        <td id=\"T_59e15_row0_col3\" class=\"data row0 col3\" >0.696139</td>\n                        <td id=\"T_59e15_row0_col4\" class=\"data row0 col4\" >0.636747</td>\n            </tr>\n            <tr>\n                        <th id=\"T_59e15_level0_row1\" class=\"row_heading level0 row1\" >Electricity</th>\n                        <td id=\"T_59e15_row1_col0\" class=\"data row1 col0\" >0.865238</td>\n                        <td id=\"T_59e15_row1_col1\" class=\"data row1 col1\" >1.000000</td>\n                        <td id=\"T_59e15_row1_col2\" class=\"data row1 col2\" >0.878351</td>\n                        <td id=\"T_59e15_row1_col3\" class=\"data row1 col3\" >0.642424</td>\n                        <td id=\"T_59e15_row1_col4\" class=\"data row1 col4\" >0.704691</td>\n            </tr>\n            <tr>\n                        <th id=\"T_59e15_level0_row2\" class=\"row_heading level0 row2\" >Computer</th>\n                        <td id=\"T_59e15_row2_col0\" class=\"data row2 col0\" >0.748390</td>\n                        <td id=\"T_59e15_row2_col1\" class=\"data row2 col1\" >0.878351</td>\n                        <td id=\"T_59e15_row2_col2\" class=\"data row2 col2\" >1.000000</td>\n                        <td id=\"T_59e15_row2_col3\" class=\"data row2 col3\" >0.648551</td>\n                        <td id=\"T_59e15_row2_col4\" class=\"data row2 col4\" >0.690509</td>\n            </tr>\n            <tr>\n                        <th id=\"T_59e15_level0_row3\" class=\"row_heading level0 row3\" >Boys toilet</th>\n                        <td id=\"T_59e15_row3_col0\" class=\"data row3 col0\" >0.696139</td>\n                        <td id=\"T_59e15_row3_col1\" class=\"data row3 col1\" >0.642424</td>\n                        <td id=\"T_59e15_row3_col2\" class=\"data row3 col2\" >0.648551</td>\n                        <td id=\"T_59e15_row3_col3\" class=\"data row3 col3\" >1.000000</td>\n                        <td id=\"T_59e15_row3_col4\" class=\"data row3 col4\" >0.874460</td>\n            </tr>\n            <tr>\n                        <th id=\"T_59e15_level0_row4\" class=\"row_heading level0 row4\" >Girls toilet</th>\n                        <td id=\"T_59e15_row4_col0\" class=\"data row4 col0\" >0.636747</td>\n                        <td id=\"T_59e15_row4_col1\" class=\"data row4 col1\" >0.704691</td>\n                        <td id=\"T_59e15_row4_col2\" class=\"data row4 col2\" >0.690509</td>\n                        <td id=\"T_59e15_row4_col3\" class=\"data row4 col3\" >0.874460</td>\n                        <td id=\"T_59e15_row4_col4\" class=\"data row4 col4\" >1.000000</td>\n            </tr>\n    </tbody></table>"
     },
     "metadata": {},
     "execution_count": 158
    }
   ],
   "source": [
    "factors.corr(method='spearman').style.background_gradient(cmap=\"coolwarm\")"
   ]
  },
  {
   "cell_type": "code",
   "execution_count": 159,
   "metadata": {},
   "outputs": [
    {
     "output_type": "display_data",
     "data": {
      "application/vnd.plotly.v1+json": {
       "config": {
        "plotlyServerURL": "https://plot.ly"
       },
       "data": [
        {
         "alignmentgroup": "True",
         "hovertemplate": "<b>%{hovertext}</b><br><br>ID=%{y}<br>values=%{x}<extra></extra>",
         "hovertext": [
          "Andaman & Nicobar Islands",
          "Andhra Pradesh",
          "Arunachal Pradesh",
          "Assam",
          "Bihar",
          "Chandigarh",
          "Chhattisgarh",
          "Dadra & Nagar Haveli",
          "Daman & Diu",
          "Delhi",
          "Goa",
          "Gujarat",
          "Haryana",
          "Himachal Pradesh",
          "Jammu And Kashmir",
          "Jharkhand",
          "Karnataka",
          "Kerala",
          "Lakshadweep",
          "Madhya Pradesh",
          "Maharashtra",
          "Manipur",
          "Meghalaya",
          "Mizoram",
          "Nagaland",
          "Odisha",
          "Puducherry",
          "Punjab",
          "Rajasthan",
          "Sikkim",
          "Tamil Nadu",
          "Telangana",
          "Tripura",
          "Uttar Pradesh",
          "Uttarakhand",
          "West Bengal"
         ],
         "legendgroup": "Drinking water",
         "marker": {
          "color": "#636efa"
         },
         "name": "Drinking water",
         "notched": false,
         "offsetgroup": "Drinking water",
         "orientation": "h",
         "showlegend": true,
         "type": "box",
         "x": [
          98.69,
          90.35,
          79.79,
          80.3,
          92.53,
          100,
          95.47,
          100,
          100,
          100,
          98.61,
          99.97,
          99.87,
          99.06,
          89.95,
          91.35,
          99.54,
          99.4,
          100,
          96.13,
          99.31,
          89.09,
          61.76,
          93.39,
          72.33,
          96.85,
          100,
          99.77,
          96.31,
          97.18,
          100,
          93.6,
          88.98,
          98.57,
          95.14,
          97.93
         ],
         "x0": " ",
         "xaxis": "x",
         "y": [
          "Drinking water",
          "Drinking water",
          "Drinking water",
          "Drinking water",
          "Drinking water",
          "Drinking water",
          "Drinking water",
          "Drinking water",
          "Drinking water",
          "Drinking water",
          "Drinking water",
          "Drinking water",
          "Drinking water",
          "Drinking water",
          "Drinking water",
          "Drinking water",
          "Drinking water",
          "Drinking water",
          "Drinking water",
          "Drinking water",
          "Drinking water",
          "Drinking water",
          "Drinking water",
          "Drinking water",
          "Drinking water",
          "Drinking water",
          "Drinking water",
          "Drinking water",
          "Drinking water",
          "Drinking water",
          "Drinking water",
          "Drinking water",
          "Drinking water",
          "Drinking water",
          "Drinking water",
          "Drinking water"
         ],
         "y0": " ",
         "yaxis": "y"
        },
        {
         "alignmentgroup": "True",
         "hovertemplate": "<b>%{hovertext}</b><br><br>ID=%{y}<br>values=%{x}<extra></extra>",
         "hovertext": [
          "Andaman & Nicobar Islands",
          "Andhra Pradesh",
          "Arunachal Pradesh",
          "Assam",
          "Bihar",
          "Chandigarh",
          "Chhattisgarh",
          "Dadra & Nagar Haveli",
          "Daman & Diu",
          "Delhi",
          "Goa",
          "Gujarat",
          "Haryana",
          "Himachal Pradesh",
          "Jammu And Kashmir",
          "Jharkhand",
          "Karnataka",
          "Kerala",
          "Lakshadweep",
          "Madhya Pradesh",
          "Maharashtra",
          "Manipur",
          "Meghalaya",
          "Mizoram",
          "Nagaland",
          "Odisha",
          "Puducherry",
          "Punjab",
          "Rajasthan",
          "Sikkim",
          "Tamil Nadu",
          "Telangana",
          "Tripura",
          "Uttar Pradesh",
          "Uttarakhand",
          "West Bengal"
         ],
         "legendgroup": "Electricity",
         "marker": {
          "color": "#EF553B"
         },
         "name": "Electricity",
         "notched": false,
         "offsetgroup": "Electricity",
         "orientation": "h",
         "showlegend": true,
         "type": "box",
         "x": [
          88.86,
          90.34,
          36.35,
          19.39,
          9.96,
          100,
          57.28,
          96.79,
          100,
          100,
          98.17,
          99.72,
          98.89,
          94.9,
          23.47,
          16.35,
          96.78,
          96.08,
          100,
          28.27,
          92.75,
          30.97,
          24.49,
          73.79,
          39.06,
          27.88,
          100,
          99.86,
          52.06,
          69.3,
          97.69,
          91.05,
          28.58,
          53.59,
          76.95,
          56.96
         ],
         "x0": " ",
         "xaxis": "x",
         "y": [
          "Electricity",
          "Electricity",
          "Electricity",
          "Electricity",
          "Electricity",
          "Electricity",
          "Electricity",
          "Electricity",
          "Electricity",
          "Electricity",
          "Electricity",
          "Electricity",
          "Electricity",
          "Electricity",
          "Electricity",
          "Electricity",
          "Electricity",
          "Electricity",
          "Electricity",
          "Electricity",
          "Electricity",
          "Electricity",
          "Electricity",
          "Electricity",
          "Electricity",
          "Electricity",
          "Electricity",
          "Electricity",
          "Electricity",
          "Electricity",
          "Electricity",
          "Electricity",
          "Electricity",
          "Electricity",
          "Electricity",
          "Electricity"
         ],
         "y0": " ",
         "yaxis": "y"
        },
        {
         "alignmentgroup": "True",
         "hovertemplate": "<b>%{hovertext}</b><br><br>ID=%{y}<br>values=%{x}<extra></extra>",
         "hovertext": [
          "Andaman & Nicobar Islands",
          "Andhra Pradesh",
          "Arunachal Pradesh",
          "Assam",
          "Bihar",
          "Chandigarh",
          "Chhattisgarh",
          "Dadra & Nagar Haveli",
          "Daman & Diu",
          "Delhi",
          "Goa",
          "Gujarat",
          "Haryana",
          "Himachal Pradesh",
          "Jammu And Kashmir",
          "Jharkhand",
          "Karnataka",
          "Kerala",
          "Lakshadweep",
          "Madhya Pradesh",
          "Maharashtra",
          "Manipur",
          "Meghalaya",
          "Mizoram",
          "Nagaland",
          "Odisha",
          "Puducherry",
          "Punjab",
          "Rajasthan",
          "Sikkim",
          "Tamil Nadu",
          "Telangana",
          "Tripura",
          "Uttar Pradesh",
          "Uttarakhand",
          "West Bengal"
         ],
         "legendgroup": "Computer",
         "marker": {
          "color": "#00cc96"
         },
         "name": "Computer",
         "notched": false,
         "offsetgroup": "Computer",
         "orientation": "h",
         "showlegend": true,
         "type": "box",
         "x": [
          53.06,
          29.57,
          24.28,
          8.85,
          5.47,
          95.83,
          9.8,
          38.19,
          61.11,
          81.56,
          40.63,
          72.08,
          44.12,
          22.49,
          16.73,
          8.94,
          35.01,
          92.63,
          100,
          13.03,
          52.79,
          25.57,
          8.98,
          27.76,
          34.96,
          10.58,
          97.62,
          51.97,
          23.47,
          53.33,
          54.14,
          37.9,
          15.11,
          12.72,
          32.97,
          12.13
         ],
         "x0": " ",
         "xaxis": "x",
         "y": [
          "Computer",
          "Computer",
          "Computer",
          "Computer",
          "Computer",
          "Computer",
          "Computer",
          "Computer",
          "Computer",
          "Computer",
          "Computer",
          "Computer",
          "Computer",
          "Computer",
          "Computer",
          "Computer",
          "Computer",
          "Computer",
          "Computer",
          "Computer",
          "Computer",
          "Computer",
          "Computer",
          "Computer",
          "Computer",
          "Computer",
          "Computer",
          "Computer",
          "Computer",
          "Computer",
          "Computer",
          "Computer",
          "Computer",
          "Computer",
          "Computer",
          "Computer"
         ],
         "y0": " ",
         "yaxis": "y"
        },
        {
         "alignmentgroup": "True",
         "hovertemplate": "<b>%{hovertext}</b><br><br>ID=%{y}<br>values=%{x}<extra></extra>",
         "hovertext": [
          "Andaman & Nicobar Islands",
          "Andhra Pradesh",
          "Arunachal Pradesh",
          "Assam",
          "Bihar",
          "Chandigarh",
          "Chhattisgarh",
          "Dadra & Nagar Haveli",
          "Daman & Diu",
          "Delhi",
          "Goa",
          "Gujarat",
          "Haryana",
          "Himachal Pradesh",
          "Jammu And Kashmir",
          "Jharkhand",
          "Karnataka",
          "Kerala",
          "Lakshadweep",
          "Madhya Pradesh",
          "Maharashtra",
          "Manipur",
          "Meghalaya",
          "Mizoram",
          "Nagaland",
          "Odisha",
          "Puducherry",
          "Punjab",
          "Rajasthan",
          "Sikkim",
          "Tamil Nadu",
          "Telangana",
          "Tripura",
          "Uttar Pradesh",
          "Uttarakhand",
          "West Bengal"
         ],
         "legendgroup": "Boys toilet",
         "marker": {
          "color": "#ab63fa"
         },
         "name": "Boys toilet",
         "notched": false,
         "offsetgroup": "Boys toilet",
         "orientation": "h",
         "showlegend": true,
         "type": "box",
         "x": [
          94.52,
          56.88,
          48.73,
          60.17,
          73.42,
          100,
          82.85,
          85.53,
          100,
          100,
          87.07,
          97.77,
          96.53,
          94.48,
          69.56,
          85.67,
          99.65,
          96.85,
          100,
          92.64,
          98.3,
          95.3,
          53.71,
          73.27,
          87.88,
          76.61,
          99.85,
          97.04,
          96.03,
          97.01,
          90.93,
          73.39,
          99.44,
          98.5,
          96.46,
          89.93
         ],
         "x0": " ",
         "xaxis": "x",
         "y": [
          "Boys toilet",
          "Boys toilet",
          "Boys toilet",
          "Boys toilet",
          "Boys toilet",
          "Boys toilet",
          "Boys toilet",
          "Boys toilet",
          "Boys toilet",
          "Boys toilet",
          "Boys toilet",
          "Boys toilet",
          "Boys toilet",
          "Boys toilet",
          "Boys toilet",
          "Boys toilet",
          "Boys toilet",
          "Boys toilet",
          "Boys toilet",
          "Boys toilet",
          "Boys toilet",
          "Boys toilet",
          "Boys toilet",
          "Boys toilet",
          "Boys toilet",
          "Boys toilet",
          "Boys toilet",
          "Boys toilet",
          "Boys toilet",
          "Boys toilet",
          "Boys toilet",
          "Boys toilet",
          "Boys toilet",
          "Boys toilet",
          "Boys toilet",
          "Boys toilet"
         ],
         "y0": " ",
         "yaxis": "y"
        },
        {
         "alignmentgroup": "True",
         "hovertemplate": "<b>%{hovertext}</b><br><br>ID=%{y}<br>values=%{x}<extra></extra>",
         "hovertext": [
          "Andaman & Nicobar Islands",
          "Andhra Pradesh",
          "Arunachal Pradesh",
          "Assam",
          "Bihar",
          "Chandigarh",
          "Chhattisgarh",
          "Dadra & Nagar Haveli",
          "Daman & Diu",
          "Delhi",
          "Goa",
          "Gujarat",
          "Haryana",
          "Himachal Pradesh",
          "Jammu And Kashmir",
          "Jharkhand",
          "Karnataka",
          "Kerala",
          "Lakshadweep",
          "Madhya Pradesh",
          "Maharashtra",
          "Manipur",
          "Meghalaya",
          "Mizoram",
          "Nagaland",
          "Odisha",
          "Puducherry",
          "Punjab",
          "Rajasthan",
          "Sikkim",
          "Tamil Nadu",
          "Telangana",
          "Tripura",
          "Uttar Pradesh",
          "Uttarakhand",
          "West Bengal"
         ],
         "legendgroup": "Girls toilet",
         "marker": {
          "color": "#FFA15A"
         },
         "name": "Girls toilet",
         "notched": false,
         "offsetgroup": "Girls toilet",
         "orientation": "h",
         "showlegend": true,
         "type": "box",
         "x": [
          93.44,
          81.31,
          76.9,
          75.28,
          75.41,
          100,
          94.1,
          94.36,
          100,
          100,
          98.31,
          99.78,
          98.1,
          97.32,
          76.69,
          87.68,
          99.88,
          97.39,
          100,
          93.02,
          98.46,
          98.17,
          50.95,
          99.62,
          97.08,
          86,
          100,
          97.81,
          97.87,
          99.25,
          96.91,
          92.1,
          99.88,
          98.72,
          95.97,
          92.42
         ],
         "x0": " ",
         "xaxis": "x",
         "y": [
          "Girls toilet",
          "Girls toilet",
          "Girls toilet",
          "Girls toilet",
          "Girls toilet",
          "Girls toilet",
          "Girls toilet",
          "Girls toilet",
          "Girls toilet",
          "Girls toilet",
          "Girls toilet",
          "Girls toilet",
          "Girls toilet",
          "Girls toilet",
          "Girls toilet",
          "Girls toilet",
          "Girls toilet",
          "Girls toilet",
          "Girls toilet",
          "Girls toilet",
          "Girls toilet",
          "Girls toilet",
          "Girls toilet",
          "Girls toilet",
          "Girls toilet",
          "Girls toilet",
          "Girls toilet",
          "Girls toilet",
          "Girls toilet",
          "Girls toilet",
          "Girls toilet",
          "Girls toilet",
          "Girls toilet",
          "Girls toilet",
          "Girls toilet",
          "Girls toilet"
         ],
         "y0": " ",
         "yaxis": "y"
        }
       ],
       "layout": {
        "boxmode": "overlay",
        "legend": {
         "title": {
          "text": "ID"
         },
         "tracegroupgap": 0
        },
        "margin": {
         "t": 60
        },
        "template": {
         "data": {
          "bar": [
           {
            "error_x": {
             "color": "#2a3f5f"
            },
            "error_y": {
             "color": "#2a3f5f"
            },
            "marker": {
             "line": {
              "color": "#E5ECF6",
              "width": 0.5
             }
            },
            "type": "bar"
           }
          ],
          "barpolar": [
           {
            "marker": {
             "line": {
              "color": "#E5ECF6",
              "width": 0.5
             }
            },
            "type": "barpolar"
           }
          ],
          "carpet": [
           {
            "aaxis": {
             "endlinecolor": "#2a3f5f",
             "gridcolor": "white",
             "linecolor": "white",
             "minorgridcolor": "white",
             "startlinecolor": "#2a3f5f"
            },
            "baxis": {
             "endlinecolor": "#2a3f5f",
             "gridcolor": "white",
             "linecolor": "white",
             "minorgridcolor": "white",
             "startlinecolor": "#2a3f5f"
            },
            "type": "carpet"
           }
          ],
          "choropleth": [
           {
            "colorbar": {
             "outlinewidth": 0,
             "ticks": ""
            },
            "type": "choropleth"
           }
          ],
          "contour": [
           {
            "colorbar": {
             "outlinewidth": 0,
             "ticks": ""
            },
            "colorscale": [
             [
              0,
              "#0d0887"
             ],
             [
              0.1111111111111111,
              "#46039f"
             ],
             [
              0.2222222222222222,
              "#7201a8"
             ],
             [
              0.3333333333333333,
              "#9c179e"
             ],
             [
              0.4444444444444444,
              "#bd3786"
             ],
             [
              0.5555555555555556,
              "#d8576b"
             ],
             [
              0.6666666666666666,
              "#ed7953"
             ],
             [
              0.7777777777777778,
              "#fb9f3a"
             ],
             [
              0.8888888888888888,
              "#fdca26"
             ],
             [
              1,
              "#f0f921"
             ]
            ],
            "type": "contour"
           }
          ],
          "contourcarpet": [
           {
            "colorbar": {
             "outlinewidth": 0,
             "ticks": ""
            },
            "type": "contourcarpet"
           }
          ],
          "heatmap": [
           {
            "colorbar": {
             "outlinewidth": 0,
             "ticks": ""
            },
            "colorscale": [
             [
              0,
              "#0d0887"
             ],
             [
              0.1111111111111111,
              "#46039f"
             ],
             [
              0.2222222222222222,
              "#7201a8"
             ],
             [
              0.3333333333333333,
              "#9c179e"
             ],
             [
              0.4444444444444444,
              "#bd3786"
             ],
             [
              0.5555555555555556,
              "#d8576b"
             ],
             [
              0.6666666666666666,
              "#ed7953"
             ],
             [
              0.7777777777777778,
              "#fb9f3a"
             ],
             [
              0.8888888888888888,
              "#fdca26"
             ],
             [
              1,
              "#f0f921"
             ]
            ],
            "type": "heatmap"
           }
          ],
          "heatmapgl": [
           {
            "colorbar": {
             "outlinewidth": 0,
             "ticks": ""
            },
            "colorscale": [
             [
              0,
              "#0d0887"
             ],
             [
              0.1111111111111111,
              "#46039f"
             ],
             [
              0.2222222222222222,
              "#7201a8"
             ],
             [
              0.3333333333333333,
              "#9c179e"
             ],
             [
              0.4444444444444444,
              "#bd3786"
             ],
             [
              0.5555555555555556,
              "#d8576b"
             ],
             [
              0.6666666666666666,
              "#ed7953"
             ],
             [
              0.7777777777777778,
              "#fb9f3a"
             ],
             [
              0.8888888888888888,
              "#fdca26"
             ],
             [
              1,
              "#f0f921"
             ]
            ],
            "type": "heatmapgl"
           }
          ],
          "histogram": [
           {
            "marker": {
             "colorbar": {
              "outlinewidth": 0,
              "ticks": ""
             }
            },
            "type": "histogram"
           }
          ],
          "histogram2d": [
           {
            "colorbar": {
             "outlinewidth": 0,
             "ticks": ""
            },
            "colorscale": [
             [
              0,
              "#0d0887"
             ],
             [
              0.1111111111111111,
              "#46039f"
             ],
             [
              0.2222222222222222,
              "#7201a8"
             ],
             [
              0.3333333333333333,
              "#9c179e"
             ],
             [
              0.4444444444444444,
              "#bd3786"
             ],
             [
              0.5555555555555556,
              "#d8576b"
             ],
             [
              0.6666666666666666,
              "#ed7953"
             ],
             [
              0.7777777777777778,
              "#fb9f3a"
             ],
             [
              0.8888888888888888,
              "#fdca26"
             ],
             [
              1,
              "#f0f921"
             ]
            ],
            "type": "histogram2d"
           }
          ],
          "histogram2dcontour": [
           {
            "colorbar": {
             "outlinewidth": 0,
             "ticks": ""
            },
            "colorscale": [
             [
              0,
              "#0d0887"
             ],
             [
              0.1111111111111111,
              "#46039f"
             ],
             [
              0.2222222222222222,
              "#7201a8"
             ],
             [
              0.3333333333333333,
              "#9c179e"
             ],
             [
              0.4444444444444444,
              "#bd3786"
             ],
             [
              0.5555555555555556,
              "#d8576b"
             ],
             [
              0.6666666666666666,
              "#ed7953"
             ],
             [
              0.7777777777777778,
              "#fb9f3a"
             ],
             [
              0.8888888888888888,
              "#fdca26"
             ],
             [
              1,
              "#f0f921"
             ]
            ],
            "type": "histogram2dcontour"
           }
          ],
          "mesh3d": [
           {
            "colorbar": {
             "outlinewidth": 0,
             "ticks": ""
            },
            "type": "mesh3d"
           }
          ],
          "parcoords": [
           {
            "line": {
             "colorbar": {
              "outlinewidth": 0,
              "ticks": ""
             }
            },
            "type": "parcoords"
           }
          ],
          "pie": [
           {
            "automargin": true,
            "type": "pie"
           }
          ],
          "scatter": [
           {
            "marker": {
             "colorbar": {
              "outlinewidth": 0,
              "ticks": ""
             }
            },
            "type": "scatter"
           }
          ],
          "scatter3d": [
           {
            "line": {
             "colorbar": {
              "outlinewidth": 0,
              "ticks": ""
             }
            },
            "marker": {
             "colorbar": {
              "outlinewidth": 0,
              "ticks": ""
             }
            },
            "type": "scatter3d"
           }
          ],
          "scattercarpet": [
           {
            "marker": {
             "colorbar": {
              "outlinewidth": 0,
              "ticks": ""
             }
            },
            "type": "scattercarpet"
           }
          ],
          "scattergeo": [
           {
            "marker": {
             "colorbar": {
              "outlinewidth": 0,
              "ticks": ""
             }
            },
            "type": "scattergeo"
           }
          ],
          "scattergl": [
           {
            "marker": {
             "colorbar": {
              "outlinewidth": 0,
              "ticks": ""
             }
            },
            "type": "scattergl"
           }
          ],
          "scattermapbox": [
           {
            "marker": {
             "colorbar": {
              "outlinewidth": 0,
              "ticks": ""
             }
            },
            "type": "scattermapbox"
           }
          ],
          "scatterpolar": [
           {
            "marker": {
             "colorbar": {
              "outlinewidth": 0,
              "ticks": ""
             }
            },
            "type": "scatterpolar"
           }
          ],
          "scatterpolargl": [
           {
            "marker": {
             "colorbar": {
              "outlinewidth": 0,
              "ticks": ""
             }
            },
            "type": "scatterpolargl"
           }
          ],
          "scatterternary": [
           {
            "marker": {
             "colorbar": {
              "outlinewidth": 0,
              "ticks": ""
             }
            },
            "type": "scatterternary"
           }
          ],
          "surface": [
           {
            "colorbar": {
             "outlinewidth": 0,
             "ticks": ""
            },
            "colorscale": [
             [
              0,
              "#0d0887"
             ],
             [
              0.1111111111111111,
              "#46039f"
             ],
             [
              0.2222222222222222,
              "#7201a8"
             ],
             [
              0.3333333333333333,
              "#9c179e"
             ],
             [
              0.4444444444444444,
              "#bd3786"
             ],
             [
              0.5555555555555556,
              "#d8576b"
             ],
             [
              0.6666666666666666,
              "#ed7953"
             ],
             [
              0.7777777777777778,
              "#fb9f3a"
             ],
             [
              0.8888888888888888,
              "#fdca26"
             ],
             [
              1,
              "#f0f921"
             ]
            ],
            "type": "surface"
           }
          ],
          "table": [
           {
            "cells": {
             "fill": {
              "color": "#EBF0F8"
             },
             "line": {
              "color": "white"
             }
            },
            "header": {
             "fill": {
              "color": "#C8D4E3"
             },
             "line": {
              "color": "white"
             }
            },
            "type": "table"
           }
          ]
         },
         "layout": {
          "annotationdefaults": {
           "arrowcolor": "#2a3f5f",
           "arrowhead": 0,
           "arrowwidth": 1
          },
          "autotypenumbers": "strict",
          "coloraxis": {
           "colorbar": {
            "outlinewidth": 0,
            "ticks": ""
           }
          },
          "colorscale": {
           "diverging": [
            [
             0,
             "#8e0152"
            ],
            [
             0.1,
             "#c51b7d"
            ],
            [
             0.2,
             "#de77ae"
            ],
            [
             0.3,
             "#f1b6da"
            ],
            [
             0.4,
             "#fde0ef"
            ],
            [
             0.5,
             "#f7f7f7"
            ],
            [
             0.6,
             "#e6f5d0"
            ],
            [
             0.7,
             "#b8e186"
            ],
            [
             0.8,
             "#7fbc41"
            ],
            [
             0.9,
             "#4d9221"
            ],
            [
             1,
             "#276419"
            ]
           ],
           "sequential": [
            [
             0,
             "#0d0887"
            ],
            [
             0.1111111111111111,
             "#46039f"
            ],
            [
             0.2222222222222222,
             "#7201a8"
            ],
            [
             0.3333333333333333,
             "#9c179e"
            ],
            [
             0.4444444444444444,
             "#bd3786"
            ],
            [
             0.5555555555555556,
             "#d8576b"
            ],
            [
             0.6666666666666666,
             "#ed7953"
            ],
            [
             0.7777777777777778,
             "#fb9f3a"
            ],
            [
             0.8888888888888888,
             "#fdca26"
            ],
            [
             1,
             "#f0f921"
            ]
           ],
           "sequentialminus": [
            [
             0,
             "#0d0887"
            ],
            [
             0.1111111111111111,
             "#46039f"
            ],
            [
             0.2222222222222222,
             "#7201a8"
            ],
            [
             0.3333333333333333,
             "#9c179e"
            ],
            [
             0.4444444444444444,
             "#bd3786"
            ],
            [
             0.5555555555555556,
             "#d8576b"
            ],
            [
             0.6666666666666666,
             "#ed7953"
            ],
            [
             0.7777777777777778,
             "#fb9f3a"
            ],
            [
             0.8888888888888888,
             "#fdca26"
            ],
            [
             1,
             "#f0f921"
            ]
           ]
          },
          "colorway": [
           "#636efa",
           "#EF553B",
           "#00cc96",
           "#ab63fa",
           "#FFA15A",
           "#19d3f3",
           "#FF6692",
           "#B6E880",
           "#FF97FF",
           "#FECB52"
          ],
          "font": {
           "color": "#2a3f5f"
          },
          "geo": {
           "bgcolor": "white",
           "lakecolor": "white",
           "landcolor": "#E5ECF6",
           "showlakes": true,
           "showland": true,
           "subunitcolor": "white"
          },
          "hoverlabel": {
           "align": "left"
          },
          "hovermode": "closest",
          "mapbox": {
           "style": "light"
          },
          "paper_bgcolor": "white",
          "plot_bgcolor": "#E5ECF6",
          "polar": {
           "angularaxis": {
            "gridcolor": "white",
            "linecolor": "white",
            "ticks": ""
           },
           "bgcolor": "#E5ECF6",
           "radialaxis": {
            "gridcolor": "white",
            "linecolor": "white",
            "ticks": ""
           }
          },
          "scene": {
           "xaxis": {
            "backgroundcolor": "#E5ECF6",
            "gridcolor": "white",
            "gridwidth": 2,
            "linecolor": "white",
            "showbackground": true,
            "ticks": "",
            "zerolinecolor": "white"
           },
           "yaxis": {
            "backgroundcolor": "#E5ECF6",
            "gridcolor": "white",
            "gridwidth": 2,
            "linecolor": "white",
            "showbackground": true,
            "ticks": "",
            "zerolinecolor": "white"
           },
           "zaxis": {
            "backgroundcolor": "#E5ECF6",
            "gridcolor": "white",
            "gridwidth": 2,
            "linecolor": "white",
            "showbackground": true,
            "ticks": "",
            "zerolinecolor": "white"
           }
          },
          "shapedefaults": {
           "line": {
            "color": "#2a3f5f"
           }
          },
          "ternary": {
           "aaxis": {
            "gridcolor": "white",
            "linecolor": "white",
            "ticks": ""
           },
           "baxis": {
            "gridcolor": "white",
            "linecolor": "white",
            "ticks": ""
           },
           "bgcolor": "#E5ECF6",
           "caxis": {
            "gridcolor": "white",
            "linecolor": "white",
            "ticks": ""
           }
          },
          "title": {
           "x": 0.05
          },
          "xaxis": {
           "automargin": true,
           "gridcolor": "white",
           "linecolor": "white",
           "ticks": "",
           "title": {
            "standoff": 15
           },
           "zerolinecolor": "white",
           "zerolinewidth": 2
          },
          "yaxis": {
           "automargin": true,
           "gridcolor": "white",
           "linecolor": "white",
           "ticks": "",
           "title": {
            "standoff": 15
           },
           "zerolinecolor": "white",
           "zerolinewidth": 2
          }
         }
        },
        "xaxis": {
         "anchor": "y",
         "domain": [
          0,
          1
         ],
         "title": {
          "text": "values"
         }
        },
        "yaxis": {
         "anchor": "x",
         "categoryarray": [
          "Girls toilet",
          "Boys toilet",
          "Computer",
          "Electricity",
          "Drinking water"
         ],
         "categoryorder": "array",
         "domain": [
          0,
          1
         ],
         "title": {
          "text": "ID"
         }
        }
       }
      }
     },
     "metadata": {}
    }
   ],
   "source": [
    "prim=['Drinking water']*36\n",
    "uprim=['Electricity']*36\n",
    "uuprim=['Computer']*36\n",
    "sec=['Boys toilet']*36\n",
    "usec=['Girls toilet']*36\n",
    "lis=prim+uprim+uuprim+sec+usec\n",
    "lis\n",
    "datas=pd.DataFrame({'values':pd.concat([factors['Drinking water'],factors['Electricity'],factors['Computer'],factors['Boys toilet'], factors['Girls toilet']],axis=0), 'ID':lis,'State':list(states['State'])*5})\n",
    "\n",
    "px.box(data_frame=datas,x='values', y='ID',hover_name='State',color='ID')\n"
   ]
  },
  {
   "source": [
    "## Clustering"
   ],
   "cell_type": "markdown",
   "metadata": {}
  },
  {
   "cell_type": "code",
   "execution_count": 160,
   "metadata": {},
   "outputs": [],
   "source": [
    "def create_clusters(inx):\n",
    "\n",
    "    scores=[]\n",
    "    for i in range(2,36):\n",
    "        k=KMeans(n_clusters=i,n_init=500, max_iter=500)\n",
    "        k.fit(inx)\n",
    "        label=KMeans.predict(k,inx)\n",
    "        scores.append(silhouette_score(inx, label))\n",
    "\n",
    "    pd.DataFrame(scores).plot()\n",
    "    best_cluster_no=np.argmax(scores)+2\n",
    "\n",
    "    plt.axvline(best_cluster_no)\n",
    "    plt.text(best_cluster_no, 0.34,s=f\"Max silhoutte score at n={best_cluster_no}\")\n",
    "    plt.xlabel(\"No. of clusters\")\n",
    "    plt.ylabel(\"Silhoutte score\")\n",
    "    kk=KMeans(n_clusters=best_cluster_no)\n",
    "\n",
    "    kk.fit(inx)\n",
    "    lab = pd.DataFrame(kk.labels_,columns=['Labels'])\n",
    "    result=pd.concat([states['State'],inx,lab['Labels']],axis=1)\n",
    "    return result"
   ]
  },
  {
   "cell_type": "code",
   "execution_count": 161,
   "metadata": {},
   "outputs": [],
   "source": [
    "def return_clusters(result):\n",
    "    grouping=result[['State','Labels']]\n",
    "    clusters=pd.DataFrame()\n",
    "    for l in grouping.Labels.unique():\n",
    "        clusters=pd.concat([clusters,pd.Series(np.array(grouping.State[grouping.Labels==l]), name=f\"Cluster {l}\").to_frame()],axis=1)\n",
    "    clusters.replace({np.nan:'-'},inplace=True)\n",
    "    clusters.sort_index(axis=1, inplace=True)    \n",
    "    return clusters"
   ]
  },
  {
   "source": [
    "# Hypothesis testing"
   ],
   "cell_type": "markdown",
   "metadata": {}
  },
  {
   "source": [
    "## Dropouts"
   ],
   "cell_type": "markdown",
   "metadata": {}
  },
  {
   "source": [
    "We are going to check if the dropout rates of\n",
    "* girls are significantly different from boys\n",
    "* different sections of the school are different"
   ],
   "cell_type": "markdown",
   "metadata": {}
  },
  {
   "cell_type": "code",
   "execution_count": 162,
   "metadata": {},
   "outputs": [
    {
     "output_type": "execute_result",
     "data": {
      "text/plain": [
       "0.17289607657453654"
      ]
     },
     "metadata": {},
     "execution_count": 162
    }
   ],
   "source": [
    "g_m,g_sd=dropouts_girls.mean(), dropouts_girls.std()\n",
    "b_m,b_sd=dropouts_boys.mean(), dropouts_boys.std()\n",
    "\n",
    "Z = (g_m-b_m)/(g_sd**2/36+b_sd**2/36)\n",
    "\n",
    "#find p-value for two-tailed test\n",
    "p=scipy.stats.norm.sf(abs(Z))*2\n",
    "p"
   ]
  },
  {
   "source": [
    "There is a 17% chance of boys' and girls' dropout rates being same"
   ],
   "cell_type": "markdown",
   "metadata": {}
  },
  {
   "cell_type": "code",
   "execution_count": 163,
   "metadata": {},
   "outputs": [
    {
     "output_type": "stream",
     "name": "stdout",
     "text": [
      "F-Statistic=45.282, p=0.000\n"
     ]
    }
   ],
   "source": [
    "F, p = scipy.stats.f_oneway(dropouts_x['PRIMARY_TOTAL'],dropouts_x['UPPER_PRIMARY_TOTAL'],dropouts_x['SECONDARY_TOTAL'],dropouts_x['HRSECONDARY_TOTAL'])\n",
    "# Seeing if the overall model is significant\n",
    "print('F-Statistic=%.3f, p=%.3f' % (F, p))"
   ]
  },
  {
   "source": [
    "## Enrollments"
   ],
   "cell_type": "markdown",
   "metadata": {}
  },
  {
   "cell_type": "code",
   "execution_count": 164,
   "metadata": {},
   "outputs": [
    {
     "output_type": "execute_result",
     "data": {
      "text/plain": [
       "0.7276748223195866"
      ]
     },
     "metadata": {},
     "execution_count": 164
    }
   ],
   "source": [
    "g_m,g_sd=enrollments_girls.mean(), enrollments_girls.std()\n",
    "b_m,b_sd=enrollments_boys.mean(), enrollments_boys.std()\n",
    "\n",
    "Z = (g_m-b_m)/(g_sd**2/36+b_sd**2/36)\n",
    "\n",
    "#find p-value for two-tailed test\n",
    "p=scipy.stats.norm.sf(abs(Z))*2\n",
    "p"
   ]
  },
  {
   "source": [
    "There is a 72% chance of boys' and girls' enrollment rates being same"
   ],
   "cell_type": "markdown",
   "metadata": {}
  },
  {
   "cell_type": "code",
   "execution_count": 165,
   "metadata": {},
   "outputs": [
    {
     "output_type": "stream",
     "name": "stdout",
     "text": [
      "F-Statistic=58.335, p=0.000\n"
     ]
    }
   ],
   "source": [
    "F, p = scipy.stats.f_oneway(enrollments_x['Primary_Total'],enrollments_x['Upper_Primary_Total'],enrollments_x['Secondary_Total'],enrollments_x['Higher_Secondary_Total'])\n",
    "# Seeing if the overall model is significant\n",
    "print('F-Statistic=%.3f, p=%.3f' % (F, p))"
   ]
  },
  {
   "source": [
    "## Other factors"
   ],
   "cell_type": "markdown",
   "metadata": {}
  },
  {
   "cell_type": "code",
   "execution_count": 166,
   "metadata": {},
   "outputs": [
    {
     "output_type": "stream",
     "name": "stdout",
     "text": [
      "F-Statistic=43.897, p=0.000\n"
     ]
    }
   ],
   "source": [
    "F, p = scipy.stats.f_oneway(factors['Drinking water'],factors['Electricity'],factors['Computer'],factors['Boys toilet'],factors['Girls toilet'])\n",
    "# Seeing if the overall model is significant\n",
    "print('F-Statistic=%.3f, p=%.3f' % (F, p))"
   ]
  },
  {
   "source": [
    "# Analysis"
   ],
   "cell_type": "markdown",
   "metadata": {}
  },
  {
   "cell_type": "code",
   "execution_count": 167,
   "metadata": {},
   "outputs": [],
   "source": [
    "dropouts_x=dropouts_x[['PRIMARY_TOTAL', 'UPPER_PRIMARY_TOTAL', 'SECONDARY_TOTAL','HRSECONDARY_TOTAL']]\n",
    "enrollments_x=enrollments_x[['Primary_Total', 'Upper_Primary_Total', 'Secondary_Total','Higher_Secondary_Total']]\n",
    "factors.drop(['State'],axis=1,inplace=True)"
   ]
  },
  {
   "cell_type": "code",
   "execution_count": 168,
   "metadata": {},
   "outputs": [],
   "source": [
    "dataset=pd.concat([dropouts_x,enrollments_x,factors],axis=1)\n",
    "cols=[]\n",
    "for col in dataset.columns[:4]:\n",
    "    cols.append(\"Dropout-\"+col[:-6])\n",
    "for col in dataset.columns[4:8]:\n",
    "    cols.append(\"Enrollments-\"+col[:-6])\n",
    "for col in dataset.columns[8:]:\n",
    "    cols.append(col)  \n",
    "dataset.columns=cols"
   ]
  },
  {
   "cell_type": "code",
   "execution_count": 169,
   "metadata": {},
   "outputs": [
    {
     "output_type": "execute_result",
     "data": {
      "text/plain": [
       "   Dropout-PRIMARY  Dropout-UPPER_PRIMARY  Dropout-SECONDARY  \\\n",
       "0         0.800000               1.143333           7.543333   \n",
       "1         4.750000               4.113333          13.693333   \n",
       "2        12.290000               6.590000          14.843333   \n",
       "3         9.680000               8.253333          28.086667   \n",
       "4         0.696667               2.353333          27.123333   \n",
       "\n",
       "   Dropout-HRSECONDARY  Enrollments-Primary  Enrollments-Upper_Primary  \\\n",
       "0            15.646667            91.260000                  87.863333   \n",
       "1             4.046667            89.810000                  81.456667   \n",
       "2            13.533333           127.783333                 122.200000   \n",
       "3             3.976667           111.500000                  94.013333   \n",
       "4             0.000000           102.240000                  97.733333   \n",
       "\n",
       "   Enrollments-Secondary  Enrollments-Higher_Secondary  Drinking water  \\\n",
       "0              93.243333                     90.000000           98.69   \n",
       "1              74.370000                     57.000000           90.35   \n",
       "2              89.300000                     64.666667           79.79   \n",
       "3              74.526667                     34.333333           80.30   \n",
       "4              69.180000                     29.666667           92.53   \n",
       "\n",
       "   Electricity  Computer  Boys toilet  Girls toilet  \n",
       "0        88.86     53.06        94.52         93.44  \n",
       "1        90.34     29.57        56.88         81.31  \n",
       "2        36.35     24.28        48.73         76.90  \n",
       "3        19.39      8.85        60.17         75.28  \n",
       "4         9.96      5.47        73.42         75.41  "
      ],
      "text/html": "<div>\n<style scoped>\n    .dataframe tbody tr th:only-of-type {\n        vertical-align: middle;\n    }\n\n    .dataframe tbody tr th {\n        vertical-align: top;\n    }\n\n    .dataframe thead th {\n        text-align: right;\n    }\n</style>\n<table border=\"1\" class=\"dataframe\">\n  <thead>\n    <tr style=\"text-align: right;\">\n      <th></th>\n      <th>Dropout-PRIMARY</th>\n      <th>Dropout-UPPER_PRIMARY</th>\n      <th>Dropout-SECONDARY</th>\n      <th>Dropout-HRSECONDARY</th>\n      <th>Enrollments-Primary</th>\n      <th>Enrollments-Upper_Primary</th>\n      <th>Enrollments-Secondary</th>\n      <th>Enrollments-Higher_Secondary</th>\n      <th>Drinking water</th>\n      <th>Electricity</th>\n      <th>Computer</th>\n      <th>Boys toilet</th>\n      <th>Girls toilet</th>\n    </tr>\n  </thead>\n  <tbody>\n    <tr>\n      <th>0</th>\n      <td>0.800000</td>\n      <td>1.143333</td>\n      <td>7.543333</td>\n      <td>15.646667</td>\n      <td>91.260000</td>\n      <td>87.863333</td>\n      <td>93.243333</td>\n      <td>90.000000</td>\n      <td>98.69</td>\n      <td>88.86</td>\n      <td>53.06</td>\n      <td>94.52</td>\n      <td>93.44</td>\n    </tr>\n    <tr>\n      <th>1</th>\n      <td>4.750000</td>\n      <td>4.113333</td>\n      <td>13.693333</td>\n      <td>4.046667</td>\n      <td>89.810000</td>\n      <td>81.456667</td>\n      <td>74.370000</td>\n      <td>57.000000</td>\n      <td>90.35</td>\n      <td>90.34</td>\n      <td>29.57</td>\n      <td>56.88</td>\n      <td>81.31</td>\n    </tr>\n    <tr>\n      <th>2</th>\n      <td>12.290000</td>\n      <td>6.590000</td>\n      <td>14.843333</td>\n      <td>13.533333</td>\n      <td>127.783333</td>\n      <td>122.200000</td>\n      <td>89.300000</td>\n      <td>64.666667</td>\n      <td>79.79</td>\n      <td>36.35</td>\n      <td>24.28</td>\n      <td>48.73</td>\n      <td>76.90</td>\n    </tr>\n    <tr>\n      <th>3</th>\n      <td>9.680000</td>\n      <td>8.253333</td>\n      <td>28.086667</td>\n      <td>3.976667</td>\n      <td>111.500000</td>\n      <td>94.013333</td>\n      <td>74.526667</td>\n      <td>34.333333</td>\n      <td>80.30</td>\n      <td>19.39</td>\n      <td>8.85</td>\n      <td>60.17</td>\n      <td>75.28</td>\n    </tr>\n    <tr>\n      <th>4</th>\n      <td>0.696667</td>\n      <td>2.353333</td>\n      <td>27.123333</td>\n      <td>0.000000</td>\n      <td>102.240000</td>\n      <td>97.733333</td>\n      <td>69.180000</td>\n      <td>29.666667</td>\n      <td>92.53</td>\n      <td>9.96</td>\n      <td>5.47</td>\n      <td>73.42</td>\n      <td>75.41</td>\n    </tr>\n  </tbody>\n</table>\n</div>"
     },
     "metadata": {},
     "execution_count": 169
    }
   ],
   "source": [
    "dataset.head(5)"
   ]
  },
  {
   "cell_type": "code",
   "execution_count": 170,
   "metadata": {},
   "outputs": [
    {
     "output_type": "execute_result",
     "data": {
      "text/plain": [
       "<pandas.io.formats.style.Styler at 0x289fd28afa0>"
      ],
      "text/html": "<style  type=\"text/css\" >\n#T_fbe0a_row0_col0,#T_fbe0a_row1_col1,#T_fbe0a_row2_col2,#T_fbe0a_row3_col3,#T_fbe0a_row4_col4,#T_fbe0a_row5_col5,#T_fbe0a_row6_col6,#T_fbe0a_row7_col7,#T_fbe0a_row8_col8,#T_fbe0a_row9_col9,#T_fbe0a_row10_col10,#T_fbe0a_row11_col11,#T_fbe0a_row12_col12{\n            background-color:  #b40426;\n            color:  #f1f1f1;\n        }#T_fbe0a_row0_col1{\n            background-color:  #da5a49;\n            color:  #000000;\n        }#T_fbe0a_row0_col2{\n            background-color:  #f7a98b;\n            color:  #000000;\n        }#T_fbe0a_row0_col3,#T_fbe0a_row0_col8,#T_fbe0a_row0_col9,#T_fbe0a_row0_col10,#T_fbe0a_row1_col11,#T_fbe0a_row1_col12,#T_fbe0a_row2_col6,#T_fbe0a_row2_col7,#T_fbe0a_row7_col1,#T_fbe0a_row7_col2,#T_fbe0a_row8_col0,#T_fbe0a_row8_col4,#T_fbe0a_row8_col5{\n            background-color:  #3b4cc0;\n            color:  #f1f1f1;\n        }#T_fbe0a_row0_col4,#T_fbe0a_row8_col7{\n            background-color:  #f7a889;\n            color:  #000000;\n        }#T_fbe0a_row0_col5,#T_fbe0a_row5_col9{\n            background-color:  #a9c6fd;\n            color:  #000000;\n        }#T_fbe0a_row0_col6{\n            background-color:  #6384eb;\n            color:  #000000;\n        }#T_fbe0a_row0_col7,#T_fbe0a_row3_col0{\n            background-color:  #92b4fe;\n            color:  #000000;\n        }#T_fbe0a_row0_col11,#T_fbe0a_row0_col12,#T_fbe0a_row9_col1{\n            background-color:  #445acc;\n            color:  #f1f1f1;\n        }#T_fbe0a_row1_col0{\n            background-color:  #d85646;\n            color:  #000000;\n        }#T_fbe0a_row1_col2{\n            background-color:  #e67259;\n            color:  #000000;\n        }#T_fbe0a_row1_col3,#T_fbe0a_row10_col1{\n            background-color:  #4c66d6;\n            color:  #000000;\n        }#T_fbe0a_row1_col4,#T_fbe0a_row11_col7{\n            background-color:  #f7b497;\n            color:  #000000;\n        }#T_fbe0a_row1_col5{\n            background-color:  #b1cbfc;\n            color:  #000000;\n        }#T_fbe0a_row1_col6{\n            background-color:  #4a63d3;\n            color:  #f1f1f1;\n        }#T_fbe0a_row1_col7{\n            background-color:  #6a8bef;\n            color:  #000000;\n        }#T_fbe0a_row1_col8{\n            background-color:  #5572df;\n            color:  #000000;\n        }#T_fbe0a_row1_col9{\n            background-color:  #506bda;\n            color:  #000000;\n        }#T_fbe0a_row1_col10{\n            background-color:  #465ecf;\n            color:  #f1f1f1;\n        }#T_fbe0a_row2_col0,#T_fbe0a_row6_col9{\n            background-color:  #f7b194;\n            color:  #000000;\n        }#T_fbe0a_row2_col1,#T_fbe0a_row8_col11{\n            background-color:  #ec7f63;\n            color:  #000000;\n        }#T_fbe0a_row2_col3{\n            background-color:  #3d50c3;\n            color:  #f1f1f1;\n        }#T_fbe0a_row2_col4{\n            background-color:  #ebd3c6;\n            color:  #000000;\n        }#T_fbe0a_row2_col5,#T_fbe0a_row7_col4{\n            background-color:  #88abfd;\n            color:  #000000;\n        }#T_fbe0a_row2_col8,#T_fbe0a_row12_col4{\n            background-color:  #7a9df8;\n            color:  #000000;\n        }#T_fbe0a_row2_col9,#T_fbe0a_row9_col5,#T_fbe0a_row10_col0,#T_fbe0a_row11_col5,#T_fbe0a_row12_col1{\n            background-color:  #5a78e4;\n            color:  #000000;\n        }#T_fbe0a_row2_col10,#T_fbe0a_row11_col1{\n            background-color:  #455cce;\n            color:  #f1f1f1;\n        }#T_fbe0a_row2_col11{\n            background-color:  #536edd;\n            color:  #000000;\n        }#T_fbe0a_row2_col12,#T_fbe0a_row9_col0{\n            background-color:  #485fd1;\n            color:  #f1f1f1;\n        }#T_fbe0a_row3_col1,#T_fbe0a_row12_col5{\n            background-color:  #8badfd;\n            color:  #000000;\n        }#T_fbe0a_row3_col2{\n            background-color:  #a7c5fe;\n            color:  #000000;\n        }#T_fbe0a_row3_col4{\n            background-color:  #98b9ff;\n            color:  #000000;\n        }#T_fbe0a_row3_col5{\n            background-color:  #9dbdff;\n            color:  #000000;\n        }#T_fbe0a_row3_col6{\n            background-color:  #dedcdb;\n            color:  #000000;\n        }#T_fbe0a_row3_col7,#T_fbe0a_row6_col8{\n            background-color:  #f5c4ac;\n            color:  #000000;\n        }#T_fbe0a_row3_col8,#T_fbe0a_row9_col3{\n            background-color:  #f0cdbb;\n            color:  #000000;\n        }#T_fbe0a_row3_col9,#T_fbe0a_row12_col7{\n            background-color:  #f7b396;\n            color:  #000000;\n        }#T_fbe0a_row3_col10,#T_fbe0a_row7_col8{\n            background-color:  #f7b093;\n            color:  #000000;\n        }#T_fbe0a_row3_col11{\n            background-color:  #e1dad6;\n            color:  #000000;\n        }#T_fbe0a_row3_col12{\n            background-color:  #e4d9d2;\n            color:  #000000;\n        }#T_fbe0a_row4_col0{\n            background-color:  #f49a7b;\n            color:  #000000;\n        }#T_fbe0a_row4_col1{\n            background-color:  #f7af91;\n            color:  #000000;\n        }#T_fbe0a_row4_col2{\n            background-color:  #f6bfa6;\n            color:  #000000;\n        }#T_fbe0a_row4_col3{\n            background-color:  #6788ee;\n            color:  #000000;\n        }#T_fbe0a_row4_col5{\n            background-color:  #f08a6c;\n            color:  #000000;\n        }#T_fbe0a_row4_col6{\n            background-color:  #c5d6f2;\n            color:  #000000;\n        }#T_fbe0a_row4_col7{\n            background-color:  #b9d0f9;\n            color:  #000000;\n        }#T_fbe0a_row4_col8,#T_fbe0a_row10_col5{\n            background-color:  #5f7fe8;\n            color:  #000000;\n        }#T_fbe0a_row4_col9,#T_fbe0a_row4_col12{\n            background-color:  #6687ed;\n            color:  #000000;\n        }#T_fbe0a_row4_col10,#T_fbe0a_row4_col11{\n            background-color:  #5e7de7;\n            color:  #000000;\n        }#T_fbe0a_row5_col0,#T_fbe0a_row5_col7,#T_fbe0a_row11_col6{\n            background-color:  #e2dad5;\n            color:  #000000;\n        }#T_fbe0a_row5_col1,#T_fbe0a_row5_col2{\n            background-color:  #dcdddd;\n            color:  #000000;\n        }#T_fbe0a_row5_col3{\n            background-color:  #a5c3fe;\n            color:  #000000;\n        }#T_fbe0a_row5_col4{\n            background-color:  #e9785d;\n            color:  #000000;\n        }#T_fbe0a_row5_col6{\n            background-color:  #f7bca1;\n            color:  #000000;\n        }#T_fbe0a_row5_col8{\n            background-color:  #9abbff;\n            color:  #000000;\n        }#T_fbe0a_row5_col10{\n            background-color:  #9ebeff;\n            color:  #000000;\n        }#T_fbe0a_row5_col11{\n            background-color:  #97b8ff;\n            color:  #000000;\n        }#T_fbe0a_row5_col12{\n            background-color:  #aec9fc;\n            color:  #000000;\n        }#T_fbe0a_row6_col0{\n            background-color:  #8db0fe;\n            color:  #000000;\n        }#T_fbe0a_row6_col1,#T_fbe0a_row11_col4{\n            background-color:  #5d7ce6;\n            color:  #000000;\n        }#T_fbe0a_row6_col2,#T_fbe0a_row10_col2{\n            background-color:  #7b9ff9;\n            color:  #000000;\n        }#T_fbe0a_row6_col3,#T_fbe0a_row11_col3{\n            background-color:  #c7d7f0;\n            color:  #000000;\n        }#T_fbe0a_row6_col4{\n            background-color:  #c9d7f0;\n            color:  #000000;\n        }#T_fbe0a_row6_col5{\n            background-color:  #efcfbf;\n            color:  #000000;\n        }#T_fbe0a_row6_col7{\n            background-color:  #e57058;\n            color:  #000000;\n        }#T_fbe0a_row6_col10{\n            background-color:  #f7b99e;\n            color:  #000000;\n        }#T_fbe0a_row6_col11{\n            background-color:  #e5d8d1;\n            color:  #000000;\n        }#T_fbe0a_row6_col12{\n            background-color:  #f3c7b1;\n            color:  #000000;\n        }#T_fbe0a_row7_col0,#T_fbe0a_row9_col2,#T_fbe0a_row12_col0{\n            background-color:  #7da0f9;\n            color:  #000000;\n        }#T_fbe0a_row7_col3{\n            background-color:  #d1dae9;\n            color:  #000000;\n        }#T_fbe0a_row7_col5,#T_fbe0a_row12_col2{\n            background-color:  #94b6ff;\n            color:  #000000;\n        }#T_fbe0a_row7_col6{\n            background-color:  #ed8366;\n            color:  #000000;\n        }#T_fbe0a_row7_col9,#T_fbe0a_row7_col10{\n            background-color:  #f6a385;\n            color:  #000000;\n        }#T_fbe0a_row7_col11{\n            background-color:  #f2c9b4;\n            color:  #000000;\n        }#T_fbe0a_row7_col12{\n            background-color:  #efcebd;\n            color:  #000000;\n        }#T_fbe0a_row8_col1{\n            background-color:  #3c4ec2;\n            color:  #f1f1f1;\n        }#T_fbe0a_row8_col2{\n            background-color:  #8fb1fe;\n            color:  #000000;\n        }#T_fbe0a_row8_col3{\n            background-color:  #ccd9ed;\n            color:  #000000;\n        }#T_fbe0a_row8_col6{\n            background-color:  #edd2c3;\n            color:  #000000;\n        }#T_fbe0a_row8_col9,#T_fbe0a_row12_col11{\n            background-color:  #d0473d;\n            color:  #f1f1f1;\n        }#T_fbe0a_row8_col10{\n            background-color:  #e46e56;\n            color:  #000000;\n        }#T_fbe0a_row8_col12,#T_fbe0a_row9_col7{\n            background-color:  #f39778;\n            color:  #000000;\n        }#T_fbe0a_row9_col4{\n            background-color:  #4e68d8;\n            color:  #000000;\n        }#T_fbe0a_row9_col6,#T_fbe0a_row10_col6{\n            background-color:  #f6bda2;\n            color:  #000000;\n        }#T_fbe0a_row9_col8,#T_fbe0a_row9_col10{\n            background-color:  #cf453c;\n            color:  #f1f1f1;\n        }#T_fbe0a_row9_col11{\n            background-color:  #f18f71;\n            color:  #000000;\n        }#T_fbe0a_row9_col12,#T_fbe0a_row12_col8{\n            background-color:  #ee8468;\n            color:  #000000;\n        }#T_fbe0a_row10_col3{\n            background-color:  #f4c5ad;\n            color:  #000000;\n        }#T_fbe0a_row10_col4{\n            background-color:  #5977e3;\n            color:  #000000;\n        }#T_fbe0a_row10_col7{\n            background-color:  #f29072;\n            color:  #000000;\n        }#T_fbe0a_row10_col8{\n            background-color:  #e16751;\n            color:  #000000;\n        }#T_fbe0a_row10_col9{\n            background-color:  #cd423b;\n            color:  #f1f1f1;\n        }#T_fbe0a_row10_col11{\n            background-color:  #f18d6f;\n            color:  #000000;\n        }#T_fbe0a_row10_col12,#T_fbe0a_row11_col9{\n            background-color:  #ef886b;\n            color:  #000000;\n        }#T_fbe0a_row11_col0{\n            background-color:  #688aef;\n            color:  #000000;\n        }#T_fbe0a_row11_col2{\n            background-color:  #8caffe;\n            color:  #000000;\n        }#T_fbe0a_row11_col8,#T_fbe0a_row12_col9{\n            background-color:  #e8765c;\n            color:  #000000;\n        }#T_fbe0a_row11_col10{\n            background-color:  #f08b6e;\n            color:  #000000;\n        }#T_fbe0a_row11_col12{\n            background-color:  #d1493f;\n            color:  #f1f1f1;\n        }#T_fbe0a_row12_col3{\n            background-color:  #d6dce4;\n            color:  #000000;\n        }#T_fbe0a_row12_col6{\n            background-color:  #f5c2aa;\n            color:  #000000;\n        }#T_fbe0a_row12_col10{\n            background-color:  #ec8165;\n            color:  #000000;\n        }</style><table id=\"T_fbe0a_\" ><thead>    <tr>        <th class=\"blank level0\" ></th>        <th class=\"col_heading level0 col0\" >Dropout-PRIMARY</th>        <th class=\"col_heading level0 col1\" >Dropout-UPPER_PRIMARY</th>        <th class=\"col_heading level0 col2\" >Dropout-SECONDARY</th>        <th class=\"col_heading level0 col3\" >Dropout-HRSECONDARY</th>        <th class=\"col_heading level0 col4\" >Enrollments-Primary</th>        <th class=\"col_heading level0 col5\" >Enrollments-Upper_Primary</th>        <th class=\"col_heading level0 col6\" >Enrollments-Secondary</th>        <th class=\"col_heading level0 col7\" >Enrollments-Higher_Secondary</th>        <th class=\"col_heading level0 col8\" >Drinking water</th>        <th class=\"col_heading level0 col9\" >Electricity</th>        <th class=\"col_heading level0 col10\" >Computer</th>        <th class=\"col_heading level0 col11\" >Boys toilet</th>        <th class=\"col_heading level0 col12\" >Girls toilet</th>    </tr></thead><tbody>\n                <tr>\n                        <th id=\"T_fbe0a_level0_row0\" class=\"row_heading level0 row0\" >Dropout-PRIMARY</th>\n                        <td id=\"T_fbe0a_row0_col0\" class=\"data row0 col0\" >1.000000</td>\n                        <td id=\"T_fbe0a_row0_col1\" class=\"data row0 col1\" >0.808626</td>\n                        <td id=\"T_fbe0a_row0_col2\" class=\"data row0 col2\" >0.433988</td>\n                        <td id=\"T_fbe0a_row0_col3\" class=\"data row0 col3\" >-0.326441</td>\n                        <td id=\"T_fbe0a_row0_col4\" class=\"data row0 col4\" >0.546122</td>\n                        <td id=\"T_fbe0a_row0_col5\" class=\"data row0 col5\" >0.140328</td>\n                        <td id=\"T_fbe0a_row0_col6\" class=\"data row0 col6\" >-0.348632</td>\n                        <td id=\"T_fbe0a_row0_col7\" class=\"data row0 col7\" >-0.430200</td>\n                        <td id=\"T_fbe0a_row0_col8\" class=\"data row0 col8\" >-0.798247</td>\n                        <td id=\"T_fbe0a_row0_col9\" class=\"data row0 col9\" >-0.718789</td>\n                        <td id=\"T_fbe0a_row0_col10\" class=\"data row0 col10\" >-0.614355</td>\n                        <td id=\"T_fbe0a_row0_col11\" class=\"data row0 col11\" >-0.535910</td>\n                        <td id=\"T_fbe0a_row0_col12\" class=\"data row0 col12\" >-0.429225</td>\n            </tr>\n            <tr>\n                        <th id=\"T_fbe0a_level0_row1\" class=\"row_heading level0 row1\" >Dropout-UPPER_PRIMARY</th>\n                        <td id=\"T_fbe0a_row1_col0\" class=\"data row1 col0\" >0.808626</td>\n                        <td id=\"T_fbe0a_row1_col1\" class=\"data row1 col1\" >1.000000</td>\n                        <td id=\"T_fbe0a_row1_col2\" class=\"data row1 col2\" >0.684685</td>\n                        <td id=\"T_fbe0a_row1_col3\" class=\"data row1 col3\" >-0.245976</td>\n                        <td id=\"T_fbe0a_row1_col4\" class=\"data row1 col4\" >0.491634</td>\n                        <td id=\"T_fbe0a_row1_col5\" class=\"data row1 col5\" >0.171943</td>\n                        <td id=\"T_fbe0a_row1_col6\" class=\"data row1 col6\" >-0.469755</td>\n                        <td id=\"T_fbe0a_row1_col7\" class=\"data row1 col7\" >-0.650274</td>\n                        <td id=\"T_fbe0a_row1_col8\" class=\"data row1 col8\" >-0.640407</td>\n                        <td id=\"T_fbe0a_row1_col9\" class=\"data row1 col9\" >-0.595619</td>\n                        <td id=\"T_fbe0a_row1_col10\" class=\"data row1 col10\" >-0.549292</td>\n                        <td id=\"T_fbe0a_row1_col11\" class=\"data row1 col11\" >-0.590341</td>\n                        <td id=\"T_fbe0a_row1_col12\" class=\"data row1 col12\" >-0.480315</td>\n            </tr>\n            <tr>\n                        <th id=\"T_fbe0a_level0_row2\" class=\"row_heading level0 row2\" >Dropout-SECONDARY</th>\n                        <td id=\"T_fbe0a_row2_col0\" class=\"data row2 col0\" >0.433988</td>\n                        <td id=\"T_fbe0a_row2_col1\" class=\"data row2 col1\" >0.684685</td>\n                        <td id=\"T_fbe0a_row2_col2\" class=\"data row2 col2\" >1.000000</td>\n                        <td id=\"T_fbe0a_row2_col3\" class=\"data row2 col3\" >-0.314359</td>\n                        <td id=\"T_fbe0a_row2_col4\" class=\"data row2 col4\" >0.302703</td>\n                        <td id=\"T_fbe0a_row2_col5\" class=\"data row2 col5\" >0.020849</td>\n                        <td id=\"T_fbe0a_row2_col6\" class=\"data row2 col6\" >-0.551866</td>\n                        <td id=\"T_fbe0a_row2_col7\" class=\"data row2 col7\" >-0.945864</td>\n                        <td id=\"T_fbe0a_row2_col8\" class=\"data row2 col8\" >-0.444591</td>\n                        <td id=\"T_fbe0a_row2_col9\" class=\"data row2 col9\" >-0.543557</td>\n                        <td id=\"T_fbe0a_row2_col10\" class=\"data row2 col10\" >-0.556757</td>\n                        <td id=\"T_fbe0a_row2_col11\" class=\"data row2 col11\" >-0.462975</td>\n                        <td id=\"T_fbe0a_row2_col12\" class=\"data row2 col12\" >-0.415749</td>\n            </tr>\n            <tr>\n                        <th id=\"T_fbe0a_level0_row3\" class=\"row_heading level0 row3\" >Dropout-HRSECONDARY</th>\n                        <td id=\"T_fbe0a_row3_col0\" class=\"data row3 col0\" >-0.326441</td>\n                        <td id=\"T_fbe0a_row3_col1\" class=\"data row3 col1\" >-0.245976</td>\n                        <td id=\"T_fbe0a_row3_col2\" class=\"data row3 col2\" >-0.314359</td>\n                        <td id=\"T_fbe0a_row3_col3\" class=\"data row3 col3\" >1.000000</td>\n                        <td id=\"T_fbe0a_row3_col4\" class=\"data row3 col4\" >-0.139472</td>\n                        <td id=\"T_fbe0a_row3_col5\" class=\"data row3 col5\" >0.096330</td>\n                        <td id=\"T_fbe0a_row3_col6\" class=\"data row3 col6\" >0.235673</td>\n                        <td id=\"T_fbe0a_row3_col7\" class=\"data row3 col7\" >0.276393</td>\n                        <td id=\"T_fbe0a_row3_col8\" class=\"data row3 col8\" >0.256948</td>\n                        <td id=\"T_fbe0a_row3_col9\" class=\"data row3 col9\" >0.451580</td>\n                        <td id=\"T_fbe0a_row3_col10\" class=\"data row3 col10\" >0.497875</td>\n                        <td id=\"T_fbe0a_row3_col11\" class=\"data row3 col11\" >0.235696</td>\n                        <td id=\"T_fbe0a_row3_col12\" class=\"data row3 col12\" >0.301116</td>\n            </tr>\n            <tr>\n                        <th id=\"T_fbe0a_level0_row4\" class=\"row_heading level0 row4\" >Enrollments-Primary</th>\n                        <td id=\"T_fbe0a_row4_col0\" class=\"data row4 col0\" >0.546122</td>\n                        <td id=\"T_fbe0a_row4_col1\" class=\"data row4 col1\" >0.491634</td>\n                        <td id=\"T_fbe0a_row4_col2\" class=\"data row4 col2\" >0.302703</td>\n                        <td id=\"T_fbe0a_row4_col3\" class=\"data row4 col3\" >-0.139472</td>\n                        <td id=\"T_fbe0a_row4_col4\" class=\"data row4 col4\" >1.000000</td>\n                        <td id=\"T_fbe0a_row4_col5\" class=\"data row4 col5\" >0.725354</td>\n                        <td id=\"T_fbe0a_row4_col6\" class=\"data row4 col6\" >0.090862</td>\n                        <td id=\"T_fbe0a_row4_col7\" class=\"data row4 col7\" >-0.209076</td>\n                        <td id=\"T_fbe0a_row4_col8\" class=\"data row4 col8\" >-0.586416</td>\n                        <td id=\"T_fbe0a_row4_col9\" class=\"data row4 col9\" >-0.481959</td>\n                        <td id=\"T_fbe0a_row4_col10\" class=\"data row4 col10\" >-0.426512</td>\n                        <td id=\"T_fbe0a_row4_col11\" class=\"data row4 col11\" >-0.408371</td>\n                        <td id=\"T_fbe0a_row4_col12\" class=\"data row4 col12\" >-0.275276</td>\n            </tr>\n            <tr>\n                        <th id=\"T_fbe0a_level0_row5\" class=\"row_heading level0 row5\" >Enrollments-Upper_Primary</th>\n                        <td id=\"T_fbe0a_row5_col0\" class=\"data row5 col0\" >0.140328</td>\n                        <td id=\"T_fbe0a_row5_col1\" class=\"data row5 col1\" >0.171943</td>\n                        <td id=\"T_fbe0a_row5_col2\" class=\"data row5 col2\" >0.020849</td>\n                        <td id=\"T_fbe0a_row5_col3\" class=\"data row5 col3\" >0.096330</td>\n                        <td id=\"T_fbe0a_row5_col4\" class=\"data row5 col4\" >0.725354</td>\n                        <td id=\"T_fbe0a_row5_col5\" class=\"data row5 col5\" >1.000000</td>\n                        <td id=\"T_fbe0a_row5_col6\" class=\"data row5 col6\" >0.461776</td>\n                        <td id=\"T_fbe0a_row5_col7\" class=\"data row5 col7\" >0.069520</td>\n                        <td id=\"T_fbe0a_row5_col8\" class=\"data row5 col8\" >-0.280033</td>\n                        <td id=\"T_fbe0a_row5_col9\" class=\"data row5 col9\" >-0.148969</td>\n                        <td id=\"T_fbe0a_row5_col10\" class=\"data row5 col10\" >-0.129215</td>\n                        <td id=\"T_fbe0a_row5_col11\" class=\"data row5 col11\" >-0.148616</td>\n                        <td id=\"T_fbe0a_row5_col12\" class=\"data row5 col12\" >0.032863</td>\n            </tr>\n            <tr>\n                        <th id=\"T_fbe0a_level0_row6\" class=\"row_heading level0 row6\" >Enrollments-Secondary</th>\n                        <td id=\"T_fbe0a_row6_col0\" class=\"data row6 col0\" >-0.348632</td>\n                        <td id=\"T_fbe0a_row6_col1\" class=\"data row6 col1\" >-0.469755</td>\n                        <td id=\"T_fbe0a_row6_col2\" class=\"data row6 col2\" >-0.551866</td>\n                        <td id=\"T_fbe0a_row6_col3\" class=\"data row6 col3\" >0.235673</td>\n                        <td id=\"T_fbe0a_row6_col4\" class=\"data row6 col4\" >0.090862</td>\n                        <td id=\"T_fbe0a_row6_col5\" class=\"data row6 col5\" >0.461776</td>\n                        <td id=\"T_fbe0a_row6_col6\" class=\"data row6 col6\" >1.000000</td>\n                        <td id=\"T_fbe0a_row6_col7\" class=\"data row6 col7\" >0.695333</td>\n                        <td id=\"T_fbe0a_row6_col8\" class=\"data row6 col8\" >0.330924</td>\n                        <td id=\"T_fbe0a_row6_col9\" class=\"data row6 col9\" >0.456444</td>\n                        <td id=\"T_fbe0a_row6_col10\" class=\"data row6 col10\" >0.456628</td>\n                        <td id=\"T_fbe0a_row6_col11\" class=\"data row6 col11\" >0.259627</td>\n                        <td id=\"T_fbe0a_row6_col12\" class=\"data row6 col12\" >0.428636</td>\n            </tr>\n            <tr>\n                        <th id=\"T_fbe0a_level0_row7\" class=\"row_heading level0 row7\" >Enrollments-Higher_Secondary</th>\n                        <td id=\"T_fbe0a_row7_col0\" class=\"data row7 col0\" >-0.430200</td>\n                        <td id=\"T_fbe0a_row7_col1\" class=\"data row7 col1\" >-0.650274</td>\n                        <td id=\"T_fbe0a_row7_col2\" class=\"data row7 col2\" >-0.945864</td>\n                        <td id=\"T_fbe0a_row7_col3\" class=\"data row7 col3\" >0.276393</td>\n                        <td id=\"T_fbe0a_row7_col4\" class=\"data row7 col4\" >-0.209076</td>\n                        <td id=\"T_fbe0a_row7_col5\" class=\"data row7 col5\" >0.069520</td>\n                        <td id=\"T_fbe0a_row7_col6\" class=\"data row7 col6\" >0.695333</td>\n                        <td id=\"T_fbe0a_row7_col7\" class=\"data row7 col7\" >1.000000</td>\n                        <td id=\"T_fbe0a_row7_col8\" class=\"data row7 col8\" >0.442021</td>\n                        <td id=\"T_fbe0a_row7_col9\" class=\"data row7 col9\" >0.524396</td>\n                        <td id=\"T_fbe0a_row7_col10\" class=\"data row7 col10\" >0.553717</td>\n                        <td id=\"T_fbe0a_row7_col11\" class=\"data row7 col11\" >0.373720</td>\n                        <td id=\"T_fbe0a_row7_col12\" class=\"data row7 col12\" >0.382429</td>\n            </tr>\n            <tr>\n                        <th id=\"T_fbe0a_level0_row8\" class=\"row_heading level0 row8\" >Drinking water</th>\n                        <td id=\"T_fbe0a_row8_col0\" class=\"data row8 col0\" >-0.798247</td>\n                        <td id=\"T_fbe0a_row8_col1\" class=\"data row8 col1\" >-0.640407</td>\n                        <td id=\"T_fbe0a_row8_col2\" class=\"data row8 col2\" >-0.444591</td>\n                        <td id=\"T_fbe0a_row8_col3\" class=\"data row8 col3\" >0.256948</td>\n                        <td id=\"T_fbe0a_row8_col4\" class=\"data row8 col4\" >-0.586416</td>\n                        <td id=\"T_fbe0a_row8_col5\" class=\"data row8 col5\" >-0.280033</td>\n                        <td id=\"T_fbe0a_row8_col6\" class=\"data row8 col6\" >0.330924</td>\n                        <td id=\"T_fbe0a_row8_col7\" class=\"data row8 col7\" >0.442021</td>\n                        <td id=\"T_fbe0a_row8_col8\" class=\"data row8 col8\" >1.000000</td>\n                        <td id=\"T_fbe0a_row8_col9\" class=\"data row8 col9\" >0.865238</td>\n                        <td id=\"T_fbe0a_row8_col10\" class=\"data row8 col10\" >0.748390</td>\n                        <td id=\"T_fbe0a_row8_col11\" class=\"data row8 col11\" >0.696139</td>\n                        <td id=\"T_fbe0a_row8_col12\" class=\"data row8 col12\" >0.636747</td>\n            </tr>\n            <tr>\n                        <th id=\"T_fbe0a_level0_row9\" class=\"row_heading level0 row9\" >Electricity</th>\n                        <td id=\"T_fbe0a_row9_col0\" class=\"data row9 col0\" >-0.718789</td>\n                        <td id=\"T_fbe0a_row9_col1\" class=\"data row9 col1\" >-0.595619</td>\n                        <td id=\"T_fbe0a_row9_col2\" class=\"data row9 col2\" >-0.543557</td>\n                        <td id=\"T_fbe0a_row9_col3\" class=\"data row9 col3\" >0.451580</td>\n                        <td id=\"T_fbe0a_row9_col4\" class=\"data row9 col4\" >-0.481959</td>\n                        <td id=\"T_fbe0a_row9_col5\" class=\"data row9 col5\" >-0.148969</td>\n                        <td id=\"T_fbe0a_row9_col6\" class=\"data row9 col6\" >0.456444</td>\n                        <td id=\"T_fbe0a_row9_col7\" class=\"data row9 col7\" >0.524396</td>\n                        <td id=\"T_fbe0a_row9_col8\" class=\"data row9 col8\" >0.865238</td>\n                        <td id=\"T_fbe0a_row9_col9\" class=\"data row9 col9\" >1.000000</td>\n                        <td id=\"T_fbe0a_row9_col10\" class=\"data row9 col10\" >0.878351</td>\n                        <td id=\"T_fbe0a_row9_col11\" class=\"data row9 col11\" >0.642424</td>\n                        <td id=\"T_fbe0a_row9_col12\" class=\"data row9 col12\" >0.704691</td>\n            </tr>\n            <tr>\n                        <th id=\"T_fbe0a_level0_row10\" class=\"row_heading level0 row10\" >Computer</th>\n                        <td id=\"T_fbe0a_row10_col0\" class=\"data row10 col0\" >-0.614355</td>\n                        <td id=\"T_fbe0a_row10_col1\" class=\"data row10 col1\" >-0.549292</td>\n                        <td id=\"T_fbe0a_row10_col2\" class=\"data row10 col2\" >-0.556757</td>\n                        <td id=\"T_fbe0a_row10_col3\" class=\"data row10 col3\" >0.497875</td>\n                        <td id=\"T_fbe0a_row10_col4\" class=\"data row10 col4\" >-0.426512</td>\n                        <td id=\"T_fbe0a_row10_col5\" class=\"data row10 col5\" >-0.129215</td>\n                        <td id=\"T_fbe0a_row10_col6\" class=\"data row10 col6\" >0.456628</td>\n                        <td id=\"T_fbe0a_row10_col7\" class=\"data row10 col7\" >0.553717</td>\n                        <td id=\"T_fbe0a_row10_col8\" class=\"data row10 col8\" >0.748390</td>\n                        <td id=\"T_fbe0a_row10_col9\" class=\"data row10 col9\" >0.878351</td>\n                        <td id=\"T_fbe0a_row10_col10\" class=\"data row10 col10\" >1.000000</td>\n                        <td id=\"T_fbe0a_row10_col11\" class=\"data row10 col11\" >0.648551</td>\n                        <td id=\"T_fbe0a_row10_col12\" class=\"data row10 col12\" >0.690509</td>\n            </tr>\n            <tr>\n                        <th id=\"T_fbe0a_level0_row11\" class=\"row_heading level0 row11\" >Boys toilet</th>\n                        <td id=\"T_fbe0a_row11_col0\" class=\"data row11 col0\" >-0.535910</td>\n                        <td id=\"T_fbe0a_row11_col1\" class=\"data row11 col1\" >-0.590341</td>\n                        <td id=\"T_fbe0a_row11_col2\" class=\"data row11 col2\" >-0.462975</td>\n                        <td id=\"T_fbe0a_row11_col3\" class=\"data row11 col3\" >0.235696</td>\n                        <td id=\"T_fbe0a_row11_col4\" class=\"data row11 col4\" >-0.408371</td>\n                        <td id=\"T_fbe0a_row11_col5\" class=\"data row11 col5\" >-0.148616</td>\n                        <td id=\"T_fbe0a_row11_col6\" class=\"data row11 col6\" >0.259627</td>\n                        <td id=\"T_fbe0a_row11_col7\" class=\"data row11 col7\" >0.373720</td>\n                        <td id=\"T_fbe0a_row11_col8\" class=\"data row11 col8\" >0.696139</td>\n                        <td id=\"T_fbe0a_row11_col9\" class=\"data row11 col9\" >0.642424</td>\n                        <td id=\"T_fbe0a_row11_col10\" class=\"data row11 col10\" >0.648551</td>\n                        <td id=\"T_fbe0a_row11_col11\" class=\"data row11 col11\" >1.000000</td>\n                        <td id=\"T_fbe0a_row11_col12\" class=\"data row11 col12\" >0.874460</td>\n            </tr>\n            <tr>\n                        <th id=\"T_fbe0a_level0_row12\" class=\"row_heading level0 row12\" >Girls toilet</th>\n                        <td id=\"T_fbe0a_row12_col0\" class=\"data row12 col0\" >-0.429225</td>\n                        <td id=\"T_fbe0a_row12_col1\" class=\"data row12 col1\" >-0.480315</td>\n                        <td id=\"T_fbe0a_row12_col2\" class=\"data row12 col2\" >-0.415749</td>\n                        <td id=\"T_fbe0a_row12_col3\" class=\"data row12 col3\" >0.301116</td>\n                        <td id=\"T_fbe0a_row12_col4\" class=\"data row12 col4\" >-0.275276</td>\n                        <td id=\"T_fbe0a_row12_col5\" class=\"data row12 col5\" >0.032863</td>\n                        <td id=\"T_fbe0a_row12_col6\" class=\"data row12 col6\" >0.428636</td>\n                        <td id=\"T_fbe0a_row12_col7\" class=\"data row12 col7\" >0.382429</td>\n                        <td id=\"T_fbe0a_row12_col8\" class=\"data row12 col8\" >0.636747</td>\n                        <td id=\"T_fbe0a_row12_col9\" class=\"data row12 col9\" >0.704691</td>\n                        <td id=\"T_fbe0a_row12_col10\" class=\"data row12 col10\" >0.690509</td>\n                        <td id=\"T_fbe0a_row12_col11\" class=\"data row12 col11\" >0.874460</td>\n                        <td id=\"T_fbe0a_row12_col12\" class=\"data row12 col12\" >1.000000</td>\n            </tr>\n    </tbody></table>"
     },
     "metadata": {},
     "execution_count": 170
    }
   ],
   "source": [
    "dataset.corr(method='spearman').style.background_gradient(cmap='coolwarm')"
   ]
  },
  {
   "source": [
    "### Observations\n",
    "\n",
    "* Dropouts are negatively correlated with factors. Children need more care. They need drinking water because they play a lot. If there isn't electricity, India primarily being a tropical country,discourage them to come to schools. WRITE BETTER AND FOR THE OTHER POINTS\n",
    "* Correlation with dropouts reduces with increasing age of students\n",
    "* Same thing observed in enrollments"
   ],
   "cell_type": "markdown",
   "metadata": {}
  },
  {
   "source": [
    "## Checking feature importance"
   ],
   "cell_type": "markdown",
   "metadata": {}
  },
  {
   "cell_type": "code",
   "execution_count": 171,
   "metadata": {},
   "outputs": [
    {
     "output_type": "execute_result",
     "data": {
      "text/plain": [
       "                              Explained variance  \\\n",
       "Feature                                            \n",
       "Dropout-PRIMARY                        67.467485   \n",
       "Dropout-UPPER_PRIMARY                  10.564140   \n",
       "Dropout-SECONDARY                       4.784083   \n",
       "Dropout-HRSECONDARY                     4.027713   \n",
       "Enrollments-Primary                     3.904819   \n",
       "Enrollments-Upper_Primary               2.150093   \n",
       "Enrollments-Secondary                   1.967697   \n",
       "Enrollments-Higher_Secondary            1.378449   \n",
       "Drinking water                          1.288027   \n",
       "Electricity                             1.009495   \n",
       "Computer                                0.702714   \n",
       "Boys toilet                             0.485171   \n",
       "Girls toilet                            0.270112   \n",
       "\n",
       "                              Cumulative explained variance  \n",
       "Feature                                                      \n",
       "Dropout-PRIMARY                                   67.467485  \n",
       "Dropout-UPPER_PRIMARY                             78.031625  \n",
       "Dropout-SECONDARY                                 82.815709  \n",
       "Dropout-HRSECONDARY                               86.843422  \n",
       "Enrollments-Primary                               90.748241  \n",
       "Enrollments-Upper_Primary                         92.898334  \n",
       "Enrollments-Secondary                             94.866031  \n",
       "Enrollments-Higher_Secondary                      96.244480  \n",
       "Drinking water                                    97.532508  \n",
       "Electricity                                       98.542002  \n",
       "Computer                                          99.244717  \n",
       "Boys toilet                                       99.729888  \n",
       "Girls toilet                                     100.000000  "
      ],
      "text/html": "<div>\n<style scoped>\n    .dataframe tbody tr th:only-of-type {\n        vertical-align: middle;\n    }\n\n    .dataframe tbody tr th {\n        vertical-align: top;\n    }\n\n    .dataframe thead th {\n        text-align: right;\n    }\n</style>\n<table border=\"1\" class=\"dataframe\">\n  <thead>\n    <tr style=\"text-align: right;\">\n      <th></th>\n      <th>Explained variance</th>\n      <th>Cumulative explained variance</th>\n    </tr>\n    <tr>\n      <th>Feature</th>\n      <th></th>\n      <th></th>\n    </tr>\n  </thead>\n  <tbody>\n    <tr>\n      <th>Dropout-PRIMARY</th>\n      <td>67.467485</td>\n      <td>67.467485</td>\n    </tr>\n    <tr>\n      <th>Dropout-UPPER_PRIMARY</th>\n      <td>10.564140</td>\n      <td>78.031625</td>\n    </tr>\n    <tr>\n      <th>Dropout-SECONDARY</th>\n      <td>4.784083</td>\n      <td>82.815709</td>\n    </tr>\n    <tr>\n      <th>Dropout-HRSECONDARY</th>\n      <td>4.027713</td>\n      <td>86.843422</td>\n    </tr>\n    <tr>\n      <th>Enrollments-Primary</th>\n      <td>3.904819</td>\n      <td>90.748241</td>\n    </tr>\n    <tr>\n      <th>Enrollments-Upper_Primary</th>\n      <td>2.150093</td>\n      <td>92.898334</td>\n    </tr>\n    <tr>\n      <th>Enrollments-Secondary</th>\n      <td>1.967697</td>\n      <td>94.866031</td>\n    </tr>\n    <tr>\n      <th>Enrollments-Higher_Secondary</th>\n      <td>1.378449</td>\n      <td>96.244480</td>\n    </tr>\n    <tr>\n      <th>Drinking water</th>\n      <td>1.288027</td>\n      <td>97.532508</td>\n    </tr>\n    <tr>\n      <th>Electricity</th>\n      <td>1.009495</td>\n      <td>98.542002</td>\n    </tr>\n    <tr>\n      <th>Computer</th>\n      <td>0.702714</td>\n      <td>99.244717</td>\n    </tr>\n    <tr>\n      <th>Boys toilet</th>\n      <td>0.485171</td>\n      <td>99.729888</td>\n    </tr>\n    <tr>\n      <th>Girls toilet</th>\n      <td>0.270112</td>\n      <td>100.000000</td>\n    </tr>\n  </tbody>\n</table>\n</div>"
     },
     "metadata": {},
     "execution_count": 171
    }
   ],
   "source": [
    "#Using SVD\n",
    "\n",
    "vals=np.array(dataset)\n",
    "u,sig,v_t=np.linalg.svd(vals)\n",
    "feature_imp=pd.Series(sig,index=list(dataset.columns))\n",
    "feature_imp.index.name=\"Feature\"\n",
    "feature_imp.name=\"Explained variance\"\n",
    "var_exp=pd.DataFrame(feature_imp)\n",
    "tot=var_exp['Explained variance'].sum()\n",
    "var_exp['Explained variance'] = var_exp['Explained variance']/tot*100\n",
    "var_exp.sort_values(['Explained variance'],ascending=False,inplace=True)\n",
    "\n",
    "exp_var=[]\n",
    "for i in range(1,var_exp.shape[0]+1):\n",
    "    exp_var.append(var_exp['Explained variance'].iloc[0:i].sum())\n",
    "pd.concat([var_exp,pd.DataFrame(exp_var,index=var_exp.index, columns=['Cumulative explained variance'])],axis=1)"
   ]
  },
  {
   "cell_type": "code",
   "execution_count": 172,
   "metadata": {},
   "outputs": [],
   "source": [
    "from sklearn.preprocessing import MinMaxScaler\n",
    "mm=MinMaxScaler()\n",
    "datasets=pd.DataFrame(mm.fit_transform(dataset),columns=list(dataset.columns))"
   ]
  },
  {
   "source": [
    "# Overall ranking of states"
   ],
   "cell_type": "markdown",
   "metadata": {}
  },
  {
   "cell_type": "code",
   "execution_count": 173,
   "metadata": {},
   "outputs": [
    {
     "output_type": "execute_result",
     "data": {
      "text/plain": [
       "                           Overall score\n",
       "State                                   \n",
       "Delhi                           0.689531\n",
       "Mizoram                         0.651740\n",
       "Sikkim                          0.647587\n",
       "Lakshadweep                     0.600114\n",
       "Chandigarh                      0.580263\n",
       "Manipur                         0.574625\n",
       "Puducherry                      0.571594\n",
       "Himachal Pradesh                0.569865\n",
       "Goa                             0.565119\n",
       "Kerala                          0.559142\n",
       "Andaman & Nicobar Islands       0.555215\n",
       "Punjab                          0.549891\n",
       "Gujarat                         0.538401\n",
       "Tamil Nadu                      0.532861\n",
       "Daman & Diu                     0.525155\n",
       "Karnataka                       0.521511\n",
       "Nagaland                        0.512605\n",
       "Maharashtra                     0.511831\n",
       "Haryana                         0.510203\n",
       "Telangana                       0.502434\n",
       "Arunachal Pradesh               0.497037\n",
       "Uttarakhand                     0.489005\n",
       "Dadra & Nagar Haveli            0.485867\n",
       "Tripura                         0.475372\n",
       "West Bengal                     0.464528\n",
       "Madhya Pradesh                  0.463579\n",
       "Chhattisgarh                    0.459069\n",
       "Rajasthan                       0.448294\n",
       "Uttar Pradesh                   0.407168\n",
       "Jharkhand                       0.401345\n",
       "Odisha                          0.380366\n",
       "Andhra Pradesh                  0.368387\n",
       "Assam                           0.357527\n",
       "Jammu And Kashmir               0.329173\n",
       "Meghalaya                       0.317446\n",
       "Bihar                           0.268769"
      ],
      "text/html": "<div>\n<style scoped>\n    .dataframe tbody tr th:only-of-type {\n        vertical-align: middle;\n    }\n\n    .dataframe tbody tr th {\n        vertical-align: top;\n    }\n\n    .dataframe thead th {\n        text-align: right;\n    }\n</style>\n<table border=\"1\" class=\"dataframe\">\n  <thead>\n    <tr style=\"text-align: right;\">\n      <th></th>\n      <th>Overall score</th>\n    </tr>\n    <tr>\n      <th>State</th>\n      <th></th>\n    </tr>\n  </thead>\n  <tbody>\n    <tr>\n      <th>Delhi</th>\n      <td>0.689531</td>\n    </tr>\n    <tr>\n      <th>Mizoram</th>\n      <td>0.651740</td>\n    </tr>\n    <tr>\n      <th>Sikkim</th>\n      <td>0.647587</td>\n    </tr>\n    <tr>\n      <th>Lakshadweep</th>\n      <td>0.600114</td>\n    </tr>\n    <tr>\n      <th>Chandigarh</th>\n      <td>0.580263</td>\n    </tr>\n    <tr>\n      <th>Manipur</th>\n      <td>0.574625</td>\n    </tr>\n    <tr>\n      <th>Puducherry</th>\n      <td>0.571594</td>\n    </tr>\n    <tr>\n      <th>Himachal Pradesh</th>\n      <td>0.569865</td>\n    </tr>\n    <tr>\n      <th>Goa</th>\n      <td>0.565119</td>\n    </tr>\n    <tr>\n      <th>Kerala</th>\n      <td>0.559142</td>\n    </tr>\n    <tr>\n      <th>Andaman &amp; Nicobar Islands</th>\n      <td>0.555215</td>\n    </tr>\n    <tr>\n      <th>Punjab</th>\n      <td>0.549891</td>\n    </tr>\n    <tr>\n      <th>Gujarat</th>\n      <td>0.538401</td>\n    </tr>\n    <tr>\n      <th>Tamil Nadu</th>\n      <td>0.532861</td>\n    </tr>\n    <tr>\n      <th>Daman &amp; Diu</th>\n      <td>0.525155</td>\n    </tr>\n    <tr>\n      <th>Karnataka</th>\n      <td>0.521511</td>\n    </tr>\n    <tr>\n      <th>Nagaland</th>\n      <td>0.512605</td>\n    </tr>\n    <tr>\n      <th>Maharashtra</th>\n      <td>0.511831</td>\n    </tr>\n    <tr>\n      <th>Haryana</th>\n      <td>0.510203</td>\n    </tr>\n    <tr>\n      <th>Telangana</th>\n      <td>0.502434</td>\n    </tr>\n    <tr>\n      <th>Arunachal Pradesh</th>\n      <td>0.497037</td>\n    </tr>\n    <tr>\n      <th>Uttarakhand</th>\n      <td>0.489005</td>\n    </tr>\n    <tr>\n      <th>Dadra &amp; Nagar Haveli</th>\n      <td>0.485867</td>\n    </tr>\n    <tr>\n      <th>Tripura</th>\n      <td>0.475372</td>\n    </tr>\n    <tr>\n      <th>West Bengal</th>\n      <td>0.464528</td>\n    </tr>\n    <tr>\n      <th>Madhya Pradesh</th>\n      <td>0.463579</td>\n    </tr>\n    <tr>\n      <th>Chhattisgarh</th>\n      <td>0.459069</td>\n    </tr>\n    <tr>\n      <th>Rajasthan</th>\n      <td>0.448294</td>\n    </tr>\n    <tr>\n      <th>Uttar Pradesh</th>\n      <td>0.407168</td>\n    </tr>\n    <tr>\n      <th>Jharkhand</th>\n      <td>0.401345</td>\n    </tr>\n    <tr>\n      <th>Odisha</th>\n      <td>0.380366</td>\n    </tr>\n    <tr>\n      <th>Andhra Pradesh</th>\n      <td>0.368387</td>\n    </tr>\n    <tr>\n      <th>Assam</th>\n      <td>0.357527</td>\n    </tr>\n    <tr>\n      <th>Jammu And Kashmir</th>\n      <td>0.329173</td>\n    </tr>\n    <tr>\n      <th>Meghalaya</th>\n      <td>0.317446</td>\n    </tr>\n    <tr>\n      <th>Bihar</th>\n      <td>0.268769</td>\n    </tr>\n  </tbody>\n</table>\n</div>"
     },
     "metadata": {},
     "execution_count": 173
    }
   ],
   "source": [
    "states['Overall score']=datasets.mean(axis=1)\n",
    "states.set_index('State').sort_values(['Overall score'],ascending=False) "
   ]
  },
  {
   "source": [
    "# Finding out outliers"
   ],
   "cell_type": "markdown",
   "metadata": {}
  },
  {
   "cell_type": "code",
   "execution_count": 174,
   "metadata": {},
   "outputs": [
    {
     "output_type": "stream",
     "name": "stderr",
     "text": [
      "c:\\Users\\ADMIN\\Documents\\Codebase\\envs\\machine_L\\lib\\site-packages\\seaborn\\_decorators.py:36: FutureWarning:\n\nPass the following variable as a keyword arg: x. From version 0.12, the only valid positional argument will be `data`, and passing other arguments without an explicit keyword will result in an error or misinterpretation.\n\n"
     ]
    },
    {
     "output_type": "execute_result",
     "data": {
      "text/plain": [
       "Text(0.25, 0.2, 'Bihar')"
      ]
     },
     "metadata": {},
     "execution_count": 174
    },
    {
     "output_type": "display_data",
     "data": {
      "text/plain": "<Figure size 432x288 with 1 Axes>",
      "image/svg+xml": "<?xml version=\"1.0\" encoding=\"utf-8\" standalone=\"no\"?>\r\n<!DOCTYPE svg PUBLIC \"-//W3C//DTD SVG 1.1//EN\"\r\n  \"http://www.w3.org/Graphics/SVG/1.1/DTD/svg11.dtd\">\r\n<svg height=\"284.988625pt\" version=\"1.1\" viewBox=\"0 0 392.789929 284.988625\" width=\"392.789929pt\" xmlns=\"http://www.w3.org/2000/svg\" xmlns:xlink=\"http://www.w3.org/1999/xlink\">\r\n <metadata>\r\n  <rdf:RDF xmlns:cc=\"http://creativecommons.org/ns#\" xmlns:dc=\"http://purl.org/dc/elements/1.1/\" xmlns:rdf=\"http://www.w3.org/1999/02/22-rdf-syntax-ns#\">\r\n   <cc:Work>\r\n    <dc:type rdf:resource=\"http://purl.org/dc/dcmitype/StillImage\"/>\r\n    <dc:date>2021-05-28T19:36:03.302941</dc:date>\r\n    <dc:format>image/svg+xml</dc:format>\r\n    <dc:creator>\r\n     <cc:Agent>\r\n      <dc:title>Matplotlib v3.4.2, https://matplotlib.org/</dc:title>\r\n     </cc:Agent>\r\n    </dc:creator>\r\n   </cc:Work>\r\n  </rdf:RDF>\r\n </metadata>\r\n <defs>\r\n  <style type=\"text/css\">*{stroke-linecap:butt;stroke-linejoin:round;}</style>\r\n </defs>\r\n <g id=\"figure_1\">\r\n  <g id=\"patch_1\">\r\n   <path d=\"M 0 284.988625 \r\nL 392.789929 284.988625 \r\nL 392.789929 0 \r\nL 0 0 \r\nz\r\n\" style=\"fill:#f0f0f0;\"/>\r\n  </g>\r\n  <g id=\"axes_1\">\r\n   <g id=\"patch_2\">\r\n    <path d=\"M 7.2 240.48 \r\nL 383.04 240.48 \r\nL 383.04 7.2 \r\nL 7.2 7.2 \r\nz\r\n\" style=\"fill:#f0f0f0;\"/>\r\n   </g>\r\n   <g id=\"matplotlib.axis_1\">\r\n    <g id=\"xtick_1\">\r\n     <g id=\"line2d_1\">\r\n      <path clip-path=\"url(#p56f3534357)\" d=\"M 49.643976 240.48 \r\nL 49.643976 7.2 \r\n\" style=\"fill:none;stroke:#cbcbcb;\"/>\r\n     </g>\r\n     <g id=\"line2d_2\"/>\r\n     <g id=\"text_1\">\r\n      <!-- 0.3 -->\r\n      <g transform=\"translate(38.511789 254.617813)scale(0.14 -0.14)\">\r\n       <defs>\r\n        <path d=\"M 2034 4250 \r\nQ 1547 4250 1301 3770 \r\nQ 1056 3291 1056 2328 \r\nQ 1056 1369 1301 889 \r\nQ 1547 409 2034 409 \r\nQ 2525 409 2770 889 \r\nQ 3016 1369 3016 2328 \r\nQ 3016 3291 2770 3770 \r\nQ 2525 4250 2034 4250 \r\nz\r\nM 2034 4750 \r\nQ 2819 4750 3233 4129 \r\nQ 3647 3509 3647 2328 \r\nQ 3647 1150 3233 529 \r\nQ 2819 -91 2034 -91 \r\nQ 1250 -91 836 529 \r\nQ 422 1150 422 2328 \r\nQ 422 3509 836 4129 \r\nQ 1250 4750 2034 4750 \r\nz\r\n\" id=\"DejaVuSans-30\" transform=\"scale(0.015625)\"/>\r\n        <path d=\"M 684 794 \r\nL 1344 794 \r\nL 1344 0 \r\nL 684 0 \r\nL 684 794 \r\nz\r\n\" id=\"DejaVuSans-2e\" transform=\"scale(0.015625)\"/>\r\n        <path d=\"M 2597 2516 \r\nQ 3050 2419 3304 2112 \r\nQ 3559 1806 3559 1356 \r\nQ 3559 666 3084 287 \r\nQ 2609 -91 1734 -91 \r\nQ 1441 -91 1130 -33 \r\nQ 819 25 488 141 \r\nL 488 750 \r\nQ 750 597 1062 519 \r\nQ 1375 441 1716 441 \r\nQ 2309 441 2620 675 \r\nQ 2931 909 2931 1356 \r\nQ 2931 1769 2642 2001 \r\nQ 2353 2234 1838 2234 \r\nL 1294 2234 \r\nL 1294 2753 \r\nL 1863 2753 \r\nQ 2328 2753 2575 2939 \r\nQ 2822 3125 2822 3475 \r\nQ 2822 3834 2567 4026 \r\nQ 2313 4219 1838 4219 \r\nQ 1578 4219 1281 4162 \r\nQ 984 4106 628 3988 \r\nL 628 4550 \r\nQ 988 4650 1302 4700 \r\nQ 1616 4750 1894 4750 \r\nQ 2613 4750 3031 4423 \r\nQ 3450 4097 3450 3541 \r\nQ 3450 3153 3228 2886 \r\nQ 3006 2619 2597 2516 \r\nz\r\n\" id=\"DejaVuSans-33\" transform=\"scale(0.015625)\"/>\r\n       </defs>\r\n       <use xlink:href=\"#DejaVuSans-30\"/>\r\n       <use x=\"63.623047\" xlink:href=\"#DejaVuSans-2e\"/>\r\n       <use x=\"95.410156\" xlink:href=\"#DejaVuSans-33\"/>\r\n      </g>\r\n     </g>\r\n    </g>\r\n    <g id=\"xtick_2\">\r\n     <g id=\"line2d_3\">\r\n      <path clip-path=\"url(#p56f3534357)\" d=\"M 130.847417 240.48 \r\nL 130.847417 7.2 \r\n\" style=\"fill:none;stroke:#cbcbcb;\"/>\r\n     </g>\r\n     <g id=\"line2d_4\"/>\r\n     <g id=\"text_2\">\r\n      <!-- 0.4 -->\r\n      <g transform=\"translate(119.71523 254.617813)scale(0.14 -0.14)\">\r\n       <defs>\r\n        <path d=\"M 2419 4116 \r\nL 825 1625 \r\nL 2419 1625 \r\nL 2419 4116 \r\nz\r\nM 2253 4666 \r\nL 3047 4666 \r\nL 3047 1625 \r\nL 3713 1625 \r\nL 3713 1100 \r\nL 3047 1100 \r\nL 3047 0 \r\nL 2419 0 \r\nL 2419 1100 \r\nL 313 1100 \r\nL 313 1709 \r\nL 2253 4666 \r\nz\r\n\" id=\"DejaVuSans-34\" transform=\"scale(0.015625)\"/>\r\n       </defs>\r\n       <use xlink:href=\"#DejaVuSans-30\"/>\r\n       <use x=\"63.623047\" xlink:href=\"#DejaVuSans-2e\"/>\r\n       <use x=\"95.410156\" xlink:href=\"#DejaVuSans-34\"/>\r\n      </g>\r\n     </g>\r\n    </g>\r\n    <g id=\"xtick_3\">\r\n     <g id=\"line2d_5\">\r\n      <path clip-path=\"url(#p56f3534357)\" d=\"M 212.050859 240.48 \r\nL 212.050859 7.2 \r\n\" style=\"fill:none;stroke:#cbcbcb;\"/>\r\n     </g>\r\n     <g id=\"line2d_6\"/>\r\n     <g id=\"text_3\">\r\n      <!-- 0.5 -->\r\n      <g transform=\"translate(200.918671 254.617813)scale(0.14 -0.14)\">\r\n       <defs>\r\n        <path d=\"M 691 4666 \r\nL 3169 4666 \r\nL 3169 4134 \r\nL 1269 4134 \r\nL 1269 2991 \r\nQ 1406 3038 1543 3061 \r\nQ 1681 3084 1819 3084 \r\nQ 2600 3084 3056 2656 \r\nQ 3513 2228 3513 1497 \r\nQ 3513 744 3044 326 \r\nQ 2575 -91 1722 -91 \r\nQ 1428 -91 1123 -41 \r\nQ 819 9 494 109 \r\nL 494 744 \r\nQ 775 591 1075 516 \r\nQ 1375 441 1709 441 \r\nQ 2250 441 2565 725 \r\nQ 2881 1009 2881 1497 \r\nQ 2881 1984 2565 2268 \r\nQ 2250 2553 1709 2553 \r\nQ 1456 2553 1204 2497 \r\nQ 953 2441 691 2322 \r\nL 691 4666 \r\nz\r\n\" id=\"DejaVuSans-35\" transform=\"scale(0.015625)\"/>\r\n       </defs>\r\n       <use xlink:href=\"#DejaVuSans-30\"/>\r\n       <use x=\"63.623047\" xlink:href=\"#DejaVuSans-2e\"/>\r\n       <use x=\"95.410156\" xlink:href=\"#DejaVuSans-35\"/>\r\n      </g>\r\n     </g>\r\n    </g>\r\n    <g id=\"xtick_4\">\r\n     <g id=\"line2d_7\">\r\n      <path clip-path=\"url(#p56f3534357)\" d=\"M 293.2543 240.48 \r\nL 293.2543 7.2 \r\n\" style=\"fill:none;stroke:#cbcbcb;\"/>\r\n     </g>\r\n     <g id=\"line2d_8\"/>\r\n     <g id=\"text_4\">\r\n      <!-- 0.6 -->\r\n      <g transform=\"translate(282.122113 254.617813)scale(0.14 -0.14)\">\r\n       <defs>\r\n        <path d=\"M 2113 2584 \r\nQ 1688 2584 1439 2293 \r\nQ 1191 2003 1191 1497 \r\nQ 1191 994 1439 701 \r\nQ 1688 409 2113 409 \r\nQ 2538 409 2786 701 \r\nQ 3034 994 3034 1497 \r\nQ 3034 2003 2786 2293 \r\nQ 2538 2584 2113 2584 \r\nz\r\nM 3366 4563 \r\nL 3366 3988 \r\nQ 3128 4100 2886 4159 \r\nQ 2644 4219 2406 4219 \r\nQ 1781 4219 1451 3797 \r\nQ 1122 3375 1075 2522 \r\nQ 1259 2794 1537 2939 \r\nQ 1816 3084 2150 3084 \r\nQ 2853 3084 3261 2657 \r\nQ 3669 2231 3669 1497 \r\nQ 3669 778 3244 343 \r\nQ 2819 -91 2113 -91 \r\nQ 1303 -91 875 529 \r\nQ 447 1150 447 2328 \r\nQ 447 3434 972 4092 \r\nQ 1497 4750 2381 4750 \r\nQ 2619 4750 2861 4703 \r\nQ 3103 4656 3366 4563 \r\nz\r\n\" id=\"DejaVuSans-36\" transform=\"scale(0.015625)\"/>\r\n       </defs>\r\n       <use xlink:href=\"#DejaVuSans-30\"/>\r\n       <use x=\"63.623047\" xlink:href=\"#DejaVuSans-2e\"/>\r\n       <use x=\"95.410156\" xlink:href=\"#DejaVuSans-36\"/>\r\n      </g>\r\n     </g>\r\n    </g>\r\n    <g id=\"xtick_5\">\r\n     <g id=\"line2d_9\">\r\n      <path clip-path=\"url(#p56f3534357)\" d=\"M 374.457741 240.48 \r\nL 374.457741 7.2 \r\n\" style=\"fill:none;stroke:#cbcbcb;\"/>\r\n     </g>\r\n     <g id=\"line2d_10\"/>\r\n     <g id=\"text_5\">\r\n      <!-- 0.7 -->\r\n      <g transform=\"translate(363.325554 254.617813)scale(0.14 -0.14)\">\r\n       <defs>\r\n        <path d=\"M 525 4666 \r\nL 3525 4666 \r\nL 3525 4397 \r\nL 1831 0 \r\nL 1172 0 \r\nL 2766 4134 \r\nL 525 4134 \r\nL 525 4666 \r\nz\r\n\" id=\"DejaVuSans-37\" transform=\"scale(0.015625)\"/>\r\n       </defs>\r\n       <use xlink:href=\"#DejaVuSans-30\"/>\r\n       <use x=\"63.623047\" xlink:href=\"#DejaVuSans-2e\"/>\r\n       <use x=\"95.410156\" xlink:href=\"#DejaVuSans-37\"/>\r\n      </g>\r\n     </g>\r\n    </g>\r\n    <g id=\"text_6\">\r\n     <!-- Overall score -->\r\n     <g transform=\"translate(139.862437 274.29475)scale(0.168 -0.168)\">\r\n      <defs>\r\n       <path d=\"M 2522 4238 \r\nQ 1834 4238 1429 3725 \r\nQ 1025 3213 1025 2328 \r\nQ 1025 1447 1429 934 \r\nQ 1834 422 2522 422 \r\nQ 3209 422 3611 934 \r\nQ 4013 1447 4013 2328 \r\nQ 4013 3213 3611 3725 \r\nQ 3209 4238 2522 4238 \r\nz\r\nM 2522 4750 \r\nQ 3503 4750 4090 4092 \r\nQ 4678 3434 4678 2328 \r\nQ 4678 1225 4090 567 \r\nQ 3503 -91 2522 -91 \r\nQ 1538 -91 948 565 \r\nQ 359 1222 359 2328 \r\nQ 359 3434 948 4092 \r\nQ 1538 4750 2522 4750 \r\nz\r\n\" id=\"DejaVuSans-4f\" transform=\"scale(0.015625)\"/>\r\n       <path d=\"M 191 3500 \r\nL 800 3500 \r\nL 1894 563 \r\nL 2988 3500 \r\nL 3597 3500 \r\nL 2284 0 \r\nL 1503 0 \r\nL 191 3500 \r\nz\r\n\" id=\"DejaVuSans-76\" transform=\"scale(0.015625)\"/>\r\n       <path d=\"M 3597 1894 \r\nL 3597 1613 \r\nL 953 1613 \r\nQ 991 1019 1311 708 \r\nQ 1631 397 2203 397 \r\nQ 2534 397 2845 478 \r\nQ 3156 559 3463 722 \r\nL 3463 178 \r\nQ 3153 47 2828 -22 \r\nQ 2503 -91 2169 -91 \r\nQ 1331 -91 842 396 \r\nQ 353 884 353 1716 \r\nQ 353 2575 817 3079 \r\nQ 1281 3584 2069 3584 \r\nQ 2775 3584 3186 3129 \r\nQ 3597 2675 3597 1894 \r\nz\r\nM 3022 2063 \r\nQ 3016 2534 2758 2815 \r\nQ 2500 3097 2075 3097 \r\nQ 1594 3097 1305 2825 \r\nQ 1016 2553 972 2059 \r\nL 3022 2063 \r\nz\r\n\" id=\"DejaVuSans-65\" transform=\"scale(0.015625)\"/>\r\n       <path d=\"M 2631 2963 \r\nQ 2534 3019 2420 3045 \r\nQ 2306 3072 2169 3072 \r\nQ 1681 3072 1420 2755 \r\nQ 1159 2438 1159 1844 \r\nL 1159 0 \r\nL 581 0 \r\nL 581 3500 \r\nL 1159 3500 \r\nL 1159 2956 \r\nQ 1341 3275 1631 3429 \r\nQ 1922 3584 2338 3584 \r\nQ 2397 3584 2469 3576 \r\nQ 2541 3569 2628 3553 \r\nL 2631 2963 \r\nz\r\n\" id=\"DejaVuSans-72\" transform=\"scale(0.015625)\"/>\r\n       <path d=\"M 2194 1759 \r\nQ 1497 1759 1228 1600 \r\nQ 959 1441 959 1056 \r\nQ 959 750 1161 570 \r\nQ 1363 391 1709 391 \r\nQ 2188 391 2477 730 \r\nQ 2766 1069 2766 1631 \r\nL 2766 1759 \r\nL 2194 1759 \r\nz\r\nM 3341 1997 \r\nL 3341 0 \r\nL 2766 0 \r\nL 2766 531 \r\nQ 2569 213 2275 61 \r\nQ 1981 -91 1556 -91 \r\nQ 1019 -91 701 211 \r\nQ 384 513 384 1019 \r\nQ 384 1609 779 1909 \r\nQ 1175 2209 1959 2209 \r\nL 2766 2209 \r\nL 2766 2266 \r\nQ 2766 2663 2505 2880 \r\nQ 2244 3097 1772 3097 \r\nQ 1472 3097 1187 3025 \r\nQ 903 2953 641 2809 \r\nL 641 3341 \r\nQ 956 3463 1253 3523 \r\nQ 1550 3584 1831 3584 \r\nQ 2591 3584 2966 3190 \r\nQ 3341 2797 3341 1997 \r\nz\r\n\" id=\"DejaVuSans-61\" transform=\"scale(0.015625)\"/>\r\n       <path d=\"M 603 4863 \r\nL 1178 4863 \r\nL 1178 0 \r\nL 603 0 \r\nL 603 4863 \r\nz\r\n\" id=\"DejaVuSans-6c\" transform=\"scale(0.015625)\"/>\r\n       <path id=\"DejaVuSans-20\" transform=\"scale(0.015625)\"/>\r\n       <path d=\"M 2834 3397 \r\nL 2834 2853 \r\nQ 2591 2978 2328 3040 \r\nQ 2066 3103 1784 3103 \r\nQ 1356 3103 1142 2972 \r\nQ 928 2841 928 2578 \r\nQ 928 2378 1081 2264 \r\nQ 1234 2150 1697 2047 \r\nL 1894 2003 \r\nQ 2506 1872 2764 1633 \r\nQ 3022 1394 3022 966 \r\nQ 3022 478 2636 193 \r\nQ 2250 -91 1575 -91 \r\nQ 1294 -91 989 -36 \r\nQ 684 19 347 128 \r\nL 347 722 \r\nQ 666 556 975 473 \r\nQ 1284 391 1588 391 \r\nQ 1994 391 2212 530 \r\nQ 2431 669 2431 922 \r\nQ 2431 1156 2273 1281 \r\nQ 2116 1406 1581 1522 \r\nL 1381 1569 \r\nQ 847 1681 609 1914 \r\nQ 372 2147 372 2553 \r\nQ 372 3047 722 3315 \r\nQ 1072 3584 1716 3584 \r\nQ 2034 3584 2315 3537 \r\nQ 2597 3491 2834 3397 \r\nz\r\n\" id=\"DejaVuSans-73\" transform=\"scale(0.015625)\"/>\r\n       <path d=\"M 3122 3366 \r\nL 3122 2828 \r\nQ 2878 2963 2633 3030 \r\nQ 2388 3097 2138 3097 \r\nQ 1578 3097 1268 2742 \r\nQ 959 2388 959 1747 \r\nQ 959 1106 1268 751 \r\nQ 1578 397 2138 397 \r\nQ 2388 397 2633 464 \r\nQ 2878 531 3122 666 \r\nL 3122 134 \r\nQ 2881 22 2623 -34 \r\nQ 2366 -91 2075 -91 \r\nQ 1284 -91 818 406 \r\nQ 353 903 353 1747 \r\nQ 353 2603 823 3093 \r\nQ 1294 3584 2113 3584 \r\nQ 2378 3584 2631 3529 \r\nQ 2884 3475 3122 3366 \r\nz\r\n\" id=\"DejaVuSans-63\" transform=\"scale(0.015625)\"/>\r\n       <path d=\"M 1959 3097 \r\nQ 1497 3097 1228 2736 \r\nQ 959 2375 959 1747 \r\nQ 959 1119 1226 758 \r\nQ 1494 397 1959 397 \r\nQ 2419 397 2687 759 \r\nQ 2956 1122 2956 1747 \r\nQ 2956 2369 2687 2733 \r\nQ 2419 3097 1959 3097 \r\nz\r\nM 1959 3584 \r\nQ 2709 3584 3137 3096 \r\nQ 3566 2609 3566 1747 \r\nQ 3566 888 3137 398 \r\nQ 2709 -91 1959 -91 \r\nQ 1206 -91 779 398 \r\nQ 353 888 353 1747 \r\nQ 353 2609 779 3096 \r\nQ 1206 3584 1959 3584 \r\nz\r\n\" id=\"DejaVuSans-6f\" transform=\"scale(0.015625)\"/>\r\n      </defs>\r\n      <use xlink:href=\"#DejaVuSans-4f\"/>\r\n      <use x=\"78.710938\" xlink:href=\"#DejaVuSans-76\"/>\r\n      <use x=\"137.890625\" xlink:href=\"#DejaVuSans-65\"/>\r\n      <use x=\"199.414062\" xlink:href=\"#DejaVuSans-72\"/>\r\n      <use x=\"240.527344\" xlink:href=\"#DejaVuSans-61\"/>\r\n      <use x=\"301.806641\" xlink:href=\"#DejaVuSans-6c\"/>\r\n      <use x=\"329.589844\" xlink:href=\"#DejaVuSans-6c\"/>\r\n      <use x=\"357.373047\" xlink:href=\"#DejaVuSans-20\"/>\r\n      <use x=\"389.160156\" xlink:href=\"#DejaVuSans-73\"/>\r\n      <use x=\"441.259766\" xlink:href=\"#DejaVuSans-63\"/>\r\n      <use x=\"496.240234\" xlink:href=\"#DejaVuSans-6f\"/>\r\n      <use x=\"557.421875\" xlink:href=\"#DejaVuSans-72\"/>\r\n      <use x=\"596.285156\" xlink:href=\"#DejaVuSans-65\"/>\r\n     </g>\r\n    </g>\r\n   </g>\r\n   <g id=\"matplotlib.axis_2\">\r\n    <g id=\"ytick_1\">\r\n     <g id=\"line2d_11\"/>\r\n    </g>\r\n   </g>\r\n   <g id=\"patch_3\">\r\n    <path clip-path=\"url(#p56f3534357)\" d=\"M 176.626367 30.528 \r\nL 176.626367 217.152 \r\nL 261.289376 217.152 \r\nL 261.289376 30.528 \r\nL 176.626367 30.528 \r\nz\r\n\" style=\"fill:#1b86ba;stroke:#404040;stroke-linejoin:miter;stroke-width:4;\"/>\r\n   </g>\r\n   <g id=\"line2d_12\">\r\n    <path clip-path=\"url(#p56f3534357)\" d=\"M 176.626367 123.84 \r\nL 63.810766 123.84 \r\n\" style=\"fill:none;stroke:#404040;stroke-width:4;\"/>\r\n   </g>\r\n   <g id=\"line2d_13\">\r\n    <path clip-path=\"url(#p56f3534357)\" d=\"M 261.289376 123.84 \r\nL 365.956364 123.84 \r\n\" style=\"fill:none;stroke:#404040;stroke-width:4;\"/>\r\n   </g>\r\n   <g id=\"line2d_14\">\r\n    <path clip-path=\"url(#p56f3534357)\" d=\"M 63.810766 77.184 \r\nL 63.810766 170.496 \r\n\" style=\"fill:none;stroke:#404040;stroke-width:4;\"/>\r\n   </g>\r\n   <g id=\"line2d_15\">\r\n    <path clip-path=\"url(#p56f3534357)\" d=\"M 365.956364 77.184 \r\nL 365.956364 170.496 \r\n\" style=\"fill:none;stroke:#404040;stroke-width:4;\"/>\r\n   </g>\r\n   <g id=\"line2d_16\">\r\n    <defs>\r\n     <path d=\"M 0 3.535534 \r\nL 2.12132 0 \r\nL 0 -3.535534 \r\nL -2.12132 0 \r\nz\r\n\" id=\"me6772a163b\" style=\"stroke:#404040;stroke-linejoin:miter;\"/>\r\n    </defs>\r\n    <g clip-path=\"url(#p56f3534357)\">\r\n     <use style=\"fill:#404040;stroke:#404040;stroke-linejoin:miter;\" x=\"24.283636\" xlink:href=\"#me6772a163b\" y=\"123.84\"/>\r\n    </g>\r\n   </g>\r\n   <g id=\"line2d_17\">\r\n    <path clip-path=\"url(#p56f3534357)\" d=\"M 220.996879 30.528 \r\nL 220.996879 217.152 \r\n\" style=\"fill:none;stroke:#404040;stroke-width:4;\"/>\r\n   </g>\r\n   <g id=\"patch_4\">\r\n    <path d=\"M 7.2 240.48 \r\nL 7.2 7.2 \r\n\" style=\"fill:none;stroke:#f0f0f0;stroke-linecap:square;stroke-linejoin:miter;stroke-width:3;\"/>\r\n   </g>\r\n   <g id=\"patch_5\">\r\n    <path d=\"M 383.04 240.48 \r\nL 383.04 7.2 \r\n\" style=\"fill:none;stroke:#f0f0f0;stroke-linecap:square;stroke-linejoin:miter;stroke-width:3;\"/>\r\n   </g>\r\n   <g id=\"patch_6\">\r\n    <path d=\"M 7.2 240.48 \r\nL 383.04 240.48 \r\n\" style=\"fill:none;stroke:#f0f0f0;stroke-linecap:square;stroke-linejoin:miter;stroke-width:3;\"/>\r\n   </g>\r\n   <g id=\"patch_7\">\r\n    <path d=\"M 7.2 7.2 \r\nL 383.04 7.2 \r\n\" style=\"fill:none;stroke:#f0f0f0;stroke-linecap:square;stroke-linejoin:miter;stroke-width:3;\"/>\r\n   </g>\r\n   <g id=\"text_7\">\r\n    <!-- Bihar -->\r\n    <g transform=\"translate(9.042255 170.496)scale(0.14 -0.14)\">\r\n     <defs>\r\n      <path d=\"M 1259 2228 \r\nL 1259 519 \r\nL 2272 519 \r\nQ 2781 519 3026 730 \r\nQ 3272 941 3272 1375 \r\nQ 3272 1813 3026 2020 \r\nQ 2781 2228 2272 2228 \r\nL 1259 2228 \r\nz\r\nM 1259 4147 \r\nL 1259 2741 \r\nL 2194 2741 \r\nQ 2656 2741 2882 2914 \r\nQ 3109 3088 3109 3444 \r\nQ 3109 3797 2882 3972 \r\nQ 2656 4147 2194 4147 \r\nL 1259 4147 \r\nz\r\nM 628 4666 \r\nL 2241 4666 \r\nQ 2963 4666 3353 4366 \r\nQ 3744 4066 3744 3513 \r\nQ 3744 3084 3544 2831 \r\nQ 3344 2578 2956 2516 \r\nQ 3422 2416 3680 2098 \r\nQ 3938 1781 3938 1306 \r\nQ 3938 681 3513 340 \r\nQ 3088 0 2303 0 \r\nL 628 0 \r\nL 628 4666 \r\nz\r\n\" id=\"DejaVuSans-42\" transform=\"scale(0.015625)\"/>\r\n      <path d=\"M 603 3500 \r\nL 1178 3500 \r\nL 1178 0 \r\nL 603 0 \r\nL 603 3500 \r\nz\r\nM 603 4863 \r\nL 1178 4863 \r\nL 1178 4134 \r\nL 603 4134 \r\nL 603 4863 \r\nz\r\n\" id=\"DejaVuSans-69\" transform=\"scale(0.015625)\"/>\r\n      <path d=\"M 3513 2113 \r\nL 3513 0 \r\nL 2938 0 \r\nL 2938 2094 \r\nQ 2938 2591 2744 2837 \r\nQ 2550 3084 2163 3084 \r\nQ 1697 3084 1428 2787 \r\nQ 1159 2491 1159 1978 \r\nL 1159 0 \r\nL 581 0 \r\nL 581 4863 \r\nL 1159 4863 \r\nL 1159 2956 \r\nQ 1366 3272 1645 3428 \r\nQ 1925 3584 2291 3584 \r\nQ 2894 3584 3203 3211 \r\nQ 3513 2838 3513 2113 \r\nz\r\n\" id=\"DejaVuSans-68\" transform=\"scale(0.015625)\"/>\r\n     </defs>\r\n     <use xlink:href=\"#DejaVuSans-42\"/>\r\n     <use x=\"68.603516\" xlink:href=\"#DejaVuSans-69\"/>\r\n     <use x=\"96.386719\" xlink:href=\"#DejaVuSans-68\"/>\r\n     <use x=\"159.765625\" xlink:href=\"#DejaVuSans-61\"/>\r\n     <use x=\"221.044922\" xlink:href=\"#DejaVuSans-72\"/>\r\n    </g>\r\n   </g>\r\n  </g>\r\n </g>\r\n <defs>\r\n  <clipPath id=\"p56f3534357\">\r\n   <rect height=\"233.28\" width=\"375.84\" x=\"7.2\" y=\"7.2\"/>\r\n  </clipPath>\r\n </defs>\r\n</svg>\r\n",
      "image/png": "[encoded data removed]"
     },
     "metadata": {}
    }
   ],
   "source": [
    "sns.boxplot(states['Overall score'])\n",
    "plt.text(0.25,0.2,s=states.iloc[states['Overall score'].argmin()][0])"
   ]
  },
  {
   "source": [
    "## Visualizing the data on the basis of top three features"
   ],
   "cell_type": "markdown",
   "metadata": {}
  },
  {
   "cell_type": "code",
   "execution_count": 175,
   "metadata": {},
   "outputs": [
    {
     "output_type": "display_data",
     "data": {
      "application/vnd.plotly.v1+json": {
       "config": {
        "plotlyServerURL": "https://plot.ly"
       },
       "data": [
        {
         "hovertemplate": "Dropout-SECONDARY=%{x}<br>Dropout-PRIMARY=%{y}<br>Dropout-UPPER_PRIMARY=%{z}<br>text=%{text}<extra></extra>",
         "legendgroup": "",
         "marker": {
          "color": "#636efa",
          "opacity": 0.7,
          "symbol": "circle"
         },
         "mode": "markers+text",
         "name": "",
         "scene": "scene",
         "showlegend": false,
         "text": [
          "Andaman & Nicobar Islands",
          "Andhra Pradesh",
          "Arunachal Pradesh",
          "Assam",
          "Bihar",
          "Chandigarh",
          "Chhattisgarh",
          "Dadra & Nagar Haveli",
          "Daman & Diu",
          "Delhi",
          "Goa",
          "Gujarat",
          "Haryana",
          "Himachal Pradesh",
          "Jammu And Kashmir",
          "Jharkhand",
          "Karnataka",
          "Kerala",
          "Lakshadweep",
          "Madhya Pradesh",
          "Maharashtra",
          "Manipur",
          "Meghalaya",
          "Mizoram",
          "Nagaland",
          "Odisha",
          "Puducherry",
          "Punjab",
          "Rajasthan",
          "Sikkim",
          "Tamil Nadu",
          "Telangana",
          "Tripura",
          "Uttar Pradesh",
          "Uttarakhand",
          "West Bengal"
         ],
         "type": "scatter3d",
         "x": [
          7.543333333333333,
          13.693333333333333,
          14.843333333333334,
          28.08666666666667,
          27.123333333333335,
          0,
          19.843333333333334,
          23.256666666666664,
          21.21666666666667,
          8.676666666666668,
          9.563333333333333,
          20.066666666666666,
          12.46,
          7.843333333333334,
          16.656666666666666,
          21.883333333333336,
          31.22333333333334,
          12.076666666666668,
          7.489999999999999,
          21.623333333333335,
          14.513333333333334,
          12.646666666666668,
          23.766666666666666,
          20.666666666666668,
          26.61666666666667,
          42.96666666666667,
          13.88,
          9.163333333333334,
          15.300000000000002,
          12.670000000000002,
          10.166666666666666,
          19.486666666666668,
          17.83666666666667,
          9.066666666666666,
          12.133333333333335,
          18.07
         ],
         "y": [
          0.8000000000000002,
          4.75,
          12.290000000000001,
          9.68,
          0.6966666666666667,
          0,
          2.823333333333333,
          1.0133333333333334,
          0.6533333333333333,
          0,
          0.31,
          0.7966666666666667,
          2.436666666666667,
          0.5166666666666667,
          6.183333333333334,
          6.366666666666667,
          2.436666666666667,
          0,
          0.8333333333333334,
          7.613333333333333,
          0.9266666666666667,
          12.506666666666666,
          9.98,
          15.723333333333334,
          10.696666666666667,
          3.1199999999999997,
          0.4566666666666667,
          2.11,
          7.126666666666666,
          3.48,
          1.5066666666666666,
          3.3699999999999997,
          5.046666666666667,
          5.6066666666666665,
          4.47,
          2.19
         ],
         "z": [
          1.1433333333333333,
          4.113333333333333,
          6.59,
          8.253333333333332,
          2.3533333333333335,
          0.54,
          5.0233333333333325,
          3.8433333333333333,
          2.223333333333333,
          1.18,
          0.023333333333333334,
          5.72,
          2.94,
          0.7200000000000001,
          5.086666666666667,
          7.293333333333334,
          3.8033333333333332,
          0,
          1.6433333333333333,
          9.809999999999999,
          1.3800000000000001,
          5.759999999999999,
          7.07,
          10.026666666666667,
          11.87,
          3.473333333333333,
          0.6133333333333334,
          2.9499999999999997,
          4.506666666666667,
          3.2866666666666666,
          1.92,
          3.3633333333333333,
          1.9233333333333331,
          1.12,
          2.6833333333333336,
          4.305
         ]
        }
       ],
       "layout": {
        "height": 720,
        "legend": {
         "tracegroupgap": 0
        },
        "margin": {
         "t": 60
        },
        "scene": {
         "domain": {
          "x": [
           0,
           1
          ],
          "y": [
           0,
           1
          ]
         },
         "xaxis": {
          "title": {
           "text": "Dropout-SECONDARY"
          }
         },
         "yaxis": {
          "title": {
           "text": "Dropout-PRIMARY"
          }
         },
         "zaxis": {
          "title": {
           "text": "Dropout-UPPER_PRIMARY"
          }
         }
        },
        "template": {
         "data": {
          "bar": [
           {
            "error_x": {
             "color": "#2a3f5f"
            },
            "error_y": {
             "color": "#2a3f5f"
            },
            "marker": {
             "line": {
              "color": "#E5ECF6",
              "width": 0.5
             }
            },
            "type": "bar"
           }
          ],
          "barpolar": [
           {
            "marker": {
             "line": {
              "color": "#E5ECF6",
              "width": 0.5
             }
            },
            "type": "barpolar"
           }
          ],
          "carpet": [
           {
            "aaxis": {
             "endlinecolor": "#2a3f5f",
             "gridcolor": "white",
             "linecolor": "white",
             "minorgridcolor": "white",
             "startlinecolor": "#2a3f5f"
            },
            "baxis": {
             "endlinecolor": "#2a3f5f",
             "gridcolor": "white",
             "linecolor": "white",
             "minorgridcolor": "white",
             "startlinecolor": "#2a3f5f"
            },
            "type": "carpet"
           }
          ],
          "choropleth": [
           {
            "colorbar": {
             "outlinewidth": 0,
             "ticks": ""
            },
            "type": "choropleth"
           }
          ],
          "contour": [
           {
            "colorbar": {
             "outlinewidth": 0,
             "ticks": ""
            },
            "colorscale": [
             [
              0,
              "#0d0887"
             ],
             [
              0.1111111111111111,
              "#46039f"
             ],
             [
              0.2222222222222222,
              "#7201a8"
             ],
             [
              0.3333333333333333,
              "#9c179e"
             ],
             [
              0.4444444444444444,
              "#bd3786"
             ],
             [
              0.5555555555555556,
              "#d8576b"
             ],
             [
              0.6666666666666666,
              "#ed7953"
             ],
             [
              0.7777777777777778,
              "#fb9f3a"
             ],
             [
              0.8888888888888888,
              "#fdca26"
             ],
             [
              1,
              "#f0f921"
             ]
            ],
            "type": "contour"
           }
          ],
          "contourcarpet": [
           {
            "colorbar": {
             "outlinewidth": 0,
             "ticks": ""
            },
            "type": "contourcarpet"
           }
          ],
          "heatmap": [
           {
            "colorbar": {
             "outlinewidth": 0,
             "ticks": ""
            },
            "colorscale": [
             [
              0,
              "#0d0887"
             ],
             [
              0.1111111111111111,
              "#46039f"
             ],
             [
              0.2222222222222222,
              "#7201a8"
             ],
             [
              0.3333333333333333,
              "#9c179e"
             ],
             [
              0.4444444444444444,
              "#bd3786"
             ],
             [
              0.5555555555555556,
              "#d8576b"
             ],
             [
              0.6666666666666666,
              "#ed7953"
             ],
             [
              0.7777777777777778,
              "#fb9f3a"
             ],
             [
              0.8888888888888888,
              "#fdca26"
             ],
             [
              1,
              "#f0f921"
             ]
            ],
            "type": "heatmap"
           }
          ],
          "heatmapgl": [
           {
            "colorbar": {
             "outlinewidth": 0,
             "ticks": ""
            },
            "colorscale": [
             [
              0,
              "#0d0887"
             ],
             [
              0.1111111111111111,
              "#46039f"
             ],
             [
              0.2222222222222222,
              "#7201a8"
             ],
             [
              0.3333333333333333,
              "#9c179e"
             ],
             [
              0.4444444444444444,
              "#bd3786"
             ],
             [
              0.5555555555555556,
              "#d8576b"
             ],
             [
              0.6666666666666666,
              "#ed7953"
             ],
             [
              0.7777777777777778,
              "#fb9f3a"
             ],
             [
              0.8888888888888888,
              "#fdca26"
             ],
             [
              1,
              "#f0f921"
             ]
            ],
            "type": "heatmapgl"
           }
          ],
          "histogram": [
           {
            "marker": {
             "colorbar": {
              "outlinewidth": 0,
              "ticks": ""
             }
            },
            "type": "histogram"
           }
          ],
          "histogram2d": [
           {
            "colorbar": {
             "outlinewidth": 0,
             "ticks": ""
            },
            "colorscale": [
             [
              0,
              "#0d0887"
             ],
             [
              0.1111111111111111,
              "#46039f"
             ],
             [
              0.2222222222222222,
              "#7201a8"
             ],
             [
              0.3333333333333333,
              "#9c179e"
             ],
             [
              0.4444444444444444,
              "#bd3786"
             ],
             [
              0.5555555555555556,
              "#d8576b"
             ],
             [
              0.6666666666666666,
              "#ed7953"
             ],
             [
              0.7777777777777778,
              "#fb9f3a"
             ],
             [
              0.8888888888888888,
              "#fdca26"
             ],
             [
              1,
              "#f0f921"
             ]
            ],
            "type": "histogram2d"
           }
          ],
          "histogram2dcontour": [
           {
            "colorbar": {
             "outlinewidth": 0,
             "ticks": ""
            },
            "colorscale": [
             [
              0,
              "#0d0887"
             ],
             [
              0.1111111111111111,
              "#46039f"
             ],
             [
              0.2222222222222222,
              "#7201a8"
             ],
             [
              0.3333333333333333,
              "#9c179e"
             ],
             [
              0.4444444444444444,
              "#bd3786"
             ],
             [
              0.5555555555555556,
              "#d8576b"
             ],
             [
              0.6666666666666666,
              "#ed7953"
             ],
             [
              0.7777777777777778,
              "#fb9f3a"
             ],
             [
              0.8888888888888888,
              "#fdca26"
             ],
             [
              1,
              "#f0f921"
             ]
            ],
            "type": "histogram2dcontour"
           }
          ],
          "mesh3d": [
           {
            "colorbar": {
             "outlinewidth": 0,
             "ticks": ""
            },
            "type": "mesh3d"
           }
          ],
          "parcoords": [
           {
            "line": {
             "colorbar": {
              "outlinewidth": 0,
              "ticks": ""
             }
            },
            "type": "parcoords"
           }
          ],
          "pie": [
           {
            "automargin": true,
            "type": "pie"
           }
          ],
          "scatter": [
           {
            "marker": {
             "colorbar": {
              "outlinewidth": 0,
              "ticks": ""
             }
            },
            "type": "scatter"
           }
          ],
          "scatter3d": [
           {
            "line": {
             "colorbar": {
              "outlinewidth": 0,
              "ticks": ""
             }
            },
            "marker": {
             "colorbar": {
              "outlinewidth": 0,
              "ticks": ""
             }
            },
            "type": "scatter3d"
           }
          ],
          "scattercarpet": [
           {
            "marker": {
             "colorbar": {
              "outlinewidth": 0,
              "ticks": ""
             }
            },
            "type": "scattercarpet"
           }
          ],
          "scattergeo": [
           {
            "marker": {
             "colorbar": {
              "outlinewidth": 0,
              "ticks": ""
             }
            },
            "type": "scattergeo"
           }
          ],
          "scattergl": [
           {
            "marker": {
             "colorbar": {
              "outlinewidth": 0,
              "ticks": ""
             }
            },
            "type": "scattergl"
           }
          ],
          "scattermapbox": [
           {
            "marker": {
             "colorbar": {
              "outlinewidth": 0,
              "ticks": ""
             }
            },
            "type": "scattermapbox"
           }
          ],
          "scatterpolar": [
           {
            "marker": {
             "colorbar": {
              "outlinewidth": 0,
              "ticks": ""
             }
            },
            "type": "scatterpolar"
           }
          ],
          "scatterpolargl": [
           {
            "marker": {
             "colorbar": {
              "outlinewidth": 0,
              "ticks": ""
             }
            },
            "type": "scatterpolargl"
           }
          ],
          "scatterternary": [
           {
            "marker": {
             "colorbar": {
              "outlinewidth": 0,
              "ticks": ""
             }
            },
            "type": "scatterternary"
           }
          ],
          "surface": [
           {
            "colorbar": {
             "outlinewidth": 0,
             "ticks": ""
            },
            "colorscale": [
             [
              0,
              "#0d0887"
             ],
             [
              0.1111111111111111,
              "#46039f"
             ],
             [
              0.2222222222222222,
              "#7201a8"
             ],
             [
              0.3333333333333333,
              "#9c179e"
             ],
             [
              0.4444444444444444,
              "#bd3786"
             ],
             [
              0.5555555555555556,
              "#d8576b"
             ],
             [
              0.6666666666666666,
              "#ed7953"
             ],
             [
              0.7777777777777778,
              "#fb9f3a"
             ],
             [
              0.8888888888888888,
              "#fdca26"
             ],
             [
              1,
              "#f0f921"
             ]
            ],
            "type": "surface"
           }
          ],
          "table": [
           {
            "cells": {
             "fill": {
              "color": "#EBF0F8"
             },
             "line": {
              "color": "white"
             }
            },
            "header": {
             "fill": {
              "color": "#C8D4E3"
             },
             "line": {
              "color": "white"
             }
            },
            "type": "table"
           }
          ]
         },
         "layout": {
          "annotationdefaults": {
           "arrowcolor": "#2a3f5f",
           "arrowhead": 0,
           "arrowwidth": 1
          },
          "autotypenumbers": "strict",
          "coloraxis": {
           "colorbar": {
            "outlinewidth": 0,
            "ticks": ""
           }
          },
          "colorscale": {
           "diverging": [
            [
             0,
             "#8e0152"
            ],
            [
             0.1,
             "#c51b7d"
            ],
            [
             0.2,
             "#de77ae"
            ],
            [
             0.3,
             "#f1b6da"
            ],
            [
             0.4,
             "#fde0ef"
            ],
            [
             0.5,
             "#f7f7f7"
            ],
            [
             0.6,
             "#e6f5d0"
            ],
            [
             0.7,
             "#b8e186"
            ],
            [
             0.8,
             "#7fbc41"
            ],
            [
             0.9,
             "#4d9221"
            ],
            [
             1,
             "#276419"
            ]
           ],
           "sequential": [
            [
             0,
             "#0d0887"
            ],
            [
             0.1111111111111111,
             "#46039f"
            ],
            [
             0.2222222222222222,
             "#7201a8"
            ],
            [
             0.3333333333333333,
             "#9c179e"
            ],
            [
             0.4444444444444444,
             "#bd3786"
            ],
            [
             0.5555555555555556,
             "#d8576b"
            ],
            [
             0.6666666666666666,
             "#ed7953"
            ],
            [
             0.7777777777777778,
             "#fb9f3a"
            ],
            [
             0.8888888888888888,
             "#fdca26"
            ],
            [
             1,
             "#f0f921"
            ]
           ],
           "sequentialminus": [
            [
             0,
             "#0d0887"
            ],
            [
             0.1111111111111111,
             "#46039f"
            ],
            [
             0.2222222222222222,
             "#7201a8"
            ],
            [
             0.3333333333333333,
             "#9c179e"
            ],
            [
             0.4444444444444444,
             "#bd3786"
            ],
            [
             0.5555555555555556,
             "#d8576b"
            ],
            [
             0.6666666666666666,
             "#ed7953"
            ],
            [
             0.7777777777777778,
             "#fb9f3a"
            ],
            [
             0.8888888888888888,
             "#fdca26"
            ],
            [
             1,
             "#f0f921"
            ]
           ]
          },
          "colorway": [
           "#636efa",
           "#EF553B",
           "#00cc96",
           "#ab63fa",
           "#FFA15A",
           "#19d3f3",
           "#FF6692",
           "#B6E880",
           "#FF97FF",
           "#FECB52"
          ],
          "font": {
           "color": "#2a3f5f"
          },
          "geo": {
           "bgcolor": "white",
           "lakecolor": "white",
           "landcolor": "#E5ECF6",
           "showlakes": true,
           "showland": true,
           "subunitcolor": "white"
          },
          "hoverlabel": {
           "align": "left"
          },
          "hovermode": "closest",
          "mapbox": {
           "style": "light"
          },
          "paper_bgcolor": "white",
          "plot_bgcolor": "#E5ECF6",
          "polar": {
           "angularaxis": {
            "gridcolor": "white",
            "linecolor": "white",
            "ticks": ""
           },
           "bgcolor": "#E5ECF6",
           "radialaxis": {
            "gridcolor": "white",
            "linecolor": "white",
            "ticks": ""
           }
          },
          "scene": {
           "xaxis": {
            "backgroundcolor": "#E5ECF6",
            "gridcolor": "white",
            "gridwidth": 2,
            "linecolor": "white",
            "showbackground": true,
            "ticks": "",
            "zerolinecolor": "white"
           },
           "yaxis": {
            "backgroundcolor": "#E5ECF6",
            "gridcolor": "white",
            "gridwidth": 2,
            "linecolor": "white",
            "showbackground": true,
            "ticks": "",
            "zerolinecolor": "white"
           },
           "zaxis": {
            "backgroundcolor": "#E5ECF6",
            "gridcolor": "white",
            "gridwidth": 2,
            "linecolor": "white",
            "showbackground": true,
            "ticks": "",
            "zerolinecolor": "white"
           }
          },
          "shapedefaults": {
           "line": {
            "color": "#2a3f5f"
           }
          },
          "ternary": {
           "aaxis": {
            "gridcolor": "white",
            "linecolor": "white",
            "ticks": ""
           },
           "baxis": {
            "gridcolor": "white",
            "linecolor": "white",
            "ticks": ""
           },
           "bgcolor": "#E5ECF6",
           "caxis": {
            "gridcolor": "white",
            "linecolor": "white",
            "ticks": ""
           }
          },
          "title": {
           "x": 0.05
          },
          "xaxis": {
           "automargin": true,
           "gridcolor": "white",
           "linecolor": "white",
           "ticks": "",
           "title": {
            "standoff": 15
           },
           "zerolinecolor": "white",
           "zerolinewidth": 2
          },
          "yaxis": {
           "automargin": true,
           "gridcolor": "white",
           "linecolor": "white",
           "ticks": "",
           "title": {
            "standoff": 15
           },
           "zerolinecolor": "white",
           "zerolinewidth": 2
          }
         }
        },
        "width": 1200
       }
      }
     },
     "metadata": {}
    }
   ],
   "source": [
    "import plotly.express as px\n",
    "fig = px.scatter_3d(dataset, y='Dropout-PRIMARY', z='Dropout-UPPER_PRIMARY', x='Dropout-SECONDARY', opacity=0.7,text=states['State'])\n",
    "fig.update_layout(width=1200, height=720)"
   ]
  },
  {
   "source": [
    "Dropout rates define the maximum difference in education between the states"
   ],
   "cell_type": "markdown",
   "metadata": {}
  },
  {
   "cell_type": "code",
   "execution_count": null,
   "metadata": {},
   "outputs": [],
   "source": []
  }
 ]
}