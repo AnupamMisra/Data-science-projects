{
 "metadata": {
  "language_info": {
   "codemirror_mode": {
    "name": "ipython",
    "version": 3
   },
   "file_extension": ".py",
   "mimetype": "text/x-python",
   "name": "python",
   "nbconvert_exporter": "python",
   "pygments_lexer": "ipython3",
   "version": "3.9.5"
  },
  "orig_nbformat": 2,
  "kernelspec": {
   "name": "python395jvsc74a57bd062a490a61034db1e8b6e05e6e999b5629625384177f9d8186b44b788547d5428",
   "display_name": "Python 3.9.5 64-bit ('machine_L': venv)"
  }
 },
 "nbformat": 4,
 "nbformat_minor": 2,
 "cells": [
  {
   "cell_type": "code",
   "execution_count": 4,
   "metadata": {},
   "outputs": [],
   "source": [
    "import numpy as np \n",
    "import pandas as pd \n",
    "from sklearn.cluster import KMeans\n",
    "from sklearn.metrics import silhouette_samples,silhouette_score\n",
    "import matplotlib.pyplot as plt \n",
    "%matplotlib inline\n",
    "enrollments = pd.read_excel(r\"C:/Users/ADMIN/Documents/Codebase/Data-science-projects/Education/data/enrollment.xls\")\n",
    "pd.set_option('display.max_columns', 500)"
   ]
  },
  {
   "cell_type": "code",
   "execution_count": 6,
   "metadata": {},
   "outputs": [
    {
     "output_type": "stream",
     "name": "stdout",
     "text": [
      "\n Correlation between enrollment rates at different stages of schooling\n\n"
     ]
    },
    {
     "output_type": "execute_result",
     "data": {
      "text/plain": [
       "<pandas.io.formats.style.Styler at 0x1d3a6cdf0a0>"
      ],
      "text/html": "<style  type=\"text/css\" >\n#T_9e6b4_row0_col0,#T_9e6b4_row1_col1,#T_9e6b4_row2_col2{\n            background-color:  #053061;\n            color:  #f1f1f1;\n        }#T_9e6b4_row0_col1{\n            background-color:  #f8bb9e;\n            color:  #000000;\n        }#T_9e6b4_row0_col2,#T_9e6b4_row2_col0,#T_9e6b4_row2_col1{\n            background-color:  #67001f;\n            color:  #f1f1f1;\n        }#T_9e6b4_row1_col0{\n            background-color:  #a0cce2;\n            color:  #000000;\n        }#T_9e6b4_row1_col2{\n            background-color:  #f3f5f6;\n            color:  #000000;\n        }</style><table id=\"T_9e6b4_\" ><thead>    <tr>        <th class=\"blank level0\" ></th>        <th class=\"col_heading level0 col0\" >Primary_Total</th>        <th class=\"col_heading level0 col1\" >Upper_Primary_Total</th>        <th class=\"col_heading level0 col2\" >Secondary_Total</th>    </tr></thead><tbody>\n                <tr>\n                        <th id=\"T_9e6b4_level0_row0\" class=\"row_heading level0 row0\" >Primary_Total</th>\n                        <td id=\"T_9e6b4_row0_col0\" class=\"data row0 col0\" >1.000000</td>\n                        <td id=\"T_9e6b4_row0_col1\" class=\"data row0 col1\" >0.698719</td>\n                        <td id=\"T_9e6b4_row0_col2\" class=\"data row0 col2\" >0.064725</td>\n            </tr>\n            <tr>\n                        <th id=\"T_9e6b4_level0_row1\" class=\"row_heading level0 row1\" >Upper_Primary_Total</th>\n                        <td id=\"T_9e6b4_row1_col0\" class=\"data row1 col0\" >0.698719</td>\n                        <td id=\"T_9e6b4_row1_col1\" class=\"data row1 col1\" >1.000000</td>\n                        <td id=\"T_9e6b4_row1_col2\" class=\"data row1 col2\" >0.541461</td>\n            </tr>\n            <tr>\n                        <th id=\"T_9e6b4_level0_row2\" class=\"row_heading level0 row2\" >Secondary_Total</th>\n                        <td id=\"T_9e6b4_row2_col0\" class=\"data row2 col0\" >0.064725</td>\n                        <td id=\"T_9e6b4_row2_col1\" class=\"data row2 col1\" >0.541461</td>\n                        <td id=\"T_9e6b4_row2_col2\" class=\"data row2 col2\" >1.000000</td>\n            </tr>\n    </tbody></table>"
     },
     "metadata": {},
     "execution_count": 6
    }
   ],
   "source": [
    "print(\"\\n Correlation between enrollment rates at different stages of schooling\\n\")\n",
    "dropout[['Primary_Total', 'Upper_Primary_Total', 'Secondary_Total','Higher_Secondary_Total']].corr().style.background_gradient(cmap='RdBu')"
   ]
  },
  {
   "cell_type": "code",
   "execution_count": null,
   "metadata": {},
   "outputs": [],
   "source": []
  }
 ]
}