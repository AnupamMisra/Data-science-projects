{
 "metadata": {
  "language_info": {
   "codemirror_mode": {
    "name": "ipython",
    "version": 3
   },
   "file_extension": ".py",
   "mimetype": "text/x-python",
   "name": "python",
   "nbconvert_exporter": "python",
   "pygments_lexer": "ipython3",
   "version": "3.9.5"
  },
  "orig_nbformat": 2,
  "kernelspec": {
   "name": "python395jvsc74a57bd062a490a61034db1e8b6e05e6e999b5629625384177f9d8186b44b788547d5428",
   "display_name": "Python 3.9.5 64-bit ('machine_L': venv)"
  }
 },
 "nbformat": 4,
 "nbformat_minor": 2,
 "cells": [
  {
   "cell_type": "code",
   "execution_count": 1,
   "metadata": {},
   "outputs": [],
   "source": [
    "import numpy as np \n",
    "import pandas as pd \n",
    "from sklearn.cluster import KMeans\n",
    "from sklearn.metrics import silhouette_samples,silhouette_score\n",
    "import matplotlib.pyplot as plt \n",
    "from mpl_toolkits import mplot3d\n",
    "\n",
    "%matplotlib inline\n",
    "pd.set_option('display.max_columns', 500)"
   ]
  },
  {
   "source": [
    "## Loading the data"
   ],
   "cell_type": "markdown",
   "metadata": {}
  },
  {
   "cell_type": "code",
   "execution_count": 2,
   "metadata": {},
   "outputs": [],
   "source": [
    "dropout = pd.read_excel(r\"C:/Users/ADMIN/Documents/Codebase/Data-science-projects/Education/data/dropout.xls\")\n",
    "enrollments = pd.read_excel(r\"C:/Users/ADMIN/Documents/Codebase/Data-science-projects/Education/data/enrollment.xls\")\n",
    "drinks = pd.read_excel(r\"C:/Users/ADMIN/Documents/Codebase/Data-science-projects/Education/data/drinking_water.xls\")\n",
    "computers = pd.read_excel(r\"C:/Users/ADMIN/Documents/Codebase/Data-science-projects/Education/data/computers.xls\")\n",
    "electricity = pd.read_excel(r\"C:/Users/ADMIN/Documents/Codebase/Data-science-projects/Education/data/electricity.xls\")\n",
    "boys_toilet = pd.read_excel(r\"C:/Users/ADMIN/Documents/Codebase/Data-science-projects/Education/data/boys_toilet.xls\")\n",
    "girls_toilet = pd.read_excel(r\"C:/Users/ADMIN/Documents/Codebase/Data-science-projects/Education/data/girls_toilet.xls\")"
   ]
  },
  {
   "source": [
    "## Data preparation"
   ],
   "cell_type": "markdown",
   "metadata": {}
  },
  {
   "cell_type": "code",
   "execution_count": 3,
   "metadata": {},
   "outputs": [],
   "source": [
    "def returner(xx):\n",
    "    x=[]\n",
    "    for i in range(36):\n",
    "        x.append(xx[['State','All Schools']].loc[3*i])  \n",
    "    x=pd.DataFrame(x)\n",
    "    x.set_index('State', inplace=True)\n",
    "    return x"
   ]
  },
  {
   "cell_type": "code",
   "execution_count": 4,
   "metadata": {},
   "outputs": [],
   "source": [
    "enrollments['Higher_Secondary_Boys']=enrollments['Higher_Secondary_Boys'].astype('float')\n",
    "enrollments['Higher_Secondary_Girls']=enrollments['Higher_Secondary_Girls'].astype('int')\n",
    "enrollments['Higher_Secondary_Total']=enrollments['Higher_Secondary_Total'].astype('int')   \n",
    "drinks=returner(drinks)\n",
    "drinks.columns=['Drinking water']\n",
    "electricity=returner(electricity)\n",
    "electricity.columns=['Electricity']\n",
    "computers=returner(computers)\n",
    "computers.columns=[\"Computer\"]\n",
    "boys_t=returner(boys_toilet)\n",
    "boys_t.columns=['Boys toilet']\n",
    "girls_t=returner(girls_toilet)\n",
    "girls_t.columns=['Girls toilet']\n",
    "factors=pd.concat([drinks,electricity,computers,boys_t,girls_t],axis=1)\n",
    "factors.reset_index(inplace=True)"
   ]
  },
  {
   "cell_type": "code",
   "execution_count": 5,
   "metadata": {},
   "outputs": [],
   "source": [
    "states=[]\n",
    "for i in range(36):\n",
    "    states.append(dropout.State.iloc[3*i])\n",
    "states=pd.DataFrame(states, columns=['State'])\n",
    "\n",
    "def create_aggregate(inp):\n",
    "    inp.drop(['State','Year'],axis=1,inplace=True)\n",
    "\n",
    "    x=pd.DataFrame()\n",
    "    for i in range(36):\n",
    "        x[i]=inp.iloc[3*i+0:i*3+3,:].mean()\n",
    "    x=x.transpose() \n",
    "    return x"
   ]
  },
  {
   "source": [
    "## Data exploration"
   ],
   "cell_type": "markdown",
   "metadata": {}
  },
  {
   "cell_type": "code",
   "execution_count": 6,
   "metadata": {},
   "outputs": [
    {
     "output_type": "stream",
     "name": "stdout",
     "text": [
      "\n Correlation between enrollment rates at different stages of schooling\n\n"
     ]
    },
    {
     "output_type": "execute_result",
     "data": {
      "text/plain": [
       "<pandas.io.formats.style.Styler at 0x25b22a4c790>"
      ],
      "text/html": "<style  type=\"text/css\" >\n#T_eda61_row0_col0,#T_eda61_row1_col1,#T_eda61_row2_col2,#T_eda61_row3_col3{\n            background-color:  #b40426;\n            color:  #f1f1f1;\n        }#T_eda61_row0_col1{\n            background-color:  #f7b89c;\n            color:  #000000;\n        }#T_eda61_row0_col2,#T_eda61_row0_col3,#T_eda61_row3_col0,#T_eda61_row3_col1{\n            background-color:  #3b4cc0;\n            color:  #f1f1f1;\n        }#T_eda61_row1_col0{\n            background-color:  #f49a7b;\n            color:  #000000;\n        }#T_eda61_row1_col2{\n            background-color:  #cdd9ec;\n            color:  #000000;\n        }#T_eda61_row1_col3{\n            background-color:  #89acfd;\n            color:  #000000;\n        }#T_eda61_row2_col0{\n            background-color:  #97b8ff;\n            color:  #000000;\n        }#T_eda61_row2_col1{\n            background-color:  #d5dbe5;\n            color:  #000000;\n        }#T_eda61_row2_col3{\n            background-color:  #f6a586;\n            color:  #000000;\n        }#T_eda61_row3_col2{\n            background-color:  #f3c8b2;\n            color:  #000000;\n        }</style><table id=\"T_eda61_\" ><thead>    <tr>        <th class=\"blank level0\" ></th>        <th class=\"col_heading level0 col0\" >Primary_Total</th>        <th class=\"col_heading level0 col1\" >Upper_Primary_Total</th>        <th class=\"col_heading level0 col2\" >Secondary_Total</th>        <th class=\"col_heading level0 col3\" >Higher_Secondary_Total</th>    </tr></thead><tbody>\n                <tr>\n                        <th id=\"T_eda61_level0_row0\" class=\"row_heading level0 row0\" >Primary_Total</th>\n                        <td id=\"T_eda61_row0_col0\" class=\"data row0 col0\" >1.000000</td>\n                        <td id=\"T_eda61_row0_col1\" class=\"data row0 col1\" >0.691324</td>\n                        <td id=\"T_eda61_row0_col2\" class=\"data row0 col2\" >0.122769</td>\n                        <td id=\"T_eda61_row0_col3\" class=\"data row0 col3\" >-0.216003</td>\n            </tr>\n            <tr>\n                        <th id=\"T_eda61_level0_row1\" class=\"row_heading level0 row1\" >Upper_Primary_Total</th>\n                        <td id=\"T_eda61_row1_col0\" class=\"data row1 col0\" >0.691324</td>\n                        <td id=\"T_eda61_row1_col1\" class=\"data row1 col1\" >1.000000</td>\n                        <td id=\"T_eda61_row1_col2\" class=\"data row1 col2\" >0.513059</td>\n                        <td id=\"T_eda61_row1_col3\" class=\"data row1 col3\" >0.076870</td>\n            </tr>\n            <tr>\n                        <th id=\"T_eda61_level0_row2\" class=\"row_heading level0 row2\" >Secondary_Total</th>\n                        <td id=\"T_eda61_row2_col0\" class=\"data row2 col0\" >0.122769</td>\n                        <td id=\"T_eda61_row2_col1\" class=\"data row2 col1\" >0.513059</td>\n                        <td id=\"T_eda61_row2_col2\" class=\"data row2 col2\" >1.000000</td>\n                        <td id=\"T_eda61_row2_col3\" class=\"data row2 col3\" >0.659823</td>\n            </tr>\n            <tr>\n                        <th id=\"T_eda61_level0_row3\" class=\"row_heading level0 row3\" >Higher_Secondary_Total</th>\n                        <td id=\"T_eda61_row3_col0\" class=\"data row3 col0\" >-0.216003</td>\n                        <td id=\"T_eda61_row3_col1\" class=\"data row3 col1\" >0.076870</td>\n                        <td id=\"T_eda61_row3_col2\" class=\"data row3 col2\" >0.659823</td>\n                        <td id=\"T_eda61_row3_col3\" class=\"data row3 col3\" >1.000000</td>\n            </tr>\n    </tbody></table>"
     },
     "metadata": {},
     "execution_count": 6
    }
   ],
   "source": [
    "print(\"\\n Correlation between enrollment rates at different stages of schooling\\n\")\n",
    "enrollments[['Primary_Total', 'Upper_Primary_Total', 'Secondary_Total','Higher_Secondary_Total']].corr(method='spearman').style.background_gradient(cmap='coolwarm')"
   ]
  },
  {
   "cell_type": "code",
   "execution_count": 7,
   "metadata": {},
   "outputs": [
    {
     "output_type": "stream",
     "name": "stdout",
     "text": [
      "\n Correlation between dropout rates at different stages of schooling\n\n"
     ]
    },
    {
     "output_type": "execute_result",
     "data": {
      "text/plain": [
       "<pandas.io.formats.style.Styler at 0x25b22bd0280>"
      ],
      "text/html": "<style  type=\"text/css\" >\n#T_8b7fd_row0_col0,#T_8b7fd_row1_col1,#T_8b7fd_row2_col2,#T_8b7fd_row3_col3{\n            background-color:  #b40426;\n            color:  #f1f1f1;\n        }#T_8b7fd_row0_col1{\n            background-color:  #f18d6f;\n            color:  #000000;\n        }#T_8b7fd_row0_col2{\n            background-color:  #d7dce3;\n            color:  #000000;\n        }#T_8b7fd_row0_col3,#T_8b7fd_row3_col0,#T_8b7fd_row3_col1,#T_8b7fd_row3_col2{\n            background-color:  #3b4cc0;\n            color:  #f1f1f1;\n        }#T_8b7fd_row1_col0{\n            background-color:  #ee8468;\n            color:  #000000;\n        }#T_8b7fd_row1_col2{\n            background-color:  #f7b89c;\n            color:  #000000;\n        }#T_8b7fd_row1_col3{\n            background-color:  #5572df;\n            color:  #000000;\n        }#T_8b7fd_row2_col0{\n            background-color:  #dfdbd9;\n            color:  #000000;\n        }#T_8b7fd_row2_col1{\n            background-color:  #f7bca1;\n            color:  #000000;\n        }#T_8b7fd_row2_col3{\n            background-color:  #4b64d5;\n            color:  #f1f1f1;\n        }</style><table id=\"T_8b7fd_\" ><thead>    <tr>        <th class=\"blank level0\" ></th>        <th class=\"col_heading level0 col0\" >PRIMARY_TOTAL</th>        <th class=\"col_heading level0 col1\" >UPPER_PRIMARY_TOTAL</th>        <th class=\"col_heading level0 col2\" >SECONDARY_TOTAL</th>        <th class=\"col_heading level0 col3\" >HRSECONDARY_TOTAL</th>    </tr></thead><tbody>\n                <tr>\n                        <th id=\"T_8b7fd_level0_row0\" class=\"row_heading level0 row0\" >PRIMARY_TOTAL</th>\n                        <td id=\"T_8b7fd_row0_col0\" class=\"data row0 col0\" >1.000000</td>\n                        <td id=\"T_8b7fd_row0_col1\" class=\"data row0 col1\" >0.748033</td>\n                        <td id=\"T_8b7fd_row0_col2\" class=\"data row0 col2\" >0.384132</td>\n                        <td id=\"T_8b7fd_row0_col3\" class=\"data row0 col3\" >-0.255152</td>\n            </tr>\n            <tr>\n                        <th id=\"T_8b7fd_level0_row1\" class=\"row_heading level0 row1\" >UPPER_PRIMARY_TOTAL</th>\n                        <td id=\"T_8b7fd_row1_col0\" class=\"data row1 col0\" >0.748033</td>\n                        <td id=\"T_8b7fd_row1_col1\" class=\"data row1 col1\" >1.000000</td>\n                        <td id=\"T_8b7fd_row1_col2\" class=\"data row1 col2\" >0.605983</td>\n                        <td id=\"T_8b7fd_row1_col3\" class=\"data row1 col3\" >-0.144547</td>\n            </tr>\n            <tr>\n                        <th id=\"T_8b7fd_level0_row2\" class=\"row_heading level0 row2\" >SECONDARY_TOTAL</th>\n                        <td id=\"T_8b7fd_row2_col0\" class=\"data row2 col0\" >0.384132</td>\n                        <td id=\"T_8b7fd_row2_col1\" class=\"data row2 col1\" >0.605983</td>\n                        <td id=\"T_8b7fd_row2_col2\" class=\"data row2 col2\" >1.000000</td>\n                        <td id=\"T_8b7fd_row2_col3\" class=\"data row2 col3\" >-0.183079</td>\n            </tr>\n            <tr>\n                        <th id=\"T_8b7fd_level0_row3\" class=\"row_heading level0 row3\" >HRSECONDARY_TOTAL</th>\n                        <td id=\"T_8b7fd_row3_col0\" class=\"data row3 col0\" >-0.255152</td>\n                        <td id=\"T_8b7fd_row3_col1\" class=\"data row3 col1\" >-0.144547</td>\n                        <td id=\"T_8b7fd_row3_col2\" class=\"data row3 col2\" >-0.183079</td>\n                        <td id=\"T_8b7fd_row3_col3\" class=\"data row3 col3\" >1.000000</td>\n            </tr>\n    </tbody></table>"
     },
     "metadata": {},
     "execution_count": 7
    }
   ],
   "source": [
    "print(\"\\n Correlation between dropout rates at different stages of schooling\\n\")\n",
    "dropout[['PRIMARY_TOTAL', 'UPPER_PRIMARY_TOTAL', 'SECONDARY_TOTAL','HRSECONDARY_TOTAL']].corr(method='spearman').style.background_gradient(cmap='coolwarm')"
   ]
  },
  {
   "cell_type": "code",
   "execution_count": 8,
   "metadata": {},
   "outputs": [
    {
     "output_type": "execute_result",
     "data": {
      "text/plain": [
       "<pandas.io.formats.style.Styler at 0x25b22a4c6d0>"
      ],
      "text/html": "<style  type=\"text/css\" >\n#T_05c79_row0_col0,#T_05c79_row1_col1,#T_05c79_row2_col2,#T_05c79_row3_col3,#T_05c79_row4_col4{\n            background-color:  #b40426;\n            color:  #f1f1f1;\n        }#T_05c79_row0_col1{\n            background-color:  #f4c5ad;\n            color:  #000000;\n        }#T_05c79_row0_col2{\n            background-color:  #98b9ff;\n            color:  #000000;\n        }#T_05c79_row0_col3{\n            background-color:  #6a8bef;\n            color:  #000000;\n        }#T_05c79_row0_col4,#T_05c79_row1_col3,#T_05c79_row3_col1,#T_05c79_row3_col2,#T_05c79_row4_col0{\n            background-color:  #3b4cc0;\n            color:  #f1f1f1;\n        }#T_05c79_row1_col0{\n            background-color:  #f5c2aa;\n            color:  #000000;\n        }#T_05c79_row1_col2,#T_05c79_row3_col4{\n            background-color:  #f7bca1;\n            color:  #000000;\n        }#T_05c79_row1_col4{\n            background-color:  #7699f6;\n            color:  #000000;\n        }#T_05c79_row2_col0{\n            background-color:  #a1c0ff;\n            color:  #000000;\n        }#T_05c79_row2_col1{\n            background-color:  #f7ba9f;\n            color:  #000000;\n        }#T_05c79_row2_col3{\n            background-color:  #3f53c6;\n            color:  #f1f1f1;\n        }#T_05c79_row2_col4{\n            background-color:  #688aef;\n            color:  #000000;\n        }#T_05c79_row3_col0{\n            background-color:  #6e90f2;\n            color:  #000000;\n        }#T_05c79_row4_col1{\n            background-color:  #7295f4;\n            color:  #000000;\n        }#T_05c79_row4_col2{\n            background-color:  #5f7fe8;\n            color:  #000000;\n        }#T_05c79_row4_col3{\n            background-color:  #f6bda2;\n            color:  #000000;\n        }</style><table id=\"T_05c79_\" ><thead>    <tr>        <th class=\"blank level0\" ></th>        <th class=\"col_heading level0 col0\" >Drinking water</th>        <th class=\"col_heading level0 col1\" >Electricity</th>        <th class=\"col_heading level0 col2\" >Computer</th>        <th class=\"col_heading level0 col3\" >Boys toilet</th>        <th class=\"col_heading level0 col4\" >Girls toilet</th>    </tr></thead><tbody>\n                <tr>\n                        <th id=\"T_05c79_level0_row0\" class=\"row_heading level0 row0\" >Drinking water</th>\n                        <td id=\"T_05c79_row0_col0\" class=\"data row0 col0\" >1.000000</td>\n                        <td id=\"T_05c79_row0_col1\" class=\"data row0 col1\" >0.865238</td>\n                        <td id=\"T_05c79_row0_col2\" class=\"data row0 col2\" >0.748390</td>\n                        <td id=\"T_05c79_row0_col3\" class=\"data row0 col3\" >0.696139</td>\n                        <td id=\"T_05c79_row0_col4\" class=\"data row0 col4\" >0.636747</td>\n            </tr>\n            <tr>\n                        <th id=\"T_05c79_level0_row1\" class=\"row_heading level0 row1\" >Electricity</th>\n                        <td id=\"T_05c79_row1_col0\" class=\"data row1 col0\" >0.865238</td>\n                        <td id=\"T_05c79_row1_col1\" class=\"data row1 col1\" >1.000000</td>\n                        <td id=\"T_05c79_row1_col2\" class=\"data row1 col2\" >0.878351</td>\n                        <td id=\"T_05c79_row1_col3\" class=\"data row1 col3\" >0.642424</td>\n                        <td id=\"T_05c79_row1_col4\" class=\"data row1 col4\" >0.704691</td>\n            </tr>\n            <tr>\n                        <th id=\"T_05c79_level0_row2\" class=\"row_heading level0 row2\" >Computer</th>\n                        <td id=\"T_05c79_row2_col0\" class=\"data row2 col0\" >0.748390</td>\n                        <td id=\"T_05c79_row2_col1\" class=\"data row2 col1\" >0.878351</td>\n                        <td id=\"T_05c79_row2_col2\" class=\"data row2 col2\" >1.000000</td>\n                        <td id=\"T_05c79_row2_col3\" class=\"data row2 col3\" >0.648551</td>\n                        <td id=\"T_05c79_row2_col4\" class=\"data row2 col4\" >0.690509</td>\n            </tr>\n            <tr>\n                        <th id=\"T_05c79_level0_row3\" class=\"row_heading level0 row3\" >Boys toilet</th>\n                        <td id=\"T_05c79_row3_col0\" class=\"data row3 col0\" >0.696139</td>\n                        <td id=\"T_05c79_row3_col1\" class=\"data row3 col1\" >0.642424</td>\n                        <td id=\"T_05c79_row3_col2\" class=\"data row3 col2\" >0.648551</td>\n                        <td id=\"T_05c79_row3_col3\" class=\"data row3 col3\" >1.000000</td>\n                        <td id=\"T_05c79_row3_col4\" class=\"data row3 col4\" >0.874460</td>\n            </tr>\n            <tr>\n                        <th id=\"T_05c79_level0_row4\" class=\"row_heading level0 row4\" >Girls toilet</th>\n                        <td id=\"T_05c79_row4_col0\" class=\"data row4 col0\" >0.636747</td>\n                        <td id=\"T_05c79_row4_col1\" class=\"data row4 col1\" >0.704691</td>\n                        <td id=\"T_05c79_row4_col2\" class=\"data row4 col2\" >0.690509</td>\n                        <td id=\"T_05c79_row4_col3\" class=\"data row4 col3\" >0.874460</td>\n                        <td id=\"T_05c79_row4_col4\" class=\"data row4 col4\" >1.000000</td>\n            </tr>\n    </tbody></table>"
     },
     "metadata": {},
     "execution_count": 8
    }
   ],
   "source": [
    "factors.corr(method='spearman').style.background_gradient(cmap=\"coolwarm\")"
   ]
  },
  {
   "source": [
    "## Clustering"
   ],
   "cell_type": "markdown",
   "metadata": {}
  },
  {
   "cell_type": "code",
   "execution_count": 9,
   "metadata": {},
   "outputs": [],
   "source": [
    "def create_clusters(inx, groupon):\n",
    "\n",
    "    scores=[]\n",
    "    for i in range(4,36):\n",
    "        k=KMeans(n_clusters=i,n_init=500, max_iter=500)\n",
    "        k.fit(inx[groupon])\n",
    "        label=KMeans.predict(k,inx[groupon])\n",
    "        scores.append(silhouette_score(inx, label))\n",
    "\n",
    "    pd.DataFrame(scores).plot()\n",
    "    best_cluster_no=np.argmax(scores[2:36])+2\n",
    "    plt.axvline(best_cluster_no)\n",
    "    plt.text(best_cluster_no, 0.34,s=f\"Max silhoutte score at n={best_cluster_no}\")\n",
    "    plt.xlabel(\"No. of clusters\")\n",
    "    plt.ylabel(\"Silhoutte score\")\n",
    "    kk=KMeans(n_clusters=best_cluster_no)\n",
    "\n",
    "    kk.fit(inx[groupon])\n",
    "    lab = pd.DataFrame(kk.labels_,columns=['Labels'])\n",
    "    result=pd.concat([states['State'],inx,lab['Labels']],axis=1)\n",
    "    return result"
   ]
  },
  {
   "cell_type": "code",
   "execution_count": 10,
   "metadata": {},
   "outputs": [],
   "source": [
    "def return_clusters(result):\n",
    "    grouping=result[['State','Labels']]\n",
    "    clusters=pd.DataFrame()\n",
    "    for l in grouping.Labels.unique():\n",
    "        clusters=pd.concat([clusters,pd.Series(np.array(grouping.State[grouping.Labels==l]), name=f\"Cluster {l}\").to_frame()],axis=1)\n",
    "    clusters.replace({np.nan:'-'},inplace=True)\n",
    "    clusters.sort_index(axis=1, inplace=True)    \n",
    "    return clusters"
   ]
  },
  {
   "source": [
    "## Dropouts"
   ],
   "cell_type": "markdown",
   "metadata": {}
  },
  {
   "cell_type": "code",
   "execution_count": 11,
   "metadata": {},
   "outputs": [
    {
     "output_type": "display_data",
     "data": {
      "text/plain": "<Figure size 432x288 with 1 Axes>",
      "image/svg+xml": "<?xml version=\"1.0\" encoding=\"utf-8\" standalone=\"no\"?>\r\n<!DOCTYPE svg PUBLIC \"-//W3C//DTD SVG 1.1//EN\"\r\n  \"http://www.w3.org/Graphics/SVG/1.1/DTD/svg11.dtd\">\r\n<svg height=\"288.783099pt\" version=\"1.1\" viewBox=\"0 0 392.14375 288.783099\" width=\"392.14375pt\" xmlns=\"http://www.w3.org/2000/svg\" xmlns:xlink=\"http://www.w3.org/1999/xlink\">\r\n <metadata>\r\n  <rdf:RDF xmlns:cc=\"http://creativecommons.org/ns#\" xmlns:dc=\"http://purl.org/dc/elements/1.1/\" xmlns:rdf=\"http://www.w3.org/1999/02/22-rdf-syntax-ns#\">\r\n   <cc:Work>\r\n    <dc:type rdf:resource=\"http://purl.org/dc/dcmitype/StillImage\"/>\r\n    <dc:date>2021-05-26T23:38:25.725155</dc:date>\r\n    <dc:format>image/svg+xml</dc:format>\r\n    <dc:creator>\r\n     <cc:Agent>\r\n      <dc:title>Matplotlib v3.4.2, https://matplotlib.org/</dc:title>\r\n     </cc:Agent>\r\n    </dc:creator>\r\n   </cc:Work>\r\n  </rdf:RDF>\r\n </metadata>\r\n <defs>\r\n  <style type=\"text/css\">*{stroke-linecap:butt;stroke-linejoin:round;}</style>\r\n </defs>\r\n <g id=\"figure_1\">\r\n  <g id=\"patch_1\">\r\n   <path d=\"M 0 288.783099 \r\nL 392.14375 288.783099 \r\nL 392.14375 0 \r\nL 0 0 \r\nz\r\n\" style=\"fill:none;\"/>\r\n  </g>\r\n  <g id=\"axes_1\">\r\n   <g id=\"patch_2\">\r\n    <path d=\"M 50.14375 251.226849 \r\nL 384.94375 251.226849 \r\nL 384.94375 33.786849 \r\nL 50.14375 33.786849 \r\nz\r\n\" style=\"fill:#ffffff;\"/>\r\n   </g>\r\n   <g id=\"matplotlib.axis_1\">\r\n    <g id=\"xtick_1\">\r\n     <g id=\"line2d_1\">\r\n      <defs>\r\n       <path d=\"M 0 0 \r\nL 0 3.5 \r\n\" id=\"m3643568a99\" style=\"stroke:#000000;stroke-width:0.8;\"/>\r\n      </defs>\r\n      <g>\r\n       <use style=\"stroke:#000000;stroke-width:0.8;\" x=\"65.361932\" xlink:href=\"#m3643568a99\" y=\"251.226849\"/>\r\n      </g>\r\n     </g>\r\n     <g id=\"text_1\">\r\n      <!-- 0 -->\r\n      <g transform=\"translate(62.180682 265.825286)scale(0.1 -0.1)\">\r\n       <defs>\r\n        <path d=\"M 2034 4250 \r\nQ 1547 4250 1301 3770 \r\nQ 1056 3291 1056 2328 \r\nQ 1056 1369 1301 889 \r\nQ 1547 409 2034 409 \r\nQ 2525 409 2770 889 \r\nQ 3016 1369 3016 2328 \r\nQ 3016 3291 2770 3770 \r\nQ 2525 4250 2034 4250 \r\nz\r\nM 2034 4750 \r\nQ 2819 4750 3233 4129 \r\nQ 3647 3509 3647 2328 \r\nQ 3647 1150 3233 529 \r\nQ 2819 -91 2034 -91 \r\nQ 1250 -91 836 529 \r\nQ 422 1150 422 2328 \r\nQ 422 3509 836 4129 \r\nQ 1250 4750 2034 4750 \r\nz\r\n\" id=\"DejaVuSans-30\" transform=\"scale(0.015625)\"/>\r\n       </defs>\r\n       <use xlink:href=\"#DejaVuSans-30\"/>\r\n      </g>\r\n     </g>\r\n    </g>\r\n    <g id=\"xtick_2\">\r\n     <g id=\"line2d_2\">\r\n      <g>\r\n       <use style=\"stroke:#000000;stroke-width:0.8;\" x=\"114.452841\" xlink:href=\"#m3643568a99\" y=\"251.226849\"/>\r\n      </g>\r\n     </g>\r\n     <g id=\"text_2\">\r\n      <!-- 5 -->\r\n      <g transform=\"translate(111.271591 265.825286)scale(0.1 -0.1)\">\r\n       <defs>\r\n        <path d=\"M 691 4666 \r\nL 3169 4666 \r\nL 3169 4134 \r\nL 1269 4134 \r\nL 1269 2991 \r\nQ 1406 3038 1543 3061 \r\nQ 1681 3084 1819 3084 \r\nQ 2600 3084 3056 2656 \r\nQ 3513 2228 3513 1497 \r\nQ 3513 744 3044 326 \r\nQ 2575 -91 1722 -91 \r\nQ 1428 -91 1123 -41 \r\nQ 819 9 494 109 \r\nL 494 744 \r\nQ 775 591 1075 516 \r\nQ 1375 441 1709 441 \r\nQ 2250 441 2565 725 \r\nQ 2881 1009 2881 1497 \r\nQ 2881 1984 2565 2268 \r\nQ 2250 2553 1709 2553 \r\nQ 1456 2553 1204 2497 \r\nQ 953 2441 691 2322 \r\nL 691 4666 \r\nz\r\n\" id=\"DejaVuSans-35\" transform=\"scale(0.015625)\"/>\r\n       </defs>\r\n       <use xlink:href=\"#DejaVuSans-35\"/>\r\n      </g>\r\n     </g>\r\n    </g>\r\n    <g id=\"xtick_3\">\r\n     <g id=\"line2d_3\">\r\n      <g>\r\n       <use style=\"stroke:#000000;stroke-width:0.8;\" x=\"163.54375\" xlink:href=\"#m3643568a99\" y=\"251.226849\"/>\r\n      </g>\r\n     </g>\r\n     <g id=\"text_3\">\r\n      <!-- 10 -->\r\n      <g transform=\"translate(157.18125 265.825286)scale(0.1 -0.1)\">\r\n       <defs>\r\n        <path d=\"M 794 531 \r\nL 1825 531 \r\nL 1825 4091 \r\nL 703 3866 \r\nL 703 4441 \r\nL 1819 4666 \r\nL 2450 4666 \r\nL 2450 531 \r\nL 3481 531 \r\nL 3481 0 \r\nL 794 0 \r\nL 794 531 \r\nz\r\n\" id=\"DejaVuSans-31\" transform=\"scale(0.015625)\"/>\r\n       </defs>\r\n       <use xlink:href=\"#DejaVuSans-31\"/>\r\n       <use x=\"63.623047\" xlink:href=\"#DejaVuSans-30\"/>\r\n      </g>\r\n     </g>\r\n    </g>\r\n    <g id=\"xtick_4\">\r\n     <g id=\"line2d_4\">\r\n      <g>\r\n       <use style=\"stroke:#000000;stroke-width:0.8;\" x=\"212.634659\" xlink:href=\"#m3643568a99\" y=\"251.226849\"/>\r\n      </g>\r\n     </g>\r\n     <g id=\"text_4\">\r\n      <!-- 15 -->\r\n      <g transform=\"translate(206.272159 265.825286)scale(0.1 -0.1)\">\r\n       <use xlink:href=\"#DejaVuSans-31\"/>\r\n       <use x=\"63.623047\" xlink:href=\"#DejaVuSans-35\"/>\r\n      </g>\r\n     </g>\r\n    </g>\r\n    <g id=\"xtick_5\">\r\n     <g id=\"line2d_5\">\r\n      <g>\r\n       <use style=\"stroke:#000000;stroke-width:0.8;\" x=\"261.725568\" xlink:href=\"#m3643568a99\" y=\"251.226849\"/>\r\n      </g>\r\n     </g>\r\n     <g id=\"text_5\">\r\n      <!-- 20 -->\r\n      <g transform=\"translate(255.363068 265.825286)scale(0.1 -0.1)\">\r\n       <defs>\r\n        <path d=\"M 1228 531 \r\nL 3431 531 \r\nL 3431 0 \r\nL 469 0 \r\nL 469 531 \r\nQ 828 903 1448 1529 \r\nQ 2069 2156 2228 2338 \r\nQ 2531 2678 2651 2914 \r\nQ 2772 3150 2772 3378 \r\nQ 2772 3750 2511 3984 \r\nQ 2250 4219 1831 4219 \r\nQ 1534 4219 1204 4116 \r\nQ 875 4013 500 3803 \r\nL 500 4441 \r\nQ 881 4594 1212 4672 \r\nQ 1544 4750 1819 4750 \r\nQ 2544 4750 2975 4387 \r\nQ 3406 4025 3406 3419 \r\nQ 3406 3131 3298 2873 \r\nQ 3191 2616 2906 2266 \r\nQ 2828 2175 2409 1742 \r\nQ 1991 1309 1228 531 \r\nz\r\n\" id=\"DejaVuSans-32\" transform=\"scale(0.015625)\"/>\r\n       </defs>\r\n       <use xlink:href=\"#DejaVuSans-32\"/>\r\n       <use x=\"63.623047\" xlink:href=\"#DejaVuSans-30\"/>\r\n      </g>\r\n     </g>\r\n    </g>\r\n    <g id=\"xtick_6\">\r\n     <g id=\"line2d_6\">\r\n      <g>\r\n       <use style=\"stroke:#000000;stroke-width:0.8;\" x=\"310.816477\" xlink:href=\"#m3643568a99\" y=\"251.226849\"/>\r\n      </g>\r\n     </g>\r\n     <g id=\"text_6\">\r\n      <!-- 25 -->\r\n      <g transform=\"translate(304.453977 265.825286)scale(0.1 -0.1)\">\r\n       <use xlink:href=\"#DejaVuSans-32\"/>\r\n       <use x=\"63.623047\" xlink:href=\"#DejaVuSans-35\"/>\r\n      </g>\r\n     </g>\r\n    </g>\r\n    <g id=\"xtick_7\">\r\n     <g id=\"line2d_7\">\r\n      <g>\r\n       <use style=\"stroke:#000000;stroke-width:0.8;\" x=\"359.907386\" xlink:href=\"#m3643568a99\" y=\"251.226849\"/>\r\n      </g>\r\n     </g>\r\n     <g id=\"text_7\">\r\n      <!-- 30 -->\r\n      <g transform=\"translate(353.544886 265.825286)scale(0.1 -0.1)\">\r\n       <defs>\r\n        <path d=\"M 2597 2516 \r\nQ 3050 2419 3304 2112 \r\nQ 3559 1806 3559 1356 \r\nQ 3559 666 3084 287 \r\nQ 2609 -91 1734 -91 \r\nQ 1441 -91 1130 -33 \r\nQ 819 25 488 141 \r\nL 488 750 \r\nQ 750 597 1062 519 \r\nQ 1375 441 1716 441 \r\nQ 2309 441 2620 675 \r\nQ 2931 909 2931 1356 \r\nQ 2931 1769 2642 2001 \r\nQ 2353 2234 1838 2234 \r\nL 1294 2234 \r\nL 1294 2753 \r\nL 1863 2753 \r\nQ 2328 2753 2575 2939 \r\nQ 2822 3125 2822 3475 \r\nQ 2822 3834 2567 4026 \r\nQ 2313 4219 1838 4219 \r\nQ 1578 4219 1281 4162 \r\nQ 984 4106 628 3988 \r\nL 628 4550 \r\nQ 988 4650 1302 4700 \r\nQ 1616 4750 1894 4750 \r\nQ 2613 4750 3031 4423 \r\nQ 3450 4097 3450 3541 \r\nQ 3450 3153 3228 2886 \r\nQ 3006 2619 2597 2516 \r\nz\r\n\" id=\"DejaVuSans-33\" transform=\"scale(0.015625)\"/>\r\n       </defs>\r\n       <use xlink:href=\"#DejaVuSans-33\"/>\r\n       <use x=\"63.623047\" xlink:href=\"#DejaVuSans-30\"/>\r\n      </g>\r\n     </g>\r\n    </g>\r\n    <g id=\"text_8\">\r\n     <!-- No. of clusters -->\r\n     <g transform=\"translate(181.635938 279.503411)scale(0.1 -0.1)\">\r\n      <defs>\r\n       <path d=\"M 628 4666 \r\nL 1478 4666 \r\nL 3547 763 \r\nL 3547 4666 \r\nL 4159 4666 \r\nL 4159 0 \r\nL 3309 0 \r\nL 1241 3903 \r\nL 1241 0 \r\nL 628 0 \r\nL 628 4666 \r\nz\r\n\" id=\"DejaVuSans-4e\" transform=\"scale(0.015625)\"/>\r\n       <path d=\"M 1959 3097 \r\nQ 1497 3097 1228 2736 \r\nQ 959 2375 959 1747 \r\nQ 959 1119 1226 758 \r\nQ 1494 397 1959 397 \r\nQ 2419 397 2687 759 \r\nQ 2956 1122 2956 1747 \r\nQ 2956 2369 2687 2733 \r\nQ 2419 3097 1959 3097 \r\nz\r\nM 1959 3584 \r\nQ 2709 3584 3137 3096 \r\nQ 3566 2609 3566 1747 \r\nQ 3566 888 3137 398 \r\nQ 2709 -91 1959 -91 \r\nQ 1206 -91 779 398 \r\nQ 353 888 353 1747 \r\nQ 353 2609 779 3096 \r\nQ 1206 3584 1959 3584 \r\nz\r\n\" id=\"DejaVuSans-6f\" transform=\"scale(0.015625)\"/>\r\n       <path d=\"M 684 794 \r\nL 1344 794 \r\nL 1344 0 \r\nL 684 0 \r\nL 684 794 \r\nz\r\n\" id=\"DejaVuSans-2e\" transform=\"scale(0.015625)\"/>\r\n       <path id=\"DejaVuSans-20\" transform=\"scale(0.015625)\"/>\r\n       <path d=\"M 2375 4863 \r\nL 2375 4384 \r\nL 1825 4384 \r\nQ 1516 4384 1395 4259 \r\nQ 1275 4134 1275 3809 \r\nL 1275 3500 \r\nL 2222 3500 \r\nL 2222 3053 \r\nL 1275 3053 \r\nL 1275 0 \r\nL 697 0 \r\nL 697 3053 \r\nL 147 3053 \r\nL 147 3500 \r\nL 697 3500 \r\nL 697 3744 \r\nQ 697 4328 969 4595 \r\nQ 1241 4863 1831 4863 \r\nL 2375 4863 \r\nz\r\n\" id=\"DejaVuSans-66\" transform=\"scale(0.015625)\"/>\r\n       <path d=\"M 3122 3366 \r\nL 3122 2828 \r\nQ 2878 2963 2633 3030 \r\nQ 2388 3097 2138 3097 \r\nQ 1578 3097 1268 2742 \r\nQ 959 2388 959 1747 \r\nQ 959 1106 1268 751 \r\nQ 1578 397 2138 397 \r\nQ 2388 397 2633 464 \r\nQ 2878 531 3122 666 \r\nL 3122 134 \r\nQ 2881 22 2623 -34 \r\nQ 2366 -91 2075 -91 \r\nQ 1284 -91 818 406 \r\nQ 353 903 353 1747 \r\nQ 353 2603 823 3093 \r\nQ 1294 3584 2113 3584 \r\nQ 2378 3584 2631 3529 \r\nQ 2884 3475 3122 3366 \r\nz\r\n\" id=\"DejaVuSans-63\" transform=\"scale(0.015625)\"/>\r\n       <path d=\"M 603 4863 \r\nL 1178 4863 \r\nL 1178 0 \r\nL 603 0 \r\nL 603 4863 \r\nz\r\n\" id=\"DejaVuSans-6c\" transform=\"scale(0.015625)\"/>\r\n       <path d=\"M 544 1381 \r\nL 544 3500 \r\nL 1119 3500 \r\nL 1119 1403 \r\nQ 1119 906 1312 657 \r\nQ 1506 409 1894 409 \r\nQ 2359 409 2629 706 \r\nQ 2900 1003 2900 1516 \r\nL 2900 3500 \r\nL 3475 3500 \r\nL 3475 0 \r\nL 2900 0 \r\nL 2900 538 \r\nQ 2691 219 2414 64 \r\nQ 2138 -91 1772 -91 \r\nQ 1169 -91 856 284 \r\nQ 544 659 544 1381 \r\nz\r\nM 1991 3584 \r\nL 1991 3584 \r\nz\r\n\" id=\"DejaVuSans-75\" transform=\"scale(0.015625)\"/>\r\n       <path d=\"M 2834 3397 \r\nL 2834 2853 \r\nQ 2591 2978 2328 3040 \r\nQ 2066 3103 1784 3103 \r\nQ 1356 3103 1142 2972 \r\nQ 928 2841 928 2578 \r\nQ 928 2378 1081 2264 \r\nQ 1234 2150 1697 2047 \r\nL 1894 2003 \r\nQ 2506 1872 2764 1633 \r\nQ 3022 1394 3022 966 \r\nQ 3022 478 2636 193 \r\nQ 2250 -91 1575 -91 \r\nQ 1294 -91 989 -36 \r\nQ 684 19 347 128 \r\nL 347 722 \r\nQ 666 556 975 473 \r\nQ 1284 391 1588 391 \r\nQ 1994 391 2212 530 \r\nQ 2431 669 2431 922 \r\nQ 2431 1156 2273 1281 \r\nQ 2116 1406 1581 1522 \r\nL 1381 1569 \r\nQ 847 1681 609 1914 \r\nQ 372 2147 372 2553 \r\nQ 372 3047 722 3315 \r\nQ 1072 3584 1716 3584 \r\nQ 2034 3584 2315 3537 \r\nQ 2597 3491 2834 3397 \r\nz\r\n\" id=\"DejaVuSans-73\" transform=\"scale(0.015625)\"/>\r\n       <path d=\"M 1172 4494 \r\nL 1172 3500 \r\nL 2356 3500 \r\nL 2356 3053 \r\nL 1172 3053 \r\nL 1172 1153 \r\nQ 1172 725 1289 603 \r\nQ 1406 481 1766 481 \r\nL 2356 481 \r\nL 2356 0 \r\nL 1766 0 \r\nQ 1100 0 847 248 \r\nQ 594 497 594 1153 \r\nL 594 3053 \r\nL 172 3053 \r\nL 172 3500 \r\nL 594 3500 \r\nL 594 4494 \r\nL 1172 4494 \r\nz\r\n\" id=\"DejaVuSans-74\" transform=\"scale(0.015625)\"/>\r\n       <path d=\"M 3597 1894 \r\nL 3597 1613 \r\nL 953 1613 \r\nQ 991 1019 1311 708 \r\nQ 1631 397 2203 397 \r\nQ 2534 397 2845 478 \r\nQ 3156 559 3463 722 \r\nL 3463 178 \r\nQ 3153 47 2828 -22 \r\nQ 2503 -91 2169 -91 \r\nQ 1331 -91 842 396 \r\nQ 353 884 353 1716 \r\nQ 353 2575 817 3079 \r\nQ 1281 3584 2069 3584 \r\nQ 2775 3584 3186 3129 \r\nQ 3597 2675 3597 1894 \r\nz\r\nM 3022 2063 \r\nQ 3016 2534 2758 2815 \r\nQ 2500 3097 2075 3097 \r\nQ 1594 3097 1305 2825 \r\nQ 1016 2553 972 2059 \r\nL 3022 2063 \r\nz\r\n\" id=\"DejaVuSans-65\" transform=\"scale(0.015625)\"/>\r\n       <path d=\"M 2631 2963 \r\nQ 2534 3019 2420 3045 \r\nQ 2306 3072 2169 3072 \r\nQ 1681 3072 1420 2755 \r\nQ 1159 2438 1159 1844 \r\nL 1159 0 \r\nL 581 0 \r\nL 581 3500 \r\nL 1159 3500 \r\nL 1159 2956 \r\nQ 1341 3275 1631 3429 \r\nQ 1922 3584 2338 3584 \r\nQ 2397 3584 2469 3576 \r\nQ 2541 3569 2628 3553 \r\nL 2631 2963 \r\nz\r\n\" id=\"DejaVuSans-72\" transform=\"scale(0.015625)\"/>\r\n      </defs>\r\n      <use xlink:href=\"#DejaVuSans-4e\"/>\r\n      <use x=\"74.804688\" xlink:href=\"#DejaVuSans-6f\"/>\r\n      <use x=\"134.236328\" xlink:href=\"#DejaVuSans-2e\"/>\r\n      <use x=\"166.023438\" xlink:href=\"#DejaVuSans-20\"/>\r\n      <use x=\"197.810547\" xlink:href=\"#DejaVuSans-6f\"/>\r\n      <use x=\"258.992188\" xlink:href=\"#DejaVuSans-66\"/>\r\n      <use x=\"294.197266\" xlink:href=\"#DejaVuSans-20\"/>\r\n      <use x=\"325.984375\" xlink:href=\"#DejaVuSans-63\"/>\r\n      <use x=\"380.964844\" xlink:href=\"#DejaVuSans-6c\"/>\r\n      <use x=\"408.748047\" xlink:href=\"#DejaVuSans-75\"/>\r\n      <use x=\"472.126953\" xlink:href=\"#DejaVuSans-73\"/>\r\n      <use x=\"524.226562\" xlink:href=\"#DejaVuSans-74\"/>\r\n      <use x=\"563.435547\" xlink:href=\"#DejaVuSans-65\"/>\r\n      <use x=\"624.958984\" xlink:href=\"#DejaVuSans-72\"/>\r\n      <use x=\"666.072266\" xlink:href=\"#DejaVuSans-73\"/>\r\n     </g>\r\n    </g>\r\n   </g>\r\n   <g id=\"matplotlib.axis_2\">\r\n    <g id=\"ytick_1\">\r\n     <g id=\"line2d_8\">\r\n      <defs>\r\n       <path d=\"M 0 0 \r\nL -3.5 0 \r\n\" id=\"m4472ce13d2\" style=\"stroke:#000000;stroke-width:0.8;\"/>\r\n      </defs>\r\n      <g>\r\n       <use style=\"stroke:#000000;stroke-width:0.8;\" x=\"50.14375\" xlink:href=\"#m4472ce13d2\" y=\"227.516506\"/>\r\n      </g>\r\n     </g>\r\n     <g id=\"text_9\">\r\n      <!-- 0.05 -->\r\n      <g transform=\"translate(20.878125 231.315725)scale(0.1 -0.1)\">\r\n       <use xlink:href=\"#DejaVuSans-30\"/>\r\n       <use x=\"63.623047\" xlink:href=\"#DejaVuSans-2e\"/>\r\n       <use x=\"95.410156\" xlink:href=\"#DejaVuSans-30\"/>\r\n       <use x=\"159.033203\" xlink:href=\"#DejaVuSans-35\"/>\r\n      </g>\r\n     </g>\r\n    </g>\r\n    <g id=\"ytick_2\">\r\n     <g id=\"line2d_9\">\r\n      <g>\r\n       <use style=\"stroke:#000000;stroke-width:0.8;\" x=\"50.14375\" xlink:href=\"#m4472ce13d2\" y=\"190.840977\"/>\r\n      </g>\r\n     </g>\r\n     <g id=\"text_10\">\r\n      <!-- 0.10 -->\r\n      <g transform=\"translate(20.878125 194.640196)scale(0.1 -0.1)\">\r\n       <use xlink:href=\"#DejaVuSans-30\"/>\r\n       <use x=\"63.623047\" xlink:href=\"#DejaVuSans-2e\"/>\r\n       <use x=\"95.410156\" xlink:href=\"#DejaVuSans-31\"/>\r\n       <use x=\"159.033203\" xlink:href=\"#DejaVuSans-30\"/>\r\n      </g>\r\n     </g>\r\n    </g>\r\n    <g id=\"ytick_3\">\r\n     <g id=\"line2d_10\">\r\n      <g>\r\n       <use style=\"stroke:#000000;stroke-width:0.8;\" x=\"50.14375\" xlink:href=\"#m4472ce13d2\" y=\"154.165448\"/>\r\n      </g>\r\n     </g>\r\n     <g id=\"text_11\">\r\n      <!-- 0.15 -->\r\n      <g transform=\"translate(20.878125 157.964667)scale(0.1 -0.1)\">\r\n       <use xlink:href=\"#DejaVuSans-30\"/>\r\n       <use x=\"63.623047\" xlink:href=\"#DejaVuSans-2e\"/>\r\n       <use x=\"95.410156\" xlink:href=\"#DejaVuSans-31\"/>\r\n       <use x=\"159.033203\" xlink:href=\"#DejaVuSans-35\"/>\r\n      </g>\r\n     </g>\r\n    </g>\r\n    <g id=\"ytick_4\">\r\n     <g id=\"line2d_11\">\r\n      <g>\r\n       <use style=\"stroke:#000000;stroke-width:0.8;\" x=\"50.14375\" xlink:href=\"#m4472ce13d2\" y=\"117.489919\"/>\r\n      </g>\r\n     </g>\r\n     <g id=\"text_12\">\r\n      <!-- 0.20 -->\r\n      <g transform=\"translate(20.878125 121.289138)scale(0.1 -0.1)\">\r\n       <use xlink:href=\"#DejaVuSans-30\"/>\r\n       <use x=\"63.623047\" xlink:href=\"#DejaVuSans-2e\"/>\r\n       <use x=\"95.410156\" xlink:href=\"#DejaVuSans-32\"/>\r\n       <use x=\"159.033203\" xlink:href=\"#DejaVuSans-30\"/>\r\n      </g>\r\n     </g>\r\n    </g>\r\n    <g id=\"ytick_5\">\r\n     <g id=\"line2d_12\">\r\n      <g>\r\n       <use style=\"stroke:#000000;stroke-width:0.8;\" x=\"50.14375\" xlink:href=\"#m4472ce13d2\" y=\"80.81439\"/>\r\n      </g>\r\n     </g>\r\n     <g id=\"text_13\">\r\n      <!-- 0.25 -->\r\n      <g transform=\"translate(20.878125 84.613609)scale(0.1 -0.1)\">\r\n       <use xlink:href=\"#DejaVuSans-30\"/>\r\n       <use x=\"63.623047\" xlink:href=\"#DejaVuSans-2e\"/>\r\n       <use x=\"95.410156\" xlink:href=\"#DejaVuSans-32\"/>\r\n       <use x=\"159.033203\" xlink:href=\"#DejaVuSans-35\"/>\r\n      </g>\r\n     </g>\r\n    </g>\r\n    <g id=\"ytick_6\">\r\n     <g id=\"line2d_13\">\r\n      <g>\r\n       <use style=\"stroke:#000000;stroke-width:0.8;\" x=\"50.14375\" xlink:href=\"#m4472ce13d2\" y=\"44.138861\"/>\r\n      </g>\r\n     </g>\r\n     <g id=\"text_14\">\r\n      <!-- 0.30 -->\r\n      <g transform=\"translate(20.878125 47.93808)scale(0.1 -0.1)\">\r\n       <use xlink:href=\"#DejaVuSans-30\"/>\r\n       <use x=\"63.623047\" xlink:href=\"#DejaVuSans-2e\"/>\r\n       <use x=\"95.410156\" xlink:href=\"#DejaVuSans-33\"/>\r\n       <use x=\"159.033203\" xlink:href=\"#DejaVuSans-30\"/>\r\n      </g>\r\n     </g>\r\n    </g>\r\n    <g id=\"text_15\">\r\n     <!-- Silhoutte score -->\r\n     <g transform=\"translate(14.798438 179.874817)rotate(-90)scale(0.1 -0.1)\">\r\n      <defs>\r\n       <path d=\"M 3425 4513 \r\nL 3425 3897 \r\nQ 3066 4069 2747 4153 \r\nQ 2428 4238 2131 4238 \r\nQ 1616 4238 1336 4038 \r\nQ 1056 3838 1056 3469 \r\nQ 1056 3159 1242 3001 \r\nQ 1428 2844 1947 2747 \r\nL 2328 2669 \r\nQ 3034 2534 3370 2195 \r\nQ 3706 1856 3706 1288 \r\nQ 3706 609 3251 259 \r\nQ 2797 -91 1919 -91 \r\nQ 1588 -91 1214 -16 \r\nQ 841 59 441 206 \r\nL 441 856 \r\nQ 825 641 1194 531 \r\nQ 1563 422 1919 422 \r\nQ 2459 422 2753 634 \r\nQ 3047 847 3047 1241 \r\nQ 3047 1584 2836 1778 \r\nQ 2625 1972 2144 2069 \r\nL 1759 2144 \r\nQ 1053 2284 737 2584 \r\nQ 422 2884 422 3419 \r\nQ 422 4038 858 4394 \r\nQ 1294 4750 2059 4750 \r\nQ 2388 4750 2728 4690 \r\nQ 3069 4631 3425 4513 \r\nz\r\n\" id=\"DejaVuSans-53\" transform=\"scale(0.015625)\"/>\r\n       <path d=\"M 603 3500 \r\nL 1178 3500 \r\nL 1178 0 \r\nL 603 0 \r\nL 603 3500 \r\nz\r\nM 603 4863 \r\nL 1178 4863 \r\nL 1178 4134 \r\nL 603 4134 \r\nL 603 4863 \r\nz\r\n\" id=\"DejaVuSans-69\" transform=\"scale(0.015625)\"/>\r\n       <path d=\"M 3513 2113 \r\nL 3513 0 \r\nL 2938 0 \r\nL 2938 2094 \r\nQ 2938 2591 2744 2837 \r\nQ 2550 3084 2163 3084 \r\nQ 1697 3084 1428 2787 \r\nQ 1159 2491 1159 1978 \r\nL 1159 0 \r\nL 581 0 \r\nL 581 4863 \r\nL 1159 4863 \r\nL 1159 2956 \r\nQ 1366 3272 1645 3428 \r\nQ 1925 3584 2291 3584 \r\nQ 2894 3584 3203 3211 \r\nQ 3513 2838 3513 2113 \r\nz\r\n\" id=\"DejaVuSans-68\" transform=\"scale(0.015625)\"/>\r\n      </defs>\r\n      <use xlink:href=\"#DejaVuSans-53\"/>\r\n      <use x=\"63.476562\" xlink:href=\"#DejaVuSans-69\"/>\r\n      <use x=\"91.259766\" xlink:href=\"#DejaVuSans-6c\"/>\r\n      <use x=\"119.042969\" xlink:href=\"#DejaVuSans-68\"/>\r\n      <use x=\"182.421875\" xlink:href=\"#DejaVuSans-6f\"/>\r\n      <use x=\"243.603516\" xlink:href=\"#DejaVuSans-75\"/>\r\n      <use x=\"306.982422\" xlink:href=\"#DejaVuSans-74\"/>\r\n      <use x=\"346.191406\" xlink:href=\"#DejaVuSans-74\"/>\r\n      <use x=\"385.400391\" xlink:href=\"#DejaVuSans-65\"/>\r\n      <use x=\"446.923828\" xlink:href=\"#DejaVuSans-20\"/>\r\n      <use x=\"478.710938\" xlink:href=\"#DejaVuSans-73\"/>\r\n      <use x=\"530.810547\" xlink:href=\"#DejaVuSans-63\"/>\r\n      <use x=\"585.791016\" xlink:href=\"#DejaVuSans-6f\"/>\r\n      <use x=\"646.972656\" xlink:href=\"#DejaVuSans-72\"/>\r\n      <use x=\"685.835938\" xlink:href=\"#DejaVuSans-65\"/>\r\n     </g>\r\n    </g>\r\n   </g>\r\n   <g id=\"line2d_14\">\r\n    <path clip-path=\"url(#p229e5b458d)\" d=\"M 65.361932 49.239545 \r\nL 75.180114 46.368582 \r\nL 84.998295 47.798191 \r\nL 94.816477 45.143478 \r\nL 104.634659 43.670485 \r\nL 114.452841 67.125341 \r\nL 124.271023 48.222169 \r\nL 134.089205 50.50896 \r\nL 143.907386 74.386169 \r\nL 153.725568 78.425311 \r\nL 163.54375 86.184994 \r\nL 173.361932 91.170266 \r\nL 183.180114 100.72157 \r\nL 192.998295 102.601299 \r\nL 202.816477 112.437665 \r\nL 212.634659 112.224981 \r\nL 222.452841 112.385282 \r\nL 232.271023 123.672962 \r\nL 242.089205 120.950748 \r\nL 251.907386 130.074694 \r\nL 261.725568 137.41745 \r\nL 271.54375 146.520034 \r\nL 281.361932 152.82097 \r\nL 291.180114 163.66679 \r\nL 300.998295 176.140573 \r\nL 310.816477 189.598095 \r\nL 320.634659 204.289489 \r\nL 330.452841 211.797428 \r\nL 340.271023 223.729776 \r\nL 350.089205 223.815502 \r\nL 359.907386 230.496087 \r\nL 369.725568 241.343212 \r\n\" style=\"fill:none;stroke:#1f77b4;stroke-linecap:square;stroke-width:1.5;\"/>\r\n   </g>\r\n   <g id=\"line2d_15\">\r\n    <path clip-path=\"url(#p229e5b458d)\" d=\"M 104.634659 251.226849 \r\nL 104.634659 33.786849 \r\n\" style=\"fill:none;stroke:#1f77b4;stroke-linecap:square;stroke-width:1.5;\"/>\r\n   </g>\r\n   <g id=\"patch_3\">\r\n    <path d=\"M 50.14375 251.226849 \r\nL 50.14375 33.786849 \r\n\" style=\"fill:none;stroke:#000000;stroke-linecap:square;stroke-linejoin:miter;stroke-width:0.8;\"/>\r\n   </g>\r\n   <g id=\"patch_4\">\r\n    <path d=\"M 384.94375 251.226849 \r\nL 384.94375 33.786849 \r\n\" style=\"fill:none;stroke:#000000;stroke-linecap:square;stroke-linejoin:miter;stroke-width:0.8;\"/>\r\n   </g>\r\n   <g id=\"patch_5\">\r\n    <path d=\"M 50.14375 251.226849 \r\nL 384.94375 251.226849 \r\n\" style=\"fill:none;stroke:#000000;stroke-linecap:square;stroke-linejoin:miter;stroke-width:0.8;\"/>\r\n   </g>\r\n   <g id=\"patch_6\">\r\n    <path d=\"M 50.14375 33.786849 \r\nL 384.94375 33.786849 \r\n\" style=\"fill:none;stroke:#000000;stroke-linecap:square;stroke-linejoin:miter;stroke-width:0.8;\"/>\r\n   </g>\r\n   <g id=\"text_16\">\r\n    <!-- Max silhoutte score at n=4 -->\r\n    <g transform=\"translate(104.634659 14.798438)scale(0.1 -0.1)\">\r\n     <defs>\r\n      <path d=\"M 628 4666 \r\nL 1569 4666 \r\nL 2759 1491 \r\nL 3956 4666 \r\nL 4897 4666 \r\nL 4897 0 \r\nL 4281 0 \r\nL 4281 4097 \r\nL 3078 897 \r\nL 2444 897 \r\nL 1241 4097 \r\nL 1241 0 \r\nL 628 0 \r\nL 628 4666 \r\nz\r\n\" id=\"DejaVuSans-4d\" transform=\"scale(0.015625)\"/>\r\n      <path d=\"M 2194 1759 \r\nQ 1497 1759 1228 1600 \r\nQ 959 1441 959 1056 \r\nQ 959 750 1161 570 \r\nQ 1363 391 1709 391 \r\nQ 2188 391 2477 730 \r\nQ 2766 1069 2766 1631 \r\nL 2766 1759 \r\nL 2194 1759 \r\nz\r\nM 3341 1997 \r\nL 3341 0 \r\nL 2766 0 \r\nL 2766 531 \r\nQ 2569 213 2275 61 \r\nQ 1981 -91 1556 -91 \r\nQ 1019 -91 701 211 \r\nQ 384 513 384 1019 \r\nQ 384 1609 779 1909 \r\nQ 1175 2209 1959 2209 \r\nL 2766 2209 \r\nL 2766 2266 \r\nQ 2766 2663 2505 2880 \r\nQ 2244 3097 1772 3097 \r\nQ 1472 3097 1187 3025 \r\nQ 903 2953 641 2809 \r\nL 641 3341 \r\nQ 956 3463 1253 3523 \r\nQ 1550 3584 1831 3584 \r\nQ 2591 3584 2966 3190 \r\nQ 3341 2797 3341 1997 \r\nz\r\n\" id=\"DejaVuSans-61\" transform=\"scale(0.015625)\"/>\r\n      <path d=\"M 3513 3500 \r\nL 2247 1797 \r\nL 3578 0 \r\nL 2900 0 \r\nL 1881 1375 \r\nL 863 0 \r\nL 184 0 \r\nL 1544 1831 \r\nL 300 3500 \r\nL 978 3500 \r\nL 1906 2253 \r\nL 2834 3500 \r\nL 3513 3500 \r\nz\r\n\" id=\"DejaVuSans-78\" transform=\"scale(0.015625)\"/>\r\n      <path d=\"M 3513 2113 \r\nL 3513 0 \r\nL 2938 0 \r\nL 2938 2094 \r\nQ 2938 2591 2744 2837 \r\nQ 2550 3084 2163 3084 \r\nQ 1697 3084 1428 2787 \r\nQ 1159 2491 1159 1978 \r\nL 1159 0 \r\nL 581 0 \r\nL 581 3500 \r\nL 1159 3500 \r\nL 1159 2956 \r\nQ 1366 3272 1645 3428 \r\nQ 1925 3584 2291 3584 \r\nQ 2894 3584 3203 3211 \r\nQ 3513 2838 3513 2113 \r\nz\r\n\" id=\"DejaVuSans-6e\" transform=\"scale(0.015625)\"/>\r\n      <path d=\"M 678 2906 \r\nL 4684 2906 \r\nL 4684 2381 \r\nL 678 2381 \r\nL 678 2906 \r\nz\r\nM 678 1631 \r\nL 4684 1631 \r\nL 4684 1100 \r\nL 678 1100 \r\nL 678 1631 \r\nz\r\n\" id=\"DejaVuSans-3d\" transform=\"scale(0.015625)\"/>\r\n      <path d=\"M 2419 4116 \r\nL 825 1625 \r\nL 2419 1625 \r\nL 2419 4116 \r\nz\r\nM 2253 4666 \r\nL 3047 4666 \r\nL 3047 1625 \r\nL 3713 1625 \r\nL 3713 1100 \r\nL 3047 1100 \r\nL 3047 0 \r\nL 2419 0 \r\nL 2419 1100 \r\nL 313 1100 \r\nL 313 1709 \r\nL 2253 4666 \r\nz\r\n\" id=\"DejaVuSans-34\" transform=\"scale(0.015625)\"/>\r\n     </defs>\r\n     <use xlink:href=\"#DejaVuSans-4d\"/>\r\n     <use x=\"86.279297\" xlink:href=\"#DejaVuSans-61\"/>\r\n     <use x=\"147.558594\" xlink:href=\"#DejaVuSans-78\"/>\r\n     <use x=\"206.738281\" xlink:href=\"#DejaVuSans-20\"/>\r\n     <use x=\"238.525391\" xlink:href=\"#DejaVuSans-73\"/>\r\n     <use x=\"290.625\" xlink:href=\"#DejaVuSans-69\"/>\r\n     <use x=\"318.408203\" xlink:href=\"#DejaVuSans-6c\"/>\r\n     <use x=\"346.191406\" xlink:href=\"#DejaVuSans-68\"/>\r\n     <use x=\"409.570312\" xlink:href=\"#DejaVuSans-6f\"/>\r\n     <use x=\"470.751953\" xlink:href=\"#DejaVuSans-75\"/>\r\n     <use x=\"534.130859\" xlink:href=\"#DejaVuSans-74\"/>\r\n     <use x=\"573.339844\" xlink:href=\"#DejaVuSans-74\"/>\r\n     <use x=\"612.548828\" xlink:href=\"#DejaVuSans-65\"/>\r\n     <use x=\"674.072266\" xlink:href=\"#DejaVuSans-20\"/>\r\n     <use x=\"705.859375\" xlink:href=\"#DejaVuSans-73\"/>\r\n     <use x=\"757.958984\" xlink:href=\"#DejaVuSans-63\"/>\r\n     <use x=\"812.939453\" xlink:href=\"#DejaVuSans-6f\"/>\r\n     <use x=\"874.121094\" xlink:href=\"#DejaVuSans-72\"/>\r\n     <use x=\"912.984375\" xlink:href=\"#DejaVuSans-65\"/>\r\n     <use x=\"974.507812\" xlink:href=\"#DejaVuSans-20\"/>\r\n     <use x=\"1006.294922\" xlink:href=\"#DejaVuSans-61\"/>\r\n     <use x=\"1067.574219\" xlink:href=\"#DejaVuSans-74\"/>\r\n     <use x=\"1106.783203\" xlink:href=\"#DejaVuSans-20\"/>\r\n     <use x=\"1138.570312\" xlink:href=\"#DejaVuSans-6e\"/>\r\n     <use x=\"1201.949219\" xlink:href=\"#DejaVuSans-3d\"/>\r\n     <use x=\"1285.738281\" xlink:href=\"#DejaVuSans-34\"/>\r\n    </g>\r\n   </g>\r\n   <g id=\"legend_1\">\r\n    <g id=\"patch_7\">\r\n     <path d=\"M 339.58125 56.464974 \r\nL 377.94375 56.464974 \r\nQ 379.94375 56.464974 379.94375 54.464974 \r\nL 379.94375 40.786849 \r\nQ 379.94375 38.786849 377.94375 38.786849 \r\nL 339.58125 38.786849 \r\nQ 337.58125 38.786849 337.58125 40.786849 \r\nL 337.58125 54.464974 \r\nQ 337.58125 56.464974 339.58125 56.464974 \r\nz\r\n\" style=\"fill:#ffffff;opacity:0.8;stroke:#cccccc;stroke-linejoin:miter;\"/>\r\n    </g>\r\n    <g id=\"line2d_16\">\r\n     <path d=\"M 341.58125 46.885286 \r\nL 361.58125 46.885286 \r\n\" style=\"fill:none;stroke:#1f77b4;stroke-linecap:square;stroke-width:1.5;\"/>\r\n    </g>\r\n    <g id=\"line2d_17\"/>\r\n    <g id=\"text_17\">\r\n     <!-- 0 -->\r\n     <g transform=\"translate(369.58125 50.385286)scale(0.1 -0.1)\">\r\n      <use xlink:href=\"#DejaVuSans-30\"/>\r\n     </g>\r\n    </g>\r\n   </g>\r\n  </g>\r\n </g>\r\n <defs>\r\n  <clipPath id=\"p229e5b458d\">\r\n   <rect height=\"217.44\" width=\"334.8\" x=\"50.14375\" y=\"33.786849\"/>\r\n  </clipPath>\r\n </defs>\r\n</svg>\r\n",
      "image/png": "[encoded data removed]"
     },
     "metadata": {
      "needs_background": "light"
     }
    }
   ],
   "source": [
    "dropouts_x = create_aggregate(dropout)\n",
    "dropouts_result=create_clusters(dropouts_x,['PRIMARY_TOTAL', 'UPPER_PRIMARY_TOTAL', 'SECONDARY_TOTAL','HRSECONDARY_TOTAL'])\n",
    "dropouts_clusters=return_clusters(dropouts_result)"
   ]
  },
  {
   "cell_type": "code",
   "execution_count": 12,
   "metadata": {},
   "outputs": [
    {
     "output_type": "execute_result",
     "data": {
      "text/plain": [
       "    Cluster 0                  Cluster 1             Cluster 2       Cluster 3\n",
       "0       Assam  Andaman & Nicobar Islands     Arunachal Pradesh    Chhattisgarh\n",
       "1       Bihar             Andhra Pradesh  Dadra & Nagar Haveli       Jharkhand\n",
       "2   Karnataka                 Chandigarh           Daman & Diu  Madhya Pradesh\n",
       "3      Odisha                      Delhi               Gujarat         Manipur\n",
       "4           -                        Goa     Jammu And Kashmir       Meghalaya\n",
       "5           -                    Haryana              Nagaland         Mizoram\n",
       "6           -           Himachal Pradesh             Telangana       Rajasthan\n",
       "7           -                     Kerala               Tripura               -\n",
       "8           -                Lakshadweep           West Bengal               -\n",
       "9           -                Maharashtra                     -               -\n",
       "10          -                 Puducherry                     -               -\n",
       "11          -                     Punjab                     -               -\n",
       "12          -                     Sikkim                     -               -\n",
       "13          -                 Tamil Nadu                     -               -\n",
       "14          -              Uttar Pradesh                     -               -\n",
       "15          -                Uttarakhand                     -               -"
      ],
      "text/html": "<div>\n<style scoped>\n    .dataframe tbody tr th:only-of-type {\n        vertical-align: middle;\n    }\n\n    .dataframe tbody tr th {\n        vertical-align: top;\n    }\n\n    .dataframe thead th {\n        text-align: right;\n    }\n</style>\n<table border=\"1\" class=\"dataframe\">\n  <thead>\n    <tr style=\"text-align: right;\">\n      <th></th>\n      <th>Cluster 0</th>\n      <th>Cluster 1</th>\n      <th>Cluster 2</th>\n      <th>Cluster 3</th>\n    </tr>\n  </thead>\n  <tbody>\n    <tr>\n      <th>0</th>\n      <td>Assam</td>\n      <td>Andaman &amp; Nicobar Islands</td>\n      <td>Arunachal Pradesh</td>\n      <td>Chhattisgarh</td>\n    </tr>\n    <tr>\n      <th>1</th>\n      <td>Bihar</td>\n      <td>Andhra Pradesh</td>\n      <td>Dadra &amp; Nagar Haveli</td>\n      <td>Jharkhand</td>\n    </tr>\n    <tr>\n      <th>2</th>\n      <td>Karnataka</td>\n      <td>Chandigarh</td>\n      <td>Daman &amp; Diu</td>\n      <td>Madhya Pradesh</td>\n    </tr>\n    <tr>\n      <th>3</th>\n      <td>Odisha</td>\n      <td>Delhi</td>\n      <td>Gujarat</td>\n      <td>Manipur</td>\n    </tr>\n    <tr>\n      <th>4</th>\n      <td>-</td>\n      <td>Goa</td>\n      <td>Jammu And Kashmir</td>\n      <td>Meghalaya</td>\n    </tr>\n    <tr>\n      <th>5</th>\n      <td>-</td>\n      <td>Haryana</td>\n      <td>Nagaland</td>\n      <td>Mizoram</td>\n    </tr>\n    <tr>\n      <th>6</th>\n      <td>-</td>\n      <td>Himachal Pradesh</td>\n      <td>Telangana</td>\n      <td>Rajasthan</td>\n    </tr>\n    <tr>\n      <th>7</th>\n      <td>-</td>\n      <td>Kerala</td>\n      <td>Tripura</td>\n      <td>-</td>\n    </tr>\n    <tr>\n      <th>8</th>\n      <td>-</td>\n      <td>Lakshadweep</td>\n      <td>West Bengal</td>\n      <td>-</td>\n    </tr>\n    <tr>\n      <th>9</th>\n      <td>-</td>\n      <td>Maharashtra</td>\n      <td>-</td>\n      <td>-</td>\n    </tr>\n    <tr>\n      <th>10</th>\n      <td>-</td>\n      <td>Puducherry</td>\n      <td>-</td>\n      <td>-</td>\n    </tr>\n    <tr>\n      <th>11</th>\n      <td>-</td>\n      <td>Punjab</td>\n      <td>-</td>\n      <td>-</td>\n    </tr>\n    <tr>\n      <th>12</th>\n      <td>-</td>\n      <td>Sikkim</td>\n      <td>-</td>\n      <td>-</td>\n    </tr>\n    <tr>\n      <th>13</th>\n      <td>-</td>\n      <td>Tamil Nadu</td>\n      <td>-</td>\n      <td>-</td>\n    </tr>\n    <tr>\n      <th>14</th>\n      <td>-</td>\n      <td>Uttar Pradesh</td>\n      <td>-</td>\n      <td>-</td>\n    </tr>\n    <tr>\n      <th>15</th>\n      <td>-</td>\n      <td>Uttarakhand</td>\n      <td>-</td>\n      <td>-</td>\n    </tr>\n  </tbody>\n</table>\n</div>"
     },
     "metadata": {},
     "execution_count": 12
    }
   ],
   "source": [
    "dropouts_clusters"
   ]
  },
  {
   "cell_type": "code",
   "execution_count": 13,
   "metadata": {},
   "outputs": [
    {
     "output_type": "execute_result",
     "data": {
      "text/plain": [
       "<pandas.io.formats.style.Styler at 0x25b26cc0e20>"
      ],
      "text/html": "<style  type=\"text/css\" >\n#T_ee599_row0_col0{\n            background-color:  #fdc38c;\n            color:  #000000;\n        }#T_ee599_row0_col1{\n            background-color:  #fdcc96;\n            color:  #000000;\n        }#T_ee599_row0_col2{\n            background-color:  #fdc892;\n            color:  #000000;\n        }#T_ee599_row0_col3{\n            background-color:  #f0694a;\n            color:  #000000;\n        }#T_ee599_row0_col4,#T_ee599_row2_col7{\n            background-color:  #fca26d;\n            color:  #000000;\n        }#T_ee599_row0_col5{\n            background-color:  #fa8656;\n            color:  #000000;\n        }#T_ee599_row0_col6,#T_ee599_row0_col7,#T_ee599_row0_col8,#T_ee599_row2_col9,#T_ee599_row2_col10,#T_ee599_row2_col11,#T_ee599_row3_col0,#T_ee599_row3_col1,#T_ee599_row3_col2,#T_ee599_row3_col3,#T_ee599_row3_col4,#T_ee599_row3_col5{\n            background-color:  #7f0000;\n            color:  #f1f1f1;\n        }#T_ee599_row0_col9{\n            background-color:  #fddeb3;\n            color:  #000000;\n        }#T_ee599_row0_col10{\n            background-color:  #fff1dd;\n            color:  #000000;\n        }#T_ee599_row0_col11{\n            background-color:  #fee6c4;\n            color:  #000000;\n        }#T_ee599_row1_col0,#T_ee599_row1_col1,#T_ee599_row1_col2,#T_ee599_row1_col3,#T_ee599_row1_col4,#T_ee599_row1_col5,#T_ee599_row1_col6,#T_ee599_row1_col7,#T_ee599_row1_col8,#T_ee599_row3_col9,#T_ee599_row3_col10,#T_ee599_row3_col11{\n            background-color:  #fff7ec;\n            color:  #000000;\n        }#T_ee599_row1_col9{\n            background-color:  #e0442f;\n            color:  #f1f1f1;\n        }#T_ee599_row1_col10{\n            background-color:  #f26d4b;\n            color:  #000000;\n        }#T_ee599_row1_col11{\n            background-color:  #e65239;\n            color:  #000000;\n        }#T_ee599_row2_col0,#T_ee599_row2_col6{\n            background-color:  #fda872;\n            color:  #000000;\n        }#T_ee599_row2_col1{\n            background-color:  #fdb27b;\n            color:  #000000;\n        }#T_ee599_row2_col2{\n            background-color:  #fdad77;\n            color:  #000000;\n        }#T_ee599_row2_col3,#T_ee599_row2_col5{\n            background-color:  #f06849;\n            color:  #000000;\n        }#T_ee599_row2_col4{\n            background-color:  #ed6145;\n            color:  #000000;\n        }#T_ee599_row2_col8{\n            background-color:  #fda56f;\n            color:  #000000;\n        }#T_ee599_row3_col6{\n            background-color:  #fdb67f;\n            color:  #000000;\n        }#T_ee599_row3_col7{\n            background-color:  #fc9f6a;\n            color:  #000000;\n        }#T_ee599_row3_col8{\n            background-color:  #fdab75;\n            color:  #000000;\n        }</style><table id=\"T_ee599_\" ><thead>    <tr>        <th class=\"blank level0\" ></th>        <th class=\"col_heading level0 col0\" >PRIMARY_BOYS</th>        <th class=\"col_heading level0 col1\" >PRIMARY_GIRLS</th>        <th class=\"col_heading level0 col2\" >PRIMARY_TOTAL</th>        <th class=\"col_heading level0 col3\" >UPPER_PRIMARY_BOYS</th>        <th class=\"col_heading level0 col4\" >UPPER_PRIMARY_GIRLS</th>        <th class=\"col_heading level0 col5\" >UPPER_PRIMARY_TOTAL</th>        <th class=\"col_heading level0 col6\" >SECONDARY_BOYS</th>        <th class=\"col_heading level0 col7\" >SECONDARY_GIRLS</th>        <th class=\"col_heading level0 col8\" >SECONDARY_TOTAL</th>        <th class=\"col_heading level0 col9\" >HRSECONDARY_BOYS</th>        <th class=\"col_heading level0 col10\" >HRSECONDARY_GIRLS</th>        <th class=\"col_heading level0 col11\" >HRSECONDARY_TOTAL</th>    </tr>    <tr>        <th class=\"index_name level0\" >Labels</th>        <th class=\"blank\" ></th>        <th class=\"blank\" ></th>        <th class=\"blank\" ></th>        <th class=\"blank\" ></th>        <th class=\"blank\" ></th>        <th class=\"blank\" ></th>        <th class=\"blank\" ></th>        <th class=\"blank\" ></th>        <th class=\"blank\" ></th>        <th class=\"blank\" ></th>        <th class=\"blank\" ></th>        <th class=\"blank\" ></th>    </tr></thead><tbody>\n                <tr>\n                        <th id=\"T_ee599_level0_row0\" class=\"row_heading level0 row0\" >0</th>\n                        <td id=\"T_ee599_row0_col0\" class=\"data row0 col0\" >4.269167</td>\n                        <td id=\"T_ee599_row0_col1\" class=\"data row0 col1\" >3.721667</td>\n                        <td id=\"T_ee599_row0_col2\" class=\"data row0 col2\" >3.983333</td>\n                        <td id=\"T_ee599_row0_col3\" class=\"data row0 col3\" >4.805833</td>\n                        <td id=\"T_ee599_row0_col4\" class=\"data row0 col4\" >4.374167</td>\n                        <td id=\"T_ee599_row0_col5\" class=\"data row0 col5\" >4.470833</td>\n                        <td id=\"T_ee599_row0_col6\" class=\"data row0 col6\" >31.999167</td>\n                        <td id=\"T_ee599_row0_col7\" class=\"data row0 col7\" >32.653333</td>\n                        <td id=\"T_ee599_row0_col8\" class=\"data row0 col8\" >32.350000</td>\n                        <td id=\"T_ee599_row0_col9\" class=\"data row0 col9\" >3.160833</td>\n                        <td id=\"T_ee599_row0_col10\" class=\"data row0 col10\" >1.882500</td>\n                        <td id=\"T_ee599_row0_col11\" class=\"data row0 col11\" >2.435000</td>\n            </tr>\n            <tr>\n                        <th id=\"T_ee599_level0_row1\" class=\"row_heading level0 row1\" >1</th>\n                        <td id=\"T_ee599_row1_col0\" class=\"data row1 col0\" >1.878333</td>\n                        <td id=\"T_ee599_row1_col1\" class=\"data row1 col1\" >1.641667</td>\n                        <td id=\"T_ee599_row1_col2\" class=\"data row1 col2\" >1.762708</td>\n                        <td id=\"T_ee599_row1_col3\" class=\"data row1 col3\" >1.738333</td>\n                        <td id=\"T_ee599_row1_col4\" class=\"data row1 col4\" >1.945417</td>\n                        <td id=\"T_ee599_row1_col5\" class=\"data row1 col5\" >1.641042</td>\n                        <td id=\"T_ee599_row1_col6\" class=\"data row1 col6\" >11.025833</td>\n                        <td id=\"T_ee599_row1_col7\" class=\"data row1 col7\" >9.020208</td>\n                        <td id=\"T_ee599_row1_col8\" class=\"data row1 col8\" >10.058750</td>\n                        <td id=\"T_ee599_row1_col9\" class=\"data row1 col9\" >8.356042</td>\n                        <td id=\"T_ee599_row1_col10\" class=\"data row1 col10\" >5.659375</td>\n                        <td id=\"T_ee599_row1_col11\" class=\"data row1 col11\" >7.051667</td>\n            </tr>\n            <tr>\n                        <th id=\"T_ee599_level0_row2\" class=\"row_heading level0 row2\" >2</th>\n                        <td id=\"T_ee599_row2_col0\" class=\"data row2 col0\" >4.891296</td>\n                        <td id=\"T_ee599_row2_col1\" class=\"data row2 col1\" >4.502593</td>\n                        <td id=\"T_ee599_row2_col2\" class=\"data row2 col2\" >4.693333</td>\n                        <td id=\"T_ee599_row2_col3\" class=\"data row2 col3\" >4.825370</td>\n                        <td id=\"T_ee599_row2_col4\" class=\"data row2 col4\" >5.426667</td>\n                        <td id=\"T_ee599_row2_col5\" class=\"data row2 col5\" >4.991667</td>\n                        <td id=\"T_ee599_row2_col6\" class=\"data row2 col6\" >19.956667</td>\n                        <td id=\"T_ee599_row2_col7\" class=\"data row2 col7\" >19.492778</td>\n                        <td id=\"T_ee599_row2_col8\" class=\"data row2 col8\" >19.783333</td>\n                        <td id=\"T_ee599_row2_col9\" class=\"data row2 col9\" >11.409444</td>\n                        <td id=\"T_ee599_row2_col10\" class=\"data row2 col10\" >8.436296</td>\n                        <td id=\"T_ee599_row2_col11\" class=\"data row2 col11\" >9.941296</td>\n            </tr>\n            <tr>\n                        <th id=\"T_ee599_level0_row3\" class=\"row_heading level0 row3\" >3</th>\n                        <td id=\"T_ee599_row3_col0\" class=\"data row3 col0\" >8.954286</td>\n                        <td id=\"T_ee599_row3_col1\" class=\"data row3 col1\" >8.812381</td>\n                        <td id=\"T_ee599_row3_col2\" class=\"data row3 col2\" >8.877143</td>\n                        <td id=\"T_ee599_row3_col3\" class=\"data row3 col3\" >6.748095</td>\n                        <td id=\"T_ee599_row3_col4\" class=\"data row3 col4\" >7.435238</td>\n                        <td id=\"T_ee599_row3_col5\" class=\"data row3 col5\" >7.070000</td>\n                        <td id=\"T_ee599_row3_col6\" class=\"data row3 col6\" >19.173333</td>\n                        <td id=\"T_ee599_row3_col7\" class=\"data row3 col7\" >19.683333</td>\n                        <td id=\"T_ee599_row3_col8\" class=\"data row3 col8\" >19.390000</td>\n                        <td id=\"T_ee599_row3_col9\" class=\"data row3 col9\" >1.227619</td>\n                        <td id=\"T_ee599_row3_col10\" class=\"data row3 col10\" >1.523810</td>\n                        <td id=\"T_ee599_row3_col11\" class=\"data row3 col11\" >1.226667</td>\n            </tr>\n    </tbody></table>"
     },
     "metadata": {},
     "execution_count": 13
    }
   ],
   "source": [
    "reqd=dropouts_result.groupby('Labels')[dropouts_result.columns[1:-1]].agg('mean')\n",
    "reqd.style.background_gradient(cmap='OrRd')"
   ]
  },
  {
   "source": [
    "## Enrollments"
   ],
   "cell_type": "markdown",
   "metadata": {}
  },
  {
   "cell_type": "code",
   "execution_count": 14,
   "metadata": {},
   "outputs": [
    {
     "output_type": "display_data",
     "data": {
      "text/plain": "<Figure size 432x288 with 1 Axes>",
      "image/svg+xml": "<?xml version=\"1.0\" encoding=\"utf-8\" standalone=\"no\"?>\r\n<!DOCTYPE svg PUBLIC \"-//W3C//DTD SVG 1.1//EN\"\r\n  \"http://www.w3.org/Graphics/SVG/1.1/DTD/svg11.dtd\">\r\n<svg height=\"285.810856pt\" version=\"1.1\" viewBox=\"0 0 392.14375 285.810856\" width=\"392.14375pt\" xmlns=\"http://www.w3.org/2000/svg\" xmlns:xlink=\"http://www.w3.org/1999/xlink\">\r\n <metadata>\r\n  <rdf:RDF xmlns:cc=\"http://creativecommons.org/ns#\" xmlns:dc=\"http://purl.org/dc/elements/1.1/\" xmlns:rdf=\"http://www.w3.org/1999/02/22-rdf-syntax-ns#\">\r\n   <cc:Work>\r\n    <dc:type rdf:resource=\"http://purl.org/dc/dcmitype/StillImage\"/>\r\n    <dc:date>2021-05-26T23:40:26.169569</dc:date>\r\n    <dc:format>image/svg+xml</dc:format>\r\n    <dc:creator>\r\n     <cc:Agent>\r\n      <dc:title>Matplotlib v3.4.2, https://matplotlib.org/</dc:title>\r\n     </cc:Agent>\r\n    </dc:creator>\r\n   </cc:Work>\r\n  </rdf:RDF>\r\n </metadata>\r\n <defs>\r\n  <style type=\"text/css\">*{stroke-linecap:butt;stroke-linejoin:round;}</style>\r\n </defs>\r\n <g id=\"figure_1\">\r\n  <g id=\"patch_1\">\r\n   <path d=\"M 0 285.810856 \r\nL 392.14375 285.810856 \r\nL 392.14375 0 \r\nL 0 0 \r\nz\r\n\" style=\"fill:none;\"/>\r\n  </g>\r\n  <g id=\"axes_1\">\r\n   <g id=\"patch_2\">\r\n    <path d=\"M 50.14375 248.254606 \r\nL 384.94375 248.254606 \r\nL 384.94375 30.814606 \r\nL 50.14375 30.814606 \r\nz\r\n\" style=\"fill:#ffffff;\"/>\r\n   </g>\r\n   <g id=\"matplotlib.axis_1\">\r\n    <g id=\"xtick_1\">\r\n     <g id=\"line2d_1\">\r\n      <defs>\r\n       <path d=\"M 0 0 \r\nL 0 3.5 \r\n\" id=\"m4cb3a657cd\" style=\"stroke:#000000;stroke-width:0.8;\"/>\r\n      </defs>\r\n      <g>\r\n       <use style=\"stroke:#000000;stroke-width:0.8;\" x=\"65.361932\" xlink:href=\"#m4cb3a657cd\" y=\"248.254606\"/>\r\n      </g>\r\n     </g>\r\n     <g id=\"text_1\">\r\n      <!-- 0 -->\r\n      <g transform=\"translate(62.180682 262.853043)scale(0.1 -0.1)\">\r\n       <defs>\r\n        <path d=\"M 2034 4250 \r\nQ 1547 4250 1301 3770 \r\nQ 1056 3291 1056 2328 \r\nQ 1056 1369 1301 889 \r\nQ 1547 409 2034 409 \r\nQ 2525 409 2770 889 \r\nQ 3016 1369 3016 2328 \r\nQ 3016 3291 2770 3770 \r\nQ 2525 4250 2034 4250 \r\nz\r\nM 2034 4750 \r\nQ 2819 4750 3233 4129 \r\nQ 3647 3509 3647 2328 \r\nQ 3647 1150 3233 529 \r\nQ 2819 -91 2034 -91 \r\nQ 1250 -91 836 529 \r\nQ 422 1150 422 2328 \r\nQ 422 3509 836 4129 \r\nQ 1250 4750 2034 4750 \r\nz\r\n\" id=\"DejaVuSans-30\" transform=\"scale(0.015625)\"/>\r\n       </defs>\r\n       <use xlink:href=\"#DejaVuSans-30\"/>\r\n      </g>\r\n     </g>\r\n    </g>\r\n    <g id=\"xtick_2\">\r\n     <g id=\"line2d_2\">\r\n      <g>\r\n       <use style=\"stroke:#000000;stroke-width:0.8;\" x=\"114.452841\" xlink:href=\"#m4cb3a657cd\" y=\"248.254606\"/>\r\n      </g>\r\n     </g>\r\n     <g id=\"text_2\">\r\n      <!-- 5 -->\r\n      <g transform=\"translate(111.271591 262.853043)scale(0.1 -0.1)\">\r\n       <defs>\r\n        <path d=\"M 691 4666 \r\nL 3169 4666 \r\nL 3169 4134 \r\nL 1269 4134 \r\nL 1269 2991 \r\nQ 1406 3038 1543 3061 \r\nQ 1681 3084 1819 3084 \r\nQ 2600 3084 3056 2656 \r\nQ 3513 2228 3513 1497 \r\nQ 3513 744 3044 326 \r\nQ 2575 -91 1722 -91 \r\nQ 1428 -91 1123 -41 \r\nQ 819 9 494 109 \r\nL 494 744 \r\nQ 775 591 1075 516 \r\nQ 1375 441 1709 441 \r\nQ 2250 441 2565 725 \r\nQ 2881 1009 2881 1497 \r\nQ 2881 1984 2565 2268 \r\nQ 2250 2553 1709 2553 \r\nQ 1456 2553 1204 2497 \r\nQ 953 2441 691 2322 \r\nL 691 4666 \r\nz\r\n\" id=\"DejaVuSans-35\" transform=\"scale(0.015625)\"/>\r\n       </defs>\r\n       <use xlink:href=\"#DejaVuSans-35\"/>\r\n      </g>\r\n     </g>\r\n    </g>\r\n    <g id=\"xtick_3\">\r\n     <g id=\"line2d_3\">\r\n      <g>\r\n       <use style=\"stroke:#000000;stroke-width:0.8;\" x=\"163.54375\" xlink:href=\"#m4cb3a657cd\" y=\"248.254606\"/>\r\n      </g>\r\n     </g>\r\n     <g id=\"text_3\">\r\n      <!-- 10 -->\r\n      <g transform=\"translate(157.18125 262.853043)scale(0.1 -0.1)\">\r\n       <defs>\r\n        <path d=\"M 794 531 \r\nL 1825 531 \r\nL 1825 4091 \r\nL 703 3866 \r\nL 703 4441 \r\nL 1819 4666 \r\nL 2450 4666 \r\nL 2450 531 \r\nL 3481 531 \r\nL 3481 0 \r\nL 794 0 \r\nL 794 531 \r\nz\r\n\" id=\"DejaVuSans-31\" transform=\"scale(0.015625)\"/>\r\n       </defs>\r\n       <use xlink:href=\"#DejaVuSans-31\"/>\r\n       <use x=\"63.623047\" xlink:href=\"#DejaVuSans-30\"/>\r\n      </g>\r\n     </g>\r\n    </g>\r\n    <g id=\"xtick_4\">\r\n     <g id=\"line2d_4\">\r\n      <g>\r\n       <use style=\"stroke:#000000;stroke-width:0.8;\" x=\"212.634659\" xlink:href=\"#m4cb3a657cd\" y=\"248.254606\"/>\r\n      </g>\r\n     </g>\r\n     <g id=\"text_4\">\r\n      <!-- 15 -->\r\n      <g transform=\"translate(206.272159 262.853043)scale(0.1 -0.1)\">\r\n       <use xlink:href=\"#DejaVuSans-31\"/>\r\n       <use x=\"63.623047\" xlink:href=\"#DejaVuSans-35\"/>\r\n      </g>\r\n     </g>\r\n    </g>\r\n    <g id=\"xtick_5\">\r\n     <g id=\"line2d_5\">\r\n      <g>\r\n       <use style=\"stroke:#000000;stroke-width:0.8;\" x=\"261.725568\" xlink:href=\"#m4cb3a657cd\" y=\"248.254606\"/>\r\n      </g>\r\n     </g>\r\n     <g id=\"text_5\">\r\n      <!-- 20 -->\r\n      <g transform=\"translate(255.363068 262.853043)scale(0.1 -0.1)\">\r\n       <defs>\r\n        <path d=\"M 1228 531 \r\nL 3431 531 \r\nL 3431 0 \r\nL 469 0 \r\nL 469 531 \r\nQ 828 903 1448 1529 \r\nQ 2069 2156 2228 2338 \r\nQ 2531 2678 2651 2914 \r\nQ 2772 3150 2772 3378 \r\nQ 2772 3750 2511 3984 \r\nQ 2250 4219 1831 4219 \r\nQ 1534 4219 1204 4116 \r\nQ 875 4013 500 3803 \r\nL 500 4441 \r\nQ 881 4594 1212 4672 \r\nQ 1544 4750 1819 4750 \r\nQ 2544 4750 2975 4387 \r\nQ 3406 4025 3406 3419 \r\nQ 3406 3131 3298 2873 \r\nQ 3191 2616 2906 2266 \r\nQ 2828 2175 2409 1742 \r\nQ 1991 1309 1228 531 \r\nz\r\n\" id=\"DejaVuSans-32\" transform=\"scale(0.015625)\"/>\r\n       </defs>\r\n       <use xlink:href=\"#DejaVuSans-32\"/>\r\n       <use x=\"63.623047\" xlink:href=\"#DejaVuSans-30\"/>\r\n      </g>\r\n     </g>\r\n    </g>\r\n    <g id=\"xtick_6\">\r\n     <g id=\"line2d_6\">\r\n      <g>\r\n       <use style=\"stroke:#000000;stroke-width:0.8;\" x=\"310.816477\" xlink:href=\"#m4cb3a657cd\" y=\"248.254606\"/>\r\n      </g>\r\n     </g>\r\n     <g id=\"text_6\">\r\n      <!-- 25 -->\r\n      <g transform=\"translate(304.453977 262.853043)scale(0.1 -0.1)\">\r\n       <use xlink:href=\"#DejaVuSans-32\"/>\r\n       <use x=\"63.623047\" xlink:href=\"#DejaVuSans-35\"/>\r\n      </g>\r\n     </g>\r\n    </g>\r\n    <g id=\"xtick_7\">\r\n     <g id=\"line2d_7\">\r\n      <g>\r\n       <use style=\"stroke:#000000;stroke-width:0.8;\" x=\"359.907386\" xlink:href=\"#m4cb3a657cd\" y=\"248.254606\"/>\r\n      </g>\r\n     </g>\r\n     <g id=\"text_7\">\r\n      <!-- 30 -->\r\n      <g transform=\"translate(353.544886 262.853043)scale(0.1 -0.1)\">\r\n       <defs>\r\n        <path d=\"M 2597 2516 \r\nQ 3050 2419 3304 2112 \r\nQ 3559 1806 3559 1356 \r\nQ 3559 666 3084 287 \r\nQ 2609 -91 1734 -91 \r\nQ 1441 -91 1130 -33 \r\nQ 819 25 488 141 \r\nL 488 750 \r\nQ 750 597 1062 519 \r\nQ 1375 441 1716 441 \r\nQ 2309 441 2620 675 \r\nQ 2931 909 2931 1356 \r\nQ 2931 1769 2642 2001 \r\nQ 2353 2234 1838 2234 \r\nL 1294 2234 \r\nL 1294 2753 \r\nL 1863 2753 \r\nQ 2328 2753 2575 2939 \r\nQ 2822 3125 2822 3475 \r\nQ 2822 3834 2567 4026 \r\nQ 2313 4219 1838 4219 \r\nQ 1578 4219 1281 4162 \r\nQ 984 4106 628 3988 \r\nL 628 4550 \r\nQ 988 4650 1302 4700 \r\nQ 1616 4750 1894 4750 \r\nQ 2613 4750 3031 4423 \r\nQ 3450 4097 3450 3541 \r\nQ 3450 3153 3228 2886 \r\nQ 3006 2619 2597 2516 \r\nz\r\n\" id=\"DejaVuSans-33\" transform=\"scale(0.015625)\"/>\r\n       </defs>\r\n       <use xlink:href=\"#DejaVuSans-33\"/>\r\n       <use x=\"63.623047\" xlink:href=\"#DejaVuSans-30\"/>\r\n      </g>\r\n     </g>\r\n    </g>\r\n    <g id=\"text_8\">\r\n     <!-- No. of clusters -->\r\n     <g transform=\"translate(181.635938 276.531168)scale(0.1 -0.1)\">\r\n      <defs>\r\n       <path d=\"M 628 4666 \r\nL 1478 4666 \r\nL 3547 763 \r\nL 3547 4666 \r\nL 4159 4666 \r\nL 4159 0 \r\nL 3309 0 \r\nL 1241 3903 \r\nL 1241 0 \r\nL 628 0 \r\nL 628 4666 \r\nz\r\n\" id=\"DejaVuSans-4e\" transform=\"scale(0.015625)\"/>\r\n       <path d=\"M 1959 3097 \r\nQ 1497 3097 1228 2736 \r\nQ 959 2375 959 1747 \r\nQ 959 1119 1226 758 \r\nQ 1494 397 1959 397 \r\nQ 2419 397 2687 759 \r\nQ 2956 1122 2956 1747 \r\nQ 2956 2369 2687 2733 \r\nQ 2419 3097 1959 3097 \r\nz\r\nM 1959 3584 \r\nQ 2709 3584 3137 3096 \r\nQ 3566 2609 3566 1747 \r\nQ 3566 888 3137 398 \r\nQ 2709 -91 1959 -91 \r\nQ 1206 -91 779 398 \r\nQ 353 888 353 1747 \r\nQ 353 2609 779 3096 \r\nQ 1206 3584 1959 3584 \r\nz\r\n\" id=\"DejaVuSans-6f\" transform=\"scale(0.015625)\"/>\r\n       <path d=\"M 684 794 \r\nL 1344 794 \r\nL 1344 0 \r\nL 684 0 \r\nL 684 794 \r\nz\r\n\" id=\"DejaVuSans-2e\" transform=\"scale(0.015625)\"/>\r\n       <path id=\"DejaVuSans-20\" transform=\"scale(0.015625)\"/>\r\n       <path d=\"M 2375 4863 \r\nL 2375 4384 \r\nL 1825 4384 \r\nQ 1516 4384 1395 4259 \r\nQ 1275 4134 1275 3809 \r\nL 1275 3500 \r\nL 2222 3500 \r\nL 2222 3053 \r\nL 1275 3053 \r\nL 1275 0 \r\nL 697 0 \r\nL 697 3053 \r\nL 147 3053 \r\nL 147 3500 \r\nL 697 3500 \r\nL 697 3744 \r\nQ 697 4328 969 4595 \r\nQ 1241 4863 1831 4863 \r\nL 2375 4863 \r\nz\r\n\" id=\"DejaVuSans-66\" transform=\"scale(0.015625)\"/>\r\n       <path d=\"M 3122 3366 \r\nL 3122 2828 \r\nQ 2878 2963 2633 3030 \r\nQ 2388 3097 2138 3097 \r\nQ 1578 3097 1268 2742 \r\nQ 959 2388 959 1747 \r\nQ 959 1106 1268 751 \r\nQ 1578 397 2138 397 \r\nQ 2388 397 2633 464 \r\nQ 2878 531 3122 666 \r\nL 3122 134 \r\nQ 2881 22 2623 -34 \r\nQ 2366 -91 2075 -91 \r\nQ 1284 -91 818 406 \r\nQ 353 903 353 1747 \r\nQ 353 2603 823 3093 \r\nQ 1294 3584 2113 3584 \r\nQ 2378 3584 2631 3529 \r\nQ 2884 3475 3122 3366 \r\nz\r\n\" id=\"DejaVuSans-63\" transform=\"scale(0.015625)\"/>\r\n       <path d=\"M 603 4863 \r\nL 1178 4863 \r\nL 1178 0 \r\nL 603 0 \r\nL 603 4863 \r\nz\r\n\" id=\"DejaVuSans-6c\" transform=\"scale(0.015625)\"/>\r\n       <path d=\"M 544 1381 \r\nL 544 3500 \r\nL 1119 3500 \r\nL 1119 1403 \r\nQ 1119 906 1312 657 \r\nQ 1506 409 1894 409 \r\nQ 2359 409 2629 706 \r\nQ 2900 1003 2900 1516 \r\nL 2900 3500 \r\nL 3475 3500 \r\nL 3475 0 \r\nL 2900 0 \r\nL 2900 538 \r\nQ 2691 219 2414 64 \r\nQ 2138 -91 1772 -91 \r\nQ 1169 -91 856 284 \r\nQ 544 659 544 1381 \r\nz\r\nM 1991 3584 \r\nL 1991 3584 \r\nz\r\n\" id=\"DejaVuSans-75\" transform=\"scale(0.015625)\"/>\r\n       <path d=\"M 2834 3397 \r\nL 2834 2853 \r\nQ 2591 2978 2328 3040 \r\nQ 2066 3103 1784 3103 \r\nQ 1356 3103 1142 2972 \r\nQ 928 2841 928 2578 \r\nQ 928 2378 1081 2264 \r\nQ 1234 2150 1697 2047 \r\nL 1894 2003 \r\nQ 2506 1872 2764 1633 \r\nQ 3022 1394 3022 966 \r\nQ 3022 478 2636 193 \r\nQ 2250 -91 1575 -91 \r\nQ 1294 -91 989 -36 \r\nQ 684 19 347 128 \r\nL 347 722 \r\nQ 666 556 975 473 \r\nQ 1284 391 1588 391 \r\nQ 1994 391 2212 530 \r\nQ 2431 669 2431 922 \r\nQ 2431 1156 2273 1281 \r\nQ 2116 1406 1581 1522 \r\nL 1381 1569 \r\nQ 847 1681 609 1914 \r\nQ 372 2147 372 2553 \r\nQ 372 3047 722 3315 \r\nQ 1072 3584 1716 3584 \r\nQ 2034 3584 2315 3537 \r\nQ 2597 3491 2834 3397 \r\nz\r\n\" id=\"DejaVuSans-73\" transform=\"scale(0.015625)\"/>\r\n       <path d=\"M 1172 4494 \r\nL 1172 3500 \r\nL 2356 3500 \r\nL 2356 3053 \r\nL 1172 3053 \r\nL 1172 1153 \r\nQ 1172 725 1289 603 \r\nQ 1406 481 1766 481 \r\nL 2356 481 \r\nL 2356 0 \r\nL 1766 0 \r\nQ 1100 0 847 248 \r\nQ 594 497 594 1153 \r\nL 594 3053 \r\nL 172 3053 \r\nL 172 3500 \r\nL 594 3500 \r\nL 594 4494 \r\nL 1172 4494 \r\nz\r\n\" id=\"DejaVuSans-74\" transform=\"scale(0.015625)\"/>\r\n       <path d=\"M 3597 1894 \r\nL 3597 1613 \r\nL 953 1613 \r\nQ 991 1019 1311 708 \r\nQ 1631 397 2203 397 \r\nQ 2534 397 2845 478 \r\nQ 3156 559 3463 722 \r\nL 3463 178 \r\nQ 3153 47 2828 -22 \r\nQ 2503 -91 2169 -91 \r\nQ 1331 -91 842 396 \r\nQ 353 884 353 1716 \r\nQ 353 2575 817 3079 \r\nQ 1281 3584 2069 3584 \r\nQ 2775 3584 3186 3129 \r\nQ 3597 2675 3597 1894 \r\nz\r\nM 3022 2063 \r\nQ 3016 2534 2758 2815 \r\nQ 2500 3097 2075 3097 \r\nQ 1594 3097 1305 2825 \r\nQ 1016 2553 972 2059 \r\nL 3022 2063 \r\nz\r\n\" id=\"DejaVuSans-65\" transform=\"scale(0.015625)\"/>\r\n       <path d=\"M 2631 2963 \r\nQ 2534 3019 2420 3045 \r\nQ 2306 3072 2169 3072 \r\nQ 1681 3072 1420 2755 \r\nQ 1159 2438 1159 1844 \r\nL 1159 0 \r\nL 581 0 \r\nL 581 3500 \r\nL 1159 3500 \r\nL 1159 2956 \r\nQ 1341 3275 1631 3429 \r\nQ 1922 3584 2338 3584 \r\nQ 2397 3584 2469 3576 \r\nQ 2541 3569 2628 3553 \r\nL 2631 2963 \r\nz\r\n\" id=\"DejaVuSans-72\" transform=\"scale(0.015625)\"/>\r\n      </defs>\r\n      <use xlink:href=\"#DejaVuSans-4e\"/>\r\n      <use x=\"74.804688\" xlink:href=\"#DejaVuSans-6f\"/>\r\n      <use x=\"134.236328\" xlink:href=\"#DejaVuSans-2e\"/>\r\n      <use x=\"166.023438\" xlink:href=\"#DejaVuSans-20\"/>\r\n      <use x=\"197.810547\" xlink:href=\"#DejaVuSans-6f\"/>\r\n      <use x=\"258.992188\" xlink:href=\"#DejaVuSans-66\"/>\r\n      <use x=\"294.197266\" xlink:href=\"#DejaVuSans-20\"/>\r\n      <use x=\"325.984375\" xlink:href=\"#DejaVuSans-63\"/>\r\n      <use x=\"380.964844\" xlink:href=\"#DejaVuSans-6c\"/>\r\n      <use x=\"408.748047\" xlink:href=\"#DejaVuSans-75\"/>\r\n      <use x=\"472.126953\" xlink:href=\"#DejaVuSans-73\"/>\r\n      <use x=\"524.226562\" xlink:href=\"#DejaVuSans-74\"/>\r\n      <use x=\"563.435547\" xlink:href=\"#DejaVuSans-65\"/>\r\n      <use x=\"624.958984\" xlink:href=\"#DejaVuSans-72\"/>\r\n      <use x=\"666.072266\" xlink:href=\"#DejaVuSans-73\"/>\r\n     </g>\r\n    </g>\r\n   </g>\r\n   <g id=\"matplotlib.axis_2\">\r\n    <g id=\"ytick_1\">\r\n     <g id=\"line2d_8\">\r\n      <defs>\r\n       <path d=\"M 0 0 \r\nL -3.5 0 \r\n\" id=\"m2dcef77b61\" style=\"stroke:#000000;stroke-width:0.8;\"/>\r\n      </defs>\r\n      <g>\r\n       <use style=\"stroke:#000000;stroke-width:0.8;\" x=\"50.14375\" xlink:href=\"#m2dcef77b61\" y=\"247.228683\"/>\r\n      </g>\r\n     </g>\r\n     <g id=\"text_9\">\r\n      <!-- 0.00 -->\r\n      <g transform=\"translate(20.878125 251.027902)scale(0.1 -0.1)\">\r\n       <use xlink:href=\"#DejaVuSans-30\"/>\r\n       <use x=\"63.623047\" xlink:href=\"#DejaVuSans-2e\"/>\r\n       <use x=\"95.410156\" xlink:href=\"#DejaVuSans-30\"/>\r\n       <use x=\"159.033203\" xlink:href=\"#DejaVuSans-30\"/>\r\n      </g>\r\n     </g>\r\n    </g>\r\n    <g id=\"ytick_2\">\r\n     <g id=\"line2d_9\">\r\n      <g>\r\n       <use style=\"stroke:#000000;stroke-width:0.8;\" x=\"50.14375\" xlink:href=\"#m2dcef77b61\" y=\"213.047765\"/>\r\n      </g>\r\n     </g>\r\n     <g id=\"text_10\">\r\n      <!-- 0.05 -->\r\n      <g transform=\"translate(20.878125 216.846984)scale(0.1 -0.1)\">\r\n       <use xlink:href=\"#DejaVuSans-30\"/>\r\n       <use x=\"63.623047\" xlink:href=\"#DejaVuSans-2e\"/>\r\n       <use x=\"95.410156\" xlink:href=\"#DejaVuSans-30\"/>\r\n       <use x=\"159.033203\" xlink:href=\"#DejaVuSans-35\"/>\r\n      </g>\r\n     </g>\r\n    </g>\r\n    <g id=\"ytick_3\">\r\n     <g id=\"line2d_10\">\r\n      <g>\r\n       <use style=\"stroke:#000000;stroke-width:0.8;\" x=\"50.14375\" xlink:href=\"#m2dcef77b61\" y=\"178.866846\"/>\r\n      </g>\r\n     </g>\r\n     <g id=\"text_11\">\r\n      <!-- 0.10 -->\r\n      <g transform=\"translate(20.878125 182.666065)scale(0.1 -0.1)\">\r\n       <use xlink:href=\"#DejaVuSans-30\"/>\r\n       <use x=\"63.623047\" xlink:href=\"#DejaVuSans-2e\"/>\r\n       <use x=\"95.410156\" xlink:href=\"#DejaVuSans-31\"/>\r\n       <use x=\"159.033203\" xlink:href=\"#DejaVuSans-30\"/>\r\n      </g>\r\n     </g>\r\n    </g>\r\n    <g id=\"ytick_4\">\r\n     <g id=\"line2d_11\">\r\n      <g>\r\n       <use style=\"stroke:#000000;stroke-width:0.8;\" x=\"50.14375\" xlink:href=\"#m2dcef77b61\" y=\"144.685928\"/>\r\n      </g>\r\n     </g>\r\n     <g id=\"text_12\">\r\n      <!-- 0.15 -->\r\n      <g transform=\"translate(20.878125 148.485147)scale(0.1 -0.1)\">\r\n       <use xlink:href=\"#DejaVuSans-30\"/>\r\n       <use x=\"63.623047\" xlink:href=\"#DejaVuSans-2e\"/>\r\n       <use x=\"95.410156\" xlink:href=\"#DejaVuSans-31\"/>\r\n       <use x=\"159.033203\" xlink:href=\"#DejaVuSans-35\"/>\r\n      </g>\r\n     </g>\r\n    </g>\r\n    <g id=\"ytick_5\">\r\n     <g id=\"line2d_12\">\r\n      <g>\r\n       <use style=\"stroke:#000000;stroke-width:0.8;\" x=\"50.14375\" xlink:href=\"#m2dcef77b61\" y=\"110.505009\"/>\r\n      </g>\r\n     </g>\r\n     <g id=\"text_13\">\r\n      <!-- 0.20 -->\r\n      <g transform=\"translate(20.878125 114.304228)scale(0.1 -0.1)\">\r\n       <use xlink:href=\"#DejaVuSans-30\"/>\r\n       <use x=\"63.623047\" xlink:href=\"#DejaVuSans-2e\"/>\r\n       <use x=\"95.410156\" xlink:href=\"#DejaVuSans-32\"/>\r\n       <use x=\"159.033203\" xlink:href=\"#DejaVuSans-30\"/>\r\n      </g>\r\n     </g>\r\n    </g>\r\n    <g id=\"ytick_6\">\r\n     <g id=\"line2d_13\">\r\n      <g>\r\n       <use style=\"stroke:#000000;stroke-width:0.8;\" x=\"50.14375\" xlink:href=\"#m2dcef77b61\" y=\"76.324091\"/>\r\n      </g>\r\n     </g>\r\n     <g id=\"text_14\">\r\n      <!-- 0.25 -->\r\n      <g transform=\"translate(20.878125 80.12331)scale(0.1 -0.1)\">\r\n       <use xlink:href=\"#DejaVuSans-30\"/>\r\n       <use x=\"63.623047\" xlink:href=\"#DejaVuSans-2e\"/>\r\n       <use x=\"95.410156\" xlink:href=\"#DejaVuSans-32\"/>\r\n       <use x=\"159.033203\" xlink:href=\"#DejaVuSans-35\"/>\r\n      </g>\r\n     </g>\r\n    </g>\r\n    <g id=\"ytick_7\">\r\n     <g id=\"line2d_14\">\r\n      <g>\r\n       <use style=\"stroke:#000000;stroke-width:0.8;\" x=\"50.14375\" xlink:href=\"#m2dcef77b61\" y=\"42.143172\"/>\r\n      </g>\r\n     </g>\r\n     <g id=\"text_15\">\r\n      <!-- 0.30 -->\r\n      <g transform=\"translate(20.878125 45.942391)scale(0.1 -0.1)\">\r\n       <use xlink:href=\"#DejaVuSans-30\"/>\r\n       <use x=\"63.623047\" xlink:href=\"#DejaVuSans-2e\"/>\r\n       <use x=\"95.410156\" xlink:href=\"#DejaVuSans-33\"/>\r\n       <use x=\"159.033203\" xlink:href=\"#DejaVuSans-30\"/>\r\n      </g>\r\n     </g>\r\n    </g>\r\n    <g id=\"text_16\">\r\n     <!-- Silhoutte score -->\r\n     <g transform=\"translate(14.798438 176.902574)rotate(-90)scale(0.1 -0.1)\">\r\n      <defs>\r\n       <path d=\"M 3425 4513 \r\nL 3425 3897 \r\nQ 3066 4069 2747 4153 \r\nQ 2428 4238 2131 4238 \r\nQ 1616 4238 1336 4038 \r\nQ 1056 3838 1056 3469 \r\nQ 1056 3159 1242 3001 \r\nQ 1428 2844 1947 2747 \r\nL 2328 2669 \r\nQ 3034 2534 3370 2195 \r\nQ 3706 1856 3706 1288 \r\nQ 3706 609 3251 259 \r\nQ 2797 -91 1919 -91 \r\nQ 1588 -91 1214 -16 \r\nQ 841 59 441 206 \r\nL 441 856 \r\nQ 825 641 1194 531 \r\nQ 1563 422 1919 422 \r\nQ 2459 422 2753 634 \r\nQ 3047 847 3047 1241 \r\nQ 3047 1584 2836 1778 \r\nQ 2625 1972 2144 2069 \r\nL 1759 2144 \r\nQ 1053 2284 737 2584 \r\nQ 422 2884 422 3419 \r\nQ 422 4038 858 4394 \r\nQ 1294 4750 2059 4750 \r\nQ 2388 4750 2728 4690 \r\nQ 3069 4631 3425 4513 \r\nz\r\n\" id=\"DejaVuSans-53\" transform=\"scale(0.015625)\"/>\r\n       <path d=\"M 603 3500 \r\nL 1178 3500 \r\nL 1178 0 \r\nL 603 0 \r\nL 603 3500 \r\nz\r\nM 603 4863 \r\nL 1178 4863 \r\nL 1178 4134 \r\nL 603 4134 \r\nL 603 4863 \r\nz\r\n\" id=\"DejaVuSans-69\" transform=\"scale(0.015625)\"/>\r\n       <path d=\"M 3513 2113 \r\nL 3513 0 \r\nL 2938 0 \r\nL 2938 2094 \r\nQ 2938 2591 2744 2837 \r\nQ 2550 3084 2163 3084 \r\nQ 1697 3084 1428 2787 \r\nQ 1159 2491 1159 1978 \r\nL 1159 0 \r\nL 581 0 \r\nL 581 4863 \r\nL 1159 4863 \r\nL 1159 2956 \r\nQ 1366 3272 1645 3428 \r\nQ 1925 3584 2291 3584 \r\nQ 2894 3584 3203 3211 \r\nQ 3513 2838 3513 2113 \r\nz\r\n\" id=\"DejaVuSans-68\" transform=\"scale(0.015625)\"/>\r\n      </defs>\r\n      <use xlink:href=\"#DejaVuSans-53\"/>\r\n      <use x=\"63.476562\" xlink:href=\"#DejaVuSans-69\"/>\r\n      <use x=\"91.259766\" xlink:href=\"#DejaVuSans-6c\"/>\r\n      <use x=\"119.042969\" xlink:href=\"#DejaVuSans-68\"/>\r\n      <use x=\"182.421875\" xlink:href=\"#DejaVuSans-6f\"/>\r\n      <use x=\"243.603516\" xlink:href=\"#DejaVuSans-75\"/>\r\n      <use x=\"306.982422\" xlink:href=\"#DejaVuSans-74\"/>\r\n      <use x=\"346.191406\" xlink:href=\"#DejaVuSans-74\"/>\r\n      <use x=\"385.400391\" xlink:href=\"#DejaVuSans-65\"/>\r\n      <use x=\"446.923828\" xlink:href=\"#DejaVuSans-20\"/>\r\n      <use x=\"478.710938\" xlink:href=\"#DejaVuSans-73\"/>\r\n      <use x=\"530.810547\" xlink:href=\"#DejaVuSans-63\"/>\r\n      <use x=\"585.791016\" xlink:href=\"#DejaVuSans-6f\"/>\r\n      <use x=\"646.972656\" xlink:href=\"#DejaVuSans-72\"/>\r\n      <use x=\"685.835938\" xlink:href=\"#DejaVuSans-65\"/>\r\n     </g>\r\n    </g>\r\n   </g>\r\n   <g id=\"line2d_15\">\r\n    <path clip-path=\"url(#pfc25be09a5)\" d=\"M 65.361932 54.29334 \r\nL 75.180114 50.579997 \r\nL 84.998295 40.698242 \r\nL 94.816477 52.288819 \r\nL 104.634659 45.107553 \r\nL 114.452841 46.226063 \r\nL 124.271023 55.688262 \r\nL 134.089205 49.268296 \r\nL 143.907386 57.386566 \r\nL 153.725568 59.333096 \r\nL 163.54375 60.758585 \r\nL 173.361932 75.756813 \r\nL 183.180114 88.270538 \r\nL 192.998295 84.376709 \r\nL 202.816477 91.304363 \r\nL 212.634659 94.846498 \r\nL 222.452841 108.353676 \r\nL 232.271023 112.075735 \r\nL 242.089205 126.901079 \r\nL 251.907386 139.347702 \r\nL 261.725568 136.646436 \r\nL 271.54375 140.714716 \r\nL 281.361932 146.983306 \r\nL 291.180114 152.909974 \r\nL 300.998295 165.334769 \r\nL 310.816477 174.173756 \r\nL 320.634659 193.62936 \r\nL 330.452841 199.152038 \r\nL 340.271023 200.370557 \r\nL 350.089205 214.482864 \r\nL 359.907386 225.828959 \r\nL 369.725568 238.370969 \r\n\" style=\"fill:none;stroke:#1f77b4;stroke-linecap:square;stroke-width:1.5;\"/>\r\n   </g>\r\n   <g id=\"line2d_16\">\r\n    <path clip-path=\"url(#pfc25be09a5)\" d=\"M 84.998295 248.254606 \r\nL 84.998295 30.814606 \r\n\" style=\"fill:none;stroke:#1f77b4;stroke-linecap:square;stroke-width:1.5;\"/>\r\n   </g>\r\n   <g id=\"patch_3\">\r\n    <path d=\"M 50.14375 248.254606 \r\nL 50.14375 30.814606 \r\n\" style=\"fill:none;stroke:#000000;stroke-linecap:square;stroke-linejoin:miter;stroke-width:0.8;\"/>\r\n   </g>\r\n   <g id=\"patch_4\">\r\n    <path d=\"M 384.94375 248.254606 \r\nL 384.94375 30.814606 \r\n\" style=\"fill:none;stroke:#000000;stroke-linecap:square;stroke-linejoin:miter;stroke-width:0.8;\"/>\r\n   </g>\r\n   <g id=\"patch_5\">\r\n    <path d=\"M 50.14375 248.254606 \r\nL 384.94375 248.254606 \r\n\" style=\"fill:none;stroke:#000000;stroke-linecap:square;stroke-linejoin:miter;stroke-width:0.8;\"/>\r\n   </g>\r\n   <g id=\"patch_6\">\r\n    <path d=\"M 50.14375 30.814606 \r\nL 384.94375 30.814606 \r\n\" style=\"fill:none;stroke:#000000;stroke-linecap:square;stroke-linejoin:miter;stroke-width:0.8;\"/>\r\n   </g>\r\n   <g id=\"text_17\">\r\n    <!-- Max silhoutte score at n=2 -->\r\n    <g transform=\"translate(84.998295 14.798437)scale(0.1 -0.1)\">\r\n     <defs>\r\n      <path d=\"M 628 4666 \r\nL 1569 4666 \r\nL 2759 1491 \r\nL 3956 4666 \r\nL 4897 4666 \r\nL 4897 0 \r\nL 4281 0 \r\nL 4281 4097 \r\nL 3078 897 \r\nL 2444 897 \r\nL 1241 4097 \r\nL 1241 0 \r\nL 628 0 \r\nL 628 4666 \r\nz\r\n\" id=\"DejaVuSans-4d\" transform=\"scale(0.015625)\"/>\r\n      <path d=\"M 2194 1759 \r\nQ 1497 1759 1228 1600 \r\nQ 959 1441 959 1056 \r\nQ 959 750 1161 570 \r\nQ 1363 391 1709 391 \r\nQ 2188 391 2477 730 \r\nQ 2766 1069 2766 1631 \r\nL 2766 1759 \r\nL 2194 1759 \r\nz\r\nM 3341 1997 \r\nL 3341 0 \r\nL 2766 0 \r\nL 2766 531 \r\nQ 2569 213 2275 61 \r\nQ 1981 -91 1556 -91 \r\nQ 1019 -91 701 211 \r\nQ 384 513 384 1019 \r\nQ 384 1609 779 1909 \r\nQ 1175 2209 1959 2209 \r\nL 2766 2209 \r\nL 2766 2266 \r\nQ 2766 2663 2505 2880 \r\nQ 2244 3097 1772 3097 \r\nQ 1472 3097 1187 3025 \r\nQ 903 2953 641 2809 \r\nL 641 3341 \r\nQ 956 3463 1253 3523 \r\nQ 1550 3584 1831 3584 \r\nQ 2591 3584 2966 3190 \r\nQ 3341 2797 3341 1997 \r\nz\r\n\" id=\"DejaVuSans-61\" transform=\"scale(0.015625)\"/>\r\n      <path d=\"M 3513 3500 \r\nL 2247 1797 \r\nL 3578 0 \r\nL 2900 0 \r\nL 1881 1375 \r\nL 863 0 \r\nL 184 0 \r\nL 1544 1831 \r\nL 300 3500 \r\nL 978 3500 \r\nL 1906 2253 \r\nL 2834 3500 \r\nL 3513 3500 \r\nz\r\n\" id=\"DejaVuSans-78\" transform=\"scale(0.015625)\"/>\r\n      <path d=\"M 3513 2113 \r\nL 3513 0 \r\nL 2938 0 \r\nL 2938 2094 \r\nQ 2938 2591 2744 2837 \r\nQ 2550 3084 2163 3084 \r\nQ 1697 3084 1428 2787 \r\nQ 1159 2491 1159 1978 \r\nL 1159 0 \r\nL 581 0 \r\nL 581 3500 \r\nL 1159 3500 \r\nL 1159 2956 \r\nQ 1366 3272 1645 3428 \r\nQ 1925 3584 2291 3584 \r\nQ 2894 3584 3203 3211 \r\nQ 3513 2838 3513 2113 \r\nz\r\n\" id=\"DejaVuSans-6e\" transform=\"scale(0.015625)\"/>\r\n      <path d=\"M 678 2906 \r\nL 4684 2906 \r\nL 4684 2381 \r\nL 678 2381 \r\nL 678 2906 \r\nz\r\nM 678 1631 \r\nL 4684 1631 \r\nL 4684 1100 \r\nL 678 1100 \r\nL 678 1631 \r\nz\r\n\" id=\"DejaVuSans-3d\" transform=\"scale(0.015625)\"/>\r\n     </defs>\r\n     <use xlink:href=\"#DejaVuSans-4d\"/>\r\n     <use x=\"86.279297\" xlink:href=\"#DejaVuSans-61\"/>\r\n     <use x=\"147.558594\" xlink:href=\"#DejaVuSans-78\"/>\r\n     <use x=\"206.738281\" xlink:href=\"#DejaVuSans-20\"/>\r\n     <use x=\"238.525391\" xlink:href=\"#DejaVuSans-73\"/>\r\n     <use x=\"290.625\" xlink:href=\"#DejaVuSans-69\"/>\r\n     <use x=\"318.408203\" xlink:href=\"#DejaVuSans-6c\"/>\r\n     <use x=\"346.191406\" xlink:href=\"#DejaVuSans-68\"/>\r\n     <use x=\"409.570312\" xlink:href=\"#DejaVuSans-6f\"/>\r\n     <use x=\"470.751953\" xlink:href=\"#DejaVuSans-75\"/>\r\n     <use x=\"534.130859\" xlink:href=\"#DejaVuSans-74\"/>\r\n     <use x=\"573.339844\" xlink:href=\"#DejaVuSans-74\"/>\r\n     <use x=\"612.548828\" xlink:href=\"#DejaVuSans-65\"/>\r\n     <use x=\"674.072266\" xlink:href=\"#DejaVuSans-20\"/>\r\n     <use x=\"705.859375\" xlink:href=\"#DejaVuSans-73\"/>\r\n     <use x=\"757.958984\" xlink:href=\"#DejaVuSans-63\"/>\r\n     <use x=\"812.939453\" xlink:href=\"#DejaVuSans-6f\"/>\r\n     <use x=\"874.121094\" xlink:href=\"#DejaVuSans-72\"/>\r\n     <use x=\"912.984375\" xlink:href=\"#DejaVuSans-65\"/>\r\n     <use x=\"974.507812\" xlink:href=\"#DejaVuSans-20\"/>\r\n     <use x=\"1006.294922\" xlink:href=\"#DejaVuSans-61\"/>\r\n     <use x=\"1067.574219\" xlink:href=\"#DejaVuSans-74\"/>\r\n     <use x=\"1106.783203\" xlink:href=\"#DejaVuSans-20\"/>\r\n     <use x=\"1138.570312\" xlink:href=\"#DejaVuSans-6e\"/>\r\n     <use x=\"1201.949219\" xlink:href=\"#DejaVuSans-3d\"/>\r\n     <use x=\"1285.738281\" xlink:href=\"#DejaVuSans-32\"/>\r\n    </g>\r\n   </g>\r\n   <g id=\"legend_1\">\r\n    <g id=\"patch_7\">\r\n     <path d=\"M 339.58125 53.492731 \r\nL 377.94375 53.492731 \r\nQ 379.94375 53.492731 379.94375 51.492731 \r\nL 379.94375 37.814606 \r\nQ 379.94375 35.814606 377.94375 35.814606 \r\nL 339.58125 35.814606 \r\nQ 337.58125 35.814606 337.58125 37.814606 \r\nL 337.58125 51.492731 \r\nQ 337.58125 53.492731 339.58125 53.492731 \r\nz\r\n\" style=\"fill:#ffffff;opacity:0.8;stroke:#cccccc;stroke-linejoin:miter;\"/>\r\n    </g>\r\n    <g id=\"line2d_17\">\r\n     <path d=\"M 341.58125 43.913043 \r\nL 361.58125 43.913043 \r\n\" style=\"fill:none;stroke:#1f77b4;stroke-linecap:square;stroke-width:1.5;\"/>\r\n    </g>\r\n    <g id=\"line2d_18\"/>\r\n    <g id=\"text_18\">\r\n     <!-- 0 -->\r\n     <g transform=\"translate(369.58125 47.413043)scale(0.1 -0.1)\">\r\n      <use xlink:href=\"#DejaVuSans-30\"/>\r\n     </g>\r\n    </g>\r\n   </g>\r\n  </g>\r\n </g>\r\n <defs>\r\n  <clipPath id=\"pfc25be09a5\">\r\n   <rect height=\"217.44\" width=\"334.8\" x=\"50.14375\" y=\"30.814606\"/>\r\n  </clipPath>\r\n </defs>\r\n</svg>\r\n",
      "image/png": "[encoded data removed]"
     },
     "metadata": {
      "needs_background": "light"
     }
    }
   ],
   "source": [
    "enrollments_x = create_aggregate(enrollments)\n",
    "enrollments_result=create_clusters(enrollments_x,['Primary_Total', 'Upper_Primary_Total', 'Secondary_Total','Higher_Secondary_Total'])\n",
    "enrollments_clusters=return_clusters(enrollments_result)"
   ]
  },
  {
   "cell_type": "code",
   "execution_count": null,
   "metadata": {},
   "outputs": [],
   "source": [
    "enrollments_clusters"
   ]
  },
  {
   "cell_type": "code",
   "execution_count": 164,
   "metadata": {},
   "outputs": [
    {
     "output_type": "execute_result",
     "data": {
      "text/plain": [
       "<pandas.io.formats.style.Styler at 0x1f8566754c0>"
      ],
      "text/html": "<style  type=\"text/css\" >\n#T_80640_row0_col0{\n            background-color:  #dbf1a4;\n            color:  #000000;\n        }#T_80640_row0_col1{\n            background-color:  #e2f4aa;\n            color:  #000000;\n        }#T_80640_row0_col2{\n            background-color:  #def2a7;\n            color:  #000000;\n        }#T_80640_row0_col3{\n            background-color:  #aedd8e;\n            color:  #000000;\n        }#T_80640_row0_col4{\n            background-color:  #9fd788;\n            color:  #000000;\n        }#T_80640_row0_col5{\n            background-color:  #a2d88a;\n            color:  #000000;\n        }#T_80640_row0_col6{\n            background-color:  #95d385;\n            color:  #000000;\n        }#T_80640_row0_col7,#T_80640_row5_col7{\n            background-color:  #89ce80;\n            color:  #000000;\n        }#T_80640_row0_col8{\n            background-color:  #8ed082;\n            color:  #000000;\n        }#T_80640_row0_col9{\n            background-color:  #86cc7f;\n            color:  #000000;\n        }#T_80640_row0_col10{\n            background-color:  #3ca458;\n            color:  #000000;\n        }#T_80640_row0_col11{\n            background-color:  #72c376;\n            color:  #000000;\n        }#T_80640_row1_col0,#T_80640_row1_col1,#T_80640_row1_col2,#T_80640_row1_col3,#T_80640_row1_col4,#T_80640_row1_col5,#T_80640_row1_col6,#T_80640_row1_col7,#T_80640_row1_col8,#T_80640_row3_col10,#T_80640_row4_col9,#T_80640_row4_col11{\n            background-color:  #ffffe5;\n            color:  #000000;\n        }#T_80640_row1_col9,#T_80640_row1_col10,#T_80640_row1_col11,#T_80640_row3_col6,#T_80640_row3_col7,#T_80640_row3_col8,#T_80640_row4_col3,#T_80640_row4_col4,#T_80640_row4_col5,#T_80640_row5_col0,#T_80640_row5_col1,#T_80640_row5_col2{\n            background-color:  #004529;\n            color:  #f1f1f1;\n        }#T_80640_row2_col0,#T_80640_row2_col7{\n            background-color:  #e7f6ad;\n            color:  #000000;\n        }#T_80640_row2_col1,#T_80640_row2_col2{\n            background-color:  #e6f5ac;\n            color:  #000000;\n        }#T_80640_row2_col3{\n            background-color:  #f8fcc0;\n            color:  #000000;\n        }#T_80640_row2_col4{\n            background-color:  #e4f4ab;\n            color:  #000000;\n        }#T_80640_row2_col5{\n            background-color:  #edf8b1;\n            color:  #000000;\n        }#T_80640_row2_col6,#T_80640_row2_col11{\n            background-color:  #ebf7b0;\n            color:  #000000;\n        }#T_80640_row2_col8{\n            background-color:  #e9f6af;\n            color:  #000000;\n        }#T_80640_row2_col9,#T_80640_row3_col1{\n            background-color:  #f1fab5;\n            color:  #000000;\n        }#T_80640_row2_col10{\n            background-color:  #d9f0a3;\n            color:  #000000;\n        }#T_80640_row3_col0{\n            background-color:  #edf8b2;\n            color:  #000000;\n        }#T_80640_row3_col2{\n            background-color:  #eff9b3;\n            color:  #000000;\n        }#T_80640_row3_col3{\n            background-color:  #bce395;\n            color:  #000000;\n        }#T_80640_row3_col4{\n            background-color:  #cbea9c;\n            color:  #000000;\n        }#T_80640_row3_col5{\n            background-color:  #c1e698;\n            color:  #000000;\n        }#T_80640_row3_col9{\n            background-color:  #fbfed0;\n            color:  #000000;\n        }#T_80640_row3_col11{\n            background-color:  #fdfedd;\n            color:  #000000;\n        }#T_80640_row4_col0{\n            background-color:  #086e3a;\n            color:  #f1f1f1;\n        }#T_80640_row4_col1{\n            background-color:  #11753d;\n            color:  #f1f1f1;\n        }#T_80640_row4_col2{\n            background-color:  #0c723b;\n            color:  #f1f1f1;\n        }#T_80640_row4_col6{\n            background-color:  #56b568;\n            color:  #000000;\n        }#T_80640_row4_col7{\n            background-color:  #3ba358;\n            color:  #000000;\n        }#T_80640_row4_col8{\n            background-color:  #45ad5f;\n            color:  #000000;\n        }#T_80640_row4_col10{\n            background-color:  #fcfed7;\n            color:  #000000;\n        }#T_80640_row5_col3{\n            background-color:  #006034;\n            color:  #f1f1f1;\n        }#T_80640_row5_col4{\n            background-color:  #00492b;\n            color:  #f1f1f1;\n        }#T_80640_row5_col5{\n            background-color:  #00532f;\n            color:  #f1f1f1;\n        }#T_80640_row5_col6{\n            background-color:  #a7db8c;\n            color:  #000000;\n        }#T_80640_row5_col8{\n            background-color:  #98d486;\n            color:  #000000;\n        }#T_80640_row5_col9{\n            background-color:  #53b466;\n            color:  #000000;\n        }#T_80640_row5_col10{\n            background-color:  #005e33;\n            color:  #f1f1f1;\n        }#T_80640_row5_col11{\n            background-color:  #329850;\n            color:  #000000;\n        }</style><table id=\"T_80640_\" ><thead>    <tr>        <th class=\"blank level0\" ></th>        <th class=\"col_heading level0 col0\" >PRIMARY_BOYS</th>        <th class=\"col_heading level0 col1\" >PRIMARY_GIRLS</th>        <th class=\"col_heading level0 col2\" >PRIMARY_TOTAL</th>        <th class=\"col_heading level0 col3\" >UPPER_PRIMARY_BOYS</th>        <th class=\"col_heading level0 col4\" >UPPER_PRIMARY_GIRLS</th>        <th class=\"col_heading level0 col5\" >UPPER_PRIMARY_TOTAL</th>        <th class=\"col_heading level0 col6\" >SECONDARY_BOYS</th>        <th class=\"col_heading level0 col7\" >SECONDARY_GIRLS</th>        <th class=\"col_heading level0 col8\" >SECONDARY_TOTAL</th>        <th class=\"col_heading level0 col9\" >HRSECONDARY_BOYS</th>        <th class=\"col_heading level0 col10\" >HRSECONDARY_GIRLS</th>        <th class=\"col_heading level0 col11\" >HRSECONDARY_TOTAL</th>    </tr>    <tr>        <th class=\"index_name level0\" >Labels</th>        <th class=\"blank\" ></th>        <th class=\"blank\" ></th>        <th class=\"blank\" ></th>        <th class=\"blank\" ></th>        <th class=\"blank\" ></th>        <th class=\"blank\" ></th>        <th class=\"blank\" ></th>        <th class=\"blank\" ></th>        <th class=\"blank\" ></th>        <th class=\"blank\" ></th>        <th class=\"blank\" ></th>        <th class=\"blank\" ></th>    </tr></thead><tbody>\n                <tr>\n                        <th id=\"T_80640_level0_row0\" class=\"row_heading level0 row0\" >0</th>\n                        <td id=\"T_80640_row0_col0\" class=\"data row0 col0\" >3.168148</td>\n                        <td id=\"T_80640_row0_col1\" class=\"data row0 col1\" >2.692593</td>\n                        <td id=\"T_80640_row0_col2\" class=\"data row0 col2\" >2.931481</td>\n                        <td id=\"T_80640_row0_col3\" class=\"data row0 col3\" >3.807778</td>\n                        <td id=\"T_80640_row0_col4\" class=\"data row0 col4\" >4.100370</td>\n                        <td id=\"T_80640_row0_col5\" class=\"data row0 col5\" >3.820370</td>\n                        <td id=\"T_80640_row0_col6\" class=\"data row0 col6\" >18.978148</td>\n                        <td id=\"T_80640_row0_col7\" class=\"data row0 col7\" >18.256296</td>\n                        <td id=\"T_80640_row0_col8\" class=\"data row0 col8\" >18.658519</td>\n                        <td id=\"T_80640_row0_col9\" class=\"data row0 col9\" >9.241481</td>\n                        <td id=\"T_80640_row0_col10\" class=\"data row0 col10\" >6.854444</td>\n                        <td id=\"T_80640_row0_col11\" class=\"data row0 col11\" >7.995926</td>\n            </tr>\n            <tr>\n                        <th id=\"T_80640_level0_row1\" class=\"row_heading level0 row1\" >1</th>\n                        <td id=\"T_80640_row1_col0\" class=\"data row1 col0\" >0.280000</td>\n                        <td id=\"T_80640_row1_col1\" class=\"data row1 col1\" >0.295833</td>\n                        <td id=\"T_80640_row1_col2\" class=\"data row1 col2\" >0.277500</td>\n                        <td id=\"T_80640_row1_col3\" class=\"data row1 col3\" >1.140833</td>\n                        <td id=\"T_80640_row1_col4\" class=\"data row1 col4\" >0.950833</td>\n                        <td id=\"T_80640_row1_col5\" class=\"data row1 col5\" >0.721667</td>\n                        <td id=\"T_80640_row1_col6\" class=\"data row1 col6\" >7.610833</td>\n                        <td id=\"T_80640_row1_col7\" class=\"data row1 col7\" >5.122500</td>\n                        <td id=\"T_80640_row1_col8\" class=\"data row1 col8\" >6.445833</td>\n                        <td id=\"T_80640_row1_col9\" class=\"data row1 col9\" >17.629167</td>\n                        <td id=\"T_80640_row1_col10\" class=\"data row1 col10\" >9.943333</td>\n                        <td id=\"T_80640_row1_col11\" class=\"data row1 col11\" >14.082500</td>\n            </tr>\n            <tr>\n                        <th id=\"T_80640_level0_row2\" class=\"row_heading level0 row2\" >2</th>\n                        <td id=\"T_80640_row2_col0\" class=\"data row2 col0\" >2.575000</td>\n                        <td id=\"T_80640_row2_col1\" class=\"data row2 col1\" >2.550556</td>\n                        <td id=\"T_80640_row2_col2\" class=\"data row2 col2\" >2.561667</td>\n                        <td id=\"T_80640_row2_col3\" class=\"data row2 col3\" >1.906111</td>\n                        <td id=\"T_80640_row2_col4\" class=\"data row2 col4\" >2.535833</td>\n                        <td id=\"T_80640_row2_col5\" class=\"data row2 col5\" >2.049167</td>\n                        <td id=\"T_80640_row2_col6\" class=\"data row2 col6\" >12.253056</td>\n                        <td id=\"T_80640_row2_col7\" class=\"data row2 col7\" >10.674444</td>\n                        <td id=\"T_80640_row2_col8\" class=\"data row2 col8\" >11.482222</td>\n                        <td id=\"T_80640_row2_col9\" class=\"data row2 col9\" >4.198889</td>\n                        <td id=\"T_80640_row2_col10\" class=\"data row2 col10\" >3.453333</td>\n                        <td id=\"T_80640_row2_col11\" class=\"data row2 col11\" >3.797778</td>\n            </tr>\n            <tr>\n                        <th id=\"T_80640_level0_row3\" class=\"row_heading level0 row3\" >3</th>\n                        <td id=\"T_80640_row3_col0\" class=\"data row3 col0\" >2.216667</td>\n                        <td id=\"T_80640_row3_col1\" class=\"data row3 col1\" >1.985556</td>\n                        <td id=\"T_80640_row3_col2\" class=\"data row3 col2\" >2.084444</td>\n                        <td id=\"T_80640_row3_col3\" class=\"data row3 col3\" >3.525556</td>\n                        <td id=\"T_80640_row3_col4\" class=\"data row3 col4\" >3.204444</td>\n                        <td id=\"T_80640_row3_col5\" class=\"data row3 col5\" >3.210000</td>\n                        <td id=\"T_80640_row3_col6\" class=\"data row3 col6\" >33.901111</td>\n                        <td id=\"T_80640_row3_col7\" class=\"data row3 col7\" >33.630000</td>\n                        <td id=\"T_80640_row3_col8\" class=\"data row3 col8\" >33.771111</td>\n                        <td id=\"T_80640_row3_col9\" class=\"data row3 col9\" >2.826667</td>\n                        <td id=\"T_80640_row3_col10\" class=\"data row3 col10\" >1.251111</td>\n                        <td id=\"T_80640_row3_col11\" class=\"data row3 col11\" >1.921111</td>\n            </tr>\n            <tr>\n                        <th id=\"T_80640_level0_row4\" class=\"row_heading level0 row4\" >4</th>\n                        <td id=\"T_80640_row4_col0\" class=\"data row4 col0\" >10.237333</td>\n                        <td id=\"T_80640_row4_col1\" class=\"data row4 col1\" >9.509333</td>\n                        <td id=\"T_80640_row4_col2\" class=\"data row4 col2\" >9.872667</td>\n                        <td id=\"T_80640_row4_col3\" class=\"data row4 col3\" >8.302667</td>\n                        <td id=\"T_80640_row4_col4\" class=\"data row4 col4\" >8.688000</td>\n                        <td id=\"T_80640_row4_col5\" class=\"data row4 col5\" >8.490667</td>\n                        <td id=\"T_80640_row4_col6\" class=\"data row4 col6\" >22.805333</td>\n                        <td id=\"T_80640_row4_col7\" class=\"data row4 col7\" >23.636667</td>\n                        <td id=\"T_80640_row4_col8\" class=\"data row4 col8\" >23.205333</td>\n                        <td id=\"T_80640_row4_col9\" class=\"data row4 col9\" >1.842667</td>\n                        <td id=\"T_80640_row4_col10\" class=\"data row4 col10\" >1.594667</td>\n                        <td id=\"T_80640_row4_col11\" class=\"data row4 col11\" >1.586667</td>\n            </tr>\n            <tr>\n                        <th id=\"T_80640_level0_row5\" class=\"row_heading level0 row5\" >5</th>\n                        <td id=\"T_80640_row5_col0\" class=\"data row5 col0\" >12.031111</td>\n                        <td id=\"T_80640_row5_col1\" class=\"data row5 col1\" >11.621111</td>\n                        <td id=\"T_80640_row5_col2\" class=\"data row5 col2\" >11.831111</td>\n                        <td id=\"T_80640_row5_col3\" class=\"data row5 col3\" >7.586667</td>\n                        <td id=\"T_80640_row5_col4\" class=\"data row5 col4\" >8.553333</td>\n                        <td id=\"T_80640_row5_col5\" class=\"data row5 col5\" >8.073333</td>\n                        <td id=\"T_80640_row5_col6\" class=\"data row5 col6\" >17.852222</td>\n                        <td id=\"T_80640_row5_col7\" class=\"data row5 col7\" >18.188889</td>\n                        <td id=\"T_80640_row5_col8\" class=\"data row5 col8\" >18.035556</td>\n                        <td id=\"T_80640_row5_col9\" class=\"data row5 col9\" >11.048889</td>\n                        <td id=\"T_80640_row5_col10\" class=\"data row5 col10\" >9.136667</td>\n                        <td id=\"T_80640_row5_col11\" class=\"data row5 col11\" >10.131111</td>\n            </tr>\n    </tbody></table>"
     },
     "metadata": {},
     "execution_count": 164
    }
   ],
   "source": [
    "reqd=dropouts_result.groupby('Labels')[dropouts_result.columns[1:-1]].agg('mean')\n",
    "reqd.style.background_gradient(cmap='YlGn')"
   ]
  },
  {
   "source": [
    "## Other factors"
   ],
   "cell_type": "markdown",
   "metadata": {}
  },
  {
   "cell_type": "code",
   "execution_count": 19,
   "metadata": {},
   "outputs": [
    {
     "output_type": "display_data",
     "data": {
      "text/plain": "<Figure size 432x288 with 1 Axes>",
      "image/svg+xml": "<?xml version=\"1.0\" encoding=\"utf-8\" standalone=\"no\"?>\r\n<!DOCTYPE svg PUBLIC \"-//W3C//DTD SVG 1.1//EN\"\r\n  \"http://www.w3.org/Graphics/SVG/1.1/DTD/svg11.dtd\">\r\n<svg height=\"262.19625pt\" version=\"1.1\" viewBox=\"0 0 385.78125 262.19625\" width=\"385.78125pt\" xmlns=\"http://www.w3.org/2000/svg\" xmlns:xlink=\"http://www.w3.org/1999/xlink\">\r\n <metadata>\r\n  <rdf:RDF xmlns:cc=\"http://creativecommons.org/ns#\" xmlns:dc=\"http://purl.org/dc/elements/1.1/\" xmlns:rdf=\"http://www.w3.org/1999/02/22-rdf-syntax-ns#\">\r\n   <cc:Work>\r\n    <dc:type rdf:resource=\"http://purl.org/dc/dcmitype/StillImage\"/>\r\n    <dc:date>2021-05-26T23:43:42.503205</dc:date>\r\n    <dc:format>image/svg+xml</dc:format>\r\n    <dc:creator>\r\n     <cc:Agent>\r\n      <dc:title>Matplotlib v3.4.2, https://matplotlib.org/</dc:title>\r\n     </cc:Agent>\r\n    </dc:creator>\r\n   </cc:Work>\r\n  </rdf:RDF>\r\n </metadata>\r\n <defs>\r\n  <style type=\"text/css\">*{stroke-linecap:butt;stroke-linejoin:round;}</style>\r\n </defs>\r\n <g id=\"figure_1\">\r\n  <g id=\"patch_1\">\r\n   <path d=\"M 0 262.19625 \r\nL 385.78125 262.19625 \r\nL 385.78125 0 \r\nL 0 0 \r\nz\r\n\" style=\"fill:none;\"/>\r\n  </g>\r\n  <g id=\"axes_1\">\r\n   <g id=\"patch_2\">\r\n    <path d=\"M 43.78125 224.64 \r\nL 378.58125 224.64 \r\nL 378.58125 7.2 \r\nL 43.78125 7.2 \r\nz\r\n\" style=\"fill:#ffffff;\"/>\r\n   </g>\r\n   <g id=\"matplotlib.axis_1\">\r\n    <g id=\"xtick_1\">\r\n     <g id=\"line2d_1\">\r\n      <defs>\r\n       <path d=\"M 0 0 \r\nL 0 3.5 \r\n\" id=\"mc5011c8d77\" style=\"stroke:#000000;stroke-width:0.8;\"/>\r\n      </defs>\r\n      <g>\r\n       <use style=\"stroke:#000000;stroke-width:0.8;\" x=\"58.999432\" xlink:href=\"#mc5011c8d77\" y=\"224.64\"/>\r\n      </g>\r\n     </g>\r\n     <g id=\"text_1\">\r\n      <!-- 0 -->\r\n      <g transform=\"translate(55.818182 239.238437)scale(0.1 -0.1)\">\r\n       <defs>\r\n        <path d=\"M 2034 4250 \r\nQ 1547 4250 1301 3770 \r\nQ 1056 3291 1056 2328 \r\nQ 1056 1369 1301 889 \r\nQ 1547 409 2034 409 \r\nQ 2525 409 2770 889 \r\nQ 3016 1369 3016 2328 \r\nQ 3016 3291 2770 3770 \r\nQ 2525 4250 2034 4250 \r\nz\r\nM 2034 4750 \r\nQ 2819 4750 3233 4129 \r\nQ 3647 3509 3647 2328 \r\nQ 3647 1150 3233 529 \r\nQ 2819 -91 2034 -91 \r\nQ 1250 -91 836 529 \r\nQ 422 1150 422 2328 \r\nQ 422 3509 836 4129 \r\nQ 1250 4750 2034 4750 \r\nz\r\n\" id=\"DejaVuSans-30\" transform=\"scale(0.015625)\"/>\r\n       </defs>\r\n       <use xlink:href=\"#DejaVuSans-30\"/>\r\n      </g>\r\n     </g>\r\n    </g>\r\n    <g id=\"xtick_2\">\r\n     <g id=\"line2d_2\">\r\n      <g>\r\n       <use style=\"stroke:#000000;stroke-width:0.8;\" x=\"108.090341\" xlink:href=\"#mc5011c8d77\" y=\"224.64\"/>\r\n      </g>\r\n     </g>\r\n     <g id=\"text_2\">\r\n      <!-- 5 -->\r\n      <g transform=\"translate(104.909091 239.238437)scale(0.1 -0.1)\">\r\n       <defs>\r\n        <path d=\"M 691 4666 \r\nL 3169 4666 \r\nL 3169 4134 \r\nL 1269 4134 \r\nL 1269 2991 \r\nQ 1406 3038 1543 3061 \r\nQ 1681 3084 1819 3084 \r\nQ 2600 3084 3056 2656 \r\nQ 3513 2228 3513 1497 \r\nQ 3513 744 3044 326 \r\nQ 2575 -91 1722 -91 \r\nQ 1428 -91 1123 -41 \r\nQ 819 9 494 109 \r\nL 494 744 \r\nQ 775 591 1075 516 \r\nQ 1375 441 1709 441 \r\nQ 2250 441 2565 725 \r\nQ 2881 1009 2881 1497 \r\nQ 2881 1984 2565 2268 \r\nQ 2250 2553 1709 2553 \r\nQ 1456 2553 1204 2497 \r\nQ 953 2441 691 2322 \r\nL 691 4666 \r\nz\r\n\" id=\"DejaVuSans-35\" transform=\"scale(0.015625)\"/>\r\n       </defs>\r\n       <use xlink:href=\"#DejaVuSans-35\"/>\r\n      </g>\r\n     </g>\r\n    </g>\r\n    <g id=\"xtick_3\">\r\n     <g id=\"line2d_3\">\r\n      <g>\r\n       <use style=\"stroke:#000000;stroke-width:0.8;\" x=\"157.18125\" xlink:href=\"#mc5011c8d77\" y=\"224.64\"/>\r\n      </g>\r\n     </g>\r\n     <g id=\"text_3\">\r\n      <!-- 10 -->\r\n      <g transform=\"translate(150.81875 239.238437)scale(0.1 -0.1)\">\r\n       <defs>\r\n        <path d=\"M 794 531 \r\nL 1825 531 \r\nL 1825 4091 \r\nL 703 3866 \r\nL 703 4441 \r\nL 1819 4666 \r\nL 2450 4666 \r\nL 2450 531 \r\nL 3481 531 \r\nL 3481 0 \r\nL 794 0 \r\nL 794 531 \r\nz\r\n\" id=\"DejaVuSans-31\" transform=\"scale(0.015625)\"/>\r\n       </defs>\r\n       <use xlink:href=\"#DejaVuSans-31\"/>\r\n       <use x=\"63.623047\" xlink:href=\"#DejaVuSans-30\"/>\r\n      </g>\r\n     </g>\r\n    </g>\r\n    <g id=\"xtick_4\">\r\n     <g id=\"line2d_4\">\r\n      <g>\r\n       <use style=\"stroke:#000000;stroke-width:0.8;\" x=\"206.272159\" xlink:href=\"#mc5011c8d77\" y=\"224.64\"/>\r\n      </g>\r\n     </g>\r\n     <g id=\"text_4\">\r\n      <!-- 15 -->\r\n      <g transform=\"translate(199.909659 239.238437)scale(0.1 -0.1)\">\r\n       <use xlink:href=\"#DejaVuSans-31\"/>\r\n       <use x=\"63.623047\" xlink:href=\"#DejaVuSans-35\"/>\r\n      </g>\r\n     </g>\r\n    </g>\r\n    <g id=\"xtick_5\">\r\n     <g id=\"line2d_5\">\r\n      <g>\r\n       <use style=\"stroke:#000000;stroke-width:0.8;\" x=\"255.363068\" xlink:href=\"#mc5011c8d77\" y=\"224.64\"/>\r\n      </g>\r\n     </g>\r\n     <g id=\"text_5\">\r\n      <!-- 20 -->\r\n      <g transform=\"translate(249.000568 239.238437)scale(0.1 -0.1)\">\r\n       <defs>\r\n        <path d=\"M 1228 531 \r\nL 3431 531 \r\nL 3431 0 \r\nL 469 0 \r\nL 469 531 \r\nQ 828 903 1448 1529 \r\nQ 2069 2156 2228 2338 \r\nQ 2531 2678 2651 2914 \r\nQ 2772 3150 2772 3378 \r\nQ 2772 3750 2511 3984 \r\nQ 2250 4219 1831 4219 \r\nQ 1534 4219 1204 4116 \r\nQ 875 4013 500 3803 \r\nL 500 4441 \r\nQ 881 4594 1212 4672 \r\nQ 1544 4750 1819 4750 \r\nQ 2544 4750 2975 4387 \r\nQ 3406 4025 3406 3419 \r\nQ 3406 3131 3298 2873 \r\nQ 3191 2616 2906 2266 \r\nQ 2828 2175 2409 1742 \r\nQ 1991 1309 1228 531 \r\nz\r\n\" id=\"DejaVuSans-32\" transform=\"scale(0.015625)\"/>\r\n       </defs>\r\n       <use xlink:href=\"#DejaVuSans-32\"/>\r\n       <use x=\"63.623047\" xlink:href=\"#DejaVuSans-30\"/>\r\n      </g>\r\n     </g>\r\n    </g>\r\n    <g id=\"xtick_6\">\r\n     <g id=\"line2d_6\">\r\n      <g>\r\n       <use style=\"stroke:#000000;stroke-width:0.8;\" x=\"304.453977\" xlink:href=\"#mc5011c8d77\" y=\"224.64\"/>\r\n      </g>\r\n     </g>\r\n     <g id=\"text_6\">\r\n      <!-- 25 -->\r\n      <g transform=\"translate(298.091477 239.238437)scale(0.1 -0.1)\">\r\n       <use xlink:href=\"#DejaVuSans-32\"/>\r\n       <use x=\"63.623047\" xlink:href=\"#DejaVuSans-35\"/>\r\n      </g>\r\n     </g>\r\n    </g>\r\n    <g id=\"xtick_7\">\r\n     <g id=\"line2d_7\">\r\n      <g>\r\n       <use style=\"stroke:#000000;stroke-width:0.8;\" x=\"353.544886\" xlink:href=\"#mc5011c8d77\" y=\"224.64\"/>\r\n      </g>\r\n     </g>\r\n     <g id=\"text_7\">\r\n      <!-- 30 -->\r\n      <g transform=\"translate(347.182386 239.238437)scale(0.1 -0.1)\">\r\n       <defs>\r\n        <path d=\"M 2597 2516 \r\nQ 3050 2419 3304 2112 \r\nQ 3559 1806 3559 1356 \r\nQ 3559 666 3084 287 \r\nQ 2609 -91 1734 -91 \r\nQ 1441 -91 1130 -33 \r\nQ 819 25 488 141 \r\nL 488 750 \r\nQ 750 597 1062 519 \r\nQ 1375 441 1716 441 \r\nQ 2309 441 2620 675 \r\nQ 2931 909 2931 1356 \r\nQ 2931 1769 2642 2001 \r\nQ 2353 2234 1838 2234 \r\nL 1294 2234 \r\nL 1294 2753 \r\nL 1863 2753 \r\nQ 2328 2753 2575 2939 \r\nQ 2822 3125 2822 3475 \r\nQ 2822 3834 2567 4026 \r\nQ 2313 4219 1838 4219 \r\nQ 1578 4219 1281 4162 \r\nQ 984 4106 628 3988 \r\nL 628 4550 \r\nQ 988 4650 1302 4700 \r\nQ 1616 4750 1894 4750 \r\nQ 2613 4750 3031 4423 \r\nQ 3450 4097 3450 3541 \r\nQ 3450 3153 3228 2886 \r\nQ 3006 2619 2597 2516 \r\nz\r\n\" id=\"DejaVuSans-33\" transform=\"scale(0.015625)\"/>\r\n       </defs>\r\n       <use xlink:href=\"#DejaVuSans-33\"/>\r\n       <use x=\"63.623047\" xlink:href=\"#DejaVuSans-30\"/>\r\n      </g>\r\n     </g>\r\n    </g>\r\n    <g id=\"text_8\">\r\n     <!-- No. of clusters -->\r\n     <g transform=\"translate(175.273438 252.916562)scale(0.1 -0.1)\">\r\n      <defs>\r\n       <path d=\"M 628 4666 \r\nL 1478 4666 \r\nL 3547 763 \r\nL 3547 4666 \r\nL 4159 4666 \r\nL 4159 0 \r\nL 3309 0 \r\nL 1241 3903 \r\nL 1241 0 \r\nL 628 0 \r\nL 628 4666 \r\nz\r\n\" id=\"DejaVuSans-4e\" transform=\"scale(0.015625)\"/>\r\n       <path d=\"M 1959 3097 \r\nQ 1497 3097 1228 2736 \r\nQ 959 2375 959 1747 \r\nQ 959 1119 1226 758 \r\nQ 1494 397 1959 397 \r\nQ 2419 397 2687 759 \r\nQ 2956 1122 2956 1747 \r\nQ 2956 2369 2687 2733 \r\nQ 2419 3097 1959 3097 \r\nz\r\nM 1959 3584 \r\nQ 2709 3584 3137 3096 \r\nQ 3566 2609 3566 1747 \r\nQ 3566 888 3137 398 \r\nQ 2709 -91 1959 -91 \r\nQ 1206 -91 779 398 \r\nQ 353 888 353 1747 \r\nQ 353 2609 779 3096 \r\nQ 1206 3584 1959 3584 \r\nz\r\n\" id=\"DejaVuSans-6f\" transform=\"scale(0.015625)\"/>\r\n       <path d=\"M 684 794 \r\nL 1344 794 \r\nL 1344 0 \r\nL 684 0 \r\nL 684 794 \r\nz\r\n\" id=\"DejaVuSans-2e\" transform=\"scale(0.015625)\"/>\r\n       <path id=\"DejaVuSans-20\" transform=\"scale(0.015625)\"/>\r\n       <path d=\"M 2375 4863 \r\nL 2375 4384 \r\nL 1825 4384 \r\nQ 1516 4384 1395 4259 \r\nQ 1275 4134 1275 3809 \r\nL 1275 3500 \r\nL 2222 3500 \r\nL 2222 3053 \r\nL 1275 3053 \r\nL 1275 0 \r\nL 697 0 \r\nL 697 3053 \r\nL 147 3053 \r\nL 147 3500 \r\nL 697 3500 \r\nL 697 3744 \r\nQ 697 4328 969 4595 \r\nQ 1241 4863 1831 4863 \r\nL 2375 4863 \r\nz\r\n\" id=\"DejaVuSans-66\" transform=\"scale(0.015625)\"/>\r\n       <path d=\"M 3122 3366 \r\nL 3122 2828 \r\nQ 2878 2963 2633 3030 \r\nQ 2388 3097 2138 3097 \r\nQ 1578 3097 1268 2742 \r\nQ 959 2388 959 1747 \r\nQ 959 1106 1268 751 \r\nQ 1578 397 2138 397 \r\nQ 2388 397 2633 464 \r\nQ 2878 531 3122 666 \r\nL 3122 134 \r\nQ 2881 22 2623 -34 \r\nQ 2366 -91 2075 -91 \r\nQ 1284 -91 818 406 \r\nQ 353 903 353 1747 \r\nQ 353 2603 823 3093 \r\nQ 1294 3584 2113 3584 \r\nQ 2378 3584 2631 3529 \r\nQ 2884 3475 3122 3366 \r\nz\r\n\" id=\"DejaVuSans-63\" transform=\"scale(0.015625)\"/>\r\n       <path d=\"M 603 4863 \r\nL 1178 4863 \r\nL 1178 0 \r\nL 603 0 \r\nL 603 4863 \r\nz\r\n\" id=\"DejaVuSans-6c\" transform=\"scale(0.015625)\"/>\r\n       <path d=\"M 544 1381 \r\nL 544 3500 \r\nL 1119 3500 \r\nL 1119 1403 \r\nQ 1119 906 1312 657 \r\nQ 1506 409 1894 409 \r\nQ 2359 409 2629 706 \r\nQ 2900 1003 2900 1516 \r\nL 2900 3500 \r\nL 3475 3500 \r\nL 3475 0 \r\nL 2900 0 \r\nL 2900 538 \r\nQ 2691 219 2414 64 \r\nQ 2138 -91 1772 -91 \r\nQ 1169 -91 856 284 \r\nQ 544 659 544 1381 \r\nz\r\nM 1991 3584 \r\nL 1991 3584 \r\nz\r\n\" id=\"DejaVuSans-75\" transform=\"scale(0.015625)\"/>\r\n       <path d=\"M 2834 3397 \r\nL 2834 2853 \r\nQ 2591 2978 2328 3040 \r\nQ 2066 3103 1784 3103 \r\nQ 1356 3103 1142 2972 \r\nQ 928 2841 928 2578 \r\nQ 928 2378 1081 2264 \r\nQ 1234 2150 1697 2047 \r\nL 1894 2003 \r\nQ 2506 1872 2764 1633 \r\nQ 3022 1394 3022 966 \r\nQ 3022 478 2636 193 \r\nQ 2250 -91 1575 -91 \r\nQ 1294 -91 989 -36 \r\nQ 684 19 347 128 \r\nL 347 722 \r\nQ 666 556 975 473 \r\nQ 1284 391 1588 391 \r\nQ 1994 391 2212 530 \r\nQ 2431 669 2431 922 \r\nQ 2431 1156 2273 1281 \r\nQ 2116 1406 1581 1522 \r\nL 1381 1569 \r\nQ 847 1681 609 1914 \r\nQ 372 2147 372 2553 \r\nQ 372 3047 722 3315 \r\nQ 1072 3584 1716 3584 \r\nQ 2034 3584 2315 3537 \r\nQ 2597 3491 2834 3397 \r\nz\r\n\" id=\"DejaVuSans-73\" transform=\"scale(0.015625)\"/>\r\n       <path d=\"M 1172 4494 \r\nL 1172 3500 \r\nL 2356 3500 \r\nL 2356 3053 \r\nL 1172 3053 \r\nL 1172 1153 \r\nQ 1172 725 1289 603 \r\nQ 1406 481 1766 481 \r\nL 2356 481 \r\nL 2356 0 \r\nL 1766 0 \r\nQ 1100 0 847 248 \r\nQ 594 497 594 1153 \r\nL 594 3053 \r\nL 172 3053 \r\nL 172 3500 \r\nL 594 3500 \r\nL 594 4494 \r\nL 1172 4494 \r\nz\r\n\" id=\"DejaVuSans-74\" transform=\"scale(0.015625)\"/>\r\n       <path d=\"M 3597 1894 \r\nL 3597 1613 \r\nL 953 1613 \r\nQ 991 1019 1311 708 \r\nQ 1631 397 2203 397 \r\nQ 2534 397 2845 478 \r\nQ 3156 559 3463 722 \r\nL 3463 178 \r\nQ 3153 47 2828 -22 \r\nQ 2503 -91 2169 -91 \r\nQ 1331 -91 842 396 \r\nQ 353 884 353 1716 \r\nQ 353 2575 817 3079 \r\nQ 1281 3584 2069 3584 \r\nQ 2775 3584 3186 3129 \r\nQ 3597 2675 3597 1894 \r\nz\r\nM 3022 2063 \r\nQ 3016 2534 2758 2815 \r\nQ 2500 3097 2075 3097 \r\nQ 1594 3097 1305 2825 \r\nQ 1016 2553 972 2059 \r\nL 3022 2063 \r\nz\r\n\" id=\"DejaVuSans-65\" transform=\"scale(0.015625)\"/>\r\n       <path d=\"M 2631 2963 \r\nQ 2534 3019 2420 3045 \r\nQ 2306 3072 2169 3072 \r\nQ 1681 3072 1420 2755 \r\nQ 1159 2438 1159 1844 \r\nL 1159 0 \r\nL 581 0 \r\nL 581 3500 \r\nL 1159 3500 \r\nL 1159 2956 \r\nQ 1341 3275 1631 3429 \r\nQ 1922 3584 2338 3584 \r\nQ 2397 3584 2469 3576 \r\nQ 2541 3569 2628 3553 \r\nL 2631 2963 \r\nz\r\n\" id=\"DejaVuSans-72\" transform=\"scale(0.015625)\"/>\r\n      </defs>\r\n      <use xlink:href=\"#DejaVuSans-4e\"/>\r\n      <use x=\"74.804688\" xlink:href=\"#DejaVuSans-6f\"/>\r\n      <use x=\"134.236328\" xlink:href=\"#DejaVuSans-2e\"/>\r\n      <use x=\"166.023438\" xlink:href=\"#DejaVuSans-20\"/>\r\n      <use x=\"197.810547\" xlink:href=\"#DejaVuSans-6f\"/>\r\n      <use x=\"258.992188\" xlink:href=\"#DejaVuSans-66\"/>\r\n      <use x=\"294.197266\" xlink:href=\"#DejaVuSans-20\"/>\r\n      <use x=\"325.984375\" xlink:href=\"#DejaVuSans-63\"/>\r\n      <use x=\"380.964844\" xlink:href=\"#DejaVuSans-6c\"/>\r\n      <use x=\"408.748047\" xlink:href=\"#DejaVuSans-75\"/>\r\n      <use x=\"472.126953\" xlink:href=\"#DejaVuSans-73\"/>\r\n      <use x=\"524.226562\" xlink:href=\"#DejaVuSans-74\"/>\r\n      <use x=\"563.435547\" xlink:href=\"#DejaVuSans-65\"/>\r\n      <use x=\"624.958984\" xlink:href=\"#DejaVuSans-72\"/>\r\n      <use x=\"666.072266\" xlink:href=\"#DejaVuSans-73\"/>\r\n     </g>\r\n    </g>\r\n   </g>\r\n   <g id=\"matplotlib.axis_2\">\r\n    <g id=\"ytick_1\">\r\n     <g id=\"line2d_8\">\r\n      <defs>\r\n       <path d=\"M 0 0 \r\nL -3.5 0 \r\n\" id=\"mbf73886e5c\" style=\"stroke:#000000;stroke-width:0.8;\"/>\r\n      </defs>\r\n      <g>\r\n       <use style=\"stroke:#000000;stroke-width:0.8;\" x=\"43.78125\" xlink:href=\"#mbf73886e5c\" y=\"178.848237\"/>\r\n      </g>\r\n     </g>\r\n     <g id=\"text_9\">\r\n      <!-- 0.1 -->\r\n      <g transform=\"translate(20.878125 182.647456)scale(0.1 -0.1)\">\r\n       <use xlink:href=\"#DejaVuSans-30\"/>\r\n       <use x=\"63.623047\" xlink:href=\"#DejaVuSans-2e\"/>\r\n       <use x=\"95.410156\" xlink:href=\"#DejaVuSans-31\"/>\r\n      </g>\r\n     </g>\r\n    </g>\r\n    <g id=\"ytick_2\">\r\n     <g id=\"line2d_9\">\r\n      <g>\r\n       <use style=\"stroke:#000000;stroke-width:0.8;\" x=\"43.78125\" xlink:href=\"#mbf73886e5c\" y=\"132.415373\"/>\r\n      </g>\r\n     </g>\r\n     <g id=\"text_10\">\r\n      <!-- 0.2 -->\r\n      <g transform=\"translate(20.878125 136.214592)scale(0.1 -0.1)\">\r\n       <use xlink:href=\"#DejaVuSans-30\"/>\r\n       <use x=\"63.623047\" xlink:href=\"#DejaVuSans-2e\"/>\r\n       <use x=\"95.410156\" xlink:href=\"#DejaVuSans-32\"/>\r\n      </g>\r\n     </g>\r\n    </g>\r\n    <g id=\"ytick_3\">\r\n     <g id=\"line2d_10\">\r\n      <g>\r\n       <use style=\"stroke:#000000;stroke-width:0.8;\" x=\"43.78125\" xlink:href=\"#mbf73886e5c\" y=\"85.98251\"/>\r\n      </g>\r\n     </g>\r\n     <g id=\"text_11\">\r\n      <!-- 0.3 -->\r\n      <g transform=\"translate(20.878125 89.781729)scale(0.1 -0.1)\">\r\n       <use xlink:href=\"#DejaVuSans-30\"/>\r\n       <use x=\"63.623047\" xlink:href=\"#DejaVuSans-2e\"/>\r\n       <use x=\"95.410156\" xlink:href=\"#DejaVuSans-33\"/>\r\n      </g>\r\n     </g>\r\n    </g>\r\n    <g id=\"ytick_4\">\r\n     <g id=\"line2d_11\">\r\n      <g>\r\n       <use style=\"stroke:#000000;stroke-width:0.8;\" x=\"43.78125\" xlink:href=\"#mbf73886e5c\" y=\"39.549647\"/>\r\n      </g>\r\n     </g>\r\n     <g id=\"text_12\">\r\n      <!-- 0.4 -->\r\n      <g transform=\"translate(20.878125 43.348865)scale(0.1 -0.1)\">\r\n       <defs>\r\n        <path d=\"M 2419 4116 \r\nL 825 1625 \r\nL 2419 1625 \r\nL 2419 4116 \r\nz\r\nM 2253 4666 \r\nL 3047 4666 \r\nL 3047 1625 \r\nL 3713 1625 \r\nL 3713 1100 \r\nL 3047 1100 \r\nL 3047 0 \r\nL 2419 0 \r\nL 2419 1100 \r\nL 313 1100 \r\nL 313 1709 \r\nL 2253 4666 \r\nz\r\n\" id=\"DejaVuSans-34\" transform=\"scale(0.015625)\"/>\r\n       </defs>\r\n       <use xlink:href=\"#DejaVuSans-30\"/>\r\n       <use x=\"63.623047\" xlink:href=\"#DejaVuSans-2e\"/>\r\n       <use x=\"95.410156\" xlink:href=\"#DejaVuSans-34\"/>\r\n      </g>\r\n     </g>\r\n    </g>\r\n    <g id=\"text_13\">\r\n     <!-- Silhoutte score -->\r\n     <g transform=\"translate(14.798438 153.287969)rotate(-90)scale(0.1 -0.1)\">\r\n      <defs>\r\n       <path d=\"M 3425 4513 \r\nL 3425 3897 \r\nQ 3066 4069 2747 4153 \r\nQ 2428 4238 2131 4238 \r\nQ 1616 4238 1336 4038 \r\nQ 1056 3838 1056 3469 \r\nQ 1056 3159 1242 3001 \r\nQ 1428 2844 1947 2747 \r\nL 2328 2669 \r\nQ 3034 2534 3370 2195 \r\nQ 3706 1856 3706 1288 \r\nQ 3706 609 3251 259 \r\nQ 2797 -91 1919 -91 \r\nQ 1588 -91 1214 -16 \r\nQ 841 59 441 206 \r\nL 441 856 \r\nQ 825 641 1194 531 \r\nQ 1563 422 1919 422 \r\nQ 2459 422 2753 634 \r\nQ 3047 847 3047 1241 \r\nQ 3047 1584 2836 1778 \r\nQ 2625 1972 2144 2069 \r\nL 1759 2144 \r\nQ 1053 2284 737 2584 \r\nQ 422 2884 422 3419 \r\nQ 422 4038 858 4394 \r\nQ 1294 4750 2059 4750 \r\nQ 2388 4750 2728 4690 \r\nQ 3069 4631 3425 4513 \r\nz\r\n\" id=\"DejaVuSans-53\" transform=\"scale(0.015625)\"/>\r\n       <path d=\"M 603 3500 \r\nL 1178 3500 \r\nL 1178 0 \r\nL 603 0 \r\nL 603 3500 \r\nz\r\nM 603 4863 \r\nL 1178 4863 \r\nL 1178 4134 \r\nL 603 4134 \r\nL 603 4863 \r\nz\r\n\" id=\"DejaVuSans-69\" transform=\"scale(0.015625)\"/>\r\n       <path d=\"M 3513 2113 \r\nL 3513 0 \r\nL 2938 0 \r\nL 2938 2094 \r\nQ 2938 2591 2744 2837 \r\nQ 2550 3084 2163 3084 \r\nQ 1697 3084 1428 2787 \r\nQ 1159 2491 1159 1978 \r\nL 1159 0 \r\nL 581 0 \r\nL 581 4863 \r\nL 1159 4863 \r\nL 1159 2956 \r\nQ 1366 3272 1645 3428 \r\nQ 1925 3584 2291 3584 \r\nQ 2894 3584 3203 3211 \r\nQ 3513 2838 3513 2113 \r\nz\r\n\" id=\"DejaVuSans-68\" transform=\"scale(0.015625)\"/>\r\n      </defs>\r\n      <use xlink:href=\"#DejaVuSans-53\"/>\r\n      <use x=\"63.476562\" xlink:href=\"#DejaVuSans-69\"/>\r\n      <use x=\"91.259766\" xlink:href=\"#DejaVuSans-6c\"/>\r\n      <use x=\"119.042969\" xlink:href=\"#DejaVuSans-68\"/>\r\n      <use x=\"182.421875\" xlink:href=\"#DejaVuSans-6f\"/>\r\n      <use x=\"243.603516\" xlink:href=\"#DejaVuSans-75\"/>\r\n      <use x=\"306.982422\" xlink:href=\"#DejaVuSans-74\"/>\r\n      <use x=\"346.191406\" xlink:href=\"#DejaVuSans-74\"/>\r\n      <use x=\"385.400391\" xlink:href=\"#DejaVuSans-65\"/>\r\n      <use x=\"446.923828\" xlink:href=\"#DejaVuSans-20\"/>\r\n      <use x=\"478.710938\" xlink:href=\"#DejaVuSans-73\"/>\r\n      <use x=\"530.810547\" xlink:href=\"#DejaVuSans-63\"/>\r\n      <use x=\"585.791016\" xlink:href=\"#DejaVuSans-6f\"/>\r\n      <use x=\"646.972656\" xlink:href=\"#DejaVuSans-72\"/>\r\n      <use x=\"685.835938\" xlink:href=\"#DejaVuSans-65\"/>\r\n     </g>\r\n    </g>\r\n   </g>\r\n   <g id=\"line2d_12\">\r\n    <path clip-path=\"url(#pab8ce92cc3)\" d=\"M 58.999432 17.083636 \r\nL 68.817614 27.597814 \r\nL 78.635795 40.575629 \r\nL 88.453977 34.528632 \r\nL 98.272159 55.226456 \r\nL 108.090341 50.08995 \r\nL 117.908523 54.924698 \r\nL 127.726705 56.721753 \r\nL 137.544886 60.093878 \r\nL 147.363068 67.342011 \r\nL 157.18125 69.429566 \r\nL 166.999432 69.478045 \r\nL 176.817614 73.004597 \r\nL 186.635795 78.774299 \r\nL 196.453977 81.605358 \r\nL 206.272159 88.895736 \r\nL 216.090341 106.230959 \r\nL 225.908523 101.809046 \r\nL 235.726705 102.578019 \r\nL 245.544886 111.466186 \r\nL 255.363068 124.073551 \r\nL 265.18125 126.292878 \r\nL 274.999432 130.267328 \r\nL 284.817614 139.097245 \r\nL 294.635795 145.929655 \r\nL 304.453977 156.786427 \r\nL 314.272159 165.03495 \r\nL 324.090341 175.571013 \r\nL 333.908523 182.741513 \r\nL 343.726705 186.619555 \r\nL 353.544886 200.602038 \r\nL 363.363068 214.756364 \r\n\" style=\"fill:none;stroke:#1f77b4;stroke-linecap:square;stroke-width:1.5;\"/>\r\n   </g>\r\n   <g id=\"line2d_13\">\r\n    <path clip-path=\"url(#pab8ce92cc3)\" d=\"M 88.453977 224.64 \r\nL 88.453977 7.2 \r\n\" style=\"fill:none;stroke:#1f77b4;stroke-linecap:square;stroke-width:1.5;\"/>\r\n   </g>\r\n   <g id=\"patch_3\">\r\n    <path d=\"M 43.78125 224.64 \r\nL 43.78125 7.2 \r\n\" style=\"fill:none;stroke:#000000;stroke-linecap:square;stroke-linejoin:miter;stroke-width:0.8;\"/>\r\n   </g>\r\n   <g id=\"patch_4\">\r\n    <path d=\"M 378.58125 224.64 \r\nL 378.58125 7.2 \r\n\" style=\"fill:none;stroke:#000000;stroke-linecap:square;stroke-linejoin:miter;stroke-width:0.8;\"/>\r\n   </g>\r\n   <g id=\"patch_5\">\r\n    <path d=\"M 43.78125 224.64 \r\nL 378.58125 224.64 \r\n\" style=\"fill:none;stroke:#000000;stroke-linecap:square;stroke-linejoin:miter;stroke-width:0.8;\"/>\r\n   </g>\r\n   <g id=\"patch_6\">\r\n    <path d=\"M 43.78125 7.2 \r\nL 378.58125 7.2 \r\n\" style=\"fill:none;stroke:#000000;stroke-linecap:square;stroke-linejoin:miter;stroke-width:0.8;\"/>\r\n   </g>\r\n   <g id=\"text_14\">\r\n    <!-- Max silhoutte score at n=3 -->\r\n    <g transform=\"translate(88.453977 67.409365)scale(0.1 -0.1)\">\r\n     <defs>\r\n      <path d=\"M 628 4666 \r\nL 1569 4666 \r\nL 2759 1491 \r\nL 3956 4666 \r\nL 4897 4666 \r\nL 4897 0 \r\nL 4281 0 \r\nL 4281 4097 \r\nL 3078 897 \r\nL 2444 897 \r\nL 1241 4097 \r\nL 1241 0 \r\nL 628 0 \r\nL 628 4666 \r\nz\r\n\" id=\"DejaVuSans-4d\" transform=\"scale(0.015625)\"/>\r\n      <path d=\"M 2194 1759 \r\nQ 1497 1759 1228 1600 \r\nQ 959 1441 959 1056 \r\nQ 959 750 1161 570 \r\nQ 1363 391 1709 391 \r\nQ 2188 391 2477 730 \r\nQ 2766 1069 2766 1631 \r\nL 2766 1759 \r\nL 2194 1759 \r\nz\r\nM 3341 1997 \r\nL 3341 0 \r\nL 2766 0 \r\nL 2766 531 \r\nQ 2569 213 2275 61 \r\nQ 1981 -91 1556 -91 \r\nQ 1019 -91 701 211 \r\nQ 384 513 384 1019 \r\nQ 384 1609 779 1909 \r\nQ 1175 2209 1959 2209 \r\nL 2766 2209 \r\nL 2766 2266 \r\nQ 2766 2663 2505 2880 \r\nQ 2244 3097 1772 3097 \r\nQ 1472 3097 1187 3025 \r\nQ 903 2953 641 2809 \r\nL 641 3341 \r\nQ 956 3463 1253 3523 \r\nQ 1550 3584 1831 3584 \r\nQ 2591 3584 2966 3190 \r\nQ 3341 2797 3341 1997 \r\nz\r\n\" id=\"DejaVuSans-61\" transform=\"scale(0.015625)\"/>\r\n      <path d=\"M 3513 3500 \r\nL 2247 1797 \r\nL 3578 0 \r\nL 2900 0 \r\nL 1881 1375 \r\nL 863 0 \r\nL 184 0 \r\nL 1544 1831 \r\nL 300 3500 \r\nL 978 3500 \r\nL 1906 2253 \r\nL 2834 3500 \r\nL 3513 3500 \r\nz\r\n\" id=\"DejaVuSans-78\" transform=\"scale(0.015625)\"/>\r\n      <path d=\"M 3513 2113 \r\nL 3513 0 \r\nL 2938 0 \r\nL 2938 2094 \r\nQ 2938 2591 2744 2837 \r\nQ 2550 3084 2163 3084 \r\nQ 1697 3084 1428 2787 \r\nQ 1159 2491 1159 1978 \r\nL 1159 0 \r\nL 581 0 \r\nL 581 3500 \r\nL 1159 3500 \r\nL 1159 2956 \r\nQ 1366 3272 1645 3428 \r\nQ 1925 3584 2291 3584 \r\nQ 2894 3584 3203 3211 \r\nQ 3513 2838 3513 2113 \r\nz\r\n\" id=\"DejaVuSans-6e\" transform=\"scale(0.015625)\"/>\r\n      <path d=\"M 678 2906 \r\nL 4684 2906 \r\nL 4684 2381 \r\nL 678 2381 \r\nL 678 2906 \r\nz\r\nM 678 1631 \r\nL 4684 1631 \r\nL 4684 1100 \r\nL 678 1100 \r\nL 678 1631 \r\nz\r\n\" id=\"DejaVuSans-3d\" transform=\"scale(0.015625)\"/>\r\n     </defs>\r\n     <use xlink:href=\"#DejaVuSans-4d\"/>\r\n     <use x=\"86.279297\" xlink:href=\"#DejaVuSans-61\"/>\r\n     <use x=\"147.558594\" xlink:href=\"#DejaVuSans-78\"/>\r\n     <use x=\"206.738281\" xlink:href=\"#DejaVuSans-20\"/>\r\n     <use x=\"238.525391\" xlink:href=\"#DejaVuSans-73\"/>\r\n     <use x=\"290.625\" xlink:href=\"#DejaVuSans-69\"/>\r\n     <use x=\"318.408203\" xlink:href=\"#DejaVuSans-6c\"/>\r\n     <use x=\"346.191406\" xlink:href=\"#DejaVuSans-68\"/>\r\n     <use x=\"409.570312\" xlink:href=\"#DejaVuSans-6f\"/>\r\n     <use x=\"470.751953\" xlink:href=\"#DejaVuSans-75\"/>\r\n     <use x=\"534.130859\" xlink:href=\"#DejaVuSans-74\"/>\r\n     <use x=\"573.339844\" xlink:href=\"#DejaVuSans-74\"/>\r\n     <use x=\"612.548828\" xlink:href=\"#DejaVuSans-65\"/>\r\n     <use x=\"674.072266\" xlink:href=\"#DejaVuSans-20\"/>\r\n     <use x=\"705.859375\" xlink:href=\"#DejaVuSans-73\"/>\r\n     <use x=\"757.958984\" xlink:href=\"#DejaVuSans-63\"/>\r\n     <use x=\"812.939453\" xlink:href=\"#DejaVuSans-6f\"/>\r\n     <use x=\"874.121094\" xlink:href=\"#DejaVuSans-72\"/>\r\n     <use x=\"912.984375\" xlink:href=\"#DejaVuSans-65\"/>\r\n     <use x=\"974.507812\" xlink:href=\"#DejaVuSans-20\"/>\r\n     <use x=\"1006.294922\" xlink:href=\"#DejaVuSans-61\"/>\r\n     <use x=\"1067.574219\" xlink:href=\"#DejaVuSans-74\"/>\r\n     <use x=\"1106.783203\" xlink:href=\"#DejaVuSans-20\"/>\r\n     <use x=\"1138.570312\" xlink:href=\"#DejaVuSans-6e\"/>\r\n     <use x=\"1201.949219\" xlink:href=\"#DejaVuSans-3d\"/>\r\n     <use x=\"1285.738281\" xlink:href=\"#DejaVuSans-33\"/>\r\n    </g>\r\n   </g>\r\n   <g id=\"legend_1\">\r\n    <g id=\"patch_7\">\r\n     <path d=\"M 333.21875 29.878125 \r\nL 371.58125 29.878125 \r\nQ 373.58125 29.878125 373.58125 27.878125 \r\nL 373.58125 14.2 \r\nQ 373.58125 12.2 371.58125 12.2 \r\nL 333.21875 12.2 \r\nQ 331.21875 12.2 331.21875 14.2 \r\nL 331.21875 27.878125 \r\nQ 331.21875 29.878125 333.21875 29.878125 \r\nz\r\n\" style=\"fill:#ffffff;opacity:0.8;stroke:#cccccc;stroke-linejoin:miter;\"/>\r\n    </g>\r\n    <g id=\"line2d_14\">\r\n     <path d=\"M 335.21875 20.298437 \r\nL 355.21875 20.298437 \r\n\" style=\"fill:none;stroke:#1f77b4;stroke-linecap:square;stroke-width:1.5;\"/>\r\n    </g>\r\n    <g id=\"line2d_15\"/>\r\n    <g id=\"text_15\">\r\n     <!-- 0 -->\r\n     <g transform=\"translate(363.21875 23.798437)scale(0.1 -0.1)\">\r\n      <use xlink:href=\"#DejaVuSans-30\"/>\r\n     </g>\r\n    </g>\r\n   </g>\r\n  </g>\r\n </g>\r\n <defs>\r\n  <clipPath id=\"pab8ce92cc3\">\r\n   <rect height=\"217.44\" width=\"334.8\" x=\"43.78125\" y=\"7.2\"/>\r\n  </clipPath>\r\n </defs>\r\n</svg>\r\n",
      "image/png": "[encoded data removed]"
     },
     "metadata": {
      "needs_background": "light"
     }
    }
   ],
   "source": [
    "factors_result=create_clusters(factors.drop(['State'],axis=1),['Drinking water', 'Electricity', 'Computer', 'Boys toilet',\n",
    "       'Girls toilet'])\n",
    "factors_clusters=return_clusters(factors_result)"
   ]
  },
  {
   "cell_type": "code",
   "execution_count": 20,
   "metadata": {},
   "outputs": [
    {
     "output_type": "execute_result",
     "data": {
      "text/plain": [
       "                    Cluster 0          Cluster 1    Cluster 2\n",
       "0   Andaman & Nicobar Islands  Arunachal Pradesh   Chandigarh\n",
       "1              Andhra Pradesh              Assam  Daman & Diu\n",
       "2        Dadra & Nagar Haveli              Bihar        Delhi\n",
       "3                         Goa       Chhattisgarh      Gujarat\n",
       "4                     Haryana  Jammu And Kashmir       Kerala\n",
       "5            Himachal Pradesh          Jharkhand  Lakshadweep\n",
       "6                   Karnataka     Madhya Pradesh   Puducherry\n",
       "7                 Maharashtra            Manipur            -\n",
       "8                     Mizoram          Meghalaya            -\n",
       "9                      Punjab           Nagaland            -\n",
       "10                     Sikkim             Odisha            -\n",
       "11                 Tamil Nadu          Rajasthan            -\n",
       "12                  Telangana            Tripura            -\n",
       "13                Uttarakhand      Uttar Pradesh            -\n",
       "14                          -        West Bengal            -"
      ],
      "text/html": "<div>\n<style scoped>\n    .dataframe tbody tr th:only-of-type {\n        vertical-align: middle;\n    }\n\n    .dataframe tbody tr th {\n        vertical-align: top;\n    }\n\n    .dataframe thead th {\n        text-align: right;\n    }\n</style>\n<table border=\"1\" class=\"dataframe\">\n  <thead>\n    <tr style=\"text-align: right;\">\n      <th></th>\n      <th>Cluster 0</th>\n      <th>Cluster 1</th>\n      <th>Cluster 2</th>\n    </tr>\n  </thead>\n  <tbody>\n    <tr>\n      <th>0</th>\n      <td>Andaman &amp; Nicobar Islands</td>\n      <td>Arunachal Pradesh</td>\n      <td>Chandigarh</td>\n    </tr>\n    <tr>\n      <th>1</th>\n      <td>Andhra Pradesh</td>\n      <td>Assam</td>\n      <td>Daman &amp; Diu</td>\n    </tr>\n    <tr>\n      <th>2</th>\n      <td>Dadra &amp; Nagar Haveli</td>\n      <td>Bihar</td>\n      <td>Delhi</td>\n    </tr>\n    <tr>\n      <th>3</th>\n      <td>Goa</td>\n      <td>Chhattisgarh</td>\n      <td>Gujarat</td>\n    </tr>\n    <tr>\n      <th>4</th>\n      <td>Haryana</td>\n      <td>Jammu And Kashmir</td>\n      <td>Kerala</td>\n    </tr>\n    <tr>\n      <th>5</th>\n      <td>Himachal Pradesh</td>\n      <td>Jharkhand</td>\n      <td>Lakshadweep</td>\n    </tr>\n    <tr>\n      <th>6</th>\n      <td>Karnataka</td>\n      <td>Madhya Pradesh</td>\n      <td>Puducherry</td>\n    </tr>\n    <tr>\n      <th>7</th>\n      <td>Maharashtra</td>\n      <td>Manipur</td>\n      <td>-</td>\n    </tr>\n    <tr>\n      <th>8</th>\n      <td>Mizoram</td>\n      <td>Meghalaya</td>\n      <td>-</td>\n    </tr>\n    <tr>\n      <th>9</th>\n      <td>Punjab</td>\n      <td>Nagaland</td>\n      <td>-</td>\n    </tr>\n    <tr>\n      <th>10</th>\n      <td>Sikkim</td>\n      <td>Odisha</td>\n      <td>-</td>\n    </tr>\n    <tr>\n      <th>11</th>\n      <td>Tamil Nadu</td>\n      <td>Rajasthan</td>\n      <td>-</td>\n    </tr>\n    <tr>\n      <th>12</th>\n      <td>Telangana</td>\n      <td>Tripura</td>\n      <td>-</td>\n    </tr>\n    <tr>\n      <th>13</th>\n      <td>Uttarakhand</td>\n      <td>Uttar Pradesh</td>\n      <td>-</td>\n    </tr>\n    <tr>\n      <th>14</th>\n      <td>-</td>\n      <td>West Bengal</td>\n      <td>-</td>\n    </tr>\n  </tbody>\n</table>\n</div>"
     },
     "metadata": {},
     "execution_count": 20
    }
   ],
   "source": [
    "factors_clusters"
   ]
  },
  {
   "cell_type": "code",
   "execution_count": 21,
   "metadata": {},
   "outputs": [
    {
     "output_type": "execute_result",
     "data": {
      "text/plain": [
       "<pandas.io.formats.style.Styler at 0x25b26f9c1f0>"
      ],
      "text/html": "<style  type=\"text/css\" >\n#T_ea853_row0_col0{\n            background-color:  #2081b8;\n            color:  #000000;\n        }#T_ea853_row0_col1{\n            background-color:  #0a6aad;\n            color:  #f1f1f1;\n        }#T_ea853_row0_col2{\n            background-color:  #abdeb6;\n            color:  #000000;\n        }#T_ea853_row0_col3{\n            background-color:  #95d6bb;\n            color:  #000000;\n        }#T_ea853_row0_col4{\n            background-color:  #3496c3;\n            color:  #000000;\n        }#T_ea853_row1_col0,#T_ea853_row1_col1,#T_ea853_row1_col2,#T_ea853_row1_col3,#T_ea853_row1_col4{\n            background-color:  #f7fcf0;\n            color:  #000000;\n        }#T_ea853_row2_col0,#T_ea853_row2_col1,#T_ea853_row2_col2,#T_ea853_row2_col3,#T_ea853_row2_col4{\n            background-color:  #084081;\n            color:  #f1f1f1;\n        }</style><table id=\"T_ea853_\" ><thead>    <tr>        <th class=\"blank level0\" ></th>        <th class=\"col_heading level0 col0\" >Drinking water</th>        <th class=\"col_heading level0 col1\" >Electricity</th>        <th class=\"col_heading level0 col2\" >Computer</th>        <th class=\"col_heading level0 col3\" >Boys toilet</th>        <th class=\"col_heading level0 col4\" >Girls toilet</th>    </tr>    <tr>        <th class=\"index_name level0\" >Labels</th>        <th class=\"blank\" ></th>        <th class=\"blank\" ></th>        <th class=\"blank\" ></th>        <th class=\"blank\" ></th>        <th class=\"blank\" ></th>    </tr></thead><tbody>\n                <tr>\n                        <th id=\"T_ea853_level0_row0\" class=\"row_heading level0 row0\" >0</th>\n                        <td id=\"T_ea853_row0_col0\" class=\"data row0 col0\" >97.465000</td>\n                        <td id=\"T_ea853_row0_col1\" class=\"data row0 col1\" >90.437143</td>\n                        <td id=\"T_ea853_row0_col2\" class=\"data row0 col2\" >40.995000</td>\n                        <td id=\"T_ea853_row0_col3\" class=\"data row0 col3\" >88.647143</td>\n                        <td id=\"T_ea853_row0_col4\" class=\"data row0 col4\" >95.917143</td>\n            </tr>\n            <tr>\n                        <th id=\"T_ea853_level0_row1\" class=\"row_heading level0 row1\" >1</th>\n                        <td id=\"T_ea853_row1_col0\" class=\"data row1 col0\" >88.489333</td>\n                        <td id=\"T_ea853_row1_col1\" class=\"data row1 col1\" >33.644000</td>\n                        <td id=\"T_ea853_row1_col2\" class=\"data row1 col2\" >15.374667</td>\n                        <td id=\"T_ea853_row1_col3\" class=\"data row1 col3\" >80.696000</td>\n                        <td id=\"T_ea853_row1_col4\" class=\"data row1 col4\" >86.678000</td>\n            </tr>\n            <tr>\n                        <th id=\"T_ea853_level0_row2\" class=\"row_heading level0 row2\" >2</th>\n                        <td id=\"T_ea853_row2_col0\" class=\"data row2 col0\" >99.910000</td>\n                        <td id=\"T_ea853_row2_col1\" class=\"data row2 col1\" >99.400000</td>\n                        <td id=\"T_ea853_row2_col2\" class=\"data row2 col2\" >85.832857</td>\n                        <td id=\"T_ea853_row2_col3\" class=\"data row2 col3\" >99.210000</td>\n                        <td id=\"T_ea853_row2_col4\" class=\"data row2 col4\" >99.595714</td>\n            </tr>\n    </tbody></table>"
     },
     "metadata": {},
     "execution_count": 21
    }
   ],
   "source": [
    "reqd=factors_result.groupby('Labels')[factors_result.columns[1:-1]].agg('mean')\n",
    "reqd.style.background_gradient(cmap='GnBu')"
   ]
  },
  {
   "source": [
    "## Analysis"
   ],
   "cell_type": "markdown",
   "metadata": {}
  },
  {
   "cell_type": "code",
   "execution_count": 22,
   "metadata": {},
   "outputs": [],
   "source": [
    "dropouts_result=dropouts_result[['State','PRIMARY_TOTAL', 'UPPER_PRIMARY_TOTAL', 'SECONDARY_TOTAL','HRSECONDARY_TOTAL']]\n",
    "dropouts_result.set_index(['State'],inplace=True)"
   ]
  },
  {
   "cell_type": "code",
   "execution_count": 23,
   "metadata": {},
   "outputs": [],
   "source": [
    "enrollments_result=enrollments_result[['State','Primary_Total', 'Upper_Primary_Total', 'Secondary_Total','Higher_Secondary_Total']]\n",
    "enrollments_result.set_index(['State'],inplace=True)"
   ]
  },
  {
   "cell_type": "code",
   "execution_count": 24,
   "metadata": {},
   "outputs": [],
   "source": [
    "factors_result.set_index(['State'],inplace=True)"
   ]
  },
  {
   "cell_type": "code",
   "execution_count": 25,
   "metadata": {},
   "outputs": [],
   "source": [
    "dataset=pd.concat([dropouts_result,enrollments_result,factors_result.drop(['Labels'],axis=1)],axis=1)\n",
    "cols=[]\n",
    "for col in dataset.columns[:4]:\n",
    "    cols.append(\"Dropout-\"+col[:-6])\n",
    "for col in dataset.columns[4:8]:\n",
    "    cols.append(\"Enrollments-\"+col[:-6])\n",
    "for col in dataset.columns[8:]:\n",
    "    cols.append(col)  \n",
    "dataset.columns=cols"
   ]
  },
  {
   "cell_type": "code",
   "execution_count": 26,
   "metadata": {},
   "outputs": [
    {
     "output_type": "execute_result",
     "data": {
      "text/plain": [
       "                           Dropout-PRIMARY  Dropout-UPPER_PRIMARY  \\\n",
       "State                                                               \n",
       "Andaman & Nicobar Islands         0.800000               1.143333   \n",
       "Andhra Pradesh                    4.750000               4.113333   \n",
       "Arunachal Pradesh                12.290000               6.590000   \n",
       "Assam                             9.680000               8.253333   \n",
       "Bihar                             0.696667               2.353333   \n",
       "\n",
       "                           Dropout-SECONDARY  Dropout-HRSECONDARY  \\\n",
       "State                                                               \n",
       "Andaman & Nicobar Islands           7.543333            15.646667   \n",
       "Andhra Pradesh                     13.693333             4.046667   \n",
       "Arunachal Pradesh                  14.843333            13.533333   \n",
       "Assam                              28.086667             3.976667   \n",
       "Bihar                              27.123333             0.000000   \n",
       "\n",
       "                           Enrollments-Primary  Enrollments-Upper_Primary  \\\n",
       "State                                                                       \n",
       "Andaman & Nicobar Islands            91.260000                  87.863333   \n",
       "Andhra Pradesh                       89.810000                  81.456667   \n",
       "Arunachal Pradesh                   127.783333                 122.200000   \n",
       "Assam                               111.500000                  94.013333   \n",
       "Bihar                               102.240000                  97.733333   \n",
       "\n",
       "                           Enrollments-Secondary  \\\n",
       "State                                              \n",
       "Andaman & Nicobar Islands              93.243333   \n",
       "Andhra Pradesh                         74.370000   \n",
       "Arunachal Pradesh                      89.300000   \n",
       "Assam                                  74.526667   \n",
       "Bihar                                  69.180000   \n",
       "\n",
       "                           Enrollments-Higher_Secondary  Drinking water  \\\n",
       "State                                                                     \n",
       "Andaman & Nicobar Islands                     90.000000           98.69   \n",
       "Andhra Pradesh                                57.000000           90.35   \n",
       "Arunachal Pradesh                             64.666667           79.79   \n",
       "Assam                                         34.333333           80.30   \n",
       "Bihar                                         29.666667           92.53   \n",
       "\n",
       "                           Electricity  Computer  Boys toilet  Girls toilet  \n",
       "State                                                                        \n",
       "Andaman & Nicobar Islands        88.86     53.06        94.52         93.44  \n",
       "Andhra Pradesh                   90.34     29.57        56.88         81.31  \n",
       "Arunachal Pradesh                36.35     24.28        48.73         76.90  \n",
       "Assam                            19.39      8.85        60.17         75.28  \n",
       "Bihar                             9.96      5.47        73.42         75.41  "
      ],
      "text/html": "<div>\n<style scoped>\n    .dataframe tbody tr th:only-of-type {\n        vertical-align: middle;\n    }\n\n    .dataframe tbody tr th {\n        vertical-align: top;\n    }\n\n    .dataframe thead th {\n        text-align: right;\n    }\n</style>\n<table border=\"1\" class=\"dataframe\">\n  <thead>\n    <tr style=\"text-align: right;\">\n      <th></th>\n      <th>Dropout-PRIMARY</th>\n      <th>Dropout-UPPER_PRIMARY</th>\n      <th>Dropout-SECONDARY</th>\n      <th>Dropout-HRSECONDARY</th>\n      <th>Enrollments-Primary</th>\n      <th>Enrollments-Upper_Primary</th>\n      <th>Enrollments-Secondary</th>\n      <th>Enrollments-Higher_Secondary</th>\n      <th>Drinking water</th>\n      <th>Electricity</th>\n      <th>Computer</th>\n      <th>Boys toilet</th>\n      <th>Girls toilet</th>\n    </tr>\n    <tr>\n      <th>State</th>\n      <th></th>\n      <th></th>\n      <th></th>\n      <th></th>\n      <th></th>\n      <th></th>\n      <th></th>\n      <th></th>\n      <th></th>\n      <th></th>\n      <th></th>\n      <th></th>\n      <th></th>\n    </tr>\n  </thead>\n  <tbody>\n    <tr>\n      <th>Andaman &amp; Nicobar Islands</th>\n      <td>0.800000</td>\n      <td>1.143333</td>\n      <td>7.543333</td>\n      <td>15.646667</td>\n      <td>91.260000</td>\n      <td>87.863333</td>\n      <td>93.243333</td>\n      <td>90.000000</td>\n      <td>98.69</td>\n      <td>88.86</td>\n      <td>53.06</td>\n      <td>94.52</td>\n      <td>93.44</td>\n    </tr>\n    <tr>\n      <th>Andhra Pradesh</th>\n      <td>4.750000</td>\n      <td>4.113333</td>\n      <td>13.693333</td>\n      <td>4.046667</td>\n      <td>89.810000</td>\n      <td>81.456667</td>\n      <td>74.370000</td>\n      <td>57.000000</td>\n      <td>90.35</td>\n      <td>90.34</td>\n      <td>29.57</td>\n      <td>56.88</td>\n      <td>81.31</td>\n    </tr>\n    <tr>\n      <th>Arunachal Pradesh</th>\n      <td>12.290000</td>\n      <td>6.590000</td>\n      <td>14.843333</td>\n      <td>13.533333</td>\n      <td>127.783333</td>\n      <td>122.200000</td>\n      <td>89.300000</td>\n      <td>64.666667</td>\n      <td>79.79</td>\n      <td>36.35</td>\n      <td>24.28</td>\n      <td>48.73</td>\n      <td>76.90</td>\n    </tr>\n    <tr>\n      <th>Assam</th>\n      <td>9.680000</td>\n      <td>8.253333</td>\n      <td>28.086667</td>\n      <td>3.976667</td>\n      <td>111.500000</td>\n      <td>94.013333</td>\n      <td>74.526667</td>\n      <td>34.333333</td>\n      <td>80.30</td>\n      <td>19.39</td>\n      <td>8.85</td>\n      <td>60.17</td>\n      <td>75.28</td>\n    </tr>\n    <tr>\n      <th>Bihar</th>\n      <td>0.696667</td>\n      <td>2.353333</td>\n      <td>27.123333</td>\n      <td>0.000000</td>\n      <td>102.240000</td>\n      <td>97.733333</td>\n      <td>69.180000</td>\n      <td>29.666667</td>\n      <td>92.53</td>\n      <td>9.96</td>\n      <td>5.47</td>\n      <td>73.42</td>\n      <td>75.41</td>\n    </tr>\n  </tbody>\n</table>\n</div>"
     },
     "metadata": {},
     "execution_count": 26
    }
   ],
   "source": [
    "dataset.head(5)"
   ]
  },
  {
   "cell_type": "code",
   "execution_count": 27,
   "metadata": {},
   "outputs": [
    {
     "output_type": "execute_result",
     "data": {
      "text/plain": [
       "<pandas.io.formats.style.Styler at 0x25b22bcb3d0>"
      ],
      "text/html": "<style  type=\"text/css\" >\n#T_6d878_row0_col0,#T_6d878_row1_col1,#T_6d878_row2_col2,#T_6d878_row3_col3,#T_6d878_row4_col4,#T_6d878_row5_col5,#T_6d878_row6_col6,#T_6d878_row7_col7,#T_6d878_row8_col8,#T_6d878_row9_col9,#T_6d878_row10_col10,#T_6d878_row11_col11,#T_6d878_row12_col12{\n            background-color:  #b40426;\n            color:  #f1f1f1;\n        }#T_6d878_row0_col1{\n            background-color:  #da5a49;\n            color:  #000000;\n        }#T_6d878_row0_col2{\n            background-color:  #f7a98b;\n            color:  #000000;\n        }#T_6d878_row0_col3,#T_6d878_row0_col8,#T_6d878_row0_col9,#T_6d878_row0_col10,#T_6d878_row1_col11,#T_6d878_row1_col12,#T_6d878_row2_col6,#T_6d878_row2_col7,#T_6d878_row7_col1,#T_6d878_row7_col2,#T_6d878_row8_col0,#T_6d878_row8_col4,#T_6d878_row8_col5{\n            background-color:  #3b4cc0;\n            color:  #f1f1f1;\n        }#T_6d878_row0_col4,#T_6d878_row8_col7{\n            background-color:  #f7a889;\n            color:  #000000;\n        }#T_6d878_row0_col5,#T_6d878_row5_col9{\n            background-color:  #a9c6fd;\n            color:  #000000;\n        }#T_6d878_row0_col6{\n            background-color:  #6384eb;\n            color:  #000000;\n        }#T_6d878_row0_col7,#T_6d878_row3_col0{\n            background-color:  #92b4fe;\n            color:  #000000;\n        }#T_6d878_row0_col11,#T_6d878_row0_col12,#T_6d878_row9_col1{\n            background-color:  #445acc;\n            color:  #f1f1f1;\n        }#T_6d878_row1_col0{\n            background-color:  #d85646;\n            color:  #000000;\n        }#T_6d878_row1_col2{\n            background-color:  #e67259;\n            color:  #000000;\n        }#T_6d878_row1_col3,#T_6d878_row10_col1{\n            background-color:  #4c66d6;\n            color:  #000000;\n        }#T_6d878_row1_col4,#T_6d878_row11_col7{\n            background-color:  #f7b497;\n            color:  #000000;\n        }#T_6d878_row1_col5{\n            background-color:  #b1cbfc;\n            color:  #000000;\n        }#T_6d878_row1_col6{\n            background-color:  #4a63d3;\n            color:  #f1f1f1;\n        }#T_6d878_row1_col7{\n            background-color:  #6a8bef;\n            color:  #000000;\n        }#T_6d878_row1_col8{\n            background-color:  #5572df;\n            color:  #000000;\n        }#T_6d878_row1_col9{\n            background-color:  #506bda;\n            color:  #000000;\n        }#T_6d878_row1_col10{\n            background-color:  #465ecf;\n            color:  #f1f1f1;\n        }#T_6d878_row2_col0,#T_6d878_row6_col9{\n            background-color:  #f7b194;\n            color:  #000000;\n        }#T_6d878_row2_col1,#T_6d878_row8_col11{\n            background-color:  #ec7f63;\n            color:  #000000;\n        }#T_6d878_row2_col3{\n            background-color:  #3d50c3;\n            color:  #f1f1f1;\n        }#T_6d878_row2_col4{\n            background-color:  #ebd3c6;\n            color:  #000000;\n        }#T_6d878_row2_col5,#T_6d878_row7_col4{\n            background-color:  #88abfd;\n            color:  #000000;\n        }#T_6d878_row2_col8,#T_6d878_row12_col4{\n            background-color:  #7a9df8;\n            color:  #000000;\n        }#T_6d878_row2_col9,#T_6d878_row9_col5,#T_6d878_row10_col0,#T_6d878_row11_col5,#T_6d878_row12_col1{\n            background-color:  #5a78e4;\n            color:  #000000;\n        }#T_6d878_row2_col10,#T_6d878_row11_col1{\n            background-color:  #455cce;\n            color:  #f1f1f1;\n        }#T_6d878_row2_col11{\n            background-color:  #536edd;\n            color:  #000000;\n        }#T_6d878_row2_col12,#T_6d878_row9_col0{\n            background-color:  #485fd1;\n            color:  #f1f1f1;\n        }#T_6d878_row3_col1,#T_6d878_row12_col5{\n            background-color:  #8badfd;\n            color:  #000000;\n        }#T_6d878_row3_col2{\n            background-color:  #a7c5fe;\n            color:  #000000;\n        }#T_6d878_row3_col4{\n            background-color:  #98b9ff;\n            color:  #000000;\n        }#T_6d878_row3_col5{\n            background-color:  #9dbdff;\n            color:  #000000;\n        }#T_6d878_row3_col6{\n            background-color:  #dedcdb;\n            color:  #000000;\n        }#T_6d878_row3_col7,#T_6d878_row6_col8{\n            background-color:  #f5c4ac;\n            color:  #000000;\n        }#T_6d878_row3_col8,#T_6d878_row9_col3{\n            background-color:  #f0cdbb;\n            color:  #000000;\n        }#T_6d878_row3_col9,#T_6d878_row12_col7{\n            background-color:  #f7b396;\n            color:  #000000;\n        }#T_6d878_row3_col10,#T_6d878_row7_col8{\n            background-color:  #f7b093;\n            color:  #000000;\n        }#T_6d878_row3_col11{\n            background-color:  #e1dad6;\n            color:  #000000;\n        }#T_6d878_row3_col12{\n            background-color:  #e4d9d2;\n            color:  #000000;\n        }#T_6d878_row4_col0{\n            background-color:  #f49a7b;\n            color:  #000000;\n        }#T_6d878_row4_col1{\n            background-color:  #f7af91;\n            color:  #000000;\n        }#T_6d878_row4_col2{\n            background-color:  #f6bfa6;\n            color:  #000000;\n        }#T_6d878_row4_col3{\n            background-color:  #6788ee;\n            color:  #000000;\n        }#T_6d878_row4_col5{\n            background-color:  #f08a6c;\n            color:  #000000;\n        }#T_6d878_row4_col6{\n            background-color:  #c5d6f2;\n            color:  #000000;\n        }#T_6d878_row4_col7{\n            background-color:  #b9d0f9;\n            color:  #000000;\n        }#T_6d878_row4_col8,#T_6d878_row10_col5{\n            background-color:  #5f7fe8;\n            color:  #000000;\n        }#T_6d878_row4_col9,#T_6d878_row4_col12{\n            background-color:  #6687ed;\n            color:  #000000;\n        }#T_6d878_row4_col10,#T_6d878_row4_col11{\n            background-color:  #5e7de7;\n            color:  #000000;\n        }#T_6d878_row5_col0,#T_6d878_row5_col7,#T_6d878_row11_col6{\n            background-color:  #e2dad5;\n            color:  #000000;\n        }#T_6d878_row5_col1,#T_6d878_row5_col2{\n            background-color:  #dcdddd;\n            color:  #000000;\n        }#T_6d878_row5_col3{\n            background-color:  #a5c3fe;\n            color:  #000000;\n        }#T_6d878_row5_col4{\n            background-color:  #e9785d;\n            color:  #000000;\n        }#T_6d878_row5_col6{\n            background-color:  #f7bca1;\n            color:  #000000;\n        }#T_6d878_row5_col8{\n            background-color:  #9abbff;\n            color:  #000000;\n        }#T_6d878_row5_col10{\n            background-color:  #9ebeff;\n            color:  #000000;\n        }#T_6d878_row5_col11{\n            background-color:  #97b8ff;\n            color:  #000000;\n        }#T_6d878_row5_col12{\n            background-color:  #aec9fc;\n            color:  #000000;\n        }#T_6d878_row6_col0{\n            background-color:  #8db0fe;\n            color:  #000000;\n        }#T_6d878_row6_col1,#T_6d878_row11_col4{\n            background-color:  #5d7ce6;\n            color:  #000000;\n        }#T_6d878_row6_col2,#T_6d878_row10_col2{\n            background-color:  #7b9ff9;\n            color:  #000000;\n        }#T_6d878_row6_col3,#T_6d878_row11_col3{\n            background-color:  #c7d7f0;\n            color:  #000000;\n        }#T_6d878_row6_col4{\n            background-color:  #c9d7f0;\n            color:  #000000;\n        }#T_6d878_row6_col5{\n            background-color:  #efcfbf;\n            color:  #000000;\n        }#T_6d878_row6_col7{\n            background-color:  #e57058;\n            color:  #000000;\n        }#T_6d878_row6_col10{\n            background-color:  #f7b99e;\n            color:  #000000;\n        }#T_6d878_row6_col11{\n            background-color:  #e5d8d1;\n            color:  #000000;\n        }#T_6d878_row6_col12{\n            background-color:  #f3c7b1;\n            color:  #000000;\n        }#T_6d878_row7_col0,#T_6d878_row9_col2,#T_6d878_row12_col0{\n            background-color:  #7da0f9;\n            color:  #000000;\n        }#T_6d878_row7_col3{\n            background-color:  #d1dae9;\n            color:  #000000;\n        }#T_6d878_row7_col5,#T_6d878_row12_col2{\n            background-color:  #94b6ff;\n            color:  #000000;\n        }#T_6d878_row7_col6{\n            background-color:  #ed8366;\n            color:  #000000;\n        }#T_6d878_row7_col9,#T_6d878_row7_col10{\n            background-color:  #f6a385;\n            color:  #000000;\n        }#T_6d878_row7_col11{\n            background-color:  #f2c9b4;\n            color:  #000000;\n        }#T_6d878_row7_col12{\n            background-color:  #efcebd;\n            color:  #000000;\n        }#T_6d878_row8_col1{\n            background-color:  #3c4ec2;\n            color:  #f1f1f1;\n        }#T_6d878_row8_col2{\n            background-color:  #8fb1fe;\n            color:  #000000;\n        }#T_6d878_row8_col3{\n            background-color:  #ccd9ed;\n            color:  #000000;\n        }#T_6d878_row8_col6{\n            background-color:  #edd2c3;\n            color:  #000000;\n        }#T_6d878_row8_col9,#T_6d878_row12_col11{\n            background-color:  #d0473d;\n            color:  #f1f1f1;\n        }#T_6d878_row8_col10{\n            background-color:  #e46e56;\n            color:  #000000;\n        }#T_6d878_row8_col12,#T_6d878_row9_col7{\n            background-color:  #f39778;\n            color:  #000000;\n        }#T_6d878_row9_col4{\n            background-color:  #4e68d8;\n            color:  #000000;\n        }#T_6d878_row9_col6,#T_6d878_row10_col6{\n            background-color:  #f6bda2;\n            color:  #000000;\n        }#T_6d878_row9_col8,#T_6d878_row9_col10{\n            background-color:  #cf453c;\n            color:  #f1f1f1;\n        }#T_6d878_row9_col11{\n            background-color:  #f18f71;\n            color:  #000000;\n        }#T_6d878_row9_col12,#T_6d878_row12_col8{\n            background-color:  #ee8468;\n            color:  #000000;\n        }#T_6d878_row10_col3{\n            background-color:  #f4c5ad;\n            color:  #000000;\n        }#T_6d878_row10_col4{\n            background-color:  #5977e3;\n            color:  #000000;\n        }#T_6d878_row10_col7{\n            background-color:  #f29072;\n            color:  #000000;\n        }#T_6d878_row10_col8{\n            background-color:  #e16751;\n            color:  #000000;\n        }#T_6d878_row10_col9{\n            background-color:  #cd423b;\n            color:  #f1f1f1;\n        }#T_6d878_row10_col11{\n            background-color:  #f18d6f;\n            color:  #000000;\n        }#T_6d878_row10_col12,#T_6d878_row11_col9{\n            background-color:  #ef886b;\n            color:  #000000;\n        }#T_6d878_row11_col0{\n            background-color:  #688aef;\n            color:  #000000;\n        }#T_6d878_row11_col2{\n            background-color:  #8caffe;\n            color:  #000000;\n        }#T_6d878_row11_col8,#T_6d878_row12_col9{\n            background-color:  #e8765c;\n            color:  #000000;\n        }#T_6d878_row11_col10{\n            background-color:  #f08b6e;\n            color:  #000000;\n        }#T_6d878_row11_col12{\n            background-color:  #d1493f;\n            color:  #f1f1f1;\n        }#T_6d878_row12_col3{\n            background-color:  #d6dce4;\n            color:  #000000;\n        }#T_6d878_row12_col6{\n            background-color:  #f5c2aa;\n            color:  #000000;\n        }#T_6d878_row12_col10{\n            background-color:  #ec8165;\n            color:  #000000;\n        }</style><table id=\"T_6d878_\" ><thead>    <tr>        <th class=\"blank level0\" ></th>        <th class=\"col_heading level0 col0\" >Dropout-PRIMARY</th>        <th class=\"col_heading level0 col1\" >Dropout-UPPER_PRIMARY</th>        <th class=\"col_heading level0 col2\" >Dropout-SECONDARY</th>        <th class=\"col_heading level0 col3\" >Dropout-HRSECONDARY</th>        <th class=\"col_heading level0 col4\" >Enrollments-Primary</th>        <th class=\"col_heading level0 col5\" >Enrollments-Upper_Primary</th>        <th class=\"col_heading level0 col6\" >Enrollments-Secondary</th>        <th class=\"col_heading level0 col7\" >Enrollments-Higher_Secondary</th>        <th class=\"col_heading level0 col8\" >Drinking water</th>        <th class=\"col_heading level0 col9\" >Electricity</th>        <th class=\"col_heading level0 col10\" >Computer</th>        <th class=\"col_heading level0 col11\" >Boys toilet</th>        <th class=\"col_heading level0 col12\" >Girls toilet</th>    </tr></thead><tbody>\n                <tr>\n                        <th id=\"T_6d878_level0_row0\" class=\"row_heading level0 row0\" >Dropout-PRIMARY</th>\n                        <td id=\"T_6d878_row0_col0\" class=\"data row0 col0\" >1.000000</td>\n                        <td id=\"T_6d878_row0_col1\" class=\"data row0 col1\" >0.808626</td>\n                        <td id=\"T_6d878_row0_col2\" class=\"data row0 col2\" >0.433988</td>\n                        <td id=\"T_6d878_row0_col3\" class=\"data row0 col3\" >-0.326441</td>\n                        <td id=\"T_6d878_row0_col4\" class=\"data row0 col4\" >0.546122</td>\n                        <td id=\"T_6d878_row0_col5\" class=\"data row0 col5\" >0.140328</td>\n                        <td id=\"T_6d878_row0_col6\" class=\"data row0 col6\" >-0.348632</td>\n                        <td id=\"T_6d878_row0_col7\" class=\"data row0 col7\" >-0.430200</td>\n                        <td id=\"T_6d878_row0_col8\" class=\"data row0 col8\" >-0.798247</td>\n                        <td id=\"T_6d878_row0_col9\" class=\"data row0 col9\" >-0.718789</td>\n                        <td id=\"T_6d878_row0_col10\" class=\"data row0 col10\" >-0.614355</td>\n                        <td id=\"T_6d878_row0_col11\" class=\"data row0 col11\" >-0.535910</td>\n                        <td id=\"T_6d878_row0_col12\" class=\"data row0 col12\" >-0.429225</td>\n            </tr>\n            <tr>\n                        <th id=\"T_6d878_level0_row1\" class=\"row_heading level0 row1\" >Dropout-UPPER_PRIMARY</th>\n                        <td id=\"T_6d878_row1_col0\" class=\"data row1 col0\" >0.808626</td>\n                        <td id=\"T_6d878_row1_col1\" class=\"data row1 col1\" >1.000000</td>\n                        <td id=\"T_6d878_row1_col2\" class=\"data row1 col2\" >0.684685</td>\n                        <td id=\"T_6d878_row1_col3\" class=\"data row1 col3\" >-0.245976</td>\n                        <td id=\"T_6d878_row1_col4\" class=\"data row1 col4\" >0.491634</td>\n                        <td id=\"T_6d878_row1_col5\" class=\"data row1 col5\" >0.171943</td>\n                        <td id=\"T_6d878_row1_col6\" class=\"data row1 col6\" >-0.469755</td>\n                        <td id=\"T_6d878_row1_col7\" class=\"data row1 col7\" >-0.650274</td>\n                        <td id=\"T_6d878_row1_col8\" class=\"data row1 col8\" >-0.640407</td>\n                        <td id=\"T_6d878_row1_col9\" class=\"data row1 col9\" >-0.595619</td>\n                        <td id=\"T_6d878_row1_col10\" class=\"data row1 col10\" >-0.549292</td>\n                        <td id=\"T_6d878_row1_col11\" class=\"data row1 col11\" >-0.590341</td>\n                        <td id=\"T_6d878_row1_col12\" class=\"data row1 col12\" >-0.480315</td>\n            </tr>\n            <tr>\n                        <th id=\"T_6d878_level0_row2\" class=\"row_heading level0 row2\" >Dropout-SECONDARY</th>\n                        <td id=\"T_6d878_row2_col0\" class=\"data row2 col0\" >0.433988</td>\n                        <td id=\"T_6d878_row2_col1\" class=\"data row2 col1\" >0.684685</td>\n                        <td id=\"T_6d878_row2_col2\" class=\"data row2 col2\" >1.000000</td>\n                        <td id=\"T_6d878_row2_col3\" class=\"data row2 col3\" >-0.314359</td>\n                        <td id=\"T_6d878_row2_col4\" class=\"data row2 col4\" >0.302703</td>\n                        <td id=\"T_6d878_row2_col5\" class=\"data row2 col5\" >0.020849</td>\n                        <td id=\"T_6d878_row2_col6\" class=\"data row2 col6\" >-0.551866</td>\n                        <td id=\"T_6d878_row2_col7\" class=\"data row2 col7\" >-0.945864</td>\n                        <td id=\"T_6d878_row2_col8\" class=\"data row2 col8\" >-0.444591</td>\n                        <td id=\"T_6d878_row2_col9\" class=\"data row2 col9\" >-0.543557</td>\n                        <td id=\"T_6d878_row2_col10\" class=\"data row2 col10\" >-0.556757</td>\n                        <td id=\"T_6d878_row2_col11\" class=\"data row2 col11\" >-0.462975</td>\n                        <td id=\"T_6d878_row2_col12\" class=\"data row2 col12\" >-0.415749</td>\n            </tr>\n            <tr>\n                        <th id=\"T_6d878_level0_row3\" class=\"row_heading level0 row3\" >Dropout-HRSECONDARY</th>\n                        <td id=\"T_6d878_row3_col0\" class=\"data row3 col0\" >-0.326441</td>\n                        <td id=\"T_6d878_row3_col1\" class=\"data row3 col1\" >-0.245976</td>\n                        <td id=\"T_6d878_row3_col2\" class=\"data row3 col2\" >-0.314359</td>\n                        <td id=\"T_6d878_row3_col3\" class=\"data row3 col3\" >1.000000</td>\n                        <td id=\"T_6d878_row3_col4\" class=\"data row3 col4\" >-0.139472</td>\n                        <td id=\"T_6d878_row3_col5\" class=\"data row3 col5\" >0.096330</td>\n                        <td id=\"T_6d878_row3_col6\" class=\"data row3 col6\" >0.235673</td>\n                        <td id=\"T_6d878_row3_col7\" class=\"data row3 col7\" >0.276393</td>\n                        <td id=\"T_6d878_row3_col8\" class=\"data row3 col8\" >0.256948</td>\n                        <td id=\"T_6d878_row3_col9\" class=\"data row3 col9\" >0.451580</td>\n                        <td id=\"T_6d878_row3_col10\" class=\"data row3 col10\" >0.497875</td>\n                        <td id=\"T_6d878_row3_col11\" class=\"data row3 col11\" >0.235696</td>\n                        <td id=\"T_6d878_row3_col12\" class=\"data row3 col12\" >0.301116</td>\n            </tr>\n            <tr>\n                        <th id=\"T_6d878_level0_row4\" class=\"row_heading level0 row4\" >Enrollments-Primary</th>\n                        <td id=\"T_6d878_row4_col0\" class=\"data row4 col0\" >0.546122</td>\n                        <td id=\"T_6d878_row4_col1\" class=\"data row4 col1\" >0.491634</td>\n                        <td id=\"T_6d878_row4_col2\" class=\"data row4 col2\" >0.302703</td>\n                        <td id=\"T_6d878_row4_col3\" class=\"data row4 col3\" >-0.139472</td>\n                        <td id=\"T_6d878_row4_col4\" class=\"data row4 col4\" >1.000000</td>\n                        <td id=\"T_6d878_row4_col5\" class=\"data row4 col5\" >0.725354</td>\n                        <td id=\"T_6d878_row4_col6\" class=\"data row4 col6\" >0.090862</td>\n                        <td id=\"T_6d878_row4_col7\" class=\"data row4 col7\" >-0.209076</td>\n                        <td id=\"T_6d878_row4_col8\" class=\"data row4 col8\" >-0.586416</td>\n                        <td id=\"T_6d878_row4_col9\" class=\"data row4 col9\" >-0.481959</td>\n                        <td id=\"T_6d878_row4_col10\" class=\"data row4 col10\" >-0.426512</td>\n                        <td id=\"T_6d878_row4_col11\" class=\"data row4 col11\" >-0.408371</td>\n                        <td id=\"T_6d878_row4_col12\" class=\"data row4 col12\" >-0.275276</td>\n            </tr>\n            <tr>\n                        <th id=\"T_6d878_level0_row5\" class=\"row_heading level0 row5\" >Enrollments-Upper_Primary</th>\n                        <td id=\"T_6d878_row5_col0\" class=\"data row5 col0\" >0.140328</td>\n                        <td id=\"T_6d878_row5_col1\" class=\"data row5 col1\" >0.171943</td>\n                        <td id=\"T_6d878_row5_col2\" class=\"data row5 col2\" >0.020849</td>\n                        <td id=\"T_6d878_row5_col3\" class=\"data row5 col3\" >0.096330</td>\n                        <td id=\"T_6d878_row5_col4\" class=\"data row5 col4\" >0.725354</td>\n                        <td id=\"T_6d878_row5_col5\" class=\"data row5 col5\" >1.000000</td>\n                        <td id=\"T_6d878_row5_col6\" class=\"data row5 col6\" >0.461776</td>\n                        <td id=\"T_6d878_row5_col7\" class=\"data row5 col7\" >0.069520</td>\n                        <td id=\"T_6d878_row5_col8\" class=\"data row5 col8\" >-0.280033</td>\n                        <td id=\"T_6d878_row5_col9\" class=\"data row5 col9\" >-0.148969</td>\n                        <td id=\"T_6d878_row5_col10\" class=\"data row5 col10\" >-0.129215</td>\n                        <td id=\"T_6d878_row5_col11\" class=\"data row5 col11\" >-0.148616</td>\n                        <td id=\"T_6d878_row5_col12\" class=\"data row5 col12\" >0.032863</td>\n            </tr>\n            <tr>\n                        <th id=\"T_6d878_level0_row6\" class=\"row_heading level0 row6\" >Enrollments-Secondary</th>\n                        <td id=\"T_6d878_row6_col0\" class=\"data row6 col0\" >-0.348632</td>\n                        <td id=\"T_6d878_row6_col1\" class=\"data row6 col1\" >-0.469755</td>\n                        <td id=\"T_6d878_row6_col2\" class=\"data row6 col2\" >-0.551866</td>\n                        <td id=\"T_6d878_row6_col3\" class=\"data row6 col3\" >0.235673</td>\n                        <td id=\"T_6d878_row6_col4\" class=\"data row6 col4\" >0.090862</td>\n                        <td id=\"T_6d878_row6_col5\" class=\"data row6 col5\" >0.461776</td>\n                        <td id=\"T_6d878_row6_col6\" class=\"data row6 col6\" >1.000000</td>\n                        <td id=\"T_6d878_row6_col7\" class=\"data row6 col7\" >0.695333</td>\n                        <td id=\"T_6d878_row6_col8\" class=\"data row6 col8\" >0.330924</td>\n                        <td id=\"T_6d878_row6_col9\" class=\"data row6 col9\" >0.456444</td>\n                        <td id=\"T_6d878_row6_col10\" class=\"data row6 col10\" >0.456628</td>\n                        <td id=\"T_6d878_row6_col11\" class=\"data row6 col11\" >0.259627</td>\n                        <td id=\"T_6d878_row6_col12\" class=\"data row6 col12\" >0.428636</td>\n            </tr>\n            <tr>\n                        <th id=\"T_6d878_level0_row7\" class=\"row_heading level0 row7\" >Enrollments-Higher_Secondary</th>\n                        <td id=\"T_6d878_row7_col0\" class=\"data row7 col0\" >-0.430200</td>\n                        <td id=\"T_6d878_row7_col1\" class=\"data row7 col1\" >-0.650274</td>\n                        <td id=\"T_6d878_row7_col2\" class=\"data row7 col2\" >-0.945864</td>\n                        <td id=\"T_6d878_row7_col3\" class=\"data row7 col3\" >0.276393</td>\n                        <td id=\"T_6d878_row7_col4\" class=\"data row7 col4\" >-0.209076</td>\n                        <td id=\"T_6d878_row7_col5\" class=\"data row7 col5\" >0.069520</td>\n                        <td id=\"T_6d878_row7_col6\" class=\"data row7 col6\" >0.695333</td>\n                        <td id=\"T_6d878_row7_col7\" class=\"data row7 col7\" >1.000000</td>\n                        <td id=\"T_6d878_row7_col8\" class=\"data row7 col8\" >0.442021</td>\n                        <td id=\"T_6d878_row7_col9\" class=\"data row7 col9\" >0.524396</td>\n                        <td id=\"T_6d878_row7_col10\" class=\"data row7 col10\" >0.553717</td>\n                        <td id=\"T_6d878_row7_col11\" class=\"data row7 col11\" >0.373720</td>\n                        <td id=\"T_6d878_row7_col12\" class=\"data row7 col12\" >0.382429</td>\n            </tr>\n            <tr>\n                        <th id=\"T_6d878_level0_row8\" class=\"row_heading level0 row8\" >Drinking water</th>\n                        <td id=\"T_6d878_row8_col0\" class=\"data row8 col0\" >-0.798247</td>\n                        <td id=\"T_6d878_row8_col1\" class=\"data row8 col1\" >-0.640407</td>\n                        <td id=\"T_6d878_row8_col2\" class=\"data row8 col2\" >-0.444591</td>\n                        <td id=\"T_6d878_row8_col3\" class=\"data row8 col3\" >0.256948</td>\n                        <td id=\"T_6d878_row8_col4\" class=\"data row8 col4\" >-0.586416</td>\n                        <td id=\"T_6d878_row8_col5\" class=\"data row8 col5\" >-0.280033</td>\n                        <td id=\"T_6d878_row8_col6\" class=\"data row8 col6\" >0.330924</td>\n                        <td id=\"T_6d878_row8_col7\" class=\"data row8 col7\" >0.442021</td>\n                        <td id=\"T_6d878_row8_col8\" class=\"data row8 col8\" >1.000000</td>\n                        <td id=\"T_6d878_row8_col9\" class=\"data row8 col9\" >0.865238</td>\n                        <td id=\"T_6d878_row8_col10\" class=\"data row8 col10\" >0.748390</td>\n                        <td id=\"T_6d878_row8_col11\" class=\"data row8 col11\" >0.696139</td>\n                        <td id=\"T_6d878_row8_col12\" class=\"data row8 col12\" >0.636747</td>\n            </tr>\n            <tr>\n                        <th id=\"T_6d878_level0_row9\" class=\"row_heading level0 row9\" >Electricity</th>\n                        <td id=\"T_6d878_row9_col0\" class=\"data row9 col0\" >-0.718789</td>\n                        <td id=\"T_6d878_row9_col1\" class=\"data row9 col1\" >-0.595619</td>\n                        <td id=\"T_6d878_row9_col2\" class=\"data row9 col2\" >-0.543557</td>\n                        <td id=\"T_6d878_row9_col3\" class=\"data row9 col3\" >0.451580</td>\n                        <td id=\"T_6d878_row9_col4\" class=\"data row9 col4\" >-0.481959</td>\n                        <td id=\"T_6d878_row9_col5\" class=\"data row9 col5\" >-0.148969</td>\n                        <td id=\"T_6d878_row9_col6\" class=\"data row9 col6\" >0.456444</td>\n                        <td id=\"T_6d878_row9_col7\" class=\"data row9 col7\" >0.524396</td>\n                        <td id=\"T_6d878_row9_col8\" class=\"data row9 col8\" >0.865238</td>\n                        <td id=\"T_6d878_row9_col9\" class=\"data row9 col9\" >1.000000</td>\n                        <td id=\"T_6d878_row9_col10\" class=\"data row9 col10\" >0.878351</td>\n                        <td id=\"T_6d878_row9_col11\" class=\"data row9 col11\" >0.642424</td>\n                        <td id=\"T_6d878_row9_col12\" class=\"data row9 col12\" >0.704691</td>\n            </tr>\n            <tr>\n                        <th id=\"T_6d878_level0_row10\" class=\"row_heading level0 row10\" >Computer</th>\n                        <td id=\"T_6d878_row10_col0\" class=\"data row10 col0\" >-0.614355</td>\n                        <td id=\"T_6d878_row10_col1\" class=\"data row10 col1\" >-0.549292</td>\n                        <td id=\"T_6d878_row10_col2\" class=\"data row10 col2\" >-0.556757</td>\n                        <td id=\"T_6d878_row10_col3\" class=\"data row10 col3\" >0.497875</td>\n                        <td id=\"T_6d878_row10_col4\" class=\"data row10 col4\" >-0.426512</td>\n                        <td id=\"T_6d878_row10_col5\" class=\"data row10 col5\" >-0.129215</td>\n                        <td id=\"T_6d878_row10_col6\" class=\"data row10 col6\" >0.456628</td>\n                        <td id=\"T_6d878_row10_col7\" class=\"data row10 col7\" >0.553717</td>\n                        <td id=\"T_6d878_row10_col8\" class=\"data row10 col8\" >0.748390</td>\n                        <td id=\"T_6d878_row10_col9\" class=\"data row10 col9\" >0.878351</td>\n                        <td id=\"T_6d878_row10_col10\" class=\"data row10 col10\" >1.000000</td>\n                        <td id=\"T_6d878_row10_col11\" class=\"data row10 col11\" >0.648551</td>\n                        <td id=\"T_6d878_row10_col12\" class=\"data row10 col12\" >0.690509</td>\n            </tr>\n            <tr>\n                        <th id=\"T_6d878_level0_row11\" class=\"row_heading level0 row11\" >Boys toilet</th>\n                        <td id=\"T_6d878_row11_col0\" class=\"data row11 col0\" >-0.535910</td>\n                        <td id=\"T_6d878_row11_col1\" class=\"data row11 col1\" >-0.590341</td>\n                        <td id=\"T_6d878_row11_col2\" class=\"data row11 col2\" >-0.462975</td>\n                        <td id=\"T_6d878_row11_col3\" class=\"data row11 col3\" >0.235696</td>\n                        <td id=\"T_6d878_row11_col4\" class=\"data row11 col4\" >-0.408371</td>\n                        <td id=\"T_6d878_row11_col5\" class=\"data row11 col5\" >-0.148616</td>\n                        <td id=\"T_6d878_row11_col6\" class=\"data row11 col6\" >0.259627</td>\n                        <td id=\"T_6d878_row11_col7\" class=\"data row11 col7\" >0.373720</td>\n                        <td id=\"T_6d878_row11_col8\" class=\"data row11 col8\" >0.696139</td>\n                        <td id=\"T_6d878_row11_col9\" class=\"data row11 col9\" >0.642424</td>\n                        <td id=\"T_6d878_row11_col10\" class=\"data row11 col10\" >0.648551</td>\n                        <td id=\"T_6d878_row11_col11\" class=\"data row11 col11\" >1.000000</td>\n                        <td id=\"T_6d878_row11_col12\" class=\"data row11 col12\" >0.874460</td>\n            </tr>\n            <tr>\n                        <th id=\"T_6d878_level0_row12\" class=\"row_heading level0 row12\" >Girls toilet</th>\n                        <td id=\"T_6d878_row12_col0\" class=\"data row12 col0\" >-0.429225</td>\n                        <td id=\"T_6d878_row12_col1\" class=\"data row12 col1\" >-0.480315</td>\n                        <td id=\"T_6d878_row12_col2\" class=\"data row12 col2\" >-0.415749</td>\n                        <td id=\"T_6d878_row12_col3\" class=\"data row12 col3\" >0.301116</td>\n                        <td id=\"T_6d878_row12_col4\" class=\"data row12 col4\" >-0.275276</td>\n                        <td id=\"T_6d878_row12_col5\" class=\"data row12 col5\" >0.032863</td>\n                        <td id=\"T_6d878_row12_col6\" class=\"data row12 col6\" >0.428636</td>\n                        <td id=\"T_6d878_row12_col7\" class=\"data row12 col7\" >0.382429</td>\n                        <td id=\"T_6d878_row12_col8\" class=\"data row12 col8\" >0.636747</td>\n                        <td id=\"T_6d878_row12_col9\" class=\"data row12 col9\" >0.704691</td>\n                        <td id=\"T_6d878_row12_col10\" class=\"data row12 col10\" >0.690509</td>\n                        <td id=\"T_6d878_row12_col11\" class=\"data row12 col11\" >0.874460</td>\n                        <td id=\"T_6d878_row12_col12\" class=\"data row12 col12\" >1.000000</td>\n            </tr>\n    </tbody></table>"
     },
     "metadata": {},
     "execution_count": 27
    }
   ],
   "source": [
    "dataset.corr(method='spearman').style.background_gradient(cmap='coolwarm')"
   ]
  },
  {
   "source": [
    "## Checking feature importance"
   ],
   "cell_type": "markdown",
   "metadata": {}
  },
  {
   "cell_type": "code",
   "execution_count": 48,
   "metadata": {},
   "outputs": [
    {
     "output_type": "execute_result",
     "data": {
      "text/plain": [
       "                              Cumulative explained variance\n",
       "Feature                                                    \n",
       "Dropout-PRIMARY                                   67.467485\n",
       "Dropout-UPPER_PRIMARY                             78.031625\n",
       "Dropout-SECONDARY                                 82.815709\n",
       "Dropout-HRSECONDARY                               86.843422\n",
       "Enrollments-Primary                               90.748241\n",
       "Enrollments-Upper_Primary                         92.898334\n",
       "Enrollments-Secondary                             94.866031\n",
       "Enrollments-Higher_Secondary                      96.244480\n",
       "Drinking water                                    97.532508\n",
       "Electricity                                       98.542002\n",
       "Computer                                          99.244717\n",
       "Boys toilet                                       99.729888\n",
       "Girls toilet                                     100.000000"
      ],
      "text/html": "<div>\n<style scoped>\n    .dataframe tbody tr th:only-of-type {\n        vertical-align: middle;\n    }\n\n    .dataframe tbody tr th {\n        vertical-align: top;\n    }\n\n    .dataframe thead th {\n        text-align: right;\n    }\n</style>\n<table border=\"1\" class=\"dataframe\">\n  <thead>\n    <tr style=\"text-align: right;\">\n      <th></th>\n      <th>Cumulative explained variance</th>\n    </tr>\n    <tr>\n      <th>Feature</th>\n      <th></th>\n    </tr>\n  </thead>\n  <tbody>\n    <tr>\n      <th>Dropout-PRIMARY</th>\n      <td>67.467485</td>\n    </tr>\n    <tr>\n      <th>Dropout-UPPER_PRIMARY</th>\n      <td>78.031625</td>\n    </tr>\n    <tr>\n      <th>Dropout-SECONDARY</th>\n      <td>82.815709</td>\n    </tr>\n    <tr>\n      <th>Dropout-HRSECONDARY</th>\n      <td>86.843422</td>\n    </tr>\n    <tr>\n      <th>Enrollments-Primary</th>\n      <td>90.748241</td>\n    </tr>\n    <tr>\n      <th>Enrollments-Upper_Primary</th>\n      <td>92.898334</td>\n    </tr>\n    <tr>\n      <th>Enrollments-Secondary</th>\n      <td>94.866031</td>\n    </tr>\n    <tr>\n      <th>Enrollments-Higher_Secondary</th>\n      <td>96.244480</td>\n    </tr>\n    <tr>\n      <th>Drinking water</th>\n      <td>97.532508</td>\n    </tr>\n    <tr>\n      <th>Electricity</th>\n      <td>98.542002</td>\n    </tr>\n    <tr>\n      <th>Computer</th>\n      <td>99.244717</td>\n    </tr>\n    <tr>\n      <th>Boys toilet</th>\n      <td>99.729888</td>\n    </tr>\n    <tr>\n      <th>Girls toilet</th>\n      <td>100.000000</td>\n    </tr>\n  </tbody>\n</table>\n</div>"
     },
     "metadata": {},
     "execution_count": 48
    }
   ],
   "source": [
    "#Using SVD\n",
    "\n",
    "vals=np.array(dataset)\n",
    "u,sig,v_t=np.linalg.svd(vals)\n",
    "feature_imp=pd.Series(sig,index=list(dataset.columns))\n",
    "feature_imp.index.name=\"Feature\"\n",
    "feature_imp.name=\"Explained variance\"\n",
    "var_exp=pd.DataFrame(feature_imp)\n",
    "tot=var_exp['Explained variance'].sum()\n",
    "var_exp['Explained variance'] = var_exp['Explained variance']/tot*100\n",
    "var_exp.sort_values(['Explained variance'],ascending=False,inplace=True)\n",
    "\n",
    "exp_var=[]\n",
    "for i in range(1,var_exp.shape[0]+1):\n",
    "    exp_var.append(var_exp['Explained variance'].iloc[0:i].sum())\n",
    "pd.DataFrame(exp_var,index=var_exp.index, columns=['Cumulative explained variance'])"
   ]
  },
  {
   "source": [
    "## We can see the top 3 features explain more than 80% of the variance in the data"
   ],
   "cell_type": "markdown",
   "metadata": {}
  },
  {
   "cell_type": "code",
   "execution_count": 29,
   "metadata": {},
   "outputs": [],
   "source": [
    "clusterset=dataset[['Dropout-PRIMARY', 'Dropout-UPPER_PRIMARY', 'Dropout-SECONDARY']].reset_index()"
   ]
  },
  {
   "source": [
    "## Clustering on the basis of these three features"
   ],
   "cell_type": "markdown",
   "metadata": {}
  },
  {
   "cell_type": "code",
   "execution_count": 30,
   "metadata": {},
   "outputs": [
    {
     "output_type": "display_data",
     "data": {
      "text/plain": "<Figure size 432x288 with 1 Axes>",
      "image/svg+xml": "<?xml version=\"1.0\" encoding=\"utf-8\" standalone=\"no\"?>\r\n<!DOCTYPE svg PUBLIC \"-//W3C//DTD SVG 1.1//EN\"\r\n  \"http://www.w3.org/Graphics/SVG/1.1/DTD/svg11.dtd\">\r\n<svg height=\"262.19625pt\" version=\"1.1\" viewBox=\"0 0 392.14375 262.19625\" width=\"392.14375pt\" xmlns=\"http://www.w3.org/2000/svg\" xmlns:xlink=\"http://www.w3.org/1999/xlink\">\r\n <metadata>\r\n  <rdf:RDF xmlns:cc=\"http://creativecommons.org/ns#\" xmlns:dc=\"http://purl.org/dc/elements/1.1/\" xmlns:rdf=\"http://www.w3.org/1999/02/22-rdf-syntax-ns#\">\r\n   <cc:Work>\r\n    <dc:type rdf:resource=\"http://purl.org/dc/dcmitype/StillImage\"/>\r\n    <dc:date>2021-05-26T23:45:32.514984</dc:date>\r\n    <dc:format>image/svg+xml</dc:format>\r\n    <dc:creator>\r\n     <cc:Agent>\r\n      <dc:title>Matplotlib v3.4.2, https://matplotlib.org/</dc:title>\r\n     </cc:Agent>\r\n    </dc:creator>\r\n   </cc:Work>\r\n  </rdf:RDF>\r\n </metadata>\r\n <defs>\r\n  <style type=\"text/css\">*{stroke-linecap:butt;stroke-linejoin:round;}</style>\r\n </defs>\r\n <g id=\"figure_1\">\r\n  <g id=\"patch_1\">\r\n   <path d=\"M 0 262.19625 \r\nL 392.14375 262.19625 \r\nL 392.14375 0 \r\nL 0 0 \r\nz\r\n\" style=\"fill:none;\"/>\r\n  </g>\r\n  <g id=\"axes_1\">\r\n   <g id=\"patch_2\">\r\n    <path d=\"M 50.14375 224.64 \r\nL 384.94375 224.64 \r\nL 384.94375 7.2 \r\nL 50.14375 7.2 \r\nz\r\n\" style=\"fill:#ffffff;\"/>\r\n   </g>\r\n   <g id=\"matplotlib.axis_1\">\r\n    <g id=\"xtick_1\">\r\n     <g id=\"line2d_1\">\r\n      <defs>\r\n       <path d=\"M 0 0 \r\nL 0 3.5 \r\n\" id=\"m57ecbcd288\" style=\"stroke:#000000;stroke-width:0.8;\"/>\r\n      </defs>\r\n      <g>\r\n       <use style=\"stroke:#000000;stroke-width:0.8;\" x=\"65.361932\" xlink:href=\"#m57ecbcd288\" y=\"224.64\"/>\r\n      </g>\r\n     </g>\r\n     <g id=\"text_1\">\r\n      <!-- 0 -->\r\n      <g transform=\"translate(62.180682 239.238437)scale(0.1 -0.1)\">\r\n       <defs>\r\n        <path d=\"M 2034 4250 \r\nQ 1547 4250 1301 3770 \r\nQ 1056 3291 1056 2328 \r\nQ 1056 1369 1301 889 \r\nQ 1547 409 2034 409 \r\nQ 2525 409 2770 889 \r\nQ 3016 1369 3016 2328 \r\nQ 3016 3291 2770 3770 \r\nQ 2525 4250 2034 4250 \r\nz\r\nM 2034 4750 \r\nQ 2819 4750 3233 4129 \r\nQ 3647 3509 3647 2328 \r\nQ 3647 1150 3233 529 \r\nQ 2819 -91 2034 -91 \r\nQ 1250 -91 836 529 \r\nQ 422 1150 422 2328 \r\nQ 422 3509 836 4129 \r\nQ 1250 4750 2034 4750 \r\nz\r\n\" id=\"DejaVuSans-30\" transform=\"scale(0.015625)\"/>\r\n       </defs>\r\n       <use xlink:href=\"#DejaVuSans-30\"/>\r\n      </g>\r\n     </g>\r\n    </g>\r\n    <g id=\"xtick_2\">\r\n     <g id=\"line2d_2\">\r\n      <g>\r\n       <use style=\"stroke:#000000;stroke-width:0.8;\" x=\"114.452841\" xlink:href=\"#m57ecbcd288\" y=\"224.64\"/>\r\n      </g>\r\n     </g>\r\n     <g id=\"text_2\">\r\n      <!-- 5 -->\r\n      <g transform=\"translate(111.271591 239.238437)scale(0.1 -0.1)\">\r\n       <defs>\r\n        <path d=\"M 691 4666 \r\nL 3169 4666 \r\nL 3169 4134 \r\nL 1269 4134 \r\nL 1269 2991 \r\nQ 1406 3038 1543 3061 \r\nQ 1681 3084 1819 3084 \r\nQ 2600 3084 3056 2656 \r\nQ 3513 2228 3513 1497 \r\nQ 3513 744 3044 326 \r\nQ 2575 -91 1722 -91 \r\nQ 1428 -91 1123 -41 \r\nQ 819 9 494 109 \r\nL 494 744 \r\nQ 775 591 1075 516 \r\nQ 1375 441 1709 441 \r\nQ 2250 441 2565 725 \r\nQ 2881 1009 2881 1497 \r\nQ 2881 1984 2565 2268 \r\nQ 2250 2553 1709 2553 \r\nQ 1456 2553 1204 2497 \r\nQ 953 2441 691 2322 \r\nL 691 4666 \r\nz\r\n\" id=\"DejaVuSans-35\" transform=\"scale(0.015625)\"/>\r\n       </defs>\r\n       <use xlink:href=\"#DejaVuSans-35\"/>\r\n      </g>\r\n     </g>\r\n    </g>\r\n    <g id=\"xtick_3\">\r\n     <g id=\"line2d_3\">\r\n      <g>\r\n       <use style=\"stroke:#000000;stroke-width:0.8;\" x=\"163.54375\" xlink:href=\"#m57ecbcd288\" y=\"224.64\"/>\r\n      </g>\r\n     </g>\r\n     <g id=\"text_3\">\r\n      <!-- 10 -->\r\n      <g transform=\"translate(157.18125 239.238437)scale(0.1 -0.1)\">\r\n       <defs>\r\n        <path d=\"M 794 531 \r\nL 1825 531 \r\nL 1825 4091 \r\nL 703 3866 \r\nL 703 4441 \r\nL 1819 4666 \r\nL 2450 4666 \r\nL 2450 531 \r\nL 3481 531 \r\nL 3481 0 \r\nL 794 0 \r\nL 794 531 \r\nz\r\n\" id=\"DejaVuSans-31\" transform=\"scale(0.015625)\"/>\r\n       </defs>\r\n       <use xlink:href=\"#DejaVuSans-31\"/>\r\n       <use x=\"63.623047\" xlink:href=\"#DejaVuSans-30\"/>\r\n      </g>\r\n     </g>\r\n    </g>\r\n    <g id=\"xtick_4\">\r\n     <g id=\"line2d_4\">\r\n      <g>\r\n       <use style=\"stroke:#000000;stroke-width:0.8;\" x=\"212.634659\" xlink:href=\"#m57ecbcd288\" y=\"224.64\"/>\r\n      </g>\r\n     </g>\r\n     <g id=\"text_4\">\r\n      <!-- 15 -->\r\n      <g transform=\"translate(206.272159 239.238437)scale(0.1 -0.1)\">\r\n       <use xlink:href=\"#DejaVuSans-31\"/>\r\n       <use x=\"63.623047\" xlink:href=\"#DejaVuSans-35\"/>\r\n      </g>\r\n     </g>\r\n    </g>\r\n    <g id=\"xtick_5\">\r\n     <g id=\"line2d_5\">\r\n      <g>\r\n       <use style=\"stroke:#000000;stroke-width:0.8;\" x=\"261.725568\" xlink:href=\"#m57ecbcd288\" y=\"224.64\"/>\r\n      </g>\r\n     </g>\r\n     <g id=\"text_5\">\r\n      <!-- 20 -->\r\n      <g transform=\"translate(255.363068 239.238437)scale(0.1 -0.1)\">\r\n       <defs>\r\n        <path d=\"M 1228 531 \r\nL 3431 531 \r\nL 3431 0 \r\nL 469 0 \r\nL 469 531 \r\nQ 828 903 1448 1529 \r\nQ 2069 2156 2228 2338 \r\nQ 2531 2678 2651 2914 \r\nQ 2772 3150 2772 3378 \r\nQ 2772 3750 2511 3984 \r\nQ 2250 4219 1831 4219 \r\nQ 1534 4219 1204 4116 \r\nQ 875 4013 500 3803 \r\nL 500 4441 \r\nQ 881 4594 1212 4672 \r\nQ 1544 4750 1819 4750 \r\nQ 2544 4750 2975 4387 \r\nQ 3406 4025 3406 3419 \r\nQ 3406 3131 3298 2873 \r\nQ 3191 2616 2906 2266 \r\nQ 2828 2175 2409 1742 \r\nQ 1991 1309 1228 531 \r\nz\r\n\" id=\"DejaVuSans-32\" transform=\"scale(0.015625)\"/>\r\n       </defs>\r\n       <use xlink:href=\"#DejaVuSans-32\"/>\r\n       <use x=\"63.623047\" xlink:href=\"#DejaVuSans-30\"/>\r\n      </g>\r\n     </g>\r\n    </g>\r\n    <g id=\"xtick_6\">\r\n     <g id=\"line2d_6\">\r\n      <g>\r\n       <use style=\"stroke:#000000;stroke-width:0.8;\" x=\"310.816477\" xlink:href=\"#m57ecbcd288\" y=\"224.64\"/>\r\n      </g>\r\n     </g>\r\n     <g id=\"text_6\">\r\n      <!-- 25 -->\r\n      <g transform=\"translate(304.453977 239.238437)scale(0.1 -0.1)\">\r\n       <use xlink:href=\"#DejaVuSans-32\"/>\r\n       <use x=\"63.623047\" xlink:href=\"#DejaVuSans-35\"/>\r\n      </g>\r\n     </g>\r\n    </g>\r\n    <g id=\"xtick_7\">\r\n     <g id=\"line2d_7\">\r\n      <g>\r\n       <use style=\"stroke:#000000;stroke-width:0.8;\" x=\"359.907386\" xlink:href=\"#m57ecbcd288\" y=\"224.64\"/>\r\n      </g>\r\n     </g>\r\n     <g id=\"text_7\">\r\n      <!-- 30 -->\r\n      <g transform=\"translate(353.544886 239.238437)scale(0.1 -0.1)\">\r\n       <defs>\r\n        <path d=\"M 2597 2516 \r\nQ 3050 2419 3304 2112 \r\nQ 3559 1806 3559 1356 \r\nQ 3559 666 3084 287 \r\nQ 2609 -91 1734 -91 \r\nQ 1441 -91 1130 -33 \r\nQ 819 25 488 141 \r\nL 488 750 \r\nQ 750 597 1062 519 \r\nQ 1375 441 1716 441 \r\nQ 2309 441 2620 675 \r\nQ 2931 909 2931 1356 \r\nQ 2931 1769 2642 2001 \r\nQ 2353 2234 1838 2234 \r\nL 1294 2234 \r\nL 1294 2753 \r\nL 1863 2753 \r\nQ 2328 2753 2575 2939 \r\nQ 2822 3125 2822 3475 \r\nQ 2822 3834 2567 4026 \r\nQ 2313 4219 1838 4219 \r\nQ 1578 4219 1281 4162 \r\nQ 984 4106 628 3988 \r\nL 628 4550 \r\nQ 988 4650 1302 4700 \r\nQ 1616 4750 1894 4750 \r\nQ 2613 4750 3031 4423 \r\nQ 3450 4097 3450 3541 \r\nQ 3450 3153 3228 2886 \r\nQ 3006 2619 2597 2516 \r\nz\r\n\" id=\"DejaVuSans-33\" transform=\"scale(0.015625)\"/>\r\n       </defs>\r\n       <use xlink:href=\"#DejaVuSans-33\"/>\r\n       <use x=\"63.623047\" xlink:href=\"#DejaVuSans-30\"/>\r\n      </g>\r\n     </g>\r\n    </g>\r\n    <g id=\"text_8\">\r\n     <!-- No. of clusters -->\r\n     <g transform=\"translate(181.635938 252.916562)scale(0.1 -0.1)\">\r\n      <defs>\r\n       <path d=\"M 628 4666 \r\nL 1478 4666 \r\nL 3547 763 \r\nL 3547 4666 \r\nL 4159 4666 \r\nL 4159 0 \r\nL 3309 0 \r\nL 1241 3903 \r\nL 1241 0 \r\nL 628 0 \r\nL 628 4666 \r\nz\r\n\" id=\"DejaVuSans-4e\" transform=\"scale(0.015625)\"/>\r\n       <path d=\"M 1959 3097 \r\nQ 1497 3097 1228 2736 \r\nQ 959 2375 959 1747 \r\nQ 959 1119 1226 758 \r\nQ 1494 397 1959 397 \r\nQ 2419 397 2687 759 \r\nQ 2956 1122 2956 1747 \r\nQ 2956 2369 2687 2733 \r\nQ 2419 3097 1959 3097 \r\nz\r\nM 1959 3584 \r\nQ 2709 3584 3137 3096 \r\nQ 3566 2609 3566 1747 \r\nQ 3566 888 3137 398 \r\nQ 2709 -91 1959 -91 \r\nQ 1206 -91 779 398 \r\nQ 353 888 353 1747 \r\nQ 353 2609 779 3096 \r\nQ 1206 3584 1959 3584 \r\nz\r\n\" id=\"DejaVuSans-6f\" transform=\"scale(0.015625)\"/>\r\n       <path d=\"M 684 794 \r\nL 1344 794 \r\nL 1344 0 \r\nL 684 0 \r\nL 684 794 \r\nz\r\n\" id=\"DejaVuSans-2e\" transform=\"scale(0.015625)\"/>\r\n       <path id=\"DejaVuSans-20\" transform=\"scale(0.015625)\"/>\r\n       <path d=\"M 2375 4863 \r\nL 2375 4384 \r\nL 1825 4384 \r\nQ 1516 4384 1395 4259 \r\nQ 1275 4134 1275 3809 \r\nL 1275 3500 \r\nL 2222 3500 \r\nL 2222 3053 \r\nL 1275 3053 \r\nL 1275 0 \r\nL 697 0 \r\nL 697 3053 \r\nL 147 3053 \r\nL 147 3500 \r\nL 697 3500 \r\nL 697 3744 \r\nQ 697 4328 969 4595 \r\nQ 1241 4863 1831 4863 \r\nL 2375 4863 \r\nz\r\n\" id=\"DejaVuSans-66\" transform=\"scale(0.015625)\"/>\r\n       <path d=\"M 3122 3366 \r\nL 3122 2828 \r\nQ 2878 2963 2633 3030 \r\nQ 2388 3097 2138 3097 \r\nQ 1578 3097 1268 2742 \r\nQ 959 2388 959 1747 \r\nQ 959 1106 1268 751 \r\nQ 1578 397 2138 397 \r\nQ 2388 397 2633 464 \r\nQ 2878 531 3122 666 \r\nL 3122 134 \r\nQ 2881 22 2623 -34 \r\nQ 2366 -91 2075 -91 \r\nQ 1284 -91 818 406 \r\nQ 353 903 353 1747 \r\nQ 353 2603 823 3093 \r\nQ 1294 3584 2113 3584 \r\nQ 2378 3584 2631 3529 \r\nQ 2884 3475 3122 3366 \r\nz\r\n\" id=\"DejaVuSans-63\" transform=\"scale(0.015625)\"/>\r\n       <path d=\"M 603 4863 \r\nL 1178 4863 \r\nL 1178 0 \r\nL 603 0 \r\nL 603 4863 \r\nz\r\n\" id=\"DejaVuSans-6c\" transform=\"scale(0.015625)\"/>\r\n       <path d=\"M 544 1381 \r\nL 544 3500 \r\nL 1119 3500 \r\nL 1119 1403 \r\nQ 1119 906 1312 657 \r\nQ 1506 409 1894 409 \r\nQ 2359 409 2629 706 \r\nQ 2900 1003 2900 1516 \r\nL 2900 3500 \r\nL 3475 3500 \r\nL 3475 0 \r\nL 2900 0 \r\nL 2900 538 \r\nQ 2691 219 2414 64 \r\nQ 2138 -91 1772 -91 \r\nQ 1169 -91 856 284 \r\nQ 544 659 544 1381 \r\nz\r\nM 1991 3584 \r\nL 1991 3584 \r\nz\r\n\" id=\"DejaVuSans-75\" transform=\"scale(0.015625)\"/>\r\n       <path d=\"M 2834 3397 \r\nL 2834 2853 \r\nQ 2591 2978 2328 3040 \r\nQ 2066 3103 1784 3103 \r\nQ 1356 3103 1142 2972 \r\nQ 928 2841 928 2578 \r\nQ 928 2378 1081 2264 \r\nQ 1234 2150 1697 2047 \r\nL 1894 2003 \r\nQ 2506 1872 2764 1633 \r\nQ 3022 1394 3022 966 \r\nQ 3022 478 2636 193 \r\nQ 2250 -91 1575 -91 \r\nQ 1294 -91 989 -36 \r\nQ 684 19 347 128 \r\nL 347 722 \r\nQ 666 556 975 473 \r\nQ 1284 391 1588 391 \r\nQ 1994 391 2212 530 \r\nQ 2431 669 2431 922 \r\nQ 2431 1156 2273 1281 \r\nQ 2116 1406 1581 1522 \r\nL 1381 1569 \r\nQ 847 1681 609 1914 \r\nQ 372 2147 372 2553 \r\nQ 372 3047 722 3315 \r\nQ 1072 3584 1716 3584 \r\nQ 2034 3584 2315 3537 \r\nQ 2597 3491 2834 3397 \r\nz\r\n\" id=\"DejaVuSans-73\" transform=\"scale(0.015625)\"/>\r\n       <path d=\"M 1172 4494 \r\nL 1172 3500 \r\nL 2356 3500 \r\nL 2356 3053 \r\nL 1172 3053 \r\nL 1172 1153 \r\nQ 1172 725 1289 603 \r\nQ 1406 481 1766 481 \r\nL 2356 481 \r\nL 2356 0 \r\nL 1766 0 \r\nQ 1100 0 847 248 \r\nQ 594 497 594 1153 \r\nL 594 3053 \r\nL 172 3053 \r\nL 172 3500 \r\nL 594 3500 \r\nL 594 4494 \r\nL 1172 4494 \r\nz\r\n\" id=\"DejaVuSans-74\" transform=\"scale(0.015625)\"/>\r\n       <path d=\"M 3597 1894 \r\nL 3597 1613 \r\nL 953 1613 \r\nQ 991 1019 1311 708 \r\nQ 1631 397 2203 397 \r\nQ 2534 397 2845 478 \r\nQ 3156 559 3463 722 \r\nL 3463 178 \r\nQ 3153 47 2828 -22 \r\nQ 2503 -91 2169 -91 \r\nQ 1331 -91 842 396 \r\nQ 353 884 353 1716 \r\nQ 353 2575 817 3079 \r\nQ 1281 3584 2069 3584 \r\nQ 2775 3584 3186 3129 \r\nQ 3597 2675 3597 1894 \r\nz\r\nM 3022 2063 \r\nQ 3016 2534 2758 2815 \r\nQ 2500 3097 2075 3097 \r\nQ 1594 3097 1305 2825 \r\nQ 1016 2553 972 2059 \r\nL 3022 2063 \r\nz\r\n\" id=\"DejaVuSans-65\" transform=\"scale(0.015625)\"/>\r\n       <path d=\"M 2631 2963 \r\nQ 2534 3019 2420 3045 \r\nQ 2306 3072 2169 3072 \r\nQ 1681 3072 1420 2755 \r\nQ 1159 2438 1159 1844 \r\nL 1159 0 \r\nL 581 0 \r\nL 581 3500 \r\nL 1159 3500 \r\nL 1159 2956 \r\nQ 1341 3275 1631 3429 \r\nQ 1922 3584 2338 3584 \r\nQ 2397 3584 2469 3576 \r\nQ 2541 3569 2628 3553 \r\nL 2631 2963 \r\nz\r\n\" id=\"DejaVuSans-72\" transform=\"scale(0.015625)\"/>\r\n      </defs>\r\n      <use xlink:href=\"#DejaVuSans-4e\"/>\r\n      <use x=\"74.804688\" xlink:href=\"#DejaVuSans-6f\"/>\r\n      <use x=\"134.236328\" xlink:href=\"#DejaVuSans-2e\"/>\r\n      <use x=\"166.023438\" xlink:href=\"#DejaVuSans-20\"/>\r\n      <use x=\"197.810547\" xlink:href=\"#DejaVuSans-6f\"/>\r\n      <use x=\"258.992188\" xlink:href=\"#DejaVuSans-66\"/>\r\n      <use x=\"294.197266\" xlink:href=\"#DejaVuSans-20\"/>\r\n      <use x=\"325.984375\" xlink:href=\"#DejaVuSans-63\"/>\r\n      <use x=\"380.964844\" xlink:href=\"#DejaVuSans-6c\"/>\r\n      <use x=\"408.748047\" xlink:href=\"#DejaVuSans-75\"/>\r\n      <use x=\"472.126953\" xlink:href=\"#DejaVuSans-73\"/>\r\n      <use x=\"524.226562\" xlink:href=\"#DejaVuSans-74\"/>\r\n      <use x=\"563.435547\" xlink:href=\"#DejaVuSans-65\"/>\r\n      <use x=\"624.958984\" xlink:href=\"#DejaVuSans-72\"/>\r\n      <use x=\"666.072266\" xlink:href=\"#DejaVuSans-73\"/>\r\n     </g>\r\n    </g>\r\n   </g>\r\n   <g id=\"matplotlib.axis_2\">\r\n    <g id=\"ytick_1\">\r\n     <g id=\"line2d_8\">\r\n      <defs>\r\n       <path d=\"M 0 0 \r\nL -3.5 0 \r\n\" id=\"mac6389cf39\" style=\"stroke:#000000;stroke-width:0.8;\"/>\r\n      </defs>\r\n      <g>\r\n       <use style=\"stroke:#000000;stroke-width:0.8;\" x=\"50.14375\" xlink:href=\"#mac6389cf39\" y=\"224.059822\"/>\r\n      </g>\r\n     </g>\r\n     <g id=\"text_9\">\r\n      <!-- 0.00 -->\r\n      <g transform=\"translate(20.878125 227.859041)scale(0.1 -0.1)\">\r\n       <use xlink:href=\"#DejaVuSans-30\"/>\r\n       <use x=\"63.623047\" xlink:href=\"#DejaVuSans-2e\"/>\r\n       <use x=\"95.410156\" xlink:href=\"#DejaVuSans-30\"/>\r\n       <use x=\"159.033203\" xlink:href=\"#DejaVuSans-30\"/>\r\n      </g>\r\n     </g>\r\n    </g>\r\n    <g id=\"ytick_2\">\r\n     <g id=\"line2d_9\">\r\n      <g>\r\n       <use style=\"stroke:#000000;stroke-width:0.8;\" x=\"50.14375\" xlink:href=\"#mac6389cf39\" y=\"198.768072\"/>\r\n      </g>\r\n     </g>\r\n     <g id=\"text_10\">\r\n      <!-- 0.05 -->\r\n      <g transform=\"translate(20.878125 202.567291)scale(0.1 -0.1)\">\r\n       <use xlink:href=\"#DejaVuSans-30\"/>\r\n       <use x=\"63.623047\" xlink:href=\"#DejaVuSans-2e\"/>\r\n       <use x=\"95.410156\" xlink:href=\"#DejaVuSans-30\"/>\r\n       <use x=\"159.033203\" xlink:href=\"#DejaVuSans-35\"/>\r\n      </g>\r\n     </g>\r\n    </g>\r\n    <g id=\"ytick_3\">\r\n     <g id=\"line2d_10\">\r\n      <g>\r\n       <use style=\"stroke:#000000;stroke-width:0.8;\" x=\"50.14375\" xlink:href=\"#mac6389cf39\" y=\"173.476322\"/>\r\n      </g>\r\n     </g>\r\n     <g id=\"text_11\">\r\n      <!-- 0.10 -->\r\n      <g transform=\"translate(20.878125 177.275541)scale(0.1 -0.1)\">\r\n       <use xlink:href=\"#DejaVuSans-30\"/>\r\n       <use x=\"63.623047\" xlink:href=\"#DejaVuSans-2e\"/>\r\n       <use x=\"95.410156\" xlink:href=\"#DejaVuSans-31\"/>\r\n       <use x=\"159.033203\" xlink:href=\"#DejaVuSans-30\"/>\r\n      </g>\r\n     </g>\r\n    </g>\r\n    <g id=\"ytick_4\">\r\n     <g id=\"line2d_11\">\r\n      <g>\r\n       <use style=\"stroke:#000000;stroke-width:0.8;\" x=\"50.14375\" xlink:href=\"#mac6389cf39\" y=\"148.184572\"/>\r\n      </g>\r\n     </g>\r\n     <g id=\"text_12\">\r\n      <!-- 0.15 -->\r\n      <g transform=\"translate(20.878125 151.983791)scale(0.1 -0.1)\">\r\n       <use xlink:href=\"#DejaVuSans-30\"/>\r\n       <use x=\"63.623047\" xlink:href=\"#DejaVuSans-2e\"/>\r\n       <use x=\"95.410156\" xlink:href=\"#DejaVuSans-31\"/>\r\n       <use x=\"159.033203\" xlink:href=\"#DejaVuSans-35\"/>\r\n      </g>\r\n     </g>\r\n    </g>\r\n    <g id=\"ytick_5\">\r\n     <g id=\"line2d_12\">\r\n      <g>\r\n       <use style=\"stroke:#000000;stroke-width:0.8;\" x=\"50.14375\" xlink:href=\"#mac6389cf39\" y=\"122.892823\"/>\r\n      </g>\r\n     </g>\r\n     <g id=\"text_13\">\r\n      <!-- 0.20 -->\r\n      <g transform=\"translate(20.878125 126.692041)scale(0.1 -0.1)\">\r\n       <use xlink:href=\"#DejaVuSans-30\"/>\r\n       <use x=\"63.623047\" xlink:href=\"#DejaVuSans-2e\"/>\r\n       <use x=\"95.410156\" xlink:href=\"#DejaVuSans-32\"/>\r\n       <use x=\"159.033203\" xlink:href=\"#DejaVuSans-30\"/>\r\n      </g>\r\n     </g>\r\n    </g>\r\n    <g id=\"ytick_6\">\r\n     <g id=\"line2d_13\">\r\n      <g>\r\n       <use style=\"stroke:#000000;stroke-width:0.8;\" x=\"50.14375\" xlink:href=\"#mac6389cf39\" y=\"97.601073\"/>\r\n      </g>\r\n     </g>\r\n     <g id=\"text_14\">\r\n      <!-- 0.25 -->\r\n      <g transform=\"translate(20.878125 101.400291)scale(0.1 -0.1)\">\r\n       <use xlink:href=\"#DejaVuSans-30\"/>\r\n       <use x=\"63.623047\" xlink:href=\"#DejaVuSans-2e\"/>\r\n       <use x=\"95.410156\" xlink:href=\"#DejaVuSans-32\"/>\r\n       <use x=\"159.033203\" xlink:href=\"#DejaVuSans-35\"/>\r\n      </g>\r\n     </g>\r\n    </g>\r\n    <g id=\"ytick_7\">\r\n     <g id=\"line2d_14\">\r\n      <g>\r\n       <use style=\"stroke:#000000;stroke-width:0.8;\" x=\"50.14375\" xlink:href=\"#mac6389cf39\" y=\"72.309323\"/>\r\n      </g>\r\n     </g>\r\n     <g id=\"text_15\">\r\n      <!-- 0.30 -->\r\n      <g transform=\"translate(20.878125 76.108542)scale(0.1 -0.1)\">\r\n       <use xlink:href=\"#DejaVuSans-30\"/>\r\n       <use x=\"63.623047\" xlink:href=\"#DejaVuSans-2e\"/>\r\n       <use x=\"95.410156\" xlink:href=\"#DejaVuSans-33\"/>\r\n       <use x=\"159.033203\" xlink:href=\"#DejaVuSans-30\"/>\r\n      </g>\r\n     </g>\r\n    </g>\r\n    <g id=\"ytick_8\">\r\n     <g id=\"line2d_15\">\r\n      <g>\r\n       <use style=\"stroke:#000000;stroke-width:0.8;\" x=\"50.14375\" xlink:href=\"#mac6389cf39\" y=\"47.017573\"/>\r\n      </g>\r\n     </g>\r\n     <g id=\"text_16\">\r\n      <!-- 0.35 -->\r\n      <g transform=\"translate(20.878125 50.816792)scale(0.1 -0.1)\">\r\n       <use xlink:href=\"#DejaVuSans-30\"/>\r\n       <use x=\"63.623047\" xlink:href=\"#DejaVuSans-2e\"/>\r\n       <use x=\"95.410156\" xlink:href=\"#DejaVuSans-33\"/>\r\n       <use x=\"159.033203\" xlink:href=\"#DejaVuSans-35\"/>\r\n      </g>\r\n     </g>\r\n    </g>\r\n    <g id=\"ytick_9\">\r\n     <g id=\"line2d_16\">\r\n      <g>\r\n       <use style=\"stroke:#000000;stroke-width:0.8;\" x=\"50.14375\" xlink:href=\"#mac6389cf39\" y=\"21.725823\"/>\r\n      </g>\r\n     </g>\r\n     <g id=\"text_17\">\r\n      <!-- 0.40 -->\r\n      <g transform=\"translate(20.878125 25.525042)scale(0.1 -0.1)\">\r\n       <defs>\r\n        <path d=\"M 2419 4116 \r\nL 825 1625 \r\nL 2419 1625 \r\nL 2419 4116 \r\nz\r\nM 2253 4666 \r\nL 3047 4666 \r\nL 3047 1625 \r\nL 3713 1625 \r\nL 3713 1100 \r\nL 3047 1100 \r\nL 3047 0 \r\nL 2419 0 \r\nL 2419 1100 \r\nL 313 1100 \r\nL 313 1709 \r\nL 2253 4666 \r\nz\r\n\" id=\"DejaVuSans-34\" transform=\"scale(0.015625)\"/>\r\n       </defs>\r\n       <use xlink:href=\"#DejaVuSans-30\"/>\r\n       <use x=\"63.623047\" xlink:href=\"#DejaVuSans-2e\"/>\r\n       <use x=\"95.410156\" xlink:href=\"#DejaVuSans-34\"/>\r\n       <use x=\"159.033203\" xlink:href=\"#DejaVuSans-30\"/>\r\n      </g>\r\n     </g>\r\n    </g>\r\n    <g id=\"text_18\">\r\n     <!-- Silhoutte score -->\r\n     <g transform=\"translate(14.798438 153.287969)rotate(-90)scale(0.1 -0.1)\">\r\n      <defs>\r\n       <path d=\"M 3425 4513 \r\nL 3425 3897 \r\nQ 3066 4069 2747 4153 \r\nQ 2428 4238 2131 4238 \r\nQ 1616 4238 1336 4038 \r\nQ 1056 3838 1056 3469 \r\nQ 1056 3159 1242 3001 \r\nQ 1428 2844 1947 2747 \r\nL 2328 2669 \r\nQ 3034 2534 3370 2195 \r\nQ 3706 1856 3706 1288 \r\nQ 3706 609 3251 259 \r\nQ 2797 -91 1919 -91 \r\nQ 1588 -91 1214 -16 \r\nQ 841 59 441 206 \r\nL 441 856 \r\nQ 825 641 1194 531 \r\nQ 1563 422 1919 422 \r\nQ 2459 422 2753 634 \r\nQ 3047 847 3047 1241 \r\nQ 3047 1584 2836 1778 \r\nQ 2625 1972 2144 2069 \r\nL 1759 2144 \r\nQ 1053 2284 737 2584 \r\nQ 422 2884 422 3419 \r\nQ 422 4038 858 4394 \r\nQ 1294 4750 2059 4750 \r\nQ 2388 4750 2728 4690 \r\nQ 3069 4631 3425 4513 \r\nz\r\n\" id=\"DejaVuSans-53\" transform=\"scale(0.015625)\"/>\r\n       <path d=\"M 603 3500 \r\nL 1178 3500 \r\nL 1178 0 \r\nL 603 0 \r\nL 603 3500 \r\nz\r\nM 603 4863 \r\nL 1178 4863 \r\nL 1178 4134 \r\nL 603 4134 \r\nL 603 4863 \r\nz\r\n\" id=\"DejaVuSans-69\" transform=\"scale(0.015625)\"/>\r\n       <path d=\"M 3513 2113 \r\nL 3513 0 \r\nL 2938 0 \r\nL 2938 2094 \r\nQ 2938 2591 2744 2837 \r\nQ 2550 3084 2163 3084 \r\nQ 1697 3084 1428 2787 \r\nQ 1159 2491 1159 1978 \r\nL 1159 0 \r\nL 581 0 \r\nL 581 4863 \r\nL 1159 4863 \r\nL 1159 2956 \r\nQ 1366 3272 1645 3428 \r\nQ 1925 3584 2291 3584 \r\nQ 2894 3584 3203 3211 \r\nQ 3513 2838 3513 2113 \r\nz\r\n\" id=\"DejaVuSans-68\" transform=\"scale(0.015625)\"/>\r\n      </defs>\r\n      <use xlink:href=\"#DejaVuSans-53\"/>\r\n      <use x=\"63.476562\" xlink:href=\"#DejaVuSans-69\"/>\r\n      <use x=\"91.259766\" xlink:href=\"#DejaVuSans-6c\"/>\r\n      <use x=\"119.042969\" xlink:href=\"#DejaVuSans-68\"/>\r\n      <use x=\"182.421875\" xlink:href=\"#DejaVuSans-6f\"/>\r\n      <use x=\"243.603516\" xlink:href=\"#DejaVuSans-75\"/>\r\n      <use x=\"306.982422\" xlink:href=\"#DejaVuSans-74\"/>\r\n      <use x=\"346.191406\" xlink:href=\"#DejaVuSans-74\"/>\r\n      <use x=\"385.400391\" xlink:href=\"#DejaVuSans-65\"/>\r\n      <use x=\"446.923828\" xlink:href=\"#DejaVuSans-20\"/>\r\n      <use x=\"478.710938\" xlink:href=\"#DejaVuSans-73\"/>\r\n      <use x=\"530.810547\" xlink:href=\"#DejaVuSans-63\"/>\r\n      <use x=\"585.791016\" xlink:href=\"#DejaVuSans-6f\"/>\r\n      <use x=\"646.972656\" xlink:href=\"#DejaVuSans-72\"/>\r\n      <use x=\"685.835938\" xlink:href=\"#DejaVuSans-65\"/>\r\n     </g>\r\n    </g>\r\n   </g>\r\n   <g id=\"line2d_17\">\r\n    <path clip-path=\"url(#pfb28e8c861)\" d=\"M 65.361932 19.299149 \r\nL 75.180114 17.083636 \r\nL 84.998295 39.517328 \r\nL 94.816477 39.711192 \r\nL 104.634659 37.094249 \r\nL 114.452841 43.748356 \r\nL 124.271023 38.942584 \r\nL 134.089205 34.976387 \r\nL 143.907386 19.052381 \r\nL 153.725568 29.49752 \r\nL 163.54375 26.649064 \r\nL 173.361932 34.982916 \r\nL 183.180114 45.504167 \r\nL 192.998295 50.735112 \r\nL 202.816477 59.595607 \r\nL 212.634659 64.999033 \r\nL 222.452841 73.559505 \r\nL 232.271023 76.855734 \r\nL 242.089205 85.826776 \r\nL 251.907386 93.931242 \r\nL 261.725568 107.026563 \r\nL 271.54375 115.853601 \r\nL 281.361932 133.636577 \r\nL 291.180114 139.832275 \r\nL 300.998295 145.713825 \r\nL 310.816477 149.273949 \r\nL 320.634659 161.709694 \r\nL 330.452841 172.274794 \r\nL 340.271023 181.950875 \r\nL 350.089205 190.164217 \r\nL 359.907386 205.136596 \r\nL 369.725568 214.756364 \r\n\" style=\"fill:none;stroke:#1f77b4;stroke-linecap:square;stroke-width:1.5;\"/>\r\n   </g>\r\n   <g id=\"line2d_18\">\r\n    <path clip-path=\"url(#pfb28e8c861)\" d=\"M 143.907386 224.64 \r\nL 143.907386 7.2 \r\n\" style=\"fill:none;stroke:#1f77b4;stroke-linecap:square;stroke-width:1.5;\"/>\r\n   </g>\r\n   <g id=\"patch_3\">\r\n    <path d=\"M 50.14375 224.64 \r\nL 50.14375 7.2 \r\n\" style=\"fill:none;stroke:#000000;stroke-linecap:square;stroke-linejoin:miter;stroke-width:0.8;\"/>\r\n   </g>\r\n   <g id=\"patch_4\">\r\n    <path d=\"M 384.94375 224.64 \r\nL 384.94375 7.2 \r\n\" style=\"fill:none;stroke:#000000;stroke-linecap:square;stroke-linejoin:miter;stroke-width:0.8;\"/>\r\n   </g>\r\n   <g id=\"patch_5\">\r\n    <path d=\"M 50.14375 224.64 \r\nL 384.94375 224.64 \r\n\" style=\"fill:none;stroke:#000000;stroke-linecap:square;stroke-linejoin:miter;stroke-width:0.8;\"/>\r\n   </g>\r\n   <g id=\"patch_6\">\r\n    <path d=\"M 50.14375 7.2 \r\nL 384.94375 7.2 \r\n\" style=\"fill:none;stroke:#000000;stroke-linecap:square;stroke-linejoin:miter;stroke-width:0.8;\"/>\r\n   </g>\r\n   <g id=\"text_19\">\r\n    <!-- Max silhoutte score at n=8 -->\r\n    <g transform=\"translate(143.907386 52.075923)scale(0.1 -0.1)\">\r\n     <defs>\r\n      <path d=\"M 628 4666 \r\nL 1569 4666 \r\nL 2759 1491 \r\nL 3956 4666 \r\nL 4897 4666 \r\nL 4897 0 \r\nL 4281 0 \r\nL 4281 4097 \r\nL 3078 897 \r\nL 2444 897 \r\nL 1241 4097 \r\nL 1241 0 \r\nL 628 0 \r\nL 628 4666 \r\nz\r\n\" id=\"DejaVuSans-4d\" transform=\"scale(0.015625)\"/>\r\n      <path d=\"M 2194 1759 \r\nQ 1497 1759 1228 1600 \r\nQ 959 1441 959 1056 \r\nQ 959 750 1161 570 \r\nQ 1363 391 1709 391 \r\nQ 2188 391 2477 730 \r\nQ 2766 1069 2766 1631 \r\nL 2766 1759 \r\nL 2194 1759 \r\nz\r\nM 3341 1997 \r\nL 3341 0 \r\nL 2766 0 \r\nL 2766 531 \r\nQ 2569 213 2275 61 \r\nQ 1981 -91 1556 -91 \r\nQ 1019 -91 701 211 \r\nQ 384 513 384 1019 \r\nQ 384 1609 779 1909 \r\nQ 1175 2209 1959 2209 \r\nL 2766 2209 \r\nL 2766 2266 \r\nQ 2766 2663 2505 2880 \r\nQ 2244 3097 1772 3097 \r\nQ 1472 3097 1187 3025 \r\nQ 903 2953 641 2809 \r\nL 641 3341 \r\nQ 956 3463 1253 3523 \r\nQ 1550 3584 1831 3584 \r\nQ 2591 3584 2966 3190 \r\nQ 3341 2797 3341 1997 \r\nz\r\n\" id=\"DejaVuSans-61\" transform=\"scale(0.015625)\"/>\r\n      <path d=\"M 3513 3500 \r\nL 2247 1797 \r\nL 3578 0 \r\nL 2900 0 \r\nL 1881 1375 \r\nL 863 0 \r\nL 184 0 \r\nL 1544 1831 \r\nL 300 3500 \r\nL 978 3500 \r\nL 1906 2253 \r\nL 2834 3500 \r\nL 3513 3500 \r\nz\r\n\" id=\"DejaVuSans-78\" transform=\"scale(0.015625)\"/>\r\n      <path d=\"M 3513 2113 \r\nL 3513 0 \r\nL 2938 0 \r\nL 2938 2094 \r\nQ 2938 2591 2744 2837 \r\nQ 2550 3084 2163 3084 \r\nQ 1697 3084 1428 2787 \r\nQ 1159 2491 1159 1978 \r\nL 1159 0 \r\nL 581 0 \r\nL 581 3500 \r\nL 1159 3500 \r\nL 1159 2956 \r\nQ 1366 3272 1645 3428 \r\nQ 1925 3584 2291 3584 \r\nQ 2894 3584 3203 3211 \r\nQ 3513 2838 3513 2113 \r\nz\r\n\" id=\"DejaVuSans-6e\" transform=\"scale(0.015625)\"/>\r\n      <path d=\"M 678 2906 \r\nL 4684 2906 \r\nL 4684 2381 \r\nL 678 2381 \r\nL 678 2906 \r\nz\r\nM 678 1631 \r\nL 4684 1631 \r\nL 4684 1100 \r\nL 678 1100 \r\nL 678 1631 \r\nz\r\n\" id=\"DejaVuSans-3d\" transform=\"scale(0.015625)\"/>\r\n      <path d=\"M 2034 2216 \r\nQ 1584 2216 1326 1975 \r\nQ 1069 1734 1069 1313 \r\nQ 1069 891 1326 650 \r\nQ 1584 409 2034 409 \r\nQ 2484 409 2743 651 \r\nQ 3003 894 3003 1313 \r\nQ 3003 1734 2745 1975 \r\nQ 2488 2216 2034 2216 \r\nz\r\nM 1403 2484 \r\nQ 997 2584 770 2862 \r\nQ 544 3141 544 3541 \r\nQ 544 4100 942 4425 \r\nQ 1341 4750 2034 4750 \r\nQ 2731 4750 3128 4425 \r\nQ 3525 4100 3525 3541 \r\nQ 3525 3141 3298 2862 \r\nQ 3072 2584 2669 2484 \r\nQ 3125 2378 3379 2068 \r\nQ 3634 1759 3634 1313 \r\nQ 3634 634 3220 271 \r\nQ 2806 -91 2034 -91 \r\nQ 1263 -91 848 271 \r\nQ 434 634 434 1313 \r\nQ 434 1759 690 2068 \r\nQ 947 2378 1403 2484 \r\nz\r\nM 1172 3481 \r\nQ 1172 3119 1398 2916 \r\nQ 1625 2713 2034 2713 \r\nQ 2441 2713 2670 2916 \r\nQ 2900 3119 2900 3481 \r\nQ 2900 3844 2670 4047 \r\nQ 2441 4250 2034 4250 \r\nQ 1625 4250 1398 4047 \r\nQ 1172 3844 1172 3481 \r\nz\r\n\" id=\"DejaVuSans-38\" transform=\"scale(0.015625)\"/>\r\n     </defs>\r\n     <use xlink:href=\"#DejaVuSans-4d\"/>\r\n     <use x=\"86.279297\" xlink:href=\"#DejaVuSans-61\"/>\r\n     <use x=\"147.558594\" xlink:href=\"#DejaVuSans-78\"/>\r\n     <use x=\"206.738281\" xlink:href=\"#DejaVuSans-20\"/>\r\n     <use x=\"238.525391\" xlink:href=\"#DejaVuSans-73\"/>\r\n     <use x=\"290.625\" xlink:href=\"#DejaVuSans-69\"/>\r\n     <use x=\"318.408203\" xlink:href=\"#DejaVuSans-6c\"/>\r\n     <use x=\"346.191406\" xlink:href=\"#DejaVuSans-68\"/>\r\n     <use x=\"409.570312\" xlink:href=\"#DejaVuSans-6f\"/>\r\n     <use x=\"470.751953\" xlink:href=\"#DejaVuSans-75\"/>\r\n     <use x=\"534.130859\" xlink:href=\"#DejaVuSans-74\"/>\r\n     <use x=\"573.339844\" xlink:href=\"#DejaVuSans-74\"/>\r\n     <use x=\"612.548828\" xlink:href=\"#DejaVuSans-65\"/>\r\n     <use x=\"674.072266\" xlink:href=\"#DejaVuSans-20\"/>\r\n     <use x=\"705.859375\" xlink:href=\"#DejaVuSans-73\"/>\r\n     <use x=\"757.958984\" xlink:href=\"#DejaVuSans-63\"/>\r\n     <use x=\"812.939453\" xlink:href=\"#DejaVuSans-6f\"/>\r\n     <use x=\"874.121094\" xlink:href=\"#DejaVuSans-72\"/>\r\n     <use x=\"912.984375\" xlink:href=\"#DejaVuSans-65\"/>\r\n     <use x=\"974.507812\" xlink:href=\"#DejaVuSans-20\"/>\r\n     <use x=\"1006.294922\" xlink:href=\"#DejaVuSans-61\"/>\r\n     <use x=\"1067.574219\" xlink:href=\"#DejaVuSans-74\"/>\r\n     <use x=\"1106.783203\" xlink:href=\"#DejaVuSans-20\"/>\r\n     <use x=\"1138.570312\" xlink:href=\"#DejaVuSans-6e\"/>\r\n     <use x=\"1201.949219\" xlink:href=\"#DejaVuSans-3d\"/>\r\n     <use x=\"1285.738281\" xlink:href=\"#DejaVuSans-38\"/>\r\n    </g>\r\n   </g>\r\n   <g id=\"legend_1\">\r\n    <g id=\"patch_7\">\r\n     <path d=\"M 339.58125 29.878125 \r\nL 377.94375 29.878125 \r\nQ 379.94375 29.878125 379.94375 27.878125 \r\nL 379.94375 14.2 \r\nQ 379.94375 12.2 377.94375 12.2 \r\nL 339.58125 12.2 \r\nQ 337.58125 12.2 337.58125 14.2 \r\nL 337.58125 27.878125 \r\nQ 337.58125 29.878125 339.58125 29.878125 \r\nz\r\n\" style=\"fill:#ffffff;opacity:0.8;stroke:#cccccc;stroke-linejoin:miter;\"/>\r\n    </g>\r\n    <g id=\"line2d_19\">\r\n     <path d=\"M 341.58125 20.298437 \r\nL 361.58125 20.298437 \r\n\" style=\"fill:none;stroke:#1f77b4;stroke-linecap:square;stroke-width:1.5;\"/>\r\n    </g>\r\n    <g id=\"line2d_20\"/>\r\n    <g id=\"text_20\">\r\n     <!-- 0 -->\r\n     <g transform=\"translate(369.58125 23.798437)scale(0.1 -0.1)\">\r\n      <use xlink:href=\"#DejaVuSans-30\"/>\r\n     </g>\r\n    </g>\r\n   </g>\r\n  </g>\r\n </g>\r\n <defs>\r\n  <clipPath id=\"pfb28e8c861\">\r\n   <rect height=\"217.44\" width=\"334.8\" x=\"50.14375\" y=\"7.2\"/>\r\n  </clipPath>\r\n </defs>\r\n</svg>\r\n",
      "image/png": "[encoded data removed]"
     },
     "metadata": {
      "needs_background": "light"
     }
    }
   ],
   "source": [
    "clusters=create_clusters(clusterset.drop(['State'],axis=1),list(clusterset.columns[1:]))\n",
    "col={1:'blue',2:'orange',3:'green',4:'red',5:'purple',6:'brown',7:'pink',8:'olive',0:'cyan'}\n",
    "clusters['color']=clusters.Labels.map(col)"
   ]
  },
  {
   "cell_type": "code",
   "execution_count": 31,
   "metadata": {},
   "outputs": [
    {
     "output_type": "execute_result",
     "data": {
      "text/plain": [
       "<pandas.io.formats.style.Styler at 0x25b26e3d370>"
      ],
      "text/html": "<style  type=\"text/css\" >\n#T_34ab9_row0_col0{\n            background-color:  #e6f5e0;\n            color:  #000000;\n        }#T_34ab9_row0_col1{\n            background-color:  #e6f6e1;\n            color:  #000000;\n        }#T_34ab9_row0_col2{\n            background-color:  #ceecc8;\n            color:  #000000;\n        }#T_34ab9_row0_col3,#T_34ab9_row7_col0,#T_34ab9_row7_col1,#T_34ab9_row7_col2{\n            background-color:  #f7fcf0;\n            color:  #000000;\n        }#T_34ab9_row1_col0{\n            background-color:  #45a8cd;\n            color:  #000000;\n        }#T_34ab9_row1_col1,#T_34ab9_row3_col0,#T_34ab9_row4_col2,#T_34ab9_row7_col3{\n            background-color:  #084081;\n            color:  #f1f1f1;\n        }#T_34ab9_row1_col2{\n            background-color:  #62becc;\n            color:  #000000;\n        }#T_34ab9_row1_col3{\n            background-color:  #ddf2d8;\n            color:  #000000;\n        }#T_34ab9_row2_col0{\n            background-color:  #dff2da;\n            color:  #000000;\n        }#T_34ab9_row2_col1{\n            background-color:  #97d6bb;\n            color:  #000000;\n        }#T_34ab9_row2_col2{\n            background-color:  #84cfc1;\n            color:  #000000;\n        }#T_34ab9_row2_col3{\n            background-color:  #c2e7c0;\n            color:  #000000;\n        }#T_34ab9_row3_col1{\n            background-color:  #1475b2;\n            color:  #f1f1f1;\n        }#T_34ab9_row3_col2{\n            background-color:  #a9ddb5;\n            color:  #000000;\n        }#T_34ab9_row3_col3{\n            background-color:  #95d6bb;\n            color:  #000000;\n        }#T_34ab9_row4_col0{\n            background-color:  #cfecc8;\n            color:  #000000;\n        }#T_34ab9_row4_col1{\n            background-color:  #aedfb8;\n            color:  #000000;\n        }#T_34ab9_row4_col3{\n            background-color:  #61bdcd;\n            color:  #000000;\n        }#T_34ab9_row5_col0{\n            background-color:  #a5dcb6;\n            color:  #000000;\n        }#T_34ab9_row5_col1{\n            background-color:  #aadeb6;\n            color:  #000000;\n        }#T_34ab9_row5_col2{\n            background-color:  #b2e1b9;\n            color:  #000000;\n        }#T_34ab9_row5_col3{\n            background-color:  #3597c4;\n            color:  #000000;\n        }#T_34ab9_row6_col0{\n            background-color:  #e2f4dd;\n            color:  #000000;\n        }#T_34ab9_row6_col1{\n            background-color:  #bce5be;\n            color:  #000000;\n        }#T_34ab9_row6_col2{\n            background-color:  #3fa2ca;\n            color:  #000000;\n        }#T_34ab9_row6_col3{\n            background-color:  #0d6dae;\n            color:  #f1f1f1;\n        }</style><table id=\"T_34ab9_\" ><thead>    <tr>        <th class=\"blank level0\" ></th>        <th class=\"col_heading level0 col0\" >Dropout-PRIMARY</th>        <th class=\"col_heading level0 col1\" >Dropout-UPPER_PRIMARY</th>        <th class=\"col_heading level0 col2\" >Dropout-SECONDARY</th>        <th class=\"col_heading level0 col3\" >Labels</th>    </tr>    <tr>        <th class=\"index_name level0\" >Labels</th>        <th class=\"blank\" ></th>        <th class=\"blank\" ></th>        <th class=\"blank\" ></th>        <th class=\"blank\" ></th>    </tr></thead><tbody>\n                <tr>\n                        <th id=\"T_34ab9_level0_row0\" class=\"row_heading level0 row0\" >0</th>\n                        <td id=\"T_34ab9_row0_col0\" class=\"data row0 col0\" >1.291944</td>\n                        <td id=\"T_34ab9_row0_col1\" class=\"data row0 col1\" >1.302778</td>\n                        <td id=\"T_34ab9_row0_col2\" class=\"data row0 col2\" >10.203611</td>\n                        <td id=\"T_34ab9_row0_col3\" class=\"data row0 col3\" >0</td>\n            </tr>\n            <tr>\n                        <th id=\"T_34ab9_level0_row1\" class=\"row_heading level0 row1\" >1</th>\n                        <td id=\"T_34ab9_row1_col0\" class=\"data row1 col0\" >8.867333</td>\n                        <td id=\"T_34ab9_row1_col1\" class=\"data row1 col1\" >8.859333</td>\n                        <td id=\"T_34ab9_row1_col2\" class=\"data row1 col2\" >24.395333</td>\n                        <td id=\"T_34ab9_row1_col3\" class=\"data row1 col3\" >1</td>\n            </tr>\n            <tr>\n                        <th id=\"T_34ab9_level0_row2\" class=\"row_heading level0 row2\" >2</th>\n                        <td id=\"T_34ab9_row2_col0\" class=\"data row2 col0\" >1.807778</td>\n                        <td id=\"T_34ab9_row2_col1\" class=\"data row2 col1\" >4.079722</td>\n                        <td id=\"T_34ab9_row2_col2\" class=\"data row2 col2\" >20.323333</td>\n                        <td id=\"T_34ab9_row2_col3\" class=\"data row2 col3\" >2</td>\n            </tr>\n            <tr>\n                        <th id=\"T_34ab9_level0_row3\" class=\"row_heading level0 row3\" >3</th>\n                        <td id=\"T_34ab9_row3_col0\" class=\"data row3 col0\" >13.506667</td>\n                        <td id=\"T_34ab9_row3_col1\" class=\"data row3 col1\" >7.458889</td>\n                        <td id=\"T_34ab9_row3_col2\" class=\"data row3 col2\" >16.052222</td>\n                        <td id=\"T_34ab9_row3_col3\" class=\"data row3 col3\" >3</td>\n            </tr>\n            <tr>\n                        <th id=\"T_34ab9_level0_row4\" class=\"row_heading level0 row4\" >4</th>\n                        <td id=\"T_34ab9_row4_col0\" class=\"data row4 col0\" >3.120000</td>\n                        <td id=\"T_34ab9_row4_col1\" class=\"data row4 col1\" >3.473333</td>\n                        <td id=\"T_34ab9_row4_col2\" class=\"data row4 col2\" >42.966667</td>\n                        <td id=\"T_34ab9_row4_col3\" class=\"data row4 col3\" >4</td>\n            </tr>\n            <tr>\n                        <th id=\"T_34ab9_level0_row5\" class=\"row_heading level0 row5\" >5</th>\n                        <td id=\"T_34ab9_row5_col0\" class=\"data row5 col0\" >5.176111</td>\n                        <td id=\"T_34ab9_row5_col1\" class=\"data row5 col1\" >3.600000</td>\n                        <td id=\"T_34ab9_row5_col2\" class=\"data row5 col2\" >14.715000</td>\n                        <td id=\"T_34ab9_row5_col3\" class=\"data row5 col3\" >5</td>\n            </tr>\n            <tr>\n                        <th id=\"T_34ab9_level0_row6\" class=\"row_heading level0 row6\" >6</th>\n                        <td id=\"T_34ab9_row6_col0\" class=\"data row6 col0\" >1.566667</td>\n                        <td id=\"T_34ab9_row6_col1\" class=\"data row6 col1\" >3.078333</td>\n                        <td id=\"T_34ab9_row6_col2\" class=\"data row6 col2\" >29.173333</td>\n                        <td id=\"T_34ab9_row6_col3\" class=\"data row6 col3\" >6</td>\n            </tr>\n            <tr>\n                        <th id=\"T_34ab9_level0_row7\" class=\"row_heading level0 row7\" >7</th>\n                        <td id=\"T_34ab9_row7_col0\" class=\"data row7 col0\" >0.000000</td>\n                        <td id=\"T_34ab9_row7_col1\" class=\"data row7 col1\" >0.540000</td>\n                        <td id=\"T_34ab9_row7_col2\" class=\"data row7 col2\" >0.000000</td>\n                        <td id=\"T_34ab9_row7_col3\" class=\"data row7 col3\" >7</td>\n            </tr>\n    </tbody></table>"
     },
     "metadata": {},
     "execution_count": 31
    }
   ],
   "source": [
    "reqd=clusters.groupby('Labels')[clusters.columns[1:-1]].agg('mean')\n",
    "reqd.style.background_gradient(cmap='GnBu')"
   ]
  },
  {
   "cell_type": "code",
   "execution_count": 32,
   "metadata": {},
   "outputs": [
    {
     "output_type": "display_data",
     "data": {
      "application/vnd.plotly.v1+json": {
       "config": {
        "plotlyServerURL": "https://plot.ly"
       },
       "data": [
        {
         "hovertemplate": "color=cyan<br>Labels=0<br>Dropout-SECONDARY=%{x}<br>Dropout-PRIMARY=%{y}<br>Dropout-UPPER_PRIMARY=%{z}<br>State=%{text}<extra></extra>",
         "legendgroup": "cyan, 0",
         "marker": {
          "color": "#636efa",
          "opacity": 0.7,
          "symbol": "circle"
         },
         "mode": "markers+text",
         "name": "cyan, 0",
         "scene": "scene",
         "showlegend": true,
         "text": [
          "Andaman & Nicobar Islands",
          "Delhi",
          "Goa",
          "Haryana",
          "Himachal Pradesh",
          "Kerala",
          "Lakshadweep",
          "Maharashtra",
          "Puducherry",
          "Punjab",
          "Tamil Nadu",
          "Uttar Pradesh"
         ],
         "type": "scatter3d",
         "x": [
          7.543333333333333,
          8.676666666666668,
          9.563333333333333,
          12.46,
          7.843333333333334,
          12.076666666666668,
          7.489999999999999,
          14.513333333333334,
          13.88,
          9.163333333333334,
          10.166666666666666,
          9.066666666666666
         ],
         "y": [
          0.8000000000000002,
          0,
          0.31,
          2.436666666666667,
          0.5166666666666667,
          0,
          0.8333333333333334,
          0.9266666666666667,
          0.4566666666666667,
          2.11,
          1.5066666666666666,
          5.6066666666666665
         ],
         "z": [
          1.1433333333333333,
          1.18,
          0.023333333333333334,
          2.94,
          0.7200000000000001,
          0,
          1.6433333333333333,
          1.3800000000000001,
          0.6133333333333334,
          2.9499999999999997,
          1.92,
          1.12
         ]
        },
        {
         "hovertemplate": "color=purple<br>Labels=5<br>Dropout-SECONDARY=%{x}<br>Dropout-PRIMARY=%{y}<br>Dropout-UPPER_PRIMARY=%{z}<br>State=%{text}<extra></extra>",
         "legendgroup": "purple, 5",
         "marker": {
          "color": "#EF553B",
          "opacity": 0.7,
          "symbol": "diamond"
         },
         "mode": "markers+text",
         "name": "purple, 5",
         "scene": "scene",
         "showlegend": true,
         "text": [
          "Andhra Pradesh",
          "Jammu And Kashmir",
          "Rajasthan",
          "Sikkim",
          "Tripura",
          "Uttarakhand"
         ],
         "type": "scatter3d",
         "x": [
          13.693333333333333,
          16.656666666666666,
          15.300000000000002,
          12.670000000000002,
          17.83666666666667,
          12.133333333333335
         ],
         "y": [
          4.75,
          6.183333333333334,
          7.126666666666666,
          3.48,
          5.046666666666667,
          4.47
         ],
         "z": [
          4.113333333333333,
          5.086666666666667,
          4.506666666666667,
          3.2866666666666666,
          1.9233333333333331,
          2.6833333333333336
         ]
        },
        {
         "hovertemplate": "color=green<br>Labels=3<br>Dropout-SECONDARY=%{x}<br>Dropout-PRIMARY=%{y}<br>Dropout-UPPER_PRIMARY=%{z}<br>State=%{text}<extra></extra>",
         "legendgroup": "green, 3",
         "marker": {
          "color": "#00cc96",
          "opacity": 0.7,
          "symbol": "square"
         },
         "mode": "markers+text",
         "name": "green, 3",
         "scene": "scene",
         "showlegend": true,
         "text": [
          "Arunachal Pradesh",
          "Manipur",
          "Mizoram"
         ],
         "type": "scatter3d",
         "x": [
          14.843333333333334,
          12.646666666666668,
          20.666666666666668
         ],
         "y": [
          12.290000000000001,
          12.506666666666666,
          15.723333333333334
         ],
         "z": [
          6.59,
          5.759999999999999,
          10.026666666666667
         ]
        },
        {
         "hovertemplate": "color=blue<br>Labels=1<br>Dropout-SECONDARY=%{x}<br>Dropout-PRIMARY=%{y}<br>Dropout-UPPER_PRIMARY=%{z}<br>State=%{text}<extra></extra>",
         "legendgroup": "blue, 1",
         "marker": {
          "color": "#ab63fa",
          "opacity": 0.7,
          "symbol": "x"
         },
         "mode": "markers+text",
         "name": "blue, 1",
         "scene": "scene",
         "showlegend": true,
         "text": [
          "Assam",
          "Jharkhand",
          "Madhya Pradesh",
          "Meghalaya",
          "Nagaland"
         ],
         "type": "scatter3d",
         "x": [
          28.08666666666667,
          21.883333333333336,
          21.623333333333335,
          23.766666666666666,
          26.61666666666667
         ],
         "y": [
          9.68,
          6.366666666666667,
          7.613333333333333,
          9.98,
          10.696666666666667
         ],
         "z": [
          8.253333333333332,
          7.293333333333334,
          9.809999999999999,
          7.07,
          11.87
         ]
        },
        {
         "hovertemplate": "color=brown<br>Labels=6<br>Dropout-SECONDARY=%{x}<br>Dropout-PRIMARY=%{y}<br>Dropout-UPPER_PRIMARY=%{z}<br>State=%{text}<extra></extra>",
         "legendgroup": "brown, 6",
         "marker": {
          "color": "#FFA15A",
          "opacity": 0.7,
          "symbol": "cross"
         },
         "mode": "markers+text",
         "name": "brown, 6",
         "scene": "scene",
         "showlegend": true,
         "text": [
          "Bihar",
          "Karnataka"
         ],
         "type": "scatter3d",
         "x": [
          27.123333333333335,
          31.22333333333334
         ],
         "y": [
          0.6966666666666667,
          2.436666666666667
         ],
         "z": [
          2.3533333333333335,
          3.8033333333333332
         ]
        },
        {
         "hovertemplate": "color=pink<br>Labels=7<br>Dropout-SECONDARY=%{x}<br>Dropout-PRIMARY=%{y}<br>Dropout-UPPER_PRIMARY=%{z}<br>State=%{text}<extra></extra>",
         "legendgroup": "pink, 7",
         "marker": {
          "color": "#19d3f3",
          "opacity": 0.7,
          "symbol": "circle"
         },
         "mode": "markers+text",
         "name": "pink, 7",
         "scene": "scene",
         "showlegend": true,
         "text": [
          "Chandigarh"
         ],
         "type": "scatter3d",
         "x": [
          0
         ],
         "y": [
          0
         ],
         "z": [
          0.54
         ]
        },
        {
         "hovertemplate": "color=orange<br>Labels=2<br>Dropout-SECONDARY=%{x}<br>Dropout-PRIMARY=%{y}<br>Dropout-UPPER_PRIMARY=%{z}<br>State=%{text}<extra></extra>",
         "legendgroup": "orange, 2",
         "marker": {
          "color": "#FF6692",
          "opacity": 0.7,
          "symbol": "diamond"
         },
         "mode": "markers+text",
         "name": "orange, 2",
         "scene": "scene",
         "showlegend": true,
         "text": [
          "Chhattisgarh",
          "Dadra & Nagar Haveli",
          "Daman & Diu",
          "Gujarat",
          "Telangana",
          "West Bengal"
         ],
         "type": "scatter3d",
         "x": [
          19.843333333333334,
          23.256666666666664,
          21.21666666666667,
          20.066666666666666,
          19.486666666666668,
          18.07
         ],
         "y": [
          2.823333333333333,
          1.0133333333333334,
          0.6533333333333333,
          0.7966666666666667,
          3.3699999999999997,
          2.19
         ],
         "z": [
          5.0233333333333325,
          3.8433333333333333,
          2.223333333333333,
          5.72,
          3.3633333333333333,
          4.305
         ]
        },
        {
         "hovertemplate": "color=red<br>Labels=4<br>Dropout-SECONDARY=%{x}<br>Dropout-PRIMARY=%{y}<br>Dropout-UPPER_PRIMARY=%{z}<br>State=%{text}<extra></extra>",
         "legendgroup": "red, 4",
         "marker": {
          "color": "#B6E880",
          "opacity": 0.7,
          "symbol": "square"
         },
         "mode": "markers+text",
         "name": "red, 4",
         "scene": "scene",
         "showlegend": true,
         "text": [
          "Odisha"
         ],
         "type": "scatter3d",
         "x": [
          42.96666666666667
         ],
         "y": [
          3.1199999999999997
         ],
         "z": [
          3.473333333333333
         ]
        }
       ],
       "layout": {
        "height": 720,
        "legend": {
         "title": {
          "text": "color, Labels"
         },
         "tracegroupgap": 0
        },
        "margin": {
         "t": 60
        },
        "scene": {
         "domain": {
          "x": [
           0,
           1
          ],
          "y": [
           0,
           1
          ]
         },
         "xaxis": {
          "title": {
           "text": "Dropout-SECONDARY"
          }
         },
         "yaxis": {
          "title": {
           "text": "Dropout-PRIMARY"
          }
         },
         "zaxis": {
          "title": {
           "text": "Dropout-UPPER_PRIMARY"
          }
         }
        },
        "template": {
         "data": {
          "bar": [
           {
            "error_x": {
             "color": "#2a3f5f"
            },
            "error_y": {
             "color": "#2a3f5f"
            },
            "marker": {
             "line": {
              "color": "#E5ECF6",
              "width": 0.5
             }
            },
            "type": "bar"
           }
          ],
          "barpolar": [
           {
            "marker": {
             "line": {
              "color": "#E5ECF6",
              "width": 0.5
             }
            },
            "type": "barpolar"
           }
          ],
          "carpet": [
           {
            "aaxis": {
             "endlinecolor": "#2a3f5f",
             "gridcolor": "white",
             "linecolor": "white",
             "minorgridcolor": "white",
             "startlinecolor": "#2a3f5f"
            },
            "baxis": {
             "endlinecolor": "#2a3f5f",
             "gridcolor": "white",
             "linecolor": "white",
             "minorgridcolor": "white",
             "startlinecolor": "#2a3f5f"
            },
            "type": "carpet"
           }
          ],
          "choropleth": [
           {
            "colorbar": {
             "outlinewidth": 0,
             "ticks": ""
            },
            "type": "choropleth"
           }
          ],
          "contour": [
           {
            "colorbar": {
             "outlinewidth": 0,
             "ticks": ""
            },
            "colorscale": [
             [
              0,
              "#0d0887"
             ],
             [
              0.1111111111111111,
              "#46039f"
             ],
             [
              0.2222222222222222,
              "#7201a8"
             ],
             [
              0.3333333333333333,
              "#9c179e"
             ],
             [
              0.4444444444444444,
              "#bd3786"
             ],
             [
              0.5555555555555556,
              "#d8576b"
             ],
             [
              0.6666666666666666,
              "#ed7953"
             ],
             [
              0.7777777777777778,
              "#fb9f3a"
             ],
             [
              0.8888888888888888,
              "#fdca26"
             ],
             [
              1,
              "#f0f921"
             ]
            ],
            "type": "contour"
           }
          ],
          "contourcarpet": [
           {
            "colorbar": {
             "outlinewidth": 0,
             "ticks": ""
            },
            "type": "contourcarpet"
           }
          ],
          "heatmap": [
           {
            "colorbar": {
             "outlinewidth": 0,
             "ticks": ""
            },
            "colorscale": [
             [
              0,
              "#0d0887"
             ],
             [
              0.1111111111111111,
              "#46039f"
             ],
             [
              0.2222222222222222,
              "#7201a8"
             ],
             [
              0.3333333333333333,
              "#9c179e"
             ],
             [
              0.4444444444444444,
              "#bd3786"
             ],
             [
              0.5555555555555556,
              "#d8576b"
             ],
             [
              0.6666666666666666,
              "#ed7953"
             ],
             [
              0.7777777777777778,
              "#fb9f3a"
             ],
             [
              0.8888888888888888,
              "#fdca26"
             ],
             [
              1,
              "#f0f921"
             ]
            ],
            "type": "heatmap"
           }
          ],
          "heatmapgl": [
           {
            "colorbar": {
             "outlinewidth": 0,
             "ticks": ""
            },
            "colorscale": [
             [
              0,
              "#0d0887"
             ],
             [
              0.1111111111111111,
              "#46039f"
             ],
             [
              0.2222222222222222,
              "#7201a8"
             ],
             [
              0.3333333333333333,
              "#9c179e"
             ],
             [
              0.4444444444444444,
              "#bd3786"
             ],
             [
              0.5555555555555556,
              "#d8576b"
             ],
             [
              0.6666666666666666,
              "#ed7953"
             ],
             [
              0.7777777777777778,
              "#fb9f3a"
             ],
             [
              0.8888888888888888,
              "#fdca26"
             ],
             [
              1,
              "#f0f921"
             ]
            ],
            "type": "heatmapgl"
           }
          ],
          "histogram": [
           {
            "marker": {
             "colorbar": {
              "outlinewidth": 0,
              "ticks": ""
             }
            },
            "type": "histogram"
           }
          ],
          "histogram2d": [
           {
            "colorbar": {
             "outlinewidth": 0,
             "ticks": ""
            },
            "colorscale": [
             [
              0,
              "#0d0887"
             ],
             [
              0.1111111111111111,
              "#46039f"
             ],
             [
              0.2222222222222222,
              "#7201a8"
             ],
             [
              0.3333333333333333,
              "#9c179e"
             ],
             [
              0.4444444444444444,
              "#bd3786"
             ],
             [
              0.5555555555555556,
              "#d8576b"
             ],
             [
              0.6666666666666666,
              "#ed7953"
             ],
             [
              0.7777777777777778,
              "#fb9f3a"
             ],
             [
              0.8888888888888888,
              "#fdca26"
             ],
             [
              1,
              "#f0f921"
             ]
            ],
            "type": "histogram2d"
           }
          ],
          "histogram2dcontour": [
           {
            "colorbar": {
             "outlinewidth": 0,
             "ticks": ""
            },
            "colorscale": [
             [
              0,
              "#0d0887"
             ],
             [
              0.1111111111111111,
              "#46039f"
             ],
             [
              0.2222222222222222,
              "#7201a8"
             ],
             [
              0.3333333333333333,
              "#9c179e"
             ],
             [
              0.4444444444444444,
              "#bd3786"
             ],
             [
              0.5555555555555556,
              "#d8576b"
             ],
             [
              0.6666666666666666,
              "#ed7953"
             ],
             [
              0.7777777777777778,
              "#fb9f3a"
             ],
             [
              0.8888888888888888,
              "#fdca26"
             ],
             [
              1,
              "#f0f921"
             ]
            ],
            "type": "histogram2dcontour"
           }
          ],
          "mesh3d": [
           {
            "colorbar": {
             "outlinewidth": 0,
             "ticks": ""
            },
            "type": "mesh3d"
           }
          ],
          "parcoords": [
           {
            "line": {
             "colorbar": {
              "outlinewidth": 0,
              "ticks": ""
             }
            },
            "type": "parcoords"
           }
          ],
          "pie": [
           {
            "automargin": true,
            "type": "pie"
           }
          ],
          "scatter": [
           {
            "marker": {
             "colorbar": {
              "outlinewidth": 0,
              "ticks": ""
             }
            },
            "type": "scatter"
           }
          ],
          "scatter3d": [
           {
            "line": {
             "colorbar": {
              "outlinewidth": 0,
              "ticks": ""
             }
            },
            "marker": {
             "colorbar": {
              "outlinewidth": 0,
              "ticks": ""
             }
            },
            "type": "scatter3d"
           }
          ],
          "scattercarpet": [
           {
            "marker": {
             "colorbar": {
              "outlinewidth": 0,
              "ticks": ""
             }
            },
            "type": "scattercarpet"
           }
          ],
          "scattergeo": [
           {
            "marker": {
             "colorbar": {
              "outlinewidth": 0,
              "ticks": ""
             }
            },
            "type": "scattergeo"
           }
          ],
          "scattergl": [
           {
            "marker": {
             "colorbar": {
              "outlinewidth": 0,
              "ticks": ""
             }
            },
            "type": "scattergl"
           }
          ],
          "scattermapbox": [
           {
            "marker": {
             "colorbar": {
              "outlinewidth": 0,
              "ticks": ""
             }
            },
            "type": "scattermapbox"
           }
          ],
          "scatterpolar": [
           {
            "marker": {
             "colorbar": {
              "outlinewidth": 0,
              "ticks": ""
             }
            },
            "type": "scatterpolar"
           }
          ],
          "scatterpolargl": [
           {
            "marker": {
             "colorbar": {
              "outlinewidth": 0,
              "ticks": ""
             }
            },
            "type": "scatterpolargl"
           }
          ],
          "scatterternary": [
           {
            "marker": {
             "colorbar": {
              "outlinewidth": 0,
              "ticks": ""
             }
            },
            "type": "scatterternary"
           }
          ],
          "surface": [
           {
            "colorbar": {
             "outlinewidth": 0,
             "ticks": ""
            },
            "colorscale": [
             [
              0,
              "#0d0887"
             ],
             [
              0.1111111111111111,
              "#46039f"
             ],
             [
              0.2222222222222222,
              "#7201a8"
             ],
             [
              0.3333333333333333,
              "#9c179e"
             ],
             [
              0.4444444444444444,
              "#bd3786"
             ],
             [
              0.5555555555555556,
              "#d8576b"
             ],
             [
              0.6666666666666666,
              "#ed7953"
             ],
             [
              0.7777777777777778,
              "#fb9f3a"
             ],
             [
              0.8888888888888888,
              "#fdca26"
             ],
             [
              1,
              "#f0f921"
             ]
            ],
            "type": "surface"
           }
          ],
          "table": [
           {
            "cells": {
             "fill": {
              "color": "#EBF0F8"
             },
             "line": {
              "color": "white"
             }
            },
            "header": {
             "fill": {
              "color": "#C8D4E3"
             },
             "line": {
              "color": "white"
             }
            },
            "type": "table"
           }
          ]
         },
         "layout": {
          "annotationdefaults": {
           "arrowcolor": "#2a3f5f",
           "arrowhead": 0,
           "arrowwidth": 1
          },
          "autotypenumbers": "strict",
          "coloraxis": {
           "colorbar": {
            "outlinewidth": 0,
            "ticks": ""
           }
          },
          "colorscale": {
           "diverging": [
            [
             0,
             "#8e0152"
            ],
            [
             0.1,
             "#c51b7d"
            ],
            [
             0.2,
             "#de77ae"
            ],
            [
             0.3,
             "#f1b6da"
            ],
            [
             0.4,
             "#fde0ef"
            ],
            [
             0.5,
             "#f7f7f7"
            ],
            [
             0.6,
             "#e6f5d0"
            ],
            [
             0.7,
             "#b8e186"
            ],
            [
             0.8,
             "#7fbc41"
            ],
            [
             0.9,
             "#4d9221"
            ],
            [
             1,
             "#276419"
            ]
           ],
           "sequential": [
            [
             0,
             "#0d0887"
            ],
            [
             0.1111111111111111,
             "#46039f"
            ],
            [
             0.2222222222222222,
             "#7201a8"
            ],
            [
             0.3333333333333333,
             "#9c179e"
            ],
            [
             0.4444444444444444,
             "#bd3786"
            ],
            [
             0.5555555555555556,
             "#d8576b"
            ],
            [
             0.6666666666666666,
             "#ed7953"
            ],
            [
             0.7777777777777778,
             "#fb9f3a"
            ],
            [
             0.8888888888888888,
             "#fdca26"
            ],
            [
             1,
             "#f0f921"
            ]
           ],
           "sequentialminus": [
            [
             0,
             "#0d0887"
            ],
            [
             0.1111111111111111,
             "#46039f"
            ],
            [
             0.2222222222222222,
             "#7201a8"
            ],
            [
             0.3333333333333333,
             "#9c179e"
            ],
            [
             0.4444444444444444,
             "#bd3786"
            ],
            [
             0.5555555555555556,
             "#d8576b"
            ],
            [
             0.6666666666666666,
             "#ed7953"
            ],
            [
             0.7777777777777778,
             "#fb9f3a"
            ],
            [
             0.8888888888888888,
             "#fdca26"
            ],
            [
             1,
             "#f0f921"
            ]
           ]
          },
          "colorway": [
           "#636efa",
           "#EF553B",
           "#00cc96",
           "#ab63fa",
           "#FFA15A",
           "#19d3f3",
           "#FF6692",
           "#B6E880",
           "#FF97FF",
           "#FECB52"
          ],
          "font": {
           "color": "#2a3f5f"
          },
          "geo": {
           "bgcolor": "white",
           "lakecolor": "white",
           "landcolor": "#E5ECF6",
           "showlakes": true,
           "showland": true,
           "subunitcolor": "white"
          },
          "hoverlabel": {
           "align": "left"
          },
          "hovermode": "closest",
          "mapbox": {
           "style": "light"
          },
          "paper_bgcolor": "white",
          "plot_bgcolor": "#E5ECF6",
          "polar": {
           "angularaxis": {
            "gridcolor": "white",
            "linecolor": "white",
            "ticks": ""
           },
           "bgcolor": "#E5ECF6",
           "radialaxis": {
            "gridcolor": "white",
            "linecolor": "white",
            "ticks": ""
           }
          },
          "scene": {
           "xaxis": {
            "backgroundcolor": "#E5ECF6",
            "gridcolor": "white",
            "gridwidth": 2,
            "linecolor": "white",
            "showbackground": true,
            "ticks": "",
            "zerolinecolor": "white"
           },
           "yaxis": {
            "backgroundcolor": "#E5ECF6",
            "gridcolor": "white",
            "gridwidth": 2,
            "linecolor": "white",
            "showbackground": true,
            "ticks": "",
            "zerolinecolor": "white"
           },
           "zaxis": {
            "backgroundcolor": "#E5ECF6",
            "gridcolor": "white",
            "gridwidth": 2,
            "linecolor": "white",
            "showbackground": true,
            "ticks": "",
            "zerolinecolor": "white"
           }
          },
          "shapedefaults": {
           "line": {
            "color": "#2a3f5f"
           }
          },
          "ternary": {
           "aaxis": {
            "gridcolor": "white",
            "linecolor": "white",
            "ticks": ""
           },
           "baxis": {
            "gridcolor": "white",
            "linecolor": "white",
            "ticks": ""
           },
           "bgcolor": "#E5ECF6",
           "caxis": {
            "gridcolor": "white",
            "linecolor": "white",
            "ticks": ""
           }
          },
          "title": {
           "x": 0.05
          },
          "xaxis": {
           "automargin": true,
           "gridcolor": "white",
           "linecolor": "white",
           "ticks": "",
           "title": {
            "standoff": 15
           },
           "zerolinecolor": "white",
           "zerolinewidth": 2
          },
          "yaxis": {
           "automargin": true,
           "gridcolor": "white",
           "linecolor": "white",
           "ticks": "",
           "title": {
            "standoff": 15
           },
           "zerolinecolor": "white",
           "zerolinewidth": 2
          }
         }
        },
        "width": 1200
       }
      }
     },
     "metadata": {}
    }
   ],
   "source": [
    "import plotly.express as px\n",
    "fig = px.scatter_3d(clusters, y='Dropout-PRIMARY', z='Dropout-UPPER_PRIMARY', x='Dropout-SECONDARY', opacity=0.7, color='color',symbol='Labels',text='State')\n",
    "fig.update_layout(width=1200, height=720)"
   ]
  }
 ]
}