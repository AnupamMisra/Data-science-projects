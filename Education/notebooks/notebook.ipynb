{
 "metadata": {
  "language_info": {
   "codemirror_mode": {
    "name": "ipython",
    "version": 3
   },
   "file_extension": ".py",
   "mimetype": "text/x-python",
   "name": "python",
   "nbconvert_exporter": "python",
   "pygments_lexer": "ipython3",
   "version": "3.9.5"
  },
  "orig_nbformat": 2,
  "kernelspec": {
   "name": "python395jvsc74a57bd062a490a61034db1e8b6e05e6e999b5629625384177f9d8186b44b788547d5428",
   "display_name": "Python 3.9.5 64-bit ('machine_L': venv)"
  }
 },
 "nbformat": 4,
 "nbformat_minor": 2,
 "cells": [
  {
   "cell_type": "code",
   "execution_count": 241,
   "metadata": {},
   "outputs": [],
   "source": [
    "import numpy as np \n",
    "import pandas as pd \n",
    "from sklearn.cluster import KMeans\n",
    "from sklearn.metrics import silhouette_samples,silhouette_score\n",
    "import matplotlib.pyplot as plt \n",
    "from mpl_toolkits import mplot3d\n",
    "\n",
    "%matplotlib inline\n",
    "pd.set_option('display.max_columns', 500)"
   ]
  },
  {
   "source": [
    "## Loading the data"
   ],
   "cell_type": "markdown",
   "metadata": {}
  },
  {
   "cell_type": "code",
   "execution_count": 172,
   "metadata": {},
   "outputs": [],
   "source": [
    "dropout = pd.read_excel(r\"C:/Users/ADMIN/Documents/Codebase/Data-science-projects/Education/data/dropout.xls\")\n",
    "enrollments = pd.read_excel(r\"C:/Users/ADMIN/Documents/Codebase/Data-science-projects/Education/data/enrollment.xls\")\n",
    "drinks = pd.read_excel(r\"C:/Users/ADMIN/Documents/Codebase/Data-science-projects/Education/data/drinking_water.xls\")\n",
    "computers = pd.read_excel(r\"C:/Users/ADMIN/Documents/Codebase/Data-science-projects/Education/data/computers.xls\")\n",
    "electricity = pd.read_excel(r\"C:/Users/ADMIN/Documents/Codebase/Data-science-projects/Education/data/electricity.xls\")\n",
    "boys_toilet = pd.read_excel(r\"C:/Users/ADMIN/Documents/Codebase/Data-science-projects/Education/data/boys_toilet.xls\")\n",
    "girls_toilet = pd.read_excel(r\"C:/Users/ADMIN/Documents/Codebase/Data-science-projects/Education/data/girls_toilet.xls\")"
   ]
  },
  {
   "source": [
    "## Data preparation"
   ],
   "cell_type": "markdown",
   "metadata": {}
  },
  {
   "cell_type": "code",
   "execution_count": 152,
   "metadata": {},
   "outputs": [],
   "source": [
    "def returner(xx):\n",
    "    x=[]\n",
    "    for i in range(36):\n",
    "        x.append(xx[['State','All Schools']].loc[3*i])  \n",
    "    x=pd.DataFrame(x)\n",
    "    x.set_index('State', inplace=True)\n",
    "    return x"
   ]
  },
  {
   "cell_type": "code",
   "execution_count": 153,
   "metadata": {},
   "outputs": [],
   "source": [
    "enrollments['Higher_Secondary_Boys']=enrollments['Higher_Secondary_Boys'].astype('float')\n",
    "enrollments['Higher_Secondary_Girls']=enrollments['Higher_Secondary_Girls'].astype('int')\n",
    "enrollments['Higher_Secondary_Total']=enrollments['Higher_Secondary_Total'].astype('int')   \n",
    "drinks=returner(drinks)\n",
    "drinks.columns=['Drinking water']\n",
    "electricity=returner(electricity)\n",
    "electricity.columns=['Electricity']\n",
    "computers=returner(computers)\n",
    "computers.columns=[\"Computer\"]\n",
    "boys_t=returner(boys_toilet)\n",
    "boys_t.columns=['Boys toilet']\n",
    "girls_t=returner(girls_toilet)\n",
    "girls_t.columns=['Girls toilet']\n",
    "factors=pd.concat([drinks,electricity,computers,boys_t,girls_t],axis=1)\n",
    "factors.reset_index(inplace=True)\n",
    "col={1:'blue',2:'orange',3:'green',4:'red',5:'purple',6:'brown',7:'pink',8:'olive',0:'cyan'}\n",
    "clusters['color']=clusters.Labels.map(col)"
   ]
  },
  {
   "cell_type": "code",
   "execution_count": 154,
   "metadata": {},
   "outputs": [],
   "source": [
    "def create_aggregate(inp):\n",
    "\n",
    "    states=[]\n",
    "    for i in range(36):\n",
    "        states.append(inp.State.iloc[3*i])\n",
    "    states=pd.DataFrame(states, columns=['State'])\n",
    "    inp.drop(['State','Year'],axis=1,inplace=True)\n",
    "\n",
    "    x=pd.DataFrame()\n",
    "    for i in range(36):\n",
    "        x[i]=inp.iloc[3*i+0:i*3+3,:].mean()\n",
    "    x=x.transpose() \n",
    "    return x"
   ]
  },
  {
   "source": [
    "## Data exploration"
   ],
   "cell_type": "markdown",
   "metadata": {}
  },
  {
   "cell_type": "code",
   "execution_count": null,
   "metadata": {},
   "outputs": [],
   "source": []
  },
  {
   "cell_type": "code",
   "execution_count": 200,
   "metadata": {},
   "outputs": [
    {
     "output_type": "stream",
     "name": "stdout",
     "text": [
      "\n Correlation between enrollment rates at different stages of schooling\n\n"
     ]
    },
    {
     "output_type": "execute_result",
     "data": {
      "text/plain": [
       "<pandas.io.formats.style.Styler at 0x1f8566b1520>"
      ],
      "text/html": "<style  type=\"text/css\" >\n#T_a8475_row0_col0,#T_a8475_row1_col1,#T_a8475_row2_col2,#T_a8475_row3_col3{\n            background-color:  #b40426;\n            color:  #f1f1f1;\n        }#T_a8475_row0_col1{\n            background-color:  #f7ba9f;\n            color:  #000000;\n        }#T_a8475_row0_col2,#T_a8475_row0_col3,#T_a8475_row3_col0,#T_a8475_row3_col1{\n            background-color:  #3b4cc0;\n            color:  #f1f1f1;\n        }#T_a8475_row1_col0{\n            background-color:  #f59d7e;\n            color:  #000000;\n        }#T_a8475_row1_col2{\n            background-color:  #cedaeb;\n            color:  #000000;\n        }#T_a8475_row1_col3{\n            background-color:  #89acfd;\n            color:  #000000;\n        }#T_a8475_row2_col0{\n            background-color:  #97b8ff;\n            color:  #000000;\n        }#T_a8475_row2_col1{\n            background-color:  #d6dce4;\n            color:  #000000;\n        }#T_a8475_row2_col3{\n            background-color:  #f6a586;\n            color:  #000000;\n        }#T_a8475_row3_col2{\n            background-color:  #f3c8b2;\n            color:  #000000;\n        }</style><table id=\"T_a8475_\" ><thead>    <tr>        <th class=\"blank level0\" ></th>        <th class=\"col_heading level0 col0\" >Primary_Total</th>        <th class=\"col_heading level0 col1\" >Upper_Primary_Total</th>        <th class=\"col_heading level0 col2\" >Secondary_Total</th>        <th class=\"col_heading level0 col3\" >Higher_Secondary_Total</th>    </tr></thead><tbody>\n                <tr>\n                        <th id=\"T_a8475_level0_row0\" class=\"row_heading level0 row0\" >Primary_Total</th>\n                        <td id=\"T_a8475_row0_col0\" class=\"data row0 col0\" >1.000000</td>\n                        <td id=\"T_a8475_row0_col1\" class=\"data row0 col1\" >0.683610</td>\n                        <td id=\"T_a8475_row0_col2\" class=\"data row0 col2\" >0.126335</td>\n                        <td id=\"T_a8475_row0_col3\" class=\"data row0 col3\" >-0.211083</td>\n            </tr>\n            <tr>\n                        <th id=\"T_a8475_level0_row1\" class=\"row_heading level0 row1\" >Upper_Primary_Total</th>\n                        <td id=\"T_a8475_row1_col0\" class=\"data row1 col0\" >0.683610</td>\n                        <td id=\"T_a8475_row1_col1\" class=\"data row1 col1\" >1.000000</td>\n                        <td id=\"T_a8475_row1_col2\" class=\"data row1 col2\" >0.517724</td>\n                        <td id=\"T_a8475_row1_col3\" class=\"data row1 col3\" >0.079576</td>\n            </tr>\n            <tr>\n                        <th id=\"T_a8475_level0_row2\" class=\"row_heading level0 row2\" >Secondary_Total</th>\n                        <td id=\"T_a8475_row2_col0\" class=\"data row2 col0\" >0.126335</td>\n                        <td id=\"T_a8475_row2_col1\" class=\"data row2 col1\" >0.517724</td>\n                        <td id=\"T_a8475_row2_col2\" class=\"data row2 col2\" >1.000000</td>\n                        <td id=\"T_a8475_row2_col3\" class=\"data row2 col3\" >0.661039</td>\n            </tr>\n            <tr>\n                        <th id=\"T_a8475_level0_row3\" class=\"row_heading level0 row3\" >Higher_Secondary_Total</th>\n                        <td id=\"T_a8475_row3_col0\" class=\"data row3 col0\" >-0.211083</td>\n                        <td id=\"T_a8475_row3_col1\" class=\"data row3 col1\" >0.079576</td>\n                        <td id=\"T_a8475_row3_col2\" class=\"data row3 col2\" >0.661039</td>\n                        <td id=\"T_a8475_row3_col3\" class=\"data row3 col3\" >1.000000</td>\n            </tr>\n    </tbody></table>"
     },
     "metadata": {},
     "execution_count": 200
    }
   ],
   "source": [
    "print(\"\\n Correlation between enrollment rates at different stages of schooling\\n\")\n",
    "enrollments[['Primary_Total', 'Upper_Primary_Total', 'Secondary_Total','Higher_Secondary_Total']].corr(method='spearman').style.background_gradient(cmap='coolwarm')"
   ]
  },
  {
   "cell_type": "code",
   "execution_count": 197,
   "metadata": {},
   "outputs": [
    {
     "output_type": "stream",
     "name": "stdout",
     "text": [
      "\n Correlation between dropout rates at different stages of schooling\n\n"
     ]
    },
    {
     "output_type": "execute_result",
     "data": {
      "text/plain": [
       "<pandas.io.formats.style.Styler at 0x1f855fd6e50>"
      ],
      "text/html": "<style  type=\"text/css\" >\n#T_a5c06_row0_col0,#T_a5c06_row1_col1,#T_a5c06_row2_col2,#T_a5c06_row3_col3{\n            background-color:  #b40426;\n            color:  #f1f1f1;\n        }#T_a5c06_row0_col1{\n            background-color:  #e36c55;\n            color:  #000000;\n        }#T_a5c06_row0_col2,#T_a5c06_row2_col0{\n            background-color:  #edd1c2;\n            color:  #000000;\n        }#T_a5c06_row0_col3,#T_a5c06_row2_col3,#T_a5c06_row3_col0,#T_a5c06_row3_col1,#T_a5c06_row3_col2{\n            background-color:  #3b4cc0;\n            color:  #f1f1f1;\n        }#T_a5c06_row1_col0{\n            background-color:  #e26952;\n            color:  #000000;\n        }#T_a5c06_row1_col2{\n            background-color:  #f39778;\n            color:  #000000;\n        }#T_a5c06_row1_col3{\n            background-color:  #485fd1;\n            color:  #f1f1f1;\n        }#T_a5c06_row2_col1{\n            background-color:  #f49a7b;\n            color:  #000000;\n        }</style><table id=\"T_a5c06_\" ><thead>    <tr>        <th class=\"blank level0\" ></th>        <th class=\"col_heading level0 col0\" >PRIMARY_TOTAL</th>        <th class=\"col_heading level0 col1\" >UPPER_PRIMARY_TOTAL</th>        <th class=\"col_heading level0 col2\" >SECONDARY_TOTAL</th>        <th class=\"col_heading level0 col3\" >HRSECONDARY_TOTAL</th>    </tr></thead><tbody>\n                <tr>\n                        <th id=\"T_a5c06_level0_row0\" class=\"row_heading level0 row0\" >PRIMARY_TOTAL</th>\n                        <td id=\"T_a5c06_row0_col0\" class=\"data row0 col0\" >1.000000</td>\n                        <td id=\"T_a5c06_row0_col1\" class=\"data row0 col1\" >0.812230</td>\n                        <td id=\"T_a5c06_row0_col2\" class=\"data row0 col2\" >0.434245</td>\n                        <td id=\"T_a5c06_row0_col3\" class=\"data row0 col3\" >-0.322448</td>\n            </tr>\n            <tr>\n                        <th id=\"T_a5c06_level0_row1\" class=\"row_heading level0 row1\" >UPPER_PRIMARY_TOTAL</th>\n                        <td id=\"T_a5c06_row1_col0\" class=\"data row1 col0\" >0.812230</td>\n                        <td id=\"T_a5c06_row1_col1\" class=\"data row1 col1\" >1.000000</td>\n                        <td id=\"T_a5c06_row1_col2\" class=\"data row1 col2\" >0.680051</td>\n                        <td id=\"T_a5c06_row1_col3\" class=\"data row1 col3\" >-0.263748</td>\n            </tr>\n            <tr>\n                        <th id=\"T_a5c06_level0_row2\" class=\"row_heading level0 row2\" >SECONDARY_TOTAL</th>\n                        <td id=\"T_a5c06_row2_col0\" class=\"data row2 col0\" >0.434245</td>\n                        <td id=\"T_a5c06_row2_col1\" class=\"data row2 col1\" >0.680051</td>\n                        <td id=\"T_a5c06_row2_col2\" class=\"data row2 col2\" >1.000000</td>\n                        <td id=\"T_a5c06_row2_col3\" class=\"data row2 col3\" >-0.320541</td>\n            </tr>\n            <tr>\n                        <th id=\"T_a5c06_level0_row3\" class=\"row_heading level0 row3\" >HRSECONDARY_TOTAL</th>\n                        <td id=\"T_a5c06_row3_col0\" class=\"data row3 col0\" >-0.322448</td>\n                        <td id=\"T_a5c06_row3_col1\" class=\"data row3 col1\" >-0.263748</td>\n                        <td id=\"T_a5c06_row3_col2\" class=\"data row3 col2\" >-0.320541</td>\n                        <td id=\"T_a5c06_row3_col3\" class=\"data row3 col3\" >1.000000</td>\n            </tr>\n    </tbody></table>"
     },
     "metadata": {},
     "execution_count": 197
    }
   ],
   "source": [
    "print(\"\\n Correlation between dropout rates at different stages of schooling\\n\")\n",
    "dropout[['PRIMARY_TOTAL', 'UPPER_PRIMARY_TOTAL', 'SECONDARY_TOTAL','HRSECONDARY_TOTAL']].corr(method='spearman').style.background_gradient(cmap='coolwarm')"
   ]
  },
  {
   "cell_type": "code",
   "execution_count": 199,
   "metadata": {},
   "outputs": [
    {
     "output_type": "execute_result",
     "data": {
      "text/plain": [
       "<pandas.io.formats.style.Styler at 0x1f855fb56a0>"
      ],
      "text/html": "<style  type=\"text/css\" >\n#T_a781d_row0_col0,#T_a781d_row1_col1,#T_a781d_row2_col2,#T_a781d_row3_col3,#T_a781d_row4_col4{\n            background-color:  #b40426;\n            color:  #f1f1f1;\n        }#T_a781d_row0_col1{\n            background-color:  #f4c5ad;\n            color:  #000000;\n        }#T_a781d_row0_col2{\n            background-color:  #98b9ff;\n            color:  #000000;\n        }#T_a781d_row0_col3{\n            background-color:  #6a8bef;\n            color:  #000000;\n        }#T_a781d_row0_col4,#T_a781d_row1_col3,#T_a781d_row3_col1,#T_a781d_row3_col2,#T_a781d_row4_col0{\n            background-color:  #3b4cc0;\n            color:  #f1f1f1;\n        }#T_a781d_row1_col0{\n            background-color:  #f5c2aa;\n            color:  #000000;\n        }#T_a781d_row1_col2,#T_a781d_row3_col4{\n            background-color:  #f7bca1;\n            color:  #000000;\n        }#T_a781d_row1_col4{\n            background-color:  #7699f6;\n            color:  #000000;\n        }#T_a781d_row2_col0{\n            background-color:  #a1c0ff;\n            color:  #000000;\n        }#T_a781d_row2_col1{\n            background-color:  #f7ba9f;\n            color:  #000000;\n        }#T_a781d_row2_col3{\n            background-color:  #3f53c6;\n            color:  #f1f1f1;\n        }#T_a781d_row2_col4{\n            background-color:  #688aef;\n            color:  #000000;\n        }#T_a781d_row3_col0{\n            background-color:  #6e90f2;\n            color:  #000000;\n        }#T_a781d_row4_col1{\n            background-color:  #7295f4;\n            color:  #000000;\n        }#T_a781d_row4_col2{\n            background-color:  #5f7fe8;\n            color:  #000000;\n        }#T_a781d_row4_col3{\n            background-color:  #f6bda2;\n            color:  #000000;\n        }</style><table id=\"T_a781d_\" ><thead>    <tr>        <th class=\"blank level0\" ></th>        <th class=\"col_heading level0 col0\" >Drinking water</th>        <th class=\"col_heading level0 col1\" >Electricity</th>        <th class=\"col_heading level0 col2\" >Computer</th>        <th class=\"col_heading level0 col3\" >Boys toilet</th>        <th class=\"col_heading level0 col4\" >Girls toilet</th>    </tr></thead><tbody>\n                <tr>\n                        <th id=\"T_a781d_level0_row0\" class=\"row_heading level0 row0\" >Drinking water</th>\n                        <td id=\"T_a781d_row0_col0\" class=\"data row0 col0\" >1.000000</td>\n                        <td id=\"T_a781d_row0_col1\" class=\"data row0 col1\" >0.865238</td>\n                        <td id=\"T_a781d_row0_col2\" class=\"data row0 col2\" >0.748390</td>\n                        <td id=\"T_a781d_row0_col3\" class=\"data row0 col3\" >0.696139</td>\n                        <td id=\"T_a781d_row0_col4\" class=\"data row0 col4\" >0.636747</td>\n            </tr>\n            <tr>\n                        <th id=\"T_a781d_level0_row1\" class=\"row_heading level0 row1\" >Electricity</th>\n                        <td id=\"T_a781d_row1_col0\" class=\"data row1 col0\" >0.865238</td>\n                        <td id=\"T_a781d_row1_col1\" class=\"data row1 col1\" >1.000000</td>\n                        <td id=\"T_a781d_row1_col2\" class=\"data row1 col2\" >0.878351</td>\n                        <td id=\"T_a781d_row1_col3\" class=\"data row1 col3\" >0.642424</td>\n                        <td id=\"T_a781d_row1_col4\" class=\"data row1 col4\" >0.704691</td>\n            </tr>\n            <tr>\n                        <th id=\"T_a781d_level0_row2\" class=\"row_heading level0 row2\" >Computer</th>\n                        <td id=\"T_a781d_row2_col0\" class=\"data row2 col0\" >0.748390</td>\n                        <td id=\"T_a781d_row2_col1\" class=\"data row2 col1\" >0.878351</td>\n                        <td id=\"T_a781d_row2_col2\" class=\"data row2 col2\" >1.000000</td>\n                        <td id=\"T_a781d_row2_col3\" class=\"data row2 col3\" >0.648551</td>\n                        <td id=\"T_a781d_row2_col4\" class=\"data row2 col4\" >0.690509</td>\n            </tr>\n            <tr>\n                        <th id=\"T_a781d_level0_row3\" class=\"row_heading level0 row3\" >Boys toilet</th>\n                        <td id=\"T_a781d_row3_col0\" class=\"data row3 col0\" >0.696139</td>\n                        <td id=\"T_a781d_row3_col1\" class=\"data row3 col1\" >0.642424</td>\n                        <td id=\"T_a781d_row3_col2\" class=\"data row3 col2\" >0.648551</td>\n                        <td id=\"T_a781d_row3_col3\" class=\"data row3 col3\" >1.000000</td>\n                        <td id=\"T_a781d_row3_col4\" class=\"data row3 col4\" >0.874460</td>\n            </tr>\n            <tr>\n                        <th id=\"T_a781d_level0_row4\" class=\"row_heading level0 row4\" >Girls toilet</th>\n                        <td id=\"T_a781d_row4_col0\" class=\"data row4 col0\" >0.636747</td>\n                        <td id=\"T_a781d_row4_col1\" class=\"data row4 col1\" >0.704691</td>\n                        <td id=\"T_a781d_row4_col2\" class=\"data row4 col2\" >0.690509</td>\n                        <td id=\"T_a781d_row4_col3\" class=\"data row4 col3\" >0.874460</td>\n                        <td id=\"T_a781d_row4_col4\" class=\"data row4 col4\" >1.000000</td>\n            </tr>\n    </tbody></table>"
     },
     "metadata": {},
     "execution_count": 199
    }
   ],
   "source": [
    "factors.corr(method='spearman').style.background_gradient(cmap=\"coolwarm\")"
   ]
  },
  {
   "source": [
    "## Clustering"
   ],
   "cell_type": "markdown",
   "metadata": {}
  },
  {
   "cell_type": "code",
   "execution_count": 159,
   "metadata": {},
   "outputs": [],
   "source": [
    "def create_clusters(inx, groupon):\n",
    "\n",
    "    scores=[]\n",
    "    for i in range(4,36):\n",
    "        k=KMeans(n_clusters=i,n_init=500, max_iter=500)\n",
    "        k.fit(inx[groupon])\n",
    "        label=KMeans.predict(k,inx[groupon])\n",
    "        scores.append(silhouette_score(inx, label))\n",
    "\n",
    "    pd.DataFrame(scores).plot()\n",
    "    best_cluster_no=np.argmax(scores[2:36])+2\n",
    "    plt.axvline(best_cluster_no)\n",
    "    plt.text(best_cluster_no, 0.34,s=f\"Max silhoutte score at n={best_cluster_no}\")\n",
    "    plt.xlabel(\"No. of clusters\")\n",
    "    plt.ylabel(\"Silhoutte score\")\n",
    "    kk=KMeans(n_clusters=best_cluster_no)\n",
    "\n",
    "    kk.fit(inx[groupon])\n",
    "    lab = pd.DataFrame(kk.labels_,columns=['Labels'])\n",
    "    result=pd.concat([states['State'],inx,lab['Labels']],axis=1)\n",
    "    return result"
   ]
  },
  {
   "cell_type": "code",
   "execution_count": 160,
   "metadata": {},
   "outputs": [],
   "source": [
    "def return_clusters(result):\n",
    "    grouping=result[['State','Labels']]\n",
    "    clusters=pd.DataFrame()\n",
    "    for l in grouping.Labels.unique():\n",
    "        clusters=pd.concat([clusters,pd.Series(np.array(grouping.State[grouping.Labels==l]), name=f\"Cluster {l}\").to_frame()],axis=1)\n",
    "    clusters.replace({np.nan:'-'},inplace=True)\n",
    "    clusters.sort_index(axis=1, inplace=True)    \n",
    "    return clusters"
   ]
  },
  {
   "source": [
    "## Dropouts"
   ],
   "cell_type": "markdown",
   "metadata": {}
  },
  {
   "cell_type": "code",
   "execution_count": 161,
   "metadata": {},
   "outputs": [
    {
     "output_type": "execute_result",
     "data": {
      "text/plain": [
       "               Cluster 0      Cluster 1         Cluster 2  Cluster 3  \\\n",
       "0           Chhattisgarh  A & N Islands    Andhra Pradesh      Bihar   \n",
       "1   Dadra & Nagar Haveli     Chandigarh           Haryana  Karnataka   \n",
       "2            Daman & Diu          Delhi  Himachal Pradesh     Odisha   \n",
       "3                Gujarat            Goa            Kerala          -   \n",
       "4        Jammu & Kashmir              -       Lakshadweep          -   \n",
       "5                 Sikkim              -       Maharashtra          -   \n",
       "6              Telangana              -        Puducherry          -   \n",
       "7                Tripura              -            Punjab          -   \n",
       "8            West Bengal              -         Rajasthan          -   \n",
       "9                      -              -       Tamil  Nadu          -   \n",
       "10                     -              -     Uttar Pradesh          -   \n",
       "11                     -              -       Uttarakhand          -   \n",
       "\n",
       "          Cluster 4           Cluster 5  \n",
       "0             Assam  Arunachal  Pradesh  \n",
       "1         Jharkhand             Manipur  \n",
       "2   Madhya  Pradesh            Nagaland  \n",
       "3         Meghalaya                   -  \n",
       "4           Mizoram                   -  \n",
       "5                 -                   -  \n",
       "6                 -                   -  \n",
       "7                 -                   -  \n",
       "8                 -                   -  \n",
       "9                 -                   -  \n",
       "10                -                   -  \n",
       "11                -                   -  "
      ],
      "text/html": "<div>\n<style scoped>\n    .dataframe tbody tr th:only-of-type {\n        vertical-align: middle;\n    }\n\n    .dataframe tbody tr th {\n        vertical-align: top;\n    }\n\n    .dataframe thead th {\n        text-align: right;\n    }\n</style>\n<table border=\"1\" class=\"dataframe\">\n  <thead>\n    <tr style=\"text-align: right;\">\n      <th></th>\n      <th>Cluster 0</th>\n      <th>Cluster 1</th>\n      <th>Cluster 2</th>\n      <th>Cluster 3</th>\n      <th>Cluster 4</th>\n      <th>Cluster 5</th>\n    </tr>\n  </thead>\n  <tbody>\n    <tr>\n      <th>0</th>\n      <td>Chhattisgarh</td>\n      <td>A &amp; N Islands</td>\n      <td>Andhra Pradesh</td>\n      <td>Bihar</td>\n      <td>Assam</td>\n      <td>Arunachal  Pradesh</td>\n    </tr>\n    <tr>\n      <th>1</th>\n      <td>Dadra &amp; Nagar Haveli</td>\n      <td>Chandigarh</td>\n      <td>Haryana</td>\n      <td>Karnataka</td>\n      <td>Jharkhand</td>\n      <td>Manipur</td>\n    </tr>\n    <tr>\n      <th>2</th>\n      <td>Daman &amp; Diu</td>\n      <td>Delhi</td>\n      <td>Himachal Pradesh</td>\n      <td>Odisha</td>\n      <td>Madhya  Pradesh</td>\n      <td>Nagaland</td>\n    </tr>\n    <tr>\n      <th>3</th>\n      <td>Gujarat</td>\n      <td>Goa</td>\n      <td>Kerala</td>\n      <td>-</td>\n      <td>Meghalaya</td>\n      <td>-</td>\n    </tr>\n    <tr>\n      <th>4</th>\n      <td>Jammu &amp; Kashmir</td>\n      <td>-</td>\n      <td>Lakshadweep</td>\n      <td>-</td>\n      <td>Mizoram</td>\n      <td>-</td>\n    </tr>\n    <tr>\n      <th>5</th>\n      <td>Sikkim</td>\n      <td>-</td>\n      <td>Maharashtra</td>\n      <td>-</td>\n      <td>-</td>\n      <td>-</td>\n    </tr>\n    <tr>\n      <th>6</th>\n      <td>Telangana</td>\n      <td>-</td>\n      <td>Puducherry</td>\n      <td>-</td>\n      <td>-</td>\n      <td>-</td>\n    </tr>\n    <tr>\n      <th>7</th>\n      <td>Tripura</td>\n      <td>-</td>\n      <td>Punjab</td>\n      <td>-</td>\n      <td>-</td>\n      <td>-</td>\n    </tr>\n    <tr>\n      <th>8</th>\n      <td>West Bengal</td>\n      <td>-</td>\n      <td>Rajasthan</td>\n      <td>-</td>\n      <td>-</td>\n      <td>-</td>\n    </tr>\n    <tr>\n      <th>9</th>\n      <td>-</td>\n      <td>-</td>\n      <td>Tamil  Nadu</td>\n      <td>-</td>\n      <td>-</td>\n      <td>-</td>\n    </tr>\n    <tr>\n      <th>10</th>\n      <td>-</td>\n      <td>-</td>\n      <td>Uttar Pradesh</td>\n      <td>-</td>\n      <td>-</td>\n      <td>-</td>\n    </tr>\n    <tr>\n      <th>11</th>\n      <td>-</td>\n      <td>-</td>\n      <td>Uttarakhand</td>\n      <td>-</td>\n      <td>-</td>\n      <td>-</td>\n    </tr>\n  </tbody>\n</table>\n</div>"
     },
     "metadata": {},
     "execution_count": 161
    },
    {
     "output_type": "display_data",
     "data": {
      "text/plain": "<Figure size 432x288 with 1 Axes>",
      "image/svg+xml": "<?xml version=\"1.0\" encoding=\"utf-8\" standalone=\"no\"?>\r\n<!DOCTYPE svg PUBLIC \"-//W3C//DTD SVG 1.1//EN\"\r\n  \"http://www.w3.org/Graphics/SVG/1.1/DTD/svg11.dtd\">\r\n<svg height=\"296.745541pt\" version=\"1.1\" viewBox=\"0 0 392.14375 296.745541\" width=\"392.14375pt\" xmlns=\"http://www.w3.org/2000/svg\" xmlns:xlink=\"http://www.w3.org/1999/xlink\">\r\n <metadata>\r\n  <rdf:RDF xmlns:cc=\"http://creativecommons.org/ns#\" xmlns:dc=\"http://purl.org/dc/elements/1.1/\" xmlns:rdf=\"http://www.w3.org/1999/02/22-rdf-syntax-ns#\">\r\n   <cc:Work>\r\n    <dc:type rdf:resource=\"http://purl.org/dc/dcmitype/StillImage\"/>\r\n    <dc:date>2021-05-26T17:45:48.695688</dc:date>\r\n    <dc:format>image/svg+xml</dc:format>\r\n    <dc:creator>\r\n     <cc:Agent>\r\n      <dc:title>Matplotlib v3.4.2, https://matplotlib.org/</dc:title>\r\n     </cc:Agent>\r\n    </dc:creator>\r\n   </cc:Work>\r\n  </rdf:RDF>\r\n </metadata>\r\n <defs>\r\n  <style type=\"text/css\">*{stroke-linecap:butt;stroke-linejoin:round;}</style>\r\n </defs>\r\n <g id=\"figure_1\">\r\n  <g id=\"patch_1\">\r\n   <path d=\"M 0 296.745541 \r\nL 392.14375 296.745541 \r\nL 392.14375 0 \r\nL 0 0 \r\nz\r\n\" style=\"fill:none;\"/>\r\n  </g>\r\n  <g id=\"axes_1\">\r\n   <g id=\"patch_2\">\r\n    <path d=\"M 50.14375 259.189291 \r\nL 384.94375 259.189291 \r\nL 384.94375 41.749291 \r\nL 50.14375 41.749291 \r\nz\r\n\" style=\"fill:#ffffff;\"/>\r\n   </g>\r\n   <g id=\"matplotlib.axis_1\">\r\n    <g id=\"xtick_1\">\r\n     <g id=\"line2d_1\">\r\n      <defs>\r\n       <path d=\"M 0 0 \r\nL 0 3.5 \r\n\" id=\"m59a0be6e17\" style=\"stroke:#000000;stroke-width:0.8;\"/>\r\n      </defs>\r\n      <g>\r\n       <use style=\"stroke:#000000;stroke-width:0.8;\" x=\"65.361932\" xlink:href=\"#m59a0be6e17\" y=\"259.189291\"/>\r\n      </g>\r\n     </g>\r\n     <g id=\"text_1\">\r\n      <!-- 0 -->\r\n      <g transform=\"translate(62.180682 273.787729)scale(0.1 -0.1)\">\r\n       <defs>\r\n        <path d=\"M 2034 4250 \r\nQ 1547 4250 1301 3770 \r\nQ 1056 3291 1056 2328 \r\nQ 1056 1369 1301 889 \r\nQ 1547 409 2034 409 \r\nQ 2525 409 2770 889 \r\nQ 3016 1369 3016 2328 \r\nQ 3016 3291 2770 3770 \r\nQ 2525 4250 2034 4250 \r\nz\r\nM 2034 4750 \r\nQ 2819 4750 3233 4129 \r\nQ 3647 3509 3647 2328 \r\nQ 3647 1150 3233 529 \r\nQ 2819 -91 2034 -91 \r\nQ 1250 -91 836 529 \r\nQ 422 1150 422 2328 \r\nQ 422 3509 836 4129 \r\nQ 1250 4750 2034 4750 \r\nz\r\n\" id=\"DejaVuSans-30\" transform=\"scale(0.015625)\"/>\r\n       </defs>\r\n       <use xlink:href=\"#DejaVuSans-30\"/>\r\n      </g>\r\n     </g>\r\n    </g>\r\n    <g id=\"xtick_2\">\r\n     <g id=\"line2d_2\">\r\n      <g>\r\n       <use style=\"stroke:#000000;stroke-width:0.8;\" x=\"114.452841\" xlink:href=\"#m59a0be6e17\" y=\"259.189291\"/>\r\n      </g>\r\n     </g>\r\n     <g id=\"text_2\">\r\n      <!-- 5 -->\r\n      <g transform=\"translate(111.271591 273.787729)scale(0.1 -0.1)\">\r\n       <defs>\r\n        <path d=\"M 691 4666 \r\nL 3169 4666 \r\nL 3169 4134 \r\nL 1269 4134 \r\nL 1269 2991 \r\nQ 1406 3038 1543 3061 \r\nQ 1681 3084 1819 3084 \r\nQ 2600 3084 3056 2656 \r\nQ 3513 2228 3513 1497 \r\nQ 3513 744 3044 326 \r\nQ 2575 -91 1722 -91 \r\nQ 1428 -91 1123 -41 \r\nQ 819 9 494 109 \r\nL 494 744 \r\nQ 775 591 1075 516 \r\nQ 1375 441 1709 441 \r\nQ 2250 441 2565 725 \r\nQ 2881 1009 2881 1497 \r\nQ 2881 1984 2565 2268 \r\nQ 2250 2553 1709 2553 \r\nQ 1456 2553 1204 2497 \r\nQ 953 2441 691 2322 \r\nL 691 4666 \r\nz\r\n\" id=\"DejaVuSans-35\" transform=\"scale(0.015625)\"/>\r\n       </defs>\r\n       <use xlink:href=\"#DejaVuSans-35\"/>\r\n      </g>\r\n     </g>\r\n    </g>\r\n    <g id=\"xtick_3\">\r\n     <g id=\"line2d_3\">\r\n      <g>\r\n       <use style=\"stroke:#000000;stroke-width:0.8;\" x=\"163.54375\" xlink:href=\"#m59a0be6e17\" y=\"259.189291\"/>\r\n      </g>\r\n     </g>\r\n     <g id=\"text_3\">\r\n      <!-- 10 -->\r\n      <g transform=\"translate(157.18125 273.787729)scale(0.1 -0.1)\">\r\n       <defs>\r\n        <path d=\"M 794 531 \r\nL 1825 531 \r\nL 1825 4091 \r\nL 703 3866 \r\nL 703 4441 \r\nL 1819 4666 \r\nL 2450 4666 \r\nL 2450 531 \r\nL 3481 531 \r\nL 3481 0 \r\nL 794 0 \r\nL 794 531 \r\nz\r\n\" id=\"DejaVuSans-31\" transform=\"scale(0.015625)\"/>\r\n       </defs>\r\n       <use xlink:href=\"#DejaVuSans-31\"/>\r\n       <use x=\"63.623047\" xlink:href=\"#DejaVuSans-30\"/>\r\n      </g>\r\n     </g>\r\n    </g>\r\n    <g id=\"xtick_4\">\r\n     <g id=\"line2d_4\">\r\n      <g>\r\n       <use style=\"stroke:#000000;stroke-width:0.8;\" x=\"212.634659\" xlink:href=\"#m59a0be6e17\" y=\"259.189291\"/>\r\n      </g>\r\n     </g>\r\n     <g id=\"text_4\">\r\n      <!-- 15 -->\r\n      <g transform=\"translate(206.272159 273.787729)scale(0.1 -0.1)\">\r\n       <use xlink:href=\"#DejaVuSans-31\"/>\r\n       <use x=\"63.623047\" xlink:href=\"#DejaVuSans-35\"/>\r\n      </g>\r\n     </g>\r\n    </g>\r\n    <g id=\"xtick_5\">\r\n     <g id=\"line2d_5\">\r\n      <g>\r\n       <use style=\"stroke:#000000;stroke-width:0.8;\" x=\"261.725568\" xlink:href=\"#m59a0be6e17\" y=\"259.189291\"/>\r\n      </g>\r\n     </g>\r\n     <g id=\"text_5\">\r\n      <!-- 20 -->\r\n      <g transform=\"translate(255.363068 273.787729)scale(0.1 -0.1)\">\r\n       <defs>\r\n        <path d=\"M 1228 531 \r\nL 3431 531 \r\nL 3431 0 \r\nL 469 0 \r\nL 469 531 \r\nQ 828 903 1448 1529 \r\nQ 2069 2156 2228 2338 \r\nQ 2531 2678 2651 2914 \r\nQ 2772 3150 2772 3378 \r\nQ 2772 3750 2511 3984 \r\nQ 2250 4219 1831 4219 \r\nQ 1534 4219 1204 4116 \r\nQ 875 4013 500 3803 \r\nL 500 4441 \r\nQ 881 4594 1212 4672 \r\nQ 1544 4750 1819 4750 \r\nQ 2544 4750 2975 4387 \r\nQ 3406 4025 3406 3419 \r\nQ 3406 3131 3298 2873 \r\nQ 3191 2616 2906 2266 \r\nQ 2828 2175 2409 1742 \r\nQ 1991 1309 1228 531 \r\nz\r\n\" id=\"DejaVuSans-32\" transform=\"scale(0.015625)\"/>\r\n       </defs>\r\n       <use xlink:href=\"#DejaVuSans-32\"/>\r\n       <use x=\"63.623047\" xlink:href=\"#DejaVuSans-30\"/>\r\n      </g>\r\n     </g>\r\n    </g>\r\n    <g id=\"xtick_6\">\r\n     <g id=\"line2d_6\">\r\n      <g>\r\n       <use style=\"stroke:#000000;stroke-width:0.8;\" x=\"310.816477\" xlink:href=\"#m59a0be6e17\" y=\"259.189291\"/>\r\n      </g>\r\n     </g>\r\n     <g id=\"text_6\">\r\n      <!-- 25 -->\r\n      <g transform=\"translate(304.453977 273.787729)scale(0.1 -0.1)\">\r\n       <use xlink:href=\"#DejaVuSans-32\"/>\r\n       <use x=\"63.623047\" xlink:href=\"#DejaVuSans-35\"/>\r\n      </g>\r\n     </g>\r\n    </g>\r\n    <g id=\"xtick_7\">\r\n     <g id=\"line2d_7\">\r\n      <g>\r\n       <use style=\"stroke:#000000;stroke-width:0.8;\" x=\"359.907386\" xlink:href=\"#m59a0be6e17\" y=\"259.189291\"/>\r\n      </g>\r\n     </g>\r\n     <g id=\"text_7\">\r\n      <!-- 30 -->\r\n      <g transform=\"translate(353.544886 273.787729)scale(0.1 -0.1)\">\r\n       <defs>\r\n        <path d=\"M 2597 2516 \r\nQ 3050 2419 3304 2112 \r\nQ 3559 1806 3559 1356 \r\nQ 3559 666 3084 287 \r\nQ 2609 -91 1734 -91 \r\nQ 1441 -91 1130 -33 \r\nQ 819 25 488 141 \r\nL 488 750 \r\nQ 750 597 1062 519 \r\nQ 1375 441 1716 441 \r\nQ 2309 441 2620 675 \r\nQ 2931 909 2931 1356 \r\nQ 2931 1769 2642 2001 \r\nQ 2353 2234 1838 2234 \r\nL 1294 2234 \r\nL 1294 2753 \r\nL 1863 2753 \r\nQ 2328 2753 2575 2939 \r\nQ 2822 3125 2822 3475 \r\nQ 2822 3834 2567 4026 \r\nQ 2313 4219 1838 4219 \r\nQ 1578 4219 1281 4162 \r\nQ 984 4106 628 3988 \r\nL 628 4550 \r\nQ 988 4650 1302 4700 \r\nQ 1616 4750 1894 4750 \r\nQ 2613 4750 3031 4423 \r\nQ 3450 4097 3450 3541 \r\nQ 3450 3153 3228 2886 \r\nQ 3006 2619 2597 2516 \r\nz\r\n\" id=\"DejaVuSans-33\" transform=\"scale(0.015625)\"/>\r\n       </defs>\r\n       <use xlink:href=\"#DejaVuSans-33\"/>\r\n       <use x=\"63.623047\" xlink:href=\"#DejaVuSans-30\"/>\r\n      </g>\r\n     </g>\r\n    </g>\r\n    <g id=\"text_8\">\r\n     <!-- No. of clusters -->\r\n     <g transform=\"translate(181.635938 287.465854)scale(0.1 -0.1)\">\r\n      <defs>\r\n       <path d=\"M 628 4666 \r\nL 1478 4666 \r\nL 3547 763 \r\nL 3547 4666 \r\nL 4159 4666 \r\nL 4159 0 \r\nL 3309 0 \r\nL 1241 3903 \r\nL 1241 0 \r\nL 628 0 \r\nL 628 4666 \r\nz\r\n\" id=\"DejaVuSans-4e\" transform=\"scale(0.015625)\"/>\r\n       <path d=\"M 1959 3097 \r\nQ 1497 3097 1228 2736 \r\nQ 959 2375 959 1747 \r\nQ 959 1119 1226 758 \r\nQ 1494 397 1959 397 \r\nQ 2419 397 2687 759 \r\nQ 2956 1122 2956 1747 \r\nQ 2956 2369 2687 2733 \r\nQ 2419 3097 1959 3097 \r\nz\r\nM 1959 3584 \r\nQ 2709 3584 3137 3096 \r\nQ 3566 2609 3566 1747 \r\nQ 3566 888 3137 398 \r\nQ 2709 -91 1959 -91 \r\nQ 1206 -91 779 398 \r\nQ 353 888 353 1747 \r\nQ 353 2609 779 3096 \r\nQ 1206 3584 1959 3584 \r\nz\r\n\" id=\"DejaVuSans-6f\" transform=\"scale(0.015625)\"/>\r\n       <path d=\"M 684 794 \r\nL 1344 794 \r\nL 1344 0 \r\nL 684 0 \r\nL 684 794 \r\nz\r\n\" id=\"DejaVuSans-2e\" transform=\"scale(0.015625)\"/>\r\n       <path id=\"DejaVuSans-20\" transform=\"scale(0.015625)\"/>\r\n       <path d=\"M 2375 4863 \r\nL 2375 4384 \r\nL 1825 4384 \r\nQ 1516 4384 1395 4259 \r\nQ 1275 4134 1275 3809 \r\nL 1275 3500 \r\nL 2222 3500 \r\nL 2222 3053 \r\nL 1275 3053 \r\nL 1275 0 \r\nL 697 0 \r\nL 697 3053 \r\nL 147 3053 \r\nL 147 3500 \r\nL 697 3500 \r\nL 697 3744 \r\nQ 697 4328 969 4595 \r\nQ 1241 4863 1831 4863 \r\nL 2375 4863 \r\nz\r\n\" id=\"DejaVuSans-66\" transform=\"scale(0.015625)\"/>\r\n       <path d=\"M 3122 3366 \r\nL 3122 2828 \r\nQ 2878 2963 2633 3030 \r\nQ 2388 3097 2138 3097 \r\nQ 1578 3097 1268 2742 \r\nQ 959 2388 959 1747 \r\nQ 959 1106 1268 751 \r\nQ 1578 397 2138 397 \r\nQ 2388 397 2633 464 \r\nQ 2878 531 3122 666 \r\nL 3122 134 \r\nQ 2881 22 2623 -34 \r\nQ 2366 -91 2075 -91 \r\nQ 1284 -91 818 406 \r\nQ 353 903 353 1747 \r\nQ 353 2603 823 3093 \r\nQ 1294 3584 2113 3584 \r\nQ 2378 3584 2631 3529 \r\nQ 2884 3475 3122 3366 \r\nz\r\n\" id=\"DejaVuSans-63\" transform=\"scale(0.015625)\"/>\r\n       <path d=\"M 603 4863 \r\nL 1178 4863 \r\nL 1178 0 \r\nL 603 0 \r\nL 603 4863 \r\nz\r\n\" id=\"DejaVuSans-6c\" transform=\"scale(0.015625)\"/>\r\n       <path d=\"M 544 1381 \r\nL 544 3500 \r\nL 1119 3500 \r\nL 1119 1403 \r\nQ 1119 906 1312 657 \r\nQ 1506 409 1894 409 \r\nQ 2359 409 2629 706 \r\nQ 2900 1003 2900 1516 \r\nL 2900 3500 \r\nL 3475 3500 \r\nL 3475 0 \r\nL 2900 0 \r\nL 2900 538 \r\nQ 2691 219 2414 64 \r\nQ 2138 -91 1772 -91 \r\nQ 1169 -91 856 284 \r\nQ 544 659 544 1381 \r\nz\r\nM 1991 3584 \r\nL 1991 3584 \r\nz\r\n\" id=\"DejaVuSans-75\" transform=\"scale(0.015625)\"/>\r\n       <path d=\"M 2834 3397 \r\nL 2834 2853 \r\nQ 2591 2978 2328 3040 \r\nQ 2066 3103 1784 3103 \r\nQ 1356 3103 1142 2972 \r\nQ 928 2841 928 2578 \r\nQ 928 2378 1081 2264 \r\nQ 1234 2150 1697 2047 \r\nL 1894 2003 \r\nQ 2506 1872 2764 1633 \r\nQ 3022 1394 3022 966 \r\nQ 3022 478 2636 193 \r\nQ 2250 -91 1575 -91 \r\nQ 1294 -91 989 -36 \r\nQ 684 19 347 128 \r\nL 347 722 \r\nQ 666 556 975 473 \r\nQ 1284 391 1588 391 \r\nQ 1994 391 2212 530 \r\nQ 2431 669 2431 922 \r\nQ 2431 1156 2273 1281 \r\nQ 2116 1406 1581 1522 \r\nL 1381 1569 \r\nQ 847 1681 609 1914 \r\nQ 372 2147 372 2553 \r\nQ 372 3047 722 3315 \r\nQ 1072 3584 1716 3584 \r\nQ 2034 3584 2315 3537 \r\nQ 2597 3491 2834 3397 \r\nz\r\n\" id=\"DejaVuSans-73\" transform=\"scale(0.015625)\"/>\r\n       <path d=\"M 1172 4494 \r\nL 1172 3500 \r\nL 2356 3500 \r\nL 2356 3053 \r\nL 1172 3053 \r\nL 1172 1153 \r\nQ 1172 725 1289 603 \r\nQ 1406 481 1766 481 \r\nL 2356 481 \r\nL 2356 0 \r\nL 1766 0 \r\nQ 1100 0 847 248 \r\nQ 594 497 594 1153 \r\nL 594 3053 \r\nL 172 3053 \r\nL 172 3500 \r\nL 594 3500 \r\nL 594 4494 \r\nL 1172 4494 \r\nz\r\n\" id=\"DejaVuSans-74\" transform=\"scale(0.015625)\"/>\r\n       <path d=\"M 3597 1894 \r\nL 3597 1613 \r\nL 953 1613 \r\nQ 991 1019 1311 708 \r\nQ 1631 397 2203 397 \r\nQ 2534 397 2845 478 \r\nQ 3156 559 3463 722 \r\nL 3463 178 \r\nQ 3153 47 2828 -22 \r\nQ 2503 -91 2169 -91 \r\nQ 1331 -91 842 396 \r\nQ 353 884 353 1716 \r\nQ 353 2575 817 3079 \r\nQ 1281 3584 2069 3584 \r\nQ 2775 3584 3186 3129 \r\nQ 3597 2675 3597 1894 \r\nz\r\nM 3022 2063 \r\nQ 3016 2534 2758 2815 \r\nQ 2500 3097 2075 3097 \r\nQ 1594 3097 1305 2825 \r\nQ 1016 2553 972 2059 \r\nL 3022 2063 \r\nz\r\n\" id=\"DejaVuSans-65\" transform=\"scale(0.015625)\"/>\r\n       <path d=\"M 2631 2963 \r\nQ 2534 3019 2420 3045 \r\nQ 2306 3072 2169 3072 \r\nQ 1681 3072 1420 2755 \r\nQ 1159 2438 1159 1844 \r\nL 1159 0 \r\nL 581 0 \r\nL 581 3500 \r\nL 1159 3500 \r\nL 1159 2956 \r\nQ 1341 3275 1631 3429 \r\nQ 1922 3584 2338 3584 \r\nQ 2397 3584 2469 3576 \r\nQ 2541 3569 2628 3553 \r\nL 2631 2963 \r\nz\r\n\" id=\"DejaVuSans-72\" transform=\"scale(0.015625)\"/>\r\n      </defs>\r\n      <use xlink:href=\"#DejaVuSans-4e\"/>\r\n      <use x=\"74.804688\" xlink:href=\"#DejaVuSans-6f\"/>\r\n      <use x=\"134.236328\" xlink:href=\"#DejaVuSans-2e\"/>\r\n      <use x=\"166.023438\" xlink:href=\"#DejaVuSans-20\"/>\r\n      <use x=\"197.810547\" xlink:href=\"#DejaVuSans-6f\"/>\r\n      <use x=\"258.992188\" xlink:href=\"#DejaVuSans-66\"/>\r\n      <use x=\"294.197266\" xlink:href=\"#DejaVuSans-20\"/>\r\n      <use x=\"325.984375\" xlink:href=\"#DejaVuSans-63\"/>\r\n      <use x=\"380.964844\" xlink:href=\"#DejaVuSans-6c\"/>\r\n      <use x=\"408.748047\" xlink:href=\"#DejaVuSans-75\"/>\r\n      <use x=\"472.126953\" xlink:href=\"#DejaVuSans-73\"/>\r\n      <use x=\"524.226562\" xlink:href=\"#DejaVuSans-74\"/>\r\n      <use x=\"563.435547\" xlink:href=\"#DejaVuSans-65\"/>\r\n      <use x=\"624.958984\" xlink:href=\"#DejaVuSans-72\"/>\r\n      <use x=\"666.072266\" xlink:href=\"#DejaVuSans-73\"/>\r\n     </g>\r\n    </g>\r\n   </g>\r\n   <g id=\"matplotlib.axis_2\">\r\n    <g id=\"ytick_1\">\r\n     <g id=\"line2d_8\">\r\n      <defs>\r\n       <path d=\"M 0 0 \r\nL -3.5 0 \r\n\" id=\"mb1558cf295\" style=\"stroke:#000000;stroke-width:0.8;\"/>\r\n      </defs>\r\n      <g>\r\n       <use style=\"stroke:#000000;stroke-width:0.8;\" x=\"50.14375\" xlink:href=\"#mb1558cf295\" y=\"234.992977\"/>\r\n      </g>\r\n     </g>\r\n     <g id=\"text_9\">\r\n      <!-- 0.05 -->\r\n      <g transform=\"translate(20.878125 238.792196)scale(0.1 -0.1)\">\r\n       <use xlink:href=\"#DejaVuSans-30\"/>\r\n       <use x=\"63.623047\" xlink:href=\"#DejaVuSans-2e\"/>\r\n       <use x=\"95.410156\" xlink:href=\"#DejaVuSans-30\"/>\r\n       <use x=\"159.033203\" xlink:href=\"#DejaVuSans-35\"/>\r\n      </g>\r\n     </g>\r\n    </g>\r\n    <g id=\"ytick_2\">\r\n     <g id=\"line2d_9\">\r\n      <g>\r\n       <use style=\"stroke:#000000;stroke-width:0.8;\" x=\"50.14375\" xlink:href=\"#mb1558cf295\" y=\"197.028401\"/>\r\n      </g>\r\n     </g>\r\n     <g id=\"text_10\">\r\n      <!-- 0.10 -->\r\n      <g transform=\"translate(20.878125 200.82762)scale(0.1 -0.1)\">\r\n       <use xlink:href=\"#DejaVuSans-30\"/>\r\n       <use x=\"63.623047\" xlink:href=\"#DejaVuSans-2e\"/>\r\n       <use x=\"95.410156\" xlink:href=\"#DejaVuSans-31\"/>\r\n       <use x=\"159.033203\" xlink:href=\"#DejaVuSans-30\"/>\r\n      </g>\r\n     </g>\r\n    </g>\r\n    <g id=\"ytick_3\">\r\n     <g id=\"line2d_10\">\r\n      <g>\r\n       <use style=\"stroke:#000000;stroke-width:0.8;\" x=\"50.14375\" xlink:href=\"#mb1558cf295\" y=\"159.063825\"/>\r\n      </g>\r\n     </g>\r\n     <g id=\"text_11\">\r\n      <!-- 0.15 -->\r\n      <g transform=\"translate(20.878125 162.863044)scale(0.1 -0.1)\">\r\n       <use xlink:href=\"#DejaVuSans-30\"/>\r\n       <use x=\"63.623047\" xlink:href=\"#DejaVuSans-2e\"/>\r\n       <use x=\"95.410156\" xlink:href=\"#DejaVuSans-31\"/>\r\n       <use x=\"159.033203\" xlink:href=\"#DejaVuSans-35\"/>\r\n      </g>\r\n     </g>\r\n    </g>\r\n    <g id=\"ytick_4\">\r\n     <g id=\"line2d_11\">\r\n      <g>\r\n       <use style=\"stroke:#000000;stroke-width:0.8;\" x=\"50.14375\" xlink:href=\"#mb1558cf295\" y=\"121.09925\"/>\r\n      </g>\r\n     </g>\r\n     <g id=\"text_12\">\r\n      <!-- 0.20 -->\r\n      <g transform=\"translate(20.878125 124.898468)scale(0.1 -0.1)\">\r\n       <use xlink:href=\"#DejaVuSans-30\"/>\r\n       <use x=\"63.623047\" xlink:href=\"#DejaVuSans-2e\"/>\r\n       <use x=\"95.410156\" xlink:href=\"#DejaVuSans-32\"/>\r\n       <use x=\"159.033203\" xlink:href=\"#DejaVuSans-30\"/>\r\n      </g>\r\n     </g>\r\n    </g>\r\n    <g id=\"ytick_5\">\r\n     <g id=\"line2d_12\">\r\n      <g>\r\n       <use style=\"stroke:#000000;stroke-width:0.8;\" x=\"50.14375\" xlink:href=\"#mb1558cf295\" y=\"83.134674\"/>\r\n      </g>\r\n     </g>\r\n     <g id=\"text_13\">\r\n      <!-- 0.25 -->\r\n      <g transform=\"translate(20.878125 86.933893)scale(0.1 -0.1)\">\r\n       <use xlink:href=\"#DejaVuSans-30\"/>\r\n       <use x=\"63.623047\" xlink:href=\"#DejaVuSans-2e\"/>\r\n       <use x=\"95.410156\" xlink:href=\"#DejaVuSans-32\"/>\r\n       <use x=\"159.033203\" xlink:href=\"#DejaVuSans-35\"/>\r\n      </g>\r\n     </g>\r\n    </g>\r\n    <g id=\"ytick_6\">\r\n     <g id=\"line2d_13\">\r\n      <g>\r\n       <use style=\"stroke:#000000;stroke-width:0.8;\" x=\"50.14375\" xlink:href=\"#mb1558cf295\" y=\"45.170098\"/>\r\n      </g>\r\n     </g>\r\n     <g id=\"text_14\">\r\n      <!-- 0.30 -->\r\n      <g transform=\"translate(20.878125 48.969317)scale(0.1 -0.1)\">\r\n       <use xlink:href=\"#DejaVuSans-30\"/>\r\n       <use x=\"63.623047\" xlink:href=\"#DejaVuSans-2e\"/>\r\n       <use x=\"95.410156\" xlink:href=\"#DejaVuSans-33\"/>\r\n       <use x=\"159.033203\" xlink:href=\"#DejaVuSans-30\"/>\r\n      </g>\r\n     </g>\r\n    </g>\r\n    <g id=\"text_15\">\r\n     <!-- Silhoutte score -->\r\n     <g transform=\"translate(14.798438 187.83726)rotate(-90)scale(0.1 -0.1)\">\r\n      <defs>\r\n       <path d=\"M 3425 4513 \r\nL 3425 3897 \r\nQ 3066 4069 2747 4153 \r\nQ 2428 4238 2131 4238 \r\nQ 1616 4238 1336 4038 \r\nQ 1056 3838 1056 3469 \r\nQ 1056 3159 1242 3001 \r\nQ 1428 2844 1947 2747 \r\nL 2328 2669 \r\nQ 3034 2534 3370 2195 \r\nQ 3706 1856 3706 1288 \r\nQ 3706 609 3251 259 \r\nQ 2797 -91 1919 -91 \r\nQ 1588 -91 1214 -16 \r\nQ 841 59 441 206 \r\nL 441 856 \r\nQ 825 641 1194 531 \r\nQ 1563 422 1919 422 \r\nQ 2459 422 2753 634 \r\nQ 3047 847 3047 1241 \r\nQ 3047 1584 2836 1778 \r\nQ 2625 1972 2144 2069 \r\nL 1759 2144 \r\nQ 1053 2284 737 2584 \r\nQ 422 2884 422 3419 \r\nQ 422 4038 858 4394 \r\nQ 1294 4750 2059 4750 \r\nQ 2388 4750 2728 4690 \r\nQ 3069 4631 3425 4513 \r\nz\r\n\" id=\"DejaVuSans-53\" transform=\"scale(0.015625)\"/>\r\n       <path d=\"M 603 3500 \r\nL 1178 3500 \r\nL 1178 0 \r\nL 603 0 \r\nL 603 3500 \r\nz\r\nM 603 4863 \r\nL 1178 4863 \r\nL 1178 4134 \r\nL 603 4134 \r\nL 603 4863 \r\nz\r\n\" id=\"DejaVuSans-69\" transform=\"scale(0.015625)\"/>\r\n       <path d=\"M 3513 2113 \r\nL 3513 0 \r\nL 2938 0 \r\nL 2938 2094 \r\nQ 2938 2591 2744 2837 \r\nQ 2550 3084 2163 3084 \r\nQ 1697 3084 1428 2787 \r\nQ 1159 2491 1159 1978 \r\nL 1159 0 \r\nL 581 0 \r\nL 581 4863 \r\nL 1159 4863 \r\nL 1159 2956 \r\nQ 1366 3272 1645 3428 \r\nQ 1925 3584 2291 3584 \r\nQ 2894 3584 3203 3211 \r\nQ 3513 2838 3513 2113 \r\nz\r\n\" id=\"DejaVuSans-68\" transform=\"scale(0.015625)\"/>\r\n      </defs>\r\n      <use xlink:href=\"#DejaVuSans-53\"/>\r\n      <use x=\"63.476562\" xlink:href=\"#DejaVuSans-69\"/>\r\n      <use x=\"91.259766\" xlink:href=\"#DejaVuSans-6c\"/>\r\n      <use x=\"119.042969\" xlink:href=\"#DejaVuSans-68\"/>\r\n      <use x=\"182.421875\" xlink:href=\"#DejaVuSans-6f\"/>\r\n      <use x=\"243.603516\" xlink:href=\"#DejaVuSans-75\"/>\r\n      <use x=\"306.982422\" xlink:href=\"#DejaVuSans-74\"/>\r\n      <use x=\"346.191406\" xlink:href=\"#DejaVuSans-74\"/>\r\n      <use x=\"385.400391\" xlink:href=\"#DejaVuSans-65\"/>\r\n      <use x=\"446.923828\" xlink:href=\"#DejaVuSans-20\"/>\r\n      <use x=\"478.710938\" xlink:href=\"#DejaVuSans-73\"/>\r\n      <use x=\"530.810547\" xlink:href=\"#DejaVuSans-63\"/>\r\n      <use x=\"585.791016\" xlink:href=\"#DejaVuSans-6f\"/>\r\n      <use x=\"646.972656\" xlink:href=\"#DejaVuSans-72\"/>\r\n      <use x=\"685.835938\" xlink:href=\"#DejaVuSans-65\"/>\r\n     </g>\r\n    </g>\r\n   </g>\r\n   <g id=\"line2d_14\">\r\n    <path clip-path=\"url(#pce235a9550)\" d=\"M 65.361932 80.07383 \r\nL 75.180114 57.629635 \r\nL 84.998295 77.163116 \r\nL 94.816477 86.787408 \r\nL 104.634659 74.084753 \r\nL 114.452841 57.977651 \r\nL 124.271023 51.632928 \r\nL 134.089205 54.000093 \r\nL 143.907386 58.535475 \r\nL 153.725568 83.004907 \r\nL 163.54375 93.287959 \r\nL 173.361932 91.651233 \r\nL 183.180114 103.706052 \r\nL 192.998295 101.356501 \r\nL 202.816477 116.708482 \r\nL 212.634659 127.351461 \r\nL 222.452841 119.805884 \r\nL 232.271023 122.0169 \r\nL 242.089205 126.55248 \r\nL 251.907386 134.97781 \r\nL 261.725568 142.578645 \r\nL 271.54375 151.066536 \r\nL 281.361932 157.588934 \r\nL 291.180114 170.501137 \r\nL 300.998295 189.889301 \r\nL 310.816477 203.819819 \r\nL 320.634659 218.547416 \r\nL 330.452841 224.684828 \r\nL 340.271023 232.456651 \r\nL 350.089205 244.808389 \r\nL 359.907386 242.390266 \r\nL 369.725568 249.305655 \r\n\" style=\"fill:none;stroke:#1f77b4;stroke-linecap:square;stroke-width:1.5;\"/>\r\n   </g>\r\n   <g id=\"line2d_15\">\r\n    <path clip-path=\"url(#pce235a9550)\" d=\"M 124.271023 259.189291 \r\nL 124.271023 41.749291 \r\n\" style=\"fill:none;stroke:#1f77b4;stroke-linecap:square;stroke-width:1.5;\"/>\r\n   </g>\r\n   <g id=\"patch_3\">\r\n    <path d=\"M 50.14375 259.189291 \r\nL 50.14375 41.749291 \r\n\" style=\"fill:none;stroke:#000000;stroke-linecap:square;stroke-linejoin:miter;stroke-width:0.8;\"/>\r\n   </g>\r\n   <g id=\"patch_4\">\r\n    <path d=\"M 384.94375 259.189291 \r\nL 384.94375 41.749291 \r\n\" style=\"fill:none;stroke:#000000;stroke-linecap:square;stroke-linejoin:miter;stroke-width:0.8;\"/>\r\n   </g>\r\n   <g id=\"patch_5\">\r\n    <path d=\"M 50.14375 259.189291 \r\nL 384.94375 259.189291 \r\n\" style=\"fill:none;stroke:#000000;stroke-linecap:square;stroke-linejoin:miter;stroke-width:0.8;\"/>\r\n   </g>\r\n   <g id=\"patch_6\">\r\n    <path d=\"M 50.14375 41.749291 \r\nL 384.94375 41.749291 \r\n\" style=\"fill:none;stroke:#000000;stroke-linecap:square;stroke-linejoin:miter;stroke-width:0.8;\"/>\r\n   </g>\r\n   <g id=\"text_16\">\r\n    <!-- Max silhoutte score at n=6 -->\r\n    <g transform=\"translate(124.271023 14.798437)scale(0.1 -0.1)\">\r\n     <defs>\r\n      <path d=\"M 628 4666 \r\nL 1569 4666 \r\nL 2759 1491 \r\nL 3956 4666 \r\nL 4897 4666 \r\nL 4897 0 \r\nL 4281 0 \r\nL 4281 4097 \r\nL 3078 897 \r\nL 2444 897 \r\nL 1241 4097 \r\nL 1241 0 \r\nL 628 0 \r\nL 628 4666 \r\nz\r\n\" id=\"DejaVuSans-4d\" transform=\"scale(0.015625)\"/>\r\n      <path d=\"M 2194 1759 \r\nQ 1497 1759 1228 1600 \r\nQ 959 1441 959 1056 \r\nQ 959 750 1161 570 \r\nQ 1363 391 1709 391 \r\nQ 2188 391 2477 730 \r\nQ 2766 1069 2766 1631 \r\nL 2766 1759 \r\nL 2194 1759 \r\nz\r\nM 3341 1997 \r\nL 3341 0 \r\nL 2766 0 \r\nL 2766 531 \r\nQ 2569 213 2275 61 \r\nQ 1981 -91 1556 -91 \r\nQ 1019 -91 701 211 \r\nQ 384 513 384 1019 \r\nQ 384 1609 779 1909 \r\nQ 1175 2209 1959 2209 \r\nL 2766 2209 \r\nL 2766 2266 \r\nQ 2766 2663 2505 2880 \r\nQ 2244 3097 1772 3097 \r\nQ 1472 3097 1187 3025 \r\nQ 903 2953 641 2809 \r\nL 641 3341 \r\nQ 956 3463 1253 3523 \r\nQ 1550 3584 1831 3584 \r\nQ 2591 3584 2966 3190 \r\nQ 3341 2797 3341 1997 \r\nz\r\n\" id=\"DejaVuSans-61\" transform=\"scale(0.015625)\"/>\r\n      <path d=\"M 3513 3500 \r\nL 2247 1797 \r\nL 3578 0 \r\nL 2900 0 \r\nL 1881 1375 \r\nL 863 0 \r\nL 184 0 \r\nL 1544 1831 \r\nL 300 3500 \r\nL 978 3500 \r\nL 1906 2253 \r\nL 2834 3500 \r\nL 3513 3500 \r\nz\r\n\" id=\"DejaVuSans-78\" transform=\"scale(0.015625)\"/>\r\n      <path d=\"M 3513 2113 \r\nL 3513 0 \r\nL 2938 0 \r\nL 2938 2094 \r\nQ 2938 2591 2744 2837 \r\nQ 2550 3084 2163 3084 \r\nQ 1697 3084 1428 2787 \r\nQ 1159 2491 1159 1978 \r\nL 1159 0 \r\nL 581 0 \r\nL 581 3500 \r\nL 1159 3500 \r\nL 1159 2956 \r\nQ 1366 3272 1645 3428 \r\nQ 1925 3584 2291 3584 \r\nQ 2894 3584 3203 3211 \r\nQ 3513 2838 3513 2113 \r\nz\r\n\" id=\"DejaVuSans-6e\" transform=\"scale(0.015625)\"/>\r\n      <path d=\"M 678 2906 \r\nL 4684 2906 \r\nL 4684 2381 \r\nL 678 2381 \r\nL 678 2906 \r\nz\r\nM 678 1631 \r\nL 4684 1631 \r\nL 4684 1100 \r\nL 678 1100 \r\nL 678 1631 \r\nz\r\n\" id=\"DejaVuSans-3d\" transform=\"scale(0.015625)\"/>\r\n      <path d=\"M 2113 2584 \r\nQ 1688 2584 1439 2293 \r\nQ 1191 2003 1191 1497 \r\nQ 1191 994 1439 701 \r\nQ 1688 409 2113 409 \r\nQ 2538 409 2786 701 \r\nQ 3034 994 3034 1497 \r\nQ 3034 2003 2786 2293 \r\nQ 2538 2584 2113 2584 \r\nz\r\nM 3366 4563 \r\nL 3366 3988 \r\nQ 3128 4100 2886 4159 \r\nQ 2644 4219 2406 4219 \r\nQ 1781 4219 1451 3797 \r\nQ 1122 3375 1075 2522 \r\nQ 1259 2794 1537 2939 \r\nQ 1816 3084 2150 3084 \r\nQ 2853 3084 3261 2657 \r\nQ 3669 2231 3669 1497 \r\nQ 3669 778 3244 343 \r\nQ 2819 -91 2113 -91 \r\nQ 1303 -91 875 529 \r\nQ 447 1150 447 2328 \r\nQ 447 3434 972 4092 \r\nQ 1497 4750 2381 4750 \r\nQ 2619 4750 2861 4703 \r\nQ 3103 4656 3366 4563 \r\nz\r\n\" id=\"DejaVuSans-36\" transform=\"scale(0.015625)\"/>\r\n     </defs>\r\n     <use xlink:href=\"#DejaVuSans-4d\"/>\r\n     <use x=\"86.279297\" xlink:href=\"#DejaVuSans-61\"/>\r\n     <use x=\"147.558594\" xlink:href=\"#DejaVuSans-78\"/>\r\n     <use x=\"206.738281\" xlink:href=\"#DejaVuSans-20\"/>\r\n     <use x=\"238.525391\" xlink:href=\"#DejaVuSans-73\"/>\r\n     <use x=\"290.625\" xlink:href=\"#DejaVuSans-69\"/>\r\n     <use x=\"318.408203\" xlink:href=\"#DejaVuSans-6c\"/>\r\n     <use x=\"346.191406\" xlink:href=\"#DejaVuSans-68\"/>\r\n     <use x=\"409.570312\" xlink:href=\"#DejaVuSans-6f\"/>\r\n     <use x=\"470.751953\" xlink:href=\"#DejaVuSans-75\"/>\r\n     <use x=\"534.130859\" xlink:href=\"#DejaVuSans-74\"/>\r\n     <use x=\"573.339844\" xlink:href=\"#DejaVuSans-74\"/>\r\n     <use x=\"612.548828\" xlink:href=\"#DejaVuSans-65\"/>\r\n     <use x=\"674.072266\" xlink:href=\"#DejaVuSans-20\"/>\r\n     <use x=\"705.859375\" xlink:href=\"#DejaVuSans-73\"/>\r\n     <use x=\"757.958984\" xlink:href=\"#DejaVuSans-63\"/>\r\n     <use x=\"812.939453\" xlink:href=\"#DejaVuSans-6f\"/>\r\n     <use x=\"874.121094\" xlink:href=\"#DejaVuSans-72\"/>\r\n     <use x=\"912.984375\" xlink:href=\"#DejaVuSans-65\"/>\r\n     <use x=\"974.507812\" xlink:href=\"#DejaVuSans-20\"/>\r\n     <use x=\"1006.294922\" xlink:href=\"#DejaVuSans-61\"/>\r\n     <use x=\"1067.574219\" xlink:href=\"#DejaVuSans-74\"/>\r\n     <use x=\"1106.783203\" xlink:href=\"#DejaVuSans-20\"/>\r\n     <use x=\"1138.570312\" xlink:href=\"#DejaVuSans-6e\"/>\r\n     <use x=\"1201.949219\" xlink:href=\"#DejaVuSans-3d\"/>\r\n     <use x=\"1285.738281\" xlink:href=\"#DejaVuSans-36\"/>\r\n    </g>\r\n   </g>\r\n   <g id=\"legend_1\">\r\n    <g id=\"patch_7\">\r\n     <path d=\"M 339.58125 64.427416 \r\nL 377.94375 64.427416 \r\nQ 379.94375 64.427416 379.94375 62.427416 \r\nL 379.94375 48.749291 \r\nQ 379.94375 46.749291 377.94375 46.749291 \r\nL 339.58125 46.749291 \r\nQ 337.58125 46.749291 337.58125 48.749291 \r\nL 337.58125 62.427416 \r\nQ 337.58125 64.427416 339.58125 64.427416 \r\nz\r\n\" style=\"fill:#ffffff;opacity:0.8;stroke:#cccccc;stroke-linejoin:miter;\"/>\r\n    </g>\r\n    <g id=\"line2d_16\">\r\n     <path d=\"M 341.58125 54.847729 \r\nL 361.58125 54.847729 \r\n\" style=\"fill:none;stroke:#1f77b4;stroke-linecap:square;stroke-width:1.5;\"/>\r\n    </g>\r\n    <g id=\"line2d_17\"/>\r\n    <g id=\"text_17\">\r\n     <!-- 0 -->\r\n     <g transform=\"translate(369.58125 58.347729)scale(0.1 -0.1)\">\r\n      <use xlink:href=\"#DejaVuSans-30\"/>\r\n     </g>\r\n    </g>\r\n   </g>\r\n  </g>\r\n </g>\r\n <defs>\r\n  <clipPath id=\"pce235a9550\">\r\n   <rect height=\"217.44\" width=\"334.8\" x=\"50.14375\" y=\"41.749291\"/>\r\n  </clipPath>\r\n </defs>\r\n</svg>\r\n",
      "image/png": "[encoded data removed]"
     },
     "metadata": {
      "needs_background": "light"
     }
    }
   ],
   "source": [
    "dropouts_x = create_aggregate(dropout)\n",
    "dropouts_result=create_clusters(dropouts_x,['PRIMARY_TOTAL', 'UPPER_PRIMARY_TOTAL', 'SECONDARY_TOTAL','HRSECONDARY_TOTAL'])\n",
    "dropouts_clusters=return_clusters(dropouts_result)"
   ]
  },
  {
   "cell_type": "code",
   "execution_count": null,
   "metadata": {},
   "outputs": [],
   "source": [
    "dropouts_clusters"
   ]
  },
  {
   "cell_type": "code",
   "execution_count": 162,
   "metadata": {},
   "outputs": [
    {
     "output_type": "execute_result",
     "data": {
      "text/plain": [
       "<pandas.io.formats.style.Styler at 0x1f85623da00>"
      ],
      "text/html": "<style  type=\"text/css\" >\n#T_29d79_row0_col0{\n            background-color:  #fdd5a0;\n            color:  #000000;\n        }#T_29d79_row0_col1{\n            background-color:  #fddaab;\n            color:  #000000;\n        }#T_29d79_row0_col2{\n            background-color:  #fdd8a6;\n            color:  #000000;\n        }#T_29d79_row0_col3{\n            background-color:  #fdbb85;\n            color:  #000000;\n        }#T_29d79_row0_col4{\n            background-color:  #fdaf79;\n            color:  #000000;\n        }#T_29d79_row0_col5{\n            background-color:  #fdb27b;\n            color:  #000000;\n        }#T_29d79_row0_col6{\n            background-color:  #fda671;\n            color:  #000000;\n        }#T_29d79_row0_col7,#T_29d79_row5_col7{\n            background-color:  #fc9c67;\n            color:  #000000;\n        }#T_29d79_row0_col8{\n            background-color:  #fca06b;\n            color:  #000000;\n        }#T_29d79_row0_col9{\n            background-color:  #fc9964;\n            color:  #000000;\n        }#T_29d79_row0_col10{\n            background-color:  #eb5c41;\n            color:  #000000;\n        }#T_29d79_row0_col11{\n            background-color:  #fb8957;\n            color:  #000000;\n        }#T_29d79_row1_col0,#T_29d79_row1_col1,#T_29d79_row1_col2,#T_29d79_row1_col3,#T_29d79_row1_col4,#T_29d79_row1_col5,#T_29d79_row1_col6,#T_29d79_row1_col7,#T_29d79_row1_col8,#T_29d79_row3_col10,#T_29d79_row4_col9,#T_29d79_row4_col11{\n            background-color:  #fff7ec;\n            color:  #000000;\n        }#T_29d79_row1_col9,#T_29d79_row1_col10,#T_29d79_row1_col11,#T_29d79_row3_col6,#T_29d79_row3_col7,#T_29d79_row3_col8,#T_29d79_row4_col3,#T_29d79_row4_col4,#T_29d79_row4_col5,#T_29d79_row5_col0,#T_29d79_row5_col1,#T_29d79_row5_col2{\n            background-color:  #7f0000;\n            color:  #f1f1f1;\n        }#T_29d79_row2_col0,#T_29d79_row2_col7{\n            background-color:  #fdddb1;\n            color:  #000000;\n        }#T_29d79_row2_col1,#T_29d79_row2_col2{\n            background-color:  #fdddb0;\n            color:  #000000;\n        }#T_29d79_row2_col3{\n            background-color:  #feeace;\n            color:  #000000;\n        }#T_29d79_row2_col4{\n            background-color:  #fddbad;\n            color:  #000000;\n        }#T_29d79_row2_col5{\n            background-color:  #fee1b9;\n            color:  #000000;\n        }#T_29d79_row2_col6,#T_29d79_row2_col11{\n            background-color:  #fee0b7;\n            color:  #000000;\n        }#T_29d79_row2_col8{\n            background-color:  #fedfb4;\n            color:  #000000;\n        }#T_29d79_row2_col9,#T_29d79_row3_col1{\n            background-color:  #fee4c0;\n            color:  #000000;\n        }#T_29d79_row2_col10{\n            background-color:  #fdd49e;\n            color:  #000000;\n        }#T_29d79_row3_col0{\n            background-color:  #fee2bb;\n            color:  #000000;\n        }#T_29d79_row3_col2{\n            background-color:  #fee3bd;\n            color:  #000000;\n        }#T_29d79_row3_col3{\n            background-color:  #fdc38d;\n            color:  #000000;\n        }#T_29d79_row3_col4{\n            background-color:  #fdcc96;\n            color:  #000000;\n        }#T_29d79_row3_col5{\n            background-color:  #fdc690;\n            color:  #000000;\n        }#T_29d79_row3_col9{\n            background-color:  #fff0db;\n            color:  #000000;\n        }#T_29d79_row3_col11{\n            background-color:  #fff4e5;\n            color:  #000000;\n        }#T_29d79_row4_col0{\n            background-color:  #bb0b07;\n            color:  #f1f1f1;\n        }#T_29d79_row4_col1{\n            background-color:  #c4170f;\n            color:  #f1f1f1;\n        }#T_29d79_row4_col2{\n            background-color:  #c0110b;\n            color:  #f1f1f1;\n        }#T_29d79_row4_col6{\n            background-color:  #f4754f;\n            color:  #000000;\n        }#T_29d79_row4_col7{\n            background-color:  #ea5a3f;\n            color:  #000000;\n        }#T_29d79_row4_col8{\n            background-color:  #f06849;\n            color:  #000000;\n        }#T_29d79_row4_col10{\n            background-color:  #fff2e1;\n            color:  #000000;\n        }#T_29d79_row5_col3{\n            background-color:  #a80000;\n            color:  #f1f1f1;\n        }#T_29d79_row5_col4{\n            background-color:  #860000;\n            color:  #f1f1f1;\n        }#T_29d79_row5_col5{\n            background-color:  #940000;\n            color:  #f1f1f1;\n        }#T_29d79_row5_col6{\n            background-color:  #fdb67f;\n            color:  #000000;\n        }#T_29d79_row5_col8{\n            background-color:  #fda973;\n            color:  #000000;\n        }#T_29d79_row5_col9{\n            background-color:  #f3724e;\n            color:  #000000;\n        }#T_29d79_row5_col10{\n            background-color:  #a50000;\n            color:  #f1f1f1;\n        }#T_29d79_row5_col11{\n            background-color:  #e34b34;\n            color:  #000000;\n        }</style><table id=\"T_29d79_\" ><thead>    <tr>        <th class=\"blank level0\" ></th>        <th class=\"col_heading level0 col0\" >PRIMARY_BOYS</th>        <th class=\"col_heading level0 col1\" >PRIMARY_GIRLS</th>        <th class=\"col_heading level0 col2\" >PRIMARY_TOTAL</th>        <th class=\"col_heading level0 col3\" >UPPER_PRIMARY_BOYS</th>        <th class=\"col_heading level0 col4\" >UPPER_PRIMARY_GIRLS</th>        <th class=\"col_heading level0 col5\" >UPPER_PRIMARY_TOTAL</th>        <th class=\"col_heading level0 col6\" >SECONDARY_BOYS</th>        <th class=\"col_heading level0 col7\" >SECONDARY_GIRLS</th>        <th class=\"col_heading level0 col8\" >SECONDARY_TOTAL</th>        <th class=\"col_heading level0 col9\" >HRSECONDARY_BOYS</th>        <th class=\"col_heading level0 col10\" >HRSECONDARY_GIRLS</th>        <th class=\"col_heading level0 col11\" >HRSECONDARY_TOTAL</th>    </tr>    <tr>        <th class=\"index_name level0\" >Labels</th>        <th class=\"blank\" ></th>        <th class=\"blank\" ></th>        <th class=\"blank\" ></th>        <th class=\"blank\" ></th>        <th class=\"blank\" ></th>        <th class=\"blank\" ></th>        <th class=\"blank\" ></th>        <th class=\"blank\" ></th>        <th class=\"blank\" ></th>        <th class=\"blank\" ></th>        <th class=\"blank\" ></th>        <th class=\"blank\" ></th>    </tr></thead><tbody>\n                <tr>\n                        <th id=\"T_29d79_level0_row0\" class=\"row_heading level0 row0\" >0</th>\n                        <td id=\"T_29d79_row0_col0\" class=\"data row0 col0\" >3.168148</td>\n                        <td id=\"T_29d79_row0_col1\" class=\"data row0 col1\" >2.692593</td>\n                        <td id=\"T_29d79_row0_col2\" class=\"data row0 col2\" >2.931481</td>\n                        <td id=\"T_29d79_row0_col3\" class=\"data row0 col3\" >3.807778</td>\n                        <td id=\"T_29d79_row0_col4\" class=\"data row0 col4\" >4.100370</td>\n                        <td id=\"T_29d79_row0_col5\" class=\"data row0 col5\" >3.820370</td>\n                        <td id=\"T_29d79_row0_col6\" class=\"data row0 col6\" >18.978148</td>\n                        <td id=\"T_29d79_row0_col7\" class=\"data row0 col7\" >18.256296</td>\n                        <td id=\"T_29d79_row0_col8\" class=\"data row0 col8\" >18.658519</td>\n                        <td id=\"T_29d79_row0_col9\" class=\"data row0 col9\" >9.241481</td>\n                        <td id=\"T_29d79_row0_col10\" class=\"data row0 col10\" >6.854444</td>\n                        <td id=\"T_29d79_row0_col11\" class=\"data row0 col11\" >7.995926</td>\n            </tr>\n            <tr>\n                        <th id=\"T_29d79_level0_row1\" class=\"row_heading level0 row1\" >1</th>\n                        <td id=\"T_29d79_row1_col0\" class=\"data row1 col0\" >0.280000</td>\n                        <td id=\"T_29d79_row1_col1\" class=\"data row1 col1\" >0.295833</td>\n                        <td id=\"T_29d79_row1_col2\" class=\"data row1 col2\" >0.277500</td>\n                        <td id=\"T_29d79_row1_col3\" class=\"data row1 col3\" >1.140833</td>\n                        <td id=\"T_29d79_row1_col4\" class=\"data row1 col4\" >0.950833</td>\n                        <td id=\"T_29d79_row1_col5\" class=\"data row1 col5\" >0.721667</td>\n                        <td id=\"T_29d79_row1_col6\" class=\"data row1 col6\" >7.610833</td>\n                        <td id=\"T_29d79_row1_col7\" class=\"data row1 col7\" >5.122500</td>\n                        <td id=\"T_29d79_row1_col8\" class=\"data row1 col8\" >6.445833</td>\n                        <td id=\"T_29d79_row1_col9\" class=\"data row1 col9\" >17.629167</td>\n                        <td id=\"T_29d79_row1_col10\" class=\"data row1 col10\" >9.943333</td>\n                        <td id=\"T_29d79_row1_col11\" class=\"data row1 col11\" >14.082500</td>\n            </tr>\n            <tr>\n                        <th id=\"T_29d79_level0_row2\" class=\"row_heading level0 row2\" >2</th>\n                        <td id=\"T_29d79_row2_col0\" class=\"data row2 col0\" >2.575000</td>\n                        <td id=\"T_29d79_row2_col1\" class=\"data row2 col1\" >2.550556</td>\n                        <td id=\"T_29d79_row2_col2\" class=\"data row2 col2\" >2.561667</td>\n                        <td id=\"T_29d79_row2_col3\" class=\"data row2 col3\" >1.906111</td>\n                        <td id=\"T_29d79_row2_col4\" class=\"data row2 col4\" >2.535833</td>\n                        <td id=\"T_29d79_row2_col5\" class=\"data row2 col5\" >2.049167</td>\n                        <td id=\"T_29d79_row2_col6\" class=\"data row2 col6\" >12.253056</td>\n                        <td id=\"T_29d79_row2_col7\" class=\"data row2 col7\" >10.674444</td>\n                        <td id=\"T_29d79_row2_col8\" class=\"data row2 col8\" >11.482222</td>\n                        <td id=\"T_29d79_row2_col9\" class=\"data row2 col9\" >4.198889</td>\n                        <td id=\"T_29d79_row2_col10\" class=\"data row2 col10\" >3.453333</td>\n                        <td id=\"T_29d79_row2_col11\" class=\"data row2 col11\" >3.797778</td>\n            </tr>\n            <tr>\n                        <th id=\"T_29d79_level0_row3\" class=\"row_heading level0 row3\" >3</th>\n                        <td id=\"T_29d79_row3_col0\" class=\"data row3 col0\" >2.216667</td>\n                        <td id=\"T_29d79_row3_col1\" class=\"data row3 col1\" >1.985556</td>\n                        <td id=\"T_29d79_row3_col2\" class=\"data row3 col2\" >2.084444</td>\n                        <td id=\"T_29d79_row3_col3\" class=\"data row3 col3\" >3.525556</td>\n                        <td id=\"T_29d79_row3_col4\" class=\"data row3 col4\" >3.204444</td>\n                        <td id=\"T_29d79_row3_col5\" class=\"data row3 col5\" >3.210000</td>\n                        <td id=\"T_29d79_row3_col6\" class=\"data row3 col6\" >33.901111</td>\n                        <td id=\"T_29d79_row3_col7\" class=\"data row3 col7\" >33.630000</td>\n                        <td id=\"T_29d79_row3_col8\" class=\"data row3 col8\" >33.771111</td>\n                        <td id=\"T_29d79_row3_col9\" class=\"data row3 col9\" >2.826667</td>\n                        <td id=\"T_29d79_row3_col10\" class=\"data row3 col10\" >1.251111</td>\n                        <td id=\"T_29d79_row3_col11\" class=\"data row3 col11\" >1.921111</td>\n            </tr>\n            <tr>\n                        <th id=\"T_29d79_level0_row4\" class=\"row_heading level0 row4\" >4</th>\n                        <td id=\"T_29d79_row4_col0\" class=\"data row4 col0\" >10.237333</td>\n                        <td id=\"T_29d79_row4_col1\" class=\"data row4 col1\" >9.509333</td>\n                        <td id=\"T_29d79_row4_col2\" class=\"data row4 col2\" >9.872667</td>\n                        <td id=\"T_29d79_row4_col3\" class=\"data row4 col3\" >8.302667</td>\n                        <td id=\"T_29d79_row4_col4\" class=\"data row4 col4\" >8.688000</td>\n                        <td id=\"T_29d79_row4_col5\" class=\"data row4 col5\" >8.490667</td>\n                        <td id=\"T_29d79_row4_col6\" class=\"data row4 col6\" >22.805333</td>\n                        <td id=\"T_29d79_row4_col7\" class=\"data row4 col7\" >23.636667</td>\n                        <td id=\"T_29d79_row4_col8\" class=\"data row4 col8\" >23.205333</td>\n                        <td id=\"T_29d79_row4_col9\" class=\"data row4 col9\" >1.842667</td>\n                        <td id=\"T_29d79_row4_col10\" class=\"data row4 col10\" >1.594667</td>\n                        <td id=\"T_29d79_row4_col11\" class=\"data row4 col11\" >1.586667</td>\n            </tr>\n            <tr>\n                        <th id=\"T_29d79_level0_row5\" class=\"row_heading level0 row5\" >5</th>\n                        <td id=\"T_29d79_row5_col0\" class=\"data row5 col0\" >12.031111</td>\n                        <td id=\"T_29d79_row5_col1\" class=\"data row5 col1\" >11.621111</td>\n                        <td id=\"T_29d79_row5_col2\" class=\"data row5 col2\" >11.831111</td>\n                        <td id=\"T_29d79_row5_col3\" class=\"data row5 col3\" >7.586667</td>\n                        <td id=\"T_29d79_row5_col4\" class=\"data row5 col4\" >8.553333</td>\n                        <td id=\"T_29d79_row5_col5\" class=\"data row5 col5\" >8.073333</td>\n                        <td id=\"T_29d79_row5_col6\" class=\"data row5 col6\" >17.852222</td>\n                        <td id=\"T_29d79_row5_col7\" class=\"data row5 col7\" >18.188889</td>\n                        <td id=\"T_29d79_row5_col8\" class=\"data row5 col8\" >18.035556</td>\n                        <td id=\"T_29d79_row5_col9\" class=\"data row5 col9\" >11.048889</td>\n                        <td id=\"T_29d79_row5_col10\" class=\"data row5 col10\" >9.136667</td>\n                        <td id=\"T_29d79_row5_col11\" class=\"data row5 col11\" >10.131111</td>\n            </tr>\n    </tbody></table>"
     },
     "metadata": {},
     "execution_count": 162
    }
   ],
   "source": [
    "reqd=dropouts_result.groupby('Labels')[dropouts_result.columns[1:-1]].agg('mean')\n",
    "reqd.style.background_gradient(cmap='OrRd')"
   ]
  },
  {
   "cell_type": "code",
   "execution_count": null,
   "metadata": {},
   "outputs": [],
   "source": []
  },
  {
   "source": [
    "## Enrollments"
   ],
   "cell_type": "markdown",
   "metadata": {}
  },
  {
   "cell_type": "code",
   "execution_count": 163,
   "metadata": {},
   "outputs": [
    {
     "output_type": "execute_result",
     "data": {
      "text/plain": [
       "       Cluster 0        Cluster 1        Cluster 2           Cluster 3  \\\n",
       "0  A & N Islands   Andhra Pradesh            Assam  Arunachal  Pradesh   \n",
       "1     Chandigarh      Daman & Diu            Bihar             Manipur   \n",
       "2            Goa  Jammu & Kashmir          Gujarat           Meghalaya   \n",
       "3        Haryana        Rajasthan        Jharkhand                   -   \n",
       "4         Kerala    Uttar Pradesh        Karnataka                   -   \n",
       "5    Maharashtra                -  Madhya  Pradesh                   -   \n",
       "6     Puducherry                -         Nagaland                   -   \n",
       "7         Punjab                -           Odisha                   -   \n",
       "8    Tamil  Nadu                -      West Bengal                   -   \n",
       "9    Uttarakhand                -                -                   -   \n",
       "\n",
       "          Cluster 4             Cluster 5 Cluster 6  \n",
       "0  Himachal Pradesh          Chhattisgarh     Delhi  \n",
       "1       Lakshadweep  Dadra & Nagar Haveli   Mizoram  \n",
       "2                 -             Telangana    Sikkim  \n",
       "3                 -               Tripura         -  \n",
       "4                 -                     -         -  \n",
       "5                 -                     -         -  \n",
       "6                 -                     -         -  \n",
       "7                 -                     -         -  \n",
       "8                 -                     -         -  \n",
       "9                 -                     -         -  "
      ],
      "text/html": "<div>\n<style scoped>\n    .dataframe tbody tr th:only-of-type {\n        vertical-align: middle;\n    }\n\n    .dataframe tbody tr th {\n        vertical-align: top;\n    }\n\n    .dataframe thead th {\n        text-align: right;\n    }\n</style>\n<table border=\"1\" class=\"dataframe\">\n  <thead>\n    <tr style=\"text-align: right;\">\n      <th></th>\n      <th>Cluster 0</th>\n      <th>Cluster 1</th>\n      <th>Cluster 2</th>\n      <th>Cluster 3</th>\n      <th>Cluster 4</th>\n      <th>Cluster 5</th>\n      <th>Cluster 6</th>\n    </tr>\n  </thead>\n  <tbody>\n    <tr>\n      <th>0</th>\n      <td>A &amp; N Islands</td>\n      <td>Andhra Pradesh</td>\n      <td>Assam</td>\n      <td>Arunachal  Pradesh</td>\n      <td>Himachal Pradesh</td>\n      <td>Chhattisgarh</td>\n      <td>Delhi</td>\n    </tr>\n    <tr>\n      <th>1</th>\n      <td>Chandigarh</td>\n      <td>Daman &amp; Diu</td>\n      <td>Bihar</td>\n      <td>Manipur</td>\n      <td>Lakshadweep</td>\n      <td>Dadra &amp; Nagar Haveli</td>\n      <td>Mizoram</td>\n    </tr>\n    <tr>\n      <th>2</th>\n      <td>Goa</td>\n      <td>Jammu &amp; Kashmir</td>\n      <td>Gujarat</td>\n      <td>Meghalaya</td>\n      <td>-</td>\n      <td>Telangana</td>\n      <td>Sikkim</td>\n    </tr>\n    <tr>\n      <th>3</th>\n      <td>Haryana</td>\n      <td>Rajasthan</td>\n      <td>Jharkhand</td>\n      <td>-</td>\n      <td>-</td>\n      <td>Tripura</td>\n      <td>-</td>\n    </tr>\n    <tr>\n      <th>4</th>\n      <td>Kerala</td>\n      <td>Uttar Pradesh</td>\n      <td>Karnataka</td>\n      <td>-</td>\n      <td>-</td>\n      <td>-</td>\n      <td>-</td>\n    </tr>\n    <tr>\n      <th>5</th>\n      <td>Maharashtra</td>\n      <td>-</td>\n      <td>Madhya  Pradesh</td>\n      <td>-</td>\n      <td>-</td>\n      <td>-</td>\n      <td>-</td>\n    </tr>\n    <tr>\n      <th>6</th>\n      <td>Puducherry</td>\n      <td>-</td>\n      <td>Nagaland</td>\n      <td>-</td>\n      <td>-</td>\n      <td>-</td>\n      <td>-</td>\n    </tr>\n    <tr>\n      <th>7</th>\n      <td>Punjab</td>\n      <td>-</td>\n      <td>Odisha</td>\n      <td>-</td>\n      <td>-</td>\n      <td>-</td>\n      <td>-</td>\n    </tr>\n    <tr>\n      <th>8</th>\n      <td>Tamil  Nadu</td>\n      <td>-</td>\n      <td>West Bengal</td>\n      <td>-</td>\n      <td>-</td>\n      <td>-</td>\n      <td>-</td>\n    </tr>\n    <tr>\n      <th>9</th>\n      <td>Uttarakhand</td>\n      <td>-</td>\n      <td>-</td>\n      <td>-</td>\n      <td>-</td>\n      <td>-</td>\n      <td>-</td>\n    </tr>\n  </tbody>\n</table>\n</div>"
     },
     "metadata": {},
     "execution_count": 163
    },
    {
     "output_type": "display_data",
     "data": {
      "text/plain": "<Figure size 432x288 with 1 Axes>",
      "image/svg+xml": "<?xml version=\"1.0\" encoding=\"utf-8\" standalone=\"no\"?>\r\n<!DOCTYPE svg PUBLIC \"-//W3C//DTD SVG 1.1//EN\"\r\n  \"http://www.w3.org/Graphics/SVG/1.1/DTD/svg11.dtd\">\r\n<svg height=\"281.218287pt\" version=\"1.1\" viewBox=\"0 0 392.14375 281.218287\" width=\"392.14375pt\" xmlns=\"http://www.w3.org/2000/svg\" xmlns:xlink=\"http://www.w3.org/1999/xlink\">\r\n <metadata>\r\n  <rdf:RDF xmlns:cc=\"http://creativecommons.org/ns#\" xmlns:dc=\"http://purl.org/dc/elements/1.1/\" xmlns:rdf=\"http://www.w3.org/1999/02/22-rdf-syntax-ns#\">\r\n   <cc:Work>\r\n    <dc:type rdf:resource=\"http://purl.org/dc/dcmitype/StillImage\"/>\r\n    <dc:date>2021-05-26T17:47:39.875275</dc:date>\r\n    <dc:format>image/svg+xml</dc:format>\r\n    <dc:creator>\r\n     <cc:Agent>\r\n      <dc:title>Matplotlib v3.4.2, https://matplotlib.org/</dc:title>\r\n     </cc:Agent>\r\n    </dc:creator>\r\n   </cc:Work>\r\n  </rdf:RDF>\r\n </metadata>\r\n <defs>\r\n  <style type=\"text/css\">*{stroke-linecap:butt;stroke-linejoin:round;}</style>\r\n </defs>\r\n <g id=\"figure_1\">\r\n  <g id=\"patch_1\">\r\n   <path d=\"M 0 281.218287 \r\nL 392.14375 281.218287 \r\nL 392.14375 0 \r\nL 0 0 \r\nz\r\n\" style=\"fill:none;\"/>\r\n  </g>\r\n  <g id=\"axes_1\">\r\n   <g id=\"patch_2\">\r\n    <path d=\"M 50.14375 243.662037 \r\nL 384.94375 243.662037 \r\nL 384.94375 26.222037 \r\nL 50.14375 26.222037 \r\nz\r\n\" style=\"fill:#ffffff;\"/>\r\n   </g>\r\n   <g id=\"matplotlib.axis_1\">\r\n    <g id=\"xtick_1\">\r\n     <g id=\"line2d_1\">\r\n      <defs>\r\n       <path d=\"M 0 0 \r\nL 0 3.5 \r\n\" id=\"mfe1e196868\" style=\"stroke:#000000;stroke-width:0.8;\"/>\r\n      </defs>\r\n      <g>\r\n       <use style=\"stroke:#000000;stroke-width:0.8;\" x=\"65.361932\" xlink:href=\"#mfe1e196868\" y=\"243.662037\"/>\r\n      </g>\r\n     </g>\r\n     <g id=\"text_1\">\r\n      <!-- 0 -->\r\n      <g transform=\"translate(62.180682 258.260475)scale(0.1 -0.1)\">\r\n       <defs>\r\n        <path d=\"M 2034 4250 \r\nQ 1547 4250 1301 3770 \r\nQ 1056 3291 1056 2328 \r\nQ 1056 1369 1301 889 \r\nQ 1547 409 2034 409 \r\nQ 2525 409 2770 889 \r\nQ 3016 1369 3016 2328 \r\nQ 3016 3291 2770 3770 \r\nQ 2525 4250 2034 4250 \r\nz\r\nM 2034 4750 \r\nQ 2819 4750 3233 4129 \r\nQ 3647 3509 3647 2328 \r\nQ 3647 1150 3233 529 \r\nQ 2819 -91 2034 -91 \r\nQ 1250 -91 836 529 \r\nQ 422 1150 422 2328 \r\nQ 422 3509 836 4129 \r\nQ 1250 4750 2034 4750 \r\nz\r\n\" id=\"DejaVuSans-30\" transform=\"scale(0.015625)\"/>\r\n       </defs>\r\n       <use xlink:href=\"#DejaVuSans-30\"/>\r\n      </g>\r\n     </g>\r\n    </g>\r\n    <g id=\"xtick_2\">\r\n     <g id=\"line2d_2\">\r\n      <g>\r\n       <use style=\"stroke:#000000;stroke-width:0.8;\" x=\"114.452841\" xlink:href=\"#mfe1e196868\" y=\"243.662037\"/>\r\n      </g>\r\n     </g>\r\n     <g id=\"text_2\">\r\n      <!-- 5 -->\r\n      <g transform=\"translate(111.271591 258.260475)scale(0.1 -0.1)\">\r\n       <defs>\r\n        <path d=\"M 691 4666 \r\nL 3169 4666 \r\nL 3169 4134 \r\nL 1269 4134 \r\nL 1269 2991 \r\nQ 1406 3038 1543 3061 \r\nQ 1681 3084 1819 3084 \r\nQ 2600 3084 3056 2656 \r\nQ 3513 2228 3513 1497 \r\nQ 3513 744 3044 326 \r\nQ 2575 -91 1722 -91 \r\nQ 1428 -91 1123 -41 \r\nQ 819 9 494 109 \r\nL 494 744 \r\nQ 775 591 1075 516 \r\nQ 1375 441 1709 441 \r\nQ 2250 441 2565 725 \r\nQ 2881 1009 2881 1497 \r\nQ 2881 1984 2565 2268 \r\nQ 2250 2553 1709 2553 \r\nQ 1456 2553 1204 2497 \r\nQ 953 2441 691 2322 \r\nL 691 4666 \r\nz\r\n\" id=\"DejaVuSans-35\" transform=\"scale(0.015625)\"/>\r\n       </defs>\r\n       <use xlink:href=\"#DejaVuSans-35\"/>\r\n      </g>\r\n     </g>\r\n    </g>\r\n    <g id=\"xtick_3\">\r\n     <g id=\"line2d_3\">\r\n      <g>\r\n       <use style=\"stroke:#000000;stroke-width:0.8;\" x=\"163.54375\" xlink:href=\"#mfe1e196868\" y=\"243.662037\"/>\r\n      </g>\r\n     </g>\r\n     <g id=\"text_3\">\r\n      <!-- 10 -->\r\n      <g transform=\"translate(157.18125 258.260475)scale(0.1 -0.1)\">\r\n       <defs>\r\n        <path d=\"M 794 531 \r\nL 1825 531 \r\nL 1825 4091 \r\nL 703 3866 \r\nL 703 4441 \r\nL 1819 4666 \r\nL 2450 4666 \r\nL 2450 531 \r\nL 3481 531 \r\nL 3481 0 \r\nL 794 0 \r\nL 794 531 \r\nz\r\n\" id=\"DejaVuSans-31\" transform=\"scale(0.015625)\"/>\r\n       </defs>\r\n       <use xlink:href=\"#DejaVuSans-31\"/>\r\n       <use x=\"63.623047\" xlink:href=\"#DejaVuSans-30\"/>\r\n      </g>\r\n     </g>\r\n    </g>\r\n    <g id=\"xtick_4\">\r\n     <g id=\"line2d_4\">\r\n      <g>\r\n       <use style=\"stroke:#000000;stroke-width:0.8;\" x=\"212.634659\" xlink:href=\"#mfe1e196868\" y=\"243.662037\"/>\r\n      </g>\r\n     </g>\r\n     <g id=\"text_4\">\r\n      <!-- 15 -->\r\n      <g transform=\"translate(206.272159 258.260475)scale(0.1 -0.1)\">\r\n       <use xlink:href=\"#DejaVuSans-31\"/>\r\n       <use x=\"63.623047\" xlink:href=\"#DejaVuSans-35\"/>\r\n      </g>\r\n     </g>\r\n    </g>\r\n    <g id=\"xtick_5\">\r\n     <g id=\"line2d_5\">\r\n      <g>\r\n       <use style=\"stroke:#000000;stroke-width:0.8;\" x=\"261.725568\" xlink:href=\"#mfe1e196868\" y=\"243.662037\"/>\r\n      </g>\r\n     </g>\r\n     <g id=\"text_5\">\r\n      <!-- 20 -->\r\n      <g transform=\"translate(255.363068 258.260475)scale(0.1 -0.1)\">\r\n       <defs>\r\n        <path d=\"M 1228 531 \r\nL 3431 531 \r\nL 3431 0 \r\nL 469 0 \r\nL 469 531 \r\nQ 828 903 1448 1529 \r\nQ 2069 2156 2228 2338 \r\nQ 2531 2678 2651 2914 \r\nQ 2772 3150 2772 3378 \r\nQ 2772 3750 2511 3984 \r\nQ 2250 4219 1831 4219 \r\nQ 1534 4219 1204 4116 \r\nQ 875 4013 500 3803 \r\nL 500 4441 \r\nQ 881 4594 1212 4672 \r\nQ 1544 4750 1819 4750 \r\nQ 2544 4750 2975 4387 \r\nQ 3406 4025 3406 3419 \r\nQ 3406 3131 3298 2873 \r\nQ 3191 2616 2906 2266 \r\nQ 2828 2175 2409 1742 \r\nQ 1991 1309 1228 531 \r\nz\r\n\" id=\"DejaVuSans-32\" transform=\"scale(0.015625)\"/>\r\n       </defs>\r\n       <use xlink:href=\"#DejaVuSans-32\"/>\r\n       <use x=\"63.623047\" xlink:href=\"#DejaVuSans-30\"/>\r\n      </g>\r\n     </g>\r\n    </g>\r\n    <g id=\"xtick_6\">\r\n     <g id=\"line2d_6\">\r\n      <g>\r\n       <use style=\"stroke:#000000;stroke-width:0.8;\" x=\"310.816477\" xlink:href=\"#mfe1e196868\" y=\"243.662037\"/>\r\n      </g>\r\n     </g>\r\n     <g id=\"text_6\">\r\n      <!-- 25 -->\r\n      <g transform=\"translate(304.453977 258.260475)scale(0.1 -0.1)\">\r\n       <use xlink:href=\"#DejaVuSans-32\"/>\r\n       <use x=\"63.623047\" xlink:href=\"#DejaVuSans-35\"/>\r\n      </g>\r\n     </g>\r\n    </g>\r\n    <g id=\"xtick_7\">\r\n     <g id=\"line2d_7\">\r\n      <g>\r\n       <use style=\"stroke:#000000;stroke-width:0.8;\" x=\"359.907386\" xlink:href=\"#mfe1e196868\" y=\"243.662037\"/>\r\n      </g>\r\n     </g>\r\n     <g id=\"text_7\">\r\n      <!-- 30 -->\r\n      <g transform=\"translate(353.544886 258.260475)scale(0.1 -0.1)\">\r\n       <defs>\r\n        <path d=\"M 2597 2516 \r\nQ 3050 2419 3304 2112 \r\nQ 3559 1806 3559 1356 \r\nQ 3559 666 3084 287 \r\nQ 2609 -91 1734 -91 \r\nQ 1441 -91 1130 -33 \r\nQ 819 25 488 141 \r\nL 488 750 \r\nQ 750 597 1062 519 \r\nQ 1375 441 1716 441 \r\nQ 2309 441 2620 675 \r\nQ 2931 909 2931 1356 \r\nQ 2931 1769 2642 2001 \r\nQ 2353 2234 1838 2234 \r\nL 1294 2234 \r\nL 1294 2753 \r\nL 1863 2753 \r\nQ 2328 2753 2575 2939 \r\nQ 2822 3125 2822 3475 \r\nQ 2822 3834 2567 4026 \r\nQ 2313 4219 1838 4219 \r\nQ 1578 4219 1281 4162 \r\nQ 984 4106 628 3988 \r\nL 628 4550 \r\nQ 988 4650 1302 4700 \r\nQ 1616 4750 1894 4750 \r\nQ 2613 4750 3031 4423 \r\nQ 3450 4097 3450 3541 \r\nQ 3450 3153 3228 2886 \r\nQ 3006 2619 2597 2516 \r\nz\r\n\" id=\"DejaVuSans-33\" transform=\"scale(0.015625)\"/>\r\n       </defs>\r\n       <use xlink:href=\"#DejaVuSans-33\"/>\r\n       <use x=\"63.623047\" xlink:href=\"#DejaVuSans-30\"/>\r\n      </g>\r\n     </g>\r\n    </g>\r\n    <g id=\"text_8\">\r\n     <!-- No. of clusters -->\r\n     <g transform=\"translate(181.635938 271.9386)scale(0.1 -0.1)\">\r\n      <defs>\r\n       <path d=\"M 628 4666 \r\nL 1478 4666 \r\nL 3547 763 \r\nL 3547 4666 \r\nL 4159 4666 \r\nL 4159 0 \r\nL 3309 0 \r\nL 1241 3903 \r\nL 1241 0 \r\nL 628 0 \r\nL 628 4666 \r\nz\r\n\" id=\"DejaVuSans-4e\" transform=\"scale(0.015625)\"/>\r\n       <path d=\"M 1959 3097 \r\nQ 1497 3097 1228 2736 \r\nQ 959 2375 959 1747 \r\nQ 959 1119 1226 758 \r\nQ 1494 397 1959 397 \r\nQ 2419 397 2687 759 \r\nQ 2956 1122 2956 1747 \r\nQ 2956 2369 2687 2733 \r\nQ 2419 3097 1959 3097 \r\nz\r\nM 1959 3584 \r\nQ 2709 3584 3137 3096 \r\nQ 3566 2609 3566 1747 \r\nQ 3566 888 3137 398 \r\nQ 2709 -91 1959 -91 \r\nQ 1206 -91 779 398 \r\nQ 353 888 353 1747 \r\nQ 353 2609 779 3096 \r\nQ 1206 3584 1959 3584 \r\nz\r\n\" id=\"DejaVuSans-6f\" transform=\"scale(0.015625)\"/>\r\n       <path d=\"M 684 794 \r\nL 1344 794 \r\nL 1344 0 \r\nL 684 0 \r\nL 684 794 \r\nz\r\n\" id=\"DejaVuSans-2e\" transform=\"scale(0.015625)\"/>\r\n       <path id=\"DejaVuSans-20\" transform=\"scale(0.015625)\"/>\r\n       <path d=\"M 2375 4863 \r\nL 2375 4384 \r\nL 1825 4384 \r\nQ 1516 4384 1395 4259 \r\nQ 1275 4134 1275 3809 \r\nL 1275 3500 \r\nL 2222 3500 \r\nL 2222 3053 \r\nL 1275 3053 \r\nL 1275 0 \r\nL 697 0 \r\nL 697 3053 \r\nL 147 3053 \r\nL 147 3500 \r\nL 697 3500 \r\nL 697 3744 \r\nQ 697 4328 969 4595 \r\nQ 1241 4863 1831 4863 \r\nL 2375 4863 \r\nz\r\n\" id=\"DejaVuSans-66\" transform=\"scale(0.015625)\"/>\r\n       <path d=\"M 3122 3366 \r\nL 3122 2828 \r\nQ 2878 2963 2633 3030 \r\nQ 2388 3097 2138 3097 \r\nQ 1578 3097 1268 2742 \r\nQ 959 2388 959 1747 \r\nQ 959 1106 1268 751 \r\nQ 1578 397 2138 397 \r\nQ 2388 397 2633 464 \r\nQ 2878 531 3122 666 \r\nL 3122 134 \r\nQ 2881 22 2623 -34 \r\nQ 2366 -91 2075 -91 \r\nQ 1284 -91 818 406 \r\nQ 353 903 353 1747 \r\nQ 353 2603 823 3093 \r\nQ 1294 3584 2113 3584 \r\nQ 2378 3584 2631 3529 \r\nQ 2884 3475 3122 3366 \r\nz\r\n\" id=\"DejaVuSans-63\" transform=\"scale(0.015625)\"/>\r\n       <path d=\"M 603 4863 \r\nL 1178 4863 \r\nL 1178 0 \r\nL 603 0 \r\nL 603 4863 \r\nz\r\n\" id=\"DejaVuSans-6c\" transform=\"scale(0.015625)\"/>\r\n       <path d=\"M 544 1381 \r\nL 544 3500 \r\nL 1119 3500 \r\nL 1119 1403 \r\nQ 1119 906 1312 657 \r\nQ 1506 409 1894 409 \r\nQ 2359 409 2629 706 \r\nQ 2900 1003 2900 1516 \r\nL 2900 3500 \r\nL 3475 3500 \r\nL 3475 0 \r\nL 2900 0 \r\nL 2900 538 \r\nQ 2691 219 2414 64 \r\nQ 2138 -91 1772 -91 \r\nQ 1169 -91 856 284 \r\nQ 544 659 544 1381 \r\nz\r\nM 1991 3584 \r\nL 1991 3584 \r\nz\r\n\" id=\"DejaVuSans-75\" transform=\"scale(0.015625)\"/>\r\n       <path d=\"M 2834 3397 \r\nL 2834 2853 \r\nQ 2591 2978 2328 3040 \r\nQ 2066 3103 1784 3103 \r\nQ 1356 3103 1142 2972 \r\nQ 928 2841 928 2578 \r\nQ 928 2378 1081 2264 \r\nQ 1234 2150 1697 2047 \r\nL 1894 2003 \r\nQ 2506 1872 2764 1633 \r\nQ 3022 1394 3022 966 \r\nQ 3022 478 2636 193 \r\nQ 2250 -91 1575 -91 \r\nQ 1294 -91 989 -36 \r\nQ 684 19 347 128 \r\nL 347 722 \r\nQ 666 556 975 473 \r\nQ 1284 391 1588 391 \r\nQ 1994 391 2212 530 \r\nQ 2431 669 2431 922 \r\nQ 2431 1156 2273 1281 \r\nQ 2116 1406 1581 1522 \r\nL 1381 1569 \r\nQ 847 1681 609 1914 \r\nQ 372 2147 372 2553 \r\nQ 372 3047 722 3315 \r\nQ 1072 3584 1716 3584 \r\nQ 2034 3584 2315 3537 \r\nQ 2597 3491 2834 3397 \r\nz\r\n\" id=\"DejaVuSans-73\" transform=\"scale(0.015625)\"/>\r\n       <path d=\"M 1172 4494 \r\nL 1172 3500 \r\nL 2356 3500 \r\nL 2356 3053 \r\nL 1172 3053 \r\nL 1172 1153 \r\nQ 1172 725 1289 603 \r\nQ 1406 481 1766 481 \r\nL 2356 481 \r\nL 2356 0 \r\nL 1766 0 \r\nQ 1100 0 847 248 \r\nQ 594 497 594 1153 \r\nL 594 3053 \r\nL 172 3053 \r\nL 172 3500 \r\nL 594 3500 \r\nL 594 4494 \r\nL 1172 4494 \r\nz\r\n\" id=\"DejaVuSans-74\" transform=\"scale(0.015625)\"/>\r\n       <path d=\"M 3597 1894 \r\nL 3597 1613 \r\nL 953 1613 \r\nQ 991 1019 1311 708 \r\nQ 1631 397 2203 397 \r\nQ 2534 397 2845 478 \r\nQ 3156 559 3463 722 \r\nL 3463 178 \r\nQ 3153 47 2828 -22 \r\nQ 2503 -91 2169 -91 \r\nQ 1331 -91 842 396 \r\nQ 353 884 353 1716 \r\nQ 353 2575 817 3079 \r\nQ 1281 3584 2069 3584 \r\nQ 2775 3584 3186 3129 \r\nQ 3597 2675 3597 1894 \r\nz\r\nM 3022 2063 \r\nQ 3016 2534 2758 2815 \r\nQ 2500 3097 2075 3097 \r\nQ 1594 3097 1305 2825 \r\nQ 1016 2553 972 2059 \r\nL 3022 2063 \r\nz\r\n\" id=\"DejaVuSans-65\" transform=\"scale(0.015625)\"/>\r\n       <path d=\"M 2631 2963 \r\nQ 2534 3019 2420 3045 \r\nQ 2306 3072 2169 3072 \r\nQ 1681 3072 1420 2755 \r\nQ 1159 2438 1159 1844 \r\nL 1159 0 \r\nL 581 0 \r\nL 581 3500 \r\nL 1159 3500 \r\nL 1159 2956 \r\nQ 1341 3275 1631 3429 \r\nQ 1922 3584 2338 3584 \r\nQ 2397 3584 2469 3576 \r\nQ 2541 3569 2628 3553 \r\nL 2631 2963 \r\nz\r\n\" id=\"DejaVuSans-72\" transform=\"scale(0.015625)\"/>\r\n      </defs>\r\n      <use xlink:href=\"#DejaVuSans-4e\"/>\r\n      <use x=\"74.804688\" xlink:href=\"#DejaVuSans-6f\"/>\r\n      <use x=\"134.236328\" xlink:href=\"#DejaVuSans-2e\"/>\r\n      <use x=\"166.023438\" xlink:href=\"#DejaVuSans-20\"/>\r\n      <use x=\"197.810547\" xlink:href=\"#DejaVuSans-6f\"/>\r\n      <use x=\"258.992188\" xlink:href=\"#DejaVuSans-66\"/>\r\n      <use x=\"294.197266\" xlink:href=\"#DejaVuSans-20\"/>\r\n      <use x=\"325.984375\" xlink:href=\"#DejaVuSans-63\"/>\r\n      <use x=\"380.964844\" xlink:href=\"#DejaVuSans-6c\"/>\r\n      <use x=\"408.748047\" xlink:href=\"#DejaVuSans-75\"/>\r\n      <use x=\"472.126953\" xlink:href=\"#DejaVuSans-73\"/>\r\n      <use x=\"524.226562\" xlink:href=\"#DejaVuSans-74\"/>\r\n      <use x=\"563.435547\" xlink:href=\"#DejaVuSans-65\"/>\r\n      <use x=\"624.958984\" xlink:href=\"#DejaVuSans-72\"/>\r\n      <use x=\"666.072266\" xlink:href=\"#DejaVuSans-73\"/>\r\n     </g>\r\n    </g>\r\n   </g>\r\n   <g id=\"matplotlib.axis_2\">\r\n    <g id=\"ytick_1\">\r\n     <g id=\"line2d_8\">\r\n      <defs>\r\n       <path d=\"M 0 0 \r\nL -3.5 0 \r\n\" id=\"m80c7ba646b\" style=\"stroke:#000000;stroke-width:0.8;\"/>\r\n      </defs>\r\n      <g>\r\n       <use style=\"stroke:#000000;stroke-width:0.8;\" x=\"50.14375\" xlink:href=\"#m80c7ba646b\" y=\"242.454162\"/>\r\n      </g>\r\n     </g>\r\n     <g id=\"text_9\">\r\n      <!-- 0.00 -->\r\n      <g transform=\"translate(20.878125 246.253381)scale(0.1 -0.1)\">\r\n       <use xlink:href=\"#DejaVuSans-30\"/>\r\n       <use x=\"63.623047\" xlink:href=\"#DejaVuSans-2e\"/>\r\n       <use x=\"95.410156\" xlink:href=\"#DejaVuSans-30\"/>\r\n       <use x=\"159.033203\" xlink:href=\"#DejaVuSans-30\"/>\r\n      </g>\r\n     </g>\r\n    </g>\r\n    <g id=\"ytick_2\">\r\n     <g id=\"line2d_9\">\r\n      <g>\r\n       <use style=\"stroke:#000000;stroke-width:0.8;\" x=\"50.14375\" xlink:href=\"#m80c7ba646b\" y=\"208.975379\"/>\r\n      </g>\r\n     </g>\r\n     <g id=\"text_10\">\r\n      <!-- 0.05 -->\r\n      <g transform=\"translate(20.878125 212.774598)scale(0.1 -0.1)\">\r\n       <use xlink:href=\"#DejaVuSans-30\"/>\r\n       <use x=\"63.623047\" xlink:href=\"#DejaVuSans-2e\"/>\r\n       <use x=\"95.410156\" xlink:href=\"#DejaVuSans-30\"/>\r\n       <use x=\"159.033203\" xlink:href=\"#DejaVuSans-35\"/>\r\n      </g>\r\n     </g>\r\n    </g>\r\n    <g id=\"ytick_3\">\r\n     <g id=\"line2d_10\">\r\n      <g>\r\n       <use style=\"stroke:#000000;stroke-width:0.8;\" x=\"50.14375\" xlink:href=\"#m80c7ba646b\" y=\"175.496596\"/>\r\n      </g>\r\n     </g>\r\n     <g id=\"text_11\">\r\n      <!-- 0.10 -->\r\n      <g transform=\"translate(20.878125 179.295815)scale(0.1 -0.1)\">\r\n       <use xlink:href=\"#DejaVuSans-30\"/>\r\n       <use x=\"63.623047\" xlink:href=\"#DejaVuSans-2e\"/>\r\n       <use x=\"95.410156\" xlink:href=\"#DejaVuSans-31\"/>\r\n       <use x=\"159.033203\" xlink:href=\"#DejaVuSans-30\"/>\r\n      </g>\r\n     </g>\r\n    </g>\r\n    <g id=\"ytick_4\">\r\n     <g id=\"line2d_11\">\r\n      <g>\r\n       <use style=\"stroke:#000000;stroke-width:0.8;\" x=\"50.14375\" xlink:href=\"#m80c7ba646b\" y=\"142.017813\"/>\r\n      </g>\r\n     </g>\r\n     <g id=\"text_12\">\r\n      <!-- 0.15 -->\r\n      <g transform=\"translate(20.878125 145.817032)scale(0.1 -0.1)\">\r\n       <use xlink:href=\"#DejaVuSans-30\"/>\r\n       <use x=\"63.623047\" xlink:href=\"#DejaVuSans-2e\"/>\r\n       <use x=\"95.410156\" xlink:href=\"#DejaVuSans-31\"/>\r\n       <use x=\"159.033203\" xlink:href=\"#DejaVuSans-35\"/>\r\n      </g>\r\n     </g>\r\n    </g>\r\n    <g id=\"ytick_5\">\r\n     <g id=\"line2d_12\">\r\n      <g>\r\n       <use style=\"stroke:#000000;stroke-width:0.8;\" x=\"50.14375\" xlink:href=\"#m80c7ba646b\" y=\"108.53903\"/>\r\n      </g>\r\n     </g>\r\n     <g id=\"text_13\">\r\n      <!-- 0.20 -->\r\n      <g transform=\"translate(20.878125 112.338249)scale(0.1 -0.1)\">\r\n       <use xlink:href=\"#DejaVuSans-30\"/>\r\n       <use x=\"63.623047\" xlink:href=\"#DejaVuSans-2e\"/>\r\n       <use x=\"95.410156\" xlink:href=\"#DejaVuSans-32\"/>\r\n       <use x=\"159.033203\" xlink:href=\"#DejaVuSans-30\"/>\r\n      </g>\r\n     </g>\r\n    </g>\r\n    <g id=\"ytick_6\">\r\n     <g id=\"line2d_13\">\r\n      <g>\r\n       <use style=\"stroke:#000000;stroke-width:0.8;\" x=\"50.14375\" xlink:href=\"#m80c7ba646b\" y=\"75.060247\"/>\r\n      </g>\r\n     </g>\r\n     <g id=\"text_14\">\r\n      <!-- 0.25 -->\r\n      <g transform=\"translate(20.878125 78.859466)scale(0.1 -0.1)\">\r\n       <use xlink:href=\"#DejaVuSans-30\"/>\r\n       <use x=\"63.623047\" xlink:href=\"#DejaVuSans-2e\"/>\r\n       <use x=\"95.410156\" xlink:href=\"#DejaVuSans-32\"/>\r\n       <use x=\"159.033203\" xlink:href=\"#DejaVuSans-35\"/>\r\n      </g>\r\n     </g>\r\n    </g>\r\n    <g id=\"ytick_7\">\r\n     <g id=\"line2d_14\">\r\n      <g>\r\n       <use style=\"stroke:#000000;stroke-width:0.8;\" x=\"50.14375\" xlink:href=\"#m80c7ba646b\" y=\"41.581464\"/>\r\n      </g>\r\n     </g>\r\n     <g id=\"text_15\">\r\n      <!-- 0.30 -->\r\n      <g transform=\"translate(20.878125 45.380683)scale(0.1 -0.1)\">\r\n       <use xlink:href=\"#DejaVuSans-30\"/>\r\n       <use x=\"63.623047\" xlink:href=\"#DejaVuSans-2e\"/>\r\n       <use x=\"95.410156\" xlink:href=\"#DejaVuSans-33\"/>\r\n       <use x=\"159.033203\" xlink:href=\"#DejaVuSans-30\"/>\r\n      </g>\r\n     </g>\r\n    </g>\r\n    <g id=\"text_16\">\r\n     <!-- Silhoutte score -->\r\n     <g transform=\"translate(14.798438 172.310006)rotate(-90)scale(0.1 -0.1)\">\r\n      <defs>\r\n       <path d=\"M 3425 4513 \r\nL 3425 3897 \r\nQ 3066 4069 2747 4153 \r\nQ 2428 4238 2131 4238 \r\nQ 1616 4238 1336 4038 \r\nQ 1056 3838 1056 3469 \r\nQ 1056 3159 1242 3001 \r\nQ 1428 2844 1947 2747 \r\nL 2328 2669 \r\nQ 3034 2534 3370 2195 \r\nQ 3706 1856 3706 1288 \r\nQ 3706 609 3251 259 \r\nQ 2797 -91 1919 -91 \r\nQ 1588 -91 1214 -16 \r\nQ 841 59 441 206 \r\nL 441 856 \r\nQ 825 641 1194 531 \r\nQ 1563 422 1919 422 \r\nQ 2459 422 2753 634 \r\nQ 3047 847 3047 1241 \r\nQ 3047 1584 2836 1778 \r\nQ 2625 1972 2144 2069 \r\nL 1759 2144 \r\nQ 1053 2284 737 2584 \r\nQ 422 2884 422 3419 \r\nQ 422 4038 858 4394 \r\nQ 1294 4750 2059 4750 \r\nQ 2388 4750 2728 4690 \r\nQ 3069 4631 3425 4513 \r\nz\r\n\" id=\"DejaVuSans-53\" transform=\"scale(0.015625)\"/>\r\n       <path d=\"M 603 3500 \r\nL 1178 3500 \r\nL 1178 0 \r\nL 603 0 \r\nL 603 3500 \r\nz\r\nM 603 4863 \r\nL 1178 4863 \r\nL 1178 4134 \r\nL 603 4134 \r\nL 603 4863 \r\nz\r\n\" id=\"DejaVuSans-69\" transform=\"scale(0.015625)\"/>\r\n       <path d=\"M 3513 2113 \r\nL 3513 0 \r\nL 2938 0 \r\nL 2938 2094 \r\nQ 2938 2591 2744 2837 \r\nQ 2550 3084 2163 3084 \r\nQ 1697 3084 1428 2787 \r\nQ 1159 2491 1159 1978 \r\nL 1159 0 \r\nL 581 0 \r\nL 581 4863 \r\nL 1159 4863 \r\nL 1159 2956 \r\nQ 1366 3272 1645 3428 \r\nQ 1925 3584 2291 3584 \r\nQ 2894 3584 3203 3211 \r\nQ 3513 2838 3513 2113 \r\nz\r\n\" id=\"DejaVuSans-68\" transform=\"scale(0.015625)\"/>\r\n      </defs>\r\n      <use xlink:href=\"#DejaVuSans-53\"/>\r\n      <use x=\"63.476562\" xlink:href=\"#DejaVuSans-69\"/>\r\n      <use x=\"91.259766\" xlink:href=\"#DejaVuSans-6c\"/>\r\n      <use x=\"119.042969\" xlink:href=\"#DejaVuSans-68\"/>\r\n      <use x=\"182.421875\" xlink:href=\"#DejaVuSans-6f\"/>\r\n      <use x=\"243.603516\" xlink:href=\"#DejaVuSans-75\"/>\r\n      <use x=\"306.982422\" xlink:href=\"#DejaVuSans-74\"/>\r\n      <use x=\"346.191406\" xlink:href=\"#DejaVuSans-74\"/>\r\n      <use x=\"385.400391\" xlink:href=\"#DejaVuSans-65\"/>\r\n      <use x=\"446.923828\" xlink:href=\"#DejaVuSans-20\"/>\r\n      <use x=\"478.710938\" xlink:href=\"#DejaVuSans-73\"/>\r\n      <use x=\"530.810547\" xlink:href=\"#DejaVuSans-63\"/>\r\n      <use x=\"585.791016\" xlink:href=\"#DejaVuSans-6f\"/>\r\n      <use x=\"646.972656\" xlink:href=\"#DejaVuSans-72\"/>\r\n      <use x=\"685.835938\" xlink:href=\"#DejaVuSans-65\"/>\r\n     </g>\r\n    </g>\r\n   </g>\r\n   <g id=\"line2d_15\">\r\n    <path clip-path=\"url(#p49750e98db)\" d=\"M 65.361932 53.054773 \r\nL 75.180114 47.514428 \r\nL 84.998295 43.101943 \r\nL 94.816477 43.601349 \r\nL 104.634659 41.605977 \r\nL 114.452841 43.678663 \r\nL 124.271023 52.10036 \r\nL 134.089205 36.105673 \r\nL 143.907386 53.309937 \r\nL 153.725568 49.485159 \r\nL 163.54375 50.881366 \r\nL 173.361932 58.702439 \r\nL 183.180114 83.487798 \r\nL 192.998295 79.673955 \r\nL 202.816477 86.084757 \r\nL 212.634659 87.627518 \r\nL 222.452841 100.857236 \r\nL 232.271023 103.38264 \r\nL 242.089205 117.470766 \r\nL 251.907386 130.500391 \r\nL 261.725568 140.153094 \r\nL 271.54375 146.292916 \r\nL 281.361932 152.097841 \r\nL 291.180114 166.086701 \r\nL 300.998295 174.744121 \r\nL 310.816477 193.800072 \r\nL 320.634659 188.803817 \r\nL 330.452841 189.997306 \r\nL 340.271023 203.819721 \r\nL 350.089205 214.932748 \r\nL 359.907386 221.494025 \r\nL 369.725568 233.778401 \r\n\" style=\"fill:none;stroke:#1f77b4;stroke-linecap:square;stroke-width:1.5;\"/>\r\n   </g>\r\n   <g id=\"line2d_16\">\r\n    <path clip-path=\"url(#p49750e98db)\" d=\"M 134.089205 243.662037 \r\nL 134.089205 26.222037 \r\n\" style=\"fill:none;stroke:#1f77b4;stroke-linecap:square;stroke-width:1.5;\"/>\r\n   </g>\r\n   <g id=\"patch_3\">\r\n    <path d=\"M 50.14375 243.662037 \r\nL 50.14375 26.222037 \r\n\" style=\"fill:none;stroke:#000000;stroke-linecap:square;stroke-linejoin:miter;stroke-width:0.8;\"/>\r\n   </g>\r\n   <g id=\"patch_4\">\r\n    <path d=\"M 384.94375 243.662037 \r\nL 384.94375 26.222037 \r\n\" style=\"fill:none;stroke:#000000;stroke-linecap:square;stroke-linejoin:miter;stroke-width:0.8;\"/>\r\n   </g>\r\n   <g id=\"patch_5\">\r\n    <path d=\"M 50.14375 243.662037 \r\nL 384.94375 243.662037 \r\n\" style=\"fill:none;stroke:#000000;stroke-linecap:square;stroke-linejoin:miter;stroke-width:0.8;\"/>\r\n   </g>\r\n   <g id=\"patch_6\">\r\n    <path d=\"M 50.14375 26.222037 \r\nL 384.94375 26.222037 \r\n\" style=\"fill:none;stroke:#000000;stroke-linecap:square;stroke-linejoin:miter;stroke-width:0.8;\"/>\r\n   </g>\r\n   <g id=\"text_17\">\r\n    <!-- Max silhoutte score at n=7 -->\r\n    <g transform=\"translate(134.089205 14.798437)scale(0.1 -0.1)\">\r\n     <defs>\r\n      <path d=\"M 628 4666 \r\nL 1569 4666 \r\nL 2759 1491 \r\nL 3956 4666 \r\nL 4897 4666 \r\nL 4897 0 \r\nL 4281 0 \r\nL 4281 4097 \r\nL 3078 897 \r\nL 2444 897 \r\nL 1241 4097 \r\nL 1241 0 \r\nL 628 0 \r\nL 628 4666 \r\nz\r\n\" id=\"DejaVuSans-4d\" transform=\"scale(0.015625)\"/>\r\n      <path d=\"M 2194 1759 \r\nQ 1497 1759 1228 1600 \r\nQ 959 1441 959 1056 \r\nQ 959 750 1161 570 \r\nQ 1363 391 1709 391 \r\nQ 2188 391 2477 730 \r\nQ 2766 1069 2766 1631 \r\nL 2766 1759 \r\nL 2194 1759 \r\nz\r\nM 3341 1997 \r\nL 3341 0 \r\nL 2766 0 \r\nL 2766 531 \r\nQ 2569 213 2275 61 \r\nQ 1981 -91 1556 -91 \r\nQ 1019 -91 701 211 \r\nQ 384 513 384 1019 \r\nQ 384 1609 779 1909 \r\nQ 1175 2209 1959 2209 \r\nL 2766 2209 \r\nL 2766 2266 \r\nQ 2766 2663 2505 2880 \r\nQ 2244 3097 1772 3097 \r\nQ 1472 3097 1187 3025 \r\nQ 903 2953 641 2809 \r\nL 641 3341 \r\nQ 956 3463 1253 3523 \r\nQ 1550 3584 1831 3584 \r\nQ 2591 3584 2966 3190 \r\nQ 3341 2797 3341 1997 \r\nz\r\n\" id=\"DejaVuSans-61\" transform=\"scale(0.015625)\"/>\r\n      <path d=\"M 3513 3500 \r\nL 2247 1797 \r\nL 3578 0 \r\nL 2900 0 \r\nL 1881 1375 \r\nL 863 0 \r\nL 184 0 \r\nL 1544 1831 \r\nL 300 3500 \r\nL 978 3500 \r\nL 1906 2253 \r\nL 2834 3500 \r\nL 3513 3500 \r\nz\r\n\" id=\"DejaVuSans-78\" transform=\"scale(0.015625)\"/>\r\n      <path d=\"M 3513 2113 \r\nL 3513 0 \r\nL 2938 0 \r\nL 2938 2094 \r\nQ 2938 2591 2744 2837 \r\nQ 2550 3084 2163 3084 \r\nQ 1697 3084 1428 2787 \r\nQ 1159 2491 1159 1978 \r\nL 1159 0 \r\nL 581 0 \r\nL 581 3500 \r\nL 1159 3500 \r\nL 1159 2956 \r\nQ 1366 3272 1645 3428 \r\nQ 1925 3584 2291 3584 \r\nQ 2894 3584 3203 3211 \r\nQ 3513 2838 3513 2113 \r\nz\r\n\" id=\"DejaVuSans-6e\" transform=\"scale(0.015625)\"/>\r\n      <path d=\"M 678 2906 \r\nL 4684 2906 \r\nL 4684 2381 \r\nL 678 2381 \r\nL 678 2906 \r\nz\r\nM 678 1631 \r\nL 4684 1631 \r\nL 4684 1100 \r\nL 678 1100 \r\nL 678 1631 \r\nz\r\n\" id=\"DejaVuSans-3d\" transform=\"scale(0.015625)\"/>\r\n      <path d=\"M 525 4666 \r\nL 3525 4666 \r\nL 3525 4397 \r\nL 1831 0 \r\nL 1172 0 \r\nL 2766 4134 \r\nL 525 4134 \r\nL 525 4666 \r\nz\r\n\" id=\"DejaVuSans-37\" transform=\"scale(0.015625)\"/>\r\n     </defs>\r\n     <use xlink:href=\"#DejaVuSans-4d\"/>\r\n     <use x=\"86.279297\" xlink:href=\"#DejaVuSans-61\"/>\r\n     <use x=\"147.558594\" xlink:href=\"#DejaVuSans-78\"/>\r\n     <use x=\"206.738281\" xlink:href=\"#DejaVuSans-20\"/>\r\n     <use x=\"238.525391\" xlink:href=\"#DejaVuSans-73\"/>\r\n     <use x=\"290.625\" xlink:href=\"#DejaVuSans-69\"/>\r\n     <use x=\"318.408203\" xlink:href=\"#DejaVuSans-6c\"/>\r\n     <use x=\"346.191406\" xlink:href=\"#DejaVuSans-68\"/>\r\n     <use x=\"409.570312\" xlink:href=\"#DejaVuSans-6f\"/>\r\n     <use x=\"470.751953\" xlink:href=\"#DejaVuSans-75\"/>\r\n     <use x=\"534.130859\" xlink:href=\"#DejaVuSans-74\"/>\r\n     <use x=\"573.339844\" xlink:href=\"#DejaVuSans-74\"/>\r\n     <use x=\"612.548828\" xlink:href=\"#DejaVuSans-65\"/>\r\n     <use x=\"674.072266\" xlink:href=\"#DejaVuSans-20\"/>\r\n     <use x=\"705.859375\" xlink:href=\"#DejaVuSans-73\"/>\r\n     <use x=\"757.958984\" xlink:href=\"#DejaVuSans-63\"/>\r\n     <use x=\"812.939453\" xlink:href=\"#DejaVuSans-6f\"/>\r\n     <use x=\"874.121094\" xlink:href=\"#DejaVuSans-72\"/>\r\n     <use x=\"912.984375\" xlink:href=\"#DejaVuSans-65\"/>\r\n     <use x=\"974.507812\" xlink:href=\"#DejaVuSans-20\"/>\r\n     <use x=\"1006.294922\" xlink:href=\"#DejaVuSans-61\"/>\r\n     <use x=\"1067.574219\" xlink:href=\"#DejaVuSans-74\"/>\r\n     <use x=\"1106.783203\" xlink:href=\"#DejaVuSans-20\"/>\r\n     <use x=\"1138.570312\" xlink:href=\"#DejaVuSans-6e\"/>\r\n     <use x=\"1201.949219\" xlink:href=\"#DejaVuSans-3d\"/>\r\n     <use x=\"1285.738281\" xlink:href=\"#DejaVuSans-37\"/>\r\n    </g>\r\n   </g>\r\n   <g id=\"legend_1\">\r\n    <g id=\"patch_7\">\r\n     <path d=\"M 339.58125 48.900162 \r\nL 377.94375 48.900162 \r\nQ 379.94375 48.900162 379.94375 46.900162 \r\nL 379.94375 33.222037 \r\nQ 379.94375 31.222037 377.94375 31.222037 \r\nL 339.58125 31.222037 \r\nQ 337.58125 31.222037 337.58125 33.222037 \r\nL 337.58125 46.900162 \r\nQ 337.58125 48.900162 339.58125 48.900162 \r\nz\r\n\" style=\"fill:#ffffff;opacity:0.8;stroke:#cccccc;stroke-linejoin:miter;\"/>\r\n    </g>\r\n    <g id=\"line2d_17\">\r\n     <path d=\"M 341.58125 39.320475 \r\nL 361.58125 39.320475 \r\n\" style=\"fill:none;stroke:#1f77b4;stroke-linecap:square;stroke-width:1.5;\"/>\r\n    </g>\r\n    <g id=\"line2d_18\"/>\r\n    <g id=\"text_18\">\r\n     <!-- 0 -->\r\n     <g transform=\"translate(369.58125 42.820475)scale(0.1 -0.1)\">\r\n      <use xlink:href=\"#DejaVuSans-30\"/>\r\n     </g>\r\n    </g>\r\n   </g>\r\n  </g>\r\n </g>\r\n <defs>\r\n  <clipPath id=\"p49750e98db\">\r\n   <rect height=\"217.44\" width=\"334.8\" x=\"50.14375\" y=\"26.222037\"/>\r\n  </clipPath>\r\n </defs>\r\n</svg>\r\n",
      "image/png": "[encoded data removed]"
     },
     "metadata": {
      "needs_background": "light"
     }
    }
   ],
   "source": [
    "enrollments_x = create_aggregate(enrollments)\n",
    "enrollments_result=create_clusters(enrollments_x,['Primary_Total', 'Upper_Primary_Total', 'Secondary_Total','Higher_Secondary_Total'])\n",
    "enrollments_clusters=return_clusters(enrollments_result)"
   ]
  },
  {
   "cell_type": "code",
   "execution_count": null,
   "metadata": {},
   "outputs": [],
   "source": [
    "enrollments_clusters"
   ]
  },
  {
   "cell_type": "code",
   "execution_count": 164,
   "metadata": {},
   "outputs": [
    {
     "output_type": "execute_result",
     "data": {
      "text/plain": [
       "<pandas.io.formats.style.Styler at 0x1f8566754c0>"
      ],
      "text/html": "<style  type=\"text/css\" >\n#T_80640_row0_col0{\n            background-color:  #dbf1a4;\n            color:  #000000;\n        }#T_80640_row0_col1{\n            background-color:  #e2f4aa;\n            color:  #000000;\n        }#T_80640_row0_col2{\n            background-color:  #def2a7;\n            color:  #000000;\n        }#T_80640_row0_col3{\n            background-color:  #aedd8e;\n            color:  #000000;\n        }#T_80640_row0_col4{\n            background-color:  #9fd788;\n            color:  #000000;\n        }#T_80640_row0_col5{\n            background-color:  #a2d88a;\n            color:  #000000;\n        }#T_80640_row0_col6{\n            background-color:  #95d385;\n            color:  #000000;\n        }#T_80640_row0_col7,#T_80640_row5_col7{\n            background-color:  #89ce80;\n            color:  #000000;\n        }#T_80640_row0_col8{\n            background-color:  #8ed082;\n            color:  #000000;\n        }#T_80640_row0_col9{\n            background-color:  #86cc7f;\n            color:  #000000;\n        }#T_80640_row0_col10{\n            background-color:  #3ca458;\n            color:  #000000;\n        }#T_80640_row0_col11{\n            background-color:  #72c376;\n            color:  #000000;\n        }#T_80640_row1_col0,#T_80640_row1_col1,#T_80640_row1_col2,#T_80640_row1_col3,#T_80640_row1_col4,#T_80640_row1_col5,#T_80640_row1_col6,#T_80640_row1_col7,#T_80640_row1_col8,#T_80640_row3_col10,#T_80640_row4_col9,#T_80640_row4_col11{\n            background-color:  #ffffe5;\n            color:  #000000;\n        }#T_80640_row1_col9,#T_80640_row1_col10,#T_80640_row1_col11,#T_80640_row3_col6,#T_80640_row3_col7,#T_80640_row3_col8,#T_80640_row4_col3,#T_80640_row4_col4,#T_80640_row4_col5,#T_80640_row5_col0,#T_80640_row5_col1,#T_80640_row5_col2{\n            background-color:  #004529;\n            color:  #f1f1f1;\n        }#T_80640_row2_col0,#T_80640_row2_col7{\n            background-color:  #e7f6ad;\n            color:  #000000;\n        }#T_80640_row2_col1,#T_80640_row2_col2{\n            background-color:  #e6f5ac;\n            color:  #000000;\n        }#T_80640_row2_col3{\n            background-color:  #f8fcc0;\n            color:  #000000;\n        }#T_80640_row2_col4{\n            background-color:  #e4f4ab;\n            color:  #000000;\n        }#T_80640_row2_col5{\n            background-color:  #edf8b1;\n            color:  #000000;\n        }#T_80640_row2_col6,#T_80640_row2_col11{\n            background-color:  #ebf7b0;\n            color:  #000000;\n        }#T_80640_row2_col8{\n            background-color:  #e9f6af;\n            color:  #000000;\n        }#T_80640_row2_col9,#T_80640_row3_col1{\n            background-color:  #f1fab5;\n            color:  #000000;\n        }#T_80640_row2_col10{\n            background-color:  #d9f0a3;\n            color:  #000000;\n        }#T_80640_row3_col0{\n            background-color:  #edf8b2;\n            color:  #000000;\n        }#T_80640_row3_col2{\n            background-color:  #eff9b3;\n            color:  #000000;\n        }#T_80640_row3_col3{\n            background-color:  #bce395;\n            color:  #000000;\n        }#T_80640_row3_col4{\n            background-color:  #cbea9c;\n            color:  #000000;\n        }#T_80640_row3_col5{\n            background-color:  #c1e698;\n            color:  #000000;\n        }#T_80640_row3_col9{\n            background-color:  #fbfed0;\n            color:  #000000;\n        }#T_80640_row3_col11{\n            background-color:  #fdfedd;\n            color:  #000000;\n        }#T_80640_row4_col0{\n            background-color:  #086e3a;\n            color:  #f1f1f1;\n        }#T_80640_row4_col1{\n            background-color:  #11753d;\n            color:  #f1f1f1;\n        }#T_80640_row4_col2{\n            background-color:  #0c723b;\n            color:  #f1f1f1;\n        }#T_80640_row4_col6{\n            background-color:  #56b568;\n            color:  #000000;\n        }#T_80640_row4_col7{\n            background-color:  #3ba358;\n            color:  #000000;\n        }#T_80640_row4_col8{\n            background-color:  #45ad5f;\n            color:  #000000;\n        }#T_80640_row4_col10{\n            background-color:  #fcfed7;\n            color:  #000000;\n        }#T_80640_row5_col3{\n            background-color:  #006034;\n            color:  #f1f1f1;\n        }#T_80640_row5_col4{\n            background-color:  #00492b;\n            color:  #f1f1f1;\n        }#T_80640_row5_col5{\n            background-color:  #00532f;\n            color:  #f1f1f1;\n        }#T_80640_row5_col6{\n            background-color:  #a7db8c;\n            color:  #000000;\n        }#T_80640_row5_col8{\n            background-color:  #98d486;\n            color:  #000000;\n        }#T_80640_row5_col9{\n            background-color:  #53b466;\n            color:  #000000;\n        }#T_80640_row5_col10{\n            background-color:  #005e33;\n            color:  #f1f1f1;\n        }#T_80640_row5_col11{\n            background-color:  #329850;\n            color:  #000000;\n        }</style><table id=\"T_80640_\" ><thead>    <tr>        <th class=\"blank level0\" ></th>        <th class=\"col_heading level0 col0\" >PRIMARY_BOYS</th>        <th class=\"col_heading level0 col1\" >PRIMARY_GIRLS</th>        <th class=\"col_heading level0 col2\" >PRIMARY_TOTAL</th>        <th class=\"col_heading level0 col3\" >UPPER_PRIMARY_BOYS</th>        <th class=\"col_heading level0 col4\" >UPPER_PRIMARY_GIRLS</th>        <th class=\"col_heading level0 col5\" >UPPER_PRIMARY_TOTAL</th>        <th class=\"col_heading level0 col6\" >SECONDARY_BOYS</th>        <th class=\"col_heading level0 col7\" >SECONDARY_GIRLS</th>        <th class=\"col_heading level0 col8\" >SECONDARY_TOTAL</th>        <th class=\"col_heading level0 col9\" >HRSECONDARY_BOYS</th>        <th class=\"col_heading level0 col10\" >HRSECONDARY_GIRLS</th>        <th class=\"col_heading level0 col11\" >HRSECONDARY_TOTAL</th>    </tr>    <tr>        <th class=\"index_name level0\" >Labels</th>        <th class=\"blank\" ></th>        <th class=\"blank\" ></th>        <th class=\"blank\" ></th>        <th class=\"blank\" ></th>        <th class=\"blank\" ></th>        <th class=\"blank\" ></th>        <th class=\"blank\" ></th>        <th class=\"blank\" ></th>        <th class=\"blank\" ></th>        <th class=\"blank\" ></th>        <th class=\"blank\" ></th>        <th class=\"blank\" ></th>    </tr></thead><tbody>\n                <tr>\n                        <th id=\"T_80640_level0_row0\" class=\"row_heading level0 row0\" >0</th>\n                        <td id=\"T_80640_row0_col0\" class=\"data row0 col0\" >3.168148</td>\n                        <td id=\"T_80640_row0_col1\" class=\"data row0 col1\" >2.692593</td>\n                        <td id=\"T_80640_row0_col2\" class=\"data row0 col2\" >2.931481</td>\n                        <td id=\"T_80640_row0_col3\" class=\"data row0 col3\" >3.807778</td>\n                        <td id=\"T_80640_row0_col4\" class=\"data row0 col4\" >4.100370</td>\n                        <td id=\"T_80640_row0_col5\" class=\"data row0 col5\" >3.820370</td>\n                        <td id=\"T_80640_row0_col6\" class=\"data row0 col6\" >18.978148</td>\n                        <td id=\"T_80640_row0_col7\" class=\"data row0 col7\" >18.256296</td>\n                        <td id=\"T_80640_row0_col8\" class=\"data row0 col8\" >18.658519</td>\n                        <td id=\"T_80640_row0_col9\" class=\"data row0 col9\" >9.241481</td>\n                        <td id=\"T_80640_row0_col10\" class=\"data row0 col10\" >6.854444</td>\n                        <td id=\"T_80640_row0_col11\" class=\"data row0 col11\" >7.995926</td>\n            </tr>\n            <tr>\n                        <th id=\"T_80640_level0_row1\" class=\"row_heading level0 row1\" >1</th>\n                        <td id=\"T_80640_row1_col0\" class=\"data row1 col0\" >0.280000</td>\n                        <td id=\"T_80640_row1_col1\" class=\"data row1 col1\" >0.295833</td>\n                        <td id=\"T_80640_row1_col2\" class=\"data row1 col2\" >0.277500</td>\n                        <td id=\"T_80640_row1_col3\" class=\"data row1 col3\" >1.140833</td>\n                        <td id=\"T_80640_row1_col4\" class=\"data row1 col4\" >0.950833</td>\n                        <td id=\"T_80640_row1_col5\" class=\"data row1 col5\" >0.721667</td>\n                        <td id=\"T_80640_row1_col6\" class=\"data row1 col6\" >7.610833</td>\n                        <td id=\"T_80640_row1_col7\" class=\"data row1 col7\" >5.122500</td>\n                        <td id=\"T_80640_row1_col8\" class=\"data row1 col8\" >6.445833</td>\n                        <td id=\"T_80640_row1_col9\" class=\"data row1 col9\" >17.629167</td>\n                        <td id=\"T_80640_row1_col10\" class=\"data row1 col10\" >9.943333</td>\n                        <td id=\"T_80640_row1_col11\" class=\"data row1 col11\" >14.082500</td>\n            </tr>\n            <tr>\n                        <th id=\"T_80640_level0_row2\" class=\"row_heading level0 row2\" >2</th>\n                        <td id=\"T_80640_row2_col0\" class=\"data row2 col0\" >2.575000</td>\n                        <td id=\"T_80640_row2_col1\" class=\"data row2 col1\" >2.550556</td>\n                        <td id=\"T_80640_row2_col2\" class=\"data row2 col2\" >2.561667</td>\n                        <td id=\"T_80640_row2_col3\" class=\"data row2 col3\" >1.906111</td>\n                        <td id=\"T_80640_row2_col4\" class=\"data row2 col4\" >2.535833</td>\n                        <td id=\"T_80640_row2_col5\" class=\"data row2 col5\" >2.049167</td>\n                        <td id=\"T_80640_row2_col6\" class=\"data row2 col6\" >12.253056</td>\n                        <td id=\"T_80640_row2_col7\" class=\"data row2 col7\" >10.674444</td>\n                        <td id=\"T_80640_row2_col8\" class=\"data row2 col8\" >11.482222</td>\n                        <td id=\"T_80640_row2_col9\" class=\"data row2 col9\" >4.198889</td>\n                        <td id=\"T_80640_row2_col10\" class=\"data row2 col10\" >3.453333</td>\n                        <td id=\"T_80640_row2_col11\" class=\"data row2 col11\" >3.797778</td>\n            </tr>\n            <tr>\n                        <th id=\"T_80640_level0_row3\" class=\"row_heading level0 row3\" >3</th>\n                        <td id=\"T_80640_row3_col0\" class=\"data row3 col0\" >2.216667</td>\n                        <td id=\"T_80640_row3_col1\" class=\"data row3 col1\" >1.985556</td>\n                        <td id=\"T_80640_row3_col2\" class=\"data row3 col2\" >2.084444</td>\n                        <td id=\"T_80640_row3_col3\" class=\"data row3 col3\" >3.525556</td>\n                        <td id=\"T_80640_row3_col4\" class=\"data row3 col4\" >3.204444</td>\n                        <td id=\"T_80640_row3_col5\" class=\"data row3 col5\" >3.210000</td>\n                        <td id=\"T_80640_row3_col6\" class=\"data row3 col6\" >33.901111</td>\n                        <td id=\"T_80640_row3_col7\" class=\"data row3 col7\" >33.630000</td>\n                        <td id=\"T_80640_row3_col8\" class=\"data row3 col8\" >33.771111</td>\n                        <td id=\"T_80640_row3_col9\" class=\"data row3 col9\" >2.826667</td>\n                        <td id=\"T_80640_row3_col10\" class=\"data row3 col10\" >1.251111</td>\n                        <td id=\"T_80640_row3_col11\" class=\"data row3 col11\" >1.921111</td>\n            </tr>\n            <tr>\n                        <th id=\"T_80640_level0_row4\" class=\"row_heading level0 row4\" >4</th>\n                        <td id=\"T_80640_row4_col0\" class=\"data row4 col0\" >10.237333</td>\n                        <td id=\"T_80640_row4_col1\" class=\"data row4 col1\" >9.509333</td>\n                        <td id=\"T_80640_row4_col2\" class=\"data row4 col2\" >9.872667</td>\n                        <td id=\"T_80640_row4_col3\" class=\"data row4 col3\" >8.302667</td>\n                        <td id=\"T_80640_row4_col4\" class=\"data row4 col4\" >8.688000</td>\n                        <td id=\"T_80640_row4_col5\" class=\"data row4 col5\" >8.490667</td>\n                        <td id=\"T_80640_row4_col6\" class=\"data row4 col6\" >22.805333</td>\n                        <td id=\"T_80640_row4_col7\" class=\"data row4 col7\" >23.636667</td>\n                        <td id=\"T_80640_row4_col8\" class=\"data row4 col8\" >23.205333</td>\n                        <td id=\"T_80640_row4_col9\" class=\"data row4 col9\" >1.842667</td>\n                        <td id=\"T_80640_row4_col10\" class=\"data row4 col10\" >1.594667</td>\n                        <td id=\"T_80640_row4_col11\" class=\"data row4 col11\" >1.586667</td>\n            </tr>\n            <tr>\n                        <th id=\"T_80640_level0_row5\" class=\"row_heading level0 row5\" >5</th>\n                        <td id=\"T_80640_row5_col0\" class=\"data row5 col0\" >12.031111</td>\n                        <td id=\"T_80640_row5_col1\" class=\"data row5 col1\" >11.621111</td>\n                        <td id=\"T_80640_row5_col2\" class=\"data row5 col2\" >11.831111</td>\n                        <td id=\"T_80640_row5_col3\" class=\"data row5 col3\" >7.586667</td>\n                        <td id=\"T_80640_row5_col4\" class=\"data row5 col4\" >8.553333</td>\n                        <td id=\"T_80640_row5_col5\" class=\"data row5 col5\" >8.073333</td>\n                        <td id=\"T_80640_row5_col6\" class=\"data row5 col6\" >17.852222</td>\n                        <td id=\"T_80640_row5_col7\" class=\"data row5 col7\" >18.188889</td>\n                        <td id=\"T_80640_row5_col8\" class=\"data row5 col8\" >18.035556</td>\n                        <td id=\"T_80640_row5_col9\" class=\"data row5 col9\" >11.048889</td>\n                        <td id=\"T_80640_row5_col10\" class=\"data row5 col10\" >9.136667</td>\n                        <td id=\"T_80640_row5_col11\" class=\"data row5 col11\" >10.131111</td>\n            </tr>\n    </tbody></table>"
     },
     "metadata": {},
     "execution_count": 164
    }
   ],
   "source": [
    "reqd=dropouts_result.groupby('Labels')[dropouts_result.columns[1:-1]].agg('mean')\n",
    "reqd.style.background_gradient(cmap='YlGn')"
   ]
  },
  {
   "cell_type": "code",
   "execution_count": null,
   "metadata": {},
   "outputs": [],
   "source": []
  },
  {
   "source": [
    "## Other factors"
   ],
   "cell_type": "markdown",
   "metadata": {}
  },
  {
   "cell_type": "code",
   "execution_count": 165,
   "metadata": {},
   "outputs": [
    {
     "output_type": "execute_result",
     "data": {
      "text/plain": [
       "               Cluster 0           Cluster 1    Cluster 2\n",
       "0          A & N Islands  Arunachal  Pradesh   Chandigarh\n",
       "1         Andhra Pradesh               Assam        Delhi\n",
       "2   Dadra & Nagar Haveli               Bihar      Gujarat\n",
       "3            Daman & Diu        Chhattisgarh       Kerala\n",
       "4                    Goa     Jammu & Kashmir  Lakshadweep\n",
       "5                Haryana           Jharkhand   Puducherry\n",
       "6       Himachal Pradesh     Madhya  Pradesh            -\n",
       "7              Karnataka             Manipur            -\n",
       "8            Maharashtra           Meghalaya            -\n",
       "9                Mizoram            Nagaland            -\n",
       "10                Punjab              Odisha            -\n",
       "11                Sikkim           Rajasthan            -\n",
       "12           Tamil  Nadu             Tripura            -\n",
       "13             Telangana       Uttar Pradesh            -\n",
       "14           Uttarakhand         West Bengal            -"
      ],
      "text/html": "<div>\n<style scoped>\n    .dataframe tbody tr th:only-of-type {\n        vertical-align: middle;\n    }\n\n    .dataframe tbody tr th {\n        vertical-align: top;\n    }\n\n    .dataframe thead th {\n        text-align: right;\n    }\n</style>\n<table border=\"1\" class=\"dataframe\">\n  <thead>\n    <tr style=\"text-align: right;\">\n      <th></th>\n      <th>Cluster 0</th>\n      <th>Cluster 1</th>\n      <th>Cluster 2</th>\n    </tr>\n  </thead>\n  <tbody>\n    <tr>\n      <th>0</th>\n      <td>A &amp; N Islands</td>\n      <td>Arunachal  Pradesh</td>\n      <td>Chandigarh</td>\n    </tr>\n    <tr>\n      <th>1</th>\n      <td>Andhra Pradesh</td>\n      <td>Assam</td>\n      <td>Delhi</td>\n    </tr>\n    <tr>\n      <th>2</th>\n      <td>Dadra &amp; Nagar Haveli</td>\n      <td>Bihar</td>\n      <td>Gujarat</td>\n    </tr>\n    <tr>\n      <th>3</th>\n      <td>Daman &amp; Diu</td>\n      <td>Chhattisgarh</td>\n      <td>Kerala</td>\n    </tr>\n    <tr>\n      <th>4</th>\n      <td>Goa</td>\n      <td>Jammu &amp; Kashmir</td>\n      <td>Lakshadweep</td>\n    </tr>\n    <tr>\n      <th>5</th>\n      <td>Haryana</td>\n      <td>Jharkhand</td>\n      <td>Puducherry</td>\n    </tr>\n    <tr>\n      <th>6</th>\n      <td>Himachal Pradesh</td>\n      <td>Madhya  Pradesh</td>\n      <td>-</td>\n    </tr>\n    <tr>\n      <th>7</th>\n      <td>Karnataka</td>\n      <td>Manipur</td>\n      <td>-</td>\n    </tr>\n    <tr>\n      <th>8</th>\n      <td>Maharashtra</td>\n      <td>Meghalaya</td>\n      <td>-</td>\n    </tr>\n    <tr>\n      <th>9</th>\n      <td>Mizoram</td>\n      <td>Nagaland</td>\n      <td>-</td>\n    </tr>\n    <tr>\n      <th>10</th>\n      <td>Punjab</td>\n      <td>Odisha</td>\n      <td>-</td>\n    </tr>\n    <tr>\n      <th>11</th>\n      <td>Sikkim</td>\n      <td>Rajasthan</td>\n      <td>-</td>\n    </tr>\n    <tr>\n      <th>12</th>\n      <td>Tamil  Nadu</td>\n      <td>Tripura</td>\n      <td>-</td>\n    </tr>\n    <tr>\n      <th>13</th>\n      <td>Telangana</td>\n      <td>Uttar Pradesh</td>\n      <td>-</td>\n    </tr>\n    <tr>\n      <th>14</th>\n      <td>Uttarakhand</td>\n      <td>West Bengal</td>\n      <td>-</td>\n    </tr>\n  </tbody>\n</table>\n</div>"
     },
     "metadata": {},
     "execution_count": 165
    },
    {
     "output_type": "display_data",
     "data": {
      "text/plain": "<Figure size 432x288 with 1 Axes>",
      "image/svg+xml": "<?xml version=\"1.0\" encoding=\"utf-8\" standalone=\"no\"?>\r\n<!DOCTYPE svg PUBLIC \"-//W3C//DTD SVG 1.1//EN\"\r\n  \"http://www.w3.org/Graphics/SVG/1.1/DTD/svg11.dtd\">\r\n<svg height=\"262.19625pt\" version=\"1.1\" viewBox=\"0 0 385.78125 262.19625\" width=\"385.78125pt\" xmlns=\"http://www.w3.org/2000/svg\" xmlns:xlink=\"http://www.w3.org/1999/xlink\">\r\n <metadata>\r\n  <rdf:RDF xmlns:cc=\"http://creativecommons.org/ns#\" xmlns:dc=\"http://purl.org/dc/elements/1.1/\" xmlns:rdf=\"http://www.w3.org/1999/02/22-rdf-syntax-ns#\">\r\n   <cc:Work>\r\n    <dc:type rdf:resource=\"http://purl.org/dc/dcmitype/StillImage\"/>\r\n    <dc:date>2021-05-26T17:49:23.145767</dc:date>\r\n    <dc:format>image/svg+xml</dc:format>\r\n    <dc:creator>\r\n     <cc:Agent>\r\n      <dc:title>Matplotlib v3.4.2, https://matplotlib.org/</dc:title>\r\n     </cc:Agent>\r\n    </dc:creator>\r\n   </cc:Work>\r\n  </rdf:RDF>\r\n </metadata>\r\n <defs>\r\n  <style type=\"text/css\">*{stroke-linecap:butt;stroke-linejoin:round;}</style>\r\n </defs>\r\n <g id=\"figure_1\">\r\n  <g id=\"patch_1\">\r\n   <path d=\"M 0 262.19625 \r\nL 385.78125 262.19625 \r\nL 385.78125 0 \r\nL 0 0 \r\nz\r\n\" style=\"fill:none;\"/>\r\n  </g>\r\n  <g id=\"axes_1\">\r\n   <g id=\"patch_2\">\r\n    <path d=\"M 43.78125 224.64 \r\nL 378.58125 224.64 \r\nL 378.58125 7.2 \r\nL 43.78125 7.2 \r\nz\r\n\" style=\"fill:#ffffff;\"/>\r\n   </g>\r\n   <g id=\"matplotlib.axis_1\">\r\n    <g id=\"xtick_1\">\r\n     <g id=\"line2d_1\">\r\n      <defs>\r\n       <path d=\"M 0 0 \r\nL 0 3.5 \r\n\" id=\"m2e84c68fad\" style=\"stroke:#000000;stroke-width:0.8;\"/>\r\n      </defs>\r\n      <g>\r\n       <use style=\"stroke:#000000;stroke-width:0.8;\" x=\"58.999432\" xlink:href=\"#m2e84c68fad\" y=\"224.64\"/>\r\n      </g>\r\n     </g>\r\n     <g id=\"text_1\">\r\n      <!-- 0 -->\r\n      <g transform=\"translate(55.818182 239.238437)scale(0.1 -0.1)\">\r\n       <defs>\r\n        <path d=\"M 2034 4250 \r\nQ 1547 4250 1301 3770 \r\nQ 1056 3291 1056 2328 \r\nQ 1056 1369 1301 889 \r\nQ 1547 409 2034 409 \r\nQ 2525 409 2770 889 \r\nQ 3016 1369 3016 2328 \r\nQ 3016 3291 2770 3770 \r\nQ 2525 4250 2034 4250 \r\nz\r\nM 2034 4750 \r\nQ 2819 4750 3233 4129 \r\nQ 3647 3509 3647 2328 \r\nQ 3647 1150 3233 529 \r\nQ 2819 -91 2034 -91 \r\nQ 1250 -91 836 529 \r\nQ 422 1150 422 2328 \r\nQ 422 3509 836 4129 \r\nQ 1250 4750 2034 4750 \r\nz\r\n\" id=\"DejaVuSans-30\" transform=\"scale(0.015625)\"/>\r\n       </defs>\r\n       <use xlink:href=\"#DejaVuSans-30\"/>\r\n      </g>\r\n     </g>\r\n    </g>\r\n    <g id=\"xtick_2\">\r\n     <g id=\"line2d_2\">\r\n      <g>\r\n       <use style=\"stroke:#000000;stroke-width:0.8;\" x=\"108.090341\" xlink:href=\"#m2e84c68fad\" y=\"224.64\"/>\r\n      </g>\r\n     </g>\r\n     <g id=\"text_2\">\r\n      <!-- 5 -->\r\n      <g transform=\"translate(104.909091 239.238437)scale(0.1 -0.1)\">\r\n       <defs>\r\n        <path d=\"M 691 4666 \r\nL 3169 4666 \r\nL 3169 4134 \r\nL 1269 4134 \r\nL 1269 2991 \r\nQ 1406 3038 1543 3061 \r\nQ 1681 3084 1819 3084 \r\nQ 2600 3084 3056 2656 \r\nQ 3513 2228 3513 1497 \r\nQ 3513 744 3044 326 \r\nQ 2575 -91 1722 -91 \r\nQ 1428 -91 1123 -41 \r\nQ 819 9 494 109 \r\nL 494 744 \r\nQ 775 591 1075 516 \r\nQ 1375 441 1709 441 \r\nQ 2250 441 2565 725 \r\nQ 2881 1009 2881 1497 \r\nQ 2881 1984 2565 2268 \r\nQ 2250 2553 1709 2553 \r\nQ 1456 2553 1204 2497 \r\nQ 953 2441 691 2322 \r\nL 691 4666 \r\nz\r\n\" id=\"DejaVuSans-35\" transform=\"scale(0.015625)\"/>\r\n       </defs>\r\n       <use xlink:href=\"#DejaVuSans-35\"/>\r\n      </g>\r\n     </g>\r\n    </g>\r\n    <g id=\"xtick_3\">\r\n     <g id=\"line2d_3\">\r\n      <g>\r\n       <use style=\"stroke:#000000;stroke-width:0.8;\" x=\"157.18125\" xlink:href=\"#m2e84c68fad\" y=\"224.64\"/>\r\n      </g>\r\n     </g>\r\n     <g id=\"text_3\">\r\n      <!-- 10 -->\r\n      <g transform=\"translate(150.81875 239.238437)scale(0.1 -0.1)\">\r\n       <defs>\r\n        <path d=\"M 794 531 \r\nL 1825 531 \r\nL 1825 4091 \r\nL 703 3866 \r\nL 703 4441 \r\nL 1819 4666 \r\nL 2450 4666 \r\nL 2450 531 \r\nL 3481 531 \r\nL 3481 0 \r\nL 794 0 \r\nL 794 531 \r\nz\r\n\" id=\"DejaVuSans-31\" transform=\"scale(0.015625)\"/>\r\n       </defs>\r\n       <use xlink:href=\"#DejaVuSans-31\"/>\r\n       <use x=\"63.623047\" xlink:href=\"#DejaVuSans-30\"/>\r\n      </g>\r\n     </g>\r\n    </g>\r\n    <g id=\"xtick_4\">\r\n     <g id=\"line2d_4\">\r\n      <g>\r\n       <use style=\"stroke:#000000;stroke-width:0.8;\" x=\"206.272159\" xlink:href=\"#m2e84c68fad\" y=\"224.64\"/>\r\n      </g>\r\n     </g>\r\n     <g id=\"text_4\">\r\n      <!-- 15 -->\r\n      <g transform=\"translate(199.909659 239.238437)scale(0.1 -0.1)\">\r\n       <use xlink:href=\"#DejaVuSans-31\"/>\r\n       <use x=\"63.623047\" xlink:href=\"#DejaVuSans-35\"/>\r\n      </g>\r\n     </g>\r\n    </g>\r\n    <g id=\"xtick_5\">\r\n     <g id=\"line2d_5\">\r\n      <g>\r\n       <use style=\"stroke:#000000;stroke-width:0.8;\" x=\"255.363068\" xlink:href=\"#m2e84c68fad\" y=\"224.64\"/>\r\n      </g>\r\n     </g>\r\n     <g id=\"text_5\">\r\n      <!-- 20 -->\r\n      <g transform=\"translate(249.000568 239.238437)scale(0.1 -0.1)\">\r\n       <defs>\r\n        <path d=\"M 1228 531 \r\nL 3431 531 \r\nL 3431 0 \r\nL 469 0 \r\nL 469 531 \r\nQ 828 903 1448 1529 \r\nQ 2069 2156 2228 2338 \r\nQ 2531 2678 2651 2914 \r\nQ 2772 3150 2772 3378 \r\nQ 2772 3750 2511 3984 \r\nQ 2250 4219 1831 4219 \r\nQ 1534 4219 1204 4116 \r\nQ 875 4013 500 3803 \r\nL 500 4441 \r\nQ 881 4594 1212 4672 \r\nQ 1544 4750 1819 4750 \r\nQ 2544 4750 2975 4387 \r\nQ 3406 4025 3406 3419 \r\nQ 3406 3131 3298 2873 \r\nQ 3191 2616 2906 2266 \r\nQ 2828 2175 2409 1742 \r\nQ 1991 1309 1228 531 \r\nz\r\n\" id=\"DejaVuSans-32\" transform=\"scale(0.015625)\"/>\r\n       </defs>\r\n       <use xlink:href=\"#DejaVuSans-32\"/>\r\n       <use x=\"63.623047\" xlink:href=\"#DejaVuSans-30\"/>\r\n      </g>\r\n     </g>\r\n    </g>\r\n    <g id=\"xtick_6\">\r\n     <g id=\"line2d_6\">\r\n      <g>\r\n       <use style=\"stroke:#000000;stroke-width:0.8;\" x=\"304.453977\" xlink:href=\"#m2e84c68fad\" y=\"224.64\"/>\r\n      </g>\r\n     </g>\r\n     <g id=\"text_6\">\r\n      <!-- 25 -->\r\n      <g transform=\"translate(298.091477 239.238437)scale(0.1 -0.1)\">\r\n       <use xlink:href=\"#DejaVuSans-32\"/>\r\n       <use x=\"63.623047\" xlink:href=\"#DejaVuSans-35\"/>\r\n      </g>\r\n     </g>\r\n    </g>\r\n    <g id=\"xtick_7\">\r\n     <g id=\"line2d_7\">\r\n      <g>\r\n       <use style=\"stroke:#000000;stroke-width:0.8;\" x=\"353.544886\" xlink:href=\"#m2e84c68fad\" y=\"224.64\"/>\r\n      </g>\r\n     </g>\r\n     <g id=\"text_7\">\r\n      <!-- 30 -->\r\n      <g transform=\"translate(347.182386 239.238437)scale(0.1 -0.1)\">\r\n       <defs>\r\n        <path d=\"M 2597 2516 \r\nQ 3050 2419 3304 2112 \r\nQ 3559 1806 3559 1356 \r\nQ 3559 666 3084 287 \r\nQ 2609 -91 1734 -91 \r\nQ 1441 -91 1130 -33 \r\nQ 819 25 488 141 \r\nL 488 750 \r\nQ 750 597 1062 519 \r\nQ 1375 441 1716 441 \r\nQ 2309 441 2620 675 \r\nQ 2931 909 2931 1356 \r\nQ 2931 1769 2642 2001 \r\nQ 2353 2234 1838 2234 \r\nL 1294 2234 \r\nL 1294 2753 \r\nL 1863 2753 \r\nQ 2328 2753 2575 2939 \r\nQ 2822 3125 2822 3475 \r\nQ 2822 3834 2567 4026 \r\nQ 2313 4219 1838 4219 \r\nQ 1578 4219 1281 4162 \r\nQ 984 4106 628 3988 \r\nL 628 4550 \r\nQ 988 4650 1302 4700 \r\nQ 1616 4750 1894 4750 \r\nQ 2613 4750 3031 4423 \r\nQ 3450 4097 3450 3541 \r\nQ 3450 3153 3228 2886 \r\nQ 3006 2619 2597 2516 \r\nz\r\n\" id=\"DejaVuSans-33\" transform=\"scale(0.015625)\"/>\r\n       </defs>\r\n       <use xlink:href=\"#DejaVuSans-33\"/>\r\n       <use x=\"63.623047\" xlink:href=\"#DejaVuSans-30\"/>\r\n      </g>\r\n     </g>\r\n    </g>\r\n    <g id=\"text_8\">\r\n     <!-- No. of clusters -->\r\n     <g transform=\"translate(175.273438 252.916562)scale(0.1 -0.1)\">\r\n      <defs>\r\n       <path d=\"M 628 4666 \r\nL 1478 4666 \r\nL 3547 763 \r\nL 3547 4666 \r\nL 4159 4666 \r\nL 4159 0 \r\nL 3309 0 \r\nL 1241 3903 \r\nL 1241 0 \r\nL 628 0 \r\nL 628 4666 \r\nz\r\n\" id=\"DejaVuSans-4e\" transform=\"scale(0.015625)\"/>\r\n       <path d=\"M 1959 3097 \r\nQ 1497 3097 1228 2736 \r\nQ 959 2375 959 1747 \r\nQ 959 1119 1226 758 \r\nQ 1494 397 1959 397 \r\nQ 2419 397 2687 759 \r\nQ 2956 1122 2956 1747 \r\nQ 2956 2369 2687 2733 \r\nQ 2419 3097 1959 3097 \r\nz\r\nM 1959 3584 \r\nQ 2709 3584 3137 3096 \r\nQ 3566 2609 3566 1747 \r\nQ 3566 888 3137 398 \r\nQ 2709 -91 1959 -91 \r\nQ 1206 -91 779 398 \r\nQ 353 888 353 1747 \r\nQ 353 2609 779 3096 \r\nQ 1206 3584 1959 3584 \r\nz\r\n\" id=\"DejaVuSans-6f\" transform=\"scale(0.015625)\"/>\r\n       <path d=\"M 684 794 \r\nL 1344 794 \r\nL 1344 0 \r\nL 684 0 \r\nL 684 794 \r\nz\r\n\" id=\"DejaVuSans-2e\" transform=\"scale(0.015625)\"/>\r\n       <path id=\"DejaVuSans-20\" transform=\"scale(0.015625)\"/>\r\n       <path d=\"M 2375 4863 \r\nL 2375 4384 \r\nL 1825 4384 \r\nQ 1516 4384 1395 4259 \r\nQ 1275 4134 1275 3809 \r\nL 1275 3500 \r\nL 2222 3500 \r\nL 2222 3053 \r\nL 1275 3053 \r\nL 1275 0 \r\nL 697 0 \r\nL 697 3053 \r\nL 147 3053 \r\nL 147 3500 \r\nL 697 3500 \r\nL 697 3744 \r\nQ 697 4328 969 4595 \r\nQ 1241 4863 1831 4863 \r\nL 2375 4863 \r\nz\r\n\" id=\"DejaVuSans-66\" transform=\"scale(0.015625)\"/>\r\n       <path d=\"M 3122 3366 \r\nL 3122 2828 \r\nQ 2878 2963 2633 3030 \r\nQ 2388 3097 2138 3097 \r\nQ 1578 3097 1268 2742 \r\nQ 959 2388 959 1747 \r\nQ 959 1106 1268 751 \r\nQ 1578 397 2138 397 \r\nQ 2388 397 2633 464 \r\nQ 2878 531 3122 666 \r\nL 3122 134 \r\nQ 2881 22 2623 -34 \r\nQ 2366 -91 2075 -91 \r\nQ 1284 -91 818 406 \r\nQ 353 903 353 1747 \r\nQ 353 2603 823 3093 \r\nQ 1294 3584 2113 3584 \r\nQ 2378 3584 2631 3529 \r\nQ 2884 3475 3122 3366 \r\nz\r\n\" id=\"DejaVuSans-63\" transform=\"scale(0.015625)\"/>\r\n       <path d=\"M 603 4863 \r\nL 1178 4863 \r\nL 1178 0 \r\nL 603 0 \r\nL 603 4863 \r\nz\r\n\" id=\"DejaVuSans-6c\" transform=\"scale(0.015625)\"/>\r\n       <path d=\"M 544 1381 \r\nL 544 3500 \r\nL 1119 3500 \r\nL 1119 1403 \r\nQ 1119 906 1312 657 \r\nQ 1506 409 1894 409 \r\nQ 2359 409 2629 706 \r\nQ 2900 1003 2900 1516 \r\nL 2900 3500 \r\nL 3475 3500 \r\nL 3475 0 \r\nL 2900 0 \r\nL 2900 538 \r\nQ 2691 219 2414 64 \r\nQ 2138 -91 1772 -91 \r\nQ 1169 -91 856 284 \r\nQ 544 659 544 1381 \r\nz\r\nM 1991 3584 \r\nL 1991 3584 \r\nz\r\n\" id=\"DejaVuSans-75\" transform=\"scale(0.015625)\"/>\r\n       <path d=\"M 2834 3397 \r\nL 2834 2853 \r\nQ 2591 2978 2328 3040 \r\nQ 2066 3103 1784 3103 \r\nQ 1356 3103 1142 2972 \r\nQ 928 2841 928 2578 \r\nQ 928 2378 1081 2264 \r\nQ 1234 2150 1697 2047 \r\nL 1894 2003 \r\nQ 2506 1872 2764 1633 \r\nQ 3022 1394 3022 966 \r\nQ 3022 478 2636 193 \r\nQ 2250 -91 1575 -91 \r\nQ 1294 -91 989 -36 \r\nQ 684 19 347 128 \r\nL 347 722 \r\nQ 666 556 975 473 \r\nQ 1284 391 1588 391 \r\nQ 1994 391 2212 530 \r\nQ 2431 669 2431 922 \r\nQ 2431 1156 2273 1281 \r\nQ 2116 1406 1581 1522 \r\nL 1381 1569 \r\nQ 847 1681 609 1914 \r\nQ 372 2147 372 2553 \r\nQ 372 3047 722 3315 \r\nQ 1072 3584 1716 3584 \r\nQ 2034 3584 2315 3537 \r\nQ 2597 3491 2834 3397 \r\nz\r\n\" id=\"DejaVuSans-73\" transform=\"scale(0.015625)\"/>\r\n       <path d=\"M 1172 4494 \r\nL 1172 3500 \r\nL 2356 3500 \r\nL 2356 3053 \r\nL 1172 3053 \r\nL 1172 1153 \r\nQ 1172 725 1289 603 \r\nQ 1406 481 1766 481 \r\nL 2356 481 \r\nL 2356 0 \r\nL 1766 0 \r\nQ 1100 0 847 248 \r\nQ 594 497 594 1153 \r\nL 594 3053 \r\nL 172 3053 \r\nL 172 3500 \r\nL 594 3500 \r\nL 594 4494 \r\nL 1172 4494 \r\nz\r\n\" id=\"DejaVuSans-74\" transform=\"scale(0.015625)\"/>\r\n       <path d=\"M 3597 1894 \r\nL 3597 1613 \r\nL 953 1613 \r\nQ 991 1019 1311 708 \r\nQ 1631 397 2203 397 \r\nQ 2534 397 2845 478 \r\nQ 3156 559 3463 722 \r\nL 3463 178 \r\nQ 3153 47 2828 -22 \r\nQ 2503 -91 2169 -91 \r\nQ 1331 -91 842 396 \r\nQ 353 884 353 1716 \r\nQ 353 2575 817 3079 \r\nQ 1281 3584 2069 3584 \r\nQ 2775 3584 3186 3129 \r\nQ 3597 2675 3597 1894 \r\nz\r\nM 3022 2063 \r\nQ 3016 2534 2758 2815 \r\nQ 2500 3097 2075 3097 \r\nQ 1594 3097 1305 2825 \r\nQ 1016 2553 972 2059 \r\nL 3022 2063 \r\nz\r\n\" id=\"DejaVuSans-65\" transform=\"scale(0.015625)\"/>\r\n       <path d=\"M 2631 2963 \r\nQ 2534 3019 2420 3045 \r\nQ 2306 3072 2169 3072 \r\nQ 1681 3072 1420 2755 \r\nQ 1159 2438 1159 1844 \r\nL 1159 0 \r\nL 581 0 \r\nL 581 3500 \r\nL 1159 3500 \r\nL 1159 2956 \r\nQ 1341 3275 1631 3429 \r\nQ 1922 3584 2338 3584 \r\nQ 2397 3584 2469 3576 \r\nQ 2541 3569 2628 3553 \r\nL 2631 2963 \r\nz\r\n\" id=\"DejaVuSans-72\" transform=\"scale(0.015625)\"/>\r\n      </defs>\r\n      <use xlink:href=\"#DejaVuSans-4e\"/>\r\n      <use x=\"74.804688\" xlink:href=\"#DejaVuSans-6f\"/>\r\n      <use x=\"134.236328\" xlink:href=\"#DejaVuSans-2e\"/>\r\n      <use x=\"166.023438\" xlink:href=\"#DejaVuSans-20\"/>\r\n      <use x=\"197.810547\" xlink:href=\"#DejaVuSans-6f\"/>\r\n      <use x=\"258.992188\" xlink:href=\"#DejaVuSans-66\"/>\r\n      <use x=\"294.197266\" xlink:href=\"#DejaVuSans-20\"/>\r\n      <use x=\"325.984375\" xlink:href=\"#DejaVuSans-63\"/>\r\n      <use x=\"380.964844\" xlink:href=\"#DejaVuSans-6c\"/>\r\n      <use x=\"408.748047\" xlink:href=\"#DejaVuSans-75\"/>\r\n      <use x=\"472.126953\" xlink:href=\"#DejaVuSans-73\"/>\r\n      <use x=\"524.226562\" xlink:href=\"#DejaVuSans-74\"/>\r\n      <use x=\"563.435547\" xlink:href=\"#DejaVuSans-65\"/>\r\n      <use x=\"624.958984\" xlink:href=\"#DejaVuSans-72\"/>\r\n      <use x=\"666.072266\" xlink:href=\"#DejaVuSans-73\"/>\r\n     </g>\r\n    </g>\r\n   </g>\r\n   <g id=\"matplotlib.axis_2\">\r\n    <g id=\"ytick_1\">\r\n     <g id=\"line2d_8\">\r\n      <defs>\r\n       <path d=\"M 0 0 \r\nL -3.5 0 \r\n\" id=\"ma0d67be95f\" style=\"stroke:#000000;stroke-width:0.8;\"/>\r\n      </defs>\r\n      <g>\r\n       <use style=\"stroke:#000000;stroke-width:0.8;\" x=\"43.78125\" xlink:href=\"#ma0d67be95f\" y=\"178.848237\"/>\r\n      </g>\r\n     </g>\r\n     <g id=\"text_9\">\r\n      <!-- 0.1 -->\r\n      <g transform=\"translate(20.878125 182.647456)scale(0.1 -0.1)\">\r\n       <use xlink:href=\"#DejaVuSans-30\"/>\r\n       <use x=\"63.623047\" xlink:href=\"#DejaVuSans-2e\"/>\r\n       <use x=\"95.410156\" xlink:href=\"#DejaVuSans-31\"/>\r\n      </g>\r\n     </g>\r\n    </g>\r\n    <g id=\"ytick_2\">\r\n     <g id=\"line2d_9\">\r\n      <g>\r\n       <use style=\"stroke:#000000;stroke-width:0.8;\" x=\"43.78125\" xlink:href=\"#ma0d67be95f\" y=\"132.415373\"/>\r\n      </g>\r\n     </g>\r\n     <g id=\"text_10\">\r\n      <!-- 0.2 -->\r\n      <g transform=\"translate(20.878125 136.214592)scale(0.1 -0.1)\">\r\n       <use xlink:href=\"#DejaVuSans-30\"/>\r\n       <use x=\"63.623047\" xlink:href=\"#DejaVuSans-2e\"/>\r\n       <use x=\"95.410156\" xlink:href=\"#DejaVuSans-32\"/>\r\n      </g>\r\n     </g>\r\n    </g>\r\n    <g id=\"ytick_3\">\r\n     <g id=\"line2d_10\">\r\n      <g>\r\n       <use style=\"stroke:#000000;stroke-width:0.8;\" x=\"43.78125\" xlink:href=\"#ma0d67be95f\" y=\"85.98251\"/>\r\n      </g>\r\n     </g>\r\n     <g id=\"text_11\">\r\n      <!-- 0.3 -->\r\n      <g transform=\"translate(20.878125 89.781729)scale(0.1 -0.1)\">\r\n       <use xlink:href=\"#DejaVuSans-30\"/>\r\n       <use x=\"63.623047\" xlink:href=\"#DejaVuSans-2e\"/>\r\n       <use x=\"95.410156\" xlink:href=\"#DejaVuSans-33\"/>\r\n      </g>\r\n     </g>\r\n    </g>\r\n    <g id=\"ytick_4\">\r\n     <g id=\"line2d_11\">\r\n      <g>\r\n       <use style=\"stroke:#000000;stroke-width:0.8;\" x=\"43.78125\" xlink:href=\"#ma0d67be95f\" y=\"39.549647\"/>\r\n      </g>\r\n     </g>\r\n     <g id=\"text_12\">\r\n      <!-- 0.4 -->\r\n      <g transform=\"translate(20.878125 43.348865)scale(0.1 -0.1)\">\r\n       <defs>\r\n        <path d=\"M 2419 4116 \r\nL 825 1625 \r\nL 2419 1625 \r\nL 2419 4116 \r\nz\r\nM 2253 4666 \r\nL 3047 4666 \r\nL 3047 1625 \r\nL 3713 1625 \r\nL 3713 1100 \r\nL 3047 1100 \r\nL 3047 0 \r\nL 2419 0 \r\nL 2419 1100 \r\nL 313 1100 \r\nL 313 1709 \r\nL 2253 4666 \r\nz\r\n\" id=\"DejaVuSans-34\" transform=\"scale(0.015625)\"/>\r\n       </defs>\r\n       <use xlink:href=\"#DejaVuSans-30\"/>\r\n       <use x=\"63.623047\" xlink:href=\"#DejaVuSans-2e\"/>\r\n       <use x=\"95.410156\" xlink:href=\"#DejaVuSans-34\"/>\r\n      </g>\r\n     </g>\r\n    </g>\r\n    <g id=\"text_13\">\r\n     <!-- Silhoutte score -->\r\n     <g transform=\"translate(14.798438 153.287969)rotate(-90)scale(0.1 -0.1)\">\r\n      <defs>\r\n       <path d=\"M 3425 4513 \r\nL 3425 3897 \r\nQ 3066 4069 2747 4153 \r\nQ 2428 4238 2131 4238 \r\nQ 1616 4238 1336 4038 \r\nQ 1056 3838 1056 3469 \r\nQ 1056 3159 1242 3001 \r\nQ 1428 2844 1947 2747 \r\nL 2328 2669 \r\nQ 3034 2534 3370 2195 \r\nQ 3706 1856 3706 1288 \r\nQ 3706 609 3251 259 \r\nQ 2797 -91 1919 -91 \r\nQ 1588 -91 1214 -16 \r\nQ 841 59 441 206 \r\nL 441 856 \r\nQ 825 641 1194 531 \r\nQ 1563 422 1919 422 \r\nQ 2459 422 2753 634 \r\nQ 3047 847 3047 1241 \r\nQ 3047 1584 2836 1778 \r\nQ 2625 1972 2144 2069 \r\nL 1759 2144 \r\nQ 1053 2284 737 2584 \r\nQ 422 2884 422 3419 \r\nQ 422 4038 858 4394 \r\nQ 1294 4750 2059 4750 \r\nQ 2388 4750 2728 4690 \r\nQ 3069 4631 3425 4513 \r\nz\r\n\" id=\"DejaVuSans-53\" transform=\"scale(0.015625)\"/>\r\n       <path d=\"M 603 3500 \r\nL 1178 3500 \r\nL 1178 0 \r\nL 603 0 \r\nL 603 3500 \r\nz\r\nM 603 4863 \r\nL 1178 4863 \r\nL 1178 4134 \r\nL 603 4134 \r\nL 603 4863 \r\nz\r\n\" id=\"DejaVuSans-69\" transform=\"scale(0.015625)\"/>\r\n       <path d=\"M 3513 2113 \r\nL 3513 0 \r\nL 2938 0 \r\nL 2938 2094 \r\nQ 2938 2591 2744 2837 \r\nQ 2550 3084 2163 3084 \r\nQ 1697 3084 1428 2787 \r\nQ 1159 2491 1159 1978 \r\nL 1159 0 \r\nL 581 0 \r\nL 581 4863 \r\nL 1159 4863 \r\nL 1159 2956 \r\nQ 1366 3272 1645 3428 \r\nQ 1925 3584 2291 3584 \r\nQ 2894 3584 3203 3211 \r\nQ 3513 2838 3513 2113 \r\nz\r\n\" id=\"DejaVuSans-68\" transform=\"scale(0.015625)\"/>\r\n      </defs>\r\n      <use xlink:href=\"#DejaVuSans-53\"/>\r\n      <use x=\"63.476562\" xlink:href=\"#DejaVuSans-69\"/>\r\n      <use x=\"91.259766\" xlink:href=\"#DejaVuSans-6c\"/>\r\n      <use x=\"119.042969\" xlink:href=\"#DejaVuSans-68\"/>\r\n      <use x=\"182.421875\" xlink:href=\"#DejaVuSans-6f\"/>\r\n      <use x=\"243.603516\" xlink:href=\"#DejaVuSans-75\"/>\r\n      <use x=\"306.982422\" xlink:href=\"#DejaVuSans-74\"/>\r\n      <use x=\"346.191406\" xlink:href=\"#DejaVuSans-74\"/>\r\n      <use x=\"385.400391\" xlink:href=\"#DejaVuSans-65\"/>\r\n      <use x=\"446.923828\" xlink:href=\"#DejaVuSans-20\"/>\r\n      <use x=\"478.710938\" xlink:href=\"#DejaVuSans-73\"/>\r\n      <use x=\"530.810547\" xlink:href=\"#DejaVuSans-63\"/>\r\n      <use x=\"585.791016\" xlink:href=\"#DejaVuSans-6f\"/>\r\n      <use x=\"646.972656\" xlink:href=\"#DejaVuSans-72\"/>\r\n      <use x=\"685.835938\" xlink:href=\"#DejaVuSans-65\"/>\r\n     </g>\r\n    </g>\r\n   </g>\r\n   <g id=\"line2d_12\">\r\n    <path clip-path=\"url(#p3eefeb8358)\" d=\"M 58.999432 17.083636 \r\nL 68.817614 27.597814 \r\nL 78.635795 40.575629 \r\nL 88.453977 34.528632 \r\nL 98.272159 55.226456 \r\nL 108.090341 50.08995 \r\nL 117.908523 54.924698 \r\nL 127.726705 56.721753 \r\nL 137.544886 63.417023 \r\nL 147.363068 65.858812 \r\nL 157.18125 73.291645 \r\nL 166.999432 70.408381 \r\nL 176.817614 72.074261 \r\nL 186.635795 78.774299 \r\nL 196.453977 81.605358 \r\nL 206.272159 96.201474 \r\nL 216.090341 106.230959 \r\nL 225.908523 101.809046 \r\nL 235.726705 102.578019 \r\nL 245.544886 111.466186 \r\nL 255.363068 124.073551 \r\nL 265.18125 126.292878 \r\nL 274.999432 130.267328 \r\nL 284.817614 139.097245 \r\nL 294.635795 145.929655 \r\nL 304.453977 156.786427 \r\nL 314.272159 165.03495 \r\nL 324.090341 175.571013 \r\nL 333.908523 182.741513 \r\nL 343.726705 186.619555 \r\nL 353.544886 200.602038 \r\nL 363.363068 214.756364 \r\n\" style=\"fill:none;stroke:#1f77b4;stroke-linecap:square;stroke-width:1.5;\"/>\r\n   </g>\r\n   <g id=\"line2d_13\">\r\n    <path clip-path=\"url(#p3eefeb8358)\" d=\"M 88.453977 224.64 \r\nL 88.453977 7.2 \r\n\" style=\"fill:none;stroke:#1f77b4;stroke-linecap:square;stroke-width:1.5;\"/>\r\n   </g>\r\n   <g id=\"patch_3\">\r\n    <path d=\"M 43.78125 224.64 \r\nL 43.78125 7.2 \r\n\" style=\"fill:none;stroke:#000000;stroke-linecap:square;stroke-linejoin:miter;stroke-width:0.8;\"/>\r\n   </g>\r\n   <g id=\"patch_4\">\r\n    <path d=\"M 378.58125 224.64 \r\nL 378.58125 7.2 \r\n\" style=\"fill:none;stroke:#000000;stroke-linecap:square;stroke-linejoin:miter;stroke-width:0.8;\"/>\r\n   </g>\r\n   <g id=\"patch_5\">\r\n    <path d=\"M 43.78125 224.64 \r\nL 378.58125 224.64 \r\n\" style=\"fill:none;stroke:#000000;stroke-linecap:square;stroke-linejoin:miter;stroke-width:0.8;\"/>\r\n   </g>\r\n   <g id=\"patch_6\">\r\n    <path d=\"M 43.78125 7.2 \r\nL 378.58125 7.2 \r\n\" style=\"fill:none;stroke:#000000;stroke-linecap:square;stroke-linejoin:miter;stroke-width:0.8;\"/>\r\n   </g>\r\n   <g id=\"text_14\">\r\n    <!-- Max silhoutte score at n=3 -->\r\n    <g transform=\"translate(88.453977 67.409365)scale(0.1 -0.1)\">\r\n     <defs>\r\n      <path d=\"M 628 4666 \r\nL 1569 4666 \r\nL 2759 1491 \r\nL 3956 4666 \r\nL 4897 4666 \r\nL 4897 0 \r\nL 4281 0 \r\nL 4281 4097 \r\nL 3078 897 \r\nL 2444 897 \r\nL 1241 4097 \r\nL 1241 0 \r\nL 628 0 \r\nL 628 4666 \r\nz\r\n\" id=\"DejaVuSans-4d\" transform=\"scale(0.015625)\"/>\r\n      <path d=\"M 2194 1759 \r\nQ 1497 1759 1228 1600 \r\nQ 959 1441 959 1056 \r\nQ 959 750 1161 570 \r\nQ 1363 391 1709 391 \r\nQ 2188 391 2477 730 \r\nQ 2766 1069 2766 1631 \r\nL 2766 1759 \r\nL 2194 1759 \r\nz\r\nM 3341 1997 \r\nL 3341 0 \r\nL 2766 0 \r\nL 2766 531 \r\nQ 2569 213 2275 61 \r\nQ 1981 -91 1556 -91 \r\nQ 1019 -91 701 211 \r\nQ 384 513 384 1019 \r\nQ 384 1609 779 1909 \r\nQ 1175 2209 1959 2209 \r\nL 2766 2209 \r\nL 2766 2266 \r\nQ 2766 2663 2505 2880 \r\nQ 2244 3097 1772 3097 \r\nQ 1472 3097 1187 3025 \r\nQ 903 2953 641 2809 \r\nL 641 3341 \r\nQ 956 3463 1253 3523 \r\nQ 1550 3584 1831 3584 \r\nQ 2591 3584 2966 3190 \r\nQ 3341 2797 3341 1997 \r\nz\r\n\" id=\"DejaVuSans-61\" transform=\"scale(0.015625)\"/>\r\n      <path d=\"M 3513 3500 \r\nL 2247 1797 \r\nL 3578 0 \r\nL 2900 0 \r\nL 1881 1375 \r\nL 863 0 \r\nL 184 0 \r\nL 1544 1831 \r\nL 300 3500 \r\nL 978 3500 \r\nL 1906 2253 \r\nL 2834 3500 \r\nL 3513 3500 \r\nz\r\n\" id=\"DejaVuSans-78\" transform=\"scale(0.015625)\"/>\r\n      <path d=\"M 3513 2113 \r\nL 3513 0 \r\nL 2938 0 \r\nL 2938 2094 \r\nQ 2938 2591 2744 2837 \r\nQ 2550 3084 2163 3084 \r\nQ 1697 3084 1428 2787 \r\nQ 1159 2491 1159 1978 \r\nL 1159 0 \r\nL 581 0 \r\nL 581 3500 \r\nL 1159 3500 \r\nL 1159 2956 \r\nQ 1366 3272 1645 3428 \r\nQ 1925 3584 2291 3584 \r\nQ 2894 3584 3203 3211 \r\nQ 3513 2838 3513 2113 \r\nz\r\n\" id=\"DejaVuSans-6e\" transform=\"scale(0.015625)\"/>\r\n      <path d=\"M 678 2906 \r\nL 4684 2906 \r\nL 4684 2381 \r\nL 678 2381 \r\nL 678 2906 \r\nz\r\nM 678 1631 \r\nL 4684 1631 \r\nL 4684 1100 \r\nL 678 1100 \r\nL 678 1631 \r\nz\r\n\" id=\"DejaVuSans-3d\" transform=\"scale(0.015625)\"/>\r\n     </defs>\r\n     <use xlink:href=\"#DejaVuSans-4d\"/>\r\n     <use x=\"86.279297\" xlink:href=\"#DejaVuSans-61\"/>\r\n     <use x=\"147.558594\" xlink:href=\"#DejaVuSans-78\"/>\r\n     <use x=\"206.738281\" xlink:href=\"#DejaVuSans-20\"/>\r\n     <use x=\"238.525391\" xlink:href=\"#DejaVuSans-73\"/>\r\n     <use x=\"290.625\" xlink:href=\"#DejaVuSans-69\"/>\r\n     <use x=\"318.408203\" xlink:href=\"#DejaVuSans-6c\"/>\r\n     <use x=\"346.191406\" xlink:href=\"#DejaVuSans-68\"/>\r\n     <use x=\"409.570312\" xlink:href=\"#DejaVuSans-6f\"/>\r\n     <use x=\"470.751953\" xlink:href=\"#DejaVuSans-75\"/>\r\n     <use x=\"534.130859\" xlink:href=\"#DejaVuSans-74\"/>\r\n     <use x=\"573.339844\" xlink:href=\"#DejaVuSans-74\"/>\r\n     <use x=\"612.548828\" xlink:href=\"#DejaVuSans-65\"/>\r\n     <use x=\"674.072266\" xlink:href=\"#DejaVuSans-20\"/>\r\n     <use x=\"705.859375\" xlink:href=\"#DejaVuSans-73\"/>\r\n     <use x=\"757.958984\" xlink:href=\"#DejaVuSans-63\"/>\r\n     <use x=\"812.939453\" xlink:href=\"#DejaVuSans-6f\"/>\r\n     <use x=\"874.121094\" xlink:href=\"#DejaVuSans-72\"/>\r\n     <use x=\"912.984375\" xlink:href=\"#DejaVuSans-65\"/>\r\n     <use x=\"974.507812\" xlink:href=\"#DejaVuSans-20\"/>\r\n     <use x=\"1006.294922\" xlink:href=\"#DejaVuSans-61\"/>\r\n     <use x=\"1067.574219\" xlink:href=\"#DejaVuSans-74\"/>\r\n     <use x=\"1106.783203\" xlink:href=\"#DejaVuSans-20\"/>\r\n     <use x=\"1138.570312\" xlink:href=\"#DejaVuSans-6e\"/>\r\n     <use x=\"1201.949219\" xlink:href=\"#DejaVuSans-3d\"/>\r\n     <use x=\"1285.738281\" xlink:href=\"#DejaVuSans-33\"/>\r\n    </g>\r\n   </g>\r\n   <g id=\"legend_1\">\r\n    <g id=\"patch_7\">\r\n     <path d=\"M 333.21875 29.878125 \r\nL 371.58125 29.878125 \r\nQ 373.58125 29.878125 373.58125 27.878125 \r\nL 373.58125 14.2 \r\nQ 373.58125 12.2 371.58125 12.2 \r\nL 333.21875 12.2 \r\nQ 331.21875 12.2 331.21875 14.2 \r\nL 331.21875 27.878125 \r\nQ 331.21875 29.878125 333.21875 29.878125 \r\nz\r\n\" style=\"fill:#ffffff;opacity:0.8;stroke:#cccccc;stroke-linejoin:miter;\"/>\r\n    </g>\r\n    <g id=\"line2d_14\">\r\n     <path d=\"M 335.21875 20.298437 \r\nL 355.21875 20.298437 \r\n\" style=\"fill:none;stroke:#1f77b4;stroke-linecap:square;stroke-width:1.5;\"/>\r\n    </g>\r\n    <g id=\"line2d_15\"/>\r\n    <g id=\"text_15\">\r\n     <!-- 0 -->\r\n     <g transform=\"translate(363.21875 23.798437)scale(0.1 -0.1)\">\r\n      <use xlink:href=\"#DejaVuSans-30\"/>\r\n     </g>\r\n    </g>\r\n   </g>\r\n  </g>\r\n </g>\r\n <defs>\r\n  <clipPath id=\"p3eefeb8358\">\r\n   <rect height=\"217.44\" width=\"334.8\" x=\"43.78125\" y=\"7.2\"/>\r\n  </clipPath>\r\n </defs>\r\n</svg>\r\n",
      "image/png": "[encoded data removed]"
     },
     "metadata": {
      "needs_background": "light"
     }
    }
   ],
   "source": [
    "factors_result=create_clusters(factors.drop(['State'],axis=1),['Drinking water', 'Electricity', 'Computer', 'Boys toilet',\n",
    "       'Girls toilet'])\n",
    "factors_clusters=return_clusters(factors_result)"
   ]
  },
  {
   "cell_type": "code",
   "execution_count": null,
   "metadata": {},
   "outputs": [],
   "source": [
    "reqd=factors_result.groupby('Labels')[factors_result.columns[1:-1]].agg('mean')\n",
    "reqd.style.background_gradient(cmap='GnBu')"
   ]
  },
  {
   "source": [
    "## Analysis"
   ],
   "cell_type": "markdown",
   "metadata": {}
  },
  {
   "cell_type": "code",
   "execution_count": 175,
   "metadata": {},
   "outputs": [],
   "source": [
    "dropouts_result=dropouts_result[['State','PRIMARY_TOTAL', 'UPPER_PRIMARY_TOTAL', 'SECONDARY_TOTAL','HRSECONDARY_TOTAL']]\n",
    "dropouts_result.set_index(['State'],inplace=True)"
   ]
  },
  {
   "cell_type": "code",
   "execution_count": 176,
   "metadata": {},
   "outputs": [],
   "source": [
    "enrollments_result=enrollments_result[['State','Primary_Total', 'Upper_Primary_Total', 'Secondary_Total','Higher_Secondary_Total']]\n",
    "enrollments_result.set_index(['State'],inplace=True)"
   ]
  },
  {
   "cell_type": "code",
   "execution_count": 178,
   "metadata": {},
   "outputs": [],
   "source": [
    "factors_result.set_index(['State'],inplace=True)"
   ]
  },
  {
   "cell_type": "code",
   "execution_count": 183,
   "metadata": {},
   "outputs": [],
   "source": [
    "dataset=pd.concat([dropouts_result,enrollments_result,factors_result.drop(['Labels'],axis=1)],axis=1)\n",
    "cols=[]\n",
    "for col in dataset.columns[:4]:\n",
    "    cols.append(\"Dropout-\"+col[:-6])\n",
    "for col in dataset.columns[4:8]:\n",
    "    cols.append(\"Enrollments-\"+col[:-6])\n",
    "for col in dataset.columns[8:]:\n",
    "    cols.append(col)  \n",
    "dataset.columns=cols"
   ]
  },
  {
   "cell_type": "code",
   "execution_count": 185,
   "metadata": {},
   "outputs": [
    {
     "output_type": "execute_result",
     "data": {
      "text/plain": [
       "                    Dropout-PRIMARY  Dropout-UPPER_PRIMARY  Dropout-SECONDARY  \\\n",
       "State                                                                           \n",
       "A & N Islands              0.800000               1.143333           7.543333   \n",
       "Andhra Pradesh             4.750000               4.113333          13.693333   \n",
       "Arunachal  Pradesh        12.290000               6.590000          14.843333   \n",
       "Assam                      9.680000               8.253333          28.086667   \n",
       "Bihar                      0.696667               2.353333          27.123333   \n",
       "\n",
       "                    Dropout-HRSECONDARY  Enrollments-Primary  \\\n",
       "State                                                          \n",
       "A & N Islands                 15.646667            91.260000   \n",
       "Andhra Pradesh                 4.046667            89.810000   \n",
       "Arunachal  Pradesh            13.533333           127.783333   \n",
       "Assam                          3.976667           111.500000   \n",
       "Bihar                          0.000000           102.240000   \n",
       "\n",
       "                    Enrollments-Upper_Primary  Enrollments-Secondary  \\\n",
       "State                                                                  \n",
       "A & N Islands                       87.863333              93.243333   \n",
       "Andhra Pradesh                      81.456667              74.370000   \n",
       "Arunachal  Pradesh                 122.200000              89.300000   \n",
       "Assam                               94.013333              74.526667   \n",
       "Bihar                               97.733333              69.180000   \n",
       "\n",
       "                    Enrollments-Higher_Secondary  Drinking water  Electricity  \\\n",
       "State                                                                           \n",
       "A & N Islands                          90.000000           98.69        88.86   \n",
       "Andhra Pradesh                         57.000000           90.35        90.34   \n",
       "Arunachal  Pradesh                     64.666667           79.79        36.35   \n",
       "Assam                                  34.333333           80.30        19.39   \n",
       "Bihar                                  29.666667           92.53         9.96   \n",
       "\n",
       "                    Computer  Boys toilet  Girls toilet  \n",
       "State                                                    \n",
       "A & N Islands          53.06        94.52         93.44  \n",
       "Andhra Pradesh         29.57        56.88         81.31  \n",
       "Arunachal  Pradesh     24.28        48.73         76.90  \n",
       "Assam                   8.85        60.17         75.28  \n",
       "Bihar                   5.47        73.42         75.41  "
      ],
      "text/html": "<div>\n<style scoped>\n    .dataframe tbody tr th:only-of-type {\n        vertical-align: middle;\n    }\n\n    .dataframe tbody tr th {\n        vertical-align: top;\n    }\n\n    .dataframe thead th {\n        text-align: right;\n    }\n</style>\n<table border=\"1\" class=\"dataframe\">\n  <thead>\n    <tr style=\"text-align: right;\">\n      <th></th>\n      <th>Dropout-PRIMARY</th>\n      <th>Dropout-UPPER_PRIMARY</th>\n      <th>Dropout-SECONDARY</th>\n      <th>Dropout-HRSECONDARY</th>\n      <th>Enrollments-Primary</th>\n      <th>Enrollments-Upper_Primary</th>\n      <th>Enrollments-Secondary</th>\n      <th>Enrollments-Higher_Secondary</th>\n      <th>Drinking water</th>\n      <th>Electricity</th>\n      <th>Computer</th>\n      <th>Boys toilet</th>\n      <th>Girls toilet</th>\n    </tr>\n    <tr>\n      <th>State</th>\n      <th></th>\n      <th></th>\n      <th></th>\n      <th></th>\n      <th></th>\n      <th></th>\n      <th></th>\n      <th></th>\n      <th></th>\n      <th></th>\n      <th></th>\n      <th></th>\n      <th></th>\n    </tr>\n  </thead>\n  <tbody>\n    <tr>\n      <th>A &amp; N Islands</th>\n      <td>0.800000</td>\n      <td>1.143333</td>\n      <td>7.543333</td>\n      <td>15.646667</td>\n      <td>91.260000</td>\n      <td>87.863333</td>\n      <td>93.243333</td>\n      <td>90.000000</td>\n      <td>98.69</td>\n      <td>88.86</td>\n      <td>53.06</td>\n      <td>94.52</td>\n      <td>93.44</td>\n    </tr>\n    <tr>\n      <th>Andhra Pradesh</th>\n      <td>4.750000</td>\n      <td>4.113333</td>\n      <td>13.693333</td>\n      <td>4.046667</td>\n      <td>89.810000</td>\n      <td>81.456667</td>\n      <td>74.370000</td>\n      <td>57.000000</td>\n      <td>90.35</td>\n      <td>90.34</td>\n      <td>29.57</td>\n      <td>56.88</td>\n      <td>81.31</td>\n    </tr>\n    <tr>\n      <th>Arunachal  Pradesh</th>\n      <td>12.290000</td>\n      <td>6.590000</td>\n      <td>14.843333</td>\n      <td>13.533333</td>\n      <td>127.783333</td>\n      <td>122.200000</td>\n      <td>89.300000</td>\n      <td>64.666667</td>\n      <td>79.79</td>\n      <td>36.35</td>\n      <td>24.28</td>\n      <td>48.73</td>\n      <td>76.90</td>\n    </tr>\n    <tr>\n      <th>Assam</th>\n      <td>9.680000</td>\n      <td>8.253333</td>\n      <td>28.086667</td>\n      <td>3.976667</td>\n      <td>111.500000</td>\n      <td>94.013333</td>\n      <td>74.526667</td>\n      <td>34.333333</td>\n      <td>80.30</td>\n      <td>19.39</td>\n      <td>8.85</td>\n      <td>60.17</td>\n      <td>75.28</td>\n    </tr>\n    <tr>\n      <th>Bihar</th>\n      <td>0.696667</td>\n      <td>2.353333</td>\n      <td>27.123333</td>\n      <td>0.000000</td>\n      <td>102.240000</td>\n      <td>97.733333</td>\n      <td>69.180000</td>\n      <td>29.666667</td>\n      <td>92.53</td>\n      <td>9.96</td>\n      <td>5.47</td>\n      <td>73.42</td>\n      <td>75.41</td>\n    </tr>\n  </tbody>\n</table>\n</div>"
     },
     "metadata": {},
     "execution_count": 185
    }
   ],
   "source": [
    "dataset.head(5)"
   ]
  },
  {
   "cell_type": "code",
   "execution_count": 201,
   "metadata": {},
   "outputs": [
    {
     "output_type": "execute_result",
     "data": {
      "text/plain": [
       "<pandas.io.formats.style.Styler at 0x1f8555a74f0>"
      ],
      "text/html": "<style  type=\"text/css\" >\n#T_84b03_row0_col0,#T_84b03_row1_col1,#T_84b03_row2_col2,#T_84b03_row3_col3,#T_84b03_row4_col4,#T_84b03_row5_col5,#T_84b03_row6_col6,#T_84b03_row7_col7,#T_84b03_row8_col8,#T_84b03_row9_col9,#T_84b03_row10_col10,#T_84b03_row11_col11,#T_84b03_row12_col12{\n            background-color:  #b40426;\n            color:  #f1f1f1;\n        }#T_84b03_row0_col1{\n            background-color:  #da5a49;\n            color:  #000000;\n        }#T_84b03_row0_col2{\n            background-color:  #f7a98b;\n            color:  #000000;\n        }#T_84b03_row0_col3,#T_84b03_row0_col8,#T_84b03_row0_col9,#T_84b03_row0_col10,#T_84b03_row1_col11,#T_84b03_row1_col12,#T_84b03_row2_col3,#T_84b03_row2_col6,#T_84b03_row2_col7,#T_84b03_row7_col1,#T_84b03_row7_col2,#T_84b03_row8_col0,#T_84b03_row8_col1,#T_84b03_row8_col4,#T_84b03_row8_col5{\n            background-color:  #3b4cc0;\n            color:  #f1f1f1;\n        }#T_84b03_row0_col4{\n            background-color:  #f7a688;\n            color:  #000000;\n        }#T_84b03_row0_col5{\n            background-color:  #abc8fd;\n            color:  #000000;\n        }#T_84b03_row0_col6{\n            background-color:  #6180e9;\n            color:  #000000;\n        }#T_84b03_row0_col7{\n            background-color:  #92b4fe;\n            color:  #000000;\n        }#T_84b03_row0_col11,#T_84b03_row9_col1,#T_84b03_row11_col1{\n            background-color:  #445acc;\n            color:  #f1f1f1;\n        }#T_84b03_row0_col12{\n            background-color:  #4358cb;\n            color:  #f1f1f1;\n        }#T_84b03_row1_col0{\n            background-color:  #d75445;\n            color:  #000000;\n        }#T_84b03_row1_col2{\n            background-color:  #e7745b;\n            color:  #000000;\n        }#T_84b03_row1_col3,#T_84b03_row1_col6,#T_84b03_row1_col10{\n            background-color:  #485fd1;\n            color:  #f1f1f1;\n        }#T_84b03_row1_col4,#T_84b03_row11_col7{\n            background-color:  #f7b497;\n            color:  #000000;\n        }#T_84b03_row1_col5{\n            background-color:  #afcafc;\n            color:  #000000;\n        }#T_84b03_row1_col7{\n            background-color:  #6b8df0;\n            color:  #000000;\n        }#T_84b03_row1_col8{\n            background-color:  #5572df;\n            color:  #000000;\n        }#T_84b03_row1_col9{\n            background-color:  #516ddb;\n            color:  #000000;\n        }#T_84b03_row2_col0,#T_84b03_row6_col9{\n            background-color:  #f7b194;\n            color:  #000000;\n        }#T_84b03_row2_col1{\n            background-color:  #ec8165;\n            color:  #000000;\n        }#T_84b03_row2_col4{\n            background-color:  #ebd3c6;\n            color:  #000000;\n        }#T_84b03_row2_col5,#T_84b03_row7_col4{\n            background-color:  #88abfd;\n            color:  #000000;\n        }#T_84b03_row2_col8,#T_84b03_row12_col4{\n            background-color:  #7a9df8;\n            color:  #000000;\n        }#T_84b03_row2_col9,#T_84b03_row12_col1{\n            background-color:  #5a78e4;\n            color:  #000000;\n        }#T_84b03_row2_col10,#T_84b03_row9_col0{\n            background-color:  #465ecf;\n            color:  #f1f1f1;\n        }#T_84b03_row2_col11{\n            background-color:  #5470de;\n            color:  #000000;\n        }#T_84b03_row2_col12{\n            background-color:  #4961d2;\n            color:  #f1f1f1;\n        }#T_84b03_row3_col0{\n            background-color:  #93b5fe;\n            color:  #000000;\n        }#T_84b03_row3_col1{\n            background-color:  #86a9fc;\n            color:  #000000;\n        }#T_84b03_row3_col2{\n            background-color:  #a6c4fe;\n            color:  #000000;\n        }#T_84b03_row3_col4,#T_84b03_row5_col11{\n            background-color:  #97b8ff;\n            color:  #000000;\n        }#T_84b03_row3_col5,#T_84b03_row5_col8{\n            background-color:  #9abbff;\n            color:  #000000;\n        }#T_84b03_row3_col6{\n            background-color:  #e0dbd8;\n            color:  #000000;\n        }#T_84b03_row3_col7,#T_84b03_row10_col3{\n            background-color:  #f5c1a9;\n            color:  #000000;\n        }#T_84b03_row3_col8,#T_84b03_row6_col5{\n            background-color:  #f0cdbb;\n            color:  #000000;\n        }#T_84b03_row3_col9,#T_84b03_row4_col1,#T_84b03_row7_col8{\n            background-color:  #f7b093;\n            color:  #000000;\n        }#T_84b03_row3_col10{\n            background-color:  #f7aa8c;\n            color:  #000000;\n        }#T_84b03_row3_col11{\n            background-color:  #e4d9d2;\n            color:  #000000;\n        }#T_84b03_row3_col12{\n            background-color:  #e7d7ce;\n            color:  #000000;\n        }#T_84b03_row4_col0{\n            background-color:  #f4987a;\n            color:  #000000;\n        }#T_84b03_row4_col2{\n            background-color:  #f6bfa6;\n            color:  #000000;\n        }#T_84b03_row4_col3{\n            background-color:  #6485ec;\n            color:  #000000;\n        }#T_84b03_row4_col5{\n            background-color:  #f08a6c;\n            color:  #000000;\n        }#T_84b03_row4_col6{\n            background-color:  #c4d5f3;\n            color:  #000000;\n        }#T_84b03_row4_col7{\n            background-color:  #b9d0f9;\n            color:  #000000;\n        }#T_84b03_row4_col8,#T_84b03_row4_col10{\n            background-color:  #5f7fe8;\n            color:  #000000;\n        }#T_84b03_row4_col9,#T_84b03_row11_col0{\n            background-color:  #6788ee;\n            color:  #000000;\n        }#T_84b03_row4_col11{\n            background-color:  #5e7de7;\n            color:  #000000;\n        }#T_84b03_row4_col12{\n            background-color:  #6687ed;\n            color:  #000000;\n        }#T_84b03_row5_col0,#T_84b03_row5_col7{\n            background-color:  #e3d9d3;\n            color:  #000000;\n        }#T_84b03_row5_col1{\n            background-color:  #dadce0;\n            color:  #000000;\n        }#T_84b03_row5_col2{\n            background-color:  #dbdcde;\n            color:  #000000;\n        }#T_84b03_row5_col3,#T_84b03_row5_col10{\n            background-color:  #a1c0ff;\n            color:  #000000;\n        }#T_84b03_row5_col4,#T_84b03_row11_col8,#T_84b03_row12_col9{\n            background-color:  #e8765c;\n            color:  #000000;\n        }#T_84b03_row5_col6{\n            background-color:  #f7bca1;\n            color:  #000000;\n        }#T_84b03_row5_col9{\n            background-color:  #aac7fd;\n            color:  #000000;\n        }#T_84b03_row5_col12{\n            background-color:  #b1cbfc;\n            color:  #000000;\n        }#T_84b03_row6_col0,#T_84b03_row11_col2{\n            background-color:  #8db0fe;\n            color:  #000000;\n        }#T_84b03_row6_col1,#T_84b03_row9_col5,#T_84b03_row11_col5{\n            background-color:  #5b7ae5;\n            color:  #000000;\n        }#T_84b03_row6_col2{\n            background-color:  #7ea1fa;\n            color:  #000000;\n        }#T_84b03_row6_col3,#T_84b03_row11_col3{\n            background-color:  #cad8ef;\n            color:  #000000;\n        }#T_84b03_row6_col4{\n            background-color:  #c9d7f0;\n            color:  #000000;\n        }#T_84b03_row6_col7{\n            background-color:  #e57058;\n            color:  #000000;\n        }#T_84b03_row6_col8{\n            background-color:  #f5c4ac;\n            color:  #000000;\n        }#T_84b03_row6_col10{\n            background-color:  #f7b89c;\n            color:  #000000;\n        }#T_84b03_row6_col11{\n            background-color:  #e6d7cf;\n            color:  #000000;\n        }#T_84b03_row6_col12{\n            background-color:  #f3c7b1;\n            color:  #000000;\n        }#T_84b03_row7_col0,#T_84b03_row9_col2{\n            background-color:  #7da0f9;\n            color:  #000000;\n        }#T_84b03_row7_col3{\n            background-color:  #d2dbe8;\n            color:  #000000;\n        }#T_84b03_row7_col5{\n            background-color:  #98b9ff;\n            color:  #000000;\n        }#T_84b03_row7_col6,#T_84b03_row9_col12,#T_84b03_row12_col8{\n            background-color:  #ee8468;\n            color:  #000000;\n        }#T_84b03_row7_col9,#T_84b03_row7_col10{\n            background-color:  #f6a385;\n            color:  #000000;\n        }#T_84b03_row7_col11{\n            background-color:  #f2c9b4;\n            color:  #000000;\n        }#T_84b03_row7_col12{\n            background-color:  #efcebd;\n            color:  #000000;\n        }#T_84b03_row8_col2,#T_84b03_row12_col5{\n            background-color:  #8fb1fe;\n            color:  #000000;\n        }#T_84b03_row8_col3{\n            background-color:  #ccd9ed;\n            color:  #000000;\n        }#T_84b03_row8_col6{\n            background-color:  #ecd3c5;\n            color:  #000000;\n        }#T_84b03_row8_col7{\n            background-color:  #f7a889;\n            color:  #000000;\n        }#T_84b03_row8_col9,#T_84b03_row9_col8,#T_84b03_row9_col10{\n            background-color:  #cf453c;\n            color:  #f1f1f1;\n        }#T_84b03_row8_col10{\n            background-color:  #e46e56;\n            color:  #000000;\n        }#T_84b03_row8_col11,#T_84b03_row12_col10{\n            background-color:  #ec7f63;\n            color:  #000000;\n        }#T_84b03_row8_col12,#T_84b03_row9_col7{\n            background-color:  #f39778;\n            color:  #000000;\n        }#T_84b03_row9_col3{\n            background-color:  #f1ccb8;\n            color:  #000000;\n        }#T_84b03_row9_col4{\n            background-color:  #4e68d8;\n            color:  #000000;\n        }#T_84b03_row9_col6{\n            background-color:  #f6bea4;\n            color:  #000000;\n        }#T_84b03_row9_col11{\n            background-color:  #f18f71;\n            color:  #000000;\n        }#T_84b03_row10_col0,#T_84b03_row10_col4{\n            background-color:  #5977e3;\n            color:  #000000;\n        }#T_84b03_row10_col1{\n            background-color:  #4c66d6;\n            color:  #000000;\n        }#T_84b03_row10_col2,#T_84b03_row12_col0{\n            background-color:  #7b9ff9;\n            color:  #000000;\n        }#T_84b03_row10_col5{\n            background-color:  #6282ea;\n            color:  #000000;\n        }#T_84b03_row10_col6{\n            background-color:  #f6bda2;\n            color:  #000000;\n        }#T_84b03_row10_col7{\n            background-color:  #f29072;\n            color:  #000000;\n        }#T_84b03_row10_col8{\n            background-color:  #e16751;\n            color:  #000000;\n        }#T_84b03_row10_col9{\n            background-color:  #cd423b;\n            color:  #f1f1f1;\n        }#T_84b03_row10_col11{\n            background-color:  #f18d6f;\n            color:  #000000;\n        }#T_84b03_row10_col12,#T_84b03_row11_col9{\n            background-color:  #ef886b;\n            color:  #000000;\n        }#T_84b03_row11_col4{\n            background-color:  #5d7ce6;\n            color:  #000000;\n        }#T_84b03_row11_col6{\n            background-color:  #e2dad5;\n            color:  #000000;\n        }#T_84b03_row11_col10{\n            background-color:  #f08b6e;\n            color:  #000000;\n        }#T_84b03_row11_col12{\n            background-color:  #d1493f;\n            color:  #f1f1f1;\n        }#T_84b03_row12_col2{\n            background-color:  #96b7ff;\n            color:  #000000;\n        }#T_84b03_row12_col3{\n            background-color:  #d9dce1;\n            color:  #000000;\n        }#T_84b03_row12_col6{\n            background-color:  #f5c2aa;\n            color:  #000000;\n        }#T_84b03_row12_col7{\n            background-color:  #f7b396;\n            color:  #000000;\n        }#T_84b03_row12_col11{\n            background-color:  #d0473d;\n            color:  #f1f1f1;\n        }</style><table id=\"T_84b03_\" ><thead>    <tr>        <th class=\"blank level0\" ></th>        <th class=\"col_heading level0 col0\" >Dropout-PRIMARY</th>        <th class=\"col_heading level0 col1\" >Dropout-UPPER_PRIMARY</th>        <th class=\"col_heading level0 col2\" >Dropout-SECONDARY</th>        <th class=\"col_heading level0 col3\" >Dropout-HRSECONDARY</th>        <th class=\"col_heading level0 col4\" >Enrollments-Primary</th>        <th class=\"col_heading level0 col5\" >Enrollments-Upper_Primary</th>        <th class=\"col_heading level0 col6\" >Enrollments-Secondary</th>        <th class=\"col_heading level0 col7\" >Enrollments-Higher_Secondary</th>        <th class=\"col_heading level0 col8\" >Drinking water</th>        <th class=\"col_heading level0 col9\" >Electricity</th>        <th class=\"col_heading level0 col10\" >Computer</th>        <th class=\"col_heading level0 col11\" >Boys toilet</th>        <th class=\"col_heading level0 col12\" >Girls toilet</th>    </tr></thead><tbody>\n                <tr>\n                        <th id=\"T_84b03_level0_row0\" class=\"row_heading level0 row0\" >Dropout-PRIMARY</th>\n                        <td id=\"T_84b03_row0_col0\" class=\"data row0 col0\" >1.000000</td>\n                        <td id=\"T_84b03_row0_col1\" class=\"data row0 col1\" >0.812230</td>\n                        <td id=\"T_84b03_row0_col2\" class=\"data row0 col2\" >0.434245</td>\n                        <td id=\"T_84b03_row0_col3\" class=\"data row0 col3\" >-0.322448</td>\n                        <td id=\"T_84b03_row0_col4\" class=\"data row0 col4\" >0.549984</td>\n                        <td id=\"T_84b03_row0_col5\" class=\"data row0 col5\" >0.147795</td>\n                        <td id=\"T_84b03_row0_col6\" class=\"data row0 col6\" >-0.350048</td>\n                        <td id=\"T_84b03_row0_col7\" class=\"data row0 col7\" >-0.430586</td>\n                        <td id=\"T_84b03_row0_col8\" class=\"data row0 col8\" >-0.801090</td>\n                        <td id=\"T_84b03_row0_col9\" class=\"data row0 col9\" >-0.725750</td>\n                        <td id=\"T_84b03_row0_col10\" class=\"data row0 col10\" >-0.621564</td>\n                        <td id=\"T_84b03_row0_col11\" class=\"data row0 col11\" >-0.540805</td>\n                        <td id=\"T_84b03_row0_col12\" class=\"data row0 col12\" >-0.438378</td>\n            </tr>\n            <tr>\n                        <th id=\"T_84b03_level0_row1\" class=\"row_heading level0 row1\" >Dropout-UPPER_PRIMARY</th>\n                        <td id=\"T_84b03_row1_col0\" class=\"data row1 col0\" >0.812230</td>\n                        <td id=\"T_84b03_row1_col1\" class=\"data row1 col1\" >1.000000</td>\n                        <td id=\"T_84b03_row1_col2\" class=\"data row1 col2\" >0.680051</td>\n                        <td id=\"T_84b03_row1_col3\" class=\"data row1 col3\" >-0.263748</td>\n                        <td id=\"T_84b03_row1_col4\" class=\"data row1 col4\" >0.488031</td>\n                        <td id=\"T_84b03_row1_col5\" class=\"data row1 col5\" >0.161647</td>\n                        <td id=\"T_84b03_row1_col6\" class=\"data row1 col6\" >-0.469755</td>\n                        <td id=\"T_84b03_row1_col7\" class=\"data row1 col7\" >-0.649244</td>\n                        <td id=\"T_84b03_row1_col8\" class=\"data row1 col8\" >-0.643249</td>\n                        <td id=\"T_84b03_row1_col9\" class=\"data row1 col9\" >-0.594073</td>\n                        <td id=\"T_84b03_row1_col10\" class=\"data row1 col10\" >-0.546718</td>\n                        <td id=\"T_84b03_row1_col11\" class=\"data row1 col11\" >-0.593432</td>\n                        <td id=\"T_84b03_row1_col12\" class=\"data row1 col12\" >-0.481346</td>\n            </tr>\n            <tr>\n                        <th id=\"T_84b03_level0_row2\" class=\"row_heading level0 row2\" >Dropout-SECONDARY</th>\n                        <td id=\"T_84b03_row2_col0\" class=\"data row2 col0\" >0.434245</td>\n                        <td id=\"T_84b03_row2_col1\" class=\"data row2 col1\" >0.680051</td>\n                        <td id=\"T_84b03_row2_col2\" class=\"data row2 col2\" >1.000000</td>\n                        <td id=\"T_84b03_row2_col3\" class=\"data row2 col3\" >-0.320541</td>\n                        <td id=\"T_84b03_row2_col4\" class=\"data row2 col4\" >0.303732</td>\n                        <td id=\"T_84b03_row2_col5\" class=\"data row2 col5\" >0.019048</td>\n                        <td id=\"T_84b03_row2_col6\" class=\"data row2 col6\" >-0.541828</td>\n                        <td id=\"T_84b03_row2_col7\" class=\"data row2 col7\" >-0.946122</td>\n                        <td id=\"T_84b03_row2_col8\" class=\"data row2 col8\" >-0.448208</td>\n                        <td id=\"T_84b03_row2_col9\" class=\"data row2 col9\" >-0.545104</td>\n                        <td id=\"T_84b03_row2_col10\" class=\"data row2 col10\" >-0.555985</td>\n                        <td id=\"T_84b03_row2_col11\" class=\"data row2 col11\" >-0.459111</td>\n                        <td id=\"T_84b03_row2_col12\" class=\"data row2 col12\" >-0.410465</td>\n            </tr>\n            <tr>\n                        <th id=\"T_84b03_level0_row3\" class=\"row_heading level0 row3\" >Dropout-HRSECONDARY</th>\n                        <td id=\"T_84b03_row3_col0\" class=\"data row3 col0\" >-0.322448</td>\n                        <td id=\"T_84b03_row3_col1\" class=\"data row3 col1\" >-0.263748</td>\n                        <td id=\"T_84b03_row3_col2\" class=\"data row3 col2\" >-0.320541</td>\n                        <td id=\"T_84b03_row3_col3\" class=\"data row3 col3\" >1.000000</td>\n                        <td id=\"T_84b03_row3_col4\" class=\"data row3 col4\" >-0.142563</td>\n                        <td id=\"T_84b03_row3_col5\" class=\"data row3 col5\" >0.082164</td>\n                        <td id=\"T_84b03_row3_col6\" class=\"data row3 col6\" >0.247907</td>\n                        <td id=\"T_84b03_row3_col7\" class=\"data row3 col7\" >0.286828</td>\n                        <td id=\"T_84b03_row3_col8\" class=\"data row3 col8\" >0.260050</td>\n                        <td id=\"T_84b03_row3_col9\" class=\"data row3 col9\" >0.466538</td>\n                        <td id=\"T_84b03_row3_col10\" class=\"data row3 col10\" >0.518738</td>\n                        <td id=\"T_84b03_row3_col11\" class=\"data row3 col11\" >0.249613</td>\n                        <td id=\"T_84b03_row3_col12\" class=\"data row3 col12\" >0.322265</td>\n            </tr>\n            <tr>\n                        <th id=\"T_84b03_level0_row4\" class=\"row_heading level0 row4\" >Enrollments-Primary</th>\n                        <td id=\"T_84b03_row4_col0\" class=\"data row4 col0\" >0.549984</td>\n                        <td id=\"T_84b03_row4_col1\" class=\"data row4 col1\" >0.488031</td>\n                        <td id=\"T_84b03_row4_col2\" class=\"data row4 col2\" >0.303732</td>\n                        <td id=\"T_84b03_row4_col3\" class=\"data row4 col3\" >-0.142563</td>\n                        <td id=\"T_84b03_row4_col4\" class=\"data row4 col4\" >1.000000</td>\n                        <td id=\"T_84b03_row4_col5\" class=\"data row4 col5\" >0.727413</td>\n                        <td id=\"T_84b03_row4_col6\" class=\"data row4 col6\" >0.093694</td>\n                        <td id=\"T_84b03_row4_col7\" class=\"data row4 col7\" >-0.209076</td>\n                        <td id=\"T_84b03_row4_col8\" class=\"data row4 col8\" >-0.586416</td>\n                        <td id=\"T_84b03_row4_col9\" class=\"data row4 col9\" >-0.481959</td>\n                        <td id=\"T_84b03_row4_col10\" class=\"data row4 col10\" >-0.426512</td>\n                        <td id=\"T_84b03_row4_col11\" class=\"data row4 col11\" >-0.408371</td>\n                        <td id=\"T_84b03_row4_col12\" class=\"data row4 col12\" >-0.275276</td>\n            </tr>\n            <tr>\n                        <th id=\"T_84b03_level0_row5\" class=\"row_heading level0 row5\" >Enrollments-Upper_Primary</th>\n                        <td id=\"T_84b03_row5_col0\" class=\"data row5 col0\" >0.147795</td>\n                        <td id=\"T_84b03_row5_col1\" class=\"data row5 col1\" >0.161647</td>\n                        <td id=\"T_84b03_row5_col2\" class=\"data row5 col2\" >0.019048</td>\n                        <td id=\"T_84b03_row5_col3\" class=\"data row5 col3\" >0.082164</td>\n                        <td id=\"T_84b03_row5_col4\" class=\"data row5 col4\" >0.727413</td>\n                        <td id=\"T_84b03_row5_col5\" class=\"data row5 col5\" >1.000000</td>\n                        <td id=\"T_84b03_row5_col6\" class=\"data row5 col6\" >0.468983</td>\n                        <td id=\"T_84b03_row5_col7\" class=\"data row5 col7\" >0.077889</td>\n                        <td id=\"T_84b03_row5_col8\" class=\"data row5 col8\" >-0.286749</td>\n                        <td id=\"T_84b03_row5_col9\" class=\"data row5 col9\" >-0.146650</td>\n                        <td id=\"T_84b03_row5_col10\" class=\"data row5 col10\" >-0.122265</td>\n                        <td id=\"T_84b03_row5_col11\" class=\"data row5 col11\" >-0.150676</td>\n                        <td id=\"T_84b03_row5_col12\" class=\"data row5 col12\" >0.040595</td>\n            </tr>\n            <tr>\n                        <th id=\"T_84b03_level0_row6\" class=\"row_heading level0 row6\" >Enrollments-Secondary</th>\n                        <td id=\"T_84b03_row6_col0\" class=\"data row6 col0\" >-0.350048</td>\n                        <td id=\"T_84b03_row6_col1\" class=\"data row6 col1\" >-0.469755</td>\n                        <td id=\"T_84b03_row6_col2\" class=\"data row6 col2\" >-0.541828</td>\n                        <td id=\"T_84b03_row6_col3\" class=\"data row6 col3\" >0.247907</td>\n                        <td id=\"T_84b03_row6_col4\" class=\"data row6 col4\" >0.093694</td>\n                        <td id=\"T_84b03_row6_col5\" class=\"data row6 col5\" >0.468983</td>\n                        <td id=\"T_84b03_row6_col6\" class=\"data row6 col6\" >1.000000</td>\n                        <td id=\"T_84b03_row6_col7\" class=\"data row6 col7\" >0.689926</td>\n                        <td id=\"T_84b03_row6_col8\" class=\"data row6 col8\" >0.328083</td>\n                        <td id=\"T_84b03_row6_col9\" class=\"data row6 col9\" >0.456959</td>\n                        <td id=\"T_84b03_row6_col10\" class=\"data row6 col10\" >0.459202</td>\n                        <td id=\"T_84b03_row6_col11\" class=\"data row6 col11\" >0.260399</td>\n                        <td id=\"T_84b03_row6_col12\" class=\"data row6 col12\" >0.431600</td>\n            </tr>\n            <tr>\n                        <th id=\"T_84b03_level0_row7\" class=\"row_heading level0 row7\" >Enrollments-Higher_Secondary</th>\n                        <td id=\"T_84b03_row7_col0\" class=\"data row7 col0\" >-0.430586</td>\n                        <td id=\"T_84b03_row7_col1\" class=\"data row7 col1\" >-0.649244</td>\n                        <td id=\"T_84b03_row7_col2\" class=\"data row7 col2\" >-0.946122</td>\n                        <td id=\"T_84b03_row7_col3\" class=\"data row7 col3\" >0.286828</td>\n                        <td id=\"T_84b03_row7_col4\" class=\"data row7 col4\" >-0.209076</td>\n                        <td id=\"T_84b03_row7_col5\" class=\"data row7 col5\" >0.077889</td>\n                        <td id=\"T_84b03_row7_col6\" class=\"data row7 col6\" >0.689926</td>\n                        <td id=\"T_84b03_row7_col7\" class=\"data row7 col7\" >1.000000</td>\n                        <td id=\"T_84b03_row7_col8\" class=\"data row7 col8\" >0.442021</td>\n                        <td id=\"T_84b03_row7_col9\" class=\"data row7 col9\" >0.524396</td>\n                        <td id=\"T_84b03_row7_col10\" class=\"data row7 col10\" >0.553717</td>\n                        <td id=\"T_84b03_row7_col11\" class=\"data row7 col11\" >0.373720</td>\n                        <td id=\"T_84b03_row7_col12\" class=\"data row7 col12\" >0.382429</td>\n            </tr>\n            <tr>\n                        <th id=\"T_84b03_level0_row8\" class=\"row_heading level0 row8\" >Drinking water</th>\n                        <td id=\"T_84b03_row8_col0\" class=\"data row8 col0\" >-0.801090</td>\n                        <td id=\"T_84b03_row8_col1\" class=\"data row8 col1\" >-0.643249</td>\n                        <td id=\"T_84b03_row8_col2\" class=\"data row8 col2\" >-0.448208</td>\n                        <td id=\"T_84b03_row8_col3\" class=\"data row8 col3\" >0.260050</td>\n                        <td id=\"T_84b03_row8_col4\" class=\"data row8 col4\" >-0.586416</td>\n                        <td id=\"T_84b03_row8_col5\" class=\"data row8 col5\" >-0.286749</td>\n                        <td id=\"T_84b03_row8_col6\" class=\"data row8 col6\" >0.328083</td>\n                        <td id=\"T_84b03_row8_col7\" class=\"data row8 col7\" >0.442021</td>\n                        <td id=\"T_84b03_row8_col8\" class=\"data row8 col8\" >1.000000</td>\n                        <td id=\"T_84b03_row8_col9\" class=\"data row8 col9\" >0.865238</td>\n                        <td id=\"T_84b03_row8_col10\" class=\"data row8 col10\" >0.748390</td>\n                        <td id=\"T_84b03_row8_col11\" class=\"data row8 col11\" >0.696139</td>\n                        <td id=\"T_84b03_row8_col12\" class=\"data row8 col12\" >0.636747</td>\n            </tr>\n            <tr>\n                        <th id=\"T_84b03_level0_row9\" class=\"row_heading level0 row9\" >Electricity</th>\n                        <td id=\"T_84b03_row9_col0\" class=\"data row9 col0\" >-0.725750</td>\n                        <td id=\"T_84b03_row9_col1\" class=\"data row9 col1\" >-0.594073</td>\n                        <td id=\"T_84b03_row9_col2\" class=\"data row9 col2\" >-0.545104</td>\n                        <td id=\"T_84b03_row9_col3\" class=\"data row9 col3\" >0.466538</td>\n                        <td id=\"T_84b03_row9_col4\" class=\"data row9 col4\" >-0.481959</td>\n                        <td id=\"T_84b03_row9_col5\" class=\"data row9 col5\" >-0.146650</td>\n                        <td id=\"T_84b03_row9_col6\" class=\"data row9 col6\" >0.456959</td>\n                        <td id=\"T_84b03_row9_col7\" class=\"data row9 col7\" >0.524396</td>\n                        <td id=\"T_84b03_row9_col8\" class=\"data row9 col8\" >0.865238</td>\n                        <td id=\"T_84b03_row9_col9\" class=\"data row9 col9\" >1.000000</td>\n                        <td id=\"T_84b03_row9_col10\" class=\"data row9 col10\" >0.878351</td>\n                        <td id=\"T_84b03_row9_col11\" class=\"data row9 col11\" >0.642424</td>\n                        <td id=\"T_84b03_row9_col12\" class=\"data row9 col12\" >0.704691</td>\n            </tr>\n            <tr>\n                        <th id=\"T_84b03_level0_row10\" class=\"row_heading level0 row10\" >Computer</th>\n                        <td id=\"T_84b03_row10_col0\" class=\"data row10 col0\" >-0.621564</td>\n                        <td id=\"T_84b03_row10_col1\" class=\"data row10 col1\" >-0.546718</td>\n                        <td id=\"T_84b03_row10_col2\" class=\"data row10 col2\" >-0.555985</td>\n                        <td id=\"T_84b03_row10_col3\" class=\"data row10 col3\" >0.518738</td>\n                        <td id=\"T_84b03_row10_col4\" class=\"data row10 col4\" >-0.426512</td>\n                        <td id=\"T_84b03_row10_col5\" class=\"data row10 col5\" >-0.122265</td>\n                        <td id=\"T_84b03_row10_col6\" class=\"data row10 col6\" >0.459202</td>\n                        <td id=\"T_84b03_row10_col7\" class=\"data row10 col7\" >0.553717</td>\n                        <td id=\"T_84b03_row10_col8\" class=\"data row10 col8\" >0.748390</td>\n                        <td id=\"T_84b03_row10_col9\" class=\"data row10 col9\" >0.878351</td>\n                        <td id=\"T_84b03_row10_col10\" class=\"data row10 col10\" >1.000000</td>\n                        <td id=\"T_84b03_row10_col11\" class=\"data row10 col11\" >0.648551</td>\n                        <td id=\"T_84b03_row10_col12\" class=\"data row10 col12\" >0.690509</td>\n            </tr>\n            <tr>\n                        <th id=\"T_84b03_level0_row11\" class=\"row_heading level0 row11\" >Boys toilet</th>\n                        <td id=\"T_84b03_row11_col0\" class=\"data row11 col0\" >-0.540805</td>\n                        <td id=\"T_84b03_row11_col1\" class=\"data row11 col1\" >-0.593432</td>\n                        <td id=\"T_84b03_row11_col2\" class=\"data row11 col2\" >-0.459111</td>\n                        <td id=\"T_84b03_row11_col3\" class=\"data row11 col3\" >0.249613</td>\n                        <td id=\"T_84b03_row11_col4\" class=\"data row11 col4\" >-0.408371</td>\n                        <td id=\"T_84b03_row11_col5\" class=\"data row11 col5\" >-0.150676</td>\n                        <td id=\"T_84b03_row11_col6\" class=\"data row11 col6\" >0.260399</td>\n                        <td id=\"T_84b03_row11_col7\" class=\"data row11 col7\" >0.373720</td>\n                        <td id=\"T_84b03_row11_col8\" class=\"data row11 col8\" >0.696139</td>\n                        <td id=\"T_84b03_row11_col9\" class=\"data row11 col9\" >0.642424</td>\n                        <td id=\"T_84b03_row11_col10\" class=\"data row11 col10\" >0.648551</td>\n                        <td id=\"T_84b03_row11_col11\" class=\"data row11 col11\" >1.000000</td>\n                        <td id=\"T_84b03_row11_col12\" class=\"data row11 col12\" >0.874460</td>\n            </tr>\n            <tr>\n                        <th id=\"T_84b03_level0_row12\" class=\"row_heading level0 row12\" >Girls toilet</th>\n                        <td id=\"T_84b03_row12_col0\" class=\"data row12 col0\" >-0.438378</td>\n                        <td id=\"T_84b03_row12_col1\" class=\"data row12 col1\" >-0.481346</td>\n                        <td id=\"T_84b03_row12_col2\" class=\"data row12 col2\" >-0.410465</td>\n                        <td id=\"T_84b03_row12_col3\" class=\"data row12 col3\" >0.322265</td>\n                        <td id=\"T_84b03_row12_col4\" class=\"data row12 col4\" >-0.275276</td>\n                        <td id=\"T_84b03_row12_col5\" class=\"data row12 col5\" >0.040595</td>\n                        <td id=\"T_84b03_row12_col6\" class=\"data row12 col6\" >0.431600</td>\n                        <td id=\"T_84b03_row12_col7\" class=\"data row12 col7\" >0.382429</td>\n                        <td id=\"T_84b03_row12_col8\" class=\"data row12 col8\" >0.636747</td>\n                        <td id=\"T_84b03_row12_col9\" class=\"data row12 col9\" >0.704691</td>\n                        <td id=\"T_84b03_row12_col10\" class=\"data row12 col10\" >0.690509</td>\n                        <td id=\"T_84b03_row12_col11\" class=\"data row12 col11\" >0.874460</td>\n                        <td id=\"T_84b03_row12_col12\" class=\"data row12 col12\" >1.000000</td>\n            </tr>\n    </tbody></table>"
     },
     "metadata": {},
     "execution_count": 201
    }
   ],
   "source": [
    "dataset.corr(method='spearman').style.background_gradient(cmap='coolwarm')"
   ]
  },
  {
   "source": [
    "## Checking feature importance"
   ],
   "cell_type": "markdown",
   "metadata": {}
  },
  {
   "cell_type": "code",
   "execution_count": 238,
   "metadata": {},
   "outputs": [
    {
     "output_type": "execute_result",
     "data": {
      "text/plain": [
       "                              Cumulative explained variance\n",
       "Feature                                                    \n",
       "Dropout-UPPER_PRIMARY                             48.609597\n",
       "Dropout-PRIMARY                                   70.089796\n",
       "Dropout-SECONDARY                                 80.165989\n",
       "Dropout-HRSECONDARY                               87.297249\n",
       "Enrollments-Primary                               93.991659\n",
       "Enrollments-Upper_Primary                         96.023260\n",
       "Enrollments-Secondary                             97.704013\n",
       "Enrollments-Higher_Secondary                      98.513501\n",
       "Drinking water                                    99.231118\n",
       "Electricity                                       99.679909\n",
       "Computer                                          99.896805\n",
       "Boys toilet                                      100.000000"
      ],
      "text/html": "<div>\n<style scoped>\n    .dataframe tbody tr th:only-of-type {\n        vertical-align: middle;\n    }\n\n    .dataframe tbody tr th {\n        vertical-align: top;\n    }\n\n    .dataframe thead th {\n        text-align: right;\n    }\n</style>\n<table border=\"1\" class=\"dataframe\">\n  <thead>\n    <tr style=\"text-align: right;\">\n      <th></th>\n      <th>Cumulative explained variance</th>\n    </tr>\n    <tr>\n      <th>Feature</th>\n      <th></th>\n    </tr>\n  </thead>\n  <tbody>\n    <tr>\n      <th>Dropout-UPPER_PRIMARY</th>\n      <td>48.609597</td>\n    </tr>\n    <tr>\n      <th>Dropout-PRIMARY</th>\n      <td>70.089796</td>\n    </tr>\n    <tr>\n      <th>Dropout-SECONDARY</th>\n      <td>80.165989</td>\n    </tr>\n    <tr>\n      <th>Dropout-HRSECONDARY</th>\n      <td>87.297249</td>\n    </tr>\n    <tr>\n      <th>Enrollments-Primary</th>\n      <td>93.991659</td>\n    </tr>\n    <tr>\n      <th>Enrollments-Upper_Primary</th>\n      <td>96.023260</td>\n    </tr>\n    <tr>\n      <th>Enrollments-Secondary</th>\n      <td>97.704013</td>\n    </tr>\n    <tr>\n      <th>Enrollments-Higher_Secondary</th>\n      <td>98.513501</td>\n    </tr>\n    <tr>\n      <th>Drinking water</th>\n      <td>99.231118</td>\n    </tr>\n    <tr>\n      <th>Electricity</th>\n      <td>99.679909</td>\n    </tr>\n    <tr>\n      <th>Computer</th>\n      <td>99.896805</td>\n    </tr>\n    <tr>\n      <th>Boys toilet</th>\n      <td>100.000000</td>\n    </tr>\n  </tbody>\n</table>\n</div>"
     },
     "metadata": {},
     "execution_count": 238
    }
   ],
   "source": [
    "from sklearn.decomposition import TruncatedSVD\n",
    "tc= TruncatedSVD(n_components=12)\n",
    "tc.fit(dataset)\n",
    "feature_imp = pd.Series(dict(zip(dataset.columns,tc.explained_variance_)))\n",
    "feature_imp.index.name=\"Feature\"\n",
    "feature_imp.name=\"Explained variance\"\n",
    "var_exp=pd.DataFrame(feature_imp)\n",
    "tot=var_exp['Explained variance'].sum()\n",
    "var_exp['Explained variance'] = var_exp['Explained variance']/tot*100\n",
    "var_exp.sort_values(['Explained variance'],ascending=False,inplace=True)\n",
    "\n",
    "exp_var=[]\n",
    "for i in range(1,var_exp.shape[0]+1):\n",
    "    exp_var.append(var_exp['Explained variance'].iloc[0:i].sum())\n",
    "pd.DataFrame(exp_var,index=var_exp.index, columns=['Cumulative explained variance'])"
   ]
  },
  {
   "source": [
    "## We can see the top 3 features explain 80% of the variance in the data"
   ],
   "cell_type": "markdown",
   "metadata": {}
  },
  {
   "cell_type": "code",
   "execution_count": 254,
   "metadata": {},
   "outputs": [],
   "source": [
    "clusterset=dataset[['Dropout-PRIMARY', 'Dropout-UPPER_PRIMARY', 'Dropout-SECONDARY']].reset_index()"
   ]
  },
  {
   "source": [
    "## Clustering on the basis of these three features"
   ],
   "cell_type": "markdown",
   "metadata": {}
  },
  {
   "cell_type": "code",
   "execution_count": 255,
   "metadata": {},
   "outputs": [
    {
     "output_type": "display_data",
     "data": {
      "text/plain": "<Figure size 432x288 with 1 Axes>",
      "image/svg+xml": "<?xml version=\"1.0\" encoding=\"utf-8\" standalone=\"no\"?>\r\n<!DOCTYPE svg PUBLIC \"-//W3C//DTD SVG 1.1//EN\"\r\n  \"http://www.w3.org/Graphics/SVG/1.1/DTD/svg11.dtd\">\r\n<svg height=\"262.19625pt\" version=\"1.1\" viewBox=\"0 0 392.14375 262.19625\" width=\"392.14375pt\" xmlns=\"http://www.w3.org/2000/svg\" xmlns:xlink=\"http://www.w3.org/1999/xlink\">\r\n <metadata>\r\n  <rdf:RDF xmlns:cc=\"http://creativecommons.org/ns#\" xmlns:dc=\"http://purl.org/dc/elements/1.1/\" xmlns:rdf=\"http://www.w3.org/1999/02/22-rdf-syntax-ns#\">\r\n   <cc:Work>\r\n    <dc:type rdf:resource=\"http://purl.org/dc/dcmitype/StillImage\"/>\r\n    <dc:date>2021-05-26T18:32:31.803329</dc:date>\r\n    <dc:format>image/svg+xml</dc:format>\r\n    <dc:creator>\r\n     <cc:Agent>\r\n      <dc:title>Matplotlib v3.4.2, https://matplotlib.org/</dc:title>\r\n     </cc:Agent>\r\n    </dc:creator>\r\n   </cc:Work>\r\n  </rdf:RDF>\r\n </metadata>\r\n <defs>\r\n  <style type=\"text/css\">*{stroke-linecap:butt;stroke-linejoin:round;}</style>\r\n </defs>\r\n <g id=\"figure_1\">\r\n  <g id=\"patch_1\">\r\n   <path d=\"M 0 262.19625 \r\nL 392.14375 262.19625 \r\nL 392.14375 0 \r\nL 0 0 \r\nz\r\n\" style=\"fill:none;\"/>\r\n  </g>\r\n  <g id=\"axes_1\">\r\n   <g id=\"patch_2\">\r\n    <path d=\"M 50.14375 224.64 \r\nL 384.94375 224.64 \r\nL 384.94375 7.2 \r\nL 50.14375 7.2 \r\nz\r\n\" style=\"fill:#ffffff;\"/>\r\n   </g>\r\n   <g id=\"matplotlib.axis_1\">\r\n    <g id=\"xtick_1\">\r\n     <g id=\"line2d_1\">\r\n      <defs>\r\n       <path d=\"M 0 0 \r\nL 0 3.5 \r\n\" id=\"m8e48a83bdd\" style=\"stroke:#000000;stroke-width:0.8;\"/>\r\n      </defs>\r\n      <g>\r\n       <use style=\"stroke:#000000;stroke-width:0.8;\" x=\"65.361932\" xlink:href=\"#m8e48a83bdd\" y=\"224.64\"/>\r\n      </g>\r\n     </g>\r\n     <g id=\"text_1\">\r\n      <!-- 0 -->\r\n      <g transform=\"translate(62.180682 239.238437)scale(0.1 -0.1)\">\r\n       <defs>\r\n        <path d=\"M 2034 4250 \r\nQ 1547 4250 1301 3770 \r\nQ 1056 3291 1056 2328 \r\nQ 1056 1369 1301 889 \r\nQ 1547 409 2034 409 \r\nQ 2525 409 2770 889 \r\nQ 3016 1369 3016 2328 \r\nQ 3016 3291 2770 3770 \r\nQ 2525 4250 2034 4250 \r\nz\r\nM 2034 4750 \r\nQ 2819 4750 3233 4129 \r\nQ 3647 3509 3647 2328 \r\nQ 3647 1150 3233 529 \r\nQ 2819 -91 2034 -91 \r\nQ 1250 -91 836 529 \r\nQ 422 1150 422 2328 \r\nQ 422 3509 836 4129 \r\nQ 1250 4750 2034 4750 \r\nz\r\n\" id=\"DejaVuSans-30\" transform=\"scale(0.015625)\"/>\r\n       </defs>\r\n       <use xlink:href=\"#DejaVuSans-30\"/>\r\n      </g>\r\n     </g>\r\n    </g>\r\n    <g id=\"xtick_2\">\r\n     <g id=\"line2d_2\">\r\n      <g>\r\n       <use style=\"stroke:#000000;stroke-width:0.8;\" x=\"114.452841\" xlink:href=\"#m8e48a83bdd\" y=\"224.64\"/>\r\n      </g>\r\n     </g>\r\n     <g id=\"text_2\">\r\n      <!-- 5 -->\r\n      <g transform=\"translate(111.271591 239.238437)scale(0.1 -0.1)\">\r\n       <defs>\r\n        <path d=\"M 691 4666 \r\nL 3169 4666 \r\nL 3169 4134 \r\nL 1269 4134 \r\nL 1269 2991 \r\nQ 1406 3038 1543 3061 \r\nQ 1681 3084 1819 3084 \r\nQ 2600 3084 3056 2656 \r\nQ 3513 2228 3513 1497 \r\nQ 3513 744 3044 326 \r\nQ 2575 -91 1722 -91 \r\nQ 1428 -91 1123 -41 \r\nQ 819 9 494 109 \r\nL 494 744 \r\nQ 775 591 1075 516 \r\nQ 1375 441 1709 441 \r\nQ 2250 441 2565 725 \r\nQ 2881 1009 2881 1497 \r\nQ 2881 1984 2565 2268 \r\nQ 2250 2553 1709 2553 \r\nQ 1456 2553 1204 2497 \r\nQ 953 2441 691 2322 \r\nL 691 4666 \r\nz\r\n\" id=\"DejaVuSans-35\" transform=\"scale(0.015625)\"/>\r\n       </defs>\r\n       <use xlink:href=\"#DejaVuSans-35\"/>\r\n      </g>\r\n     </g>\r\n    </g>\r\n    <g id=\"xtick_3\">\r\n     <g id=\"line2d_3\">\r\n      <g>\r\n       <use style=\"stroke:#000000;stroke-width:0.8;\" x=\"163.54375\" xlink:href=\"#m8e48a83bdd\" y=\"224.64\"/>\r\n      </g>\r\n     </g>\r\n     <g id=\"text_3\">\r\n      <!-- 10 -->\r\n      <g transform=\"translate(157.18125 239.238437)scale(0.1 -0.1)\">\r\n       <defs>\r\n        <path d=\"M 794 531 \r\nL 1825 531 \r\nL 1825 4091 \r\nL 703 3866 \r\nL 703 4441 \r\nL 1819 4666 \r\nL 2450 4666 \r\nL 2450 531 \r\nL 3481 531 \r\nL 3481 0 \r\nL 794 0 \r\nL 794 531 \r\nz\r\n\" id=\"DejaVuSans-31\" transform=\"scale(0.015625)\"/>\r\n       </defs>\r\n       <use xlink:href=\"#DejaVuSans-31\"/>\r\n       <use x=\"63.623047\" xlink:href=\"#DejaVuSans-30\"/>\r\n      </g>\r\n     </g>\r\n    </g>\r\n    <g id=\"xtick_4\">\r\n     <g id=\"line2d_4\">\r\n      <g>\r\n       <use style=\"stroke:#000000;stroke-width:0.8;\" x=\"212.634659\" xlink:href=\"#m8e48a83bdd\" y=\"224.64\"/>\r\n      </g>\r\n     </g>\r\n     <g id=\"text_4\">\r\n      <!-- 15 -->\r\n      <g transform=\"translate(206.272159 239.238437)scale(0.1 -0.1)\">\r\n       <use xlink:href=\"#DejaVuSans-31\"/>\r\n       <use x=\"63.623047\" xlink:href=\"#DejaVuSans-35\"/>\r\n      </g>\r\n     </g>\r\n    </g>\r\n    <g id=\"xtick_5\">\r\n     <g id=\"line2d_5\">\r\n      <g>\r\n       <use style=\"stroke:#000000;stroke-width:0.8;\" x=\"261.725568\" xlink:href=\"#m8e48a83bdd\" y=\"224.64\"/>\r\n      </g>\r\n     </g>\r\n     <g id=\"text_5\">\r\n      <!-- 20 -->\r\n      <g transform=\"translate(255.363068 239.238437)scale(0.1 -0.1)\">\r\n       <defs>\r\n        <path d=\"M 1228 531 \r\nL 3431 531 \r\nL 3431 0 \r\nL 469 0 \r\nL 469 531 \r\nQ 828 903 1448 1529 \r\nQ 2069 2156 2228 2338 \r\nQ 2531 2678 2651 2914 \r\nQ 2772 3150 2772 3378 \r\nQ 2772 3750 2511 3984 \r\nQ 2250 4219 1831 4219 \r\nQ 1534 4219 1204 4116 \r\nQ 875 4013 500 3803 \r\nL 500 4441 \r\nQ 881 4594 1212 4672 \r\nQ 1544 4750 1819 4750 \r\nQ 2544 4750 2975 4387 \r\nQ 3406 4025 3406 3419 \r\nQ 3406 3131 3298 2873 \r\nQ 3191 2616 2906 2266 \r\nQ 2828 2175 2409 1742 \r\nQ 1991 1309 1228 531 \r\nz\r\n\" id=\"DejaVuSans-32\" transform=\"scale(0.015625)\"/>\r\n       </defs>\r\n       <use xlink:href=\"#DejaVuSans-32\"/>\r\n       <use x=\"63.623047\" xlink:href=\"#DejaVuSans-30\"/>\r\n      </g>\r\n     </g>\r\n    </g>\r\n    <g id=\"xtick_6\">\r\n     <g id=\"line2d_6\">\r\n      <g>\r\n       <use style=\"stroke:#000000;stroke-width:0.8;\" x=\"310.816477\" xlink:href=\"#m8e48a83bdd\" y=\"224.64\"/>\r\n      </g>\r\n     </g>\r\n     <g id=\"text_6\">\r\n      <!-- 25 -->\r\n      <g transform=\"translate(304.453977 239.238437)scale(0.1 -0.1)\">\r\n       <use xlink:href=\"#DejaVuSans-32\"/>\r\n       <use x=\"63.623047\" xlink:href=\"#DejaVuSans-35\"/>\r\n      </g>\r\n     </g>\r\n    </g>\r\n    <g id=\"xtick_7\">\r\n     <g id=\"line2d_7\">\r\n      <g>\r\n       <use style=\"stroke:#000000;stroke-width:0.8;\" x=\"359.907386\" xlink:href=\"#m8e48a83bdd\" y=\"224.64\"/>\r\n      </g>\r\n     </g>\r\n     <g id=\"text_7\">\r\n      <!-- 30 -->\r\n      <g transform=\"translate(353.544886 239.238437)scale(0.1 -0.1)\">\r\n       <defs>\r\n        <path d=\"M 2597 2516 \r\nQ 3050 2419 3304 2112 \r\nQ 3559 1806 3559 1356 \r\nQ 3559 666 3084 287 \r\nQ 2609 -91 1734 -91 \r\nQ 1441 -91 1130 -33 \r\nQ 819 25 488 141 \r\nL 488 750 \r\nQ 750 597 1062 519 \r\nQ 1375 441 1716 441 \r\nQ 2309 441 2620 675 \r\nQ 2931 909 2931 1356 \r\nQ 2931 1769 2642 2001 \r\nQ 2353 2234 1838 2234 \r\nL 1294 2234 \r\nL 1294 2753 \r\nL 1863 2753 \r\nQ 2328 2753 2575 2939 \r\nQ 2822 3125 2822 3475 \r\nQ 2822 3834 2567 4026 \r\nQ 2313 4219 1838 4219 \r\nQ 1578 4219 1281 4162 \r\nQ 984 4106 628 3988 \r\nL 628 4550 \r\nQ 988 4650 1302 4700 \r\nQ 1616 4750 1894 4750 \r\nQ 2613 4750 3031 4423 \r\nQ 3450 4097 3450 3541 \r\nQ 3450 3153 3228 2886 \r\nQ 3006 2619 2597 2516 \r\nz\r\n\" id=\"DejaVuSans-33\" transform=\"scale(0.015625)\"/>\r\n       </defs>\r\n       <use xlink:href=\"#DejaVuSans-33\"/>\r\n       <use x=\"63.623047\" xlink:href=\"#DejaVuSans-30\"/>\r\n      </g>\r\n     </g>\r\n    </g>\r\n    <g id=\"text_8\">\r\n     <!-- No. of clusters -->\r\n     <g transform=\"translate(181.635938 252.916562)scale(0.1 -0.1)\">\r\n      <defs>\r\n       <path d=\"M 628 4666 \r\nL 1478 4666 \r\nL 3547 763 \r\nL 3547 4666 \r\nL 4159 4666 \r\nL 4159 0 \r\nL 3309 0 \r\nL 1241 3903 \r\nL 1241 0 \r\nL 628 0 \r\nL 628 4666 \r\nz\r\n\" id=\"DejaVuSans-4e\" transform=\"scale(0.015625)\"/>\r\n       <path d=\"M 1959 3097 \r\nQ 1497 3097 1228 2736 \r\nQ 959 2375 959 1747 \r\nQ 959 1119 1226 758 \r\nQ 1494 397 1959 397 \r\nQ 2419 397 2687 759 \r\nQ 2956 1122 2956 1747 \r\nQ 2956 2369 2687 2733 \r\nQ 2419 3097 1959 3097 \r\nz\r\nM 1959 3584 \r\nQ 2709 3584 3137 3096 \r\nQ 3566 2609 3566 1747 \r\nQ 3566 888 3137 398 \r\nQ 2709 -91 1959 -91 \r\nQ 1206 -91 779 398 \r\nQ 353 888 353 1747 \r\nQ 353 2609 779 3096 \r\nQ 1206 3584 1959 3584 \r\nz\r\n\" id=\"DejaVuSans-6f\" transform=\"scale(0.015625)\"/>\r\n       <path d=\"M 684 794 \r\nL 1344 794 \r\nL 1344 0 \r\nL 684 0 \r\nL 684 794 \r\nz\r\n\" id=\"DejaVuSans-2e\" transform=\"scale(0.015625)\"/>\r\n       <path id=\"DejaVuSans-20\" transform=\"scale(0.015625)\"/>\r\n       <path d=\"M 2375 4863 \r\nL 2375 4384 \r\nL 1825 4384 \r\nQ 1516 4384 1395 4259 \r\nQ 1275 4134 1275 3809 \r\nL 1275 3500 \r\nL 2222 3500 \r\nL 2222 3053 \r\nL 1275 3053 \r\nL 1275 0 \r\nL 697 0 \r\nL 697 3053 \r\nL 147 3053 \r\nL 147 3500 \r\nL 697 3500 \r\nL 697 3744 \r\nQ 697 4328 969 4595 \r\nQ 1241 4863 1831 4863 \r\nL 2375 4863 \r\nz\r\n\" id=\"DejaVuSans-66\" transform=\"scale(0.015625)\"/>\r\n       <path d=\"M 3122 3366 \r\nL 3122 2828 \r\nQ 2878 2963 2633 3030 \r\nQ 2388 3097 2138 3097 \r\nQ 1578 3097 1268 2742 \r\nQ 959 2388 959 1747 \r\nQ 959 1106 1268 751 \r\nQ 1578 397 2138 397 \r\nQ 2388 397 2633 464 \r\nQ 2878 531 3122 666 \r\nL 3122 134 \r\nQ 2881 22 2623 -34 \r\nQ 2366 -91 2075 -91 \r\nQ 1284 -91 818 406 \r\nQ 353 903 353 1747 \r\nQ 353 2603 823 3093 \r\nQ 1294 3584 2113 3584 \r\nQ 2378 3584 2631 3529 \r\nQ 2884 3475 3122 3366 \r\nz\r\n\" id=\"DejaVuSans-63\" transform=\"scale(0.015625)\"/>\r\n       <path d=\"M 603 4863 \r\nL 1178 4863 \r\nL 1178 0 \r\nL 603 0 \r\nL 603 4863 \r\nz\r\n\" id=\"DejaVuSans-6c\" transform=\"scale(0.015625)\"/>\r\n       <path d=\"M 544 1381 \r\nL 544 3500 \r\nL 1119 3500 \r\nL 1119 1403 \r\nQ 1119 906 1312 657 \r\nQ 1506 409 1894 409 \r\nQ 2359 409 2629 706 \r\nQ 2900 1003 2900 1516 \r\nL 2900 3500 \r\nL 3475 3500 \r\nL 3475 0 \r\nL 2900 0 \r\nL 2900 538 \r\nQ 2691 219 2414 64 \r\nQ 2138 -91 1772 -91 \r\nQ 1169 -91 856 284 \r\nQ 544 659 544 1381 \r\nz\r\nM 1991 3584 \r\nL 1991 3584 \r\nz\r\n\" id=\"DejaVuSans-75\" transform=\"scale(0.015625)\"/>\r\n       <path d=\"M 2834 3397 \r\nL 2834 2853 \r\nQ 2591 2978 2328 3040 \r\nQ 2066 3103 1784 3103 \r\nQ 1356 3103 1142 2972 \r\nQ 928 2841 928 2578 \r\nQ 928 2378 1081 2264 \r\nQ 1234 2150 1697 2047 \r\nL 1894 2003 \r\nQ 2506 1872 2764 1633 \r\nQ 3022 1394 3022 966 \r\nQ 3022 478 2636 193 \r\nQ 2250 -91 1575 -91 \r\nQ 1294 -91 989 -36 \r\nQ 684 19 347 128 \r\nL 347 722 \r\nQ 666 556 975 473 \r\nQ 1284 391 1588 391 \r\nQ 1994 391 2212 530 \r\nQ 2431 669 2431 922 \r\nQ 2431 1156 2273 1281 \r\nQ 2116 1406 1581 1522 \r\nL 1381 1569 \r\nQ 847 1681 609 1914 \r\nQ 372 2147 372 2553 \r\nQ 372 3047 722 3315 \r\nQ 1072 3584 1716 3584 \r\nQ 2034 3584 2315 3537 \r\nQ 2597 3491 2834 3397 \r\nz\r\n\" id=\"DejaVuSans-73\" transform=\"scale(0.015625)\"/>\r\n       <path d=\"M 1172 4494 \r\nL 1172 3500 \r\nL 2356 3500 \r\nL 2356 3053 \r\nL 1172 3053 \r\nL 1172 1153 \r\nQ 1172 725 1289 603 \r\nQ 1406 481 1766 481 \r\nL 2356 481 \r\nL 2356 0 \r\nL 1766 0 \r\nQ 1100 0 847 248 \r\nQ 594 497 594 1153 \r\nL 594 3053 \r\nL 172 3053 \r\nL 172 3500 \r\nL 594 3500 \r\nL 594 4494 \r\nL 1172 4494 \r\nz\r\n\" id=\"DejaVuSans-74\" transform=\"scale(0.015625)\"/>\r\n       <path d=\"M 3597 1894 \r\nL 3597 1613 \r\nL 953 1613 \r\nQ 991 1019 1311 708 \r\nQ 1631 397 2203 397 \r\nQ 2534 397 2845 478 \r\nQ 3156 559 3463 722 \r\nL 3463 178 \r\nQ 3153 47 2828 -22 \r\nQ 2503 -91 2169 -91 \r\nQ 1331 -91 842 396 \r\nQ 353 884 353 1716 \r\nQ 353 2575 817 3079 \r\nQ 1281 3584 2069 3584 \r\nQ 2775 3584 3186 3129 \r\nQ 3597 2675 3597 1894 \r\nz\r\nM 3022 2063 \r\nQ 3016 2534 2758 2815 \r\nQ 2500 3097 2075 3097 \r\nQ 1594 3097 1305 2825 \r\nQ 1016 2553 972 2059 \r\nL 3022 2063 \r\nz\r\n\" id=\"DejaVuSans-65\" transform=\"scale(0.015625)\"/>\r\n       <path d=\"M 2631 2963 \r\nQ 2534 3019 2420 3045 \r\nQ 2306 3072 2169 3072 \r\nQ 1681 3072 1420 2755 \r\nQ 1159 2438 1159 1844 \r\nL 1159 0 \r\nL 581 0 \r\nL 581 3500 \r\nL 1159 3500 \r\nL 1159 2956 \r\nQ 1341 3275 1631 3429 \r\nQ 1922 3584 2338 3584 \r\nQ 2397 3584 2469 3576 \r\nQ 2541 3569 2628 3553 \r\nL 2631 2963 \r\nz\r\n\" id=\"DejaVuSans-72\" transform=\"scale(0.015625)\"/>\r\n      </defs>\r\n      <use xlink:href=\"#DejaVuSans-4e\"/>\r\n      <use x=\"74.804688\" xlink:href=\"#DejaVuSans-6f\"/>\r\n      <use x=\"134.236328\" xlink:href=\"#DejaVuSans-2e\"/>\r\n      <use x=\"166.023438\" xlink:href=\"#DejaVuSans-20\"/>\r\n      <use x=\"197.810547\" xlink:href=\"#DejaVuSans-6f\"/>\r\n      <use x=\"258.992188\" xlink:href=\"#DejaVuSans-66\"/>\r\n      <use x=\"294.197266\" xlink:href=\"#DejaVuSans-20\"/>\r\n      <use x=\"325.984375\" xlink:href=\"#DejaVuSans-63\"/>\r\n      <use x=\"380.964844\" xlink:href=\"#DejaVuSans-6c\"/>\r\n      <use x=\"408.748047\" xlink:href=\"#DejaVuSans-75\"/>\r\n      <use x=\"472.126953\" xlink:href=\"#DejaVuSans-73\"/>\r\n      <use x=\"524.226562\" xlink:href=\"#DejaVuSans-74\"/>\r\n      <use x=\"563.435547\" xlink:href=\"#DejaVuSans-65\"/>\r\n      <use x=\"624.958984\" xlink:href=\"#DejaVuSans-72\"/>\r\n      <use x=\"666.072266\" xlink:href=\"#DejaVuSans-73\"/>\r\n     </g>\r\n    </g>\r\n   </g>\r\n   <g id=\"matplotlib.axis_2\">\r\n    <g id=\"ytick_1\">\r\n     <g id=\"line2d_8\">\r\n      <defs>\r\n       <path d=\"M 0 0 \r\nL -3.5 0 \r\n\" id=\"m8380f4e0b7\" style=\"stroke:#000000;stroke-width:0.8;\"/>\r\n      </defs>\r\n      <g>\r\n       <use style=\"stroke:#000000;stroke-width:0.8;\" x=\"50.14375\" xlink:href=\"#m8380f4e0b7\" y=\"224.288487\"/>\r\n      </g>\r\n     </g>\r\n     <g id=\"text_9\">\r\n      <!-- 0.00 -->\r\n      <g transform=\"translate(20.878125 228.087706)scale(0.1 -0.1)\">\r\n       <use xlink:href=\"#DejaVuSans-30\"/>\r\n       <use x=\"63.623047\" xlink:href=\"#DejaVuSans-2e\"/>\r\n       <use x=\"95.410156\" xlink:href=\"#DejaVuSans-30\"/>\r\n       <use x=\"159.033203\" xlink:href=\"#DejaVuSans-30\"/>\r\n      </g>\r\n     </g>\r\n    </g>\r\n    <g id=\"ytick_2\">\r\n     <g id=\"line2d_9\">\r\n      <g>\r\n       <use style=\"stroke:#000000;stroke-width:0.8;\" x=\"50.14375\" xlink:href=\"#m8380f4e0b7\" y=\"198.375104\"/>\r\n      </g>\r\n     </g>\r\n     <g id=\"text_10\">\r\n      <!-- 0.05 -->\r\n      <g transform=\"translate(20.878125 202.174323)scale(0.1 -0.1)\">\r\n       <use xlink:href=\"#DejaVuSans-30\"/>\r\n       <use x=\"63.623047\" xlink:href=\"#DejaVuSans-2e\"/>\r\n       <use x=\"95.410156\" xlink:href=\"#DejaVuSans-30\"/>\r\n       <use x=\"159.033203\" xlink:href=\"#DejaVuSans-35\"/>\r\n      </g>\r\n     </g>\r\n    </g>\r\n    <g id=\"ytick_3\">\r\n     <g id=\"line2d_10\">\r\n      <g>\r\n       <use style=\"stroke:#000000;stroke-width:0.8;\" x=\"50.14375\" xlink:href=\"#m8380f4e0b7\" y=\"172.461721\"/>\r\n      </g>\r\n     </g>\r\n     <g id=\"text_11\">\r\n      <!-- 0.10 -->\r\n      <g transform=\"translate(20.878125 176.26094)scale(0.1 -0.1)\">\r\n       <use xlink:href=\"#DejaVuSans-30\"/>\r\n       <use x=\"63.623047\" xlink:href=\"#DejaVuSans-2e\"/>\r\n       <use x=\"95.410156\" xlink:href=\"#DejaVuSans-31\"/>\r\n       <use x=\"159.033203\" xlink:href=\"#DejaVuSans-30\"/>\r\n      </g>\r\n     </g>\r\n    </g>\r\n    <g id=\"ytick_4\">\r\n     <g id=\"line2d_11\">\r\n      <g>\r\n       <use style=\"stroke:#000000;stroke-width:0.8;\" x=\"50.14375\" xlink:href=\"#m8380f4e0b7\" y=\"146.548339\"/>\r\n      </g>\r\n     </g>\r\n     <g id=\"text_12\">\r\n      <!-- 0.15 -->\r\n      <g transform=\"translate(20.878125 150.347557)scale(0.1 -0.1)\">\r\n       <use xlink:href=\"#DejaVuSans-30\"/>\r\n       <use x=\"63.623047\" xlink:href=\"#DejaVuSans-2e\"/>\r\n       <use x=\"95.410156\" xlink:href=\"#DejaVuSans-31\"/>\r\n       <use x=\"159.033203\" xlink:href=\"#DejaVuSans-35\"/>\r\n      </g>\r\n     </g>\r\n    </g>\r\n    <g id=\"ytick_5\">\r\n     <g id=\"line2d_12\">\r\n      <g>\r\n       <use style=\"stroke:#000000;stroke-width:0.8;\" x=\"50.14375\" xlink:href=\"#m8380f4e0b7\" y=\"120.634956\"/>\r\n      </g>\r\n     </g>\r\n     <g id=\"text_13\">\r\n      <!-- 0.20 -->\r\n      <g transform=\"translate(20.878125 124.434175)scale(0.1 -0.1)\">\r\n       <use xlink:href=\"#DejaVuSans-30\"/>\r\n       <use x=\"63.623047\" xlink:href=\"#DejaVuSans-2e\"/>\r\n       <use x=\"95.410156\" xlink:href=\"#DejaVuSans-32\"/>\r\n       <use x=\"159.033203\" xlink:href=\"#DejaVuSans-30\"/>\r\n      </g>\r\n     </g>\r\n    </g>\r\n    <g id=\"ytick_6\">\r\n     <g id=\"line2d_13\">\r\n      <g>\r\n       <use style=\"stroke:#000000;stroke-width:0.8;\" x=\"50.14375\" xlink:href=\"#m8380f4e0b7\" y=\"94.721573\"/>\r\n      </g>\r\n     </g>\r\n     <g id=\"text_14\">\r\n      <!-- 0.25 -->\r\n      <g transform=\"translate(20.878125 98.520792)scale(0.1 -0.1)\">\r\n       <use xlink:href=\"#DejaVuSans-30\"/>\r\n       <use x=\"63.623047\" xlink:href=\"#DejaVuSans-2e\"/>\r\n       <use x=\"95.410156\" xlink:href=\"#DejaVuSans-32\"/>\r\n       <use x=\"159.033203\" xlink:href=\"#DejaVuSans-35\"/>\r\n      </g>\r\n     </g>\r\n    </g>\r\n    <g id=\"ytick_7\">\r\n     <g id=\"line2d_14\">\r\n      <g>\r\n       <use style=\"stroke:#000000;stroke-width:0.8;\" x=\"50.14375\" xlink:href=\"#m8380f4e0b7\" y=\"68.80819\"/>\r\n      </g>\r\n     </g>\r\n     <g id=\"text_15\">\r\n      <!-- 0.30 -->\r\n      <g transform=\"translate(20.878125 72.607409)scale(0.1 -0.1)\">\r\n       <use xlink:href=\"#DejaVuSans-30\"/>\r\n       <use x=\"63.623047\" xlink:href=\"#DejaVuSans-2e\"/>\r\n       <use x=\"95.410156\" xlink:href=\"#DejaVuSans-33\"/>\r\n       <use x=\"159.033203\" xlink:href=\"#DejaVuSans-30\"/>\r\n      </g>\r\n     </g>\r\n    </g>\r\n    <g id=\"ytick_8\">\r\n     <g id=\"line2d_15\">\r\n      <g>\r\n       <use style=\"stroke:#000000;stroke-width:0.8;\" x=\"50.14375\" xlink:href=\"#m8380f4e0b7\" y=\"42.894808\"/>\r\n      </g>\r\n     </g>\r\n     <g id=\"text_16\">\r\n      <!-- 0.35 -->\r\n      <g transform=\"translate(20.878125 46.694026)scale(0.1 -0.1)\">\r\n       <use xlink:href=\"#DejaVuSans-30\"/>\r\n       <use x=\"63.623047\" xlink:href=\"#DejaVuSans-2e\"/>\r\n       <use x=\"95.410156\" xlink:href=\"#DejaVuSans-33\"/>\r\n       <use x=\"159.033203\" xlink:href=\"#DejaVuSans-35\"/>\r\n      </g>\r\n     </g>\r\n    </g>\r\n    <g id=\"ytick_9\">\r\n     <g id=\"line2d_16\">\r\n      <g>\r\n       <use style=\"stroke:#000000;stroke-width:0.8;\" x=\"50.14375\" xlink:href=\"#m8380f4e0b7\" y=\"16.981425\"/>\r\n      </g>\r\n     </g>\r\n     <g id=\"text_17\">\r\n      <!-- 0.40 -->\r\n      <g transform=\"translate(20.878125 20.780644)scale(0.1 -0.1)\">\r\n       <defs>\r\n        <path d=\"M 2419 4116 \r\nL 825 1625 \r\nL 2419 1625 \r\nL 2419 4116 \r\nz\r\nM 2253 4666 \r\nL 3047 4666 \r\nL 3047 1625 \r\nL 3713 1625 \r\nL 3713 1100 \r\nL 3047 1100 \r\nL 3047 0 \r\nL 2419 0 \r\nL 2419 1100 \r\nL 313 1100 \r\nL 313 1709 \r\nL 2253 4666 \r\nz\r\n\" id=\"DejaVuSans-34\" transform=\"scale(0.015625)\"/>\r\n       </defs>\r\n       <use xlink:href=\"#DejaVuSans-30\"/>\r\n       <use x=\"63.623047\" xlink:href=\"#DejaVuSans-2e\"/>\r\n       <use x=\"95.410156\" xlink:href=\"#DejaVuSans-34\"/>\r\n       <use x=\"159.033203\" xlink:href=\"#DejaVuSans-30\"/>\r\n      </g>\r\n     </g>\r\n    </g>\r\n    <g id=\"text_18\">\r\n     <!-- Silhoutte score -->\r\n     <g transform=\"translate(14.798438 153.287969)rotate(-90)scale(0.1 -0.1)\">\r\n      <defs>\r\n       <path d=\"M 3425 4513 \r\nL 3425 3897 \r\nQ 3066 4069 2747 4153 \r\nQ 2428 4238 2131 4238 \r\nQ 1616 4238 1336 4038 \r\nQ 1056 3838 1056 3469 \r\nQ 1056 3159 1242 3001 \r\nQ 1428 2844 1947 2747 \r\nL 2328 2669 \r\nQ 3034 2534 3370 2195 \r\nQ 3706 1856 3706 1288 \r\nQ 3706 609 3251 259 \r\nQ 2797 -91 1919 -91 \r\nQ 1588 -91 1214 -16 \r\nQ 841 59 441 206 \r\nL 441 856 \r\nQ 825 641 1194 531 \r\nQ 1563 422 1919 422 \r\nQ 2459 422 2753 634 \r\nQ 3047 847 3047 1241 \r\nQ 3047 1584 2836 1778 \r\nQ 2625 1972 2144 2069 \r\nL 1759 2144 \r\nQ 1053 2284 737 2584 \r\nQ 422 2884 422 3419 \r\nQ 422 4038 858 4394 \r\nQ 1294 4750 2059 4750 \r\nQ 2388 4750 2728 4690 \r\nQ 3069 4631 3425 4513 \r\nz\r\n\" id=\"DejaVuSans-53\" transform=\"scale(0.015625)\"/>\r\n       <path d=\"M 603 3500 \r\nL 1178 3500 \r\nL 1178 0 \r\nL 603 0 \r\nL 603 3500 \r\nz\r\nM 603 4863 \r\nL 1178 4863 \r\nL 1178 4134 \r\nL 603 4134 \r\nL 603 4863 \r\nz\r\n\" id=\"DejaVuSans-69\" transform=\"scale(0.015625)\"/>\r\n       <path d=\"M 3513 2113 \r\nL 3513 0 \r\nL 2938 0 \r\nL 2938 2094 \r\nQ 2938 2591 2744 2837 \r\nQ 2550 3084 2163 3084 \r\nQ 1697 3084 1428 2787 \r\nQ 1159 2491 1159 1978 \r\nL 1159 0 \r\nL 581 0 \r\nL 581 4863 \r\nL 1159 4863 \r\nL 1159 2956 \r\nQ 1366 3272 1645 3428 \r\nQ 1925 3584 2291 3584 \r\nQ 2894 3584 3203 3211 \r\nQ 3513 2838 3513 2113 \r\nz\r\n\" id=\"DejaVuSans-68\" transform=\"scale(0.015625)\"/>\r\n      </defs>\r\n      <use xlink:href=\"#DejaVuSans-53\"/>\r\n      <use x=\"63.476562\" xlink:href=\"#DejaVuSans-69\"/>\r\n      <use x=\"91.259766\" xlink:href=\"#DejaVuSans-6c\"/>\r\n      <use x=\"119.042969\" xlink:href=\"#DejaVuSans-68\"/>\r\n      <use x=\"182.421875\" xlink:href=\"#DejaVuSans-6f\"/>\r\n      <use x=\"243.603516\" xlink:href=\"#DejaVuSans-75\"/>\r\n      <use x=\"306.982422\" xlink:href=\"#DejaVuSans-74\"/>\r\n      <use x=\"346.191406\" xlink:href=\"#DejaVuSans-74\"/>\r\n      <use x=\"385.400391\" xlink:href=\"#DejaVuSans-65\"/>\r\n      <use x=\"446.923828\" xlink:href=\"#DejaVuSans-20\"/>\r\n      <use x=\"478.710938\" xlink:href=\"#DejaVuSans-73\"/>\r\n      <use x=\"530.810547\" xlink:href=\"#DejaVuSans-63\"/>\r\n      <use x=\"585.791016\" xlink:href=\"#DejaVuSans-6f\"/>\r\n      <use x=\"646.972656\" xlink:href=\"#DejaVuSans-72\"/>\r\n      <use x=\"685.835938\" xlink:href=\"#DejaVuSans-65\"/>\r\n     </g>\r\n    </g>\r\n   </g>\r\n   <g id=\"line2d_17\">\r\n    <path clip-path=\"url(#pfa6c298086)\" d=\"M 65.361932 26.621082 \r\nL 75.180114 17.083636 \r\nL 84.998295 34.231597 \r\nL 94.816477 40.271905 \r\nL 104.634659 36.533731 \r\nL 114.452841 43.594119 \r\nL 124.271023 39.65267 \r\nL 134.089205 35.383404 \r\nL 143.907386 20.346896 \r\nL 153.725568 18.64901 \r\nL 163.54375 27.220855 \r\nL 173.361932 28.612677 \r\nL 183.180114 36.666847 \r\nL 192.998295 46.97825 \r\nL 202.816477 56.056523 \r\nL 212.634659 61.592756 \r\nL 222.452841 70.177113 \r\nL 232.271023 73.397574 \r\nL 242.089205 76.774819 \r\nL 251.907386 85.966356 \r\nL 261.725568 94.054182 \r\nL 271.54375 107.203777 \r\nL 281.361932 116.247769 \r\nL 291.180114 134.467824 \r\nL 300.998295 140.493933 \r\nL 310.816477 147.767165 \r\nL 320.634659 160.405888 \r\nL 330.452841 171.230661 \r\nL 340.271023 181.144566 \r\nL 350.089205 189.559779 \r\nL 359.907386 204.900157 \r\nL 369.725568 214.756364 \r\n\" style=\"fill:none;stroke:#1f77b4;stroke-linecap:square;stroke-width:1.5;\"/>\r\n   </g>\r\n   <g id=\"line2d_18\">\r\n    <path clip-path=\"url(#pfa6c298086)\" d=\"M 153.725568 224.64 \r\nL 153.725568 7.2 \r\n\" style=\"fill:none;stroke:#1f77b4;stroke-linecap:square;stroke-width:1.5;\"/>\r\n   </g>\r\n   <g id=\"patch_3\">\r\n    <path d=\"M 50.14375 224.64 \r\nL 50.14375 7.2 \r\n\" style=\"fill:none;stroke:#000000;stroke-linecap:square;stroke-linejoin:miter;stroke-width:0.8;\"/>\r\n   </g>\r\n   <g id=\"patch_4\">\r\n    <path d=\"M 384.94375 224.64 \r\nL 384.94375 7.2 \r\n\" style=\"fill:none;stroke:#000000;stroke-linecap:square;stroke-linejoin:miter;stroke-width:0.8;\"/>\r\n   </g>\r\n   <g id=\"patch_5\">\r\n    <path d=\"M 50.14375 224.64 \r\nL 384.94375 224.64 \r\n\" style=\"fill:none;stroke:#000000;stroke-linecap:square;stroke-linejoin:miter;stroke-width:0.8;\"/>\r\n   </g>\r\n   <g id=\"patch_6\">\r\n    <path d=\"M 50.14375 7.2 \r\nL 384.94375 7.2 \r\n\" style=\"fill:none;stroke:#000000;stroke-linecap:square;stroke-linejoin:miter;stroke-width:0.8;\"/>\r\n   </g>\r\n   <g id=\"text_19\">\r\n    <!-- Max silhoutte score at n=9 -->\r\n    <g transform=\"translate(153.725568 48.077484)scale(0.1 -0.1)\">\r\n     <defs>\r\n      <path d=\"M 628 4666 \r\nL 1569 4666 \r\nL 2759 1491 \r\nL 3956 4666 \r\nL 4897 4666 \r\nL 4897 0 \r\nL 4281 0 \r\nL 4281 4097 \r\nL 3078 897 \r\nL 2444 897 \r\nL 1241 4097 \r\nL 1241 0 \r\nL 628 0 \r\nL 628 4666 \r\nz\r\n\" id=\"DejaVuSans-4d\" transform=\"scale(0.015625)\"/>\r\n      <path d=\"M 2194 1759 \r\nQ 1497 1759 1228 1600 \r\nQ 959 1441 959 1056 \r\nQ 959 750 1161 570 \r\nQ 1363 391 1709 391 \r\nQ 2188 391 2477 730 \r\nQ 2766 1069 2766 1631 \r\nL 2766 1759 \r\nL 2194 1759 \r\nz\r\nM 3341 1997 \r\nL 3341 0 \r\nL 2766 0 \r\nL 2766 531 \r\nQ 2569 213 2275 61 \r\nQ 1981 -91 1556 -91 \r\nQ 1019 -91 701 211 \r\nQ 384 513 384 1019 \r\nQ 384 1609 779 1909 \r\nQ 1175 2209 1959 2209 \r\nL 2766 2209 \r\nL 2766 2266 \r\nQ 2766 2663 2505 2880 \r\nQ 2244 3097 1772 3097 \r\nQ 1472 3097 1187 3025 \r\nQ 903 2953 641 2809 \r\nL 641 3341 \r\nQ 956 3463 1253 3523 \r\nQ 1550 3584 1831 3584 \r\nQ 2591 3584 2966 3190 \r\nQ 3341 2797 3341 1997 \r\nz\r\n\" id=\"DejaVuSans-61\" transform=\"scale(0.015625)\"/>\r\n      <path d=\"M 3513 3500 \r\nL 2247 1797 \r\nL 3578 0 \r\nL 2900 0 \r\nL 1881 1375 \r\nL 863 0 \r\nL 184 0 \r\nL 1544 1831 \r\nL 300 3500 \r\nL 978 3500 \r\nL 1906 2253 \r\nL 2834 3500 \r\nL 3513 3500 \r\nz\r\n\" id=\"DejaVuSans-78\" transform=\"scale(0.015625)\"/>\r\n      <path d=\"M 3513 2113 \r\nL 3513 0 \r\nL 2938 0 \r\nL 2938 2094 \r\nQ 2938 2591 2744 2837 \r\nQ 2550 3084 2163 3084 \r\nQ 1697 3084 1428 2787 \r\nQ 1159 2491 1159 1978 \r\nL 1159 0 \r\nL 581 0 \r\nL 581 3500 \r\nL 1159 3500 \r\nL 1159 2956 \r\nQ 1366 3272 1645 3428 \r\nQ 1925 3584 2291 3584 \r\nQ 2894 3584 3203 3211 \r\nQ 3513 2838 3513 2113 \r\nz\r\n\" id=\"DejaVuSans-6e\" transform=\"scale(0.015625)\"/>\r\n      <path d=\"M 678 2906 \r\nL 4684 2906 \r\nL 4684 2381 \r\nL 678 2381 \r\nL 678 2906 \r\nz\r\nM 678 1631 \r\nL 4684 1631 \r\nL 4684 1100 \r\nL 678 1100 \r\nL 678 1631 \r\nz\r\n\" id=\"DejaVuSans-3d\" transform=\"scale(0.015625)\"/>\r\n      <path d=\"M 703 97 \r\nL 703 672 \r\nQ 941 559 1184 500 \r\nQ 1428 441 1663 441 \r\nQ 2288 441 2617 861 \r\nQ 2947 1281 2994 2138 \r\nQ 2813 1869 2534 1725 \r\nQ 2256 1581 1919 1581 \r\nQ 1219 1581 811 2004 \r\nQ 403 2428 403 3163 \r\nQ 403 3881 828 4315 \r\nQ 1253 4750 1959 4750 \r\nQ 2769 4750 3195 4129 \r\nQ 3622 3509 3622 2328 \r\nQ 3622 1225 3098 567 \r\nQ 2575 -91 1691 -91 \r\nQ 1453 -91 1209 -44 \r\nQ 966 3 703 97 \r\nz\r\nM 1959 2075 \r\nQ 2384 2075 2632 2365 \r\nQ 2881 2656 2881 3163 \r\nQ 2881 3666 2632 3958 \r\nQ 2384 4250 1959 4250 \r\nQ 1534 4250 1286 3958 \r\nQ 1038 3666 1038 3163 \r\nQ 1038 2656 1286 2365 \r\nQ 1534 2075 1959 2075 \r\nz\r\n\" id=\"DejaVuSans-39\" transform=\"scale(0.015625)\"/>\r\n     </defs>\r\n     <use xlink:href=\"#DejaVuSans-4d\"/>\r\n     <use x=\"86.279297\" xlink:href=\"#DejaVuSans-61\"/>\r\n     <use x=\"147.558594\" xlink:href=\"#DejaVuSans-78\"/>\r\n     <use x=\"206.738281\" xlink:href=\"#DejaVuSans-20\"/>\r\n     <use x=\"238.525391\" xlink:href=\"#DejaVuSans-73\"/>\r\n     <use x=\"290.625\" xlink:href=\"#DejaVuSans-69\"/>\r\n     <use x=\"318.408203\" xlink:href=\"#DejaVuSans-6c\"/>\r\n     <use x=\"346.191406\" xlink:href=\"#DejaVuSans-68\"/>\r\n     <use x=\"409.570312\" xlink:href=\"#DejaVuSans-6f\"/>\r\n     <use x=\"470.751953\" xlink:href=\"#DejaVuSans-75\"/>\r\n     <use x=\"534.130859\" xlink:href=\"#DejaVuSans-74\"/>\r\n     <use x=\"573.339844\" xlink:href=\"#DejaVuSans-74\"/>\r\n     <use x=\"612.548828\" xlink:href=\"#DejaVuSans-65\"/>\r\n     <use x=\"674.072266\" xlink:href=\"#DejaVuSans-20\"/>\r\n     <use x=\"705.859375\" xlink:href=\"#DejaVuSans-73\"/>\r\n     <use x=\"757.958984\" xlink:href=\"#DejaVuSans-63\"/>\r\n     <use x=\"812.939453\" xlink:href=\"#DejaVuSans-6f\"/>\r\n     <use x=\"874.121094\" xlink:href=\"#DejaVuSans-72\"/>\r\n     <use x=\"912.984375\" xlink:href=\"#DejaVuSans-65\"/>\r\n     <use x=\"974.507812\" xlink:href=\"#DejaVuSans-20\"/>\r\n     <use x=\"1006.294922\" xlink:href=\"#DejaVuSans-61\"/>\r\n     <use x=\"1067.574219\" xlink:href=\"#DejaVuSans-74\"/>\r\n     <use x=\"1106.783203\" xlink:href=\"#DejaVuSans-20\"/>\r\n     <use x=\"1138.570312\" xlink:href=\"#DejaVuSans-6e\"/>\r\n     <use x=\"1201.949219\" xlink:href=\"#DejaVuSans-3d\"/>\r\n     <use x=\"1285.738281\" xlink:href=\"#DejaVuSans-39\"/>\r\n    </g>\r\n   </g>\r\n   <g id=\"legend_1\">\r\n    <g id=\"patch_7\">\r\n     <path d=\"M 339.58125 29.878125 \r\nL 377.94375 29.878125 \r\nQ 379.94375 29.878125 379.94375 27.878125 \r\nL 379.94375 14.2 \r\nQ 379.94375 12.2 377.94375 12.2 \r\nL 339.58125 12.2 \r\nQ 337.58125 12.2 337.58125 14.2 \r\nL 337.58125 27.878125 \r\nQ 337.58125 29.878125 339.58125 29.878125 \r\nz\r\n\" style=\"fill:#ffffff;opacity:0.8;stroke:#cccccc;stroke-linejoin:miter;\"/>\r\n    </g>\r\n    <g id=\"line2d_19\">\r\n     <path d=\"M 341.58125 20.298437 \r\nL 361.58125 20.298437 \r\n\" style=\"fill:none;stroke:#1f77b4;stroke-linecap:square;stroke-width:1.5;\"/>\r\n    </g>\r\n    <g id=\"line2d_20\"/>\r\n    <g id=\"text_20\">\r\n     <!-- 0 -->\r\n     <g transform=\"translate(369.58125 23.798437)scale(0.1 -0.1)\">\r\n      <use xlink:href=\"#DejaVuSans-30\"/>\r\n     </g>\r\n    </g>\r\n   </g>\r\n  </g>\r\n </g>\r\n <defs>\r\n  <clipPath id=\"pfa6c298086\">\r\n   <rect height=\"217.44\" width=\"334.8\" x=\"50.14375\" y=\"7.2\"/>\r\n  </clipPath>\r\n </defs>\r\n</svg>\r\n",
      "image/png": "[encoded data removed]"
     },
     "metadata": {
      "needs_background": "light"
     }
    }
   ],
   "source": [
    "clusters=create_clusters(clusterset.drop(['State'],axis=1),list(clusterset.columns[1:]))"
   ]
  },
  {
   "cell_type": "code",
   "execution_count": 289,
   "metadata": {},
   "outputs": [
    {
     "output_type": "execute_result",
     "data": {
      "text/plain": [
       "<pandas.io.formats.style.Styler at 0x1f85a018f70>"
      ],
      "text/html": "<style  type=\"text/css\" >\n#T_7d78d_row0_col0{\n            background-color:  #98d7ba;\n            color:  #000000;\n        }#T_7d78d_row0_col1{\n            background-color:  #a0dab8;\n            color:  #000000;\n        }#T_7d78d_row0_col2{\n            background-color:  #a9ddb5;\n            color:  #000000;\n        }#T_7d78d_row0_col3,#T_7d78d_row2_col0,#T_7d78d_row2_col1,#T_7d78d_row2_col2{\n            background-color:  #f7fcf0;\n            color:  #000000;\n        }#T_7d78d_row1_col0,#T_7d78d_row3_col1{\n            background-color:  #def2d9;\n            color:  #000000;\n        }#T_7d78d_row1_col1{\n            background-color:  #9bd8b9;\n            color:  #000000;\n        }#T_7d78d_row1_col2{\n            background-color:  #81cec2;\n            color:  #000000;\n        }#T_7d78d_row1_col3,#T_7d78d_row8_col0{\n            background-color:  #e0f3db;\n            color:  #000000;\n        }#T_7d78d_row2_col3,#T_7d78d_row4_col0{\n            background-color:  #ccebc5;\n            color:  #000000;\n        }#T_7d78d_row3_col0,#T_7d78d_row6_col2{\n            background-color:  #d4eece;\n            color:  #000000;\n        }#T_7d78d_row3_col2{\n            background-color:  #c2e7c0;\n            color:  #000000;\n        }#T_7d78d_row3_col3{\n            background-color:  #a7ddb5;\n            color:  #000000;\n        }#T_7d78d_row4_col1{\n            background-color:  #b1e0b9;\n            color:  #000000;\n        }#T_7d78d_row4_col2,#T_7d78d_row5_col1,#T_7d78d_row7_col0,#T_7d78d_row8_col3{\n            background-color:  #084081;\n            color:  #f1f1f1;\n        }#T_7d78d_row4_col3{\n            background-color:  #7accc4;\n            color:  #000000;\n        }#T_7d78d_row5_col0{\n            background-color:  #1b7bb6;\n            color:  #000000;\n        }#T_7d78d_row5_col2{\n            background-color:  #68c1ca;\n            color:  #000000;\n        }#T_7d78d_row5_col3{\n            background-color:  #4db2d3;\n            color:  #000000;\n        }#T_7d78d_row6_col0{\n            background-color:  #ebf7e5;\n            color:  #000000;\n        }#T_7d78d_row6_col1{\n            background-color:  #e6f5e0;\n            color:  #000000;\n        }#T_7d78d_row6_col3{\n            background-color:  #2a8bbe;\n            color:  #000000;\n        }#T_7d78d_row7_col1{\n            background-color:  #43a7cd;\n            color:  #000000;\n        }#T_7d78d_row7_col2{\n            background-color:  #b9e3bc;\n            color:  #000000;\n        }#T_7d78d_row7_col3{\n            background-color:  #0867ab;\n            color:  #f1f1f1;\n        }#T_7d78d_row8_col1{\n            background-color:  #bee6bf;\n            color:  #000000;\n        }#T_7d78d_row8_col2{\n            background-color:  #3fa2ca;\n            color:  #000000;\n        }</style><table id=\"T_7d78d_\" ><thead>    <tr>        <th class=\"blank level0\" ></th>        <th class=\"col_heading level0 col0\" >Dropout-PRIMARY</th>        <th class=\"col_heading level0 col1\" >Dropout-UPPER_PRIMARY</th>        <th class=\"col_heading level0 col2\" >Dropout-SECONDARY</th>        <th class=\"col_heading level0 col3\" >Labels</th>    </tr>    <tr>        <th class=\"index_name level0\" >Labels</th>        <th class=\"blank\" ></th>        <th class=\"blank\" ></th>        <th class=\"blank\" ></th>        <th class=\"blank\" ></th>    </tr></thead><tbody>\n                <tr>\n                        <th id=\"T_7d78d_level0_row0\" class=\"row_heading level0 row0\" >0</th>\n                        <td id=\"T_7d78d_row0_col0\" class=\"data row0 col0\" >5.224667</td>\n                        <td id=\"T_7d78d_row0_col1\" class=\"data row0 col1\" >3.908667</td>\n                        <td id=\"T_7d78d_row0_col2\" class=\"data row0 col2\" >16.076000</td>\n                        <td id=\"T_7d78d_row0_col3\" class=\"data row0 col3\" >0</td>\n            </tr>\n            <tr>\n                        <th id=\"T_7d78d_level0_row1\" class=\"row_heading level0 row1\" >1</th>\n                        <td id=\"T_7d78d_row1_col0\" class=\"data row1 col0\" >1.731333</td>\n                        <td id=\"T_7d78d_row1_col1\" class=\"data row1 col1\" >4.034667</td>\n                        <td id=\"T_7d78d_row1_col2\" class=\"data row1 col2\" >20.774000</td>\n                        <td id=\"T_7d78d_row1_col3\" class=\"data row1 col3\" >1</td>\n            </tr>\n            <tr>\n                        <th id=\"T_7d78d_level0_row2\" class=\"row_heading level0 row2\" >2</th>\n                        <td id=\"T_7d78d_row2_col0\" class=\"data row2 col0\" >0.000000</td>\n                        <td id=\"T_7d78d_row2_col1\" class=\"data row2 col1\" >0.540000</td>\n                        <td id=\"T_7d78d_row2_col2\" class=\"data row2 col2\" >0.000000</td>\n                        <td id=\"T_7d78d_row2_col3\" class=\"data row2 col3\" >2</td>\n            </tr>\n            <tr>\n                        <th id=\"T_7d78d_level0_row3\" class=\"row_heading level0 row3\" >3</th>\n                        <td id=\"T_7d78d_row3_col0\" class=\"data row3 col0\" >2.482381</td>\n                        <td id=\"T_7d78d_row3_col1\" class=\"data row3 col1\" >1.717619</td>\n                        <td id=\"T_7d78d_row3_col2\" class=\"data row3 col2\" >12.400000</td>\n                        <td id=\"T_7d78d_row3_col3\" class=\"data row3 col3\" >3</td>\n            </tr>\n            <tr>\n                        <th id=\"T_7d78d_level0_row4\" class=\"row_heading level0 row4\" >4</th>\n                        <td id=\"T_7d78d_row4_col0\" class=\"data row4 col0\" >3.120000</td>\n                        <td id=\"T_7d78d_row4_col1\" class=\"data row4 col1\" >3.473333</td>\n                        <td id=\"T_7d78d_row4_col2\" class=\"data row4 col2\" >42.966667</td>\n                        <td id=\"T_7d78d_row4_col3\" class=\"data row4 col3\" >4</td>\n            </tr>\n            <tr>\n                        <th id=\"T_7d78d_level0_row5\" class=\"row_heading level0 row5\" >5</th>\n                        <td id=\"T_7d78d_row5_col0\" class=\"data row5 col0\" >10.010000</td>\n                        <td id=\"T_7d78d_row5_col1\" class=\"data row5 col1\" >9.053889</td>\n                        <td id=\"T_7d78d_row5_col2\" class=\"data row5 col2\" >23.773889</td>\n                        <td id=\"T_7d78d_row5_col3\" class=\"data row5 col3\" >5</td>\n            </tr>\n            <tr>\n                        <th id=\"T_7d78d_level0_row6\" class=\"row_heading level0 row6\" >6</th>\n                        <td id=\"T_7d78d_row6_col0\" class=\"data row6 col0\" >0.868095</td>\n                        <td id=\"T_7d78d_row6_col1\" class=\"data row6 col1\" >1.368571</td>\n                        <td id=\"T_7d78d_row6_col2\" class=\"data row6 col2\" >8.635238</td>\n                        <td id=\"T_7d78d_row6_col3\" class=\"data row6 col3\" >6</td>\n            </tr>\n            <tr>\n                        <th id=\"T_7d78d_level0_row7\" class=\"row_heading level0 row7\" >7</th>\n                        <td id=\"T_7d78d_row7_col0\" class=\"data row7 col0\" >12.398333</td>\n                        <td id=\"T_7d78d_row7_col1\" class=\"data row7 col1\" >6.175000</td>\n                        <td id=\"T_7d78d_row7_col2\" class=\"data row7 col2\" >13.745000</td>\n                        <td id=\"T_7d78d_row7_col3\" class=\"data row7 col3\" >7</td>\n            </tr>\n            <tr>\n                        <th id=\"T_7d78d_level0_row8\" class=\"row_heading level0 row8\" >8</th>\n                        <td id=\"T_7d78d_row8_col0\" class=\"data row8 col0\" >1.566667</td>\n                        <td id=\"T_7d78d_row8_col1\" class=\"data row8 col1\" >3.078333</td>\n                        <td id=\"T_7d78d_row8_col2\" class=\"data row8 col2\" >29.173333</td>\n                        <td id=\"T_7d78d_row8_col3\" class=\"data row8 col3\" >8</td>\n            </tr>\n    </tbody></table>"
     },
     "metadata": {},
     "execution_count": 289
    }
   ],
   "source": [
    "reqd=clusters.groupby('Labels')[clusters.columns[1:-1]].agg('mean')\n",
    "reqd.style.background_gradient(cmap='GnBu')"
   ]
  },
  {
   "cell_type": "code",
   "execution_count": 290,
   "metadata": {},
   "outputs": [
    {
     "output_type": "display_data",
     "data": {
      "application/vnd.plotly.v1+json": {
       "config": {
        "plotlyServerURL": "https://plot.ly"
       },
       "data": [
        {
         "hovertemplate": "color=brown<br>Labels=6<br>Dropout-SECONDARY=%{x}<br>Dropout-PRIMARY=%{y}<br>Dropout-UPPER_PRIMARY=%{z}<br>State=%{text}<extra></extra>",
         "legendgroup": "brown, 6",
         "marker": {
          "color": "#636efa",
          "opacity": 0.7,
          "symbol": "circle"
         },
         "mode": "markers+text",
         "name": "brown, 6",
         "scene": "scene",
         "showlegend": true,
         "text": [
          "A & N Islands",
          "Delhi",
          "Goa",
          "Himachal Pradesh",
          "Lakshadweep",
          "Punjab",
          "Tamil  Nadu"
         ],
         "type": "scatter3d",
         "x": [
          7.543333333333333,
          8.676666666666668,
          9.563333333333333,
          7.843333333333334,
          7.489999999999999,
          9.163333333333334,
          10.166666666666666
         ],
         "y": [
          0.8000000000000002,
          0,
          0.31,
          0.5166666666666667,
          0.8333333333333334,
          2.11,
          1.5066666666666666
         ],
         "z": [
          1.1433333333333333,
          1.18,
          0.023333333333333334,
          0.7200000000000001,
          1.6433333333333333,
          2.9499999999999997,
          1.92
         ]
        },
        {
         "hovertemplate": "color=cyan<br>Labels=0<br>Dropout-SECONDARY=%{x}<br>Dropout-PRIMARY=%{y}<br>Dropout-UPPER_PRIMARY=%{z}<br>State=%{text}<extra></extra>",
         "legendgroup": "cyan, 0",
         "marker": {
          "color": "#EF553B",
          "opacity": 0.7,
          "symbol": "diamond"
         },
         "mode": "markers+text",
         "name": "cyan, 0",
         "scene": "scene",
         "showlegend": true,
         "text": [
          "Andhra Pradesh",
          "Jammu & Kashmir",
          "Rajasthan",
          "Tripura",
          "West Bengal"
         ],
         "type": "scatter3d",
         "x": [
          13.693333333333333,
          16.656666666666666,
          15.300000000000002,
          17.83666666666667,
          16.893333333333334
         ],
         "y": [
          4.75,
          6.183333333333334,
          7.126666666666666,
          5.046666666666667,
          3.016666666666667
         ],
         "z": [
          4.113333333333333,
          5.086666666666667,
          4.506666666666667,
          1.9233333333333331,
          3.9133333333333327
         ]
        },
        {
         "hovertemplate": "color=pink<br>Labels=7<br>Dropout-SECONDARY=%{x}<br>Dropout-PRIMARY=%{y}<br>Dropout-UPPER_PRIMARY=%{z}<br>State=%{text}<extra></extra>",
         "legendgroup": "pink, 7",
         "marker": {
          "color": "#00cc96",
          "opacity": 0.7,
          "symbol": "square"
         },
         "mode": "markers+text",
         "name": "pink, 7",
         "scene": "scene",
         "showlegend": true,
         "text": [
          "Arunachal  Pradesh",
          "Manipur"
         ],
         "type": "scatter3d",
         "x": [
          14.843333333333334,
          12.646666666666668
         ],
         "y": [
          12.290000000000001,
          12.506666666666666
         ],
         "z": [
          6.59,
          5.759999999999999
         ]
        },
        {
         "hovertemplate": "color=purple<br>Labels=5<br>Dropout-SECONDARY=%{x}<br>Dropout-PRIMARY=%{y}<br>Dropout-UPPER_PRIMARY=%{z}<br>State=%{text}<extra></extra>",
         "legendgroup": "purple, 5",
         "marker": {
          "color": "#ab63fa",
          "opacity": 0.7,
          "symbol": "x"
         },
         "mode": "markers+text",
         "name": "purple, 5",
         "scene": "scene",
         "showlegend": true,
         "text": [
          "Assam",
          "Jharkhand",
          "Madhya  Pradesh",
          "Meghalaya",
          "Mizoram",
          "Nagaland"
         ],
         "type": "scatter3d",
         "x": [
          28.08666666666667,
          21.883333333333336,
          21.623333333333335,
          23.766666666666666,
          20.666666666666668,
          26.61666666666667
         ],
         "y": [
          9.68,
          6.366666666666667,
          7.613333333333333,
          9.98,
          15.723333333333334,
          10.696666666666667
         ],
         "z": [
          8.253333333333332,
          7.293333333333334,
          9.809999999999999,
          7.07,
          10.026666666666667,
          11.87
         ]
        },
        {
         "hovertemplate": "color=olive<br>Labels=8<br>Dropout-SECONDARY=%{x}<br>Dropout-PRIMARY=%{y}<br>Dropout-UPPER_PRIMARY=%{z}<br>State=%{text}<extra></extra>",
         "legendgroup": "olive, 8",
         "marker": {
          "color": "#FFA15A",
          "opacity": 0.7,
          "symbol": "cross"
         },
         "mode": "markers+text",
         "name": "olive, 8",
         "scene": "scene",
         "showlegend": true,
         "text": [
          "Bihar",
          "Karnataka"
         ],
         "type": "scatter3d",
         "x": [
          27.123333333333335,
          31.22333333333334
         ],
         "y": [
          0.6966666666666667,
          2.436666666666667
         ],
         "z": [
          2.3533333333333335,
          3.8033333333333332
         ]
        },
        {
         "hovertemplate": "color=orange<br>Labels=2<br>Dropout-SECONDARY=%{x}<br>Dropout-PRIMARY=%{y}<br>Dropout-UPPER_PRIMARY=%{z}<br>State=%{text}<extra></extra>",
         "legendgroup": "orange, 2",
         "marker": {
          "color": "#19d3f3",
          "opacity": 0.7,
          "symbol": "circle"
         },
         "mode": "markers+text",
         "name": "orange, 2",
         "scene": "scene",
         "showlegend": true,
         "text": [
          "Chandigarh"
         ],
         "type": "scatter3d",
         "x": [
          0
         ],
         "y": [
          0
         ],
         "z": [
          0.54
         ]
        },
        {
         "hovertemplate": "color=blue<br>Labels=1<br>Dropout-SECONDARY=%{x}<br>Dropout-PRIMARY=%{y}<br>Dropout-UPPER_PRIMARY=%{z}<br>State=%{text}<extra></extra>",
         "legendgroup": "blue, 1",
         "marker": {
          "color": "#FF6692",
          "opacity": 0.7,
          "symbol": "diamond"
         },
         "mode": "markers+text",
         "name": "blue, 1",
         "scene": "scene",
         "showlegend": true,
         "text": [
          "Chhattisgarh",
          "Dadra & Nagar Haveli",
          "Daman & Diu",
          "Gujarat",
          "Telangana"
         ],
         "type": "scatter3d",
         "x": [
          19.843333333333334,
          23.256666666666664,
          21.21666666666667,
          20.066666666666666,
          19.486666666666668
         ],
         "y": [
          2.823333333333333,
          1.0133333333333334,
          0.6533333333333333,
          0.7966666666666667,
          3.3699999999999997
         ],
         "z": [
          5.0233333333333325,
          3.8433333333333333,
          2.223333333333333,
          5.72,
          3.3633333333333333
         ]
        },
        {
         "hovertemplate": "color=green<br>Labels=3<br>Dropout-SECONDARY=%{x}<br>Dropout-PRIMARY=%{y}<br>Dropout-UPPER_PRIMARY=%{z}<br>State=%{text}<extra></extra>",
         "legendgroup": "green, 3",
         "marker": {
          "color": "#B6E880",
          "opacity": 0.7,
          "symbol": "square"
         },
         "mode": "markers+text",
         "name": "green, 3",
         "scene": "scene",
         "showlegend": true,
         "text": [
          "Haryana",
          "Kerala",
          "Maharashtra",
          "Puducherry",
          "Sikkim",
          "Uttar Pradesh",
          "Uttarakhand"
         ],
         "type": "scatter3d",
         "x": [
          12.46,
          12.076666666666668,
          14.513333333333334,
          13.88,
          12.670000000000002,
          9.066666666666666,
          12.133333333333335
         ],
         "y": [
          2.436666666666667,
          0,
          0.9266666666666667,
          0.4566666666666667,
          3.48,
          5.6066666666666665,
          4.47
         ],
         "z": [
          2.94,
          0,
          1.3800000000000001,
          0.6133333333333334,
          3.2866666666666666,
          1.12,
          2.6833333333333336
         ]
        },
        {
         "hovertemplate": "color=red<br>Labels=4<br>Dropout-SECONDARY=%{x}<br>Dropout-PRIMARY=%{y}<br>Dropout-UPPER_PRIMARY=%{z}<br>State=%{text}<extra></extra>",
         "legendgroup": "red, 4",
         "marker": {
          "color": "#FF97FF",
          "opacity": 0.7,
          "symbol": "x"
         },
         "mode": "markers+text",
         "name": "red, 4",
         "scene": "scene",
         "showlegend": true,
         "text": [
          "Odisha"
         ],
         "type": "scatter3d",
         "x": [
          42.96666666666667
         ],
         "y": [
          3.1199999999999997
         ],
         "z": [
          3.473333333333333
         ]
        }
       ],
       "layout": {
        "height": 720,
        "legend": {
         "title": {
          "text": "color, Labels"
         },
         "tracegroupgap": 0
        },
        "margin": {
         "t": 60
        },
        "scene": {
         "domain": {
          "x": [
           0,
           1
          ],
          "y": [
           0,
           1
          ]
         },
         "xaxis": {
          "title": {
           "text": "Dropout-SECONDARY"
          }
         },
         "yaxis": {
          "title": {
           "text": "Dropout-PRIMARY"
          }
         },
         "zaxis": {
          "title": {
           "text": "Dropout-UPPER_PRIMARY"
          }
         }
        },
        "template": {
         "data": {
          "bar": [
           {
            "error_x": {
             "color": "#2a3f5f"
            },
            "error_y": {
             "color": "#2a3f5f"
            },
            "marker": {
             "line": {
              "color": "#E5ECF6",
              "width": 0.5
             }
            },
            "type": "bar"
           }
          ],
          "barpolar": [
           {
            "marker": {
             "line": {
              "color": "#E5ECF6",
              "width": 0.5
             }
            },
            "type": "barpolar"
           }
          ],
          "carpet": [
           {
            "aaxis": {
             "endlinecolor": "#2a3f5f",
             "gridcolor": "white",
             "linecolor": "white",
             "minorgridcolor": "white",
             "startlinecolor": "#2a3f5f"
            },
            "baxis": {
             "endlinecolor": "#2a3f5f",
             "gridcolor": "white",
             "linecolor": "white",
             "minorgridcolor": "white",
             "startlinecolor": "#2a3f5f"
            },
            "type": "carpet"
           }
          ],
          "choropleth": [
           {
            "colorbar": {
             "outlinewidth": 0,
             "ticks": ""
            },
            "type": "choropleth"
           }
          ],
          "contour": [
           {
            "colorbar": {
             "outlinewidth": 0,
             "ticks": ""
            },
            "colorscale": [
             [
              0,
              "#0d0887"
             ],
             [
              0.1111111111111111,
              "#46039f"
             ],
             [
              0.2222222222222222,
              "#7201a8"
             ],
             [
              0.3333333333333333,
              "#9c179e"
             ],
             [
              0.4444444444444444,
              "#bd3786"
             ],
             [
              0.5555555555555556,
              "#d8576b"
             ],
             [
              0.6666666666666666,
              "#ed7953"
             ],
             [
              0.7777777777777778,
              "#fb9f3a"
             ],
             [
              0.8888888888888888,
              "#fdca26"
             ],
             [
              1,
              "#f0f921"
             ]
            ],
            "type": "contour"
           }
          ],
          "contourcarpet": [
           {
            "colorbar": {
             "outlinewidth": 0,
             "ticks": ""
            },
            "type": "contourcarpet"
           }
          ],
          "heatmap": [
           {
            "colorbar": {
             "outlinewidth": 0,
             "ticks": ""
            },
            "colorscale": [
             [
              0,
              "#0d0887"
             ],
             [
              0.1111111111111111,
              "#46039f"
             ],
             [
              0.2222222222222222,
              "#7201a8"
             ],
             [
              0.3333333333333333,
              "#9c179e"
             ],
             [
              0.4444444444444444,
              "#bd3786"
             ],
             [
              0.5555555555555556,
              "#d8576b"
             ],
             [
              0.6666666666666666,
              "#ed7953"
             ],
             [
              0.7777777777777778,
              "#fb9f3a"
             ],
             [
              0.8888888888888888,
              "#fdca26"
             ],
             [
              1,
              "#f0f921"
             ]
            ],
            "type": "heatmap"
           }
          ],
          "heatmapgl": [
           {
            "colorbar": {
             "outlinewidth": 0,
             "ticks": ""
            },
            "colorscale": [
             [
              0,
              "#0d0887"
             ],
             [
              0.1111111111111111,
              "#46039f"
             ],
             [
              0.2222222222222222,
              "#7201a8"
             ],
             [
              0.3333333333333333,
              "#9c179e"
             ],
             [
              0.4444444444444444,
              "#bd3786"
             ],
             [
              0.5555555555555556,
              "#d8576b"
             ],
             [
              0.6666666666666666,
              "#ed7953"
             ],
             [
              0.7777777777777778,
              "#fb9f3a"
             ],
             [
              0.8888888888888888,
              "#fdca26"
             ],
             [
              1,
              "#f0f921"
             ]
            ],
            "type": "heatmapgl"
           }
          ],
          "histogram": [
           {
            "marker": {
             "colorbar": {
              "outlinewidth": 0,
              "ticks": ""
             }
            },
            "type": "histogram"
           }
          ],
          "histogram2d": [
           {
            "colorbar": {
             "outlinewidth": 0,
             "ticks": ""
            },
            "colorscale": [
             [
              0,
              "#0d0887"
             ],
             [
              0.1111111111111111,
              "#46039f"
             ],
             [
              0.2222222222222222,
              "#7201a8"
             ],
             [
              0.3333333333333333,
              "#9c179e"
             ],
             [
              0.4444444444444444,
              "#bd3786"
             ],
             [
              0.5555555555555556,
              "#d8576b"
             ],
             [
              0.6666666666666666,
              "#ed7953"
             ],
             [
              0.7777777777777778,
              "#fb9f3a"
             ],
             [
              0.8888888888888888,
              "#fdca26"
             ],
             [
              1,
              "#f0f921"
             ]
            ],
            "type": "histogram2d"
           }
          ],
          "histogram2dcontour": [
           {
            "colorbar": {
             "outlinewidth": 0,
             "ticks": ""
            },
            "colorscale": [
             [
              0,
              "#0d0887"
             ],
             [
              0.1111111111111111,
              "#46039f"
             ],
             [
              0.2222222222222222,
              "#7201a8"
             ],
             [
              0.3333333333333333,
              "#9c179e"
             ],
             [
              0.4444444444444444,
              "#bd3786"
             ],
             [
              0.5555555555555556,
              "#d8576b"
             ],
             [
              0.6666666666666666,
              "#ed7953"
             ],
             [
              0.7777777777777778,
              "#fb9f3a"
             ],
             [
              0.8888888888888888,
              "#fdca26"
             ],
             [
              1,
              "#f0f921"
             ]
            ],
            "type": "histogram2dcontour"
           }
          ],
          "mesh3d": [
           {
            "colorbar": {
             "outlinewidth": 0,
             "ticks": ""
            },
            "type": "mesh3d"
           }
          ],
          "parcoords": [
           {
            "line": {
             "colorbar": {
              "outlinewidth": 0,
              "ticks": ""
             }
            },
            "type": "parcoords"
           }
          ],
          "pie": [
           {
            "automargin": true,
            "type": "pie"
           }
          ],
          "scatter": [
           {
            "marker": {
             "colorbar": {
              "outlinewidth": 0,
              "ticks": ""
             }
            },
            "type": "scatter"
           }
          ],
          "scatter3d": [
           {
            "line": {
             "colorbar": {
              "outlinewidth": 0,
              "ticks": ""
             }
            },
            "marker": {
             "colorbar": {
              "outlinewidth": 0,
              "ticks": ""
             }
            },
            "type": "scatter3d"
           }
          ],
          "scattercarpet": [
           {
            "marker": {
             "colorbar": {
              "outlinewidth": 0,
              "ticks": ""
             }
            },
            "type": "scattercarpet"
           }
          ],
          "scattergeo": [
           {
            "marker": {
             "colorbar": {
              "outlinewidth": 0,
              "ticks": ""
             }
            },
            "type": "scattergeo"
           }
          ],
          "scattergl": [
           {
            "marker": {
             "colorbar": {
              "outlinewidth": 0,
              "ticks": ""
             }
            },
            "type": "scattergl"
           }
          ],
          "scattermapbox": [
           {
            "marker": {
             "colorbar": {
              "outlinewidth": 0,
              "ticks": ""
             }
            },
            "type": "scattermapbox"
           }
          ],
          "scatterpolar": [
           {
            "marker": {
             "colorbar": {
              "outlinewidth": 0,
              "ticks": ""
             }
            },
            "type": "scatterpolar"
           }
          ],
          "scatterpolargl": [
           {
            "marker": {
             "colorbar": {
              "outlinewidth": 0,
              "ticks": ""
             }
            },
            "type": "scatterpolargl"
           }
          ],
          "scatterternary": [
           {
            "marker": {
             "colorbar": {
              "outlinewidth": 0,
              "ticks": ""
             }
            },
            "type": "scatterternary"
           }
          ],
          "surface": [
           {
            "colorbar": {
             "outlinewidth": 0,
             "ticks": ""
            },
            "colorscale": [
             [
              0,
              "#0d0887"
             ],
             [
              0.1111111111111111,
              "#46039f"
             ],
             [
              0.2222222222222222,
              "#7201a8"
             ],
             [
              0.3333333333333333,
              "#9c179e"
             ],
             [
              0.4444444444444444,
              "#bd3786"
             ],
             [
              0.5555555555555556,
              "#d8576b"
             ],
             [
              0.6666666666666666,
              "#ed7953"
             ],
             [
              0.7777777777777778,
              "#fb9f3a"
             ],
             [
              0.8888888888888888,
              "#fdca26"
             ],
             [
              1,
              "#f0f921"
             ]
            ],
            "type": "surface"
           }
          ],
          "table": [
           {
            "cells": {
             "fill": {
              "color": "#EBF0F8"
             },
             "line": {
              "color": "white"
             }
            },
            "header": {
             "fill": {
              "color": "#C8D4E3"
             },
             "line": {
              "color": "white"
             }
            },
            "type": "table"
           }
          ]
         },
         "layout": {
          "annotationdefaults": {
           "arrowcolor": "#2a3f5f",
           "arrowhead": 0,
           "arrowwidth": 1
          },
          "autotypenumbers": "strict",
          "coloraxis": {
           "colorbar": {
            "outlinewidth": 0,
            "ticks": ""
           }
          },
          "colorscale": {
           "diverging": [
            [
             0,
             "#8e0152"
            ],
            [
             0.1,
             "#c51b7d"
            ],
            [
             0.2,
             "#de77ae"
            ],
            [
             0.3,
             "#f1b6da"
            ],
            [
             0.4,
             "#fde0ef"
            ],
            [
             0.5,
             "#f7f7f7"
            ],
            [
             0.6,
             "#e6f5d0"
            ],
            [
             0.7,
             "#b8e186"
            ],
            [
             0.8,
             "#7fbc41"
            ],
            [
             0.9,
             "#4d9221"
            ],
            [
             1,
             "#276419"
            ]
           ],
           "sequential": [
            [
             0,
             "#0d0887"
            ],
            [
             0.1111111111111111,
             "#46039f"
            ],
            [
             0.2222222222222222,
             "#7201a8"
            ],
            [
             0.3333333333333333,
             "#9c179e"
            ],
            [
             0.4444444444444444,
             "#bd3786"
            ],
            [
             0.5555555555555556,
             "#d8576b"
            ],
            [
             0.6666666666666666,
             "#ed7953"
            ],
            [
             0.7777777777777778,
             "#fb9f3a"
            ],
            [
             0.8888888888888888,
             "#fdca26"
            ],
            [
             1,
             "#f0f921"
            ]
           ],
           "sequentialminus": [
            [
             0,
             "#0d0887"
            ],
            [
             0.1111111111111111,
             "#46039f"
            ],
            [
             0.2222222222222222,
             "#7201a8"
            ],
            [
             0.3333333333333333,
             "#9c179e"
            ],
            [
             0.4444444444444444,
             "#bd3786"
            ],
            [
             0.5555555555555556,
             "#d8576b"
            ],
            [
             0.6666666666666666,
             "#ed7953"
            ],
            [
             0.7777777777777778,
             "#fb9f3a"
            ],
            [
             0.8888888888888888,
             "#fdca26"
            ],
            [
             1,
             "#f0f921"
            ]
           ]
          },
          "colorway": [
           "#636efa",
           "#EF553B",
           "#00cc96",
           "#ab63fa",
           "#FFA15A",
           "#19d3f3",
           "#FF6692",
           "#B6E880",
           "#FF97FF",
           "#FECB52"
          ],
          "font": {
           "color": "#2a3f5f"
          },
          "geo": {
           "bgcolor": "white",
           "lakecolor": "white",
           "landcolor": "#E5ECF6",
           "showlakes": true,
           "showland": true,
           "subunitcolor": "white"
          },
          "hoverlabel": {
           "align": "left"
          },
          "hovermode": "closest",
          "mapbox": {
           "style": "light"
          },
          "paper_bgcolor": "white",
          "plot_bgcolor": "#E5ECF6",
          "polar": {
           "angularaxis": {
            "gridcolor": "white",
            "linecolor": "white",
            "ticks": ""
           },
           "bgcolor": "#E5ECF6",
           "radialaxis": {
            "gridcolor": "white",
            "linecolor": "white",
            "ticks": ""
           }
          },
          "scene": {
           "xaxis": {
            "backgroundcolor": "#E5ECF6",
            "gridcolor": "white",
            "gridwidth": 2,
            "linecolor": "white",
            "showbackground": true,
            "ticks": "",
            "zerolinecolor": "white"
           },
           "yaxis": {
            "backgroundcolor": "#E5ECF6",
            "gridcolor": "white",
            "gridwidth": 2,
            "linecolor": "white",
            "showbackground": true,
            "ticks": "",
            "zerolinecolor": "white"
           },
           "zaxis": {
            "backgroundcolor": "#E5ECF6",
            "gridcolor": "white",
            "gridwidth": 2,
            "linecolor": "white",
            "showbackground": true,
            "ticks": "",
            "zerolinecolor": "white"
           }
          },
          "shapedefaults": {
           "line": {
            "color": "#2a3f5f"
           }
          },
          "ternary": {
           "aaxis": {
            "gridcolor": "white",
            "linecolor": "white",
            "ticks": ""
           },
           "baxis": {
            "gridcolor": "white",
            "linecolor": "white",
            "ticks": ""
           },
           "bgcolor": "#E5ECF6",
           "caxis": {
            "gridcolor": "white",
            "linecolor": "white",
            "ticks": ""
           }
          },
          "title": {
           "x": 0.05
          },
          "xaxis": {
           "automargin": true,
           "gridcolor": "white",
           "linecolor": "white",
           "ticks": "",
           "title": {
            "standoff": 15
           },
           "zerolinecolor": "white",
           "zerolinewidth": 2
          },
          "yaxis": {
           "automargin": true,
           "gridcolor": "white",
           "linecolor": "white",
           "ticks": "",
           "title": {
            "standoff": 15
           },
           "zerolinecolor": "white",
           "zerolinewidth": 2
          }
         }
        },
        "width": 1200
       }
      }
     },
     "metadata": {}
    }
   ],
   "source": [
    "import plotly.express as px\n",
    "\n",
    "fig = px.scatter_3d(clusters, y='Dropout-PRIMARY', z='Dropout-UPPER_PRIMARY', x='Dropout-SECONDARY', opacity=0.7, color='color',symbol='Labels',text='State')\n",
    "\n",
    "fig.update_layout(width=1200, height=720)"
   ]
  }
 ]
}