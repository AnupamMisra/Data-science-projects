{
 "cells": [
  {
   "cell_type": "markdown",
   "metadata": {},
   "source": [
    "# Initialisation"
   ]
  },
  {
   "cell_type": "code",
   "execution_count": 19,
   "metadata": {},
   "outputs": [],
   "source": [
    "#Importing all the necessary libraries\r\n",
    "import pandas as pd \r\n",
    "import numpy as np \r\n",
    "import matplotlib.pyplot as plt \r\n",
    "import seaborn as sns\r\n",
    "\r\n",
    "from datetime import datetime as dt\r\n",
    "from sklearn.metrics import mean_squared_error, r2_score\r\n",
    "from sklearn.preprocessing import StandardScaler\r\n",
    "from sklearn.model_selection import train_test_split as TTS, KFold as K, cross_val_score as score  \r\n",
    "from sklearn.tree import DecisionTreeRegressor as DTR\r\n",
    "from sklearn.ensemble import RandomForestRegressor as RFR \r\n",
    "from xgboost import XGBRegressor as XGR\r\n",
    "import warnings\r\n",
    "warnings.filterwarnings('ignore')\r\n",
    "\r\n",
    "import pickle\r\n",
    "\r\n",
    "#Importing the datset\r\n",
    "df = pd.read_csv(r'../Data/flight_price.csv')\r\n",
    "vase=df.head(3)"
   ]
  },
  {
   "cell_type": "code",
   "execution_count": 8,
   "metadata": {},
   "outputs": [
    {
     "data": {
      "text/html": [
       "<div>\n",
       "<style scoped>\n",
       "    .dataframe tbody tr th:only-of-type {\n",
       "        vertical-align: middle;\n",
       "    }\n",
       "\n",
       "    .dataframe tbody tr th {\n",
       "        vertical-align: top;\n",
       "    }\n",
       "\n",
       "    .dataframe thead th {\n",
       "        text-align: right;\n",
       "    }\n",
       "</style>\n",
       "<table border=\"1\" class=\"dataframe\">\n",
       "  <thead>\n",
       "    <tr style=\"text-align: right;\">\n",
       "      <th></th>\n",
       "      <th>Airline</th>\n",
       "      <th>Date_of_Journey</th>\n",
       "      <th>Source</th>\n",
       "      <th>Destination</th>\n",
       "      <th>Route</th>\n",
       "      <th>Dep_Time</th>\n",
       "      <th>Arrival_Time</th>\n",
       "      <th>Duration</th>\n",
       "      <th>Total_Stops</th>\n",
       "      <th>Additional_Info</th>\n",
       "      <th>Price</th>\n",
       "    </tr>\n",
       "  </thead>\n",
       "  <tbody>\n",
       "    <tr>\n",
       "      <th>0</th>\n",
       "      <td>IndiGo</td>\n",
       "      <td>24/03/2019</td>\n",
       "      <td>Banglore</td>\n",
       "      <td>New Delhi</td>\n",
       "      <td>BLR ? DEL</td>\n",
       "      <td>22:20</td>\n",
       "      <td>01:10 22 Mar</td>\n",
       "      <td>2h 50m</td>\n",
       "      <td>non-stop</td>\n",
       "      <td>No info</td>\n",
       "      <td>3897</td>\n",
       "    </tr>\n",
       "    <tr>\n",
       "      <th>1</th>\n",
       "      <td>Air India</td>\n",
       "      <td>1/05/2019</td>\n",
       "      <td>Kolkata</td>\n",
       "      <td>Banglore</td>\n",
       "      <td>CCU ? IXR ? BBI ? BLR</td>\n",
       "      <td>05:50</td>\n",
       "      <td>13:15</td>\n",
       "      <td>7h 25m</td>\n",
       "      <td>2 stops</td>\n",
       "      <td>No info</td>\n",
       "      <td>7662</td>\n",
       "    </tr>\n",
       "    <tr>\n",
       "      <th>2</th>\n",
       "      <td>Jet Airways</td>\n",
       "      <td>9/06/2019</td>\n",
       "      <td>Delhi</td>\n",
       "      <td>Cochin</td>\n",
       "      <td>DEL ? LKO ? BOM ? COK</td>\n",
       "      <td>09:25</td>\n",
       "      <td>04:25 10 Jun</td>\n",
       "      <td>19h</td>\n",
       "      <td>2 stops</td>\n",
       "      <td>No info</td>\n",
       "      <td>13882</td>\n",
       "    </tr>\n",
       "    <tr>\n",
       "      <th>3</th>\n",
       "      <td>IndiGo</td>\n",
       "      <td>12/05/2019</td>\n",
       "      <td>Kolkata</td>\n",
       "      <td>Banglore</td>\n",
       "      <td>CCU ? NAG ? BLR</td>\n",
       "      <td>18:05</td>\n",
       "      <td>23:30</td>\n",
       "      <td>5h 25m</td>\n",
       "      <td>1 stop</td>\n",
       "      <td>No info</td>\n",
       "      <td>6218</td>\n",
       "    </tr>\n",
       "    <tr>\n",
       "      <th>4</th>\n",
       "      <td>IndiGo</td>\n",
       "      <td>01/03/2019</td>\n",
       "      <td>Banglore</td>\n",
       "      <td>New Delhi</td>\n",
       "      <td>BLR ? NAG ? DEL</td>\n",
       "      <td>16:50</td>\n",
       "      <td>21:35</td>\n",
       "      <td>4h 45m</td>\n",
       "      <td>1 stop</td>\n",
       "      <td>No info</td>\n",
       "      <td>13302</td>\n",
       "    </tr>\n",
       "  </tbody>\n",
       "</table>\n",
       "</div>"
      ],
      "text/plain": [
       "       Airline Date_of_Journey    Source Destination                  Route  \\\n",
       "0       IndiGo      24/03/2019  Banglore   New Delhi              BLR ? DEL   \n",
       "1    Air India       1/05/2019   Kolkata    Banglore  CCU ? IXR ? BBI ? BLR   \n",
       "2  Jet Airways       9/06/2019     Delhi      Cochin  DEL ? LKO ? BOM ? COK   \n",
       "3       IndiGo      12/05/2019   Kolkata    Banglore        CCU ? NAG ? BLR   \n",
       "4       IndiGo      01/03/2019  Banglore   New Delhi        BLR ? NAG ? DEL   \n",
       "\n",
       "  Dep_Time  Arrival_Time Duration Total_Stops Additional_Info  Price  \n",
       "0    22:20  01:10 22 Mar   2h 50m    non-stop         No info   3897  \n",
       "1    05:50         13:15   7h 25m     2 stops         No info   7662  \n",
       "2    09:25  04:25 10 Jun      19h     2 stops         No info  13882  \n",
       "3    18:05         23:30   5h 25m      1 stop         No info   6218  \n",
       "4    16:50         21:35   4h 45m      1 stop         No info  13302  "
      ]
     },
     "execution_count": 8,
     "metadata": {},
     "output_type": "execute_result"
    }
   ],
   "source": [
    "df.head(5)"
   ]
  },
  {
   "cell_type": "code",
   "execution_count": 9,
   "metadata": {},
   "outputs": [
    {
     "data": {
      "text/plain": [
       "Airline            0\n",
       "Date_of_Journey    0\n",
       "Source             0\n",
       "Destination        0\n",
       "Route              1\n",
       "Dep_Time           0\n",
       "Arrival_Time       0\n",
       "Duration           0\n",
       "Total_Stops        1\n",
       "Additional_Info    0\n",
       "Price              0\n",
       "dtype: int64"
      ]
     },
     "execution_count": 9,
     "metadata": {},
     "output_type": "execute_result"
    }
   ],
   "source": [
    "df.isnull().sum()"
   ]
  },
  {
   "cell_type": "code",
   "execution_count": 10,
   "metadata": {},
   "outputs": [
    {
     "data": {
      "text/plain": [
       "Airline            object\n",
       "Date_of_Journey    object\n",
       "Source             object\n",
       "Destination        object\n",
       "Route              object\n",
       "Dep_Time           object\n",
       "Arrival_Time       object\n",
       "Duration           object\n",
       "Total_Stops        object\n",
       "Additional_Info    object\n",
       "Price               int64\n",
       "dtype: object"
      ]
     },
     "execution_count": 10,
     "metadata": {},
     "output_type": "execute_result"
    }
   ],
   "source": [
    "df.dtypes"
   ]
  },
  {
   "cell_type": "code",
   "execution_count": 11,
   "metadata": {},
   "outputs": [
    {
     "data": {
      "text/html": [
       "<div>\n",
       "<style scoped>\n",
       "    .dataframe tbody tr th:only-of-type {\n",
       "        vertical-align: middle;\n",
       "    }\n",
       "\n",
       "    .dataframe tbody tr th {\n",
       "        vertical-align: top;\n",
       "    }\n",
       "\n",
       "    .dataframe thead th {\n",
       "        text-align: right;\n",
       "    }\n",
       "</style>\n",
       "<table border=\"1\" class=\"dataframe\">\n",
       "  <thead>\n",
       "    <tr style=\"text-align: right;\">\n",
       "      <th></th>\n",
       "      <th>Airline</th>\n",
       "      <th>Date_of_Journey</th>\n",
       "      <th>Source</th>\n",
       "      <th>Destination</th>\n",
       "      <th>Route</th>\n",
       "      <th>Dep_Time</th>\n",
       "      <th>Arrival_Time</th>\n",
       "      <th>Duration</th>\n",
       "      <th>Total_Stops</th>\n",
       "      <th>Additional_Info</th>\n",
       "      <th>Price</th>\n",
       "    </tr>\n",
       "  </thead>\n",
       "  <tbody>\n",
       "    <tr>\n",
       "      <th>0</th>\n",
       "      <td>IndiGo</td>\n",
       "      <td>24/03/2019</td>\n",
       "      <td>Banglore</td>\n",
       "      <td>New Delhi</td>\n",
       "      <td>BLR ? DEL</td>\n",
       "      <td>22:20</td>\n",
       "      <td>01:10 22 Mar</td>\n",
       "      <td>2h 50m</td>\n",
       "      <td>non-stop</td>\n",
       "      <td>No info</td>\n",
       "      <td>3897</td>\n",
       "    </tr>\n",
       "    <tr>\n",
       "      <th>1</th>\n",
       "      <td>Air India</td>\n",
       "      <td>1/05/2019</td>\n",
       "      <td>Kolkata</td>\n",
       "      <td>Banglore</td>\n",
       "      <td>CCU ? IXR ? BBI ? BLR</td>\n",
       "      <td>05:50</td>\n",
       "      <td>13:15</td>\n",
       "      <td>7h 25m</td>\n",
       "      <td>2 stops</td>\n",
       "      <td>No info</td>\n",
       "      <td>7662</td>\n",
       "    </tr>\n",
       "  </tbody>\n",
       "</table>\n",
       "</div>"
      ],
      "text/plain": [
       "     Airline Date_of_Journey    Source Destination                  Route  \\\n",
       "0     IndiGo      24/03/2019  Banglore   New Delhi              BLR ? DEL   \n",
       "1  Air India       1/05/2019   Kolkata    Banglore  CCU ? IXR ? BBI ? BLR   \n",
       "\n",
       "  Dep_Time  Arrival_Time Duration Total_Stops Additional_Info  Price  \n",
       "0    22:20  01:10 22 Mar   2h 50m    non-stop         No info   3897  \n",
       "1    05:50         13:15   7h 25m     2 stops         No info   7662  "
      ]
     },
     "execution_count": 11,
     "metadata": {},
     "output_type": "execute_result"
    }
   ],
   "source": [
    "df.head(2)"
   ]
  },
  {
   "cell_type": "markdown",
   "metadata": {},
   "source": [
    "# Data preprocessing"
   ]
  },
  {
   "cell_type": "code",
   "execution_count": 12,
   "metadata": {},
   "outputs": [
    {
     "ename": "NameError",
     "evalue": "name 'X' is not defined",
     "output_type": "error",
     "traceback": [
      "\u001b[1;31m---------------------------------------------------------------------------\u001b[0m",
      "\u001b[1;31mNameError\u001b[0m                                 Traceback (most recent call last)",
      "\u001b[1;32m<ipython-input-12-b5fec669aca1>\u001b[0m in \u001b[0;36m<module>\u001b[1;34m\u001b[0m\n\u001b[1;32m----> 1\u001b[1;33m \u001b[0mX\u001b[0m\u001b[1;33m\u001b[0m\u001b[1;33m\u001b[0m\u001b[0m\n\u001b[0m",
      "\u001b[1;31mNameError\u001b[0m: name 'X' is not defined"
     ]
    }
   ],
   "source": [
    "X"
   ]
  },
  {
   "cell_type": "code",
   "execution_count": 14,
   "metadata": {},
   "outputs": [],
   "source": [
    "###################################################################################################################\n",
    "#\n",
    "#def preprocess(df):\n",
    "# Input: main dataframe\n",
    "#\n",
    "# 1. Correct the datatypes\n",
    "# 2. Generate new features\n",
    "# 3. Drop previous features which are irrelevant now \n",
    "# 4. return X, y\n",
    "###################################################################################################################\n",
    "\n",
    "def preprocess(df):\n",
    "\n",
    "    #1. Correcting the datatypes    \n",
    "    date_conv = lambda x: dt.strptime(str(x), '%d/%m/%Y')\n",
    "    time_conv = lambda x: dt.strptime(str(x), '%H:%M')\n",
    "    df['Date_of_Journey'] = df['Date_of_Journey'].apply(date_conv)\n",
    "\n",
    "    #2. Generate new features\n",
    "    hour = lambda x: x[x.index(\":\")-2:x.index(\":\")]\n",
    "    minutes = lambda x: x[x.index(\":\")+1:x.index(\":\")+3]\n",
    "    dur_hour = lambda x:x[:x.index(\"h\")] if 'h' in x else 0\n",
    "    dur_min = lambda x: x[x.index(\"m\")-2:x.index(\"m\")] if 'm' in x else 0\n",
    "    stops = lambda x: 1 if '1' in str(x) else (2  if '2' in str(x) else(3 if '3' in str(x) else(4 if '4' in str(x) else (5 if '5' in str(x)else 0))))\n",
    "    tod = lambda x: 'early morning' if 0<x<=6 else('morning' if 6<x<=12 else ('noon' if 12<x<=16 else ('evening' if 16<x<=20 else 'night')))\n",
    "\n",
    "    df['Dep_hour'] = df.Dep_Time.apply(hour)\n",
    "    df['Dep_minutes'] = df.Dep_Time.apply(minutes)\n",
    "    df['Duration_hours'] = df.Duration.apply(dur_hour)\n",
    "    df['Duration_mins'] = df.Duration.apply(dur_min)\n",
    "    df.Duration_mins.replace({'':'0'},inplace=True)\n",
    "    df['N_stops'] = df.Total_Stops.apply(stops)\n",
    "    df.Dep_hour = df.Dep_hour.astype(int)\n",
    "    df.Dep_minutes = df.Dep_minutes.astype(int)\n",
    "    df.Duration_hours = df.Duration_hours.astype(int)\n",
    "    df.Duration_mins = df.Duration_mins.astype(int)\n",
    "    df.N_stops = df.N_stops.astype(int)\n",
    "    df=df[df.N_stops==0]\n",
    "   \n",
    "    df[['Air Asia', 'Air India', 'GoAir', 'IndiGo', 'Jet Airways', 'SpiceJet','Vistara', 'Vistara Premium economy']]=pd.get_dummies(df.Airline)\n",
    "    \n",
    "    df[['In-flight meal not included', 'No check-in baggage included',\n",
    "       'No info', 'Red-eye flight']]=pd.get_dummies(df.Additional_Info)\n",
    "\n",
    "    df.Additional_Info.replace({'No Info':'No info'}, inplace=True)\n",
    "    \n",
    "    df['Day of month'] = df.Date_of_Journey.apply(lambda x: x.strftime(\"%d\")).astype(int)\n",
    "    df['Day of week'] = df.Date_of_Journey.apply(lambda x: x.strftime(\"%w\")).astype(int)\n",
    "    df['Month of year'] = df.Date_of_Journey.apply(lambda x: x.strftime(\"%m\")).astype(int)\n",
    "    df['Day of year'] = df.Date_of_Journey.apply(lambda x: x.timetuple().tm_yday)\n",
    "    df['TOD of departure'] = df.Dep_hour.apply(tod)\n",
    "\n",
    "    df[['Dep_early morning', 'Dep_evening', 'Dep_morning', 'Dep_night', 'Dep_noon']] = pd.get_dummies(df['TOD of departure'])\n",
    "   #3. Dropping previous and now irrelevant features\n",
    "\n",
    "    df.drop(['Dep_Time', 'Arrival_Time', 'Duration', 'Total_Stops','Additional_Info','Airline', 'Date_of_Journey','Route','TOD of departure', 'No check-in baggage included','Jet Airways', 'Vistara Premium economy','Vistara Premium economy','Red-eye flight','N_stops','No info','In-flight meal not included'],axis=1, inplace=True)\n",
    "   \n",
    "    df.Destination.replace({'Delhi':'New Delhi'},inplace=True)\n",
    "    df.Source.replace({'Delhi':'New Delhi'},inplace=True)\n",
    "    df.Destination.replace({'Banglore':'Bangalore'},inplace=True)\n",
    "    df.Source.replace({'Banglore':'Bangalore'},inplace=True)\n",
    "\n",
    "    thresh = np.quantile(df.Price,0.75) + 1.5*(np.quantile(df.Price,0.75)-np.quantile(df.Price,0.25))\n",
    "    df = df[df.Price<thresh]\n",
    "    df['Src-Dest'] = df.Source+\"-\"+df.Destination\n",
    "\n",
    "    dic={'Bangalore-New Delhi':1, 'Chennai-Kolkata':2, 'New Delhi-Cochin':3,\n",
    "       'Kolkata-Bangalore':4, 'Mumbai-Hyderabad':5}\n",
    "\n",
    "    df['route'] = df['Src-Dest'].apply(lambda x : dic[x])     \n",
    "    df.drop(['Src-Dest','Source','Destination'],axis=1,inplace=True)\n",
    "    df=df[((df['IndiGo']==0) & (df['Air India']==0) & (df['Air Asia']==0) & (df['SpiceJet']==0) & (df['Vistara']==0) & (df['GoAir']==0))==0]\n",
    "    X = df.drop(['Price'],axis=1)\n",
    "    y = df['Price'] \n",
    "    return X,y "
   ]
  },
  {
   "cell_type": "code",
   "execution_count": 15,
   "metadata": {},
   "outputs": [],
   "source": [
    "X,y=preprocess(df)"
   ]
  },
  {
   "cell_type": "code",
   "execution_count": 23,
   "metadata": {},
   "outputs": [
    {
     "data": {
      "text/html": [
       "<div>\n",
       "<style scoped>\n",
       "    .dataframe tbody tr th:only-of-type {\n",
       "        vertical-align: middle;\n",
       "    }\n",
       "\n",
       "    .dataframe tbody tr th {\n",
       "        vertical-align: top;\n",
       "    }\n",
       "\n",
       "    .dataframe thead th {\n",
       "        text-align: right;\n",
       "    }\n",
       "</style>\n",
       "<table border=\"1\" class=\"dataframe\">\n",
       "  <thead>\n",
       "    <tr style=\"text-align: right;\">\n",
       "      <th></th>\n",
       "      <th>Airline</th>\n",
       "      <th>Date_of_Journey</th>\n",
       "      <th>Source</th>\n",
       "      <th>Destination</th>\n",
       "      <th>Route</th>\n",
       "      <th>Dep_Time</th>\n",
       "      <th>Arrival_Time</th>\n",
       "      <th>Duration</th>\n",
       "      <th>Total_Stops</th>\n",
       "      <th>Additional_Info</th>\n",
       "      <th>Price</th>\n",
       "    </tr>\n",
       "  </thead>\n",
       "  <tbody>\n",
       "    <tr>\n",
       "      <th>0</th>\n",
       "      <td>IndiGo</td>\n",
       "      <td>24/03/2019</td>\n",
       "      <td>Banglore</td>\n",
       "      <td>New Delhi</td>\n",
       "      <td>BLR ? DEL</td>\n",
       "      <td>22:20</td>\n",
       "      <td>01:10 22 Mar</td>\n",
       "      <td>2h 50m</td>\n",
       "      <td>non-stop</td>\n",
       "      <td>No info</td>\n",
       "      <td>3897</td>\n",
       "    </tr>\n",
       "    <tr>\n",
       "      <th>1</th>\n",
       "      <td>Air India</td>\n",
       "      <td>1/05/2019</td>\n",
       "      <td>Kolkata</td>\n",
       "      <td>Banglore</td>\n",
       "      <td>CCU ? IXR ? BBI ? BLR</td>\n",
       "      <td>05:50</td>\n",
       "      <td>13:15</td>\n",
       "      <td>7h 25m</td>\n",
       "      <td>2 stops</td>\n",
       "      <td>No info</td>\n",
       "      <td>7662</td>\n",
       "    </tr>\n",
       "    <tr>\n",
       "      <th>2</th>\n",
       "      <td>Jet Airways</td>\n",
       "      <td>9/06/2019</td>\n",
       "      <td>Delhi</td>\n",
       "      <td>Cochin</td>\n",
       "      <td>DEL ? LKO ? BOM ? COK</td>\n",
       "      <td>09:25</td>\n",
       "      <td>04:25 10 Jun</td>\n",
       "      <td>19h</td>\n",
       "      <td>2 stops</td>\n",
       "      <td>No info</td>\n",
       "      <td>13882</td>\n",
       "    </tr>\n",
       "    <tr>\n",
       "      <th>3</th>\n",
       "      <td>IndiGo</td>\n",
       "      <td>12/05/2019</td>\n",
       "      <td>Kolkata</td>\n",
       "      <td>Banglore</td>\n",
       "      <td>CCU ? NAG ? BLR</td>\n",
       "      <td>18:05</td>\n",
       "      <td>23:30</td>\n",
       "      <td>5h 25m</td>\n",
       "      <td>1 stop</td>\n",
       "      <td>No info</td>\n",
       "      <td>6218</td>\n",
       "    </tr>\n",
       "    <tr>\n",
       "      <th>4</th>\n",
       "      <td>IndiGo</td>\n",
       "      <td>01/03/2019</td>\n",
       "      <td>Banglore</td>\n",
       "      <td>New Delhi</td>\n",
       "      <td>BLR ? NAG ? DEL</td>\n",
       "      <td>16:50</td>\n",
       "      <td>21:35</td>\n",
       "      <td>4h 45m</td>\n",
       "      <td>1 stop</td>\n",
       "      <td>No info</td>\n",
       "      <td>13302</td>\n",
       "    </tr>\n",
       "  </tbody>\n",
       "</table>\n",
       "</div>"
      ],
      "text/plain": [
       "       Airline Date_of_Journey    Source Destination                  Route  \\\n",
       "0       IndiGo      24/03/2019  Banglore   New Delhi              BLR ? DEL   \n",
       "1    Air India       1/05/2019   Kolkata    Banglore  CCU ? IXR ? BBI ? BLR   \n",
       "2  Jet Airways       9/06/2019     Delhi      Cochin  DEL ? LKO ? BOM ? COK   \n",
       "3       IndiGo      12/05/2019   Kolkata    Banglore        CCU ? NAG ? BLR   \n",
       "4       IndiGo      01/03/2019  Banglore   New Delhi        BLR ? NAG ? DEL   \n",
       "\n",
       "  Dep_Time  Arrival_Time Duration Total_Stops Additional_Info  Price  \n",
       "0    22:20  01:10 22 Mar   2h 50m    non-stop         No info   3897  \n",
       "1    05:50         13:15   7h 25m     2 stops         No info   7662  \n",
       "2    09:25  04:25 10 Jun      19h     2 stops         No info  13882  \n",
       "3    18:05         23:30   5h 25m      1 stop         No info   6218  \n",
       "4    16:50         21:35   4h 45m      1 stop         No info  13302  "
      ]
     },
     "execution_count": 23,
     "metadata": {},
     "output_type": "execute_result"
    }
   ],
   "source": [
    "df.head()"
   ]
  },
  {
   "cell_type": "code",
   "execution_count": 17,
   "metadata": {},
   "outputs": [
    {
     "data": {
      "text/html": [
       "<div>\n",
       "<style scoped>\n",
       "    .dataframe tbody tr th:only-of-type {\n",
       "        vertical-align: middle;\n",
       "    }\n",
       "\n",
       "    .dataframe tbody tr th {\n",
       "        vertical-align: top;\n",
       "    }\n",
       "\n",
       "    .dataframe thead th {\n",
       "        text-align: right;\n",
       "    }\n",
       "</style>\n",
       "<table border=\"1\" class=\"dataframe\">\n",
       "  <thead>\n",
       "    <tr style=\"text-align: right;\">\n",
       "      <th></th>\n",
       "      <th>Dep_hour</th>\n",
       "      <th>Dep_minutes</th>\n",
       "      <th>Duration_hours</th>\n",
       "      <th>Duration_mins</th>\n",
       "      <th>Air Asia</th>\n",
       "      <th>Air India</th>\n",
       "      <th>GoAir</th>\n",
       "      <th>IndiGo</th>\n",
       "      <th>SpiceJet</th>\n",
       "      <th>Vistara</th>\n",
       "      <th>Day of month</th>\n",
       "      <th>Day of week</th>\n",
       "      <th>Month of year</th>\n",
       "      <th>Day of year</th>\n",
       "      <th>Dep_early morning</th>\n",
       "      <th>Dep_evening</th>\n",
       "      <th>Dep_morning</th>\n",
       "      <th>Dep_night</th>\n",
       "      <th>Dep_noon</th>\n",
       "      <th>route</th>\n",
       "    </tr>\n",
       "  </thead>\n",
       "  <tbody>\n",
       "    <tr>\n",
       "      <th>0</th>\n",
       "      <td>22</td>\n",
       "      <td>20</td>\n",
       "      <td>2</td>\n",
       "      <td>50</td>\n",
       "      <td>0</td>\n",
       "      <td>0</td>\n",
       "      <td>0</td>\n",
       "      <td>1</td>\n",
       "      <td>0</td>\n",
       "      <td>0</td>\n",
       "      <td>24</td>\n",
       "      <td>0</td>\n",
       "      <td>3</td>\n",
       "      <td>83</td>\n",
       "      <td>0</td>\n",
       "      <td>0</td>\n",
       "      <td>0</td>\n",
       "      <td>1</td>\n",
       "      <td>0</td>\n",
       "      <td>1</td>\n",
       "    </tr>\n",
       "    <tr>\n",
       "      <th>5</th>\n",
       "      <td>9</td>\n",
       "      <td>0</td>\n",
       "      <td>2</td>\n",
       "      <td>25</td>\n",
       "      <td>0</td>\n",
       "      <td>0</td>\n",
       "      <td>0</td>\n",
       "      <td>0</td>\n",
       "      <td>1</td>\n",
       "      <td>0</td>\n",
       "      <td>24</td>\n",
       "      <td>1</td>\n",
       "      <td>6</td>\n",
       "      <td>175</td>\n",
       "      <td>0</td>\n",
       "      <td>0</td>\n",
       "      <td>1</td>\n",
       "      <td>0</td>\n",
       "      <td>0</td>\n",
       "      <td>4</td>\n",
       "    </tr>\n",
       "    <tr>\n",
       "      <th>11</th>\n",
       "      <td>20</td>\n",
       "      <td>20</td>\n",
       "      <td>2</td>\n",
       "      <td>35</td>\n",
       "      <td>0</td>\n",
       "      <td>0</td>\n",
       "      <td>0</td>\n",
       "      <td>1</td>\n",
       "      <td>0</td>\n",
       "      <td>0</td>\n",
       "      <td>18</td>\n",
       "      <td>4</td>\n",
       "      <td>4</td>\n",
       "      <td>108</td>\n",
       "      <td>0</td>\n",
       "      <td>1</td>\n",
       "      <td>0</td>\n",
       "      <td>0</td>\n",
       "      <td>0</td>\n",
       "      <td>4</td>\n",
       "    </tr>\n",
       "    <tr>\n",
       "      <th>12</th>\n",
       "      <td>11</td>\n",
       "      <td>40</td>\n",
       "      <td>2</td>\n",
       "      <td>15</td>\n",
       "      <td>0</td>\n",
       "      <td>1</td>\n",
       "      <td>0</td>\n",
       "      <td>0</td>\n",
       "      <td>0</td>\n",
       "      <td>0</td>\n",
       "      <td>24</td>\n",
       "      <td>1</td>\n",
       "      <td>6</td>\n",
       "      <td>175</td>\n",
       "      <td>0</td>\n",
       "      <td>0</td>\n",
       "      <td>1</td>\n",
       "      <td>0</td>\n",
       "      <td>0</td>\n",
       "      <td>2</td>\n",
       "    </tr>\n",
       "    <tr>\n",
       "      <th>14</th>\n",
       "      <td>17</td>\n",
       "      <td>15</td>\n",
       "      <td>2</td>\n",
       "      <td>35</td>\n",
       "      <td>0</td>\n",
       "      <td>0</td>\n",
       "      <td>0</td>\n",
       "      <td>1</td>\n",
       "      <td>0</td>\n",
       "      <td>0</td>\n",
       "      <td>24</td>\n",
       "      <td>3</td>\n",
       "      <td>4</td>\n",
       "      <td>114</td>\n",
       "      <td>0</td>\n",
       "      <td>1</td>\n",
       "      <td>0</td>\n",
       "      <td>0</td>\n",
       "      <td>0</td>\n",
       "      <td>4</td>\n",
       "    </tr>\n",
       "  </tbody>\n",
       "</table>\n",
       "</div>"
      ],
      "text/plain": [
       "    Dep_hour  Dep_minutes  Duration_hours  Duration_mins  Air Asia  Air India  \\\n",
       "0         22           20               2             50         0          0   \n",
       "5          9            0               2             25         0          0   \n",
       "11        20           20               2             35         0          0   \n",
       "12        11           40               2             15         0          1   \n",
       "14        17           15               2             35         0          0   \n",
       "\n",
       "    GoAir  IndiGo  SpiceJet  Vistara  Day of month  Day of week  \\\n",
       "0       0       1         0        0            24            0   \n",
       "5       0       0         1        0            24            1   \n",
       "11      0       1         0        0            18            4   \n",
       "12      0       0         0        0            24            1   \n",
       "14      0       1         0        0            24            3   \n",
       "\n",
       "    Month of year  Day of year  Dep_early morning  Dep_evening  Dep_morning  \\\n",
       "0               3           83                  0            0            0   \n",
       "5               6          175                  0            0            1   \n",
       "11              4          108                  0            1            0   \n",
       "12              6          175                  0            0            1   \n",
       "14              4          114                  0            1            0   \n",
       "\n",
       "    Dep_night  Dep_noon  route  \n",
       "0           1         0      1  \n",
       "5           0         0      4  \n",
       "11          0         0      4  \n",
       "12          0         0      2  \n",
       "14          0         0      4  "
      ]
     },
     "execution_count": 17,
     "metadata": {},
     "output_type": "execute_result"
    }
   ],
   "source": [
    "X.head()"
   ]
  },
  {
   "cell_type": "markdown",
   "metadata": {},
   "source": [
    "Tasks:\r\n",
    "\r\n",
    "1. Airline -> OneHotEncoder()\r\n",
    "2. Date_of_Journey -> Month of year, Day of month, day of week, day of year\r\n",
    "3. Source and Destination -> Route\r\n",
    "4. Drop Route, Arrival_Time, Total_Stops \r\n",
    "5. Dep_Time -> Extract hour and min\r\n",
    "6. Dep hour -> Time of day\r\n",
    "7. Duration -> Duration hour, duration minutes"
   ]
  },
  {
   "cell_type": "code",
   "execution_count": 31,
   "metadata": {},
   "outputs": [],
   "source": [
    "df.drop(['Additional_Info','Arrival_Time','Route'],axis=1,inplace=True)"
   ]
  },
  {
   "cell_type": "code",
   "execution_count": 35,
   "metadata": {},
   "outputs": [],
   "source": []
  },
  {
   "cell_type": "code",
   "execution_count": 70,
   "metadata": {},
   "outputs": [],
   "source": [
    "from sklearn.base import TransformerMixin, BaseEstimator\r\n",
    "class date_splitter(BaseEstimator,TransformerMixin):\r\n",
    "    def __init__(self,Date_of_Journey):\r\n",
    "        self.Date_of_Journey=Date_of_Journey\r\n",
    "\r\n",
    "    def fit(self,X,y=None):\r\n",
    "        return self\r\n",
    "\r\n",
    "    def transform(self,X,y=None):\r\n",
    "        X['Date_of_Journey'] = X['Date_of_Journey'].apply(lambda x: dt.strptime(str(x), '%d/%m/%Y'))\r\n",
    "        X['Day of month'] = X.Date_of_Journey.apply(lambda x: x.strftime(\"%d\")).astype(int)\r\n",
    "        X['Day of week'] = X.Date_of_Journey.apply(lambda x: x.strftime(\"%w\")).astype(int)\r\n",
    "        X['Month of year'] = X.Date_of_Journey.apply(lambda x: x.strftime(\"%m\")).astype(int)\r\n",
    "        X['Day of year'] = X.Date_of_Journey.apply(lambda x: x.timetuple().tm_yday)\r\n",
    "\r\n",
    "        return X[['Day of month','Day of week','Month of year','Day of year']].values\r\n",
    "                "
   ]
  },
  {
   "cell_type": "code",
   "execution_count": 59,
   "metadata": {},
   "outputs": [],
   "source": [
    "from sklearn.compose import ColumnTransformer\r\n",
    "\r\n",
    "c= ColumnTransformer(\r\n",
    "    [\r\n",
    "        ('dater',date_splitter(['Date_of_Journey']))     \r\n",
    "    ]   \r\n",
    ")"
   ]
  },
  {
   "cell_type": "code",
   "execution_count": 71,
   "metadata": {},
   "outputs": [],
   "source": [
    "from sklearn.pipeline import Pipeline\r\n",
    "pp=Pipeline(\r\n",
    "    steps=[\r\n",
    "     ('cc',date_splitter(['Date_of_Journey']))   \r\n",
    "    ]\r\n",
    "\r\n",
    ")"
   ]
  },
  {
   "cell_type": "code",
   "execution_count": 72,
   "metadata": {},
   "outputs": [],
   "source": [
    "from sklearn.preprocessing import OneHotEncoder"
   ]
  },
  {
   "cell_type": "code",
   "execution_count": 73,
   "metadata": {},
   "outputs": [
    {
     "data": {
      "text/plain": [
       "Pipeline(steps=[('cc', date_splitter(Date_of_Journey=['Date_of_Journey']))])"
      ]
     },
     "execution_count": 73,
     "metadata": {},
     "output_type": "execute_result"
    }
   ],
   "source": [
    "pp.fit(df)"
   ]
  },
  {
   "cell_type": "code",
   "execution_count": 74,
   "metadata": {},
   "outputs": [
    {
     "data": {
      "text/plain": [
       "array([[ 24,   0,   3,  83],\n",
       "       [  1,   3,   5, 121],\n",
       "       [  9,   0,   6, 160],\n",
       "       ...,\n",
       "       [ 27,   6,   4, 117],\n",
       "       [  1,   5,   3,  60],\n",
       "       [  9,   4,   5, 129]], dtype=int64)"
      ]
     },
     "execution_count": 74,
     "metadata": {},
     "output_type": "execute_result"
    }
   ],
   "source": [
    "pp.transform(df)"
   ]
  },
  {
   "cell_type": "code",
   "execution_count": null,
   "metadata": {},
   "outputs": [],
   "source": []
  },
  {
   "cell_type": "code",
   "execution_count": null,
   "metadata": {},
   "outputs": [],
   "source": []
  },
  {
   "cell_type": "code",
   "execution_count": 41,
   "metadata": {},
   "outputs": [
    {
     "data": {
      "text/html": [
       "<div>\n",
       "<style scoped>\n",
       "    .dataframe tbody tr th:only-of-type {\n",
       "        vertical-align: middle;\n",
       "    }\n",
       "\n",
       "    .dataframe tbody tr th {\n",
       "        vertical-align: top;\n",
       "    }\n",
       "\n",
       "    .dataframe thead th {\n",
       "        text-align: right;\n",
       "    }\n",
       "</style>\n",
       "<table border=\"1\" class=\"dataframe\">\n",
       "  <thead>\n",
       "    <tr style=\"text-align: right;\">\n",
       "      <th></th>\n",
       "      <th>Airline</th>\n",
       "      <th>Date_of_Journey</th>\n",
       "      <th>Source</th>\n",
       "      <th>Destination</th>\n",
       "      <th>Dep_Time</th>\n",
       "      <th>Duration</th>\n",
       "      <th>Total_Stops</th>\n",
       "      <th>Price</th>\n",
       "    </tr>\n",
       "  </thead>\n",
       "  <tbody>\n",
       "    <tr>\n",
       "      <th>0</th>\n",
       "      <td>IndiGo</td>\n",
       "      <td>24/03/2019</td>\n",
       "      <td>Banglore</td>\n",
       "      <td>New Delhi</td>\n",
       "      <td>22:20</td>\n",
       "      <td>2h 50m</td>\n",
       "      <td>non-stop</td>\n",
       "      <td>3897</td>\n",
       "    </tr>\n",
       "    <tr>\n",
       "      <th>1</th>\n",
       "      <td>Air India</td>\n",
       "      <td>1/05/2019</td>\n",
       "      <td>Kolkata</td>\n",
       "      <td>Banglore</td>\n",
       "      <td>05:50</td>\n",
       "      <td>7h 25m</td>\n",
       "      <td>2 stops</td>\n",
       "      <td>7662</td>\n",
       "    </tr>\n",
       "    <tr>\n",
       "      <th>2</th>\n",
       "      <td>Jet Airways</td>\n",
       "      <td>9/06/2019</td>\n",
       "      <td>Delhi</td>\n",
       "      <td>Cochin</td>\n",
       "      <td>09:25</td>\n",
       "      <td>19h</td>\n",
       "      <td>2 stops</td>\n",
       "      <td>13882</td>\n",
       "    </tr>\n",
       "  </tbody>\n",
       "</table>\n",
       "</div>"
      ],
      "text/plain": [
       "       Airline Date_of_Journey    Source Destination Dep_Time Duration  \\\n",
       "0       IndiGo      24/03/2019  Banglore   New Delhi    22:20   2h 50m   \n",
       "1    Air India       1/05/2019   Kolkata    Banglore    05:50   7h 25m   \n",
       "2  Jet Airways       9/06/2019     Delhi      Cochin    09:25      19h   \n",
       "\n",
       "  Total_Stops  Price  \n",
       "0    non-stop   3897  \n",
       "1     2 stops   7662  \n",
       "2     2 stops  13882  "
      ]
     },
     "execution_count": 41,
     "metadata": {},
     "output_type": "execute_result"
    }
   ],
   "source": [
    "df.head(3)"
   ]
  },
  {
   "cell_type": "code",
   "execution_count": null,
   "metadata": {},
   "outputs": [],
   "source": []
  },
  {
   "cell_type": "code",
   "execution_count": null,
   "metadata": {},
   "outputs": [],
   "source": []
  },
  {
   "cell_type": "code",
   "execution_count": null,
   "metadata": {},
   "outputs": [],
   "source": []
  },
  {
   "cell_type": "code",
   "execution_count": 27,
   "metadata": {},
   "outputs": [
    {
     "data": {
      "text/plain": [
       "<AxesSubplot:xlabel='Price'>"
      ]
     },
     "execution_count": 27,
     "metadata": {},
     "output_type": "execute_result"
    },
    {
     "data": {
      "image/png": "[encoded data removed]",
      "text/plain": [
       "<Figure size 432x288 with 1 Axes>"
      ]
     },
     "metadata": {
      "needs_background": "light"
     },
     "output_type": "display_data"
    }
   ],
   "source": [
    "sns.boxplot(y)"
   ]
  },
  {
   "cell_type": "markdown",
   "metadata": {},
   "source": [
    "# Model"
   ]
  },
  {
   "cell_type": "code",
   "execution_count": null,
   "metadata": {},
   "outputs": [],
   "source": [
    "def models(model):\r\n",
    "\r\n",
    "    folds=K(n_splits=5, shuffle=True, random_state=4)\r\n",
    "    r=score(model,X,y,scoring='neg_mean_squared_error',cv=folds)\r\n",
    "    scores = str(-round(np.sqrt(r.mean()),2))+\" ± \"+str(round(np.sqrt(r.std()),2))\r\n",
    "    return scores"
   ]
  },
  {
   "cell_type": "code",
   "execution_count": null,
   "metadata": {
    "tags": []
   },
   "outputs": [
    {
     "name": "stdout",
     "output_type": "stream",
     "text": [
      "Absolute error for Decision tree regressor 301.09 ± 21.67\n",
      "Absolute error for Random forest regressor 261.89 ± 13.87\n",
      "Absolute error for XGB Regressor 308.28 ± 15.16\n"
     ]
    }
   ],
   "source": [
    "d=DTR(max_depth=14)\n",
    "r=RFR(max_depth=16, random_state=123456)\n",
    "x=XGR(max_depth=5,eta=0.5, subsample=0.92)\n",
    "print(\"Absolute error for Decision tree regressor\",models(d))    #Median best max_depth after 100 iterations of cross validation\n",
    "print(\"Absolute error for Random forest regressor\",models(r))\n",
    "print(\"Absolute error for XGB Regressor\",models(x))"
   ]
  },
  {
   "cell_type": "code",
   "execution_count": null,
   "metadata": {},
   "outputs": [
    {
     "data": {
      "text/plain": [
       "RandomForestRegressor(max_depth=16, random_state=123456)"
      ]
     },
     "execution_count": 11,
     "metadata": {},
     "output_type": "execute_result"
    }
   ],
   "source": [
    "r.fit(X,y)"
   ]
  },
  {
   "cell_type": "code",
   "execution_count": null,
   "metadata": {},
   "outputs": [
    {
     "data": {
      "text/html": [
       "<style  type=\"text/css\" >\n",
       "#T_6934c_row0_col0{\n",
       "            background-color:  #67000d;\n",
       "            color:  #f1f1f1;\n",
       "        }#T_6934c_row1_col0{\n",
       "            background-color:  #c7171c;\n",
       "            color:  #f1f1f1;\n",
       "        }#T_6934c_row2_col0{\n",
       "            background-color:  #fcb99f;\n",
       "            color:  #000000;\n",
       "        }#T_6934c_row3_col0{\n",
       "            background-color:  #fdd2bf;\n",
       "            color:  #000000;\n",
       "        }#T_6934c_row4_col0{\n",
       "            background-color:  #fdd3c1;\n",
       "            color:  #000000;\n",
       "        }#T_6934c_row5_col0{\n",
       "            background-color:  #fee1d4;\n",
       "            color:  #000000;\n",
       "        }#T_6934c_row6_col0{\n",
       "            background-color:  #fee5d9;\n",
       "            color:  #000000;\n",
       "        }#T_6934c_row7_col0{\n",
       "            background-color:  #fee8dd;\n",
       "            color:  #000000;\n",
       "        }#T_6934c_row8_col0{\n",
       "            background-color:  #fee9df;\n",
       "            color:  #000000;\n",
       "        }#T_6934c_row9_col0{\n",
       "            background-color:  #ffece3;\n",
       "            color:  #000000;\n",
       "        }#T_6934c_row10_col0{\n",
       "            background-color:  #ffefe8;\n",
       "            color:  #000000;\n",
       "        }#T_6934c_row11_col0{\n",
       "            background-color:  #fff0e8;\n",
       "            color:  #000000;\n",
       "        }#T_6934c_row12_col0,#T_6934c_row13_col0{\n",
       "            background-color:  #fff2ec;\n",
       "            color:  #000000;\n",
       "        }#T_6934c_row14_col0,#T_6934c_row15_col0{\n",
       "            background-color:  #fff4ee;\n",
       "            color:  #000000;\n",
       "        }#T_6934c_row16_col0,#T_6934c_row17_col0{\n",
       "            background-color:  #fff4ef;\n",
       "            color:  #000000;\n",
       "        }#T_6934c_row18_col0,#T_6934c_row19_col0{\n",
       "            background-color:  #fff5f0;\n",
       "            color:  #000000;\n",
       "        }</style><table id=\"T_6934c_\" ><thead>    <tr>        <th class=\"blank level0\" ></th>        <th class=\"col_heading level0 col0\" >0</th>    </tr></thead><tbody>\n",
       "                <tr>\n",
       "                        <th id=\"T_6934c_level0_row0\" class=\"row_heading level0 row0\" >route</th>\n",
       "                        <td id=\"T_6934c_row0_col0\" class=\"data row0 col0\" >33.264510</td>\n",
       "            </tr>\n",
       "            <tr>\n",
       "                        <th id=\"T_6934c_level0_row1\" class=\"row_heading level0 row1\" >Day of year</th>\n",
       "                        <td id=\"T_6934c_row1_col0\" class=\"data row1 col0\" >25.496338</td>\n",
       "            </tr>\n",
       "            <tr>\n",
       "                        <th id=\"T_6934c_level0_row2\" class=\"row_heading level0 row2\" >Air India</th>\n",
       "                        <td id=\"T_6934c_row2_col0\" class=\"data row2 col0\" >8.649718</td>\n",
       "            </tr>\n",
       "            <tr>\n",
       "                        <th id=\"T_6934c_level0_row3\" class=\"row_heading level0 row3\" >SpiceJet</th>\n",
       "                        <td id=\"T_6934c_row3_col0\" class=\"data row3 col0\" >5.910456</td>\n",
       "            </tr>\n",
       "            <tr>\n",
       "                        <th id=\"T_6934c_level0_row4\" class=\"row_heading level0 row4\" >Dep_hour</th>\n",
       "                        <td id=\"T_6934c_row4_col0\" class=\"data row4 col0\" >5.734662</td>\n",
       "            </tr>\n",
       "            <tr>\n",
       "                        <th id=\"T_6934c_level0_row5\" class=\"row_heading level0 row5\" >Duration_mins</th>\n",
       "                        <td id=\"T_6934c_row5_col0\" class=\"data row5 col0\" >4.136288</td>\n",
       "            </tr>\n",
       "            <tr>\n",
       "                        <th id=\"T_6934c_level0_row6\" class=\"row_heading level0 row6\" >Dep_minutes</th>\n",
       "                        <td id=\"T_6934c_row6_col0\" class=\"data row6 col0\" >3.340701</td>\n",
       "            </tr>\n",
       "            <tr>\n",
       "                        <th id=\"T_6934c_level0_row7\" class=\"row_heading level0 row7\" >Day of month</th>\n",
       "                        <td id=\"T_6934c_row7_col0\" class=\"data row7 col0\" >2.739235</td>\n",
       "            </tr>\n",
       "            <tr>\n",
       "                        <th id=\"T_6934c_level0_row8\" class=\"row_heading level0 row8\" >Duration_hours</th>\n",
       "                        <td id=\"T_6934c_row8_col0\" class=\"data row8 col0\" >2.555251</td>\n",
       "            </tr>\n",
       "            <tr>\n",
       "                        <th id=\"T_6934c_level0_row9\" class=\"row_heading level0 row9\" >Day of week</th>\n",
       "                        <td id=\"T_6934c_row9_col0\" class=\"data row9 col0\" >2.026096</td>\n",
       "            </tr>\n",
       "            <tr>\n",
       "                        <th id=\"T_6934c_level0_row10\" class=\"row_heading level0 row10\" >Dep_night</th>\n",
       "                        <td id=\"T_6934c_row10_col0\" class=\"data row10 col0\" >1.413668</td>\n",
       "            </tr>\n",
       "            <tr>\n",
       "                        <th id=\"T_6934c_level0_row11\" class=\"row_heading level0 row11\" >Vistara</th>\n",
       "                        <td id=\"T_6934c_row11_col0\" class=\"data row11 col0\" >1.300586</td>\n",
       "            </tr>\n",
       "            <tr>\n",
       "                        <th id=\"T_6934c_level0_row12\" class=\"row_heading level0 row12\" >IndiGo</th>\n",
       "                        <td id=\"T_6934c_row12_col0\" class=\"data row12 col0\" >0.742955</td>\n",
       "            </tr>\n",
       "            <tr>\n",
       "                        <th id=\"T_6934c_level0_row13\" class=\"row_heading level0 row13\" >Month of year</th>\n",
       "                        <td id=\"T_6934c_row13_col0\" class=\"data row13 col0\" >0.684379</td>\n",
       "            </tr>\n",
       "            <tr>\n",
       "                        <th id=\"T_6934c_level0_row14\" class=\"row_heading level0 row14\" >Dep_evening</th>\n",
       "                        <td id=\"T_6934c_row14_col0\" class=\"data row14 col0\" >0.502779</td>\n",
       "            </tr>\n",
       "            <tr>\n",
       "                        <th id=\"T_6934c_level0_row15\" class=\"row_heading level0 row15\" >Dep_morning</th>\n",
       "                        <td id=\"T_6934c_row15_col0\" class=\"data row15 col0\" >0.463755</td>\n",
       "            </tr>\n",
       "            <tr>\n",
       "                        <th id=\"T_6934c_level0_row16\" class=\"row_heading level0 row16\" >Air Asia</th>\n",
       "                        <td id=\"T_6934c_row16_col0\" class=\"data row16 col0\" >0.361809</td>\n",
       "            </tr>\n",
       "            <tr>\n",
       "                        <th id=\"T_6934c_level0_row17\" class=\"row_heading level0 row17\" >Dep_noon</th>\n",
       "                        <td id=\"T_6934c_row17_col0\" class=\"data row17 col0\" >0.331487</td>\n",
       "            </tr>\n",
       "            <tr>\n",
       "                        <th id=\"T_6934c_level0_row18\" class=\"row_heading level0 row18\" >Dep_early morning</th>\n",
       "                        <td id=\"T_6934c_row18_col0\" class=\"data row18 col0\" >0.195702</td>\n",
       "            </tr>\n",
       "            <tr>\n",
       "                        <th id=\"T_6934c_level0_row19\" class=\"row_heading level0 row19\" >GoAir</th>\n",
       "                        <td id=\"T_6934c_row19_col0\" class=\"data row19 col0\" >0.149626</td>\n",
       "            </tr>\n",
       "    </tbody></table>"
      ],
      "text/plain": [
       "<pandas.io.formats.style.Styler at 0x1db75816fa0>"
      ]
     },
     "execution_count": 12,
     "metadata": {},
     "output_type": "execute_result"
    }
   ],
   "source": [
    "rr=DTR(max_depth=16)\n",
    "rr.fit(X,y)\n",
    "pd.DataFrame(rr.feature_importances_*100,index=X.columns).sort_values(0,ascending=False).style.background_gradient(cmap='Reds')"
   ]
  },
  {
   "cell_type": "markdown",
   "metadata": {},
   "source": [
    "# Deployment"
   ]
  },
  {
   "cell_type": "code",
   "execution_count": null,
   "metadata": {},
   "outputs": [],
   "source": [
    "df.Destination.replace({'Delhi':'New Delhi'},inplace=True)\n",
    "df.Source.replace({'Delhi':'New Delhi'},inplace=True)\n",
    "df.Destination.replace({'Banglore':'Bangalore'},inplace=True)\n",
    "df.Source.replace({'Banglore':'Bangalore'},inplace=True)\n",
    "hours_calc=df[['Airline','Source','Destination','Duration_hours','Duration_mins']]\n",
    "hours_calc=hours_calc[hours_calc.Airline.isin(['IndiGo','Air India','SpiceJet','Air Asia','GoAir','Vistara'])]\n",
    "hours_calc=hours_calc.groupby(['Airline','Source','Destination'])[['Duration_hours','Duration_mins']].mean().reset_index()"
   ]
  },
  {
   "cell_type": "code",
   "execution_count": null,
   "metadata": {},
   "outputs": [],
   "source": [
    "hours_calc.to_csv(r\"../deployment/hour_calculation.csv\", index=False)"
   ]
  },
  {
   "cell_type": "code",
   "execution_count": null,
   "metadata": {},
   "outputs": [],
   "source": [
    "with open('..\\deployment\\model','wb') as f:\n",
    "    pickle.dump(r,f)"
   ]
  },
  {
   "cell_type": "code",
   "execution_count": null,
   "metadata": {},
   "outputs": [],
   "source": []
  }
 ],
 "metadata": {
  "interpreter": {
   "hash": "62a490a61034db1e8b6e05e6e999b5629625384177f9d8186b44b788547d5428"
  },
  "kernelspec": {
   "display_name": "Python 3.9.5 64-bit ('machine_L': venv)",
   "name": "python3"
  },
  "language_info": {
   "codemirror_mode": {
    "name": "ipython",
    "version": 3
   },
   "file_extension": ".py",
   "mimetype": "text/x-python",
   "name": "python",
   "nbconvert_exporter": "python",
   "pygments_lexer": "ipython3",
   "version": "3.9.5"
  },
  "metadata": {
   "interpreter": {
    "hash": "6beebaa0981c1e9d17bebb217d7d2d19f8163b6f1d7ac3bbe835b659c5d6023d"
   }
  },
  "orig_nbformat": 2
 },
 "nbformat": 4,
 "nbformat_minor": 2
}