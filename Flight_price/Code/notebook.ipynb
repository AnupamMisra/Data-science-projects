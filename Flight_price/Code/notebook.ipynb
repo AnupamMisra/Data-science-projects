{
 "cells": [
  {
   "cell_type": "markdown",
   "metadata": {},
   "source": [
    "# Initialisation"
   ]
  },
  {
   "cell_type": "code",
   "execution_count": null,
   "metadata": {},
   "outputs": [],
   "source": [
    "#Importing all the necessary libraries\r\n",
    "import pandas as pd \r\n",
    "import numpy as np \r\n",
    "import matplotlib.pyplot as plt \r\n",
    "import seaborn as sns\r\n",
    "from sklearn.preprocessing import OneHotEncoder\r\n",
    "from sklearn.pipeline import FeatureUnion, Pipeline\r\n",
    "from datetime import datetime as dt\r\n",
    "from sklearn.metrics import mean_squared_error, r2_score\r\n",
    "from sklearn.preprocessing import StandardScaler\r\n",
    "from sklearn.model_selection import train_test_split as TTS, KFold as K, cross_val_score as score  \r\n",
    "from sklearn.tree import DecisionTreeRegressor as DTR\r\n",
    "from sklearn.ensemble import RandomForestRegressor as RFR \r\n",
    "from xgboost import XGBRegressor as XGR\r\n",
    "import warnings\r\n",
    "warnings.filterwarnings('ignore')\r\n",
    "from sklearn.compose import ColumnTransformer\r\n",
    "\r\n",
    "import pickle\r\n",
    "\r\n"
   ]
  },
  {
   "cell_type": "code",
   "execution_count": null,
   "metadata": {},
   "outputs": [],
   "source": [
    "#Importing the datset\r\n",
    "df = pd.read_csv(r'../Data/flight_price.csv')\r\n",
    "target=df.Price"
   ]
  },
  {
   "cell_type": "code",
   "execution_count": null,
   "metadata": {},
   "outputs": [],
   "source": [
    "from sklearn.base import TransformerMixin, BaseEstimator\r\n",
    "\r\n",
    "class date_splitter(BaseEstimator,TransformerMixin):\r\n",
    "    def __init__(self,Date_of_Journey):\r\n",
    "        self.Date_of_Journey=Date_of_Journey\r\n",
    "\r\n",
    "    def fit(self,X,y=None):\r\n",
    "        return self\r\n",
    "\r\n",
    "    def transform(self,X,y=None):\r\n",
    "        \r\n",
    "        try:\r\n",
    "            X['Date_of_Journey'] = X['Date_of_Journey'].apply(lambda x: dt.strptime(str(x), '%d-%m-%y'))\r\n",
    "        except:\r\n",
    "            X['Date_of_Journey'] = X['Date_of_Journey'].apply(lambda x: dt.strptime(str(x), '%Y-%m-%d %H:%M:%S'))\r\n",
    "\r\n",
    "        #24-03-19\r\n",
    "        \r\n",
    "        X['Day of month'] = X.Date_of_Journey.apply(lambda x: x.strftime(\"%d\")).astype(int)\r\n",
    "        X['Day of week'] = X.Date_of_Journey.apply(lambda x: x.strftime(\"%w\")).astype(int)\r\n",
    "        X['Month of year'] = X.Date_of_Journey.apply(lambda x: x.strftime(\"%m\")).astype(int)\r\n",
    "        X['Day of year'] = X.Date_of_Journey.apply(lambda x: x.timetuple().tm_yday)\r\n",
    "        \r\n",
    "        X.drop(['Date_of_Journey'],axis=1,inplace=True)\r\n",
    "        return X[['Day of month','Day of week','Month of year','Day of year']].values\r\n",
    "\r\n",
    "\r\n",
    "class route(BaseEstimator,TransformerMixin):\r\n",
    "    def __init__(self,Source,Destination):\r\n",
    "        self.Source=Source\r\n",
    "        self.Destination=Destination\r\n",
    "\r\n",
    "    def fit(self,X,y=None):\r\n",
    "        return self\r\n",
    "\r\n",
    "    def transform(self, X, y=None):\r\n",
    "\r\n",
    "        mapper={\r\n",
    "        'BangaloreNew Delhi':1, \r\n",
    "        'ChennaiKolkata':2, \r\n",
    "        'New DelhiCochin':3,\r\n",
    "        'KolkataBangalore':4, \r\n",
    "        'MumbaiHyderabad':5}        \r\n",
    "\r\n",
    "        X['route'] = X['Source']+X['Destination']\r\n",
    "\r\n",
    "        X['route'] = X['route'].map(mapper)\r\n",
    "        \r\n",
    "        X.drop(['Source','Destination','Route','Additional_Info','Arrival_Time'],axis=1,inplace=True)\r\n",
    "        \r\n",
    "        return X[['route']].values\r\n",
    "\r\n",
    "class time_trier(BaseEstimator,TransformerMixin):\r\n",
    "    def __init__(self, Dep_Time, Duration):\r\n",
    "        self.Dep_Time=Dep_Time\r\n",
    "        self.Duration= Duration\r\n",
    "\r\n",
    "    def fit(self,X,y=None):\r\n",
    "        return self\r\n",
    "\r\n",
    "    def transform(self, X, y=None):\r\n",
    "             \r\n",
    "        hour = lambda x: x[:x.index(\":\")]\r\n",
    "        minutes = lambda x: x[x.index(\":\")+1:]\r\n",
    "        dur_hour = lambda x:x[:x.index(\"h\")] if 'h' in x else 0\r\n",
    "        dur_min = lambda x: x[x.index(\"m\")-2:x.index(\"m\")] if 'm' in x else 0\r\n",
    "\r\n",
    "        df['Dep_hour'] = df.Dep_Time.apply(hour)\r\n",
    "        df['Dep_minutes'] = df.Dep_Time.apply(minutes)\r\n",
    "        df['Duration_hours'] = df.Duration.apply(dur_hour)\r\n",
    "        df['Duration_mins'] = df.Duration.apply(dur_min)\r\n",
    "        \r\n",
    "        df.Duration_mins.replace({'':'0'},inplace=True)\r\n",
    "          \r\n",
    "        df.Dep_hour = df.Dep_hour.astype(int)\r\n",
    "        df.Dep_minutes = df.Dep_minutes.astype(int)\r\n",
    "        df.Duration_hours = df.Duration_hours.astype(int)\r\n",
    "        df.Duration_mins = df.Duration_mins.astype(int)\r\n",
    "        X.drop(['Duration','Dep_Time'],axis=1,inplace=True)\r\n",
    "        \r\n",
    "        return X[['Dep_hour','Dep_minutes','Duration_hours','Duration_mins']].values\r\n",
    "\r\n",
    "class filters(BaseEstimator,TransformerMixin):\r\n",
    "    def __init__(self, Total_Stops):\r\n",
    "        self.Total_Stops=Total_Stops\r\n",
    "\r\n",
    "    def fit(self,X,y=None):\r\n",
    "        return self\r\n",
    "\r\n",
    "    def transform(self, X, y=None):\r\n",
    "             \r\n",
    "        non_stop={'non-stop':1, np.nan:1, '2 stops':0, '1 stop':0, '3 stops':0,'4 stops':0}\r\n",
    "        df.Total_Stops = df.Total_Stops.map(non_stop)\r\n",
    "        \r\n",
    "        df = df[df.Total_Stops==1]\r\n",
    "\r\n",
    "        return X.values\r\n",
    "\r\n",
    "\r\n"
   ]
  },
  {
   "cell_type": "code",
   "execution_count": null,
   "metadata": {},
   "outputs": [],
   "source": [
    "airline=ColumnTransformer([('airline',OneHotEncoder(drop=['Multiple carriers Premium economy']),['Airline'])], remainder='passthrough')"
   ]
  },
  {
   "cell_type": "code",
   "execution_count": null,
   "metadata": {},
   "outputs": [],
   "source": [
    "f=FeatureUnion(\r\n",
    "    transformer_list=[\r\n",
    "        ('airline',airline),\r\n",
    "        ('date_spliiter',date_splitter('Date_of_Journey')),\r\n",
    "        ('route_identifier', route('Source','Destination')),\r\n",
    "        ('timer', time_trier('Dep_Time','Duration'))    \r\n",
    "])"
   ]
  },
  {
   "cell_type": "code",
   "execution_count": null,
   "metadata": {},
   "outputs": [],
   "source": [
    "f.fit(df)"
   ]
  },
  {
   "cell_type": "code",
   "execution_count": null,
   "metadata": {},
   "outputs": [],
   "source": [
    "op=pd.DataFrame(f.transform(df))"
   ]
  },
  {
   "cell_type": "code",
   "execution_count": null,
   "metadata": {},
   "outputs": [],
   "source": [
    "op.head()"
   ]
  },
  {
   "cell_type": "code",
   "execution_count": null,
   "metadata": {},
   "outputs": [],
   "source": []
  },
  {
   "cell_type": "code",
   "execution_count": null,
   "metadata": {},
   "outputs": [],
   "source": []
  },
  {
   "cell_type": "code",
   "execution_count": null,
   "metadata": {},
   "outputs": [],
   "source": []
  },
  {
   "cell_type": "code",
   "execution_count": null,
   "metadata": {},
   "outputs": [],
   "source": [
    "X,y=preprocess(df)"
   ]
  },
  {
   "cell_type": "code",
   "execution_count": null,
   "metadata": {},
   "outputs": [],
   "source": [
    "def preprocess(df):\r\n",
    "\r\n",
    "   stops = lambda x: 1 if '1' in str(x) else (2  if '2' in str(x) else(3 if '3' in str(x) else(4 if '4' in str(x) else (5 if '5' in str(x)else 0))))\r\n",
    "   tod = lambda x: 'early morning' if 0<x<=6 else('morning' if 6<x<=12 else ('noon' if 12<x<=16 else ('evening' if 16<x<=20 else 'night')))\r\n",
    "   df.Duration_mins.replace({'':'0'},inplace=True)\r\n",
    "   df['N_stops'] = df.Total_Stops.apply(stops)\r\n",
    "   df.N_stops = df.N_stops.astype(int)\r\n",
    "   df=df[df.N_stops==0]\r\n",
    "  \r\n",
    "   df[['Dep_early morning', 'Dep_evening', 'Dep_morning', 'Dep_night', 'Dep_noon']] = pd.get_dummies(df['TOD of departure'])\r\n",
    "   #3. Dropping previous and now irrelevant features\r\n",
    "\r\n",
    "   thresh = np.quantile(df.Price,0.75) + 1.5*(np.quantile(df.Price,0.75)-np.quantile(df.Price,0.25))\r\n",
    "   df = df[df.Price<thresh]\r\n",
    "   df=df[((df['IndiGo']==0) & (df['Air India']==0) & (df['Air Asia']==0) & (df['SpiceJet']==0) & (df['Vistara']==0) & (df['GoAir']==0))==0]\r\n",
    "   X = df.drop(['Price'],axis=1)\r\n",
    "   y = df['Price'] \r\n",
    "   return X,y "
   ]
  },
  {
   "cell_type": "code",
   "execution_count": null,
   "metadata": {},
   "outputs": [],
   "source": [
    "X.head()"
   ]
  },
  {
   "cell_type": "markdown",
   "metadata": {},
   "source": [
    "# Preprocessing trial"
   ]
  },
  {
   "cell_type": "markdown",
   "metadata": {},
   "source": [
    "Tasks:\r\n",
    "\r\n",
    "1. Airline -> OneHotEncoder() `DONE`\r\n",
    "2. Date_of_Journey -> Month of year, Day of month, day of week, day of year  `DONE`\r\n",
    "3. Source and Destination -> Route  `DONE`  \r\n",
    "4. Drop Route, Arrival_Time, Total_Stops\r\n",
    "5. Dep_Time -> Extract hour and min `DONE`\r\n",
    "6. Dep hour -> Time of day\r\n",
    "7. Duration -> Duration hour, duration minutes `DONE`"
   ]
  },
  {
   "cell_type": "code",
   "execution_count": null,
   "metadata": {},
   "outputs": [],
   "source": [
    "df.drop(['Additional_Info','Arrival_Time','Route'],axis=1,inplace=True)"
   ]
  },
  {
   "cell_type": "code",
   "execution_count": null,
   "metadata": {},
   "outputs": [],
   "source": [
    "p2.fit(df)"
   ]
  },
  {
   "cell_type": "code",
   "execution_count": null,
   "metadata": {},
   "outputs": [],
   "source": [
    "pp.transform(df)"
   ]
  },
  {
   "cell_type": "code",
   "execution_count": null,
   "metadata": {},
   "outputs": [],
   "source": [
    "df.Dep_Time"
   ]
  },
  {
   "cell_type": "code",
   "execution_count": null,
   "metadata": {},
   "outputs": [],
   "source": [
    "type(df.Date_of_Journey[0])\r\n"
   ]
  },
  {
   "cell_type": "code",
   "execution_count": null,
   "metadata": {},
   "outputs": [],
   "source": [
    "x."
   ]
  },
  {
   "cell_type": "code",
   "execution_count": null,
   "metadata": {},
   "outputs": [],
   "source": []
  },
  {
   "cell_type": "code",
   "execution_count": null,
   "metadata": {},
   "outputs": [],
   "source": []
  },
  {
   "cell_type": "code",
   "execution_count": null,
   "metadata": {},
   "outputs": [],
   "source": []
  },
  {
   "cell_type": "code",
   "execution_count": null,
   "metadata": {},
   "outputs": [],
   "source": [
    "sns.boxplot(y)"
   ]
  },
  {
   "cell_type": "markdown",
   "metadata": {},
   "source": [
    "# Model"
   ]
  },
  {
   "cell_type": "code",
   "execution_count": null,
   "metadata": {},
   "outputs": [],
   "source": [
    "def models(model):\r\n",
    "\r\n",
    "    folds=K(n_splits=5, shuffle=True, random_state=4)\r\n",
    "    r=score(model,X,y,scoring='neg_mean_squared_error',cv=folds)\r\n",
    "    scores = str(-round(np.sqrt(r.mean()),2))+\" ± \"+str(round(np.sqrt(r.std()),2))\r\n",
    "    return scores"
   ]
  },
  {
   "cell_type": "code",
   "execution_count": null,
   "metadata": {
    "tags": []
   },
   "outputs": [],
   "source": [
    "d=DTR(max_depth=14)\n",
    "r=RFR(max_depth=16, random_state=123456)\n",
    "x=XGR(max_depth=5,eta=0.5, subsample=0.92)\n",
    "print(\"Absolute error for Decision tree regressor\",models(d))    #Median best max_depth after 100 iterations of cross validation\n",
    "print(\"Absolute error for Random forest regressor\",models(r))\n",
    "print(\"Absolute error for XGB Regressor\",models(x))"
   ]
  },
  {
   "cell_type": "code",
   "execution_count": null,
   "metadata": {},
   "outputs": [],
   "source": [
    "r.fit(X,y)"
   ]
  },
  {
   "cell_type": "code",
   "execution_count": null,
   "metadata": {},
   "outputs": [],
   "source": [
    "rr=DTR(max_depth=16)\n",
    "rr.fit(X,y)\n",
    "pd.DataFrame(rr.feature_importances_*100,index=X.columns).sort_values(0,ascending=False).style.background_gradient(cmap='Reds')"
   ]
  },
  {
   "cell_type": "markdown",
   "metadata": {},
   "source": [
    "# Deployment"
   ]
  },
  {
   "cell_type": "code",
   "execution_count": null,
   "metadata": {},
   "outputs": [],
   "source": [
    "\r\n",
    "hours_calc=df[['Airline','Source','Destination','Duration_hours','Duration_mins']]\r\n",
    "hours_calc=hours_calc[hours_calc.Airline.isin(['IndiGo','Air India','SpiceJet','Air Asia','GoAir','Vistara'])]\r\n",
    "hours_calc=hours_calc.groupby(['Airline','Source','Destination'])[['Duration_hours','Duration_mins']].mean().reset_index()"
   ]
  },
  {
   "cell_type": "code",
   "execution_count": null,
   "metadata": {},
   "outputs": [],
   "source": [
    "hours_calc.to_csv(r\"../deployment/hour_calculation.csv\", index=False)"
   ]
  },
  {
   "cell_type": "code",
   "execution_count": null,
   "metadata": {},
   "outputs": [],
   "source": [
    "with open('..\\deployment\\model','wb') as f:\n",
    "    pickle.dump(r,f)"
   ]
  },
  {
   "cell_type": "code",
   "execution_count": null,
   "metadata": {},
   "outputs": [],
   "source": []
  }
 ],
 "metadata": {
  "interpreter": {
   "hash": "62a490a61034db1e8b6e05e6e999b5629625384177f9d8186b44b788547d5428"
  },
  "kernelspec": {
   "display_name": "Python 3.9.5 64-bit ('machine_L': venv)",
   "name": "python3"
  },
  "language_info": {
   "codemirror_mode": {
    "name": "ipython",
    "version": 3
   },
   "file_extension": ".py",
   "mimetype": "text/x-python",
   "name": "python",
   "nbconvert_exporter": "python",
   "pygments_lexer": "ipython3",
   "version": "3.9.5"
  },
  "metadata": {
   "interpreter": {
    "hash": "6beebaa0981c1e9d17bebb217d7d2d19f8163b6f1d7ac3bbe835b659c5d6023d"
   }
  },
  "orig_nbformat": 2
 },
 "nbformat": 4,
 "nbformat_minor": 2
}