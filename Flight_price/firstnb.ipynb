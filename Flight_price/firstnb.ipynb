{
 "metadata": {
  "language_info": {
   "codemirror_mode": {
    "name": "ipython",
    "version": 3
   },
   "file_extension": ".py",
   "mimetype": "text/x-python",
   "name": "python",
   "nbconvert_exporter": "python",
   "pygments_lexer": "ipython3",
   "version": "3.9.5"
  },
  "orig_nbformat": 2,
  "kernelspec": {
   "name": "python395jvsc74a57bd062a490a61034db1e8b6e05e6e999b5629625384177f9d8186b44b788547d5428",
   "display_name": "Python 3.9.5 64-bit ('machine_L': venv)"
  },
  "metadata": {
   "interpreter": {
    "hash": "6beebaa0981c1e9d17bebb217d7d2d19f8163b6f1d7ac3bbe835b659c5d6023d"
   }
  }
 },
 "nbformat": 4,
 "nbformat_minor": 2,
 "cells": [
  {
   "source": [
    "# Initialisation"
   ],
   "cell_type": "markdown",
   "metadata": {}
  },
  {
   "cell_type": "code",
   "execution_count": 1,
   "metadata": {},
   "outputs": [],
   "source": [
    "#Importing all the necessary libraries\n",
    "import pandas as pd \n",
    "import numpy as np \n",
    "import matplotlib.pyplot as plt \n",
    "import seaborn as sns\n",
    "from datetime import datetime as dt\n",
    "from sklearn.metrics import mean_squared_error, r2_score\n",
    "from sklearn.preprocessing import StandardScaler\n",
    "from sklearn.model_selection import train_test_split as TTS, KFold as K, cross_val_score as score  \n",
    "from sklearn.linear_model import LinearRegression as LR \n",
    "from sklearn.tree import DecisionTreeRegressor as DTR\n",
    "from sklearn.ensemble import RandomForestRegressor as RFR \n",
    "from xgboost import XGBRegressor as XGR\n",
    "import warnings\n",
    "warnings.filterwarnings('ignore')\n",
    "\n",
    "#Importing the datset\n",
    "df = pd.read_csv(r'C:/Users/ADMIN/Downloads/flight_price.csv')"
   ]
  },
  {
   "source": [
    "df"
   ],
   "cell_type": "code",
   "metadata": {},
   "execution_count": 2,
   "outputs": [
    {
     "output_type": "execute_result",
     "data": {
      "text/plain": [
       "           Airline Date_of_Journey    Source Destination  \\\n",
       "0           IndiGo      24/03/2019  Banglore   New Delhi   \n",
       "1        Air India       1/05/2019   Kolkata    Banglore   \n",
       "2      Jet Airways       9/06/2019     Delhi      Cochin   \n",
       "3           IndiGo      12/05/2019   Kolkata    Banglore   \n",
       "4           IndiGo      01/03/2019  Banglore   New Delhi   \n",
       "...            ...             ...       ...         ...   \n",
       "10678     Air Asia       9/04/2019   Kolkata    Banglore   \n",
       "10679    Air India      27/04/2019   Kolkata    Banglore   \n",
       "10680  Jet Airways      27/04/2019  Banglore       Delhi   \n",
       "10681      Vistara      01/03/2019  Banglore   New Delhi   \n",
       "10682    Air India       9/05/2019     Delhi      Cochin   \n",
       "\n",
       "                       Route Dep_Time  Arrival_Time Duration Total_Stops  \\\n",
       "0                  BLR ? DEL    22:20  01:10 22 Mar   2h 50m    non-stop   \n",
       "1      CCU ? IXR ? BBI ? BLR    05:50         13:15   7h 25m     2 stops   \n",
       "2      DEL ? LKO ? BOM ? COK    09:25  04:25 10 Jun      19h     2 stops   \n",
       "3            CCU ? NAG ? BLR    18:05         23:30   5h 25m      1 stop   \n",
       "4            BLR ? NAG ? DEL    16:50         21:35   4h 45m      1 stop   \n",
       "...                      ...      ...           ...      ...         ...   \n",
       "10678              CCU ? BLR    19:55         22:25   2h 30m    non-stop   \n",
       "10679              CCU ? BLR    20:45         23:20   2h 35m    non-stop   \n",
       "10680              BLR ? DEL    08:20         11:20       3h    non-stop   \n",
       "10681              BLR ? DEL    11:30         14:10   2h 40m    non-stop   \n",
       "10682  DEL ? GOI ? BOM ? COK    10:55         19:15   8h 20m     2 stops   \n",
       "\n",
       "      Additional_Info  Price  \n",
       "0             No info   3897  \n",
       "1             No info   7662  \n",
       "2             No info  13882  \n",
       "3             No info   6218  \n",
       "4             No info  13302  \n",
       "...               ...    ...  \n",
       "10678         No info   4107  \n",
       "10679         No info   4145  \n",
       "10680         No info   7229  \n",
       "10681         No info  12648  \n",
       "10682         No info  11753  \n",
       "\n",
       "[10683 rows x 11 columns]"
      ],
      "text/html": "<div>\n<style scoped>\n    .dataframe tbody tr th:only-of-type {\n        vertical-align: middle;\n    }\n\n    .dataframe tbody tr th {\n        vertical-align: top;\n    }\n\n    .dataframe thead th {\n        text-align: right;\n    }\n</style>\n<table border=\"1\" class=\"dataframe\">\n  <thead>\n    <tr style=\"text-align: right;\">\n      <th></th>\n      <th>Airline</th>\n      <th>Date_of_Journey</th>\n      <th>Source</th>\n      <th>Destination</th>\n      <th>Route</th>\n      <th>Dep_Time</th>\n      <th>Arrival_Time</th>\n      <th>Duration</th>\n      <th>Total_Stops</th>\n      <th>Additional_Info</th>\n      <th>Price</th>\n    </tr>\n  </thead>\n  <tbody>\n    <tr>\n      <th>0</th>\n      <td>IndiGo</td>\n      <td>24/03/2019</td>\n      <td>Banglore</td>\n      <td>New Delhi</td>\n      <td>BLR ? DEL</td>\n      <td>22:20</td>\n      <td>01:10 22 Mar</td>\n      <td>2h 50m</td>\n      <td>non-stop</td>\n      <td>No info</td>\n      <td>3897</td>\n    </tr>\n    <tr>\n      <th>1</th>\n      <td>Air India</td>\n      <td>1/05/2019</td>\n      <td>Kolkata</td>\n      <td>Banglore</td>\n      <td>CCU ? IXR ? BBI ? BLR</td>\n      <td>05:50</td>\n      <td>13:15</td>\n      <td>7h 25m</td>\n      <td>2 stops</td>\n      <td>No info</td>\n      <td>7662</td>\n    </tr>\n    <tr>\n      <th>2</th>\n      <td>Jet Airways</td>\n      <td>9/06/2019</td>\n      <td>Delhi</td>\n      <td>Cochin</td>\n      <td>DEL ? LKO ? BOM ? COK</td>\n      <td>09:25</td>\n      <td>04:25 10 Jun</td>\n      <td>19h</td>\n      <td>2 stops</td>\n      <td>No info</td>\n      <td>13882</td>\n    </tr>\n    <tr>\n      <th>3</th>\n      <td>IndiGo</td>\n      <td>12/05/2019</td>\n      <td>Kolkata</td>\n      <td>Banglore</td>\n      <td>CCU ? NAG ? BLR</td>\n      <td>18:05</td>\n      <td>23:30</td>\n      <td>5h 25m</td>\n      <td>1 stop</td>\n      <td>No info</td>\n      <td>6218</td>\n    </tr>\n    <tr>\n      <th>4</th>\n      <td>IndiGo</td>\n      <td>01/03/2019</td>\n      <td>Banglore</td>\n      <td>New Delhi</td>\n      <td>BLR ? NAG ? DEL</td>\n      <td>16:50</td>\n      <td>21:35</td>\n      <td>4h 45m</td>\n      <td>1 stop</td>\n      <td>No info</td>\n      <td>13302</td>\n    </tr>\n    <tr>\n      <th>...</th>\n      <td>...</td>\n      <td>...</td>\n      <td>...</td>\n      <td>...</td>\n      <td>...</td>\n      <td>...</td>\n      <td>...</td>\n      <td>...</td>\n      <td>...</td>\n      <td>...</td>\n      <td>...</td>\n    </tr>\n    <tr>\n      <th>10678</th>\n      <td>Air Asia</td>\n      <td>9/04/2019</td>\n      <td>Kolkata</td>\n      <td>Banglore</td>\n      <td>CCU ? BLR</td>\n      <td>19:55</td>\n      <td>22:25</td>\n      <td>2h 30m</td>\n      <td>non-stop</td>\n      <td>No info</td>\n      <td>4107</td>\n    </tr>\n    <tr>\n      <th>10679</th>\n      <td>Air India</td>\n      <td>27/04/2019</td>\n      <td>Kolkata</td>\n      <td>Banglore</td>\n      <td>CCU ? BLR</td>\n      <td>20:45</td>\n      <td>23:20</td>\n      <td>2h 35m</td>\n      <td>non-stop</td>\n      <td>No info</td>\n      <td>4145</td>\n    </tr>\n    <tr>\n      <th>10680</th>\n      <td>Jet Airways</td>\n      <td>27/04/2019</td>\n      <td>Banglore</td>\n      <td>Delhi</td>\n      <td>BLR ? DEL</td>\n      <td>08:20</td>\n      <td>11:20</td>\n      <td>3h</td>\n      <td>non-stop</td>\n      <td>No info</td>\n      <td>7229</td>\n    </tr>\n    <tr>\n      <th>10681</th>\n      <td>Vistara</td>\n      <td>01/03/2019</td>\n      <td>Banglore</td>\n      <td>New Delhi</td>\n      <td>BLR ? DEL</td>\n      <td>11:30</td>\n      <td>14:10</td>\n      <td>2h 40m</td>\n      <td>non-stop</td>\n      <td>No info</td>\n      <td>12648</td>\n    </tr>\n    <tr>\n      <th>10682</th>\n      <td>Air India</td>\n      <td>9/05/2019</td>\n      <td>Delhi</td>\n      <td>Cochin</td>\n      <td>DEL ? GOI ? BOM ? COK</td>\n      <td>10:55</td>\n      <td>19:15</td>\n      <td>8h 20m</td>\n      <td>2 stops</td>\n      <td>No info</td>\n      <td>11753</td>\n    </tr>\n  </tbody>\n</table>\n<p>10683 rows × 11 columns</p>\n</div>"
     },
     "metadata": {},
     "execution_count": 2
    }
   ]
  },
  {
   "cell_type": "code",
   "execution_count": 3,
   "metadata": {},
   "outputs": [
    {
     "output_type": "execute_result",
     "data": {
      "text/plain": [
       "Airline            0\n",
       "Date_of_Journey    0\n",
       "Source             0\n",
       "Destination        0\n",
       "Route              1\n",
       "Dep_Time           0\n",
       "Arrival_Time       0\n",
       "Duration           0\n",
       "Total_Stops        1\n",
       "Additional_Info    0\n",
       "Price              0\n",
       "dtype: int64"
      ]
     },
     "metadata": {},
     "execution_count": 3
    }
   ],
   "source": [
    "df.isnull().sum()"
   ]
  },
  {
   "cell_type": "code",
   "execution_count": 4,
   "metadata": {},
   "outputs": [
    {
     "output_type": "execute_result",
     "data": {
      "text/plain": [
       "Airline            object\n",
       "Date_of_Journey    object\n",
       "Source             object\n",
       "Destination        object\n",
       "Route              object\n",
       "Dep_Time           object\n",
       "Arrival_Time       object\n",
       "Duration           object\n",
       "Total_Stops        object\n",
       "Additional_Info    object\n",
       "Price               int64\n",
       "dtype: object"
      ]
     },
     "metadata": {},
     "execution_count": 4
    }
   ],
   "source": [
    "df.dtypes"
   ]
  },
  {
   "cell_type": "code",
   "execution_count": 20,
   "metadata": {},
   "outputs": [
    {
     "output_type": "error",
     "ename": "DataError",
     "evalue": "No numeric types to aggregate",
     "traceback": [
      "\u001b[1;31m---------------------------------------------------------------------------\u001b[0m",
      "\u001b[1;31mDataError\u001b[0m                                 Traceback (most recent call last)",
      "\u001b[1;32m<ipython-input-20-359e61159bab>\u001b[0m in \u001b[0;36m<module>\u001b[1;34m\u001b[0m\n\u001b[1;32m----> 1\u001b[1;33m \u001b[0mdf\u001b[0m\u001b[1;33m.\u001b[0m\u001b[0mgroupby\u001b[0m\u001b[1;33m(\u001b[0m\u001b[1;33m[\u001b[0m\u001b[1;34m'Source'\u001b[0m\u001b[1;33m,\u001b[0m\u001b[1;34m'Destination'\u001b[0m\u001b[1;33m]\u001b[0m\u001b[1;33m)\u001b[0m\u001b[1;33m[\u001b[0m\u001b[1;34m'Duration'\u001b[0m\u001b[1;33m]\u001b[0m\u001b[1;33m.\u001b[0m\u001b[0mmean\u001b[0m\u001b[1;33m(\u001b[0m\u001b[1;33m)\u001b[0m\u001b[1;33m\u001b[0m\u001b[1;33m\u001b[0m\u001b[0m\n\u001b[0m",
      "\u001b[1;32mc:\\Users\\ADMIN\\Documents\\Codebase\\envs\\machine_L\\lib\\site-packages\\pandas\\core\\groupby\\groupby.py\u001b[0m in \u001b[0;36mmean\u001b[1;34m(self, numeric_only)\u001b[0m\n\u001b[0;32m   1494\u001b[0m         \u001b[0mName\u001b[0m\u001b[1;33m:\u001b[0m \u001b[0mB\u001b[0m\u001b[1;33m,\u001b[0m \u001b[0mdtype\u001b[0m\u001b[1;33m:\u001b[0m \u001b[0mfloat64\u001b[0m\u001b[1;33m\u001b[0m\u001b[1;33m\u001b[0m\u001b[0m\n\u001b[0;32m   1495\u001b[0m         \"\"\"\n\u001b[1;32m-> 1496\u001b[1;33m         return self._cython_agg_general(\n\u001b[0m\u001b[0;32m   1497\u001b[0m             \u001b[1;34m\"mean\"\u001b[0m\u001b[1;33m,\u001b[0m\u001b[1;33m\u001b[0m\u001b[1;33m\u001b[0m\u001b[0m\n\u001b[0;32m   1498\u001b[0m             \u001b[0malt\u001b[0m\u001b[1;33m=\u001b[0m\u001b[1;32mlambda\u001b[0m \u001b[0mx\u001b[0m\u001b[1;33m,\u001b[0m \u001b[0maxis\u001b[0m\u001b[1;33m:\u001b[0m \u001b[0mSeries\u001b[0m\u001b[1;33m(\u001b[0m\u001b[0mx\u001b[0m\u001b[1;33m)\u001b[0m\u001b[1;33m.\u001b[0m\u001b[0mmean\u001b[0m\u001b[1;33m(\u001b[0m\u001b[0mnumeric_only\u001b[0m\u001b[1;33m=\u001b[0m\u001b[0mnumeric_only\u001b[0m\u001b[1;33m)\u001b[0m\u001b[1;33m,\u001b[0m\u001b[1;33m\u001b[0m\u001b[1;33m\u001b[0m\u001b[0m\n",
      "\u001b[1;32mc:\\Users\\ADMIN\\Documents\\Codebase\\envs\\machine_L\\lib\\site-packages\\pandas\\core\\groupby\\groupby.py\u001b[0m in \u001b[0;36m_cython_agg_general\u001b[1;34m(self, how, alt, numeric_only, min_count)\u001b[0m\n\u001b[0;32m   1079\u001b[0m \u001b[1;33m\u001b[0m\u001b[0m\n\u001b[0;32m   1080\u001b[0m         \u001b[1;32mif\u001b[0m \u001b[1;32mnot\u001b[0m \u001b[0moutput\u001b[0m\u001b[1;33m:\u001b[0m\u001b[1;33m\u001b[0m\u001b[1;33m\u001b[0m\u001b[0m\n\u001b[1;32m-> 1081\u001b[1;33m             \u001b[1;32mraise\u001b[0m \u001b[0mDataError\u001b[0m\u001b[1;33m(\u001b[0m\u001b[1;34m\"No numeric types to aggregate\"\u001b[0m\u001b[1;33m)\u001b[0m\u001b[1;33m\u001b[0m\u001b[1;33m\u001b[0m\u001b[0m\n\u001b[0m\u001b[0;32m   1082\u001b[0m \u001b[1;33m\u001b[0m\u001b[0m\n\u001b[0;32m   1083\u001b[0m         \u001b[1;32mreturn\u001b[0m \u001b[0mself\u001b[0m\u001b[1;33m.\u001b[0m\u001b[0m_wrap_aggregated_output\u001b[0m\u001b[1;33m(\u001b[0m\u001b[0moutput\u001b[0m\u001b[1;33m,\u001b[0m \u001b[0mindex\u001b[0m\u001b[1;33m=\u001b[0m\u001b[0mself\u001b[0m\u001b[1;33m.\u001b[0m\u001b[0mgrouper\u001b[0m\u001b[1;33m.\u001b[0m\u001b[0mresult_index\u001b[0m\u001b[1;33m)\u001b[0m\u001b[1;33m\u001b[0m\u001b[1;33m\u001b[0m\u001b[0m\n",
      "\u001b[1;31mDataError\u001b[0m: No numeric types to aggregate"
     ]
    }
   ],
   "source": [
    "df.groupby(['Source','Destination'])['Duration'].mean()"
   ]
  },
  {
   "cell_type": "code",
   "execution_count": 5,
   "metadata": {},
   "outputs": [
    {
     "output_type": "execute_result",
     "data": {
      "text/plain": [
       "     Airline Date_of_Journey    Source Destination                  Route  \\\n",
       "0     IndiGo      24/03/2019  Banglore   New Delhi              BLR ? DEL   \n",
       "1  Air India       1/05/2019   Kolkata    Banglore  CCU ? IXR ? BBI ? BLR   \n",
       "\n",
       "  Dep_Time  Arrival_Time Duration Total_Stops Additional_Info  Price  \n",
       "0    22:20  01:10 22 Mar   2h 50m    non-stop         No info   3897  \n",
       "1    05:50         13:15   7h 25m     2 stops         No info   7662  "
      ],
      "text/html": "<div>\n<style scoped>\n    .dataframe tbody tr th:only-of-type {\n        vertical-align: middle;\n    }\n\n    .dataframe tbody tr th {\n        vertical-align: top;\n    }\n\n    .dataframe thead th {\n        text-align: right;\n    }\n</style>\n<table border=\"1\" class=\"dataframe\">\n  <thead>\n    <tr style=\"text-align: right;\">\n      <th></th>\n      <th>Airline</th>\n      <th>Date_of_Journey</th>\n      <th>Source</th>\n      <th>Destination</th>\n      <th>Route</th>\n      <th>Dep_Time</th>\n      <th>Arrival_Time</th>\n      <th>Duration</th>\n      <th>Total_Stops</th>\n      <th>Additional_Info</th>\n      <th>Price</th>\n    </tr>\n  </thead>\n  <tbody>\n    <tr>\n      <th>0</th>\n      <td>IndiGo</td>\n      <td>24/03/2019</td>\n      <td>Banglore</td>\n      <td>New Delhi</td>\n      <td>BLR ? DEL</td>\n      <td>22:20</td>\n      <td>01:10 22 Mar</td>\n      <td>2h 50m</td>\n      <td>non-stop</td>\n      <td>No info</td>\n      <td>3897</td>\n    </tr>\n    <tr>\n      <th>1</th>\n      <td>Air India</td>\n      <td>1/05/2019</td>\n      <td>Kolkata</td>\n      <td>Banglore</td>\n      <td>CCU ? IXR ? BBI ? BLR</td>\n      <td>05:50</td>\n      <td>13:15</td>\n      <td>7h 25m</td>\n      <td>2 stops</td>\n      <td>No info</td>\n      <td>7662</td>\n    </tr>\n  </tbody>\n</table>\n</div>"
     },
     "metadata": {},
     "execution_count": 5
    }
   ],
   "source": [
    "df.head(2)"
   ]
  },
  {
   "source": [
    "# Data preprocessing"
   ],
   "cell_type": "markdown",
   "metadata": {}
  },
  {
   "cell_type": "code",
   "execution_count": 6,
   "metadata": {},
   "outputs": [],
   "source": [
    "###################################################################################################################\n",
    "#\n",
    "#def preprocess(df):\n",
    "# Input: main dataframe\n",
    "#\n",
    "# 1. Correct the datatypes\n",
    "# 2. Generate new features\n",
    "# 3. Drop previous features which are irrelevant now \n",
    "# 4. return X, y\n",
    "###################################################################################################################\n",
    "\n",
    "def preprocess(df):\n",
    "\n",
    "    #1. Correcting the datatypes    \n",
    "    date_conv = lambda x: dt.strptime(str(x), '%d/%m/%Y')\n",
    "    time_conv = lambda x: dt.strptime(str(x), '%H:%M')\n",
    "    df['Date_of_Journey'] = df['Date_of_Journey'].apply(date_conv)\n",
    "\n",
    "    #2. Generate new features\n",
    "    hour = lambda x: x[x.index(\":\")-2:x.index(\":\")]\n",
    "    minutes = lambda x: x[x.index(\":\")+1:x.index(\":\")+3]\n",
    "    dur_hour = lambda x:x[:x.index(\"h\")] if 'h' in x else 0\n",
    "    dur_min = lambda x: x[x.index(\"m\")-2:x.index(\"m\")] if 'm' in x else 0\n",
    "    stops = lambda x: 1 if '1' in str(x) else (2  if '2' in str(x) else(3 if '3' in str(x) else(4 if '4' in str(x) else (5 if '5' in str(x)else 0))))\n",
    "    tod = lambda x: 'early morning' if 0<x<=6 else('morning' if 6<x<=12 else ('noon' if 12<x<=16 else ('evening' if 16<x<=20 else 'night')))\n",
    "\n",
    "    df['Dep_hour'] = df.Dep_Time.apply(hour)\n",
    "    df['Dep_minutes'] = df.Dep_Time.apply(minutes)\n",
    "    df['Arr_hour'] = df.Arrival_Time.apply(hour)\n",
    "    df['Arr_minutes'] = df.Arrival_Time.apply(minutes)\n",
    "    df['Duration_hours'] = df.Duration.apply(dur_hour)\n",
    "    df['Duration_mins'] = df.Duration.apply(dur_min)\n",
    "    df.Duration_mins.replace({'':'0'},inplace=True)\n",
    "    df['N_stops'] = df.Total_Stops.apply(stops)\n",
    "    df.Dep_hour = df.Dep_hour.astype(int)\n",
    "    df.Dep_minutes = df.Dep_minutes.astype(int)\n",
    "    df.Arr_hour = df.Arr_hour.astype(int)\n",
    "    df.Arr_minutes = df.Arr_minutes.astype(int)\n",
    "    df.Duration_hours = df.Duration_hours.astype(int)\n",
    "    df.Duration_mins = df.Duration_mins.astype(int)\n",
    "    df.N_stops = df.N_stops.astype(int)\n",
    "\n",
    "    X,y=df.drop(['Price'],axis=1), df.Price\n",
    "    X.Additional_Info.replace({'No Info':'No info'}, inplace=True)\n",
    "    X[['1 Long layover', '1 Short layover', '2 Long layover', 'Business class',\n",
    "       'Change airports', 'In-flight meal not included',\n",
    "       'No check-in baggage included', 'No info', 'Red-eye flight']]=pd.get_dummies(X.Additional_Info)\n",
    "    X[['Air Asia', 'Air India', 'GoAir', 'IndiGo', 'Jet Airways',\n",
    "       'Jet Airways Business', 'Multiple carriers',\n",
    "       'Multiple carriers Premium economy', 'SpiceJet', 'Trujet', 'Vistara',\n",
    "       'Vistara Premium economy']]=pd.get_dummies(X.Airline)\n",
    "    X[['Src_Banglore', 'Src_Chennai', 'Src_Delhi', 'Src_Kolkata',\n",
    "        'Src_Mumbai']]=pd.get_dummies(X.Source, prefix=\"Src\")\n",
    "    X[['Dest_Banglore', 'Dest_Cochin', 'Dest_Delhi', 'Dest_Hyderabad',\n",
    "       'Dest_Kolkata', 'Dest_New Delhi']]=pd.get_dummies(X.Destination, prefix=\"Dest\")\n",
    "\n",
    "    X['Day of month'] = X.Date_of_Journey.apply(lambda x: x.strftime(\"%d\")).astype(int)\n",
    "    X['Day of week'] = X.Date_of_Journey.apply(lambda x: x.strftime(\"%w\")).astype(int)\n",
    "    X['Month of year'] = X.Date_of_Journey.apply(lambda x: x.strftime(\"%m\")).astype(int)\n",
    "    X['Day of year'] = X.Date_of_Journey.apply(lambda x: x.timetuple().tm_yday)\n",
    "    X['TOD of departure'] = X.Dep_hour.apply(tod)\n",
    "    X['TOD of arrival'] = X.Arr_hour.apply(tod)\n",
    "\n",
    "    X[['Dep_early morning', 'Dep_evening', 'Dep_morning', 'Dep_night', 'Dep_noon']] = pd.get_dummies(X['TOD of departure'])\n",
    "    X[['Arr_early morning', 'Arr_evening', 'Arr_morning', 'Arr_night', 'Arr_noon']] = pd.get_dummies(X['TOD of arrival'])\n",
    "    #3. Dropping previous and now irrelevant features\n",
    "    \n",
    "    X.drop(['Dep_Time', 'Arrival_Time', 'Duration', 'Total_Stops','Additional_Info','Airline','Source','Destination', 'Date_of_Journey','Route','TOD of departure','TOD of arrival'],axis=1, inplace=True)\n",
    "    \n",
    "    #4. Return X, y\n",
    "    return X,y"
   ]
  },
  {
   "cell_type": "code",
   "execution_count": 7,
   "metadata": {},
   "outputs": [],
   "source": [
    "X,y=preprocess(df)"
   ]
  },
  {
   "cell_type": "code",
   "execution_count": 21,
   "metadata": {},
   "outputs": [
    {
     "output_type": "execute_result",
     "data": {
      "text/plain": [
       "       Dep_hour  Dep_minutes  Arr_hour  Arr_minutes  Duration_hours  \\\n",
       "0            22           20         1           10               2   \n",
       "1             5           50        13           15               7   \n",
       "2             9           25         4           25              19   \n",
       "3            18            5        23           30               5   \n",
       "4            16           50        21           35               4   \n",
       "...         ...          ...       ...          ...             ...   \n",
       "10678        19           55        22           25               2   \n",
       "10679        20           45        23           20               2   \n",
       "10680         8           20        11           20               3   \n",
       "10681        11           30        14           10               2   \n",
       "10682        10           55        19           15               8   \n",
       "\n",
       "       Duration_mins  N_stops  1 Long layover  1 Short layover  \\\n",
       "0                 50        0               0                0   \n",
       "1                 25        2               0                0   \n",
       "2                  0        2               0                0   \n",
       "3                 25        1               0                0   \n",
       "4                 45        1               0                0   \n",
       "...              ...      ...             ...              ...   \n",
       "10678             30        0               0                0   \n",
       "10679             35        0               0                0   \n",
       "10680              0        0               0                0   \n",
       "10681             40        0               0                0   \n",
       "10682             20        2               0                0   \n",
       "\n",
       "       2 Long layover  ...  Dep_early morning  Dep_evening  Dep_morning  \\\n",
       "0                   0  ...                  0            0            0   \n",
       "1                   0  ...                  1            0            0   \n",
       "2                   0  ...                  0            0            1   \n",
       "3                   0  ...                  0            1            0   \n",
       "4                   0  ...                  0            0            0   \n",
       "...               ...  ...                ...          ...          ...   \n",
       "10678               0  ...                  0            1            0   \n",
       "10679               0  ...                  0            1            0   \n",
       "10680               0  ...                  0            0            1   \n",
       "10681               0  ...                  0            0            1   \n",
       "10682               0  ...                  0            0            1   \n",
       "\n",
       "       Dep_night  Dep_noon  Arr_early morning  Arr_evening  Arr_morning  \\\n",
       "0              1         0                  1            0            0   \n",
       "1              0         0                  0            0            0   \n",
       "2              0         0                  1            0            0   \n",
       "3              0         0                  0            0            0   \n",
       "4              0         1                  0            0            0   \n",
       "...          ...       ...                ...          ...          ...   \n",
       "10678          0         0                  0            0            0   \n",
       "10679          0         0                  0            0            0   \n",
       "10680          0         0                  0            0            1   \n",
       "10681          0         0                  0            0            0   \n",
       "10682          0         0                  0            1            0   \n",
       "\n",
       "       Arr_night  Arr_noon  \n",
       "0              0         0  \n",
       "1              0         1  \n",
       "2              0         0  \n",
       "3              1         0  \n",
       "4              1         0  \n",
       "...          ...       ...  \n",
       "10678          1         0  \n",
       "10679          1         0  \n",
       "10680          0         0  \n",
       "10681          0         1  \n",
       "10682          0         0  \n",
       "\n",
       "[10589 rows x 53 columns]"
      ],
      "text/html": "<div>\n<style scoped>\n    .dataframe tbody tr th:only-of-type {\n        vertical-align: middle;\n    }\n\n    .dataframe tbody tr th {\n        vertical-align: top;\n    }\n\n    .dataframe thead th {\n        text-align: right;\n    }\n</style>\n<table border=\"1\" class=\"dataframe\">\n  <thead>\n    <tr style=\"text-align: right;\">\n      <th></th>\n      <th>Dep_hour</th>\n      <th>Dep_minutes</th>\n      <th>Arr_hour</th>\n      <th>Arr_minutes</th>\n      <th>Duration_hours</th>\n      <th>Duration_mins</th>\n      <th>N_stops</th>\n      <th>1 Long layover</th>\n      <th>1 Short layover</th>\n      <th>2 Long layover</th>\n      <th>...</th>\n      <th>Dep_early morning</th>\n      <th>Dep_evening</th>\n      <th>Dep_morning</th>\n      <th>Dep_night</th>\n      <th>Dep_noon</th>\n      <th>Arr_early morning</th>\n      <th>Arr_evening</th>\n      <th>Arr_morning</th>\n      <th>Arr_night</th>\n      <th>Arr_noon</th>\n    </tr>\n  </thead>\n  <tbody>\n    <tr>\n      <th>0</th>\n      <td>22</td>\n      <td>20</td>\n      <td>1</td>\n      <td>10</td>\n      <td>2</td>\n      <td>50</td>\n      <td>0</td>\n      <td>0</td>\n      <td>0</td>\n      <td>0</td>\n      <td>...</td>\n      <td>0</td>\n      <td>0</td>\n      <td>0</td>\n      <td>1</td>\n      <td>0</td>\n      <td>1</td>\n      <td>0</td>\n      <td>0</td>\n      <td>0</td>\n      <td>0</td>\n    </tr>\n    <tr>\n      <th>1</th>\n      <td>5</td>\n      <td>50</td>\n      <td>13</td>\n      <td>15</td>\n      <td>7</td>\n      <td>25</td>\n      <td>2</td>\n      <td>0</td>\n      <td>0</td>\n      <td>0</td>\n      <td>...</td>\n      <td>1</td>\n      <td>0</td>\n      <td>0</td>\n      <td>0</td>\n      <td>0</td>\n      <td>0</td>\n      <td>0</td>\n      <td>0</td>\n      <td>0</td>\n      <td>1</td>\n    </tr>\n    <tr>\n      <th>2</th>\n      <td>9</td>\n      <td>25</td>\n      <td>4</td>\n      <td>25</td>\n      <td>19</td>\n      <td>0</td>\n      <td>2</td>\n      <td>0</td>\n      <td>0</td>\n      <td>0</td>\n      <td>...</td>\n      <td>0</td>\n      <td>0</td>\n      <td>1</td>\n      <td>0</td>\n      <td>0</td>\n      <td>1</td>\n      <td>0</td>\n      <td>0</td>\n      <td>0</td>\n      <td>0</td>\n    </tr>\n    <tr>\n      <th>3</th>\n      <td>18</td>\n      <td>5</td>\n      <td>23</td>\n      <td>30</td>\n      <td>5</td>\n      <td>25</td>\n      <td>1</td>\n      <td>0</td>\n      <td>0</td>\n      <td>0</td>\n      <td>...</td>\n      <td>0</td>\n      <td>1</td>\n      <td>0</td>\n      <td>0</td>\n      <td>0</td>\n      <td>0</td>\n      <td>0</td>\n      <td>0</td>\n      <td>1</td>\n      <td>0</td>\n    </tr>\n    <tr>\n      <th>4</th>\n      <td>16</td>\n      <td>50</td>\n      <td>21</td>\n      <td>35</td>\n      <td>4</td>\n      <td>45</td>\n      <td>1</td>\n      <td>0</td>\n      <td>0</td>\n      <td>0</td>\n      <td>...</td>\n      <td>0</td>\n      <td>0</td>\n      <td>0</td>\n      <td>0</td>\n      <td>1</td>\n      <td>0</td>\n      <td>0</td>\n      <td>0</td>\n      <td>1</td>\n      <td>0</td>\n    </tr>\n    <tr>\n      <th>...</th>\n      <td>...</td>\n      <td>...</td>\n      <td>...</td>\n      <td>...</td>\n      <td>...</td>\n      <td>...</td>\n      <td>...</td>\n      <td>...</td>\n      <td>...</td>\n      <td>...</td>\n      <td>...</td>\n      <td>...</td>\n      <td>...</td>\n      <td>...</td>\n      <td>...</td>\n      <td>...</td>\n      <td>...</td>\n      <td>...</td>\n      <td>...</td>\n      <td>...</td>\n      <td>...</td>\n    </tr>\n    <tr>\n      <th>10678</th>\n      <td>19</td>\n      <td>55</td>\n      <td>22</td>\n      <td>25</td>\n      <td>2</td>\n      <td>30</td>\n      <td>0</td>\n      <td>0</td>\n      <td>0</td>\n      <td>0</td>\n      <td>...</td>\n      <td>0</td>\n      <td>1</td>\n      <td>0</td>\n      <td>0</td>\n      <td>0</td>\n      <td>0</td>\n      <td>0</td>\n      <td>0</td>\n      <td>1</td>\n      <td>0</td>\n    </tr>\n    <tr>\n      <th>10679</th>\n      <td>20</td>\n      <td>45</td>\n      <td>23</td>\n      <td>20</td>\n      <td>2</td>\n      <td>35</td>\n      <td>0</td>\n      <td>0</td>\n      <td>0</td>\n      <td>0</td>\n      <td>...</td>\n      <td>0</td>\n      <td>1</td>\n      <td>0</td>\n      <td>0</td>\n      <td>0</td>\n      <td>0</td>\n      <td>0</td>\n      <td>0</td>\n      <td>1</td>\n      <td>0</td>\n    </tr>\n    <tr>\n      <th>10680</th>\n      <td>8</td>\n      <td>20</td>\n      <td>11</td>\n      <td>20</td>\n      <td>3</td>\n      <td>0</td>\n      <td>0</td>\n      <td>0</td>\n      <td>0</td>\n      <td>0</td>\n      <td>...</td>\n      <td>0</td>\n      <td>0</td>\n      <td>1</td>\n      <td>0</td>\n      <td>0</td>\n      <td>0</td>\n      <td>0</td>\n      <td>1</td>\n      <td>0</td>\n      <td>0</td>\n    </tr>\n    <tr>\n      <th>10681</th>\n      <td>11</td>\n      <td>30</td>\n      <td>14</td>\n      <td>10</td>\n      <td>2</td>\n      <td>40</td>\n      <td>0</td>\n      <td>0</td>\n      <td>0</td>\n      <td>0</td>\n      <td>...</td>\n      <td>0</td>\n      <td>0</td>\n      <td>1</td>\n      <td>0</td>\n      <td>0</td>\n      <td>0</td>\n      <td>0</td>\n      <td>0</td>\n      <td>0</td>\n      <td>1</td>\n    </tr>\n    <tr>\n      <th>10682</th>\n      <td>10</td>\n      <td>55</td>\n      <td>19</td>\n      <td>15</td>\n      <td>8</td>\n      <td>20</td>\n      <td>2</td>\n      <td>0</td>\n      <td>0</td>\n      <td>0</td>\n      <td>...</td>\n      <td>0</td>\n      <td>0</td>\n      <td>1</td>\n      <td>0</td>\n      <td>0</td>\n      <td>0</td>\n      <td>1</td>\n      <td>0</td>\n      <td>0</td>\n      <td>0</td>\n    </tr>\n  </tbody>\n</table>\n<p>10589 rows × 53 columns</p>\n</div>"
     },
     "metadata": {},
     "execution_count": 21
    }
   ],
   "source": [
    "X"
   ]
  },
  {
   "cell_type": "code",
   "execution_count": 9,
   "metadata": {},
   "outputs": [
    {
     "output_type": "execute_result",
     "data": {
      "text/plain": [
       "<AxesSubplot:xlabel='Price'>"
      ]
     },
     "metadata": {},
     "execution_count": 9
    },
    {
     "output_type": "display_data",
     "data": {
      "text/plain": "<Figure size 432x288 with 1 Axes>",
      "image/svg+xml": "<?xml version=\"1.0\" encoding=\"utf-8\" standalone=\"no\"?>\r\n<!DOCTYPE svg PUBLIC \"-//W3C//DTD SVG 1.1//EN\"\r\n  \"http://www.w3.org/Graphics/SVG/1.1/DTD/svg11.dtd\">\r\n<svg height=\"262.19625pt\" version=\"1.1\" viewBox=\"0 0 355.298341 262.19625\" width=\"355.298341pt\" xmlns=\"http://www.w3.org/2000/svg\" xmlns:xlink=\"http://www.w3.org/1999/xlink\">\r\n <metadata>\r\n  <rdf:RDF xmlns:cc=\"http://creativecommons.org/ns#\" xmlns:dc=\"http://purl.org/dc/elements/1.1/\" xmlns:rdf=\"http://www.w3.org/1999/02/22-rdf-syntax-ns#\">\r\n   <cc:Work>\r\n    <dc:type rdf:resource=\"http://purl.org/dc/dcmitype/StillImage\"/>\r\n    <dc:date>2021-05-18T22:08:14.760607</dc:date>\r\n    <dc:format>image/svg+xml</dc:format>\r\n    <dc:creator>\r\n     <cc:Agent>\r\n      <dc:title>Matplotlib v3.4.2, https://matplotlib.org/</dc:title>\r\n     </cc:Agent>\r\n    </dc:creator>\r\n   </cc:Work>\r\n  </rdf:RDF>\r\n </metadata>\r\n <defs>\r\n  <style type=\"text/css\">*{stroke-linecap:butt;stroke-linejoin:round;}</style>\r\n </defs>\r\n <g id=\"figure_1\">\r\n  <g id=\"patch_1\">\r\n   <path d=\"M 0 262.19625 \r\nL 355.298341 262.19625 \r\nL 355.298341 0 \r\nL 0 0 \r\nz\r\n\" style=\"fill:none;\"/>\r\n  </g>\r\n  <g id=\"axes_1\">\r\n   <g id=\"patch_2\">\r\n    <path d=\"M 10.7 224.64 \r\nL 345.5 224.64 \r\nL 345.5 7.2 \r\nL 10.7 7.2 \r\nz\r\n\" style=\"fill:#ffffff;\"/>\r\n   </g>\r\n   <g id=\"patch_3\">\r\n    <path clip-path=\"url(#peeabb2f2c6)\" d=\"M 39.689371 28.944 \r\nL 39.689371 202.896 \r\nL 67.466619 202.896 \r\nL 67.466619 28.944 \r\nL 39.689371 28.944 \r\nz\r\n\" style=\"fill:#3274a1;stroke:#3f3f3f;stroke-linejoin:miter;stroke-width:1.5;\"/>\r\n   </g>\r\n   <g id=\"matplotlib.axis_1\">\r\n    <g id=\"xtick_1\">\r\n     <g id=\"line2d_1\">\r\n      <defs>\r\n       <path d=\"M 0 0 \r\nL 0 3.5 \r\n\" id=\"ma23c1eb140\" style=\"stroke:#000000;stroke-width:0.8;\"/>\r\n      </defs>\r\n      <g>\r\n       <use style=\"stroke:#000000;stroke-width:0.8;\" x=\"19.032587\" xlink:href=\"#ma23c1eb140\" y=\"224.64\"/>\r\n      </g>\r\n     </g>\r\n     <g id=\"text_1\">\r\n      <!-- 0 -->\r\n      <g transform=\"translate(15.851337 239.238437)scale(0.1 -0.1)\">\r\n       <defs>\r\n        <path d=\"M 2034 4250 \r\nQ 1547 4250 1301 3770 \r\nQ 1056 3291 1056 2328 \r\nQ 1056 1369 1301 889 \r\nQ 1547 409 2034 409 \r\nQ 2525 409 2770 889 \r\nQ 3016 1369 3016 2328 \r\nQ 3016 3291 2770 3770 \r\nQ 2525 4250 2034 4250 \r\nz\r\nM 2034 4750 \r\nQ 2819 4750 3233 4129 \r\nQ 3647 3509 3647 2328 \r\nQ 3647 1150 3233 529 \r\nQ 2819 -91 2034 -91 \r\nQ 1250 -91 836 529 \r\nQ 422 1150 422 2328 \r\nQ 422 3509 836 4129 \r\nQ 1250 4750 2034 4750 \r\nz\r\n\" id=\"DejaVuSans-30\" transform=\"scale(0.015625)\"/>\r\n       </defs>\r\n       <use xlink:href=\"#DejaVuSans-30\"/>\r\n      </g>\r\n     </g>\r\n    </g>\r\n    <g id=\"xtick_2\">\r\n     <g id=\"line2d_2\">\r\n      <g>\r\n       <use style=\"stroke:#000000;stroke-width:0.8;\" x=\"58.177525\" xlink:href=\"#ma23c1eb140\" y=\"224.64\"/>\r\n      </g>\r\n     </g>\r\n     <g id=\"text_2\">\r\n      <!-- 10000 -->\r\n      <g transform=\"translate(42.271275 239.238437)scale(0.1 -0.1)\">\r\n       <defs>\r\n        <path d=\"M 794 531 \r\nL 1825 531 \r\nL 1825 4091 \r\nL 703 3866 \r\nL 703 4441 \r\nL 1819 4666 \r\nL 2450 4666 \r\nL 2450 531 \r\nL 3481 531 \r\nL 3481 0 \r\nL 794 0 \r\nL 794 531 \r\nz\r\n\" id=\"DejaVuSans-31\" transform=\"scale(0.015625)\"/>\r\n       </defs>\r\n       <use xlink:href=\"#DejaVuSans-31\"/>\r\n       <use x=\"63.623047\" xlink:href=\"#DejaVuSans-30\"/>\r\n       <use x=\"127.246094\" xlink:href=\"#DejaVuSans-30\"/>\r\n       <use x=\"190.869141\" xlink:href=\"#DejaVuSans-30\"/>\r\n       <use x=\"254.492188\" xlink:href=\"#DejaVuSans-30\"/>\r\n      </g>\r\n     </g>\r\n    </g>\r\n    <g id=\"xtick_3\">\r\n     <g id=\"line2d_3\">\r\n      <g>\r\n       <use style=\"stroke:#000000;stroke-width:0.8;\" x=\"97.322463\" xlink:href=\"#ma23c1eb140\" y=\"224.64\"/>\r\n      </g>\r\n     </g>\r\n     <g id=\"text_3\">\r\n      <!-- 20000 -->\r\n      <g transform=\"translate(81.416213 239.238437)scale(0.1 -0.1)\">\r\n       <defs>\r\n        <path d=\"M 1228 531 \r\nL 3431 531 \r\nL 3431 0 \r\nL 469 0 \r\nL 469 531 \r\nQ 828 903 1448 1529 \r\nQ 2069 2156 2228 2338 \r\nQ 2531 2678 2651 2914 \r\nQ 2772 3150 2772 3378 \r\nQ 2772 3750 2511 3984 \r\nQ 2250 4219 1831 4219 \r\nQ 1534 4219 1204 4116 \r\nQ 875 4013 500 3803 \r\nL 500 4441 \r\nQ 881 4594 1212 4672 \r\nQ 1544 4750 1819 4750 \r\nQ 2544 4750 2975 4387 \r\nQ 3406 4025 3406 3419 \r\nQ 3406 3131 3298 2873 \r\nQ 3191 2616 2906 2266 \r\nQ 2828 2175 2409 1742 \r\nQ 1991 1309 1228 531 \r\nz\r\n\" id=\"DejaVuSans-32\" transform=\"scale(0.015625)\"/>\r\n       </defs>\r\n       <use xlink:href=\"#DejaVuSans-32\"/>\r\n       <use x=\"63.623047\" xlink:href=\"#DejaVuSans-30\"/>\r\n       <use x=\"127.246094\" xlink:href=\"#DejaVuSans-30\"/>\r\n       <use x=\"190.869141\" xlink:href=\"#DejaVuSans-30\"/>\r\n       <use x=\"254.492188\" xlink:href=\"#DejaVuSans-30\"/>\r\n      </g>\r\n     </g>\r\n    </g>\r\n    <g id=\"xtick_4\">\r\n     <g id=\"line2d_4\">\r\n      <g>\r\n       <use style=\"stroke:#000000;stroke-width:0.8;\" x=\"136.467401\" xlink:href=\"#ma23c1eb140\" y=\"224.64\"/>\r\n      </g>\r\n     </g>\r\n     <g id=\"text_4\">\r\n      <!-- 30000 -->\r\n      <g transform=\"translate(120.561151 239.238437)scale(0.1 -0.1)\">\r\n       <defs>\r\n        <path d=\"M 2597 2516 \r\nQ 3050 2419 3304 2112 \r\nQ 3559 1806 3559 1356 \r\nQ 3559 666 3084 287 \r\nQ 2609 -91 1734 -91 \r\nQ 1441 -91 1130 -33 \r\nQ 819 25 488 141 \r\nL 488 750 \r\nQ 750 597 1062 519 \r\nQ 1375 441 1716 441 \r\nQ 2309 441 2620 675 \r\nQ 2931 909 2931 1356 \r\nQ 2931 1769 2642 2001 \r\nQ 2353 2234 1838 2234 \r\nL 1294 2234 \r\nL 1294 2753 \r\nL 1863 2753 \r\nQ 2328 2753 2575 2939 \r\nQ 2822 3125 2822 3475 \r\nQ 2822 3834 2567 4026 \r\nQ 2313 4219 1838 4219 \r\nQ 1578 4219 1281 4162 \r\nQ 984 4106 628 3988 \r\nL 628 4550 \r\nQ 988 4650 1302 4700 \r\nQ 1616 4750 1894 4750 \r\nQ 2613 4750 3031 4423 \r\nQ 3450 4097 3450 3541 \r\nQ 3450 3153 3228 2886 \r\nQ 3006 2619 2597 2516 \r\nz\r\n\" id=\"DejaVuSans-33\" transform=\"scale(0.015625)\"/>\r\n       </defs>\r\n       <use xlink:href=\"#DejaVuSans-33\"/>\r\n       <use x=\"63.623047\" xlink:href=\"#DejaVuSans-30\"/>\r\n       <use x=\"127.246094\" xlink:href=\"#DejaVuSans-30\"/>\r\n       <use x=\"190.869141\" xlink:href=\"#DejaVuSans-30\"/>\r\n       <use x=\"254.492188\" xlink:href=\"#DejaVuSans-30\"/>\r\n      </g>\r\n     </g>\r\n    </g>\r\n    <g id=\"xtick_5\">\r\n     <g id=\"line2d_5\">\r\n      <g>\r\n       <use style=\"stroke:#000000;stroke-width:0.8;\" x=\"175.612339\" xlink:href=\"#ma23c1eb140\" y=\"224.64\"/>\r\n      </g>\r\n     </g>\r\n     <g id=\"text_5\">\r\n      <!-- 40000 -->\r\n      <g transform=\"translate(159.706089 239.238437)scale(0.1 -0.1)\">\r\n       <defs>\r\n        <path d=\"M 2419 4116 \r\nL 825 1625 \r\nL 2419 1625 \r\nL 2419 4116 \r\nz\r\nM 2253 4666 \r\nL 3047 4666 \r\nL 3047 1625 \r\nL 3713 1625 \r\nL 3713 1100 \r\nL 3047 1100 \r\nL 3047 0 \r\nL 2419 0 \r\nL 2419 1100 \r\nL 313 1100 \r\nL 313 1709 \r\nL 2253 4666 \r\nz\r\n\" id=\"DejaVuSans-34\" transform=\"scale(0.015625)\"/>\r\n       </defs>\r\n       <use xlink:href=\"#DejaVuSans-34\"/>\r\n       <use x=\"63.623047\" xlink:href=\"#DejaVuSans-30\"/>\r\n       <use x=\"127.246094\" xlink:href=\"#DejaVuSans-30\"/>\r\n       <use x=\"190.869141\" xlink:href=\"#DejaVuSans-30\"/>\r\n       <use x=\"254.492188\" xlink:href=\"#DejaVuSans-30\"/>\r\n      </g>\r\n     </g>\r\n    </g>\r\n    <g id=\"xtick_6\">\r\n     <g id=\"line2d_6\">\r\n      <g>\r\n       <use style=\"stroke:#000000;stroke-width:0.8;\" x=\"214.757277\" xlink:href=\"#ma23c1eb140\" y=\"224.64\"/>\r\n      </g>\r\n     </g>\r\n     <g id=\"text_6\">\r\n      <!-- 50000 -->\r\n      <g transform=\"translate(198.851027 239.238437)scale(0.1 -0.1)\">\r\n       <defs>\r\n        <path d=\"M 691 4666 \r\nL 3169 4666 \r\nL 3169 4134 \r\nL 1269 4134 \r\nL 1269 2991 \r\nQ 1406 3038 1543 3061 \r\nQ 1681 3084 1819 3084 \r\nQ 2600 3084 3056 2656 \r\nQ 3513 2228 3513 1497 \r\nQ 3513 744 3044 326 \r\nQ 2575 -91 1722 -91 \r\nQ 1428 -91 1123 -41 \r\nQ 819 9 494 109 \r\nL 494 744 \r\nQ 775 591 1075 516 \r\nQ 1375 441 1709 441 \r\nQ 2250 441 2565 725 \r\nQ 2881 1009 2881 1497 \r\nQ 2881 1984 2565 2268 \r\nQ 2250 2553 1709 2553 \r\nQ 1456 2553 1204 2497 \r\nQ 953 2441 691 2322 \r\nL 691 4666 \r\nz\r\n\" id=\"DejaVuSans-35\" transform=\"scale(0.015625)\"/>\r\n       </defs>\r\n       <use xlink:href=\"#DejaVuSans-35\"/>\r\n       <use x=\"63.623047\" xlink:href=\"#DejaVuSans-30\"/>\r\n       <use x=\"127.246094\" xlink:href=\"#DejaVuSans-30\"/>\r\n       <use x=\"190.869141\" xlink:href=\"#DejaVuSans-30\"/>\r\n       <use x=\"254.492188\" xlink:href=\"#DejaVuSans-30\"/>\r\n      </g>\r\n     </g>\r\n    </g>\r\n    <g id=\"xtick_7\">\r\n     <g id=\"line2d_7\">\r\n      <g>\r\n       <use style=\"stroke:#000000;stroke-width:0.8;\" x=\"253.902215\" xlink:href=\"#ma23c1eb140\" y=\"224.64\"/>\r\n      </g>\r\n     </g>\r\n     <g id=\"text_7\">\r\n      <!-- 60000 -->\r\n      <g transform=\"translate(237.995965 239.238437)scale(0.1 -0.1)\">\r\n       <defs>\r\n        <path d=\"M 2113 2584 \r\nQ 1688 2584 1439 2293 \r\nQ 1191 2003 1191 1497 \r\nQ 1191 994 1439 701 \r\nQ 1688 409 2113 409 \r\nQ 2538 409 2786 701 \r\nQ 3034 994 3034 1497 \r\nQ 3034 2003 2786 2293 \r\nQ 2538 2584 2113 2584 \r\nz\r\nM 3366 4563 \r\nL 3366 3988 \r\nQ 3128 4100 2886 4159 \r\nQ 2644 4219 2406 4219 \r\nQ 1781 4219 1451 3797 \r\nQ 1122 3375 1075 2522 \r\nQ 1259 2794 1537 2939 \r\nQ 1816 3084 2150 3084 \r\nQ 2853 3084 3261 2657 \r\nQ 3669 2231 3669 1497 \r\nQ 3669 778 3244 343 \r\nQ 2819 -91 2113 -91 \r\nQ 1303 -91 875 529 \r\nQ 447 1150 447 2328 \r\nQ 447 3434 972 4092 \r\nQ 1497 4750 2381 4750 \r\nQ 2619 4750 2861 4703 \r\nQ 3103 4656 3366 4563 \r\nz\r\n\" id=\"DejaVuSans-36\" transform=\"scale(0.015625)\"/>\r\n       </defs>\r\n       <use xlink:href=\"#DejaVuSans-36\"/>\r\n       <use x=\"63.623047\" xlink:href=\"#DejaVuSans-30\"/>\r\n       <use x=\"127.246094\" xlink:href=\"#DejaVuSans-30\"/>\r\n       <use x=\"190.869141\" xlink:href=\"#DejaVuSans-30\"/>\r\n       <use x=\"254.492188\" xlink:href=\"#DejaVuSans-30\"/>\r\n      </g>\r\n     </g>\r\n    </g>\r\n    <g id=\"xtick_8\">\r\n     <g id=\"line2d_8\">\r\n      <g>\r\n       <use style=\"stroke:#000000;stroke-width:0.8;\" x=\"293.047153\" xlink:href=\"#ma23c1eb140\" y=\"224.64\"/>\r\n      </g>\r\n     </g>\r\n     <g id=\"text_8\">\r\n      <!-- 70000 -->\r\n      <g transform=\"translate(277.140903 239.238437)scale(0.1 -0.1)\">\r\n       <defs>\r\n        <path d=\"M 525 4666 \r\nL 3525 4666 \r\nL 3525 4397 \r\nL 1831 0 \r\nL 1172 0 \r\nL 2766 4134 \r\nL 525 4134 \r\nL 525 4666 \r\nz\r\n\" id=\"DejaVuSans-37\" transform=\"scale(0.015625)\"/>\r\n       </defs>\r\n       <use xlink:href=\"#DejaVuSans-37\"/>\r\n       <use x=\"63.623047\" xlink:href=\"#DejaVuSans-30\"/>\r\n       <use x=\"127.246094\" xlink:href=\"#DejaVuSans-30\"/>\r\n       <use x=\"190.869141\" xlink:href=\"#DejaVuSans-30\"/>\r\n       <use x=\"254.492188\" xlink:href=\"#DejaVuSans-30\"/>\r\n      </g>\r\n     </g>\r\n    </g>\r\n    <g id=\"xtick_9\">\r\n     <g id=\"line2d_9\">\r\n      <g>\r\n       <use style=\"stroke:#000000;stroke-width:0.8;\" x=\"332.192091\" xlink:href=\"#ma23c1eb140\" y=\"224.64\"/>\r\n      </g>\r\n     </g>\r\n     <g id=\"text_9\">\r\n      <!-- 80000 -->\r\n      <g transform=\"translate(316.285841 239.238437)scale(0.1 -0.1)\">\r\n       <defs>\r\n        <path d=\"M 2034 2216 \r\nQ 1584 2216 1326 1975 \r\nQ 1069 1734 1069 1313 \r\nQ 1069 891 1326 650 \r\nQ 1584 409 2034 409 \r\nQ 2484 409 2743 651 \r\nQ 3003 894 3003 1313 \r\nQ 3003 1734 2745 1975 \r\nQ 2488 2216 2034 2216 \r\nz\r\nM 1403 2484 \r\nQ 997 2584 770 2862 \r\nQ 544 3141 544 3541 \r\nQ 544 4100 942 4425 \r\nQ 1341 4750 2034 4750 \r\nQ 2731 4750 3128 4425 \r\nQ 3525 4100 3525 3541 \r\nQ 3525 3141 3298 2862 \r\nQ 3072 2584 2669 2484 \r\nQ 3125 2378 3379 2068 \r\nQ 3634 1759 3634 1313 \r\nQ 3634 634 3220 271 \r\nQ 2806 -91 2034 -91 \r\nQ 1263 -91 848 271 \r\nQ 434 634 434 1313 \r\nQ 434 1759 690 2068 \r\nQ 947 2378 1403 2484 \r\nz\r\nM 1172 3481 \r\nQ 1172 3119 1398 2916 \r\nQ 1625 2713 2034 2713 \r\nQ 2441 2713 2670 2916 \r\nQ 2900 3119 2900 3481 \r\nQ 2900 3844 2670 4047 \r\nQ 2441 4250 2034 4250 \r\nQ 1625 4250 1398 4047 \r\nQ 1172 3844 1172 3481 \r\nz\r\n\" id=\"DejaVuSans-38\" transform=\"scale(0.015625)\"/>\r\n       </defs>\r\n       <use xlink:href=\"#DejaVuSans-38\"/>\r\n       <use x=\"63.623047\" xlink:href=\"#DejaVuSans-30\"/>\r\n       <use x=\"127.246094\" xlink:href=\"#DejaVuSans-30\"/>\r\n       <use x=\"190.869141\" xlink:href=\"#DejaVuSans-30\"/>\r\n       <use x=\"254.492188\" xlink:href=\"#DejaVuSans-30\"/>\r\n      </g>\r\n     </g>\r\n    </g>\r\n    <g id=\"text_10\">\r\n     <!-- Price -->\r\n     <g transform=\"translate(165.902344 252.916562)scale(0.1 -0.1)\">\r\n      <defs>\r\n       <path d=\"M 1259 4147 \r\nL 1259 2394 \r\nL 2053 2394 \r\nQ 2494 2394 2734 2622 \r\nQ 2975 2850 2975 3272 \r\nQ 2975 3691 2734 3919 \r\nQ 2494 4147 2053 4147 \r\nL 1259 4147 \r\nz\r\nM 628 4666 \r\nL 2053 4666 \r\nQ 2838 4666 3239 4311 \r\nQ 3641 3956 3641 3272 \r\nQ 3641 2581 3239 2228 \r\nQ 2838 1875 2053 1875 \r\nL 1259 1875 \r\nL 1259 0 \r\nL 628 0 \r\nL 628 4666 \r\nz\r\n\" id=\"DejaVuSans-50\" transform=\"scale(0.015625)\"/>\r\n       <path d=\"M 2631 2963 \r\nQ 2534 3019 2420 3045 \r\nQ 2306 3072 2169 3072 \r\nQ 1681 3072 1420 2755 \r\nQ 1159 2438 1159 1844 \r\nL 1159 0 \r\nL 581 0 \r\nL 581 3500 \r\nL 1159 3500 \r\nL 1159 2956 \r\nQ 1341 3275 1631 3429 \r\nQ 1922 3584 2338 3584 \r\nQ 2397 3584 2469 3576 \r\nQ 2541 3569 2628 3553 \r\nL 2631 2963 \r\nz\r\n\" id=\"DejaVuSans-72\" transform=\"scale(0.015625)\"/>\r\n       <path d=\"M 603 3500 \r\nL 1178 3500 \r\nL 1178 0 \r\nL 603 0 \r\nL 603 3500 \r\nz\r\nM 603 4863 \r\nL 1178 4863 \r\nL 1178 4134 \r\nL 603 4134 \r\nL 603 4863 \r\nz\r\n\" id=\"DejaVuSans-69\" transform=\"scale(0.015625)\"/>\r\n       <path d=\"M 3122 3366 \r\nL 3122 2828 \r\nQ 2878 2963 2633 3030 \r\nQ 2388 3097 2138 3097 \r\nQ 1578 3097 1268 2742 \r\nQ 959 2388 959 1747 \r\nQ 959 1106 1268 751 \r\nQ 1578 397 2138 397 \r\nQ 2388 397 2633 464 \r\nQ 2878 531 3122 666 \r\nL 3122 134 \r\nQ 2881 22 2623 -34 \r\nQ 2366 -91 2075 -91 \r\nQ 1284 -91 818 406 \r\nQ 353 903 353 1747 \r\nQ 353 2603 823 3093 \r\nQ 1294 3584 2113 3584 \r\nQ 2378 3584 2631 3529 \r\nQ 2884 3475 3122 3366 \r\nz\r\n\" id=\"DejaVuSans-63\" transform=\"scale(0.015625)\"/>\r\n       <path d=\"M 3597 1894 \r\nL 3597 1613 \r\nL 953 1613 \r\nQ 991 1019 1311 708 \r\nQ 1631 397 2203 397 \r\nQ 2534 397 2845 478 \r\nQ 3156 559 3463 722 \r\nL 3463 178 \r\nQ 3153 47 2828 -22 \r\nQ 2503 -91 2169 -91 \r\nQ 1331 -91 842 396 \r\nQ 353 884 353 1716 \r\nQ 353 2575 817 3079 \r\nQ 1281 3584 2069 3584 \r\nQ 2775 3584 3186 3129 \r\nQ 3597 2675 3597 1894 \r\nz\r\nM 3022 2063 \r\nQ 3016 2534 2758 2815 \r\nQ 2500 3097 2075 3097 \r\nQ 1594 3097 1305 2825 \r\nQ 1016 2553 972 2059 \r\nL 3022 2063 \r\nz\r\n\" id=\"DejaVuSans-65\" transform=\"scale(0.015625)\"/>\r\n      </defs>\r\n      <use xlink:href=\"#DejaVuSans-50\"/>\r\n      <use x=\"58.552734\" xlink:href=\"#DejaVuSans-72\"/>\r\n      <use x=\"99.666016\" xlink:href=\"#DejaVuSans-69\"/>\r\n      <use x=\"127.449219\" xlink:href=\"#DejaVuSans-63\"/>\r\n      <use x=\"182.429688\" xlink:href=\"#DejaVuSans-65\"/>\r\n     </g>\r\n    </g>\r\n   </g>\r\n   <g id=\"matplotlib.axis_2\">\r\n    <g id=\"ytick_1\">\r\n     <g id=\"line2d_10\">\r\n      <defs>\r\n       <path d=\"M 0 0 \r\nL -3.5 0 \r\n\" id=\"mee8cedaf00\" style=\"stroke:#000000;stroke-width:0.8;\"/>\r\n      </defs>\r\n      <g>\r\n       <use style=\"stroke:#000000;stroke-width:0.8;\" x=\"10.7\" xlink:href=\"#mee8cedaf00\" y=\"115.92\"/>\r\n      </g>\r\n     </g>\r\n    </g>\r\n   </g>\r\n   <g id=\"line2d_11\">\r\n    <path clip-path=\"url(#peeabb2f2c6)\" d=\"M 39.689371 115.92 \r\nL 25.918182 115.92 \r\n\" style=\"fill:none;stroke:#3f3f3f;stroke-linecap:square;stroke-width:1.5;\"/>\r\n   </g>\r\n   <g id=\"line2d_12\">\r\n    <path clip-path=\"url(#peeabb2f2c6)\" d=\"M 67.466619 115.92 \r\nL 109.069859 115.92 \r\n\" style=\"fill:none;stroke:#3f3f3f;stroke-linecap:square;stroke-width:1.5;\"/>\r\n   </g>\r\n   <g id=\"line2d_13\">\r\n    <path clip-path=\"url(#peeabb2f2c6)\" d=\"M 25.918182 72.432 \r\nL 25.918182 159.408 \r\n\" style=\"fill:none;stroke:#3f3f3f;stroke-linecap:square;stroke-width:1.5;\"/>\r\n   </g>\r\n   <g id=\"line2d_14\">\r\n    <path clip-path=\"url(#peeabb2f2c6)\" d=\"M 109.069859 72.432 \r\nL 109.069859 159.408 \r\n\" style=\"fill:none;stroke:#3f3f3f;stroke-linecap:square;stroke-width:1.5;\"/>\r\n   </g>\r\n   <g id=\"line2d_15\">\r\n    <defs>\r\n     <path d=\"M 0 3.535534 \r\nL 2.12132 0 \r\nL 0 -3.535534 \r\nL -2.12132 0 \r\nz\r\n\" id=\"m0ae51211d3\" style=\"stroke:#3f3f3f;stroke-linejoin:miter;\"/>\r\n    </defs>\r\n    <g clip-path=\"url(#peeabb2f2c6)\">\r\n     <use style=\"fill:#3f3f3f;stroke:#3f3f3f;stroke-linejoin:miter;\" x=\"126.407152\" xlink:href=\"#m0ae51211d3\" y=\"115.92\"/>\r\n     <use style=\"fill:#3f3f3f;stroke:#3f3f3f;stroke-linejoin:miter;\" x=\"163.802311\" xlink:href=\"#m0ae51211d3\" y=\"115.92\"/>\r\n     <use style=\"fill:#3f3f3f;stroke:#3f3f3f;stroke-linejoin:miter;\" x=\"124.293325\" xlink:href=\"#m0ae51211d3\" y=\"115.92\"/>\r\n     <use style=\"fill:#3f3f3f;stroke:#3f3f3f;stroke-linejoin:miter;\" x=\"124.293325\" xlink:href=\"#m0ae51211d3\" y=\"115.92\"/>\r\n     <use style=\"fill:#3f3f3f;stroke:#3f3f3f;stroke-linejoin:miter;\" x=\"117.439047\" xlink:href=\"#m0ae51211d3\" y=\"115.92\"/>\r\n     <use style=\"fill:#3f3f3f;stroke:#3f3f3f;stroke-linejoin:miter;\" x=\"125.545963\" xlink:href=\"#m0ae51211d3\" y=\"115.92\"/>\r\n     <use style=\"fill:#3f3f3f;stroke:#3f3f3f;stroke-linejoin:miter;\" x=\"223.482684\" xlink:href=\"#m0ae51211d3\" y=\"115.92\"/>\r\n     <use style=\"fill:#3f3f3f;stroke:#3f3f3f;stroke-linejoin:miter;\" x=\"123.717895\" xlink:href=\"#m0ae51211d3\" y=\"115.92\"/>\r\n     <use style=\"fill:#3f3f3f;stroke:#3f3f3f;stroke-linejoin:miter;\" x=\"124.293325\" xlink:href=\"#m0ae51211d3\" y=\"115.92\"/>\r\n     <use style=\"fill:#3f3f3f;stroke:#3f3f3f;stroke-linejoin:miter;\" x=\"119.772085\" xlink:href=\"#m0ae51211d3\" y=\"115.92\"/>\r\n     <use style=\"fill:#3f3f3f;stroke:#3f3f3f;stroke-linejoin:miter;\" x=\"128.607098\" xlink:href=\"#m0ae51211d3\" y=\"115.92\"/>\r\n     <use style=\"fill:#3f3f3f;stroke:#3f3f3f;stroke-linejoin:miter;\" x=\"124.293325\" xlink:href=\"#m0ae51211d3\" y=\"115.92\"/>\r\n     <use style=\"fill:#3f3f3f;stroke:#3f3f3f;stroke-linejoin:miter;\" x=\"124.293325\" xlink:href=\"#m0ae51211d3\" y=\"115.92\"/>\r\n     <use style=\"fill:#3f3f3f;stroke:#3f3f3f;stroke-linejoin:miter;\" x=\"111.348094\" xlink:href=\"#m0ae51211d3\" y=\"115.92\"/>\r\n     <use style=\"fill:#3f3f3f;stroke:#3f3f3f;stroke-linejoin:miter;\" x=\"124.293325\" xlink:href=\"#m0ae51211d3\" y=\"115.92\"/>\r\n     <use style=\"fill:#3f3f3f;stroke:#3f3f3f;stroke-linejoin:miter;\" x=\"111.15237\" xlink:href=\"#m0ae51211d3\" y=\"115.92\"/>\r\n     <use style=\"fill:#3f3f3f;stroke:#3f3f3f;stroke-linejoin:miter;\" x=\"113.430605\" xlink:href=\"#m0ae51211d3\" y=\"115.92\"/>\r\n     <use style=\"fill:#3f3f3f;stroke:#3f3f3f;stroke-linejoin:miter;\" x=\"119.772085\" xlink:href=\"#m0ae51211d3\" y=\"115.92\"/>\r\n     <use style=\"fill:#3f3f3f;stroke:#3f3f3f;stroke-linejoin:miter;\" x=\"233.648624\" xlink:href=\"#m0ae51211d3\" y=\"115.92\"/>\r\n     <use style=\"fill:#3f3f3f;stroke:#3f3f3f;stroke-linejoin:miter;\" x=\"143.446944\" xlink:href=\"#m0ae51211d3\" y=\"115.92\"/>\r\n     <use style=\"fill:#3f3f3f;stroke:#3f3f3f;stroke-linejoin:miter;\" x=\"128.607098\" xlink:href=\"#m0ae51211d3\" y=\"115.92\"/>\r\n     <use style=\"fill:#3f3f3f;stroke:#3f3f3f;stroke-linejoin:miter;\" x=\"124.293325\" xlink:href=\"#m0ae51211d3\" y=\"115.92\"/>\r\n     <use style=\"fill:#3f3f3f;stroke:#3f3f3f;stroke-linejoin:miter;\" x=\"124.293325\" xlink:href=\"#m0ae51211d3\" y=\"115.92\"/>\r\n     <use style=\"fill:#3f3f3f;stroke:#3f3f3f;stroke-linejoin:miter;\" x=\"118.578165\" xlink:href=\"#m0ae51211d3\" y=\"115.92\"/>\r\n     <use style=\"fill:#3f3f3f;stroke:#3f3f3f;stroke-linejoin:miter;\" x=\"160.87427\" xlink:href=\"#m0ae51211d3\" y=\"115.92\"/>\r\n     <use style=\"fill:#3f3f3f;stroke:#3f3f3f;stroke-linejoin:miter;\" x=\"125.545963\" xlink:href=\"#m0ae51211d3\" y=\"115.92\"/>\r\n     <use style=\"fill:#3f3f3f;stroke:#3f3f3f;stroke-linejoin:miter;\" x=\"124.293325\" xlink:href=\"#m0ae51211d3\" y=\"115.92\"/>\r\n     <use style=\"fill:#3f3f3f;stroke:#3f3f3f;stroke-linejoin:miter;\" x=\"119.772085\" xlink:href=\"#m0ae51211d3\" y=\"115.92\"/>\r\n     <use style=\"fill:#3f3f3f;stroke:#3f3f3f;stroke-linejoin:miter;\" x=\"233.648624\" xlink:href=\"#m0ae51211d3\" y=\"115.92\"/>\r\n     <use style=\"fill:#3f3f3f;stroke:#3f3f3f;stroke-linejoin:miter;\" x=\"124.293325\" xlink:href=\"#m0ae51211d3\" y=\"115.92\"/>\r\n     <use style=\"fill:#3f3f3f;stroke:#3f3f3f;stroke-linejoin:miter;\" x=\"156.764052\" xlink:href=\"#m0ae51211d3\" y=\"115.92\"/>\r\n     <use style=\"fill:#3f3f3f;stroke:#3f3f3f;stroke-linejoin:miter;\" x=\"330.281818\" xlink:href=\"#m0ae51211d3\" y=\"115.92\"/>\r\n     <use style=\"fill:#3f3f3f;stroke:#3f3f3f;stroke-linejoin:miter;\" x=\"129.018119\" xlink:href=\"#m0ae51211d3\" y=\"115.92\"/>\r\n     <use style=\"fill:#3f3f3f;stroke:#3f3f3f;stroke-linejoin:miter;\" x=\"128.607098\" xlink:href=\"#m0ae51211d3\" y=\"115.92\"/>\r\n     <use style=\"fill:#3f3f3f;stroke:#3f3f3f;stroke-linejoin:miter;\" x=\"124.293325\" xlink:href=\"#m0ae51211d3\" y=\"115.92\"/>\r\n     <use style=\"fill:#3f3f3f;stroke:#3f3f3f;stroke-linejoin:miter;\" x=\"119.772085\" xlink:href=\"#m0ae51211d3\" y=\"115.92\"/>\r\n     <use style=\"fill:#3f3f3f;stroke:#3f3f3f;stroke-linejoin:miter;\" x=\"121.169559\" xlink:href=\"#m0ae51211d3\" y=\"115.92\"/>\r\n     <use style=\"fill:#3f3f3f;stroke:#3f3f3f;stroke-linejoin:miter;\" x=\"143.611352\" xlink:href=\"#m0ae51211d3\" y=\"115.92\"/>\r\n     <use style=\"fill:#3f3f3f;stroke:#3f3f3f;stroke-linejoin:miter;\" x=\"120.468865\" xlink:href=\"#m0ae51211d3\" y=\"115.92\"/>\r\n     <use style=\"fill:#3f3f3f;stroke:#3f3f3f;stroke-linejoin:miter;\" x=\"119.772085\" xlink:href=\"#m0ae51211d3\" y=\"115.92\"/>\r\n     <use style=\"fill:#3f3f3f;stroke:#3f3f3f;stroke-linejoin:miter;\" x=\"128.607098\" xlink:href=\"#m0ae51211d3\" y=\"115.92\"/>\r\n     <use style=\"fill:#3f3f3f;stroke:#3f3f3f;stroke-linejoin:miter;\" x=\"143.611352\" xlink:href=\"#m0ae51211d3\" y=\"115.92\"/>\r\n     <use style=\"fill:#3f3f3f;stroke:#3f3f3f;stroke-linejoin:miter;\" x=\"110.111114\" xlink:href=\"#m0ae51211d3\" y=\"115.92\"/>\r\n     <use style=\"fill:#3f3f3f;stroke:#3f3f3f;stroke-linejoin:miter;\" x=\"263.402692\" xlink:href=\"#m0ae51211d3\" y=\"115.92\"/>\r\n     <use style=\"fill:#3f3f3f;stroke:#3f3f3f;stroke-linejoin:miter;\" x=\"233.648624\" xlink:href=\"#m0ae51211d3\" y=\"115.92\"/>\r\n     <use style=\"fill:#3f3f3f;stroke:#3f3f3f;stroke-linejoin:miter;\" x=\"143.611352\" xlink:href=\"#m0ae51211d3\" y=\"115.92\"/>\r\n     <use style=\"fill:#3f3f3f;stroke:#3f3f3f;stroke-linejoin:miter;\" x=\"118.578165\" xlink:href=\"#m0ae51211d3\" y=\"115.92\"/>\r\n     <use style=\"fill:#3f3f3f;stroke:#3f3f3f;stroke-linejoin:miter;\" x=\"124.293325\" xlink:href=\"#m0ae51211d3\" y=\"115.92\"/>\r\n     <use style=\"fill:#3f3f3f;stroke:#3f3f3f;stroke-linejoin:miter;\" x=\"160.87427\" xlink:href=\"#m0ae51211d3\" y=\"115.92\"/>\r\n     <use style=\"fill:#3f3f3f;stroke:#3f3f3f;stroke-linejoin:miter;\" x=\"112.365863\" xlink:href=\"#m0ae51211d3\" y=\"115.92\"/>\r\n     <use style=\"fill:#3f3f3f;stroke:#3f3f3f;stroke-linejoin:miter;\" x=\"124.293325\" xlink:href=\"#m0ae51211d3\" y=\"115.92\"/>\r\n     <use style=\"fill:#3f3f3f;stroke:#3f3f3f;stroke-linejoin:miter;\" x=\"119.772085\" xlink:href=\"#m0ae51211d3\" y=\"115.92\"/>\r\n     <use style=\"fill:#3f3f3f;stroke:#3f3f3f;stroke-linejoin:miter;\" x=\"129.898881\" xlink:href=\"#m0ae51211d3\" y=\"115.92\"/>\r\n     <use style=\"fill:#3f3f3f;stroke:#3f3f3f;stroke-linejoin:miter;\" x=\"119.772085\" xlink:href=\"#m0ae51211d3\" y=\"115.92\"/>\r\n     <use style=\"fill:#3f3f3f;stroke:#3f3f3f;stroke-linejoin:miter;\" x=\"119.772085\" xlink:href=\"#m0ae51211d3\" y=\"115.92\"/>\r\n     <use style=\"fill:#3f3f3f;stroke:#3f3f3f;stroke-linejoin:miter;\" x=\"143.611352\" xlink:href=\"#m0ae51211d3\" y=\"115.92\"/>\r\n     <use style=\"fill:#3f3f3f;stroke:#3f3f3f;stroke-linejoin:miter;\" x=\"124.293325\" xlink:href=\"#m0ae51211d3\" y=\"115.92\"/>\r\n     <use style=\"fill:#3f3f3f;stroke:#3f3f3f;stroke-linejoin:miter;\" x=\"128.607098\" xlink:href=\"#m0ae51211d3\" y=\"115.92\"/>\r\n     <use style=\"fill:#3f3f3f;stroke:#3f3f3f;stroke-linejoin:miter;\" x=\"153.194033\" xlink:href=\"#m0ae51211d3\" y=\"115.92\"/>\r\n     <use style=\"fill:#3f3f3f;stroke:#3f3f3f;stroke-linejoin:miter;\" x=\"201.017404\" xlink:href=\"#m0ae51211d3\" y=\"115.92\"/>\r\n     <use style=\"fill:#3f3f3f;stroke:#3f3f3f;stroke-linejoin:miter;\" x=\"134.61976\" xlink:href=\"#m0ae51211d3\" y=\"115.92\"/>\r\n     <use style=\"fill:#3f3f3f;stroke:#3f3f3f;stroke-linejoin:miter;\" x=\"124.293325\" xlink:href=\"#m0ae51211d3\" y=\"115.92\"/>\r\n     <use style=\"fill:#3f3f3f;stroke:#3f3f3f;stroke-linejoin:miter;\" x=\"124.293325\" xlink:href=\"#m0ae51211d3\" y=\"115.92\"/>\r\n     <use style=\"fill:#3f3f3f;stroke:#3f3f3f;stroke-linejoin:miter;\" x=\"124.293325\" xlink:href=\"#m0ae51211d3\" y=\"115.92\"/>\r\n     <use style=\"fill:#3f3f3f;stroke:#3f3f3f;stroke-linejoin:miter;\" x=\"154.094367\" xlink:href=\"#m0ae51211d3\" y=\"115.92\"/>\r\n     <use style=\"fill:#3f3f3f;stroke:#3f3f3f;stroke-linejoin:miter;\" x=\"124.293325\" xlink:href=\"#m0ae51211d3\" y=\"115.92\"/>\r\n     <use style=\"fill:#3f3f3f;stroke:#3f3f3f;stroke-linejoin:miter;\" x=\"128.607098\" xlink:href=\"#m0ae51211d3\" y=\"115.92\"/>\r\n     <use style=\"fill:#3f3f3f;stroke:#3f3f3f;stroke-linejoin:miter;\" x=\"124.293325\" xlink:href=\"#m0ae51211d3\" y=\"115.92\"/>\r\n     <use style=\"fill:#3f3f3f;stroke:#3f3f3f;stroke-linejoin:miter;\" x=\"124.293325\" xlink:href=\"#m0ae51211d3\" y=\"115.92\"/>\r\n     <use style=\"fill:#3f3f3f;stroke:#3f3f3f;stroke-linejoin:miter;\" x=\"109.731409\" xlink:href=\"#m0ae51211d3\" y=\"115.92\"/>\r\n     <use style=\"fill:#3f3f3f;stroke:#3f3f3f;stroke-linejoin:miter;\" x=\"115.047291\" xlink:href=\"#m0ae51211d3\" y=\"115.92\"/>\r\n     <use style=\"fill:#3f3f3f;stroke:#3f3f3f;stroke-linejoin:miter;\" x=\"124.293325\" xlink:href=\"#m0ae51211d3\" y=\"115.92\"/>\r\n     <use style=\"fill:#3f3f3f;stroke:#3f3f3f;stroke-linejoin:miter;\" x=\"128.607098\" xlink:href=\"#m0ae51211d3\" y=\"115.92\"/>\r\n     <use style=\"fill:#3f3f3f;stroke:#3f3f3f;stroke-linejoin:miter;\" x=\"119.772085\" xlink:href=\"#m0ae51211d3\" y=\"115.92\"/>\r\n     <use style=\"fill:#3f3f3f;stroke:#3f3f3f;stroke-linejoin:miter;\" x=\"154.505389\" xlink:href=\"#m0ae51211d3\" y=\"115.92\"/>\r\n     <use style=\"fill:#3f3f3f;stroke:#3f3f3f;stroke-linejoin:miter;\" x=\"119.646821\" xlink:href=\"#m0ae51211d3\" y=\"115.92\"/>\r\n     <use style=\"fill:#3f3f3f;stroke:#3f3f3f;stroke-linejoin:miter;\" x=\"124.293325\" xlink:href=\"#m0ae51211d3\" y=\"115.92\"/>\r\n     <use style=\"fill:#3f3f3f;stroke:#3f3f3f;stroke-linejoin:miter;\" x=\"111.132797\" xlink:href=\"#m0ae51211d3\" y=\"115.92\"/>\r\n     <use style=\"fill:#3f3f3f;stroke:#3f3f3f;stroke-linejoin:miter;\" x=\"143.611352\" xlink:href=\"#m0ae51211d3\" y=\"115.92\"/>\r\n     <use style=\"fill:#3f3f3f;stroke:#3f3f3f;stroke-linejoin:miter;\" x=\"125.827807\" xlink:href=\"#m0ae51211d3\" y=\"115.92\"/>\r\n     <use style=\"fill:#3f3f3f;stroke:#3f3f3f;stroke-linejoin:miter;\" x=\"119.772085\" xlink:href=\"#m0ae51211d3\" y=\"115.92\"/>\r\n     <use style=\"fill:#3f3f3f;stroke:#3f3f3f;stroke-linejoin:miter;\" x=\"128.607098\" xlink:href=\"#m0ae51211d3\" y=\"115.92\"/>\r\n     <use style=\"fill:#3f3f3f;stroke:#3f3f3f;stroke-linejoin:miter;\" x=\"223.701896\" xlink:href=\"#m0ae51211d3\" y=\"115.92\"/>\r\n     <use style=\"fill:#3f3f3f;stroke:#3f3f3f;stroke-linejoin:miter;\" x=\"113.046985\" xlink:href=\"#m0ae51211d3\" y=\"115.92\"/>\r\n     <use style=\"fill:#3f3f3f;stroke:#3f3f3f;stroke-linejoin:miter;\" x=\"144.081092\" xlink:href=\"#m0ae51211d3\" y=\"115.92\"/>\r\n     <use style=\"fill:#3f3f3f;stroke:#3f3f3f;stroke-linejoin:miter;\" x=\"124.293325\" xlink:href=\"#m0ae51211d3\" y=\"115.92\"/>\r\n     <use style=\"fill:#3f3f3f;stroke:#3f3f3f;stroke-linejoin:miter;\" x=\"114.225247\" xlink:href=\"#m0ae51211d3\" y=\"115.92\"/>\r\n     <use style=\"fill:#3f3f3f;stroke:#3f3f3f;stroke-linejoin:miter;\" x=\"111.716057\" xlink:href=\"#m0ae51211d3\" y=\"115.92\"/>\r\n     <use style=\"fill:#3f3f3f;stroke:#3f3f3f;stroke-linejoin:miter;\" x=\"128.607098\" xlink:href=\"#m0ae51211d3\" y=\"115.92\"/>\r\n     <use style=\"fill:#3f3f3f;stroke:#3f3f3f;stroke-linejoin:miter;\" x=\"113.802482\" xlink:href=\"#m0ae51211d3\" y=\"115.92\"/>\r\n     <use style=\"fill:#3f3f3f;stroke:#3f3f3f;stroke-linejoin:miter;\" x=\"242.976863\" xlink:href=\"#m0ae51211d3\" y=\"115.92\"/>\r\n     <use style=\"fill:#3f3f3f;stroke:#3f3f3f;stroke-linejoin:miter;\" x=\"124.293325\" xlink:href=\"#m0ae51211d3\" y=\"115.92\"/>\r\n     <use style=\"fill:#3f3f3f;stroke:#3f3f3f;stroke-linejoin:miter;\" x=\"143.611352\" xlink:href=\"#m0ae51211d3\" y=\"115.92\"/>\r\n     <use style=\"fill:#3f3f3f;stroke:#3f3f3f;stroke-linejoin:miter;\" x=\"122.688383\" xlink:href=\"#m0ae51211d3\" y=\"115.92\"/>\r\n    </g>\r\n   </g>\r\n   <g id=\"line2d_16\">\r\n    <path clip-path=\"url(#peeabb2f2c6)\" d=\"M 51.804729 28.944 \r\nL 51.804729 202.896 \r\n\" style=\"fill:none;stroke:#3f3f3f;stroke-linecap:square;stroke-width:1.5;\"/>\r\n   </g>\r\n   <g id=\"patch_4\">\r\n    <path d=\"M 10.7 224.64 \r\nL 10.7 7.2 \r\n\" style=\"fill:none;stroke:#000000;stroke-linecap:square;stroke-linejoin:miter;stroke-width:0.8;\"/>\r\n   </g>\r\n   <g id=\"patch_5\">\r\n    <path d=\"M 345.5 224.64 \r\nL 345.5 7.2 \r\n\" style=\"fill:none;stroke:#000000;stroke-linecap:square;stroke-linejoin:miter;stroke-width:0.8;\"/>\r\n   </g>\r\n   <g id=\"patch_6\">\r\n    <path d=\"M 10.7 224.64 \r\nL 345.5 224.64 \r\n\" style=\"fill:none;stroke:#000000;stroke-linecap:square;stroke-linejoin:miter;stroke-width:0.8;\"/>\r\n   </g>\r\n   <g id=\"patch_7\">\r\n    <path d=\"M 10.7 7.2 \r\nL 345.5 7.2 \r\n\" style=\"fill:none;stroke:#000000;stroke-linecap:square;stroke-linejoin:miter;stroke-width:0.8;\"/>\r\n   </g>\r\n  </g>\r\n </g>\r\n <defs>\r\n  <clipPath id=\"peeabb2f2c6\">\r\n   <rect height=\"217.44\" width=\"334.8\" x=\"10.7\" y=\"7.2\"/>\r\n  </clipPath>\r\n </defs>\r\n</svg>\r\n",
      "image/png": "[encoded data removed]"
     },
     "metadata": {
      "needs_background": "light"
     }
    }
   ],
   "source": [
    "sns.boxplot(y)"
   ]
  },
  {
   "cell_type": "code",
   "execution_count": 10,
   "metadata": {},
   "outputs": [],
   "source": [
    "thresh = np.quantile(y,0.75) + 1.5*(np.quantile(y,0.75)-np.quantile(y,0.25))"
   ]
  },
  {
   "cell_type": "code",
   "execution_count": 11,
   "metadata": {},
   "outputs": [],
   "source": [
    "combine  = pd.concat([pd.DataFrame(X),pd.DataFrame(y)],axis=1)\n",
    "combine = combine[combine.Price<thresh]"
   ]
  },
  {
   "cell_type": "code",
   "execution_count": 12,
   "metadata": {},
   "outputs": [],
   "source": [
    "X = combine.drop(['Price'],axis=1)\n",
    "y = combine['Price']"
   ]
  },
  {
   "cell_type": "code",
   "execution_count": 13,
   "metadata": {},
   "outputs": [],
   "source": [
    "y = np.log(y)"
   ]
  },
  {
   "source": [
    "# Model"
   ],
   "cell_type": "markdown",
   "metadata": {}
  },
  {
   "cell_type": "code",
   "execution_count": 14,
   "metadata": {},
   "outputs": [],
   "source": [
    "def models(model):\n",
    "\n",
    "    folds=K(n_splits=5, shuffle=True, random_state=4)\n",
    "    r=score(model,X,y,scoring='neg_mean_absolute_error',cv=folds)\n",
    "    scores = str(-round(r.mean(),2))+\" ± \"+str(round(r.std(),2))\n",
    "#'neg_mean_absolute_error'\n",
    "    return scores"
   ]
  },
  {
   "cell_type": "code",
   "execution_count": 15,
   "metadata": {
    "tags": []
   },
   "outputs": [
    {
     "output_type": "stream",
     "name": "stdout",
     "text": [
      "Absolute error for Decision tree regressor 0.08 ± 0.0\n",
      "Absolute error for Random forest regressor 0.06 ± 0.0\n",
      "Absolute error for XGB Regressor 0.08 ± 0.0\n"
     ]
    }
   ],
   "source": [
    "#print(\"Absolute error for Linear Regression\",models(LR()))\n",
    "print(\"Absolute error for Decision tree regressor\",models(DTR(max_depth=14)))    #Median best max_depth after 100 iterations of cross validation\n",
    "print(\"Absolute error for Random forest regressor\",models(RFR(max_depth=16)))\n",
    "print(\"Absolute error for XGB Regressor\",models(XGR(max_depth=5,eta=0.5, subsample=0.92)))"
   ]
  },
  {
   "source": [
    "# Randomforest gives best result"
   ],
   "cell_type": "markdown",
   "metadata": {}
  },
  {
   "cell_type": "code",
   "execution_count": 27,
   "metadata": {},
   "outputs": [
    {
     "output_type": "execute_result",
     "data": {
      "text/plain": [
       "RandomForestRegressor(max_depth=16)"
      ]
     },
     "metadata": {},
     "execution_count": 27
    }
   ],
   "source": [
    "rr=RFR(max_depth=16)\n",
    "rr.fit(X,y)\n"
   ]
  },
  {
   "cell_type": "code",
   "execution_count": 34,
   "metadata": {},
   "outputs": [
    {
     "output_type": "execute_result",
     "data": {
      "text/plain": [
       "<pandas.io.formats.style.Styler at 0x2bbaf0b4400>"
      ],
      "text/html": "<style  type=\"text/css\" >\n#T_c781b_row0_col0{\n            background-color:  #67000d;\n            color:  #f1f1f1;\n        }#T_c781b_row1_col0{\n            background-color:  #fedccd;\n            color:  #000000;\n        }#T_c781b_row2_col0{\n            background-color:  #fee1d4;\n            color:  #000000;\n        }#T_c781b_row3_col0{\n            background-color:  #feeae0;\n            color:  #000000;\n        }#T_c781b_row4_col0{\n            background-color:  #ffeee7;\n            color:  #000000;\n        }#T_c781b_row5_col0{\n            background-color:  #fff0e9;\n            color:  #000000;\n        }#T_c781b_row6_col0{\n            background-color:  #fff2eb;\n            color:  #000000;\n        }#T_c781b_row7_col0,#T_c781b_row8_col0,#T_c781b_row9_col0,#T_c781b_row10_col0,#T_c781b_row11_col0,#T_c781b_row12_col0{\n            background-color:  #fff2ec;\n            color:  #000000;\n        }#T_c781b_row13_col0,#T_c781b_row14_col0,#T_c781b_row15_col0{\n            background-color:  #fff3ed;\n            color:  #000000;\n        }#T_c781b_row16_col0,#T_c781b_row17_col0,#T_c781b_row18_col0{\n            background-color:  #fff4ee;\n            color:  #000000;\n        }#T_c781b_row19_col0,#T_c781b_row20_col0,#T_c781b_row21_col0,#T_c781b_row22_col0,#T_c781b_row23_col0,#T_c781b_row24_col0{\n            background-color:  #fff4ef;\n            color:  #000000;\n        }#T_c781b_row25_col0,#T_c781b_row26_col0,#T_c781b_row27_col0,#T_c781b_row28_col0,#T_c781b_row29_col0,#T_c781b_row30_col0,#T_c781b_row31_col0,#T_c781b_row32_col0,#T_c781b_row33_col0,#T_c781b_row34_col0,#T_c781b_row35_col0,#T_c781b_row36_col0,#T_c781b_row37_col0,#T_c781b_row38_col0,#T_c781b_row39_col0,#T_c781b_row40_col0,#T_c781b_row41_col0,#T_c781b_row42_col0,#T_c781b_row43_col0,#T_c781b_row44_col0,#T_c781b_row45_col0,#T_c781b_row46_col0,#T_c781b_row47_col0,#T_c781b_row48_col0,#T_c781b_row49_col0,#T_c781b_row50_col0,#T_c781b_row51_col0,#T_c781b_row52_col0{\n            background-color:  #fff5f0;\n            color:  #000000;\n        }</style><table id=\"T_c781b_\" ><thead>    <tr>        <th class=\"blank level0\" ></th>        <th class=\"col_heading level0 col0\" >0</th>    </tr></thead><tbody>\n                <tr>\n                        <th id=\"T_c781b_level0_row0\" class=\"row_heading level0 row0\" >Duration_hours</th>\n                        <td id=\"T_c781b_row0_col0\" class=\"data row0 col0\" >60.356261</td>\n            </tr>\n            <tr>\n                        <th id=\"T_c781b_level0_row1\" class=\"row_heading level0 row1\" >Day of year</th>\n                        <td id=\"T_c781b_row1_col0\" class=\"data row1 col0\" >8.452046</td>\n            </tr>\n            <tr>\n                        <th id=\"T_c781b_level0_row2\" class=\"row_heading level0 row2\" >Jet Airways</th>\n                        <td id=\"T_c781b_row2_col0\" class=\"data row2 col0\" >7.096247</td>\n            </tr>\n            <tr>\n                        <th id=\"T_c781b_level0_row3\" class=\"row_heading level0 row3\" >In-flight meal not included</th>\n                        <td id=\"T_c781b_row3_col0\" class=\"data row3 col0\" >4.107021</td>\n            </tr>\n            <tr>\n                        <th id=\"T_c781b_level0_row4\" class=\"row_heading level0 row4\" >N_stops</th>\n                        <td id=\"T_c781b_row4_col0\" class=\"data row4 col0\" >2.439546</td>\n            </tr>\n            <tr>\n                        <th id=\"T_c781b_level0_row5\" class=\"row_heading level0 row5\" >Multiple carriers</th>\n                        <td id=\"T_c781b_row5_col0\" class=\"data row5 col0\" >1.722665</td>\n            </tr>\n            <tr>\n                        <th id=\"T_c781b_level0_row6\" class=\"row_heading level0 row6\" >Dep_minutes</th>\n                        <td id=\"T_c781b_row6_col0\" class=\"data row6 col0\" >1.178971</td>\n            </tr>\n            <tr>\n                        <th id=\"T_c781b_level0_row7\" class=\"row_heading level0 row7\" >Arr_minutes</th>\n                        <td id=\"T_c781b_row7_col0\" class=\"data row7 col0\" >1.161286</td>\n            </tr>\n            <tr>\n                        <th id=\"T_c781b_level0_row8\" class=\"row_heading level0 row8\" >Dep_hour</th>\n                        <td id=\"T_c781b_row8_col0\" class=\"data row8 col0\" >1.135691</td>\n            </tr>\n            <tr>\n                        <th id=\"T_c781b_level0_row9\" class=\"row_heading level0 row9\" >Arr_hour</th>\n                        <td id=\"T_c781b_row9_col0\" class=\"data row9 col0\" >0.996201</td>\n            </tr>\n            <tr>\n                        <th id=\"T_c781b_level0_row10\" class=\"row_heading level0 row10\" >IndiGo</th>\n                        <td id=\"T_c781b_row10_col0\" class=\"data row10 col0\" >0.982937</td>\n            </tr>\n            <tr>\n                        <th id=\"T_c781b_level0_row11\" class=\"row_heading level0 row11\" >Duration_mins</th>\n                        <td id=\"T_c781b_row11_col0\" class=\"data row11 col0\" >0.964562</td>\n            </tr>\n            <tr>\n                        <th id=\"T_c781b_level0_row12\" class=\"row_heading level0 row12\" >SpiceJet</th>\n                        <td id=\"T_c781b_row12_col0\" class=\"data row12 col0\" >0.960506</td>\n            </tr>\n            <tr>\n                        <th id=\"T_c781b_level0_row13\" class=\"row_heading level0 row13\" >Day of month</th>\n                        <td id=\"T_c781b_row13_col0\" class=\"data row13 col0\" >0.873646</td>\n            </tr>\n            <tr>\n                        <th id=\"T_c781b_level0_row14\" class=\"row_heading level0 row14\" >Day of week</th>\n                        <td id=\"T_c781b_row14_col0\" class=\"data row14 col0\" >0.867138</td>\n            </tr>\n            <tr>\n                        <th id=\"T_c781b_level0_row15\" class=\"row_heading level0 row15\" >No info</th>\n                        <td id=\"T_c781b_row15_col0\" class=\"data row15 col0\" >0.763181</td>\n            </tr>\n            <tr>\n                        <th id=\"T_c781b_level0_row16\" class=\"row_heading level0 row16\" >Air India</th>\n                        <td id=\"T_c781b_row16_col0\" class=\"data row16 col0\" >0.706604</td>\n            </tr>\n            <tr>\n                        <th id=\"T_c781b_level0_row17\" class=\"row_heading level0 row17\" >Vistara</th>\n                        <td id=\"T_c781b_row17_col0\" class=\"data row17 col0\" >0.646178</td>\n            </tr>\n            <tr>\n                        <th id=\"T_c781b_level0_row18\" class=\"row_heading level0 row18\" >Month of year</th>\n                        <td id=\"T_c781b_row18_col0\" class=\"data row18 col0\" >0.628459</td>\n            </tr>\n            <tr>\n                        <th id=\"T_c781b_level0_row19\" class=\"row_heading level0 row19\" >Arr_morning</th>\n                        <td id=\"T_c781b_row19_col0\" class=\"data row19 col0\" >0.405793</td>\n            </tr>\n            <tr>\n                        <th id=\"T_c781b_level0_row20\" class=\"row_heading level0 row20\" >Src_Kolkata</th>\n                        <td id=\"T_c781b_row20_col0\" class=\"data row20 col0\" >0.386623</td>\n            </tr>\n            <tr>\n                        <th id=\"T_c781b_level0_row21\" class=\"row_heading level0 row21\" >Dest_Banglore</th>\n                        <td id=\"T_c781b_row21_col0\" class=\"data row21 col0\" >0.355303</td>\n            </tr>\n            <tr>\n                        <th id=\"T_c781b_level0_row22\" class=\"row_heading level0 row22\" >Arr_evening</th>\n                        <td id=\"T_c781b_row22_col0\" class=\"data row22 col0\" >0.298027</td>\n            </tr>\n            <tr>\n                        <th id=\"T_c781b_level0_row23\" class=\"row_heading level0 row23\" >Dest_Cochin</th>\n                        <td id=\"T_c781b_row23_col0\" class=\"data row23 col0\" >0.295981</td>\n            </tr>\n            <tr>\n                        <th id=\"T_c781b_level0_row24\" class=\"row_heading level0 row24\" >Src_Delhi</th>\n                        <td id=\"T_c781b_row24_col0\" class=\"data row24 col0\" >0.294162</td>\n            </tr>\n            <tr>\n                        <th id=\"T_c781b_level0_row25\" class=\"row_heading level0 row25\" >Dep_morning</th>\n                        <td id=\"T_c781b_row25_col0\" class=\"data row25 col0\" >0.220204</td>\n            </tr>\n            <tr>\n                        <th id=\"T_c781b_level0_row26\" class=\"row_heading level0 row26\" >Arr_noon</th>\n                        <td id=\"T_c781b_row26_col0\" class=\"data row26 col0\" >0.183550</td>\n            </tr>\n            <tr>\n                        <th id=\"T_c781b_level0_row27\" class=\"row_heading level0 row27\" >Dest_New Delhi</th>\n                        <td id=\"T_c781b_row27_col0\" class=\"data row27 col0\" >0.177506</td>\n            </tr>\n            <tr>\n                        <th id=\"T_c781b_level0_row28\" class=\"row_heading level0 row28\" >Air Asia</th>\n                        <td id=\"T_c781b_row28_col0\" class=\"data row28 col0\" >0.159627</td>\n            </tr>\n            <tr>\n                        <th id=\"T_c781b_level0_row29\" class=\"row_heading level0 row29\" >Dep_evening</th>\n                        <td id=\"T_c781b_row29_col0\" class=\"data row29 col0\" >0.152344</td>\n            </tr>\n            <tr>\n                        <th id=\"T_c781b_level0_row30\" class=\"row_heading level0 row30\" >Arr_night</th>\n                        <td id=\"T_c781b_row30_col0\" class=\"data row30 col0\" >0.129930</td>\n            </tr>\n            <tr>\n                        <th id=\"T_c781b_level0_row31\" class=\"row_heading level0 row31\" >Multiple carriers Premium economy</th>\n                        <td id=\"T_c781b_row31_col0\" class=\"data row31 col0\" >0.127291</td>\n            </tr>\n            <tr>\n                        <th id=\"T_c781b_level0_row32\" class=\"row_heading level0 row32\" >Dep_noon</th>\n                        <td id=\"T_c781b_row32_col0\" class=\"data row32 col0\" >0.099348</td>\n            </tr>\n            <tr>\n                        <th id=\"T_c781b_level0_row33\" class=\"row_heading level0 row33\" >GoAir</th>\n                        <td id=\"T_c781b_row33_col0\" class=\"data row33 col0\" >0.094951</td>\n            </tr>\n            <tr>\n                        <th id=\"T_c781b_level0_row34\" class=\"row_heading level0 row34\" >Dest_Delhi</th>\n                        <td id=\"T_c781b_row34_col0\" class=\"data row34 col0\" >0.092252</td>\n            </tr>\n            <tr>\n                        <th id=\"T_c781b_level0_row35\" class=\"row_heading level0 row35\" >Src_Mumbai</th>\n                        <td id=\"T_c781b_row35_col0\" class=\"data row35 col0\" >0.087891</td>\n            </tr>\n            <tr>\n                        <th id=\"T_c781b_level0_row36\" class=\"row_heading level0 row36\" >Src_Banglore</th>\n                        <td id=\"T_c781b_row36_col0\" class=\"data row36 col0\" >0.087617</td>\n            </tr>\n            <tr>\n                        <th id=\"T_c781b_level0_row37\" class=\"row_heading level0 row37\" >Arr_early morning</th>\n                        <td id=\"T_c781b_row37_col0\" class=\"data row37 col0\" >0.063339</td>\n            </tr>\n            <tr>\n                        <th id=\"T_c781b_level0_row38\" class=\"row_heading level0 row38\" >Dest_Kolkata</th>\n                        <td id=\"T_c781b_row38_col0\" class=\"data row38 col0\" >0.058946</td>\n            </tr>\n            <tr>\n                        <th id=\"T_c781b_level0_row39\" class=\"row_heading level0 row39\" >Dep_early morning</th>\n                        <td id=\"T_c781b_row39_col0\" class=\"data row39 col0\" >0.057228</td>\n            </tr>\n            <tr>\n                        <th id=\"T_c781b_level0_row40\" class=\"row_heading level0 row40\" >Src_Chennai</th>\n                        <td id=\"T_c781b_row40_col0\" class=\"data row40 col0\" >0.054572</td>\n            </tr>\n            <tr>\n                        <th id=\"T_c781b_level0_row41\" class=\"row_heading level0 row41\" >Dest_Hyderabad</th>\n                        <td id=\"T_c781b_row41_col0\" class=\"data row41 col0\" >0.036652</td>\n            </tr>\n            <tr>\n                        <th id=\"T_c781b_level0_row42\" class=\"row_heading level0 row42\" >Dep_night</th>\n                        <td id=\"T_c781b_row42_col0\" class=\"data row42 col0\" >0.027940</td>\n            </tr>\n            <tr>\n                        <th id=\"T_c781b_level0_row43\" class=\"row_heading level0 row43\" >No check-in baggage included</th>\n                        <td id=\"T_c781b_row43_col0\" class=\"data row43 col0\" >0.004721</td>\n            </tr>\n            <tr>\n                        <th id=\"T_c781b_level0_row44\" class=\"row_heading level0 row44\" >Vistara Premium economy</th>\n                        <td id=\"T_c781b_row44_col0\" class=\"data row44 col0\" >0.003414</td>\n            </tr>\n            <tr>\n                        <th id=\"T_c781b_level0_row45\" class=\"row_heading level0 row45\" >Trujet</th>\n                        <td id=\"T_c781b_row45_col0\" class=\"data row45 col0\" >0.003156</td>\n            </tr>\n            <tr>\n                        <th id=\"T_c781b_level0_row46\" class=\"row_heading level0 row46\" >1 Long layover</th>\n                        <td id=\"T_c781b_row46_col0\" class=\"data row46 col0\" >0.001853</td>\n            </tr>\n            <tr>\n                        <th id=\"T_c781b_level0_row47\" class=\"row_heading level0 row47\" >Change airports</th>\n                        <td id=\"T_c781b_row47_col0\" class=\"data row47 col0\" >0.000614</td>\n            </tr>\n            <tr>\n                        <th id=\"T_c781b_level0_row48\" class=\"row_heading level0 row48\" >Red-eye flight</th>\n                        <td id=\"T_c781b_row48_col0\" class=\"data row48 col0\" >0.000020</td>\n            </tr>\n            <tr>\n                        <th id=\"T_c781b_level0_row49\" class=\"row_heading level0 row49\" >1 Short layover</th>\n                        <td id=\"T_c781b_row49_col0\" class=\"data row49 col0\" >0.000000</td>\n            </tr>\n            <tr>\n                        <th id=\"T_c781b_level0_row50\" class=\"row_heading level0 row50\" >2 Long layover</th>\n                        <td id=\"T_c781b_row50_col0\" class=\"data row50 col0\" >0.000000</td>\n            </tr>\n            <tr>\n                        <th id=\"T_c781b_level0_row51\" class=\"row_heading level0 row51\" >Jet Airways Business</th>\n                        <td id=\"T_c781b_row51_col0\" class=\"data row51 col0\" >0.000000</td>\n            </tr>\n            <tr>\n                        <th id=\"T_c781b_level0_row52\" class=\"row_heading level0 row52\" >Business class</th>\n                        <td id=\"T_c781b_row52_col0\" class=\"data row52 col0\" >0.000000</td>\n            </tr>\n    </tbody></table>"
     },
     "metadata": {},
     "execution_count": 34
    }
   ],
   "source": [
    "pd.DataFrame(rr.feature_importances_*100,index=X.columns).sort_values(0,ascending=False).style.background_gradient(cmap='Reds')"
   ]
  },
  {
   "cell_type": "code",
   "execution_count": 39,
   "metadata": {},
   "outputs": [
    {
     "output_type": "execute_result",
     "data": {
      "text/plain": [
       "Src_Kolkata\n",
       "0     9.574945\n",
       "1    11.979094\n",
       "Name: Duration_hours, dtype: float64"
      ]
     },
     "metadata": {},
     "execution_count": 39
    }
   ],
   "source": [
    "X.groupby('Src_Kolkata')['Duration_hours'].mean() #to destination???"
   ]
  },
  {
   "cell_type": "code",
   "execution_count": null,
   "metadata": {},
   "outputs": [],
   "source": []
  }
 ]
}