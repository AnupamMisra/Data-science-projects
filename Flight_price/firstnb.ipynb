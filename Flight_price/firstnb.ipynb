{
 "metadata": {
  "language_info": {
   "codemirror_mode": {
    "name": "ipython",
    "version": 3
   },
   "file_extension": ".py",
   "mimetype": "text/x-python",
   "name": "python",
   "nbconvert_exporter": "python",
   "pygments_lexer": "ipython3",
   "version": "3.9.5"
  },
  "orig_nbformat": 2,
  "kernelspec": {
   "name": "python395jvsc74a57bd062a490a61034db1e8b6e05e6e999b5629625384177f9d8186b44b788547d5428",
   "display_name": "Python 3.9.5 64-bit ('machine_L': venv)"
  },
  "metadata": {
   "interpreter": {
    "hash": "6beebaa0981c1e9d17bebb217d7d2d19f8163b6f1d7ac3bbe835b659c5d6023d"
   }
  }
 },
 "nbformat": 4,
 "nbformat_minor": 2,
 "cells": [
  {
   "source": [
    "# Initialisation"
   ],
   "cell_type": "markdown",
   "metadata": {}
  },
  {
   "cell_type": "code",
   "execution_count": 6,
   "metadata": {},
   "outputs": [],
   "source": [
    "#Importing all the necessary libraries\n",
    "import pandas as pd \n",
    "import numpy as np \n",
    "import matplotlib.pyplot as plt \n",
    "import seaborn as sns\n",
    "from datetime import datetime as dt\n",
    "from sklearn.metrics import mean_squared_error, r2_score\n",
    "from sklearn.preprocessing import StandardScaler\n",
    "from sklearn.model_selection import train_test_split as TTS, KFold as K, cross_val_score as score  \n",
    "from sklearn.linear_model import LinearRegression as LR \n",
    "from sklearn.tree import DecisionTreeRegressor as DTR\n",
    "from sklearn.ensemble import RandomForestRegressor as RFR \n",
    "from xgboost import XGBRegressor as XGR\n",
    "import warnings\n",
    "warnings.filterwarnings('ignore')\n",
    "\n",
    "#Importing the datset\n",
    "df = pd.read_csv(r'C:/Users/ADMIN/Downloads/flight_price.csv')"
   ]
  },
  {
   "source": [
    "df"
   ],
   "cell_type": "code",
   "metadata": {},
   "execution_count": 7,
   "outputs": [
    {
     "output_type": "execute_result",
     "data": {
      "text/plain": [
       "           Airline Date_of_Journey    Source Destination  \\\n",
       "0           IndiGo      24/03/2019  Banglore   New Delhi   \n",
       "1        Air India       1/05/2019   Kolkata    Banglore   \n",
       "2      Jet Airways       9/06/2019     Delhi      Cochin   \n",
       "3           IndiGo      12/05/2019   Kolkata    Banglore   \n",
       "4           IndiGo      01/03/2019  Banglore   New Delhi   \n",
       "...            ...             ...       ...         ...   \n",
       "10678     Air Asia       9/04/2019   Kolkata    Banglore   \n",
       "10679    Air India      27/04/2019   Kolkata    Banglore   \n",
       "10680  Jet Airways      27/04/2019  Banglore       Delhi   \n",
       "10681      Vistara      01/03/2019  Banglore   New Delhi   \n",
       "10682    Air India       9/05/2019     Delhi      Cochin   \n",
       "\n",
       "                       Route Dep_Time  Arrival_Time Duration Total_Stops  \\\n",
       "0                  BLR ? DEL    22:20  01:10 22 Mar   2h 50m    non-stop   \n",
       "1      CCU ? IXR ? BBI ? BLR    05:50         13:15   7h 25m     2 stops   \n",
       "2      DEL ? LKO ? BOM ? COK    09:25  04:25 10 Jun      19h     2 stops   \n",
       "3            CCU ? NAG ? BLR    18:05         23:30   5h 25m      1 stop   \n",
       "4            BLR ? NAG ? DEL    16:50         21:35   4h 45m      1 stop   \n",
       "...                      ...      ...           ...      ...         ...   \n",
       "10678              CCU ? BLR    19:55         22:25   2h 30m    non-stop   \n",
       "10679              CCU ? BLR    20:45         23:20   2h 35m    non-stop   \n",
       "10680              BLR ? DEL    08:20         11:20       3h    non-stop   \n",
       "10681              BLR ? DEL    11:30         14:10   2h 40m    non-stop   \n",
       "10682  DEL ? GOI ? BOM ? COK    10:55         19:15   8h 20m     2 stops   \n",
       "\n",
       "      Additional_Info  Price  \n",
       "0             No info   3897  \n",
       "1             No info   7662  \n",
       "2             No info  13882  \n",
       "3             No info   6218  \n",
       "4             No info  13302  \n",
       "...               ...    ...  \n",
       "10678         No info   4107  \n",
       "10679         No info   4145  \n",
       "10680         No info   7229  \n",
       "10681         No info  12648  \n",
       "10682         No info  11753  \n",
       "\n",
       "[10683 rows x 11 columns]"
      ],
      "text/html": "<div>\n<style scoped>\n    .dataframe tbody tr th:only-of-type {\n        vertical-align: middle;\n    }\n\n    .dataframe tbody tr th {\n        vertical-align: top;\n    }\n\n    .dataframe thead th {\n        text-align: right;\n    }\n</style>\n<table border=\"1\" class=\"dataframe\">\n  <thead>\n    <tr style=\"text-align: right;\">\n      <th></th>\n      <th>Airline</th>\n      <th>Date_of_Journey</th>\n      <th>Source</th>\n      <th>Destination</th>\n      <th>Route</th>\n      <th>Dep_Time</th>\n      <th>Arrival_Time</th>\n      <th>Duration</th>\n      <th>Total_Stops</th>\n      <th>Additional_Info</th>\n      <th>Price</th>\n    </tr>\n  </thead>\n  <tbody>\n    <tr>\n      <th>0</th>\n      <td>IndiGo</td>\n      <td>24/03/2019</td>\n      <td>Banglore</td>\n      <td>New Delhi</td>\n      <td>BLR ? DEL</td>\n      <td>22:20</td>\n      <td>01:10 22 Mar</td>\n      <td>2h 50m</td>\n      <td>non-stop</td>\n      <td>No info</td>\n      <td>3897</td>\n    </tr>\n    <tr>\n      <th>1</th>\n      <td>Air India</td>\n      <td>1/05/2019</td>\n      <td>Kolkata</td>\n      <td>Banglore</td>\n      <td>CCU ? IXR ? BBI ? BLR</td>\n      <td>05:50</td>\n      <td>13:15</td>\n      <td>7h 25m</td>\n      <td>2 stops</td>\n      <td>No info</td>\n      <td>7662</td>\n    </tr>\n    <tr>\n      <th>2</th>\n      <td>Jet Airways</td>\n      <td>9/06/2019</td>\n      <td>Delhi</td>\n      <td>Cochin</td>\n      <td>DEL ? LKO ? BOM ? COK</td>\n      <td>09:25</td>\n      <td>04:25 10 Jun</td>\n      <td>19h</td>\n      <td>2 stops</td>\n      <td>No info</td>\n      <td>13882</td>\n    </tr>\n    <tr>\n      <th>3</th>\n      <td>IndiGo</td>\n      <td>12/05/2019</td>\n      <td>Kolkata</td>\n      <td>Banglore</td>\n      <td>CCU ? NAG ? BLR</td>\n      <td>18:05</td>\n      <td>23:30</td>\n      <td>5h 25m</td>\n      <td>1 stop</td>\n      <td>No info</td>\n      <td>6218</td>\n    </tr>\n    <tr>\n      <th>4</th>\n      <td>IndiGo</td>\n      <td>01/03/2019</td>\n      <td>Banglore</td>\n      <td>New Delhi</td>\n      <td>BLR ? NAG ? DEL</td>\n      <td>16:50</td>\n      <td>21:35</td>\n      <td>4h 45m</td>\n      <td>1 stop</td>\n      <td>No info</td>\n      <td>13302</td>\n    </tr>\n    <tr>\n      <th>...</th>\n      <td>...</td>\n      <td>...</td>\n      <td>...</td>\n      <td>...</td>\n      <td>...</td>\n      <td>...</td>\n      <td>...</td>\n      <td>...</td>\n      <td>...</td>\n      <td>...</td>\n      <td>...</td>\n    </tr>\n    <tr>\n      <th>10678</th>\n      <td>Air Asia</td>\n      <td>9/04/2019</td>\n      <td>Kolkata</td>\n      <td>Banglore</td>\n      <td>CCU ? BLR</td>\n      <td>19:55</td>\n      <td>22:25</td>\n      <td>2h 30m</td>\n      <td>non-stop</td>\n      <td>No info</td>\n      <td>4107</td>\n    </tr>\n    <tr>\n      <th>10679</th>\n      <td>Air India</td>\n      <td>27/04/2019</td>\n      <td>Kolkata</td>\n      <td>Banglore</td>\n      <td>CCU ? BLR</td>\n      <td>20:45</td>\n      <td>23:20</td>\n      <td>2h 35m</td>\n      <td>non-stop</td>\n      <td>No info</td>\n      <td>4145</td>\n    </tr>\n    <tr>\n      <th>10680</th>\n      <td>Jet Airways</td>\n      <td>27/04/2019</td>\n      <td>Banglore</td>\n      <td>Delhi</td>\n      <td>BLR ? DEL</td>\n      <td>08:20</td>\n      <td>11:20</td>\n      <td>3h</td>\n      <td>non-stop</td>\n      <td>No info</td>\n      <td>7229</td>\n    </tr>\n    <tr>\n      <th>10681</th>\n      <td>Vistara</td>\n      <td>01/03/2019</td>\n      <td>Banglore</td>\n      <td>New Delhi</td>\n      <td>BLR ? DEL</td>\n      <td>11:30</td>\n      <td>14:10</td>\n      <td>2h 40m</td>\n      <td>non-stop</td>\n      <td>No info</td>\n      <td>12648</td>\n    </tr>\n    <tr>\n      <th>10682</th>\n      <td>Air India</td>\n      <td>9/05/2019</td>\n      <td>Delhi</td>\n      <td>Cochin</td>\n      <td>DEL ? GOI ? BOM ? COK</td>\n      <td>10:55</td>\n      <td>19:15</td>\n      <td>8h 20m</td>\n      <td>2 stops</td>\n      <td>No info</td>\n      <td>11753</td>\n    </tr>\n  </tbody>\n</table>\n<p>10683 rows × 11 columns</p>\n</div>"
     },
     "metadata": {},
     "execution_count": 7
    }
   ]
  },
  {
   "cell_type": "code",
   "execution_count": 8,
   "metadata": {},
   "outputs": [
    {
     "output_type": "execute_result",
     "data": {
      "text/plain": [
       "Airline            0\n",
       "Date_of_Journey    0\n",
       "Source             0\n",
       "Destination        0\n",
       "Route              1\n",
       "Dep_Time           0\n",
       "Arrival_Time       0\n",
       "Duration           0\n",
       "Total_Stops        1\n",
       "Additional_Info    0\n",
       "Price              0\n",
       "dtype: int64"
      ]
     },
     "metadata": {},
     "execution_count": 8
    }
   ],
   "source": [
    "df.isnull().sum()"
   ]
  },
  {
   "cell_type": "code",
   "execution_count": 9,
   "metadata": {},
   "outputs": [
    {
     "output_type": "execute_result",
     "data": {
      "text/plain": [
       "Airline            object\n",
       "Date_of_Journey    object\n",
       "Source             object\n",
       "Destination        object\n",
       "Route              object\n",
       "Dep_Time           object\n",
       "Arrival_Time       object\n",
       "Duration           object\n",
       "Total_Stops        object\n",
       "Additional_Info    object\n",
       "Price               int64\n",
       "dtype: object"
      ]
     },
     "metadata": {},
     "execution_count": 9
    }
   ],
   "source": [
    "df.dtypes"
   ]
  },
  {
   "cell_type": "code",
   "execution_count": 10,
   "metadata": {},
   "outputs": [
    {
     "output_type": "execute_result",
     "data": {
      "text/plain": [
       "     Airline Date_of_Journey    Source Destination                  Route  \\\n",
       "0     IndiGo      24/03/2019  Banglore   New Delhi              BLR ? DEL   \n",
       "1  Air India       1/05/2019   Kolkata    Banglore  CCU ? IXR ? BBI ? BLR   \n",
       "\n",
       "  Dep_Time  Arrival_Time Duration Total_Stops Additional_Info  Price  \n",
       "0    22:20  01:10 22 Mar   2h 50m    non-stop         No info   3897  \n",
       "1    05:50         13:15   7h 25m     2 stops         No info   7662  "
      ],
      "text/html": "<div>\n<style scoped>\n    .dataframe tbody tr th:only-of-type {\n        vertical-align: middle;\n    }\n\n    .dataframe tbody tr th {\n        vertical-align: top;\n    }\n\n    .dataframe thead th {\n        text-align: right;\n    }\n</style>\n<table border=\"1\" class=\"dataframe\">\n  <thead>\n    <tr style=\"text-align: right;\">\n      <th></th>\n      <th>Airline</th>\n      <th>Date_of_Journey</th>\n      <th>Source</th>\n      <th>Destination</th>\n      <th>Route</th>\n      <th>Dep_Time</th>\n      <th>Arrival_Time</th>\n      <th>Duration</th>\n      <th>Total_Stops</th>\n      <th>Additional_Info</th>\n      <th>Price</th>\n    </tr>\n  </thead>\n  <tbody>\n    <tr>\n      <th>0</th>\n      <td>IndiGo</td>\n      <td>24/03/2019</td>\n      <td>Banglore</td>\n      <td>New Delhi</td>\n      <td>BLR ? DEL</td>\n      <td>22:20</td>\n      <td>01:10 22 Mar</td>\n      <td>2h 50m</td>\n      <td>non-stop</td>\n      <td>No info</td>\n      <td>3897</td>\n    </tr>\n    <tr>\n      <th>1</th>\n      <td>Air India</td>\n      <td>1/05/2019</td>\n      <td>Kolkata</td>\n      <td>Banglore</td>\n      <td>CCU ? IXR ? BBI ? BLR</td>\n      <td>05:50</td>\n      <td>13:15</td>\n      <td>7h 25m</td>\n      <td>2 stops</td>\n      <td>No info</td>\n      <td>7662</td>\n    </tr>\n  </tbody>\n</table>\n</div>"
     },
     "metadata": {},
     "execution_count": 10
    }
   ],
   "source": [
    "df.head(2)"
   ]
  },
  {
   "source": [
    "# Data preprocessing"
   ],
   "cell_type": "markdown",
   "metadata": {}
  },
  {
   "cell_type": "code",
   "execution_count": 11,
   "metadata": {},
   "outputs": [],
   "source": [
    "###################################################################################################################\n",
    "#\n",
    "#def preprocess(df):\n",
    "# Input: main dataframe\n",
    "#\n",
    "# 1. Correct the datatypes\n",
    "# 2. Generate new features\n",
    "# 4. Drop previous features which are irrelevant now \n",
    "# 5. Standardise\n",
    "# 6. return X, y\n",
    "###################################################################################################################\n",
    "\n",
    "def preprocess(df):\n",
    "\n",
    "    #1. Correcting the datatypes    \n",
    "    date_conv = lambda x: dt.strptime(str(x), '%d/%m/%Y')\n",
    "    time_conv = lambda x: dt.strptime(str(x), '%H:%M')\n",
    "    df['Date_of_Journey'] = df['Date_of_Journey'].apply(date_conv)\n",
    "\n",
    "    #2. Generate new features\n",
    "    hour = lambda x: x[x.index(\":\")-2:x.index(\":\")]\n",
    "    minutes = lambda x: x[x.index(\":\")+1:x.index(\":\")+3]\n",
    "    dur_hour = lambda x:x[:x.index(\"h\")] if 'h' in x else 0\n",
    "    dur_min = lambda x: x[x.index(\"m\")-2:x.index(\"m\")] if 'm' in x else 0\n",
    "    stops = lambda x: 1 if '1' in str(x) else (2  if '2' in str(x) else(3 if '3' in str(x) else(4 if '4' in str(x) else (5 if '5' in str(x)else 0))))\n",
    "    tod = lambda x: 'early morning' if 0<x<=6 else('morning' if 6<x<=12 else ('noon' if 12<x<=16 else ('evening' if 16<x<=20 else 'night')))\n",
    "\n",
    "    df['Dep_hour'] = df.Dep_Time.apply(hour)\n",
    "    df['Dep_minutes'] = df.Dep_Time.apply(minutes)\n",
    "    df['Arr_hour'] = df.Arrival_Time.apply(hour)\n",
    "    df['Arr_minutes'] = df.Arrival_Time.apply(minutes)\n",
    "    df['Duration_hours'] = df.Duration.apply(dur_hour)\n",
    "    df['Duration_mins'] = df.Duration.apply(dur_min)\n",
    "    df.Duration_mins.replace({'':'0'},inplace=True)\n",
    "    df['N_stops'] = df.Total_Stops.apply(stops)\n",
    "    df.Dep_hour = df.Dep_hour.astype(int)\n",
    "    df.Dep_minutes = df.Dep_minutes.astype(int)\n",
    "    df.Arr_hour = df.Arr_hour.astype(int)\n",
    "    df.Arr_minutes = df.Arr_minutes.astype(int)\n",
    "    df.Duration_hours = df.Duration_hours.astype(int)\n",
    "    df.Duration_mins = df.Duration_mins.astype(int)\n",
    "    df.N_stops = df.N_stops.astype(int)\n",
    "\n",
    "    X,y=df.drop(['Price'],axis=1), df.Price\n",
    "    X.Additional_Info.replace({'No Info':'No info'}, inplace=True)\n",
    "    X[['1 Long layover', '1 Short layover', '2 Long layover', 'Business class',\n",
    "       'Change airports', 'In-flight meal not included',\n",
    "       'No check-in baggage included', 'No info', 'Red-eye flight']]=pd.get_dummies(X.Additional_Info)\n",
    "    X[['Air Asia', 'Air India', 'GoAir', 'IndiGo', 'Jet Airways',\n",
    "       'Jet Airways Business', 'Multiple carriers',\n",
    "       'Multiple carriers Premium economy', 'SpiceJet', 'Trujet', 'Vistara',\n",
    "       'Vistara Premium economy']]=pd.get_dummies(X.Airline)\n",
    "    X[['Src_Banglore', 'Src_Chennai', 'Src_Delhi', 'Src_Kolkata',\n",
    "        'Src_Mumbai']]=pd.get_dummies(X.Source, prefix=\"Src\")\n",
    "    X[['Dest_Banglore', 'Dest_Cochin', 'Dest_Delhi', 'Dest_Hyderabad',\n",
    "       'Dest_Kolkata', 'Dest_New Delhi']]=pd.get_dummies(X.Destination, prefix=\"Dest\")\n",
    "\n",
    "    X['Day of month'] = X.Date_of_Journey.apply(lambda x: x.strftime(\"%d\")).astype(int)\n",
    "    X['Day of week'] = X.Date_of_Journey.apply(lambda x: x.strftime(\"%w\")).astype(int)\n",
    "    X['Month of year'] = X.Date_of_Journey.apply(lambda x: x.strftime(\"%m\")).astype(int)\n",
    "    X['Day of year'] = X.Date_of_Journey.apply(lambda x: x.timetuple().tm_yday)\n",
    "    X['TOD of departure'] = X.Dep_hour.apply(tod)\n",
    "    X['TOD of arrival'] = X.Arr_hour.apply(tod)\n",
    "\n",
    "    X[['Dep_early morning', 'Dep_evening', 'Dep_morning', 'Dep_night', 'Dep_noon']] = pd.get_dummies(X['TOD of departure'])\n",
    "    X[['Arr_early morning', 'Arr_evening', 'Arr_morning', 'Arr_night', 'Arr_noon']] = pd.get_dummies(X['TOD of arrival'])\n",
    "    #4. Dropping previous and now irrelevant features\n",
    "    \n",
    "    X.drop(['Dep_Time', 'Arrival_Time', 'Duration', 'Total_Stops','Additional_Info','Airline','Source','Destination', 'Date_of_Journey','Route','TOD of departure','TOD of arrival'],axis=1, inplace=True)\n",
    "    \n",
    "    #5. Standardisation\n",
    "    sc=StandardScaler()\n",
    "    X = sc.fit_transform(X)\n",
    "\n",
    "    #6. Return X, y\n",
    "    return X,y"
   ]
  },
  {
   "cell_type": "code",
   "execution_count": 12,
   "metadata": {},
   "outputs": [],
   "source": [
    "X,y=preprocess(df)"
   ]
  },
  {
   "cell_type": "code",
   "execution_count": 13,
   "metadata": {},
   "outputs": [],
   "source": [
    "#pd.DataFrame(X).corr().style.background_gradient(cmap='Reds')"
   ]
  },
  {
   "cell_type": "code",
   "execution_count": 14,
   "metadata": {},
   "outputs": [
    {
     "output_type": "execute_result",
     "data": {
      "text/plain": [
       "<AxesSubplot:xlabel='Price'>"
      ]
     },
     "metadata": {},
     "execution_count": 14
    },
    {
     "output_type": "display_data",
     "data": {
      "text/plain": "<Figure size 432x288 with 1 Axes>",
      "image/svg+xml": "<?xml version=\"1.0\" encoding=\"utf-8\" standalone=\"no\"?>\r\n<!DOCTYPE svg PUBLIC \"-//W3C//DTD SVG 1.1//EN\"\r\n  \"http://www.w3.org/Graphics/SVG/1.1/DTD/svg11.dtd\">\r\n<svg height=\"262.19625pt\" version=\"1.1\" viewBox=\"0 0 355.298341 262.19625\" width=\"355.298341pt\" xmlns=\"http://www.w3.org/2000/svg\" xmlns:xlink=\"http://www.w3.org/1999/xlink\">\r\n <metadata>\r\n  <rdf:RDF xmlns:cc=\"http://creativecommons.org/ns#\" xmlns:dc=\"http://purl.org/dc/elements/1.1/\" xmlns:rdf=\"http://www.w3.org/1999/02/22-rdf-syntax-ns#\">\r\n   <cc:Work>\r\n    <dc:type rdf:resource=\"http://purl.org/dc/dcmitype/StillImage\"/>\r\n    <dc:date>2021-05-18T10:41:22.299447</dc:date>\r\n    <dc:format>image/svg+xml</dc:format>\r\n    <dc:creator>\r\n     <cc:Agent>\r\n      <dc:title>Matplotlib v3.4.2, https://matplotlib.org/</dc:title>\r\n     </cc:Agent>\r\n    </dc:creator>\r\n   </cc:Work>\r\n  </rdf:RDF>\r\n </metadata>\r\n <defs>\r\n  <style type=\"text/css\">*{stroke-linecap:butt;stroke-linejoin:round;}</style>\r\n </defs>\r\n <g id=\"figure_1\">\r\n  <g id=\"patch_1\">\r\n   <path d=\"M 0 262.19625 \r\nL 355.298341 262.19625 \r\nL 355.298341 0 \r\nL 0 0 \r\nz\r\n\" style=\"fill:none;\"/>\r\n  </g>\r\n  <g id=\"axes_1\">\r\n   <g id=\"patch_2\">\r\n    <path d=\"M 10.7 224.64 \r\nL 345.5 224.64 \r\nL 345.5 7.2 \r\nL 10.7 7.2 \r\nz\r\n\" style=\"fill:#ffffff;\"/>\r\n   </g>\r\n   <g id=\"patch_3\">\r\n    <path clip-path=\"url(#p33bf311444)\" d=\"M 39.689371 28.944 \r\nL 39.689371 202.896 \r\nL 67.466619 202.896 \r\nL 67.466619 28.944 \r\nL 39.689371 28.944 \r\nz\r\n\" style=\"fill:#3274a1;stroke:#3f3f3f;stroke-linejoin:miter;stroke-width:1.5;\"/>\r\n   </g>\r\n   <g id=\"matplotlib.axis_1\">\r\n    <g id=\"xtick_1\">\r\n     <g id=\"line2d_1\">\r\n      <defs>\r\n       <path d=\"M 0 0 \r\nL 0 3.5 \r\n\" id=\"m75197566e3\" style=\"stroke:#000000;stroke-width:0.8;\"/>\r\n      </defs>\r\n      <g>\r\n       <use style=\"stroke:#000000;stroke-width:0.8;\" x=\"19.032587\" xlink:href=\"#m75197566e3\" y=\"224.64\"/>\r\n      </g>\r\n     </g>\r\n     <g id=\"text_1\">\r\n      <!-- 0 -->\r\n      <g transform=\"translate(15.851337 239.238437)scale(0.1 -0.1)\">\r\n       <defs>\r\n        <path d=\"M 2034 4250 \r\nQ 1547 4250 1301 3770 \r\nQ 1056 3291 1056 2328 \r\nQ 1056 1369 1301 889 \r\nQ 1547 409 2034 409 \r\nQ 2525 409 2770 889 \r\nQ 3016 1369 3016 2328 \r\nQ 3016 3291 2770 3770 \r\nQ 2525 4250 2034 4250 \r\nz\r\nM 2034 4750 \r\nQ 2819 4750 3233 4129 \r\nQ 3647 3509 3647 2328 \r\nQ 3647 1150 3233 529 \r\nQ 2819 -91 2034 -91 \r\nQ 1250 -91 836 529 \r\nQ 422 1150 422 2328 \r\nQ 422 3509 836 4129 \r\nQ 1250 4750 2034 4750 \r\nz\r\n\" id=\"DejaVuSans-30\" transform=\"scale(0.015625)\"/>\r\n       </defs>\r\n       <use xlink:href=\"#DejaVuSans-30\"/>\r\n      </g>\r\n     </g>\r\n    </g>\r\n    <g id=\"xtick_2\">\r\n     <g id=\"line2d_2\">\r\n      <g>\r\n       <use style=\"stroke:#000000;stroke-width:0.8;\" x=\"58.177525\" xlink:href=\"#m75197566e3\" y=\"224.64\"/>\r\n      </g>\r\n     </g>\r\n     <g id=\"text_2\">\r\n      <!-- 10000 -->\r\n      <g transform=\"translate(42.271275 239.238437)scale(0.1 -0.1)\">\r\n       <defs>\r\n        <path d=\"M 794 531 \r\nL 1825 531 \r\nL 1825 4091 \r\nL 703 3866 \r\nL 703 4441 \r\nL 1819 4666 \r\nL 2450 4666 \r\nL 2450 531 \r\nL 3481 531 \r\nL 3481 0 \r\nL 794 0 \r\nL 794 531 \r\nz\r\n\" id=\"DejaVuSans-31\" transform=\"scale(0.015625)\"/>\r\n       </defs>\r\n       <use xlink:href=\"#DejaVuSans-31\"/>\r\n       <use x=\"63.623047\" xlink:href=\"#DejaVuSans-30\"/>\r\n       <use x=\"127.246094\" xlink:href=\"#DejaVuSans-30\"/>\r\n       <use x=\"190.869141\" xlink:href=\"#DejaVuSans-30\"/>\r\n       <use x=\"254.492188\" xlink:href=\"#DejaVuSans-30\"/>\r\n      </g>\r\n     </g>\r\n    </g>\r\n    <g id=\"xtick_3\">\r\n     <g id=\"line2d_3\">\r\n      <g>\r\n       <use style=\"stroke:#000000;stroke-width:0.8;\" x=\"97.322463\" xlink:href=\"#m75197566e3\" y=\"224.64\"/>\r\n      </g>\r\n     </g>\r\n     <g id=\"text_3\">\r\n      <!-- 20000 -->\r\n      <g transform=\"translate(81.416213 239.238437)scale(0.1 -0.1)\">\r\n       <defs>\r\n        <path d=\"M 1228 531 \r\nL 3431 531 \r\nL 3431 0 \r\nL 469 0 \r\nL 469 531 \r\nQ 828 903 1448 1529 \r\nQ 2069 2156 2228 2338 \r\nQ 2531 2678 2651 2914 \r\nQ 2772 3150 2772 3378 \r\nQ 2772 3750 2511 3984 \r\nQ 2250 4219 1831 4219 \r\nQ 1534 4219 1204 4116 \r\nQ 875 4013 500 3803 \r\nL 500 4441 \r\nQ 881 4594 1212 4672 \r\nQ 1544 4750 1819 4750 \r\nQ 2544 4750 2975 4387 \r\nQ 3406 4025 3406 3419 \r\nQ 3406 3131 3298 2873 \r\nQ 3191 2616 2906 2266 \r\nQ 2828 2175 2409 1742 \r\nQ 1991 1309 1228 531 \r\nz\r\n\" id=\"DejaVuSans-32\" transform=\"scale(0.015625)\"/>\r\n       </defs>\r\n       <use xlink:href=\"#DejaVuSans-32\"/>\r\n       <use x=\"63.623047\" xlink:href=\"#DejaVuSans-30\"/>\r\n       <use x=\"127.246094\" xlink:href=\"#DejaVuSans-30\"/>\r\n       <use x=\"190.869141\" xlink:href=\"#DejaVuSans-30\"/>\r\n       <use x=\"254.492188\" xlink:href=\"#DejaVuSans-30\"/>\r\n      </g>\r\n     </g>\r\n    </g>\r\n    <g id=\"xtick_4\">\r\n     <g id=\"line2d_4\">\r\n      <g>\r\n       <use style=\"stroke:#000000;stroke-width:0.8;\" x=\"136.467401\" xlink:href=\"#m75197566e3\" y=\"224.64\"/>\r\n      </g>\r\n     </g>\r\n     <g id=\"text_4\">\r\n      <!-- 30000 -->\r\n      <g transform=\"translate(120.561151 239.238437)scale(0.1 -0.1)\">\r\n       <defs>\r\n        <path d=\"M 2597 2516 \r\nQ 3050 2419 3304 2112 \r\nQ 3559 1806 3559 1356 \r\nQ 3559 666 3084 287 \r\nQ 2609 -91 1734 -91 \r\nQ 1441 -91 1130 -33 \r\nQ 819 25 488 141 \r\nL 488 750 \r\nQ 750 597 1062 519 \r\nQ 1375 441 1716 441 \r\nQ 2309 441 2620 675 \r\nQ 2931 909 2931 1356 \r\nQ 2931 1769 2642 2001 \r\nQ 2353 2234 1838 2234 \r\nL 1294 2234 \r\nL 1294 2753 \r\nL 1863 2753 \r\nQ 2328 2753 2575 2939 \r\nQ 2822 3125 2822 3475 \r\nQ 2822 3834 2567 4026 \r\nQ 2313 4219 1838 4219 \r\nQ 1578 4219 1281 4162 \r\nQ 984 4106 628 3988 \r\nL 628 4550 \r\nQ 988 4650 1302 4700 \r\nQ 1616 4750 1894 4750 \r\nQ 2613 4750 3031 4423 \r\nQ 3450 4097 3450 3541 \r\nQ 3450 3153 3228 2886 \r\nQ 3006 2619 2597 2516 \r\nz\r\n\" id=\"DejaVuSans-33\" transform=\"scale(0.015625)\"/>\r\n       </defs>\r\n       <use xlink:href=\"#DejaVuSans-33\"/>\r\n       <use x=\"63.623047\" xlink:href=\"#DejaVuSans-30\"/>\r\n       <use x=\"127.246094\" xlink:href=\"#DejaVuSans-30\"/>\r\n       <use x=\"190.869141\" xlink:href=\"#DejaVuSans-30\"/>\r\n       <use x=\"254.492188\" xlink:href=\"#DejaVuSans-30\"/>\r\n      </g>\r\n     </g>\r\n    </g>\r\n    <g id=\"xtick_5\">\r\n     <g id=\"line2d_5\">\r\n      <g>\r\n       <use style=\"stroke:#000000;stroke-width:0.8;\" x=\"175.612339\" xlink:href=\"#m75197566e3\" y=\"224.64\"/>\r\n      </g>\r\n     </g>\r\n     <g id=\"text_5\">\r\n      <!-- 40000 -->\r\n      <g transform=\"translate(159.706089 239.238437)scale(0.1 -0.1)\">\r\n       <defs>\r\n        <path d=\"M 2419 4116 \r\nL 825 1625 \r\nL 2419 1625 \r\nL 2419 4116 \r\nz\r\nM 2253 4666 \r\nL 3047 4666 \r\nL 3047 1625 \r\nL 3713 1625 \r\nL 3713 1100 \r\nL 3047 1100 \r\nL 3047 0 \r\nL 2419 0 \r\nL 2419 1100 \r\nL 313 1100 \r\nL 313 1709 \r\nL 2253 4666 \r\nz\r\n\" id=\"DejaVuSans-34\" transform=\"scale(0.015625)\"/>\r\n       </defs>\r\n       <use xlink:href=\"#DejaVuSans-34\"/>\r\n       <use x=\"63.623047\" xlink:href=\"#DejaVuSans-30\"/>\r\n       <use x=\"127.246094\" xlink:href=\"#DejaVuSans-30\"/>\r\n       <use x=\"190.869141\" xlink:href=\"#DejaVuSans-30\"/>\r\n       <use x=\"254.492188\" xlink:href=\"#DejaVuSans-30\"/>\r\n      </g>\r\n     </g>\r\n    </g>\r\n    <g id=\"xtick_6\">\r\n     <g id=\"line2d_6\">\r\n      <g>\r\n       <use style=\"stroke:#000000;stroke-width:0.8;\" x=\"214.757277\" xlink:href=\"#m75197566e3\" y=\"224.64\"/>\r\n      </g>\r\n     </g>\r\n     <g id=\"text_6\">\r\n      <!-- 50000 -->\r\n      <g transform=\"translate(198.851027 239.238437)scale(0.1 -0.1)\">\r\n       <defs>\r\n        <path d=\"M 691 4666 \r\nL 3169 4666 \r\nL 3169 4134 \r\nL 1269 4134 \r\nL 1269 2991 \r\nQ 1406 3038 1543 3061 \r\nQ 1681 3084 1819 3084 \r\nQ 2600 3084 3056 2656 \r\nQ 3513 2228 3513 1497 \r\nQ 3513 744 3044 326 \r\nQ 2575 -91 1722 -91 \r\nQ 1428 -91 1123 -41 \r\nQ 819 9 494 109 \r\nL 494 744 \r\nQ 775 591 1075 516 \r\nQ 1375 441 1709 441 \r\nQ 2250 441 2565 725 \r\nQ 2881 1009 2881 1497 \r\nQ 2881 1984 2565 2268 \r\nQ 2250 2553 1709 2553 \r\nQ 1456 2553 1204 2497 \r\nQ 953 2441 691 2322 \r\nL 691 4666 \r\nz\r\n\" id=\"DejaVuSans-35\" transform=\"scale(0.015625)\"/>\r\n       </defs>\r\n       <use xlink:href=\"#DejaVuSans-35\"/>\r\n       <use x=\"63.623047\" xlink:href=\"#DejaVuSans-30\"/>\r\n       <use x=\"127.246094\" xlink:href=\"#DejaVuSans-30\"/>\r\n       <use x=\"190.869141\" xlink:href=\"#DejaVuSans-30\"/>\r\n       <use x=\"254.492188\" xlink:href=\"#DejaVuSans-30\"/>\r\n      </g>\r\n     </g>\r\n    </g>\r\n    <g id=\"xtick_7\">\r\n     <g id=\"line2d_7\">\r\n      <g>\r\n       <use style=\"stroke:#000000;stroke-width:0.8;\" x=\"253.902215\" xlink:href=\"#m75197566e3\" y=\"224.64\"/>\r\n      </g>\r\n     </g>\r\n     <g id=\"text_7\">\r\n      <!-- 60000 -->\r\n      <g transform=\"translate(237.995965 239.238437)scale(0.1 -0.1)\">\r\n       <defs>\r\n        <path d=\"M 2113 2584 \r\nQ 1688 2584 1439 2293 \r\nQ 1191 2003 1191 1497 \r\nQ 1191 994 1439 701 \r\nQ 1688 409 2113 409 \r\nQ 2538 409 2786 701 \r\nQ 3034 994 3034 1497 \r\nQ 3034 2003 2786 2293 \r\nQ 2538 2584 2113 2584 \r\nz\r\nM 3366 4563 \r\nL 3366 3988 \r\nQ 3128 4100 2886 4159 \r\nQ 2644 4219 2406 4219 \r\nQ 1781 4219 1451 3797 \r\nQ 1122 3375 1075 2522 \r\nQ 1259 2794 1537 2939 \r\nQ 1816 3084 2150 3084 \r\nQ 2853 3084 3261 2657 \r\nQ 3669 2231 3669 1497 \r\nQ 3669 778 3244 343 \r\nQ 2819 -91 2113 -91 \r\nQ 1303 -91 875 529 \r\nQ 447 1150 447 2328 \r\nQ 447 3434 972 4092 \r\nQ 1497 4750 2381 4750 \r\nQ 2619 4750 2861 4703 \r\nQ 3103 4656 3366 4563 \r\nz\r\n\" id=\"DejaVuSans-36\" transform=\"scale(0.015625)\"/>\r\n       </defs>\r\n       <use xlink:href=\"#DejaVuSans-36\"/>\r\n       <use x=\"63.623047\" xlink:href=\"#DejaVuSans-30\"/>\r\n       <use x=\"127.246094\" xlink:href=\"#DejaVuSans-30\"/>\r\n       <use x=\"190.869141\" xlink:href=\"#DejaVuSans-30\"/>\r\n       <use x=\"254.492188\" xlink:href=\"#DejaVuSans-30\"/>\r\n      </g>\r\n     </g>\r\n    </g>\r\n    <g id=\"xtick_8\">\r\n     <g id=\"line2d_8\">\r\n      <g>\r\n       <use style=\"stroke:#000000;stroke-width:0.8;\" x=\"293.047153\" xlink:href=\"#m75197566e3\" y=\"224.64\"/>\r\n      </g>\r\n     </g>\r\n     <g id=\"text_8\">\r\n      <!-- 70000 -->\r\n      <g transform=\"translate(277.140903 239.238437)scale(0.1 -0.1)\">\r\n       <defs>\r\n        <path d=\"M 525 4666 \r\nL 3525 4666 \r\nL 3525 4397 \r\nL 1831 0 \r\nL 1172 0 \r\nL 2766 4134 \r\nL 525 4134 \r\nL 525 4666 \r\nz\r\n\" id=\"DejaVuSans-37\" transform=\"scale(0.015625)\"/>\r\n       </defs>\r\n       <use xlink:href=\"#DejaVuSans-37\"/>\r\n       <use x=\"63.623047\" xlink:href=\"#DejaVuSans-30\"/>\r\n       <use x=\"127.246094\" xlink:href=\"#DejaVuSans-30\"/>\r\n       <use x=\"190.869141\" xlink:href=\"#DejaVuSans-30\"/>\r\n       <use x=\"254.492188\" xlink:href=\"#DejaVuSans-30\"/>\r\n      </g>\r\n     </g>\r\n    </g>\r\n    <g id=\"xtick_9\">\r\n     <g id=\"line2d_9\">\r\n      <g>\r\n       <use style=\"stroke:#000000;stroke-width:0.8;\" x=\"332.192091\" xlink:href=\"#m75197566e3\" y=\"224.64\"/>\r\n      </g>\r\n     </g>\r\n     <g id=\"text_9\">\r\n      <!-- 80000 -->\r\n      <g transform=\"translate(316.285841 239.238437)scale(0.1 -0.1)\">\r\n       <defs>\r\n        <path d=\"M 2034 2216 \r\nQ 1584 2216 1326 1975 \r\nQ 1069 1734 1069 1313 \r\nQ 1069 891 1326 650 \r\nQ 1584 409 2034 409 \r\nQ 2484 409 2743 651 \r\nQ 3003 894 3003 1313 \r\nQ 3003 1734 2745 1975 \r\nQ 2488 2216 2034 2216 \r\nz\r\nM 1403 2484 \r\nQ 997 2584 770 2862 \r\nQ 544 3141 544 3541 \r\nQ 544 4100 942 4425 \r\nQ 1341 4750 2034 4750 \r\nQ 2731 4750 3128 4425 \r\nQ 3525 4100 3525 3541 \r\nQ 3525 3141 3298 2862 \r\nQ 3072 2584 2669 2484 \r\nQ 3125 2378 3379 2068 \r\nQ 3634 1759 3634 1313 \r\nQ 3634 634 3220 271 \r\nQ 2806 -91 2034 -91 \r\nQ 1263 -91 848 271 \r\nQ 434 634 434 1313 \r\nQ 434 1759 690 2068 \r\nQ 947 2378 1403 2484 \r\nz\r\nM 1172 3481 \r\nQ 1172 3119 1398 2916 \r\nQ 1625 2713 2034 2713 \r\nQ 2441 2713 2670 2916 \r\nQ 2900 3119 2900 3481 \r\nQ 2900 3844 2670 4047 \r\nQ 2441 4250 2034 4250 \r\nQ 1625 4250 1398 4047 \r\nQ 1172 3844 1172 3481 \r\nz\r\n\" id=\"DejaVuSans-38\" transform=\"scale(0.015625)\"/>\r\n       </defs>\r\n       <use xlink:href=\"#DejaVuSans-38\"/>\r\n       <use x=\"63.623047\" xlink:href=\"#DejaVuSans-30\"/>\r\n       <use x=\"127.246094\" xlink:href=\"#DejaVuSans-30\"/>\r\n       <use x=\"190.869141\" xlink:href=\"#DejaVuSans-30\"/>\r\n       <use x=\"254.492188\" xlink:href=\"#DejaVuSans-30\"/>\r\n      </g>\r\n     </g>\r\n    </g>\r\n    <g id=\"text_10\">\r\n     <!-- Price -->\r\n     <g transform=\"translate(165.902344 252.916562)scale(0.1 -0.1)\">\r\n      <defs>\r\n       <path d=\"M 1259 4147 \r\nL 1259 2394 \r\nL 2053 2394 \r\nQ 2494 2394 2734 2622 \r\nQ 2975 2850 2975 3272 \r\nQ 2975 3691 2734 3919 \r\nQ 2494 4147 2053 4147 \r\nL 1259 4147 \r\nz\r\nM 628 4666 \r\nL 2053 4666 \r\nQ 2838 4666 3239 4311 \r\nQ 3641 3956 3641 3272 \r\nQ 3641 2581 3239 2228 \r\nQ 2838 1875 2053 1875 \r\nL 1259 1875 \r\nL 1259 0 \r\nL 628 0 \r\nL 628 4666 \r\nz\r\n\" id=\"DejaVuSans-50\" transform=\"scale(0.015625)\"/>\r\n       <path d=\"M 2631 2963 \r\nQ 2534 3019 2420 3045 \r\nQ 2306 3072 2169 3072 \r\nQ 1681 3072 1420 2755 \r\nQ 1159 2438 1159 1844 \r\nL 1159 0 \r\nL 581 0 \r\nL 581 3500 \r\nL 1159 3500 \r\nL 1159 2956 \r\nQ 1341 3275 1631 3429 \r\nQ 1922 3584 2338 3584 \r\nQ 2397 3584 2469 3576 \r\nQ 2541 3569 2628 3553 \r\nL 2631 2963 \r\nz\r\n\" id=\"DejaVuSans-72\" transform=\"scale(0.015625)\"/>\r\n       <path d=\"M 603 3500 \r\nL 1178 3500 \r\nL 1178 0 \r\nL 603 0 \r\nL 603 3500 \r\nz\r\nM 603 4863 \r\nL 1178 4863 \r\nL 1178 4134 \r\nL 603 4134 \r\nL 603 4863 \r\nz\r\n\" id=\"DejaVuSans-69\" transform=\"scale(0.015625)\"/>\r\n       <path d=\"M 3122 3366 \r\nL 3122 2828 \r\nQ 2878 2963 2633 3030 \r\nQ 2388 3097 2138 3097 \r\nQ 1578 3097 1268 2742 \r\nQ 959 2388 959 1747 \r\nQ 959 1106 1268 751 \r\nQ 1578 397 2138 397 \r\nQ 2388 397 2633 464 \r\nQ 2878 531 3122 666 \r\nL 3122 134 \r\nQ 2881 22 2623 -34 \r\nQ 2366 -91 2075 -91 \r\nQ 1284 -91 818 406 \r\nQ 353 903 353 1747 \r\nQ 353 2603 823 3093 \r\nQ 1294 3584 2113 3584 \r\nQ 2378 3584 2631 3529 \r\nQ 2884 3475 3122 3366 \r\nz\r\n\" id=\"DejaVuSans-63\" transform=\"scale(0.015625)\"/>\r\n       <path d=\"M 3597 1894 \r\nL 3597 1613 \r\nL 953 1613 \r\nQ 991 1019 1311 708 \r\nQ 1631 397 2203 397 \r\nQ 2534 397 2845 478 \r\nQ 3156 559 3463 722 \r\nL 3463 178 \r\nQ 3153 47 2828 -22 \r\nQ 2503 -91 2169 -91 \r\nQ 1331 -91 842 396 \r\nQ 353 884 353 1716 \r\nQ 353 2575 817 3079 \r\nQ 1281 3584 2069 3584 \r\nQ 2775 3584 3186 3129 \r\nQ 3597 2675 3597 1894 \r\nz\r\nM 3022 2063 \r\nQ 3016 2534 2758 2815 \r\nQ 2500 3097 2075 3097 \r\nQ 1594 3097 1305 2825 \r\nQ 1016 2553 972 2059 \r\nL 3022 2063 \r\nz\r\n\" id=\"DejaVuSans-65\" transform=\"scale(0.015625)\"/>\r\n      </defs>\r\n      <use xlink:href=\"#DejaVuSans-50\"/>\r\n      <use x=\"58.552734\" xlink:href=\"#DejaVuSans-72\"/>\r\n      <use x=\"99.666016\" xlink:href=\"#DejaVuSans-69\"/>\r\n      <use x=\"127.449219\" xlink:href=\"#DejaVuSans-63\"/>\r\n      <use x=\"182.429688\" xlink:href=\"#DejaVuSans-65\"/>\r\n     </g>\r\n    </g>\r\n   </g>\r\n   <g id=\"matplotlib.axis_2\">\r\n    <g id=\"ytick_1\">\r\n     <g id=\"line2d_10\">\r\n      <defs>\r\n       <path d=\"M 0 0 \r\nL -3.5 0 \r\n\" id=\"m16c9ee5e11\" style=\"stroke:#000000;stroke-width:0.8;\"/>\r\n      </defs>\r\n      <g>\r\n       <use style=\"stroke:#000000;stroke-width:0.8;\" x=\"10.7\" xlink:href=\"#m16c9ee5e11\" y=\"115.92\"/>\r\n      </g>\r\n     </g>\r\n    </g>\r\n   </g>\r\n   <g id=\"line2d_11\">\r\n    <path clip-path=\"url(#p33bf311444)\" d=\"M 39.689371 115.92 \r\nL 25.918182 115.92 \r\n\" style=\"fill:none;stroke:#3f3f3f;stroke-linecap:square;stroke-width:1.5;\"/>\r\n   </g>\r\n   <g id=\"line2d_12\">\r\n    <path clip-path=\"url(#p33bf311444)\" d=\"M 67.466619 115.92 \r\nL 109.069859 115.92 \r\n\" style=\"fill:none;stroke:#3f3f3f;stroke-linecap:square;stroke-width:1.5;\"/>\r\n   </g>\r\n   <g id=\"line2d_13\">\r\n    <path clip-path=\"url(#p33bf311444)\" d=\"M 25.918182 72.432 \r\nL 25.918182 159.408 \r\n\" style=\"fill:none;stroke:#3f3f3f;stroke-linecap:square;stroke-width:1.5;\"/>\r\n   </g>\r\n   <g id=\"line2d_14\">\r\n    <path clip-path=\"url(#p33bf311444)\" d=\"M 109.069859 72.432 \r\nL 109.069859 159.408 \r\n\" style=\"fill:none;stroke:#3f3f3f;stroke-linecap:square;stroke-width:1.5;\"/>\r\n   </g>\r\n   <g id=\"line2d_15\">\r\n    <defs>\r\n     <path d=\"M 0 3.535534 \r\nL 2.12132 0 \r\nL 0 -3.535534 \r\nL -2.12132 0 \r\nz\r\n\" id=\"m0c4b1f6a17\" style=\"stroke:#3f3f3f;stroke-linejoin:miter;\"/>\r\n    </defs>\r\n    <g clip-path=\"url(#p33bf311444)\">\r\n     <use style=\"fill:#3f3f3f;stroke:#3f3f3f;stroke-linejoin:miter;\" x=\"126.407152\" xlink:href=\"#m0c4b1f6a17\" y=\"115.92\"/>\r\n     <use style=\"fill:#3f3f3f;stroke:#3f3f3f;stroke-linejoin:miter;\" x=\"163.802311\" xlink:href=\"#m0c4b1f6a17\" y=\"115.92\"/>\r\n     <use style=\"fill:#3f3f3f;stroke:#3f3f3f;stroke-linejoin:miter;\" x=\"124.293325\" xlink:href=\"#m0c4b1f6a17\" y=\"115.92\"/>\r\n     <use style=\"fill:#3f3f3f;stroke:#3f3f3f;stroke-linejoin:miter;\" x=\"124.293325\" xlink:href=\"#m0c4b1f6a17\" y=\"115.92\"/>\r\n     <use style=\"fill:#3f3f3f;stroke:#3f3f3f;stroke-linejoin:miter;\" x=\"117.439047\" xlink:href=\"#m0c4b1f6a17\" y=\"115.92\"/>\r\n     <use style=\"fill:#3f3f3f;stroke:#3f3f3f;stroke-linejoin:miter;\" x=\"125.545963\" xlink:href=\"#m0c4b1f6a17\" y=\"115.92\"/>\r\n     <use style=\"fill:#3f3f3f;stroke:#3f3f3f;stroke-linejoin:miter;\" x=\"223.482684\" xlink:href=\"#m0c4b1f6a17\" y=\"115.92\"/>\r\n     <use style=\"fill:#3f3f3f;stroke:#3f3f3f;stroke-linejoin:miter;\" x=\"123.717895\" xlink:href=\"#m0c4b1f6a17\" y=\"115.92\"/>\r\n     <use style=\"fill:#3f3f3f;stroke:#3f3f3f;stroke-linejoin:miter;\" x=\"124.293325\" xlink:href=\"#m0c4b1f6a17\" y=\"115.92\"/>\r\n     <use style=\"fill:#3f3f3f;stroke:#3f3f3f;stroke-linejoin:miter;\" x=\"119.772085\" xlink:href=\"#m0c4b1f6a17\" y=\"115.92\"/>\r\n     <use style=\"fill:#3f3f3f;stroke:#3f3f3f;stroke-linejoin:miter;\" x=\"128.607098\" xlink:href=\"#m0c4b1f6a17\" y=\"115.92\"/>\r\n     <use style=\"fill:#3f3f3f;stroke:#3f3f3f;stroke-linejoin:miter;\" x=\"124.293325\" xlink:href=\"#m0c4b1f6a17\" y=\"115.92\"/>\r\n     <use style=\"fill:#3f3f3f;stroke:#3f3f3f;stroke-linejoin:miter;\" x=\"124.293325\" xlink:href=\"#m0c4b1f6a17\" y=\"115.92\"/>\r\n     <use style=\"fill:#3f3f3f;stroke:#3f3f3f;stroke-linejoin:miter;\" x=\"111.348094\" xlink:href=\"#m0c4b1f6a17\" y=\"115.92\"/>\r\n     <use style=\"fill:#3f3f3f;stroke:#3f3f3f;stroke-linejoin:miter;\" x=\"124.293325\" xlink:href=\"#m0c4b1f6a17\" y=\"115.92\"/>\r\n     <use style=\"fill:#3f3f3f;stroke:#3f3f3f;stroke-linejoin:miter;\" x=\"111.15237\" xlink:href=\"#m0c4b1f6a17\" y=\"115.92\"/>\r\n     <use style=\"fill:#3f3f3f;stroke:#3f3f3f;stroke-linejoin:miter;\" x=\"113.430605\" xlink:href=\"#m0c4b1f6a17\" y=\"115.92\"/>\r\n     <use style=\"fill:#3f3f3f;stroke:#3f3f3f;stroke-linejoin:miter;\" x=\"119.772085\" xlink:href=\"#m0c4b1f6a17\" y=\"115.92\"/>\r\n     <use style=\"fill:#3f3f3f;stroke:#3f3f3f;stroke-linejoin:miter;\" x=\"233.648624\" xlink:href=\"#m0c4b1f6a17\" y=\"115.92\"/>\r\n     <use style=\"fill:#3f3f3f;stroke:#3f3f3f;stroke-linejoin:miter;\" x=\"143.446944\" xlink:href=\"#m0c4b1f6a17\" y=\"115.92\"/>\r\n     <use style=\"fill:#3f3f3f;stroke:#3f3f3f;stroke-linejoin:miter;\" x=\"128.607098\" xlink:href=\"#m0c4b1f6a17\" y=\"115.92\"/>\r\n     <use style=\"fill:#3f3f3f;stroke:#3f3f3f;stroke-linejoin:miter;\" x=\"124.293325\" xlink:href=\"#m0c4b1f6a17\" y=\"115.92\"/>\r\n     <use style=\"fill:#3f3f3f;stroke:#3f3f3f;stroke-linejoin:miter;\" x=\"124.293325\" xlink:href=\"#m0c4b1f6a17\" y=\"115.92\"/>\r\n     <use style=\"fill:#3f3f3f;stroke:#3f3f3f;stroke-linejoin:miter;\" x=\"118.578165\" xlink:href=\"#m0c4b1f6a17\" y=\"115.92\"/>\r\n     <use style=\"fill:#3f3f3f;stroke:#3f3f3f;stroke-linejoin:miter;\" x=\"160.87427\" xlink:href=\"#m0c4b1f6a17\" y=\"115.92\"/>\r\n     <use style=\"fill:#3f3f3f;stroke:#3f3f3f;stroke-linejoin:miter;\" x=\"125.545963\" xlink:href=\"#m0c4b1f6a17\" y=\"115.92\"/>\r\n     <use style=\"fill:#3f3f3f;stroke:#3f3f3f;stroke-linejoin:miter;\" x=\"124.293325\" xlink:href=\"#m0c4b1f6a17\" y=\"115.92\"/>\r\n     <use style=\"fill:#3f3f3f;stroke:#3f3f3f;stroke-linejoin:miter;\" x=\"119.772085\" xlink:href=\"#m0c4b1f6a17\" y=\"115.92\"/>\r\n     <use style=\"fill:#3f3f3f;stroke:#3f3f3f;stroke-linejoin:miter;\" x=\"233.648624\" xlink:href=\"#m0c4b1f6a17\" y=\"115.92\"/>\r\n     <use style=\"fill:#3f3f3f;stroke:#3f3f3f;stroke-linejoin:miter;\" x=\"124.293325\" xlink:href=\"#m0c4b1f6a17\" y=\"115.92\"/>\r\n     <use style=\"fill:#3f3f3f;stroke:#3f3f3f;stroke-linejoin:miter;\" x=\"156.764052\" xlink:href=\"#m0c4b1f6a17\" y=\"115.92\"/>\r\n     <use style=\"fill:#3f3f3f;stroke:#3f3f3f;stroke-linejoin:miter;\" x=\"330.281818\" xlink:href=\"#m0c4b1f6a17\" y=\"115.92\"/>\r\n     <use style=\"fill:#3f3f3f;stroke:#3f3f3f;stroke-linejoin:miter;\" x=\"129.018119\" xlink:href=\"#m0c4b1f6a17\" y=\"115.92\"/>\r\n     <use style=\"fill:#3f3f3f;stroke:#3f3f3f;stroke-linejoin:miter;\" x=\"128.607098\" xlink:href=\"#m0c4b1f6a17\" y=\"115.92\"/>\r\n     <use style=\"fill:#3f3f3f;stroke:#3f3f3f;stroke-linejoin:miter;\" x=\"124.293325\" xlink:href=\"#m0c4b1f6a17\" y=\"115.92\"/>\r\n     <use style=\"fill:#3f3f3f;stroke:#3f3f3f;stroke-linejoin:miter;\" x=\"119.772085\" xlink:href=\"#m0c4b1f6a17\" y=\"115.92\"/>\r\n     <use style=\"fill:#3f3f3f;stroke:#3f3f3f;stroke-linejoin:miter;\" x=\"121.169559\" xlink:href=\"#m0c4b1f6a17\" y=\"115.92\"/>\r\n     <use style=\"fill:#3f3f3f;stroke:#3f3f3f;stroke-linejoin:miter;\" x=\"143.611352\" xlink:href=\"#m0c4b1f6a17\" y=\"115.92\"/>\r\n     <use style=\"fill:#3f3f3f;stroke:#3f3f3f;stroke-linejoin:miter;\" x=\"120.468865\" xlink:href=\"#m0c4b1f6a17\" y=\"115.92\"/>\r\n     <use style=\"fill:#3f3f3f;stroke:#3f3f3f;stroke-linejoin:miter;\" x=\"119.772085\" xlink:href=\"#m0c4b1f6a17\" y=\"115.92\"/>\r\n     <use style=\"fill:#3f3f3f;stroke:#3f3f3f;stroke-linejoin:miter;\" x=\"128.607098\" xlink:href=\"#m0c4b1f6a17\" y=\"115.92\"/>\r\n     <use style=\"fill:#3f3f3f;stroke:#3f3f3f;stroke-linejoin:miter;\" x=\"143.611352\" xlink:href=\"#m0c4b1f6a17\" y=\"115.92\"/>\r\n     <use style=\"fill:#3f3f3f;stroke:#3f3f3f;stroke-linejoin:miter;\" x=\"110.111114\" xlink:href=\"#m0c4b1f6a17\" y=\"115.92\"/>\r\n     <use style=\"fill:#3f3f3f;stroke:#3f3f3f;stroke-linejoin:miter;\" x=\"263.402692\" xlink:href=\"#m0c4b1f6a17\" y=\"115.92\"/>\r\n     <use style=\"fill:#3f3f3f;stroke:#3f3f3f;stroke-linejoin:miter;\" x=\"233.648624\" xlink:href=\"#m0c4b1f6a17\" y=\"115.92\"/>\r\n     <use style=\"fill:#3f3f3f;stroke:#3f3f3f;stroke-linejoin:miter;\" x=\"143.611352\" xlink:href=\"#m0c4b1f6a17\" y=\"115.92\"/>\r\n     <use style=\"fill:#3f3f3f;stroke:#3f3f3f;stroke-linejoin:miter;\" x=\"118.578165\" xlink:href=\"#m0c4b1f6a17\" y=\"115.92\"/>\r\n     <use style=\"fill:#3f3f3f;stroke:#3f3f3f;stroke-linejoin:miter;\" x=\"124.293325\" xlink:href=\"#m0c4b1f6a17\" y=\"115.92\"/>\r\n     <use style=\"fill:#3f3f3f;stroke:#3f3f3f;stroke-linejoin:miter;\" x=\"160.87427\" xlink:href=\"#m0c4b1f6a17\" y=\"115.92\"/>\r\n     <use style=\"fill:#3f3f3f;stroke:#3f3f3f;stroke-linejoin:miter;\" x=\"112.365863\" xlink:href=\"#m0c4b1f6a17\" y=\"115.92\"/>\r\n     <use style=\"fill:#3f3f3f;stroke:#3f3f3f;stroke-linejoin:miter;\" x=\"124.293325\" xlink:href=\"#m0c4b1f6a17\" y=\"115.92\"/>\r\n     <use style=\"fill:#3f3f3f;stroke:#3f3f3f;stroke-linejoin:miter;\" x=\"119.772085\" xlink:href=\"#m0c4b1f6a17\" y=\"115.92\"/>\r\n     <use style=\"fill:#3f3f3f;stroke:#3f3f3f;stroke-linejoin:miter;\" x=\"129.898881\" xlink:href=\"#m0c4b1f6a17\" y=\"115.92\"/>\r\n     <use style=\"fill:#3f3f3f;stroke:#3f3f3f;stroke-linejoin:miter;\" x=\"119.772085\" xlink:href=\"#m0c4b1f6a17\" y=\"115.92\"/>\r\n     <use style=\"fill:#3f3f3f;stroke:#3f3f3f;stroke-linejoin:miter;\" x=\"119.772085\" xlink:href=\"#m0c4b1f6a17\" y=\"115.92\"/>\r\n     <use style=\"fill:#3f3f3f;stroke:#3f3f3f;stroke-linejoin:miter;\" x=\"143.611352\" xlink:href=\"#m0c4b1f6a17\" y=\"115.92\"/>\r\n     <use style=\"fill:#3f3f3f;stroke:#3f3f3f;stroke-linejoin:miter;\" x=\"124.293325\" xlink:href=\"#m0c4b1f6a17\" y=\"115.92\"/>\r\n     <use style=\"fill:#3f3f3f;stroke:#3f3f3f;stroke-linejoin:miter;\" x=\"128.607098\" xlink:href=\"#m0c4b1f6a17\" y=\"115.92\"/>\r\n     <use style=\"fill:#3f3f3f;stroke:#3f3f3f;stroke-linejoin:miter;\" x=\"153.194033\" xlink:href=\"#m0c4b1f6a17\" y=\"115.92\"/>\r\n     <use style=\"fill:#3f3f3f;stroke:#3f3f3f;stroke-linejoin:miter;\" x=\"201.017404\" xlink:href=\"#m0c4b1f6a17\" y=\"115.92\"/>\r\n     <use style=\"fill:#3f3f3f;stroke:#3f3f3f;stroke-linejoin:miter;\" x=\"134.61976\" xlink:href=\"#m0c4b1f6a17\" y=\"115.92\"/>\r\n     <use style=\"fill:#3f3f3f;stroke:#3f3f3f;stroke-linejoin:miter;\" x=\"124.293325\" xlink:href=\"#m0c4b1f6a17\" y=\"115.92\"/>\r\n     <use style=\"fill:#3f3f3f;stroke:#3f3f3f;stroke-linejoin:miter;\" x=\"124.293325\" xlink:href=\"#m0c4b1f6a17\" y=\"115.92\"/>\r\n     <use style=\"fill:#3f3f3f;stroke:#3f3f3f;stroke-linejoin:miter;\" x=\"124.293325\" xlink:href=\"#m0c4b1f6a17\" y=\"115.92\"/>\r\n     <use style=\"fill:#3f3f3f;stroke:#3f3f3f;stroke-linejoin:miter;\" x=\"154.094367\" xlink:href=\"#m0c4b1f6a17\" y=\"115.92\"/>\r\n     <use style=\"fill:#3f3f3f;stroke:#3f3f3f;stroke-linejoin:miter;\" x=\"124.293325\" xlink:href=\"#m0c4b1f6a17\" y=\"115.92\"/>\r\n     <use style=\"fill:#3f3f3f;stroke:#3f3f3f;stroke-linejoin:miter;\" x=\"128.607098\" xlink:href=\"#m0c4b1f6a17\" y=\"115.92\"/>\r\n     <use style=\"fill:#3f3f3f;stroke:#3f3f3f;stroke-linejoin:miter;\" x=\"124.293325\" xlink:href=\"#m0c4b1f6a17\" y=\"115.92\"/>\r\n     <use style=\"fill:#3f3f3f;stroke:#3f3f3f;stroke-linejoin:miter;\" x=\"124.293325\" xlink:href=\"#m0c4b1f6a17\" y=\"115.92\"/>\r\n     <use style=\"fill:#3f3f3f;stroke:#3f3f3f;stroke-linejoin:miter;\" x=\"109.731409\" xlink:href=\"#m0c4b1f6a17\" y=\"115.92\"/>\r\n     <use style=\"fill:#3f3f3f;stroke:#3f3f3f;stroke-linejoin:miter;\" x=\"115.047291\" xlink:href=\"#m0c4b1f6a17\" y=\"115.92\"/>\r\n     <use style=\"fill:#3f3f3f;stroke:#3f3f3f;stroke-linejoin:miter;\" x=\"124.293325\" xlink:href=\"#m0c4b1f6a17\" y=\"115.92\"/>\r\n     <use style=\"fill:#3f3f3f;stroke:#3f3f3f;stroke-linejoin:miter;\" x=\"128.607098\" xlink:href=\"#m0c4b1f6a17\" y=\"115.92\"/>\r\n     <use style=\"fill:#3f3f3f;stroke:#3f3f3f;stroke-linejoin:miter;\" x=\"119.772085\" xlink:href=\"#m0c4b1f6a17\" y=\"115.92\"/>\r\n     <use style=\"fill:#3f3f3f;stroke:#3f3f3f;stroke-linejoin:miter;\" x=\"154.505389\" xlink:href=\"#m0c4b1f6a17\" y=\"115.92\"/>\r\n     <use style=\"fill:#3f3f3f;stroke:#3f3f3f;stroke-linejoin:miter;\" x=\"119.646821\" xlink:href=\"#m0c4b1f6a17\" y=\"115.92\"/>\r\n     <use style=\"fill:#3f3f3f;stroke:#3f3f3f;stroke-linejoin:miter;\" x=\"124.293325\" xlink:href=\"#m0c4b1f6a17\" y=\"115.92\"/>\r\n     <use style=\"fill:#3f3f3f;stroke:#3f3f3f;stroke-linejoin:miter;\" x=\"111.132797\" xlink:href=\"#m0c4b1f6a17\" y=\"115.92\"/>\r\n     <use style=\"fill:#3f3f3f;stroke:#3f3f3f;stroke-linejoin:miter;\" x=\"143.611352\" xlink:href=\"#m0c4b1f6a17\" y=\"115.92\"/>\r\n     <use style=\"fill:#3f3f3f;stroke:#3f3f3f;stroke-linejoin:miter;\" x=\"125.827807\" xlink:href=\"#m0c4b1f6a17\" y=\"115.92\"/>\r\n     <use style=\"fill:#3f3f3f;stroke:#3f3f3f;stroke-linejoin:miter;\" x=\"119.772085\" xlink:href=\"#m0c4b1f6a17\" y=\"115.92\"/>\r\n     <use style=\"fill:#3f3f3f;stroke:#3f3f3f;stroke-linejoin:miter;\" x=\"128.607098\" xlink:href=\"#m0c4b1f6a17\" y=\"115.92\"/>\r\n     <use style=\"fill:#3f3f3f;stroke:#3f3f3f;stroke-linejoin:miter;\" x=\"223.701896\" xlink:href=\"#m0c4b1f6a17\" y=\"115.92\"/>\r\n     <use style=\"fill:#3f3f3f;stroke:#3f3f3f;stroke-linejoin:miter;\" x=\"113.046985\" xlink:href=\"#m0c4b1f6a17\" y=\"115.92\"/>\r\n     <use style=\"fill:#3f3f3f;stroke:#3f3f3f;stroke-linejoin:miter;\" x=\"144.081092\" xlink:href=\"#m0c4b1f6a17\" y=\"115.92\"/>\r\n     <use style=\"fill:#3f3f3f;stroke:#3f3f3f;stroke-linejoin:miter;\" x=\"124.293325\" xlink:href=\"#m0c4b1f6a17\" y=\"115.92\"/>\r\n     <use style=\"fill:#3f3f3f;stroke:#3f3f3f;stroke-linejoin:miter;\" x=\"114.225247\" xlink:href=\"#m0c4b1f6a17\" y=\"115.92\"/>\r\n     <use style=\"fill:#3f3f3f;stroke:#3f3f3f;stroke-linejoin:miter;\" x=\"111.716057\" xlink:href=\"#m0c4b1f6a17\" y=\"115.92\"/>\r\n     <use style=\"fill:#3f3f3f;stroke:#3f3f3f;stroke-linejoin:miter;\" x=\"128.607098\" xlink:href=\"#m0c4b1f6a17\" y=\"115.92\"/>\r\n     <use style=\"fill:#3f3f3f;stroke:#3f3f3f;stroke-linejoin:miter;\" x=\"113.802482\" xlink:href=\"#m0c4b1f6a17\" y=\"115.92\"/>\r\n     <use style=\"fill:#3f3f3f;stroke:#3f3f3f;stroke-linejoin:miter;\" x=\"242.976863\" xlink:href=\"#m0c4b1f6a17\" y=\"115.92\"/>\r\n     <use style=\"fill:#3f3f3f;stroke:#3f3f3f;stroke-linejoin:miter;\" x=\"124.293325\" xlink:href=\"#m0c4b1f6a17\" y=\"115.92\"/>\r\n     <use style=\"fill:#3f3f3f;stroke:#3f3f3f;stroke-linejoin:miter;\" x=\"143.611352\" xlink:href=\"#m0c4b1f6a17\" y=\"115.92\"/>\r\n     <use style=\"fill:#3f3f3f;stroke:#3f3f3f;stroke-linejoin:miter;\" x=\"122.688383\" xlink:href=\"#m0c4b1f6a17\" y=\"115.92\"/>\r\n    </g>\r\n   </g>\r\n   <g id=\"line2d_16\">\r\n    <path clip-path=\"url(#p33bf311444)\" d=\"M 51.804729 28.944 \r\nL 51.804729 202.896 \r\n\" style=\"fill:none;stroke:#3f3f3f;stroke-linecap:square;stroke-width:1.5;\"/>\r\n   </g>\r\n   <g id=\"patch_4\">\r\n    <path d=\"M 10.7 224.64 \r\nL 10.7 7.2 \r\n\" style=\"fill:none;stroke:#000000;stroke-linecap:square;stroke-linejoin:miter;stroke-width:0.8;\"/>\r\n   </g>\r\n   <g id=\"patch_5\">\r\n    <path d=\"M 345.5 224.64 \r\nL 345.5 7.2 \r\n\" style=\"fill:none;stroke:#000000;stroke-linecap:square;stroke-linejoin:miter;stroke-width:0.8;\"/>\r\n   </g>\r\n   <g id=\"patch_6\">\r\n    <path d=\"M 10.7 224.64 \r\nL 345.5 224.64 \r\n\" style=\"fill:none;stroke:#000000;stroke-linecap:square;stroke-linejoin:miter;stroke-width:0.8;\"/>\r\n   </g>\r\n   <g id=\"patch_7\">\r\n    <path d=\"M 10.7 7.2 \r\nL 345.5 7.2 \r\n\" style=\"fill:none;stroke:#000000;stroke-linecap:square;stroke-linejoin:miter;stroke-width:0.8;\"/>\r\n   </g>\r\n  </g>\r\n </g>\r\n <defs>\r\n  <clipPath id=\"p33bf311444\">\r\n   <rect height=\"217.44\" width=\"334.8\" x=\"10.7\" y=\"7.2\"/>\r\n  </clipPath>\r\n </defs>\r\n</svg>\r\n",
      "image/png": "[encoded data removed]"
     },
     "metadata": {
      "needs_background": "light"
     }
    }
   ],
   "source": [
    "sns.boxplot(y)"
   ]
  },
  {
   "cell_type": "code",
   "execution_count": 18,
   "metadata": {},
   "outputs": [
    {
     "output_type": "execute_result",
     "data": {
      "text/plain": [
       "23017.0"
      ]
     },
     "metadata": {},
     "execution_count": 18
    }
   ],
   "source": [
    "np.quantile(y,0.75) + 1.5*(np.quantile(y,0.75)-np.quantile(y,0.25))"
   ]
  },
  {
   "cell_type": "code",
   "execution_count": 25,
   "metadata": {},
   "outputs": [
    {
     "output_type": "stream",
     "name": "stdout",
     "text": [
      "0.8799026490686137 % values are outliers \nWe need to remove them \n"
     ]
    }
   ],
   "source": [
    "print(f\"{y[y>23017].count()/y.count()*100} % values are outliers \\nWe need to remove them \")"
   ]
  },
  {
   "cell_type": "code",
   "execution_count": 33,
   "metadata": {},
   "outputs": [
    {
     "output_type": "execute_result",
     "data": {
      "text/plain": [
       "123      27430\n",
       "396      36983\n",
       "486      26890\n",
       "510      26890\n",
       "597      25139\n",
       "         ...  \n",
       "10353    24210\n",
       "10364    57209\n",
       "10383    26890\n",
       "10439    31825\n",
       "10511    26480\n",
       "Name: Price, Length: 94, dtype: int64"
      ]
     },
     "metadata": {},
     "execution_count": 33
    }
   ],
   "source": [
    "y[y>23017]"
   ]
  },
  {
   "cell_type": "code",
   "execution_count": 37,
   "metadata": {},
   "outputs": [
    {
     "output_type": "error",
     "ename": "AttributeError",
     "evalue": "'numpy.int64' object has no attribute 'index'",
     "traceback": [
      "\u001b[1;31m---------------------------------------------------------------------------\u001b[0m",
      "\u001b[1;31mAttributeError\u001b[0m                            Traceback (most recent call last)",
      "\u001b[1;32m<ipython-input-37-1fa79fbedf7d>\u001b[0m in \u001b[0;36m<module>\u001b[1;34m\u001b[0m\n\u001b[1;32m----> 1\u001b[1;33m \u001b[0my\u001b[0m\u001b[1;33m[\u001b[0m\u001b[0my\u001b[0m\u001b[1;33m[\u001b[0m\u001b[1;36m0\u001b[0m\u001b[1;33m]\u001b[0m\u001b[1;33m]\u001b[0m\u001b[1;33m.\u001b[0m\u001b[0mindex\u001b[0m\u001b[1;33m(\u001b[0m\u001b[1;33m)\u001b[0m\u001b[1;33m\u001b[0m\u001b[1;33m\u001b[0m\u001b[0m\n\u001b[0m",
      "\u001b[1;31mAttributeError\u001b[0m: 'numpy.int64' object has no attribute 'index'"
     ]
    }
   ],
   "source": [
    "y[y[0]].index()"
   ]
  },
  {
   "source": [
    "# Model"
   ],
   "cell_type": "markdown",
   "metadata": {}
  },
  {
   "cell_type": "code",
   "execution_count": 15,
   "metadata": {},
   "outputs": [],
   "source": [
    "def models(model):\n",
    "\n",
    "    folds=K(n_splits=5, shuffle=True, random_state=4)\n",
    "    r=score(model,X,y,scoring='neg_mean_absolute_error',cv=folds)\n",
    "    scores = str(-round(r.mean(),2))+\" ± \"+str(round(r.std(),2))\n",
    "#'neg_mean_absolute_error'\n",
    "    return scores"
   ]
  },
  {
   "cell_type": "code",
   "execution_count": 16,
   "metadata": {
    "tags": []
   },
   "outputs": [
    {
     "output_type": "stream",
     "name": "stdout",
     "text": [
      "Absolute error for Decision tree regressor 752.87 ± 15.84\n",
      "Absolute error for Random forest regressor 639.08 ± 19.21\n",
      "Absolute error for XGB Regressor 782.07 ± 10.1\n"
     ]
    }
   ],
   "source": [
    "#print(\"Absolute error for Linear Regression\",models(LR()))\n",
    "print(\"Absolute error for Decision tree regressor\",models(DTR(max_depth=14)))    #Median best max_depth after 100 iterations of cross validation\n",
    "print(\"Absolute error for Random forest regressor\",models(RFR(max_depth=16)))\n",
    "print(\"Absolute error for XGB Regressor\",models(XGR(max_depth=5,eta=0.5, subsample=0.92)))"
   ]
  },
  {
   "source": [
    "# Randomforest gives best result"
   ],
   "cell_type": "markdown",
   "metadata": {}
  },
  {
   "cell_type": "code",
   "execution_count": null,
   "metadata": {},
   "outputs": [],
   "source": []
  }
 ]
}