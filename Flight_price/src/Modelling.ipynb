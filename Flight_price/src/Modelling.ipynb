{
 "cells": [
  {
   "cell_type": "code",
   "execution_count": 1,
   "metadata": {},
   "outputs": [],
   "source": [
    "import pandas as pd\r\n",
    "import numpy as np\r\n",
    "from sklearn.model_selection import train_test_split\r\n",
    "import pickle\r\n",
    "import warnings\r\n",
    "warnings.filterwarnings('ignore')\r\n",
    "from Preprocessing import date_splitter,time_trier,route,tod_departure"
   ]
  },
  {
   "cell_type": "code",
   "execution_count": 2,
   "metadata": {},
   "outputs": [],
   "source": [
    "trainset = pd.read_csv(r'../Data/trainset.csv')\r\n",
    "testset = pd.read_csv(r'../Data/testset.csv')"
   ]
  },
  {
   "cell_type": "code",
   "execution_count": 3,
   "metadata": {},
   "outputs": [],
   "source": [
    "with open (r'../bin/features.pkl','rb') as f1:\r\n",
    "    features=pickle.load(f1)\r\n",
    "\r\n",
    "with open (r'../bin/encoder.pkl','rb') as f2:\r\n",
    "    encoder=pickle.load(f2)   "
   ]
  },
  {
   "cell_type": "markdown",
   "metadata": {},
   "source": [
    "# Outlier removal"
   ]
  },
  {
   "cell_type": "code",
   "execution_count": 4,
   "metadata": {},
   "outputs": [],
   "source": [
    "#trainset['Std_price']=( trainset.Price - trainset.Price.mean())/trainset.Price.std()"
   ]
  },
  {
   "cell_type": "code",
   "execution_count": 5,
   "metadata": {},
   "outputs": [],
   "source": [
    "#trainset = trainset[(trainset.Std_price<3) & (trainset.Std_price>-3)]\r\n",
    "#trainset.drop(['Std_price'],axis=1, inplace=True)"
   ]
  },
  {
   "cell_type": "code",
   "execution_count": 6,
   "metadata": {},
   "outputs": [],
   "source": [
    "y = pd.DataFrame(trainset.Price)\r\n",
    "X = trainset.drop(['Price'], axis=1)\r\n",
    "y_test = pd.DataFrame(testset.Price)\r\n",
    "X_test = testset.drop(['Price'], axis=1)"
   ]
  },
  {
   "cell_type": "code",
   "execution_count": 7,
   "metadata": {},
   "outputs": [],
   "source": [
    "features.fit(X)\r\n",
    "X = pd.DataFrame(features.transform(X))\r\n",
    "X_test = pd.DataFrame(features.transform(X_test))\r\n",
    "encoder.fit(X)\r\n",
    "X = pd.DataFrame(encoder.transform(X))\r\n",
    "X_test = pd.DataFrame(encoder.transform(X_test))"
   ]
  },
  {
   "cell_type": "code",
   "execution_count": 8,
   "metadata": {},
   "outputs": [],
   "source": [
    "for col in X.columns:\r\n",
    "    X[col] = X[col].apply(lambda x:int(x))"
   ]
  },
  {
   "cell_type": "code",
   "execution_count": 9,
   "metadata": {},
   "outputs": [],
   "source": [
    "for col in X.columns:\r\n",
    "    X_test[col] = X_test[col].apply(lambda x:int(x))"
   ]
  },
  {
   "cell_type": "code",
   "execution_count": 10,
   "metadata": {},
   "outputs": [
    {
     "data": {
      "text/html": [
       "<table class=\"simpletable\">\n",
       "<caption>OLS Regression Results</caption>\n",
       "<tr>\n",
       "  <th>Dep. Variable:</th>            <td>y</td>        <th>  R-squared:         </th> <td>   0.529</td> \n",
       "</tr>\n",
       "<tr>\n",
       "  <th>Model:</th>                   <td>OLS</td>       <th>  Adj. R-squared:    </th> <td>   0.528</td> \n",
       "</tr>\n",
       "<tr>\n",
       "  <th>Method:</th>             <td>Least Squares</td>  <th>  F-statistic:       </th> <td>   399.1</td> \n",
       "</tr>\n",
       "<tr>\n",
       "  <th>Date:</th>             <td>Sun, 27 Jun 2021</td> <th>  Prob (F-statistic):</th>  <td>  0.00</td>  \n",
       "</tr>\n",
       "<tr>\n",
       "  <th>Time:</th>                 <td>17:14:08</td>     <th>  Log-Likelihood:    </th> <td> -81013.</td> \n",
       "</tr>\n",
       "<tr>\n",
       "  <th>No. Observations:</th>      <td>  8546</td>      <th>  AIC:               </th> <td>1.621e+05</td>\n",
       "</tr>\n",
       "<tr>\n",
       "  <th>Df Residuals:</th>          <td>  8521</td>      <th>  BIC:               </th> <td>1.623e+05</td>\n",
       "</tr>\n",
       "<tr>\n",
       "  <th>Df Model:</th>              <td>    24</td>      <th>                     </th>     <td> </td>    \n",
       "</tr>\n",
       "<tr>\n",
       "  <th>Covariance Type:</th>      <td>nonrobust</td>    <th>                     </th>     <td> </td>    \n",
       "</tr>\n",
       "</table>\n",
       "<table class=\"simpletable\">\n",
       "<tr>\n",
       "    <td></td>       <th>coef</th>     <th>std err</th>      <th>t</th>      <th>P>|t|</th>  <th>[0.025</th>    <th>0.975]</th>  \n",
       "</tr>\n",
       "<tr>\n",
       "  <th>const</th> <td>-4.815e+04</td> <td> 4565.590</td> <td>  -10.546</td> <td> 0.000</td> <td>-5.71e+04</td> <td>-3.92e+04</td>\n",
       "</tr>\n",
       "<tr>\n",
       "  <th>0</th>     <td>-9605.7106</td> <td>  528.580</td> <td>  -18.173</td> <td> 0.000</td> <td>-1.06e+04</td> <td>-8569.567</td>\n",
       "</tr>\n",
       "<tr>\n",
       "  <th>1</th>     <td>-7522.7966</td> <td>  503.831</td> <td>  -14.931</td> <td> 0.000</td> <td>-8510.428</td> <td>-6535.165</td>\n",
       "</tr>\n",
       "<tr>\n",
       "  <th>2</th>     <td>-9344.4243</td> <td>  543.775</td> <td>  -17.184</td> <td> 0.000</td> <td>-1.04e+04</td> <td>-8278.494</td>\n",
       "</tr>\n",
       "<tr>\n",
       "  <th>3</th>     <td>-9403.6654</td> <td>  499.351</td> <td>  -18.832</td> <td> 0.000</td> <td>-1.04e+04</td> <td>-8424.817</td>\n",
       "</tr>\n",
       "<tr>\n",
       "  <th>4</th>     <td>-5108.4337</td> <td>  501.489</td> <td>  -10.187</td> <td> 0.000</td> <td>-6091.473</td> <td>-4125.395</td>\n",
       "</tr>\n",
       "<tr>\n",
       "  <th>5</th>     <td>  4.13e+04</td> <td> 1400.002</td> <td>   29.499</td> <td> 0.000</td> <td> 3.86e+04</td> <td>  4.4e+04</td>\n",
       "</tr>\n",
       "<tr>\n",
       "  <th>6</th>     <td>-5086.0269</td> <td>  507.047</td> <td>  -10.031</td> <td> 0.000</td> <td>-6079.962</td> <td>-4092.092</td>\n",
       "</tr>\n",
       "<tr>\n",
       "  <th>7</th>     <td>-4982.3600</td> <td>  975.297</td> <td>   -5.109</td> <td> 0.000</td> <td>-6894.178</td> <td>-3070.542</td>\n",
       "</tr>\n",
       "<tr>\n",
       "  <th>8</th>     <td> -1.03e+04</td> <td>  506.526</td> <td>  -20.342</td> <td> 0.000</td> <td>-1.13e+04</td> <td>-9310.636</td>\n",
       "</tr>\n",
       "<tr>\n",
       "  <th>9</th>     <td>-1.234e+04</td> <td> 2957.985</td> <td>   -4.172</td> <td> 0.000</td> <td>-1.81e+04</td> <td>-6543.343</td>\n",
       "</tr>\n",
       "<tr>\n",
       "  <th>10</th>    <td>-8269.5757</td> <td>  517.264</td> <td>  -15.987</td> <td> 0.000</td> <td>-9283.539</td> <td>-7255.613</td>\n",
       "</tr>\n",
       "<tr>\n",
       "  <th>11</th>    <td>-7479.2956</td> <td> 1753.426</td> <td>   -4.266</td> <td> 0.000</td> <td>-1.09e+04</td> <td>-4042.156</td>\n",
       "</tr>\n",
       "<tr>\n",
       "  <th>12</th>    <td>-9867.2682</td> <td>  922.917</td> <td>  -10.691</td> <td> 0.000</td> <td>-1.17e+04</td> <td>-8058.128</td>\n",
       "</tr>\n",
       "<tr>\n",
       "  <th>13</th>    <td>-1.003e+04</td> <td>  923.846</td> <td>  -10.857</td> <td> 0.000</td> <td>-1.18e+04</td> <td>-8219.006</td>\n",
       "</tr>\n",
       "<tr>\n",
       "  <th>14</th>    <td>-9585.8290</td> <td>  917.475</td> <td>  -10.448</td> <td> 0.000</td> <td>-1.14e+04</td> <td>-7787.356</td>\n",
       "</tr>\n",
       "<tr>\n",
       "  <th>15</th>    <td>-9454.0284</td> <td>  934.226</td> <td>  -10.120</td> <td> 0.000</td> <td>-1.13e+04</td> <td>-7622.718</td>\n",
       "</tr>\n",
       "<tr>\n",
       "  <th>16</th>    <td>-9212.0589</td> <td>  916.912</td> <td>  -10.047</td> <td> 0.000</td> <td> -1.1e+04</td> <td>-7414.688</td>\n",
       "</tr>\n",
       "<tr>\n",
       "  <th>17</th>    <td> 2230.1344</td> <td>  177.843</td> <td>   12.540</td> <td> 0.000</td> <td> 1881.520</td> <td> 2578.749</td>\n",
       "</tr>\n",
       "<tr>\n",
       "  <th>18</th>    <td>   20.8837</td> <td>   17.435</td> <td>    1.198</td> <td> 0.231</td> <td>  -13.294</td> <td>   55.061</td>\n",
       "</tr>\n",
       "<tr>\n",
       "  <th>19</th>    <td> 7.044e+04</td> <td> 5467.141</td> <td>   12.885</td> <td> 0.000</td> <td> 5.97e+04</td> <td> 8.12e+04</td>\n",
       "</tr>\n",
       "<tr>\n",
       "  <th>20</th>    <td>-2317.0685</td> <td>  178.488</td> <td>  -12.982</td> <td> 0.000</td> <td>-2666.949</td> <td>-1967.188</td>\n",
       "</tr>\n",
       "<tr>\n",
       "  <th>21</th>    <td> -181.6174</td> <td>   31.208</td> <td>   -5.819</td> <td> 0.000</td> <td> -242.794</td> <td> -120.441</td>\n",
       "</tr>\n",
       "<tr>\n",
       "  <th>22</th>    <td>  171.3299</td> <td>    4.930</td> <td>   34.755</td> <td> 0.000</td> <td>  161.667</td> <td>  180.993</td>\n",
       "</tr>\n",
       "<tr>\n",
       "  <th>23</th>    <td>   -4.3862</td> <td>    2.097</td> <td>   -2.091</td> <td> 0.037</td> <td>   -8.497</td> <td>   -0.275</td>\n",
       "</tr>\n",
       "<tr>\n",
       "  <th>24</th>    <td>    4.0779</td> <td>    1.920</td> <td>    2.124</td> <td> 0.034</td> <td>    0.315</td> <td>    7.841</td>\n",
       "</tr>\n",
       "<tr>\n",
       "  <th>25</th>    <td>    9.4015</td> <td>   18.867</td> <td>    0.498</td> <td> 0.618</td> <td>  -27.582</td> <td>   46.385</td>\n",
       "</tr>\n",
       "</table>\n",
       "<table class=\"simpletable\">\n",
       "<tr>\n",
       "  <th>Omnibus:</th>       <td>4352.278</td> <th>  Durbin-Watson:     </th> <td>   2.022</td> \n",
       "</tr>\n",
       "<tr>\n",
       "  <th>Prob(Omnibus):</th>  <td> 0.000</td>  <th>  Jarque-Bera (JB):  </th> <td>98883.463</td>\n",
       "</tr>\n",
       "<tr>\n",
       "  <th>Skew:</th>           <td> 1.943</td>  <th>  Prob(JB):          </th> <td>    0.00</td> \n",
       "</tr>\n",
       "<tr>\n",
       "  <th>Kurtosis:</th>       <td>19.205</td>  <th>  Cond. No.          </th> <td>1.04e+16</td> \n",
       "</tr>\n",
       "</table><br/><br/>Notes:<br/>[1] Standard Errors assume that the covariance matrix of the errors is correctly specified.<br/>[2] The smallest eigenvalue is 1.48e-24. This might indicate that there are<br/>strong multicollinearity problems or that the design matrix is singular."
      ],
      "text/plain": [
       "<class 'statsmodels.iolib.summary.Summary'>\n",
       "\"\"\"\n",
       "                            OLS Regression Results                            \n",
       "==============================================================================\n",
       "Dep. Variable:                      y   R-squared:                       0.529\n",
       "Model:                            OLS   Adj. R-squared:                  0.528\n",
       "Method:                 Least Squares   F-statistic:                     399.1\n",
       "Date:                Sun, 27 Jun 2021   Prob (F-statistic):               0.00\n",
       "Time:                        17:14:08   Log-Likelihood:                -81013.\n",
       "No. Observations:                8546   AIC:                         1.621e+05\n",
       "Df Residuals:                    8521   BIC:                         1.623e+05\n",
       "Df Model:                          24                                         \n",
       "Covariance Type:            nonrobust                                         \n",
       "==============================================================================\n",
       "                 coef    std err          t      P>|t|      [0.025      0.975]\n",
       "------------------------------------------------------------------------------\n",
       "const      -4.815e+04   4565.590    -10.546      0.000   -5.71e+04   -3.92e+04\n",
       "0          -9605.7106    528.580    -18.173      0.000   -1.06e+04   -8569.567\n",
       "1          -7522.7966    503.831    -14.931      0.000   -8510.428   -6535.165\n",
       "2          -9344.4243    543.775    -17.184      0.000   -1.04e+04   -8278.494\n",
       "3          -9403.6654    499.351    -18.832      0.000   -1.04e+04   -8424.817\n",
       "4          -5108.4337    501.489    -10.187      0.000   -6091.473   -4125.395\n",
       "5            4.13e+04   1400.002     29.499      0.000    3.86e+04     4.4e+04\n",
       "6          -5086.0269    507.047    -10.031      0.000   -6079.962   -4092.092\n",
       "7          -4982.3600    975.297     -5.109      0.000   -6894.178   -3070.542\n",
       "8           -1.03e+04    506.526    -20.342      0.000   -1.13e+04   -9310.636\n",
       "9          -1.234e+04   2957.985     -4.172      0.000   -1.81e+04   -6543.343\n",
       "10         -8269.5757    517.264    -15.987      0.000   -9283.539   -7255.613\n",
       "11         -7479.2956   1753.426     -4.266      0.000   -1.09e+04   -4042.156\n",
       "12         -9867.2682    922.917    -10.691      0.000   -1.17e+04   -8058.128\n",
       "13         -1.003e+04    923.846    -10.857      0.000   -1.18e+04   -8219.006\n",
       "14         -9585.8290    917.475    -10.448      0.000   -1.14e+04   -7787.356\n",
       "15         -9454.0284    934.226    -10.120      0.000   -1.13e+04   -7622.718\n",
       "16         -9212.0589    916.912    -10.047      0.000    -1.1e+04   -7414.688\n",
       "17          2230.1344    177.843     12.540      0.000    1881.520    2578.749\n",
       "18            20.8837     17.435      1.198      0.231     -13.294      55.061\n",
       "19          7.044e+04   5467.141     12.885      0.000    5.97e+04    8.12e+04\n",
       "20         -2317.0685    178.488    -12.982      0.000   -2666.949   -1967.188\n",
       "21          -181.6174     31.208     -5.819      0.000    -242.794    -120.441\n",
       "22           171.3299      4.930     34.755      0.000     161.667     180.993\n",
       "23            -4.3862      2.097     -2.091      0.037      -8.497      -0.275\n",
       "24             4.0779      1.920      2.124      0.034       0.315       7.841\n",
       "25             9.4015     18.867      0.498      0.618     -27.582      46.385\n",
       "==============================================================================\n",
       "Omnibus:                     4352.278   Durbin-Watson:                   2.022\n",
       "Prob(Omnibus):                  0.000   Jarque-Bera (JB):            98883.463\n",
       "Skew:                           1.943   Prob(JB):                         0.00\n",
       "Kurtosis:                      19.205   Cond. No.                     1.04e+16\n",
       "==============================================================================\n",
       "\n",
       "Notes:\n",
       "[1] Standard Errors assume that the covariance matrix of the errors is correctly specified.\n",
       "[2] The smallest eigenvalue is 1.48e-24. This might indicate that there are\n",
       "strong multicollinearity problems or that the design matrix is singular.\n",
       "\"\"\""
      ]
     },
     "execution_count": 10,
     "metadata": {},
     "output_type": "execute_result"
    }
   ],
   "source": [
    "import statsmodels.api as sm\r\n",
    "\r\n",
    "X=sm.add_constant(X)\r\n",
    "\r\n",
    "lr = sm.OLS(y.values,X).fit()\r\n",
    "lr.summary()"
   ]
  },
  {
   "cell_type": "code",
   "execution_count": 11,
   "metadata": {},
   "outputs": [],
   "source": [
    "X.drop(['const',18,25],axis=1, inplace=True)"
   ]
  },
  {
   "cell_type": "code",
   "execution_count": 12,
   "metadata": {},
   "outputs": [],
   "source": [
    "from sklearn.linear_model import LinearRegression\r\n",
    "lr= LinearRegression()\r\n",
    "lr.fit(X, y)\r\n",
    "X_test.drop([18,25],axis=1,inplace=True)\r\n",
    "yp=lr.predict(X_test)\r\n"
   ]
  },
  {
   "cell_type": "code",
   "execution_count": 13,
   "metadata": {},
   "outputs": [
    {
     "data": {
      "text/plain": [
       "0.2947417236033762"
      ]
     },
     "execution_count": 13,
     "metadata": {},
     "output_type": "execute_result"
    }
   ],
   "source": [
    "from sklearn.metrics import mean_absolute_percentage_error,r2_score\r\n",
    "mean_absolute_percentage_error(testset.Price,yp)"
   ]
  },
  {
   "cell_type": "code",
   "execution_count": 14,
   "metadata": {},
   "outputs": [
    {
     "data": {
      "text/plain": [
       "0.5483921603367883"
      ]
     },
     "execution_count": 14,
     "metadata": {},
     "output_type": "execute_result"
    }
   ],
   "source": [
    "r2_score(testset.Price,yp)"
   ]
  },
  {
   "cell_type": "code",
   "execution_count": 15,
   "metadata": {},
   "outputs": [
    {
     "data": {
      "text/plain": [
       "0.13896025986071822"
      ]
     },
     "execution_count": 15,
     "metadata": {},
     "output_type": "execute_result"
    }
   ],
   "source": [
    "import xgboost as x\r\n",
    "xx= x.XGBRegressor()\r\n",
    "xx.fit(X,y)\r\n",
    "yprex=xx.predict(X_test)\r\n",
    "mean_absolute_percentage_error(y_test,yprex)"
   ]
  },
  {
   "cell_type": "code",
   "execution_count": 16,
   "metadata": {},
   "outputs": [
    {
     "data": {
      "text/plain": [
       "0.13754750583745481"
      ]
     },
     "execution_count": 16,
     "metadata": {},
     "output_type": "execute_result"
    }
   ],
   "source": [
    "from sklearn.ensemble import RandomForestRegressor \r\n",
    "rf= RandomForestRegressor()\r\n",
    "rf.fit(X,y)\r\n",
    "yprer=rf.predict(X_test)\r\n",
    "mean_absolute_percentage_error(y_test,yprer)"
   ]
  },
  {
   "cell_type": "markdown",
   "metadata": {},
   "source": [
    "# You can't use MAE OR RMSE because the price of the flights change\r\n",
    "# You have to use MAPE"
   ]
  },
  {
   "cell_type": "code",
   "execution_count": 17,
   "metadata": {},
   "outputs": [
    {
     "data": {
      "text/plain": [
       "0     int64\n",
       "1     int64\n",
       "2     int64\n",
       "3     int64\n",
       "4     int64\n",
       "5     int64\n",
       "6     int64\n",
       "7     int64\n",
       "8     int64\n",
       "9     int64\n",
       "10    int64\n",
       "11    int64\n",
       "12    int64\n",
       "13    int64\n",
       "14    int64\n",
       "15    int64\n",
       "16    int64\n",
       "17    int64\n",
       "19    int64\n",
       "20    int64\n",
       "21    int64\n",
       "22    int64\n",
       "23    int64\n",
       "24    int64\n",
       "dtype: object"
      ]
     },
     "execution_count": 17,
     "metadata": {},
     "output_type": "execute_result"
    }
   ],
   "source": [
    "X_test.dtypes"
   ]
  },
  {
   "cell_type": "markdown",
   "metadata": {},
   "source": []
  }
 ],
 "metadata": {
  "interpreter": {
   "hash": "62a490a61034db1e8b6e05e6e999b5629625384177f9d8186b44b788547d5428"
  },
  "kernelspec": {
   "display_name": "Python 3.9.5 64-bit ('machine_L': venv)",
   "name": "python3"
  },
  "language_info": {
   "codemirror_mode": {
    "name": "ipython",
    "version": 3
   },
   "file_extension": ".py",
   "mimetype": "text/x-python",
   "name": "python",
   "nbconvert_exporter": "python",
   "pygments_lexer": "ipython3",
   "version": "3.9.5"
  },
  "orig_nbformat": 4
 },
 "nbformat": 4,
 "nbformat_minor": 2
}